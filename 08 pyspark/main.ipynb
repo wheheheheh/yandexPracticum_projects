{
 "cells": [
  {
   "cell_type": "markdown",
   "id": "GEqQaHzsZ_bA",
   "metadata": {
    "id": "GEqQaHzsZ_bA"
   },
   "source": [
    "## Предсказание стоимости жилья\n",
    "\n",
    "В проекте вам нужно обучить модель линейной регрессии на данных о жилье в Калифорнии в 1990 году. На основе данных нужно предсказать медианную стоимость дома в жилом массиве. Обучите модель и сделайте предсказания на тестовой выборке. Для оценки качества модели используйте метрики RMSE, MAE и R2."
   ]
  },
  {
   "cell_type": "code",
   "execution_count": 1,
   "id": "d7bf859e",
   "metadata": {},
   "outputs": [],
   "source": [
    "import pyspark\n",
    "from pyspark.sql import SparkSession\n",
    "from pyspark.ml.feature import StringIndexer, VectorAssembler, StandardScaler, OneHotEncoder\n",
    "from pyspark.ml.regression import LinearRegression\n",
    "from pyspark.ml.evaluation import RegressionEvaluator\n",
    "from pyspark.sql.functions import isnan, when, count, col, mean"
   ]
  },
  {
   "cell_type": "markdown",
   "id": "c64a5039",
   "metadata": {},
   "source": [
    "Импортирование нужных библиотек и модулей"
   ]
  },
  {
   "cell_type": "markdown",
   "id": "53871372",
   "metadata": {
    "id": "53871372"
   },
   "source": [
    "# Подготовка данных"
   ]
  },
  {
   "cell_type": "code",
   "execution_count": 2,
   "id": "d7f6c090",
   "metadata": {},
   "outputs": [],
   "source": [
    "spark = (SparkSession.builder\n",
    "                     .master('local')\n",
    "                     .appName('Predict price project')\n",
    "                     .getOrCreate())"
   ]
  },
  {
   "cell_type": "code",
   "execution_count": 3,
   "id": "357b4bcf",
   "metadata": {},
   "outputs": [],
   "source": [
    "RANDOM_SEED = 0"
   ]
  },
  {
   "cell_type": "code",
   "execution_count": 4,
   "id": "df92e3ec",
   "metadata": {
    "id": "df92e3ec"
   },
   "outputs": [
    {
     "name": "stderr",
     "output_type": "stream",
     "text": [
      "                                                                                \r"
     ]
    }
   ],
   "source": [
    "data = spark.read.load('/datasets/housing.csv', format='csv', inferSchema=True, header=True)"
   ]
  },
  {
   "cell_type": "markdown",
   "id": "a5164e50",
   "metadata": {},
   "source": [
    "В этой части кода инициализация локальной спарк сессии, создание константы для обучения модели и чтение файла с помощью спарк\n"
   ]
  },
  {
   "cell_type": "code",
   "execution_count": 5,
   "id": "28eb466b",
   "metadata": {},
   "outputs": [
    {
     "name": "stdout",
     "output_type": "stream",
     "text": [
      "root\n",
      " |-- longitude: double (nullable = true)\n",
      " |-- latitude: double (nullable = true)\n",
      " |-- housing_median_age: double (nullable = true)\n",
      " |-- total_rooms: double (nullable = true)\n",
      " |-- total_bedrooms: double (nullable = true)\n",
      " |-- population: double (nullable = true)\n",
      " |-- households: double (nullable = true)\n",
      " |-- median_income: double (nullable = true)\n",
      " |-- median_house_value: double (nullable = true)\n",
      " |-- ocean_proximity: string (nullable = true)\n",
      "\n"
     ]
    }
   ],
   "source": [
    "data.printSchema()"
   ]
  },
  {
   "cell_type": "code",
   "execution_count": 6,
   "id": "0ebdcd63",
   "metadata": {},
   "outputs": [
    {
     "name": "stderr",
     "output_type": "stream",
     "text": [
      "                                                                                \r"
     ]
    },
    {
     "name": "stdout",
     "output_type": "stream",
     "text": [
      "+-------+-------------------+-----------------+------------------+------------------+------------------+------------------+-----------------+------------------+------------------+---------------+\n",
      "|summary|          longitude|         latitude|housing_median_age|       total_rooms|    total_bedrooms|        population|       households|     median_income|median_house_value|ocean_proximity|\n",
      "+-------+-------------------+-----------------+------------------+------------------+------------------+------------------+-----------------+------------------+------------------+---------------+\n",
      "|  count|              20640|            20640|             20640|             20640|             20433|             20640|            20640|             20640|             20640|          20640|\n",
      "|   mean|-119.56970445736148| 35.6318614341087|28.639486434108527|2635.7630813953488| 537.8705525375618|1425.4767441860465|499.5396802325581|3.8706710029070246|206855.81690891474|           null|\n",
      "| stddev|  2.003531723502584|2.135952397457101| 12.58555761211163|2181.6152515827944|421.38507007403115|  1132.46212176534|382.3297528316098| 1.899821717945263|115395.61587441359|           null|\n",
      "|    min|            -124.35|            32.54|               1.0|               2.0|               1.0|               3.0|              1.0|            0.4999|           14999.0|      <1H OCEAN|\n",
      "|    max|            -114.31|            41.95|              52.0|           39320.0|            6445.0|           35682.0|           6082.0|           15.0001|          500001.0|     NEAR OCEAN|\n",
      "+-------+-------------------+-----------------+------------------+------------------+------------------+------------------+-----------------+------------------+------------------+---------------+\n",
      "\n"
     ]
    }
   ],
   "source": [
    "data.describe().show()"
   ]
  },
  {
   "cell_type": "code",
   "execution_count": 7,
   "id": "1cf9a448",
   "metadata": {
    "scrolled": true
   },
   "outputs": [
    {
     "data": {
      "text/html": [
       "<div>\n",
       "<style scoped>\n",
       "    .dataframe tbody tr th:only-of-type {\n",
       "        vertical-align: middle;\n",
       "    }\n",
       "\n",
       "    .dataframe tbody tr th {\n",
       "        vertical-align: top;\n",
       "    }\n",
       "\n",
       "    .dataframe thead th {\n",
       "        text-align: right;\n",
       "    }\n",
       "</style>\n",
       "<table border=\"1\" class=\"dataframe\">\n",
       "  <thead>\n",
       "    <tr style=\"text-align: right;\">\n",
       "      <th></th>\n",
       "      <th>longitude</th>\n",
       "      <th>latitude</th>\n",
       "      <th>housing_median_age</th>\n",
       "      <th>total_rooms</th>\n",
       "      <th>total_bedrooms</th>\n",
       "      <th>population</th>\n",
       "      <th>households</th>\n",
       "      <th>median_income</th>\n",
       "      <th>median_house_value</th>\n",
       "      <th>ocean_proximity</th>\n",
       "    </tr>\n",
       "  </thead>\n",
       "  <tbody>\n",
       "    <tr>\n",
       "      <th>0</th>\n",
       "      <td>-122.23</td>\n",
       "      <td>37.88</td>\n",
       "      <td>41.0</td>\n",
       "      <td>880.0</td>\n",
       "      <td>129.0</td>\n",
       "      <td>322.0</td>\n",
       "      <td>126.0</td>\n",
       "      <td>8.3252</td>\n",
       "      <td>452600.0</td>\n",
       "      <td>NEAR BAY</td>\n",
       "    </tr>\n",
       "    <tr>\n",
       "      <th>1</th>\n",
       "      <td>-122.22</td>\n",
       "      <td>37.86</td>\n",
       "      <td>21.0</td>\n",
       "      <td>7099.0</td>\n",
       "      <td>1106.0</td>\n",
       "      <td>2401.0</td>\n",
       "      <td>1138.0</td>\n",
       "      <td>8.3014</td>\n",
       "      <td>358500.0</td>\n",
       "      <td>NEAR BAY</td>\n",
       "    </tr>\n",
       "    <tr>\n",
       "      <th>2</th>\n",
       "      <td>-122.24</td>\n",
       "      <td>37.85</td>\n",
       "      <td>52.0</td>\n",
       "      <td>1467.0</td>\n",
       "      <td>190.0</td>\n",
       "      <td>496.0</td>\n",
       "      <td>177.0</td>\n",
       "      <td>7.2574</td>\n",
       "      <td>352100.0</td>\n",
       "      <td>NEAR BAY</td>\n",
       "    </tr>\n",
       "    <tr>\n",
       "      <th>3</th>\n",
       "      <td>-122.25</td>\n",
       "      <td>37.85</td>\n",
       "      <td>52.0</td>\n",
       "      <td>1274.0</td>\n",
       "      <td>235.0</td>\n",
       "      <td>558.0</td>\n",
       "      <td>219.0</td>\n",
       "      <td>5.6431</td>\n",
       "      <td>341300.0</td>\n",
       "      <td>NEAR BAY</td>\n",
       "    </tr>\n",
       "    <tr>\n",
       "      <th>4</th>\n",
       "      <td>-122.25</td>\n",
       "      <td>37.85</td>\n",
       "      <td>52.0</td>\n",
       "      <td>1627.0</td>\n",
       "      <td>280.0</td>\n",
       "      <td>565.0</td>\n",
       "      <td>259.0</td>\n",
       "      <td>3.8462</td>\n",
       "      <td>342200.0</td>\n",
       "      <td>NEAR BAY</td>\n",
       "    </tr>\n",
       "  </tbody>\n",
       "</table>\n",
       "</div>"
      ],
      "text/plain": [
       "   longitude  latitude  housing_median_age  total_rooms  total_bedrooms  \\\n",
       "0    -122.23     37.88                41.0        880.0           129.0   \n",
       "1    -122.22     37.86                21.0       7099.0          1106.0   \n",
       "2    -122.24     37.85                52.0       1467.0           190.0   \n",
       "3    -122.25     37.85                52.0       1274.0           235.0   \n",
       "4    -122.25     37.85                52.0       1627.0           280.0   \n",
       "\n",
       "   population  households  median_income  median_house_value ocean_proximity  \n",
       "0       322.0       126.0         8.3252            452600.0        NEAR BAY  \n",
       "1      2401.0      1138.0         8.3014            358500.0        NEAR BAY  \n",
       "2       496.0       177.0         7.2574            352100.0        NEAR BAY  \n",
       "3       558.0       219.0         5.6431            341300.0        NEAR BAY  \n",
       "4       565.0       259.0         3.8462            342200.0        NEAR BAY  "
      ]
     },
     "execution_count": 7,
     "metadata": {},
     "output_type": "execute_result"
    }
   ],
   "source": [
    "data.toPandas().head()"
   ]
  },
  {
   "cell_type": "markdown",
   "id": "74fd3b52",
   "metadata": {},
   "source": [
    "    Из printSchema можно увидеть типы данных в датасете:\n",
    "        longitude — широта, float\n",
    "        latitude — долгота, float\n",
    "        housing_median_age — медианный возраст жителей жилого массива, float\n",
    "        total_rooms — общее количество комнат в домах жилого массива, float\n",
    "        total_bedrooms — общее количество спален в домах жилого массива, float\n",
    "        population — количество человек, которые проживают в жилом массиве, float\n",
    "        households — количество домовладений в жилом массиве, float\n",
    "        median_income — медианный доход жителей жилого массива, float\n",
    "        median_house_value — медианная стоимость дома в жилом массиве, float\n",
    "        ocean_proximity — близость к океану, object"
   ]
  },
  {
   "cell_type": "code",
   "execution_count": 8,
   "id": "7476842e",
   "metadata": {},
   "outputs": [
    {
     "data": {
      "text/html": [
       "<div>\n",
       "<style scoped>\n",
       "    .dataframe tbody tr th:only-of-type {\n",
       "        vertical-align: middle;\n",
       "    }\n",
       "\n",
       "    .dataframe tbody tr th {\n",
       "        vertical-align: top;\n",
       "    }\n",
       "\n",
       "    .dataframe thead th {\n",
       "        text-align: right;\n",
       "    }\n",
       "</style>\n",
       "<table border=\"1\" class=\"dataframe\">\n",
       "  <thead>\n",
       "    <tr style=\"text-align: right;\">\n",
       "      <th></th>\n",
       "      <th>longitude</th>\n",
       "      <th>latitude</th>\n",
       "      <th>housing_median_age</th>\n",
       "      <th>total_rooms</th>\n",
       "      <th>total_bedrooms</th>\n",
       "      <th>population</th>\n",
       "      <th>households</th>\n",
       "      <th>median_income</th>\n",
       "      <th>median_house_value</th>\n",
       "      <th>ocean_proximity</th>\n",
       "    </tr>\n",
       "  </thead>\n",
       "  <tbody>\n",
       "    <tr>\n",
       "      <th>0</th>\n",
       "      <td>0</td>\n",
       "      <td>0</td>\n",
       "      <td>0</td>\n",
       "      <td>0</td>\n",
       "      <td>0</td>\n",
       "      <td>0</td>\n",
       "      <td>0</td>\n",
       "      <td>0</td>\n",
       "      <td>0</td>\n",
       "      <td>0</td>\n",
       "    </tr>\n",
       "  </tbody>\n",
       "</table>\n",
       "</div>"
      ],
      "text/plain": [
       "   longitude  latitude  housing_median_age  total_rooms  total_bedrooms  \\\n",
       "0          0         0                   0            0               0   \n",
       "\n",
       "   population  households  median_income  median_house_value  ocean_proximity  \n",
       "0           0           0              0                   0                0  "
      ]
     },
     "execution_count": 8,
     "metadata": {},
     "output_type": "execute_result"
    }
   ],
   "source": [
    "data.select([count(when(isnan(c), c)).alias(c) for c in data.columns]).toPandas()"
   ]
  },
  {
   "cell_type": "code",
   "execution_count": 9,
   "id": "c32a1ce2",
   "metadata": {},
   "outputs": [
    {
     "name": "stderr",
     "output_type": "stream",
     "text": [
      "                                                                                \r"
     ]
    }
   ],
   "source": [
    "data = data.na.fill({\n",
    "    'total_bedrooms': data.select(mean('total_bedrooms')).first()[0]\n",
    "})"
   ]
  },
  {
   "cell_type": "markdown",
   "id": "833b638a",
   "metadata": {},
   "source": [
    "Пропуски есть только в одном столбце - total_bedrooms, решил их просто удалить, т.к. они не повлияют"
   ]
  },
  {
   "cell_type": "code",
   "execution_count": 10,
   "id": "bf7ba1a6",
   "metadata": {},
   "outputs": [],
   "source": [
    "cat_cols = ['ocean_proximity']\n",
    "num_cols = ['longitude', \n",
    "            'latitude', \n",
    "            'housing_median_age', \n",
    "            'total_rooms', \n",
    "            'total_bedrooms', \n",
    "            'population', \n",
    "            'households', \n",
    "            'median_income']\n",
    "target = 'median_house_value'"
   ]
  },
  {
   "cell_type": "code",
   "execution_count": 11,
   "id": "57be492d",
   "metadata": {},
   "outputs": [
    {
     "name": "stderr",
     "output_type": "stream",
     "text": [
      "                                                                                \r"
     ]
    },
    {
     "name": "stdout",
     "output_type": "stream",
     "text": [
      "16468 4172\n"
     ]
    }
   ],
   "source": [
    "train_data, test_data = data.randomSplit([.8, .2], seed=RANDOM_SEED)\n",
    "print(train_data.count(), test_data.count())"
   ]
  },
  {
   "cell_type": "code",
   "execution_count": 12,
   "id": "85aa3c94",
   "metadata": {},
   "outputs": [
    {
     "name": "stderr",
     "output_type": "stream",
     "text": [
      "                                                                                \r"
     ]
    }
   ],
   "source": [
    "indexer = StringIndexer(inputCols=cat_cols, \n",
    "                        outputCols=[c+'_idx' for c in cat_cols]) \n",
    "model_ind = indexer.fit(train_data)\n",
    "train_data = model_ind.transform(train_data)\n",
    "test_data = model_ind.transform(test_data)\n",
    "cols = [c for c in train_data.columns for i in cat_cols if (c.startswith(i))]"
   ]
  },
  {
   "cell_type": "code",
   "execution_count": 13,
   "id": "67b8d3c9",
   "metadata": {},
   "outputs": [],
   "source": [
    "encoder = OneHotEncoder(inputCols=[c+'_idx' for c in cat_cols],\n",
    "                        outputCols=[c+'_ohe' for c in cat_cols])\n",
    "encoder_model = encoder.fit(train_data)\n",
    "train_data = encoder_model.transform(train_data)\n",
    "test_data = encoder_model.transform(test_data)\n",
    "cols = [c for c in train_data.columns for i in cat_cols if (c.startswith(i))]"
   ]
  },
  {
   "cell_type": "code",
   "execution_count": 14,
   "id": "315d6c4d",
   "metadata": {},
   "outputs": [],
   "source": [
    "categorical_assembler = VectorAssembler(inputCols=[c+'_ohe' for c in cat_cols],\n",
    "                                        outputCol='categorical_features')\n",
    "train_data = categorical_assembler.transform(train_data)\n",
    "test_data = categorical_assembler.transform(test_data)"
   ]
  },
  {
   "cell_type": "code",
   "execution_count": 15,
   "id": "0467c358",
   "metadata": {},
   "outputs": [],
   "source": [
    "numerical_assembler = VectorAssembler(inputCols=num_cols, outputCol='numerical_features')\n",
    "train_data = numerical_assembler.transform(train_data)\n",
    "test_data = numerical_assembler.transform(test_data)"
   ]
  },
  {
   "cell_type": "code",
   "execution_count": 16,
   "id": "51980487",
   "metadata": {},
   "outputs": [
    {
     "name": "stderr",
     "output_type": "stream",
     "text": [
      "                                                                                \r"
     ]
    }
   ],
   "source": [
    "standardScaler = StandardScaler(inputCol='numerical_features', outputCol='numerical_features_scaled')\n",
    "scaler = standardScaler.fit(train_data)\n",
    "train_data = scaler.transform(train_data)\n",
    "test_data = scaler.transform(test_data)"
   ]
  },
  {
   "cell_type": "code",
   "execution_count": 17,
   "id": "1d348ac3",
   "metadata": {},
   "outputs": [],
   "source": [
    "all_features = ['categorical_features','numerical_features_scaled']\n",
    "\n",
    "final_assembler = VectorAssembler(inputCols=all_features, \n",
    "                                  outputCol='features') \n",
    "train_data = final_assembler.transform(train_data)\n",
    "test_data = final_assembler.transform(test_data)"
   ]
  },
  {
   "cell_type": "markdown",
   "id": "c44057da",
   "metadata": {},
   "source": [
    "Преобразование категориального столбца OneHotEncoder'ом и его векторизация"
   ]
  },
  {
   "cell_type": "markdown",
   "id": "6dafe222",
   "metadata": {},
   "source": [
    "Преобразование числовых столбцов StandartScaler'ом и их векторизация"
   ]
  },
  {
   "cell_type": "code",
   "execution_count": 18,
   "id": "ed96b97d",
   "metadata": {
    "collapsed": true
   },
   "outputs": [
    {
     "name": "stdout",
     "output_type": "stream",
     "text": [
      "+---------+--------+------------------+-----------+--------------+----------+----------+-------------+------------------+---------------+-------------------+-------------------+--------------------+--------------------+-------------------------+--------------------+\n",
      "|longitude|latitude|housing_median_age|total_rooms|total_bedrooms|population|households|median_income|median_house_value|ocean_proximity|ocean_proximity_idx|ocean_proximity_ohe|categorical_features|  numerical_features|numerical_features_scaled|            features|\n",
      "+---------+--------+------------------+-----------+--------------+----------+----------+-------------+------------------+---------------+-------------------+-------------------+--------------------+--------------------+-------------------------+--------------------+\n",
      "|  -124.35|   40.54|              52.0|     1820.0|         300.0|     806.0|     270.0|       3.0147|           94600.0|     NEAR OCEAN|                2.0|      (4,[2],[1.0])|       (4,[2],[1.0])|[-124.35,40.54,52...|     [-62.144207334457...|[0.0,0.0,1.0,0.0,...|\n",
      "|   -124.3|    41.8|              19.0|     2672.0|         552.0|    1298.0|     478.0|       1.9797|           85800.0|     NEAR OCEAN|                2.0|      (4,[2],[1.0])|       (4,[2],[1.0])|[-124.3,41.8,19.0...|     [-62.119219715907...|[0.0,0.0,1.0,0.0,...|\n",
      "|   -124.3|   41.84|              17.0|     2677.0|         531.0|    1244.0|     456.0|       3.0313|          103600.0|     NEAR OCEAN|                2.0|      (4,[2],[1.0])|       (4,[2],[1.0])|[-124.3,41.84,17....|     [-62.119219715907...|[0.0,0.0,1.0,0.0,...|\n",
      "|  -124.27|   40.69|              36.0|     2349.0|         528.0|    1194.0|     465.0|       2.5179|           79000.0|     NEAR OCEAN|                2.0|      (4,[2],[1.0])|       (4,[2],[1.0])|[-124.27,40.69,36...|     [-62.104227144777...|[0.0,0.0,1.0,0.0,...|\n",
      "|  -124.26|   40.58|              52.0|     2217.0|         394.0|     907.0|     369.0|       2.3571|          111400.0|     NEAR OCEAN|                2.0|      (4,[2],[1.0])|       (4,[2],[1.0])|[-124.26,40.58,52...|     [-62.099229621067...|[0.0,0.0,1.0,0.0,...|\n",
      "|  -124.25|   40.28|              32.0|     1430.0|         419.0|     434.0|     187.0|       1.9417|           76100.0|     NEAR OCEAN|                2.0|      (4,[2],[1.0])|       (4,[2],[1.0])|[-124.25,40.28,32...|     [-62.094232097357...|[0.0,0.0,1.0,0.0,...|\n",
      "|  -124.23|   40.54|              52.0|     2694.0|         453.0|    1152.0|     435.0|       3.0806|          106700.0|     NEAR OCEAN|                2.0|      (4,[2],[1.0])|       (4,[2],[1.0])|[-124.23,40.54,52...|     [-62.084237049937...|[0.0,0.0,1.0,0.0,...|\n",
      "|  -124.23|   40.81|              52.0|     1112.0|         209.0|     544.0|     172.0|       3.3462|           50800.0|     NEAR OCEAN|                2.0|      (4,[2],[1.0])|       (4,[2],[1.0])|[-124.23,40.81,52...|     [-62.084237049937...|[0.0,0.0,1.0,0.0,...|\n",
      "|  -124.23|   41.75|              11.0|     3159.0|         616.0|    1343.0|     479.0|       2.4805|           73200.0|     NEAR OCEAN|                2.0|      (4,[2],[1.0])|       (4,[2],[1.0])|[-124.23,41.75,11...|     [-62.084237049937...|[0.0,0.0,1.0,0.0,...|\n",
      "|  -124.22|   41.73|              28.0|     3003.0|         699.0|    1530.0|     653.0|       1.7038|           78300.0|     NEAR OCEAN|                2.0|      (4,[2],[1.0])|       (4,[2],[1.0])|[-124.22,41.73,28...|     [-62.079239526226...|[0.0,0.0,1.0,0.0,...|\n",
      "|  -124.21|   40.75|              32.0|     1218.0|         331.0|     620.0|     268.0|       1.6528|           58100.0|     NEAR OCEAN|                2.0|      (4,[2],[1.0])|       (4,[2],[1.0])|[-124.21,40.75,32...|     [-62.074242002516...|[0.0,0.0,1.0,0.0,...|\n",
      "|  -124.21|   41.75|              20.0|     3810.0|         787.0|    1993.0|     721.0|       2.0074|           66900.0|     NEAR OCEAN|                2.0|      (4,[2],[1.0])|       (4,[2],[1.0])|[-124.21,41.75,20...|     [-62.074242002516...|[0.0,0.0,1.0,0.0,...|\n",
      "|  -124.21|   41.77|              17.0|     3461.0|         722.0|    1947.0|     647.0|       2.5795|           68400.0|     NEAR OCEAN|                2.0|      (4,[2],[1.0])|       (4,[2],[1.0])|[-124.21,41.77,17...|     [-62.074242002516...|[0.0,0.0,1.0,0.0,...|\n",
      "|  -124.19|   40.73|              21.0|     5694.0|        1056.0|    2907.0|     972.0|       3.5363|           90100.0|     NEAR OCEAN|                2.0|      (4,[2],[1.0])|       (4,[2],[1.0])|[-124.19,40.73,21...|     [-62.064246955096...|[0.0,0.0,1.0,0.0,...|\n",
      "|  -124.19|   40.77|              30.0|     2975.0|         634.0|    1367.0|     583.0|        2.442|           69000.0|     NEAR OCEAN|                2.0|      (4,[2],[1.0])|       (4,[2],[1.0])|[-124.19,40.77,30...|     [-62.064246955096...|[0.0,0.0,1.0,0.0,...|\n",
      "|  -124.19|   40.78|              37.0|     1371.0|         319.0|     640.0|     260.0|       1.8242|           70000.0|     NEAR OCEAN|                2.0|      (4,[2],[1.0])|       (4,[2],[1.0])|[-124.19,40.78,37...|     [-62.064246955096...|[0.0,0.0,1.0,0.0,...|\n",
      "|  -124.19|   41.78|              15.0|     3140.0|         714.0|    1645.0|     640.0|       1.6654|           74600.0|     NEAR OCEAN|                2.0|      (4,[2],[1.0])|       (4,[2],[1.0])|[-124.19,41.78,15...|     [-62.064246955096...|[0.0,0.0,1.0,0.0,...|\n",
      "|  -124.18|   40.62|              35.0|      952.0|         178.0|     480.0|     179.0|       3.0536|          107000.0|     NEAR OCEAN|                2.0|      (4,[2],[1.0])|       (4,[2],[1.0])|[-124.18,40.62,35...|     [-62.059249431386...|[0.0,0.0,1.0,0.0,...|\n",
      "|  -124.18|   40.78|              33.0|     1076.0|         222.0|     656.0|     236.0|       2.5096|           72200.0|     NEAR OCEAN|                2.0|      (4,[2],[1.0])|       (4,[2],[1.0])|[-124.18,40.78,33...|     [-62.059249431386...|[0.0,0.0,1.0,0.0,...|\n",
      "|  -124.18|   40.78|              34.0|     1592.0|         364.0|     950.0|     317.0|       2.1607|           67000.0|     NEAR OCEAN|                2.0|      (4,[2],[1.0])|       (4,[2],[1.0])|[-124.18,40.78,34...|     [-62.059249431386...|[0.0,0.0,1.0,0.0,...|\n",
      "+---------+--------+------------------+-----------+--------------+----------+----------+-------------+------------------+---------------+-------------------+-------------------+--------------------+--------------------+-------------------------+--------------------+\n",
      "only showing top 20 rows\n",
      "\n"
     ]
    }
   ],
   "source": [
    "train_data.show()"
   ]
  },
  {
   "cell_type": "markdown",
   "id": "fa32f4b5",
   "metadata": {},
   "source": [
    "Видно, что появились колонки numerical_features_scaled и categorical_features, они будут использоваться для обучения модели"
   ]
  },
  {
   "cell_type": "markdown",
   "id": "8fd0293f",
   "metadata": {},
   "source": [
    "Разделение на тренировочную и тестовую выборки с размерами 80 на 20 соответственно"
   ]
  },
  {
   "cell_type": "markdown",
   "id": "9f0a82f3",
   "metadata": {
    "id": "9f0a82f3"
   },
   "source": [
    "# Обучение моделей"
   ]
  },
  {
   "cell_type": "code",
   "execution_count": 19,
   "id": "bddb08c4",
   "metadata": {
    "id": "bddb08c4"
   },
   "outputs": [
    {
     "name": "stderr",
     "output_type": "stream",
     "text": [
      "24/11/24 19:23:08 WARN BLAS: Failed to load implementation from: com.github.fommil.netlib.NativeSystemBLAS\n",
      "24/11/24 19:23:08 WARN BLAS: Failed to load implementation from: com.github.fommil.netlib.NativeRefBLAS\n",
      "24/11/24 19:23:09 WARN LAPACK: Failed to load implementation from: com.github.fommil.netlib.NativeSystemLAPACK\n",
      "24/11/24 19:23:09 WARN LAPACK: Failed to load implementation from: com.github.fommil.netlib.NativeRefLAPACK\n",
      "                                                                                \r"
     ]
    }
   ],
   "source": [
    "lr = LinearRegression(labelCol=target, featuresCol='features', regParam=0.1)\n",
    "first_model = lr.fit(train_data)"
   ]
  },
  {
   "cell_type": "markdown",
   "id": "4792aa6a",
   "metadata": {},
   "source": [
    "Создание и обучение модели линейной регрессии"
   ]
  },
  {
   "cell_type": "code",
   "execution_count": 20,
   "id": "97627e0c",
   "metadata": {},
   "outputs": [
    {
     "name": "stdout",
     "output_type": "stream",
     "text": [
      "+------------------+------------------+\n",
      "|median_house_value|        prediction|\n",
      "+------------------+------------------+\n",
      "|           70200.0|167962.64249178115|\n",
      "|           70500.0|142686.32015178865|\n",
      "|           68300.0| 143312.8483612081|\n",
      "|           70500.0|162477.70521104848|\n",
      "|           60000.0|141126.10796662746|\n",
      "|           85600.0|187015.75707984623|\n",
      "|           82000.0|199150.46138153225|\n",
      "|           85400.0|189559.56055552838|\n",
      "|           75000.0|103783.36906835949|\n",
      "|          104200.0|198148.06605672697|\n",
      "|           92500.0|166343.47047081823|\n",
      "|           76800.0|146931.20835949527|\n",
      "|           66800.0|132545.52288115025|\n",
      "|          100500.0| 164427.1014370937|\n",
      "|           94800.0| 228655.3594511128|\n",
      "|           83000.0|176455.80387839815|\n",
      "|           81100.0| 149150.1242510574|\n",
      "|           78400.0|121413.13126133056|\n",
      "|           97900.0|134889.05861486867|\n",
      "|          135600.0| 171866.1898276303|\n",
      "+------------------+------------------+\n",
      "only showing top 20 rows\n",
      "\n"
     ]
    }
   ],
   "source": [
    "predictions_1 = first_model.transform(test_data)\n",
    "\n",
    "predictedLabes = predictions_1.select('median_house_value', 'prediction')\n",
    "predictedLabes.show()"
   ]
  },
  {
   "cell_type": "code",
   "execution_count": 21,
   "id": "aeeccd55",
   "metadata": {},
   "outputs": [
    {
     "name": "stdout",
     "output_type": "stream",
     "text": [
      "RMSE: 68487.642\n",
      "MAE: 49735.665\n",
      "R2: 0.658\n"
     ]
    }
   ],
   "source": [
    "metrics = ['rmse', 'mae', 'r2']\n",
    "evaluators = [RegressionEvaluator(labelCol='median_house_value', \n",
    "                                  predictionCol='prediction',\n",
    "                                  metricName=metric) for metric in metrics]\n",
    "\n",
    "for evaluator, metric in zip(evaluators, metrics):\n",
    "    value = evaluator.evaluate(predictedLabes)\n",
    "    print(f'{metric.upper()}: {round(value, 3)}')"
   ]
  },
  {
   "cell_type": "markdown",
   "id": "6227b0e8",
   "metadata": {},
   "source": [
    "Из метрик на тестовой выборке, можно сказать, что результаты не очень хорошие, нужна работа с фичами"
   ]
  },
  {
   "cell_type": "markdown",
   "id": "44084549",
   "metadata": {},
   "source": [
    "# Обучение второй модели"
   ]
  },
  {
   "cell_type": "code",
   "execution_count": 22,
   "id": "59462877",
   "metadata": {},
   "outputs": [],
   "source": [
    "num_cols = ['longitude', \n",
    "            'latitude',\n",
    "            'housing_median_age', \n",
    "            'total_rooms', \n",
    "            'total_bedrooms', \n",
    "            'population', \n",
    "            'households', \n",
    "            'median_income']\n",
    "target = 'median_house_value'"
   ]
  },
  {
   "cell_type": "code",
   "execution_count": 23,
   "id": "077a772b",
   "metadata": {},
   "outputs": [
    {
     "name": "stderr",
     "output_type": "stream",
     "text": [
      "                                                                                \r"
     ]
    }
   ],
   "source": [
    "lr = LinearRegression(labelCol=target, featuresCol='numerical_features_scaled', regParam=0.1)\n",
    "second_model = lr.fit(train_data)"
   ]
  },
  {
   "cell_type": "markdown",
   "id": "cea1eca4",
   "metadata": {},
   "source": [
    "Создание и обучение модели линейной регрессии, но без категориального столбца"
   ]
  },
  {
   "cell_type": "code",
   "execution_count": 24,
   "id": "90efc9c7",
   "metadata": {},
   "outputs": [
    {
     "name": "stdout",
     "output_type": "stream",
     "text": [
      "+------------------+------------------+\n",
      "|median_house_value|        prediction|\n",
      "+------------------+------------------+\n",
      "|           70200.0|135889.58975230576|\n",
      "|           70500.0|109640.21101303352|\n",
      "|           68300.0| 110460.9615805326|\n",
      "|           70500.0|130276.26485034358|\n",
      "|           60000.0|110098.97620087722|\n",
      "|           85600.0| 155122.4206099878|\n",
      "|           82000.0|167694.93087517936|\n",
      "|           85400.0|157771.73178562569|\n",
      "|           75000.0| 49695.49364908319|\n",
      "|          104200.0|165918.87582880864|\n",
      "|           92500.0|139951.77544687595|\n",
      "|           76800.0|115670.16127524106|\n",
      "|           66800.0|101687.71240268275|\n",
      "|          100500.0|131343.79377482552|\n",
      "|           94800.0|208840.90257349703|\n",
      "|           83000.0|142721.74608319625|\n",
      "|           81100.0|113257.37599718664|\n",
      "|           78400.0| 83306.75305129075|\n",
      "|           97900.0| 96144.53529526945|\n",
      "|          135600.0|149099.04425167106|\n",
      "+------------------+------------------+\n",
      "only showing top 20 rows\n",
      "\n"
     ]
    }
   ],
   "source": [
    "predictions_2 = second_model.transform(test_data)\n",
    "\n",
    "predictedLabes = predictions_2.select('median_house_value', 'prediction')\n",
    "predictedLabes.show()"
   ]
  },
  {
   "cell_type": "code",
   "execution_count": 25,
   "id": "da84241e",
   "metadata": {},
   "outputs": [
    {
     "name": "stdout",
     "output_type": "stream",
     "text": [
      "RMSE: 69374.078\n",
      "MAE: 50761.896\n",
      "R2: 0.649\n"
     ]
    }
   ],
   "source": [
    "metrics = ['rmse', 'mae', 'r2']\n",
    "evaluators = [RegressionEvaluator(labelCol='median_house_value', \n",
    "                                  predictionCol='prediction',\n",
    "                                  metricName=metric) for metric in metrics]\n",
    "\n",
    "for evaluator, metric in zip(evaluators, metrics):\n",
    "    value = evaluator.evaluate(predictedLabes)\n",
    "    print(f'{metric.upper()}: {round(value, 3)}')"
   ]
  },
  {
   "cell_type": "markdown",
   "id": "7e4deacb",
   "metadata": {},
   "source": [
    "Результаты стали еще хуже, удаление категориального признака точность у модели не прибавила"
   ]
  },
  {
   "cell_type": "code",
   "execution_count": 26,
   "id": "b0170a85",
   "metadata": {},
   "outputs": [],
   "source": [
    "spark.stop()"
   ]
  },
  {
   "cell_type": "markdown",
   "id": "757fd103",
   "metadata": {
    "id": "757fd103"
   },
   "source": [
    "# Анализ результатов"
   ]
  },
  {
   "cell_type": "markdown",
   "id": "a36e3d49",
   "metadata": {},
   "source": [
    "    Метрики первой модели, в которую включены все столбцы:\n",
    "        RMSE: 66186.54\n",
    "        MAE: 48599.695\n",
    "        R2: 0.667\n",
    "\n",
    "    Метрики второй модели, из которой исключен категориальный столбец:\n",
    "        RMSE: 66920.053                                                                    \n",
    "        MAE: 49578.919\n",
    "        R2: 0.66\n",
    "\n",
    "В целом, у обоих моделей метрики не очень хорошие, RMSE очень большой, если вопрос, что нужно ли оставить категориальный столбец, то ответ будет, что нужно и влияние он имеет, хоть и небольшое, чтобы повысить метрики, мне кажется, нужна работа с признаками, создание новых и работа с моделью, то есть, перебор гипермараметров, также можно использовать другую регрессионую модель"
   ]
  }
 ],
 "metadata": {
  "ExecuteTimeLog": [
   {
    "duration": 292,
    "start_time": "2024-11-05T18:47:32.101Z"
   },
   {
    "duration": 3,
    "start_time": "2024-11-05T18:47:39.905Z"
   },
   {
    "duration": 266,
    "start_time": "2024-11-06T07:29:17.275Z"
   },
   {
    "duration": 15166,
    "start_time": "2024-11-06T09:10:50.581Z"
   },
   {
    "duration": 7188,
    "start_time": "2024-11-06T09:13:04.435Z"
   },
   {
    "duration": 470,
    "start_time": "2024-11-06T09:13:12.849Z"
   },
   {
    "duration": 75,
    "start_time": "2024-11-06T09:13:33.382Z"
   },
   {
    "duration": 619,
    "start_time": "2024-11-06T09:13:37.610Z"
   },
   {
    "duration": 161,
    "start_time": "2024-11-06T09:13:40.359Z"
   },
   {
    "duration": 494,
    "start_time": "2024-11-06T09:13:44.338Z"
   },
   {
    "duration": 512,
    "start_time": "2024-11-06T09:13:46.895Z"
   },
   {
    "duration": 198,
    "start_time": "2024-11-06T09:13:47.409Z"
   },
   {
    "duration": 515,
    "start_time": "2024-11-06T09:13:57.914Z"
   },
   {
    "duration": 229,
    "start_time": "2024-11-06T09:13:58.789Z"
   },
   {
    "duration": 563,
    "start_time": "2024-11-06T09:14:06.453Z"
   },
   {
    "duration": 336,
    "start_time": "2024-11-06T09:14:07.018Z"
   },
   {
    "duration": 14,
    "start_time": "2024-11-06T09:14:55.657Z"
   },
   {
    "duration": 160,
    "start_time": "2024-11-06T09:17:00.656Z"
   },
   {
    "duration": 174,
    "start_time": "2024-11-06T09:18:27.342Z"
   },
   {
    "duration": 248,
    "start_time": "2024-11-06T09:18:34.002Z"
   },
   {
    "duration": 14377,
    "start_time": "2024-11-06T09:18:34.252Z"
   },
   {
    "duration": 7108,
    "start_time": "2024-11-06T09:18:48.631Z"
   },
   {
    "duration": 69,
    "start_time": "2024-11-06T09:18:55.740Z"
   },
   {
    "duration": 705,
    "start_time": "2024-11-06T09:18:55.811Z"
   },
   {
    "duration": 405,
    "start_time": "2024-11-06T09:19:46.814Z"
   },
   {
    "duration": 50,
    "start_time": "2024-11-06T09:20:09.952Z"
   },
   {
    "duration": 1063,
    "start_time": "2024-11-06T09:20:53.469Z"
   },
   {
    "duration": 626,
    "start_time": "2024-11-06T09:22:03.013Z"
   },
   {
    "duration": 674,
    "start_time": "2024-11-06T09:22:09.233Z"
   },
   {
    "duration": 3,
    "start_time": "2024-11-06T09:25:54.821Z"
   },
   {
    "duration": 461,
    "start_time": "2024-11-06T09:27:21.751Z"
   },
   {
    "duration": 1111,
    "start_time": "2024-11-06T09:27:53.751Z"
   },
   {
    "duration": 3,
    "start_time": "2024-11-06T09:28:17.707Z"
   },
   {
    "duration": 4,
    "start_time": "2024-11-06T09:28:21.490Z"
   },
   {
    "duration": 694,
    "start_time": "2024-11-06T09:28:21.783Z"
   },
   {
    "duration": 10,
    "start_time": "2024-11-06T09:29:30.994Z"
   },
   {
    "duration": 580,
    "start_time": "2024-11-06T09:29:54.081Z"
   },
   {
    "duration": 616,
    "start_time": "2024-11-06T09:31:06.331Z"
   },
   {
    "duration": 3,
    "start_time": "2024-11-06T09:32:49.435Z"
   },
   {
    "duration": 577,
    "start_time": "2024-11-06T09:32:58.679Z"
   },
   {
    "duration": 528,
    "start_time": "2024-11-06T09:34:20.072Z"
   },
   {
    "duration": 709,
    "start_time": "2024-11-06T09:34:59.993Z"
   },
   {
    "duration": 553,
    "start_time": "2024-11-06T09:35:14.782Z"
   },
   {
    "duration": 543,
    "start_time": "2024-11-06T09:36:06.558Z"
   },
   {
    "duration": 669,
    "start_time": "2024-11-06T11:06:37.017Z"
   },
   {
    "duration": 7,
    "start_time": "2024-11-06T11:11:27.118Z"
   },
   {
    "duration": 11,
    "start_time": "2024-11-06T11:11:59.836Z"
   },
   {
    "duration": 2,
    "start_time": "2024-11-06T11:12:07.610Z"
   },
   {
    "duration": 21,
    "start_time": "2024-11-06T11:12:12.197Z"
   },
   {
    "duration": 2,
    "start_time": "2024-11-06T11:12:56.573Z"
   },
   {
    "duration": 60,
    "start_time": "2024-11-06T11:12:59.465Z"
   },
   {
    "duration": 11417,
    "start_time": "2024-11-06T11:13:06.292Z"
   },
   {
    "duration": 23,
    "start_time": "2024-11-06T11:15:43.581Z"
   },
   {
    "duration": 10864,
    "start_time": "2024-11-06T11:15:45.189Z"
   },
   {
    "duration": 9,
    "start_time": "2024-11-06T11:21:09.458Z"
   },
   {
    "duration": 13,
    "start_time": "2024-11-06T11:21:34.342Z"
   },
   {
    "duration": 10,
    "start_time": "2024-11-06T11:21:51.345Z"
   },
   {
    "duration": 12,
    "start_time": "2024-11-06T11:23:13.933Z"
   },
   {
    "duration": 4792,
    "start_time": "2024-11-06T11:26:39.415Z"
   },
   {
    "duration": 7569,
    "start_time": "2024-11-06T11:26:47.956Z"
   },
   {
    "duration": 6,
    "start_time": "2024-11-06T11:30:21.689Z"
   },
   {
    "duration": 6277,
    "start_time": "2024-11-06T11:30:21.869Z"
   },
   {
    "duration": 12,
    "start_time": "2024-11-06T11:30:56.560Z"
   },
   {
    "duration": 457,
    "start_time": "2024-11-06T11:31:01.373Z"
   },
   {
    "duration": 39,
    "start_time": "2024-11-06T11:31:01.832Z"
   },
   {
    "duration": 14743,
    "start_time": "2024-11-06T11:31:01.872Z"
   },
   {
    "duration": 7220,
    "start_time": "2024-11-06T11:31:16.617Z"
   },
   {
    "duration": 12,
    "start_time": "2024-11-06T11:31:23.839Z"
   },
   {
    "duration": 1606,
    "start_time": "2024-11-06T11:31:23.853Z"
   },
   {
    "duration": 841,
    "start_time": "2024-11-06T11:31:25.507Z"
   },
   {
    "duration": 1303,
    "start_time": "2024-11-06T11:31:26.350Z"
   },
   {
    "duration": 58,
    "start_time": "2024-11-06T11:31:27.654Z"
   },
   {
    "duration": 1330,
    "start_time": "2024-11-06T11:31:27.713Z"
   },
   {
    "duration": 4,
    "start_time": "2024-11-06T11:31:29.044Z"
   },
   {
    "duration": 14,
    "start_time": "2024-11-06T11:31:29.049Z"
   },
   {
    "duration": 768,
    "start_time": "2024-11-06T11:31:29.064Z"
   },
   {
    "duration": 760,
    "start_time": "2024-11-06T11:31:29.834Z"
   },
   {
    "duration": 355,
    "start_time": "2024-11-06T11:31:45.883Z"
   },
   {
    "duration": 3,
    "start_time": "2024-11-06T11:36:38.761Z"
   },
   {
    "duration": 68,
    "start_time": "2024-11-06T11:37:18.150Z"
   },
   {
    "duration": 328,
    "start_time": "2024-11-06T11:37:48.896Z"
   },
   {
    "duration": 21,
    "start_time": "2024-11-06T11:37:52.232Z"
   },
   {
    "duration": 99,
    "start_time": "2024-11-06T11:40:55.911Z"
   },
   {
    "duration": 97,
    "start_time": "2024-11-06T11:41:40.833Z"
   },
   {
    "duration": 7,
    "start_time": "2024-11-06T11:46:24.432Z"
   },
   {
    "duration": 5,
    "start_time": "2024-11-06T11:46:45.504Z"
   },
   {
    "duration": 3,
    "start_time": "2024-11-06T11:46:54.022Z"
   },
   {
    "duration": 1975,
    "start_time": "2024-11-06T11:46:57.858Z"
   },
   {
    "duration": 824,
    "start_time": "2024-11-06T11:47:02.767Z"
   },
   {
    "duration": 2,
    "start_time": "2024-11-06T14:28:26.014Z"
   },
   {
    "duration": 25,
    "start_time": "2024-11-06T14:28:29.357Z"
   },
   {
    "duration": 13,
    "start_time": "2024-11-06T14:28:40.115Z"
   },
   {
    "duration": 2145,
    "start_time": "2024-11-06T14:28:56.576Z"
   },
   {
    "duration": 6,
    "start_time": "2024-11-06T14:30:45.498Z"
   },
   {
    "duration": 8,
    "start_time": "2024-11-06T14:31:22.844Z"
   },
   {
    "duration": 3,
    "start_time": "2024-11-06T14:31:28.158Z"
   },
   {
    "duration": 8,
    "start_time": "2024-11-06T14:34:34.901Z"
   },
   {
    "duration": 10,
    "start_time": "2024-11-06T14:34:43.789Z"
   },
   {
    "duration": 7,
    "start_time": "2024-11-06T14:35:19.444Z"
   },
   {
    "duration": 9,
    "start_time": "2024-11-06T14:35:38.846Z"
   },
   {
    "duration": 90,
    "start_time": "2024-11-06T14:36:10.957Z"
   },
   {
    "duration": 8,
    "start_time": "2024-11-06T14:36:19.486Z"
   },
   {
    "duration": 7,
    "start_time": "2024-11-06T14:36:19.742Z"
   },
   {
    "duration": 7,
    "start_time": "2024-11-06T14:36:19.958Z"
   },
   {
    "duration": 85,
    "start_time": "2024-11-06T14:36:20.204Z"
   },
   {
    "duration": 714,
    "start_time": "2024-11-06T14:36:39.688Z"
   },
   {
    "duration": 14940,
    "start_time": "2024-11-06T14:36:40.403Z"
   },
   {
    "duration": 62,
    "start_time": "2024-11-06T14:36:55.346Z"
   },
   {
    "duration": 7812,
    "start_time": "2024-11-06T14:36:55.410Z"
   },
   {
    "duration": 15,
    "start_time": "2024-11-06T14:37:03.224Z"
   },
   {
    "duration": 1737,
    "start_time": "2024-11-06T14:37:03.306Z"
   },
   {
    "duration": 794,
    "start_time": "2024-11-06T14:37:05.045Z"
   },
   {
    "duration": 1270,
    "start_time": "2024-11-06T14:37:05.840Z"
   },
   {
    "duration": 18,
    "start_time": "2024-11-06T14:37:07.112Z"
   },
   {
    "duration": 1319,
    "start_time": "2024-11-06T14:37:07.132Z"
   },
   {
    "duration": 3,
    "start_time": "2024-11-06T14:37:08.452Z"
   },
   {
    "duration": 2067,
    "start_time": "2024-11-06T14:37:08.456Z"
   },
   {
    "duration": 299,
    "start_time": "2024-11-06T14:37:10.524Z"
   },
   {
    "duration": 18,
    "start_time": "2024-11-06T14:37:10.824Z"
   },
   {
    "duration": 64,
    "start_time": "2024-11-06T14:37:10.843Z"
   },
   {
    "duration": 9,
    "start_time": "2024-11-06T14:37:10.908Z"
   },
   {
    "duration": 213,
    "start_time": "2024-11-06T14:37:10.918Z"
   },
   {
    "duration": 0,
    "start_time": "2024-11-06T14:37:11.132Z"
   },
   {
    "duration": 0,
    "start_time": "2024-11-06T14:37:11.134Z"
   },
   {
    "duration": 618,
    "start_time": "2024-11-06T14:38:08.918Z"
   },
   {
    "duration": 1492,
    "start_time": "2024-11-06T14:38:21.020Z"
   },
   {
    "duration": 92,
    "start_time": "2024-11-06T14:39:08.014Z"
   },
   {
    "duration": 33,
    "start_time": "2024-11-06T14:42:34.552Z"
   },
   {
    "duration": 11,
    "start_time": "2024-11-06T14:42:35.841Z"
   },
   {
    "duration": 7,
    "start_time": "2024-11-06T14:42:36.050Z"
   },
   {
    "duration": 2012,
    "start_time": "2024-11-06T14:42:36.267Z"
   },
   {
    "duration": 130,
    "start_time": "2024-11-06T14:42:38.281Z"
   },
   {
    "duration": 94,
    "start_time": "2024-11-06T14:43:10.523Z"
   },
   {
    "duration": 3,
    "start_time": "2024-11-06T14:43:58.208Z"
   },
   {
    "duration": 28,
    "start_time": "2024-11-06T14:44:00.663Z"
   },
   {
    "duration": 1313,
    "start_time": "2024-11-06T14:44:28.809Z"
   },
   {
    "duration": 3382,
    "start_time": "2024-11-06T14:44:32.084Z"
   },
   {
    "duration": 56,
    "start_time": "2024-11-06T14:44:35.467Z"
   },
   {
    "duration": 2315,
    "start_time": "2024-11-06T14:44:48.503Z"
   },
   {
    "duration": 3272,
    "start_time": "2024-11-06T14:45:40.977Z"
   },
   {
    "duration": 829,
    "start_time": "2024-11-06T14:46:09.816Z"
   },
   {
    "duration": 14770,
    "start_time": "2024-11-06T14:46:10.646Z"
   },
   {
    "duration": 3,
    "start_time": "2024-11-06T14:46:25.419Z"
   },
   {
    "duration": 8097,
    "start_time": "2024-11-06T14:46:25.424Z"
   },
   {
    "duration": 14,
    "start_time": "2024-11-06T14:46:33.523Z"
   },
   {
    "duration": 1577,
    "start_time": "2024-11-06T14:46:33.539Z"
   },
   {
    "duration": 829,
    "start_time": "2024-11-06T14:46:35.118Z"
   },
   {
    "duration": 998,
    "start_time": "2024-11-06T14:46:35.949Z"
   },
   {
    "duration": 22,
    "start_time": "2024-11-06T14:46:36.948Z"
   },
   {
    "duration": 1375,
    "start_time": "2024-11-06T14:46:36.972Z"
   },
   {
    "duration": 2,
    "start_time": "2024-11-06T14:46:38.349Z"
   },
   {
    "duration": 1979,
    "start_time": "2024-11-06T14:46:38.353Z"
   },
   {
    "duration": 377,
    "start_time": "2024-11-06T14:46:40.333Z"
   },
   {
    "duration": 38,
    "start_time": "2024-11-06T14:46:40.713Z"
   },
   {
    "duration": 83,
    "start_time": "2024-11-06T14:46:40.753Z"
   },
   {
    "duration": 1502,
    "start_time": "2024-11-06T14:46:40.838Z"
   },
   {
    "duration": 4134,
    "start_time": "2024-11-06T14:46:42.407Z"
   },
   {
    "duration": 65,
    "start_time": "2024-11-06T14:46:46.542Z"
   },
   {
    "duration": 2720,
    "start_time": "2024-11-06T14:46:46.610Z"
   },
   {
    "duration": 3710,
    "start_time": "2024-11-06T14:46:49.332Z"
   },
   {
    "duration": 2067,
    "start_time": "2024-11-06T14:48:38.053Z"
   },
   {
    "duration": 73,
    "start_time": "2024-11-06T14:53:32.969Z"
   },
   {
    "duration": 232,
    "start_time": "2024-11-06T14:53:44.412Z"
   },
   {
    "duration": 151,
    "start_time": "2024-11-06T14:54:30.867Z"
   },
   {
    "duration": 170,
    "start_time": "2024-11-06T14:57:56.059Z"
   },
   {
    "duration": 781,
    "start_time": "2024-11-06T14:59:07.435Z"
   },
   {
    "duration": 7,
    "start_time": "2024-11-06T15:01:51.845Z"
   },
   {
    "duration": 3,
    "start_time": "2024-11-06T15:03:38.577Z"
   },
   {
    "duration": 8,
    "start_time": "2024-11-06T15:04:01.009Z"
   },
   {
    "duration": 10,
    "start_time": "2024-11-06T15:04:15.728Z"
   },
   {
    "duration": 9,
    "start_time": "2024-11-06T15:04:32.235Z"
   },
   {
    "duration": 7,
    "start_time": "2024-11-06T15:04:44.185Z"
   },
   {
    "duration": 8,
    "start_time": "2024-11-06T15:04:54.829Z"
   },
   {
    "duration": 2,
    "start_time": "2024-11-06T15:05:54.560Z"
   },
   {
    "duration": 936,
    "start_time": "2024-11-06T15:06:05.971Z"
   },
   {
    "duration": 1877,
    "start_time": "2024-11-06T15:06:54.935Z"
   },
   {
    "duration": 1570,
    "start_time": "2024-11-06T15:08:09.003Z"
   },
   {
    "duration": 756,
    "start_time": "2024-11-06T15:09:46.891Z"
   },
   {
    "duration": 14686,
    "start_time": "2024-11-06T15:09:47.648Z"
   },
   {
    "duration": 3,
    "start_time": "2024-11-06T15:10:02.336Z"
   },
   {
    "duration": 8382,
    "start_time": "2024-11-06T15:10:02.340Z"
   },
   {
    "duration": 83,
    "start_time": "2024-11-06T15:10:10.724Z"
   },
   {
    "duration": 1834,
    "start_time": "2024-11-06T15:10:10.810Z"
   },
   {
    "duration": 773,
    "start_time": "2024-11-06T15:10:12.646Z"
   },
   {
    "duration": 1306,
    "start_time": "2024-11-06T15:10:13.421Z"
   },
   {
    "duration": 18,
    "start_time": "2024-11-06T15:10:14.728Z"
   },
   {
    "duration": 1524,
    "start_time": "2024-11-06T15:10:14.748Z"
   },
   {
    "duration": 3,
    "start_time": "2024-11-06T15:10:16.307Z"
   },
   {
    "duration": 2023,
    "start_time": "2024-11-06T15:10:16.312Z"
   },
   {
    "duration": 304,
    "start_time": "2024-11-06T15:10:18.337Z"
   },
   {
    "duration": 105,
    "start_time": "2024-11-06T15:10:18.643Z"
   },
   {
    "duration": 101,
    "start_time": "2024-11-06T15:10:18.806Z"
   },
   {
    "duration": 1303,
    "start_time": "2024-11-06T15:10:18.909Z"
   },
   {
    "duration": 3985,
    "start_time": "2024-11-06T15:10:20.213Z"
   },
   {
    "duration": 34,
    "start_time": "2024-11-06T15:10:24.199Z"
   },
   {
    "duration": 2887,
    "start_time": "2024-11-06T15:10:24.235Z"
   },
   {
    "duration": 4289,
    "start_time": "2024-11-06T15:10:27.124Z"
   },
   {
    "duration": 924,
    "start_time": "2024-11-06T15:10:31.415Z"
   },
   {
    "duration": 2432,
    "start_time": "2024-11-06T15:10:32.341Z"
   },
   {
    "duration": 33,
    "start_time": "2024-11-06T15:10:34.774Z"
   },
   {
    "duration": 152,
    "start_time": "2024-11-06T15:14:48.299Z"
   },
   {
    "duration": 23,
    "start_time": "2024-11-06T15:15:19.879Z"
   },
   {
    "duration": 2661,
    "start_time": "2024-11-06T15:16:31.569Z"
   },
   {
    "duration": 2206,
    "start_time": "2024-11-06T15:16:49.712Z"
   },
   {
    "duration": 825,
    "start_time": "2024-11-06T15:17:07.718Z"
   },
   {
    "duration": 2004,
    "start_time": "2024-11-06T15:17:26.423Z"
   },
   {
    "duration": 3,
    "start_time": "2024-11-06T15:18:18.961Z"
   },
   {
    "duration": 1662,
    "start_time": "2024-11-06T15:18:19.559Z"
   },
   {
    "duration": 901,
    "start_time": "2024-11-06T15:18:21.223Z"
   },
   {
    "duration": 1529,
    "start_time": "2024-11-06T15:18:22.126Z"
   },
   {
    "duration": 931,
    "start_time": "2024-11-06T17:47:38.904Z"
   },
   {
    "duration": 15008,
    "start_time": "2024-11-06T17:47:39.837Z"
   },
   {
    "duration": 3,
    "start_time": "2024-11-06T17:47:54.847Z"
   },
   {
    "duration": 8077,
    "start_time": "2024-11-06T17:47:54.852Z"
   },
   {
    "duration": 22,
    "start_time": "2024-11-06T17:48:02.931Z"
   },
   {
    "duration": 1826,
    "start_time": "2024-11-06T17:48:02.955Z"
   },
   {
    "duration": 1053,
    "start_time": "2024-11-06T17:48:04.782Z"
   },
   {
    "duration": 1144,
    "start_time": "2024-11-06T17:48:05.836Z"
   },
   {
    "duration": 55,
    "start_time": "2024-11-06T17:48:06.983Z"
   },
   {
    "duration": 1214,
    "start_time": "2024-11-06T17:48:07.041Z"
   },
   {
    "duration": 3,
    "start_time": "2024-11-06T17:48:08.256Z"
   },
   {
    "duration": 2059,
    "start_time": "2024-11-06T17:48:08.260Z"
   },
   {
    "duration": 405,
    "start_time": "2024-11-06T17:48:10.320Z"
   },
   {
    "duration": 119,
    "start_time": "2024-11-06T17:48:10.730Z"
   },
   {
    "duration": 41,
    "start_time": "2024-11-06T17:48:10.917Z"
   },
   {
    "duration": 1688,
    "start_time": "2024-11-06T17:48:10.960Z"
   },
   {
    "duration": 4690,
    "start_time": "2024-11-06T17:48:12.650Z"
   },
   {
    "duration": 25,
    "start_time": "2024-11-06T17:48:17.342Z"
   },
   {
    "duration": 2772,
    "start_time": "2024-11-06T17:48:17.369Z"
   },
   {
    "duration": 4044,
    "start_time": "2024-11-06T17:48:20.142Z"
   },
   {
    "duration": 1232,
    "start_time": "2024-11-06T17:48:24.188Z"
   },
   {
    "duration": 2724,
    "start_time": "2024-11-06T17:48:25.424Z"
   },
   {
    "duration": 63,
    "start_time": "2024-11-06T17:48:28.149Z"
   },
   {
    "duration": 2606,
    "start_time": "2024-11-06T17:48:28.213Z"
   },
   {
    "duration": 949,
    "start_time": "2024-11-06T17:48:30.821Z"
   },
   {
    "duration": 1906,
    "start_time": "2024-11-06T17:48:31.772Z"
   },
   {
    "duration": 161,
    "start_time": "2024-11-06T17:55:31.540Z"
   },
   {
    "duration": 757,
    "start_time": "2024-11-06T17:55:46.286Z"
   },
   {
    "duration": 14780,
    "start_time": "2024-11-06T17:55:47.045Z"
   },
   {
    "duration": 4,
    "start_time": "2024-11-06T17:56:01.826Z"
   },
   {
    "duration": 8306,
    "start_time": "2024-11-06T17:56:01.832Z"
   },
   {
    "duration": 89,
    "start_time": "2024-11-06T17:56:10.140Z"
   },
   {
    "duration": 1688,
    "start_time": "2024-11-06T17:56:10.230Z"
   },
   {
    "duration": 656,
    "start_time": "2024-11-06T17:56:11.919Z"
   },
   {
    "duration": 1653,
    "start_time": "2024-11-06T17:56:12.576Z"
   },
   {
    "duration": 21,
    "start_time": "2024-11-06T17:56:14.231Z"
   },
   {
    "duration": 1874,
    "start_time": "2024-11-06T17:56:14.255Z"
   },
   {
    "duration": 8,
    "start_time": "2024-11-06T17:56:16.130Z"
   },
   {
    "duration": 2195,
    "start_time": "2024-11-06T17:56:16.140Z"
   },
   {
    "duration": 488,
    "start_time": "2024-11-06T17:56:18.337Z"
   },
   {
    "duration": 114,
    "start_time": "2024-11-06T17:56:18.826Z"
   },
   {
    "duration": 99,
    "start_time": "2024-11-06T17:56:18.943Z"
   },
   {
    "duration": 1801,
    "start_time": "2024-11-06T17:56:19.043Z"
   },
   {
    "duration": 5034,
    "start_time": "2024-11-06T17:56:20.845Z"
   },
   {
    "duration": 53,
    "start_time": "2024-11-06T17:56:25.881Z"
   },
   {
    "duration": 3101,
    "start_time": "2024-11-06T17:56:25.936Z"
   },
   {
    "duration": 4398,
    "start_time": "2024-11-06T17:56:29.039Z"
   },
   {
    "duration": 1280,
    "start_time": "2024-11-06T17:56:33.439Z"
   },
   {
    "duration": 228,
    "start_time": "2024-11-06T17:56:34.720Z"
   },
   {
    "duration": 0,
    "start_time": "2024-11-06T17:56:34.950Z"
   },
   {
    "duration": 0,
    "start_time": "2024-11-06T17:56:34.951Z"
   },
   {
    "duration": 0,
    "start_time": "2024-11-06T17:56:34.952Z"
   },
   {
    "duration": 0,
    "start_time": "2024-11-06T17:56:34.953Z"
   },
   {
    "duration": 90,
    "start_time": "2024-11-06T17:56:52.680Z"
   },
   {
    "duration": 96,
    "start_time": "2024-11-06T17:57:01.040Z"
   },
   {
    "duration": 251,
    "start_time": "2024-11-06T17:57:16.853Z"
   },
   {
    "duration": 1012,
    "start_time": "2024-11-06T17:57:47.526Z"
   },
   {
    "duration": 1911,
    "start_time": "2024-11-06T17:58:00.522Z"
   },
   {
    "duration": 2072,
    "start_time": "2024-11-06T17:58:09.646Z"
   },
   {
    "duration": 2,
    "start_time": "2024-11-06T17:58:21.289Z"
   },
   {
    "duration": 2513,
    "start_time": "2024-11-06T17:58:21.441Z"
   },
   {
    "duration": 927,
    "start_time": "2024-11-06T17:58:23.955Z"
   },
   {
    "duration": 2382,
    "start_time": "2024-11-06T17:58:24.884Z"
   },
   {
    "duration": 86,
    "start_time": "2024-11-06T18:04:40.761Z"
   },
   {
    "duration": 75,
    "start_time": "2024-11-06T18:05:56.249Z"
   },
   {
    "duration": 3750,
    "start_time": "2024-11-06T18:13:40.714Z"
   },
   {
    "duration": 63,
    "start_time": "2024-11-06T18:20:37.286Z"
   },
   {
    "duration": 492,
    "start_time": "2024-11-06T18:25:07.073Z"
   },
   {
    "duration": 15387,
    "start_time": "2024-11-06T18:25:07.567Z"
   },
   {
    "duration": 2,
    "start_time": "2024-11-06T18:25:22.956Z"
   },
   {
    "duration": 7880,
    "start_time": "2024-11-06T18:25:22.960Z"
   },
   {
    "duration": 76,
    "start_time": "2024-11-06T18:25:30.843Z"
   },
   {
    "duration": 1571,
    "start_time": "2024-11-06T18:25:30.921Z"
   },
   {
    "duration": 965,
    "start_time": "2024-11-06T18:25:32.494Z"
   },
   {
    "duration": 1016,
    "start_time": "2024-11-06T18:25:33.461Z"
   },
   {
    "duration": 50,
    "start_time": "2024-11-06T18:25:34.478Z"
   },
   {
    "duration": 1591,
    "start_time": "2024-11-06T18:25:34.530Z"
   },
   {
    "duration": 6,
    "start_time": "2024-11-06T18:25:36.123Z"
   },
   {
    "duration": 2212,
    "start_time": "2024-11-06T18:25:36.130Z"
   },
   {
    "duration": 405,
    "start_time": "2024-11-06T18:25:38.343Z"
   },
   {
    "duration": 185,
    "start_time": "2024-11-06T18:25:38.752Z"
   },
   {
    "duration": 38,
    "start_time": "2024-11-06T18:25:38.939Z"
   },
   {
    "duration": 1549,
    "start_time": "2024-11-06T18:25:38.979Z"
   },
   {
    "duration": 4083,
    "start_time": "2024-11-06T18:25:40.530Z"
   },
   {
    "duration": 34,
    "start_time": "2024-11-06T18:25:44.614Z"
   },
   {
    "duration": 3167,
    "start_time": "2024-11-06T18:25:44.650Z"
   },
   {
    "duration": 4121,
    "start_time": "2024-11-06T18:25:47.819Z"
   },
   {
    "duration": 1291,
    "start_time": "2024-11-06T18:25:51.942Z"
   },
   {
    "duration": 3020,
    "start_time": "2024-11-06T18:25:53.236Z"
   },
   {
    "duration": 3,
    "start_time": "2024-11-06T18:25:56.257Z"
   },
   {
    "duration": 2819,
    "start_time": "2024-11-06T18:25:56.312Z"
   },
   {
    "duration": 921,
    "start_time": "2024-11-06T18:25:59.133Z"
   },
   {
    "duration": 1981,
    "start_time": "2024-11-06T18:26:00.056Z"
   },
   {
    "duration": 525,
    "start_time": "2024-11-07T07:05:00.257Z"
   },
   {
    "duration": 14822,
    "start_time": "2024-11-07T07:05:00.784Z"
   },
   {
    "duration": 4,
    "start_time": "2024-11-07T07:05:15.608Z"
   },
   {
    "duration": 7693,
    "start_time": "2024-11-07T07:05:15.613Z"
   },
   {
    "duration": 63,
    "start_time": "2024-11-07T07:05:23.307Z"
   },
   {
    "duration": 1487,
    "start_time": "2024-11-07T07:05:23.372Z"
   },
   {
    "duration": 550,
    "start_time": "2024-11-22T13:14:33.702Z"
   },
   {
    "duration": 15262,
    "start_time": "2024-11-22T13:14:34.254Z"
   },
   {
    "duration": 4,
    "start_time": "2024-11-22T13:14:49.519Z"
   },
   {
    "duration": 9081,
    "start_time": "2024-11-22T13:14:49.525Z"
   },
   {
    "duration": 20,
    "start_time": "2024-11-22T13:14:58.608Z"
   },
   {
    "duration": 5175,
    "start_time": "2024-11-22T13:14:58.630Z"
   },
   {
    "duration": 1540,
    "start_time": "2024-11-22T13:15:03.807Z"
   },
   {
    "duration": 1587,
    "start_time": "2024-11-22T13:15:05.348Z"
   },
   {
    "duration": 979,
    "start_time": "2024-11-22T13:15:06.937Z"
   },
   {
    "duration": 1529,
    "start_time": "2024-11-22T13:15:07.920Z"
   },
   {
    "duration": 3,
    "start_time": "2024-11-22T13:15:09.451Z"
   },
   {
    "duration": 1682,
    "start_time": "2024-11-22T13:15:09.456Z"
   },
   {
    "duration": 467,
    "start_time": "2024-11-22T13:15:11.140Z"
   },
   {
    "duration": 101,
    "start_time": "2024-11-22T13:15:11.609Z"
   },
   {
    "duration": 31,
    "start_time": "2024-11-22T13:15:11.712Z"
   },
   {
    "duration": 1329,
    "start_time": "2024-11-22T13:15:11.801Z"
   },
   {
    "duration": 5302,
    "start_time": "2024-11-22T13:15:13.132Z"
   },
   {
    "duration": 65,
    "start_time": "2024-11-22T13:15:18.435Z"
   },
   {
    "duration": 3403,
    "start_time": "2024-11-22T13:15:18.502Z"
   },
   {
    "duration": 4127,
    "start_time": "2024-11-22T13:15:21.907Z"
   },
   {
    "duration": 1106,
    "start_time": "2024-11-22T13:15:26.101Z"
   },
   {
    "duration": 2592,
    "start_time": "2024-11-22T13:15:27.209Z"
   },
   {
    "duration": 3,
    "start_time": "2024-11-22T13:15:29.803Z"
   },
   {
    "duration": 3308,
    "start_time": "2024-11-22T13:15:29.808Z"
   },
   {
    "duration": 948,
    "start_time": "2024-11-22T13:15:33.118Z"
   },
   {
    "duration": 2837,
    "start_time": "2024-11-22T13:15:34.067Z"
   },
   {
    "duration": 74,
    "start_time": "2024-11-24T18:26:00.963Z"
   },
   {
    "duration": 518,
    "start_time": "2024-11-24T18:26:05.200Z"
   },
   {
    "duration": 18580,
    "start_time": "2024-11-24T18:26:05.720Z"
   },
   {
    "duration": 4,
    "start_time": "2024-11-24T18:26:24.302Z"
   },
   {
    "duration": 10470,
    "start_time": "2024-11-24T18:26:24.308Z"
   },
   {
    "duration": 40,
    "start_time": "2024-11-24T18:26:34.781Z"
   },
   {
    "duration": 6251,
    "start_time": "2024-11-24T18:26:34.823Z"
   },
   {
    "duration": 1602,
    "start_time": "2024-11-24T18:26:41.076Z"
   },
   {
    "duration": 1446,
    "start_time": "2024-11-24T18:26:42.684Z"
   },
   {
    "duration": 877,
    "start_time": "2024-11-24T18:26:44.132Z"
   },
   {
    "duration": 1465,
    "start_time": "2024-11-24T18:26:45.010Z"
   },
   {
    "duration": 4,
    "start_time": "2024-11-24T18:26:46.481Z"
   },
   {
    "duration": 1579,
    "start_time": "2024-11-24T18:26:46.487Z"
   },
   {
    "duration": 452,
    "start_time": "2024-11-24T18:26:48.068Z"
   },
   {
    "duration": 158,
    "start_time": "2024-11-24T18:26:48.524Z"
   },
   {
    "duration": 39,
    "start_time": "2024-11-24T18:26:48.683Z"
   },
   {
    "duration": 1696,
    "start_time": "2024-11-24T18:26:48.724Z"
   },
   {
    "duration": 5522,
    "start_time": "2024-11-24T18:26:50.466Z"
   },
   {
    "duration": 45,
    "start_time": "2024-11-24T18:26:55.990Z"
   },
   {
    "duration": 3868,
    "start_time": "2024-11-24T18:26:56.038Z"
   },
   {
    "duration": 464,
    "start_time": "2024-11-24T18:26:59.908Z"
   },
   {
    "duration": 0,
    "start_time": "2024-11-24T18:27:00.375Z"
   },
   {
    "duration": 0,
    "start_time": "2024-11-24T18:27:00.377Z"
   },
   {
    "duration": 0,
    "start_time": "2024-11-24T18:27:00.387Z"
   },
   {
    "duration": 0,
    "start_time": "2024-11-24T18:27:00.389Z"
   },
   {
    "duration": 0,
    "start_time": "2024-11-24T18:27:00.391Z"
   },
   {
    "duration": 0,
    "start_time": "2024-11-24T18:27:00.392Z"
   },
   {
    "duration": 0,
    "start_time": "2024-11-24T18:27:00.394Z"
   },
   {
    "duration": 0,
    "start_time": "2024-11-24T18:27:00.398Z"
   },
   {
    "duration": 0,
    "start_time": "2024-11-24T18:27:00.400Z"
   },
   {
    "duration": 1,
    "start_time": "2024-11-24T18:27:00.401Z"
   },
   {
    "duration": 588,
    "start_time": "2024-11-24T18:27:38.753Z"
   },
   {
    "duration": 18066,
    "start_time": "2024-11-24T18:27:39.344Z"
   },
   {
    "duration": 10,
    "start_time": "2024-11-24T18:27:57.412Z"
   },
   {
    "duration": 11529,
    "start_time": "2024-11-24T18:27:57.465Z"
   },
   {
    "duration": 25,
    "start_time": "2024-11-24T18:28:09.000Z"
   },
   {
    "duration": 6247,
    "start_time": "2024-11-24T18:28:09.027Z"
   },
   {
    "duration": 1744,
    "start_time": "2024-11-24T18:28:15.276Z"
   },
   {
    "duration": 1532,
    "start_time": "2024-11-24T18:28:17.070Z"
   },
   {
    "duration": 1166,
    "start_time": "2024-11-24T18:28:18.610Z"
   },
   {
    "duration": 1793,
    "start_time": "2024-11-24T18:28:19.778Z"
   },
   {
    "duration": 9,
    "start_time": "2024-11-24T18:28:21.579Z"
   },
   {
    "duration": 11,
    "start_time": "2024-11-24T18:28:21.597Z"
   },
   {
    "duration": 2,
    "start_time": "2024-11-24T18:28:21.611Z"
   },
   {
    "duration": 2,
    "start_time": "2024-11-24T18:28:21.616Z"
   },
   {
    "duration": 2,
    "start_time": "2024-11-24T18:28:21.620Z"
   },
   {
    "duration": 4,
    "start_time": "2024-11-24T18:28:21.623Z"
   },
   {
    "duration": 386,
    "start_time": "2024-11-24T18:28:21.629Z"
   },
   {
    "duration": 404,
    "start_time": "2024-11-24T18:28:22.017Z"
   },
   {
    "duration": 0,
    "start_time": "2024-11-24T18:28:22.426Z"
   },
   {
    "duration": 0,
    "start_time": "2024-11-24T18:28:22.429Z"
   },
   {
    "duration": 0,
    "start_time": "2024-11-24T18:28:22.432Z"
   },
   {
    "duration": 0,
    "start_time": "2024-11-24T18:28:22.434Z"
   },
   {
    "duration": 0,
    "start_time": "2024-11-24T18:28:22.435Z"
   },
   {
    "duration": 0,
    "start_time": "2024-11-24T18:28:22.437Z"
   },
   {
    "duration": 0,
    "start_time": "2024-11-24T18:28:22.438Z"
   },
   {
    "duration": 0,
    "start_time": "2024-11-24T18:28:22.440Z"
   },
   {
    "duration": 0,
    "start_time": "2024-11-24T18:28:22.441Z"
   },
   {
    "duration": 0,
    "start_time": "2024-11-24T18:28:22.442Z"
   },
   {
    "duration": 0,
    "start_time": "2024-11-24T18:28:22.443Z"
   },
   {
    "duration": 7,
    "start_time": "2024-11-24T18:28:36.772Z"
   },
   {
    "duration": 1951,
    "start_time": "2024-11-24T18:28:37.565Z"
   },
   {
    "duration": 152,
    "start_time": "2024-11-24T18:28:40.749Z"
   },
   {
    "duration": 145,
    "start_time": "2024-11-24T18:29:00.876Z"
   },
   {
    "duration": 109,
    "start_time": "2024-11-24T18:29:08.489Z"
   },
   {
    "duration": 1660,
    "start_time": "2024-11-24T18:30:44.667Z"
   },
   {
    "duration": 60,
    "start_time": "2024-11-24T18:32:02.354Z"
   },
   {
    "duration": 495,
    "start_time": "2024-11-24T18:32:19.299Z"
   },
   {
    "duration": 18214,
    "start_time": "2024-11-24T18:32:19.800Z"
   },
   {
    "duration": 62,
    "start_time": "2024-11-24T18:32:38.017Z"
   },
   {
    "duration": 10533,
    "start_time": "2024-11-24T18:32:38.081Z"
   },
   {
    "duration": 86,
    "start_time": "2024-11-24T18:32:48.621Z"
   },
   {
    "duration": 6612,
    "start_time": "2024-11-24T18:32:48.709Z"
   },
   {
    "duration": 1767,
    "start_time": "2024-11-24T18:32:55.323Z"
   },
   {
    "duration": 2195,
    "start_time": "2024-11-24T18:32:57.092Z"
   },
   {
    "duration": 1083,
    "start_time": "2024-11-24T18:32:59.289Z"
   },
   {
    "duration": 1610,
    "start_time": "2024-11-24T18:33:00.375Z"
   },
   {
    "duration": 5,
    "start_time": "2024-11-24T18:33:01.987Z"
   },
   {
    "duration": 23,
    "start_time": "2024-11-24T18:33:02.001Z"
   },
   {
    "duration": 30,
    "start_time": "2024-11-24T18:33:02.028Z"
   },
   {
    "duration": 23,
    "start_time": "2024-11-24T18:33:02.063Z"
   },
   {
    "duration": 7,
    "start_time": "2024-11-24T18:33:02.090Z"
   },
   {
    "duration": 23,
    "start_time": "2024-11-24T18:33:02.099Z"
   },
   {
    "duration": 366,
    "start_time": "2024-11-24T18:33:02.124Z"
   },
   {
    "duration": 9,
    "start_time": "2024-11-24T18:33:02.492Z"
   },
   {
    "duration": 1863,
    "start_time": "2024-11-24T18:33:02.505Z"
   },
   {
    "duration": 1803,
    "start_time": "2024-11-24T18:33:04.369Z"
   },
   {
    "duration": 11,
    "start_time": "2024-11-24T18:33:06.174Z"
   },
   {
    "duration": 528,
    "start_time": "2024-11-24T18:33:06.186Z"
   },
   {
    "duration": 0,
    "start_time": "2024-11-24T18:33:06.716Z"
   },
   {
    "duration": 0,
    "start_time": "2024-11-24T18:33:06.717Z"
   },
   {
    "duration": 0,
    "start_time": "2024-11-24T18:33:06.719Z"
   },
   {
    "duration": 0,
    "start_time": "2024-11-24T18:33:06.720Z"
   },
   {
    "duration": 0,
    "start_time": "2024-11-24T18:33:06.721Z"
   },
   {
    "duration": 0,
    "start_time": "2024-11-24T18:33:06.723Z"
   },
   {
    "duration": 0,
    "start_time": "2024-11-24T18:33:06.723Z"
   },
   {
    "duration": 116,
    "start_time": "2024-11-24T18:34:04.303Z"
   },
   {
    "duration": 504,
    "start_time": "2024-11-24T18:34:17.983Z"
   },
   {
    "duration": 16823,
    "start_time": "2024-11-24T18:34:18.489Z"
   },
   {
    "duration": 4,
    "start_time": "2024-11-24T18:34:35.314Z"
   },
   {
    "duration": 10144,
    "start_time": "2024-11-24T18:34:35.367Z"
   },
   {
    "duration": 103,
    "start_time": "2024-11-24T18:34:45.516Z"
   },
   {
    "duration": 6094,
    "start_time": "2024-11-24T18:34:45.620Z"
   },
   {
    "duration": 1793,
    "start_time": "2024-11-24T18:34:51.716Z"
   },
   {
    "duration": 1962,
    "start_time": "2024-11-24T18:34:53.519Z"
   },
   {
    "duration": 1182,
    "start_time": "2024-11-24T18:34:55.483Z"
   },
   {
    "duration": 2019,
    "start_time": "2024-11-24T18:34:56.667Z"
   },
   {
    "duration": 16,
    "start_time": "2024-11-24T18:34:58.690Z"
   },
   {
    "duration": 5,
    "start_time": "2024-11-24T18:34:58.715Z"
   },
   {
    "duration": 54,
    "start_time": "2024-11-24T18:34:58.722Z"
   },
   {
    "duration": 27,
    "start_time": "2024-11-24T18:34:58.781Z"
   },
   {
    "duration": 5,
    "start_time": "2024-11-24T18:34:58.810Z"
   },
   {
    "duration": 3,
    "start_time": "2024-11-24T18:34:58.817Z"
   },
   {
    "duration": 481,
    "start_time": "2024-11-24T18:34:58.821Z"
   },
   {
    "duration": 3,
    "start_time": "2024-11-24T18:34:59.304Z"
   },
   {
    "duration": 1984,
    "start_time": "2024-11-24T18:34:59.308Z"
   },
   {
    "duration": 2217,
    "start_time": "2024-11-24T18:35:01.293Z"
   },
   {
    "duration": 0,
    "start_time": "2024-11-24T18:35:03.512Z"
   },
   {
    "duration": 0,
    "start_time": "2024-11-24T18:35:03.514Z"
   },
   {
    "duration": 0,
    "start_time": "2024-11-24T18:35:03.515Z"
   },
   {
    "duration": 0,
    "start_time": "2024-11-24T18:35:03.516Z"
   },
   {
    "duration": 0,
    "start_time": "2024-11-24T18:35:03.517Z"
   },
   {
    "duration": 0,
    "start_time": "2024-11-24T18:35:03.518Z"
   },
   {
    "duration": 0,
    "start_time": "2024-11-24T18:35:03.520Z"
   },
   {
    "duration": 0,
    "start_time": "2024-11-24T18:35:03.521Z"
   },
   {
    "duration": 0,
    "start_time": "2024-11-24T18:35:03.522Z"
   },
   {
    "duration": 149,
    "start_time": "2024-11-24T18:35:28.868Z"
   },
   {
    "duration": 3,
    "start_time": "2024-11-24T18:35:40.843Z"
   },
   {
    "duration": 837,
    "start_time": "2024-11-24T18:35:41.345Z"
   },
   {
    "duration": 10,
    "start_time": "2024-11-24T18:35:42.184Z"
   },
   {
    "duration": 1723,
    "start_time": "2024-11-24T18:35:42.197Z"
   },
   {
    "duration": 833,
    "start_time": "2024-11-24T18:35:43.966Z"
   },
   {
    "duration": 1252,
    "start_time": "2024-11-24T18:35:44.803Z"
   },
   {
    "duration": 363,
    "start_time": "2024-11-24T18:35:46.070Z"
   },
   {
    "duration": 1184,
    "start_time": "2024-11-24T18:35:46.435Z"
   },
   {
    "duration": 4,
    "start_time": "2024-11-24T18:35:47.620Z"
   },
   {
    "duration": 11,
    "start_time": "2024-11-24T18:35:47.625Z"
   },
   {
    "duration": 6,
    "start_time": "2024-11-24T18:35:47.638Z"
   },
   {
    "duration": 3,
    "start_time": "2024-11-24T18:35:47.645Z"
   },
   {
    "duration": 3,
    "start_time": "2024-11-24T18:35:47.650Z"
   },
   {
    "duration": 28,
    "start_time": "2024-11-24T18:35:47.654Z"
   },
   {
    "duration": 210,
    "start_time": "2024-11-24T18:35:47.695Z"
   },
   {
    "duration": 3,
    "start_time": "2024-11-24T18:35:47.906Z"
   },
   {
    "duration": 1122,
    "start_time": "2024-11-24T18:35:47.912Z"
   },
   {
    "duration": 754,
    "start_time": "2024-11-24T18:35:49.065Z"
   },
   {
    "duration": 0,
    "start_time": "2024-11-24T18:35:49.822Z"
   },
   {
    "duration": 0,
    "start_time": "2024-11-24T18:35:49.823Z"
   },
   {
    "duration": 0,
    "start_time": "2024-11-24T18:35:49.824Z"
   },
   {
    "duration": 0,
    "start_time": "2024-11-24T18:35:49.825Z"
   },
   {
    "duration": 0,
    "start_time": "2024-11-24T18:35:49.826Z"
   },
   {
    "duration": 0,
    "start_time": "2024-11-24T18:35:49.827Z"
   },
   {
    "duration": 0,
    "start_time": "2024-11-24T18:35:49.829Z"
   },
   {
    "duration": 0,
    "start_time": "2024-11-24T18:35:49.831Z"
   },
   {
    "duration": 18,
    "start_time": "2024-11-24T18:36:05.440Z"
   },
   {
    "duration": 19,
    "start_time": "2024-11-24T18:36:21.703Z"
   },
   {
    "duration": 496,
    "start_time": "2024-11-24T18:36:30.997Z"
   },
   {
    "duration": 17288,
    "start_time": "2024-11-24T18:36:31.502Z"
   },
   {
    "duration": 13,
    "start_time": "2024-11-24T18:36:48.792Z"
   },
   {
    "duration": 11262,
    "start_time": "2024-11-24T18:36:48.808Z"
   },
   {
    "duration": 30,
    "start_time": "2024-11-24T18:37:00.087Z"
   },
   {
    "duration": 6243,
    "start_time": "2024-11-24T18:37:00.165Z"
   },
   {
    "duration": 2074,
    "start_time": "2024-11-24T18:37:06.410Z"
   },
   {
    "duration": 1213,
    "start_time": "2024-11-24T18:37:08.491Z"
   },
   {
    "duration": 715,
    "start_time": "2024-11-24T18:37:09.708Z"
   },
   {
    "duration": 1664,
    "start_time": "2024-11-24T18:37:10.477Z"
   },
   {
    "duration": 3,
    "start_time": "2024-11-24T18:37:12.142Z"
   },
   {
    "duration": 29,
    "start_time": "2024-11-24T18:37:12.147Z"
   },
   {
    "duration": 8,
    "start_time": "2024-11-24T18:37:12.186Z"
   },
   {
    "duration": 13,
    "start_time": "2024-11-24T18:37:12.197Z"
   },
   {
    "duration": 6,
    "start_time": "2024-11-24T18:37:12.212Z"
   },
   {
    "duration": 4,
    "start_time": "2024-11-24T18:37:12.220Z"
   },
   {
    "duration": 370,
    "start_time": "2024-11-24T18:37:12.226Z"
   },
   {
    "duration": 2,
    "start_time": "2024-11-24T18:37:12.598Z"
   },
   {
    "duration": 2066,
    "start_time": "2024-11-24T18:37:12.601Z"
   },
   {
    "duration": 2147,
    "start_time": "2024-11-24T18:37:14.674Z"
   },
   {
    "duration": 0,
    "start_time": "2024-11-24T18:37:16.824Z"
   },
   {
    "duration": 0,
    "start_time": "2024-11-24T18:37:16.868Z"
   },
   {
    "duration": 0,
    "start_time": "2024-11-24T18:37:16.869Z"
   },
   {
    "duration": 0,
    "start_time": "2024-11-24T18:37:16.870Z"
   },
   {
    "duration": 0,
    "start_time": "2024-11-24T18:37:16.871Z"
   },
   {
    "duration": 0,
    "start_time": "2024-11-24T18:37:16.872Z"
   },
   {
    "duration": 0,
    "start_time": "2024-11-24T18:37:16.873Z"
   },
   {
    "duration": 0,
    "start_time": "2024-11-24T18:37:16.875Z"
   },
   {
    "duration": 0,
    "start_time": "2024-11-24T18:37:16.876Z"
   },
   {
    "duration": 2,
    "start_time": "2024-11-24T18:38:23.727Z"
   },
   {
    "duration": 673,
    "start_time": "2024-11-24T18:38:24.239Z"
   },
   {
    "duration": 63,
    "start_time": "2024-11-24T18:38:24.913Z"
   },
   {
    "duration": 1893,
    "start_time": "2024-11-24T18:38:24.979Z"
   },
   {
    "duration": 475,
    "start_time": "2024-11-24T18:38:26.874Z"
   },
   {
    "duration": 893,
    "start_time": "2024-11-24T18:38:27.351Z"
   },
   {
    "duration": 345,
    "start_time": "2024-11-24T18:38:28.246Z"
   },
   {
    "duration": 947,
    "start_time": "2024-11-24T18:38:28.592Z"
   },
   {
    "duration": 3,
    "start_time": "2024-11-24T18:38:29.541Z"
   },
   {
    "duration": 17,
    "start_time": "2024-11-24T18:38:29.545Z"
   },
   {
    "duration": 41,
    "start_time": "2024-11-24T18:38:29.564Z"
   },
   {
    "duration": 24,
    "start_time": "2024-11-24T18:38:29.606Z"
   },
   {
    "duration": 24,
    "start_time": "2024-11-24T18:38:29.632Z"
   },
   {
    "duration": 30,
    "start_time": "2024-11-24T18:38:29.658Z"
   },
   {
    "duration": 242,
    "start_time": "2024-11-24T18:38:29.690Z"
   },
   {
    "duration": 32,
    "start_time": "2024-11-24T18:38:29.934Z"
   },
   {
    "duration": 1161,
    "start_time": "2024-11-24T18:38:29.968Z"
   },
   {
    "duration": 715,
    "start_time": "2024-11-24T18:38:31.167Z"
   },
   {
    "duration": 0,
    "start_time": "2024-11-24T18:38:31.885Z"
   },
   {
    "duration": 0,
    "start_time": "2024-11-24T18:38:31.886Z"
   },
   {
    "duration": 148,
    "start_time": "2024-11-24T18:38:55.466Z"
   },
   {
    "duration": 2,
    "start_time": "2024-11-24T18:39:06.442Z"
   },
   {
    "duration": 473,
    "start_time": "2024-11-24T18:39:06.950Z"
   },
   {
    "duration": 5,
    "start_time": "2024-11-24T18:39:07.425Z"
   },
   {
    "duration": 1674,
    "start_time": "2024-11-24T18:39:07.432Z"
   },
   {
    "duration": 538,
    "start_time": "2024-11-24T18:39:09.108Z"
   },
   {
    "duration": 907,
    "start_time": "2024-11-24T18:39:09.648Z"
   },
   {
    "duration": 277,
    "start_time": "2024-11-24T18:39:10.556Z"
   },
   {
    "duration": 862,
    "start_time": "2024-11-24T18:39:10.836Z"
   },
   {
    "duration": 8,
    "start_time": "2024-11-24T18:39:11.700Z"
   },
   {
    "duration": 3,
    "start_time": "2024-11-24T18:39:11.713Z"
   },
   {
    "duration": 4,
    "start_time": "2024-11-24T18:39:11.720Z"
   },
   {
    "duration": 5,
    "start_time": "2024-11-24T18:39:11.726Z"
   },
   {
    "duration": 4,
    "start_time": "2024-11-24T18:39:11.733Z"
   },
   {
    "duration": 5,
    "start_time": "2024-11-24T18:39:11.739Z"
   },
   {
    "duration": 242,
    "start_time": "2024-11-24T18:39:11.746Z"
   },
   {
    "duration": 8,
    "start_time": "2024-11-24T18:39:11.989Z"
   },
   {
    "duration": 809,
    "start_time": "2024-11-24T18:39:11.998Z"
   },
   {
    "duration": 683,
    "start_time": "2024-11-24T18:39:12.808Z"
   },
   {
    "duration": 0,
    "start_time": "2024-11-24T18:39:13.492Z"
   },
   {
    "duration": 0,
    "start_time": "2024-11-24T18:39:13.494Z"
   },
   {
    "duration": 0,
    "start_time": "2024-11-24T18:39:13.499Z"
   },
   {
    "duration": 0,
    "start_time": "2024-11-24T18:39:13.500Z"
   },
   {
    "duration": 0,
    "start_time": "2024-11-24T18:39:13.501Z"
   },
   {
    "duration": 0,
    "start_time": "2024-11-24T18:39:13.502Z"
   },
   {
    "duration": 25,
    "start_time": "2024-11-24T18:44:37.079Z"
   },
   {
    "duration": 101,
    "start_time": "2024-11-24T18:44:44.422Z"
   },
   {
    "duration": 117,
    "start_time": "2024-11-24T18:45:31.367Z"
   },
   {
    "duration": 5,
    "start_time": "2024-11-24T18:45:42.985Z"
   },
   {
    "duration": 433,
    "start_time": "2024-11-24T18:45:43.488Z"
   },
   {
    "duration": 4,
    "start_time": "2024-11-24T18:45:43.923Z"
   },
   {
    "duration": 1079,
    "start_time": "2024-11-24T18:45:43.928Z"
   },
   {
    "duration": 609,
    "start_time": "2024-11-24T18:45:45.010Z"
   },
   {
    "duration": 801,
    "start_time": "2024-11-24T18:45:45.621Z"
   },
   {
    "duration": 212,
    "start_time": "2024-11-24T18:45:46.424Z"
   },
   {
    "duration": 708,
    "start_time": "2024-11-24T18:45:46.672Z"
   },
   {
    "duration": 9,
    "start_time": "2024-11-24T18:45:47.383Z"
   },
   {
    "duration": 8,
    "start_time": "2024-11-24T18:45:47.394Z"
   },
   {
    "duration": 3,
    "start_time": "2024-11-24T18:45:47.404Z"
   },
   {
    "duration": 3,
    "start_time": "2024-11-24T18:45:47.408Z"
   },
   {
    "duration": 3,
    "start_time": "2024-11-24T18:45:47.413Z"
   },
   {
    "duration": 3,
    "start_time": "2024-11-24T18:45:47.418Z"
   },
   {
    "duration": 280,
    "start_time": "2024-11-24T18:45:47.423Z"
   },
   {
    "duration": 3,
    "start_time": "2024-11-24T18:45:47.705Z"
   },
   {
    "duration": 701,
    "start_time": "2024-11-24T18:45:47.710Z"
   },
   {
    "duration": 681,
    "start_time": "2024-11-24T18:45:48.413Z"
   },
   {
    "duration": 0,
    "start_time": "2024-11-24T18:45:49.103Z"
   },
   {
    "duration": 107,
    "start_time": "2024-11-24T18:46:17.211Z"
   },
   {
    "duration": 2,
    "start_time": "2024-11-24T18:46:24.796Z"
   },
   {
    "duration": 888,
    "start_time": "2024-11-24T18:46:25.300Z"
   },
   {
    "duration": 5,
    "start_time": "2024-11-24T18:46:26.190Z"
   },
   {
    "duration": 886,
    "start_time": "2024-11-24T18:46:26.197Z"
   },
   {
    "duration": 721,
    "start_time": "2024-11-24T18:46:27.085Z"
   },
   {
    "duration": 601,
    "start_time": "2024-11-24T18:46:27.807Z"
   },
   {
    "duration": 192,
    "start_time": "2024-11-24T18:46:28.410Z"
   },
   {
    "duration": 852,
    "start_time": "2024-11-24T18:46:28.604Z"
   },
   {
    "duration": 9,
    "start_time": "2024-11-24T18:46:29.458Z"
   },
   {
    "duration": 3,
    "start_time": "2024-11-24T18:46:29.483Z"
   },
   {
    "duration": 9,
    "start_time": "2024-11-24T18:46:29.489Z"
   },
   {
    "duration": 5,
    "start_time": "2024-11-24T18:46:29.499Z"
   },
   {
    "duration": 4,
    "start_time": "2024-11-24T18:46:29.505Z"
   },
   {
    "duration": 3,
    "start_time": "2024-11-24T18:46:29.510Z"
   },
   {
    "duration": 204,
    "start_time": "2024-11-24T18:46:29.515Z"
   },
   {
    "duration": 3,
    "start_time": "2024-11-24T18:46:29.721Z"
   },
   {
    "duration": 676,
    "start_time": "2024-11-24T18:46:29.726Z"
   },
   {
    "duration": 562,
    "start_time": "2024-11-24T18:46:30.404Z"
   },
   {
    "duration": 20,
    "start_time": "2024-11-24T18:46:30.969Z"
   },
   {
    "duration": 220,
    "start_time": "2024-11-24T18:46:30.991Z"
   },
   {
    "duration": 7,
    "start_time": "2024-11-24T18:47:15.926Z"
   },
   {
    "duration": 28,
    "start_time": "2024-11-24T18:49:30.065Z"
   },
   {
    "duration": 3,
    "start_time": "2024-11-24T18:49:58.227Z"
   },
   {
    "duration": 441,
    "start_time": "2024-11-24T18:49:58.740Z"
   },
   {
    "duration": 7,
    "start_time": "2024-11-24T18:49:59.183Z"
   },
   {
    "duration": 888,
    "start_time": "2024-11-24T18:49:59.194Z"
   },
   {
    "duration": 445,
    "start_time": "2024-11-24T18:50:00.084Z"
   },
   {
    "duration": 715,
    "start_time": "2024-11-24T18:50:00.530Z"
   },
   {
    "duration": 245,
    "start_time": "2024-11-24T18:50:01.247Z"
   },
   {
    "duration": 780,
    "start_time": "2024-11-24T18:50:01.494Z"
   },
   {
    "duration": 3,
    "start_time": "2024-11-24T18:50:02.277Z"
   },
   {
    "duration": 15,
    "start_time": "2024-11-24T18:50:02.283Z"
   },
   {
    "duration": 33,
    "start_time": "2024-11-24T18:50:02.300Z"
   },
   {
    "duration": 4,
    "start_time": "2024-11-24T18:50:02.334Z"
   },
   {
    "duration": 38,
    "start_time": "2024-11-24T18:50:02.339Z"
   },
   {
    "duration": 3,
    "start_time": "2024-11-24T18:50:02.385Z"
   },
   {
    "duration": 149,
    "start_time": "2024-11-24T18:50:02.392Z"
   },
   {
    "duration": 2,
    "start_time": "2024-11-24T18:50:02.543Z"
   },
   {
    "duration": 724,
    "start_time": "2024-11-24T18:50:02.547Z"
   },
   {
    "duration": 603,
    "start_time": "2024-11-24T18:50:03.273Z"
   },
   {
    "duration": 28,
    "start_time": "2024-11-24T18:50:03.877Z"
   },
   {
    "duration": 342,
    "start_time": "2024-11-24T18:50:41.760Z"
   },
   {
    "duration": 101,
    "start_time": "2024-11-24T18:51:25.765Z"
   },
   {
    "duration": 119,
    "start_time": "2024-11-24T18:51:29.278Z"
   },
   {
    "duration": 95,
    "start_time": "2024-11-24T18:51:31.435Z"
   },
   {
    "duration": 2,
    "start_time": "2024-11-24T18:51:36.516Z"
   },
   {
    "duration": 322,
    "start_time": "2024-11-24T18:51:37.022Z"
   },
   {
    "duration": 3,
    "start_time": "2024-11-24T18:51:37.346Z"
   },
   {
    "duration": 729,
    "start_time": "2024-11-24T18:51:37.351Z"
   },
   {
    "duration": 473,
    "start_time": "2024-11-24T18:51:38.082Z"
   },
   {
    "duration": 766,
    "start_time": "2024-11-24T18:51:38.556Z"
   },
   {
    "duration": 189,
    "start_time": "2024-11-24T18:51:39.324Z"
   },
   {
    "duration": 756,
    "start_time": "2024-11-24T18:51:39.514Z"
   },
   {
    "duration": 7,
    "start_time": "2024-11-24T18:51:40.272Z"
   },
   {
    "duration": 8,
    "start_time": "2024-11-24T18:51:40.281Z"
   },
   {
    "duration": 5,
    "start_time": "2024-11-24T18:51:40.292Z"
   },
   {
    "duration": 4,
    "start_time": "2024-11-24T18:51:40.299Z"
   },
   {
    "duration": 3,
    "start_time": "2024-11-24T18:51:40.305Z"
   },
   {
    "duration": 6,
    "start_time": "2024-11-24T18:51:40.310Z"
   },
   {
    "duration": 137,
    "start_time": "2024-11-24T18:51:40.317Z"
   },
   {
    "duration": 3,
    "start_time": "2024-11-24T18:51:40.455Z"
   },
   {
    "duration": 627,
    "start_time": "2024-11-24T18:51:40.460Z"
   },
   {
    "duration": 512,
    "start_time": "2024-11-24T18:51:41.088Z"
   },
   {
    "duration": 172,
    "start_time": "2024-11-24T18:51:41.602Z"
   },
   {
    "duration": 38,
    "start_time": "2024-11-24T18:51:41.776Z"
   },
   {
    "duration": 3,
    "start_time": "2024-11-24T18:51:50.465Z"
   },
   {
    "duration": 346,
    "start_time": "2024-11-24T18:51:50.979Z"
   },
   {
    "duration": 4,
    "start_time": "2024-11-24T18:51:51.327Z"
   },
   {
    "duration": 858,
    "start_time": "2024-11-24T18:51:51.333Z"
   },
   {
    "duration": 487,
    "start_time": "2024-11-24T18:51:52.193Z"
   },
   {
    "duration": 635,
    "start_time": "2024-11-24T18:51:52.681Z"
   },
   {
    "duration": 188,
    "start_time": "2024-11-24T18:51:53.318Z"
   },
   {
    "duration": 688,
    "start_time": "2024-11-24T18:51:53.508Z"
   },
   {
    "duration": 3,
    "start_time": "2024-11-24T18:51:54.198Z"
   },
   {
    "duration": 5,
    "start_time": "2024-11-24T18:51:54.203Z"
   },
   {
    "duration": 3,
    "start_time": "2024-11-24T18:51:54.211Z"
   },
   {
    "duration": 5,
    "start_time": "2024-11-24T18:51:54.215Z"
   },
   {
    "duration": 3,
    "start_time": "2024-11-24T18:51:54.221Z"
   },
   {
    "duration": 5,
    "start_time": "2024-11-24T18:51:54.225Z"
   },
   {
    "duration": 176,
    "start_time": "2024-11-24T18:51:54.232Z"
   },
   {
    "duration": 2,
    "start_time": "2024-11-24T18:51:54.411Z"
   },
   {
    "duration": 891,
    "start_time": "2024-11-24T18:51:54.415Z"
   },
   {
    "duration": 766,
    "start_time": "2024-11-24T18:51:55.308Z"
   },
   {
    "duration": 122,
    "start_time": "2024-11-24T18:51:56.075Z"
   },
   {
    "duration": 89,
    "start_time": "2024-11-24T18:51:56.203Z"
   },
   {
    "duration": 51,
    "start_time": "2024-11-24T18:52:35.143Z"
   },
   {
    "duration": 16,
    "start_time": "2024-11-24T18:53:45.088Z"
   },
   {
    "duration": 1569,
    "start_time": "2024-11-24T18:53:56.121Z"
   },
   {
    "duration": 190,
    "start_time": "2024-11-24T18:54:12.079Z"
   },
   {
    "duration": 809,
    "start_time": "2024-11-24T18:54:21.290Z"
   },
   {
    "duration": 541,
    "start_time": "2024-11-24T18:54:34.875Z"
   },
   {
    "duration": 17168,
    "start_time": "2024-11-24T18:54:35.418Z"
   },
   {
    "duration": 5,
    "start_time": "2024-11-24T18:54:52.588Z"
   },
   {
    "duration": 10876,
    "start_time": "2024-11-24T18:54:52.596Z"
   },
   {
    "duration": 27,
    "start_time": "2024-11-24T18:55:03.473Z"
   },
   {
    "duration": 6096,
    "start_time": "2024-11-24T18:55:03.502Z"
   },
   {
    "duration": 1692,
    "start_time": "2024-11-24T18:55:09.600Z"
   },
   {
    "duration": 1887,
    "start_time": "2024-11-24T18:55:11.294Z"
   },
   {
    "duration": 988,
    "start_time": "2024-11-24T18:55:13.189Z"
   },
   {
    "duration": 1702,
    "start_time": "2024-11-24T18:55:14.180Z"
   },
   {
    "duration": 4,
    "start_time": "2024-11-24T18:55:15.892Z"
   },
   {
    "duration": 21,
    "start_time": "2024-11-24T18:55:15.898Z"
   },
   {
    "duration": 15,
    "start_time": "2024-11-24T18:55:15.920Z"
   },
   {
    "duration": 3,
    "start_time": "2024-11-24T18:55:15.936Z"
   },
   {
    "duration": 4,
    "start_time": "2024-11-24T18:55:15.941Z"
   },
   {
    "duration": 7,
    "start_time": "2024-11-24T18:55:15.947Z"
   },
   {
    "duration": 339,
    "start_time": "2024-11-24T18:55:15.956Z"
   },
   {
    "duration": 3,
    "start_time": "2024-11-24T18:55:16.296Z"
   },
   {
    "duration": 2087,
    "start_time": "2024-11-24T18:55:16.301Z"
   },
   {
    "duration": 2006,
    "start_time": "2024-11-24T18:55:18.391Z"
   },
   {
    "duration": 422,
    "start_time": "2024-11-24T18:55:20.398Z"
   },
   {
    "duration": 175,
    "start_time": "2024-11-24T18:55:20.822Z"
   },
   {
    "duration": 116,
    "start_time": "2024-11-24T18:55:20.999Z"
   },
   {
    "duration": 1748,
    "start_time": "2024-11-24T18:55:21.117Z"
   },
   {
    "duration": 439,
    "start_time": "2024-11-24T18:55:22.867Z"
   },
   {
    "duration": 0,
    "start_time": "2024-11-24T18:55:23.370Z"
   },
   {
    "duration": 0,
    "start_time": "2024-11-24T18:55:23.371Z"
   },
   {
    "duration": 0,
    "start_time": "2024-11-24T18:55:23.372Z"
   },
   {
    "duration": 0,
    "start_time": "2024-11-24T18:55:23.373Z"
   },
   {
    "duration": 0,
    "start_time": "2024-11-24T18:55:23.374Z"
   },
   {
    "duration": 0,
    "start_time": "2024-11-24T18:55:23.375Z"
   },
   {
    "duration": 0,
    "start_time": "2024-11-24T18:55:23.377Z"
   },
   {
    "duration": 64,
    "start_time": "2024-11-24T18:56:54.486Z"
   },
   {
    "duration": 56,
    "start_time": "2024-11-24T18:57:00.862Z"
   },
   {
    "duration": 528,
    "start_time": "2024-11-24T18:57:05.059Z"
   },
   {
    "duration": 16913,
    "start_time": "2024-11-24T18:57:05.589Z"
   },
   {
    "duration": 4,
    "start_time": "2024-11-24T18:57:22.504Z"
   },
   {
    "duration": 9860,
    "start_time": "2024-11-24T18:57:22.509Z"
   },
   {
    "duration": 25,
    "start_time": "2024-11-24T18:57:32.381Z"
   },
   {
    "duration": 5552,
    "start_time": "2024-11-24T18:57:32.465Z"
   },
   {
    "duration": 1848,
    "start_time": "2024-11-24T18:57:38.018Z"
   },
   {
    "duration": 1908,
    "start_time": "2024-11-24T18:57:39.874Z"
   },
   {
    "duration": 1101,
    "start_time": "2024-11-24T18:57:41.789Z"
   },
   {
    "duration": 1897,
    "start_time": "2024-11-24T18:57:42.892Z"
   },
   {
    "duration": 3,
    "start_time": "2024-11-24T18:57:44.792Z"
   },
   {
    "duration": 6,
    "start_time": "2024-11-24T18:57:44.797Z"
   },
   {
    "duration": 4,
    "start_time": "2024-11-24T18:57:44.804Z"
   },
   {
    "duration": 1,
    "start_time": "2024-11-24T18:57:44.811Z"
   },
   {
    "duration": 3,
    "start_time": "2024-11-24T18:57:44.814Z"
   },
   {
    "duration": 3,
    "start_time": "2024-11-24T18:57:44.819Z"
   },
   {
    "duration": 314,
    "start_time": "2024-11-24T18:57:44.824Z"
   },
   {
    "duration": 10,
    "start_time": "2024-11-24T18:57:45.166Z"
   },
   {
    "duration": 2222,
    "start_time": "2024-11-24T18:57:45.177Z"
   },
   {
    "duration": 1996,
    "start_time": "2024-11-24T18:57:47.402Z"
   },
   {
    "duration": 401,
    "start_time": "2024-11-24T18:57:49.400Z"
   },
   {
    "duration": 184,
    "start_time": "2024-11-24T18:57:49.804Z"
   },
   {
    "duration": 121,
    "start_time": "2024-11-24T18:57:49.989Z"
   },
   {
    "duration": 1667,
    "start_time": "2024-11-24T18:57:50.112Z"
   },
   {
    "duration": 135,
    "start_time": "2024-11-24T18:57:51.789Z"
   },
   {
    "duration": 4446,
    "start_time": "2024-11-24T18:57:51.926Z"
   },
   {
    "duration": 941,
    "start_time": "2024-11-24T18:57:56.380Z"
   },
   {
    "duration": 1941,
    "start_time": "2024-11-24T18:57:57.375Z"
   },
   {
    "duration": 48,
    "start_time": "2024-11-24T18:57:59.318Z"
   },
   {
    "duration": 2117,
    "start_time": "2024-11-24T18:57:59.368Z"
   },
   {
    "duration": 709,
    "start_time": "2024-11-24T18:58:01.487Z"
   },
   {
    "duration": 1980,
    "start_time": "2024-11-24T18:58:02.198Z"
   },
   {
    "duration": 223,
    "start_time": "2024-11-24T18:58:04.180Z"
   },
   {
    "duration": 506,
    "start_time": "2024-11-24T19:01:47.294Z"
   },
   {
    "duration": 17479,
    "start_time": "2024-11-24T19:01:47.803Z"
   },
   {
    "duration": 18,
    "start_time": "2024-11-24T19:02:05.284Z"
   },
   {
    "duration": 10507,
    "start_time": "2024-11-24T19:02:05.306Z"
   },
   {
    "duration": 34,
    "start_time": "2024-11-24T19:02:15.867Z"
   },
   {
    "duration": 6287,
    "start_time": "2024-11-24T19:02:15.903Z"
   },
   {
    "duration": 1904,
    "start_time": "2024-11-24T19:02:22.193Z"
   },
   {
    "duration": 1627,
    "start_time": "2024-11-24T19:02:24.099Z"
   },
   {
    "duration": 863,
    "start_time": "2024-11-24T19:02:25.728Z"
   },
   {
    "duration": 2074,
    "start_time": "2024-11-24T19:02:26.592Z"
   },
   {
    "duration": 9,
    "start_time": "2024-11-24T19:02:28.672Z"
   },
   {
    "duration": 2190,
    "start_time": "2024-11-24T19:02:28.683Z"
   },
   {
    "duration": 1737,
    "start_time": "2024-11-24T19:02:30.875Z"
   },
   {
    "duration": 348,
    "start_time": "2024-11-24T19:02:32.665Z"
   },
   {
    "duration": 188,
    "start_time": "2024-11-24T19:02:33.015Z"
   },
   {
    "duration": 104,
    "start_time": "2024-11-24T19:02:33.205Z"
   },
   {
    "duration": 1884,
    "start_time": "2024-11-24T19:02:33.311Z"
   },
   {
    "duration": 93,
    "start_time": "2024-11-24T19:02:35.197Z"
   },
   {
    "duration": 1012,
    "start_time": "2024-11-24T19:02:35.292Z"
   },
   {
    "duration": 4171,
    "start_time": "2024-11-24T19:02:36.305Z"
   },
   {
    "duration": 890,
    "start_time": "2024-11-24T19:02:40.483Z"
   },
   {
    "duration": 2217,
    "start_time": "2024-11-24T19:02:41.377Z"
   },
   {
    "duration": 3,
    "start_time": "2024-11-24T19:02:43.597Z"
   },
   {
    "duration": 2389,
    "start_time": "2024-11-24T19:02:43.601Z"
   },
   {
    "duration": 539,
    "start_time": "2024-11-24T19:02:45.992Z"
   },
   {
    "duration": 1578,
    "start_time": "2024-11-24T19:02:46.533Z"
   },
   {
    "duration": 666,
    "start_time": "2024-11-24T19:02:48.113Z"
   },
   {
    "duration": 275,
    "start_time": "2024-11-24T19:04:10.132Z"
   },
   {
    "duration": 212,
    "start_time": "2024-11-24T19:04:13.985Z"
   },
   {
    "duration": 219,
    "start_time": "2024-11-24T19:04:28.679Z"
   },
   {
    "duration": 15,
    "start_time": "2024-11-24T19:06:00.458Z"
   },
   {
    "duration": 13,
    "start_time": "2024-11-24T19:06:29.545Z"
   },
   {
    "duration": 19,
    "start_time": "2024-11-24T19:07:45.881Z"
   },
   {
    "duration": 9,
    "start_time": "2024-11-24T19:07:53.333Z"
   },
   {
    "duration": 9,
    "start_time": "2024-11-24T19:08:13.312Z"
   },
   {
    "duration": 531,
    "start_time": "2024-11-24T19:08:22.148Z"
   },
   {
    "duration": 17520,
    "start_time": "2024-11-24T19:08:22.685Z"
   },
   {
    "duration": 4,
    "start_time": "2024-11-24T19:08:40.207Z"
   },
   {
    "duration": 10405,
    "start_time": "2024-11-24T19:08:40.270Z"
   },
   {
    "duration": 39,
    "start_time": "2024-11-24T19:08:50.677Z"
   },
   {
    "duration": 6081,
    "start_time": "2024-11-24T19:08:50.719Z"
   },
   {
    "duration": 1773,
    "start_time": "2024-11-24T19:08:56.802Z"
   },
   {
    "duration": 170,
    "start_time": "2024-11-24T19:08:58.577Z"
   },
   {
    "duration": 0,
    "start_time": "2024-11-24T19:08:58.749Z"
   },
   {
    "duration": 0,
    "start_time": "2024-11-24T19:08:58.751Z"
   },
   {
    "duration": 0,
    "start_time": "2024-11-24T19:08:58.752Z"
   },
   {
    "duration": 0,
    "start_time": "2024-11-24T19:08:58.753Z"
   },
   {
    "duration": 0,
    "start_time": "2024-11-24T19:08:58.755Z"
   },
   {
    "duration": 0,
    "start_time": "2024-11-24T19:08:58.767Z"
   },
   {
    "duration": 0,
    "start_time": "2024-11-24T19:08:58.768Z"
   },
   {
    "duration": 0,
    "start_time": "2024-11-24T19:08:58.769Z"
   },
   {
    "duration": 0,
    "start_time": "2024-11-24T19:08:58.770Z"
   },
   {
    "duration": 0,
    "start_time": "2024-11-24T19:08:58.772Z"
   },
   {
    "duration": 0,
    "start_time": "2024-11-24T19:08:58.773Z"
   },
   {
    "duration": 0,
    "start_time": "2024-11-24T19:08:58.774Z"
   },
   {
    "duration": 0,
    "start_time": "2024-11-24T19:08:58.775Z"
   },
   {
    "duration": 0,
    "start_time": "2024-11-24T19:08:58.776Z"
   },
   {
    "duration": 0,
    "start_time": "2024-11-24T19:08:58.777Z"
   },
   {
    "duration": 0,
    "start_time": "2024-11-24T19:08:58.778Z"
   },
   {
    "duration": 0,
    "start_time": "2024-11-24T19:08:58.779Z"
   },
   {
    "duration": 0,
    "start_time": "2024-11-24T19:08:58.780Z"
   },
   {
    "duration": 0,
    "start_time": "2024-11-24T19:08:58.782Z"
   },
   {
    "duration": 0,
    "start_time": "2024-11-24T19:08:58.783Z"
   },
   {
    "duration": 8,
    "start_time": "2024-11-24T19:09:20.012Z"
   },
   {
    "duration": 8,
    "start_time": "2024-11-24T19:10:03.958Z"
   },
   {
    "duration": 13,
    "start_time": "2024-11-24T19:10:20.968Z"
   },
   {
    "duration": 18,
    "start_time": "2024-11-24T19:10:47.580Z"
   },
   {
    "duration": 122,
    "start_time": "2024-11-24T19:14:42.376Z"
   },
   {
    "duration": 68,
    "start_time": "2024-11-24T19:14:54.085Z"
   },
   {
    "duration": 11,
    "start_time": "2024-11-24T19:15:25.445Z"
   },
   {
    "duration": 10,
    "start_time": "2024-11-24T19:17:53.794Z"
   },
   {
    "duration": 14,
    "start_time": "2024-11-24T19:18:54.033Z"
   },
   {
    "duration": 549,
    "start_time": "2024-11-24T19:19:22.176Z"
   },
   {
    "duration": 16751,
    "start_time": "2024-11-24T19:19:22.727Z"
   },
   {
    "duration": 10,
    "start_time": "2024-11-24T19:19:39.480Z"
   },
   {
    "duration": 10796,
    "start_time": "2024-11-24T19:19:39.492Z"
   },
   {
    "duration": 20,
    "start_time": "2024-11-24T19:19:50.294Z"
   },
   {
    "duration": 6197,
    "start_time": "2024-11-24T19:19:50.316Z"
   },
   {
    "duration": 1729,
    "start_time": "2024-11-24T19:19:56.565Z"
   },
   {
    "duration": 2008,
    "start_time": "2024-11-24T19:19:58.302Z"
   },
   {
    "duration": 1384,
    "start_time": "2024-11-24T19:20:00.313Z"
   },
   {
    "duration": 999,
    "start_time": "2024-11-24T19:20:01.699Z"
   },
   {
    "duration": 1547,
    "start_time": "2024-11-24T19:20:02.703Z"
   },
   {
    "duration": 19,
    "start_time": "2024-11-24T19:20:04.252Z"
   },
   {
    "duration": 2025,
    "start_time": "2024-11-24T19:20:04.273Z"
   },
   {
    "duration": 2108,
    "start_time": "2024-11-24T19:20:06.302Z"
   },
   {
    "duration": 394,
    "start_time": "2024-11-24T19:20:08.412Z"
   },
   {
    "duration": 257,
    "start_time": "2024-11-24T19:20:08.808Z"
   },
   {
    "duration": 137,
    "start_time": "2024-11-24T19:20:09.088Z"
   },
   {
    "duration": 1901,
    "start_time": "2024-11-24T19:20:09.227Z"
   },
   {
    "duration": 109,
    "start_time": "2024-11-24T19:20:11.177Z"
   },
   {
    "duration": 1199,
    "start_time": "2024-11-24T19:20:11.292Z"
   },
   {
    "duration": 4582,
    "start_time": "2024-11-24T19:20:12.492Z"
   },
   {
    "duration": 794,
    "start_time": "2024-11-24T19:20:17.076Z"
   },
   {
    "duration": 2441,
    "start_time": "2024-11-24T19:20:17.875Z"
   },
   {
    "duration": 3,
    "start_time": "2024-11-24T19:20:20.318Z"
   },
   {
    "duration": 2353,
    "start_time": "2024-11-24T19:20:20.323Z"
   },
   {
    "duration": 655,
    "start_time": "2024-11-24T19:20:22.680Z"
   },
   {
    "duration": 1945,
    "start_time": "2024-11-24T19:20:23.337Z"
   },
   {
    "duration": 333,
    "start_time": "2024-11-24T19:20:25.288Z"
   },
   {
    "duration": 101,
    "start_time": "2024-11-24T19:20:25.625Z"
   },
   {
    "duration": 3,
    "start_time": "2024-11-24T19:20:31.895Z"
   },
   {
    "duration": 119,
    "start_time": "2024-11-24T19:20:32.406Z"
   },
   {
    "duration": 0,
    "start_time": "2024-11-24T19:20:32.575Z"
   },
   {
    "duration": 551,
    "start_time": "2024-11-24T19:20:32.581Z"
   },
   {
    "duration": 0,
    "start_time": "2024-11-24T19:20:33.136Z"
   },
   {
    "duration": 0,
    "start_time": "2024-11-24T19:20:33.137Z"
   },
   {
    "duration": 0,
    "start_time": "2024-11-24T19:20:33.139Z"
   },
   {
    "duration": 0,
    "start_time": "2024-11-24T19:20:33.141Z"
   },
   {
    "duration": 0,
    "start_time": "2024-11-24T19:20:33.143Z"
   },
   {
    "duration": 0,
    "start_time": "2024-11-24T19:20:33.144Z"
   },
   {
    "duration": 0,
    "start_time": "2024-11-24T19:20:33.145Z"
   },
   {
    "duration": 0,
    "start_time": "2024-11-24T19:20:33.146Z"
   },
   {
    "duration": 0,
    "start_time": "2024-11-24T19:20:33.148Z"
   },
   {
    "duration": 35,
    "start_time": "2024-11-24T19:20:33.170Z"
   },
   {
    "duration": 0,
    "start_time": "2024-11-24T19:20:33.207Z"
   },
   {
    "duration": 21,
    "start_time": "2024-11-24T19:20:33.228Z"
   },
   {
    "duration": 38,
    "start_time": "2024-11-24T19:20:33.259Z"
   },
   {
    "duration": 3,
    "start_time": "2024-11-24T19:20:52.813Z"
   },
   {
    "duration": 215,
    "start_time": "2024-11-24T19:20:53.083Z"
   },
   {
    "duration": 418,
    "start_time": "2024-11-24T19:20:59.176Z"
   },
   {
    "duration": 3,
    "start_time": "2024-11-24T19:21:00.222Z"
   },
   {
    "duration": 615,
    "start_time": "2024-11-24T19:21:00.701Z"
   },
   {
    "duration": 13,
    "start_time": "2024-11-24T19:21:02.787Z"
   },
   {
    "duration": 1792,
    "start_time": "2024-11-24T19:21:03.611Z"
   },
   {
    "duration": 621,
    "start_time": "2024-11-24T19:21:05.405Z"
   },
   {
    "duration": 615,
    "start_time": "2024-11-24T19:21:06.028Z"
   },
   {
    "duration": 1068,
    "start_time": "2024-11-24T19:21:06.664Z"
   },
   {
    "duration": 276,
    "start_time": "2024-11-24T19:21:07.733Z"
   },
   {
    "duration": 1084,
    "start_time": "2024-11-24T19:21:08.011Z"
   },
   {
    "duration": 6,
    "start_time": "2024-11-24T19:21:09.097Z"
   },
   {
    "duration": 788,
    "start_time": "2024-11-24T19:22:12.922Z"
   },
   {
    "duration": 576,
    "start_time": "2024-11-24T19:22:14.442Z"
   },
   {
    "duration": 100,
    "start_time": "2024-11-24T19:22:15.020Z"
   },
   {
    "duration": 88,
    "start_time": "2024-11-24T19:22:15.126Z"
   },
   {
    "duration": 39,
    "start_time": "2024-11-24T19:22:15.681Z"
   },
   {
    "duration": 562,
    "start_time": "2024-11-24T19:22:16.127Z"
   },
   {
    "duration": 114,
    "start_time": "2024-11-24T19:22:16.691Z"
   },
   {
    "duration": 514,
    "start_time": "2024-11-24T19:22:20.482Z"
   },
   {
    "duration": 17113,
    "start_time": "2024-11-24T19:22:20.999Z"
   },
   {
    "duration": 4,
    "start_time": "2024-11-24T19:22:38.113Z"
   },
   {
    "duration": 10378,
    "start_time": "2024-11-24T19:22:38.120Z"
   },
   {
    "duration": 60,
    "start_time": "2024-11-24T19:22:48.511Z"
   },
   {
    "duration": 6293,
    "start_time": "2024-11-24T19:22:48.574Z"
   },
   {
    "duration": 1623,
    "start_time": "2024-11-24T19:22:54.868Z"
   },
   {
    "duration": 1395,
    "start_time": "2024-11-24T19:22:56.500Z"
   },
   {
    "duration": 1078,
    "start_time": "2024-11-24T19:22:57.902Z"
   },
   {
    "duration": 14,
    "start_time": "2024-11-24T19:22:58.981Z"
   },
   {
    "duration": 2592,
    "start_time": "2024-11-24T19:22:58.997Z"
   },
   {
    "duration": 2094,
    "start_time": "2024-11-24T19:23:01.594Z"
   },
   {
    "duration": 421,
    "start_time": "2024-11-24T19:23:03.690Z"
   },
   {
    "duration": 184,
    "start_time": "2024-11-24T19:23:04.114Z"
   },
   {
    "duration": 115,
    "start_time": "2024-11-24T19:23:04.300Z"
   },
   {
    "duration": 1798,
    "start_time": "2024-11-24T19:23:04.468Z"
   },
   {
    "duration": 136,
    "start_time": "2024-11-24T19:23:06.268Z"
   },
   {
    "duration": 1092,
    "start_time": "2024-11-24T19:23:06.406Z"
   },
   {
    "duration": 4905,
    "start_time": "2024-11-24T19:23:07.500Z"
   },
   {
    "duration": 890,
    "start_time": "2024-11-24T19:23:12.407Z"
   },
   {
    "duration": 2309,
    "start_time": "2024-11-24T19:23:13.299Z"
   },
   {
    "duration": 4,
    "start_time": "2024-11-24T19:23:15.610Z"
   },
   {
    "duration": 2810,
    "start_time": "2024-11-24T19:23:15.615Z"
   },
   {
    "duration": 715,
    "start_time": "2024-11-24T19:23:18.470Z"
   },
   {
    "duration": 2242,
    "start_time": "2024-11-24T19:23:19.189Z"
   },
   {
    "duration": 711,
    "start_time": "2024-11-24T19:23:21.465Z"
   }
  ],
  "colab": {
   "name": "PySparkSprint.ipynb",
   "provenance": []
  },
  "kernelspec": {
   "display_name": "Python 3 (ipykernel)",
   "language": "python",
   "name": "python3"
  },
  "language_info": {
   "codemirror_mode": {
    "name": "ipython",
    "version": 3
   },
   "file_extension": ".py",
   "mimetype": "text/x-python",
   "name": "python",
   "nbconvert_exporter": "python",
   "pygments_lexer": "ipython3",
   "version": "3.9.5"
  },
  "toc": {
   "base_numbering": 1,
   "nav_menu": {},
   "number_sections": false,
   "sideBar": true,
   "skip_h1_title": false,
   "title_cell": "Table of Contents",
   "title_sidebar": "Contents",
   "toc_cell": false,
   "toc_position": {
    "height": "calc(100% - 180px)",
    "left": "10px",
    "top": "150px",
    "width": "374px"
   },
   "toc_section_display": true,
   "toc_window_display": false
  }
 },
 "nbformat": 4,
 "nbformat_minor": 5
}
