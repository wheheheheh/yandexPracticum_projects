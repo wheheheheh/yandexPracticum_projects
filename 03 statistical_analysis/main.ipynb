{
 "cells": [
  {
   "cell_type": "markdown",
   "id": "eb379c6b",
   "metadata": {},
   "source": [
    "### ***Описание проекта: Статистический анализ данных***\n",
    "        Вы аналитик популярного сервиса аренды самокатов GoFast. Вам передали данные о некоторых пользователях из нескольких             городов, а также об их поездках. Проанализируйте данные и проверьте некоторые гипотезы, которые могут помочь бизнесу \n",
    "    вырасти.\n",
    "    Чтобы совершать поездки по городу, пользователи сервиса GoFast пользуются мобильным приложением. \n",
    "    Сервисом можно пользоваться:\n",
    "    без подписки:\n",
    "        абонентская плата отсутствует;\n",
    "        стоимость одной минуты поездки — 8 рублей;\n",
    "        стоимость старта (начала поездки) — 50 рублей;\n",
    "    с подпиской Ultra:\n",
    "        абонентская плата — 199 рублей в месяц;\n",
    "        стоимость одной минуты поездки — 6 рублей;\n",
    "        стоимость старта — бесплатно. "
   ]
  },
  {
   "cell_type": "markdown",
   "id": "a30ba348",
   "metadata": {},
   "source": [
    "**Описание данных**\n",
    "\n",
    "*В основных данных есть информация о пользователях, их поездках и подписках.*\n",
    "\n",
    "    Пользователи — users_go.csv\n",
    "\n",
    "        user_id - уникальный идентификатор пользователя\n",
    "        name - имя пользователя\n",
    "        age - возраст\n",
    "        city - город\n",
    "        subscription_type - тип подписки (free, ultra)\n",
    "\n",
    "    Поездки — rides_go.csv\n",
    "\n",
    "        user_id - уникальный идентификатор пользователя\n",
    "        date - дата и время поездки\n",
    "        distance - расстояние поездки\n",
    "        duration - длительность поездки\n",
    "\n",
    "\n",
    "    Подписки — subscriptions_go.csv\n",
    "\n",
    "        subscription_type - тип подписки\n",
    "        minute_price - стоимость одной минуты поездки по данной подписке\n",
    "        start_ride_price - стоимость начала поездки\n",
    "        subscription_fee - стоимость ежемесячного платежа\n"
   ]
  },
  {
   "cell_type": "markdown",
   "id": "c42cbe00",
   "metadata": {},
   "source": [
    "#### Шаг 1. Загрузка данных"
   ]
  },
  {
   "cell_type": "code",
   "execution_count": null,
   "id": "b79756b3",
   "metadata": {},
   "outputs": [],
   "source": [
    "import pandas as pd\n",
    "import numpy as np\n",
    "import matplotlib.pyplot as plt\n",
    "import scipy.stats as st"
   ]
  },
  {
   "cell_type": "code",
   "execution_count": null,
   "id": "eff9f206",
   "metadata": {},
   "outputs": [],
   "source": [
    "# информация о пользователях\n",
    "try:\n",
    "    users = pd.read_csv('YOUR_DATA')\n",
    "except:\n",
    "    users = pd.read_csv('YOUR_DATA')\n",
    "# информация о поездках\n",
    "try:\n",
    "    rides = pd.read_csv('YOUR_DATA')\n",
    "except:\n",
    "    rides = pd.read_csv('YOUR_DATA')    \n",
    "# информация о подписках\n",
    "try:\n",
    "    subscriptions = pd.read_csv('YOUR_DATA')\n",
    "except:\n",
    "    subscriptions = pd.read_csv('YOUR_DATA')"
   ]
  },
  {
   "cell_type": "markdown",
   "id": "51c38bb0",
   "metadata": {},
   "source": [
    "Описание выгруженных данных есть в брифе"
   ]
  },
  {
   "cell_type": "code",
   "execution_count": 3,
   "id": "2d97f900",
   "metadata": {},
   "outputs": [
    {
     "data": {
      "text/html": [
       "<div>\n",
       "<style scoped>\n",
       "    .dataframe tbody tr th:only-of-type {\n",
       "        vertical-align: middle;\n",
       "    }\n",
       "\n",
       "    .dataframe tbody tr th {\n",
       "        vertical-align: top;\n",
       "    }\n",
       "\n",
       "    .dataframe thead th {\n",
       "        text-align: right;\n",
       "    }\n",
       "</style>\n",
       "<table border=\"1\" class=\"dataframe\">\n",
       "  <thead>\n",
       "    <tr style=\"text-align: right;\">\n",
       "      <th></th>\n",
       "      <th>user_id</th>\n",
       "      <th>name</th>\n",
       "      <th>age</th>\n",
       "      <th>city</th>\n",
       "      <th>subscription_type</th>\n",
       "    </tr>\n",
       "  </thead>\n",
       "  <tbody>\n",
       "    <tr>\n",
       "      <th>0</th>\n",
       "      <td>1</td>\n",
       "      <td>Кира</td>\n",
       "      <td>22</td>\n",
       "      <td>Тюмень</td>\n",
       "      <td>ultra</td>\n",
       "    </tr>\n",
       "    <tr>\n",
       "      <th>1</th>\n",
       "      <td>2</td>\n",
       "      <td>Станислав</td>\n",
       "      <td>31</td>\n",
       "      <td>Омск</td>\n",
       "      <td>ultra</td>\n",
       "    </tr>\n",
       "    <tr>\n",
       "      <th>2</th>\n",
       "      <td>3</td>\n",
       "      <td>Алексей</td>\n",
       "      <td>20</td>\n",
       "      <td>Москва</td>\n",
       "      <td>ultra</td>\n",
       "    </tr>\n",
       "    <tr>\n",
       "      <th>3</th>\n",
       "      <td>4</td>\n",
       "      <td>Константин</td>\n",
       "      <td>26</td>\n",
       "      <td>Ростов-на-Дону</td>\n",
       "      <td>ultra</td>\n",
       "    </tr>\n",
       "    <tr>\n",
       "      <th>4</th>\n",
       "      <td>5</td>\n",
       "      <td>Адель</td>\n",
       "      <td>28</td>\n",
       "      <td>Омск</td>\n",
       "      <td>ultra</td>\n",
       "    </tr>\n",
       "  </tbody>\n",
       "</table>\n",
       "</div>"
      ],
      "text/plain": [
       "   user_id        name  age            city subscription_type\n",
       "0        1        Кира   22          Тюмень             ultra\n",
       "1        2   Станислав   31            Омск             ultra\n",
       "2        3     Алексей   20          Москва             ultra\n",
       "3        4  Константин   26  Ростов-на-Дону             ultra\n",
       "4        5       Адель   28            Омск             ultra"
      ]
     },
     "metadata": {},
     "output_type": "display_data"
    },
    {
     "name": "stdout",
     "output_type": "stream",
     "text": [
      "<class 'pandas.core.frame.DataFrame'>\n",
      "RangeIndex: 1565 entries, 0 to 1564\n",
      "Data columns (total 5 columns):\n",
      " #   Column             Non-Null Count  Dtype \n",
      "---  ------             --------------  ----- \n",
      " 0   user_id            1565 non-null   int64 \n",
      " 1   name               1565 non-null   object\n",
      " 2   age                1565 non-null   int64 \n",
      " 3   city               1565 non-null   object\n",
      " 4   subscription_type  1565 non-null   object\n",
      "dtypes: int64(2), object(3)\n",
      "memory usage: 61.3+ KB\n"
     ]
    }
   ],
   "source": [
    "display(users.head())\n",
    "users.info()"
   ]
  },
  {
   "cell_type": "code",
   "execution_count": 4,
   "id": "5237a90c",
   "metadata": {},
   "outputs": [
    {
     "data": {
      "text/html": [
       "<div>\n",
       "<style scoped>\n",
       "    .dataframe tbody tr th:only-of-type {\n",
       "        vertical-align: middle;\n",
       "    }\n",
       "\n",
       "    .dataframe tbody tr th {\n",
       "        vertical-align: top;\n",
       "    }\n",
       "\n",
       "    .dataframe thead th {\n",
       "        text-align: right;\n",
       "    }\n",
       "</style>\n",
       "<table border=\"1\" class=\"dataframe\">\n",
       "  <thead>\n",
       "    <tr style=\"text-align: right;\">\n",
       "      <th></th>\n",
       "      <th>user_id</th>\n",
       "      <th>distance</th>\n",
       "      <th>duration</th>\n",
       "      <th>date</th>\n",
       "    </tr>\n",
       "  </thead>\n",
       "  <tbody>\n",
       "    <tr>\n",
       "      <th>0</th>\n",
       "      <td>1</td>\n",
       "      <td>4409.919140</td>\n",
       "      <td>25.60</td>\n",
       "      <td>2021-01-01</td>\n",
       "    </tr>\n",
       "    <tr>\n",
       "      <th>1</th>\n",
       "      <td>1</td>\n",
       "      <td>2617.592153</td>\n",
       "      <td>15.82</td>\n",
       "      <td>2021-01-18</td>\n",
       "    </tr>\n",
       "    <tr>\n",
       "      <th>2</th>\n",
       "      <td>1</td>\n",
       "      <td>754.159807</td>\n",
       "      <td>6.23</td>\n",
       "      <td>2021-04-20</td>\n",
       "    </tr>\n",
       "    <tr>\n",
       "      <th>3</th>\n",
       "      <td>1</td>\n",
       "      <td>2694.783254</td>\n",
       "      <td>18.51</td>\n",
       "      <td>2021-08-11</td>\n",
       "    </tr>\n",
       "    <tr>\n",
       "      <th>4</th>\n",
       "      <td>1</td>\n",
       "      <td>4028.687306</td>\n",
       "      <td>26.27</td>\n",
       "      <td>2021-08-28</td>\n",
       "    </tr>\n",
       "  </tbody>\n",
       "</table>\n",
       "</div>"
      ],
      "text/plain": [
       "   user_id     distance  duration        date\n",
       "0        1  4409.919140     25.60  2021-01-01\n",
       "1        1  2617.592153     15.82  2021-01-18\n",
       "2        1   754.159807      6.23  2021-04-20\n",
       "3        1  2694.783254     18.51  2021-08-11\n",
       "4        1  4028.687306     26.27  2021-08-28"
      ]
     },
     "metadata": {},
     "output_type": "display_data"
    },
    {
     "name": "stdout",
     "output_type": "stream",
     "text": [
      "<class 'pandas.core.frame.DataFrame'>\n",
      "RangeIndex: 18068 entries, 0 to 18067\n",
      "Data columns (total 4 columns):\n",
      " #   Column    Non-Null Count  Dtype  \n",
      "---  ------    --------------  -----  \n",
      " 0   user_id   18068 non-null  int64  \n",
      " 1   distance  18068 non-null  float64\n",
      " 2   duration  18068 non-null  float64\n",
      " 3   date      18068 non-null  object \n",
      "dtypes: float64(2), int64(1), object(1)\n",
      "memory usage: 564.8+ KB\n"
     ]
    }
   ],
   "source": [
    "rides['duration'] = rides['duration'].round(2)\n",
    "display(rides.head())\n",
    "rides.info()"
   ]
  },
  {
   "cell_type": "code",
   "execution_count": 5,
   "id": "b7810803",
   "metadata": {},
   "outputs": [
    {
     "data": {
      "text/html": [
       "<div>\n",
       "<style scoped>\n",
       "    .dataframe tbody tr th:only-of-type {\n",
       "        vertical-align: middle;\n",
       "    }\n",
       "\n",
       "    .dataframe tbody tr th {\n",
       "        vertical-align: top;\n",
       "    }\n",
       "\n",
       "    .dataframe thead th {\n",
       "        text-align: right;\n",
       "    }\n",
       "</style>\n",
       "<table border=\"1\" class=\"dataframe\">\n",
       "  <thead>\n",
       "    <tr style=\"text-align: right;\">\n",
       "      <th></th>\n",
       "      <th>subscription_type</th>\n",
       "      <th>minute_price</th>\n",
       "      <th>start_ride_price</th>\n",
       "      <th>subscription_fee</th>\n",
       "    </tr>\n",
       "  </thead>\n",
       "  <tbody>\n",
       "    <tr>\n",
       "      <th>0</th>\n",
       "      <td>free</td>\n",
       "      <td>8</td>\n",
       "      <td>50</td>\n",
       "      <td>0</td>\n",
       "    </tr>\n",
       "    <tr>\n",
       "      <th>1</th>\n",
       "      <td>ultra</td>\n",
       "      <td>6</td>\n",
       "      <td>0</td>\n",
       "      <td>199</td>\n",
       "    </tr>\n",
       "  </tbody>\n",
       "</table>\n",
       "</div>"
      ],
      "text/plain": [
       "  subscription_type  minute_price  start_ride_price  subscription_fee\n",
       "0              free             8                50                 0\n",
       "1             ultra             6                 0               199"
      ]
     },
     "metadata": {},
     "output_type": "display_data"
    },
    {
     "name": "stdout",
     "output_type": "stream",
     "text": [
      "<class 'pandas.core.frame.DataFrame'>\n",
      "RangeIndex: 2 entries, 0 to 1\n",
      "Data columns (total 4 columns):\n",
      " #   Column             Non-Null Count  Dtype \n",
      "---  ------             --------------  ----- \n",
      " 0   subscription_type  2 non-null      object\n",
      " 1   minute_price       2 non-null      int64 \n",
      " 2   start_ride_price   2 non-null      int64 \n",
      " 3   subscription_fee   2 non-null      int64 \n",
      "dtypes: int64(3), object(1)\n",
      "memory usage: 192.0+ bytes\n"
     ]
    }
   ],
   "source": [
    "display(subscriptions.head())\n",
    "subscriptions.info()"
   ]
  },
  {
   "cell_type": "markdown",
   "id": "e95ebca7",
   "metadata": {},
   "source": [
    "#### Шаг 2. Предобработка данных"
   ]
  },
  {
   "cell_type": "code",
   "execution_count": 6,
   "id": "af6d202c",
   "metadata": {},
   "outputs": [],
   "source": [
    "rides['date'] = pd.to_datetime(rides['date'])\n",
    "rides['month_number'] = rides['date'].dt.month"
   ]
  },
  {
   "cell_type": "code",
   "execution_count": 7,
   "id": "0276fec7",
   "metadata": {},
   "outputs": [
    {
     "name": "stdout",
     "output_type": "stream",
     "text": [
      "user_id              0\n",
      "name                 0\n",
      "age                  0\n",
      "city                 0\n",
      "subscription_type    0\n",
      "dtype: int64\n",
      "0\n"
     ]
    }
   ],
   "source": [
    "users = users.drop_duplicates()\n",
    "print(users.isna().sum())\n",
    "print(users.duplicated().sum())"
   ]
  },
  {
   "cell_type": "code",
   "execution_count": 8,
   "id": "17ceb3cf",
   "metadata": {},
   "outputs": [
    {
     "name": "stdout",
     "output_type": "stream",
     "text": [
      "user_id         0\n",
      "distance        0\n",
      "duration        0\n",
      "date            0\n",
      "month_number    0\n",
      "dtype: int64\n",
      "0\n"
     ]
    }
   ],
   "source": [
    "print(rides.isna().sum())\n",
    "print(rides.duplicated().sum())"
   ]
  },
  {
   "cell_type": "code",
   "execution_count": 9,
   "id": "5acecea7",
   "metadata": {},
   "outputs": [
    {
     "name": "stdout",
     "output_type": "stream",
     "text": [
      "subscription_type    0\n",
      "minute_price         0\n",
      "start_ride_price     0\n",
      "subscription_fee     0\n",
      "dtype: int64\n",
      "0\n"
     ]
    }
   ],
   "source": [
    "print(subscriptions.isna().sum())\n",
    "print(subscriptions.duplicated().sum())"
   ]
  },
  {
   "cell_type": "markdown",
   "id": "b092ca07",
   "metadata": {},
   "source": [
    "    Предобработка получилась небольшая, данные в порядке, был приведен столбец \n",
    "    date к типу данных дата, добавлен столбец с номером месяца и удалены дубликаты в датафрейме users"
   ]
  },
  {
   "cell_type": "markdown",
   "id": "212593c7",
   "metadata": {},
   "source": [
    "#### Шаг 3. Исследовательский анализ данных"
   ]
  },
  {
   "cell_type": "code",
   "execution_count": 10,
   "id": "e3a4274c",
   "metadata": {},
   "outputs": [
    {
     "data": {
      "image/png": "[encoded data removed]",
      "text/plain": [
       "<Figure size 720x720 with 1 Axes>"
      ]
     },
     "metadata": {},
     "output_type": "display_data"
    }
   ],
   "source": [
    "#display(users)\n",
    "(\n",
    "    users['city'].value_counts().plot(\n",
    "    kind = 'pie', \n",
    "    figsize=(10,10),\n",
    "    autopct=\"%1.1f%%\",\n",
    "    title = 'Частота встречаемости городов')\n",
    ");"
   ]
  },
  {
   "cell_type": "markdown",
   "id": "78025d14",
   "metadata": {},
   "source": [
    "    Города распределены равномерно, больше всего пользователей из Пятигорска, \n",
    "    меньше всего из Москвы, что как будто странно, Москва все-таки"
   ]
  },
  {
   "cell_type": "code",
   "execution_count": 11,
   "id": "53bff506",
   "metadata": {},
   "outputs": [
    {
     "data": {
      "image/png": "[encoded data removed]",
      "text/plain": [
       "<Figure size 432x288 with 1 Axes>"
      ]
     },
     "metadata": {
      "needs_background": "light"
     },
     "output_type": "display_data"
    }
   ],
   "source": [
    "users['subscription_type'].hist(range=(0, 1), bins=3)\n",
    "plt.xlabel('Тип подписки')\n",
    "plt.ylabel('Кол-во пользователей')\n",
    "plt.title('Соотношение пользователей с подпиской и без подписки');"
   ]
  },
  {
   "cell_type": "code",
   "execution_count": 12,
   "id": "50fe672b",
   "metadata": {},
   "outputs": [
    {
     "data": {
      "image/png": "[encoded data removed]",
      "text/plain": [
       "<Figure size 720x720 with 1 Axes>"
      ]
     },
     "metadata": {},
     "output_type": "display_data"
    }
   ],
   "source": [
    "(\n",
    "    users['subscription_type'].value_counts().plot(\n",
    "    kind = 'pie', \n",
    "    figsize=(10,10),\n",
    "    autopct=\"%1.0f%%\",\n",
    "    title = 'Соотношение пользователей с подпиской и без подписки')\n",
    ");"
   ]
  },
  {
   "cell_type": "markdown",
   "id": "e33d54a6",
   "metadata": {},
   "source": [
    "Пользователей без подписки больше - 54% против 46% "
   ]
  },
  {
   "cell_type": "code",
   "execution_count": 30,
   "id": "4cf9a2ab",
   "metadata": {},
   "outputs": [
    {
     "data": {
      "image/png": "[encoded data removed]",
      "text/plain": [
       "<Figure size 432x288 with 1 Axes>"
      ]
     },
     "metadata": {
      "needs_background": "light"
     },
     "output_type": "display_data"
    }
   ],
   "source": [
    "users['age'].hist(range=(18, 43), bins=20)\n",
    "plt.xlabel('Возраст')\n",
    "plt.ylabel('Количество пользователей')\n",
    "plt.title('Распределение возраста пользователей');\n",
    "#users.describe()"
   ]
  },
  {
   "cell_type": "code",
   "execution_count": 14,
   "id": "367bfad4",
   "metadata": {},
   "outputs": [
    {
     "data": {
      "image/png": "[encoded data removed]",
      "text/plain": [
       "<Figure size 432x288 with 1 Axes>"
      ]
     },
     "metadata": {
      "needs_background": "light"
     },
     "output_type": "display_data"
    }
   ],
   "source": [
    "# display(rides.head())\n",
    "rides['distance'].hist(range=(0, 6000), bins=100)\n",
    "plt.xlabel('Дистанция, метры')\n",
    "plt.ylabel('Количество пользователей')\n",
    "plt.title('Расстояние, которое пользователь преодолел за одну поездку');"
   ]
  },
  {
   "cell_type": "code",
   "execution_count": 15,
   "id": "98f457b5",
   "metadata": {},
   "outputs": [
    {
     "data": {
      "image/png": "[encoded data removed]",
      "text/plain": [
       "<Figure size 432x288 with 1 Axes>"
      ]
     },
     "metadata": {
      "needs_background": "light"
     },
     "output_type": "display_data"
    }
   ],
   "source": [
    "# display(rides.head())\n",
    "rides['duration'].hist(range=(0, 40), bins=100)\n",
    "plt.xlabel('Длительность, минуты')\n",
    "plt.ylabel('Количество пользователей')\n",
    "plt.title('Продолжительность поездок');"
   ]
  },
  {
   "cell_type": "markdown",
   "id": "2502bfc1",
   "metadata": {},
   "source": [
    "    Из графиков можно сказать, что средний возраст пользователей составляет 25 лет и как раз таких людей больше всего,\n",
    "    Среднее расстояние, которое преодолевают пользователи 2500-3500 метров с пиком примерно на 3200,\n",
    "    Средняя продолжительность поездок составляет от 13-21 минут, также можно увижеть шпиль около нуля минут,\n",
    "    возможно люди используют самокаты для коротких поездкок, на графике, где показано расстояние можно увидеть,\n",
    "    что также люди используют самокаты для проезда на расстояние до одного километра"
   ]
  },
  {
   "cell_type": "markdown",
   "id": "4ef51331",
   "metadata": {},
   "source": [
    "#### Шаг 4. Объединение данных"
   ]
  },
  {
   "cell_type": "code",
   "execution_count": 16,
   "id": "6bf288b5",
   "metadata": {},
   "outputs": [
    {
     "data": {
      "text/html": [
       "<div>\n",
       "<style scoped>\n",
       "    .dataframe tbody tr th:only-of-type {\n",
       "        vertical-align: middle;\n",
       "    }\n",
       "\n",
       "    .dataframe tbody tr th {\n",
       "        vertical-align: top;\n",
       "    }\n",
       "\n",
       "    .dataframe thead th {\n",
       "        text-align: right;\n",
       "    }\n",
       "</style>\n",
       "<table border=\"1\" class=\"dataframe\">\n",
       "  <thead>\n",
       "    <tr style=\"text-align: right;\">\n",
       "      <th></th>\n",
       "      <th>user_id</th>\n",
       "      <th>name</th>\n",
       "      <th>age</th>\n",
       "      <th>city</th>\n",
       "      <th>subscription_type</th>\n",
       "      <th>distance</th>\n",
       "      <th>duration</th>\n",
       "      <th>date</th>\n",
       "      <th>month_number</th>\n",
       "      <th>minute_price</th>\n",
       "      <th>start_ride_price</th>\n",
       "      <th>subscription_fee</th>\n",
       "    </tr>\n",
       "  </thead>\n",
       "  <tbody>\n",
       "    <tr>\n",
       "      <th>0</th>\n",
       "      <td>1</td>\n",
       "      <td>Кира</td>\n",
       "      <td>22</td>\n",
       "      <td>Тюмень</td>\n",
       "      <td>ultra</td>\n",
       "      <td>4409.919140</td>\n",
       "      <td>25.60</td>\n",
       "      <td>2021-01-01</td>\n",
       "      <td>1</td>\n",
       "      <td>6</td>\n",
       "      <td>0</td>\n",
       "      <td>199</td>\n",
       "    </tr>\n",
       "    <tr>\n",
       "      <th>1</th>\n",
       "      <td>1</td>\n",
       "      <td>Кира</td>\n",
       "      <td>22</td>\n",
       "      <td>Тюмень</td>\n",
       "      <td>ultra</td>\n",
       "      <td>2617.592153</td>\n",
       "      <td>15.82</td>\n",
       "      <td>2021-01-18</td>\n",
       "      <td>1</td>\n",
       "      <td>6</td>\n",
       "      <td>0</td>\n",
       "      <td>199</td>\n",
       "    </tr>\n",
       "    <tr>\n",
       "      <th>2</th>\n",
       "      <td>1</td>\n",
       "      <td>Кира</td>\n",
       "      <td>22</td>\n",
       "      <td>Тюмень</td>\n",
       "      <td>ultra</td>\n",
       "      <td>754.159807</td>\n",
       "      <td>6.23</td>\n",
       "      <td>2021-04-20</td>\n",
       "      <td>4</td>\n",
       "      <td>6</td>\n",
       "      <td>0</td>\n",
       "      <td>199</td>\n",
       "    </tr>\n",
       "    <tr>\n",
       "      <th>3</th>\n",
       "      <td>1</td>\n",
       "      <td>Кира</td>\n",
       "      <td>22</td>\n",
       "      <td>Тюмень</td>\n",
       "      <td>ultra</td>\n",
       "      <td>2694.783254</td>\n",
       "      <td>18.51</td>\n",
       "      <td>2021-08-11</td>\n",
       "      <td>8</td>\n",
       "      <td>6</td>\n",
       "      <td>0</td>\n",
       "      <td>199</td>\n",
       "    </tr>\n",
       "    <tr>\n",
       "      <th>4</th>\n",
       "      <td>1</td>\n",
       "      <td>Кира</td>\n",
       "      <td>22</td>\n",
       "      <td>Тюмень</td>\n",
       "      <td>ultra</td>\n",
       "      <td>4028.687306</td>\n",
       "      <td>26.27</td>\n",
       "      <td>2021-08-28</td>\n",
       "      <td>8</td>\n",
       "      <td>6</td>\n",
       "      <td>0</td>\n",
       "      <td>199</td>\n",
       "    </tr>\n",
       "  </tbody>\n",
       "</table>\n",
       "</div>"
      ],
      "text/plain": [
       "   user_id  name  age    city subscription_type     distance  duration  \\\n",
       "0        1  Кира   22  Тюмень             ultra  4409.919140     25.60   \n",
       "1        1  Кира   22  Тюмень             ultra  2617.592153     15.82   \n",
       "2        1  Кира   22  Тюмень             ultra   754.159807      6.23   \n",
       "3        1  Кира   22  Тюмень             ultra  2694.783254     18.51   \n",
       "4        1  Кира   22  Тюмень             ultra  4028.687306     26.27   \n",
       "\n",
       "        date  month_number  minute_price  start_ride_price  subscription_fee  \n",
       "0 2021-01-01             1             6                 0               199  \n",
       "1 2021-01-18             1             6                 0               199  \n",
       "2 2021-04-20             4             6                 0               199  \n",
       "3 2021-08-11             8             6                 0               199  \n",
       "4 2021-08-28             8             6                 0               199  "
      ]
     },
     "metadata": {},
     "output_type": "display_data"
    }
   ],
   "source": [
    "data = users.merge(rides)\n",
    "data = data.merge(subscriptions)\n",
    "display(data.head())"
   ]
  },
  {
   "cell_type": "markdown",
   "id": "13db207d",
   "metadata": {},
   "source": [
    "    Создан новый датафрейм - data из датафреймов users, rides, subscriptions"
   ]
  },
  {
   "cell_type": "code",
   "execution_count": 17,
   "id": "54886dd0",
   "metadata": {},
   "outputs": [
    {
     "name": "stdout",
     "output_type": "stream",
     "text": [
      "18068\n",
      "1534\n",
      "18068\n",
      "2\n"
     ]
    }
   ],
   "source": [
    "print(len(data))\n",
    "print(len(users))\n",
    "print(len(rides))\n",
    "print(len(subscriptions))"
   ]
  },
  {
   "cell_type": "code",
   "execution_count": 18,
   "id": "218c4b14",
   "metadata": {},
   "outputs": [
    {
     "data": {
      "text/html": [
       "<div>\n",
       "<style scoped>\n",
       "    .dataframe tbody tr th:only-of-type {\n",
       "        vertical-align: middle;\n",
       "    }\n",
       "\n",
       "    .dataframe tbody tr th {\n",
       "        vertical-align: top;\n",
       "    }\n",
       "\n",
       "    .dataframe thead th {\n",
       "        text-align: right;\n",
       "    }\n",
       "</style>\n",
       "<table border=\"1\" class=\"dataframe\">\n",
       "  <thead>\n",
       "    <tr style=\"text-align: right;\">\n",
       "      <th></th>\n",
       "      <th>user_id</th>\n",
       "      <th>name</th>\n",
       "      <th>age</th>\n",
       "      <th>city</th>\n",
       "      <th>subscription_type</th>\n",
       "      <th>distance</th>\n",
       "      <th>duration</th>\n",
       "      <th>date</th>\n",
       "      <th>month_number</th>\n",
       "      <th>minute_price</th>\n",
       "      <th>start_ride_price</th>\n",
       "      <th>subscription_fee</th>\n",
       "    </tr>\n",
       "  </thead>\n",
       "  <tbody>\n",
       "    <tr>\n",
       "      <th>0</th>\n",
       "      <td>1</td>\n",
       "      <td>Кира</td>\n",
       "      <td>22</td>\n",
       "      <td>Тюмень</td>\n",
       "      <td>ultra</td>\n",
       "      <td>4409.919140</td>\n",
       "      <td>25.60</td>\n",
       "      <td>2021-01-01</td>\n",
       "      <td>1</td>\n",
       "      <td>6</td>\n",
       "      <td>0</td>\n",
       "      <td>199</td>\n",
       "    </tr>\n",
       "    <tr>\n",
       "      <th>1</th>\n",
       "      <td>1</td>\n",
       "      <td>Кира</td>\n",
       "      <td>22</td>\n",
       "      <td>Тюмень</td>\n",
       "      <td>ultra</td>\n",
       "      <td>2617.592153</td>\n",
       "      <td>15.82</td>\n",
       "      <td>2021-01-18</td>\n",
       "      <td>1</td>\n",
       "      <td>6</td>\n",
       "      <td>0</td>\n",
       "      <td>199</td>\n",
       "    </tr>\n",
       "    <tr>\n",
       "      <th>2</th>\n",
       "      <td>1</td>\n",
       "      <td>Кира</td>\n",
       "      <td>22</td>\n",
       "      <td>Тюмень</td>\n",
       "      <td>ultra</td>\n",
       "      <td>754.159807</td>\n",
       "      <td>6.23</td>\n",
       "      <td>2021-04-20</td>\n",
       "      <td>4</td>\n",
       "      <td>6</td>\n",
       "      <td>0</td>\n",
       "      <td>199</td>\n",
       "    </tr>\n",
       "    <tr>\n",
       "      <th>3</th>\n",
       "      <td>1</td>\n",
       "      <td>Кира</td>\n",
       "      <td>22</td>\n",
       "      <td>Тюмень</td>\n",
       "      <td>ultra</td>\n",
       "      <td>2694.783254</td>\n",
       "      <td>18.51</td>\n",
       "      <td>2021-08-11</td>\n",
       "      <td>8</td>\n",
       "      <td>6</td>\n",
       "      <td>0</td>\n",
       "      <td>199</td>\n",
       "    </tr>\n",
       "    <tr>\n",
       "      <th>4</th>\n",
       "      <td>1</td>\n",
       "      <td>Кира</td>\n",
       "      <td>22</td>\n",
       "      <td>Тюмень</td>\n",
       "      <td>ultra</td>\n",
       "      <td>4028.687306</td>\n",
       "      <td>26.27</td>\n",
       "      <td>2021-08-28</td>\n",
       "      <td>8</td>\n",
       "      <td>6</td>\n",
       "      <td>0</td>\n",
       "      <td>199</td>\n",
       "    </tr>\n",
       "    <tr>\n",
       "      <th>...</th>\n",
       "      <td>...</td>\n",
       "      <td>...</td>\n",
       "      <td>...</td>\n",
       "      <td>...</td>\n",
       "      <td>...</td>\n",
       "      <td>...</td>\n",
       "      <td>...</td>\n",
       "      <td>...</td>\n",
       "      <td>...</td>\n",
       "      <td>...</td>\n",
       "      <td>...</td>\n",
       "      <td>...</td>\n",
       "    </tr>\n",
       "    <tr>\n",
       "      <th>6495</th>\n",
       "      <td>699</td>\n",
       "      <td>Оксана</td>\n",
       "      <td>22</td>\n",
       "      <td>Москва</td>\n",
       "      <td>ultra</td>\n",
       "      <td>3973.046497</td>\n",
       "      <td>24.67</td>\n",
       "      <td>2021-08-29</td>\n",
       "      <td>8</td>\n",
       "      <td>6</td>\n",
       "      <td>0</td>\n",
       "      <td>199</td>\n",
       "    </tr>\n",
       "    <tr>\n",
       "      <th>6496</th>\n",
       "      <td>699</td>\n",
       "      <td>Оксана</td>\n",
       "      <td>22</td>\n",
       "      <td>Москва</td>\n",
       "      <td>ultra</td>\n",
       "      <td>3288.702563</td>\n",
       "      <td>15.89</td>\n",
       "      <td>2021-09-12</td>\n",
       "      <td>9</td>\n",
       "      <td>6</td>\n",
       "      <td>0</td>\n",
       "      <td>199</td>\n",
       "    </tr>\n",
       "    <tr>\n",
       "      <th>6497</th>\n",
       "      <td>699</td>\n",
       "      <td>Оксана</td>\n",
       "      <td>22</td>\n",
       "      <td>Москва</td>\n",
       "      <td>ultra</td>\n",
       "      <td>3076.159348</td>\n",
       "      <td>14.39</td>\n",
       "      <td>2021-09-26</td>\n",
       "      <td>9</td>\n",
       "      <td>6</td>\n",
       "      <td>0</td>\n",
       "      <td>199</td>\n",
       "    </tr>\n",
       "    <tr>\n",
       "      <th>6498</th>\n",
       "      <td>699</td>\n",
       "      <td>Оксана</td>\n",
       "      <td>22</td>\n",
       "      <td>Москва</td>\n",
       "      <td>ultra</td>\n",
       "      <td>4707.845501</td>\n",
       "      <td>15.84</td>\n",
       "      <td>2021-10-17</td>\n",
       "      <td>10</td>\n",
       "      <td>6</td>\n",
       "      <td>0</td>\n",
       "      <td>199</td>\n",
       "    </tr>\n",
       "    <tr>\n",
       "      <th>6499</th>\n",
       "      <td>699</td>\n",
       "      <td>Оксана</td>\n",
       "      <td>22</td>\n",
       "      <td>Москва</td>\n",
       "      <td>ultra</td>\n",
       "      <td>3202.890770</td>\n",
       "      <td>25.22</td>\n",
       "      <td>2021-12-03</td>\n",
       "      <td>12</td>\n",
       "      <td>6</td>\n",
       "      <td>0</td>\n",
       "      <td>199</td>\n",
       "    </tr>\n",
       "  </tbody>\n",
       "</table>\n",
       "<p>6500 rows × 12 columns</p>\n",
       "</div>"
      ],
      "text/plain": [
       "      user_id    name  age    city subscription_type     distance  duration  \\\n",
       "0           1    Кира   22  Тюмень             ultra  4409.919140     25.60   \n",
       "1           1    Кира   22  Тюмень             ultra  2617.592153     15.82   \n",
       "2           1    Кира   22  Тюмень             ultra   754.159807      6.23   \n",
       "3           1    Кира   22  Тюмень             ultra  2694.783254     18.51   \n",
       "4           1    Кира   22  Тюмень             ultra  4028.687306     26.27   \n",
       "...       ...     ...  ...     ...               ...          ...       ...   \n",
       "6495      699  Оксана   22  Москва             ultra  3973.046497     24.67   \n",
       "6496      699  Оксана   22  Москва             ultra  3288.702563     15.89   \n",
       "6497      699  Оксана   22  Москва             ultra  3076.159348     14.39   \n",
       "6498      699  Оксана   22  Москва             ultra  4707.845501     15.84   \n",
       "6499      699  Оксана   22  Москва             ultra  3202.890770     25.22   \n",
       "\n",
       "           date  month_number  minute_price  start_ride_price  \\\n",
       "0    2021-01-01             1             6                 0   \n",
       "1    2021-01-18             1             6                 0   \n",
       "2    2021-04-20             4             6                 0   \n",
       "3    2021-08-11             8             6                 0   \n",
       "4    2021-08-28             8             6                 0   \n",
       "...         ...           ...           ...               ...   \n",
       "6495 2021-08-29             8             6                 0   \n",
       "6496 2021-09-12             9             6                 0   \n",
       "6497 2021-09-26             9             6                 0   \n",
       "6498 2021-10-17            10             6                 0   \n",
       "6499 2021-12-03            12             6                 0   \n",
       "\n",
       "      subscription_fee  \n",
       "0                  199  \n",
       "1                  199  \n",
       "2                  199  \n",
       "3                  199  \n",
       "4                  199  \n",
       "...                ...  \n",
       "6495               199  \n",
       "6496               199  \n",
       "6497               199  \n",
       "6498               199  \n",
       "6499               199  \n",
       "\n",
       "[6500 rows x 12 columns]"
      ]
     },
     "metadata": {},
     "output_type": "display_data"
    }
   ],
   "source": [
    "data_subscribers = data.query('subscription_type == \"ultra\"')\n",
    "display(data_subscribers)"
   ]
  },
  {
   "cell_type": "code",
   "execution_count": 19,
   "id": "c4157073",
   "metadata": {},
   "outputs": [
    {
     "data": {
      "image/png": "[encoded data removed]",
      "text/plain": [
       "<Figure size 432x288 with 1 Axes>"
      ]
     },
     "metadata": {
      "needs_background": "light"
     },
     "output_type": "display_data"
    }
   ],
   "source": [
    "data_subscribers['duration'].hist(range=(0, 40), bins=100)\n",
    "plt.xlabel('Длительность, минуты')\n",
    "plt.ylabel('Количество пользователей')\n",
    "plt.title('Продолжительность поездок');"
   ]
  },
  {
   "cell_type": "code",
   "execution_count": 20,
   "id": "165f87ce",
   "metadata": {},
   "outputs": [
    {
     "data": {
      "image/png": "[encoded data removed]",
      "text/plain": [
       "<Figure size 432x288 with 1 Axes>"
      ]
     },
     "metadata": {
      "needs_background": "light"
     },
     "output_type": "display_data"
    }
   ],
   "source": [
    "data_subscribers['distance'].hist(range=(0, 6000), bins=100)\n",
    "plt.xlabel('Дистанция, метры')\n",
    "plt.ylabel('Количество пользователей')\n",
    "plt.title('Расстояние, которое пользователь преодолел за одну поездку');"
   ]
  },
  {
   "cell_type": "markdown",
   "id": "a9fd5b59",
   "metadata": {},
   "source": [
    "    data_subscribers - датафрейм с информацией о пользователях с подпиской, из\n",
    "    визуализации можно увидеть самую частую продолжительноть поездок от 13 до 20 минут,\n",
    "    также самую частую дистанцию 3000-3100 метров"
   ]
  },
  {
   "cell_type": "code",
   "execution_count": 21,
   "id": "9cbacce3",
   "metadata": {},
   "outputs": [
    {
     "data": {
      "text/html": [
       "<div>\n",
       "<style scoped>\n",
       "    .dataframe tbody tr th:only-of-type {\n",
       "        vertical-align: middle;\n",
       "    }\n",
       "\n",
       "    .dataframe tbody tr th {\n",
       "        vertical-align: top;\n",
       "    }\n",
       "\n",
       "    .dataframe thead th {\n",
       "        text-align: right;\n",
       "    }\n",
       "</style>\n",
       "<table border=\"1\" class=\"dataframe\">\n",
       "  <thead>\n",
       "    <tr style=\"text-align: right;\">\n",
       "      <th></th>\n",
       "      <th>user_id</th>\n",
       "      <th>name</th>\n",
       "      <th>age</th>\n",
       "      <th>city</th>\n",
       "      <th>subscription_type</th>\n",
       "      <th>distance</th>\n",
       "      <th>duration</th>\n",
       "      <th>date</th>\n",
       "      <th>month_number</th>\n",
       "      <th>minute_price</th>\n",
       "      <th>start_ride_price</th>\n",
       "      <th>subscription_fee</th>\n",
       "    </tr>\n",
       "  </thead>\n",
       "  <tbody>\n",
       "    <tr>\n",
       "      <th>6500</th>\n",
       "      <td>700</td>\n",
       "      <td>Айдар</td>\n",
       "      <td>22</td>\n",
       "      <td>Омск</td>\n",
       "      <td>free</td>\n",
       "      <td>2515.690719</td>\n",
       "      <td>14.94</td>\n",
       "      <td>2021-01-02</td>\n",
       "      <td>1</td>\n",
       "      <td>8</td>\n",
       "      <td>50</td>\n",
       "      <td>0</td>\n",
       "    </tr>\n",
       "    <tr>\n",
       "      <th>6501</th>\n",
       "      <td>700</td>\n",
       "      <td>Айдар</td>\n",
       "      <td>22</td>\n",
       "      <td>Омск</td>\n",
       "      <td>free</td>\n",
       "      <td>846.932642</td>\n",
       "      <td>16.23</td>\n",
       "      <td>2021-02-01</td>\n",
       "      <td>2</td>\n",
       "      <td>8</td>\n",
       "      <td>50</td>\n",
       "      <td>0</td>\n",
       "    </tr>\n",
       "    <tr>\n",
       "      <th>6502</th>\n",
       "      <td>700</td>\n",
       "      <td>Айдар</td>\n",
       "      <td>22</td>\n",
       "      <td>Омск</td>\n",
       "      <td>free</td>\n",
       "      <td>4004.434142</td>\n",
       "      <td>20.02</td>\n",
       "      <td>2021-02-04</td>\n",
       "      <td>2</td>\n",
       "      <td>8</td>\n",
       "      <td>50</td>\n",
       "      <td>0</td>\n",
       "    </tr>\n",
       "    <tr>\n",
       "      <th>6503</th>\n",
       "      <td>700</td>\n",
       "      <td>Айдар</td>\n",
       "      <td>22</td>\n",
       "      <td>Омск</td>\n",
       "      <td>free</td>\n",
       "      <td>1205.911290</td>\n",
       "      <td>9.78</td>\n",
       "      <td>2021-02-10</td>\n",
       "      <td>2</td>\n",
       "      <td>8</td>\n",
       "      <td>50</td>\n",
       "      <td>0</td>\n",
       "    </tr>\n",
       "    <tr>\n",
       "      <th>6504</th>\n",
       "      <td>700</td>\n",
       "      <td>Айдар</td>\n",
       "      <td>22</td>\n",
       "      <td>Омск</td>\n",
       "      <td>free</td>\n",
       "      <td>3047.379435</td>\n",
       "      <td>17.43</td>\n",
       "      <td>2021-02-14</td>\n",
       "      <td>2</td>\n",
       "      <td>8</td>\n",
       "      <td>50</td>\n",
       "      <td>0</td>\n",
       "    </tr>\n",
       "    <tr>\n",
       "      <th>...</th>\n",
       "      <td>...</td>\n",
       "      <td>...</td>\n",
       "      <td>...</td>\n",
       "      <td>...</td>\n",
       "      <td>...</td>\n",
       "      <td>...</td>\n",
       "      <td>...</td>\n",
       "      <td>...</td>\n",
       "      <td>...</td>\n",
       "      <td>...</td>\n",
       "      <td>...</td>\n",
       "      <td>...</td>\n",
       "    </tr>\n",
       "    <tr>\n",
       "      <th>18063</th>\n",
       "      <td>1534</td>\n",
       "      <td>Альберт</td>\n",
       "      <td>25</td>\n",
       "      <td>Краснодар</td>\n",
       "      <td>free</td>\n",
       "      <td>3781.098080</td>\n",
       "      <td>19.82</td>\n",
       "      <td>2021-11-04</td>\n",
       "      <td>11</td>\n",
       "      <td>8</td>\n",
       "      <td>50</td>\n",
       "      <td>0</td>\n",
       "    </tr>\n",
       "    <tr>\n",
       "      <th>18064</th>\n",
       "      <td>1534</td>\n",
       "      <td>Альберт</td>\n",
       "      <td>25</td>\n",
       "      <td>Краснодар</td>\n",
       "      <td>free</td>\n",
       "      <td>2840.423057</td>\n",
       "      <td>21.41</td>\n",
       "      <td>2021-11-16</td>\n",
       "      <td>11</td>\n",
       "      <td>8</td>\n",
       "      <td>50</td>\n",
       "      <td>0</td>\n",
       "    </tr>\n",
       "    <tr>\n",
       "      <th>18065</th>\n",
       "      <td>1534</td>\n",
       "      <td>Альберт</td>\n",
       "      <td>25</td>\n",
       "      <td>Краснодар</td>\n",
       "      <td>free</td>\n",
       "      <td>3826.185507</td>\n",
       "      <td>18.44</td>\n",
       "      <td>2021-11-18</td>\n",
       "      <td>11</td>\n",
       "      <td>8</td>\n",
       "      <td>50</td>\n",
       "      <td>0</td>\n",
       "    </tr>\n",
       "    <tr>\n",
       "      <th>18066</th>\n",
       "      <td>1534</td>\n",
       "      <td>Альберт</td>\n",
       "      <td>25</td>\n",
       "      <td>Краснодар</td>\n",
       "      <td>free</td>\n",
       "      <td>2902.308661</td>\n",
       "      <td>16.67</td>\n",
       "      <td>2021-11-27</td>\n",
       "      <td>11</td>\n",
       "      <td>8</td>\n",
       "      <td>50</td>\n",
       "      <td>0</td>\n",
       "    </tr>\n",
       "    <tr>\n",
       "      <th>18067</th>\n",
       "      <td>1534</td>\n",
       "      <td>Альберт</td>\n",
       "      <td>25</td>\n",
       "      <td>Краснодар</td>\n",
       "      <td>free</td>\n",
       "      <td>2371.711192</td>\n",
       "      <td>15.89</td>\n",
       "      <td>2021-12-29</td>\n",
       "      <td>12</td>\n",
       "      <td>8</td>\n",
       "      <td>50</td>\n",
       "      <td>0</td>\n",
       "    </tr>\n",
       "  </tbody>\n",
       "</table>\n",
       "<p>11568 rows × 12 columns</p>\n",
       "</div>"
      ],
      "text/plain": [
       "       user_id     name  age       city subscription_type     distance  \\\n",
       "6500       700    Айдар   22       Омск              free  2515.690719   \n",
       "6501       700    Айдар   22       Омск              free   846.932642   \n",
       "6502       700    Айдар   22       Омск              free  4004.434142   \n",
       "6503       700    Айдар   22       Омск              free  1205.911290   \n",
       "6504       700    Айдар   22       Омск              free  3047.379435   \n",
       "...        ...      ...  ...        ...               ...          ...   \n",
       "18063     1534  Альберт   25  Краснодар              free  3781.098080   \n",
       "18064     1534  Альберт   25  Краснодар              free  2840.423057   \n",
       "18065     1534  Альберт   25  Краснодар              free  3826.185507   \n",
       "18066     1534  Альберт   25  Краснодар              free  2902.308661   \n",
       "18067     1534  Альберт   25  Краснодар              free  2371.711192   \n",
       "\n",
       "       duration       date  month_number  minute_price  start_ride_price  \\\n",
       "6500      14.94 2021-01-02             1             8                50   \n",
       "6501      16.23 2021-02-01             2             8                50   \n",
       "6502      20.02 2021-02-04             2             8                50   \n",
       "6503       9.78 2021-02-10             2             8                50   \n",
       "6504      17.43 2021-02-14             2             8                50   \n",
       "...         ...        ...           ...           ...               ...   \n",
       "18063     19.82 2021-11-04            11             8                50   \n",
       "18064     21.41 2021-11-16            11             8                50   \n",
       "18065     18.44 2021-11-18            11             8                50   \n",
       "18066     16.67 2021-11-27            11             8                50   \n",
       "18067     15.89 2021-12-29            12             8                50   \n",
       "\n",
       "       subscription_fee  \n",
       "6500                  0  \n",
       "6501                  0  \n",
       "6502                  0  \n",
       "6503                  0  \n",
       "6504                  0  \n",
       "...                 ...  \n",
       "18063                 0  \n",
       "18064                 0  \n",
       "18065                 0  \n",
       "18066                 0  \n",
       "18067                 0  \n",
       "\n",
       "[11568 rows x 12 columns]"
      ]
     },
     "metadata": {},
     "output_type": "display_data"
    }
   ],
   "source": [
    "data_free = data.query('subscription_type == \"free\"')\n",
    "display(data_free)"
   ]
  },
  {
   "cell_type": "code",
   "execution_count": 22,
   "id": "921ad8e5",
   "metadata": {},
   "outputs": [
    {
     "data": {
      "image/png": "[encoded data removed]",
      "text/plain": [
       "<Figure size 432x288 with 1 Axes>"
      ]
     },
     "metadata": {
      "needs_background": "light"
     },
     "output_type": "display_data"
    }
   ],
   "source": [
    "data_free['duration'].hist(range=(0, 40), bins=100)\n",
    "plt.xlabel('Длительность, минуты')\n",
    "plt.ylabel('Количество пользователей')\n",
    "plt.title('Продолжительность поездок');"
   ]
  },
  {
   "cell_type": "code",
   "execution_count": 23,
   "id": "cb9a0155",
   "metadata": {},
   "outputs": [
    {
     "data": {
      "image/png": "[encoded data removed]",
      "text/plain": [
       "<Figure size 432x288 with 1 Axes>"
      ]
     },
     "metadata": {
      "needs_background": "light"
     },
     "output_type": "display_data"
    }
   ],
   "source": [
    "data_free['distance'].hist(range=(0, 7000), bins=100)\n",
    "plt.xlabel('Дистанция, метры')\n",
    "plt.ylabel('Количество пользователей')\n",
    "plt.title('Расстояние, которое пользователь преодолел за одну поездку');"
   ]
  },
  {
   "cell_type": "markdown",
   "id": "3cedcecd",
   "metadata": {},
   "source": [
    "    data_free - датафрейм с информацией о пользователях без подписки, из\n",
    "    визуализации можно увидеть самую частую продолжительноть поездок от 13 до 20 минут,\n",
    "    также самую частую дистанцию 2200-2800 метров"
   ]
  },
  {
   "cell_type": "markdown",
   "id": "066f3250",
   "metadata": {},
   "source": [
    "Единственное, что можно сказать, пользователи без подписки ездят на более короткие расстояния и намного больше используют самокат для очень коротких поздок"
   ]
  },
  {
   "cell_type": "markdown",
   "id": "402d620f",
   "metadata": {},
   "source": [
    "#### Шаг 5. Подсчёт выручки"
   ]
  },
  {
   "cell_type": "code",
   "execution_count": 24,
   "id": "53049e0a",
   "metadata": {},
   "outputs": [
    {
     "data": {
      "text/html": [
       "<div>\n",
       "<style scoped>\n",
       "    .dataframe tbody tr th:only-of-type {\n",
       "        vertical-align: middle;\n",
       "    }\n",
       "\n",
       "    .dataframe tbody tr th {\n",
       "        vertical-align: top;\n",
       "    }\n",
       "\n",
       "    .dataframe thead th {\n",
       "        text-align: right;\n",
       "    }\n",
       "</style>\n",
       "<table border=\"1\" class=\"dataframe\">\n",
       "  <thead>\n",
       "    <tr style=\"text-align: right;\">\n",
       "      <th></th>\n",
       "      <th></th>\n",
       "      <th>distance</th>\n",
       "      <th>duration</th>\n",
       "      <th>name</th>\n",
       "      <th>subscription_type</th>\n",
       "      <th>income</th>\n",
       "    </tr>\n",
       "    <tr>\n",
       "      <th>month_number</th>\n",
       "      <th>user_id</th>\n",
       "      <th></th>\n",
       "      <th></th>\n",
       "      <th></th>\n",
       "      <th></th>\n",
       "      <th></th>\n",
       "    </tr>\n",
       "  </thead>\n",
       "  <tbody>\n",
       "    <tr>\n",
       "      <th rowspan=\"10\" valign=\"top\">1</th>\n",
       "      <th>1</th>\n",
       "      <td>7027.511294</td>\n",
       "      <td>42.0</td>\n",
       "      <td>2</td>\n",
       "      <td>ultra</td>\n",
       "      <td>453.0</td>\n",
       "    </tr>\n",
       "    <tr>\n",
       "      <th>3</th>\n",
       "      <td>3061.777147</td>\n",
       "      <td>13.0</td>\n",
       "      <td>1</td>\n",
       "      <td>ultra</td>\n",
       "      <td>278.0</td>\n",
       "    </tr>\n",
       "    <tr>\n",
       "      <th>5</th>\n",
       "      <td>3914.646990</td>\n",
       "      <td>13.0</td>\n",
       "      <td>1</td>\n",
       "      <td>ultra</td>\n",
       "      <td>278.0</td>\n",
       "    </tr>\n",
       "    <tr>\n",
       "      <th>7</th>\n",
       "      <td>6478.080979</td>\n",
       "      <td>28.0</td>\n",
       "      <td>2</td>\n",
       "      <td>ultra</td>\n",
       "      <td>369.0</td>\n",
       "    </tr>\n",
       "    <tr>\n",
       "      <th>12</th>\n",
       "      <td>3577.151148</td>\n",
       "      <td>33.0</td>\n",
       "      <td>1</td>\n",
       "      <td>ultra</td>\n",
       "      <td>398.0</td>\n",
       "    </tr>\n",
       "    <tr>\n",
       "      <th>13</th>\n",
       "      <td>6687.987446</td>\n",
       "      <td>42.0</td>\n",
       "      <td>2</td>\n",
       "      <td>ultra</td>\n",
       "      <td>453.0</td>\n",
       "    </tr>\n",
       "    <tr>\n",
       "      <th>14</th>\n",
       "      <td>7699.643820</td>\n",
       "      <td>35.0</td>\n",
       "      <td>2</td>\n",
       "      <td>ultra</td>\n",
       "      <td>411.0</td>\n",
       "    </tr>\n",
       "    <tr>\n",
       "      <th>15</th>\n",
       "      <td>4187.621459</td>\n",
       "      <td>39.0</td>\n",
       "      <td>1</td>\n",
       "      <td>ultra</td>\n",
       "      <td>434.0</td>\n",
       "    </tr>\n",
       "    <tr>\n",
       "      <th>20</th>\n",
       "      <td>3516.719208</td>\n",
       "      <td>29.0</td>\n",
       "      <td>1</td>\n",
       "      <td>ultra</td>\n",
       "      <td>374.0</td>\n",
       "    </tr>\n",
       "    <tr>\n",
       "      <th>22</th>\n",
       "      <td>3058.692225</td>\n",
       "      <td>13.0</td>\n",
       "      <td>1</td>\n",
       "      <td>ultra</td>\n",
       "      <td>278.0</td>\n",
       "    </tr>\n",
       "  </tbody>\n",
       "</table>\n",
       "</div>"
      ],
      "text/plain": [
       "                         distance  duration  name subscription_type  income\n",
       "month_number user_id                                                       \n",
       "1            1        7027.511294      42.0     2             ultra   453.0\n",
       "             3        3061.777147      13.0     1             ultra   278.0\n",
       "             5        3914.646990      13.0     1             ultra   278.0\n",
       "             7        6478.080979      28.0     2             ultra   369.0\n",
       "             12       3577.151148      33.0     1             ultra   398.0\n",
       "             13       6687.987446      42.0     2             ultra   453.0\n",
       "             14       7699.643820      35.0     2             ultra   411.0\n",
       "             15       4187.621459      39.0     1             ultra   434.0\n",
       "             20       3516.719208      29.0     1             ultra   374.0\n",
       "             22       3058.692225      13.0     1             ultra   278.0"
      ]
     },
     "metadata": {},
     "output_type": "display_data"
    }
   ],
   "source": [
    "data['duration'] = np.ceil(data['duration'])\n",
    "aggregated_data = pd.pivot_table(data,\n",
    "                                 index=['month_number', 'user_id'],\n",
    "                                 values=['name', 'subscription_type', 'distance', 'duration'],\n",
    "                                 aggfunc={'name': 'count',\n",
    "                                          'subscription_type': 'first',\n",
    "                                          'distance': 'sum',\n",
    "                                          'duration': 'sum'})\n",
    "\n",
    "\n",
    "def income(row):\n",
    "    if row['subscription_type'] == 'ultra':\n",
    "        return row['name'] + 6 * row['duration'] + 199\n",
    "    else:\n",
    "        return row['name'] * 50 + 8 * row['duration']\n",
    "\n",
    "\n",
    "aggregated_data['income'] = aggregated_data.apply(income, axis=1).round()\n",
    "display(aggregated_data.head(10))"
   ]
  },
  {
   "cell_type": "markdown",
   "id": "fecfbf5a",
   "metadata": {},
   "source": [
    "    aggregated_data - датафрейм с агрегированными данными о поездках на основе датафрейма data, добавлен \n",
    "    столбец income - помесячная выручка от каждого пользователя"
   ]
  },
  {
   "cell_type": "markdown",
   "id": "41545ac0",
   "metadata": {},
   "source": [
    "#### Шаг 6. Проверка гипотез"
   ]
  },
  {
   "cell_type": "markdown",
   "id": "52d32709",
   "metadata": {},
   "source": [
    "    Продакт-менеджеры сервиса хотят увеличить количество пользователей с подпиской. Для этого они будут проводить различные акции, но сначала нужно выяснить несколько важных моментов.\n",
    "    Гипотеза - тратят ли пользователи с подпиской больше времени на поездки? Если да, то пользователи с подпиской могут быть «выгоднее» для компании. Я выбрал метод ttest_ind, потому что у нас есть две независимые выборки, в которых нужно найти равенство средних двух генеральных совокупностей\n",
    "    Для проверки этой и других следующих гипотез alpha будет равна 5 процентам, потому что это стандартное значение, чтобы           понять нужно ли отвергать нулевую гипотезу"
   ]
  },
  {
   "cell_type": "markdown",
   "id": "01e9f93d",
   "metadata": {},
   "source": [
    "H0 - Время на поездки у пользователей с подпиской = время на поездки у пользователей без подписки\n",
    "\n",
    "H1 - Время на поездки у пользователей с подпиской > время на поездки у пользователей без подписки"
   ]
  },
  {
   "cell_type": "code",
   "execution_count": 25,
   "id": "23ea867b",
   "metadata": {},
   "outputs": [
    {
     "name": "stdout",
     "output_type": "stream",
     "text": [
      "p-значение: 1.274138957151199e-34\n",
      "Отвергаем нулевую гипотезу о равенстве времени поездок пользователей\n"
     ]
    }
   ],
   "source": [
    "subscribers = data_subscribers['duration']\n",
    "free_users = data_free['duration']\n",
    "\n",
    "alpha = 0.05\n",
    "results = st.ttest_ind(subscribers, free_users, alternative='greater')\n",
    "print('p-значение:', results.pvalue)\n",
    "if results.pvalue < alpha:\n",
    "    print('Отвергаем нулевую гипотезу о равенстве времени поездок пользователей')\n",
    "else:\n",
    "    print('Не получилось отвергнуть нулевую гипотезу о равенстве времени поездок пользователей')"
   ]
  },
  {
   "cell_type": "markdown",
   "id": "a62fd37e",
   "metadata": {},
   "source": [
    "    Гипотеза - тратят ли пользователи с подпиской больше времени на поездки? Если да, то пользователи с подпиской могут быть «выгоднее» для компании.\n",
    "\n",
    "    Нулевая гипотеза была опровергнута"
   ]
  },
  {
   "cell_type": "markdown",
   "id": "a346fcff",
   "metadata": {},
   "source": [
    "Гипотеза - Расстояние одной поездки в 3130 метров — оптимальное с точки зрения износа самоката. Можно ли сказать, что среднее расстояние, которое проезжают пользователи с подпиской за одну поездку, не превышает 3130 метров? Я выбрал метод ttest_1samp, потому что у нас есть одна выборка(уже в целом можно поэтому выбрать), в которых нужно найти равенство средней генеральной совокупности фиксированному числу, в нашем случае - 3130\n",
    "\n",
    "H0 - Расстояние поездки пользователей с подпиской = 3130 метров\n",
    "\n",
    "H1 - Расстояние поездки пользователей с подпиской > 3130 метров"
   ]
  },
  {
   "cell_type": "code",
   "execution_count": 26,
   "id": "f2e2264e",
   "metadata": {},
   "outputs": [
    {
     "name": "stdout",
     "output_type": "stream",
     "text": [
      "p-значение: 0.9195368847849785\n",
      "Не получилось отвергнуть нулевую гипотезу о равенстве расстояния поездок пользователей\n"
     ]
    }
   ],
   "source": [
    "subscribers_distance = data_subscribers['distance']\n",
    "interested_value = 3130\n",
    "alpha = 0.05\n",
    "\n",
    "results = st.ttest_1samp(subscribers_distance, interested_value, alternative='greater')\n",
    "\n",
    "print('p-значение:', results.pvalue)\n",
    "\n",
    "if results.pvalue < alpha:\n",
    "    print('Отвергаем нулевую гипотезу о равенстве расстояния поездок пользователей')\n",
    "else:\n",
    "    print('Не получилось отвергнуть нулевую гипотезу о равенстве расстояния поездок пользователей')"
   ]
  },
  {
   "cell_type": "markdown",
   "id": "0b34a099",
   "metadata": {},
   "source": [
    "    Гипотеза - Расстояние одной поездки в 3130 метров — оптимальное с точки зрения износа самоката. Можно ли сказать, что           среднее расстояние, которое проезжают пользователи с подпиской за одну поездку, не превышает 3130 метров? \n",
    "\n",
    "    Не получилось опровергнуть нулевую гипотезу"
   ]
  },
  {
   "cell_type": "markdown",
   "id": "d3eaf287",
   "metadata": {},
   "source": [
    "Гипотеза - будет ли помесячная выручка от пользователей с подпиской по месяцам выше, чем выручка от пользователей без подписки. Я выбрал метод ttest_ind, потому что у нас есть две независимые выборки, в которых нужно найти равенство средних двух генеральных совокупностей\n",
    "\n",
    "H0 - Месячная выручка пользователей с подпиской = выручке пользователей без подписки\n",
    "\n",
    "H1 - Месячная выручка пользователей с подпиской > выручке пользователей без подписки"
   ]
  },
  {
   "cell_type": "code",
   "execution_count": 27,
   "id": "d6c87919",
   "metadata": {},
   "outputs": [
    {
     "name": "stdout",
     "output_type": "stream",
     "text": [
      "p-значение: 6.422503434518864e-34\n",
      "Отвергаем нулевую гипотезу о равенстве дохода от пользователей\n"
     ]
    }
   ],
   "source": [
    "subscribers_income = aggregated_data[aggregated_data['subscription_type'] == 'ultra']['income']\n",
    "free_users_income = aggregated_data[aggregated_data['subscription_type'] == 'free']['income']\n",
    "\n",
    "alpha = 0.05\n",
    "results = st.ttest_ind(subscribers_income, free_users_income, alternative='greater')\n",
    "print('p-значение:', results.pvalue)\n",
    "if results.pvalue < alpha:\n",
    "    print('Отвергаем нулевую гипотезу о равенстве дохода от пользователей')\n",
    "else:\n",
    "    print('Не получилось отвергнуть нулевую гипотезу о равенстве дохода от пользователей')"
   ]
  },
  {
   "cell_type": "markdown",
   "id": "5f8a18d9",
   "metadata": {},
   "source": [
    "    Гипотеза - будет ли помесячная выручка от пользователей с подпиской по месяцам выше, чем выручка от пользователей без           подписки.  \n",
    "\n",
    "    Гипотеза была опровергнута, значит доход от пользователей с подпиской больше"
   ]
  },
  {
   "cell_type": "markdown",
   "id": "e9c93f8f",
   "metadata": {},
   "source": [
    "6.4 Представьте такую ситуацию: техническая команда сервиса обновила сервера, с которыми взаимодействует мобильное приложение. Она надеется, что из-за этого количество обращений в техподдержку значимо снизилось. Некоторый файл содержит для каждого пользователя данные о количестве обращений до обновления и после него. Какой тест вам понадобился бы для проверки этой гипотезы?\n",
    "\n",
    "    Я бы использовал двухвыборочный t-тест для зависимых выборок(st.ttest_rel)\n",
    "    Формулировка гипотез:\n",
    "    H0 - μ1 = μ2\n",
    "    H1 - μ1 != μ2,\n",
    "    где μ1 и μ2 — средние значения до и после изменения.\n",
    "    Вызов бы выглядел так st.ttest_rel(before, after)"
   ]
  },
  {
   "cell_type": "markdown",
   "id": "61213c5e",
   "metadata": {},
   "source": [
    "### Общий вывод"
   ]
  },
  {
   "cell_type": "markdown",
   "id": "85c3fbc1",
   "metadata": {},
   "source": [
    "Во время исследования о некоторых пользователях из нескольких городов, а также об их поездках, данные были обработаны: заполнены пропуски и удалены дубликаты, были добавлены новые столбцы. По итогам можно сделать следующие выводы:\n",
    "\n",
    "*Исследовательский анализ:*\n",
    "\n",
    "    -Частота встречаемости городов - города распределены равномерно, больше всего пользователей из Пятигорска(14.3%), \n",
    "    меньше всего из Москвы(11%).\n",
    "    -Пользователей без подписки больше - 54% против 46%\n",
    "    -Возраст пользователей - самый частый возраст 25 лет\n",
    "    -Расстояние, которое пользователь преодолел за одну поездку - чаще всего пользователи проезжают около 3 км.\n",
    "    -Продолжительность поездок - чаще всего пользователи используют самокаты в течение 15-20 минут\n",
    "\n",
    "*Проверка гипотез:*\n",
    "\n",
    "    Гипотеза - тратят ли пользователи с подпиской больше времени на поездки? Если да, то пользователи с подпиской могут быть «выгоднее» для компании.\n",
    "    Гипотеза была опровергнута\n",
    "    \n",
    "    Гипотеза - Расстояние одной поездки в 3130 метров — оптимальное с точки зрения износа самоката. Можно ли сказать, что среднее расстояние, которое проезжают пользователи с подпиской за одну поездку, не превышает 3130 метров? \n",
    "    Не получилось опровергнуть нулевую гипотезу\n",
    "    \n",
    "    Гипотеза - будет ли помесячная выручка от пользователей с подпиской по месяцам выше, чем выручка от пользователей без подписки.  \n",
    "    Гипотеза была опровергнута, значит доход от пользователей с подпиской больше\n"
   ]
  }
 ],
 "metadata": {
  "ExecuteTimeLog": [
   {
    "duration": 1084,
    "start_time": "2024-06-04T15:51:33.696Z"
   },
   {
    "duration": 64,
    "start_time": "2024-06-04T15:51:34.782Z"
   },
   {
    "duration": 0,
    "start_time": "2024-06-04T15:51:34.847Z"
   },
   {
    "duration": 321,
    "start_time": "2024-06-04T15:51:47.358Z"
   },
   {
    "duration": 13,
    "start_time": "2024-06-04T15:51:49.679Z"
   },
   {
    "duration": 6,
    "start_time": "2024-06-04T15:51:55.362Z"
   },
   {
    "duration": 15,
    "start_time": "2024-06-04T15:52:40.481Z"
   },
   {
    "duration": 12,
    "start_time": "2024-06-04T15:53:37.919Z"
   },
   {
    "duration": 13,
    "start_time": "2024-06-04T15:55:04.230Z"
   },
   {
    "duration": 13,
    "start_time": "2024-06-04T15:57:56.777Z"
   },
   {
    "duration": 5,
    "start_time": "2024-06-04T15:59:43.768Z"
   },
   {
    "duration": 16,
    "start_time": "2024-06-04T15:59:50.204Z"
   },
   {
    "duration": 9,
    "start_time": "2024-06-04T15:59:58.300Z"
   },
   {
    "duration": 10,
    "start_time": "2024-06-04T16:00:00.706Z"
   },
   {
    "duration": 89,
    "start_time": "2024-06-04T16:01:51.690Z"
   },
   {
    "duration": 21,
    "start_time": "2024-06-04T16:01:55.475Z"
   },
   {
    "duration": 12,
    "start_time": "2024-06-04T16:02:32.547Z"
   },
   {
    "duration": 8,
    "start_time": "2024-06-04T16:04:26.673Z"
   },
   {
    "duration": 10,
    "start_time": "2024-06-04T16:05:15.234Z"
   },
   {
    "duration": 4,
    "start_time": "2024-06-04T16:05:18.175Z"
   },
   {
    "duration": 4,
    "start_time": "2024-06-04T16:06:07.644Z"
   },
   {
    "duration": 9,
    "start_time": "2024-06-04T16:06:13.936Z"
   },
   {
    "duration": 14,
    "start_time": "2024-06-04T16:08:05.533Z"
   },
   {
    "duration": 7,
    "start_time": "2024-06-04T16:08:15.722Z"
   },
   {
    "duration": 6,
    "start_time": "2024-06-04T16:08:18.836Z"
   },
   {
    "duration": 12,
    "start_time": "2024-06-04T16:08:23.996Z"
   },
   {
    "duration": 4,
    "start_time": "2024-06-04T16:08:47.337Z"
   },
   {
    "duration": 5,
    "start_time": "2024-06-04T16:08:57.449Z"
   },
   {
    "duration": 12,
    "start_time": "2024-06-04T16:09:21.386Z"
   },
   {
    "duration": 910,
    "start_time": "2024-06-04T16:10:28.278Z"
   },
   {
    "duration": 8,
    "start_time": "2024-06-04T16:10:40.507Z"
   },
   {
    "duration": 7,
    "start_time": "2024-06-04T16:11:00.556Z"
   },
   {
    "duration": 6,
    "start_time": "2024-06-04T16:11:10.814Z"
   },
   {
    "duration": 8,
    "start_time": "2024-06-04T16:11:57.909Z"
   },
   {
    "duration": 8,
    "start_time": "2024-06-04T16:12:15.803Z"
   },
   {
    "duration": 955,
    "start_time": "2024-06-04T16:12:19.303Z"
   },
   {
    "duration": 128,
    "start_time": "2024-06-04T16:12:20.260Z"
   },
   {
    "duration": 16,
    "start_time": "2024-06-04T16:12:20.389Z"
   },
   {
    "duration": 48,
    "start_time": "2024-06-04T16:12:20.407Z"
   },
   {
    "duration": 34,
    "start_time": "2024-06-04T16:12:20.456Z"
   },
   {
    "duration": 10,
    "start_time": "2024-06-04T16:12:20.492Z"
   },
   {
    "duration": 13,
    "start_time": "2024-06-04T16:12:20.503Z"
   },
   {
    "duration": 8,
    "start_time": "2024-06-04T16:12:22.176Z"
   },
   {
    "duration": 13,
    "start_time": "2024-06-04T16:12:40.799Z"
   },
   {
    "duration": 7,
    "start_time": "2024-06-04T16:12:49.728Z"
   },
   {
    "duration": 958,
    "start_time": "2024-06-04T16:12:59.300Z"
   },
   {
    "duration": 107,
    "start_time": "2024-06-04T16:13:00.259Z"
   },
   {
    "duration": 17,
    "start_time": "2024-06-04T16:13:00.367Z"
   },
   {
    "duration": 38,
    "start_time": "2024-06-04T16:13:00.385Z"
   },
   {
    "duration": 60,
    "start_time": "2024-06-04T16:13:00.424Z"
   },
   {
    "duration": 88,
    "start_time": "2024-06-04T16:13:00.486Z"
   },
   {
    "duration": 45,
    "start_time": "2024-06-04T16:13:00.576Z"
   },
   {
    "duration": 7,
    "start_time": "2024-06-04T16:13:25.059Z"
   },
   {
    "duration": 5,
    "start_time": "2024-06-04T16:13:51.854Z"
   },
   {
    "duration": 893,
    "start_time": "2024-06-04T16:13:56.078Z"
   },
   {
    "duration": 123,
    "start_time": "2024-06-04T16:13:56.973Z"
   },
   {
    "duration": 18,
    "start_time": "2024-06-04T16:13:57.098Z"
   },
   {
    "duration": 15,
    "start_time": "2024-06-04T16:13:57.117Z"
   },
   {
    "duration": 12,
    "start_time": "2024-06-04T16:13:57.134Z"
   },
   {
    "duration": 8,
    "start_time": "2024-06-04T16:13:57.147Z"
   },
   {
    "duration": 17,
    "start_time": "2024-06-04T16:13:57.156Z"
   },
   {
    "duration": 7,
    "start_time": "2024-06-04T16:13:57.174Z"
   },
   {
    "duration": 4,
    "start_time": "2024-06-04T16:13:57.183Z"
   },
   {
    "duration": 25,
    "start_time": "2024-06-04T16:14:06.275Z"
   },
   {
    "duration": 8,
    "start_time": "2024-06-04T16:14:12.268Z"
   },
   {
    "duration": 932,
    "start_time": "2024-06-04T16:14:24.241Z"
   },
   {
    "duration": 106,
    "start_time": "2024-06-04T16:14:25.174Z"
   },
   {
    "duration": 16,
    "start_time": "2024-06-04T16:14:25.281Z"
   },
   {
    "duration": 12,
    "start_time": "2024-06-04T16:14:25.298Z"
   },
   {
    "duration": 18,
    "start_time": "2024-06-04T16:14:25.312Z"
   },
   {
    "duration": 19,
    "start_time": "2024-06-04T16:14:25.331Z"
   },
   {
    "duration": 7,
    "start_time": "2024-06-04T16:14:25.351Z"
   },
   {
    "duration": 6,
    "start_time": "2024-06-04T16:14:25.359Z"
   },
   {
    "duration": 7,
    "start_time": "2024-06-04T16:14:25.366Z"
   },
   {
    "duration": 95,
    "start_time": "2024-06-04T17:10:13.425Z"
   },
   {
    "duration": 17,
    "start_time": "2024-06-04T17:11:19.277Z"
   },
   {
    "duration": 16,
    "start_time": "2024-06-04T17:11:26.602Z"
   },
   {
    "duration": 108,
    "start_time": "2024-06-04T17:11:37.476Z"
   },
   {
    "duration": 90,
    "start_time": "2024-06-04T17:11:58.328Z"
   },
   {
    "duration": 99,
    "start_time": "2024-06-04T17:12:05.031Z"
   },
   {
    "duration": 15,
    "start_time": "2024-06-04T17:12:24.714Z"
   },
   {
    "duration": 58,
    "start_time": "2024-06-04T17:16:33.219Z"
   },
   {
    "duration": 17,
    "start_time": "2024-06-04T17:16:41.119Z"
   },
   {
    "duration": 15,
    "start_time": "2024-06-04T17:20:42.027Z"
   },
   {
    "duration": 113,
    "start_time": "2024-06-04T17:20:53.559Z"
   },
   {
    "duration": 97,
    "start_time": "2024-06-04T17:21:38.638Z"
   },
   {
    "duration": 131,
    "start_time": "2024-06-04T17:21:44.472Z"
   },
   {
    "duration": 74,
    "start_time": "2024-06-04T17:29:21.508Z"
   },
   {
    "duration": 141,
    "start_time": "2024-06-04T17:29:26.783Z"
   },
   {
    "duration": 143,
    "start_time": "2024-06-04T17:30:13.565Z"
   },
   {
    "duration": 152,
    "start_time": "2024-06-04T17:30:17.461Z"
   },
   {
    "duration": 184,
    "start_time": "2024-06-04T17:30:39.548Z"
   },
   {
    "duration": 131,
    "start_time": "2024-06-04T17:32:14.050Z"
   },
   {
    "duration": 9,
    "start_time": "2024-06-04T17:33:11.656Z"
   },
   {
    "duration": 904,
    "start_time": "2024-06-04T17:33:15.784Z"
   },
   {
    "duration": 89,
    "start_time": "2024-06-04T17:33:22.155Z"
   },
   {
    "duration": 106,
    "start_time": "2024-06-04T17:33:37.992Z"
   },
   {
    "duration": 150,
    "start_time": "2024-06-04T17:34:43.746Z"
   },
   {
    "duration": 80,
    "start_time": "2024-06-04T17:35:07.716Z"
   },
   {
    "duration": 8,
    "start_time": "2024-06-04T17:35:17.403Z"
   },
   {
    "duration": 942,
    "start_time": "2024-06-04T17:35:39.430Z"
   },
   {
    "duration": 144,
    "start_time": "2024-06-04T17:35:40.378Z"
   },
   {
    "duration": 17,
    "start_time": "2024-06-04T17:35:40.523Z"
   },
   {
    "duration": 12,
    "start_time": "2024-06-04T17:35:40.541Z"
   },
   {
    "duration": 11,
    "start_time": "2024-06-04T17:35:40.555Z"
   },
   {
    "duration": 9,
    "start_time": "2024-06-04T17:35:40.567Z"
   },
   {
    "duration": 11,
    "start_time": "2024-06-04T17:35:40.579Z"
   },
   {
    "duration": 7,
    "start_time": "2024-06-04T17:35:40.591Z"
   },
   {
    "duration": 4,
    "start_time": "2024-06-04T17:35:40.600Z"
   },
   {
    "duration": 164,
    "start_time": "2024-06-04T17:35:40.605Z"
   },
   {
    "duration": 100,
    "start_time": "2024-06-04T17:35:40.770Z"
   },
   {
    "duration": 7,
    "start_time": "2024-06-04T17:35:48.711Z"
   },
   {
    "duration": 12,
    "start_time": "2024-06-04T17:40:36.909Z"
   },
   {
    "duration": 7,
    "start_time": "2024-06-04T17:41:02.415Z"
   },
   {
    "duration": 973,
    "start_time": "2024-06-04T17:41:52.792Z"
   },
   {
    "duration": 135,
    "start_time": "2024-06-04T17:41:53.767Z"
   },
   {
    "duration": 17,
    "start_time": "2024-06-04T17:41:53.903Z"
   },
   {
    "duration": 12,
    "start_time": "2024-06-04T17:41:53.922Z"
   },
   {
    "duration": 12,
    "start_time": "2024-06-04T17:41:53.936Z"
   },
   {
    "duration": 8,
    "start_time": "2024-06-04T17:41:53.949Z"
   },
   {
    "duration": 7,
    "start_time": "2024-06-04T17:41:53.958Z"
   },
   {
    "duration": 11,
    "start_time": "2024-06-04T17:41:53.966Z"
   },
   {
    "duration": 7,
    "start_time": "2024-06-04T17:41:53.978Z"
   },
   {
    "duration": 162,
    "start_time": "2024-06-04T17:41:53.991Z"
   },
   {
    "duration": 92,
    "start_time": "2024-06-04T17:41:54.155Z"
   },
   {
    "duration": 179,
    "start_time": "2024-06-04T17:49:19.631Z"
   },
   {
    "duration": 92,
    "start_time": "2024-06-04T17:49:26.353Z"
   },
   {
    "duration": 80,
    "start_time": "2024-06-04T17:49:30.355Z"
   },
   {
    "duration": 82,
    "start_time": "2024-06-04T17:49:34.498Z"
   },
   {
    "duration": 68,
    "start_time": "2024-06-04T17:49:37.244Z"
   },
   {
    "duration": 65,
    "start_time": "2024-06-04T17:49:49.198Z"
   },
   {
    "duration": 67,
    "start_time": "2024-06-04T17:49:53.803Z"
   },
   {
    "duration": 106,
    "start_time": "2024-06-04T17:49:56.539Z"
   },
   {
    "duration": 79,
    "start_time": "2024-06-04T17:50:03.927Z"
   },
   {
    "duration": 77,
    "start_time": "2024-06-04T17:50:07.987Z"
   },
   {
    "duration": 76,
    "start_time": "2024-06-04T17:50:10.251Z"
   },
   {
    "duration": 74,
    "start_time": "2024-06-04T17:50:56.448Z"
   },
   {
    "duration": 98,
    "start_time": "2024-06-04T17:51:09.681Z"
   },
   {
    "duration": 104,
    "start_time": "2024-06-04T17:51:15.262Z"
   },
   {
    "duration": 99,
    "start_time": "2024-06-04T17:51:19.190Z"
   },
   {
    "duration": 105,
    "start_time": "2024-06-04T17:51:21.015Z"
   },
   {
    "duration": 71,
    "start_time": "2024-06-04T17:51:33.180Z"
   },
   {
    "duration": 94,
    "start_time": "2024-06-04T17:51:39.644Z"
   },
   {
    "duration": 88,
    "start_time": "2024-06-04T17:51:44.652Z"
   },
   {
    "duration": 90,
    "start_time": "2024-06-04T17:51:48.787Z"
   },
   {
    "duration": 103,
    "start_time": "2024-06-04T17:52:04.443Z"
   },
   {
    "duration": 66,
    "start_time": "2024-06-04T17:54:27.646Z"
   },
   {
    "duration": 66,
    "start_time": "2024-06-04T17:54:35.300Z"
   },
   {
    "duration": 122,
    "start_time": "2024-06-04T17:55:11.808Z"
   },
   {
    "duration": 980,
    "start_time": "2024-06-04T17:55:15.494Z"
   },
   {
    "duration": 132,
    "start_time": "2024-06-04T17:55:16.476Z"
   },
   {
    "duration": 16,
    "start_time": "2024-06-04T17:55:16.609Z"
   },
   {
    "duration": 28,
    "start_time": "2024-06-04T17:55:16.626Z"
   },
   {
    "duration": 11,
    "start_time": "2024-06-04T17:55:16.655Z"
   },
   {
    "duration": 28,
    "start_time": "2024-06-04T17:55:16.667Z"
   },
   {
    "duration": 27,
    "start_time": "2024-06-04T17:55:16.696Z"
   },
   {
    "duration": 9,
    "start_time": "2024-06-04T17:55:16.724Z"
   },
   {
    "duration": 5,
    "start_time": "2024-06-04T17:55:16.734Z"
   },
   {
    "duration": 163,
    "start_time": "2024-06-04T17:55:16.740Z"
   },
   {
    "duration": 78,
    "start_time": "2024-06-04T17:55:16.904Z"
   },
   {
    "duration": 118,
    "start_time": "2024-06-04T17:55:16.984Z"
   },
   {
    "duration": 401,
    "start_time": "2024-06-04T17:57:20.526Z"
   },
   {
    "duration": 188,
    "start_time": "2024-06-04T17:57:52.019Z"
   },
   {
    "duration": 196,
    "start_time": "2024-06-04T17:58:01.561Z"
   },
   {
    "duration": 229,
    "start_time": "2024-06-04T17:58:07.444Z"
   },
   {
    "duration": 205,
    "start_time": "2024-06-04T17:58:20.069Z"
   },
   {
    "duration": 193,
    "start_time": "2024-06-04T17:58:26.309Z"
   },
   {
    "duration": 155,
    "start_time": "2024-06-04T17:58:32.543Z"
   },
   {
    "duration": 140,
    "start_time": "2024-06-04T17:58:36.079Z"
   },
   {
    "duration": 146,
    "start_time": "2024-06-04T17:58:40.147Z"
   },
   {
    "duration": 112,
    "start_time": "2024-06-04T17:58:44.758Z"
   },
   {
    "duration": 132,
    "start_time": "2024-06-04T17:58:49.897Z"
   },
   {
    "duration": 170,
    "start_time": "2024-06-04T17:59:14.031Z"
   },
   {
    "duration": 125,
    "start_time": "2024-06-04T17:59:17.145Z"
   },
   {
    "duration": 973,
    "start_time": "2024-06-04T17:59:21.037Z"
   },
   {
    "duration": 115,
    "start_time": "2024-06-04T17:59:22.012Z"
   },
   {
    "duration": 15,
    "start_time": "2024-06-04T17:59:22.128Z"
   },
   {
    "duration": 13,
    "start_time": "2024-06-04T17:59:22.144Z"
   },
   {
    "duration": 15,
    "start_time": "2024-06-04T17:59:22.159Z"
   },
   {
    "duration": 11,
    "start_time": "2024-06-04T17:59:22.175Z"
   },
   {
    "duration": 9,
    "start_time": "2024-06-04T17:59:22.187Z"
   },
   {
    "duration": 7,
    "start_time": "2024-06-04T17:59:22.198Z"
   },
   {
    "duration": 10,
    "start_time": "2024-06-04T17:59:22.206Z"
   },
   {
    "duration": 182,
    "start_time": "2024-06-04T17:59:22.218Z"
   },
   {
    "duration": 90,
    "start_time": "2024-06-04T17:59:22.401Z"
   },
   {
    "duration": 96,
    "start_time": "2024-06-04T17:59:22.492Z"
   },
   {
    "duration": 133,
    "start_time": "2024-06-04T17:59:22.589Z"
   },
   {
    "duration": 145,
    "start_time": "2024-06-04T17:59:31.458Z"
   },
   {
    "duration": 142,
    "start_time": "2024-06-04T18:00:19.182Z"
   },
   {
    "duration": 139,
    "start_time": "2024-06-04T18:01:07.650Z"
   },
   {
    "duration": 128,
    "start_time": "2024-06-04T18:01:19.733Z"
   },
   {
    "duration": 130,
    "start_time": "2024-06-04T18:01:28.028Z"
   },
   {
    "duration": 184,
    "start_time": "2024-06-04T18:01:30.820Z"
   },
   {
    "duration": 136,
    "start_time": "2024-06-04T18:01:33.084Z"
   },
   {
    "duration": 92,
    "start_time": "2024-06-04T18:02:18.632Z"
   },
   {
    "duration": 920,
    "start_time": "2024-06-04T18:02:24.441Z"
   },
   {
    "duration": 152,
    "start_time": "2024-06-04T18:02:25.370Z"
   },
   {
    "duration": 16,
    "start_time": "2024-06-04T18:02:25.523Z"
   },
   {
    "duration": 14,
    "start_time": "2024-06-04T18:02:25.540Z"
   },
   {
    "duration": 17,
    "start_time": "2024-06-04T18:02:25.556Z"
   },
   {
    "duration": 7,
    "start_time": "2024-06-04T18:02:25.574Z"
   },
   {
    "duration": 21,
    "start_time": "2024-06-04T18:02:25.582Z"
   },
   {
    "duration": 8,
    "start_time": "2024-06-04T18:02:25.604Z"
   },
   {
    "duration": 48,
    "start_time": "2024-06-04T18:02:25.613Z"
   },
   {
    "duration": 169,
    "start_time": "2024-06-04T18:02:25.662Z"
   },
   {
    "duration": 92,
    "start_time": "2024-06-04T18:02:25.832Z"
   },
   {
    "duration": 119,
    "start_time": "2024-06-04T18:02:25.925Z"
   },
   {
    "duration": 137,
    "start_time": "2024-06-04T18:02:26.045Z"
   },
   {
    "duration": 82,
    "start_time": "2024-06-04T18:03:13.467Z"
   },
   {
    "duration": 878,
    "start_time": "2024-06-04T18:03:17.903Z"
   },
   {
    "duration": 107,
    "start_time": "2024-06-04T18:03:18.783Z"
   },
   {
    "duration": 15,
    "start_time": "2024-06-04T18:03:18.892Z"
   },
   {
    "duration": 11,
    "start_time": "2024-06-04T18:03:18.909Z"
   },
   {
    "duration": 11,
    "start_time": "2024-06-04T18:03:18.921Z"
   },
   {
    "duration": 21,
    "start_time": "2024-06-04T18:03:18.934Z"
   },
   {
    "duration": 8,
    "start_time": "2024-06-04T18:03:18.956Z"
   },
   {
    "duration": 15,
    "start_time": "2024-06-04T18:03:18.965Z"
   },
   {
    "duration": 7,
    "start_time": "2024-06-04T18:03:18.982Z"
   },
   {
    "duration": 158,
    "start_time": "2024-06-04T18:03:18.991Z"
   },
   {
    "duration": 90,
    "start_time": "2024-06-04T18:03:19.150Z"
   },
   {
    "duration": 95,
    "start_time": "2024-06-04T18:03:19.241Z"
   },
   {
    "duration": 135,
    "start_time": "2024-06-04T18:03:19.337Z"
   },
   {
    "duration": 13,
    "start_time": "2024-06-04T18:04:07.702Z"
   },
   {
    "duration": 7,
    "start_time": "2024-06-04T18:04:11.447Z"
   },
   {
    "duration": 134,
    "start_time": "2024-06-04T18:09:36.877Z"
   },
   {
    "duration": 130,
    "start_time": "2024-06-04T18:09:39.699Z"
   },
   {
    "duration": 147,
    "start_time": "2024-06-04T18:09:45.004Z"
   },
   {
    "duration": 121,
    "start_time": "2024-06-04T18:16:17.240Z"
   },
   {
    "duration": 129,
    "start_time": "2024-06-04T18:16:21.209Z"
   },
   {
    "duration": 175,
    "start_time": "2024-06-04T18:16:35.133Z"
   },
   {
    "duration": 193,
    "start_time": "2024-06-04T18:16:38.524Z"
   },
   {
    "duration": 182,
    "start_time": "2024-06-04T18:16:44.154Z"
   },
   {
    "duration": 928,
    "start_time": "2024-06-04T18:18:23.910Z"
   },
   {
    "duration": 129,
    "start_time": "2024-06-04T18:18:24.840Z"
   },
   {
    "duration": 15,
    "start_time": "2024-06-04T18:18:24.971Z"
   },
   {
    "duration": 12,
    "start_time": "2024-06-04T18:18:24.987Z"
   },
   {
    "duration": 10,
    "start_time": "2024-06-04T18:18:25.000Z"
   },
   {
    "duration": 9,
    "start_time": "2024-06-04T18:18:25.011Z"
   },
   {
    "duration": 6,
    "start_time": "2024-06-04T18:18:25.022Z"
   },
   {
    "duration": 12,
    "start_time": "2024-06-04T18:18:25.029Z"
   },
   {
    "duration": 5,
    "start_time": "2024-06-04T18:18:25.042Z"
   },
   {
    "duration": 166,
    "start_time": "2024-06-04T18:18:25.071Z"
   },
   {
    "duration": 88,
    "start_time": "2024-06-04T18:18:25.239Z"
   },
   {
    "duration": 99,
    "start_time": "2024-06-04T18:18:25.328Z"
   },
   {
    "duration": 137,
    "start_time": "2024-06-04T18:18:25.428Z"
   },
   {
    "duration": 186,
    "start_time": "2024-06-04T18:18:25.567Z"
   },
   {
    "duration": 977,
    "start_time": "2024-06-04T18:18:39.915Z"
   },
   {
    "duration": 121,
    "start_time": "2024-06-04T18:18:40.893Z"
   },
   {
    "duration": 18,
    "start_time": "2024-06-04T18:18:41.015Z"
   },
   {
    "duration": 13,
    "start_time": "2024-06-04T18:18:41.034Z"
   },
   {
    "duration": 11,
    "start_time": "2024-06-04T18:18:41.048Z"
   },
   {
    "duration": 8,
    "start_time": "2024-06-04T18:18:41.059Z"
   },
   {
    "duration": 7,
    "start_time": "2024-06-04T18:18:41.068Z"
   },
   {
    "duration": 7,
    "start_time": "2024-06-04T18:18:41.076Z"
   },
   {
    "duration": 9,
    "start_time": "2024-06-04T18:18:41.084Z"
   },
   {
    "duration": 147,
    "start_time": "2024-06-04T18:18:41.094Z"
   },
   {
    "duration": 90,
    "start_time": "2024-06-04T18:18:41.243Z"
   },
   {
    "duration": 100,
    "start_time": "2024-06-04T18:18:41.334Z"
   },
   {
    "duration": 154,
    "start_time": "2024-06-04T18:18:41.435Z"
   },
   {
    "duration": 188,
    "start_time": "2024-06-04T18:18:41.591Z"
   },
   {
    "duration": 12,
    "start_time": "2024-06-04T18:18:53.055Z"
   },
   {
    "duration": 947,
    "start_time": "2024-06-04T18:18:56.239Z"
   },
   {
    "duration": 117,
    "start_time": "2024-06-04T18:18:57.187Z"
   },
   {
    "duration": 17,
    "start_time": "2024-06-04T18:18:57.306Z"
   },
   {
    "duration": 12,
    "start_time": "2024-06-04T18:18:57.325Z"
   },
   {
    "duration": 19,
    "start_time": "2024-06-04T18:18:57.338Z"
   },
   {
    "duration": 12,
    "start_time": "2024-06-04T18:18:57.359Z"
   },
   {
    "duration": 21,
    "start_time": "2024-06-04T18:18:57.372Z"
   },
   {
    "duration": 18,
    "start_time": "2024-06-04T18:18:57.395Z"
   },
   {
    "duration": 19,
    "start_time": "2024-06-04T18:18:57.414Z"
   },
   {
    "duration": 169,
    "start_time": "2024-06-04T18:18:57.434Z"
   },
   {
    "duration": 91,
    "start_time": "2024-06-04T18:18:57.605Z"
   },
   {
    "duration": 101,
    "start_time": "2024-06-04T18:18:57.697Z"
   },
   {
    "duration": 139,
    "start_time": "2024-06-04T18:18:57.799Z"
   },
   {
    "duration": 195,
    "start_time": "2024-06-04T18:18:57.940Z"
   },
   {
    "duration": 175,
    "start_time": "2024-06-04T18:19:19.112Z"
   },
   {
    "duration": 133,
    "start_time": "2024-06-04T18:19:24.831Z"
   },
   {
    "duration": 314,
    "start_time": "2024-06-04T18:19:27.891Z"
   },
   {
    "duration": 179,
    "start_time": "2024-06-04T18:19:35.039Z"
   },
   {
    "duration": 173,
    "start_time": "2024-06-04T18:19:49.636Z"
   },
   {
    "duration": 176,
    "start_time": "2024-06-04T18:19:51.818Z"
   },
   {
    "duration": 182,
    "start_time": "2024-06-04T18:20:15.526Z"
   },
   {
    "duration": 238,
    "start_time": "2024-06-04T18:20:32.330Z"
   },
   {
    "duration": 209,
    "start_time": "2024-06-04T18:20:49.059Z"
   },
   {
    "duration": 198,
    "start_time": "2024-06-04T18:20:58.267Z"
   },
   {
    "duration": 193,
    "start_time": "2024-06-04T18:21:02.950Z"
   },
   {
    "duration": 221,
    "start_time": "2024-06-04T18:21:21.745Z"
   },
   {
    "duration": 307,
    "start_time": "2024-06-04T18:21:39.166Z"
   },
   {
    "duration": 978,
    "start_time": "2024-06-04T18:22:57.207Z"
   },
   {
    "duration": 121,
    "start_time": "2024-06-04T18:22:58.186Z"
   },
   {
    "duration": 15,
    "start_time": "2024-06-04T18:22:58.308Z"
   },
   {
    "duration": 11,
    "start_time": "2024-06-04T18:22:58.325Z"
   },
   {
    "duration": 11,
    "start_time": "2024-06-04T18:22:58.338Z"
   },
   {
    "duration": 8,
    "start_time": "2024-06-04T18:22:58.351Z"
   },
   {
    "duration": 7,
    "start_time": "2024-06-04T18:22:58.361Z"
   },
   {
    "duration": 8,
    "start_time": "2024-06-04T18:22:58.369Z"
   },
   {
    "duration": 5,
    "start_time": "2024-06-04T18:22:58.379Z"
   },
   {
    "duration": 152,
    "start_time": "2024-06-04T18:22:58.386Z"
   },
   {
    "duration": 92,
    "start_time": "2024-06-04T18:22:58.540Z"
   },
   {
    "duration": 94,
    "start_time": "2024-06-04T18:22:58.634Z"
   },
   {
    "duration": 137,
    "start_time": "2024-06-04T18:22:58.730Z"
   },
   {
    "duration": 191,
    "start_time": "2024-06-04T18:22:58.870Z"
   },
   {
    "duration": 215,
    "start_time": "2024-06-04T18:22:59.062Z"
   },
   {
    "duration": 976,
    "start_time": "2024-06-04T18:25:18.483Z"
   },
   {
    "duration": 124,
    "start_time": "2024-06-04T18:25:19.461Z"
   },
   {
    "duration": 17,
    "start_time": "2024-06-04T18:25:19.586Z"
   },
   {
    "duration": 13,
    "start_time": "2024-06-04T18:25:19.604Z"
   },
   {
    "duration": 11,
    "start_time": "2024-06-04T18:25:19.619Z"
   },
   {
    "duration": 9,
    "start_time": "2024-06-04T18:25:19.631Z"
   },
   {
    "duration": 8,
    "start_time": "2024-06-04T18:25:19.641Z"
   },
   {
    "duration": 8,
    "start_time": "2024-06-04T18:25:19.670Z"
   },
   {
    "duration": 4,
    "start_time": "2024-06-04T18:25:19.679Z"
   },
   {
    "duration": 162,
    "start_time": "2024-06-04T18:25:19.685Z"
   },
   {
    "duration": 92,
    "start_time": "2024-06-04T18:25:19.848Z"
   },
   {
    "duration": 104,
    "start_time": "2024-06-04T18:25:19.942Z"
   },
   {
    "duration": 142,
    "start_time": "2024-06-04T18:25:20.047Z"
   },
   {
    "duration": 202,
    "start_time": "2024-06-04T18:25:20.191Z"
   },
   {
    "duration": 202,
    "start_time": "2024-06-04T18:25:20.395Z"
   },
   {
    "duration": 20,
    "start_time": "2024-06-04T20:12:15.223Z"
   },
   {
    "duration": 26,
    "start_time": "2024-06-04T20:12:58.915Z"
   },
   {
    "duration": 982,
    "start_time": "2024-06-04T20:13:05.983Z"
   },
   {
    "duration": 457,
    "start_time": "2024-06-04T20:13:06.966Z"
   },
   {
    "duration": 15,
    "start_time": "2024-06-04T20:13:07.425Z"
   },
   {
    "duration": 13,
    "start_time": "2024-06-04T20:13:07.441Z"
   },
   {
    "duration": 11,
    "start_time": "2024-06-04T20:13:07.456Z"
   },
   {
    "duration": 9,
    "start_time": "2024-06-04T20:13:07.468Z"
   },
   {
    "duration": 8,
    "start_time": "2024-06-04T20:13:07.478Z"
   },
   {
    "duration": 8,
    "start_time": "2024-06-04T20:13:07.487Z"
   },
   {
    "duration": 5,
    "start_time": "2024-06-04T20:13:07.496Z"
   },
   {
    "duration": 159,
    "start_time": "2024-06-04T20:13:07.504Z"
   },
   {
    "duration": 81,
    "start_time": "2024-06-04T20:13:07.665Z"
   },
   {
    "duration": 105,
    "start_time": "2024-06-04T20:13:07.748Z"
   },
   {
    "duration": 136,
    "start_time": "2024-06-04T20:13:07.854Z"
   },
   {
    "duration": 204,
    "start_time": "2024-06-04T20:13:07.992Z"
   },
   {
    "duration": 199,
    "start_time": "2024-06-04T20:13:08.198Z"
   },
   {
    "duration": 25,
    "start_time": "2024-06-04T20:13:08.399Z"
   },
   {
    "duration": 25,
    "start_time": "2024-06-04T20:14:08.814Z"
   },
   {
    "duration": 25,
    "start_time": "2024-06-04T20:14:25.030Z"
   },
   {
    "duration": 25,
    "start_time": "2024-06-04T20:14:30.987Z"
   },
   {
    "duration": 971,
    "start_time": "2024-06-04T20:14:34.367Z"
   },
   {
    "duration": 118,
    "start_time": "2024-06-04T20:14:35.339Z"
   },
   {
    "duration": 15,
    "start_time": "2024-06-04T20:14:35.458Z"
   },
   {
    "duration": 12,
    "start_time": "2024-06-04T20:14:35.475Z"
   },
   {
    "duration": 11,
    "start_time": "2024-06-04T20:14:35.488Z"
   },
   {
    "duration": 9,
    "start_time": "2024-06-04T20:14:35.501Z"
   },
   {
    "duration": 7,
    "start_time": "2024-06-04T20:14:35.511Z"
   },
   {
    "duration": 7,
    "start_time": "2024-06-04T20:14:35.520Z"
   },
   {
    "duration": 11,
    "start_time": "2024-06-04T20:14:35.529Z"
   },
   {
    "duration": 168,
    "start_time": "2024-06-04T20:14:35.542Z"
   },
   {
    "duration": 93,
    "start_time": "2024-06-04T20:14:35.711Z"
   },
   {
    "duration": 98,
    "start_time": "2024-06-04T20:14:35.806Z"
   },
   {
    "duration": 136,
    "start_time": "2024-06-04T20:14:35.906Z"
   },
   {
    "duration": 195,
    "start_time": "2024-06-04T20:14:36.044Z"
   },
   {
    "duration": 203,
    "start_time": "2024-06-04T20:14:36.240Z"
   },
   {
    "duration": 33,
    "start_time": "2024-06-04T20:14:36.445Z"
   },
   {
    "duration": 788,
    "start_time": "2024-06-04T20:40:24.511Z"
   },
   {
    "duration": 24,
    "start_time": "2024-06-04T20:50:14.188Z"
   },
   {
    "duration": 5,
    "start_time": "2024-06-04T20:52:14.562Z"
   },
   {
    "duration": 16,
    "start_time": "2024-06-04T20:52:29.033Z"
   },
   {
    "duration": 22,
    "start_time": "2024-06-04T20:55:14.913Z"
   },
   {
    "duration": 23,
    "start_time": "2024-06-04T20:55:46.238Z"
   },
   {
    "duration": 17,
    "start_time": "2024-06-04T20:55:56.041Z"
   },
   {
    "duration": 18,
    "start_time": "2024-06-04T21:03:29.835Z"
   },
   {
    "duration": 912,
    "start_time": "2024-06-04T21:03:38.957Z"
   },
   {
    "duration": 116,
    "start_time": "2024-06-04T21:03:39.871Z"
   },
   {
    "duration": 16,
    "start_time": "2024-06-04T21:03:39.988Z"
   },
   {
    "duration": 13,
    "start_time": "2024-06-04T21:03:40.006Z"
   },
   {
    "duration": 10,
    "start_time": "2024-06-04T21:03:40.020Z"
   },
   {
    "duration": 19,
    "start_time": "2024-06-04T21:03:40.032Z"
   },
   {
    "duration": 18,
    "start_time": "2024-06-04T21:03:40.052Z"
   },
   {
    "duration": 15,
    "start_time": "2024-06-04T21:03:40.071Z"
   },
   {
    "duration": 10,
    "start_time": "2024-06-04T21:03:40.087Z"
   },
   {
    "duration": 157,
    "start_time": "2024-06-04T21:03:40.098Z"
   },
   {
    "duration": 86,
    "start_time": "2024-06-04T21:03:40.256Z"
   },
   {
    "duration": 105,
    "start_time": "2024-06-04T21:03:40.343Z"
   },
   {
    "duration": 149,
    "start_time": "2024-06-04T21:03:40.449Z"
   },
   {
    "duration": 193,
    "start_time": "2024-06-04T21:03:40.600Z"
   },
   {
    "duration": 204,
    "start_time": "2024-06-04T21:03:40.795Z"
   },
   {
    "duration": 27,
    "start_time": "2024-06-04T21:03:41.001Z"
   },
   {
    "duration": 19,
    "start_time": "2024-06-04T21:03:41.030Z"
   },
   {
    "duration": 34,
    "start_time": "2024-06-04T21:03:41.050Z"
   },
   {
    "duration": 234,
    "start_time": "2024-06-04T21:04:35.506Z"
   },
   {
    "duration": 216,
    "start_time": "2024-06-04T21:04:46.026Z"
   },
   {
    "duration": 191,
    "start_time": "2024-06-04T21:05:15.281Z"
   },
   {
    "duration": 197,
    "start_time": "2024-06-04T21:05:30.664Z"
   },
   {
    "duration": 194,
    "start_time": "2024-06-04T21:05:36.422Z"
   },
   {
    "duration": 193,
    "start_time": "2024-06-04T21:05:47.740Z"
   },
   {
    "duration": 943,
    "start_time": "2024-06-04T21:09:33.037Z"
   },
   {
    "duration": 138,
    "start_time": "2024-06-04T21:09:33.982Z"
   },
   {
    "duration": 15,
    "start_time": "2024-06-04T21:09:34.121Z"
   },
   {
    "duration": 12,
    "start_time": "2024-06-04T21:09:34.138Z"
   },
   {
    "duration": 10,
    "start_time": "2024-06-04T21:09:34.151Z"
   },
   {
    "duration": 7,
    "start_time": "2024-06-04T21:09:34.162Z"
   },
   {
    "duration": 8,
    "start_time": "2024-06-04T21:09:34.170Z"
   },
   {
    "duration": 13,
    "start_time": "2024-06-04T21:09:34.179Z"
   },
   {
    "duration": 5,
    "start_time": "2024-06-04T21:09:34.193Z"
   },
   {
    "duration": 145,
    "start_time": "2024-06-04T21:09:34.200Z"
   },
   {
    "duration": 82,
    "start_time": "2024-06-04T21:09:34.347Z"
   },
   {
    "duration": 97,
    "start_time": "2024-06-04T21:09:34.431Z"
   },
   {
    "duration": 136,
    "start_time": "2024-06-04T21:09:34.529Z"
   },
   {
    "duration": 193,
    "start_time": "2024-06-04T21:09:34.670Z"
   },
   {
    "duration": 201,
    "start_time": "2024-06-04T21:09:34.871Z"
   },
   {
    "duration": 36,
    "start_time": "2024-06-04T21:09:35.074Z"
   },
   {
    "duration": 19,
    "start_time": "2024-06-04T21:09:35.111Z"
   },
   {
    "duration": 271,
    "start_time": "2024-06-04T21:09:35.132Z"
   },
   {
    "duration": 192,
    "start_time": "2024-06-04T21:09:35.405Z"
   },
   {
    "duration": 17,
    "start_time": "2024-06-04T21:09:35.598Z"
   },
   {
    "duration": 206,
    "start_time": "2024-06-04T21:09:35.617Z"
   },
   {
    "duration": 199,
    "start_time": "2024-06-04T21:09:35.824Z"
   },
   {
    "duration": 99,
    "start_time": "2024-06-04T22:27:26.086Z"
   },
   {
    "duration": 18,
    "start_time": "2024-06-04T22:27:51.080Z"
   },
   {
    "duration": 23,
    "start_time": "2024-06-04T22:28:02.991Z"
   },
   {
    "duration": 86,
    "start_time": "2024-06-04T23:06:25.394Z"
   },
   {
    "duration": 7,
    "start_time": "2024-06-04T23:06:31.862Z"
   },
   {
    "duration": 834,
    "start_time": "2024-06-04T23:06:36.761Z"
   },
   {
    "duration": 23,
    "start_time": "2024-06-04T23:06:55.368Z"
   },
   {
    "duration": 971,
    "start_time": "2024-06-04T23:06:59.592Z"
   },
   {
    "duration": 188,
    "start_time": "2024-06-04T23:07:00.565Z"
   },
   {
    "duration": 15,
    "start_time": "2024-06-04T23:07:00.755Z"
   },
   {
    "duration": 39,
    "start_time": "2024-06-04T23:07:00.771Z"
   },
   {
    "duration": 36,
    "start_time": "2024-06-04T23:07:00.813Z"
   },
   {
    "duration": 36,
    "start_time": "2024-06-04T23:07:00.851Z"
   },
   {
    "duration": 64,
    "start_time": "2024-06-04T23:07:00.888Z"
   },
   {
    "duration": 75,
    "start_time": "2024-06-04T23:07:00.954Z"
   },
   {
    "duration": 43,
    "start_time": "2024-06-04T23:07:01.030Z"
   },
   {
    "duration": 189,
    "start_time": "2024-06-04T23:07:01.075Z"
   },
   {
    "duration": 81,
    "start_time": "2024-06-04T23:07:01.265Z"
   },
   {
    "duration": 100,
    "start_time": "2024-06-04T23:07:01.348Z"
   },
   {
    "duration": 137,
    "start_time": "2024-06-04T23:07:01.449Z"
   },
   {
    "duration": 199,
    "start_time": "2024-06-04T23:07:01.590Z"
   },
   {
    "duration": 193,
    "start_time": "2024-06-04T23:07:01.791Z"
   },
   {
    "duration": 26,
    "start_time": "2024-06-04T23:07:01.985Z"
   },
   {
    "duration": 17,
    "start_time": "2024-06-04T23:07:02.012Z"
   },
   {
    "duration": 253,
    "start_time": "2024-06-04T23:07:02.030Z"
   },
   {
    "duration": 209,
    "start_time": "2024-06-04T23:07:02.285Z"
   },
   {
    "duration": 17,
    "start_time": "2024-06-04T23:07:02.495Z"
   },
   {
    "duration": 237,
    "start_time": "2024-06-04T23:07:02.513Z"
   },
   {
    "duration": 198,
    "start_time": "2024-06-04T23:07:02.751Z"
   },
   {
    "duration": 26,
    "start_time": "2024-06-04T23:07:02.951Z"
   },
   {
    "duration": 113,
    "start_time": "2024-06-05T06:54:17.926Z"
   },
   {
    "duration": 23,
    "start_time": "2024-06-05T06:54:28.900Z"
   },
   {
    "duration": 84,
    "start_time": "2024-06-05T06:54:53.611Z"
   },
   {
    "duration": 25,
    "start_time": "2024-06-05T06:54:56.182Z"
   },
   {
    "duration": 25,
    "start_time": "2024-06-05T06:55:17.528Z"
   },
   {
    "duration": 35,
    "start_time": "2024-06-05T06:55:21.846Z"
   },
   {
    "duration": 36,
    "start_time": "2024-06-05T06:55:25.079Z"
   },
   {
    "duration": 21,
    "start_time": "2024-06-05T07:09:02.249Z"
   },
   {
    "duration": 36,
    "start_time": "2024-06-05T07:09:09.852Z"
   },
   {
    "duration": 27,
    "start_time": "2024-06-05T07:09:15.266Z"
   },
   {
    "duration": 1013,
    "start_time": "2024-06-05T07:09:19.193Z"
   },
   {
    "duration": 136,
    "start_time": "2024-06-05T07:09:20.208Z"
   },
   {
    "duration": 18,
    "start_time": "2024-06-05T07:09:20.345Z"
   },
   {
    "duration": 20,
    "start_time": "2024-06-05T07:09:20.366Z"
   },
   {
    "duration": 15,
    "start_time": "2024-06-05T07:09:20.388Z"
   },
   {
    "duration": 8,
    "start_time": "2024-06-05T07:09:20.404Z"
   },
   {
    "duration": 23,
    "start_time": "2024-06-05T07:09:20.414Z"
   },
   {
    "duration": 20,
    "start_time": "2024-06-05T07:09:20.438Z"
   },
   {
    "duration": 5,
    "start_time": "2024-06-05T07:09:20.460Z"
   },
   {
    "duration": 177,
    "start_time": "2024-06-05T07:09:20.467Z"
   },
   {
    "duration": 100,
    "start_time": "2024-06-05T07:09:20.645Z"
   },
   {
    "duration": 113,
    "start_time": "2024-06-05T07:09:20.747Z"
   },
   {
    "duration": 163,
    "start_time": "2024-06-05T07:09:20.861Z"
   },
   {
    "duration": 233,
    "start_time": "2024-06-05T07:09:21.025Z"
   },
   {
    "duration": 224,
    "start_time": "2024-06-05T07:09:21.259Z"
   },
   {
    "duration": 29,
    "start_time": "2024-06-05T07:09:21.484Z"
   },
   {
    "duration": 19,
    "start_time": "2024-06-05T07:09:21.515Z"
   },
   {
    "duration": 304,
    "start_time": "2024-06-05T07:09:21.536Z"
   },
   {
    "duration": 244,
    "start_time": "2024-06-05T07:09:21.841Z"
   },
   {
    "duration": 18,
    "start_time": "2024-06-05T07:09:22.087Z"
   },
   {
    "duration": 233,
    "start_time": "2024-06-05T07:09:22.107Z"
   },
   {
    "duration": 231,
    "start_time": "2024-06-05T07:09:22.341Z"
   },
   {
    "duration": 25,
    "start_time": "2024-06-05T07:09:22.574Z"
   },
   {
    "duration": 120,
    "start_time": "2024-06-05T07:29:07.636Z"
   },
   {
    "duration": 28,
    "start_time": "2024-06-05T07:29:48.794Z"
   },
   {
    "duration": 84,
    "start_time": "2024-06-05T07:32:59.362Z"
   },
   {
    "duration": 1041,
    "start_time": "2024-06-05T07:33:02.138Z"
   },
   {
    "duration": 217,
    "start_time": "2024-06-05T07:33:13.508Z"
   },
   {
    "duration": 153,
    "start_time": "2024-06-05T07:34:11.328Z"
   },
   {
    "duration": 160,
    "start_time": "2024-06-05T07:34:23.972Z"
   },
   {
    "duration": 150,
    "start_time": "2024-06-05T07:34:56.742Z"
   },
   {
    "duration": 159,
    "start_time": "2024-06-05T07:37:37.520Z"
   },
   {
    "duration": 156,
    "start_time": "2024-06-05T07:38:00.827Z"
   },
   {
    "duration": 156,
    "start_time": "2024-06-05T07:38:43.138Z"
   },
   {
    "duration": 958,
    "start_time": "2024-06-05T07:39:17.833Z"
   },
   {
    "duration": 123,
    "start_time": "2024-06-05T07:39:18.793Z"
   },
   {
    "duration": 17,
    "start_time": "2024-06-05T07:39:18.917Z"
   },
   {
    "duration": 13,
    "start_time": "2024-06-05T07:39:18.936Z"
   },
   {
    "duration": 16,
    "start_time": "2024-06-05T07:39:18.951Z"
   },
   {
    "duration": 8,
    "start_time": "2024-06-05T07:39:18.968Z"
   },
   {
    "duration": 10,
    "start_time": "2024-06-05T07:39:18.977Z"
   },
   {
    "duration": 8,
    "start_time": "2024-06-05T07:39:18.988Z"
   },
   {
    "duration": 5,
    "start_time": "2024-06-05T07:39:18.997Z"
   },
   {
    "duration": 191,
    "start_time": "2024-06-05T07:39:19.003Z"
   },
   {
    "duration": 99,
    "start_time": "2024-06-05T07:39:19.195Z"
   },
   {
    "duration": 118,
    "start_time": "2024-06-05T07:39:19.295Z"
   },
   {
    "duration": 148,
    "start_time": "2024-06-05T07:39:19.415Z"
   },
   {
    "duration": 217,
    "start_time": "2024-06-05T07:39:19.570Z"
   },
   {
    "duration": 227,
    "start_time": "2024-06-05T07:39:19.788Z"
   },
   {
    "duration": 31,
    "start_time": "2024-06-05T07:39:20.016Z"
   },
   {
    "duration": 37,
    "start_time": "2024-06-05T07:39:20.048Z"
   },
   {
    "duration": 285,
    "start_time": "2024-06-05T07:39:20.086Z"
   },
   {
    "duration": 223,
    "start_time": "2024-06-05T07:39:20.373Z"
   },
   {
    "duration": 18,
    "start_time": "2024-06-05T07:39:20.597Z"
   },
   {
    "duration": 237,
    "start_time": "2024-06-05T07:39:20.616Z"
   },
   {
    "duration": 224,
    "start_time": "2024-06-05T07:39:20.855Z"
   },
   {
    "duration": 179,
    "start_time": "2024-06-05T07:39:21.080Z"
   },
   {
    "duration": 99,
    "start_time": "2024-06-05T07:58:09.311Z"
   },
   {
    "duration": 5,
    "start_time": "2024-06-05T07:58:34.569Z"
   },
   {
    "duration": 5,
    "start_time": "2024-06-05T07:59:50.439Z"
   },
   {
    "duration": 6,
    "start_time": "2024-06-05T08:01:13.842Z"
   },
   {
    "duration": 5,
    "start_time": "2024-06-05T08:01:21.313Z"
   },
   {
    "duration": 4,
    "start_time": "2024-06-05T08:01:23.679Z"
   },
   {
    "duration": 976,
    "start_time": "2024-06-05T08:01:26.935Z"
   },
   {
    "duration": 119,
    "start_time": "2024-06-05T08:01:27.913Z"
   },
   {
    "duration": 20,
    "start_time": "2024-06-05T08:01:28.034Z"
   },
   {
    "duration": 16,
    "start_time": "2024-06-05T08:01:28.056Z"
   },
   {
    "duration": 12,
    "start_time": "2024-06-05T08:01:28.073Z"
   },
   {
    "duration": 7,
    "start_time": "2024-06-05T08:01:28.087Z"
   },
   {
    "duration": 11,
    "start_time": "2024-06-05T08:01:28.095Z"
   },
   {
    "duration": 7,
    "start_time": "2024-06-05T08:01:28.107Z"
   },
   {
    "duration": 17,
    "start_time": "2024-06-05T08:01:28.116Z"
   },
   {
    "duration": 174,
    "start_time": "2024-06-05T08:01:28.135Z"
   },
   {
    "duration": 111,
    "start_time": "2024-06-05T08:01:28.311Z"
   },
   {
    "duration": 113,
    "start_time": "2024-06-05T08:01:28.424Z"
   },
   {
    "duration": 159,
    "start_time": "2024-06-05T08:01:28.539Z"
   },
   {
    "duration": 243,
    "start_time": "2024-06-05T08:01:28.699Z"
   },
   {
    "duration": 233,
    "start_time": "2024-06-05T08:01:28.943Z"
   },
   {
    "duration": 30,
    "start_time": "2024-06-05T08:01:29.177Z"
   },
   {
    "duration": 20,
    "start_time": "2024-06-05T08:01:29.209Z"
   },
   {
    "duration": 293,
    "start_time": "2024-06-05T08:01:29.230Z"
   },
   {
    "duration": 226,
    "start_time": "2024-06-05T08:01:29.525Z"
   },
   {
    "duration": 26,
    "start_time": "2024-06-05T08:01:29.752Z"
   },
   {
    "duration": 240,
    "start_time": "2024-06-05T08:01:29.779Z"
   },
   {
    "duration": 236,
    "start_time": "2024-06-05T08:01:30.021Z"
   },
   {
    "duration": 162,
    "start_time": "2024-06-05T08:01:30.259Z"
   },
   {
    "duration": 5,
    "start_time": "2024-06-05T08:01:30.422Z"
   },
   {
    "duration": 1036,
    "start_time": "2024-06-05T08:02:38.791Z"
   },
   {
    "duration": 109,
    "start_time": "2024-06-05T08:02:39.829Z"
   },
   {
    "duration": 17,
    "start_time": "2024-06-05T08:02:39.940Z"
   },
   {
    "duration": 13,
    "start_time": "2024-06-05T08:02:39.959Z"
   },
   {
    "duration": 14,
    "start_time": "2024-06-05T08:02:39.973Z"
   },
   {
    "duration": 7,
    "start_time": "2024-06-05T08:02:39.989Z"
   },
   {
    "duration": 32,
    "start_time": "2024-06-05T08:02:39.997Z"
   },
   {
    "duration": 9,
    "start_time": "2024-06-05T08:02:40.031Z"
   },
   {
    "duration": 5,
    "start_time": "2024-06-05T08:02:40.041Z"
   },
   {
    "duration": 168,
    "start_time": "2024-06-05T08:02:40.048Z"
   },
   {
    "duration": 99,
    "start_time": "2024-06-05T08:02:40.217Z"
   },
   {
    "duration": 109,
    "start_time": "2024-06-05T08:02:40.317Z"
   },
   {
    "duration": 151,
    "start_time": "2024-06-05T08:02:40.428Z"
   },
   {
    "duration": 232,
    "start_time": "2024-06-05T08:02:40.581Z"
   },
   {
    "duration": 233,
    "start_time": "2024-06-05T08:02:40.815Z"
   },
   {
    "duration": 39,
    "start_time": "2024-06-05T08:02:41.050Z"
   },
   {
    "duration": 21,
    "start_time": "2024-06-05T08:02:41.091Z"
   },
   {
    "duration": 297,
    "start_time": "2024-06-05T08:02:41.113Z"
   },
   {
    "duration": 230,
    "start_time": "2024-06-05T08:02:41.411Z"
   },
   {
    "duration": 19,
    "start_time": "2024-06-05T08:02:41.642Z"
   },
   {
    "duration": 228,
    "start_time": "2024-06-05T08:02:41.670Z"
   },
   {
    "duration": 241,
    "start_time": "2024-06-05T08:02:41.899Z"
   },
   {
    "duration": 164,
    "start_time": "2024-06-05T08:02:42.141Z"
   },
   {
    "duration": 5,
    "start_time": "2024-06-05T08:02:42.307Z"
   },
   {
    "duration": 200,
    "start_time": "2024-06-05T08:10:42.180Z"
   },
   {
    "duration": 5,
    "start_time": "2024-06-05T08:11:12.476Z"
   },
   {
    "duration": 988,
    "start_time": "2024-06-05T08:59:26.474Z"
   },
   {
    "duration": 18,
    "start_time": "2024-06-05T09:01:16.024Z"
   },
   {
    "duration": 9,
    "start_time": "2024-06-05T09:01:39.756Z"
   },
   {
    "duration": 9,
    "start_time": "2024-06-05T09:03:23.510Z"
   },
   {
    "duration": 11,
    "start_time": "2024-06-05T09:42:48.010Z"
   },
   {
    "duration": 1021,
    "start_time": "2024-06-05T09:43:05.435Z"
   },
   {
    "duration": 161,
    "start_time": "2024-06-05T09:43:06.458Z"
   },
   {
    "duration": 19,
    "start_time": "2024-06-05T09:43:06.620Z"
   },
   {
    "duration": 14,
    "start_time": "2024-06-05T09:43:06.641Z"
   },
   {
    "duration": 13,
    "start_time": "2024-06-05T09:43:06.657Z"
   },
   {
    "duration": 8,
    "start_time": "2024-06-05T09:43:06.671Z"
   },
   {
    "duration": 7,
    "start_time": "2024-06-05T09:43:06.681Z"
   },
   {
    "duration": 8,
    "start_time": "2024-06-05T09:43:06.690Z"
   },
   {
    "duration": 5,
    "start_time": "2024-06-05T09:43:06.699Z"
   },
   {
    "duration": 187,
    "start_time": "2024-06-05T09:43:06.705Z"
   },
   {
    "duration": 106,
    "start_time": "2024-06-05T09:43:06.894Z"
   },
   {
    "duration": 221,
    "start_time": "2024-06-05T09:43:07.002Z"
   },
   {
    "duration": 0,
    "start_time": "2024-06-05T09:43:07.225Z"
   },
   {
    "duration": 0,
    "start_time": "2024-06-05T09:43:07.226Z"
   },
   {
    "duration": 0,
    "start_time": "2024-06-05T09:43:07.227Z"
   },
   {
    "duration": 0,
    "start_time": "2024-06-05T09:43:07.228Z"
   },
   {
    "duration": 0,
    "start_time": "2024-06-05T09:43:07.228Z"
   },
   {
    "duration": 0,
    "start_time": "2024-06-05T09:43:07.229Z"
   },
   {
    "duration": 0,
    "start_time": "2024-06-05T09:43:07.230Z"
   },
   {
    "duration": 0,
    "start_time": "2024-06-05T09:43:07.231Z"
   },
   {
    "duration": 0,
    "start_time": "2024-06-05T09:43:07.232Z"
   },
   {
    "duration": 1,
    "start_time": "2024-06-05T09:43:07.232Z"
   },
   {
    "duration": 0,
    "start_time": "2024-06-05T09:43:07.233Z"
   },
   {
    "duration": 0,
    "start_time": "2024-06-05T09:43:07.234Z"
   },
   {
    "duration": 0,
    "start_time": "2024-06-05T09:43:07.234Z"
   },
   {
    "duration": 0,
    "start_time": "2024-06-05T09:43:07.235Z"
   },
   {
    "duration": 0,
    "start_time": "2024-06-05T09:43:07.236Z"
   },
   {
    "duration": 1048,
    "start_time": "2024-06-05T09:43:24.359Z"
   },
   {
    "duration": 114,
    "start_time": "2024-06-05T09:43:25.408Z"
   },
   {
    "duration": 20,
    "start_time": "2024-06-05T09:43:25.524Z"
   },
   {
    "duration": 15,
    "start_time": "2024-06-05T09:43:25.545Z"
   },
   {
    "duration": 13,
    "start_time": "2024-06-05T09:43:25.562Z"
   },
   {
    "duration": 10,
    "start_time": "2024-06-05T09:43:25.576Z"
   },
   {
    "duration": 7,
    "start_time": "2024-06-05T09:43:25.588Z"
   },
   {
    "duration": 9,
    "start_time": "2024-06-05T09:43:25.596Z"
   },
   {
    "duration": 6,
    "start_time": "2024-06-05T09:43:25.606Z"
   },
   {
    "duration": 193,
    "start_time": "2024-06-05T09:43:25.614Z"
   },
   {
    "duration": 104,
    "start_time": "2024-06-05T09:43:25.808Z"
   },
   {
    "duration": 120,
    "start_time": "2024-06-05T09:43:25.914Z"
   },
   {
    "duration": 159,
    "start_time": "2024-06-05T09:43:26.036Z"
   },
   {
    "duration": 228,
    "start_time": "2024-06-05T09:43:26.198Z"
   },
   {
    "duration": 230,
    "start_time": "2024-06-05T09:43:26.428Z"
   },
   {
    "duration": 34,
    "start_time": "2024-06-05T09:43:26.660Z"
   },
   {
    "duration": 21,
    "start_time": "2024-06-05T09:43:26.695Z"
   },
   {
    "duration": 314,
    "start_time": "2024-06-05T09:43:26.717Z"
   },
   {
    "duration": 253,
    "start_time": "2024-06-05T09:43:27.032Z"
   },
   {
    "duration": 18,
    "start_time": "2024-06-05T09:43:27.286Z"
   },
   {
    "duration": 235,
    "start_time": "2024-06-05T09:43:27.305Z"
   },
   {
    "duration": 239,
    "start_time": "2024-06-05T09:43:27.541Z"
   },
   {
    "duration": 160,
    "start_time": "2024-06-05T09:43:27.782Z"
   },
   {
    "duration": 5,
    "start_time": "2024-06-05T09:43:27.944Z"
   },
   {
    "duration": 14,
    "start_time": "2024-06-05T09:43:27.951Z"
   },
   {
    "duration": 27,
    "start_time": "2024-06-05T09:43:27.971Z"
   },
   {
    "duration": 29,
    "start_time": "2024-06-05T09:43:28.000Z"
   },
   {
    "duration": 5,
    "start_time": "2024-06-05T09:43:38.038Z"
   },
   {
    "duration": 6,
    "start_time": "2024-06-05T09:54:36.885Z"
   },
   {
    "duration": 5,
    "start_time": "2024-06-05T09:54:42.479Z"
   },
   {
    "duration": 5,
    "start_time": "2024-06-05T09:58:43.082Z"
   },
   {
    "duration": 5,
    "start_time": "2024-06-05T09:58:51.903Z"
   },
   {
    "duration": 7,
    "start_time": "2024-06-05T09:58:55.096Z"
   },
   {
    "duration": 1179,
    "start_time": "2024-06-05T11:22:15.004Z"
   },
   {
    "duration": 186,
    "start_time": "2024-06-05T11:22:16.185Z"
   },
   {
    "duration": 23,
    "start_time": "2024-06-05T11:22:16.373Z"
   },
   {
    "duration": 21,
    "start_time": "2024-06-05T11:22:16.398Z"
   },
   {
    "duration": 15,
    "start_time": "2024-06-05T11:22:16.421Z"
   },
   {
    "duration": 9,
    "start_time": "2024-06-05T11:22:16.438Z"
   },
   {
    "duration": 24,
    "start_time": "2024-06-05T11:22:16.448Z"
   },
   {
    "duration": 10,
    "start_time": "2024-06-05T11:22:16.474Z"
   },
   {
    "duration": 8,
    "start_time": "2024-06-05T11:22:16.486Z"
   },
   {
    "duration": 206,
    "start_time": "2024-06-05T11:22:16.495Z"
   },
   {
    "duration": 115,
    "start_time": "2024-06-05T11:22:16.702Z"
   },
   {
    "duration": 117,
    "start_time": "2024-06-05T11:22:16.818Z"
   },
   {
    "duration": 167,
    "start_time": "2024-06-05T11:22:16.937Z"
   },
   {
    "duration": 253,
    "start_time": "2024-06-05T11:22:17.106Z"
   },
   {
    "duration": 267,
    "start_time": "2024-06-05T11:22:17.361Z"
   },
   {
    "duration": 48,
    "start_time": "2024-06-05T11:22:17.630Z"
   },
   {
    "duration": 23,
    "start_time": "2024-06-05T11:22:17.680Z"
   },
   {
    "duration": 337,
    "start_time": "2024-06-05T11:22:17.705Z"
   },
   {
    "duration": 267,
    "start_time": "2024-06-05T11:22:18.044Z"
   },
   {
    "duration": 19,
    "start_time": "2024-06-05T11:22:18.313Z"
   },
   {
    "duration": 246,
    "start_time": "2024-06-05T11:22:18.333Z"
   },
   {
    "duration": 255,
    "start_time": "2024-06-05T11:22:18.581Z"
   },
   {
    "duration": 175,
    "start_time": "2024-06-05T11:22:18.837Z"
   },
   {
    "duration": 6,
    "start_time": "2024-06-05T11:22:19.014Z"
   },
   {
    "duration": 21,
    "start_time": "2024-06-05T11:22:19.021Z"
   },
   {
    "duration": 13,
    "start_time": "2024-06-05T11:22:19.044Z"
   },
   {
    "duration": 156,
    "start_time": "2024-06-05T11:22:19.058Z"
   },
   {
    "duration": 1039,
    "start_time": "2024-06-05T11:22:35.575Z"
   },
   {
    "duration": 217,
    "start_time": "2024-06-05T11:22:36.616Z"
   },
   {
    "duration": 17,
    "start_time": "2024-06-05T11:22:36.835Z"
   },
   {
    "duration": 13,
    "start_time": "2024-06-05T11:22:36.854Z"
   },
   {
    "duration": 24,
    "start_time": "2024-06-05T11:22:36.869Z"
   },
   {
    "duration": 15,
    "start_time": "2024-06-05T11:22:36.895Z"
   },
   {
    "duration": 8,
    "start_time": "2024-06-05T11:22:36.911Z"
   },
   {
    "duration": 18,
    "start_time": "2024-06-05T11:22:36.921Z"
   },
   {
    "duration": 6,
    "start_time": "2024-06-05T11:22:36.940Z"
   },
   {
    "duration": 200,
    "start_time": "2024-06-05T11:22:36.947Z"
   },
   {
    "duration": 117,
    "start_time": "2024-06-05T11:22:37.149Z"
   },
   {
    "duration": 123,
    "start_time": "2024-06-05T11:22:37.268Z"
   },
   {
    "duration": 197,
    "start_time": "2024-06-05T11:22:37.393Z"
   },
   {
    "duration": 243,
    "start_time": "2024-06-05T11:22:37.593Z"
   },
   {
    "duration": 255,
    "start_time": "2024-06-05T11:22:37.839Z"
   },
   {
    "duration": 33,
    "start_time": "2024-06-05T11:22:38.096Z"
   },
   {
    "duration": 22,
    "start_time": "2024-06-05T11:22:38.130Z"
   },
   {
    "duration": 349,
    "start_time": "2024-06-05T11:22:38.153Z"
   },
   {
    "duration": 243,
    "start_time": "2024-06-05T11:22:38.503Z"
   },
   {
    "duration": 34,
    "start_time": "2024-06-05T11:22:38.747Z"
   },
   {
    "duration": 292,
    "start_time": "2024-06-05T11:22:38.783Z"
   },
   {
    "duration": 277,
    "start_time": "2024-06-05T11:22:39.077Z"
   },
   {
    "duration": 173,
    "start_time": "2024-06-05T11:22:39.356Z"
   },
   {
    "duration": 5,
    "start_time": "2024-06-05T11:22:39.531Z"
   },
   {
    "duration": 30,
    "start_time": "2024-06-05T11:22:39.537Z"
   },
   {
    "duration": 9,
    "start_time": "2024-06-05T11:22:39.568Z"
   },
   {
    "duration": 9,
    "start_time": "2024-06-05T11:22:39.579Z"
   },
   {
    "duration": 7,
    "start_time": "2024-06-05T11:22:45.182Z"
   },
   {
    "duration": 6,
    "start_time": "2024-06-05T11:22:48.038Z"
   },
   {
    "duration": 5,
    "start_time": "2024-06-05T11:22:50.420Z"
   },
   {
    "duration": 252,
    "start_time": "2024-06-05T11:33:48.534Z"
   },
   {
    "duration": 377,
    "start_time": "2024-06-05T11:34:03.460Z"
   },
   {
    "duration": 843,
    "start_time": "2024-06-05T11:34:07.960Z"
   },
   {
    "duration": 148,
    "start_time": "2024-06-05T11:34:13.678Z"
   },
   {
    "duration": 267,
    "start_time": "2024-06-05T11:34:19.231Z"
   },
   {
    "duration": 308,
    "start_time": "2024-06-05T12:03:42.696Z"
   },
   {
    "duration": 1394,
    "start_time": "2024-06-05T12:05:12.946Z"
   },
   {
    "duration": 251,
    "start_time": "2024-06-05T12:05:27.069Z"
   },
   {
    "duration": 164,
    "start_time": "2024-06-05T12:05:31.784Z"
   },
   {
    "duration": 246,
    "start_time": "2024-06-05T12:05:47.958Z"
   },
   {
    "duration": 156,
    "start_time": "2024-06-05T12:06:06.380Z"
   },
   {
    "duration": 1492,
    "start_time": "2024-06-05T12:06:11.892Z"
   },
   {
    "duration": 261,
    "start_time": "2024-06-05T12:06:20.559Z"
   },
   {
    "duration": 238,
    "start_time": "2024-06-05T12:08:21.914Z"
   },
   {
    "duration": 262,
    "start_time": "2024-06-05T12:08:27.045Z"
   },
   {
    "duration": 325,
    "start_time": "2024-06-05T12:08:34.219Z"
   },
   {
    "duration": 232,
    "start_time": "2024-06-05T12:08:42.399Z"
   },
   {
    "duration": 318,
    "start_time": "2024-06-05T12:08:59.488Z"
   },
   {
    "duration": 1666,
    "start_time": "2024-06-05T12:17:03.577Z"
   },
   {
    "duration": 379,
    "start_time": "2024-06-05T12:17:16.728Z"
   },
   {
    "duration": 344,
    "start_time": "2024-06-05T12:29:17.967Z"
   },
   {
    "duration": 244,
    "start_time": "2024-06-05T12:29:25.546Z"
   },
   {
    "duration": 435,
    "start_time": "2024-06-05T12:29:32.896Z"
   },
   {
    "duration": 364,
    "start_time": "2024-06-05T12:29:40.592Z"
   },
   {
    "duration": 423,
    "start_time": "2024-06-05T12:29:46.907Z"
   },
   {
    "duration": 395,
    "start_time": "2024-06-05T12:29:55.965Z"
   },
   {
    "duration": 428,
    "start_time": "2024-06-05T12:30:03.808Z"
   },
   {
    "duration": 255,
    "start_time": "2024-06-05T12:31:03.446Z"
   },
   {
    "duration": 306,
    "start_time": "2024-06-05T12:32:55.464Z"
   },
   {
    "duration": 301,
    "start_time": "2024-06-05T12:33:27.637Z"
   },
   {
    "duration": 220,
    "start_time": "2024-06-05T12:33:52.998Z"
   },
   {
    "duration": 294,
    "start_time": "2024-06-05T12:33:57.517Z"
   },
   {
    "duration": 363,
    "start_time": "2024-06-05T12:35:25.857Z"
   },
   {
    "duration": 351,
    "start_time": "2024-06-05T12:35:35.128Z"
   },
   {
    "duration": 243,
    "start_time": "2024-06-05T12:37:21.817Z"
   },
   {
    "duration": 265,
    "start_time": "2024-06-05T12:37:25.931Z"
   },
   {
    "duration": 278,
    "start_time": "2024-06-05T12:37:42.922Z"
   },
   {
    "duration": 407,
    "start_time": "2024-06-05T12:38:51.978Z"
   },
   {
    "duration": 320,
    "start_time": "2024-06-05T12:39:01.922Z"
   },
   {
    "duration": 1316,
    "start_time": "2024-06-05T12:39:13.875Z"
   },
   {
    "duration": 327,
    "start_time": "2024-06-05T12:39:23.489Z"
   },
   {
    "duration": 273,
    "start_time": "2024-06-05T12:39:33.225Z"
   },
   {
    "duration": 337,
    "start_time": "2024-06-05T12:39:38.607Z"
   },
   {
    "duration": 10597,
    "start_time": "2024-06-05T12:39:43.551Z"
   },
   {
    "duration": 381,
    "start_time": "2024-06-05T12:40:30.542Z"
   },
   {
    "duration": 360,
    "start_time": "2024-06-05T12:40:55.164Z"
   },
   {
    "duration": 367,
    "start_time": "2024-06-05T12:41:00.387Z"
   },
   {
    "duration": 383,
    "start_time": "2024-06-05T12:41:04.962Z"
   },
   {
    "duration": 231,
    "start_time": "2024-06-05T12:41:21.991Z"
   },
   {
    "duration": 414,
    "start_time": "2024-06-05T12:41:34.913Z"
   },
   {
    "duration": 321,
    "start_time": "2024-06-05T12:41:41.013Z"
   },
   {
    "duration": 340,
    "start_time": "2024-06-05T12:41:47.092Z"
   },
   {
    "duration": 16,
    "start_time": "2024-06-05T12:43:36.978Z"
   },
   {
    "duration": 17,
    "start_time": "2024-06-05T12:43:51.901Z"
   },
   {
    "duration": 1054,
    "start_time": "2024-06-05T12:44:37.836Z"
   },
   {
    "duration": 140,
    "start_time": "2024-06-05T12:44:38.892Z"
   },
   {
    "duration": 22,
    "start_time": "2024-06-05T12:44:39.033Z"
   },
   {
    "duration": 25,
    "start_time": "2024-06-05T12:44:39.057Z"
   },
   {
    "duration": 19,
    "start_time": "2024-06-05T12:44:39.089Z"
   },
   {
    "duration": 14,
    "start_time": "2024-06-05T12:44:39.110Z"
   },
   {
    "duration": 11,
    "start_time": "2024-06-05T12:44:39.135Z"
   },
   {
    "duration": 10,
    "start_time": "2024-06-05T12:44:39.148Z"
   },
   {
    "duration": 5,
    "start_time": "2024-06-05T12:44:39.159Z"
   },
   {
    "duration": 178,
    "start_time": "2024-06-05T12:44:39.167Z"
   },
   {
    "duration": 115,
    "start_time": "2024-06-05T12:44:39.346Z"
   },
   {
    "duration": 154,
    "start_time": "2024-06-05T12:44:39.462Z"
   },
   {
    "duration": 180,
    "start_time": "2024-06-05T12:44:39.617Z"
   },
   {
    "duration": 237,
    "start_time": "2024-06-05T12:44:39.798Z"
   },
   {
    "duration": 288,
    "start_time": "2024-06-05T12:44:40.037Z"
   },
   {
    "duration": 68,
    "start_time": "2024-06-05T12:44:40.327Z"
   },
   {
    "duration": 31,
    "start_time": "2024-06-05T12:44:40.397Z"
   },
   {
    "duration": 323,
    "start_time": "2024-06-05T12:44:40.430Z"
   },
   {
    "duration": 251,
    "start_time": "2024-06-05T12:44:40.755Z"
   },
   {
    "duration": 20,
    "start_time": "2024-06-05T12:44:41.008Z"
   },
   {
    "duration": 263,
    "start_time": "2024-06-05T12:44:41.030Z"
   },
   {
    "duration": 239,
    "start_time": "2024-06-05T12:44:41.295Z"
   },
   {
    "duration": 180,
    "start_time": "2024-06-05T12:44:41.535Z"
   },
   {
    "duration": 5,
    "start_time": "2024-06-05T12:44:41.716Z"
   },
   {
    "duration": 5,
    "start_time": "2024-06-05T12:44:41.723Z"
   },
   {
    "duration": 10,
    "start_time": "2024-06-05T12:44:41.730Z"
   },
   {
    "duration": 408,
    "start_time": "2024-06-05T12:44:41.741Z"
   },
   {
    "duration": 327,
    "start_time": "2024-06-05T12:46:16.121Z"
   },
   {
    "duration": 390,
    "start_time": "2024-06-05T12:46:35.103Z"
   },
   {
    "duration": 343,
    "start_time": "2024-06-05T12:47:19.745Z"
   },
   {
    "duration": 1075,
    "start_time": "2024-06-05T12:48:13.151Z"
   },
   {
    "duration": 134,
    "start_time": "2024-06-05T12:48:14.228Z"
   },
   {
    "duration": 47,
    "start_time": "2024-06-05T12:48:14.364Z"
   },
   {
    "duration": 21,
    "start_time": "2024-06-05T12:48:14.413Z"
   },
   {
    "duration": 19,
    "start_time": "2024-06-05T12:48:14.437Z"
   },
   {
    "duration": 44,
    "start_time": "2024-06-05T12:48:14.457Z"
   },
   {
    "duration": 23,
    "start_time": "2024-06-05T12:48:14.503Z"
   },
   {
    "duration": 12,
    "start_time": "2024-06-05T12:48:14.528Z"
   },
   {
    "duration": 10,
    "start_time": "2024-06-05T12:48:14.542Z"
   },
   {
    "duration": 207,
    "start_time": "2024-06-05T12:48:14.554Z"
   },
   {
    "duration": 107,
    "start_time": "2024-06-05T12:48:14.763Z"
   },
   {
    "duration": 115,
    "start_time": "2024-06-05T12:48:14.879Z"
   },
   {
    "duration": 189,
    "start_time": "2024-06-05T12:48:14.996Z"
   },
   {
    "duration": 232,
    "start_time": "2024-06-05T12:48:15.188Z"
   },
   {
    "duration": 272,
    "start_time": "2024-06-05T12:48:15.421Z"
   },
   {
    "duration": 32,
    "start_time": "2024-06-05T12:48:15.694Z"
   },
   {
    "duration": 38,
    "start_time": "2024-06-05T12:48:15.728Z"
   },
   {
    "duration": 335,
    "start_time": "2024-06-05T12:48:15.768Z"
   },
   {
    "duration": 240,
    "start_time": "2024-06-05T12:48:16.104Z"
   },
   {
    "duration": 43,
    "start_time": "2024-06-05T12:48:16.345Z"
   },
   {
    "duration": 246,
    "start_time": "2024-06-05T12:48:16.390Z"
   },
   {
    "duration": 265,
    "start_time": "2024-06-05T12:48:16.637Z"
   },
   {
    "duration": 191,
    "start_time": "2024-06-05T12:48:16.904Z"
   },
   {
    "duration": 7,
    "start_time": "2024-06-05T12:48:17.096Z"
   },
   {
    "duration": 15,
    "start_time": "2024-06-05T12:48:17.104Z"
   },
   {
    "duration": 12,
    "start_time": "2024-06-05T12:48:17.121Z"
   },
   {
    "duration": 432,
    "start_time": "2024-06-05T12:48:17.135Z"
   },
   {
    "duration": 384,
    "start_time": "2024-06-05T12:48:30.665Z"
   },
   {
    "duration": 471,
    "start_time": "2024-06-05T12:48:37.200Z"
   },
   {
    "duration": 355,
    "start_time": "2024-06-05T12:48:41.236Z"
   },
   {
    "duration": 123,
    "start_time": "2024-06-05T12:50:04.221Z"
   },
   {
    "duration": 13,
    "start_time": "2024-06-05T12:50:13.999Z"
   },
   {
    "duration": 14,
    "start_time": "2024-06-05T12:50:22.324Z"
   },
   {
    "duration": 20,
    "start_time": "2024-06-05T12:50:35.192Z"
   },
   {
    "duration": 14,
    "start_time": "2024-06-05T12:50:42.400Z"
   },
   {
    "duration": 370,
    "start_time": "2024-06-05T12:55:56.126Z"
   },
   {
    "duration": 365,
    "start_time": "2024-06-05T12:56:14.302Z"
   },
   {
    "duration": 380,
    "start_time": "2024-06-05T12:56:23.955Z"
   },
   {
    "duration": 247,
    "start_time": "2024-06-05T12:57:52.894Z"
   },
   {
    "duration": 18,
    "start_time": "2024-06-05T13:00:03.484Z"
   },
   {
    "duration": 19,
    "start_time": "2024-06-05T13:00:39.435Z"
   },
   {
    "duration": 13,
    "start_time": "2024-06-05T13:00:59.589Z"
   },
   {
    "duration": 17,
    "start_time": "2024-06-05T13:01:19.572Z"
   },
   {
    "duration": 12,
    "start_time": "2024-06-05T13:01:26.315Z"
   },
   {
    "duration": 1036,
    "start_time": "2024-06-05T13:02:25.619Z"
   },
   {
    "duration": 155,
    "start_time": "2024-06-05T13:02:26.657Z"
   },
   {
    "duration": 24,
    "start_time": "2024-06-05T13:02:26.814Z"
   },
   {
    "duration": 16,
    "start_time": "2024-06-05T13:02:26.841Z"
   },
   {
    "duration": 31,
    "start_time": "2024-06-05T13:02:26.859Z"
   },
   {
    "duration": 8,
    "start_time": "2024-06-05T13:02:26.892Z"
   },
   {
    "duration": 11,
    "start_time": "2024-06-05T13:02:26.902Z"
   },
   {
    "duration": 9,
    "start_time": "2024-06-05T13:02:26.915Z"
   },
   {
    "duration": 17,
    "start_time": "2024-06-05T13:02:26.926Z"
   },
   {
    "duration": 192,
    "start_time": "2024-06-05T13:02:26.946Z"
   },
   {
    "duration": 118,
    "start_time": "2024-06-05T13:02:27.140Z"
   },
   {
    "duration": 161,
    "start_time": "2024-06-05T13:02:27.260Z"
   },
   {
    "duration": 179,
    "start_time": "2024-06-05T13:02:27.423Z"
   },
   {
    "duration": 246,
    "start_time": "2024-06-05T13:02:27.604Z"
   },
   {
    "duration": 265,
    "start_time": "2024-06-05T13:02:27.852Z"
   },
   {
    "duration": 41,
    "start_time": "2024-06-05T13:02:28.118Z"
   },
   {
    "duration": 39,
    "start_time": "2024-06-05T13:02:28.160Z"
   },
   {
    "duration": 316,
    "start_time": "2024-06-05T13:02:28.200Z"
   },
   {
    "duration": 243,
    "start_time": "2024-06-05T13:02:28.518Z"
   },
   {
    "duration": 35,
    "start_time": "2024-06-05T13:02:28.762Z"
   },
   {
    "duration": 243,
    "start_time": "2024-06-05T13:02:28.798Z"
   },
   {
    "duration": 278,
    "start_time": "2024-06-05T13:02:29.043Z"
   },
   {
    "duration": 179,
    "start_time": "2024-06-05T13:02:29.322Z"
   },
   {
    "duration": 6,
    "start_time": "2024-06-05T13:02:29.502Z"
   },
   {
    "duration": 24,
    "start_time": "2024-06-05T13:02:29.509Z"
   },
   {
    "duration": 10,
    "start_time": "2024-06-05T13:02:29.534Z"
   },
   {
    "duration": 113,
    "start_time": "2024-06-05T13:02:29.545Z"
   },
   {
    "duration": 0,
    "start_time": "2024-06-05T13:02:29.659Z"
   },
   {
    "duration": 5535,
    "start_time": "2024-06-05T13:03:08.657Z"
   },
   {
    "duration": 366,
    "start_time": "2024-06-05T13:04:15.983Z"
   },
   {
    "duration": 268,
    "start_time": "2024-06-05T13:04:18.353Z"
   },
   {
    "duration": 447,
    "start_time": "2024-06-05T13:12:28.630Z"
   },
   {
    "duration": 335,
    "start_time": "2024-06-05T13:12:35.410Z"
   },
   {
    "duration": 342,
    "start_time": "2024-06-05T13:12:41.712Z"
   },
   {
    "duration": 330,
    "start_time": "2024-06-05T13:12:46.727Z"
   },
   {
    "duration": 408,
    "start_time": "2024-06-05T13:12:53.544Z"
   },
   {
    "duration": 376,
    "start_time": "2024-06-05T13:14:09.824Z"
   },
   {
    "duration": 7,
    "start_time": "2024-06-05T13:22:08.031Z"
   },
   {
    "duration": 6,
    "start_time": "2024-06-05T13:22:30.502Z"
   },
   {
    "duration": 6,
    "start_time": "2024-06-05T13:22:35.142Z"
   },
   {
    "duration": 14,
    "start_time": "2024-06-05T13:22:45.568Z"
   },
   {
    "duration": 411,
    "start_time": "2024-06-05T13:23:20.639Z"
   },
   {
    "duration": 1115,
    "start_time": "2024-06-05T13:24:08.625Z"
   },
   {
    "duration": 153,
    "start_time": "2024-06-05T13:24:09.742Z"
   },
   {
    "duration": 23,
    "start_time": "2024-06-05T13:24:09.897Z"
   },
   {
    "duration": 25,
    "start_time": "2024-06-05T13:24:09.922Z"
   },
   {
    "duration": 17,
    "start_time": "2024-06-05T13:24:09.949Z"
   },
   {
    "duration": 16,
    "start_time": "2024-06-05T13:24:09.968Z"
   },
   {
    "duration": 10,
    "start_time": "2024-06-05T13:24:09.986Z"
   },
   {
    "duration": 14,
    "start_time": "2024-06-05T13:24:09.998Z"
   },
   {
    "duration": 15,
    "start_time": "2024-06-05T13:24:10.014Z"
   },
   {
    "duration": 186,
    "start_time": "2024-06-05T13:24:10.031Z"
   },
   {
    "duration": 119,
    "start_time": "2024-06-05T13:24:10.219Z"
   },
   {
    "duration": 155,
    "start_time": "2024-06-05T13:24:10.340Z"
   },
   {
    "duration": 166,
    "start_time": "2024-06-05T13:24:10.496Z"
   },
   {
    "duration": 264,
    "start_time": "2024-06-05T13:24:10.665Z"
   },
   {
    "duration": 303,
    "start_time": "2024-06-05T13:24:10.930Z"
   },
   {
    "duration": 34,
    "start_time": "2024-06-05T13:24:11.235Z"
   },
   {
    "duration": 34,
    "start_time": "2024-06-05T13:24:11.275Z"
   },
   {
    "duration": 343,
    "start_time": "2024-06-05T13:24:11.311Z"
   },
   {
    "duration": 273,
    "start_time": "2024-06-05T13:24:11.655Z"
   },
   {
    "duration": 20,
    "start_time": "2024-06-05T13:24:11.929Z"
   },
   {
    "duration": 276,
    "start_time": "2024-06-05T13:24:11.950Z"
   },
   {
    "duration": 244,
    "start_time": "2024-06-05T13:24:12.227Z"
   },
   {
    "duration": 169,
    "start_time": "2024-06-05T13:24:12.478Z"
   },
   {
    "duration": 5,
    "start_time": "2024-06-05T13:24:12.649Z"
   },
   {
    "duration": 31,
    "start_time": "2024-06-05T13:24:12.656Z"
   },
   {
    "duration": 9,
    "start_time": "2024-06-05T13:24:12.688Z"
   },
   {
    "duration": 353,
    "start_time": "2024-06-05T13:24:12.698Z"
   },
   {
    "duration": 1035,
    "start_time": "2024-06-05T14:22:32.177Z"
   },
   {
    "duration": 189,
    "start_time": "2024-06-05T14:22:33.214Z"
   },
   {
    "duration": 17,
    "start_time": "2024-06-05T14:22:33.405Z"
   },
   {
    "duration": 14,
    "start_time": "2024-06-05T14:22:33.424Z"
   },
   {
    "duration": 13,
    "start_time": "2024-06-05T14:22:33.439Z"
   },
   {
    "duration": 14,
    "start_time": "2024-06-05T14:22:33.454Z"
   },
   {
    "duration": 21,
    "start_time": "2024-06-05T14:22:33.470Z"
   },
   {
    "duration": 19,
    "start_time": "2024-06-05T14:22:33.492Z"
   },
   {
    "duration": 9,
    "start_time": "2024-06-05T14:22:33.512Z"
   },
   {
    "duration": 185,
    "start_time": "2024-06-05T14:22:33.525Z"
   },
   {
    "duration": 107,
    "start_time": "2024-06-05T14:22:33.711Z"
   },
   {
    "duration": 116,
    "start_time": "2024-06-05T14:22:33.820Z"
   },
   {
    "duration": 157,
    "start_time": "2024-06-05T14:22:33.937Z"
   },
   {
    "duration": 231,
    "start_time": "2024-06-05T14:22:34.096Z"
   },
   {
    "duration": 242,
    "start_time": "2024-06-05T14:22:34.329Z"
   },
   {
    "duration": 31,
    "start_time": "2024-06-05T14:22:34.573Z"
   },
   {
    "duration": 20,
    "start_time": "2024-06-05T14:22:34.605Z"
   },
   {
    "duration": 308,
    "start_time": "2024-06-05T14:22:34.626Z"
   },
   {
    "duration": 238,
    "start_time": "2024-06-05T14:22:34.935Z"
   },
   {
    "duration": 18,
    "start_time": "2024-06-05T14:22:35.175Z"
   },
   {
    "duration": 255,
    "start_time": "2024-06-05T14:22:35.195Z"
   },
   {
    "duration": 231,
    "start_time": "2024-06-05T14:22:35.451Z"
   },
   {
    "duration": 165,
    "start_time": "2024-06-05T14:22:35.684Z"
   },
   {
    "duration": 6,
    "start_time": "2024-06-05T14:22:35.850Z"
   },
   {
    "duration": 16,
    "start_time": "2024-06-05T14:22:35.857Z"
   },
   {
    "duration": 20,
    "start_time": "2024-06-05T14:22:35.875Z"
   },
   {
    "duration": 1035,
    "start_time": "2024-06-05T14:23:01.466Z"
   },
   {
    "duration": 122,
    "start_time": "2024-06-05T14:23:02.503Z"
   },
   {
    "duration": 19,
    "start_time": "2024-06-05T14:23:02.626Z"
   },
   {
    "duration": 14,
    "start_time": "2024-06-05T14:23:02.646Z"
   },
   {
    "duration": 12,
    "start_time": "2024-06-05T14:23:02.662Z"
   },
   {
    "duration": 30,
    "start_time": "2024-06-05T14:23:02.675Z"
   },
   {
    "duration": 18,
    "start_time": "2024-06-05T14:23:02.706Z"
   },
   {
    "duration": 14,
    "start_time": "2024-06-05T14:23:02.725Z"
   },
   {
    "duration": 6,
    "start_time": "2024-06-05T14:23:02.741Z"
   },
   {
    "duration": 164,
    "start_time": "2024-06-05T14:23:02.749Z"
   },
   {
    "duration": 98,
    "start_time": "2024-06-05T14:23:02.915Z"
   },
   {
    "duration": 120,
    "start_time": "2024-06-05T14:23:03.015Z"
   },
   {
    "duration": 165,
    "start_time": "2024-06-05T14:23:03.137Z"
   },
   {
    "duration": 228,
    "start_time": "2024-06-05T14:23:03.305Z"
   },
   {
    "duration": 239,
    "start_time": "2024-06-05T14:23:03.534Z"
   },
   {
    "duration": 30,
    "start_time": "2024-06-05T14:23:03.774Z"
   },
   {
    "duration": 21,
    "start_time": "2024-06-05T14:23:03.806Z"
   },
   {
    "duration": 315,
    "start_time": "2024-06-05T14:23:03.828Z"
   },
   {
    "duration": 229,
    "start_time": "2024-06-05T14:23:04.144Z"
   },
   {
    "duration": 18,
    "start_time": "2024-06-05T14:23:04.374Z"
   },
   {
    "duration": 243,
    "start_time": "2024-06-05T14:23:04.393Z"
   },
   {
    "duration": 235,
    "start_time": "2024-06-05T14:23:04.638Z"
   },
   {
    "duration": 170,
    "start_time": "2024-06-05T14:23:04.875Z"
   },
   {
    "duration": 5,
    "start_time": "2024-06-05T14:23:05.046Z"
   },
   {
    "duration": 12,
    "start_time": "2024-06-05T14:23:05.053Z"
   },
   {
    "duration": 12,
    "start_time": "2024-06-05T14:23:05.067Z"
   },
   {
    "duration": 1032,
    "start_time": "2024-06-05T14:23:30.110Z"
   },
   {
    "duration": 117,
    "start_time": "2024-06-05T14:23:31.145Z"
   },
   {
    "duration": 18,
    "start_time": "2024-06-05T14:23:31.264Z"
   },
   {
    "duration": 17,
    "start_time": "2024-06-05T14:23:31.284Z"
   },
   {
    "duration": 30,
    "start_time": "2024-06-05T14:23:31.303Z"
   },
   {
    "duration": 34,
    "start_time": "2024-06-05T14:23:31.334Z"
   },
   {
    "duration": 21,
    "start_time": "2024-06-05T14:23:31.369Z"
   },
   {
    "duration": 18,
    "start_time": "2024-06-05T14:23:31.392Z"
   },
   {
    "duration": 17,
    "start_time": "2024-06-05T14:23:31.411Z"
   },
   {
    "duration": 177,
    "start_time": "2024-06-05T14:23:31.431Z"
   },
   {
    "duration": 123,
    "start_time": "2024-06-05T14:23:31.610Z"
   },
   {
    "duration": 124,
    "start_time": "2024-06-05T14:23:31.735Z"
   },
   {
    "duration": 168,
    "start_time": "2024-06-05T14:23:31.860Z"
   },
   {
    "duration": 243,
    "start_time": "2024-06-05T14:23:32.030Z"
   },
   {
    "duration": 231,
    "start_time": "2024-06-05T14:23:32.274Z"
   },
   {
    "duration": 31,
    "start_time": "2024-06-05T14:23:32.507Z"
   },
   {
    "duration": 36,
    "start_time": "2024-06-05T14:23:32.539Z"
   },
   {
    "duration": 330,
    "start_time": "2024-06-05T14:23:32.578Z"
   },
   {
    "duration": 240,
    "start_time": "2024-06-05T14:23:32.910Z"
   },
   {
    "duration": 24,
    "start_time": "2024-06-05T14:23:33.152Z"
   },
   {
    "duration": 242,
    "start_time": "2024-06-05T14:23:33.177Z"
   },
   {
    "duration": 271,
    "start_time": "2024-06-05T14:23:33.420Z"
   },
   {
    "duration": 161,
    "start_time": "2024-06-05T14:23:33.693Z"
   },
   {
    "duration": 5,
    "start_time": "2024-06-05T14:23:33.855Z"
   },
   {
    "duration": 5,
    "start_time": "2024-06-05T14:23:33.871Z"
   },
   {
    "duration": 24,
    "start_time": "2024-06-05T14:23:33.877Z"
   },
   {
    "duration": 219,
    "start_time": "2024-06-05T17:30:33.885Z"
   },
   {
    "duration": 63,
    "start_time": "2024-06-05T17:35:03.681Z"
   },
   {
    "duration": 1014,
    "start_time": "2024-06-06T19:11:03.193Z"
   },
   {
    "duration": 152,
    "start_time": "2024-06-06T19:11:04.209Z"
   },
   {
    "duration": 17,
    "start_time": "2024-06-06T19:11:04.362Z"
   },
   {
    "duration": 14,
    "start_time": "2024-06-06T19:11:04.381Z"
   },
   {
    "duration": 18,
    "start_time": "2024-06-06T19:11:04.396Z"
   },
   {
    "duration": 12,
    "start_time": "2024-06-06T19:11:04.416Z"
   },
   {
    "duration": 9,
    "start_time": "2024-06-06T19:11:04.430Z"
   },
   {
    "duration": 8,
    "start_time": "2024-06-06T19:11:04.440Z"
   },
   {
    "duration": 27,
    "start_time": "2024-06-06T19:11:04.449Z"
   },
   {
    "duration": 192,
    "start_time": "2024-06-06T19:11:04.479Z"
   },
   {
    "duration": 101,
    "start_time": "2024-06-06T19:11:04.672Z"
   },
   {
    "duration": 121,
    "start_time": "2024-06-06T19:11:04.775Z"
   },
   {
    "duration": 170,
    "start_time": "2024-06-06T19:11:04.897Z"
   },
   {
    "duration": 235,
    "start_time": "2024-06-06T19:11:05.078Z"
   },
   {
    "duration": 232,
    "start_time": "2024-06-06T19:11:05.314Z"
   },
   {
    "duration": 35,
    "start_time": "2024-06-06T19:11:05.548Z"
   },
   {
    "duration": 21,
    "start_time": "2024-06-06T19:11:05.584Z"
   },
   {
    "duration": 304,
    "start_time": "2024-06-06T19:11:05.606Z"
   },
   {
    "duration": 231,
    "start_time": "2024-06-06T19:11:05.911Z"
   },
   {
    "duration": 32,
    "start_time": "2024-06-06T19:11:06.143Z"
   },
   {
    "duration": 227,
    "start_time": "2024-06-06T19:11:06.176Z"
   },
   {
    "duration": 268,
    "start_time": "2024-06-06T19:11:06.405Z"
   },
   {
    "duration": 160,
    "start_time": "2024-06-06T19:11:06.674Z"
   },
   {
    "duration": 6,
    "start_time": "2024-06-06T19:11:06.835Z"
   },
   {
    "duration": 4,
    "start_time": "2024-06-06T19:11:06.843Z"
   },
   {
    "duration": 26,
    "start_time": "2024-06-06T19:11:06.849Z"
   },
   {
    "duration": 78,
    "start_time": "2024-06-06T20:10:41.291Z"
   },
   {
    "duration": 99,
    "start_time": "2024-06-06T20:50:25.237Z"
   },
   {
    "duration": 5,
    "start_time": "2024-06-06T20:50:31.631Z"
   },
   {
    "duration": 6,
    "start_time": "2024-06-06T20:50:41.423Z"
   },
   {
    "duration": 1032,
    "start_time": "2024-06-06T22:27:10.173Z"
   },
   {
    "duration": 148,
    "start_time": "2024-06-06T22:27:11.207Z"
   },
   {
    "duration": 20,
    "start_time": "2024-06-06T22:27:11.356Z"
   },
   {
    "duration": 14,
    "start_time": "2024-06-06T22:27:11.377Z"
   },
   {
    "duration": 14,
    "start_time": "2024-06-06T22:27:11.393Z"
   },
   {
    "duration": 8,
    "start_time": "2024-06-06T22:27:11.408Z"
   },
   {
    "duration": 17,
    "start_time": "2024-06-06T22:27:11.417Z"
   },
   {
    "duration": 8,
    "start_time": "2024-06-06T22:27:11.435Z"
   },
   {
    "duration": 11,
    "start_time": "2024-06-06T22:27:11.444Z"
   },
   {
    "duration": 170,
    "start_time": "2024-06-06T22:27:11.456Z"
   },
   {
    "duration": 104,
    "start_time": "2024-06-06T22:27:11.627Z"
   },
   {
    "duration": 110,
    "start_time": "2024-06-06T22:27:11.732Z"
   },
   {
    "duration": 158,
    "start_time": "2024-06-06T22:27:11.843Z"
   },
   {
    "duration": 243,
    "start_time": "2024-06-06T22:27:12.003Z"
   },
   {
    "duration": 239,
    "start_time": "2024-06-06T22:27:12.247Z"
   },
   {
    "duration": 29,
    "start_time": "2024-06-06T22:27:12.488Z"
   },
   {
    "duration": 20,
    "start_time": "2024-06-06T22:27:12.519Z"
   },
   {
    "duration": 303,
    "start_time": "2024-06-06T22:27:12.540Z"
   },
   {
    "duration": 227,
    "start_time": "2024-06-06T22:27:12.844Z"
   },
   {
    "duration": 18,
    "start_time": "2024-06-06T22:27:13.073Z"
   },
   {
    "duration": 230,
    "start_time": "2024-06-06T22:27:13.093Z"
   },
   {
    "duration": 238,
    "start_time": "2024-06-06T22:27:13.324Z"
   },
   {
    "duration": 163,
    "start_time": "2024-06-06T22:27:13.564Z"
   },
   {
    "duration": 5,
    "start_time": "2024-06-06T22:27:13.728Z"
   },
   {
    "duration": 17,
    "start_time": "2024-06-06T22:27:13.734Z"
   },
   {
    "duration": 22,
    "start_time": "2024-06-06T22:27:13.752Z"
   },
   {
    "duration": 1107,
    "start_time": "2024-06-07T16:08:56.410Z"
   },
   {
    "duration": 331,
    "start_time": "2024-06-07T16:08:57.518Z"
   },
   {
    "duration": 18,
    "start_time": "2024-06-07T16:08:57.851Z"
   },
   {
    "duration": 15,
    "start_time": "2024-06-07T16:08:57.871Z"
   },
   {
    "duration": 14,
    "start_time": "2024-06-07T16:08:57.888Z"
   },
   {
    "duration": 14,
    "start_time": "2024-06-07T16:08:57.904Z"
   },
   {
    "duration": 9,
    "start_time": "2024-06-07T16:08:57.919Z"
   },
   {
    "duration": 9,
    "start_time": "2024-06-07T16:08:57.930Z"
   },
   {
    "duration": 6,
    "start_time": "2024-06-07T16:08:57.940Z"
   },
   {
    "duration": 175,
    "start_time": "2024-06-07T16:08:57.948Z"
   },
   {
    "duration": 102,
    "start_time": "2024-06-07T16:08:58.125Z"
   },
   {
    "duration": 104,
    "start_time": "2024-06-07T16:08:58.234Z"
   },
   {
    "duration": 158,
    "start_time": "2024-06-07T16:08:58.340Z"
   },
   {
    "duration": 222,
    "start_time": "2024-06-07T16:08:58.500Z"
   },
   {
    "duration": 205,
    "start_time": "2024-06-07T16:08:58.723Z"
   },
   {
    "duration": 29,
    "start_time": "2024-06-07T16:08:58.929Z"
   },
   {
    "duration": 20,
    "start_time": "2024-06-07T16:08:58.959Z"
   },
   {
    "duration": 277,
    "start_time": "2024-06-07T16:08:58.980Z"
   },
   {
    "duration": 215,
    "start_time": "2024-06-07T16:08:59.258Z"
   },
   {
    "duration": 18,
    "start_time": "2024-06-07T16:08:59.475Z"
   },
   {
    "duration": 236,
    "start_time": "2024-06-07T16:08:59.495Z"
   },
   {
    "duration": 270,
    "start_time": "2024-06-07T16:08:59.733Z"
   },
   {
    "duration": 156,
    "start_time": "2024-06-07T16:09:00.005Z"
   },
   {
    "duration": 5,
    "start_time": "2024-06-07T16:09:00.162Z"
   },
   {
    "duration": 136,
    "start_time": "2024-06-07T16:09:00.169Z"
   },
   {
    "duration": 62,
    "start_time": "2024-06-07T16:09:00.307Z"
   },
   {
    "duration": 4,
    "start_time": "2024-06-07T16:28:41.242Z"
   },
   {
    "duration": 55,
    "start_time": "2024-06-07T16:50:20.940Z"
   },
   {
    "duration": 1171,
    "start_time": "2024-06-07T16:50:24.066Z"
   },
   {
    "duration": 252,
    "start_time": "2024-06-07T16:50:25.239Z"
   },
   {
    "duration": 18,
    "start_time": "2024-06-07T16:50:25.492Z"
   },
   {
    "duration": 14,
    "start_time": "2024-06-07T16:50:25.512Z"
   },
   {
    "duration": 13,
    "start_time": "2024-06-07T16:50:25.527Z"
   },
   {
    "duration": 9,
    "start_time": "2024-06-07T16:50:25.541Z"
   },
   {
    "duration": 10,
    "start_time": "2024-06-07T16:50:25.551Z"
   },
   {
    "duration": 11,
    "start_time": "2024-06-07T16:50:25.562Z"
   },
   {
    "duration": 38,
    "start_time": "2024-06-07T16:50:25.574Z"
   },
   {
    "duration": 181,
    "start_time": "2024-06-07T16:50:25.616Z"
   },
   {
    "duration": 117,
    "start_time": "2024-06-07T16:50:25.799Z"
   },
   {
    "duration": 119,
    "start_time": "2024-06-07T16:50:25.917Z"
   },
   {
    "duration": 161,
    "start_time": "2024-06-07T16:50:26.037Z"
   },
   {
    "duration": 219,
    "start_time": "2024-06-07T16:50:26.199Z"
   },
   {
    "duration": 225,
    "start_time": "2024-06-07T16:50:26.419Z"
   },
   {
    "duration": 29,
    "start_time": "2024-06-07T16:50:26.645Z"
   },
   {
    "duration": 35,
    "start_time": "2024-06-07T16:50:26.676Z"
   },
   {
    "duration": 303,
    "start_time": "2024-06-07T16:50:26.713Z"
   },
   {
    "duration": 507,
    "start_time": "2024-06-07T16:50:27.017Z"
   },
   {
    "duration": 27,
    "start_time": "2024-06-07T16:50:27.526Z"
   },
   {
    "duration": 487,
    "start_time": "2024-06-07T16:50:27.555Z"
   },
   {
    "duration": 403,
    "start_time": "2024-06-07T16:50:28.044Z"
   },
   {
    "duration": 165,
    "start_time": "2024-06-07T16:50:28.448Z"
   },
   {
    "duration": 5,
    "start_time": "2024-06-07T16:50:28.615Z"
   },
   {
    "duration": 8,
    "start_time": "2024-06-07T16:50:28.621Z"
   },
   {
    "duration": 9,
    "start_time": "2024-06-07T16:50:28.631Z"
   },
   {
    "duration": 99,
    "start_time": "2024-06-07T16:50:34.204Z"
   },
   {
    "duration": 97,
    "start_time": "2024-06-07T16:50:45.285Z"
   },
   {
    "duration": 97,
    "start_time": "2024-06-07T16:50:50.662Z"
   },
   {
    "duration": 115,
    "start_time": "2024-06-07T17:02:12.632Z"
   },
   {
    "duration": 166,
    "start_time": "2024-06-07T17:08:15.700Z"
   },
   {
    "duration": 105,
    "start_time": "2024-06-07T17:08:21.137Z"
   },
   {
    "duration": 128,
    "start_time": "2024-06-07T17:10:23.556Z"
   },
   {
    "duration": 16,
    "start_time": "2024-06-07T17:15:05.193Z"
   },
   {
    "duration": 16,
    "start_time": "2024-06-07T17:15:26.863Z"
   },
   {
    "duration": 17,
    "start_time": "2024-06-07T17:15:40.762Z"
   },
   {
    "duration": 18,
    "start_time": "2024-06-07T17:15:51.774Z"
   },
   {
    "duration": 18,
    "start_time": "2024-06-07T17:20:52.155Z"
   },
   {
    "duration": 1100,
    "start_time": "2024-06-07T17:21:10.818Z"
   },
   {
    "duration": 122,
    "start_time": "2024-06-07T17:21:11.920Z"
   },
   {
    "duration": 17,
    "start_time": "2024-06-07T17:21:12.044Z"
   },
   {
    "duration": 13,
    "start_time": "2024-06-07T17:21:12.063Z"
   },
   {
    "duration": 12,
    "start_time": "2024-06-07T17:21:12.077Z"
   },
   {
    "duration": 10,
    "start_time": "2024-06-07T17:21:12.090Z"
   },
   {
    "duration": 8,
    "start_time": "2024-06-07T17:21:12.101Z"
   },
   {
    "duration": 7,
    "start_time": "2024-06-07T17:21:12.111Z"
   },
   {
    "duration": 4,
    "start_time": "2024-06-07T17:21:12.120Z"
   },
   {
    "duration": 186,
    "start_time": "2024-06-07T17:21:12.126Z"
   },
   {
    "duration": 117,
    "start_time": "2024-06-07T17:21:12.313Z"
   },
   {
    "duration": 111,
    "start_time": "2024-06-07T17:21:12.431Z"
   },
   {
    "duration": 155,
    "start_time": "2024-06-07T17:21:12.544Z"
   },
   {
    "duration": 217,
    "start_time": "2024-06-07T17:21:12.701Z"
   },
   {
    "duration": 225,
    "start_time": "2024-06-07T17:21:12.919Z"
   },
   {
    "duration": 21,
    "start_time": "2024-06-07T17:21:13.145Z"
   },
   {
    "duration": 21,
    "start_time": "2024-06-07T17:21:13.167Z"
   },
   {
    "duration": 297,
    "start_time": "2024-06-07T17:21:13.190Z"
   },
   {
    "duration": 240,
    "start_time": "2024-06-07T17:21:13.488Z"
   },
   {
    "duration": 18,
    "start_time": "2024-06-07T17:21:13.729Z"
   },
   {
    "duration": 228,
    "start_time": "2024-06-07T17:21:13.749Z"
   },
   {
    "duration": 237,
    "start_time": "2024-06-07T17:21:13.979Z"
   },
   {
    "duration": 160,
    "start_time": "2024-06-07T17:21:14.218Z"
   },
   {
    "duration": 5,
    "start_time": "2024-06-07T17:21:14.379Z"
   },
   {
    "duration": 9,
    "start_time": "2024-06-07T17:21:14.385Z"
   },
   {
    "duration": 18,
    "start_time": "2024-06-07T17:21:14.395Z"
   },
   {
    "duration": 19,
    "start_time": "2024-06-07T17:23:18.363Z"
   },
   {
    "duration": 991,
    "start_time": "2024-06-07T17:23:23.144Z"
   },
   {
    "duration": 117,
    "start_time": "2024-06-07T17:23:24.137Z"
   },
   {
    "duration": 17,
    "start_time": "2024-06-07T17:23:24.256Z"
   },
   {
    "duration": 18,
    "start_time": "2024-06-07T17:23:24.275Z"
   },
   {
    "duration": 12,
    "start_time": "2024-06-07T17:23:24.294Z"
   },
   {
    "duration": 7,
    "start_time": "2024-06-07T17:23:24.307Z"
   },
   {
    "duration": 10,
    "start_time": "2024-06-07T17:23:24.315Z"
   },
   {
    "duration": 7,
    "start_time": "2024-06-07T17:23:24.326Z"
   },
   {
    "duration": 16,
    "start_time": "2024-06-07T17:23:24.335Z"
   },
   {
    "duration": 159,
    "start_time": "2024-06-07T17:23:24.354Z"
   },
   {
    "duration": 109,
    "start_time": "2024-06-07T17:23:24.515Z"
   },
   {
    "duration": 111,
    "start_time": "2024-06-07T17:23:24.626Z"
   },
   {
    "duration": 146,
    "start_time": "2024-06-07T17:23:24.739Z"
   },
   {
    "duration": 229,
    "start_time": "2024-06-07T17:23:24.887Z"
   },
   {
    "duration": 223,
    "start_time": "2024-06-07T17:23:25.118Z"
   },
   {
    "duration": 19,
    "start_time": "2024-06-07T17:23:25.342Z"
   },
   {
    "duration": 20,
    "start_time": "2024-06-07T17:23:25.362Z"
   },
   {
    "duration": 343,
    "start_time": "2024-06-07T17:23:25.384Z"
   },
   {
    "duration": 413,
    "start_time": "2024-06-07T17:23:25.729Z"
   },
   {
    "duration": 73,
    "start_time": "2024-06-07T17:23:26.144Z"
   },
   {
    "duration": 418,
    "start_time": "2024-06-07T17:23:26.218Z"
   },
   {
    "duration": 353,
    "start_time": "2024-06-07T17:23:26.637Z"
   },
   {
    "duration": 162,
    "start_time": "2024-06-07T17:23:26.992Z"
   },
   {
    "duration": 5,
    "start_time": "2024-06-07T17:23:27.155Z"
   },
   {
    "duration": 5,
    "start_time": "2024-06-07T17:23:27.161Z"
   },
   {
    "duration": 7,
    "start_time": "2024-06-07T17:23:27.167Z"
   },
   {
    "duration": 6,
    "start_time": "2024-06-07T17:23:48.032Z"
   },
   {
    "duration": 6,
    "start_time": "2024-06-07T17:23:55.502Z"
   },
   {
    "duration": 23,
    "start_time": "2024-06-07T17:24:35.022Z"
   },
   {
    "duration": 980,
    "start_time": "2024-06-07T17:26:17.750Z"
   },
   {
    "duration": 119,
    "start_time": "2024-06-07T17:26:18.731Z"
   },
   {
    "duration": 16,
    "start_time": "2024-06-07T17:26:18.852Z"
   },
   {
    "duration": 13,
    "start_time": "2024-06-07T17:26:18.870Z"
   },
   {
    "duration": 11,
    "start_time": "2024-06-07T17:26:18.884Z"
   },
   {
    "duration": 8,
    "start_time": "2024-06-07T17:26:18.897Z"
   },
   {
    "duration": 9,
    "start_time": "2024-06-07T17:26:18.907Z"
   },
   {
    "duration": 8,
    "start_time": "2024-06-07T17:26:18.917Z"
   },
   {
    "duration": 4,
    "start_time": "2024-06-07T17:26:18.926Z"
   },
   {
    "duration": 161,
    "start_time": "2024-06-07T17:26:18.932Z"
   },
   {
    "duration": 109,
    "start_time": "2024-06-07T17:26:19.094Z"
   },
   {
    "duration": 144,
    "start_time": "2024-06-07T17:26:19.205Z"
   },
   {
    "duration": 187,
    "start_time": "2024-06-07T17:26:19.351Z"
   },
   {
    "duration": 228,
    "start_time": "2024-06-07T17:26:19.539Z"
   },
   {
    "duration": 215,
    "start_time": "2024-06-07T17:26:19.769Z"
   },
   {
    "duration": 30,
    "start_time": "2024-06-07T17:26:19.986Z"
   },
   {
    "duration": 4,
    "start_time": "2024-06-07T17:26:20.017Z"
   },
   {
    "duration": 36,
    "start_time": "2024-06-07T17:26:20.022Z"
   },
   {
    "duration": 281,
    "start_time": "2024-06-07T17:26:20.059Z"
   },
   {
    "duration": 217,
    "start_time": "2024-06-07T17:26:20.342Z"
   },
   {
    "duration": 17,
    "start_time": "2024-06-07T17:26:20.561Z"
   },
   {
    "duration": 225,
    "start_time": "2024-06-07T17:26:20.580Z"
   },
   {
    "duration": 223,
    "start_time": "2024-06-07T17:26:20.807Z"
   },
   {
    "duration": 154,
    "start_time": "2024-06-07T17:26:21.032Z"
   },
   {
    "duration": 5,
    "start_time": "2024-06-07T17:26:21.188Z"
   },
   {
    "duration": 21,
    "start_time": "2024-06-07T17:26:21.194Z"
   },
   {
    "duration": 22,
    "start_time": "2024-06-07T17:26:21.217Z"
   },
   {
    "duration": 61,
    "start_time": "2024-06-07T17:27:58.928Z"
   },
   {
    "duration": 14,
    "start_time": "2024-06-07T17:28:02.038Z"
   },
   {
    "duration": 17,
    "start_time": "2024-06-07T17:28:05.991Z"
   },
   {
    "duration": 14,
    "start_time": "2024-06-07T17:28:08.675Z"
   },
   {
    "duration": 15,
    "start_time": "2024-06-07T17:28:13.262Z"
   },
   {
    "duration": 1014,
    "start_time": "2024-06-07T17:28:19.420Z"
   },
   {
    "duration": 129,
    "start_time": "2024-06-07T17:28:20.436Z"
   },
   {
    "duration": 17,
    "start_time": "2024-06-07T17:28:20.568Z"
   },
   {
    "duration": 25,
    "start_time": "2024-06-07T17:28:20.586Z"
   },
   {
    "duration": 12,
    "start_time": "2024-06-07T17:28:20.612Z"
   },
   {
    "duration": 8,
    "start_time": "2024-06-07T17:28:20.626Z"
   },
   {
    "duration": 8,
    "start_time": "2024-06-07T17:28:20.635Z"
   },
   {
    "duration": 16,
    "start_time": "2024-06-07T17:28:20.644Z"
   },
   {
    "duration": 5,
    "start_time": "2024-06-07T17:28:20.663Z"
   },
   {
    "duration": 187,
    "start_time": "2024-06-07T17:28:20.669Z"
   },
   {
    "duration": 115,
    "start_time": "2024-06-07T17:28:20.857Z"
   },
   {
    "duration": 112,
    "start_time": "2024-06-07T17:28:20.973Z"
   },
   {
    "duration": 160,
    "start_time": "2024-06-07T17:28:21.086Z"
   },
   {
    "duration": 217,
    "start_time": "2024-06-07T17:28:21.248Z"
   },
   {
    "duration": 220,
    "start_time": "2024-06-07T17:28:21.467Z"
   },
   {
    "duration": 31,
    "start_time": "2024-06-07T17:28:21.689Z"
   },
   {
    "duration": 3,
    "start_time": "2024-06-07T17:28:21.722Z"
   },
   {
    "duration": 29,
    "start_time": "2024-06-07T17:28:21.727Z"
   },
   {
    "duration": 287,
    "start_time": "2024-06-07T17:28:21.758Z"
   },
   {
    "duration": 222,
    "start_time": "2024-06-07T17:28:22.046Z"
   },
   {
    "duration": 17,
    "start_time": "2024-06-07T17:28:22.269Z"
   },
   {
    "duration": 224,
    "start_time": "2024-06-07T17:28:22.288Z"
   },
   {
    "duration": 221,
    "start_time": "2024-06-07T17:28:22.513Z"
   },
   {
    "duration": 160,
    "start_time": "2024-06-07T17:28:22.735Z"
   },
   {
    "duration": 5,
    "start_time": "2024-06-07T17:28:22.896Z"
   },
   {
    "duration": 5,
    "start_time": "2024-06-07T17:28:22.912Z"
   },
   {
    "duration": 8,
    "start_time": "2024-06-07T17:28:22.919Z"
   },
   {
    "duration": 1010,
    "start_time": "2024-06-07T17:32:24.223Z"
   },
   {
    "duration": 120,
    "start_time": "2024-06-07T17:32:25.234Z"
   },
   {
    "duration": 18,
    "start_time": "2024-06-07T17:32:25.355Z"
   },
   {
    "duration": 16,
    "start_time": "2024-06-07T17:32:25.375Z"
   },
   {
    "duration": 12,
    "start_time": "2024-06-07T17:32:25.393Z"
   },
   {
    "duration": 7,
    "start_time": "2024-06-07T17:32:25.407Z"
   },
   {
    "duration": 7,
    "start_time": "2024-06-07T17:32:25.416Z"
   },
   {
    "duration": 8,
    "start_time": "2024-06-07T17:32:25.424Z"
   },
   {
    "duration": 6,
    "start_time": "2024-06-07T17:32:25.433Z"
   },
   {
    "duration": 177,
    "start_time": "2024-06-07T17:32:25.441Z"
   },
   {
    "duration": 111,
    "start_time": "2024-06-07T17:32:25.620Z"
   },
   {
    "duration": 117,
    "start_time": "2024-06-07T17:32:25.733Z"
   },
   {
    "duration": 149,
    "start_time": "2024-06-07T17:32:25.852Z"
   },
   {
    "duration": 223,
    "start_time": "2024-06-07T17:32:26.003Z"
   },
   {
    "duration": 223,
    "start_time": "2024-06-07T17:32:26.228Z"
   },
   {
    "duration": 25,
    "start_time": "2024-06-07T17:32:26.453Z"
   },
   {
    "duration": 3,
    "start_time": "2024-06-07T17:32:26.480Z"
   },
   {
    "duration": 40,
    "start_time": "2024-06-07T17:32:26.485Z"
   },
   {
    "duration": 277,
    "start_time": "2024-06-07T17:32:26.527Z"
   },
   {
    "duration": 215,
    "start_time": "2024-06-07T17:32:26.812Z"
   },
   {
    "duration": 19,
    "start_time": "2024-06-07T17:32:27.029Z"
   },
   {
    "duration": 235,
    "start_time": "2024-06-07T17:32:27.049Z"
   },
   {
    "duration": 229,
    "start_time": "2024-06-07T17:32:27.286Z"
   },
   {
    "duration": 159,
    "start_time": "2024-06-07T17:32:27.516Z"
   },
   {
    "duration": 5,
    "start_time": "2024-06-07T17:32:27.676Z"
   },
   {
    "duration": 8,
    "start_time": "2024-06-07T17:32:27.683Z"
   },
   {
    "duration": 20,
    "start_time": "2024-06-07T17:32:27.692Z"
   },
   {
    "duration": 1029,
    "start_time": "2024-06-07T18:29:16.523Z"
   },
   {
    "duration": 165,
    "start_time": "2024-06-07T18:29:17.554Z"
   },
   {
    "duration": 19,
    "start_time": "2024-06-07T18:29:17.720Z"
   },
   {
    "duration": 15,
    "start_time": "2024-06-07T18:29:17.741Z"
   },
   {
    "duration": 16,
    "start_time": "2024-06-07T18:29:17.757Z"
   },
   {
    "duration": 17,
    "start_time": "2024-06-07T18:29:17.774Z"
   },
   {
    "duration": 19,
    "start_time": "2024-06-07T18:29:17.793Z"
   },
   {
    "duration": 9,
    "start_time": "2024-06-07T18:29:17.813Z"
   },
   {
    "duration": 5,
    "start_time": "2024-06-07T18:29:17.824Z"
   },
   {
    "duration": 209,
    "start_time": "2024-06-07T18:29:17.832Z"
   },
   {
    "duration": 118,
    "start_time": "2024-06-07T18:29:18.043Z"
   },
   {
    "duration": 120,
    "start_time": "2024-06-07T18:29:18.163Z"
   },
   {
    "duration": 160,
    "start_time": "2024-06-07T18:29:18.285Z"
   },
   {
    "duration": 230,
    "start_time": "2024-06-07T18:29:18.447Z"
   },
   {
    "duration": 237,
    "start_time": "2024-06-07T18:29:18.678Z"
   },
   {
    "duration": 25,
    "start_time": "2024-06-07T18:29:18.917Z"
   },
   {
    "duration": 3,
    "start_time": "2024-06-07T18:29:18.943Z"
   },
   {
    "duration": 32,
    "start_time": "2024-06-07T18:29:18.948Z"
   },
   {
    "duration": 306,
    "start_time": "2024-06-07T18:29:18.981Z"
   },
   {
    "duration": 235,
    "start_time": "2024-06-07T18:29:19.288Z"
   },
   {
    "duration": 20,
    "start_time": "2024-06-07T18:29:19.525Z"
   },
   {
    "duration": 249,
    "start_time": "2024-06-07T18:29:19.547Z"
   },
   {
    "duration": 242,
    "start_time": "2024-06-07T18:29:19.798Z"
   },
   {
    "duration": 172,
    "start_time": "2024-06-07T18:29:20.041Z"
   },
   {
    "duration": 4,
    "start_time": "2024-06-07T18:29:20.215Z"
   },
   {
    "duration": 5,
    "start_time": "2024-06-07T18:29:20.221Z"
   },
   {
    "duration": 9,
    "start_time": "2024-06-07T18:29:20.228Z"
   },
   {
    "duration": 1300,
    "start_time": "2024-06-08T17:58:21.320Z"
   },
   {
    "duration": 256,
    "start_time": "2024-06-08T17:58:22.622Z"
   },
   {
    "duration": 19,
    "start_time": "2024-06-08T17:58:22.879Z"
   },
   {
    "duration": 23,
    "start_time": "2024-06-08T17:58:22.900Z"
   },
   {
    "duration": 11,
    "start_time": "2024-06-08T17:58:22.924Z"
   },
   {
    "duration": 8,
    "start_time": "2024-06-08T17:58:22.937Z"
   },
   {
    "duration": 8,
    "start_time": "2024-06-08T17:58:22.946Z"
   },
   {
    "duration": 22,
    "start_time": "2024-06-08T17:58:22.956Z"
   },
   {
    "duration": 5,
    "start_time": "2024-06-08T17:58:22.980Z"
   },
   {
    "duration": 171,
    "start_time": "2024-06-08T17:58:22.987Z"
   },
   {
    "duration": 115,
    "start_time": "2024-06-08T17:58:23.160Z"
   },
   {
    "duration": 113,
    "start_time": "2024-06-08T17:58:23.277Z"
   },
   {
    "duration": 169,
    "start_time": "2024-06-08T17:58:23.392Z"
   },
   {
    "duration": 261,
    "start_time": "2024-06-08T17:58:23.563Z"
   },
   {
    "duration": 269,
    "start_time": "2024-06-08T17:58:23.826Z"
   },
   {
    "duration": 25,
    "start_time": "2024-06-08T17:58:24.096Z"
   },
   {
    "duration": 3,
    "start_time": "2024-06-08T17:58:24.122Z"
   },
   {
    "duration": 38,
    "start_time": "2024-06-08T17:58:24.126Z"
   },
   {
    "duration": 314,
    "start_time": "2024-06-08T17:58:24.166Z"
   },
   {
    "duration": 241,
    "start_time": "2024-06-08T17:58:24.482Z"
   },
   {
    "duration": 27,
    "start_time": "2024-06-08T17:58:24.725Z"
   },
   {
    "duration": 243,
    "start_time": "2024-06-08T17:58:24.753Z"
   },
   {
    "duration": 270,
    "start_time": "2024-06-08T17:58:24.998Z"
   },
   {
    "duration": 176,
    "start_time": "2024-06-08T17:58:25.270Z"
   },
   {
    "duration": 6,
    "start_time": "2024-06-08T17:58:25.448Z"
   },
   {
    "duration": 32,
    "start_time": "2024-06-08T17:58:25.455Z"
   },
   {
    "duration": 18,
    "start_time": "2024-06-08T17:58:25.488Z"
   },
   {
    "duration": 4,
    "start_time": "2024-06-08T17:58:50.185Z"
   },
   {
    "duration": 5,
    "start_time": "2024-06-08T18:02:21.019Z"
   },
   {
    "duration": 1043,
    "start_time": "2024-06-08T18:02:40.427Z"
   },
   {
    "duration": 126,
    "start_time": "2024-06-08T18:02:41.472Z"
   },
   {
    "duration": 18,
    "start_time": "2024-06-08T18:02:41.599Z"
   },
   {
    "duration": 15,
    "start_time": "2024-06-08T18:02:41.619Z"
   },
   {
    "duration": 12,
    "start_time": "2024-06-08T18:02:41.636Z"
   },
   {
    "duration": 23,
    "start_time": "2024-06-08T18:02:41.649Z"
   },
   {
    "duration": 9,
    "start_time": "2024-06-08T18:02:41.673Z"
   },
   {
    "duration": 7,
    "start_time": "2024-06-08T18:02:41.684Z"
   },
   {
    "duration": 7,
    "start_time": "2024-06-08T18:02:41.692Z"
   },
   {
    "duration": 180,
    "start_time": "2024-06-08T18:02:41.701Z"
   },
   {
    "duration": 125,
    "start_time": "2024-06-08T18:02:41.883Z"
   },
   {
    "duration": 111,
    "start_time": "2024-06-08T18:02:42.009Z"
   },
   {
    "duration": 167,
    "start_time": "2024-06-08T18:02:42.122Z"
   },
   {
    "duration": 258,
    "start_time": "2024-06-08T18:02:42.291Z"
   },
   {
    "duration": 261,
    "start_time": "2024-06-08T18:02:42.551Z"
   },
   {
    "duration": 33,
    "start_time": "2024-06-08T18:02:42.813Z"
   },
   {
    "duration": 4,
    "start_time": "2024-06-08T18:02:42.848Z"
   },
   {
    "duration": 25,
    "start_time": "2024-06-08T18:02:42.853Z"
   },
   {
    "duration": 316,
    "start_time": "2024-06-08T18:02:42.880Z"
   },
   {
    "duration": 238,
    "start_time": "2024-06-08T18:02:43.197Z"
   },
   {
    "duration": 25,
    "start_time": "2024-06-08T18:02:43.436Z"
   },
   {
    "duration": 258,
    "start_time": "2024-06-08T18:02:43.462Z"
   },
   {
    "duration": 268,
    "start_time": "2024-06-08T18:02:43.722Z"
   },
   {
    "duration": 160,
    "start_time": "2024-06-08T18:02:43.992Z"
   },
   {
    "duration": 5,
    "start_time": "2024-06-08T18:02:44.154Z"
   },
   {
    "duration": 36,
    "start_time": "2024-06-08T18:02:44.160Z"
   },
   {
    "duration": 15,
    "start_time": "2024-06-08T18:02:44.198Z"
   },
   {
    "duration": 6,
    "start_time": "2024-06-08T18:02:57.175Z"
   },
   {
    "duration": 6,
    "start_time": "2024-06-08T18:03:27.222Z"
   },
   {
    "duration": 1078,
    "start_time": "2024-06-08T18:06:39.221Z"
   },
   {
    "duration": 148,
    "start_time": "2024-06-08T18:06:40.301Z"
   },
   {
    "duration": 19,
    "start_time": "2024-06-08T18:06:40.450Z"
   },
   {
    "duration": 16,
    "start_time": "2024-06-08T18:06:40.471Z"
   },
   {
    "duration": 18,
    "start_time": "2024-06-08T18:06:40.489Z"
   },
   {
    "duration": 11,
    "start_time": "2024-06-08T18:06:40.508Z"
   },
   {
    "duration": 8,
    "start_time": "2024-06-08T18:06:40.545Z"
   },
   {
    "duration": 9,
    "start_time": "2024-06-08T18:06:40.555Z"
   },
   {
    "duration": 7,
    "start_time": "2024-06-08T18:06:40.565Z"
   },
   {
    "duration": 194,
    "start_time": "2024-06-08T18:06:40.574Z"
   },
   {
    "duration": 127,
    "start_time": "2024-06-08T18:06:40.770Z"
   },
   {
    "duration": 113,
    "start_time": "2024-06-08T18:06:40.898Z"
   },
   {
    "duration": 161,
    "start_time": "2024-06-08T18:06:41.012Z"
   },
   {
    "duration": 236,
    "start_time": "2024-06-08T18:06:41.175Z"
   },
   {
    "duration": 240,
    "start_time": "2024-06-08T18:06:41.412Z"
   },
   {
    "duration": 25,
    "start_time": "2024-06-08T18:06:41.653Z"
   },
   {
    "duration": 3,
    "start_time": "2024-06-08T18:06:41.679Z"
   },
   {
    "duration": 53,
    "start_time": "2024-06-08T18:06:41.683Z"
   },
   {
    "duration": 329,
    "start_time": "2024-06-08T18:06:41.737Z"
   },
   {
    "duration": 246,
    "start_time": "2024-06-08T18:06:42.067Z"
   },
   {
    "duration": 19,
    "start_time": "2024-06-08T18:06:42.314Z"
   },
   {
    "duration": 250,
    "start_time": "2024-06-08T18:06:42.335Z"
   },
   {
    "duration": 243,
    "start_time": "2024-06-08T18:06:42.587Z"
   },
   {
    "duration": 156,
    "start_time": "2024-06-08T18:06:42.831Z"
   },
   {
    "duration": 6,
    "start_time": "2024-06-08T18:06:42.988Z"
   },
   {
    "duration": 9,
    "start_time": "2024-06-08T18:06:42.995Z"
   },
   {
    "duration": 9,
    "start_time": "2024-06-08T18:06:43.006Z"
   },
   {
    "duration": 175,
    "start_time": "2024-06-08T18:10:46.308Z"
   },
   {
    "duration": 127,
    "start_time": "2024-06-08T18:10:56.118Z"
   },
   {
    "duration": 206,
    "start_time": "2024-06-08T18:10:59.796Z"
   }
  ],
  "kernelspec": {
   "display_name": "Python 3 (ipykernel)",
   "language": "python",
   "name": "python3"
  },
  "language_info": {
   "codemirror_mode": {
    "name": "ipython",
    "version": 3
   },
   "file_extension": ".py",
   "mimetype": "text/x-python",
   "name": "python",
   "nbconvert_exporter": "python",
   "pygments_lexer": "ipython3",
   "version": "3.9.5"
  },
  "toc": {
   "base_numbering": 1,
   "nav_menu": {},
   "number_sections": true,
   "sideBar": true,
   "skip_h1_title": true,
   "title_cell": "Table of Contents",
   "title_sidebar": "Contents",
   "toc_cell": false,
   "toc_position": {
    "height": "calc(100% - 180px)",
    "left": "10px",
    "top": "150px",
    "width": "284.062px"
   },
   "toc_section_display": true,
   "toc_window_display": true
  }
 },
 "nbformat": 4,
 "nbformat_minor": 5
}
