{
 "cells": [
  {
   "cell_type": "markdown",
   "metadata": {
    "id": "sIfNaMOxgFyK"
   },
   "source": [
    "## Исследование данных о российском кинопрокате\n",
    "\n"
   ]
  },
  {
   "cell_type": "markdown",
   "metadata": {},
   "source": [
    "### ***Описание проекта***\n",
    "    Заказчик этого исследования — Министерство культуры Российской Федерации. \n",
    "    Мы изучим рынок российского кинопроката и выявим текущие тренды, также \n",
    "    уделим внимание фильмам, которые получили государственную поддержку. \n",
    "    \n",
    "    Мы будете работать с данными, опубликованными на портале открытых данных \n",
    "    Министерства культуры. Набор данных содержит информацию о прокатных удостоверениях, \n",
    "    сборах и государственной поддержке фильмов, а также информацию с сайта КиноПоиск. "
   ]
  },
  {
   "cell_type": "markdown",
   "metadata": {
    "id": "3bSlkCsbgFyL"
   },
   "source": [
    "### Шаг 1. Откройте файлы с данными и объедините их в один датафрейм. \n",
    "\n",
    "Объедините данные таким образом, чтобы все объекты из датасета `mkrf_movies` обязательно вошли в получившийся датафрейм. \n",
    "\n",
    "<div id=\"accordion\">\n",
    "    <div class=\"card\">\n",
    "        <div class=\"card-header\" id=\"headingThree\">\n",
    "            <button class=\"btn btn-link collapsed\" data-toggle=\"collapse\" data-target=\"#collapseHint_0\" aria-expanded=\"false\" aria-controls=\"collapseHint_0\">Подсказка</button>\n",
    "        </div>\n",
    "        <div id=\"collapseHint_0\" class=\"collapse\" aria-labelledby=\"headingThree\" data-parent=\"#accordion\">\n",
    "            <div class=\"card-body\">\n",
    "Обратите внимание на тип данных столбца, по которому будете соединять датафреймы. Тип данных этих столбцов должен быть одинаковым в обоих датафреймах.\n",
    "            </div>\n",
    "        </div>\n",
    "    </div>\n",
    "</div>"
   ]
  },
  {
   "cell_type": "code",
   "execution_count": null,
   "metadata": {
    "id": "dw87FlzMgFyM"
   },
   "outputs": [
    {
     "name": "stdout",
     "output_type": "stream",
     "text": [
      "<class 'pandas.core.frame.DataFrame'>\n",
      "RangeIndex: 7486 entries, 0 to 7485\n",
      "Data columns (total 15 columns):\n",
      " #   Column                 Non-Null Count  Dtype  \n",
      "---  ------                 --------------  -----  \n",
      " 0   title                  7486 non-null   object \n",
      " 1   puNumber               7486 non-null   object \n",
      " 2   show_start_date        7486 non-null   object \n",
      " 3   type                   7486 non-null   object \n",
      " 4   film_studio            7468 non-null   object \n",
      " 5   production_country     7484 non-null   object \n",
      " 6   director               7477 non-null   object \n",
      " 7   producer               6918 non-null   object \n",
      " 8   age_restriction        7486 non-null   object \n",
      " 9   refundable_support     332 non-null    float64\n",
      " 10  nonrefundable_support  332 non-null    float64\n",
      " 11  budget                 332 non-null    float64\n",
      " 12  financing_source       332 non-null    object \n",
      " 13  ratings                6519 non-null   object \n",
      " 14  genres                 6510 non-null   object \n",
      "dtypes: float64(3), object(12)\n",
      "memory usage: 877.4+ KB\n",
      "None\n",
      "<class 'pandas.core.frame.DataFrame'>\n",
      "RangeIndex: 3158 entries, 0 to 3157\n",
      "Data columns (total 2 columns):\n",
      " #   Column      Non-Null Count  Dtype  \n",
      "---  ------      --------------  -----  \n",
      " 0   puNumber    3158 non-null   int64  \n",
      " 1   box_office  3158 non-null   float64\n",
      "dtypes: float64(1), int64(1)\n",
      "memory usage: 49.5 KB\n",
      "None\n"
     ]
    },
    {
     "data": {
      "text/html": [
       "<div>\n",
       "<style scoped>\n",
       "    .dataframe tbody tr th:only-of-type {\n",
       "        vertical-align: middle;\n",
       "    }\n",
       "\n",
       "    .dataframe tbody tr th {\n",
       "        vertical-align: top;\n",
       "    }\n",
       "\n",
       "    .dataframe thead th {\n",
       "        text-align: right;\n",
       "    }\n",
       "</style>\n",
       "<table border=\"1\" class=\"dataframe\">\n",
       "  <thead>\n",
       "    <tr style=\"text-align: right;\">\n",
       "      <th></th>\n",
       "      <th>puNumber</th>\n",
       "      <th>box_office</th>\n",
       "    </tr>\n",
       "  </thead>\n",
       "  <tbody>\n",
       "    <tr>\n",
       "      <th>0</th>\n",
       "      <td>111000113</td>\n",
       "      <td>2,450.0</td>\n",
       "    </tr>\n",
       "    <tr>\n",
       "      <th>1</th>\n",
       "      <td>111000115</td>\n",
       "      <td>61,040.0</td>\n",
       "    </tr>\n",
       "    <tr>\n",
       "      <th>2</th>\n",
       "      <td>111000116</td>\n",
       "      <td>153,030,013.4</td>\n",
       "    </tr>\n",
       "    <tr>\n",
       "      <th>3</th>\n",
       "      <td>111000117</td>\n",
       "      <td>12,260,956.0</td>\n",
       "    </tr>\n",
       "    <tr>\n",
       "      <th>4</th>\n",
       "      <td>111000118</td>\n",
       "      <td>163,684,057.8</td>\n",
       "    </tr>\n",
       "    <tr>\n",
       "      <th>5</th>\n",
       "      <td>111000119</td>\n",
       "      <td>4,293,649.5</td>\n",
       "    </tr>\n",
       "    <tr>\n",
       "      <th>6</th>\n",
       "      <td>111000212</td>\n",
       "      <td>200.0</td>\n",
       "    </tr>\n",
       "    <tr>\n",
       "      <th>7</th>\n",
       "      <td>111000216</td>\n",
       "      <td>355,567.0</td>\n",
       "    </tr>\n",
       "    <tr>\n",
       "      <th>8</th>\n",
       "      <td>111000313</td>\n",
       "      <td>710.0</td>\n",
       "    </tr>\n",
       "    <tr>\n",
       "      <th>9</th>\n",
       "      <td>111000314</td>\n",
       "      <td>1,607,970.0</td>\n",
       "    </tr>\n",
       "  </tbody>\n",
       "</table>\n",
       "</div>"
      ],
      "text/plain": [
       "    puNumber    box_office\n",
       "0  111000113       2,450.0\n",
       "1  111000115      61,040.0\n",
       "2  111000116 153,030,013.4\n",
       "3  111000117  12,260,956.0\n",
       "4  111000118 163,684,057.8\n",
       "5  111000119   4,293,649.5\n",
       "6  111000212         200.0\n",
       "7  111000216     355,567.0\n",
       "8  111000313         710.0\n",
       "9  111000314   1,607,970.0"
      ]
     },
     "metadata": {},
     "output_type": "display_data"
    }
   ],
   "source": [
    "import pandas as pd\n",
    "import sklearn\n",
    "import matplotlib.pyplot as plt\n",
    "\n",
    "try:\n",
    "    rental_certificates = pd.read_csv('YOUR_DATA')\n",
    "except:\n",
    "    rental_certificates = pd.read_csv('YOUR_DATA')\n",
    "    \n",
    "try:\n",
    "    release_cinemas = pd.read_csv('YOUR_DATA')\n",
    "except:\n",
    "    release_cinemas = pd.read_csv('YOUR_DATA')\n",
    "\n",
    "print(rental_certificates.info())\n",
    "print(release_cinemas.info())\n",
    "rental_certificates = rental_certificates[rental_certificates['puNumber'] != 'нет']\n",
    "rental_certificates['puNumber'] = rental_certificates['puNumber'].astype('int')\n",
    "data = rental_certificates.merge(release_cinemas, on='puNumber', how='left')\n",
    "#display(rental_certificates.sort_values(by='puNumber').head(10))\n",
    "pd.options.display.float_format = '{:,.1f}'.format\n",
    "display(release_cinemas.head(10))"
   ]
  },
  {
   "cell_type": "markdown",
   "metadata": {},
   "source": [
    "    В первом датафрейме удалил строчку, которая мешала соединить таблицы и поменял тип данных\n",
    "    Новый общий датафрейм - data"
   ]
  },
  {
   "cell_type": "code",
   "execution_count": null,
   "metadata": {
    "scrolled": true
   },
   "outputs": [
    {
     "data": {
      "text/html": [
       "<div>\n",
       "<style scoped>\n",
       "    .dataframe tbody tr th:only-of-type {\n",
       "        vertical-align: middle;\n",
       "    }\n",
       "\n",
       "    .dataframe tbody tr th {\n",
       "        vertical-align: top;\n",
       "    }\n",
       "\n",
       "    .dataframe thead th {\n",
       "        text-align: right;\n",
       "    }\n",
       "</style>\n",
       "<table border=\"1\" class=\"dataframe\">\n",
       "  <thead>\n",
       "    <tr style=\"text-align: right;\">\n",
       "      <th></th>\n",
       "      <th>title</th>\n",
       "      <th>puNumber</th>\n",
       "      <th>show_start_date</th>\n",
       "      <th>type</th>\n",
       "      <th>film_studio</th>\n",
       "      <th>production_country</th>\n",
       "      <th>director</th>\n",
       "      <th>producer</th>\n",
       "      <th>age_restriction</th>\n",
       "      <th>refundable_support</th>\n",
       "      <th>nonrefundable_support</th>\n",
       "      <th>budget</th>\n",
       "      <th>financing_source</th>\n",
       "      <th>ratings</th>\n",
       "      <th>genres</th>\n",
       "      <th>box_office</th>\n",
       "    </tr>\n",
       "  </thead>\n",
       "  <tbody>\n",
       "    <tr>\n",
       "      <th>0</th>\n",
       "      <td>Открытый простор</td>\n",
       "      <td>221048915</td>\n",
       "      <td>2015-11-27T12:00:00.000Z</td>\n",
       "      <td>Художественный</td>\n",
       "      <td>Тачстоун Пикчерз, Кобальт Пикчерз, Бикон Пикче...</td>\n",
       "      <td>США</td>\n",
       "      <td>Кевин Костнер</td>\n",
       "      <td>Дэвид Валдес, Кевин Костнер, Джейк Эбертс</td>\n",
       "      <td>«18+» - запрещено для детей</td>\n",
       "      <td>NaN</td>\n",
       "      <td>NaN</td>\n",
       "      <td>NaN</td>\n",
       "      <td>NaN</td>\n",
       "      <td>7.2</td>\n",
       "      <td>боевик,драма,мелодрама</td>\n",
       "      <td>NaN</td>\n",
       "    </tr>\n",
       "    <tr>\n",
       "      <th>1</th>\n",
       "      <td>Особо важное задание</td>\n",
       "      <td>111013716</td>\n",
       "      <td>2016-09-13T12:00:00.000Z</td>\n",
       "      <td>Художественный</td>\n",
       "      <td>Киностудия \"Мосфильм\"</td>\n",
       "      <td>СССР</td>\n",
       "      <td>Е.Матвеев</td>\n",
       "      <td>NaN</td>\n",
       "      <td>«6+» - для детей старше 6 лет</td>\n",
       "      <td>NaN</td>\n",
       "      <td>NaN</td>\n",
       "      <td>NaN</td>\n",
       "      <td>NaN</td>\n",
       "      <td>6.6</td>\n",
       "      <td>драма,военный</td>\n",
       "      <td>NaN</td>\n",
       "    </tr>\n",
       "    <tr>\n",
       "      <th>2</th>\n",
       "      <td>Особо опасен</td>\n",
       "      <td>221038416</td>\n",
       "      <td>2016-10-10T12:00:00.000Z</td>\n",
       "      <td>Художественный</td>\n",
       "      <td>Юниверсал Пикчерз, Кикстарт Продакшнз, Марк Пл...</td>\n",
       "      <td>США</td>\n",
       "      <td>Тимур Бекмамбетов</td>\n",
       "      <td>Джим Лемли, Джейсон Нетер, Марк Е.Платт, Яйн Смит</td>\n",
       "      <td>«18+» - запрещено для детей</td>\n",
       "      <td>NaN</td>\n",
       "      <td>NaN</td>\n",
       "      <td>NaN</td>\n",
       "      <td>NaN</td>\n",
       "      <td>6.8</td>\n",
       "      <td>фантастика,боевик,триллер</td>\n",
       "      <td>NaN</td>\n",
       "    </tr>\n",
       "    <tr>\n",
       "      <th>3</th>\n",
       "      <td>Особо опасен</td>\n",
       "      <td>221026916</td>\n",
       "      <td>2016-06-10T12:00:00.000Z</td>\n",
       "      <td>Художественный</td>\n",
       "      <td>Юниверсал Пикчерз, Кикстарт Продакшнз, Марк Пл...</td>\n",
       "      <td>США</td>\n",
       "      <td>Тимур Бекмамбетов</td>\n",
       "      <td>Джим Лемли, Джейсон Нетер, Марк Е.Платт, Яйн Смит</td>\n",
       "      <td>«18+» - запрещено для детей</td>\n",
       "      <td>NaN</td>\n",
       "      <td>NaN</td>\n",
       "      <td>NaN</td>\n",
       "      <td>NaN</td>\n",
       "      <td>6.8</td>\n",
       "      <td>фантастика,боевик,триллер</td>\n",
       "      <td>NaN</td>\n",
       "    </tr>\n",
       "    <tr>\n",
       "      <th>4</th>\n",
       "      <td>Особо опасен</td>\n",
       "      <td>221030815</td>\n",
       "      <td>2015-07-29T12:00:00.000Z</td>\n",
       "      <td>Художественный</td>\n",
       "      <td>Юниверсал Пикчерз, Кикстарт Продакшнз, Марк Пл...</td>\n",
       "      <td>США</td>\n",
       "      <td>Тимур Бекмамбетов</td>\n",
       "      <td>Джим Лемли, Джейсон Нетер, Марк Е.Платт, Яйн Смит</td>\n",
       "      <td>«18+» - запрещено для детей</td>\n",
       "      <td>NaN</td>\n",
       "      <td>NaN</td>\n",
       "      <td>NaN</td>\n",
       "      <td>NaN</td>\n",
       "      <td>6.8</td>\n",
       "      <td>фантастика,боевик,триллер</td>\n",
       "      <td>NaN</td>\n",
       "    </tr>\n",
       "  </tbody>\n",
       "</table>\n",
       "</div>"
      ],
      "text/plain": [
       "                  title   puNumber           show_start_date            type  \\\n",
       "0      Открытый простор  221048915  2015-11-27T12:00:00.000Z  Художественный   \n",
       "1  Особо важное задание  111013716  2016-09-13T12:00:00.000Z  Художественный   \n",
       "2          Особо опасен  221038416  2016-10-10T12:00:00.000Z  Художественный   \n",
       "3          Особо опасен  221026916  2016-06-10T12:00:00.000Z  Художественный   \n",
       "4          Особо опасен  221030815  2015-07-29T12:00:00.000Z  Художественный   \n",
       "\n",
       "                                         film_studio production_country  \\\n",
       "0  Тачстоун Пикчерз, Кобальт Пикчерз, Бикон Пикче...                США   \n",
       "1                              Киностудия \"Мосфильм\"               СССР   \n",
       "2  Юниверсал Пикчерз, Кикстарт Продакшнз, Марк Пл...                США   \n",
       "3  Юниверсал Пикчерз, Кикстарт Продакшнз, Марк Пл...                США   \n",
       "4  Юниверсал Пикчерз, Кикстарт Продакшнз, Марк Пл...                США   \n",
       "\n",
       "            director                                           producer  \\\n",
       "0      Кевин Костнер          Дэвид Валдес, Кевин Костнер, Джейк Эбертс   \n",
       "1          Е.Матвеев                                                NaN   \n",
       "2  Тимур Бекмамбетов  Джим Лемли, Джейсон Нетер, Марк Е.Платт, Яйн Смит   \n",
       "3  Тимур Бекмамбетов  Джим Лемли, Джейсон Нетер, Марк Е.Платт, Яйн Смит   \n",
       "4  Тимур Бекмамбетов  Джим Лемли, Джейсон Нетер, Марк Е.Платт, Яйн Смит   \n",
       "\n",
       "                 age_restriction  refundable_support  nonrefundable_support  \\\n",
       "0    «18+» - запрещено для детей                 NaN                    NaN   \n",
       "1  «6+» - для детей старше 6 лет                 NaN                    NaN   \n",
       "2    «18+» - запрещено для детей                 NaN                    NaN   \n",
       "3    «18+» - запрещено для детей                 NaN                    NaN   \n",
       "4    «18+» - запрещено для детей                 NaN                    NaN   \n",
       "\n",
       "   budget financing_source ratings                     genres  box_office  \n",
       "0     NaN              NaN     7.2     боевик,драма,мелодрама         NaN  \n",
       "1     NaN              NaN     6.6              драма,военный         NaN  \n",
       "2     NaN              NaN     6.8  фантастика,боевик,триллер         NaN  \n",
       "3     NaN              NaN     6.8  фантастика,боевик,триллер         NaN  \n",
       "4     NaN              NaN     6.8  фантастика,боевик,триллер         NaN  "
      ]
     },
     "metadata": {},
     "output_type": "display_data"
    },
    {
     "name": "stdout",
     "output_type": "stream",
     "text": [
      "<class 'pandas.core.frame.DataFrame'>\n",
      "Int64Index: 7485 entries, 0 to 7484\n",
      "Data columns (total 16 columns):\n",
      " #   Column                 Non-Null Count  Dtype  \n",
      "---  ------                 --------------  -----  \n",
      " 0   title                  7485 non-null   object \n",
      " 1   puNumber               7485 non-null   int64  \n",
      " 2   show_start_date        7485 non-null   object \n",
      " 3   type                   7485 non-null   object \n",
      " 4   film_studio            7467 non-null   object \n",
      " 5   production_country     7483 non-null   object \n",
      " 6   director               7476 non-null   object \n",
      " 7   producer               6917 non-null   object \n",
      " 8   age_restriction        7485 non-null   object \n",
      " 9   refundable_support     332 non-null    float64\n",
      " 10  nonrefundable_support  332 non-null    float64\n",
      " 11  budget                 332 non-null    float64\n",
      " 12  financing_source       332 non-null    object \n",
      " 13  ratings                6519 non-null   object \n",
      " 14  genres                 6510 non-null   object \n",
      " 15  box_office             3158 non-null   float64\n",
      "dtypes: float64(4), int64(1), object(11)\n",
      "memory usage: 994.1+ KB\n"
     ]
    }
   ],
   "source": [
    "display(data.head())\n",
    "data.info()"
   ]
  },
  {
   "cell_type": "markdown",
   "metadata": {
    "id": "KLDGpPG0gFyM"
   },
   "source": [
    "### Шаг 2. Предобработка данных"
   ]
  },
  {
   "cell_type": "markdown",
   "metadata": {
    "id": "ssWwKXsxgFyO"
   },
   "source": [
    "#### Шаг 2.1. Проверьте типы данных\n",
    "\n",
    "- Проверьте типы данных в датафрейме и преобразуйте их там, где это необходимо."
   ]
  },
  {
   "cell_type": "code",
   "execution_count": null,
   "metadata": {
    "id": "kVGSplJOgFyO"
   },
   "outputs": [
    {
     "data": {
      "text/html": [
       "<div>\n",
       "<style scoped>\n",
       "    .dataframe tbody tr th:only-of-type {\n",
       "        vertical-align: middle;\n",
       "    }\n",
       "\n",
       "    .dataframe tbody tr th {\n",
       "        vertical-align: top;\n",
       "    }\n",
       "\n",
       "    .dataframe thead th {\n",
       "        text-align: right;\n",
       "    }\n",
       "</style>\n",
       "<table border=\"1\" class=\"dataframe\">\n",
       "  <thead>\n",
       "    <tr style=\"text-align: right;\">\n",
       "      <th></th>\n",
       "      <th>title</th>\n",
       "      <th>pu_number</th>\n",
       "      <th>show_start_date</th>\n",
       "      <th>type</th>\n",
       "      <th>film_studio</th>\n",
       "      <th>production_country</th>\n",
       "      <th>director</th>\n",
       "      <th>producer</th>\n",
       "      <th>age_restriction</th>\n",
       "      <th>refundable_support</th>\n",
       "      <th>nonrefundable_support</th>\n",
       "      <th>budget</th>\n",
       "      <th>financing_source</th>\n",
       "      <th>ratings</th>\n",
       "      <th>genres</th>\n",
       "      <th>box_office</th>\n",
       "    </tr>\n",
       "  </thead>\n",
       "  <tbody>\n",
       "    <tr>\n",
       "      <th>0</th>\n",
       "      <td>Открытый простор</td>\n",
       "      <td>221048915</td>\n",
       "      <td>2015-11-27 12:00:00+00:00</td>\n",
       "      <td>Художественный</td>\n",
       "      <td>Тачстоун Пикчерз, Кобальт Пикчерз, Бикон Пикче...</td>\n",
       "      <td>США</td>\n",
       "      <td>Кевин Костнер</td>\n",
       "      <td>Дэвид Валдес, Кевин Костнер, Джейк Эбертс</td>\n",
       "      <td>«18+» - запрещено для детей</td>\n",
       "      <td>NaN</td>\n",
       "      <td>NaN</td>\n",
       "      <td>NaN</td>\n",
       "      <td>NaN</td>\n",
       "      <td>7.2</td>\n",
       "      <td>боевик,драма,мелодрама</td>\n",
       "      <td>NaN</td>\n",
       "    </tr>\n",
       "    <tr>\n",
       "      <th>1</th>\n",
       "      <td>Особо важное задание</td>\n",
       "      <td>111013716</td>\n",
       "      <td>2016-09-13 12:00:00+00:00</td>\n",
       "      <td>Художественный</td>\n",
       "      <td>Киностудия \"Мосфильм\"</td>\n",
       "      <td>СССР</td>\n",
       "      <td>Е.Матвеев</td>\n",
       "      <td>NaN</td>\n",
       "      <td>«6+» - для детей старше 6 лет</td>\n",
       "      <td>NaN</td>\n",
       "      <td>NaN</td>\n",
       "      <td>NaN</td>\n",
       "      <td>NaN</td>\n",
       "      <td>6.6</td>\n",
       "      <td>драма,военный</td>\n",
       "      <td>NaN</td>\n",
       "    </tr>\n",
       "    <tr>\n",
       "      <th>2</th>\n",
       "      <td>Особо опасен</td>\n",
       "      <td>221038416</td>\n",
       "      <td>2016-10-10 12:00:00+00:00</td>\n",
       "      <td>Художественный</td>\n",
       "      <td>Юниверсал Пикчерз, Кикстарт Продакшнз, Марк Пл...</td>\n",
       "      <td>США</td>\n",
       "      <td>Тимур Бекмамбетов</td>\n",
       "      <td>Джим Лемли, Джейсон Нетер, Марк Е.Платт, Яйн Смит</td>\n",
       "      <td>«18+» - запрещено для детей</td>\n",
       "      <td>NaN</td>\n",
       "      <td>NaN</td>\n",
       "      <td>NaN</td>\n",
       "      <td>NaN</td>\n",
       "      <td>6.8</td>\n",
       "      <td>фантастика,боевик,триллер</td>\n",
       "      <td>NaN</td>\n",
       "    </tr>\n",
       "    <tr>\n",
       "      <th>3</th>\n",
       "      <td>Особо опасен</td>\n",
       "      <td>221026916</td>\n",
       "      <td>2016-06-10 12:00:00+00:00</td>\n",
       "      <td>Художественный</td>\n",
       "      <td>Юниверсал Пикчерз, Кикстарт Продакшнз, Марк Пл...</td>\n",
       "      <td>США</td>\n",
       "      <td>Тимур Бекмамбетов</td>\n",
       "      <td>Джим Лемли, Джейсон Нетер, Марк Е.Платт, Яйн Смит</td>\n",
       "      <td>«18+» - запрещено для детей</td>\n",
       "      <td>NaN</td>\n",
       "      <td>NaN</td>\n",
       "      <td>NaN</td>\n",
       "      <td>NaN</td>\n",
       "      <td>6.8</td>\n",
       "      <td>фантастика,боевик,триллер</td>\n",
       "      <td>NaN</td>\n",
       "    </tr>\n",
       "    <tr>\n",
       "      <th>4</th>\n",
       "      <td>Особо опасен</td>\n",
       "      <td>221030815</td>\n",
       "      <td>2015-07-29 12:00:00+00:00</td>\n",
       "      <td>Художественный</td>\n",
       "      <td>Юниверсал Пикчерз, Кикстарт Продакшнз, Марк Пл...</td>\n",
       "      <td>США</td>\n",
       "      <td>Тимур Бекмамбетов</td>\n",
       "      <td>Джим Лемли, Джейсон Нетер, Марк Е.Платт, Яйн Смит</td>\n",
       "      <td>«18+» - запрещено для детей</td>\n",
       "      <td>NaN</td>\n",
       "      <td>NaN</td>\n",
       "      <td>NaN</td>\n",
       "      <td>NaN</td>\n",
       "      <td>6.8</td>\n",
       "      <td>фантастика,боевик,триллер</td>\n",
       "      <td>NaN</td>\n",
       "    </tr>\n",
       "  </tbody>\n",
       "</table>\n",
       "</div>"
      ],
      "text/plain": [
       "                  title  pu_number           show_start_date            type  \\\n",
       "0      Открытый простор  221048915 2015-11-27 12:00:00+00:00  Художественный   \n",
       "1  Особо важное задание  111013716 2016-09-13 12:00:00+00:00  Художественный   \n",
       "2          Особо опасен  221038416 2016-10-10 12:00:00+00:00  Художественный   \n",
       "3          Особо опасен  221026916 2016-06-10 12:00:00+00:00  Художественный   \n",
       "4          Особо опасен  221030815 2015-07-29 12:00:00+00:00  Художественный   \n",
       "\n",
       "                                         film_studio production_country  \\\n",
       "0  Тачстоун Пикчерз, Кобальт Пикчерз, Бикон Пикче...                США   \n",
       "1                              Киностудия \"Мосфильм\"               СССР   \n",
       "2  Юниверсал Пикчерз, Кикстарт Продакшнз, Марк Пл...                США   \n",
       "3  Юниверсал Пикчерз, Кикстарт Продакшнз, Марк Пл...                США   \n",
       "4  Юниверсал Пикчерз, Кикстарт Продакшнз, Марк Пл...                США   \n",
       "\n",
       "            director                                           producer  \\\n",
       "0      Кевин Костнер          Дэвид Валдес, Кевин Костнер, Джейк Эбертс   \n",
       "1          Е.Матвеев                                                NaN   \n",
       "2  Тимур Бекмамбетов  Джим Лемли, Джейсон Нетер, Марк Е.Платт, Яйн Смит   \n",
       "3  Тимур Бекмамбетов  Джим Лемли, Джейсон Нетер, Марк Е.Платт, Яйн Смит   \n",
       "4  Тимур Бекмамбетов  Джим Лемли, Джейсон Нетер, Марк Е.Платт, Яйн Смит   \n",
       "\n",
       "                 age_restriction  refundable_support  nonrefundable_support  \\\n",
       "0    «18+» - запрещено для детей                 NaN                    NaN   \n",
       "1  «6+» - для детей старше 6 лет                 NaN                    NaN   \n",
       "2    «18+» - запрещено для детей                 NaN                    NaN   \n",
       "3    «18+» - запрещено для детей                 NaN                    NaN   \n",
       "4    «18+» - запрещено для детей                 NaN                    NaN   \n",
       "\n",
       "   budget financing_source  ratings                     genres  box_office  \n",
       "0     NaN              NaN      7.2     боевик,драма,мелодрама         NaN  \n",
       "1     NaN              NaN      6.6              драма,военный         NaN  \n",
       "2     NaN              NaN      6.8  фантастика,боевик,триллер         NaN  \n",
       "3     NaN              NaN      6.8  фантастика,боевик,триллер         NaN  \n",
       "4     NaN              NaN      6.8  фантастика,боевик,триллер         NaN  "
      ]
     },
     "metadata": {},
     "output_type": "display_data"
    },
    {
     "name": "stdout",
     "output_type": "stream",
     "text": [
      "<class 'pandas.core.frame.DataFrame'>\n",
      "Int64Index: 7485 entries, 0 to 7484\n",
      "Data columns (total 16 columns):\n",
      " #   Column                 Non-Null Count  Dtype              \n",
      "---  ------                 --------------  -----              \n",
      " 0   title                  7485 non-null   object             \n",
      " 1   pu_number              7485 non-null   int64              \n",
      " 2   show_start_date        7485 non-null   datetime64[ns, UTC]\n",
      " 3   type                   7485 non-null   object             \n",
      " 4   film_studio            7467 non-null   object             \n",
      " 5   production_country     7483 non-null   object             \n",
      " 6   director               7476 non-null   object             \n",
      " 7   producer               6917 non-null   object             \n",
      " 8   age_restriction        7485 non-null   object             \n",
      " 9   refundable_support     332 non-null    float64            \n",
      " 10  nonrefundable_support  332 non-null    float64            \n",
      " 11  budget                 332 non-null    float64            \n",
      " 12  financing_source       332 non-null    object             \n",
      " 13  ratings                6490 non-null   float64            \n",
      " 14  genres                 6510 non-null   object             \n",
      " 15  box_office             3158 non-null   float64            \n",
      "dtypes: datetime64[ns, UTC](1), float64(5), int64(1), object(9)\n",
      "memory usage: 994.1+ KB\n"
     ]
    }
   ],
   "source": [
    "data = data.rename(columns={'puNumber': 'pu_number'})\n",
    "data['show_start_date'] = pd.to_datetime(data['show_start_date'])\n",
    "data['ratings'] = pd.to_numeric(data['ratings'], errors='coerce')\n",
    "\n",
    "display(data.head())\n",
    "data.info()"
   ]
  },
  {
   "cell_type": "markdown",
   "metadata": {},
   "source": [
    "    Поменял названия столбца\n",
    "    Изменил тип данных с датой и привел к числовому типу данных в рейтинге"
   ]
  },
  {
   "cell_type": "markdown",
   "metadata": {
    "id": "i0MOLbF-gFyP"
   },
   "source": [
    "#### Шаг 2.2. Изучите пропуски в датафрейме\n",
    "\n",
    "- Объясните, почему заполнили пропуски определённым образом или почему не стали этого делать."
   ]
  },
  {
   "cell_type": "code",
   "execution_count": 4,
   "metadata": {
    "id": "8MJD_lkngFyP"
   },
   "outputs": [
    {
     "data": {
      "text/html": [
       "<div>\n",
       "<style scoped>\n",
       "    .dataframe tbody tr th:only-of-type {\n",
       "        vertical-align: middle;\n",
       "    }\n",
       "\n",
       "    .dataframe tbody tr th {\n",
       "        vertical-align: top;\n",
       "    }\n",
       "\n",
       "    .dataframe thead th {\n",
       "        text-align: right;\n",
       "    }\n",
       "</style>\n",
       "<table border=\"1\" class=\"dataframe\">\n",
       "  <thead>\n",
       "    <tr style=\"text-align: right;\">\n",
       "      <th></th>\n",
       "      <th>title</th>\n",
       "      <th>pu_number</th>\n",
       "      <th>show_start_date</th>\n",
       "      <th>type</th>\n",
       "      <th>film_studio</th>\n",
       "      <th>production_country</th>\n",
       "      <th>director</th>\n",
       "      <th>producer</th>\n",
       "      <th>age_restriction</th>\n",
       "      <th>refundable_support</th>\n",
       "      <th>nonrefundable_support</th>\n",
       "      <th>budget</th>\n",
       "      <th>financing_source</th>\n",
       "      <th>ratings</th>\n",
       "      <th>genres</th>\n",
       "      <th>box_office</th>\n",
       "    </tr>\n",
       "  </thead>\n",
       "  <tbody>\n",
       "    <tr>\n",
       "      <th>0</th>\n",
       "      <td>Открытый простор</td>\n",
       "      <td>221048915</td>\n",
       "      <td>2015-11-27 12:00:00+00:00</td>\n",
       "      <td>Художественный</td>\n",
       "      <td>тачстоун пикчерз, кобальт пикчерз, бикон пикче...</td>\n",
       "      <td>США</td>\n",
       "      <td>Кевин Костнер</td>\n",
       "      <td>Дэвид Валдес, Кевин Костнер, Джейк Эбертс</td>\n",
       "      <td>«18+» - запрещено для детей</td>\n",
       "      <td>NaN</td>\n",
       "      <td>NaN</td>\n",
       "      <td>NaN</td>\n",
       "      <td>NaN</td>\n",
       "      <td>7.2</td>\n",
       "      <td>боевик,драма,мелодрама</td>\n",
       "      <td>NaN</td>\n",
       "    </tr>\n",
       "    <tr>\n",
       "      <th>1</th>\n",
       "      <td>Особо важное задание</td>\n",
       "      <td>111013716</td>\n",
       "      <td>2016-09-13 12:00:00+00:00</td>\n",
       "      <td>Художественный</td>\n",
       "      <td>мосфильм</td>\n",
       "      <td>СССР</td>\n",
       "      <td>Е.Матвеев</td>\n",
       "      <td>unknown</td>\n",
       "      <td>«6+» - для детей старше 6 лет</td>\n",
       "      <td>NaN</td>\n",
       "      <td>NaN</td>\n",
       "      <td>NaN</td>\n",
       "      <td>NaN</td>\n",
       "      <td>6.6</td>\n",
       "      <td>драма,военный</td>\n",
       "      <td>NaN</td>\n",
       "    </tr>\n",
       "    <tr>\n",
       "      <th>2</th>\n",
       "      <td>Особо опасен</td>\n",
       "      <td>221038416</td>\n",
       "      <td>2016-10-10 12:00:00+00:00</td>\n",
       "      <td>Художественный</td>\n",
       "      <td>юниверсал пикчерз, кикстарт продакшнз, марк пл...</td>\n",
       "      <td>США</td>\n",
       "      <td>Тимур Бекмамбетов</td>\n",
       "      <td>Джим Лемли, Джейсон Нетер, Марк Е.Платт, Яйн Смит</td>\n",
       "      <td>«18+» - запрещено для детей</td>\n",
       "      <td>NaN</td>\n",
       "      <td>NaN</td>\n",
       "      <td>NaN</td>\n",
       "      <td>NaN</td>\n",
       "      <td>6.8</td>\n",
       "      <td>фантастика,боевик,триллер</td>\n",
       "      <td>NaN</td>\n",
       "    </tr>\n",
       "    <tr>\n",
       "      <th>3</th>\n",
       "      <td>Особо опасен</td>\n",
       "      <td>221026916</td>\n",
       "      <td>2016-06-10 12:00:00+00:00</td>\n",
       "      <td>Художественный</td>\n",
       "      <td>юниверсал пикчерз, кикстарт продакшнз, марк пл...</td>\n",
       "      <td>США</td>\n",
       "      <td>Тимур Бекмамбетов</td>\n",
       "      <td>Джим Лемли, Джейсон Нетер, Марк Е.Платт, Яйн Смит</td>\n",
       "      <td>«18+» - запрещено для детей</td>\n",
       "      <td>NaN</td>\n",
       "      <td>NaN</td>\n",
       "      <td>NaN</td>\n",
       "      <td>NaN</td>\n",
       "      <td>6.8</td>\n",
       "      <td>фантастика,боевик,триллер</td>\n",
       "      <td>NaN</td>\n",
       "    </tr>\n",
       "    <tr>\n",
       "      <th>4</th>\n",
       "      <td>Особо опасен</td>\n",
       "      <td>221030815</td>\n",
       "      <td>2015-07-29 12:00:00+00:00</td>\n",
       "      <td>Художественный</td>\n",
       "      <td>юниверсал пикчерз, кикстарт продакшнз, марк пл...</td>\n",
       "      <td>США</td>\n",
       "      <td>Тимур Бекмамбетов</td>\n",
       "      <td>Джим Лемли, Джейсон Нетер, Марк Е.Платт, Яйн Смит</td>\n",
       "      <td>«18+» - запрещено для детей</td>\n",
       "      <td>NaN</td>\n",
       "      <td>NaN</td>\n",
       "      <td>NaN</td>\n",
       "      <td>NaN</td>\n",
       "      <td>6.8</td>\n",
       "      <td>фантастика,боевик,триллер</td>\n",
       "      <td>NaN</td>\n",
       "    </tr>\n",
       "  </tbody>\n",
       "</table>\n",
       "</div>"
      ],
      "text/plain": [
       "                  title  pu_number           show_start_date            type  \\\n",
       "0      Открытый простор  221048915 2015-11-27 12:00:00+00:00  Художественный   \n",
       "1  Особо важное задание  111013716 2016-09-13 12:00:00+00:00  Художественный   \n",
       "2          Особо опасен  221038416 2016-10-10 12:00:00+00:00  Художественный   \n",
       "3          Особо опасен  221026916 2016-06-10 12:00:00+00:00  Художественный   \n",
       "4          Особо опасен  221030815 2015-07-29 12:00:00+00:00  Художественный   \n",
       "\n",
       "                                         film_studio production_country  \\\n",
       "0  тачстоун пикчерз, кобальт пикчерз, бикон пикче...                США   \n",
       "1                                           мосфильм               СССР   \n",
       "2  юниверсал пикчерз, кикстарт продакшнз, марк пл...                США   \n",
       "3  юниверсал пикчерз, кикстарт продакшнз, марк пл...                США   \n",
       "4  юниверсал пикчерз, кикстарт продакшнз, марк пл...                США   \n",
       "\n",
       "            director                                           producer  \\\n",
       "0      Кевин Костнер          Дэвид Валдес, Кевин Костнер, Джейк Эбертс   \n",
       "1          Е.Матвеев                                            unknown   \n",
       "2  Тимур Бекмамбетов  Джим Лемли, Джейсон Нетер, Марк Е.Платт, Яйн Смит   \n",
       "3  Тимур Бекмамбетов  Джим Лемли, Джейсон Нетер, Марк Е.Платт, Яйн Смит   \n",
       "4  Тимур Бекмамбетов  Джим Лемли, Джейсон Нетер, Марк Е.Платт, Яйн Смит   \n",
       "\n",
       "                 age_restriction  refundable_support  nonrefundable_support  \\\n",
       "0    «18+» - запрещено для детей                 NaN                    NaN   \n",
       "1  «6+» - для детей старше 6 лет                 NaN                    NaN   \n",
       "2    «18+» - запрещено для детей                 NaN                    NaN   \n",
       "3    «18+» - запрещено для детей                 NaN                    NaN   \n",
       "4    «18+» - запрещено для детей                 NaN                    NaN   \n",
       "\n",
       "   budget financing_source  ratings                     genres  box_office  \n",
       "0     NaN              NaN      7.2     боевик,драма,мелодрама         NaN  \n",
       "1     NaN              NaN      6.6              драма,военный         NaN  \n",
       "2     NaN              NaN      6.8  фантастика,боевик,триллер         NaN  \n",
       "3     NaN              NaN      6.8  фантастика,боевик,триллер         NaN  \n",
       "4     NaN              NaN      6.8  фантастика,боевик,триллер         NaN  "
      ]
     },
     "metadata": {},
     "output_type": "display_data"
    },
    {
     "name": "stdout",
     "output_type": "stream",
     "text": [
      "<class 'pandas.core.frame.DataFrame'>\n",
      "Int64Index: 7485 entries, 0 to 7484\n",
      "Data columns (total 16 columns):\n",
      " #   Column                 Non-Null Count  Dtype              \n",
      "---  ------                 --------------  -----              \n",
      " 0   title                  7485 non-null   object             \n",
      " 1   pu_number              7485 non-null   int64              \n",
      " 2   show_start_date        7485 non-null   datetime64[ns, UTC]\n",
      " 3   type                   7485 non-null   object             \n",
      " 4   film_studio            7485 non-null   object             \n",
      " 5   production_country     7485 non-null   object             \n",
      " 6   director               7485 non-null   object             \n",
      " 7   producer               7485 non-null   object             \n",
      " 8   age_restriction        7485 non-null   object             \n",
      " 9   refundable_support     332 non-null    float64            \n",
      " 10  nonrefundable_support  332 non-null    float64            \n",
      " 11  budget                 332 non-null    float64            \n",
      " 12  financing_source       332 non-null    object             \n",
      " 13  ratings                6490 non-null   float64            \n",
      " 14  genres                 6510 non-null   object             \n",
      " 15  box_office             3158 non-null   float64            \n",
      "dtypes: datetime64[ns, UTC](1), float64(5), int64(1), object(9)\n",
      "memory usage: 994.1+ KB\n",
      "title                       0\n",
      "pu_number                   0\n",
      "show_start_date             0\n",
      "type                        0\n",
      "film_studio                 0\n",
      "production_country          0\n",
      "director                    0\n",
      "producer                    0\n",
      "age_restriction             0\n",
      "refundable_support       7153\n",
      "nonrefundable_support    7153\n",
      "budget                   7153\n",
      "financing_source         7153\n",
      "ratings                   995\n",
      "genres                    975\n",
      "box_office               4327\n",
      "dtype: int64\n"
     ]
    }
   ],
   "source": [
    "data['film_studio'] = (\n",
    "    data['film_studio']\n",
    "    .str.lower()   \n",
    "    .replace(['ооо студия', 'киностудия', '\"'], '', regex=True))\n",
    "data['film_studio'] = data['film_studio'].fillna('unknown')\n",
    "data['production_country'] = data['production_country'].fillna('unknown')\n",
    "data['director'] = data['director'].fillna('unknown')\n",
    "data['producer'] = data['producer'].fillna('unknown')\n",
    "display(data.head(5))\n",
    "data.info()\n",
    "print(data.isna().sum())"
   ]
  },
  {
   "cell_type": "markdown",
   "metadata": {},
   "source": [
    "    В столбце film_studio убрал лишние слова и оставил только название, пропуски заполнил unknown\n",
    "    В столбцах production_country, director, producer пропуски также заполнил unknown\n",
    "    Мне кажется так заполнить правильнее, заполнить медианой или средней нельзя, другие пропуски решил оставить, т.к.\n",
    "    данных и так мало\n",
    "    "
   ]
  },
  {
   "cell_type": "markdown",
   "metadata": {
    "id": "4c6k1t9ygFyQ"
   },
   "source": [
    "#### Шаг 2.3. Изучите дубликаты в датафрейме\n",
    "- Проверьте, есть ли в данных дубликаты. Опишите причины, которые могли повлиять на появление дублей."
   ]
  },
  {
   "cell_type": "code",
   "execution_count": 5,
   "metadata": {
    "id": "aKck8RIdgFyQ",
    "scrolled": true
   },
   "outputs": [
    {
     "data": {
      "text/html": [
       "<div>\n",
       "<style scoped>\n",
       "    .dataframe tbody tr th:only-of-type {\n",
       "        vertical-align: middle;\n",
       "    }\n",
       "\n",
       "    .dataframe tbody tr th {\n",
       "        vertical-align: top;\n",
       "    }\n",
       "\n",
       "    .dataframe thead th {\n",
       "        text-align: right;\n",
       "    }\n",
       "</style>\n",
       "<table border=\"1\" class=\"dataframe\">\n",
       "  <thead>\n",
       "    <tr style=\"text-align: right;\">\n",
       "      <th></th>\n",
       "      <th>title</th>\n",
       "      <th>pu_number</th>\n",
       "      <th>show_start_date</th>\n",
       "      <th>type</th>\n",
       "      <th>film_studio</th>\n",
       "      <th>production_country</th>\n",
       "      <th>director</th>\n",
       "      <th>producer</th>\n",
       "      <th>age_restriction</th>\n",
       "      <th>refundable_support</th>\n",
       "      <th>nonrefundable_support</th>\n",
       "      <th>budget</th>\n",
       "      <th>financing_source</th>\n",
       "      <th>ratings</th>\n",
       "      <th>genres</th>\n",
       "      <th>box_office</th>\n",
       "    </tr>\n",
       "  </thead>\n",
       "  <tbody>\n",
       "    <tr>\n",
       "      <th>3</th>\n",
       "      <td>Особо опасен</td>\n",
       "      <td>221026916</td>\n",
       "      <td>2016-06-10 12:00:00+00:00</td>\n",
       "      <td>Художественный</td>\n",
       "      <td>юниверсал пикчерз, кикстарт продакшнз, марк пл...</td>\n",
       "      <td>США</td>\n",
       "      <td>Тимур Бекмамбетов</td>\n",
       "      <td>Джим Лемли, Джейсон Нетер, Марк Е.Платт, Яйн Смит</td>\n",
       "      <td>«18+» - запрещено для детей</td>\n",
       "      <td>NaN</td>\n",
       "      <td>NaN</td>\n",
       "      <td>NaN</td>\n",
       "      <td>NaN</td>\n",
       "      <td>6.8</td>\n",
       "      <td>фантастика,боевик,триллер</td>\n",
       "      <td>NaN</td>\n",
       "    </tr>\n",
       "    <tr>\n",
       "      <th>4</th>\n",
       "      <td>Особо опасен</td>\n",
       "      <td>221030815</td>\n",
       "      <td>2015-07-29 12:00:00+00:00</td>\n",
       "      <td>Художественный</td>\n",
       "      <td>юниверсал пикчерз, кикстарт продакшнз, марк пл...</td>\n",
       "      <td>США</td>\n",
       "      <td>Тимур Бекмамбетов</td>\n",
       "      <td>Джим Лемли, Джейсон Нетер, Марк Е.Платт, Яйн Смит</td>\n",
       "      <td>«18+» - запрещено для детей</td>\n",
       "      <td>NaN</td>\n",
       "      <td>NaN</td>\n",
       "      <td>NaN</td>\n",
       "      <td>NaN</td>\n",
       "      <td>6.8</td>\n",
       "      <td>фантастика,боевик,триллер</td>\n",
       "      <td>NaN</td>\n",
       "    </tr>\n",
       "    <tr>\n",
       "      <th>41</th>\n",
       "      <td>Алекс и Эмма</td>\n",
       "      <td>221004616</td>\n",
       "      <td>2016-02-09 12:00:00+00:00</td>\n",
       "      <td>Художественный</td>\n",
       "      <td>эскейп артистс, франчайз пикчерз, рейнер-грэйс...</td>\n",
       "      <td>США</td>\n",
       "      <td>Роб Райнер</td>\n",
       "      <td>Тодд Блэк, Элан Грейсман, Джереми Левен, Роб Р...</td>\n",
       "      <td>«16+» - для детей старше 16 лет</td>\n",
       "      <td>NaN</td>\n",
       "      <td>NaN</td>\n",
       "      <td>NaN</td>\n",
       "      <td>NaN</td>\n",
       "      <td>6.4</td>\n",
       "      <td>мелодрама,комедия</td>\n",
       "      <td>NaN</td>\n",
       "    </tr>\n",
       "    <tr>\n",
       "      <th>110</th>\n",
       "      <td>Гарри Поттер и орден Феникса /По роману Дж.К.Р...</td>\n",
       "      <td>121026316</td>\n",
       "      <td>2016-09-23 12:00:00+00:00</td>\n",
       "      <td>Художественный</td>\n",
       "      <td>уорнер бразерс, хэйдей филмз</td>\n",
       "      <td>США - Великобритания</td>\n",
       "      <td>Дэвид Йетс</td>\n",
       "      <td>Дэйвид Баррон, Дэйвид Хейман</td>\n",
       "      <td>«16+» - для детей старше 16 лет</td>\n",
       "      <td>NaN</td>\n",
       "      <td>NaN</td>\n",
       "      <td>NaN</td>\n",
       "      <td>NaN</td>\n",
       "      <td>7.7</td>\n",
       "      <td>фэнтези,приключения,семейный</td>\n",
       "      <td>759,526.0</td>\n",
       "    </tr>\n",
       "    <tr>\n",
       "      <th>113</th>\n",
       "      <td>Гарри Поттер и узник Азкабана /По роману Дж.К....</td>\n",
       "      <td>121026116</td>\n",
       "      <td>2016-09-23 12:00:00+00:00</td>\n",
       "      <td>Художественный</td>\n",
       "      <td>хэйдей филмз, 1492 пикчерз, уорнер бразерс</td>\n",
       "      <td>США</td>\n",
       "      <td>Альфонсо Куарон</td>\n",
       "      <td>Майкл Барната</td>\n",
       "      <td>«12+» - для детей старше 12 лет</td>\n",
       "      <td>NaN</td>\n",
       "      <td>NaN</td>\n",
       "      <td>NaN</td>\n",
       "      <td>NaN</td>\n",
       "      <td>8.2</td>\n",
       "      <td>фэнтези,приключения,семейный</td>\n",
       "      <td>1,125,302.0</td>\n",
       "    </tr>\n",
       "    <tr>\n",
       "      <th>...</th>\n",
       "      <td>...</td>\n",
       "      <td>...</td>\n",
       "      <td>...</td>\n",
       "      <td>...</td>\n",
       "      <td>...</td>\n",
       "      <td>...</td>\n",
       "      <td>...</td>\n",
       "      <td>...</td>\n",
       "      <td>...</td>\n",
       "      <td>...</td>\n",
       "      <td>...</td>\n",
       "      <td>...</td>\n",
       "      <td>...</td>\n",
       "      <td>...</td>\n",
       "      <td>...</td>\n",
       "      <td>...</td>\n",
       "    </tr>\n",
       "    <tr>\n",
       "      <th>7368</th>\n",
       "      <td>Невиновен</td>\n",
       "      <td>111019319</td>\n",
       "      <td>2019-11-07 12:00:00+00:00</td>\n",
       "      <td>Художественный</td>\n",
       "      <td>ооо кавказфильм</td>\n",
       "      <td>Россия</td>\n",
       "      <td>А.Емкужев</td>\n",
       "      <td>А.Емкужев, А.Хуажева, ООО \"Корпорация Русская ...</td>\n",
       "      <td>«16+» - для детей старше 16 лет</td>\n",
       "      <td>NaN</td>\n",
       "      <td>NaN</td>\n",
       "      <td>NaN</td>\n",
       "      <td>NaN</td>\n",
       "      <td>7.5</td>\n",
       "      <td>триллер,детектив,криминал</td>\n",
       "      <td>NaN</td>\n",
       "    </tr>\n",
       "    <tr>\n",
       "      <th>7415</th>\n",
       "      <td>Отель \"Гранд Будапешт\"</td>\n",
       "      <td>121035119</td>\n",
       "      <td>2019-12-13 12:00:00+00:00</td>\n",
       "      <td>Художественный</td>\n",
       "      <td>американ эмпирикал, индиан пэинтбраш, скотт ру...</td>\n",
       "      <td>Германия, США</td>\n",
       "      <td>Уэс Андерсен</td>\n",
       "      <td>Уэс Андерсон, Джереми Доусон, Стивен Рейлс</td>\n",
       "      <td>«16+» - для детей старше 16 лет</td>\n",
       "      <td>NaN</td>\n",
       "      <td>NaN</td>\n",
       "      <td>NaN</td>\n",
       "      <td>NaN</td>\n",
       "      <td>7.9</td>\n",
       "      <td>комедия,приключения,детектив</td>\n",
       "      <td>NaN</td>\n",
       "    </tr>\n",
       "    <tr>\n",
       "      <th>7437</th>\n",
       "      <td>Зверь</td>\n",
       "      <td>121035919</td>\n",
       "      <td>2019-12-05 12:00:00+00:00</td>\n",
       "      <td>Художественный</td>\n",
       "      <td>студио энд нью</td>\n",
       "      <td>Южная Корея</td>\n",
       "      <td>Ли Джон-хо</td>\n",
       "      <td>Чан Гён-ик, Чон Джи-хун, Пэк Кён сук</td>\n",
       "      <td>«18+» - запрещено для детей</td>\n",
       "      <td>NaN</td>\n",
       "      <td>NaN</td>\n",
       "      <td>NaN</td>\n",
       "      <td>NaN</td>\n",
       "      <td>6.5</td>\n",
       "      <td>триллер,драма</td>\n",
       "      <td>175,003.5</td>\n",
       "    </tr>\n",
       "    <tr>\n",
       "      <th>7449</th>\n",
       "      <td>В тихом омуте</td>\n",
       "      <td>121036919</td>\n",
       "      <td>2019-12-09 12:00:00+00:00</td>\n",
       "      <td>Художественный</td>\n",
       "      <td>хэд гир филмз, крео филмз, локал хироу, метрол...</td>\n",
       "      <td>США</td>\n",
       "      <td>Адам Рэндолл</td>\n",
       "      <td>Мэтт Уолдек</td>\n",
       "      <td>«18+» - запрещено для детей</td>\n",
       "      <td>NaN</td>\n",
       "      <td>NaN</td>\n",
       "      <td>NaN</td>\n",
       "      <td>NaN</td>\n",
       "      <td>6.8</td>\n",
       "      <td>триллер,криминал,детектив</td>\n",
       "      <td>NaN</td>\n",
       "    </tr>\n",
       "    <tr>\n",
       "      <th>7473</th>\n",
       "      <td>Вторжение</td>\n",
       "      <td>111022519</td>\n",
       "      <td>2019-12-23 12:00:00+00:00</td>\n",
       "      <td>Художественный</td>\n",
       "      <td>ооо арт пикчерс студия, ооо водород 2011</td>\n",
       "      <td>Россия</td>\n",
       "      <td>Ф.Бондарчук</td>\n",
       "      <td>Ф.Бондарчук, М.Врубель, А.Андрющенко, Д.Рудовский</td>\n",
       "      <td>«12+» - для детей старше 12 лет</td>\n",
       "      <td>100,000,000.0</td>\n",
       "      <td>400,000,000.0</td>\n",
       "      <td>944,000,000.0</td>\n",
       "      <td>Фонд кино</td>\n",
       "      <td>5.7</td>\n",
       "      <td>фантастика,боевик</td>\n",
       "      <td>NaN</td>\n",
       "    </tr>\n",
       "  </tbody>\n",
       "</table>\n",
       "<p>714 rows × 16 columns</p>\n",
       "</div>"
      ],
      "text/plain": [
       "                                                  title  pu_number  \\\n",
       "3                                          Особо опасен  221026916   \n",
       "4                                          Особо опасен  221030815   \n",
       "41                                         Алекс и Эмма  221004616   \n",
       "110   Гарри Поттер и орден Феникса /По роману Дж.К.Р...  121026316   \n",
       "113   Гарри Поттер и узник Азкабана /По роману Дж.К....  121026116   \n",
       "...                                                 ...        ...   \n",
       "7368                                          Невиновен  111019319   \n",
       "7415                             Отель \"Гранд Будапешт\"  121035119   \n",
       "7437                                              Зверь  121035919   \n",
       "7449                                      В тихом омуте  121036919   \n",
       "7473                                          Вторжение  111022519   \n",
       "\n",
       "               show_start_date             type  \\\n",
       "3    2016-06-10 12:00:00+00:00   Художественный   \n",
       "4    2015-07-29 12:00:00+00:00   Художественный   \n",
       "41   2016-02-09 12:00:00+00:00   Художественный   \n",
       "110  2016-09-23 12:00:00+00:00   Художественный   \n",
       "113  2016-09-23 12:00:00+00:00   Художественный   \n",
       "...                        ...              ...   \n",
       "7368 2019-11-07 12:00:00+00:00   Художественный   \n",
       "7415 2019-12-13 12:00:00+00:00   Художественный   \n",
       "7437 2019-12-05 12:00:00+00:00   Художественный   \n",
       "7449 2019-12-09 12:00:00+00:00   Художественный   \n",
       "7473 2019-12-23 12:00:00+00:00   Художественный   \n",
       "\n",
       "                                            film_studio    production_country  \\\n",
       "3     юниверсал пикчерз, кикстарт продакшнз, марк пл...                   США   \n",
       "4     юниверсал пикчерз, кикстарт продакшнз, марк пл...                   США   \n",
       "41    эскейп артистс, франчайз пикчерз, рейнер-грэйс...                   США   \n",
       "110                        уорнер бразерс, хэйдей филмз  США - Великобритания   \n",
       "113          хэйдей филмз, 1492 пикчерз, уорнер бразерс                   США   \n",
       "...                                                 ...                   ...   \n",
       "7368                                    ооо кавказфильм                Россия   \n",
       "7415  американ эмпирикал, индиан пэинтбраш, скотт ру...         Германия, США   \n",
       "7437                                     студио энд нью           Южная Корея   \n",
       "7449  хэд гир филмз, крео филмз, локал хироу, метрол...                   США   \n",
       "7473           ооо арт пикчерс студия, ооо водород 2011                Россия   \n",
       "\n",
       "               director                                           producer  \\\n",
       "3     Тимур Бекмамбетов  Джим Лемли, Джейсон Нетер, Марк Е.Платт, Яйн Смит   \n",
       "4     Тимур Бекмамбетов  Джим Лемли, Джейсон Нетер, Марк Е.Платт, Яйн Смит   \n",
       "41           Роб Райнер  Тодд Блэк, Элан Грейсман, Джереми Левен, Роб Р...   \n",
       "110          Дэвид Йетс                       Дэйвид Баррон, Дэйвид Хейман   \n",
       "113     Альфонсо Куарон                                      Майкл Барната   \n",
       "...                 ...                                                ...   \n",
       "7368          А.Емкужев  А.Емкужев, А.Хуажева, ООО \"Корпорация Русская ...   \n",
       "7415       Уэс Андерсен         Уэс Андерсон, Джереми Доусон, Стивен Рейлс   \n",
       "7437         Ли Джон-хо               Чан Гён-ик, Чон Джи-хун, Пэк Кён сук   \n",
       "7449       Адам Рэндолл                                        Мэтт Уолдек   \n",
       "7473        Ф.Бондарчук  Ф.Бондарчук, М.Врубель, А.Андрющенко, Д.Рудовский   \n",
       "\n",
       "                      age_restriction  refundable_support  \\\n",
       "3         «18+» - запрещено для детей                 NaN   \n",
       "4         «18+» - запрещено для детей                 NaN   \n",
       "41    «16+» - для детей старше 16 лет                 NaN   \n",
       "110   «16+» - для детей старше 16 лет                 NaN   \n",
       "113   «12+» - для детей старше 12 лет                 NaN   \n",
       "...                               ...                 ...   \n",
       "7368  «16+» - для детей старше 16 лет                 NaN   \n",
       "7415  «16+» - для детей старше 16 лет                 NaN   \n",
       "7437      «18+» - запрещено для детей                 NaN   \n",
       "7449      «18+» - запрещено для детей                 NaN   \n",
       "7473  «12+» - для детей старше 12 лет       100,000,000.0   \n",
       "\n",
       "      nonrefundable_support        budget financing_source  ratings  \\\n",
       "3                       NaN           NaN              NaN      6.8   \n",
       "4                       NaN           NaN              NaN      6.8   \n",
       "41                      NaN           NaN              NaN      6.4   \n",
       "110                     NaN           NaN              NaN      7.7   \n",
       "113                     NaN           NaN              NaN      8.2   \n",
       "...                     ...           ...              ...      ...   \n",
       "7368                    NaN           NaN              NaN      7.5   \n",
       "7415                    NaN           NaN              NaN      7.9   \n",
       "7437                    NaN           NaN              NaN      6.5   \n",
       "7449                    NaN           NaN              NaN      6.8   \n",
       "7473          400,000,000.0 944,000,000.0        Фонд кино      5.7   \n",
       "\n",
       "                            genres  box_office  \n",
       "3        фантастика,боевик,триллер         NaN  \n",
       "4        фантастика,боевик,триллер         NaN  \n",
       "41               мелодрама,комедия         NaN  \n",
       "110   фэнтези,приключения,семейный   759,526.0  \n",
       "113   фэнтези,приключения,семейный 1,125,302.0  \n",
       "...                            ...         ...  \n",
       "7368     триллер,детектив,криминал         NaN  \n",
       "7415  комедия,приключения,детектив         NaN  \n",
       "7437                 триллер,драма   175,003.5  \n",
       "7449     триллер,криминал,детектив         NaN  \n",
       "7473             фантастика,боевик         NaN  \n",
       "\n",
       "[714 rows x 16 columns]"
      ]
     },
     "execution_count": 5,
     "metadata": {},
     "output_type": "execute_result"
    }
   ],
   "source": [
    "#print(data['pu_number'].value_counts())\n",
    "data.loc[5067, 'pu_number'] = 221147210\n",
    "\n",
    "data[data['title'].duplicated()]"
   ]
  },
  {
   "cell_type": "markdown",
   "metadata": {},
   "source": [
    "    Заменил у одного фильма номер прокатного удостоверения, номер нашел на сайте \n",
    "    У фильмов \"Иоанна - женщина на папском престоле /По роману Донны Вулфольк Кросс\" и\n",
    "    \"Как жениться и остаться холостым\" действительно одинаковые номера(221154310), поэтому их не менял"
   ]
  },
  {
   "cell_type": "markdown",
   "metadata": {
    "id": "52fOPrEBgFyQ"
   },
   "source": [
    "##### Шаг 2.4. Изучите категориальные значения\n",
    "\n",
    "- Посмотрите, какая общая проблема встречается почти во всех категориальных столбцах;\n",
    "- Исправьте проблемные значения в поле `type`.\n",
    "\n",
    "<div id=\"accordion\">\n",
    "    <div class=\"card\">\n",
    "        <div class=\"card-header\" id=\"headingThree\">\n",
    "            <button class=\"btn btn-link collapsed\" data-toggle=\"collapse\" data-target=\"#collapseHint_1\" aria-expanded=\"false\" aria-controls=\"collapseHint_1\">Подсказка</button>\n",
    "        </div>\n",
    "        <div id=\"collapseHint_1\" class=\"collapse\" aria-labelledby=\"headingThree\" data-parent=\"#accordion\">\n",
    "            <div class=\"card-body\">\n",
    "В поле <code>type</code> есть несколько значений, у которых появился пробел в начале строки. Самый простой способ их «починить» -- использовать метод <a href=\"https://pandas.pydata.org/docs/reference/api/pandas.Series.str.strip.html#pandas.Series.str.strip\">.str.strip</a>. Этот метод удаляет все пробелы, которые встречаются в начале и в конце строки. Применяют его таким образом:<br>\n",
    "<code>df['type'].str.strip()</code>\n",
    "            </div>\n",
    "        </div>\n",
    "    </div>\n",
    "</div>"
   ]
  },
  {
   "cell_type": "code",
   "execution_count": 6,
   "metadata": {
    "id": "PnXKIVdFgFyR"
   },
   "outputs": [],
   "source": [
    "data['type'] = data['type'].str.strip()\n",
    "#data['type'].unique()"
   ]
  },
  {
   "cell_type": "code",
   "execution_count": 7,
   "metadata": {},
   "outputs": [],
   "source": [
    "data['production_country'] = (\n",
    "    data['production_country']\n",
    "    .replace(' - ', '-', regex=True)\n",
    "    .replace('-', ', ', regex=True))\n",
    "\n",
    "#data['production_country'].unique()"
   ]
  },
  {
   "cell_type": "code",
   "execution_count": 8,
   "metadata": {},
   "outputs": [],
   "source": [
    "data['genres'] = (\n",
    "    data['genres']\n",
    "    .replace(',', ', ', regex=True))\n",
    "#data['genres'].unique()"
   ]
  },
  {
   "cell_type": "markdown",
   "metadata": {},
   "source": [
    "    В данных есть повторения, которые лучше не убирать(по типу нескольких прокатных удостоверений),\n",
    "    также много неизвестных значений. Дополнительно подправил вид данных, чтобы выглядело более аккуратно"
   ]
  },
  {
   "cell_type": "markdown",
   "metadata": {
    "id": "XFSN5lrEgFyR"
   },
   "source": [
    "#### Шаг 2.5. Проверьте количественные значения\n",
    "\n",
    "- Проверьте, обнаружились ли в таких столбцах подозрительные данные. Как с такими данными лучше поступить?"
   ]
  },
  {
   "cell_type": "code",
   "execution_count": 9,
   "metadata": {},
   "outputs": [
    {
     "name": "stdout",
     "output_type": "stream",
     "text": [
      "38,000,000.0     6\n",
      "50,000,000.0     4\n",
      "80,000,000.0     4\n",
      "40,000,000.0     3\n",
      "37,142,857.0     3\n",
      "                ..\n",
      "56,693,559.0     1\n",
      "57,166,797.0     1\n",
      "109,814,241.0    1\n",
      "41,000,000.0     1\n",
      "42,252,509.0     1\n",
      "Name: budget, Length: 289, dtype: int64\n"
     ]
    }
   ],
   "source": [
    "data = data[data['budget'] != 0]\n",
    "print(data['budget'].value_counts())\n",
    "#data.describe()"
   ]
  },
  {
   "cell_type": "code",
   "execution_count": 10,
   "metadata": {},
   "outputs": [
    {
     "name": "stdout",
     "output_type": "stream",
     "text": [
      "0.0              24\n",
      "200.0            13\n",
      "300.0            12\n",
      "360.0             9\n",
      "400.0             8\n",
      "                 ..\n",
      "9,585,014.0       1\n",
      "809,638,458.6     1\n",
      "220,728.0         1\n",
      "11,332,412.0      1\n",
      "52,984,377.0      1\n",
      "Name: box_office, Length: 2921, dtype: int64\n"
     ]
    }
   ],
   "source": [
    "print(data['box_office'].value_counts())"
   ]
  },
  {
   "cell_type": "code",
   "execution_count": 11,
   "metadata": {
    "id": "YbzClBxagFyS"
   },
   "outputs": [
    {
     "name": "stdout",
     "output_type": "stream",
     "text": [
      "Коэффициент корреляции равен 0.67\n"
     ]
    },
    {
     "data": {
      "image/png": "[encoded data removed]",
      "text/plain": [
       "<Figure size 432x288 with 1 Axes>"
      ]
     },
     "metadata": {
      "needs_background": "light"
     },
     "output_type": "display_data"
    }
   ],
   "source": [
    "#print(data['box_office'].value_counts())\n",
    "#data['budget'].unique()\n",
    "#data.describe()\n",
    "print(f'Коэффициент корреляции равен', data['budget'].corr(data['refundable_support']).round(2))\n",
    "data.plot(x='refundable_support', \n",
    "          y='budget', \n",
    "          kind='scatter',\n",
    "          title = 'Отношение возвратных средств к бюджету', \n",
    "          xlabel = 'Возвратные средства',\n",
    "          ylabel = 'Бюджет');"
   ]
  },
  {
   "cell_type": "code",
   "execution_count": 12,
   "metadata": {},
   "outputs": [
    {
     "name": "stdout",
     "output_type": "stream",
     "text": [
      "Коэффициент корреляции равен 0.63\n"
     ]
    },
    {
     "data": {
      "image/png": "[encoded data removed]",
      "text/plain": [
       "<Figure size 432x288 with 1 Axes>"
      ]
     },
     "metadata": {
      "needs_background": "light"
     },
     "output_type": "display_data"
    }
   ],
   "source": [
    "#data.describe()\n",
    "print(f'Коэффициент корреляции равен', data['budget'].corr(data['nonrefundable_support']).round(2))\n",
    "data.plot(x='nonrefundable_support', \n",
    "          y='budget', \n",
    "          kind='scatter',\n",
    "          title = 'Отношение невозвратных средств к бюджету', \n",
    "          xlabel = 'Невозвратные средства',\n",
    "          ylabel = 'Бюджет');"
   ]
  },
  {
   "cell_type": "markdown",
   "metadata": {},
   "source": [
    "    Есть фильмы, получившие государственную поддержку, но имеют нулевой бюджет,\n",
    "    я решил удалить т.к. их 17. Удалил, потому что помешают дальнейшему исследованию"
   ]
  },
  {
   "cell_type": "markdown",
   "metadata": {
    "id": "Eu6oWp2CgFyS"
   },
   "source": [
    "#### Шаг 2.6. Добавьте новые столбцы\n",
    "\n",
    "\n",
    "\n"
   ]
  },
  {
   "cell_type": "markdown",
   "metadata": {
    "id": "7GgW-UpAgFyS"
   },
   "source": [
    "- Создайте столбец с информацией о годе проката. Выделите год из даты премьеры фильма."
   ]
  },
  {
   "cell_type": "code",
   "execution_count": 13,
   "metadata": {
    "id": "I-yd1DkWgFyT"
   },
   "outputs": [],
   "source": [
    "data['publication_year'] = data['show_start_date'].dt.year\n",
    "#display(data.head())"
   ]
  },
  {
   "cell_type": "markdown",
   "metadata": {
    "id": "nFTDLDYOgFyT"
   },
   "source": [
    "- Создайте два столбца: с именем и фамилией главного режиссёра и основным жанром фильма. В столбцы войдут первые значения из списка режиссёров и жанров соответственно."
   ]
  },
  {
   "cell_type": "code",
   "execution_count": 14,
   "metadata": {
    "id": "LSbRZKbMgFyU"
   },
   "outputs": [],
   "source": [
    "def name_genre(data, rows): \n",
    "    for row in rows: \n",
    "        data[f'head_{row}'] = data[row].str.split(', ', expand=True)[0]\n",
    "    return data\n",
    "\n",
    "data = name_genre(data, ['director', 'genres'])\n",
    "#display(data.head(5))"
   ]
  },
  {
   "cell_type": "markdown",
   "metadata": {
    "id": "1FsCXHwdgFyU"
   },
   "source": [
    "- Посчитайте, какую долю от общего бюджета фильма составляет государственная поддержка."
   ]
  },
  {
   "cell_type": "code",
   "execution_count": 15,
   "metadata": {
    "id": "LV6qFuZLgFyV"
   },
   "outputs": [
    {
     "data": {
      "text/plain": [
       "0.6    6\n",
       "0.7    5\n",
       "0.7    5\n",
       "0.7    5\n",
       "0.5    5\n",
       "      ..\n",
       "0.6    1\n",
       "0.7    1\n",
       "0.8    1\n",
       "0.7    1\n",
       "0.2    1\n",
       "Name: gov_support, Length: 281, dtype: int64"
      ]
     },
     "metadata": {},
     "output_type": "display_data"
    },
    {
     "data": {
      "text/html": [
       "<div>\n",
       "<style scoped>\n",
       "    .dataframe tbody tr th:only-of-type {\n",
       "        vertical-align: middle;\n",
       "    }\n",
       "\n",
       "    .dataframe tbody tr th {\n",
       "        vertical-align: top;\n",
       "    }\n",
       "\n",
       "    .dataframe thead th {\n",
       "        text-align: right;\n",
       "    }\n",
       "</style>\n",
       "<table border=\"1\" class=\"dataframe\">\n",
       "  <thead>\n",
       "    <tr style=\"text-align: right;\">\n",
       "      <th></th>\n",
       "      <th>title</th>\n",
       "      <th>pu_number</th>\n",
       "      <th>show_start_date</th>\n",
       "      <th>type</th>\n",
       "      <th>film_studio</th>\n",
       "      <th>production_country</th>\n",
       "      <th>director</th>\n",
       "      <th>producer</th>\n",
       "      <th>age_restriction</th>\n",
       "      <th>refundable_support</th>\n",
       "      <th>nonrefundable_support</th>\n",
       "      <th>budget</th>\n",
       "      <th>financing_source</th>\n",
       "      <th>ratings</th>\n",
       "      <th>genres</th>\n",
       "      <th>box_office</th>\n",
       "      <th>publication_year</th>\n",
       "      <th>head_director</th>\n",
       "      <th>head_genres</th>\n",
       "      <th>gov_support</th>\n",
       "    </tr>\n",
       "  </thead>\n",
       "  <tbody>\n",
       "    <tr>\n",
       "      <th>0</th>\n",
       "      <td>Открытый простор</td>\n",
       "      <td>221048915</td>\n",
       "      <td>2015-11-27 12:00:00+00:00</td>\n",
       "      <td>Художественный</td>\n",
       "      <td>тачстоун пикчерз, кобальт пикчерз, бикон пикче...</td>\n",
       "      <td>США</td>\n",
       "      <td>Кевин Костнер</td>\n",
       "      <td>Дэвид Валдес, Кевин Костнер, Джейк Эбертс</td>\n",
       "      <td>«18+» - запрещено для детей</td>\n",
       "      <td>NaN</td>\n",
       "      <td>NaN</td>\n",
       "      <td>NaN</td>\n",
       "      <td>NaN</td>\n",
       "      <td>7.2</td>\n",
       "      <td>боевик, драма, мелодрама</td>\n",
       "      <td>NaN</td>\n",
       "      <td>2015</td>\n",
       "      <td>Кевин Костнер</td>\n",
       "      <td>боевик</td>\n",
       "      <td>NaN</td>\n",
       "    </tr>\n",
       "    <tr>\n",
       "      <th>1</th>\n",
       "      <td>Особо важное задание</td>\n",
       "      <td>111013716</td>\n",
       "      <td>2016-09-13 12:00:00+00:00</td>\n",
       "      <td>Художественный</td>\n",
       "      <td>мосфильм</td>\n",
       "      <td>СССР</td>\n",
       "      <td>Е.Матвеев</td>\n",
       "      <td>unknown</td>\n",
       "      <td>«6+» - для детей старше 6 лет</td>\n",
       "      <td>NaN</td>\n",
       "      <td>NaN</td>\n",
       "      <td>NaN</td>\n",
       "      <td>NaN</td>\n",
       "      <td>6.6</td>\n",
       "      <td>драма, военный</td>\n",
       "      <td>NaN</td>\n",
       "      <td>2016</td>\n",
       "      <td>Е.Матвеев</td>\n",
       "      <td>драма</td>\n",
       "      <td>NaN</td>\n",
       "    </tr>\n",
       "    <tr>\n",
       "      <th>2</th>\n",
       "      <td>Особо опасен</td>\n",
       "      <td>221038416</td>\n",
       "      <td>2016-10-10 12:00:00+00:00</td>\n",
       "      <td>Художественный</td>\n",
       "      <td>юниверсал пикчерз, кикстарт продакшнз, марк пл...</td>\n",
       "      <td>США</td>\n",
       "      <td>Тимур Бекмамбетов</td>\n",
       "      <td>Джим Лемли, Джейсон Нетер, Марк Е.Платт, Яйн Смит</td>\n",
       "      <td>«18+» - запрещено для детей</td>\n",
       "      <td>NaN</td>\n",
       "      <td>NaN</td>\n",
       "      <td>NaN</td>\n",
       "      <td>NaN</td>\n",
       "      <td>6.8</td>\n",
       "      <td>фантастика, боевик, триллер</td>\n",
       "      <td>NaN</td>\n",
       "      <td>2016</td>\n",
       "      <td>Тимур Бекмамбетов</td>\n",
       "      <td>фантастика</td>\n",
       "      <td>NaN</td>\n",
       "    </tr>\n",
       "    <tr>\n",
       "      <th>3</th>\n",
       "      <td>Особо опасен</td>\n",
       "      <td>221026916</td>\n",
       "      <td>2016-06-10 12:00:00+00:00</td>\n",
       "      <td>Художественный</td>\n",
       "      <td>юниверсал пикчерз, кикстарт продакшнз, марк пл...</td>\n",
       "      <td>США</td>\n",
       "      <td>Тимур Бекмамбетов</td>\n",
       "      <td>Джим Лемли, Джейсон Нетер, Марк Е.Платт, Яйн Смит</td>\n",
       "      <td>«18+» - запрещено для детей</td>\n",
       "      <td>NaN</td>\n",
       "      <td>NaN</td>\n",
       "      <td>NaN</td>\n",
       "      <td>NaN</td>\n",
       "      <td>6.8</td>\n",
       "      <td>фантастика, боевик, триллер</td>\n",
       "      <td>NaN</td>\n",
       "      <td>2016</td>\n",
       "      <td>Тимур Бекмамбетов</td>\n",
       "      <td>фантастика</td>\n",
       "      <td>NaN</td>\n",
       "    </tr>\n",
       "    <tr>\n",
       "      <th>4</th>\n",
       "      <td>Особо опасен</td>\n",
       "      <td>221030815</td>\n",
       "      <td>2015-07-29 12:00:00+00:00</td>\n",
       "      <td>Художественный</td>\n",
       "      <td>юниверсал пикчерз, кикстарт продакшнз, марк пл...</td>\n",
       "      <td>США</td>\n",
       "      <td>Тимур Бекмамбетов</td>\n",
       "      <td>Джим Лемли, Джейсон Нетер, Марк Е.Платт, Яйн Смит</td>\n",
       "      <td>«18+» - запрещено для детей</td>\n",
       "      <td>NaN</td>\n",
       "      <td>NaN</td>\n",
       "      <td>NaN</td>\n",
       "      <td>NaN</td>\n",
       "      <td>6.8</td>\n",
       "      <td>фантастика, боевик, триллер</td>\n",
       "      <td>NaN</td>\n",
       "      <td>2015</td>\n",
       "      <td>Тимур Бекмамбетов</td>\n",
       "      <td>фантастика</td>\n",
       "      <td>NaN</td>\n",
       "    </tr>\n",
       "  </tbody>\n",
       "</table>\n",
       "</div>"
      ],
      "text/plain": [
       "                  title  pu_number           show_start_date            type  \\\n",
       "0      Открытый простор  221048915 2015-11-27 12:00:00+00:00  Художественный   \n",
       "1  Особо важное задание  111013716 2016-09-13 12:00:00+00:00  Художественный   \n",
       "2          Особо опасен  221038416 2016-10-10 12:00:00+00:00  Художественный   \n",
       "3          Особо опасен  221026916 2016-06-10 12:00:00+00:00  Художественный   \n",
       "4          Особо опасен  221030815 2015-07-29 12:00:00+00:00  Художественный   \n",
       "\n",
       "                                         film_studio production_country  \\\n",
       "0  тачстоун пикчерз, кобальт пикчерз, бикон пикче...                США   \n",
       "1                                           мосфильм               СССР   \n",
       "2  юниверсал пикчерз, кикстарт продакшнз, марк пл...                США   \n",
       "3  юниверсал пикчерз, кикстарт продакшнз, марк пл...                США   \n",
       "4  юниверсал пикчерз, кикстарт продакшнз, марк пл...                США   \n",
       "\n",
       "            director                                           producer  \\\n",
       "0      Кевин Костнер          Дэвид Валдес, Кевин Костнер, Джейк Эбертс   \n",
       "1          Е.Матвеев                                            unknown   \n",
       "2  Тимур Бекмамбетов  Джим Лемли, Джейсон Нетер, Марк Е.Платт, Яйн Смит   \n",
       "3  Тимур Бекмамбетов  Джим Лемли, Джейсон Нетер, Марк Е.Платт, Яйн Смит   \n",
       "4  Тимур Бекмамбетов  Джим Лемли, Джейсон Нетер, Марк Е.Платт, Яйн Смит   \n",
       "\n",
       "                 age_restriction  refundable_support  nonrefundable_support  \\\n",
       "0    «18+» - запрещено для детей                 NaN                    NaN   \n",
       "1  «6+» - для детей старше 6 лет                 NaN                    NaN   \n",
       "2    «18+» - запрещено для детей                 NaN                    NaN   \n",
       "3    «18+» - запрещено для детей                 NaN                    NaN   \n",
       "4    «18+» - запрещено для детей                 NaN                    NaN   \n",
       "\n",
       "   budget financing_source  ratings                       genres  box_office  \\\n",
       "0     NaN              NaN      7.2     боевик, драма, мелодрама         NaN   \n",
       "1     NaN              NaN      6.6               драма, военный         NaN   \n",
       "2     NaN              NaN      6.8  фантастика, боевик, триллер         NaN   \n",
       "3     NaN              NaN      6.8  фантастика, боевик, триллер         NaN   \n",
       "4     NaN              NaN      6.8  фантастика, боевик, триллер         NaN   \n",
       "\n",
       "   publication_year      head_director head_genres  gov_support  \n",
       "0              2015      Кевин Костнер      боевик          NaN  \n",
       "1              2016          Е.Матвеев       драма          NaN  \n",
       "2              2016  Тимур Бекмамбетов  фантастика          NaN  \n",
       "3              2016  Тимур Бекмамбетов  фантастика          NaN  \n",
       "4              2015  Тимур Бекмамбетов  фантастика          NaN  "
      ]
     },
     "metadata": {},
     "output_type": "display_data"
    }
   ],
   "source": [
    "data['gov_support'] = (data['refundable_support'] + data['nonrefundable_support']) / data['budget']\n",
    "display(data['gov_support'].value_counts())\n",
    "display(data.head(5))"
   ]
  },
  {
   "cell_type": "markdown",
   "metadata": {},
   "source": [
    "    Было добавлено 4 новых столбца"
   ]
  },
  {
   "cell_type": "markdown",
   "metadata": {
    "id": "6t4EukPLgFyV"
   },
   "source": [
    "### Шаг 3. Проведите исследовательский анализ данных\n"
   ]
  },
  {
   "cell_type": "markdown",
   "metadata": {
    "id": "vAH8WCzugFyV"
   },
   "source": [
    "- Посмотрите, сколько фильмов выходило в прокат каждый год. Обратите внимание, что данные о прокате в кинотеатрах известны не для всех фильмов. Посчитайте, какую долю составляют фильмы с указанной информацией о прокате в кинотеатрах. Проанализируйте, как эта доля менялась по годам. Сделайте вывод о том, какой период полнее всего представлен в данных."
   ]
  },
  {
   "cell_type": "code",
   "execution_count": 16,
   "metadata": {
    "id": "ABeV47y7gFyW"
   },
   "outputs": [
    {
     "name": "stdout",
     "output_type": "stream",
     "text": [
      "Количество фильмов по годам: publication_year\n",
      "2010    105\n",
      "2011    109\n",
      "2012    128\n",
      "2013    184\n",
      "2014    278\n",
      "2015    459\n",
      "2016    523\n",
      "2017    355\n",
      "2018    471\n",
      "2019    529\n",
      "Name: box_office, dtype: int64\n"
     ]
    },
    {
     "data": {
      "image/png": "[encoded data removed]",
      "text/plain": [
       "<Figure size 432x288 with 1 Axes>"
      ]
     },
     "metadata": {
      "needs_background": "light"
     },
     "output_type": "display_data"
    }
   ],
   "source": [
    "(\n",
    "    data.pivot_table\n",
    "    (index='publication_year', values='box_office', aggfunc=['count'])\n",
    "    .plot(grid=True, style='o-', \n",
    "          title = 'Количество фильмов в год', \n",
    "          xlabel = 'Годы',\n",
    "          ylabel = 'Кол-во')\n",
    ")\n",
    "print(f'Количество фильмов по годам: {data.groupby(\"publication_year\")[\"box_office\"].count()}')"
   ]
  },
  {
   "cell_type": "markdown",
   "metadata": {},
   "source": [
    "    По графику и данным в столбце видно, что больше всего фильмов вышло в 2019 году - 529, меньше всего в 2010 - 105."
   ]
  },
  {
   "cell_type": "code",
   "execution_count": 17,
   "metadata": {},
   "outputs": [
    {
     "name": "stdout",
     "output_type": "stream",
     "text": [
      "Доля фильмов с указанной информацией о прокате: 42.06%\n",
      "Доля фильмов с указанной информацией о прокате по годам в %: publication_year\n",
      "2010   10.7\n",
      "2011   17.5\n",
      "2012   21.6\n",
      "2013   29.2\n",
      "2014   34.5\n",
      "2015   65.7\n",
      "2016   64.2\n",
      "2017   70.6\n",
      "2018   53.1\n",
      "2019   56.9\n",
      "dtype: float64\n"
     ]
    }
   ],
   "source": [
    "rate_films = (data['box_office'].count() / data['title'].count() * 100).round(2)\n",
    "rate_films_by_year = (data.groupby('publication_year')['box_office'].count() / \n",
    "              data.groupby('publication_year')['title'].count() * 100).round(2)\n",
    "\n",
    "\n",
    "print(f'Доля фильмов с указанной информацией о прокате: {rate_films}%')\n",
    "print(f'Доля фильмов с указанной информацией о прокате по годам в %: {rate_films_by_year}')"
   ]
  },
  {
   "cell_type": "markdown",
   "metadata": {},
   "source": [
    "    Из полученной информации, можно сказать, что полнее всего представлен 2017 год, а менее всего 2010, \n",
    "    с годами видна тенденция роста информации"
   ]
  },
  {
   "cell_type": "markdown",
   "metadata": {
    "id": "BEOdcIrIgFyW"
   },
   "source": [
    "- Изучите, как менялась динамика проката по годам. В каком году сумма сборов была минимальной? А максимальной?"
   ]
  },
  {
   "cell_type": "code",
   "execution_count": 18,
   "metadata": {
    "id": "tfEhofYvgFyX"
   },
   "outputs": [
    {
     "name": "stdout",
     "output_type": "stream",
     "text": [
      "publication_year\n",
      "2010    0.0\n",
      "2011    0.0\n",
      "2012    0.0\n",
      "2013    0.0\n",
      "2014    7.4\n",
      "2015   38.5\n",
      "2016   46.7\n",
      "2017   48.5\n",
      "2018   49.3\n",
      "2019   48.3\n",
      "Name: box_office, dtype: float64\n"
     ]
    },
    {
     "data": {
      "image/png": "[encoded data removed]",
      "text/plain": [
       "<Figure size 432x288 with 1 Axes>"
      ]
     },
     "metadata": {
      "needs_background": "light"
     },
     "output_type": "display_data"
    }
   ],
   "source": [
    "#data = data[data['box_office'] != 0]\n",
    "print(data.groupby('publication_year')['box_office'].agg('sum') / 1000000000)\n",
    "(\n",
    "    data.pivot_table\n",
    "    (index='publication_year', values='box_office', aggfunc=['sum'])\n",
    "    .plot(grid=True, style='o-',\n",
    "         title = 'Динамика проката', \n",
    "         xlabel = 'Годы',\n",
    "         ylabel = 'Сумма')\n",
    ");"
   ]
  },
  {
   "cell_type": "markdown",
   "metadata": {},
   "source": [
    "    На графике видна тенденция роста, но она не стабильная, с резким скачком после 2014 года,\n",
    "    скорее всего до этого момента данные или не полные или не соответствуют действительности.\n",
    "    Максимальной сумма была в 2018 году - 49 млрд. руб., минимальной в 2010, но данные маловероятно \n",
    "    соответствуют действительности, поэтому лучше сказать что минимальная была в 2015 году - 38 млрд. руб."
   ]
  },
  {
   "cell_type": "markdown",
   "metadata": {
    "id": "G-7qS-N-gFyY"
   },
   "source": [
    "- С помощью сводной таблицы посчитайте среднюю и медианную сумму сборов для каждого года."
   ]
  },
  {
   "cell_type": "code",
   "execution_count": null,
   "metadata": {
    "id": "jmp-rgg9gFyY"
   },
   "outputs": [
    {
     "data": {
      "text/html": [
       "<div>\n",
       "<style scoped>\n",
       "    .dataframe tbody tr th:only-of-type {\n",
       "        vertical-align: middle;\n",
       "    }\n",
       "\n",
       "    .dataframe tbody tr th {\n",
       "        vertical-align: top;\n",
       "    }\n",
       "\n",
       "    .dataframe thead tr th {\n",
       "        text-align: left;\n",
       "    }\n",
       "\n",
       "    .dataframe thead tr:last-of-type th {\n",
       "        text-align: right;\n",
       "    }\n",
       "</style>\n",
       "<table border=\"1\" class=\"dataframe\">\n",
       "  <thead>\n",
       "    <tr>\n",
       "      <th></th>\n",
       "      <th>median</th>\n",
       "      <th>mean</th>\n",
       "    </tr>\n",
       "    <tr>\n",
       "      <th></th>\n",
       "      <th>box_office</th>\n",
       "      <th>box_office</th>\n",
       "    </tr>\n",
       "    <tr>\n",
       "      <th>publication_year</th>\n",
       "      <th></th>\n",
       "      <th></th>\n",
       "    </tr>\n",
       "  </thead>\n",
       "  <tbody>\n",
       "    <tr>\n",
       "      <th>2010</th>\n",
       "      <td>1,700.0</td>\n",
       "      <td>23,130.0</td>\n",
       "    </tr>\n",
       "    <tr>\n",
       "      <th>2011</th>\n",
       "      <td>3,000.0</td>\n",
       "      <td>129,383.2</td>\n",
       "    </tr>\n",
       "    <tr>\n",
       "      <th>2012</th>\n",
       "      <td>5,660.0</td>\n",
       "      <td>54,339.2</td>\n",
       "    </tr>\n",
       "    <tr>\n",
       "      <th>2013</th>\n",
       "      <td>3,522.5</td>\n",
       "      <td>161,954.9</td>\n",
       "    </tr>\n",
       "    <tr>\n",
       "      <th>2014</th>\n",
       "      <td>18,137.5</td>\n",
       "      <td>26,743,589.4</td>\n",
       "    </tr>\n",
       "    <tr>\n",
       "      <th>2015</th>\n",
       "      <td>4,784,781.5</td>\n",
       "      <td>83,938,621.3</td>\n",
       "    </tr>\n",
       "    <tr>\n",
       "      <th>2016</th>\n",
       "      <td>3,776,087.6</td>\n",
       "      <td>89,373,453.7</td>\n",
       "    </tr>\n",
       "    <tr>\n",
       "      <th>2017</th>\n",
       "      <td>9,919,415.0</td>\n",
       "      <td>136,501,823.2</td>\n",
       "    </tr>\n",
       "    <tr>\n",
       "      <th>2018</th>\n",
       "      <td>8,751,895.8</td>\n",
       "      <td>104,568,983.9</td>\n",
       "    </tr>\n",
       "    <tr>\n",
       "      <th>2019</th>\n",
       "      <td>4,601,033.6</td>\n",
       "      <td>91,262,952.7</td>\n",
       "    </tr>\n",
       "  </tbody>\n",
       "</table>\n",
       "</div>"
      ],
      "text/plain": [
       "                      median          mean\n",
       "                  box_office    box_office\n",
       "publication_year                          \n",
       "2010                 1,700.0      23,130.0\n",
       "2011                 3,000.0     129,383.2\n",
       "2012                 5,660.0      54,339.2\n",
       "2013                 3,522.5     161,954.9\n",
       "2014                18,137.5  26,743,589.4\n",
       "2015             4,784,781.5  83,938,621.3\n",
       "2016             3,776,087.6  89,373,453.7\n",
       "2017             9,919,415.0 136,501,823.2\n",
       "2018             8,751,895.8 104,568,983.9\n",
       "2019             4,601,033.6  91,262,952.7"
      ]
     },
     "execution_count": 19,
     "metadata": {},
     "output_type": "execute_result"
    }
   ],
   "source": [
    "data.pivot_table\n",
    "(index='publication_year', values='box_office', aggfunc=['median', 'mean'])"
   ]
  },
  {
   "cell_type": "markdown",
   "metadata": {},
   "source": [
    "    Из таблицы видно, что средняя сильно отличается от медианы, в средней есть выбросы, которые сильно изменяют значения,\n",
    "    хорошие года по сборам - 2017 и 2018."
   ]
  },
  {
   "cell_type": "markdown",
   "metadata": {
    "id": "Ok89WFwJgFyZ"
   },
   "source": [
    "- Определите, влияет ли возрастное ограничение аудитории («6+», «12+», «16+», «18+» и т. д.) на сборы фильма в прокате в период с 2015 по 2019 год? Фильмы с каким возрастным ограничением собрали больше всего денег в прокате? Меняется ли картина в зависимости от года? Если да, предположите, с чем это может быть связано."
   ]
  },
  {
   "cell_type": "code",
   "execution_count": 20,
   "metadata": {
    "id": "jsSbEqfjgFya"
   },
   "outputs": [
    {
     "name": "stdout",
     "output_type": "stream",
     "text": [
      "age_restriction\n",
      "«0+» - для любой зрительской аудитории   0.1\n",
      "«12+» - для детей старше 12 лет          5.9\n",
      "«16+» - для детей старше 16 лет          7.5\n",
      "«18+» - запрещено для детей              4.1\n",
      "«6+» - для детей старше 6 лет            5.5\n",
      "Name: box_office, dtype: float64\n"
     ]
    },
    {
     "data": {
      "text/html": [
       "<div>\n",
       "<style scoped>\n",
       "    .dataframe tbody tr th:only-of-type {\n",
       "        vertical-align: middle;\n",
       "    }\n",
       "\n",
       "    .dataframe tbody tr th {\n",
       "        vertical-align: top;\n",
       "    }\n",
       "\n",
       "    .dataframe thead th {\n",
       "        text-align: right;\n",
       "    }\n",
       "</style>\n",
       "<table border=\"1\" class=\"dataframe\">\n",
       "  <thead>\n",
       "    <tr style=\"text-align: right;\">\n",
       "      <th></th>\n",
       "      <th>publication_year</th>\n",
       "      <th>age_restriction</th>\n",
       "      <th>box_office</th>\n",
       "    </tr>\n",
       "  </thead>\n",
       "  <tbody>\n",
       "    <tr>\n",
       "      <th>0</th>\n",
       "      <td>2015</td>\n",
       "      <td>«0+» - для любой зрительской аудитории</td>\n",
       "      <td>379,054,578.4</td>\n",
       "    </tr>\n",
       "    <tr>\n",
       "      <th>1</th>\n",
       "      <td>2015</td>\n",
       "      <td>«12+» - для детей старше 12 лет</td>\n",
       "      <td>13,419,509,570.5</td>\n",
       "    </tr>\n",
       "    <tr>\n",
       "      <th>2</th>\n",
       "      <td>2015</td>\n",
       "      <td>«16+» - для детей старше 16 лет</td>\n",
       "      <td>10,781,600,601.3</td>\n",
       "    </tr>\n",
       "    <tr>\n",
       "      <th>3</th>\n",
       "      <td>2015</td>\n",
       "      <td>«18+» - запрещено для детей</td>\n",
       "      <td>5,430,350,628.9</td>\n",
       "    </tr>\n",
       "    <tr>\n",
       "      <th>4</th>\n",
       "      <td>2015</td>\n",
       "      <td>«6+» - для детей старше 6 лет</td>\n",
       "      <td>8,517,311,820.0</td>\n",
       "    </tr>\n",
       "    <tr>\n",
       "      <th>5</th>\n",
       "      <td>2016</td>\n",
       "      <td>«0+» - для любой зрительской аудитории</td>\n",
       "      <td>150,228,848.7</td>\n",
       "    </tr>\n",
       "    <tr>\n",
       "      <th>6</th>\n",
       "      <td>2016</td>\n",
       "      <td>«12+» - для детей старше 12 лет</td>\n",
       "      <td>11,150,762,104.0</td>\n",
       "    </tr>\n",
       "    <tr>\n",
       "      <th>7</th>\n",
       "      <td>2016</td>\n",
       "      <td>«16+» - для детей старше 16 лет</td>\n",
       "      <td>16,594,249,489.7</td>\n",
       "    </tr>\n",
       "    <tr>\n",
       "      <th>8</th>\n",
       "      <td>2016</td>\n",
       "      <td>«18+» - запрещено для детей</td>\n",
       "      <td>6,793,929,818.9</td>\n",
       "    </tr>\n",
       "    <tr>\n",
       "      <th>9</th>\n",
       "      <td>2016</td>\n",
       "      <td>«6+» - для детей старше 6 лет</td>\n",
       "      <td>12,053,146,008.2</td>\n",
       "    </tr>\n",
       "    <tr>\n",
       "      <th>10</th>\n",
       "      <td>2017</td>\n",
       "      <td>«0+» - для любой зрительской аудитории</td>\n",
       "      <td>229,598,930.0</td>\n",
       "    </tr>\n",
       "    <tr>\n",
       "      <th>11</th>\n",
       "      <td>2017</td>\n",
       "      <td>«12+» - для детей старше 12 лет</td>\n",
       "      <td>7,851,427,660.7</td>\n",
       "    </tr>\n",
       "    <tr>\n",
       "      <th>12</th>\n",
       "      <td>2017</td>\n",
       "      <td>«16+» - для детей старше 16 лет</td>\n",
       "      <td>18,694,590,951.1</td>\n",
       "    </tr>\n",
       "    <tr>\n",
       "      <th>13</th>\n",
       "      <td>2017</td>\n",
       "      <td>«18+» - запрещено для детей</td>\n",
       "      <td>9,651,495,581.0</td>\n",
       "    </tr>\n",
       "    <tr>\n",
       "      <th>14</th>\n",
       "      <td>2017</td>\n",
       "      <td>«6+» - для детей старше 6 лет</td>\n",
       "      <td>12,031,034,131.0</td>\n",
       "    </tr>\n",
       "    <tr>\n",
       "      <th>15</th>\n",
       "      <td>2018</td>\n",
       "      <td>«0+» - для любой зрительской аудитории</td>\n",
       "      <td>32,449,002.1</td>\n",
       "    </tr>\n",
       "    <tr>\n",
       "      <th>16</th>\n",
       "      <td>2018</td>\n",
       "      <td>«12+» - для детей старше 12 лет</td>\n",
       "      <td>14,267,291,660.7</td>\n",
       "    </tr>\n",
       "    <tr>\n",
       "      <th>17</th>\n",
       "      <td>2018</td>\n",
       "      <td>«16+» - для детей старше 16 лет</td>\n",
       "      <td>16,278,405,946.9</td>\n",
       "    </tr>\n",
       "    <tr>\n",
       "      <th>18</th>\n",
       "      <td>2018</td>\n",
       "      <td>«18+» - запрещено для детей</td>\n",
       "      <td>8,760,085,501.1</td>\n",
       "    </tr>\n",
       "    <tr>\n",
       "      <th>19</th>\n",
       "      <td>2018</td>\n",
       "      <td>«6+» - для детей старше 6 лет</td>\n",
       "      <td>9,913,759,294.3</td>\n",
       "    </tr>\n",
       "    <tr>\n",
       "      <th>20</th>\n",
       "      <td>2019</td>\n",
       "      <td>«0+» - для любой зрительской аудитории</td>\n",
       "      <td>17,746,066.8</td>\n",
       "    </tr>\n",
       "    <tr>\n",
       "      <th>21</th>\n",
       "      <td>2019</td>\n",
       "      <td>«12+» - для детей старше 12 лет</td>\n",
       "      <td>12,680,198,773.7</td>\n",
       "    </tr>\n",
       "    <tr>\n",
       "      <th>22</th>\n",
       "      <td>2019</td>\n",
       "      <td>«16+» - для детей старше 16 лет</td>\n",
       "      <td>12,753,418,984.6</td>\n",
       "    </tr>\n",
       "    <tr>\n",
       "      <th>23</th>\n",
       "      <td>2019</td>\n",
       "      <td>«18+» - запрещено для детей</td>\n",
       "      <td>10,121,796,303.6</td>\n",
       "    </tr>\n",
       "    <tr>\n",
       "      <th>24</th>\n",
       "      <td>2019</td>\n",
       "      <td>«6+» - для детей старше 6 лет</td>\n",
       "      <td>12,704,941,824.3</td>\n",
       "    </tr>\n",
       "  </tbody>\n",
       "</table>\n",
       "</div>"
      ],
      "text/plain": [
       "    publication_year                         age_restriction       box_office\n",
       "0               2015  «0+» - для любой зрительской аудитории    379,054,578.4\n",
       "1               2015         «12+» - для детей старше 12 лет 13,419,509,570.5\n",
       "2               2015         «16+» - для детей старше 16 лет 10,781,600,601.3\n",
       "3               2015             «18+» - запрещено для детей  5,430,350,628.9\n",
       "4               2015           «6+» - для детей старше 6 лет  8,517,311,820.0\n",
       "5               2016  «0+» - для любой зрительской аудитории    150,228,848.7\n",
       "6               2016         «12+» - для детей старше 12 лет 11,150,762,104.0\n",
       "7               2016         «16+» - для детей старше 16 лет 16,594,249,489.7\n",
       "8               2016             «18+» - запрещено для детей  6,793,929,818.9\n",
       "9               2016           «6+» - для детей старше 6 лет 12,053,146,008.2\n",
       "10              2017  «0+» - для любой зрительской аудитории    229,598,930.0\n",
       "11              2017         «12+» - для детей старше 12 лет  7,851,427,660.7\n",
       "12              2017         «16+» - для детей старше 16 лет 18,694,590,951.1\n",
       "13              2017             «18+» - запрещено для детей  9,651,495,581.0\n",
       "14              2017           «6+» - для детей старше 6 лет 12,031,034,131.0\n",
       "15              2018  «0+» - для любой зрительской аудитории     32,449,002.1\n",
       "16              2018         «12+» - для детей старше 12 лет 14,267,291,660.7\n",
       "17              2018         «16+» - для детей старше 16 лет 16,278,405,946.9\n",
       "18              2018             «18+» - запрещено для детей  8,760,085,501.1\n",
       "19              2018           «6+» - для детей старше 6 лет  9,913,759,294.3\n",
       "20              2019  «0+» - для любой зрительской аудитории     17,746,066.8\n",
       "21              2019         «12+» - для детей старше 12 лет 12,680,198,773.7\n",
       "22              2019         «16+» - для детей старше 16 лет 12,753,418,984.6\n",
       "23              2019             «18+» - запрещено для детей 10,121,796,303.6\n",
       "24              2019           «6+» - для детей старше 6 лет 12,704,941,824.3"
      ]
     },
     "execution_count": 20,
     "metadata": {},
     "output_type": "execute_result"
    },
    {
     "data": {
      "image/png": "[encoded data removed]",
      "text/plain": [
       "<Figure size 432x288 with 1 Axes>"
      ]
     },
     "metadata": {
      "needs_background": "light"
     },
     "output_type": "display_data"
    }
   ],
   "source": [
    "data = data[data['publication_year'] >= 2015]\n",
    "print(data.groupby('age_restriction')['box_office'].agg('sum') / 10000000000)\n",
    "(\n",
    "    data.pivot_table\n",
    "    (index='age_restriction', values='box_office', aggfunc=['sum'])\n",
    "    .plot(grid=True, style='o-',\n",
    "          title = 'Сборы фильмов по возрастному ограничению', \n",
    "          xlabel = 'Возрастное ограничение',\n",
    "          ylabel = 'Сумма сборов')\n",
    ")\n",
    "plt.xticks(rotation=45)\n",
    "\n",
    "\n",
    "data.groupby(['publication_year', 'age_restriction'])['box_office'].agg('sum').reset_index()\n"
   ]
  },
  {
   "cell_type": "markdown",
   "metadata": {},
   "source": [
    "        Анализ рейтингов фильмов по их сборам выявил, что наибольшей популярностью пользуется категория 16+. \n",
    "        Фильмы с рейтингом 16+ почти всегда собирали больше всего средств.\n",
    "        Объяснить эту тенденцию можно тем, что фильмы 16+ ориентированы на более широкую аудиторию. Также хорошие сборы \n",
    "        у фильмов с ограничениями 12+ и 6+, можно сказать, что эти фильмы тоже ориентированы на широкую аудиторию и \n",
    "        популярны среди семей и детей.\n",
    "        Сборы у фильмов 18+ меньше, что не удивительно, эти фильмы для узкой аудитории."
   ]
  },
  {
   "cell_type": "markdown",
   "metadata": {
    "id": "l_Kg6Ku4gFya"
   },
   "source": [
    "### Шаг 4. Исследуйте фильмы, которые получили государственную поддержку\n",
    "\n",
    "На этом этапе нет конкретных инструкций и заданий — поищите интересные закономерности в данных. Посмотрите, сколько выделяют средств на поддержку кино. Проверьте, хорошо ли окупаются такие фильмы, какой у них рейтинг."
   ]
  },
  {
   "cell_type": "code",
   "execution_count": null,
   "metadata": {
    "id": "W9QKpjUdgFyb"
   },
   "outputs": [
    {
     "name": "stderr",
     "output_type": "stream",
     "text": [
      "/tmp/ipykernel_48/4145025638.py:1: SettingWithCopyWarning: \n",
      "A value is trying to be set on a copy of a slice from a DataFrame.\n",
      "Try using .loc[row_indexer,col_indexer] = value instead\n",
      "\n",
      "See the caveats in the documentation: https://pandas.pydata.org/pandas-docs/stable/user_guide/indexing.html#returning-a-view-versus-a-copy\n",
      "  data['support'] = data['refundable_support'] + data['nonrefundable_support']\n",
      "/tmp/ipykernel_48/4145025638.py:2: SettingWithCopyWarning: \n",
      "A value is trying to be set on a copy of a slice from a DataFrame.\n",
      "Try using .loc[row_indexer,col_indexer] = value instead\n",
      "\n",
      "See the caveats in the documentation: https://pandas.pydata.org/pandas-docs/stable/user_guide/indexing.html#returning-a-view-versus-a-copy\n",
      "  data['income'] = data['box_office'] - data['budget']\n"
     ]
    },
    {
     "data": {
      "text/html": [
       "<div>\n",
       "<style scoped>\n",
       "    .dataframe tbody tr th:only-of-type {\n",
       "        vertical-align: middle;\n",
       "    }\n",
       "\n",
       "    .dataframe tbody tr th {\n",
       "        vertical-align: top;\n",
       "    }\n",
       "\n",
       "    .dataframe thead tr th {\n",
       "        text-align: left;\n",
       "    }\n",
       "\n",
       "    .dataframe thead tr:last-of-type th {\n",
       "        text-align: right;\n",
       "    }\n",
       "</style>\n",
       "<table border=\"1\" class=\"dataframe\">\n",
       "  <thead>\n",
       "    <tr>\n",
       "      <th></th>\n",
       "      <th>sum</th>\n",
       "    </tr>\n",
       "    <tr>\n",
       "      <th></th>\n",
       "      <th>support</th>\n",
       "    </tr>\n",
       "    <tr>\n",
       "      <th>publication_year</th>\n",
       "      <th></th>\n",
       "    </tr>\n",
       "  </thead>\n",
       "  <tbody>\n",
       "    <tr>\n",
       "      <th>2015</th>\n",
       "      <td>3,227,241,459.0</td>\n",
       "    </tr>\n",
       "    <tr>\n",
       "      <th>2016</th>\n",
       "      <td>3,977,155,482.0</td>\n",
       "    </tr>\n",
       "    <tr>\n",
       "      <th>2017</th>\n",
       "      <td>3,098,971,662.0</td>\n",
       "    </tr>\n",
       "    <tr>\n",
       "      <th>2018</th>\n",
       "      <td>3,098,000,000.0</td>\n",
       "    </tr>\n",
       "    <tr>\n",
       "      <th>2019</th>\n",
       "      <td>4,724,000,000.0</td>\n",
       "    </tr>\n",
       "  </tbody>\n",
       "</table>\n",
       "</div>"
      ],
      "text/plain": [
       "                             sum\n",
       "                         support\n",
       "publication_year                \n",
       "2015             3,227,241,459.0\n",
       "2016             3,977,155,482.0\n",
       "2017             3,098,971,662.0\n",
       "2018             3,098,000,000.0\n",
       "2019             4,724,000,000.0"
      ]
     },
     "execution_count": 21,
     "metadata": {},
     "output_type": "execute_result"
    }
   ],
   "source": [
    "data['support'] = data['refundable_support'] + data['nonrefundable_support']\n",
    "data['income'] = data['box_office'] - data['budget']\n",
    "data.pivot_table(index='publication_year', values='support', aggfunc=['sum'])"
   ]
  },
  {
   "cell_type": "markdown",
   "metadata": {},
   "source": [
    "    Из таблицы видно, что больше всего поддержки государство оказало в 2019 году"
   ]
  },
  {
   "cell_type": "code",
   "execution_count": null,
   "metadata": {},
   "outputs": [
    {
     "name": "stdout",
     "output_type": "stream",
     "text": [
      "publication_year\n",
      "2015   -2,451,922,802.2\n",
      "2016   -2,252,512,301.3\n",
      "2017    3,892,942,769.2\n",
      "2018    2,865,962,647.1\n",
      "2019   -2,793,053,263.9\n",
      "Name: income, dtype: float64\n"
     ]
    },
    {
     "data": {
      "image/png": "[encoded data removed]",
      "text/plain": [
       "<Figure size 432x288 with 1 Axes>"
      ]
     },
     "metadata": {
      "needs_background": "light"
     },
     "output_type": "display_data"
    }
   ],
   "source": [
    "\n",
    "data.query('nonrefundable_support > 0 or refundable_support > 0').groupby(\n",
    "    'publication_year')['income'].sum().plot(kind='bar', \n",
    "                                             grid=True,\n",
    "                                             title = 'Прибыль с фильмов по годам', \n",
    "                                             xlabel = 'Год',\n",
    "                                             ylabel = 'Сумма')\n",
    "\n",
    "plt.xticks(rotation=360)\n",
    "print(data.query('nonrefundable_support > 0 or refundable_support > 0').groupby('publication_year')['income'].sum())"
   ]
  },
  {
   "cell_type": "markdown",
   "metadata": {},
   "source": [
    "    Исходя из графика нельзя точно что-то сказать, какие-то года прибыльные, какие-то нет, самый прибыльный год - 2017,\n",
    "    а самый убыточный - 2019"
   ]
  },
  {
   "cell_type": "markdown",
   "metadata": {},
   "source": [
    "<div class=\"alert alert-success\">\n",
    "\n",
    "**Артём:** 👍 Хорошо.\n",
    "\n",
    "</div>"
   ]
  },
  {
   "cell_type": "code",
   "execution_count": 23,
   "metadata": {},
   "outputs": [
    {
     "name": "stdout",
     "output_type": "stream",
     "text": [
      "<class 'pandas.core.frame.DataFrame'>\n",
      "Int64Index: 3833 entries, 0 to 7484\n",
      "Data columns (total 22 columns):\n",
      " #   Column                 Non-Null Count  Dtype              \n",
      "---  ------                 --------------  -----              \n",
      " 0   title                  3833 non-null   object             \n",
      " 1   pu_number              3833 non-null   int64              \n",
      " 2   show_start_date        3833 non-null   datetime64[ns, UTC]\n",
      " 3   type                   3833 non-null   object             \n",
      " 4   film_studio            3833 non-null   object             \n",
      " 5   production_country     3833 non-null   object             \n",
      " 6   director               3833 non-null   object             \n",
      " 7   producer               3833 non-null   object             \n",
      " 8   age_restriction        3833 non-null   object             \n",
      " 9   refundable_support     298 non-null    float64            \n",
      " 10  nonrefundable_support  298 non-null    float64            \n",
      " 11  budget                 298 non-null    float64            \n",
      " 12  financing_source       298 non-null    object             \n",
      " 13  ratings                3123 non-null   float64            \n",
      " 14  genres                 3137 non-null   object             \n",
      " 15  box_office             2337 non-null   float64            \n",
      " 16  publication_year       3833 non-null   int64              \n",
      " 17  head_director          3833 non-null   object             \n",
      " 18  head_genres            3137 non-null   object             \n",
      " 19  gov_support            298 non-null    float64            \n",
      " 20  support                298 non-null    float64            \n",
      " 21  income                 284 non-null    float64            \n",
      "dtypes: datetime64[ns, UTC](1), float64(8), int64(2), object(11)\n",
      "memory usage: 688.7+ KB\n"
     ]
    }
   ],
   "source": [
    "data.groupby('publication_year')['support'].count()\n",
    "data.info()"
   ]
  },
  {
   "cell_type": "code",
   "execution_count": 24,
   "metadata": {},
   "outputs": [
    {
     "data": {
      "image/png": "[encoded data removed]",
      "text/plain": [
       "<Figure size 288x288 with 1 Axes>"
      ]
     },
     "metadata": {
      "needs_background": "light"
     },
     "output_type": "display_data"
    }
   ],
   "source": [
    "(\n",
    "    data.pivot_table(\n",
    "        index='publication_year', values='support', aggfunc=['count'])\n",
    "        .plot(ylim=0, grid=True, style='o-',\n",
    "        title = 'Количество помощи от государства', \n",
    "        xlabel = 'Годы',\n",
    "        ylabel = 'Количество',\n",
    "        figsize=(4, 4))\n",
    ");"
   ]
  },
  {
   "cell_type": "markdown",
   "metadata": {},
   "source": [
    "<div class=\"alert alert-success\">\n",
    "\n",
    "#### **Артём:** 👍 Чтобы не выводить `<...>` можно поставить в конце строки `;`.\n",
    "    \n",
    "</div>"
   ]
  },
  {
   "attachments": {
    "image.png": {
     "image/png": "[encoded data removed]"
    }
   },
   "cell_type": "markdown",
   "metadata": {},
   "source": [
    "<div class=\"alert alert-success\">\n",
    "\n",
    "**Артём:**  Год в формате `.0` Смотрится странно, скорректируй здесь и далее.\n",
    "    \n",
    "![image.png](attachment:image.png)    \n",
    "    \n",
    "</div>"
   ]
  },
  {
   "cell_type": "markdown",
   "metadata": {},
   "source": [
    "<div style=\"background-color:lavender; color:#black; text-align:left; padding:2%\">\n",
    "    \n",
    "#### **Женя:** ✔️ Исправил "
   ]
  },
  {
   "cell_type": "markdown",
   "metadata": {},
   "source": [
    "<div class=\"alert alert-success\">\n",
    "\n",
    "**Артём:** 👍 Молодец."
   ]
  },
  {
   "cell_type": "code",
   "execution_count": 25,
   "metadata": {},
   "outputs": [
    {
     "name": "stdout",
     "output_type": "stream",
     "text": [
      "                  min  max  median\n",
      "publication_year                  \n",
      "2015              2.4  8.7     6.4\n",
      "2016              1.0  8.7     6.5\n",
      "2017              2.9  8.5     6.4\n",
      "2018              1.7  9.0     6.4\n",
      "2019              1.6  9.1     6.5\n"
     ]
    },
    {
     "data": {
      "image/png": "[encoded data removed]",
      "text/plain": [
       "<Figure size 288x288 with 1 Axes>"
      ]
     },
     "metadata": {
      "needs_background": "light"
     },
     "output_type": "display_data"
    }
   ],
   "source": [
    "print(data.groupby('publication_year')['ratings'].agg(\n",
    "    ['min', 'max', 'median']))\n",
    "data.groupby('publication_year')['ratings'].agg(\n",
    "    ['min', 'max', 'median']).plot(\n",
    "    grid=True, \n",
    "    style='o-',\n",
    "    title = 'Рейтинг фильмов', \n",
    "    xlabel = 'Годы',\n",
    "    ylabel = 'Рейтинг',\n",
    "    figsize=(4, 4));"
   ]
  },
  {
   "cell_type": "markdown",
   "metadata": {},
   "source": [
    "    Средний рейтинг у фильмов - 6.4 - 6.5, самые хорошие оценки получили фильмы, выпущенные в 2019 году, \n",
    "    а самые плохие в 2016 году"
   ]
  },
  {
   "cell_type": "markdown",
   "metadata": {},
   "source": [
    "<div class=\"alert alert-success\">\n",
    "\n",
    "**Артём:** 👍 Интересно.\n",
    "\n",
    "</div>"
   ]
  },
  {
   "cell_type": "code",
   "execution_count": 26,
   "metadata": {},
   "outputs": [
    {
     "data": {
      "text/html": [
       "<div>\n",
       "<style scoped>\n",
       "    .dataframe tbody tr th:only-of-type {\n",
       "        vertical-align: middle;\n",
       "    }\n",
       "\n",
       "    .dataframe tbody tr th {\n",
       "        vertical-align: top;\n",
       "    }\n",
       "\n",
       "    .dataframe thead th {\n",
       "        text-align: right;\n",
       "    }\n",
       "</style>\n",
       "<table border=\"1\" class=\"dataframe\">\n",
       "  <thead>\n",
       "    <tr style=\"text-align: right;\">\n",
       "      <th></th>\n",
       "      <th>count</th>\n",
       "      <th>sum</th>\n",
       "    </tr>\n",
       "    <tr>\n",
       "      <th>head_genres</th>\n",
       "      <th></th>\n",
       "      <th></th>\n",
       "    </tr>\n",
       "  </thead>\n",
       "  <tbody>\n",
       "    <tr>\n",
       "      <th>драма</th>\n",
       "      <td>84</td>\n",
       "      <td>4,943,904,333.0</td>\n",
       "    </tr>\n",
       "    <tr>\n",
       "      <th>комедия</th>\n",
       "      <td>65</td>\n",
       "      <td>2,817,435,000.0</td>\n",
       "    </tr>\n",
       "    <tr>\n",
       "      <th>мультфильм</th>\n",
       "      <td>25</td>\n",
       "      <td>1,861,520,000.0</td>\n",
       "    </tr>\n",
       "    <tr>\n",
       "      <th>фантастика</th>\n",
       "      <td>9</td>\n",
       "      <td>1,131,000,000.0</td>\n",
       "    </tr>\n",
       "    <tr>\n",
       "      <th>фэнтези</th>\n",
       "      <td>11</td>\n",
       "      <td>1,032,900,000.0</td>\n",
       "    </tr>\n",
       "    <tr>\n",
       "      <th>история</th>\n",
       "      <td>4</td>\n",
       "      <td>1,020,000,000.0</td>\n",
       "    </tr>\n",
       "    <tr>\n",
       "      <th>триллер</th>\n",
       "      <td>14</td>\n",
       "      <td>709,645,285.0</td>\n",
       "    </tr>\n",
       "    <tr>\n",
       "      <th>приключения</th>\n",
       "      <td>7</td>\n",
       "      <td>696,000,000.0</td>\n",
       "    </tr>\n",
       "    <tr>\n",
       "      <th>детектив</th>\n",
       "      <td>5</td>\n",
       "      <td>485,000,000.0</td>\n",
       "    </tr>\n",
       "    <tr>\n",
       "      <th>спорт</th>\n",
       "      <td>3</td>\n",
       "      <td>455,000,000.0</td>\n",
       "    </tr>\n",
       "  </tbody>\n",
       "</table>\n",
       "</div>"
      ],
      "text/plain": [
       "             count             sum\n",
       "head_genres                       \n",
       "драма           84 4,943,904,333.0\n",
       "комедия         65 2,817,435,000.0\n",
       "мультфильм      25 1,861,520,000.0\n",
       "фантастика       9 1,131,000,000.0\n",
       "фэнтези         11 1,032,900,000.0\n",
       "история          4 1,020,000,000.0\n",
       "триллер         14   709,645,285.0\n",
       "приключения      7   696,000,000.0\n",
       "детектив         5   485,000,000.0\n",
       "спорт            3   455,000,000.0"
      ]
     },
     "execution_count": 26,
     "metadata": {},
     "output_type": "execute_result"
    }
   ],
   "source": [
    "(\n",
    "    data.groupby('head_genres')['support'].agg(['count', 'sum'])\n",
    "    .sort_values(by='sum', ascending=False).head(10)\n",
    ")"
   ]
  },
  {
   "cell_type": "markdown",
   "metadata": {},
   "source": [
    "    Больше всего поддержки получили фильмы с жанром \"драма\" и по количеству и по деньгам. Видимо в России любят плакоть"
   ]
  },
  {
   "cell_type": "markdown",
   "metadata": {},
   "source": [
    "<div class=\"alert alert-success\">\n",
    "\n",
    "**Артём:** 😁\n",
    "\n",
    "</div>"
   ]
  },
  {
   "cell_type": "code",
   "execution_count": 27,
   "metadata": {},
   "outputs": [
    {
     "data": {
      "image/png": "[encoded data removed]",
      "text/plain": [
       "<Figure size 288x288 with 1 Axes>"
      ]
     },
     "metadata": {
      "needs_background": "light"
     },
     "output_type": "display_data"
    }
   ],
   "source": [
    "data.groupby('publication_year')['income'].agg(\n",
    "    ['min', 'max', 'median']).plot(\n",
    "    grid=True, \n",
    "    style='o-', \n",
    "    title = 'Доход(убыток) с фильмов', \n",
    "    xlabel = 'Годы',\n",
    "    ylabel = 'Сумма',\n",
    "    figsize=(4, 4));"
   ]
  },
  {
   "cell_type": "markdown",
   "metadata": {},
   "source": [
    "    Больше всего поддержи было оказано в 2019 году, также видна тенденция роста поддержки с годами"
   ]
  },
  {
   "cell_type": "markdown",
   "metadata": {},
   "source": [
    "<div class=\"alert alert-success\">\n",
    "\n",
    "**Артём:** 👍 Молодец.\n",
    "\n",
    "</div>"
   ]
  },
  {
   "cell_type": "markdown",
   "metadata": {
    "id": "V2gYwMcPgFyd"
   },
   "source": [
    "### Шаг 5. Напишите общий вывод"
   ]
  },
  {
   "cell_type": "markdown",
   "metadata": {
    "id": "AYRg3dzXgFye"
   },
   "source": [
    "   **Во время исследования рынка Российского кинопроката, данные были обработаны: заполнены пропуски и удалены дубликаты, были добавлены новые столбцы. По итогам можно сделать следующие выводы:**\n",
    "\n",
    "*-Исследовательский анализ:*\n",
    "\n",
    "    Больше всего фильмов вышло в 2019 году - 529, меньше всего в 2010 - 105.\n",
    "    Лучше всего представлен 2017 год, а менее всего 2010. \n",
    "    Максимальной сумма сборов была в 2018 году - 49 млрд. руб., минимальной в 2015 году - 38 млрд. руб.\n",
    "    Анализ рейтингов фильмов по сборам выявил, что наибольшей популярностью пользуется категория 16+,\n",
    "    также хорошие сборы у фильмов с категориями 12+ и 6+.\n",
    "    \n",
    "*-Исследование фильмов, которые получили государственную поддержку:*\n",
    "\n",
    "    Больше всего поддержки государство оказало в 2019 году.\n",
    "    Больше всего поддержки получили фильмы с жанром \"драма\".\n",
    "    Окупаемость у фильмов плохая, есть года, где фильмы себя неплохо окупили, но это скорее исключение, чем правило.\n",
    "    Средний рейтинг у фильмов - 6.4 - 6.5\n",
    "    Из анализа видно, что есть тенденция роста поддержки отечественного кинопроката.\n",
    "    \n",
    "    \n"
   ]
  },
  {
   "cell_type": "markdown",
   "metadata": {},
   "source": [
    "<div class=\"alert alert-success\">\n",
    "\n",
    "**Артём:** 👍 Коротко, но в целом хорошо. Принято.\n",
    "\n",
    "</div>"
   ]
  },
  {
   "cell_type": "markdown",
   "metadata": {},
   "source": [
    "## 🏁 Итоги ревью\n",
    "<a id=\"results\"></a>\n",
    "[В начало](#start)\n",
    "<div class=\"alert alert-danger\">\n",
    "\n",
    "**Артём:** ❌ Женя, спасибо за работу. Осталось исправить несколько комментариев и можно идти к заказчику. Молодец! 👍\n",
    "    \n",
    "Для удобства, комментарии которые нужно скорректировать я добавил в меню **Contents** слева.\n",
    "    \n",
    "Жду новую версию проекта. 🙂\n",
    "\n",
    "</div>"
   ]
  },
  {
   "cell_type": "markdown",
   "metadata": {},
   "source": [
    "<img src=\"https://s19536.pcdn.co/wp-content/uploads/2020/06/Web-Great-Job.jpg\"> \n",
    "<div class=\"alert alert-success\">   \n",
    "\n",
    "**Артём:** ✌️ Женя, спасибо за работу и внесенные корректировки! Критических замечаний нет, вернее есть одно, но из-за него не буду тебя задерживать, исправь.\n",
    "    \n",
    "\n",
    "Поздравляю, **проект принят!** 🥳 🎉 Ты молодец!\n",
    "\n",
    "Желаю тебе успехов в дальнейшем обучении. 😉\n",
    "    \n",
    "---\n",
    "    \n",
    "#### 📖 **Полезные ссылки**\n",
    "\n",
    "* [Работа в Яндексе](https://yandex.ru/jobs/pages/analytics_interview?ysclid=l84s63fs1g790141490)\n",
    "* [Настройте свой Jupyter Notebook правильно](https://medium.com/nuances-of-programming/настройте-свой-jupyter-notebook-правильно-faef14c89434)    \n",
    "* [Краткое руководство по Маркдауну](https://paulradzkov.com/2014/markdown_cheatsheet/?)\n",
    "* [PEP 8 – Style Guide for Python Code](https://www.python.org/dev/peps/pep-0008/)    \n",
    "* [Обработка пропусков в данных](https://loginom.ru/blog/missing)  \n",
    "* [Разделение данных с помощью qcut и cut в Pandas](https://dfedorov.spb.ru/pandas/Разделение%20данных%20в%20Pandas%20с%20помощью%20qcut%20и%20cut.html?)  \n",
    "* [Официальная документаци метода qcut](https://pandas.pydata.org/pandas-docs/stable/reference/api/pandas.qcut.html)  \n",
    "* [Подробное руководство по группировке и агрегированию с помощью pandas](https://dfedorov.spb.ru/pandas/Подробное%20руководство%20по%20группировке%20и%20агрегированию%20с%20помощью%20pandas.html?ysclid=lcmm6rtg2w602526506)\n",
    "* [Проверка статистических гипотез. (21 мая 2020 г.)](https://allatambov.github.io/psms/pdf/hypo-test.pdf)    \n",
    "* [Шпаргалка по визуализации данных в Python с помощью Plotly](https://habr.com/ru/articles/502958/) \n",
    "* [Тест гигиены визуализации данных](https://bar-or-pie.dianov.org)    \n",
    "* [Задачки SQL](https://habr.com/ru/company/dcmiran/blog/500360/)    \n",
    "* [7 cайтов для оттачивания навыка написания SQL запросов на 2020 год](https://techrocks.ru/2019/11/22/7-sites-to-perfect-sql-query-writing-skills/)\n",
    "* [Главред помогает очистить текст от словесного мусора, проверяет на соответствие информационному стилю.](https://glvrd.ru)\n",
    "\n",
    "</div>    "
   ]
  },
  {
   "cell_type": "code",
   "execution_count": null,
   "metadata": {},
   "outputs": [],
   "source": []
  }
 ],
 "metadata": {
  "ExecuteTimeLog": [
   {
    "duration": 537,
    "start_time": "2021-07-07T10:12:08.634Z"
   },
   {
    "duration": 206,
    "start_time": "2021-07-07T10:12:30.191Z"
   },
   {
    "duration": 227,
    "start_time": "2021-07-07T10:12:33.078Z"
   },
   {
    "duration": 153,
    "start_time": "2021-07-07T10:13:42.146Z"
   },
   {
    "duration": 233,
    "start_time": "2021-07-07T10:30:09.252Z"
   },
   {
    "duration": 19,
    "start_time": "2021-07-07T10:30:15.577Z"
   },
   {
    "duration": 18,
    "start_time": "2021-07-07T10:30:57.348Z"
   },
   {
    "duration": 19,
    "start_time": "2021-07-07T10:31:17.452Z"
   },
   {
    "duration": 21,
    "start_time": "2021-07-07T10:31:32.227Z"
   },
   {
    "duration": 27,
    "start_time": "2021-07-07T10:32:06.588Z"
   },
   {
    "duration": 23,
    "start_time": "2021-07-07T10:32:43.645Z"
   },
   {
    "duration": 24,
    "start_time": "2021-07-07T10:33:06.948Z"
   },
   {
    "duration": 7,
    "start_time": "2021-07-07T10:33:28.558Z"
   },
   {
    "duration": 23,
    "start_time": "2021-07-07T10:33:43.761Z"
   },
   {
    "duration": 28,
    "start_time": "2021-07-07T10:34:13.466Z"
   },
   {
    "duration": 23,
    "start_time": "2021-07-07T10:35:56.187Z"
   },
   {
    "duration": 6,
    "start_time": "2021-07-07T10:36:48.182Z"
   },
   {
    "duration": 14,
    "start_time": "2021-07-07T10:37:49.641Z"
   },
   {
    "duration": 6,
    "start_time": "2021-07-07T10:38:06.694Z"
   },
   {
    "duration": 6,
    "start_time": "2021-07-07T10:38:13.493Z"
   },
   {
    "duration": 19,
    "start_time": "2021-07-07T10:38:44.056Z"
   },
   {
    "duration": 186,
    "start_time": "2021-07-07T10:48:35.618Z"
   },
   {
    "duration": 24,
    "start_time": "2021-07-07T10:48:51.498Z"
   },
   {
    "duration": 20,
    "start_time": "2021-07-07T10:48:59.415Z"
   },
   {
    "duration": 20,
    "start_time": "2021-07-07T10:53:02.195Z"
   },
   {
    "duration": 188,
    "start_time": "2021-07-07T10:54:40.486Z"
   },
   {
    "duration": 115,
    "start_time": "2021-07-07T10:54:52.552Z"
   },
   {
    "duration": 214,
    "start_time": "2021-07-07T10:54:56.354Z"
   },
   {
    "duration": 47,
    "start_time": "2021-07-07T10:54:58.282Z"
   },
   {
    "duration": 217,
    "start_time": "2021-07-07T10:59:16.075Z"
   },
   {
    "duration": 51,
    "start_time": "2021-07-07T10:59:16.243Z"
   },
   {
    "duration": 578,
    "start_time": "2021-07-07T10:59:18.774Z"
   },
   {
    "duration": 161,
    "start_time": "2021-07-07T10:59:21.238Z"
   },
   {
    "duration": 59,
    "start_time": "2021-07-07T10:59:21.453Z"
   },
   {
    "duration": 3,
    "start_time": "2021-07-07T11:02:10.786Z"
   },
   {
    "duration": 13,
    "start_time": "2021-07-07T11:07:07.722Z"
   },
   {
    "duration": 26,
    "start_time": "2021-07-07T11:07:17.958Z"
   },
   {
    "duration": 22,
    "start_time": "2021-07-07T11:08:17.939Z"
   },
   {
    "duration": 212,
    "start_time": "2021-07-07T11:08:19.665Z"
   },
   {
    "duration": 21,
    "start_time": "2021-07-07T11:08:29.945Z"
   },
   {
    "duration": 31,
    "start_time": "2021-07-07T11:08:38.899Z"
   },
   {
    "duration": 23,
    "start_time": "2021-07-07T11:08:54.527Z"
   },
   {
    "duration": 8,
    "start_time": "2021-07-07T11:18:55.974Z"
   },
   {
    "duration": 7,
    "start_time": "2021-07-07T11:19:03.639Z"
   },
   {
    "duration": 7,
    "start_time": "2021-07-07T11:19:06.444Z"
   },
   {
    "duration": 578,
    "start_time": "2021-07-07T12:09:59.576Z"
   },
   {
    "duration": 195,
    "start_time": "2021-07-07T12:10:00.156Z"
   },
   {
    "duration": 115,
    "start_time": "2021-07-07T12:10:00.353Z"
   },
   {
    "duration": 3,
    "start_time": "2021-07-07T12:10:00.470Z"
   },
   {
    "duration": 32,
    "start_time": "2021-07-07T12:10:00.474Z"
   },
   {
    "duration": 23,
    "start_time": "2021-07-07T12:10:00.508Z"
   },
   {
    "duration": 19,
    "start_time": "2021-07-07T12:10:00.533Z"
   },
   {
    "duration": 44,
    "start_time": "2021-07-07T12:10:00.553Z"
   },
   {
    "duration": 7,
    "start_time": "2021-07-07T12:10:00.600Z"
   },
   {
    "duration": 7,
    "start_time": "2021-07-07T12:19:45.761Z"
   },
   {
    "duration": 21,
    "start_time": "2021-07-07T12:21:35.482Z"
   },
   {
    "duration": 21,
    "start_time": "2021-07-07T12:29:23.569Z"
   },
   {
    "duration": 525,
    "start_time": "2021-07-07T12:29:44.542Z"
   },
   {
    "duration": 214,
    "start_time": "2021-07-07T12:29:45.069Z"
   },
   {
    "duration": 92,
    "start_time": "2021-07-07T12:29:45.285Z"
   },
   {
    "duration": 3,
    "start_time": "2021-07-07T12:29:45.379Z"
   },
   {
    "duration": 28,
    "start_time": "2021-07-07T12:29:45.384Z"
   },
   {
    "duration": 23,
    "start_time": "2021-07-07T12:29:45.413Z"
   },
   {
    "duration": 21,
    "start_time": "2021-07-07T12:29:45.437Z"
   },
   {
    "duration": 41,
    "start_time": "2021-07-07T12:29:45.460Z"
   },
   {
    "duration": 7,
    "start_time": "2021-07-07T12:29:45.502Z"
   },
   {
    "duration": 20,
    "start_time": "2021-07-07T12:29:45.511Z"
   },
   {
    "duration": 12,
    "start_time": "2021-07-07T12:34:02.800Z"
   },
   {
    "duration": 7,
    "start_time": "2021-07-07T12:35:10.479Z"
   },
   {
    "duration": 8,
    "start_time": "2021-07-07T12:35:22.440Z"
   },
   {
    "duration": 6,
    "start_time": "2021-07-07T12:35:35.649Z"
   },
   {
    "duration": 6,
    "start_time": "2021-07-07T12:35:43.107Z"
   },
   {
    "duration": 22,
    "start_time": "2021-07-07T12:38:03.029Z"
   },
   {
    "duration": 10,
    "start_time": "2021-07-07T12:38:06.592Z"
   },
   {
    "duration": 563,
    "start_time": "2021-07-07T12:38:46.493Z"
   },
   {
    "duration": 265,
    "start_time": "2021-07-07T12:38:47.058Z"
   },
   {
    "duration": 94,
    "start_time": "2021-07-07T12:38:47.325Z"
   },
   {
    "duration": 3,
    "start_time": "2021-07-07T12:38:47.422Z"
   },
   {
    "duration": 30,
    "start_time": "2021-07-07T12:38:47.427Z"
   },
   {
    "duration": 16,
    "start_time": "2021-07-07T12:38:53.305Z"
   },
   {
    "duration": 10,
    "start_time": "2021-07-07T12:38:53.499Z"
   },
   {
    "duration": 8,
    "start_time": "2021-07-07T12:39:48.161Z"
   },
   {
    "duration": 27,
    "start_time": "2021-07-07T12:41:17.629Z"
   },
   {
    "duration": 17,
    "start_time": "2021-07-07T12:41:17.867Z"
   },
   {
    "duration": 21,
    "start_time": "2021-07-07T12:41:19.310Z"
   },
   {
    "duration": 7,
    "start_time": "2021-07-07T12:41:19.544Z"
   },
   {
    "duration": 20,
    "start_time": "2021-07-07T12:41:20.504Z"
   },
   {
    "duration": 554,
    "start_time": "2021-07-07T12:56:23.696Z"
   },
   {
    "duration": 200,
    "start_time": "2021-07-07T12:56:25.234Z"
   },
   {
    "duration": 119,
    "start_time": "2021-07-07T12:56:25.480Z"
   },
   {
    "duration": 4,
    "start_time": "2021-07-07T12:56:25.762Z"
   },
   {
    "duration": 26,
    "start_time": "2021-07-07T12:56:27.172Z"
   },
   {
    "duration": 12,
    "start_time": "2021-07-07T12:56:29.051Z"
   },
   {
    "duration": 10,
    "start_time": "2021-07-07T12:56:29.291Z"
   },
   {
    "duration": 8,
    "start_time": "2021-07-07T12:56:29.623Z"
   },
   {
    "duration": 28,
    "start_time": "2021-07-07T12:56:32.137Z"
   },
   {
    "duration": 19,
    "start_time": "2021-07-07T12:56:39.785Z"
   },
   {
    "duration": 20,
    "start_time": "2021-07-07T12:56:44.297Z"
   },
   {
    "duration": 7,
    "start_time": "2021-07-07T12:56:45.392Z"
   },
   {
    "duration": 23,
    "start_time": "2021-07-07T12:56:46.615Z"
   },
   {
    "duration": 4,
    "start_time": "2021-07-07T12:57:06.625Z"
   },
   {
    "duration": 32,
    "start_time": "2021-07-07T12:57:36.690Z"
   },
   {
    "duration": 18,
    "start_time": "2021-07-07T12:58:00.149Z"
   },
   {
    "duration": 15,
    "start_time": "2021-07-07T12:59:16.793Z"
   },
   {
    "duration": 7,
    "start_time": "2021-07-07T13:19:22.624Z"
   },
   {
    "duration": 6,
    "start_time": "2021-07-07T14:17:33.527Z"
   },
   {
    "duration": 9,
    "start_time": "2021-07-07T14:17:48.409Z"
   },
   {
    "duration": 8,
    "start_time": "2021-07-07T14:20:13.060Z"
   },
   {
    "duration": 8,
    "start_time": "2021-07-07T14:20:37.957Z"
   },
   {
    "duration": 8,
    "start_time": "2021-07-07T14:20:47.470Z"
   },
   {
    "duration": 9,
    "start_time": "2021-07-07T14:20:54.503Z"
   },
   {
    "duration": 10,
    "start_time": "2021-07-07T14:28:57.763Z"
   },
   {
    "duration": 3,
    "start_time": "2021-07-07T14:30:23.377Z"
   },
   {
    "duration": 3,
    "start_time": "2021-07-07T14:30:36.489Z"
   },
   {
    "duration": 103,
    "start_time": "2021-07-07T14:30:52.351Z"
   },
   {
    "duration": 8,
    "start_time": "2021-07-07T14:30:54.763Z"
   },
   {
    "duration": 8,
    "start_time": "2021-07-07T14:31:29.301Z"
   },
   {
    "duration": 13,
    "start_time": "2021-07-07T14:31:44.516Z"
   },
   {
    "duration": 7,
    "start_time": "2021-07-07T14:33:10.972Z"
   },
   {
    "duration": 11,
    "start_time": "2021-07-07T14:33:27.780Z"
   },
   {
    "duration": 8,
    "start_time": "2021-07-07T14:34:44.588Z"
   },
   {
    "duration": 57,
    "start_time": "2021-07-07T14:35:59.042Z"
   },
   {
    "duration": 3,
    "start_time": "2021-07-07T14:36:28.168Z"
   },
   {
    "duration": 5,
    "start_time": "2021-07-07T14:36:46.254Z"
   },
   {
    "duration": 4,
    "start_time": "2021-07-07T14:36:52.714Z"
   },
   {
    "duration": 3,
    "start_time": "2021-07-07T14:36:56.612Z"
   },
   {
    "duration": 4,
    "start_time": "2021-07-07T14:36:57.049Z"
   },
   {
    "duration": 3,
    "start_time": "2021-07-07T14:39:21.214Z"
   },
   {
    "duration": 7,
    "start_time": "2021-07-07T14:39:52.406Z"
   },
   {
    "duration": 11,
    "start_time": "2021-07-07T14:39:58.576Z"
   },
   {
    "duration": 9,
    "start_time": "2021-07-07T14:40:26.301Z"
   },
   {
    "duration": 10,
    "start_time": "2021-07-07T14:40:31.704Z"
   },
   {
    "duration": 11,
    "start_time": "2021-07-07T14:40:36.249Z"
   },
   {
    "duration": 10,
    "start_time": "2021-07-07T14:40:39.783Z"
   },
   {
    "duration": 9,
    "start_time": "2021-07-07T14:40:48.558Z"
   },
   {
    "duration": 10,
    "start_time": "2021-07-07T14:40:57.143Z"
   },
   {
    "duration": 9,
    "start_time": "2021-07-07T14:41:06.074Z"
   },
   {
    "duration": 4324,
    "start_time": "2021-07-07T14:41:22.004Z"
   },
   {
    "duration": 11,
    "start_time": "2021-07-07T14:41:33.392Z"
   },
   {
    "duration": 9,
    "start_time": "2021-07-07T14:41:39.288Z"
   },
   {
    "duration": 569,
    "start_time": "2021-07-07T14:42:14.387Z"
   },
   {
    "duration": 197,
    "start_time": "2021-07-07T14:42:14.959Z"
   },
   {
    "duration": 84,
    "start_time": "2021-07-07T14:42:16.052Z"
   },
   {
    "duration": 4,
    "start_time": "2021-07-07T14:42:16.900Z"
   },
   {
    "duration": 27,
    "start_time": "2021-07-07T14:42:19.898Z"
   },
   {
    "duration": 12,
    "start_time": "2021-07-07T14:42:21.577Z"
   },
   {
    "duration": 9,
    "start_time": "2021-07-07T14:42:21.813Z"
   },
   {
    "duration": 9,
    "start_time": "2021-07-07T14:42:22.569Z"
   },
   {
    "duration": 29,
    "start_time": "2021-07-07T14:42:25.837Z"
   },
   {
    "duration": 20,
    "start_time": "2021-07-07T14:42:27.003Z"
   },
   {
    "duration": 21,
    "start_time": "2021-07-07T14:42:28.767Z"
   },
   {
    "duration": 7,
    "start_time": "2021-07-07T14:42:29.838Z"
   },
   {
    "duration": 4,
    "start_time": "2021-07-07T14:43:25.493Z"
   },
   {
    "duration": 7,
    "start_time": "2021-07-07T14:43:26.573Z"
   },
   {
    "duration": 10,
    "start_time": "2021-07-07T14:43:31.639Z"
   },
   {
    "duration": 9,
    "start_time": "2021-07-07T14:43:32.046Z"
   },
   {
    "duration": 10,
    "start_time": "2021-07-07T14:43:33.301Z"
   },
   {
    "duration": 12,
    "start_time": "2021-07-07T14:43:33.658Z"
   },
   {
    "duration": 8,
    "start_time": "2021-07-07T14:43:34.552Z"
   },
   {
    "duration": 9,
    "start_time": "2021-07-07T14:43:35.058Z"
   },
   {
    "duration": 12,
    "start_time": "2021-07-07T14:43:35.914Z"
   },
   {
    "duration": 17,
    "start_time": "2021-07-07T14:45:34.368Z"
   },
   {
    "duration": 512,
    "start_time": "2021-07-07T14:51:58.236Z"
   },
   {
    "duration": 223,
    "start_time": "2021-07-07T14:51:58.750Z"
   },
   {
    "duration": 93,
    "start_time": "2021-07-07T14:51:58.977Z"
   },
   {
    "duration": 4,
    "start_time": "2021-07-07T14:51:59.071Z"
   },
   {
    "duration": 37,
    "start_time": "2021-07-07T14:51:59.077Z"
   },
   {
    "duration": 18,
    "start_time": "2021-07-07T14:51:59.116Z"
   },
   {
    "duration": 10,
    "start_time": "2021-07-07T14:51:59.137Z"
   },
   {
    "duration": 8,
    "start_time": "2021-07-07T14:51:59.149Z"
   },
   {
    "duration": 54,
    "start_time": "2021-07-07T14:51:59.158Z"
   },
   {
    "duration": 18,
    "start_time": "2021-07-07T14:51:59.213Z"
   },
   {
    "duration": 22,
    "start_time": "2021-07-07T14:51:59.232Z"
   },
   {
    "duration": 36,
    "start_time": "2021-07-07T14:51:59.255Z"
   },
   {
    "duration": 7,
    "start_time": "2021-07-07T14:51:59.293Z"
   },
   {
    "duration": 10,
    "start_time": "2021-07-07T14:51:59.302Z"
   },
   {
    "duration": 9,
    "start_time": "2021-07-07T14:51:59.313Z"
   },
   {
    "duration": 11,
    "start_time": "2021-07-07T14:51:59.324Z"
   },
   {
    "duration": 8,
    "start_time": "2021-07-07T14:51:59.337Z"
   },
   {
    "duration": 46,
    "start_time": "2021-07-07T14:51:59.347Z"
   },
   {
    "duration": 22,
    "start_time": "2021-07-07T14:51:59.395Z"
   },
   {
    "duration": 24,
    "start_time": "2021-07-07T14:57:32.911Z"
   },
   {
    "duration": 7,
    "start_time": "2021-07-07T14:58:22.070Z"
   },
   {
    "duration": 4,
    "start_time": "2021-07-07T14:59:11.239Z"
   },
   {
    "duration": 25,
    "start_time": "2021-07-07T15:07:22.208Z"
   },
   {
    "duration": 16,
    "start_time": "2021-07-07T15:08:25.560Z"
   },
   {
    "duration": 15,
    "start_time": "2021-07-07T15:08:40.647Z"
   },
   {
    "duration": 14,
    "start_time": "2021-07-07T15:08:46.669Z"
   },
   {
    "duration": 533,
    "start_time": "2021-07-07T15:18:07.440Z"
   },
   {
    "duration": 173,
    "start_time": "2021-07-07T15:18:07.974Z"
   },
   {
    "duration": 84,
    "start_time": "2021-07-07T15:18:08.149Z"
   },
   {
    "duration": 3,
    "start_time": "2021-07-07T15:18:08.235Z"
   },
   {
    "duration": 30,
    "start_time": "2021-07-07T15:18:08.240Z"
   },
   {
    "duration": 22,
    "start_time": "2021-07-07T15:18:08.272Z"
   },
   {
    "duration": 11,
    "start_time": "2021-07-07T15:18:08.295Z"
   },
   {
    "duration": 11,
    "start_time": "2021-07-07T15:18:08.309Z"
   },
   {
    "duration": 40,
    "start_time": "2021-07-07T15:18:08.322Z"
   },
   {
    "duration": 42,
    "start_time": "2021-07-07T15:18:08.364Z"
   },
   {
    "duration": 22,
    "start_time": "2021-07-07T15:18:08.408Z"
   },
   {
    "duration": 5,
    "start_time": "2021-07-07T15:18:08.432Z"
   },
   {
    "duration": 13,
    "start_time": "2021-07-07T15:18:08.439Z"
   },
   {
    "duration": 9,
    "start_time": "2021-07-07T15:18:08.454Z"
   },
   {
    "duration": 32,
    "start_time": "2021-07-07T15:18:08.465Z"
   },
   {
    "duration": 10,
    "start_time": "2021-07-07T15:18:08.501Z"
   },
   {
    "duration": 7,
    "start_time": "2021-07-07T15:18:08.513Z"
   },
   {
    "duration": 11,
    "start_time": "2021-07-07T15:18:08.521Z"
   },
   {
    "duration": 17,
    "start_time": "2021-07-07T15:18:08.534Z"
   },
   {
    "duration": 44,
    "start_time": "2021-07-07T15:18:08.553Z"
   },
   {
    "duration": 22,
    "start_time": "2021-07-07T15:18:08.599Z"
   },
   {
    "duration": 61,
    "start_time": "2021-07-07T15:18:08.622Z"
   },
   {
    "duration": 7,
    "start_time": "2021-07-07T15:18:39.457Z"
   },
   {
    "duration": 5,
    "start_time": "2021-07-07T16:05:17.020Z"
   },
   {
    "duration": 5,
    "start_time": "2021-07-07T16:51:28.794Z"
   },
   {
    "duration": 546,
    "start_time": "2021-07-07T16:52:26.306Z"
   },
   {
    "duration": 203,
    "start_time": "2021-07-07T16:52:27.523Z"
   },
   {
    "duration": 85,
    "start_time": "2021-07-07T16:52:27.736Z"
   },
   {
    "duration": 4,
    "start_time": "2021-07-07T16:52:27.899Z"
   },
   {
    "duration": 25,
    "start_time": "2021-07-07T16:52:28.674Z"
   },
   {
    "duration": 8,
    "start_time": "2021-07-07T16:52:32.956Z"
   },
   {
    "duration": 18,
    "start_time": "2021-07-07T16:52:35.616Z"
   },
   {
    "duration": 6,
    "start_time": "2021-07-07T16:52:36.913Z"
   },
   {
    "duration": 11,
    "start_time": "2021-07-07T16:52:40.258Z"
   },
   {
    "duration": 10,
    "start_time": "2021-07-07T16:52:46.251Z"
   },
   {
    "duration": 8,
    "start_time": "2021-07-07T16:52:47.182Z"
   },
   {
    "duration": 27,
    "start_time": "2021-07-07T16:53:20.391Z"
   },
   {
    "duration": 20,
    "start_time": "2021-07-07T16:53:22.022Z"
   },
   {
    "duration": 23,
    "start_time": "2021-07-07T16:53:23.690Z"
   },
   {
    "duration": 8,
    "start_time": "2021-07-07T16:53:24.261Z"
   },
   {
    "duration": 4,
    "start_time": "2021-07-07T16:53:38.733Z"
   },
   {
    "duration": 7,
    "start_time": "2021-07-07T16:53:40.445Z"
   },
   {
    "duration": 11,
    "start_time": "2021-07-07T16:53:41.348Z"
   },
   {
    "duration": 13,
    "start_time": "2021-07-07T16:53:45.250Z"
   },
   {
    "duration": 12,
    "start_time": "2021-07-07T16:53:45.467Z"
   },
   {
    "duration": 4,
    "start_time": "2021-07-07T16:55:32.704Z"
   },
   {
    "duration": 12,
    "start_time": "2021-07-07T16:55:49.012Z"
   },
   {
    "duration": 18,
    "start_time": "2021-07-07T16:55:49.547Z"
   },
   {
    "duration": 611,
    "start_time": "2021-07-07T16:58:35.156Z"
   },
   {
    "duration": 200,
    "start_time": "2021-07-07T16:58:35.770Z"
   },
   {
    "duration": 86,
    "start_time": "2021-07-07T16:58:35.972Z"
   },
   {
    "duration": 3,
    "start_time": "2021-07-07T16:58:36.060Z"
   },
   {
    "duration": 27,
    "start_time": "2021-07-07T16:58:36.065Z"
   },
   {
    "duration": 8,
    "start_time": "2021-07-07T16:58:36.094Z"
   },
   {
    "duration": 17,
    "start_time": "2021-07-07T16:58:36.103Z"
   },
   {
    "duration": 5,
    "start_time": "2021-07-07T16:58:36.123Z"
   },
   {
    "duration": 11,
    "start_time": "2021-07-07T16:58:36.130Z"
   },
   {
    "duration": 7,
    "start_time": "2021-07-07T16:58:36.143Z"
   },
   {
    "duration": 37,
    "start_time": "2021-07-07T16:58:36.152Z"
   },
   {
    "duration": 27,
    "start_time": "2021-07-07T16:58:36.191Z"
   },
   {
    "duration": 19,
    "start_time": "2021-07-07T16:58:36.219Z"
   },
   {
    "duration": 49,
    "start_time": "2021-07-07T16:58:36.240Z"
   },
   {
    "duration": 6,
    "start_time": "2021-07-07T16:58:36.291Z"
   },
   {
    "duration": 3,
    "start_time": "2021-07-07T16:58:36.299Z"
   },
   {
    "duration": 13,
    "start_time": "2021-07-07T16:58:36.304Z"
   },
   {
    "duration": 10,
    "start_time": "2021-07-07T16:58:36.319Z"
   },
   {
    "duration": 10,
    "start_time": "2021-07-07T16:58:36.331Z"
   },
   {
    "duration": 44,
    "start_time": "2021-07-07T16:58:36.343Z"
   },
   {
    "duration": 4,
    "start_time": "2021-07-07T16:58:36.388Z"
   },
   {
    "duration": 13,
    "start_time": "2021-07-07T16:58:36.394Z"
   },
   {
    "duration": 16,
    "start_time": "2021-07-07T16:58:36.410Z"
   },
   {
    "duration": 8,
    "start_time": "2021-07-07T17:02:31.629Z"
   },
   {
    "duration": 8,
    "start_time": "2021-07-07T17:02:34.308Z"
   },
   {
    "duration": 6,
    "start_time": "2021-07-07T17:05:13.483Z"
   },
   {
    "duration": 17,
    "start_time": "2021-07-07T17:05:20.606Z"
   },
   {
    "duration": 7,
    "start_time": "2021-07-07T17:05:34.638Z"
   },
   {
    "duration": 3,
    "start_time": "2021-07-07T17:06:31.883Z"
   },
   {
    "duration": 570,
    "start_time": "2021-07-07T17:06:37.165Z"
   },
   {
    "duration": 174,
    "start_time": "2021-07-07T17:06:37.737Z"
   },
   {
    "duration": 47,
    "start_time": "2021-07-07T17:06:37.913Z"
   },
   {
    "duration": 3,
    "start_time": "2021-07-07T17:06:37.962Z"
   },
   {
    "duration": 27,
    "start_time": "2021-07-07T17:06:37.967Z"
   },
   {
    "duration": 7,
    "start_time": "2021-07-07T17:06:37.996Z"
   },
   {
    "duration": 16,
    "start_time": "2021-07-07T17:06:38.005Z"
   },
   {
    "duration": 6,
    "start_time": "2021-07-07T17:06:38.024Z"
   },
   {
    "duration": 12,
    "start_time": "2021-07-07T17:06:38.031Z"
   },
   {
    "duration": 41,
    "start_time": "2021-07-07T17:06:38.045Z"
   },
   {
    "duration": 8,
    "start_time": "2021-07-07T17:06:38.088Z"
   },
   {
    "duration": 26,
    "start_time": "2021-07-07T17:06:38.098Z"
   },
   {
    "duration": 17,
    "start_time": "2021-07-07T17:06:38.126Z"
   },
   {
    "duration": 43,
    "start_time": "2021-07-07T17:06:38.144Z"
   },
   {
    "duration": 6,
    "start_time": "2021-07-07T17:06:38.188Z"
   },
   {
    "duration": 5,
    "start_time": "2021-07-07T17:06:38.195Z"
   },
   {
    "duration": 9,
    "start_time": "2021-07-07T17:06:38.201Z"
   },
   {
    "duration": 12,
    "start_time": "2021-07-07T17:06:38.212Z"
   },
   {
    "duration": 11,
    "start_time": "2021-07-07T17:06:38.226Z"
   },
   {
    "duration": 47,
    "start_time": "2021-07-07T17:06:38.239Z"
   },
   {
    "duration": 4,
    "start_time": "2021-07-07T17:06:38.288Z"
   },
   {
    "duration": 13,
    "start_time": "2021-07-07T17:06:38.293Z"
   },
   {
    "duration": 5,
    "start_time": "2021-07-07T17:06:38.309Z"
   },
   {
    "duration": 18,
    "start_time": "2021-07-07T17:06:38.325Z"
   },
   {
    "duration": 20,
    "start_time": "2021-07-07T17:07:02.805Z"
   },
   {
    "duration": 19,
    "start_time": "2021-07-07T17:07:08.527Z"
   },
   {
    "duration": 19,
    "start_time": "2021-07-07T17:07:12.758Z"
   },
   {
    "duration": 22,
    "start_time": "2021-07-07T17:07:17.497Z"
   },
   {
    "duration": 19,
    "start_time": "2021-07-07T17:07:19.645Z"
   },
   {
    "duration": 10,
    "start_time": "2021-07-07T17:07:34.239Z"
   },
   {
    "duration": 17,
    "start_time": "2021-07-07T17:07:54.144Z"
   },
   {
    "duration": 14,
    "start_time": "2021-07-07T17:08:14.357Z"
   },
   {
    "duration": 616,
    "start_time": "2021-07-07T17:08:45.254Z"
   },
   {
    "duration": 178,
    "start_time": "2021-07-07T17:08:45.872Z"
   },
   {
    "duration": 60,
    "start_time": "2021-07-07T17:08:46.054Z"
   },
   {
    "duration": 3,
    "start_time": "2021-07-07T17:08:46.116Z"
   },
   {
    "duration": 26,
    "start_time": "2021-07-07T17:08:46.121Z"
   },
   {
    "duration": 7,
    "start_time": "2021-07-07T17:08:46.149Z"
   },
   {
    "duration": 17,
    "start_time": "2021-07-07T17:08:46.158Z"
   },
   {
    "duration": 14,
    "start_time": "2021-07-07T17:08:46.176Z"
   },
   {
    "duration": 17,
    "start_time": "2021-07-07T17:08:46.193Z"
   },
   {
    "duration": 9,
    "start_time": "2021-07-07T17:08:46.211Z"
   },
   {
    "duration": 21,
    "start_time": "2021-07-07T17:08:46.221Z"
   },
   {
    "duration": 49,
    "start_time": "2021-07-07T17:08:46.244Z"
   },
   {
    "duration": 24,
    "start_time": "2021-07-07T17:08:46.295Z"
   },
   {
    "duration": 22,
    "start_time": "2021-07-07T17:08:46.321Z"
   },
   {
    "duration": 6,
    "start_time": "2021-07-07T17:08:46.345Z"
   },
   {
    "duration": 5,
    "start_time": "2021-07-07T17:08:46.353Z"
   },
   {
    "duration": 13,
    "start_time": "2021-07-07T17:08:46.386Z"
   },
   {
    "duration": 12,
    "start_time": "2021-07-07T17:08:46.402Z"
   },
   {
    "duration": 10,
    "start_time": "2021-07-07T17:08:46.415Z"
   },
   {
    "duration": 7,
    "start_time": "2021-07-07T17:08:46.427Z"
   },
   {
    "duration": 8,
    "start_time": "2021-07-07T17:08:46.435Z"
   },
   {
    "duration": 68,
    "start_time": "2021-07-07T17:08:46.446Z"
   },
   {
    "duration": 13,
    "start_time": "2021-07-07T17:08:46.516Z"
   },
   {
    "duration": 78,
    "start_time": "2021-07-07T17:08:46.530Z"
   },
   {
    "duration": 40,
    "start_time": "2021-07-07T17:09:08.185Z"
   },
   {
    "duration": 16,
    "start_time": "2021-07-07T17:09:19.324Z"
   },
   {
    "duration": 21,
    "start_time": "2021-07-07T17:09:23.290Z"
   },
   {
    "duration": 13,
    "start_time": "2021-07-07T17:09:54.812Z"
   },
   {
    "duration": 13,
    "start_time": "2021-07-07T17:10:02.039Z"
   },
   {
    "duration": 10,
    "start_time": "2021-07-07T17:10:29.632Z"
   },
   {
    "duration": 13,
    "start_time": "2021-07-07T17:10:52.372Z"
   },
   {
    "duration": 13,
    "start_time": "2021-07-07T17:11:17.270Z"
   },
   {
    "duration": 13,
    "start_time": "2021-07-07T17:14:59.284Z"
   },
   {
    "duration": 547,
    "start_time": "2021-07-07T17:18:52.403Z"
   },
   {
    "duration": 163,
    "start_time": "2021-07-07T17:18:52.952Z"
   },
   {
    "duration": 44,
    "start_time": "2021-07-07T17:18:53.117Z"
   },
   {
    "duration": 3,
    "start_time": "2021-07-07T17:18:53.162Z"
   },
   {
    "duration": 26,
    "start_time": "2021-07-07T17:18:53.167Z"
   },
   {
    "duration": 6,
    "start_time": "2021-07-07T17:18:53.195Z"
   },
   {
    "duration": 15,
    "start_time": "2021-07-07T17:18:53.203Z"
   },
   {
    "duration": 5,
    "start_time": "2021-07-07T17:18:53.220Z"
   },
   {
    "duration": 11,
    "start_time": "2021-07-07T17:18:53.228Z"
   },
   {
    "duration": 9,
    "start_time": "2021-07-07T17:18:53.241Z"
   },
   {
    "duration": 41,
    "start_time": "2021-07-07T17:18:53.252Z"
   },
   {
    "duration": 33,
    "start_time": "2021-07-07T17:18:53.295Z"
   },
   {
    "duration": 19,
    "start_time": "2021-07-07T17:18:53.330Z"
   },
   {
    "duration": 49,
    "start_time": "2021-07-07T17:18:53.350Z"
   },
   {
    "duration": 5,
    "start_time": "2021-07-07T17:18:53.401Z"
   },
   {
    "duration": 5,
    "start_time": "2021-07-07T17:18:53.408Z"
   },
   {
    "duration": 11,
    "start_time": "2021-07-07T17:18:53.414Z"
   },
   {
    "duration": 9,
    "start_time": "2021-07-07T17:18:53.427Z"
   },
   {
    "duration": 10,
    "start_time": "2021-07-07T17:18:53.437Z"
   },
   {
    "duration": 39,
    "start_time": "2021-07-07T17:18:53.448Z"
   },
   {
    "duration": 26,
    "start_time": "2021-07-07T17:18:55.799Z"
   },
   {
    "duration": 598,
    "start_time": "2021-07-07T17:20:17.862Z"
   },
   {
    "duration": 161,
    "start_time": "2021-07-07T17:20:18.462Z"
   },
   {
    "duration": 45,
    "start_time": "2021-07-07T17:20:18.626Z"
   },
   {
    "duration": 4,
    "start_time": "2021-07-07T17:20:18.673Z"
   },
   {
    "duration": 38,
    "start_time": "2021-07-07T17:20:26.877Z"
   },
   {
    "duration": 7,
    "start_time": "2021-07-07T17:20:37.405Z"
   },
   {
    "duration": 19,
    "start_time": "2021-07-07T17:20:51.534Z"
   },
   {
    "duration": 5,
    "start_time": "2021-07-07T17:20:57.228Z"
   },
   {
    "duration": 7,
    "start_time": "2021-07-07T17:21:08.235Z"
   },
   {
    "duration": 19,
    "start_time": "2021-07-07T17:21:42.158Z"
   },
   {
    "duration": 14,
    "start_time": "2021-07-07T17:21:50.225Z"
   },
   {
    "duration": 22,
    "start_time": "2021-07-07T17:22:54.104Z"
   },
   {
    "duration": 5,
    "start_time": "2021-07-07T17:22:56.371Z"
   },
   {
    "duration": 14,
    "start_time": "2021-07-07T17:22:58.316Z"
   },
   {
    "duration": 5,
    "start_time": "2021-07-07T17:22:58.493Z"
   },
   {
    "duration": 35,
    "start_time": "2021-07-07T17:22:59.666Z"
   },
   {
    "duration": 6,
    "start_time": "2021-07-07T17:23:02.410Z"
   },
   {
    "duration": 611,
    "start_time": "2021-07-07T17:24:59.664Z"
   },
   {
    "duration": 178,
    "start_time": "2021-07-07T17:25:01.945Z"
   },
   {
    "duration": 47,
    "start_time": "2021-07-07T17:25:02.125Z"
   },
   {
    "duration": 2,
    "start_time": "2021-07-07T17:25:07.903Z"
   },
   {
    "duration": 254,
    "start_time": "2021-07-07T17:25:08.232Z"
   },
   {
    "duration": 182,
    "start_time": "2021-07-07T17:25:08.671Z"
   },
   {
    "duration": 6,
    "start_time": "2021-07-07T17:25:13.104Z"
   },
   {
    "duration": 36,
    "start_time": "2021-07-07T17:25:13.662Z"
   },
   {
    "duration": 7,
    "start_time": "2021-07-07T17:25:14.528Z"
   },
   {
    "duration": 24,
    "start_time": "2021-07-07T17:25:27.982Z"
   },
   {
    "duration": 3,
    "start_time": "2021-07-07T17:25:48.982Z"
   },
   {
    "duration": 165,
    "start_time": "2021-07-07T17:25:48.987Z"
   },
   {
    "duration": 50,
    "start_time": "2021-07-07T17:25:49.154Z"
   },
   {
    "duration": 4,
    "start_time": "2021-07-07T17:25:49.206Z"
   },
   {
    "duration": 26,
    "start_time": "2021-07-07T17:25:49.212Z"
   },
   {
    "duration": 7,
    "start_time": "2021-07-07T17:25:49.240Z"
   },
   {
    "duration": 16,
    "start_time": "2021-07-07T17:25:49.249Z"
   },
   {
    "duration": 22,
    "start_time": "2021-07-07T17:25:49.266Z"
   },
   {
    "duration": 16,
    "start_time": "2021-07-07T17:25:49.291Z"
   },
   {
    "duration": 9,
    "start_time": "2021-07-07T17:25:49.309Z"
   },
   {
    "duration": 7,
    "start_time": "2021-07-07T17:25:49.319Z"
   },
   {
    "duration": 28,
    "start_time": "2021-07-07T17:25:49.328Z"
   },
   {
    "duration": 44,
    "start_time": "2021-07-07T17:25:49.357Z"
   },
   {
    "duration": 22,
    "start_time": "2021-07-07T17:25:49.403Z"
   },
   {
    "duration": 7,
    "start_time": "2021-07-07T17:25:49.427Z"
   },
   {
    "duration": 3,
    "start_time": "2021-07-07T17:25:49.436Z"
   },
   {
    "duration": 44,
    "start_time": "2021-07-07T17:25:49.441Z"
   },
   {
    "duration": 12,
    "start_time": "2021-07-07T17:25:49.488Z"
   },
   {
    "duration": 13,
    "start_time": "2021-07-07T17:25:49.502Z"
   },
   {
    "duration": 10,
    "start_time": "2021-07-07T17:25:49.516Z"
   },
   {
    "duration": 62,
    "start_time": "2021-07-07T17:25:49.527Z"
   },
   {
    "duration": 26,
    "start_time": "2021-07-07T17:26:51.809Z"
   },
   {
    "duration": 26,
    "start_time": "2021-07-07T17:26:55.759Z"
   },
   {
    "duration": 26,
    "start_time": "2021-07-07T17:27:04.501Z"
   },
   {
    "duration": 25,
    "start_time": "2021-07-07T17:28:24.859Z"
   },
   {
    "duration": 21,
    "start_time": "2021-07-07T17:28:55.250Z"
   },
   {
    "duration": 21,
    "start_time": "2021-07-07T17:28:58.885Z"
   },
   {
    "duration": 7,
    "start_time": "2021-07-07T17:45:40.972Z"
   },
   {
    "duration": 13,
    "start_time": "2021-07-07T17:45:42.529Z"
   },
   {
    "duration": 27,
    "start_time": "2021-07-07T17:45:51.026Z"
   },
   {
    "duration": 518,
    "start_time": "2021-07-07T17:46:15.532Z"
   },
   {
    "duration": 235,
    "start_time": "2021-07-07T17:46:16.053Z"
   },
   {
    "duration": 80,
    "start_time": "2021-07-07T17:46:16.292Z"
   },
   {
    "duration": 5,
    "start_time": "2021-07-07T17:46:16.373Z"
   },
   {
    "duration": 26,
    "start_time": "2021-07-07T17:46:16.380Z"
   },
   {
    "duration": 7,
    "start_time": "2021-07-07T17:46:16.408Z"
   },
   {
    "duration": 16,
    "start_time": "2021-07-07T17:46:16.418Z"
   },
   {
    "duration": 5,
    "start_time": "2021-07-07T17:46:16.436Z"
   },
   {
    "duration": 13,
    "start_time": "2021-07-07T17:46:16.442Z"
   },
   {
    "duration": 35,
    "start_time": "2021-07-07T17:46:16.456Z"
   },
   {
    "duration": 8,
    "start_time": "2021-07-07T17:46:16.493Z"
   },
   {
    "duration": 28,
    "start_time": "2021-07-07T17:46:16.502Z"
   },
   {
    "duration": 17,
    "start_time": "2021-07-07T17:46:16.532Z"
   },
   {
    "duration": 44,
    "start_time": "2021-07-07T17:46:16.551Z"
   },
   {
    "duration": 6,
    "start_time": "2021-07-07T17:46:16.597Z"
   },
   {
    "duration": 4,
    "start_time": "2021-07-07T17:46:16.605Z"
   },
   {
    "duration": 9,
    "start_time": "2021-07-07T17:46:16.610Z"
   },
   {
    "duration": 9,
    "start_time": "2021-07-07T17:46:16.621Z"
   },
   {
    "duration": 10,
    "start_time": "2021-07-07T17:46:16.632Z"
   },
   {
    "duration": 43,
    "start_time": "2021-07-07T17:46:16.644Z"
   },
   {
    "duration": 26,
    "start_time": "2021-07-07T17:46:16.689Z"
   },
   {
    "duration": 19,
    "start_time": "2021-07-07T17:46:16.718Z"
   },
   {
    "duration": 8,
    "start_time": "2021-07-07T17:46:16.738Z"
   },
   {
    "duration": 43,
    "start_time": "2021-07-07T17:46:16.747Z"
   },
   {
    "duration": 19,
    "start_time": "2021-07-07T17:46:16.791Z"
   },
   {
    "duration": 9,
    "start_time": "2021-07-07T17:46:16.812Z"
   },
   {
    "duration": 60,
    "start_time": "2021-07-07T17:46:16.822Z"
   },
   {
    "duration": -8,
    "start_time": "2021-07-07T17:46:16.892Z"
   },
   {
    "duration": 12,
    "start_time": "2021-07-07T17:48:47.707Z"
   },
   {
    "duration": 553,
    "start_time": "2021-07-07T18:10:09.350Z"
   },
   {
    "duration": 230,
    "start_time": "2021-07-07T18:10:09.905Z"
   },
   {
    "duration": 97,
    "start_time": "2021-07-07T18:10:10.137Z"
   },
   {
    "duration": 5,
    "start_time": "2021-07-07T18:10:10.236Z"
   },
   {
    "duration": 29,
    "start_time": "2021-07-07T18:10:10.242Z"
   },
   {
    "duration": 7,
    "start_time": "2021-07-07T18:10:10.272Z"
   },
   {
    "duration": 15,
    "start_time": "2021-07-07T18:10:10.281Z"
   },
   {
    "duration": 4,
    "start_time": "2021-07-07T18:10:10.299Z"
   },
   {
    "duration": 14,
    "start_time": "2021-07-07T18:10:10.305Z"
   },
   {
    "duration": 8,
    "start_time": "2021-07-07T18:10:10.321Z"
   },
   {
    "duration": 8,
    "start_time": "2021-07-07T18:10:10.331Z"
   },
   {
    "duration": 56,
    "start_time": "2021-07-07T18:10:10.341Z"
   },
   {
    "duration": 19,
    "start_time": "2021-07-07T18:10:10.399Z"
   },
   {
    "duration": 23,
    "start_time": "2021-07-07T18:10:10.419Z"
   },
   {
    "duration": 6,
    "start_time": "2021-07-07T18:10:10.444Z"
   },
   {
    "duration": 9,
    "start_time": "2021-07-07T18:10:10.451Z"
   },
   {
    "duration": 30,
    "start_time": "2021-07-07T18:10:10.462Z"
   },
   {
    "duration": 9,
    "start_time": "2021-07-07T18:10:10.494Z"
   },
   {
    "duration": 14,
    "start_time": "2021-07-07T18:10:10.505Z"
   },
   {
    "duration": 7,
    "start_time": "2021-07-07T18:10:10.521Z"
   },
   {
    "duration": 26,
    "start_time": "2021-07-07T18:10:10.530Z"
   },
   {
    "duration": 44,
    "start_time": "2021-07-07T18:10:10.558Z"
   },
   {
    "duration": 7,
    "start_time": "2021-07-07T18:10:10.605Z"
   },
   {
    "duration": 11,
    "start_time": "2021-07-07T18:10:10.614Z"
   },
   {
    "duration": 19,
    "start_time": "2021-07-07T18:10:10.626Z"
   },
   {
    "duration": 44,
    "start_time": "2021-07-07T18:10:10.646Z"
   },
   {
    "duration": 516,
    "start_time": "2021-07-07T18:14:00.826Z"
   },
   {
    "duration": 230,
    "start_time": "2021-07-07T18:14:01.344Z"
   },
   {
    "duration": 105,
    "start_time": "2021-07-07T18:14:01.576Z"
   },
   {
    "duration": 5,
    "start_time": "2021-07-07T18:14:01.683Z"
   },
   {
    "duration": 46,
    "start_time": "2021-07-07T18:14:01.690Z"
   },
   {
    "duration": 7,
    "start_time": "2021-07-07T18:14:01.738Z"
   },
   {
    "duration": 20,
    "start_time": "2021-07-07T18:14:01.747Z"
   },
   {
    "duration": 16,
    "start_time": "2021-07-07T18:14:01.769Z"
   },
   {
    "duration": 14,
    "start_time": "2021-07-07T18:14:01.787Z"
   },
   {
    "duration": 15,
    "start_time": "2021-07-07T18:14:01.803Z"
   },
   {
    "duration": 12,
    "start_time": "2021-07-07T18:14:01.820Z"
   },
   {
    "duration": 35,
    "start_time": "2021-07-07T18:14:01.833Z"
   },
   {
    "duration": 31,
    "start_time": "2021-07-07T18:14:01.869Z"
   },
   {
    "duration": 37,
    "start_time": "2021-07-07T18:14:01.902Z"
   },
   {
    "duration": 8,
    "start_time": "2021-07-07T18:14:01.942Z"
   },
   {
    "duration": 16,
    "start_time": "2021-07-07T18:14:01.952Z"
   },
   {
    "duration": 13,
    "start_time": "2021-07-07T18:14:01.970Z"
   },
   {
    "duration": 32,
    "start_time": "2021-07-07T18:14:01.985Z"
   },
   {
    "duration": 11,
    "start_time": "2021-07-07T18:14:02.019Z"
   },
   {
    "duration": 22,
    "start_time": "2021-07-07T18:14:02.031Z"
   },
   {
    "duration": 27,
    "start_time": "2021-07-07T18:14:02.055Z"
   },
   {
    "duration": 18,
    "start_time": "2021-07-07T18:14:02.084Z"
   },
   {
    "duration": 18,
    "start_time": "2021-07-07T18:14:02.106Z"
   },
   {
    "duration": 11,
    "start_time": "2021-07-07T18:14:02.126Z"
   },
   {
    "duration": 21,
    "start_time": "2021-07-07T18:14:02.138Z"
   },
   {
    "duration": 32,
    "start_time": "2021-07-07T18:14:02.161Z"
   },
   {
    "duration": 28,
    "start_time": "2021-07-07T18:14:44.295Z"
   },
   {
    "duration": 6,
    "start_time": "2021-07-07T18:15:05.834Z"
   },
   {
    "duration": 511,
    "start_time": "2021-07-07T18:15:41.541Z"
   },
   {
    "duration": 183,
    "start_time": "2021-07-07T18:15:42.054Z"
   },
   {
    "duration": 50,
    "start_time": "2021-07-07T18:15:42.239Z"
   },
   {
    "duration": 5,
    "start_time": "2021-07-07T18:15:42.291Z"
   },
   {
    "duration": 48,
    "start_time": "2021-07-07T18:15:42.297Z"
   },
   {
    "duration": 8,
    "start_time": "2021-07-07T18:15:42.346Z"
   },
   {
    "duration": 17,
    "start_time": "2021-07-07T18:15:42.356Z"
   },
   {
    "duration": 15,
    "start_time": "2021-07-07T18:15:42.375Z"
   },
   {
    "duration": 12,
    "start_time": "2021-07-07T18:15:42.392Z"
   },
   {
    "duration": 7,
    "start_time": "2021-07-07T18:15:42.406Z"
   },
   {
    "duration": 7,
    "start_time": "2021-07-07T18:15:42.415Z"
   },
   {
    "duration": 29,
    "start_time": "2021-07-07T18:15:42.423Z"
   },
   {
    "duration": 43,
    "start_time": "2021-07-07T18:15:42.453Z"
   },
   {
    "duration": 18,
    "start_time": "2021-07-07T18:15:42.497Z"
   },
   {
    "duration": 6,
    "start_time": "2021-07-07T18:15:42.516Z"
   },
   {
    "duration": 3,
    "start_time": "2021-07-07T18:15:42.523Z"
   },
   {
    "duration": 18,
    "start_time": "2021-07-07T18:15:42.528Z"
   },
   {
    "duration": 10,
    "start_time": "2021-07-07T18:15:42.547Z"
   },
   {
    "duration": 36,
    "start_time": "2021-07-07T18:15:42.559Z"
   },
   {
    "duration": 8,
    "start_time": "2021-07-07T18:15:42.597Z"
   },
   {
    "duration": 28,
    "start_time": "2021-07-07T18:15:42.606Z"
   },
   {
    "duration": 52,
    "start_time": "2021-07-07T18:15:42.635Z"
   },
   {
    "duration": 7,
    "start_time": "2021-07-07T18:15:42.690Z"
   },
   {
    "duration": 10,
    "start_time": "2021-07-07T18:15:42.699Z"
   },
   {
    "duration": 19,
    "start_time": "2021-07-07T18:15:42.711Z"
   },
   {
    "duration": 9,
    "start_time": "2021-07-07T18:15:42.732Z"
   },
   {
    "duration": 5,
    "start_time": "2021-07-07T18:15:42.743Z"
   },
   {
    "duration": 1450,
    "start_time": "2021-07-07T18:15:51.984Z"
   },
   {
    "duration": 161,
    "start_time": "2021-07-07T18:15:53.435Z"
   },
   {
    "duration": 124,
    "start_time": "2021-07-07T18:15:53.598Z"
   },
   {
    "duration": 5,
    "start_time": "2021-07-07T18:15:53.724Z"
   },
   {
    "duration": 34,
    "start_time": "2021-07-07T18:15:53.730Z"
   },
   {
    "duration": 7,
    "start_time": "2021-07-07T18:15:53.765Z"
   },
   {
    "duration": 15,
    "start_time": "2021-07-07T18:15:53.773Z"
   },
   {
    "duration": 5,
    "start_time": "2021-07-07T18:15:53.791Z"
   },
   {
    "duration": 19,
    "start_time": "2021-07-07T18:15:53.798Z"
   },
   {
    "duration": 9,
    "start_time": "2021-07-07T18:15:53.818Z"
   },
   {
    "duration": 19,
    "start_time": "2021-07-07T18:15:53.828Z"
   },
   {
    "duration": 27,
    "start_time": "2021-07-07T18:15:53.848Z"
   },
   {
    "duration": 16,
    "start_time": "2021-07-07T18:15:53.884Z"
   },
   {
    "duration": 29,
    "start_time": "2021-07-07T18:15:53.901Z"
   },
   {
    "duration": 5,
    "start_time": "2021-07-07T18:15:53.932Z"
   },
   {
    "duration": 15,
    "start_time": "2021-07-07T18:15:53.939Z"
   },
   {
    "duration": 13,
    "start_time": "2021-07-07T18:15:53.956Z"
   },
   {
    "duration": 20,
    "start_time": "2021-07-07T18:15:53.971Z"
   },
   {
    "duration": 14,
    "start_time": "2021-07-07T18:15:53.992Z"
   },
   {
    "duration": 9,
    "start_time": "2021-07-07T18:15:54.009Z"
   },
   {
    "duration": 28,
    "start_time": "2021-07-07T18:15:54.020Z"
   },
   {
    "duration": 50,
    "start_time": "2021-07-07T18:15:54.051Z"
   },
   {
    "duration": 8,
    "start_time": "2021-07-07T18:15:54.105Z"
   },
   {
    "duration": 11,
    "start_time": "2021-07-07T18:15:54.115Z"
   },
   {
    "duration": 20,
    "start_time": "2021-07-07T18:15:54.128Z"
   },
   {
    "duration": 13,
    "start_time": "2021-07-07T18:15:54.184Z"
   },
   {
    "duration": 7,
    "start_time": "2021-07-07T18:15:54.199Z"
   },
   {
    "duration": 7,
    "start_time": "2021-07-07T18:17:08.042Z"
   },
   {
    "duration": 8,
    "start_time": "2021-07-07T18:17:21.008Z"
   },
   {
    "duration": 7,
    "start_time": "2021-07-07T18:17:29.003Z"
   },
   {
    "duration": 8,
    "start_time": "2021-07-07T18:17:32.492Z"
   },
   {
    "duration": 9,
    "start_time": "2021-07-07T18:17:41.758Z"
   },
   {
    "duration": 255,
    "start_time": "2021-07-07T18:20:20.897Z"
   },
   {
    "duration": 173,
    "start_time": "2021-07-07T18:20:26.636Z"
   },
   {
    "duration": 7,
    "start_time": "2021-07-07T18:21:47.164Z"
   },
   {
    "duration": 254,
    "start_time": "2021-07-07T18:23:08.703Z"
   },
   {
    "duration": 21,
    "start_time": "2021-07-07T18:23:22.506Z"
   },
   {
    "duration": 315,
    "start_time": "2021-07-07T18:25:54.801Z"
   },
   {
    "duration": 34,
    "start_time": "2021-07-07T18:26:51.817Z"
   },
   {
    "duration": 327,
    "start_time": "2021-07-07T18:26:56.147Z"
   },
   {
    "duration": 342,
    "start_time": "2021-07-07T18:27:15.887Z"
   },
   {
    "duration": 302,
    "start_time": "2021-07-07T18:28:18.569Z"
   },
   {
    "duration": 226,
    "start_time": "2021-07-07T18:29:20.879Z"
   },
   {
    "duration": 207,
    "start_time": "2021-07-07T18:29:58.114Z"
   },
   {
    "duration": 140,
    "start_time": "2021-07-07T18:32:04.372Z"
   },
   {
    "duration": 158,
    "start_time": "2021-07-07T18:32:32.508Z"
   },
   {
    "duration": 145,
    "start_time": "2021-07-07T18:32:41.365Z"
   },
   {
    "duration": 132,
    "start_time": "2021-07-07T18:32:45.199Z"
   },
   {
    "duration": 11,
    "start_time": "2021-07-07T18:35:24.679Z"
   },
   {
    "duration": 268,
    "start_time": "2021-07-07T18:36:16.145Z"
   },
   {
    "duration": 227,
    "start_time": "2021-07-07T18:37:04.918Z"
   },
   {
    "duration": 3,
    "start_time": "2021-07-07T18:37:33.012Z"
   },
   {
    "duration": 671,
    "start_time": "2021-07-07T18:37:38.295Z"
   },
   {
    "duration": 54,
    "start_time": "2021-07-07T18:37:53.406Z"
   },
   {
    "duration": 631,
    "start_time": "2021-07-07T18:37:56.463Z"
   },
   {
    "duration": 19,
    "start_time": "2021-07-07T18:39:40.535Z"
   },
   {
    "duration": 20,
    "start_time": "2021-07-07T18:40:12.236Z"
   },
   {
    "duration": 633,
    "start_time": "2021-07-07T18:42:00.398Z"
   },
   {
    "duration": 218,
    "start_time": "2021-07-07T18:42:01.033Z"
   },
   {
    "duration": 49,
    "start_time": "2021-07-07T18:42:01.253Z"
   },
   {
    "duration": 5,
    "start_time": "2021-07-07T18:42:01.303Z"
   },
   {
    "duration": 27,
    "start_time": "2021-07-07T18:42:01.310Z"
   },
   {
    "duration": 8,
    "start_time": "2021-07-07T18:42:01.339Z"
   },
   {
    "duration": 20,
    "start_time": "2021-07-07T18:42:01.348Z"
   },
   {
    "duration": 6,
    "start_time": "2021-07-07T18:42:01.386Z"
   },
   {
    "duration": 16,
    "start_time": "2021-07-07T18:42:01.394Z"
   },
   {
    "duration": 9,
    "start_time": "2021-07-07T18:42:01.411Z"
   },
   {
    "duration": 11,
    "start_time": "2021-07-07T18:42:01.421Z"
   },
   {
    "duration": 31,
    "start_time": "2021-07-07T18:42:01.434Z"
   },
   {
    "duration": 18,
    "start_time": "2021-07-07T18:42:01.485Z"
   },
   {
    "duration": 23,
    "start_time": "2021-07-07T18:42:01.505Z"
   },
   {
    "duration": 6,
    "start_time": "2021-07-07T18:42:01.530Z"
   },
   {
    "duration": 10,
    "start_time": "2021-07-07T18:42:01.538Z"
   },
   {
    "duration": 13,
    "start_time": "2021-07-07T18:42:01.550Z"
   },
   {
    "duration": 24,
    "start_time": "2021-07-07T18:42:01.564Z"
   },
   {
    "duration": 20,
    "start_time": "2021-07-07T18:42:01.590Z"
   },
   {
    "duration": 8,
    "start_time": "2021-07-07T18:42:01.611Z"
   },
   {
    "duration": 31,
    "start_time": "2021-07-07T18:42:01.620Z"
   },
   {
    "duration": 39,
    "start_time": "2021-07-07T18:42:01.653Z"
   },
   {
    "duration": 8,
    "start_time": "2021-07-07T18:42:01.696Z"
   },
   {
    "duration": 13,
    "start_time": "2021-07-07T18:42:01.705Z"
   },
   {
    "duration": 20,
    "start_time": "2021-07-07T18:42:01.720Z"
   },
   {
    "duration": 12,
    "start_time": "2021-07-07T18:42:01.741Z"
   },
   {
    "duration": 35,
    "start_time": "2021-07-07T18:42:01.755Z"
   },
   {
    "duration": 14,
    "start_time": "2021-07-07T18:42:01.792Z"
   },
   {
    "duration": 188,
    "start_time": "2021-07-07T18:42:01.808Z"
   },
   {
    "duration": 19,
    "start_time": "2021-07-07T18:42:01.998Z"
   },
   {
    "duration": 175,
    "start_time": "2021-07-07T18:42:02.019Z"
   },
   {
    "duration": 134,
    "start_time": "2021-07-07T18:42:02.196Z"
   },
   {
    "duration": 10,
    "start_time": "2021-07-07T18:42:02.331Z"
   },
   {
    "duration": 19,
    "start_time": "2021-07-07T18:42:02.343Z"
   },
   {
    "duration": 628,
    "start_time": "2021-07-07T18:46:30.701Z"
   },
   {
    "duration": 183,
    "start_time": "2021-07-07T18:46:31.331Z"
   },
   {
    "duration": 48,
    "start_time": "2021-07-07T18:46:31.516Z"
   },
   {
    "duration": 5,
    "start_time": "2021-07-07T18:46:31.566Z"
   },
   {
    "duration": 28,
    "start_time": "2021-07-07T18:46:31.572Z"
   },
   {
    "duration": 8,
    "start_time": "2021-07-07T18:46:31.602Z"
   },
   {
    "duration": 19,
    "start_time": "2021-07-07T18:46:31.611Z"
   },
   {
    "duration": 6,
    "start_time": "2021-07-07T18:46:31.633Z"
   },
   {
    "duration": 17,
    "start_time": "2021-07-07T18:46:31.642Z"
   },
   {
    "duration": 10,
    "start_time": "2021-07-07T18:46:31.684Z"
   },
   {
    "duration": 9,
    "start_time": "2021-07-07T18:46:31.695Z"
   },
   {
    "duration": 28,
    "start_time": "2021-07-07T18:46:31.705Z"
   },
   {
    "duration": 18,
    "start_time": "2021-07-07T18:46:31.735Z"
   },
   {
    "duration": 48,
    "start_time": "2021-07-07T18:46:31.755Z"
   },
   {
    "duration": 6,
    "start_time": "2021-07-07T18:46:31.804Z"
   },
   {
    "duration": 4,
    "start_time": "2021-07-07T18:46:31.812Z"
   },
   {
    "duration": 9,
    "start_time": "2021-07-07T18:46:31.817Z"
   },
   {
    "duration": 10,
    "start_time": "2021-07-07T18:46:31.827Z"
   },
   {
    "duration": 12,
    "start_time": "2021-07-07T18:46:31.838Z"
   },
   {
    "duration": 39,
    "start_time": "2021-07-07T18:46:31.851Z"
   },
   {
    "duration": 24,
    "start_time": "2021-07-07T18:46:31.892Z"
   },
   {
    "duration": 15,
    "start_time": "2021-07-07T18:46:31.918Z"
   },
   {
    "duration": 7,
    "start_time": "2021-07-07T18:46:31.936Z"
   },
   {
    "duration": 8,
    "start_time": "2021-07-07T18:46:31.944Z"
   },
   {
    "duration": 19,
    "start_time": "2021-07-07T18:46:31.984Z"
   },
   {
    "duration": 10,
    "start_time": "2021-07-07T18:46:32.004Z"
   },
   {
    "duration": 5,
    "start_time": "2021-07-07T18:46:32.016Z"
   },
   {
    "duration": 9,
    "start_time": "2021-07-07T18:46:32.023Z"
   },
   {
    "duration": 199,
    "start_time": "2021-07-07T18:46:32.033Z"
   },
   {
    "duration": 19,
    "start_time": "2021-07-07T18:46:32.234Z"
   },
   {
    "duration": 159,
    "start_time": "2021-07-07T18:46:32.255Z"
   },
   {
    "duration": 134,
    "start_time": "2021-07-07T18:46:32.416Z"
   },
   {
    "duration": 10,
    "start_time": "2021-07-07T18:46:32.552Z"
   },
   {
    "duration": 34,
    "start_time": "2021-07-07T18:46:32.563Z"
   },
   {
    "duration": 1039,
    "start_time": "2021-07-08T08:41:09.419Z"
   },
   {
    "duration": 333,
    "start_time": "2021-07-08T08:41:10.459Z"
   },
   {
    "duration": 173,
    "start_time": "2021-07-08T08:41:10.794Z"
   },
   {
    "duration": 5,
    "start_time": "2021-07-08T08:41:10.968Z"
   },
   {
    "duration": 25,
    "start_time": "2021-07-08T08:41:10.975Z"
   },
   {
    "duration": 9,
    "start_time": "2021-07-08T08:41:11.002Z"
   },
   {
    "duration": 18,
    "start_time": "2021-07-08T08:41:11.013Z"
   },
   {
    "duration": 6,
    "start_time": "2021-07-08T08:41:11.033Z"
   },
   {
    "duration": 44,
    "start_time": "2021-07-08T08:41:11.042Z"
   },
   {
    "duration": 10,
    "start_time": "2021-07-08T08:41:11.088Z"
   },
   {
    "duration": 9,
    "start_time": "2021-07-08T08:41:11.100Z"
   },
   {
    "duration": 27,
    "start_time": "2021-07-08T08:41:11.111Z"
   },
   {
    "duration": 46,
    "start_time": "2021-07-08T08:41:11.140Z"
   },
   {
    "duration": 17,
    "start_time": "2021-07-08T08:41:11.187Z"
   },
   {
    "duration": 6,
    "start_time": "2021-07-08T08:41:11.206Z"
   },
   {
    "duration": 5,
    "start_time": "2021-07-08T08:41:11.213Z"
   },
   {
    "duration": 10,
    "start_time": "2021-07-08T08:41:11.219Z"
   },
   {
    "duration": 9,
    "start_time": "2021-07-08T08:41:11.230Z"
   },
   {
    "duration": 45,
    "start_time": "2021-07-08T08:41:11.241Z"
   },
   {
    "duration": 7,
    "start_time": "2021-07-08T08:41:11.287Z"
   },
   {
    "duration": 24,
    "start_time": "2021-07-08T08:41:11.296Z"
   },
   {
    "duration": 16,
    "start_time": "2021-07-08T08:41:11.322Z"
   },
   {
    "duration": 7,
    "start_time": "2021-07-08T08:41:11.341Z"
   },
   {
    "duration": 41,
    "start_time": "2021-07-08T08:41:11.349Z"
   },
   {
    "duration": 17,
    "start_time": "2021-07-08T08:41:11.391Z"
   },
   {
    "duration": 9,
    "start_time": "2021-07-08T08:41:11.410Z"
   },
   {
    "duration": 5,
    "start_time": "2021-07-08T08:41:11.421Z"
   },
   {
    "duration": 6,
    "start_time": "2021-07-08T08:41:11.428Z"
   },
   {
    "duration": 198,
    "start_time": "2021-07-08T08:41:11.435Z"
   },
   {
    "duration": 18,
    "start_time": "2021-07-08T08:41:11.635Z"
   },
   {
    "duration": 155,
    "start_time": "2021-07-08T08:41:11.655Z"
   },
   {
    "duration": 138,
    "start_time": "2021-07-08T08:41:11.811Z"
   },
   {
    "duration": 10,
    "start_time": "2021-07-08T08:41:11.950Z"
   },
   {
    "duration": 29,
    "start_time": "2021-07-08T08:41:11.961Z"
   },
   {
    "duration": 171,
    "start_time": "2021-07-08T08:47:44.522Z"
   },
   {
    "duration": 124,
    "start_time": "2021-07-08T08:47:46.872Z"
   },
   {
    "duration": 191,
    "start_time": "2021-07-08T08:47:58.148Z"
   },
   {
    "duration": 191,
    "start_time": "2021-07-08T08:48:07.412Z"
   },
   {
    "duration": 261,
    "start_time": "2021-07-08T08:48:10.385Z"
   },
   {
    "duration": 255,
    "start_time": "2021-07-08T08:48:14.494Z"
   },
   {
    "duration": 219,
    "start_time": "2021-07-08T08:48:22.752Z"
   },
   {
    "duration": 173,
    "start_time": "2021-07-08T08:49:06.395Z"
   },
   {
    "duration": 180,
    "start_time": "2021-07-08T08:49:21.011Z"
   },
   {
    "duration": 6,
    "start_time": "2021-07-08T08:50:31.697Z"
   },
   {
    "duration": 10,
    "start_time": "2021-07-08T08:50:47.394Z"
   },
   {
    "duration": 11,
    "start_time": "2021-07-08T08:53:49.332Z"
   },
   {
    "duration": 171,
    "start_time": "2021-07-08T08:54:28.408Z"
   },
   {
    "duration": 636,
    "start_time": "2021-07-08T09:02:48.385Z"
   },
   {
    "duration": 227,
    "start_time": "2021-07-08T09:02:49.023Z"
   },
   {
    "duration": 104,
    "start_time": "2021-07-08T09:02:49.252Z"
   },
   {
    "duration": 5,
    "start_time": "2021-07-08T09:02:49.358Z"
   },
   {
    "duration": 27,
    "start_time": "2021-07-08T09:02:49.365Z"
   },
   {
    "duration": 8,
    "start_time": "2021-07-08T09:02:49.394Z"
   },
   {
    "duration": 18,
    "start_time": "2021-07-08T09:02:49.404Z"
   },
   {
    "duration": 6,
    "start_time": "2021-07-08T09:02:49.424Z"
   },
   {
    "duration": 11,
    "start_time": "2021-07-08T09:02:49.433Z"
   },
   {
    "duration": 13,
    "start_time": "2021-07-08T09:02:49.485Z"
   },
   {
    "duration": 9,
    "start_time": "2021-07-08T09:02:49.500Z"
   },
   {
    "duration": 38,
    "start_time": "2021-07-08T09:02:49.511Z"
   },
   {
    "duration": 42,
    "start_time": "2021-07-08T09:02:49.551Z"
   },
   {
    "duration": 21,
    "start_time": "2021-07-08T09:02:49.594Z"
   },
   {
    "duration": 6,
    "start_time": "2021-07-08T09:02:49.616Z"
   },
   {
    "duration": 3,
    "start_time": "2021-07-08T09:02:49.623Z"
   },
   {
    "duration": 9,
    "start_time": "2021-07-08T09:02:49.628Z"
   },
   {
    "duration": 52,
    "start_time": "2021-07-08T09:02:49.638Z"
   },
   {
    "duration": 11,
    "start_time": "2021-07-08T09:02:49.692Z"
   },
   {
    "duration": 8,
    "start_time": "2021-07-08T09:02:49.704Z"
   },
   {
    "duration": 27,
    "start_time": "2021-07-08T09:02:49.713Z"
   },
   {
    "duration": 59,
    "start_time": "2021-07-08T09:02:49.741Z"
   },
   {
    "duration": 8,
    "start_time": "2021-07-08T09:02:49.803Z"
   },
   {
    "duration": 14,
    "start_time": "2021-07-08T09:02:49.813Z"
   },
   {
    "duration": 20,
    "start_time": "2021-07-08T09:02:49.829Z"
   },
   {
    "duration": 44,
    "start_time": "2021-07-08T09:02:49.851Z"
   },
   {
    "duration": 14,
    "start_time": "2021-07-08T09:02:49.896Z"
   },
   {
    "duration": 221,
    "start_time": "2021-07-08T09:02:49.912Z"
   },
   {
    "duration": 6,
    "start_time": "2021-07-08T09:02:50.134Z"
   },
   {
    "duration": 206,
    "start_time": "2021-07-08T09:02:50.142Z"
   },
   {
    "duration": 19,
    "start_time": "2021-07-08T09:02:50.350Z"
   },
   {
    "duration": 21,
    "start_time": "2021-07-08T09:02:50.370Z"
   },
   {
    "duration": 20,
    "start_time": "2021-07-08T09:02:50.393Z"
   },
   {
    "duration": 5,
    "start_time": "2021-07-08T09:02:50.414Z"
   },
   {
    "duration": 5,
    "start_time": "2021-07-08T09:03:34.173Z"
   },
   {
    "duration": 6,
    "start_time": "2021-07-08T09:04:49.062Z"
   },
   {
    "duration": 9,
    "start_time": "2021-07-08T09:04:50.118Z"
   },
   {
    "duration": 14,
    "start_time": "2021-07-08T09:04:58.512Z"
   },
   {
    "duration": 9,
    "start_time": "2021-07-08T09:05:10.988Z"
   },
   {
    "duration": 11,
    "start_time": "2021-07-08T09:05:11.743Z"
   },
   {
    "duration": 7,
    "start_time": "2021-07-08T09:05:25.677Z"
   },
   {
    "duration": 13,
    "start_time": "2021-07-08T09:05:47.189Z"
   },
   {
    "duration": 13,
    "start_time": "2021-07-08T09:05:54.755Z"
   },
   {
    "duration": 4,
    "start_time": "2021-07-08T09:06:29.189Z"
   },
   {
    "duration": 244,
    "start_time": "2021-07-08T09:06:29.195Z"
   },
   {
    "duration": 91,
    "start_time": "2021-07-08T09:06:29.441Z"
   },
   {
    "duration": 4,
    "start_time": "2021-07-08T09:06:29.534Z"
   },
   {
    "duration": 28,
    "start_time": "2021-07-08T09:06:29.540Z"
   },
   {
    "duration": 6,
    "start_time": "2021-07-08T09:06:29.570Z"
   },
   {
    "duration": 18,
    "start_time": "2021-07-08T09:06:29.578Z"
   },
   {
    "duration": 5,
    "start_time": "2021-07-08T09:06:29.597Z"
   },
   {
    "duration": 13,
    "start_time": "2021-07-08T09:06:29.605Z"
   },
   {
    "duration": 8,
    "start_time": "2021-07-08T09:06:29.620Z"
   },
   {
    "duration": 7,
    "start_time": "2021-07-08T09:06:29.630Z"
   },
   {
    "duration": 63,
    "start_time": "2021-07-08T09:06:29.639Z"
   },
   {
    "duration": 17,
    "start_time": "2021-07-08T09:06:29.704Z"
   },
   {
    "duration": 20,
    "start_time": "2021-07-08T09:06:29.723Z"
   },
   {
    "duration": 6,
    "start_time": "2021-07-08T09:06:29.745Z"
   },
   {
    "duration": 3,
    "start_time": "2021-07-08T09:06:29.752Z"
   },
   {
    "duration": 7,
    "start_time": "2021-07-08T09:06:29.785Z"
   },
   {
    "duration": 11,
    "start_time": "2021-07-08T09:06:29.794Z"
   },
   {
    "duration": 15,
    "start_time": "2021-07-08T09:06:29.807Z"
   },
   {
    "duration": 8,
    "start_time": "2021-07-08T09:06:29.823Z"
   },
   {
    "duration": 70,
    "start_time": "2021-07-08T09:06:29.832Z"
   },
   {
    "duration": 17,
    "start_time": "2021-07-08T09:06:29.903Z"
   },
   {
    "duration": 9,
    "start_time": "2021-07-08T09:06:29.921Z"
   },
   {
    "duration": 9,
    "start_time": "2021-07-08T09:06:29.932Z"
   },
   {
    "duration": 57,
    "start_time": "2021-07-08T09:06:29.942Z"
   },
   {
    "duration": 11,
    "start_time": "2021-07-08T09:06:30.001Z"
   },
   {
    "duration": 19,
    "start_time": "2021-07-08T09:06:30.016Z"
   },
   {
    "duration": 217,
    "start_time": "2021-07-08T09:06:30.037Z"
   },
   {
    "duration": 6,
    "start_time": "2021-07-08T09:06:30.255Z"
   },
   {
    "duration": 205,
    "start_time": "2021-07-08T09:06:30.263Z"
   },
   {
    "duration": 27,
    "start_time": "2021-07-08T09:06:30.470Z"
   },
   {
    "duration": 11,
    "start_time": "2021-07-08T09:06:30.500Z"
   },
   {
    "duration": 31,
    "start_time": "2021-07-08T09:06:30.513Z"
   },
   {
    "duration": 18,
    "start_time": "2021-07-08T09:06:30.546Z"
   },
   {
    "duration": 11,
    "start_time": "2021-07-08T09:06:30.566Z"
   },
   {
    "duration": 19,
    "start_time": "2021-07-08T09:06:30.579Z"
   },
   {
    "duration": 20,
    "start_time": "2021-07-08T09:06:49.466Z"
   },
   {
    "duration": 9,
    "start_time": "2021-07-08T09:06:51.994Z"
   },
   {
    "duration": 20,
    "start_time": "2021-07-08T09:06:52.273Z"
   },
   {
    "duration": 246,
    "start_time": "2021-07-08T09:10:21.272Z"
   },
   {
    "duration": 84,
    "start_time": "2021-07-08T09:10:21.436Z"
   },
   {
    "duration": 7,
    "start_time": "2021-07-08T09:10:37.608Z"
   },
   {
    "duration": 189,
    "start_time": "2021-07-08T09:10:38.573Z"
   },
   {
    "duration": 185,
    "start_time": "2021-07-08T09:10:53.181Z"
   },
   {
    "duration": 11,
    "start_time": "2021-07-08T09:10:59.549Z"
   },
   {
    "duration": 42,
    "start_time": "2021-07-08T09:10:59.709Z"
   },
   {
    "duration": 12,
    "start_time": "2021-07-08T09:11:02.857Z"
   },
   {
    "duration": 28,
    "start_time": "2021-07-08T09:11:10.062Z"
   },
   {
    "duration": 249,
    "start_time": "2021-07-08T09:11:37.388Z"
   },
   {
    "duration": 232,
    "start_time": "2021-07-08T09:11:49.485Z"
   },
   {
    "duration": 453,
    "start_time": "2021-07-08T09:12:01.546Z"
   },
   {
    "duration": 440,
    "start_time": "2021-07-08T09:12:12.347Z"
   },
   {
    "duration": 213,
    "start_time": "2021-07-08T09:13:32.196Z"
   },
   {
    "duration": 172,
    "start_time": "2021-07-08T09:14:07.400Z"
   },
   {
    "duration": 185,
    "start_time": "2021-07-08T09:14:14.905Z"
   },
   {
    "duration": 209,
    "start_time": "2021-07-08T09:14:40.109Z"
   },
   {
    "duration": 201,
    "start_time": "2021-07-08T09:14:54.506Z"
   },
   {
    "duration": 622,
    "start_time": "2021-07-08T09:18:14.497Z"
   },
   {
    "duration": 220,
    "start_time": "2021-07-08T09:18:15.121Z"
   },
   {
    "duration": 79,
    "start_time": "2021-07-08T09:18:15.343Z"
   },
   {
    "duration": 4,
    "start_time": "2021-07-08T09:18:15.425Z"
   },
   {
    "duration": 24,
    "start_time": "2021-07-08T09:18:15.431Z"
   },
   {
    "duration": 8,
    "start_time": "2021-07-08T09:18:15.457Z"
   },
   {
    "duration": 16,
    "start_time": "2021-07-08T09:18:15.466Z"
   },
   {
    "duration": 5,
    "start_time": "2021-07-08T09:18:15.484Z"
   },
   {
    "duration": 10,
    "start_time": "2021-07-08T09:18:15.493Z"
   },
   {
    "duration": 8,
    "start_time": "2021-07-08T09:18:15.504Z"
   },
   {
    "duration": 7,
    "start_time": "2021-07-08T09:18:15.513Z"
   },
   {
    "duration": 26,
    "start_time": "2021-07-08T09:18:15.522Z"
   },
   {
    "duration": 49,
    "start_time": "2021-07-08T09:18:15.550Z"
   },
   {
    "duration": 21,
    "start_time": "2021-07-08T09:18:15.601Z"
   },
   {
    "duration": 8,
    "start_time": "2021-07-08T09:18:15.624Z"
   },
   {
    "duration": 3,
    "start_time": "2021-07-08T09:18:15.634Z"
   },
   {
    "duration": 8,
    "start_time": "2021-07-08T09:18:15.639Z"
   },
   {
    "duration": 45,
    "start_time": "2021-07-08T09:18:15.649Z"
   },
   {
    "duration": 13,
    "start_time": "2021-07-08T09:18:15.696Z"
   },
   {
    "duration": 10,
    "start_time": "2021-07-08T09:18:15.711Z"
   },
   {
    "duration": 64,
    "start_time": "2021-07-08T09:18:15.722Z"
   },
   {
    "duration": 19,
    "start_time": "2021-07-08T09:18:15.788Z"
   },
   {
    "duration": 9,
    "start_time": "2021-07-08T09:18:15.809Z"
   },
   {
    "duration": 9,
    "start_time": "2021-07-08T09:18:15.820Z"
   },
   {
    "duration": 18,
    "start_time": "2021-07-08T09:18:15.831Z"
   },
   {
    "duration": 43,
    "start_time": "2021-07-08T09:18:15.851Z"
   },
   {
    "duration": 12,
    "start_time": "2021-07-08T09:18:15.897Z"
   },
   {
    "duration": 219,
    "start_time": "2021-07-08T09:18:15.911Z"
   },
   {
    "duration": 8,
    "start_time": "2021-07-08T09:18:16.132Z"
   },
   {
    "duration": 199,
    "start_time": "2021-07-08T09:18:16.141Z"
   },
   {
    "duration": 18,
    "start_time": "2021-07-08T09:18:16.341Z"
   },
   {
    "duration": 24,
    "start_time": "2021-07-08T09:18:16.361Z"
   },
   {
    "duration": 24,
    "start_time": "2021-07-08T09:18:16.387Z"
   },
   {
    "duration": 211,
    "start_time": "2021-07-08T09:18:16.413Z"
   },
   {
    "duration": 18,
    "start_time": "2021-07-08T09:18:16.626Z"
   },
   {
    "duration": 596,
    "start_time": "2021-07-08T10:06:33.623Z"
   },
   {
    "duration": 181,
    "start_time": "2021-07-08T10:06:34.221Z"
   },
   {
    "duration": 176,
    "start_time": "2021-07-08T10:06:34.635Z"
   },
   {
    "duration": 239,
    "start_time": "2021-07-08T10:06:55.572Z"
   },
   {
    "duration": 6,
    "start_time": "2021-07-08T10:06:57.687Z"
   },
   {
    "duration": 4,
    "start_time": "2021-07-08T10:07:03.956Z"
   },
   {
    "duration": 4,
    "start_time": "2021-07-08T10:07:10.376Z"
   },
   {
    "duration": 4,
    "start_time": "2021-07-08T10:17:19.889Z"
   },
   {
    "duration": 3,
    "start_time": "2021-07-08T10:19:19.407Z"
   },
   {
    "duration": 197,
    "start_time": "2021-07-08T10:19:19.412Z"
   },
   {
    "duration": 127,
    "start_time": "2021-07-08T10:19:19.611Z"
   },
   {
    "duration": 4,
    "start_time": "2021-07-08T10:19:19.740Z"
   },
   {
    "duration": 27,
    "start_time": "2021-07-08T10:19:19.746Z"
   },
   {
    "duration": 7,
    "start_time": "2021-07-08T10:19:19.775Z"
   },
   {
    "duration": 30,
    "start_time": "2021-07-08T10:19:19.784Z"
   },
   {
    "duration": 7,
    "start_time": "2021-07-08T10:19:19.817Z"
   },
   {
    "duration": 26,
    "start_time": "2021-07-08T10:19:19.826Z"
   },
   {
    "duration": 18,
    "start_time": "2021-07-08T10:19:19.854Z"
   },
   {
    "duration": 14,
    "start_time": "2021-07-08T10:19:19.874Z"
   },
   {
    "duration": 48,
    "start_time": "2021-07-08T10:19:19.890Z"
   },
   {
    "duration": 17,
    "start_time": "2021-07-08T10:19:19.940Z"
   },
   {
    "duration": 38,
    "start_time": "2021-07-08T10:19:19.959Z"
   },
   {
    "duration": 8,
    "start_time": "2021-07-08T10:19:19.999Z"
   },
   {
    "duration": 15,
    "start_time": "2021-07-08T10:19:20.009Z"
   },
   {
    "duration": 22,
    "start_time": "2021-07-08T10:19:20.026Z"
   },
   {
    "duration": 10,
    "start_time": "2021-07-08T10:19:20.050Z"
   },
   {
    "duration": 10,
    "start_time": "2021-07-08T10:19:20.062Z"
   },
   {
    "duration": 20,
    "start_time": "2021-07-08T10:19:20.073Z"
   },
   {
    "duration": 29,
    "start_time": "2021-07-08T10:19:20.095Z"
   },
   {
    "duration": 17,
    "start_time": "2021-07-08T10:19:20.126Z"
   },
   {
    "duration": 40,
    "start_time": "2021-07-08T10:19:20.146Z"
   },
   {
    "duration": 15,
    "start_time": "2021-07-08T10:19:20.189Z"
   },
   {
    "duration": 19,
    "start_time": "2021-07-08T10:19:20.206Z"
   },
   {
    "duration": 10,
    "start_time": "2021-07-08T10:19:20.226Z"
   },
   {
    "duration": 11,
    "start_time": "2021-07-08T10:19:20.238Z"
   },
   {
    "duration": 297,
    "start_time": "2021-07-08T10:19:20.250Z"
   },
   {
    "duration": 6,
    "start_time": "2021-07-08T10:19:20.549Z"
   },
   {
    "duration": 191,
    "start_time": "2021-07-08T10:19:20.557Z"
   },
   {
    "duration": 19,
    "start_time": "2021-07-08T10:19:20.750Z"
   },
   {
    "duration": 20,
    "start_time": "2021-07-08T10:19:20.771Z"
   },
   {
    "duration": 15,
    "start_time": "2021-07-08T10:19:20.793Z"
   },
   {
    "duration": 222,
    "start_time": "2021-07-08T10:19:20.809Z"
   },
   {
    "duration": 20,
    "start_time": "2021-07-08T10:19:21.033Z"
   },
   {
    "duration": 27,
    "start_time": "2021-07-08T10:45:04.055Z"
   },
   {
    "duration": 8,
    "start_time": "2021-07-08T10:45:08.478Z"
   },
   {
    "duration": 8,
    "start_time": "2021-07-08T10:45:31.982Z"
   },
   {
    "duration": 10,
    "start_time": "2021-07-08T10:46:01.221Z"
   },
   {
    "duration": 17,
    "start_time": "2021-07-08T10:46:40.011Z"
   },
   {
    "duration": 193,
    "start_time": "2021-07-08T10:48:19.471Z"
   },
   {
    "duration": 225,
    "start_time": "2021-07-08T10:49:26.480Z"
   },
   {
    "duration": 204,
    "start_time": "2021-07-08T10:49:59.992Z"
   },
   {
    "duration": 435,
    "start_time": "2021-07-08T10:50:06.779Z"
   },
   {
    "duration": 199,
    "start_time": "2021-07-08T10:50:14.891Z"
   },
   {
    "duration": 204,
    "start_time": "2021-07-08T10:50:18.501Z"
   },
   {
    "duration": 244,
    "start_time": "2021-07-08T10:50:23.359Z"
   },
   {
    "duration": 192,
    "start_time": "2021-07-08T10:50:29.135Z"
   },
   {
    "duration": 218,
    "start_time": "2021-07-08T10:50:33.092Z"
   },
   {
    "duration": 207,
    "start_time": "2021-07-08T10:52:45.381Z"
   },
   {
    "duration": 5,
    "start_time": "2021-07-08T10:53:34.641Z"
   },
   {
    "duration": 196,
    "start_time": "2021-07-08T10:53:41.478Z"
   },
   {
    "duration": 43,
    "start_time": "2021-07-08T10:53:50.335Z"
   },
   {
    "duration": 32,
    "start_time": "2021-07-08T10:53:55.294Z"
   },
   {
    "duration": 55,
    "start_time": "2021-07-08T10:54:09.675Z"
   },
   {
    "duration": 16,
    "start_time": "2021-07-08T10:54:12.260Z"
   },
   {
    "duration": 15,
    "start_time": "2021-07-08T10:54:49.150Z"
   },
   {
    "duration": 20,
    "start_time": "2021-07-08T10:56:07.596Z"
   },
   {
    "duration": 16,
    "start_time": "2021-07-08T10:58:26.276Z"
   },
   {
    "duration": 22,
    "start_time": "2021-07-08T10:59:00.486Z"
   },
   {
    "duration": 18,
    "start_time": "2021-07-08T11:02:09.653Z"
   },
   {
    "duration": 10,
    "start_time": "2021-07-08T11:03:44.331Z"
   },
   {
    "duration": 10,
    "start_time": "2021-07-08T11:03:54.055Z"
   },
   {
    "duration": 12,
    "start_time": "2021-07-08T11:04:41.967Z"
   },
   {
    "duration": 24,
    "start_time": "2021-07-08T11:07:30.732Z"
   },
   {
    "duration": 6,
    "start_time": "2021-07-08T11:07:37.364Z"
   },
   {
    "duration": 16,
    "start_time": "2021-07-08T11:08:01.819Z"
   },
   {
    "duration": 17,
    "start_time": "2021-07-08T11:09:47.488Z"
   },
   {
    "duration": 246,
    "start_time": "2021-07-08T11:10:00.830Z"
   },
   {
    "duration": 18,
    "start_time": "2021-07-08T11:13:55.195Z"
   },
   {
    "duration": 204,
    "start_time": "2021-07-08T11:14:04.951Z"
   },
   {
    "duration": 19,
    "start_time": "2021-07-08T11:15:10.613Z"
   },
   {
    "duration": 680,
    "start_time": "2021-07-08T11:16:25.793Z"
   },
   {
    "duration": 451,
    "start_time": "2021-07-08T11:16:40.313Z"
   },
   {
    "duration": 469,
    "start_time": "2021-07-08T11:17:21.286Z"
   },
   {
    "duration": 20,
    "start_time": "2021-07-08T11:19:12.554Z"
   },
   {
    "duration": 35,
    "start_time": "2021-07-08T11:20:05.484Z"
   },
   {
    "duration": 53,
    "start_time": "2021-07-08T11:21:40.050Z"
   },
   {
    "duration": 13,
    "start_time": "2021-07-08T11:22:26.059Z"
   },
   {
    "duration": 19,
    "start_time": "2021-07-08T11:22:47.419Z"
   },
   {
    "duration": 25,
    "start_time": "2021-07-08T11:23:19.958Z"
   },
   {
    "duration": 29,
    "start_time": "2021-07-08T11:23:25.415Z"
   },
   {
    "duration": 10,
    "start_time": "2021-07-08T11:24:45.138Z"
   },
   {
    "duration": 19,
    "start_time": "2021-07-08T11:24:54.498Z"
   },
   {
    "duration": 12,
    "start_time": "2021-07-08T11:25:32.225Z"
   },
   {
    "duration": 19,
    "start_time": "2021-07-08T11:25:37.092Z"
   },
   {
    "duration": 17,
    "start_time": "2021-07-08T11:25:58.116Z"
   },
   {
    "duration": 15,
    "start_time": "2021-07-08T11:26:02.258Z"
   },
   {
    "duration": 8,
    "start_time": "2021-07-08T11:26:59.682Z"
   },
   {
    "duration": 184,
    "start_time": "2021-07-08T11:27:21.894Z"
   },
   {
    "duration": 8,
    "start_time": "2021-07-08T11:27:23.824Z"
   },
   {
    "duration": 202,
    "start_time": "2021-07-08T11:27:23.962Z"
   },
   {
    "duration": 360,
    "start_time": "2021-07-08T11:28:33.215Z"
   },
   {
    "duration": 231,
    "start_time": "2021-07-08T11:32:05.542Z"
   },
   {
    "duration": 607,
    "start_time": "2021-07-08T11:36:27.854Z"
   },
   {
    "duration": 241,
    "start_time": "2021-07-08T11:36:28.463Z"
   },
   {
    "duration": 67,
    "start_time": "2021-07-08T11:36:28.709Z"
   },
   {
    "duration": 5,
    "start_time": "2021-07-08T11:36:28.778Z"
   },
   {
    "duration": 32,
    "start_time": "2021-07-08T11:36:28.784Z"
   },
   {
    "duration": 11,
    "start_time": "2021-07-08T11:36:28.819Z"
   },
   {
    "duration": 20,
    "start_time": "2021-07-08T11:36:28.834Z"
   },
   {
    "duration": 36,
    "start_time": "2021-07-08T11:36:28.857Z"
   },
   {
    "duration": 16,
    "start_time": "2021-07-08T11:36:28.895Z"
   },
   {
    "duration": 14,
    "start_time": "2021-07-08T11:36:28.913Z"
   },
   {
    "duration": 9,
    "start_time": "2021-07-08T11:36:28.930Z"
   },
   {
    "duration": 55,
    "start_time": "2021-07-08T11:36:28.941Z"
   },
   {
    "duration": 27,
    "start_time": "2021-07-08T11:36:28.999Z"
   },
   {
    "duration": 30,
    "start_time": "2021-07-08T11:36:29.028Z"
   },
   {
    "duration": 31,
    "start_time": "2021-07-08T11:36:29.060Z"
   },
   {
    "duration": 3,
    "start_time": "2021-07-08T11:36:29.093Z"
   },
   {
    "duration": 12,
    "start_time": "2021-07-08T11:36:29.099Z"
   },
   {
    "duration": 11,
    "start_time": "2021-07-08T11:36:29.112Z"
   },
   {
    "duration": 12,
    "start_time": "2021-07-08T11:36:29.125Z"
   },
   {
    "duration": 9,
    "start_time": "2021-07-08T11:36:29.139Z"
   },
   {
    "duration": 31,
    "start_time": "2021-07-08T11:36:29.191Z"
   },
   {
    "duration": 17,
    "start_time": "2021-07-08T11:36:29.226Z"
   },
   {
    "duration": 7,
    "start_time": "2021-07-08T11:36:29.245Z"
   },
   {
    "duration": 10,
    "start_time": "2021-07-08T11:36:29.254Z"
   },
   {
    "duration": 30,
    "start_time": "2021-07-08T11:36:29.292Z"
   },
   {
    "duration": 11,
    "start_time": "2021-07-08T11:36:29.324Z"
   },
   {
    "duration": 11,
    "start_time": "2021-07-08T11:36:29.337Z"
   },
   {
    "duration": 230,
    "start_time": "2021-07-08T11:36:29.349Z"
   },
   {
    "duration": 13,
    "start_time": "2021-07-08T11:36:29.588Z"
   },
   {
    "duration": 205,
    "start_time": "2021-07-08T11:36:29.603Z"
   },
   {
    "duration": 20,
    "start_time": "2021-07-08T11:36:29.810Z"
   },
   {
    "duration": 9,
    "start_time": "2021-07-08T11:36:29.832Z"
   },
   {
    "duration": 16,
    "start_time": "2021-07-08T11:36:29.843Z"
   },
   {
    "duration": 283,
    "start_time": "2021-07-08T11:36:29.861Z"
   },
   {
    "duration": 50,
    "start_time": "2021-07-08T11:36:30.146Z"
   },
   {
    "duration": 14,
    "start_time": "2021-07-08T11:36:30.198Z"
   },
   {
    "duration": 11,
    "start_time": "2021-07-08T11:36:30.214Z"
   },
   {
    "duration": 245,
    "start_time": "2021-07-08T11:36:30.227Z"
   },
   {
    "duration": 439,
    "start_time": "2021-07-08T11:36:30.474Z"
   },
   {
    "duration": 210,
    "start_time": "2021-07-08T11:36:30.915Z"
   },
   {
    "duration": 15,
    "start_time": "2021-07-08T11:36:31.127Z"
   },
   {
    "duration": 17,
    "start_time": "2021-07-08T11:38:20.451Z"
   },
   {
    "duration": 642,
    "start_time": "2021-07-08T11:46:17.881Z"
   },
   {
    "duration": 210,
    "start_time": "2021-07-08T11:46:18.525Z"
   },
   {
    "duration": 104,
    "start_time": "2021-07-08T11:46:18.741Z"
   },
   {
    "duration": 8,
    "start_time": "2021-07-08T11:46:18.847Z"
   },
   {
    "duration": 25,
    "start_time": "2021-07-08T11:46:18.857Z"
   },
   {
    "duration": 14,
    "start_time": "2021-07-08T11:46:18.884Z"
   },
   {
    "duration": 22,
    "start_time": "2021-07-08T11:46:18.900Z"
   },
   {
    "duration": 5,
    "start_time": "2021-07-08T11:46:18.924Z"
   },
   {
    "duration": 13,
    "start_time": "2021-07-08T11:46:18.931Z"
   },
   {
    "duration": 45,
    "start_time": "2021-07-08T11:46:18.946Z"
   },
   {
    "duration": 12,
    "start_time": "2021-07-08T11:46:18.993Z"
   },
   {
    "duration": 38,
    "start_time": "2021-07-08T11:46:19.006Z"
   },
   {
    "duration": 50,
    "start_time": "2021-07-08T11:46:19.046Z"
   },
   {
    "duration": 29,
    "start_time": "2021-07-08T11:46:19.099Z"
   },
   {
    "duration": 7,
    "start_time": "2021-07-08T11:46:19.130Z"
   },
   {
    "duration": 3,
    "start_time": "2021-07-08T11:46:19.139Z"
   },
   {
    "duration": 11,
    "start_time": "2021-07-08T11:46:19.144Z"
   },
   {
    "duration": 40,
    "start_time": "2021-07-08T11:46:19.157Z"
   },
   {
    "duration": 15,
    "start_time": "2021-07-08T11:46:19.199Z"
   },
   {
    "duration": 10,
    "start_time": "2021-07-08T11:46:19.217Z"
   },
   {
    "duration": 68,
    "start_time": "2021-07-08T11:46:19.230Z"
   },
   {
    "duration": 17,
    "start_time": "2021-07-08T11:46:19.301Z"
   },
   {
    "duration": 7,
    "start_time": "2021-07-08T11:46:19.321Z"
   },
   {
    "duration": 11,
    "start_time": "2021-07-08T11:46:19.330Z"
   },
   {
    "duration": 59,
    "start_time": "2021-07-08T11:46:19.343Z"
   },
   {
    "duration": 17,
    "start_time": "2021-07-08T11:46:19.405Z"
   },
   {
    "duration": 16,
    "start_time": "2021-07-08T11:46:19.424Z"
   },
   {
    "duration": 252,
    "start_time": "2021-07-08T11:46:19.443Z"
   },
   {
    "duration": 9,
    "start_time": "2021-07-08T11:46:19.697Z"
   },
   {
    "duration": 224,
    "start_time": "2021-07-08T11:46:19.708Z"
   },
   {
    "duration": 21,
    "start_time": "2021-07-08T11:46:19.934Z"
   },
   {
    "duration": 9,
    "start_time": "2021-07-08T11:46:19.956Z"
   },
   {
    "duration": 32,
    "start_time": "2021-07-08T11:46:19.967Z"
   },
   {
    "duration": 288,
    "start_time": "2021-07-08T11:46:20.004Z"
   },
   {
    "duration": 23,
    "start_time": "2021-07-08T11:46:20.300Z"
   },
   {
    "duration": 11,
    "start_time": "2021-07-08T11:46:20.325Z"
   },
   {
    "duration": 11,
    "start_time": "2021-07-08T11:46:20.339Z"
   },
   {
    "duration": 259,
    "start_time": "2021-07-08T11:46:20.352Z"
   },
   {
    "duration": 438,
    "start_time": "2021-07-08T11:46:20.613Z"
   },
   {
    "duration": 207,
    "start_time": "2021-07-08T11:46:21.054Z"
   },
   {
    "duration": 27,
    "start_time": "2021-07-08T11:46:21.262Z"
   },
   {
    "duration": 19,
    "start_time": "2021-07-08T11:46:21.291Z"
   },
   {
    "duration": 820,
    "start_time": "2021-07-08T11:49:01.655Z"
   },
   {
    "duration": 372,
    "start_time": "2021-07-08T11:49:02.478Z"
   },
   {
    "duration": 98,
    "start_time": "2021-07-08T11:49:02.853Z"
   },
   {
    "duration": 6,
    "start_time": "2021-07-08T11:49:02.953Z"
   },
   {
    "duration": 39,
    "start_time": "2021-07-08T11:49:02.960Z"
   },
   {
    "duration": 9,
    "start_time": "2021-07-08T11:49:03.003Z"
   },
   {
    "duration": 23,
    "start_time": "2021-07-08T11:49:03.014Z"
   },
   {
    "duration": 6,
    "start_time": "2021-07-08T11:49:03.041Z"
   },
   {
    "duration": 20,
    "start_time": "2021-07-08T11:49:03.049Z"
   },
   {
    "duration": 18,
    "start_time": "2021-07-08T11:49:03.084Z"
   },
   {
    "duration": 14,
    "start_time": "2021-07-08T11:49:03.104Z"
   },
   {
    "duration": 39,
    "start_time": "2021-07-08T11:49:03.119Z"
   },
   {
    "duration": 38,
    "start_time": "2021-07-08T11:49:03.160Z"
   },
   {
    "duration": 26,
    "start_time": "2021-07-08T11:49:03.200Z"
   },
   {
    "duration": 7,
    "start_time": "2021-07-08T11:49:03.227Z"
   },
   {
    "duration": 4,
    "start_time": "2021-07-08T11:49:03.236Z"
   },
   {
    "duration": 15,
    "start_time": "2021-07-08T11:49:03.243Z"
   },
   {
    "duration": 21,
    "start_time": "2021-07-08T11:49:03.285Z"
   },
   {
    "duration": 17,
    "start_time": "2021-07-08T11:49:03.309Z"
   },
   {
    "duration": 10,
    "start_time": "2021-07-08T11:49:03.328Z"
   },
   {
    "duration": 65,
    "start_time": "2021-07-08T11:49:03.340Z"
   },
   {
    "duration": 18,
    "start_time": "2021-07-08T11:49:03.407Z"
   },
   {
    "duration": 8,
    "start_time": "2021-07-08T11:49:03.428Z"
   },
   {
    "duration": 15,
    "start_time": "2021-07-08T11:49:03.438Z"
   },
   {
    "duration": 40,
    "start_time": "2021-07-08T11:49:03.455Z"
   },
   {
    "duration": 12,
    "start_time": "2021-07-08T11:49:03.497Z"
   },
   {
    "duration": 29,
    "start_time": "2021-07-08T11:49:03.511Z"
   },
   {
    "duration": 285,
    "start_time": "2021-07-08T11:49:03.542Z"
   },
   {
    "duration": 8,
    "start_time": "2021-07-08T11:49:03.829Z"
   },
   {
    "duration": 227,
    "start_time": "2021-07-08T11:49:03.838Z"
   },
   {
    "duration": 40,
    "start_time": "2021-07-08T11:49:04.066Z"
   },
   {
    "duration": 10,
    "start_time": "2021-07-08T11:49:04.108Z"
   },
   {
    "duration": 26,
    "start_time": "2021-07-08T11:49:04.121Z"
   },
   {
    "duration": 290,
    "start_time": "2021-07-08T11:49:04.149Z"
   },
   {
    "duration": 26,
    "start_time": "2021-07-08T11:49:04.441Z"
   },
   {
    "duration": 31,
    "start_time": "2021-07-08T11:49:04.470Z"
   },
   {
    "duration": 14,
    "start_time": "2021-07-08T11:49:04.503Z"
   },
   {
    "duration": 259,
    "start_time": "2021-07-08T11:49:04.521Z"
   },
   {
    "duration": 480,
    "start_time": "2021-07-08T11:49:04.782Z"
   },
   {
    "duration": 225,
    "start_time": "2021-07-08T11:49:05.264Z"
   },
   {
    "duration": 22,
    "start_time": "2021-07-08T11:49:05.491Z"
   },
   {
    "duration": 24,
    "start_time": "2021-07-08T11:49:05.515Z"
   },
   {
    "duration": 634,
    "start_time": "2021-07-08T11:52:24.960Z"
   },
   {
    "duration": 199,
    "start_time": "2021-07-08T11:52:25.599Z"
   },
   {
    "duration": 106,
    "start_time": "2021-07-08T11:52:25.803Z"
   },
   {
    "duration": 7,
    "start_time": "2021-07-08T11:52:25.911Z"
   },
   {
    "duration": 29,
    "start_time": "2021-07-08T11:52:25.920Z"
   },
   {
    "duration": 7,
    "start_time": "2021-07-08T11:52:25.951Z"
   },
   {
    "duration": 26,
    "start_time": "2021-07-08T11:52:25.961Z"
   },
   {
    "duration": 11,
    "start_time": "2021-07-08T11:52:25.990Z"
   },
   {
    "duration": 29,
    "start_time": "2021-07-08T11:52:26.005Z"
   },
   {
    "duration": 9,
    "start_time": "2021-07-08T11:52:26.036Z"
   },
   {
    "duration": 8,
    "start_time": "2021-07-08T11:52:26.047Z"
   },
   {
    "duration": 63,
    "start_time": "2021-07-08T11:52:26.057Z"
   },
   {
    "duration": 17,
    "start_time": "2021-07-08T11:52:26.122Z"
   },
   {
    "duration": 43,
    "start_time": "2021-07-08T11:52:26.142Z"
   },
   {
    "duration": 17,
    "start_time": "2021-07-08T11:52:26.187Z"
   },
   {
    "duration": 5,
    "start_time": "2021-07-08T11:52:26.206Z"
   },
   {
    "duration": 12,
    "start_time": "2021-07-08T11:52:26.212Z"
   },
   {
    "duration": 11,
    "start_time": "2021-07-08T11:52:26.226Z"
   },
   {
    "duration": 12,
    "start_time": "2021-07-08T11:52:26.238Z"
   },
   {
    "duration": 38,
    "start_time": "2021-07-08T11:52:26.252Z"
   },
   {
    "duration": 40,
    "start_time": "2021-07-08T11:52:26.292Z"
   },
   {
    "duration": 17,
    "start_time": "2021-07-08T11:52:26.336Z"
   },
   {
    "duration": 39,
    "start_time": "2021-07-08T11:52:26.355Z"
   },
   {
    "duration": 11,
    "start_time": "2021-07-08T11:52:26.395Z"
   },
   {
    "duration": 23,
    "start_time": "2021-07-08T11:52:26.408Z"
   },
   {
    "duration": 12,
    "start_time": "2021-07-08T11:52:26.432Z"
   },
   {
    "duration": 41,
    "start_time": "2021-07-08T11:52:26.446Z"
   },
   {
    "duration": 215,
    "start_time": "2021-07-08T11:52:26.493Z"
   },
   {
    "duration": 8,
    "start_time": "2021-07-08T11:52:26.710Z"
   },
   {
    "duration": 228,
    "start_time": "2021-07-08T11:52:26.720Z"
   },
   {
    "duration": 18,
    "start_time": "2021-07-08T11:52:26.950Z"
   },
   {
    "duration": 35,
    "start_time": "2021-07-08T11:52:26.969Z"
   },
   {
    "duration": 23,
    "start_time": "2021-07-08T11:52:27.006Z"
   },
   {
    "duration": 258,
    "start_time": "2021-07-08T11:52:27.030Z"
   },
   {
    "duration": 24,
    "start_time": "2021-07-08T11:52:27.290Z"
   },
   {
    "duration": 12,
    "start_time": "2021-07-08T11:52:27.316Z"
   },
   {
    "duration": 10,
    "start_time": "2021-07-08T11:52:27.329Z"
   },
   {
    "duration": 298,
    "start_time": "2021-07-08T11:52:27.341Z"
   },
   {
    "duration": 436,
    "start_time": "2021-07-08T11:52:27.641Z"
   },
   {
    "duration": 216,
    "start_time": "2021-07-08T11:52:28.079Z"
   },
   {
    "duration": 20,
    "start_time": "2021-07-08T11:52:28.297Z"
   },
   {
    "duration": 17,
    "start_time": "2021-07-08T11:52:28.319Z"
   },
   {
    "duration": 621,
    "start_time": "2024-04-24T06:13:06.450Z"
   },
   {
    "duration": 127,
    "start_time": "2024-04-24T06:13:18.089Z"
   },
   {
    "duration": 166,
    "start_time": "2024-04-24T06:15:57.077Z"
   },
   {
    "duration": 137,
    "start_time": "2024-04-24T06:17:42.225Z"
   },
   {
    "duration": 118,
    "start_time": "2024-04-24T06:37:14.982Z"
   },
   {
    "duration": 120,
    "start_time": "2024-04-24T06:38:27.282Z"
   },
   {
    "duration": 120,
    "start_time": "2024-04-24T06:38:38.465Z"
   },
   {
    "duration": 120,
    "start_time": "2024-04-24T06:46:40.476Z"
   },
   {
    "duration": 122,
    "start_time": "2024-04-24T06:47:00.901Z"
   },
   {
    "duration": 127,
    "start_time": "2024-04-24T06:53:02.990Z"
   },
   {
    "duration": 118,
    "start_time": "2024-04-24T06:53:27.069Z"
   },
   {
    "duration": 131,
    "start_time": "2024-04-24T06:53:35.413Z"
   },
   {
    "duration": 137,
    "start_time": "2024-04-24T06:54:47.861Z"
   },
   {
    "duration": 129,
    "start_time": "2024-04-24T06:55:32.693Z"
   },
   {
    "duration": 406,
    "start_time": "2024-04-24T06:56:23.452Z"
   },
   {
    "duration": 344,
    "start_time": "2024-04-24T06:57:21.234Z"
   },
   {
    "duration": 131,
    "start_time": "2024-04-24T06:57:49.106Z"
   },
   {
    "duration": 56,
    "start_time": "2024-04-24T06:58:04.073Z"
   },
   {
    "duration": 128,
    "start_time": "2024-04-24T06:58:06.543Z"
   },
   {
    "duration": 145,
    "start_time": "2024-04-24T06:58:20.561Z"
   },
   {
    "duration": 124,
    "start_time": "2024-04-24T06:58:47.832Z"
   },
   {
    "duration": 124,
    "start_time": "2024-04-24T06:58:59.272Z"
   },
   {
    "duration": 143,
    "start_time": "2024-04-24T06:59:18.848Z"
   },
   {
    "duration": 132,
    "start_time": "2024-04-24T06:59:31.527Z"
   },
   {
    "duration": 146,
    "start_time": "2024-04-24T06:59:48.398Z"
   },
   {
    "duration": 128,
    "start_time": "2024-04-24T07:00:14.734Z"
   },
   {
    "duration": 129,
    "start_time": "2024-04-24T07:00:21.005Z"
   },
   {
    "duration": 406,
    "start_time": "2024-04-24T07:00:57.317Z"
   },
   {
    "duration": 133,
    "start_time": "2024-04-24T17:46:48.640Z"
   },
   {
    "duration": 627,
    "start_time": "2024-04-24T17:47:11.197Z"
   },
   {
    "duration": 125,
    "start_time": "2024-04-25T16:06:32.545Z"
   },
   {
    "duration": 128,
    "start_time": "2024-04-25T16:06:54.971Z"
   },
   {
    "duration": 122,
    "start_time": "2024-04-25T16:06:59.008Z"
   },
   {
    "duration": 129,
    "start_time": "2024-04-25T16:07:06.950Z"
   },
   {
    "duration": 14,
    "start_time": "2024-04-25T16:07:19.945Z"
   },
   {
    "duration": 137,
    "start_time": "2024-04-25T16:09:18.187Z"
   },
   {
    "duration": 4,
    "start_time": "2024-04-25T16:12:34.098Z"
   },
   {
    "duration": 48,
    "start_time": "2024-04-25T16:13:03.653Z"
   },
   {
    "duration": 28,
    "start_time": "2024-04-25T16:13:05.337Z"
   },
   {
    "duration": 7,
    "start_time": "2024-04-25T16:13:58.247Z"
   },
   {
    "duration": 25,
    "start_time": "2024-04-25T16:14:14.608Z"
   },
   {
    "duration": 65,
    "start_time": "2024-04-25T16:16:15.662Z"
   },
   {
    "duration": 29,
    "start_time": "2024-04-25T16:16:21.208Z"
   },
   {
    "duration": 26,
    "start_time": "2024-04-25T16:16:24.908Z"
   },
   {
    "duration": 27,
    "start_time": "2024-04-25T16:17:24.933Z"
   },
   {
    "duration": 26,
    "start_time": "2024-04-25T16:18:36.011Z"
   },
   {
    "duration": 13,
    "start_time": "2024-04-25T16:21:04.346Z"
   },
   {
    "duration": 6,
    "start_time": "2024-04-25T16:21:12.996Z"
   },
   {
    "duration": 7,
    "start_time": "2024-04-25T16:21:25.998Z"
   },
   {
    "duration": 132,
    "start_time": "2024-04-25T16:21:29.861Z"
   },
   {
    "duration": 541,
    "start_time": "2024-04-25T16:21:32.971Z"
   },
   {
    "duration": 23,
    "start_time": "2024-04-25T16:21:33.513Z"
   },
   {
    "duration": 420,
    "start_time": "2024-04-25T16:21:33.537Z"
   },
   {
    "duration": 331,
    "start_time": "2024-04-25T16:22:03.041Z"
   },
   {
    "duration": 27,
    "start_time": "2024-04-25T16:22:25.730Z"
   },
   {
    "duration": 26,
    "start_time": "2024-04-25T16:22:47.475Z"
   },
   {
    "duration": 26,
    "start_time": "2024-04-25T16:22:58.672Z"
   },
   {
    "duration": 6,
    "start_time": "2024-04-25T16:25:07.611Z"
   },
   {
    "duration": 524,
    "start_time": "2024-04-25T16:25:15.267Z"
   },
   {
    "duration": 21,
    "start_time": "2024-04-25T16:25:15.793Z"
   },
   {
    "duration": 58,
    "start_time": "2024-04-25T16:25:15.815Z"
   },
   {
    "duration": 6,
    "start_time": "2024-04-25T16:25:32.330Z"
   },
   {
    "duration": 6,
    "start_time": "2024-04-25T16:25:44.167Z"
   },
   {
    "duration": 279,
    "start_time": "2024-04-25T16:27:17.272Z"
   },
   {
    "duration": 134,
    "start_time": "2024-04-25T16:30:46.790Z"
   },
   {
    "duration": 303,
    "start_time": "2024-04-25T16:30:56.818Z"
   },
   {
    "duration": 135,
    "start_time": "2024-04-25T16:31:12.934Z"
   },
   {
    "duration": 520,
    "start_time": "2024-04-25T16:31:18.475Z"
   },
   {
    "duration": 20,
    "start_time": "2024-04-25T16:31:18.997Z"
   },
   {
    "duration": 26,
    "start_time": "2024-04-25T16:31:19.018Z"
   },
   {
    "duration": 28,
    "start_time": "2024-04-25T16:49:59.186Z"
   },
   {
    "duration": 851,
    "start_time": "2024-04-30T10:54:12.777Z"
   },
   {
    "duration": 29,
    "start_time": "2024-04-30T10:54:13.630Z"
   },
   {
    "duration": 33,
    "start_time": "2024-04-30T10:54:13.660Z"
   },
   {
    "duration": 163,
    "start_time": "2024-04-30T10:55:54.039Z"
   },
   {
    "duration": 541,
    "start_time": "2024-04-30T10:56:00.012Z"
   },
   {
    "duration": 28,
    "start_time": "2024-04-30T10:56:00.555Z"
   },
   {
    "duration": 104,
    "start_time": "2024-04-30T10:56:00.585Z"
   },
   {
    "duration": 610,
    "start_time": "2024-04-30T10:57:09.656Z"
   },
   {
    "duration": 28,
    "start_time": "2024-04-30T10:57:10.268Z"
   },
   {
    "duration": 47,
    "start_time": "2024-04-30T10:57:10.298Z"
   },
   {
    "duration": 48,
    "start_time": "2024-04-30T11:00:53.072Z"
   },
   {
    "duration": 70,
    "start_time": "2024-04-30T11:01:14.881Z"
   },
   {
    "duration": 40,
    "start_time": "2024-04-30T11:01:21.581Z"
   },
   {
    "duration": 44,
    "start_time": "2024-04-30T11:02:36.283Z"
   },
   {
    "duration": 75,
    "start_time": "2024-04-30T11:02:47.481Z"
   },
   {
    "duration": 40,
    "start_time": "2024-04-30T11:12:33.222Z"
   },
   {
    "duration": 44,
    "start_time": "2024-04-30T11:14:36.419Z"
   },
   {
    "duration": 526,
    "start_time": "2024-04-30T11:14:41.121Z"
   },
   {
    "duration": 28,
    "start_time": "2024-04-30T11:14:41.649Z"
   },
   {
    "duration": 38,
    "start_time": "2024-04-30T11:14:41.678Z"
   },
   {
    "duration": 38,
    "start_time": "2024-04-30T11:15:09.600Z"
   },
   {
    "duration": 109,
    "start_time": "2024-04-30T11:22:27.663Z"
   },
   {
    "duration": 39,
    "start_time": "2024-04-30T11:23:09.680Z"
   },
   {
    "duration": 41,
    "start_time": "2024-04-30T11:23:40.910Z"
   },
   {
    "duration": 40,
    "start_time": "2024-04-30T11:23:47.290Z"
   },
   {
    "duration": 51,
    "start_time": "2024-04-30T11:24:06.245Z"
   },
   {
    "duration": 37,
    "start_time": "2024-04-30T11:24:21.272Z"
   },
   {
    "duration": 37,
    "start_time": "2024-04-30T11:24:33.543Z"
   },
   {
    "duration": 37,
    "start_time": "2024-04-30T11:24:37.065Z"
   },
   {
    "duration": 24,
    "start_time": "2024-04-30T11:25:24.016Z"
   },
   {
    "duration": 49,
    "start_time": "2024-04-30T11:25:39.872Z"
   },
   {
    "duration": 21,
    "start_time": "2024-04-30T11:26:15.912Z"
   },
   {
    "duration": 42,
    "start_time": "2024-04-30T11:26:33.230Z"
   },
   {
    "duration": 39,
    "start_time": "2024-04-30T11:26:43.639Z"
   },
   {
    "duration": 72,
    "start_time": "2024-04-30T11:28:16.781Z"
   },
   {
    "duration": 26,
    "start_time": "2024-04-30T11:28:23.097Z"
   },
   {
    "duration": 7,
    "start_time": "2024-04-30T11:30:07.897Z"
   },
   {
    "duration": 11,
    "start_time": "2024-04-30T11:30:16.299Z"
   },
   {
    "duration": 11,
    "start_time": "2024-04-30T11:31:20.249Z"
   },
   {
    "duration": 98,
    "start_time": "2024-04-30T11:33:20.427Z"
   },
   {
    "duration": 553,
    "start_time": "2024-04-30T11:33:27.831Z"
   },
   {
    "duration": 27,
    "start_time": "2024-04-30T11:33:28.386Z"
   },
   {
    "duration": 478,
    "start_time": "2024-04-30T11:33:28.415Z"
   },
   {
    "duration": 0,
    "start_time": "2024-04-30T11:33:28.895Z"
   },
   {
    "duration": 108,
    "start_time": "2024-04-30T11:33:39.492Z"
   },
   {
    "duration": 67,
    "start_time": "2024-04-30T11:34:01.996Z"
   },
   {
    "duration": 135,
    "start_time": "2024-04-30T11:34:13.933Z"
   },
   {
    "duration": 36,
    "start_time": "2024-04-30T11:34:22.524Z"
   },
   {
    "duration": 72,
    "start_time": "2024-04-30T11:34:32.908Z"
   },
   {
    "duration": 36,
    "start_time": "2024-04-30T11:34:39.884Z"
   },
   {
    "duration": 76,
    "start_time": "2024-04-30T11:34:43.678Z"
   },
   {
    "duration": 69,
    "start_time": "2024-04-30T11:34:56.817Z"
   },
   {
    "duration": 71,
    "start_time": "2024-04-30T11:35:01.218Z"
   },
   {
    "duration": 82,
    "start_time": "2024-04-30T11:35:10.467Z"
   },
   {
    "duration": 84,
    "start_time": "2024-04-30T11:35:14.137Z"
   },
   {
    "duration": 21,
    "start_time": "2024-04-30T11:35:27.121Z"
   },
   {
    "duration": 27,
    "start_time": "2024-04-30T11:35:39.784Z"
   },
   {
    "duration": 29,
    "start_time": "2024-04-30T11:35:49.890Z"
   },
   {
    "duration": 26,
    "start_time": "2024-04-30T11:35:57.588Z"
   },
   {
    "duration": 22,
    "start_time": "2024-04-30T11:36:01.484Z"
   },
   {
    "duration": 35,
    "start_time": "2024-04-30T11:36:24.446Z"
   },
   {
    "duration": 38,
    "start_time": "2024-04-30T11:36:38.676Z"
   },
   {
    "duration": 33,
    "start_time": "2024-04-30T11:36:42.916Z"
   },
   {
    "duration": 36,
    "start_time": "2024-04-30T11:37:14.011Z"
   },
   {
    "duration": 41,
    "start_time": "2024-04-30T11:38:21.515Z"
   },
   {
    "duration": 44,
    "start_time": "2024-04-30T11:38:24.717Z"
   },
   {
    "duration": 41,
    "start_time": "2024-04-30T11:38:32.929Z"
   },
   {
    "duration": 39,
    "start_time": "2024-04-30T11:38:39.654Z"
   },
   {
    "duration": 44,
    "start_time": "2024-04-30T11:42:27.239Z"
   },
   {
    "duration": 31,
    "start_time": "2024-04-30T11:42:34.341Z"
   },
   {
    "duration": 28,
    "start_time": "2024-04-30T11:42:42.226Z"
   },
   {
    "duration": 590,
    "start_time": "2024-04-30T11:43:16.349Z"
   },
   {
    "duration": 27,
    "start_time": "2024-04-30T11:43:16.941Z"
   },
   {
    "duration": 39,
    "start_time": "2024-04-30T11:43:16.969Z"
   },
   {
    "duration": 28,
    "start_time": "2024-04-30T11:43:17.010Z"
   },
   {
    "duration": 64,
    "start_time": "2024-04-30T11:43:40.509Z"
   },
   {
    "duration": 549,
    "start_time": "2024-04-30T11:43:47.303Z"
   },
   {
    "duration": 29,
    "start_time": "2024-04-30T11:43:47.853Z"
   },
   {
    "duration": 36,
    "start_time": "2024-04-30T11:43:47.883Z"
   },
   {
    "duration": 66,
    "start_time": "2024-04-30T11:43:47.921Z"
   },
   {
    "duration": 1315,
    "start_time": "2024-04-30T11:44:39.911Z"
   },
   {
    "duration": 567,
    "start_time": "2024-04-30T11:45:47.946Z"
   },
   {
    "duration": 26,
    "start_time": "2024-04-30T11:45:48.515Z"
   },
   {
    "duration": 49,
    "start_time": "2024-04-30T11:45:48.542Z"
   },
   {
    "duration": 574,
    "start_time": "2024-04-30T11:46:47.453Z"
   },
   {
    "duration": 25,
    "start_time": "2024-04-30T11:46:48.029Z"
   },
   {
    "duration": 34,
    "start_time": "2024-04-30T11:46:48.055Z"
   },
   {
    "duration": 937,
    "start_time": "2024-04-30T11:46:48.090Z"
   },
   {
    "duration": 883,
    "start_time": "2024-04-30T11:46:56.183Z"
   },
   {
    "duration": 37,
    "start_time": "2024-04-30T11:47:12.226Z"
   },
   {
    "duration": 530,
    "start_time": "2024-04-30T11:47:43.297Z"
   },
   {
    "duration": 25,
    "start_time": "2024-04-30T11:47:43.829Z"
   },
   {
    "duration": 33,
    "start_time": "2024-04-30T11:47:43.855Z"
   },
   {
    "duration": 27,
    "start_time": "2024-04-30T11:47:43.890Z"
   },
   {
    "duration": 28,
    "start_time": "2024-04-30T11:48:17.601Z"
   },
   {
    "duration": 32,
    "start_time": "2024-04-30T11:48:23.027Z"
   },
   {
    "duration": 31,
    "start_time": "2024-04-30T11:48:31.153Z"
   },
   {
    "duration": 535,
    "start_time": "2024-04-30T11:48:37.003Z"
   },
   {
    "duration": 25,
    "start_time": "2024-04-30T11:48:37.539Z"
   },
   {
    "duration": 33,
    "start_time": "2024-04-30T11:48:37.566Z"
   },
   {
    "duration": 27,
    "start_time": "2024-04-30T11:48:37.600Z"
   },
   {
    "duration": 38,
    "start_time": "2024-04-30T11:49:01.643Z"
   },
   {
    "duration": 37,
    "start_time": "2024-04-30T11:49:14.512Z"
   },
   {
    "duration": 38,
    "start_time": "2024-04-30T11:49:43.305Z"
   },
   {
    "duration": 55,
    "start_time": "2024-04-30T11:50:01.421Z"
   },
   {
    "duration": 41,
    "start_time": "2024-04-30T11:50:17.487Z"
   },
   {
    "duration": 44,
    "start_time": "2024-04-30T11:50:56.778Z"
   },
   {
    "duration": 43,
    "start_time": "2024-04-30T11:53:24.764Z"
   },
   {
    "duration": 24,
    "start_time": "2024-04-30T12:06:08.997Z"
   },
   {
    "duration": 5,
    "start_time": "2024-04-30T12:06:24.828Z"
   },
   {
    "duration": 10,
    "start_time": "2024-04-30T12:06:37.558Z"
   },
   {
    "duration": 67,
    "start_time": "2024-04-30T12:07:04.218Z"
   },
   {
    "duration": 4,
    "start_time": "2024-04-30T12:07:07.795Z"
   },
   {
    "duration": 67,
    "start_time": "2024-04-30T12:09:13.647Z"
   },
   {
    "duration": 6,
    "start_time": "2024-04-30T14:10:20.750Z"
   },
   {
    "duration": 5,
    "start_time": "2024-04-30T14:11:52.766Z"
   },
   {
    "duration": 22,
    "start_time": "2024-04-30T14:13:45.884Z"
   },
   {
    "duration": 18,
    "start_time": "2024-04-30T14:14:58.298Z"
   },
   {
    "duration": 17,
    "start_time": "2024-04-30T14:18:45.785Z"
   },
   {
    "duration": 9,
    "start_time": "2024-04-30T14:19:18.160Z"
   },
   {
    "duration": 22,
    "start_time": "2024-04-30T14:19:47.788Z"
   },
   {
    "duration": 20,
    "start_time": "2024-04-30T14:22:17.099Z"
   },
   {
    "duration": 1425,
    "start_time": "2024-04-30T14:22:30.909Z"
   },
   {
    "duration": 21,
    "start_time": "2024-04-30T14:22:37.946Z"
   },
   {
    "duration": 23,
    "start_time": "2024-04-30T14:22:44.500Z"
   },
   {
    "duration": 23,
    "start_time": "2024-04-30T14:23:13.336Z"
   },
   {
    "duration": 20,
    "start_time": "2024-04-30T14:23:27.711Z"
   },
   {
    "duration": 21,
    "start_time": "2024-04-30T14:24:02.425Z"
   },
   {
    "duration": 10,
    "start_time": "2024-04-30T14:24:40.873Z"
   },
   {
    "duration": 11,
    "start_time": "2024-04-30T14:24:44.993Z"
   },
   {
    "duration": 525,
    "start_time": "2024-04-30T14:25:11.610Z"
   },
   {
    "duration": 26,
    "start_time": "2024-04-30T14:25:12.137Z"
   },
   {
    "duration": 34,
    "start_time": "2024-04-30T14:25:12.165Z"
   },
   {
    "duration": 76,
    "start_time": "2024-04-30T14:25:12.201Z"
   },
   {
    "duration": 9,
    "start_time": "2024-04-30T14:25:12.279Z"
   },
   {
    "duration": 8,
    "start_time": "2024-04-30T14:25:31.413Z"
   },
   {
    "duration": 9,
    "start_time": "2024-04-30T14:25:33.878Z"
   },
   {
    "duration": 547,
    "start_time": "2024-04-30T14:25:39.906Z"
   },
   {
    "duration": 29,
    "start_time": "2024-04-30T14:25:40.456Z"
   },
   {
    "duration": 40,
    "start_time": "2024-04-30T14:25:40.487Z"
   },
   {
    "duration": 80,
    "start_time": "2024-04-30T14:25:40.528Z"
   },
   {
    "duration": 10,
    "start_time": "2024-04-30T14:25:40.610Z"
   },
   {
    "duration": 12,
    "start_time": "2024-04-30T14:26:04.677Z"
   },
   {
    "duration": 12,
    "start_time": "2024-04-30T14:26:23.788Z"
   },
   {
    "duration": 8,
    "start_time": "2024-04-30T14:26:40.439Z"
   },
   {
    "duration": 7,
    "start_time": "2024-04-30T14:26:43.899Z"
   },
   {
    "duration": 70,
    "start_time": "2024-04-30T14:30:21.337Z"
   },
   {
    "duration": 8,
    "start_time": "2024-04-30T14:30:30.167Z"
   },
   {
    "duration": 23,
    "start_time": "2024-04-30T14:37:19.364Z"
   },
   {
    "duration": 17,
    "start_time": "2024-04-30T14:37:25.015Z"
   },
   {
    "duration": 603,
    "start_time": "2024-04-30T14:37:35.696Z"
   },
   {
    "duration": 28,
    "start_time": "2024-04-30T14:37:36.300Z"
   },
   {
    "duration": 44,
    "start_time": "2024-04-30T14:37:36.329Z"
   },
   {
    "duration": 136,
    "start_time": "2024-04-30T14:37:36.374Z"
   },
   {
    "duration": 19,
    "start_time": "2024-04-30T14:37:36.511Z"
   },
   {
    "duration": 72,
    "start_time": "2024-04-30T14:39:29.213Z"
   },
   {
    "duration": 7,
    "start_time": "2024-04-30T14:41:49.074Z"
   },
   {
    "duration": 12,
    "start_time": "2024-04-30T14:42:06.635Z"
   },
   {
    "duration": 12,
    "start_time": "2024-04-30T14:42:11.215Z"
   },
   {
    "duration": 11,
    "start_time": "2024-04-30T14:42:18.252Z"
   },
   {
    "duration": 578,
    "start_time": "2024-04-30T14:42:22.515Z"
   },
   {
    "duration": 26,
    "start_time": "2024-04-30T14:42:23.095Z"
   },
   {
    "duration": 48,
    "start_time": "2024-04-30T14:42:23.122Z"
   },
   {
    "duration": 110,
    "start_time": "2024-04-30T14:42:23.172Z"
   },
   {
    "duration": 18,
    "start_time": "2024-04-30T14:42:23.284Z"
   },
   {
    "duration": 7,
    "start_time": "2024-04-30T14:42:31.378Z"
   },
   {
    "duration": 6,
    "start_time": "2024-04-30T14:42:36.376Z"
   },
   {
    "duration": 12,
    "start_time": "2024-04-30T14:42:38.867Z"
   },
   {
    "duration": 633,
    "start_time": "2024-04-30T14:42:44.274Z"
   },
   {
    "duration": 25,
    "start_time": "2024-04-30T14:42:44.909Z"
   },
   {
    "duration": 42,
    "start_time": "2024-04-30T14:42:44.935Z"
   },
   {
    "duration": 109,
    "start_time": "2024-04-30T14:42:44.978Z"
   },
   {
    "duration": 16,
    "start_time": "2024-04-30T14:42:45.089Z"
   },
   {
    "duration": 18,
    "start_time": "2024-04-30T14:42:59.486Z"
   },
   {
    "duration": 11,
    "start_time": "2024-04-30T14:47:59.593Z"
   },
   {
    "duration": 958,
    "start_time": "2024-04-30T14:48:04.305Z"
   },
   {
    "duration": 27,
    "start_time": "2024-04-30T14:48:05.265Z"
   },
   {
    "duration": 37,
    "start_time": "2024-04-30T14:48:05.294Z"
   },
   {
    "duration": 111,
    "start_time": "2024-04-30T14:48:05.332Z"
   },
   {
    "duration": 33,
    "start_time": "2024-04-30T14:48:05.445Z"
   },
   {
    "duration": 18,
    "start_time": "2024-04-30T14:48:20.865Z"
   },
   {
    "duration": 18,
    "start_time": "2024-04-30T14:48:30.082Z"
   },
   {
    "duration": 18,
    "start_time": "2024-04-30T14:48:35.935Z"
   },
   {
    "duration": 6,
    "start_time": "2024-04-30T14:57:53.740Z"
   },
   {
    "duration": 13,
    "start_time": "2024-04-30T14:58:21.733Z"
   },
   {
    "duration": 10,
    "start_time": "2024-04-30T15:03:07.237Z"
   },
   {
    "duration": 10,
    "start_time": "2024-04-30T15:03:10.728Z"
   },
   {
    "duration": 13,
    "start_time": "2024-04-30T15:03:18.899Z"
   },
   {
    "duration": 26,
    "start_time": "2024-04-30T15:03:23.429Z"
   },
   {
    "duration": 645,
    "start_time": "2024-04-30T15:03:34.895Z"
   },
   {
    "duration": 27,
    "start_time": "2024-04-30T15:03:35.542Z"
   },
   {
    "duration": 33,
    "start_time": "2024-04-30T15:03:35.571Z"
   },
   {
    "duration": 116,
    "start_time": "2024-04-30T15:03:35.606Z"
   },
   {
    "duration": 29,
    "start_time": "2024-04-30T15:03:35.724Z"
   },
   {
    "duration": 28,
    "start_time": "2024-04-30T15:06:17.147Z"
   },
   {
    "duration": 612,
    "start_time": "2024-04-30T15:08:04.478Z"
   },
   {
    "duration": 26,
    "start_time": "2024-04-30T15:08:05.092Z"
   },
   {
    "duration": 31,
    "start_time": "2024-04-30T15:08:05.120Z"
   },
   {
    "duration": 119,
    "start_time": "2024-04-30T15:08:05.152Z"
   },
   {
    "duration": 27,
    "start_time": "2024-04-30T15:08:05.273Z"
   },
   {
    "duration": 4,
    "start_time": "2024-04-30T15:17:14.092Z"
   },
   {
    "duration": 6,
    "start_time": "2024-04-30T15:17:27.987Z"
   },
   {
    "duration": 659,
    "start_time": "2024-04-30T15:17:33.466Z"
   },
   {
    "duration": 31,
    "start_time": "2024-04-30T15:17:34.127Z"
   },
   {
    "duration": 42,
    "start_time": "2024-04-30T15:17:34.160Z"
   },
   {
    "duration": 119,
    "start_time": "2024-04-30T15:17:34.204Z"
   },
   {
    "duration": 44,
    "start_time": "2024-04-30T15:17:34.325Z"
   },
   {
    "duration": 7,
    "start_time": "2024-04-30T15:17:34.371Z"
   },
   {
    "duration": 7,
    "start_time": "2024-04-30T15:18:24.025Z"
   },
   {
    "duration": 8,
    "start_time": "2024-04-30T15:31:06.928Z"
   },
   {
    "duration": 6,
    "start_time": "2024-04-30T15:31:21.451Z"
   },
   {
    "duration": 9,
    "start_time": "2024-04-30T15:32:14.210Z"
   },
   {
    "duration": 10,
    "start_time": "2024-04-30T15:34:32.996Z"
   },
   {
    "duration": 12,
    "start_time": "2024-04-30T15:35:24.480Z"
   },
   {
    "duration": 19,
    "start_time": "2024-04-30T15:35:50.663Z"
   },
   {
    "duration": 102,
    "start_time": "2024-04-30T15:36:07.541Z"
   },
   {
    "duration": 10,
    "start_time": "2024-04-30T15:36:10.434Z"
   },
   {
    "duration": 671,
    "start_time": "2024-04-30T15:36:18.748Z"
   },
   {
    "duration": 30,
    "start_time": "2024-04-30T15:36:19.422Z"
   },
   {
    "duration": 58,
    "start_time": "2024-04-30T15:36:19.453Z"
   },
   {
    "duration": 134,
    "start_time": "2024-04-30T15:36:19.513Z"
   },
   {
    "duration": 45,
    "start_time": "2024-04-30T15:36:19.649Z"
   },
   {
    "duration": 6,
    "start_time": "2024-04-30T15:36:19.695Z"
   },
   {
    "duration": 24,
    "start_time": "2024-04-30T15:36:19.702Z"
   },
   {
    "duration": 8,
    "start_time": "2024-04-30T15:39:17.100Z"
   },
   {
    "duration": 12,
    "start_time": "2024-04-30T15:39:35.924Z"
   },
   {
    "duration": 648,
    "start_time": "2024-04-30T15:39:42.764Z"
   },
   {
    "duration": 25,
    "start_time": "2024-04-30T15:39:43.414Z"
   },
   {
    "duration": 55,
    "start_time": "2024-04-30T15:39:43.440Z"
   },
   {
    "duration": 107,
    "start_time": "2024-04-30T15:39:43.497Z"
   },
   {
    "duration": 26,
    "start_time": "2024-04-30T15:39:43.606Z"
   },
   {
    "duration": 5,
    "start_time": "2024-04-30T15:39:43.633Z"
   },
   {
    "duration": 11,
    "start_time": "2024-04-30T15:39:43.640Z"
   },
   {
    "duration": 17,
    "start_time": "2024-04-30T15:40:04.189Z"
   },
   {
    "duration": 25,
    "start_time": "2024-04-30T15:40:43.566Z"
   },
   {
    "duration": 680,
    "start_time": "2024-04-30T15:40:54.457Z"
   },
   {
    "duration": 31,
    "start_time": "2024-04-30T15:40:55.139Z"
   },
   {
    "duration": 35,
    "start_time": "2024-04-30T15:40:55.171Z"
   },
   {
    "duration": 115,
    "start_time": "2024-04-30T15:40:55.207Z"
   },
   {
    "duration": 27,
    "start_time": "2024-04-30T15:40:55.324Z"
   },
   {
    "duration": 21,
    "start_time": "2024-04-30T15:40:55.353Z"
   },
   {
    "duration": 29,
    "start_time": "2024-04-30T15:40:55.376Z"
   },
   {
    "duration": 1023,
    "start_time": "2024-04-30T15:42:31.020Z"
   },
   {
    "duration": 30,
    "start_time": "2024-04-30T15:42:37.116Z"
   },
   {
    "duration": 28,
    "start_time": "2024-04-30T15:42:42.066Z"
   },
   {
    "duration": 574,
    "start_time": "2024-04-30T15:42:47.219Z"
   },
   {
    "duration": 32,
    "start_time": "2024-04-30T15:42:47.795Z"
   },
   {
    "duration": 51,
    "start_time": "2024-04-30T15:42:47.829Z"
   },
   {
    "duration": 123,
    "start_time": "2024-04-30T15:42:47.882Z"
   },
   {
    "duration": 30,
    "start_time": "2024-04-30T15:42:48.007Z"
   },
   {
    "duration": 5,
    "start_time": "2024-04-30T15:42:48.039Z"
   },
   {
    "duration": 44,
    "start_time": "2024-04-30T15:42:48.046Z"
   },
   {
    "duration": 641,
    "start_time": "2024-04-30T15:43:30.260Z"
   },
   {
    "duration": 28,
    "start_time": "2024-04-30T15:43:30.903Z"
   },
   {
    "duration": 60,
    "start_time": "2024-04-30T15:43:30.933Z"
   },
   {
    "duration": 111,
    "start_time": "2024-04-30T15:43:30.995Z"
   },
   {
    "duration": 28,
    "start_time": "2024-04-30T15:43:31.107Z"
   },
   {
    "duration": 43,
    "start_time": "2024-04-30T15:43:31.137Z"
   },
   {
    "duration": 49,
    "start_time": "2024-04-30T15:43:31.181Z"
   },
   {
    "duration": 4,
    "start_time": "2024-04-30T15:43:54.795Z"
   },
   {
    "duration": 5,
    "start_time": "2024-04-30T15:44:00.997Z"
   },
   {
    "duration": 7,
    "start_time": "2024-04-30T15:48:38.955Z"
   },
   {
    "duration": 5,
    "start_time": "2024-04-30T15:49:15.581Z"
   },
   {
    "duration": 5,
    "start_time": "2024-04-30T15:49:42.083Z"
   },
   {
    "duration": 9,
    "start_time": "2024-04-30T15:51:51.231Z"
   },
   {
    "duration": 112,
    "start_time": "2024-04-30T15:52:39.744Z"
   },
   {
    "duration": 18,
    "start_time": "2024-04-30T15:52:47.344Z"
   },
   {
    "duration": 702,
    "start_time": "2024-04-30T15:52:51.888Z"
   },
   {
    "duration": 34,
    "start_time": "2024-04-30T15:52:52.592Z"
   },
   {
    "duration": 70,
    "start_time": "2024-04-30T15:52:52.628Z"
   },
   {
    "duration": 124,
    "start_time": "2024-04-30T15:52:52.700Z"
   },
   {
    "duration": 54,
    "start_time": "2024-04-30T15:52:52.827Z"
   },
   {
    "duration": 8,
    "start_time": "2024-04-30T15:52:52.887Z"
   },
   {
    "duration": 23,
    "start_time": "2024-04-30T15:52:52.897Z"
   },
   {
    "duration": 30,
    "start_time": "2024-04-30T15:52:52.922Z"
   },
   {
    "duration": 12,
    "start_time": "2024-04-30T18:18:26.967Z"
   },
   {
    "duration": 634,
    "start_time": "2024-04-30T18:18:32.264Z"
   },
   {
    "duration": 27,
    "start_time": "2024-04-30T18:18:32.900Z"
   },
   {
    "duration": 48,
    "start_time": "2024-04-30T18:18:32.929Z"
   },
   {
    "duration": 107,
    "start_time": "2024-04-30T18:18:32.979Z"
   },
   {
    "duration": 25,
    "start_time": "2024-04-30T18:18:33.088Z"
   },
   {
    "duration": 5,
    "start_time": "2024-04-30T18:18:33.115Z"
   },
   {
    "duration": 32,
    "start_time": "2024-04-30T18:18:33.121Z"
   },
   {
    "duration": 20,
    "start_time": "2024-04-30T18:18:33.154Z"
   },
   {
    "duration": 5,
    "start_time": "2024-05-01T11:54:55.212Z"
   },
   {
    "duration": 5,
    "start_time": "2024-05-01T11:55:13.256Z"
   },
   {
    "duration": 9,
    "start_time": "2024-05-01T11:55:46.516Z"
   },
   {
    "duration": 726,
    "start_time": "2024-05-02T16:34:31.317Z"
   },
   {
    "duration": 37,
    "start_time": "2024-05-02T16:34:32.045Z"
   },
   {
    "duration": 48,
    "start_time": "2024-05-02T16:34:32.084Z"
   },
   {
    "duration": 127,
    "start_time": "2024-05-02T16:34:32.134Z"
   },
   {
    "duration": 45,
    "start_time": "2024-05-02T16:34:32.270Z"
   },
   {
    "duration": 6,
    "start_time": "2024-05-02T16:34:32.318Z"
   },
   {
    "duration": 50,
    "start_time": "2024-05-02T16:34:32.326Z"
   },
   {
    "duration": 33,
    "start_time": "2024-05-02T16:34:32.378Z"
   },
   {
    "duration": 13,
    "start_time": "2024-05-02T16:34:32.413Z"
   },
   {
    "duration": 9,
    "start_time": "2024-05-02T16:35:26.002Z"
   },
   {
    "duration": 10,
    "start_time": "2024-05-02T16:38:17.008Z"
   },
   {
    "duration": 10,
    "start_time": "2024-05-02T16:38:21.650Z"
   },
   {
    "duration": 8,
    "start_time": "2024-05-02T16:38:48.264Z"
   },
   {
    "duration": 10,
    "start_time": "2024-05-02T16:39:07.305Z"
   },
   {
    "duration": 110,
    "start_time": "2024-05-02T16:40:43.191Z"
   },
   {
    "duration": 6,
    "start_time": "2024-05-02T16:40:47.722Z"
   },
   {
    "duration": 9,
    "start_time": "2024-05-02T16:43:18.356Z"
   },
   {
    "duration": 8,
    "start_time": "2024-05-02T16:44:00.490Z"
   },
   {
    "duration": 17,
    "start_time": "2024-05-02T16:44:09.864Z"
   },
   {
    "duration": 6,
    "start_time": "2024-05-02T16:44:26.458Z"
   },
   {
    "duration": 7,
    "start_time": "2024-05-02T16:44:57.333Z"
   },
   {
    "duration": 32,
    "start_time": "2024-05-02T16:45:01.965Z"
   },
   {
    "duration": 26,
    "start_time": "2024-05-02T16:45:20.032Z"
   },
   {
    "duration": 38,
    "start_time": "2024-05-02T16:45:38.123Z"
   },
   {
    "duration": 18,
    "start_time": "2024-05-02T16:46:05.593Z"
   },
   {
    "duration": 20,
    "start_time": "2024-05-02T16:46:08.993Z"
   },
   {
    "duration": 31,
    "start_time": "2024-05-02T16:46:19.465Z"
   },
   {
    "duration": 32,
    "start_time": "2024-05-04T12:33:34.841Z"
   },
   {
    "duration": 724,
    "start_time": "2024-05-04T12:33:42.037Z"
   },
   {
    "duration": 27,
    "start_time": "2024-05-04T12:33:42.762Z"
   },
   {
    "duration": 40,
    "start_time": "2024-05-04T12:33:42.790Z"
   },
   {
    "duration": 102,
    "start_time": "2024-05-04T12:33:42.831Z"
   },
   {
    "duration": 44,
    "start_time": "2024-05-04T12:33:42.935Z"
   },
   {
    "duration": 6,
    "start_time": "2024-05-04T12:33:42.981Z"
   },
   {
    "duration": 18,
    "start_time": "2024-05-04T12:33:42.989Z"
   },
   {
    "duration": 14,
    "start_time": "2024-05-04T12:33:43.009Z"
   },
   {
    "duration": 49,
    "start_time": "2024-05-04T12:33:43.025Z"
   },
   {
    "duration": 647,
    "start_time": "2024-05-04T12:33:55.268Z"
   },
   {
    "duration": 27,
    "start_time": "2024-05-04T12:33:55.917Z"
   },
   {
    "duration": 45,
    "start_time": "2024-05-04T12:33:55.946Z"
   },
   {
    "duration": 126,
    "start_time": "2024-05-04T12:33:55.992Z"
   },
   {
    "duration": 30,
    "start_time": "2024-05-04T12:33:56.121Z"
   },
   {
    "duration": 21,
    "start_time": "2024-05-04T12:33:56.153Z"
   },
   {
    "duration": 51,
    "start_time": "2024-05-04T12:33:56.176Z"
   },
   {
    "duration": 22,
    "start_time": "2024-05-04T12:33:56.229Z"
   },
   {
    "duration": 30,
    "start_time": "2024-05-04T12:33:56.253Z"
   },
   {
    "duration": 32,
    "start_time": "2024-05-04T15:23:25.517Z"
   },
   {
    "duration": 1257,
    "start_time": "2024-05-04T15:23:34.478Z"
   },
   {
    "duration": 28,
    "start_time": "2024-05-04T15:23:45.620Z"
   },
   {
    "duration": 27,
    "start_time": "2024-05-04T15:24:08.999Z"
   },
   {
    "duration": 358,
    "start_time": "2024-05-04T15:25:42.567Z"
   },
   {
    "duration": 188,
    "start_time": "2024-05-04T15:26:21.678Z"
   },
   {
    "duration": 659,
    "start_time": "2024-05-04T15:26:27.348Z"
   },
   {
    "duration": 27,
    "start_time": "2024-05-04T15:26:28.009Z"
   },
   {
    "duration": 46,
    "start_time": "2024-05-04T15:26:28.037Z"
   },
   {
    "duration": 121,
    "start_time": "2024-05-04T15:26:28.086Z"
   },
   {
    "duration": 27,
    "start_time": "2024-05-04T15:26:28.208Z"
   },
   {
    "duration": 5,
    "start_time": "2024-05-04T15:26:28.237Z"
   },
   {
    "duration": 45,
    "start_time": "2024-05-04T15:26:28.244Z"
   },
   {
    "duration": 15,
    "start_time": "2024-05-04T15:26:28.292Z"
   },
   {
    "duration": 329,
    "start_time": "2024-05-04T15:26:28.309Z"
   },
   {
    "duration": 207,
    "start_time": "2024-05-04T15:26:47.689Z"
   },
   {
    "duration": 245,
    "start_time": "2024-05-04T15:26:58.176Z"
   },
   {
    "duration": 168,
    "start_time": "2024-05-04T15:27:09.792Z"
   },
   {
    "duration": 190,
    "start_time": "2024-05-04T15:27:41.366Z"
   },
   {
    "duration": 26,
    "start_time": "2024-05-04T15:27:45.419Z"
   },
   {
    "duration": 1163,
    "start_time": "2024-05-04T15:27:56.179Z"
   },
   {
    "duration": 178,
    "start_time": "2024-05-04T15:28:03.956Z"
   },
   {
    "duration": 38,
    "start_time": "2024-05-04T15:32:35.064Z"
   },
   {
    "duration": 6,
    "start_time": "2024-05-04T15:32:38.155Z"
   },
   {
    "duration": 6,
    "start_time": "2024-05-04T15:32:54.696Z"
   },
   {
    "duration": 6,
    "start_time": "2024-05-04T15:35:00.547Z"
   },
   {
    "duration": 34,
    "start_time": "2024-05-04T15:37:54.218Z"
   },
   {
    "duration": 29,
    "start_time": "2024-05-04T15:38:03.363Z"
   },
   {
    "duration": 28,
    "start_time": "2024-05-04T15:59:10.691Z"
   },
   {
    "duration": 282,
    "start_time": "2024-05-04T16:00:07.347Z"
   },
   {
    "duration": 262,
    "start_time": "2024-05-04T16:00:42.295Z"
   },
   {
    "duration": 641,
    "start_time": "2024-05-04T16:00:57.301Z"
   },
   {
    "duration": 31,
    "start_time": "2024-05-04T16:00:57.943Z"
   },
   {
    "duration": 37,
    "start_time": "2024-05-04T16:00:57.975Z"
   },
   {
    "duration": 112,
    "start_time": "2024-05-04T16:00:58.014Z"
   },
   {
    "duration": 42,
    "start_time": "2024-05-04T16:00:58.128Z"
   },
   {
    "duration": 6,
    "start_time": "2024-05-04T16:00:58.172Z"
   },
   {
    "duration": 23,
    "start_time": "2024-05-04T16:00:58.179Z"
   },
   {
    "duration": 47,
    "start_time": "2024-05-04T16:00:58.204Z"
   },
   {
    "duration": 15,
    "start_time": "2024-05-04T16:00:58.253Z"
   },
   {
    "duration": 18,
    "start_time": "2024-05-04T16:00:58.270Z"
   },
   {
    "duration": 319,
    "start_time": "2024-05-04T16:00:58.290Z"
   },
   {
    "duration": 198,
    "start_time": "2024-05-04T16:00:58.611Z"
   },
   {
    "duration": 4,
    "start_time": "2024-05-04T16:00:58.810Z"
   },
   {
    "duration": 346,
    "start_time": "2024-05-04T16:00:58.817Z"
   },
   {
    "duration": 291,
    "start_time": "2024-05-04T16:01:44.409Z"
   },
   {
    "duration": 67,
    "start_time": "2024-05-04T16:01:47.032Z"
   },
   {
    "duration": 287,
    "start_time": "2024-05-04T16:02:10.810Z"
   },
   {
    "duration": 300,
    "start_time": "2024-05-04T16:03:06.473Z"
   },
   {
    "duration": 270,
    "start_time": "2024-05-04T16:03:27.916Z"
   },
   {
    "duration": 273,
    "start_time": "2024-05-04T16:05:34.654Z"
   },
   {
    "duration": 316,
    "start_time": "2024-05-04T16:05:40.852Z"
   },
   {
    "duration": 1277,
    "start_time": "2024-05-04T16:06:05.818Z"
   },
   {
    "duration": 682,
    "start_time": "2024-05-04T16:06:12.335Z"
   },
   {
    "duration": 30,
    "start_time": "2024-05-04T16:06:13.020Z"
   },
   {
    "duration": 54,
    "start_time": "2024-05-04T16:06:13.051Z"
   },
   {
    "duration": 128,
    "start_time": "2024-05-04T16:06:13.107Z"
   },
   {
    "duration": 45,
    "start_time": "2024-05-04T16:06:13.237Z"
   },
   {
    "duration": 5,
    "start_time": "2024-05-04T16:06:13.284Z"
   },
   {
    "duration": 31,
    "start_time": "2024-05-04T16:06:13.291Z"
   },
   {
    "duration": 17,
    "start_time": "2024-05-04T16:06:13.323Z"
   },
   {
    "duration": 9,
    "start_time": "2024-05-04T16:06:13.342Z"
   },
   {
    "duration": 21,
    "start_time": "2024-05-04T16:06:13.353Z"
   },
   {
    "duration": 353,
    "start_time": "2024-05-04T16:06:13.376Z"
   },
   {
    "duration": 194,
    "start_time": "2024-05-04T16:06:13.730Z"
   },
   {
    "duration": 4,
    "start_time": "2024-05-04T16:06:13.926Z"
   },
   {
    "duration": 563,
    "start_time": "2024-05-04T16:06:13.933Z"
   },
   {
    "duration": 35,
    "start_time": "2024-05-04T16:07:16.946Z"
   },
   {
    "duration": 89,
    "start_time": "2024-05-04T16:07:31.234Z"
   },
   {
    "duration": 5473,
    "start_time": "2024-05-04T16:07:38.694Z"
   },
   {
    "duration": 661,
    "start_time": "2024-05-04T16:07:52.080Z"
   },
   {
    "duration": 30,
    "start_time": "2024-05-04T16:07:52.743Z"
   },
   {
    "duration": 37,
    "start_time": "2024-05-04T16:07:52.774Z"
   },
   {
    "duration": 125,
    "start_time": "2024-05-04T16:07:52.813Z"
   },
   {
    "duration": 45,
    "start_time": "2024-05-04T16:07:52.940Z"
   },
   {
    "duration": 6,
    "start_time": "2024-05-04T16:07:52.987Z"
   },
   {
    "duration": 30,
    "start_time": "2024-05-04T16:07:52.995Z"
   },
   {
    "duration": 18,
    "start_time": "2024-05-04T16:07:53.027Z"
   },
   {
    "duration": 13,
    "start_time": "2024-05-04T16:07:53.047Z"
   },
   {
    "duration": 9,
    "start_time": "2024-05-04T16:07:53.061Z"
   },
   {
    "duration": 342,
    "start_time": "2024-05-04T16:07:53.072Z"
   },
   {
    "duration": 205,
    "start_time": "2024-05-04T16:07:53.416Z"
   },
   {
    "duration": 4,
    "start_time": "2024-05-04T16:07:53.622Z"
   },
   {
    "duration": 5077,
    "start_time": "2024-05-04T16:07:53.628Z"
   },
   {
    "duration": 31,
    "start_time": "2024-05-04T16:08:19.482Z"
   },
   {
    "duration": 1334,
    "start_time": "2024-05-04T16:08:52.171Z"
   },
   {
    "duration": 1383,
    "start_time": "2024-05-04T16:08:59.568Z"
   },
   {
    "duration": 831,
    "start_time": "2024-05-04T16:09:35.694Z"
   },
   {
    "duration": 663,
    "start_time": "2024-05-04T16:09:40.732Z"
   },
   {
    "duration": 30,
    "start_time": "2024-05-04T16:09:41.396Z"
   },
   {
    "duration": 51,
    "start_time": "2024-05-04T16:09:41.427Z"
   },
   {
    "duration": 128,
    "start_time": "2024-05-04T16:09:41.480Z"
   },
   {
    "duration": 30,
    "start_time": "2024-05-04T16:09:41.610Z"
   },
   {
    "duration": 11,
    "start_time": "2024-05-04T16:09:41.641Z"
   },
   {
    "duration": 34,
    "start_time": "2024-05-04T16:09:41.654Z"
   },
   {
    "duration": 29,
    "start_time": "2024-05-04T16:09:41.690Z"
   },
   {
    "duration": 8,
    "start_time": "2024-05-04T16:09:41.721Z"
   },
   {
    "duration": 12,
    "start_time": "2024-05-04T16:09:41.731Z"
   },
   {
    "duration": 348,
    "start_time": "2024-05-04T16:09:41.745Z"
   },
   {
    "duration": 200,
    "start_time": "2024-05-04T16:09:42.094Z"
   },
   {
    "duration": 4,
    "start_time": "2024-05-04T16:09:42.296Z"
   },
   {
    "duration": 919,
    "start_time": "2024-05-04T16:09:42.302Z"
   },
   {
    "duration": 33,
    "start_time": "2024-05-04T16:09:53.223Z"
   },
   {
    "duration": 81,
    "start_time": "2024-05-04T16:09:58.785Z"
   },
   {
    "duration": 292,
    "start_time": "2024-05-07T17:43:01.622Z"
   },
   {
    "duration": 715,
    "start_time": "2024-05-07T17:43:28.372Z"
   },
   {
    "duration": 29,
    "start_time": "2024-05-07T17:43:29.089Z"
   },
   {
    "duration": 54,
    "start_time": "2024-05-07T17:43:29.120Z"
   },
   {
    "duration": 124,
    "start_time": "2024-05-07T17:43:29.176Z"
   },
   {
    "duration": 32,
    "start_time": "2024-05-07T17:43:29.302Z"
   },
   {
    "duration": 6,
    "start_time": "2024-05-07T17:43:29.335Z"
   },
   {
    "duration": 43,
    "start_time": "2024-05-07T17:43:29.343Z"
   },
   {
    "duration": 13,
    "start_time": "2024-05-07T17:43:29.388Z"
   },
   {
    "duration": 14,
    "start_time": "2024-05-07T17:43:29.403Z"
   },
   {
    "duration": 9,
    "start_time": "2024-05-07T17:43:29.419Z"
   },
   {
    "duration": 355,
    "start_time": "2024-05-07T17:43:29.430Z"
   },
   {
    "duration": 194,
    "start_time": "2024-05-07T17:43:29.787Z"
   },
   {
    "duration": 4,
    "start_time": "2024-05-07T17:43:29.982Z"
   },
   {
    "duration": 406,
    "start_time": "2024-05-07T17:43:29.988Z"
   },
   {
    "duration": 268,
    "start_time": "2024-05-07T17:45:21.435Z"
   },
   {
    "duration": 286,
    "start_time": "2024-05-07T17:45:29.226Z"
   },
   {
    "duration": 472,
    "start_time": "2024-05-07T17:45:34.450Z"
   },
   {
    "duration": 293,
    "start_time": "2024-05-07T17:46:20.244Z"
   },
   {
    "duration": 6,
    "start_time": "2024-05-07T17:46:33.015Z"
   },
   {
    "duration": 20,
    "start_time": "2024-05-07T17:46:39.166Z"
   },
   {
    "duration": 276,
    "start_time": "2024-05-07T17:46:53.582Z"
   },
   {
    "duration": 22,
    "start_time": "2024-05-07T17:46:56.751Z"
   },
   {
    "duration": 270,
    "start_time": "2024-05-07T17:47:50.579Z"
   },
   {
    "duration": 29,
    "start_time": "2024-05-07T17:48:08.925Z"
   },
   {
    "duration": 277,
    "start_time": "2024-05-07T17:49:00.182Z"
   },
   {
    "duration": 327,
    "start_time": "2024-05-07T18:00:23.877Z"
   },
   {
    "duration": 316,
    "start_time": "2024-05-07T18:00:28.779Z"
   },
   {
    "duration": 273,
    "start_time": "2024-05-07T18:06:03.892Z"
   },
   {
    "duration": 293,
    "start_time": "2024-05-07T18:06:07.195Z"
   },
   {
    "duration": 291,
    "start_time": "2024-05-07T18:06:25.454Z"
   },
   {
    "duration": 311,
    "start_time": "2024-05-07T18:06:32.427Z"
   },
   {
    "duration": 613,
    "start_time": "2024-05-07T18:06:36.311Z"
   },
   {
    "duration": 29,
    "start_time": "2024-05-07T18:06:36.926Z"
   },
   {
    "duration": 43,
    "start_time": "2024-05-07T18:06:36.957Z"
   },
   {
    "duration": 116,
    "start_time": "2024-05-07T18:06:37.001Z"
   },
   {
    "duration": 28,
    "start_time": "2024-05-07T18:06:37.120Z"
   },
   {
    "duration": 6,
    "start_time": "2024-05-07T18:06:37.169Z"
   },
   {
    "duration": 19,
    "start_time": "2024-05-07T18:06:37.177Z"
   },
   {
    "duration": 18,
    "start_time": "2024-05-07T18:06:37.197Z"
   },
   {
    "duration": 14,
    "start_time": "2024-05-07T18:06:37.216Z"
   },
   {
    "duration": 7,
    "start_time": "2024-05-07T18:06:37.231Z"
   },
   {
    "duration": 322,
    "start_time": "2024-05-07T18:06:37.240Z"
   },
   {
    "duration": 179,
    "start_time": "2024-05-07T18:06:37.564Z"
   },
   {
    "duration": 10,
    "start_time": "2024-05-07T18:06:37.746Z"
   },
   {
    "duration": 367,
    "start_time": "2024-05-07T18:06:37.760Z"
   },
   {
    "duration": 302,
    "start_time": "2024-05-07T18:06:50.541Z"
   },
   {
    "duration": 675,
    "start_time": "2024-05-09T15:39:19.555Z"
   },
   {
    "duration": 30,
    "start_time": "2024-05-09T15:39:20.232Z"
   },
   {
    "duration": 36,
    "start_time": "2024-05-09T15:39:20.264Z"
   },
   {
    "duration": 121,
    "start_time": "2024-05-09T15:39:20.302Z"
   },
   {
    "duration": 30,
    "start_time": "2024-05-09T15:39:20.425Z"
   },
   {
    "duration": 6,
    "start_time": "2024-05-09T15:39:20.470Z"
   },
   {
    "duration": 26,
    "start_time": "2024-05-09T15:39:20.477Z"
   },
   {
    "duration": 13,
    "start_time": "2024-05-09T15:39:20.505Z"
   },
   {
    "duration": 13,
    "start_time": "2024-05-09T15:39:20.519Z"
   },
   {
    "duration": 10,
    "start_time": "2024-05-09T15:39:20.533Z"
   },
   {
    "duration": 320,
    "start_time": "2024-05-09T15:39:20.544Z"
   },
   {
    "duration": 178,
    "start_time": "2024-05-09T15:39:20.866Z"
   },
   {
    "duration": 5,
    "start_time": "2024-05-09T15:39:21.046Z"
   },
   {
    "duration": 354,
    "start_time": "2024-05-09T15:39:21.054Z"
   },
   {
    "duration": 277,
    "start_time": "2024-05-09T15:39:44.036Z"
   },
   {
    "duration": 282,
    "start_time": "2024-05-09T15:40:50.131Z"
   },
   {
    "duration": 27,
    "start_time": "2024-05-09T15:41:44.653Z"
   },
   {
    "duration": 270,
    "start_time": "2024-05-09T15:43:14.624Z"
   },
   {
    "duration": 1357,
    "start_time": "2024-05-09T15:43:35.344Z"
   },
   {
    "duration": 335,
    "start_time": "2024-05-09T15:44:12.046Z"
   },
   {
    "duration": 97,
    "start_time": "2024-05-09T15:45:00.560Z"
   },
   {
    "duration": 351,
    "start_time": "2024-05-09T15:45:39.494Z"
   },
   {
    "duration": 268,
    "start_time": "2024-05-09T15:45:58.541Z"
   },
   {
    "duration": 632,
    "start_time": "2024-05-09T15:46:04.007Z"
   },
   {
    "duration": 29,
    "start_time": "2024-05-09T15:46:04.641Z"
   },
   {
    "duration": 36,
    "start_time": "2024-05-09T15:46:04.672Z"
   },
   {
    "duration": 138,
    "start_time": "2024-05-09T15:46:04.710Z"
   },
   {
    "duration": 42,
    "start_time": "2024-05-09T15:46:04.850Z"
   },
   {
    "duration": 5,
    "start_time": "2024-05-09T15:46:04.894Z"
   },
   {
    "duration": 32,
    "start_time": "2024-05-09T15:46:04.900Z"
   },
   {
    "duration": 12,
    "start_time": "2024-05-09T15:46:04.934Z"
   },
   {
    "duration": 23,
    "start_time": "2024-05-09T15:46:04.948Z"
   },
   {
    "duration": 10,
    "start_time": "2024-05-09T15:46:04.972Z"
   },
   {
    "duration": 328,
    "start_time": "2024-05-09T15:46:04.983Z"
   },
   {
    "duration": 189,
    "start_time": "2024-05-09T15:46:05.313Z"
   },
   {
    "duration": 4,
    "start_time": "2024-05-09T15:46:05.504Z"
   },
   {
    "duration": 359,
    "start_time": "2024-05-09T15:46:05.511Z"
   },
   {
    "duration": 277,
    "start_time": "2024-05-09T15:46:21.599Z"
   },
   {
    "duration": 103,
    "start_time": "2024-05-09T15:46:55.567Z"
   },
   {
    "duration": 655,
    "start_time": "2024-05-09T15:47:06.150Z"
   },
   {
    "duration": 28,
    "start_time": "2024-05-09T15:47:06.807Z"
   },
   {
    "duration": 46,
    "start_time": "2024-05-09T15:47:06.836Z"
   },
   {
    "duration": 114,
    "start_time": "2024-05-09T15:47:06.884Z"
   },
   {
    "duration": 29,
    "start_time": "2024-05-09T15:47:07.000Z"
   },
   {
    "duration": 6,
    "start_time": "2024-05-09T15:47:07.030Z"
   },
   {
    "duration": 40,
    "start_time": "2024-05-09T15:47:07.037Z"
   },
   {
    "duration": 14,
    "start_time": "2024-05-09T15:47:07.079Z"
   },
   {
    "duration": 17,
    "start_time": "2024-05-09T15:47:07.094Z"
   },
   {
    "duration": 14,
    "start_time": "2024-05-09T15:47:07.112Z"
   },
   {
    "duration": 324,
    "start_time": "2024-05-09T15:47:07.128Z"
   },
   {
    "duration": 177,
    "start_time": "2024-05-09T15:47:07.454Z"
   },
   {
    "duration": 4,
    "start_time": "2024-05-09T15:47:07.633Z"
   },
   {
    "duration": 109,
    "start_time": "2024-05-09T15:47:07.639Z"
   },
   {
    "duration": 634,
    "start_time": "2024-05-09T15:47:30.093Z"
   },
   {
    "duration": 28,
    "start_time": "2024-05-09T15:47:30.728Z"
   },
   {
    "duration": 95,
    "start_time": "2024-05-09T15:47:30.758Z"
   },
   {
    "duration": 103,
    "start_time": "2024-05-09T15:47:30.855Z"
   },
   {
    "duration": 52,
    "start_time": "2024-05-09T15:47:30.969Z"
   },
   {
    "duration": 115,
    "start_time": "2024-05-09T15:47:31.022Z"
   },
   {
    "duration": 112,
    "start_time": "2024-05-09T15:47:31.138Z"
   },
   {
    "duration": 44,
    "start_time": "2024-05-09T15:47:31.251Z"
   },
   {
    "duration": 67,
    "start_time": "2024-05-09T15:47:31.297Z"
   },
   {
    "duration": 49,
    "start_time": "2024-05-09T15:47:31.366Z"
   },
   {
    "duration": 383,
    "start_time": "2024-05-09T15:47:31.416Z"
   },
   {
    "duration": 176,
    "start_time": "2024-05-09T15:47:31.801Z"
   },
   {
    "duration": 4,
    "start_time": "2024-05-09T15:47:31.979Z"
   },
   {
    "duration": 114,
    "start_time": "2024-05-09T15:47:31.985Z"
   },
   {
    "duration": 16,
    "start_time": "2024-05-09T15:47:53.818Z"
   },
   {
    "duration": 40,
    "start_time": "2024-05-09T15:48:01.586Z"
   },
   {
    "duration": 81,
    "start_time": "2024-05-09T15:48:24.027Z"
   },
   {
    "duration": 589,
    "start_time": "2024-05-09T15:48:28.217Z"
   },
   {
    "duration": 29,
    "start_time": "2024-05-09T15:48:28.808Z"
   },
   {
    "duration": 45,
    "start_time": "2024-05-09T15:48:28.839Z"
   },
   {
    "duration": 129,
    "start_time": "2024-05-09T15:48:28.887Z"
   },
   {
    "duration": 29,
    "start_time": "2024-05-09T15:48:29.018Z"
   },
   {
    "duration": 6,
    "start_time": "2024-05-09T15:48:29.048Z"
   },
   {
    "duration": 24,
    "start_time": "2024-05-09T15:48:29.069Z"
   },
   {
    "duration": 15,
    "start_time": "2024-05-09T15:48:29.095Z"
   },
   {
    "duration": 33,
    "start_time": "2024-05-09T15:48:29.111Z"
   },
   {
    "duration": 12,
    "start_time": "2024-05-09T15:48:29.145Z"
   },
   {
    "duration": 326,
    "start_time": "2024-05-09T15:48:29.159Z"
   },
   {
    "duration": 179,
    "start_time": "2024-05-09T15:48:29.487Z"
   },
   {
    "duration": 3,
    "start_time": "2024-05-09T15:48:29.669Z"
   },
   {
    "duration": 83,
    "start_time": "2024-05-09T15:48:29.674Z"
   },
   {
    "duration": 639,
    "start_time": "2024-05-09T15:50:09.390Z"
   },
   {
    "duration": 29,
    "start_time": "2024-05-09T15:50:10.030Z"
   },
   {
    "duration": 35,
    "start_time": "2024-05-09T15:50:10.061Z"
   },
   {
    "duration": 115,
    "start_time": "2024-05-09T15:50:10.097Z"
   },
   {
    "duration": 29,
    "start_time": "2024-05-09T15:50:10.214Z"
   },
   {
    "duration": 6,
    "start_time": "2024-05-09T15:50:10.244Z"
   },
   {
    "duration": 19,
    "start_time": "2024-05-09T15:50:10.269Z"
   },
   {
    "duration": 22,
    "start_time": "2024-05-09T15:50:10.290Z"
   },
   {
    "duration": 7,
    "start_time": "2024-05-09T15:50:10.314Z"
   },
   {
    "duration": 6,
    "start_time": "2024-05-09T15:50:10.322Z"
   },
   {
    "duration": 351,
    "start_time": "2024-05-09T15:50:10.330Z"
   },
   {
    "duration": 178,
    "start_time": "2024-05-09T15:50:10.683Z"
   },
   {
    "duration": 10,
    "start_time": "2024-05-09T15:50:10.862Z"
   },
   {
    "duration": 40,
    "start_time": "2024-05-09T15:50:10.875Z"
   },
   {
    "duration": 435,
    "start_time": "2024-05-09T15:51:38.533Z"
   },
   {
    "duration": 39,
    "start_time": "2024-05-09T15:51:48.015Z"
   },
   {
    "duration": 621,
    "start_time": "2024-05-09T15:52:12.885Z"
   },
   {
    "duration": 28,
    "start_time": "2024-05-09T15:52:13.508Z"
   },
   {
    "duration": 52,
    "start_time": "2024-05-09T15:52:13.537Z"
   },
   {
    "duration": 120,
    "start_time": "2024-05-09T15:52:13.591Z"
   },
   {
    "duration": 33,
    "start_time": "2024-05-09T15:52:13.713Z"
   },
   {
    "duration": 24,
    "start_time": "2024-05-09T15:52:13.748Z"
   },
   {
    "duration": 35,
    "start_time": "2024-05-09T15:52:13.774Z"
   },
   {
    "duration": 22,
    "start_time": "2024-05-09T15:52:13.810Z"
   },
   {
    "duration": 13,
    "start_time": "2024-05-09T15:52:13.834Z"
   },
   {
    "duration": 13,
    "start_time": "2024-05-09T15:52:13.848Z"
   },
   {
    "duration": 335,
    "start_time": "2024-05-09T15:52:13.863Z"
   },
   {
    "duration": 177,
    "start_time": "2024-05-09T15:52:14.200Z"
   },
   {
    "duration": 4,
    "start_time": "2024-05-09T15:52:14.378Z"
   },
   {
    "duration": 106,
    "start_time": "2024-05-09T15:52:14.384Z"
   },
   {
    "duration": 37,
    "start_time": "2024-05-09T15:53:12.225Z"
   },
   {
    "duration": 37,
    "start_time": "2024-05-09T15:53:36.328Z"
   },
   {
    "duration": 605,
    "start_time": "2024-05-09T15:54:10.321Z"
   },
   {
    "duration": 30,
    "start_time": "2024-05-09T15:54:10.928Z"
   },
   {
    "duration": 40,
    "start_time": "2024-05-09T15:54:10.959Z"
   },
   {
    "duration": 117,
    "start_time": "2024-05-09T15:54:11.001Z"
   },
   {
    "duration": 28,
    "start_time": "2024-05-09T15:54:11.120Z"
   },
   {
    "duration": 33,
    "start_time": "2024-05-09T15:54:11.150Z"
   },
   {
    "duration": 40,
    "start_time": "2024-05-09T15:54:11.184Z"
   },
   {
    "duration": 19,
    "start_time": "2024-05-09T15:54:11.226Z"
   },
   {
    "duration": 17,
    "start_time": "2024-05-09T15:54:11.247Z"
   },
   {
    "duration": 18,
    "start_time": "2024-05-09T15:54:11.265Z"
   },
   {
    "duration": 341,
    "start_time": "2024-05-09T15:54:11.285Z"
   },
   {
    "duration": 187,
    "start_time": "2024-05-09T15:54:11.628Z"
   },
   {
    "duration": 4,
    "start_time": "2024-05-09T15:54:11.816Z"
   },
   {
    "duration": 106,
    "start_time": "2024-05-09T15:54:11.822Z"
   },
   {
    "duration": 41,
    "start_time": "2024-05-09T15:55:19.121Z"
   },
   {
    "duration": 54,
    "start_time": "2024-05-09T15:55:48.090Z"
   },
   {
    "duration": 616,
    "start_time": "2024-05-09T15:56:18.211Z"
   },
   {
    "duration": 45,
    "start_time": "2024-05-09T15:56:18.829Z"
   },
   {
    "duration": 38,
    "start_time": "2024-05-09T15:56:18.875Z"
   },
   {
    "duration": 117,
    "start_time": "2024-05-09T15:56:18.915Z"
   },
   {
    "duration": 56,
    "start_time": "2024-05-09T15:56:19.035Z"
   },
   {
    "duration": 8,
    "start_time": "2024-05-09T15:56:19.093Z"
   },
   {
    "duration": 30,
    "start_time": "2024-05-09T15:56:19.103Z"
   },
   {
    "duration": 13,
    "start_time": "2024-05-09T15:56:19.134Z"
   },
   {
    "duration": 10,
    "start_time": "2024-05-09T15:56:19.149Z"
   },
   {
    "duration": 6,
    "start_time": "2024-05-09T15:56:19.169Z"
   },
   {
    "duration": 328,
    "start_time": "2024-05-09T15:56:19.176Z"
   },
   {
    "duration": 179,
    "start_time": "2024-05-09T15:56:19.505Z"
   },
   {
    "duration": 4,
    "start_time": "2024-05-09T15:56:19.686Z"
   },
   {
    "duration": 27,
    "start_time": "2024-05-09T15:56:19.692Z"
   },
   {
    "duration": 17,
    "start_time": "2024-05-09T15:56:37.106Z"
   },
   {
    "duration": 23,
    "start_time": "2024-05-09T15:56:45.307Z"
   },
   {
    "duration": 73,
    "start_time": "2024-05-09T15:57:42.693Z"
   },
   {
    "duration": 25,
    "start_time": "2024-05-09T15:57:51.442Z"
   },
   {
    "duration": 306,
    "start_time": "2024-05-09T15:59:09.199Z"
   },
   {
    "duration": 263,
    "start_time": "2024-05-09T16:00:19.609Z"
   },
   {
    "duration": 331,
    "start_time": "2024-05-09T16:01:24.004Z"
   },
   {
    "duration": 628,
    "start_time": "2024-05-09T16:01:32.007Z"
   },
   {
    "duration": 30,
    "start_time": "2024-05-09T16:01:32.637Z"
   },
   {
    "duration": 53,
    "start_time": "2024-05-09T16:01:32.669Z"
   },
   {
    "duration": 123,
    "start_time": "2024-05-09T16:01:32.724Z"
   },
   {
    "duration": 42,
    "start_time": "2024-05-09T16:01:32.848Z"
   },
   {
    "duration": 6,
    "start_time": "2024-05-09T16:01:32.892Z"
   },
   {
    "duration": 33,
    "start_time": "2024-05-09T16:01:32.900Z"
   },
   {
    "duration": 52,
    "start_time": "2024-05-09T16:01:32.934Z"
   },
   {
    "duration": 40,
    "start_time": "2024-05-09T16:01:32.988Z"
   },
   {
    "duration": 21,
    "start_time": "2024-05-09T16:01:33.030Z"
   },
   {
    "duration": 332,
    "start_time": "2024-05-09T16:01:33.053Z"
   },
   {
    "duration": 185,
    "start_time": "2024-05-09T16:01:33.386Z"
   },
   {
    "duration": 4,
    "start_time": "2024-05-09T16:01:33.572Z"
   },
   {
    "duration": 367,
    "start_time": "2024-05-09T16:01:33.578Z"
   },
   {
    "duration": 9,
    "start_time": "2024-05-09T16:02:56.358Z"
   },
   {
    "duration": 9,
    "start_time": "2024-05-09T16:03:11.136Z"
   },
   {
    "duration": 95,
    "start_time": "2024-05-09T16:05:14.465Z"
   },
   {
    "duration": 55,
    "start_time": "2024-05-09T16:05:27.185Z"
   },
   {
    "duration": 608,
    "start_time": "2024-05-09T16:05:44.702Z"
   },
   {
    "duration": 28,
    "start_time": "2024-05-09T16:05:45.312Z"
   },
   {
    "duration": 53,
    "start_time": "2024-05-09T16:05:45.341Z"
   },
   {
    "duration": 120,
    "start_time": "2024-05-09T16:05:45.396Z"
   },
   {
    "duration": 28,
    "start_time": "2024-05-09T16:05:45.519Z"
   },
   {
    "duration": 21,
    "start_time": "2024-05-09T16:05:45.549Z"
   },
   {
    "duration": 32,
    "start_time": "2024-05-09T16:05:45.571Z"
   },
   {
    "duration": 16,
    "start_time": "2024-05-09T16:05:45.605Z"
   },
   {
    "duration": 10,
    "start_time": "2024-05-09T16:05:45.623Z"
   },
   {
    "duration": 23,
    "start_time": "2024-05-09T16:05:45.634Z"
   },
   {
    "duration": 319,
    "start_time": "2024-05-09T16:05:45.658Z"
   },
   {
    "duration": 172,
    "start_time": "2024-05-09T16:05:45.978Z"
   },
   {
    "duration": 5,
    "start_time": "2024-05-09T16:05:46.152Z"
   },
   {
    "duration": 111,
    "start_time": "2024-05-09T16:05:46.169Z"
   },
   {
    "duration": 602,
    "start_time": "2024-05-09T16:06:07.132Z"
   },
   {
    "duration": 27,
    "start_time": "2024-05-09T16:06:07.736Z"
   },
   {
    "duration": 31,
    "start_time": "2024-05-09T16:06:07.765Z"
   },
   {
    "duration": 105,
    "start_time": "2024-05-09T16:06:07.798Z"
   },
   {
    "duration": 25,
    "start_time": "2024-05-09T16:06:07.905Z"
   },
   {
    "duration": 5,
    "start_time": "2024-05-09T16:06:07.931Z"
   },
   {
    "duration": 40,
    "start_time": "2024-05-09T16:06:07.938Z"
   },
   {
    "duration": 12,
    "start_time": "2024-05-09T16:06:07.979Z"
   },
   {
    "duration": 19,
    "start_time": "2024-05-09T16:06:07.993Z"
   },
   {
    "duration": 12,
    "start_time": "2024-05-09T16:06:08.013Z"
   },
   {
    "duration": 308,
    "start_time": "2024-05-09T16:06:08.027Z"
   },
   {
    "duration": 173,
    "start_time": "2024-05-09T16:06:08.337Z"
   },
   {
    "duration": 4,
    "start_time": "2024-05-09T16:06:08.511Z"
   },
   {
    "duration": 107,
    "start_time": "2024-05-09T16:06:08.517Z"
   },
   {
    "duration": 50,
    "start_time": "2024-05-09T16:06:38.280Z"
   },
   {
    "duration": 1128,
    "start_time": "2024-05-09T16:09:18.482Z"
   },
   {
    "duration": 1046,
    "start_time": "2024-05-09T16:09:32.211Z"
   },
   {
    "duration": 65,
    "start_time": "2024-05-09T16:09:59.883Z"
   },
   {
    "duration": 653,
    "start_time": "2024-05-09T16:10:11.768Z"
   },
   {
    "duration": 29,
    "start_time": "2024-05-09T16:10:12.423Z"
   },
   {
    "duration": 41,
    "start_time": "2024-05-09T16:10:12.454Z"
   },
   {
    "duration": 115,
    "start_time": "2024-05-09T16:10:12.497Z"
   },
   {
    "duration": 27,
    "start_time": "2024-05-09T16:10:12.615Z"
   },
   {
    "duration": 5,
    "start_time": "2024-05-09T16:10:12.644Z"
   },
   {
    "duration": 20,
    "start_time": "2024-05-09T16:10:12.669Z"
   },
   {
    "duration": 23,
    "start_time": "2024-05-09T16:10:12.690Z"
   },
   {
    "duration": 19,
    "start_time": "2024-05-09T16:10:12.714Z"
   },
   {
    "duration": 24,
    "start_time": "2024-05-09T16:10:12.735Z"
   },
   {
    "duration": 342,
    "start_time": "2024-05-09T16:10:12.761Z"
   },
   {
    "duration": 181,
    "start_time": "2024-05-09T16:10:13.104Z"
   },
   {
    "duration": 4,
    "start_time": "2024-05-09T16:10:13.287Z"
   },
   {
    "duration": 1257,
    "start_time": "2024-05-09T16:10:13.294Z"
   },
   {
    "duration": 1,
    "start_time": "2024-05-09T16:10:14.553Z"
   },
   {
    "duration": 1085,
    "start_time": "2024-05-09T16:10:27.317Z"
   },
   {
    "duration": 8,
    "start_time": "2024-05-09T16:11:02.538Z"
   },
   {
    "duration": 855,
    "start_time": "2024-05-09T16:11:47.396Z"
   },
   {
    "duration": 858,
    "start_time": "2024-05-09T16:11:53.986Z"
   },
   {
    "duration": 45,
    "start_time": "2024-05-09T16:12:14.250Z"
   },
   {
    "duration": 628,
    "start_time": "2024-05-09T16:12:22.797Z"
   },
   {
    "duration": 30,
    "start_time": "2024-05-09T16:12:23.427Z"
   },
   {
    "duration": 56,
    "start_time": "2024-05-09T16:12:23.459Z"
   },
   {
    "duration": 124,
    "start_time": "2024-05-09T16:12:23.516Z"
   },
   {
    "duration": 47,
    "start_time": "2024-05-09T16:12:23.643Z"
   },
   {
    "duration": 6,
    "start_time": "2024-05-09T16:12:23.692Z"
   },
   {
    "duration": 24,
    "start_time": "2024-05-09T16:12:23.700Z"
   },
   {
    "duration": 15,
    "start_time": "2024-05-09T16:12:23.725Z"
   },
   {
    "duration": 11,
    "start_time": "2024-05-09T16:12:23.742Z"
   },
   {
    "duration": 37,
    "start_time": "2024-05-09T16:12:23.754Z"
   },
   {
    "duration": 315,
    "start_time": "2024-05-09T16:12:23.793Z"
   },
   {
    "duration": 177,
    "start_time": "2024-05-09T16:12:24.109Z"
   },
   {
    "duration": 4,
    "start_time": "2024-05-09T16:12:24.288Z"
   },
   {
    "duration": 124,
    "start_time": "2024-05-09T16:12:24.294Z"
   },
   {
    "duration": 3,
    "start_time": "2024-05-09T16:12:24.420Z"
   },
   {
    "duration": 55,
    "start_time": "2024-05-09T16:12:44.863Z"
   },
   {
    "duration": 712,
    "start_time": "2024-05-09T16:12:50.133Z"
   },
   {
    "duration": 29,
    "start_time": "2024-05-09T16:12:50.847Z"
   },
   {
    "duration": 38,
    "start_time": "2024-05-09T16:12:50.878Z"
   },
   {
    "duration": 121,
    "start_time": "2024-05-09T16:12:50.917Z"
   },
   {
    "duration": 43,
    "start_time": "2024-05-09T16:12:51.040Z"
   },
   {
    "duration": 5,
    "start_time": "2024-05-09T16:12:51.085Z"
   },
   {
    "duration": 22,
    "start_time": "2024-05-09T16:12:51.092Z"
   },
   {
    "duration": 44,
    "start_time": "2024-05-09T16:12:51.116Z"
   },
   {
    "duration": 17,
    "start_time": "2024-05-09T16:12:51.162Z"
   },
   {
    "duration": 9,
    "start_time": "2024-05-09T16:12:51.181Z"
   },
   {
    "duration": 310,
    "start_time": "2024-05-09T16:12:51.192Z"
   },
   {
    "duration": 184,
    "start_time": "2024-05-09T16:12:51.503Z"
   },
   {
    "duration": 4,
    "start_time": "2024-05-09T16:12:51.690Z"
   },
   {
    "duration": 131,
    "start_time": "2024-05-09T16:12:51.697Z"
   },
   {
    "duration": 3,
    "start_time": "2024-05-09T16:12:51.829Z"
   },
   {
    "duration": 72,
    "start_time": "2024-05-09T16:14:28.658Z"
   },
   {
    "duration": 17,
    "start_time": "2024-05-09T16:14:49.667Z"
   },
   {
    "duration": 4,
    "start_time": "2024-05-09T16:16:25.807Z"
   },
   {
    "duration": 636,
    "start_time": "2024-05-09T16:16:35.063Z"
   },
   {
    "duration": 29,
    "start_time": "2024-05-09T16:16:35.701Z"
   },
   {
    "duration": 47,
    "start_time": "2024-05-09T16:16:35.731Z"
   },
   {
    "duration": 122,
    "start_time": "2024-05-09T16:16:35.780Z"
   },
   {
    "duration": 36,
    "start_time": "2024-05-09T16:16:35.904Z"
   },
   {
    "duration": 6,
    "start_time": "2024-05-09T16:16:35.941Z"
   },
   {
    "duration": 47,
    "start_time": "2024-05-09T16:16:35.949Z"
   },
   {
    "duration": 15,
    "start_time": "2024-05-09T16:16:35.998Z"
   },
   {
    "duration": 8,
    "start_time": "2024-05-09T16:16:36.015Z"
   },
   {
    "duration": 10,
    "start_time": "2024-05-09T16:16:36.025Z"
   },
   {
    "duration": 313,
    "start_time": "2024-05-09T16:16:36.036Z"
   },
   {
    "duration": 175,
    "start_time": "2024-05-09T16:16:36.350Z"
   },
   {
    "duration": 4,
    "start_time": "2024-05-09T16:16:36.527Z"
   },
   {
    "duration": 105,
    "start_time": "2024-05-09T16:16:36.533Z"
   },
   {
    "duration": 5,
    "start_time": "2024-05-09T16:16:36.640Z"
   },
   {
    "duration": 673,
    "start_time": "2024-05-09T16:17:12.437Z"
   },
   {
    "duration": 30,
    "start_time": "2024-05-09T16:17:13.112Z"
   },
   {
    "duration": 47,
    "start_time": "2024-05-09T16:17:13.143Z"
   },
   {
    "duration": 122,
    "start_time": "2024-05-09T16:17:13.191Z"
   },
   {
    "duration": 28,
    "start_time": "2024-05-09T16:17:13.315Z"
   },
   {
    "duration": 6,
    "start_time": "2024-05-09T16:17:13.345Z"
   },
   {
    "duration": 34,
    "start_time": "2024-05-09T16:17:13.352Z"
   },
   {
    "duration": 13,
    "start_time": "2024-05-09T16:17:13.388Z"
   },
   {
    "duration": 32,
    "start_time": "2024-05-09T16:17:13.403Z"
   },
   {
    "duration": 7,
    "start_time": "2024-05-09T16:17:13.436Z"
   },
   {
    "duration": 313,
    "start_time": "2024-05-09T16:17:13.444Z"
   },
   {
    "duration": 184,
    "start_time": "2024-05-09T16:17:13.759Z"
   },
   {
    "duration": 4,
    "start_time": "2024-05-09T16:17:13.945Z"
   },
   {
    "duration": 118,
    "start_time": "2024-05-09T16:17:13.951Z"
   },
   {
    "duration": 6,
    "start_time": "2024-05-09T16:17:14.070Z"
   },
   {
    "duration": 19,
    "start_time": "2024-05-09T16:17:23.705Z"
   },
   {
    "duration": 67,
    "start_time": "2024-05-09T16:17:41.897Z"
   },
   {
    "duration": 8,
    "start_time": "2024-05-09T16:17:57.150Z"
   },
   {
    "duration": 7,
    "start_time": "2024-05-09T16:18:55.683Z"
   },
   {
    "duration": 638,
    "start_time": "2024-05-09T16:19:00.226Z"
   },
   {
    "duration": 29,
    "start_time": "2024-05-09T16:19:00.866Z"
   },
   {
    "duration": 83,
    "start_time": "2024-05-09T16:19:00.897Z"
   },
   {
    "duration": 128,
    "start_time": "2024-05-09T16:19:00.981Z"
   },
   {
    "duration": 197,
    "start_time": "2024-05-09T16:19:01.112Z"
   },
   {
    "duration": 137,
    "start_time": "2024-05-09T16:19:01.311Z"
   },
   {
    "duration": 177,
    "start_time": "2024-05-09T16:19:01.449Z"
   },
   {
    "duration": 137,
    "start_time": "2024-05-09T16:19:01.628Z"
   },
   {
    "duration": 78,
    "start_time": "2024-05-09T16:19:01.767Z"
   },
   {
    "duration": 46,
    "start_time": "2024-05-09T16:19:01.847Z"
   },
   {
    "duration": 365,
    "start_time": "2024-05-09T16:19:01.895Z"
   },
   {
    "duration": 188,
    "start_time": "2024-05-09T16:19:02.262Z"
   },
   {
    "duration": 4,
    "start_time": "2024-05-09T16:19:02.451Z"
   },
   {
    "duration": 134,
    "start_time": "2024-05-09T16:19:02.457Z"
   },
   {
    "duration": 11,
    "start_time": "2024-05-09T16:19:02.592Z"
   },
   {
    "duration": 16,
    "start_time": "2024-05-09T16:21:08.425Z"
   },
   {
    "duration": 8,
    "start_time": "2024-05-09T16:21:29.914Z"
   },
   {
    "duration": 591,
    "start_time": "2024-05-09T16:21:34.528Z"
   },
   {
    "duration": 30,
    "start_time": "2024-05-09T16:21:35.120Z"
   },
   {
    "duration": 43,
    "start_time": "2024-05-09T16:21:35.152Z"
   },
   {
    "duration": 136,
    "start_time": "2024-05-09T16:21:35.197Z"
   },
   {
    "duration": 42,
    "start_time": "2024-05-09T16:21:35.335Z"
   },
   {
    "duration": 5,
    "start_time": "2024-05-09T16:21:35.379Z"
   },
   {
    "duration": 35,
    "start_time": "2024-05-09T16:21:35.386Z"
   },
   {
    "duration": 52,
    "start_time": "2024-05-09T16:21:35.422Z"
   },
   {
    "duration": 24,
    "start_time": "2024-05-09T16:21:35.475Z"
   },
   {
    "duration": 18,
    "start_time": "2024-05-09T16:21:35.502Z"
   },
   {
    "duration": 300,
    "start_time": "2024-05-09T16:21:35.522Z"
   },
   {
    "duration": 175,
    "start_time": "2024-05-09T16:21:35.824Z"
   },
   {
    "duration": 3,
    "start_time": "2024-05-09T16:21:36.001Z"
   },
   {
    "duration": 122,
    "start_time": "2024-05-09T16:21:36.005Z"
   },
   {
    "duration": 8,
    "start_time": "2024-05-09T16:21:36.129Z"
   },
   {
    "duration": 10,
    "start_time": "2024-05-09T16:21:52.718Z"
   },
   {
    "duration": 618,
    "start_time": "2024-05-09T16:22:01.526Z"
   },
   {
    "duration": 31,
    "start_time": "2024-05-09T16:22:02.146Z"
   },
   {
    "duration": 55,
    "start_time": "2024-05-09T16:22:02.179Z"
   },
   {
    "duration": 107,
    "start_time": "2024-05-09T16:22:02.236Z"
   },
   {
    "duration": 42,
    "start_time": "2024-05-09T16:22:02.345Z"
   },
   {
    "duration": 26,
    "start_time": "2024-05-09T16:22:02.389Z"
   },
   {
    "duration": 42,
    "start_time": "2024-05-09T16:22:02.416Z"
   },
   {
    "duration": 39,
    "start_time": "2024-05-09T16:22:02.460Z"
   },
   {
    "duration": 22,
    "start_time": "2024-05-09T16:22:02.501Z"
   },
   {
    "duration": 7,
    "start_time": "2024-05-09T16:22:02.524Z"
   },
   {
    "duration": 335,
    "start_time": "2024-05-09T16:22:02.532Z"
   },
   {
    "duration": 202,
    "start_time": "2024-05-09T16:22:02.869Z"
   },
   {
    "duration": 4,
    "start_time": "2024-05-09T16:22:03.074Z"
   },
   {
    "duration": 114,
    "start_time": "2024-05-09T16:22:03.080Z"
   },
   {
    "duration": 8,
    "start_time": "2024-05-09T16:22:03.195Z"
   },
   {
    "duration": 21,
    "start_time": "2024-05-09T16:22:14.973Z"
   },
   {
    "duration": 595,
    "start_time": "2024-05-09T16:22:20.914Z"
   },
   {
    "duration": 30,
    "start_time": "2024-05-09T16:22:21.510Z"
   },
   {
    "duration": 50,
    "start_time": "2024-05-09T16:22:21.541Z"
   },
   {
    "duration": 113,
    "start_time": "2024-05-09T16:22:21.592Z"
   },
   {
    "duration": 27,
    "start_time": "2024-05-09T16:22:21.707Z"
   },
   {
    "duration": 6,
    "start_time": "2024-05-09T16:22:21.735Z"
   },
   {
    "duration": 40,
    "start_time": "2024-05-09T16:22:21.742Z"
   },
   {
    "duration": 40,
    "start_time": "2024-05-09T16:22:21.784Z"
   },
   {
    "duration": 39,
    "start_time": "2024-05-09T16:22:21.826Z"
   },
   {
    "duration": 24,
    "start_time": "2024-05-09T16:22:21.866Z"
   },
   {
    "duration": 326,
    "start_time": "2024-05-09T16:22:21.892Z"
   },
   {
    "duration": 181,
    "start_time": "2024-05-09T16:22:22.219Z"
   },
   {
    "duration": 4,
    "start_time": "2024-05-09T16:22:22.401Z"
   },
   {
    "duration": 100,
    "start_time": "2024-05-09T16:22:22.407Z"
   },
   {
    "duration": 21,
    "start_time": "2024-05-09T16:22:22.508Z"
   },
   {
    "duration": 606,
    "start_time": "2024-05-09T16:23:42.105Z"
   },
   {
    "duration": 27,
    "start_time": "2024-05-09T16:23:42.713Z"
   },
   {
    "duration": 44,
    "start_time": "2024-05-09T16:23:42.742Z"
   },
   {
    "duration": 103,
    "start_time": "2024-05-09T16:23:42.788Z"
   },
   {
    "duration": 26,
    "start_time": "2024-05-09T16:23:42.893Z"
   },
   {
    "duration": 5,
    "start_time": "2024-05-09T16:23:42.921Z"
   },
   {
    "duration": 42,
    "start_time": "2024-05-09T16:23:42.927Z"
   },
   {
    "duration": 18,
    "start_time": "2024-05-09T16:23:42.971Z"
   },
   {
    "duration": 17,
    "start_time": "2024-05-09T16:23:42.990Z"
   },
   {
    "duration": 6,
    "start_time": "2024-05-09T16:23:43.009Z"
   },
   {
    "duration": 302,
    "start_time": "2024-05-09T16:23:43.016Z"
   },
   {
    "duration": 173,
    "start_time": "2024-05-09T16:23:43.320Z"
   },
   {
    "duration": 4,
    "start_time": "2024-05-09T16:23:43.494Z"
   },
   {
    "duration": 100,
    "start_time": "2024-05-09T16:23:43.500Z"
   },
   {
    "duration": 22,
    "start_time": "2024-05-09T16:23:43.602Z"
   },
   {
    "duration": 140,
    "start_time": "2024-05-09T16:28:01.698Z"
   },
   {
    "duration": 72,
    "start_time": "2024-05-09T16:28:26.585Z"
   },
   {
    "duration": 20,
    "start_time": "2024-05-09T16:30:20.170Z"
   },
   {
    "duration": 1151,
    "start_time": "2024-05-09T16:36:56.848Z"
   },
   {
    "duration": 230,
    "start_time": "2024-05-09T16:37:05.030Z"
   },
   {
    "duration": 8,
    "start_time": "2024-05-09T16:37:43.617Z"
   },
   {
    "duration": 11,
    "start_time": "2024-05-09T16:37:47.607Z"
   },
   {
    "duration": 9,
    "start_time": "2024-05-09T16:37:49.134Z"
   },
   {
    "duration": 234,
    "start_time": "2024-05-09T16:38:55.722Z"
   },
   {
    "duration": 659,
    "start_time": "2024-05-10T12:10:24.649Z"
   },
   {
    "duration": 27,
    "start_time": "2024-05-10T12:10:25.309Z"
   },
   {
    "duration": 48,
    "start_time": "2024-05-10T12:10:25.338Z"
   },
   {
    "duration": 128,
    "start_time": "2024-05-10T12:10:25.389Z"
   },
   {
    "duration": 29,
    "start_time": "2024-05-10T12:10:25.518Z"
   },
   {
    "duration": 27,
    "start_time": "2024-05-10T12:10:25.548Z"
   },
   {
    "duration": 43,
    "start_time": "2024-05-10T12:10:25.576Z"
   },
   {
    "duration": 16,
    "start_time": "2024-05-10T12:10:25.621Z"
   },
   {
    "duration": 9,
    "start_time": "2024-05-10T12:10:25.639Z"
   },
   {
    "duration": 6,
    "start_time": "2024-05-10T12:10:25.650Z"
   },
   {
    "duration": 314,
    "start_time": "2024-05-10T12:10:25.657Z"
   },
   {
    "duration": 177,
    "start_time": "2024-05-10T12:10:25.973Z"
   },
   {
    "duration": 4,
    "start_time": "2024-05-10T12:10:26.152Z"
   },
   {
    "duration": 112,
    "start_time": "2024-05-10T12:10:26.157Z"
   },
   {
    "duration": 34,
    "start_time": "2024-05-10T12:10:26.270Z"
   },
   {
    "duration": 235,
    "start_time": "2024-05-10T12:10:26.306Z"
   },
   {
    "duration": 387,
    "start_time": "2024-05-10T12:12:35.007Z"
   },
   {
    "duration": 356,
    "start_time": "2024-05-10T12:12:42.224Z"
   },
   {
    "duration": 361,
    "start_time": "2024-05-10T12:12:46.121Z"
   },
   {
    "duration": 210,
    "start_time": "2024-05-10T12:12:48.515Z"
   },
   {
    "duration": 42203,
    "start_time": "2024-05-10T12:14:13.849Z"
   },
   {
    "duration": 663,
    "start_time": "2024-05-10T12:16:02.189Z"
   },
   {
    "duration": 34,
    "start_time": "2024-05-10T12:16:02.854Z"
   },
   {
    "duration": 68,
    "start_time": "2024-05-10T12:16:02.890Z"
   },
   {
    "duration": 120,
    "start_time": "2024-05-10T12:16:02.960Z"
   },
   {
    "duration": 29,
    "start_time": "2024-05-10T12:16:03.082Z"
   },
   {
    "duration": 6,
    "start_time": "2024-05-10T12:16:03.113Z"
   },
   {
    "duration": 31,
    "start_time": "2024-05-10T12:16:03.121Z"
   },
   {
    "duration": 37,
    "start_time": "2024-05-10T12:16:03.154Z"
   },
   {
    "duration": 24,
    "start_time": "2024-05-10T12:16:03.193Z"
   },
   {
    "duration": 21,
    "start_time": "2024-05-10T12:16:03.219Z"
   },
   {
    "duration": 350,
    "start_time": "2024-05-10T12:16:03.242Z"
   },
   {
    "duration": 188,
    "start_time": "2024-05-10T12:16:03.593Z"
   },
   {
    "duration": 5,
    "start_time": "2024-05-10T12:16:03.782Z"
   },
   {
    "duration": 99,
    "start_time": "2024-05-10T12:16:03.788Z"
   },
   {
    "duration": 24,
    "start_time": "2024-05-10T12:16:03.889Z"
   },
   {
    "duration": 41372,
    "start_time": "2024-05-10T12:16:03.916Z"
   },
   {
    "duration": 243,
    "start_time": "2024-05-10T12:20:06.838Z"
   },
   {
    "duration": 9,
    "start_time": "2024-05-10T12:20:30.823Z"
   },
   {
    "duration": 230,
    "start_time": "2024-05-10T12:20:35.843Z"
   },
   {
    "duration": 148,
    "start_time": "2024-05-10T12:21:48.278Z"
   },
   {
    "duration": 145,
    "start_time": "2024-05-10T12:23:24.471Z"
   },
   {
    "duration": 78,
    "start_time": "2024-05-10T12:25:44.870Z"
   },
   {
    "duration": 142,
    "start_time": "2024-05-10T12:26:33.597Z"
   },
   {
    "duration": 145,
    "start_time": "2024-05-10T12:27:21.309Z"
   },
   {
    "duration": 144,
    "start_time": "2024-05-10T12:27:58.319Z"
   },
   {
    "duration": 69,
    "start_time": "2024-05-10T12:28:49.618Z"
   },
   {
    "duration": 141,
    "start_time": "2024-05-10T12:29:11.561Z"
   },
   {
    "duration": 136,
    "start_time": "2024-05-10T12:29:22.412Z"
   },
   {
    "duration": 647,
    "start_time": "2024-05-10T12:32:25.564Z"
   },
   {
    "duration": 30,
    "start_time": "2024-05-10T12:32:26.213Z"
   },
   {
    "duration": 44,
    "start_time": "2024-05-10T12:32:26.244Z"
   },
   {
    "duration": 119,
    "start_time": "2024-05-10T12:32:26.290Z"
   },
   {
    "duration": 27,
    "start_time": "2024-05-10T12:32:26.412Z"
   },
   {
    "duration": 5,
    "start_time": "2024-05-10T12:32:26.441Z"
   },
   {
    "duration": 38,
    "start_time": "2024-05-10T12:32:26.448Z"
   },
   {
    "duration": 29,
    "start_time": "2024-05-10T12:32:26.488Z"
   },
   {
    "duration": 22,
    "start_time": "2024-05-10T12:32:26.519Z"
   },
   {
    "duration": 5,
    "start_time": "2024-05-10T12:32:26.543Z"
   },
   {
    "duration": 341,
    "start_time": "2024-05-10T12:32:26.550Z"
   },
   {
    "duration": 178,
    "start_time": "2024-05-10T12:32:26.893Z"
   },
   {
    "duration": 5,
    "start_time": "2024-05-10T12:32:27.073Z"
   },
   {
    "duration": 92,
    "start_time": "2024-05-10T12:32:27.081Z"
   },
   {
    "duration": 23,
    "start_time": "2024-05-10T12:32:27.175Z"
   },
   {
    "duration": 160,
    "start_time": "2024-05-10T12:32:27.200Z"
   },
   {
    "duration": 155,
    "start_time": "2024-05-10T12:37:46.426Z"
   },
   {
    "duration": 785,
    "start_time": "2024-05-10T12:38:01.022Z"
   },
   {
    "duration": 31,
    "start_time": "2024-05-10T12:38:01.809Z"
   },
   {
    "duration": 106,
    "start_time": "2024-05-10T12:38:01.841Z"
   },
   {
    "duration": 109,
    "start_time": "2024-05-10T12:38:01.948Z"
   },
   {
    "duration": 34,
    "start_time": "2024-05-10T12:38:02.059Z"
   },
   {
    "duration": 26,
    "start_time": "2024-05-10T12:38:02.094Z"
   },
   {
    "duration": 83,
    "start_time": "2024-05-10T12:38:02.122Z"
   },
   {
    "duration": 32,
    "start_time": "2024-05-10T12:38:02.207Z"
   },
   {
    "duration": 69,
    "start_time": "2024-05-10T12:38:02.241Z"
   },
   {
    "duration": 44,
    "start_time": "2024-05-10T12:38:02.311Z"
   },
   {
    "duration": 344,
    "start_time": "2024-05-10T12:38:02.357Z"
   },
   {
    "duration": 178,
    "start_time": "2024-05-10T12:38:02.702Z"
   },
   {
    "duration": 4,
    "start_time": "2024-05-10T12:38:02.881Z"
   },
   {
    "duration": 99,
    "start_time": "2024-05-10T12:38:02.888Z"
   },
   {
    "duration": 23,
    "start_time": "2024-05-10T12:38:02.989Z"
   },
   {
    "duration": 149,
    "start_time": "2024-05-10T12:38:03.013Z"
   },
   {
    "duration": 171,
    "start_time": "2024-05-10T12:38:03.164Z"
   },
   {
    "duration": 159,
    "start_time": "2024-05-10T12:38:20.213Z"
   },
   {
    "duration": 146,
    "start_time": "2024-05-10T12:39:13.037Z"
   },
   {
    "duration": 151,
    "start_time": "2024-05-10T12:39:46.012Z"
   },
   {
    "duration": 232,
    "start_time": "2024-05-10T12:45:04.111Z"
   },
   {
    "duration": 158,
    "start_time": "2024-05-10T12:45:44.977Z"
   },
   {
    "duration": 157,
    "start_time": "2024-05-10T12:45:52.942Z"
   },
   {
    "duration": 155,
    "start_time": "2024-05-10T12:46:00.080Z"
   },
   {
    "duration": 153,
    "start_time": "2024-05-10T12:47:10.901Z"
   },
   {
    "duration": 213,
    "start_time": "2024-05-10T12:47:18.249Z"
   },
   {
    "duration": 4,
    "start_time": "2024-05-10T12:47:48.216Z"
   },
   {
    "duration": 70,
    "start_time": "2024-05-10T12:47:53.830Z"
   },
   {
    "duration": 152,
    "start_time": "2024-05-10T12:47:58.362Z"
   },
   {
    "duration": 146,
    "start_time": "2024-05-10T12:48:06.953Z"
   },
   {
    "duration": 3,
    "start_time": "2024-05-10T12:48:12.041Z"
   },
   {
    "duration": 4,
    "start_time": "2024-05-10T12:48:38.006Z"
   },
   {
    "duration": 5,
    "start_time": "2024-05-10T12:49:33.705Z"
   },
   {
    "duration": 180,
    "start_time": "2024-05-10T12:49:42.354Z"
   },
   {
    "duration": 156,
    "start_time": "2024-05-10T12:49:50.469Z"
   },
   {
    "duration": 174,
    "start_time": "2024-05-10T12:49:52.543Z"
   },
   {
    "duration": 3,
    "start_time": "2024-05-10T12:50:04.958Z"
   },
   {
    "duration": 140,
    "start_time": "2024-05-10T12:50:16.576Z"
   },
   {
    "duration": 140,
    "start_time": "2024-05-10T12:50:21.251Z"
   },
   {
    "duration": 142,
    "start_time": "2024-05-10T12:50:24.978Z"
   },
   {
    "duration": 156,
    "start_time": "2024-05-10T12:50:36.150Z"
   },
   {
    "duration": 149,
    "start_time": "2024-05-10T12:50:56.913Z"
   },
   {
    "duration": 226,
    "start_time": "2024-05-10T12:51:00.316Z"
   },
   {
    "duration": 82,
    "start_time": "2024-05-10T12:51:38.925Z"
   },
   {
    "duration": 628,
    "start_time": "2024-05-10T12:51:44.591Z"
   },
   {
    "duration": 28,
    "start_time": "2024-05-10T12:51:45.221Z"
   },
   {
    "duration": 48,
    "start_time": "2024-05-10T12:51:45.250Z"
   },
   {
    "duration": 116,
    "start_time": "2024-05-10T12:51:45.299Z"
   },
   {
    "duration": 28,
    "start_time": "2024-05-10T12:51:45.418Z"
   },
   {
    "duration": 24,
    "start_time": "2024-05-10T12:51:45.448Z"
   },
   {
    "duration": 19,
    "start_time": "2024-05-10T12:51:45.474Z"
   },
   {
    "duration": 40,
    "start_time": "2024-05-10T12:51:45.495Z"
   },
   {
    "duration": 27,
    "start_time": "2024-05-10T12:51:45.537Z"
   },
   {
    "duration": 12,
    "start_time": "2024-05-10T12:51:45.565Z"
   },
   {
    "duration": 318,
    "start_time": "2024-05-10T12:51:45.578Z"
   },
   {
    "duration": 183,
    "start_time": "2024-05-10T12:51:45.898Z"
   },
   {
    "duration": 4,
    "start_time": "2024-05-10T12:51:46.082Z"
   },
   {
    "duration": 104,
    "start_time": "2024-05-10T12:51:46.088Z"
   },
   {
    "duration": 22,
    "start_time": "2024-05-10T12:51:46.194Z"
   },
   {
    "duration": 154,
    "start_time": "2024-05-10T12:51:46.217Z"
   },
   {
    "duration": 71,
    "start_time": "2024-05-10T12:51:46.372Z"
   },
   {
    "duration": 67,
    "start_time": "2024-05-10T12:51:53.877Z"
   },
   {
    "duration": 154,
    "start_time": "2024-05-10T12:52:05.064Z"
   },
   {
    "duration": 73,
    "start_time": "2024-05-10T12:52:07.228Z"
   },
   {
    "duration": 144,
    "start_time": "2024-05-10T12:52:11.684Z"
   },
   {
    "duration": 166,
    "start_time": "2024-05-10T12:52:19.653Z"
   },
   {
    "duration": 150,
    "start_time": "2024-05-10T12:52:41.478Z"
   },
   {
    "duration": 162,
    "start_time": "2024-05-10T12:54:39.793Z"
   },
   {
    "duration": 152,
    "start_time": "2024-05-10T12:55:16.129Z"
   },
   {
    "duration": 229,
    "start_time": "2024-05-10T12:55:55.469Z"
   },
   {
    "duration": 165,
    "start_time": "2024-05-10T12:56:00.966Z"
   },
   {
    "duration": 4,
    "start_time": "2024-05-10T12:56:03.983Z"
   },
   {
    "duration": 155,
    "start_time": "2024-05-10T12:56:17.664Z"
   },
   {
    "duration": 231,
    "start_time": "2024-05-10T12:57:35.766Z"
   },
   {
    "duration": 165,
    "start_time": "2024-05-10T12:58:09.781Z"
   },
   {
    "duration": 296,
    "start_time": "2024-05-10T13:00:04.842Z"
   },
   {
    "duration": 317,
    "start_time": "2024-05-10T13:00:36.270Z"
   },
   {
    "duration": 146,
    "start_time": "2024-05-10T13:01:13.249Z"
   },
   {
    "duration": 673,
    "start_time": "2024-05-10T13:01:16.755Z"
   },
   {
    "duration": 37,
    "start_time": "2024-05-10T13:01:17.430Z"
   },
   {
    "duration": 36,
    "start_time": "2024-05-10T13:01:17.469Z"
   },
   {
    "duration": 120,
    "start_time": "2024-05-10T13:01:17.507Z"
   },
   {
    "duration": 41,
    "start_time": "2024-05-10T13:01:17.629Z"
   },
   {
    "duration": 6,
    "start_time": "2024-05-10T13:01:17.672Z"
   },
   {
    "duration": 27,
    "start_time": "2024-05-10T13:01:17.680Z"
   },
   {
    "duration": 20,
    "start_time": "2024-05-10T13:01:17.708Z"
   },
   {
    "duration": 21,
    "start_time": "2024-05-10T13:01:17.729Z"
   },
   {
    "duration": 16,
    "start_time": "2024-05-10T13:01:17.752Z"
   },
   {
    "duration": 322,
    "start_time": "2024-05-10T13:01:17.770Z"
   },
   {
    "duration": 203,
    "start_time": "2024-05-10T13:01:18.093Z"
   },
   {
    "duration": 4,
    "start_time": "2024-05-10T13:01:18.297Z"
   },
   {
    "duration": 92,
    "start_time": "2024-05-10T13:01:18.303Z"
   },
   {
    "duration": 23,
    "start_time": "2024-05-10T13:01:18.397Z"
   },
   {
    "duration": 161,
    "start_time": "2024-05-10T13:01:18.421Z"
   },
   {
    "duration": 250,
    "start_time": "2024-05-10T13:01:18.584Z"
   },
   {
    "duration": 73,
    "start_time": "2024-05-10T13:01:36.879Z"
   },
   {
    "duration": 160,
    "start_time": "2024-05-10T13:01:45.445Z"
   },
   {
    "duration": 653,
    "start_time": "2024-05-10T13:01:53.076Z"
   },
   {
    "duration": 31,
    "start_time": "2024-05-10T13:01:53.731Z"
   },
   {
    "duration": 80,
    "start_time": "2024-05-10T13:01:53.766Z"
   },
   {
    "duration": 73,
    "start_time": "2024-05-10T13:01:53.849Z"
   },
   {
    "duration": 30,
    "start_time": "2024-05-10T13:01:53.923Z"
   },
   {
    "duration": 7,
    "start_time": "2024-05-10T13:01:53.970Z"
   },
   {
    "duration": 20,
    "start_time": "2024-05-10T13:01:53.979Z"
   },
   {
    "duration": 14,
    "start_time": "2024-05-10T13:01:54.000Z"
   },
   {
    "duration": 34,
    "start_time": "2024-05-10T13:01:54.016Z"
   },
   {
    "duration": 9,
    "start_time": "2024-05-10T13:01:54.051Z"
   },
   {
    "duration": 333,
    "start_time": "2024-05-10T13:01:54.061Z"
   },
   {
    "duration": 181,
    "start_time": "2024-05-10T13:01:54.396Z"
   },
   {
    "duration": 4,
    "start_time": "2024-05-10T13:01:54.580Z"
   },
   {
    "duration": 104,
    "start_time": "2024-05-10T13:01:54.586Z"
   },
   {
    "duration": 25,
    "start_time": "2024-05-10T13:01:54.691Z"
   },
   {
    "duration": 156,
    "start_time": "2024-05-10T13:01:54.718Z"
   },
   {
    "duration": 160,
    "start_time": "2024-05-10T13:01:54.876Z"
   },
   {
    "duration": 154,
    "start_time": "2024-05-10T13:02:49.940Z"
   },
   {
    "duration": 150,
    "start_time": "2024-05-10T13:03:04.678Z"
   },
   {
    "duration": 218,
    "start_time": "2024-05-10T13:06:46.796Z"
   },
   {
    "duration": 619,
    "start_time": "2024-05-10T13:06:51.781Z"
   },
   {
    "duration": 31,
    "start_time": "2024-05-10T13:06:52.402Z"
   },
   {
    "duration": 49,
    "start_time": "2024-05-10T13:06:52.434Z"
   },
   {
    "duration": 121,
    "start_time": "2024-05-10T13:06:52.485Z"
   },
   {
    "duration": 27,
    "start_time": "2024-05-10T13:06:52.608Z"
   },
   {
    "duration": 5,
    "start_time": "2024-05-10T13:06:52.637Z"
   },
   {
    "duration": 36,
    "start_time": "2024-05-10T13:06:52.643Z"
   },
   {
    "duration": 12,
    "start_time": "2024-05-10T13:06:52.680Z"
   },
   {
    "duration": 15,
    "start_time": "2024-05-10T13:06:52.694Z"
   },
   {
    "duration": 4,
    "start_time": "2024-05-10T13:06:52.711Z"
   },
   {
    "duration": 328,
    "start_time": "2024-05-10T13:06:52.717Z"
   },
   {
    "duration": 165,
    "start_time": "2024-05-10T13:06:53.047Z"
   },
   {
    "duration": 4,
    "start_time": "2024-05-10T13:06:53.214Z"
   },
   {
    "duration": 88,
    "start_time": "2024-05-10T13:06:53.220Z"
   },
   {
    "duration": 21,
    "start_time": "2024-05-10T13:06:53.310Z"
   },
   {
    "duration": 143,
    "start_time": "2024-05-10T13:06:53.333Z"
   },
   {
    "duration": 230,
    "start_time": "2024-05-10T13:06:53.478Z"
   },
   {
    "duration": 149,
    "start_time": "2024-05-10T13:07:33.189Z"
   },
   {
    "duration": 640,
    "start_time": "2024-05-10T13:10:04.298Z"
   },
   {
    "duration": 30,
    "start_time": "2024-05-10T13:10:04.940Z"
   },
   {
    "duration": 35,
    "start_time": "2024-05-10T13:10:04.972Z"
   },
   {
    "duration": 124,
    "start_time": "2024-05-10T13:10:05.009Z"
   },
   {
    "duration": 44,
    "start_time": "2024-05-10T13:10:05.135Z"
   },
   {
    "duration": 6,
    "start_time": "2024-05-10T13:10:05.180Z"
   },
   {
    "duration": 25,
    "start_time": "2024-05-10T13:10:05.188Z"
   },
   {
    "duration": 12,
    "start_time": "2024-05-10T13:10:05.215Z"
   },
   {
    "duration": 10,
    "start_time": "2024-05-10T13:10:05.229Z"
   },
   {
    "duration": 6,
    "start_time": "2024-05-10T13:10:05.241Z"
   },
   {
    "duration": 383,
    "start_time": "2024-05-10T13:10:05.248Z"
   },
   {
    "duration": 182,
    "start_time": "2024-05-10T13:10:05.633Z"
   },
   {
    "duration": 5,
    "start_time": "2024-05-10T13:10:05.816Z"
   },
   {
    "duration": 99,
    "start_time": "2024-05-10T13:10:05.822Z"
   },
   {
    "duration": 23,
    "start_time": "2024-05-10T13:10:05.923Z"
   },
   {
    "duration": 165,
    "start_time": "2024-05-10T13:10:05.948Z"
   },
   {
    "duration": 176,
    "start_time": "2024-05-10T13:10:06.115Z"
   },
   {
    "duration": 202,
    "start_time": "2024-05-10T13:11:47.781Z"
   },
   {
    "duration": 613,
    "start_time": "2024-05-10T13:12:06.628Z"
   },
   {
    "duration": 32,
    "start_time": "2024-05-10T13:12:07.243Z"
   },
   {
    "duration": 38,
    "start_time": "2024-05-10T13:12:07.277Z"
   },
   {
    "duration": 124,
    "start_time": "2024-05-10T13:12:07.317Z"
   },
   {
    "duration": 46,
    "start_time": "2024-05-10T13:12:07.444Z"
   },
   {
    "duration": 5,
    "start_time": "2024-05-10T13:12:07.492Z"
   },
   {
    "duration": 44,
    "start_time": "2024-05-10T13:12:07.499Z"
   },
   {
    "duration": 20,
    "start_time": "2024-05-10T13:12:07.545Z"
   },
   {
    "duration": 29,
    "start_time": "2024-05-10T13:12:07.566Z"
   },
   {
    "duration": 21,
    "start_time": "2024-05-10T13:12:07.597Z"
   },
   {
    "duration": 309,
    "start_time": "2024-05-10T13:12:07.620Z"
   },
   {
    "duration": 176,
    "start_time": "2024-05-10T13:12:07.930Z"
   },
   {
    "duration": 5,
    "start_time": "2024-05-10T13:12:08.108Z"
   },
   {
    "duration": 113,
    "start_time": "2024-05-10T13:12:08.115Z"
   },
   {
    "duration": 21,
    "start_time": "2024-05-10T13:12:08.230Z"
   },
   {
    "duration": 152,
    "start_time": "2024-05-10T13:12:08.253Z"
   },
   {
    "duration": 231,
    "start_time": "2024-05-10T13:12:08.407Z"
   },
   {
    "duration": 69,
    "start_time": "2024-05-10T13:12:19.668Z"
   },
   {
    "duration": 170,
    "start_time": "2024-05-10T13:12:32.309Z"
   },
   {
    "duration": 154,
    "start_time": "2024-05-10T13:12:44.223Z"
   },
   {
    "duration": 151,
    "start_time": "2024-05-10T13:13:04.155Z"
   },
   {
    "duration": 146,
    "start_time": "2024-05-10T13:13:11.660Z"
   },
   {
    "duration": 152,
    "start_time": "2024-05-10T13:13:21.609Z"
   },
   {
    "duration": 150,
    "start_time": "2024-05-10T13:13:27.309Z"
   },
   {
    "duration": 189,
    "start_time": "2024-05-10T13:16:10.473Z"
   },
   {
    "duration": 644,
    "start_time": "2024-05-10T13:16:14.598Z"
   },
   {
    "duration": 30,
    "start_time": "2024-05-10T13:16:15.244Z"
   },
   {
    "duration": 91,
    "start_time": "2024-05-10T13:16:15.276Z"
   },
   {
    "duration": 116,
    "start_time": "2024-05-10T13:16:15.368Z"
   },
   {
    "duration": 29,
    "start_time": "2024-05-10T13:16:15.487Z"
   },
   {
    "duration": 10,
    "start_time": "2024-05-10T13:16:15.518Z"
   },
   {
    "duration": 51,
    "start_time": "2024-05-10T13:16:15.529Z"
   },
   {
    "duration": 39,
    "start_time": "2024-05-10T13:16:15.582Z"
   },
   {
    "duration": 42,
    "start_time": "2024-05-10T13:16:15.623Z"
   },
   {
    "duration": 20,
    "start_time": "2024-05-10T13:16:15.666Z"
   },
   {
    "duration": 324,
    "start_time": "2024-05-10T13:16:15.688Z"
   },
   {
    "duration": 195,
    "start_time": "2024-05-10T13:16:16.013Z"
   },
   {
    "duration": 4,
    "start_time": "2024-05-10T13:16:16.210Z"
   },
   {
    "duration": 95,
    "start_time": "2024-05-10T13:16:16.216Z"
   },
   {
    "duration": 21,
    "start_time": "2024-05-10T13:16:16.313Z"
   },
   {
    "duration": 151,
    "start_time": "2024-05-10T13:16:16.336Z"
   },
   {
    "duration": 237,
    "start_time": "2024-05-10T13:16:16.488Z"
   },
   {
    "duration": 147,
    "start_time": "2024-05-10T13:16:58.778Z"
   },
   {
    "duration": 150,
    "start_time": "2024-05-10T13:17:06.911Z"
   },
   {
    "duration": 168,
    "start_time": "2024-05-10T13:17:32.136Z"
   },
   {
    "duration": 167,
    "start_time": "2024-05-10T13:19:56.299Z"
   },
   {
    "duration": 153,
    "start_time": "2024-05-10T13:21:46.011Z"
   },
   {
    "duration": 69,
    "start_time": "2024-05-10T13:23:16.905Z"
   },
   {
    "duration": 152,
    "start_time": "2024-05-10T13:23:19.555Z"
   },
   {
    "duration": 75,
    "start_time": "2024-05-10T13:23:46.695Z"
   },
   {
    "duration": 620,
    "start_time": "2024-05-10T13:23:54.587Z"
   },
   {
    "duration": 27,
    "start_time": "2024-05-10T13:23:55.209Z"
   },
   {
    "duration": 55,
    "start_time": "2024-05-10T13:23:55.238Z"
   },
   {
    "duration": 126,
    "start_time": "2024-05-10T13:23:55.295Z"
   },
   {
    "duration": 32,
    "start_time": "2024-05-10T13:23:55.423Z"
   },
   {
    "duration": 7,
    "start_time": "2024-05-10T13:23:55.470Z"
   },
   {
    "duration": 37,
    "start_time": "2024-05-10T13:23:55.478Z"
   },
   {
    "duration": 30,
    "start_time": "2024-05-10T13:23:55.516Z"
   },
   {
    "duration": 15,
    "start_time": "2024-05-10T13:23:55.547Z"
   },
   {
    "duration": 24,
    "start_time": "2024-05-10T13:23:55.564Z"
   },
   {
    "duration": 328,
    "start_time": "2024-05-10T13:23:55.590Z"
   },
   {
    "duration": 172,
    "start_time": "2024-05-10T13:23:55.919Z"
   },
   {
    "duration": 4,
    "start_time": "2024-05-10T13:23:56.092Z"
   },
   {
    "duration": 99,
    "start_time": "2024-05-10T13:23:56.098Z"
   },
   {
    "duration": 22,
    "start_time": "2024-05-10T13:23:56.199Z"
   },
   {
    "duration": 162,
    "start_time": "2024-05-10T13:23:56.222Z"
   },
   {
    "duration": 68,
    "start_time": "2024-05-10T13:23:56.385Z"
   },
   {
    "duration": 68,
    "start_time": "2024-05-10T13:24:05.990Z"
   },
   {
    "duration": 66,
    "start_time": "2024-05-10T13:24:08.759Z"
   },
   {
    "duration": 67,
    "start_time": "2024-05-10T13:24:15.507Z"
   },
   {
    "duration": 81,
    "start_time": "2024-05-10T13:24:17.835Z"
   },
   {
    "duration": 65,
    "start_time": "2024-05-10T13:24:24.932Z"
   },
   {
    "duration": 81,
    "start_time": "2024-05-10T13:24:29.985Z"
   },
   {
    "duration": 677,
    "start_time": "2024-05-10T13:24:42.953Z"
   },
   {
    "duration": 28,
    "start_time": "2024-05-10T13:24:43.632Z"
   },
   {
    "duration": 38,
    "start_time": "2024-05-10T13:24:43.661Z"
   },
   {
    "duration": 112,
    "start_time": "2024-05-10T13:24:43.700Z"
   },
   {
    "duration": 27,
    "start_time": "2024-05-10T13:24:43.814Z"
   },
   {
    "duration": 5,
    "start_time": "2024-05-10T13:24:43.843Z"
   },
   {
    "duration": 18,
    "start_time": "2024-05-10T13:24:43.869Z"
   },
   {
    "duration": 19,
    "start_time": "2024-05-10T13:24:43.888Z"
   },
   {
    "duration": 15,
    "start_time": "2024-05-10T13:24:43.908Z"
   },
   {
    "duration": 5,
    "start_time": "2024-05-10T13:24:43.925Z"
   },
   {
    "duration": 334,
    "start_time": "2024-05-10T13:24:43.931Z"
   },
   {
    "duration": 172,
    "start_time": "2024-05-10T13:24:44.267Z"
   },
   {
    "duration": 4,
    "start_time": "2024-05-10T13:24:44.441Z"
   },
   {
    "duration": 103,
    "start_time": "2024-05-10T13:24:44.448Z"
   },
   {
    "duration": 26,
    "start_time": "2024-05-10T13:24:44.552Z"
   },
   {
    "duration": 166,
    "start_time": "2024-05-10T13:24:44.580Z"
   },
   {
    "duration": 167,
    "start_time": "2024-05-10T13:24:44.748Z"
   },
   {
    "duration": 68,
    "start_time": "2024-05-10T13:24:51.195Z"
   },
   {
    "duration": 162,
    "start_time": "2024-05-10T13:24:54.064Z"
   },
   {
    "duration": 156,
    "start_time": "2024-05-10T13:25:00.221Z"
   },
   {
    "duration": 147,
    "start_time": "2024-05-10T13:25:10.515Z"
   },
   {
    "duration": 69,
    "start_time": "2024-05-10T13:25:51.975Z"
   },
   {
    "duration": 85,
    "start_time": "2024-05-10T13:25:58.933Z"
   },
   {
    "duration": 72,
    "start_time": "2024-05-10T13:26:20.922Z"
   },
   {
    "duration": 66,
    "start_time": "2024-05-10T13:26:33.639Z"
   },
   {
    "duration": 625,
    "start_time": "2024-05-10T13:26:36.789Z"
   },
   {
    "duration": 26,
    "start_time": "2024-05-10T13:26:37.416Z"
   },
   {
    "duration": 42,
    "start_time": "2024-05-10T13:26:37.443Z"
   },
   {
    "duration": 109,
    "start_time": "2024-05-10T13:26:37.487Z"
   },
   {
    "duration": 25,
    "start_time": "2024-05-10T13:26:37.598Z"
   },
   {
    "duration": 5,
    "start_time": "2024-05-10T13:26:37.625Z"
   },
   {
    "duration": 39,
    "start_time": "2024-05-10T13:26:37.631Z"
   },
   {
    "duration": 12,
    "start_time": "2024-05-10T13:26:37.671Z"
   },
   {
    "duration": 10,
    "start_time": "2024-05-10T13:26:37.684Z"
   },
   {
    "duration": 5,
    "start_time": "2024-05-10T13:26:37.695Z"
   },
   {
    "duration": 318,
    "start_time": "2024-05-10T13:26:37.701Z"
   },
   {
    "duration": 172,
    "start_time": "2024-05-10T13:26:38.020Z"
   },
   {
    "duration": 4,
    "start_time": "2024-05-10T13:26:38.194Z"
   },
   {
    "duration": 102,
    "start_time": "2024-05-10T13:26:38.201Z"
   },
   {
    "duration": 22,
    "start_time": "2024-05-10T13:26:38.304Z"
   },
   {
    "duration": 165,
    "start_time": "2024-05-10T13:26:38.327Z"
   },
   {
    "duration": 75,
    "start_time": "2024-05-10T13:26:38.493Z"
   },
   {
    "duration": 211,
    "start_time": "2024-05-10T13:26:59.481Z"
   },
   {
    "duration": 146,
    "start_time": "2024-05-10T13:27:31.593Z"
   },
   {
    "duration": 145,
    "start_time": "2024-05-10T13:27:39.263Z"
   },
   {
    "duration": 5,
    "start_time": "2024-05-10T13:27:44.371Z"
   },
   {
    "duration": 5,
    "start_time": "2024-05-10T13:27:48.172Z"
   },
   {
    "duration": 166,
    "start_time": "2024-05-10T13:27:51.033Z"
   },
   {
    "duration": 177,
    "start_time": "2024-05-10T13:28:00.065Z"
   },
   {
    "duration": 15,
    "start_time": "2024-05-10T13:28:48.498Z"
   },
   {
    "duration": 82,
    "start_time": "2024-05-10T13:28:54.307Z"
   },
   {
    "duration": 68,
    "start_time": "2024-05-10T13:28:58.752Z"
   },
   {
    "duration": 102,
    "start_time": "2024-05-10T13:29:01.903Z"
   },
   {
    "duration": 74,
    "start_time": "2024-05-10T13:29:09.817Z"
   },
   {
    "duration": 164,
    "start_time": "2024-05-10T13:29:47.071Z"
   },
   {
    "duration": 169,
    "start_time": "2024-05-10T13:30:44.336Z"
   },
   {
    "duration": 172,
    "start_time": "2024-05-10T13:30:59.423Z"
   },
   {
    "duration": 10,
    "start_time": "2024-05-10T13:31:06.902Z"
   },
   {
    "duration": 10,
    "start_time": "2024-05-10T13:31:12.453Z"
   },
   {
    "duration": 642,
    "start_time": "2024-05-10T13:31:16.089Z"
   },
   {
    "duration": 27,
    "start_time": "2024-05-10T13:31:16.733Z"
   },
   {
    "duration": 34,
    "start_time": "2024-05-10T13:31:16.761Z"
   },
   {
    "duration": 113,
    "start_time": "2024-05-10T13:31:16.797Z"
   },
   {
    "duration": 27,
    "start_time": "2024-05-10T13:31:16.911Z"
   },
   {
    "duration": 14,
    "start_time": "2024-05-10T13:31:16.939Z"
   },
   {
    "duration": 30,
    "start_time": "2024-05-10T13:31:16.954Z"
   },
   {
    "duration": 19,
    "start_time": "2024-05-10T13:31:16.986Z"
   },
   {
    "duration": 15,
    "start_time": "2024-05-10T13:31:17.007Z"
   },
   {
    "duration": 6,
    "start_time": "2024-05-10T13:31:17.024Z"
   },
   {
    "duration": 325,
    "start_time": "2024-05-10T13:31:17.032Z"
   },
   {
    "duration": 189,
    "start_time": "2024-05-10T13:31:17.359Z"
   },
   {
    "duration": 5,
    "start_time": "2024-05-10T13:31:17.549Z"
   },
   {
    "duration": 96,
    "start_time": "2024-05-10T13:31:17.555Z"
   },
   {
    "duration": 28,
    "start_time": "2024-05-10T13:31:17.653Z"
   },
   {
    "duration": 150,
    "start_time": "2024-05-10T13:31:17.682Z"
   },
   {
    "duration": 9,
    "start_time": "2024-05-10T13:31:17.833Z"
   },
   {
    "duration": 617,
    "start_time": "2024-05-10T13:32:12.687Z"
   },
   {
    "duration": 27,
    "start_time": "2024-05-10T13:32:13.306Z"
   },
   {
    "duration": 44,
    "start_time": "2024-05-10T13:32:13.334Z"
   },
   {
    "duration": 112,
    "start_time": "2024-05-10T13:32:13.379Z"
   },
   {
    "duration": 27,
    "start_time": "2024-05-10T13:32:13.493Z"
   },
   {
    "duration": 5,
    "start_time": "2024-05-10T13:32:13.522Z"
   },
   {
    "duration": 25,
    "start_time": "2024-05-10T13:32:13.528Z"
   },
   {
    "duration": 12,
    "start_time": "2024-05-10T13:32:13.569Z"
   },
   {
    "duration": 13,
    "start_time": "2024-05-10T13:32:13.583Z"
   },
   {
    "duration": 5,
    "start_time": "2024-05-10T13:32:13.597Z"
   },
   {
    "duration": 338,
    "start_time": "2024-05-10T13:32:13.604Z"
   },
   {
    "duration": 186,
    "start_time": "2024-05-10T13:32:13.944Z"
   },
   {
    "duration": 4,
    "start_time": "2024-05-10T13:32:14.132Z"
   },
   {
    "duration": 98,
    "start_time": "2024-05-10T13:32:14.138Z"
   },
   {
    "duration": 32,
    "start_time": "2024-05-10T13:32:14.237Z"
   },
   {
    "duration": 143,
    "start_time": "2024-05-10T13:32:14.271Z"
   },
   {
    "duration": 11,
    "start_time": "2024-05-10T13:32:14.416Z"
   },
   {
    "duration": 657,
    "start_time": "2024-05-10T13:32:34.249Z"
   },
   {
    "duration": 29,
    "start_time": "2024-05-10T13:32:34.908Z"
   },
   {
    "duration": 48,
    "start_time": "2024-05-10T13:32:34.939Z"
   },
   {
    "duration": 113,
    "start_time": "2024-05-10T13:32:34.989Z"
   },
   {
    "duration": 27,
    "start_time": "2024-05-10T13:32:35.104Z"
   },
   {
    "duration": 5,
    "start_time": "2024-05-10T13:32:35.132Z"
   },
   {
    "duration": 35,
    "start_time": "2024-05-10T13:32:35.139Z"
   },
   {
    "duration": 17,
    "start_time": "2024-05-10T13:32:35.176Z"
   },
   {
    "duration": 10,
    "start_time": "2024-05-10T13:32:35.195Z"
   },
   {
    "duration": 6,
    "start_time": "2024-05-10T13:32:35.207Z"
   },
   {
    "duration": 331,
    "start_time": "2024-05-10T13:32:35.214Z"
   },
   {
    "duration": 169,
    "start_time": "2024-05-10T13:32:35.547Z"
   },
   {
    "duration": 3,
    "start_time": "2024-05-10T13:32:35.718Z"
   },
   {
    "duration": 109,
    "start_time": "2024-05-10T13:32:35.724Z"
   },
   {
    "duration": 24,
    "start_time": "2024-05-10T13:32:35.835Z"
   },
   {
    "duration": 152,
    "start_time": "2024-05-10T13:32:35.869Z"
   },
   {
    "duration": 11,
    "start_time": "2024-05-10T13:32:36.022Z"
   },
   {
    "duration": 41,
    "start_time": "2024-05-11T15:55:48.458Z"
   },
   {
    "duration": 660,
    "start_time": "2024-05-11T15:55:53.062Z"
   },
   {
    "duration": 22,
    "start_time": "2024-05-11T15:55:53.724Z"
   },
   {
    "duration": 26,
    "start_time": "2024-05-11T15:55:53.747Z"
   },
   {
    "duration": 96,
    "start_time": "2024-05-11T15:55:53.774Z"
   },
   {
    "duration": 38,
    "start_time": "2024-05-11T15:55:53.871Z"
   },
   {
    "duration": 5,
    "start_time": "2024-05-11T15:55:53.910Z"
   },
   {
    "duration": 16,
    "start_time": "2024-05-11T15:55:53.917Z"
   },
   {
    "duration": 11,
    "start_time": "2024-05-11T15:55:53.934Z"
   },
   {
    "duration": 8,
    "start_time": "2024-05-11T15:55:53.946Z"
   },
   {
    "duration": 27,
    "start_time": "2024-05-11T15:55:53.955Z"
   },
   {
    "duration": 406,
    "start_time": "2024-05-11T15:55:53.983Z"
   },
   {
    "duration": 143,
    "start_time": "2024-05-11T15:55:54.390Z"
   },
   {
    "duration": 4,
    "start_time": "2024-05-11T15:55:54.534Z"
   },
   {
    "duration": 78,
    "start_time": "2024-05-11T15:55:54.540Z"
   },
   {
    "duration": 23,
    "start_time": "2024-05-11T15:55:54.619Z"
   },
   {
    "duration": 129,
    "start_time": "2024-05-11T15:55:54.644Z"
   },
   {
    "duration": 8,
    "start_time": "2024-05-11T15:55:54.774Z"
   },
   {
    "duration": 268,
    "start_time": "2024-05-11T15:55:54.783Z"
   },
   {
    "duration": 199,
    "start_time": "2024-05-11T15:56:03.787Z"
   },
   {
    "duration": 211,
    "start_time": "2024-05-11T15:56:08.901Z"
   },
   {
    "duration": 182,
    "start_time": "2024-05-11T15:56:12.132Z"
   },
   {
    "duration": 178,
    "start_time": "2024-05-11T15:56:15.690Z"
   },
   {
    "duration": 231,
    "start_time": "2024-05-11T15:56:18.220Z"
   },
   {
    "duration": 184,
    "start_time": "2024-05-11T15:56:20.851Z"
   },
   {
    "duration": 197,
    "start_time": "2024-05-11T15:56:34.501Z"
   },
   {
    "duration": 178,
    "start_time": "2024-05-11T15:56:45.411Z"
   },
   {
    "duration": 175,
    "start_time": "2024-05-11T15:57:03.331Z"
   },
   {
    "duration": 238,
    "start_time": "2024-05-11T15:57:07.399Z"
   },
   {
    "duration": 196,
    "start_time": "2024-05-11T15:57:12.071Z"
   },
   {
    "duration": 247,
    "start_time": "2024-05-11T15:57:21.488Z"
   },
   {
    "duration": 190,
    "start_time": "2024-05-11T15:57:49.610Z"
   },
   {
    "duration": 201,
    "start_time": "2024-05-11T15:58:08.227Z"
   },
   {
    "duration": 232,
    "start_time": "2024-05-11T15:58:39.062Z"
   },
   {
    "duration": 543,
    "start_time": "2024-05-11T15:58:43.246Z"
   },
   {
    "duration": 33,
    "start_time": "2024-05-11T15:58:43.791Z"
   },
   {
    "duration": 37,
    "start_time": "2024-05-11T15:58:43.826Z"
   },
   {
    "duration": 114,
    "start_time": "2024-05-11T15:58:43.864Z"
   },
   {
    "duration": 36,
    "start_time": "2024-05-11T15:58:43.980Z"
   },
   {
    "duration": 6,
    "start_time": "2024-05-11T15:58:44.017Z"
   },
   {
    "duration": 34,
    "start_time": "2024-05-11T15:58:44.025Z"
   },
   {
    "duration": 15,
    "start_time": "2024-05-11T15:58:44.061Z"
   },
   {
    "duration": 25,
    "start_time": "2024-05-11T15:58:44.077Z"
   },
   {
    "duration": 4,
    "start_time": "2024-05-11T15:58:44.103Z"
   },
   {
    "duration": 276,
    "start_time": "2024-05-11T15:58:44.108Z"
   },
   {
    "duration": 146,
    "start_time": "2024-05-11T15:58:44.386Z"
   },
   {
    "duration": 4,
    "start_time": "2024-05-11T15:58:44.533Z"
   },
   {
    "duration": 73,
    "start_time": "2024-05-11T15:58:44.540Z"
   },
   {
    "duration": 25,
    "start_time": "2024-05-11T15:58:44.614Z"
   },
   {
    "duration": 135,
    "start_time": "2024-05-11T15:58:44.641Z"
   },
   {
    "duration": 7,
    "start_time": "2024-05-11T15:58:44.777Z"
   },
   {
    "duration": 247,
    "start_time": "2024-05-11T15:58:44.785Z"
   },
   {
    "duration": 333,
    "start_time": "2024-05-11T15:59:49.975Z"
   },
   {
    "duration": 543,
    "start_time": "2024-05-11T16:00:15.111Z"
   },
   {
    "duration": 21,
    "start_time": "2024-05-11T16:00:15.655Z"
   },
   {
    "duration": 37,
    "start_time": "2024-05-11T16:00:15.677Z"
   },
   {
    "duration": 86,
    "start_time": "2024-05-11T16:00:15.715Z"
   },
   {
    "duration": 22,
    "start_time": "2024-05-11T16:00:15.803Z"
   },
   {
    "duration": 5,
    "start_time": "2024-05-11T16:00:15.826Z"
   },
   {
    "duration": 27,
    "start_time": "2024-05-11T16:00:15.832Z"
   },
   {
    "duration": 14,
    "start_time": "2024-05-11T16:00:15.860Z"
   },
   {
    "duration": 11,
    "start_time": "2024-05-11T16:00:15.875Z"
   },
   {
    "duration": 17,
    "start_time": "2024-05-11T16:00:15.888Z"
   },
   {
    "duration": 281,
    "start_time": "2024-05-11T16:00:15.907Z"
   },
   {
    "duration": 146,
    "start_time": "2024-05-11T16:00:16.190Z"
   },
   {
    "duration": 3,
    "start_time": "2024-05-11T16:00:16.338Z"
   },
   {
    "duration": 68,
    "start_time": "2024-05-11T16:00:16.343Z"
   },
   {
    "duration": 17,
    "start_time": "2024-05-11T16:00:16.413Z"
   },
   {
    "duration": 128,
    "start_time": "2024-05-11T16:00:16.431Z"
   },
   {
    "duration": 7,
    "start_time": "2024-05-11T16:00:16.560Z"
   },
   {
    "duration": 343,
    "start_time": "2024-05-11T16:00:16.568Z"
   },
   {
    "duration": 327,
    "start_time": "2024-05-11T16:02:34.519Z"
   },
   {
    "duration": 346,
    "start_time": "2024-05-11T16:02:38.967Z"
   },
   {
    "duration": 388,
    "start_time": "2024-05-11T16:03:38.739Z"
   },
   {
    "duration": 527,
    "start_time": "2024-05-11T16:03:42.437Z"
   },
   {
    "duration": 27,
    "start_time": "2024-05-11T16:03:42.965Z"
   },
   {
    "duration": 34,
    "start_time": "2024-05-11T16:03:42.993Z"
   },
   {
    "duration": 96,
    "start_time": "2024-05-11T16:03:43.028Z"
   },
   {
    "duration": 32,
    "start_time": "2024-05-11T16:03:43.126Z"
   },
   {
    "duration": 7,
    "start_time": "2024-05-11T16:03:43.159Z"
   },
   {
    "duration": 42,
    "start_time": "2024-05-11T16:03:43.167Z"
   },
   {
    "duration": 15,
    "start_time": "2024-05-11T16:03:43.211Z"
   },
   {
    "duration": 8,
    "start_time": "2024-05-11T16:03:43.229Z"
   },
   {
    "duration": 6,
    "start_time": "2024-05-11T16:03:43.238Z"
   },
   {
    "duration": 292,
    "start_time": "2024-05-11T16:03:43.245Z"
   },
   {
    "duration": 145,
    "start_time": "2024-05-11T16:03:43.539Z"
   },
   {
    "duration": 17,
    "start_time": "2024-05-11T16:03:43.685Z"
   },
   {
    "duration": 66,
    "start_time": "2024-05-11T16:03:43.704Z"
   },
   {
    "duration": 17,
    "start_time": "2024-05-11T16:03:43.771Z"
   },
   {
    "duration": 118,
    "start_time": "2024-05-11T16:03:43.789Z"
   },
   {
    "duration": 7,
    "start_time": "2024-05-11T16:03:43.908Z"
   },
   {
    "duration": 316,
    "start_time": "2024-05-11T16:03:43.917Z"
   },
   {
    "duration": 306,
    "start_time": "2024-05-11T16:04:22.717Z"
   },
   {
    "duration": 310,
    "start_time": "2024-05-11T16:04:28.432Z"
   },
   {
    "duration": 359,
    "start_time": "2024-05-11T16:04:33.971Z"
   },
   {
    "duration": 300,
    "start_time": "2024-05-11T16:04:43.502Z"
   },
   {
    "duration": 42,
    "start_time": "2024-05-11T16:05:05.380Z"
   },
   {
    "duration": 330,
    "start_time": "2024-05-11T16:05:16.451Z"
   },
   {
    "duration": 114,
    "start_time": "2024-05-11T16:05:52.242Z"
   },
   {
    "duration": 42,
    "start_time": "2024-05-11T16:10:02.690Z"
   },
   {
    "duration": 539,
    "start_time": "2024-05-11T16:10:07.238Z"
   },
   {
    "duration": 22,
    "start_time": "2024-05-11T16:10:07.778Z"
   },
   {
    "duration": 27,
    "start_time": "2024-05-11T16:10:07.801Z"
   },
   {
    "duration": 96,
    "start_time": "2024-05-11T16:10:07.829Z"
   },
   {
    "duration": 22,
    "start_time": "2024-05-11T16:10:07.927Z"
   },
   {
    "duration": 5,
    "start_time": "2024-05-11T16:10:07.950Z"
   },
   {
    "duration": 38,
    "start_time": "2024-05-11T16:10:07.956Z"
   },
   {
    "duration": 17,
    "start_time": "2024-05-11T16:10:07.996Z"
   },
   {
    "duration": 15,
    "start_time": "2024-05-11T16:10:08.014Z"
   },
   {
    "duration": 9,
    "start_time": "2024-05-11T16:10:08.030Z"
   },
   {
    "duration": 262,
    "start_time": "2024-05-11T16:10:08.041Z"
   },
   {
    "duration": 142,
    "start_time": "2024-05-11T16:10:08.305Z"
   },
   {
    "duration": 4,
    "start_time": "2024-05-11T16:10:08.448Z"
   },
   {
    "duration": 82,
    "start_time": "2024-05-11T16:10:08.455Z"
   },
   {
    "duration": 19,
    "start_time": "2024-05-11T16:10:08.538Z"
   },
   {
    "duration": 126,
    "start_time": "2024-05-11T16:10:08.559Z"
   },
   {
    "duration": 15,
    "start_time": "2024-05-11T16:10:08.687Z"
   },
   {
    "duration": 169,
    "start_time": "2024-05-11T16:10:08.704Z"
   },
   {
    "duration": 44,
    "start_time": "2024-05-11T16:10:08.875Z"
   },
   {
    "duration": 20,
    "start_time": "2024-05-11T16:10:14.528Z"
   },
   {
    "duration": 150,
    "start_time": "2024-05-11T16:13:29.578Z"
   },
   {
    "duration": 16,
    "start_time": "2024-05-11T16:13:44.744Z"
   },
   {
    "duration": 144,
    "start_time": "2024-05-12T10:39:53.373Z"
   },
   {
    "duration": 142,
    "start_time": "2024-05-12T10:40:50.149Z"
   },
   {
    "duration": 144,
    "start_time": "2024-05-12T10:40:56.802Z"
   },
   {
    "duration": 145,
    "start_time": "2024-05-12T10:41:02.787Z"
   },
   {
    "duration": 145,
    "start_time": "2024-05-12T10:41:09.956Z"
   },
   {
    "duration": 150,
    "start_time": "2024-05-12T10:41:13.081Z"
   },
   {
    "duration": 510,
    "start_time": "2024-05-12T10:42:22.546Z"
   },
   {
    "duration": 21,
    "start_time": "2024-05-12T10:42:23.058Z"
   },
   {
    "duration": 42,
    "start_time": "2024-05-12T10:42:23.081Z"
   },
   {
    "duration": 90,
    "start_time": "2024-05-12T10:42:23.125Z"
   },
   {
    "duration": 22,
    "start_time": "2024-05-12T10:42:23.216Z"
   },
   {
    "duration": 8,
    "start_time": "2024-05-12T10:42:23.240Z"
   },
   {
    "duration": 35,
    "start_time": "2024-05-12T10:42:23.249Z"
   },
   {
    "duration": 19,
    "start_time": "2024-05-12T10:42:23.286Z"
   },
   {
    "duration": 12,
    "start_time": "2024-05-12T10:42:23.306Z"
   },
   {
    "duration": 8,
    "start_time": "2024-05-12T10:42:23.320Z"
   },
   {
    "duration": 283,
    "start_time": "2024-05-12T10:42:23.330Z"
   },
   {
    "duration": 135,
    "start_time": "2024-05-12T10:42:23.615Z"
   },
   {
    "duration": 4,
    "start_time": "2024-05-12T10:42:23.751Z"
   },
   {
    "duration": 92,
    "start_time": "2024-05-12T10:42:23.756Z"
   },
   {
    "duration": 17,
    "start_time": "2024-05-12T10:42:23.849Z"
   },
   {
    "duration": 122,
    "start_time": "2024-05-12T10:42:23.867Z"
   },
   {
    "duration": 14,
    "start_time": "2024-05-12T10:42:23.991Z"
   },
   {
    "duration": 154,
    "start_time": "2024-05-12T10:42:24.007Z"
   },
   {
    "duration": 16,
    "start_time": "2024-05-12T10:42:24.162Z"
   },
   {
    "duration": 205,
    "start_time": "2024-05-12T10:42:24.179Z"
   },
   {
    "duration": 143,
    "start_time": "2024-05-12T10:42:34.220Z"
   },
   {
    "duration": 165,
    "start_time": "2024-05-12T10:46:29.627Z"
   },
   {
    "duration": 165,
    "start_time": "2024-05-12T10:46:54.251Z"
   },
   {
    "duration": 148,
    "start_time": "2024-05-12T10:47:03.324Z"
   },
   {
    "duration": 531,
    "start_time": "2024-05-12T10:47:06.618Z"
   },
   {
    "duration": 20,
    "start_time": "2024-05-12T10:47:07.151Z"
   },
   {
    "duration": 37,
    "start_time": "2024-05-12T10:47:07.172Z"
   },
   {
    "duration": 94,
    "start_time": "2024-05-12T10:47:07.211Z"
   },
   {
    "duration": 23,
    "start_time": "2024-05-12T10:47:07.306Z"
   },
   {
    "duration": 16,
    "start_time": "2024-05-12T10:47:07.330Z"
   },
   {
    "duration": 25,
    "start_time": "2024-05-12T10:47:07.348Z"
   },
   {
    "duration": 13,
    "start_time": "2024-05-12T10:47:07.375Z"
   },
   {
    "duration": 9,
    "start_time": "2024-05-12T10:47:07.389Z"
   },
   {
    "duration": 5,
    "start_time": "2024-05-12T10:47:07.400Z"
   },
   {
    "duration": 276,
    "start_time": "2024-05-12T10:47:07.406Z"
   },
   {
    "duration": 145,
    "start_time": "2024-05-12T10:47:07.684Z"
   },
   {
    "duration": 4,
    "start_time": "2024-05-12T10:47:07.830Z"
   },
   {
    "duration": 104,
    "start_time": "2024-05-12T10:47:07.835Z"
   },
   {
    "duration": 21,
    "start_time": "2024-05-12T10:47:07.940Z"
   },
   {
    "duration": 118,
    "start_time": "2024-05-12T10:47:07.962Z"
   },
   {
    "duration": 8,
    "start_time": "2024-05-12T10:47:08.081Z"
   },
   {
    "duration": 128,
    "start_time": "2024-05-12T10:47:08.090Z"
   },
   {
    "duration": 16,
    "start_time": "2024-05-12T10:47:08.219Z"
   },
   {
    "duration": 167,
    "start_time": "2024-05-12T10:47:08.236Z"
   },
   {
    "duration": 124,
    "start_time": "2024-05-12T10:54:48.196Z"
   },
   {
    "duration": 63,
    "start_time": "2024-05-12T10:55:01.768Z"
   },
   {
    "duration": 281,
    "start_time": "2024-05-12T10:55:42.164Z"
   },
   {
    "duration": 283,
    "start_time": "2024-05-12T10:55:49.408Z"
   },
   {
    "duration": 132,
    "start_time": "2024-05-12T10:55:57.418Z"
   },
   {
    "duration": 841,
    "start_time": "2024-05-12T10:58:15.046Z"
   },
   {
    "duration": 707,
    "start_time": "2024-05-12T10:58:51.728Z"
   },
   {
    "duration": 28,
    "start_time": "2024-05-12T10:59:11.204Z"
   },
   {
    "duration": 686,
    "start_time": "2024-05-12T10:59:21.870Z"
   },
   {
    "duration": 190,
    "start_time": "2024-05-12T10:59:46.055Z"
   },
   {
    "duration": 144,
    "start_time": "2024-05-12T11:07:25.358Z"
   },
   {
    "duration": 141,
    "start_time": "2024-05-12T11:07:56.210Z"
   },
   {
    "duration": 561,
    "start_time": "2024-05-12T11:08:02.520Z"
   },
   {
    "duration": 22,
    "start_time": "2024-05-12T11:08:03.083Z"
   },
   {
    "duration": 29,
    "start_time": "2024-05-12T11:08:03.107Z"
   },
   {
    "duration": 113,
    "start_time": "2024-05-12T11:08:03.138Z"
   },
   {
    "duration": 24,
    "start_time": "2024-05-12T11:08:03.254Z"
   },
   {
    "duration": 22,
    "start_time": "2024-05-12T11:08:03.280Z"
   },
   {
    "duration": 37,
    "start_time": "2024-05-12T11:08:03.303Z"
   },
   {
    "duration": 15,
    "start_time": "2024-05-12T11:08:03.342Z"
   },
   {
    "duration": 18,
    "start_time": "2024-05-12T11:08:03.359Z"
   },
   {
    "duration": 5,
    "start_time": "2024-05-12T11:08:03.378Z"
   },
   {
    "duration": 272,
    "start_time": "2024-05-12T11:08:03.384Z"
   },
   {
    "duration": 145,
    "start_time": "2024-05-12T11:08:03.658Z"
   },
   {
    "duration": 3,
    "start_time": "2024-05-12T11:08:03.805Z"
   },
   {
    "duration": 76,
    "start_time": "2024-05-12T11:08:03.810Z"
   },
   {
    "duration": 19,
    "start_time": "2024-05-12T11:08:03.887Z"
   },
   {
    "duration": 116,
    "start_time": "2024-05-12T11:08:03.907Z"
   },
   {
    "duration": 7,
    "start_time": "2024-05-12T11:08:04.024Z"
   },
   {
    "duration": 128,
    "start_time": "2024-05-12T11:08:04.032Z"
   },
   {
    "duration": 16,
    "start_time": "2024-05-12T11:08:04.161Z"
   },
   {
    "duration": 177,
    "start_time": "2024-05-12T11:08:04.178Z"
   },
   {
    "duration": 152,
    "start_time": "2024-05-12T11:08:04.357Z"
   },
   {
    "duration": 140,
    "start_time": "2024-05-12T11:09:47.408Z"
   },
   {
    "duration": 150,
    "start_time": "2024-05-12T11:11:38.771Z"
   },
   {
    "duration": 545,
    "start_time": "2024-05-12T11:11:43.857Z"
   },
   {
    "duration": 21,
    "start_time": "2024-05-12T11:11:44.403Z"
   },
   {
    "duration": 26,
    "start_time": "2024-05-12T11:11:44.425Z"
   },
   {
    "duration": 89,
    "start_time": "2024-05-12T11:11:44.453Z"
   },
   {
    "duration": 22,
    "start_time": "2024-05-12T11:11:44.544Z"
   },
   {
    "duration": 4,
    "start_time": "2024-05-12T11:11:44.567Z"
   },
   {
    "duration": 34,
    "start_time": "2024-05-12T11:11:44.572Z"
   },
   {
    "duration": 27,
    "start_time": "2024-05-12T11:11:44.607Z"
   },
   {
    "duration": 15,
    "start_time": "2024-05-12T11:11:44.635Z"
   },
   {
    "duration": 6,
    "start_time": "2024-05-12T11:11:44.651Z"
   },
   {
    "duration": 263,
    "start_time": "2024-05-12T11:11:44.658Z"
   },
   {
    "duration": 141,
    "start_time": "2024-05-12T11:11:44.923Z"
   },
   {
    "duration": 4,
    "start_time": "2024-05-12T11:11:45.066Z"
   },
   {
    "duration": 99,
    "start_time": "2024-05-12T11:11:45.071Z"
   },
   {
    "duration": 18,
    "start_time": "2024-05-12T11:11:45.171Z"
   },
   {
    "duration": 141,
    "start_time": "2024-05-12T11:11:45.191Z"
   },
   {
    "duration": 7,
    "start_time": "2024-05-12T11:11:45.333Z"
   },
   {
    "duration": 155,
    "start_time": "2024-05-12T11:11:45.341Z"
   },
   {
    "duration": 15,
    "start_time": "2024-05-12T11:11:45.502Z"
   },
   {
    "duration": 173,
    "start_time": "2024-05-12T11:11:45.518Z"
   },
   {
    "duration": 145,
    "start_time": "2024-05-12T11:11:45.693Z"
   },
   {
    "duration": 138,
    "start_time": "2024-05-12T11:12:19.620Z"
   },
   {
    "duration": 140,
    "start_time": "2024-05-12T11:12:48.281Z"
   },
   {
    "duration": 566,
    "start_time": "2024-05-12T11:12:52.388Z"
   },
   {
    "duration": 21,
    "start_time": "2024-05-12T11:12:52.955Z"
   },
   {
    "duration": 74,
    "start_time": "2024-05-12T11:12:52.977Z"
   },
   {
    "duration": 93,
    "start_time": "2024-05-12T11:12:53.053Z"
   },
   {
    "duration": 23,
    "start_time": "2024-05-12T11:12:53.147Z"
   },
   {
    "duration": 4,
    "start_time": "2024-05-12T11:12:53.172Z"
   },
   {
    "duration": 41,
    "start_time": "2024-05-12T11:12:53.177Z"
   },
   {
    "duration": 54,
    "start_time": "2024-05-12T11:12:53.220Z"
   },
   {
    "duration": 14,
    "start_time": "2024-05-12T11:12:53.276Z"
   },
   {
    "duration": 9,
    "start_time": "2024-05-12T11:12:53.292Z"
   },
   {
    "duration": 270,
    "start_time": "2024-05-12T11:12:53.302Z"
   },
   {
    "duration": 139,
    "start_time": "2024-05-12T11:12:53.574Z"
   },
   {
    "duration": 3,
    "start_time": "2024-05-12T11:12:53.714Z"
   },
   {
    "duration": 76,
    "start_time": "2024-05-12T11:12:53.719Z"
   },
   {
    "duration": 35,
    "start_time": "2024-05-12T11:12:53.796Z"
   },
   {
    "duration": 120,
    "start_time": "2024-05-12T11:12:53.832Z"
   },
   {
    "duration": 7,
    "start_time": "2024-05-12T11:12:53.953Z"
   },
   {
    "duration": 126,
    "start_time": "2024-05-12T11:12:53.961Z"
   },
   {
    "duration": 22,
    "start_time": "2024-05-12T11:12:54.089Z"
   },
   {
    "duration": 167,
    "start_time": "2024-05-12T11:12:54.112Z"
   },
   {
    "duration": 152,
    "start_time": "2024-05-12T11:12:54.280Z"
   },
   {
    "duration": 140,
    "start_time": "2024-05-12T11:13:03.776Z"
   },
   {
    "duration": 573,
    "start_time": "2024-05-12T11:13:07.272Z"
   },
   {
    "duration": 21,
    "start_time": "2024-05-12T11:13:07.847Z"
   },
   {
    "duration": 26,
    "start_time": "2024-05-12T11:13:07.869Z"
   },
   {
    "duration": 81,
    "start_time": "2024-05-12T11:13:07.897Z"
   },
   {
    "duration": 34,
    "start_time": "2024-05-12T11:13:07.979Z"
   },
   {
    "duration": 99,
    "start_time": "2024-05-12T11:13:08.014Z"
   },
   {
    "duration": 69,
    "start_time": "2024-05-12T11:13:08.114Z"
   },
   {
    "duration": 25,
    "start_time": "2024-05-12T11:13:08.184Z"
   },
   {
    "duration": 13,
    "start_time": "2024-05-12T11:13:08.210Z"
   },
   {
    "duration": 16,
    "start_time": "2024-05-12T11:13:08.225Z"
   },
   {
    "duration": 273,
    "start_time": "2024-05-12T11:13:08.242Z"
   },
   {
    "duration": 156,
    "start_time": "2024-05-12T11:13:08.517Z"
   },
   {
    "duration": 3,
    "start_time": "2024-05-12T11:13:08.674Z"
   },
   {
    "duration": 84,
    "start_time": "2024-05-12T11:13:08.679Z"
   },
   {
    "duration": 18,
    "start_time": "2024-05-12T11:13:08.764Z"
   },
   {
    "duration": 118,
    "start_time": "2024-05-12T11:13:08.783Z"
   },
   {
    "duration": 6,
    "start_time": "2024-05-12T11:13:08.903Z"
   },
   {
    "duration": 123,
    "start_time": "2024-05-12T11:13:08.910Z"
   },
   {
    "duration": 17,
    "start_time": "2024-05-12T11:13:09.034Z"
   },
   {
    "duration": 161,
    "start_time": "2024-05-12T11:13:09.053Z"
   },
   {
    "duration": 151,
    "start_time": "2024-05-12T11:13:09.215Z"
   },
   {
    "duration": 14,
    "start_time": "2024-05-12T11:13:23.505Z"
   },
   {
    "duration": 525,
    "start_time": "2024-05-12T11:13:32.845Z"
   },
   {
    "duration": 23,
    "start_time": "2024-05-12T11:13:33.371Z"
   },
   {
    "duration": 26,
    "start_time": "2024-05-12T11:13:33.396Z"
   },
   {
    "duration": 85,
    "start_time": "2024-05-12T11:13:33.423Z"
   },
   {
    "duration": 23,
    "start_time": "2024-05-12T11:13:33.509Z"
   },
   {
    "duration": 5,
    "start_time": "2024-05-12T11:13:33.534Z"
   },
   {
    "duration": 21,
    "start_time": "2024-05-12T11:13:33.540Z"
   },
   {
    "duration": 14,
    "start_time": "2024-05-12T11:13:33.563Z"
   },
   {
    "duration": 28,
    "start_time": "2024-05-12T11:13:33.578Z"
   },
   {
    "duration": 9,
    "start_time": "2024-05-12T11:13:33.607Z"
   },
   {
    "duration": 259,
    "start_time": "2024-05-12T11:13:33.617Z"
   },
   {
    "duration": 146,
    "start_time": "2024-05-12T11:13:33.877Z"
   },
   {
    "duration": 4,
    "start_time": "2024-05-12T11:13:34.024Z"
   },
   {
    "duration": 71,
    "start_time": "2024-05-12T11:13:34.030Z"
   },
   {
    "duration": 19,
    "start_time": "2024-05-12T11:13:34.103Z"
   },
   {
    "duration": 125,
    "start_time": "2024-05-12T11:13:34.123Z"
   },
   {
    "duration": 7,
    "start_time": "2024-05-12T11:13:34.249Z"
   },
   {
    "duration": 130,
    "start_time": "2024-05-12T11:13:34.257Z"
   },
   {
    "duration": 24,
    "start_time": "2024-05-12T11:13:34.388Z"
   },
   {
    "duration": 173,
    "start_time": "2024-05-12T11:13:34.414Z"
   },
   {
    "duration": 21,
    "start_time": "2024-05-12T11:13:34.588Z"
   },
   {
    "duration": 14,
    "start_time": "2024-05-12T11:13:49.552Z"
   },
   {
    "duration": 530,
    "start_time": "2024-05-12T11:13:58.750Z"
   },
   {
    "duration": 24,
    "start_time": "2024-05-12T11:13:59.281Z"
   },
   {
    "duration": 28,
    "start_time": "2024-05-12T11:13:59.307Z"
   },
   {
    "duration": 93,
    "start_time": "2024-05-12T11:13:59.336Z"
   },
   {
    "duration": 22,
    "start_time": "2024-05-12T11:13:59.431Z"
   },
   {
    "duration": 5,
    "start_time": "2024-05-12T11:13:59.454Z"
   },
   {
    "duration": 24,
    "start_time": "2024-05-12T11:13:59.460Z"
   },
   {
    "duration": 21,
    "start_time": "2024-05-12T11:13:59.485Z"
   },
   {
    "duration": 24,
    "start_time": "2024-05-12T11:13:59.507Z"
   },
   {
    "duration": 8,
    "start_time": "2024-05-12T11:13:59.533Z"
   },
   {
    "duration": 262,
    "start_time": "2024-05-12T11:13:59.542Z"
   },
   {
    "duration": 132,
    "start_time": "2024-05-12T11:13:59.806Z"
   },
   {
    "duration": 4,
    "start_time": "2024-05-12T11:13:59.939Z"
   },
   {
    "duration": 75,
    "start_time": "2024-05-12T11:13:59.944Z"
   },
   {
    "duration": 18,
    "start_time": "2024-05-12T11:14:00.020Z"
   },
   {
    "duration": 125,
    "start_time": "2024-05-12T11:14:00.039Z"
   },
   {
    "duration": 8,
    "start_time": "2024-05-12T11:14:00.166Z"
   },
   {
    "duration": 198,
    "start_time": "2024-05-12T11:14:00.175Z"
   },
   {
    "duration": 17,
    "start_time": "2024-05-12T11:14:00.375Z"
   },
   {
    "duration": 245,
    "start_time": "2024-05-12T11:14:00.393Z"
   },
   {
    "duration": 14,
    "start_time": "2024-05-12T11:14:00.640Z"
   },
   {
    "duration": 552,
    "start_time": "2024-05-12T11:14:36.918Z"
   },
   {
    "duration": 29,
    "start_time": "2024-05-12T11:14:37.471Z"
   },
   {
    "duration": 28,
    "start_time": "2024-05-12T11:14:37.501Z"
   },
   {
    "duration": 100,
    "start_time": "2024-05-12T11:14:37.531Z"
   },
   {
    "duration": 24,
    "start_time": "2024-05-12T11:14:37.632Z"
   },
   {
    "duration": 5,
    "start_time": "2024-05-12T11:14:37.657Z"
   },
   {
    "duration": 20,
    "start_time": "2024-05-12T11:14:37.663Z"
   },
   {
    "duration": 12,
    "start_time": "2024-05-12T11:14:37.701Z"
   },
   {
    "duration": 15,
    "start_time": "2024-05-12T11:14:37.714Z"
   },
   {
    "duration": 16,
    "start_time": "2024-05-12T11:14:37.731Z"
   },
   {
    "duration": 276,
    "start_time": "2024-05-12T11:14:37.749Z"
   },
   {
    "duration": 135,
    "start_time": "2024-05-12T11:14:38.027Z"
   },
   {
    "duration": 4,
    "start_time": "2024-05-12T11:14:38.163Z"
   },
   {
    "duration": 68,
    "start_time": "2024-05-12T11:14:38.168Z"
   },
   {
    "duration": 17,
    "start_time": "2024-05-12T11:14:38.238Z"
   },
   {
    "duration": 123,
    "start_time": "2024-05-12T11:14:38.256Z"
   },
   {
    "duration": 7,
    "start_time": "2024-05-12T11:14:38.380Z"
   },
   {
    "duration": 123,
    "start_time": "2024-05-12T11:14:38.388Z"
   },
   {
    "duration": 16,
    "start_time": "2024-05-12T11:14:38.512Z"
   },
   {
    "duration": 257,
    "start_time": "2024-05-12T11:14:38.529Z"
   },
   {
    "duration": 5,
    "start_time": "2024-05-12T11:14:38.787Z"
   },
   {
    "duration": 27,
    "start_time": "2024-05-12T11:14:38.793Z"
   },
   {
    "duration": 66,
    "start_time": "2024-05-12T11:16:46.485Z"
   },
   {
    "duration": 583,
    "start_time": "2024-05-12T11:16:49.778Z"
   },
   {
    "duration": 30,
    "start_time": "2024-05-12T11:16:50.363Z"
   },
   {
    "duration": 39,
    "start_time": "2024-05-12T11:16:50.394Z"
   },
   {
    "duration": 82,
    "start_time": "2024-05-12T11:16:50.435Z"
   },
   {
    "duration": 22,
    "start_time": "2024-05-12T11:16:50.518Z"
   },
   {
    "duration": 4,
    "start_time": "2024-05-12T11:16:50.542Z"
   },
   {
    "duration": 42,
    "start_time": "2024-05-12T11:16:50.548Z"
   },
   {
    "duration": 32,
    "start_time": "2024-05-12T11:16:50.592Z"
   },
   {
    "duration": 32,
    "start_time": "2024-05-12T11:16:50.625Z"
   },
   {
    "duration": 5,
    "start_time": "2024-05-12T11:16:50.659Z"
   },
   {
    "duration": 269,
    "start_time": "2024-05-12T11:16:50.665Z"
   },
   {
    "duration": 140,
    "start_time": "2024-05-12T11:16:50.935Z"
   },
   {
    "duration": 3,
    "start_time": "2024-05-12T11:16:51.076Z"
   },
   {
    "duration": 72,
    "start_time": "2024-05-12T11:16:51.080Z"
   },
   {
    "duration": 22,
    "start_time": "2024-05-12T11:16:51.154Z"
   },
   {
    "duration": 130,
    "start_time": "2024-05-12T11:16:51.177Z"
   },
   {
    "duration": 9,
    "start_time": "2024-05-12T11:16:51.308Z"
   },
   {
    "duration": 139,
    "start_time": "2024-05-12T11:16:51.319Z"
   },
   {
    "duration": 17,
    "start_time": "2024-05-12T11:16:51.459Z"
   },
   {
    "duration": 80,
    "start_time": "2024-05-12T11:16:51.477Z"
   },
   {
    "duration": 0,
    "start_time": "2024-05-12T11:16:51.559Z"
   },
   {
    "duration": 0,
    "start_time": "2024-05-12T11:16:51.560Z"
   },
   {
    "duration": 180,
    "start_time": "2024-05-12T11:17:10.103Z"
   },
   {
    "duration": 603,
    "start_time": "2024-05-12T11:17:15.671Z"
   },
   {
    "duration": 24,
    "start_time": "2024-05-12T11:17:16.275Z"
   },
   {
    "duration": 65,
    "start_time": "2024-05-12T11:17:16.300Z"
   },
   {
    "duration": 87,
    "start_time": "2024-05-12T11:17:16.366Z"
   },
   {
    "duration": 23,
    "start_time": "2024-05-12T11:17:16.456Z"
   },
   {
    "duration": 21,
    "start_time": "2024-05-12T11:17:16.481Z"
   },
   {
    "duration": 18,
    "start_time": "2024-05-12T11:17:16.503Z"
   },
   {
    "duration": 20,
    "start_time": "2024-05-12T11:17:16.522Z"
   },
   {
    "duration": 18,
    "start_time": "2024-05-12T11:17:16.544Z"
   },
   {
    "duration": 9,
    "start_time": "2024-05-12T11:17:16.564Z"
   },
   {
    "duration": 261,
    "start_time": "2024-05-12T11:17:16.575Z"
   },
   {
    "duration": 140,
    "start_time": "2024-05-12T11:17:16.838Z"
   },
   {
    "duration": 4,
    "start_time": "2024-05-12T11:17:16.979Z"
   },
   {
    "duration": 79,
    "start_time": "2024-05-12T11:17:16.985Z"
   },
   {
    "duration": 24,
    "start_time": "2024-05-12T11:17:17.066Z"
   },
   {
    "duration": 161,
    "start_time": "2024-05-12T11:17:17.092Z"
   },
   {
    "duration": 7,
    "start_time": "2024-05-12T11:17:17.254Z"
   },
   {
    "duration": 131,
    "start_time": "2024-05-12T11:17:17.262Z"
   },
   {
    "duration": 20,
    "start_time": "2024-05-12T11:17:17.395Z"
   },
   {
    "duration": 184,
    "start_time": "2024-05-12T11:17:17.417Z"
   },
   {
    "duration": 5,
    "start_time": "2024-05-12T11:17:17.602Z"
   },
   {
    "duration": 18,
    "start_time": "2024-05-12T11:17:17.608Z"
   },
   {
    "duration": 627,
    "start_time": "2024-05-12T11:17:59.978Z"
   },
   {
    "duration": 22,
    "start_time": "2024-05-12T11:18:00.606Z"
   },
   {
    "duration": 99,
    "start_time": "2024-05-12T11:18:00.629Z"
   },
   {
    "duration": 218,
    "start_time": "2024-05-12T11:18:00.729Z"
   },
   {
    "duration": 41,
    "start_time": "2024-05-12T11:18:00.949Z"
   },
   {
    "duration": 31,
    "start_time": "2024-05-12T11:18:00.991Z"
   },
   {
    "duration": 56,
    "start_time": "2024-05-12T11:18:01.023Z"
   },
   {
    "duration": 60,
    "start_time": "2024-05-12T11:18:01.080Z"
   },
   {
    "duration": 41,
    "start_time": "2024-05-12T11:18:01.141Z"
   },
   {
    "duration": 53,
    "start_time": "2024-05-12T11:18:01.184Z"
   },
   {
    "duration": 445,
    "start_time": "2024-05-12T11:18:01.238Z"
   },
   {
    "duration": 141,
    "start_time": "2024-05-12T11:18:01.684Z"
   },
   {
    "duration": 3,
    "start_time": "2024-05-12T11:18:01.827Z"
   },
   {
    "duration": 127,
    "start_time": "2024-05-12T11:18:01.833Z"
   },
   {
    "duration": 20,
    "start_time": "2024-05-12T11:18:01.961Z"
   },
   {
    "duration": 134,
    "start_time": "2024-05-12T11:18:01.982Z"
   },
   {
    "duration": 7,
    "start_time": "2024-05-12T11:18:02.117Z"
   },
   {
    "duration": 135,
    "start_time": "2024-05-12T11:18:02.125Z"
   },
   {
    "duration": 16,
    "start_time": "2024-05-12T11:18:02.261Z"
   },
   {
    "duration": 94,
    "start_time": "2024-05-12T11:18:02.279Z"
   },
   {
    "duration": 0,
    "start_time": "2024-05-12T11:18:02.374Z"
   },
   {
    "duration": 0,
    "start_time": "2024-05-12T11:18:02.375Z"
   },
   {
    "duration": 165,
    "start_time": "2024-05-12T11:18:12.784Z"
   },
   {
    "duration": 590,
    "start_time": "2024-05-12T11:18:16.270Z"
   },
   {
    "duration": 21,
    "start_time": "2024-05-12T11:18:16.862Z"
   },
   {
    "duration": 28,
    "start_time": "2024-05-12T11:18:16.884Z"
   },
   {
    "duration": 79,
    "start_time": "2024-05-12T11:18:16.914Z"
   },
   {
    "duration": 31,
    "start_time": "2024-05-12T11:18:17.002Z"
   },
   {
    "duration": 4,
    "start_time": "2024-05-12T11:18:17.034Z"
   },
   {
    "duration": 22,
    "start_time": "2024-05-12T11:18:17.039Z"
   },
   {
    "duration": 16,
    "start_time": "2024-05-12T11:18:17.062Z"
   },
   {
    "duration": 8,
    "start_time": "2024-05-12T11:18:17.079Z"
   },
   {
    "duration": 14,
    "start_time": "2024-05-12T11:18:17.088Z"
   },
   {
    "duration": 260,
    "start_time": "2024-05-12T11:18:17.103Z"
   },
   {
    "duration": 132,
    "start_time": "2024-05-12T11:18:17.364Z"
   },
   {
    "duration": 3,
    "start_time": "2024-05-12T11:18:17.501Z"
   },
   {
    "duration": 63,
    "start_time": "2024-05-12T11:18:17.506Z"
   },
   {
    "duration": 18,
    "start_time": "2024-05-12T11:18:17.570Z"
   },
   {
    "duration": 124,
    "start_time": "2024-05-12T11:18:17.589Z"
   },
   {
    "duration": 7,
    "start_time": "2024-05-12T11:18:17.714Z"
   },
   {
    "duration": 127,
    "start_time": "2024-05-12T11:18:17.722Z"
   },
   {
    "duration": 16,
    "start_time": "2024-05-12T11:18:17.851Z"
   },
   {
    "duration": 179,
    "start_time": "2024-05-12T11:18:17.868Z"
   },
   {
    "duration": 4,
    "start_time": "2024-05-12T11:18:18.049Z"
   },
   {
    "duration": 32,
    "start_time": "2024-05-12T11:18:18.055Z"
   },
   {
    "duration": 542,
    "start_time": "2024-05-12T13:08:48.319Z"
   },
   {
    "duration": 22,
    "start_time": "2024-05-12T13:08:48.863Z"
   },
   {
    "duration": 27,
    "start_time": "2024-05-12T13:08:48.886Z"
   },
   {
    "duration": 89,
    "start_time": "2024-05-12T13:08:48.915Z"
   },
   {
    "duration": 23,
    "start_time": "2024-05-12T13:08:49.006Z"
   },
   {
    "duration": 4,
    "start_time": "2024-05-12T13:08:49.031Z"
   },
   {
    "duration": 24,
    "start_time": "2024-05-12T13:08:49.037Z"
   },
   {
    "duration": 17,
    "start_time": "2024-05-12T13:08:49.062Z"
   },
   {
    "duration": 21,
    "start_time": "2024-05-12T13:08:49.080Z"
   },
   {
    "duration": 5,
    "start_time": "2024-05-12T13:08:49.103Z"
   },
   {
    "duration": 280,
    "start_time": "2024-05-12T13:08:49.110Z"
   },
   {
    "duration": 138,
    "start_time": "2024-05-12T13:08:49.392Z"
   },
   {
    "duration": 3,
    "start_time": "2024-05-12T13:08:49.532Z"
   },
   {
    "duration": 88,
    "start_time": "2024-05-12T13:08:49.537Z"
   },
   {
    "duration": 62,
    "start_time": "2024-05-12T13:08:49.626Z"
   },
   {
    "duration": 114,
    "start_time": "2024-05-12T13:08:49.689Z"
   },
   {
    "duration": 8,
    "start_time": "2024-05-12T13:08:49.804Z"
   },
   {
    "duration": 143,
    "start_time": "2024-05-12T13:08:49.813Z"
   },
   {
    "duration": 17,
    "start_time": "2024-05-12T13:08:49.958Z"
   },
   {
    "duration": 179,
    "start_time": "2024-05-12T13:08:49.977Z"
   },
   {
    "duration": 14,
    "start_time": "2024-05-12T13:08:50.158Z"
   },
   {
    "duration": 13,
    "start_time": "2024-05-12T13:09:20.642Z"
   },
   {
    "duration": 38,
    "start_time": "2024-05-12T13:09:28.759Z"
   },
   {
    "duration": 13,
    "start_time": "2024-05-12T13:09:42.464Z"
   },
   {
    "duration": 551,
    "start_time": "2024-05-12T13:09:49.409Z"
   },
   {
    "duration": 23,
    "start_time": "2024-05-12T13:09:49.962Z"
   },
   {
    "duration": 26,
    "start_time": "2024-05-12T13:09:49.986Z"
   },
   {
    "duration": 78,
    "start_time": "2024-05-12T13:09:50.014Z"
   },
   {
    "duration": 28,
    "start_time": "2024-05-12T13:09:50.094Z"
   },
   {
    "duration": 5,
    "start_time": "2024-05-12T13:09:50.124Z"
   },
   {
    "duration": 21,
    "start_time": "2024-05-12T13:09:50.130Z"
   },
   {
    "duration": 18,
    "start_time": "2024-05-12T13:09:50.152Z"
   },
   {
    "duration": 17,
    "start_time": "2024-05-12T13:09:50.172Z"
   },
   {
    "duration": 6,
    "start_time": "2024-05-12T13:09:50.191Z"
   },
   {
    "duration": 279,
    "start_time": "2024-05-12T13:09:50.198Z"
   },
   {
    "duration": 137,
    "start_time": "2024-05-12T13:09:50.479Z"
   },
   {
    "duration": 3,
    "start_time": "2024-05-12T13:09:50.617Z"
   },
   {
    "duration": 72,
    "start_time": "2024-05-12T13:09:50.622Z"
   },
   {
    "duration": 19,
    "start_time": "2024-05-12T13:09:50.695Z"
   },
   {
    "duration": 129,
    "start_time": "2024-05-12T13:09:50.716Z"
   },
   {
    "duration": 8,
    "start_time": "2024-05-12T13:09:50.846Z"
   },
   {
    "duration": 128,
    "start_time": "2024-05-12T13:09:50.855Z"
   },
   {
    "duration": 27,
    "start_time": "2024-05-12T13:09:50.984Z"
   },
   {
    "duration": 168,
    "start_time": "2024-05-12T13:09:51.012Z"
   },
   {
    "duration": 20,
    "start_time": "2024-05-12T13:09:51.182Z"
   },
   {
    "duration": 129,
    "start_time": "2024-05-12T13:15:21.017Z"
   },
   {
    "duration": 129,
    "start_time": "2024-05-12T13:15:31.557Z"
   },
   {
    "duration": 126,
    "start_time": "2024-05-12T13:16:02.336Z"
   },
   {
    "duration": 13,
    "start_time": "2024-05-12T13:16:32.206Z"
   },
   {
    "duration": 125,
    "start_time": "2024-05-12T13:16:37.303Z"
   },
   {
    "duration": 564,
    "start_time": "2024-05-12T13:16:41.109Z"
   },
   {
    "duration": 23,
    "start_time": "2024-05-12T13:16:41.674Z"
   },
   {
    "duration": 27,
    "start_time": "2024-05-12T13:16:41.698Z"
   },
   {
    "duration": 105,
    "start_time": "2024-05-12T13:16:41.726Z"
   },
   {
    "duration": 22,
    "start_time": "2024-05-12T13:16:41.833Z"
   },
   {
    "duration": 4,
    "start_time": "2024-05-12T13:16:41.856Z"
   },
   {
    "duration": 26,
    "start_time": "2024-05-12T13:16:41.861Z"
   },
   {
    "duration": 17,
    "start_time": "2024-05-12T13:16:41.888Z"
   },
   {
    "duration": 10,
    "start_time": "2024-05-12T13:16:41.906Z"
   },
   {
    "duration": 7,
    "start_time": "2024-05-12T13:16:41.918Z"
   },
   {
    "duration": 278,
    "start_time": "2024-05-12T13:16:41.926Z"
   },
   {
    "duration": 134,
    "start_time": "2024-05-12T13:16:42.205Z"
   },
   {
    "duration": 3,
    "start_time": "2024-05-12T13:16:42.340Z"
   },
   {
    "duration": 68,
    "start_time": "2024-05-12T13:16:42.345Z"
   },
   {
    "duration": 17,
    "start_time": "2024-05-12T13:16:42.414Z"
   },
   {
    "duration": 124,
    "start_time": "2024-05-12T13:16:42.432Z"
   },
   {
    "duration": 7,
    "start_time": "2024-05-12T13:16:42.557Z"
   },
   {
    "duration": 124,
    "start_time": "2024-05-12T13:16:42.565Z"
   },
   {
    "duration": 24,
    "start_time": "2024-05-12T13:16:42.690Z"
   },
   {
    "duration": 159,
    "start_time": "2024-05-12T13:16:42.715Z"
   },
   {
    "duration": 12,
    "start_time": "2024-05-12T13:16:42.875Z"
   },
   {
    "duration": 137,
    "start_time": "2024-05-12T13:16:42.888Z"
   },
   {
    "duration": 999,
    "start_time": "2024-05-12T13:18:30.646Z"
   },
   {
    "duration": 1152,
    "start_time": "2024-05-12T13:18:38.227Z"
   },
   {
    "duration": 11981,
    "start_time": "2024-05-12T13:18:53.929Z"
   },
   {
    "duration": 129,
    "start_time": "2024-05-12T13:19:49.984Z"
   },
   {
    "duration": 769,
    "start_time": "2024-05-12T13:21:08.614Z"
   },
   {
    "duration": 757,
    "start_time": "2024-05-12T13:21:22.516Z"
   },
   {
    "duration": 147,
    "start_time": "2024-05-12T13:21:36.101Z"
   },
   {
    "duration": 152,
    "start_time": "2024-05-12T13:21:46.428Z"
   },
   {
    "duration": 1726,
    "start_time": "2024-05-12T13:22:00.044Z"
   },
   {
    "duration": 1321,
    "start_time": "2024-05-12T13:22:36.290Z"
   },
   {
    "duration": 102,
    "start_time": "2024-05-12T13:25:54.953Z"
   },
   {
    "duration": 121,
    "start_time": "2024-05-12T13:26:11.124Z"
   },
   {
    "duration": 694,
    "start_time": "2024-05-12T13:30:40.453Z"
   },
   {
    "duration": 773,
    "start_time": "2024-05-12T13:30:51.323Z"
   },
   {
    "duration": 814,
    "start_time": "2024-05-12T13:30:59.579Z"
   },
   {
    "duration": 764,
    "start_time": "2024-05-12T13:31:06.306Z"
   },
   {
    "duration": 867,
    "start_time": "2024-05-12T13:31:10.727Z"
   },
   {
    "duration": 1087,
    "start_time": "2024-05-12T13:31:27.109Z"
   },
   {
    "duration": 908,
    "start_time": "2024-05-12T13:31:34.008Z"
   },
   {
    "duration": 862,
    "start_time": "2024-05-12T13:31:42.326Z"
   },
   {
    "duration": 903,
    "start_time": "2024-05-12T13:31:49.901Z"
   },
   {
    "duration": 4298,
    "start_time": "2024-05-12T13:32:23.462Z"
   },
   {
    "duration": 1115,
    "start_time": "2024-05-12T13:32:35.106Z"
   },
   {
    "duration": 875,
    "start_time": "2024-05-12T13:33:00.142Z"
   },
   {
    "duration": 260,
    "start_time": "2024-05-12T13:45:08.210Z"
   },
   {
    "duration": 52,
    "start_time": "2024-05-12T13:45:29.515Z"
   },
   {
    "duration": 277,
    "start_time": "2024-05-12T13:45:33.764Z"
   },
   {
    "duration": 37,
    "start_time": "2024-05-12T13:45:43.993Z"
   },
   {
    "duration": 259,
    "start_time": "2024-05-12T13:45:47.705Z"
   },
   {
    "duration": 254,
    "start_time": "2024-05-12T13:45:57.471Z"
   },
   {
    "duration": 338,
    "start_time": "2024-05-12T13:46:05.299Z"
   },
   {
    "duration": 973,
    "start_time": "2024-05-12T13:46:15.905Z"
   },
   {
    "duration": 8,
    "start_time": "2024-05-12T13:53:30.498Z"
   },
   {
    "duration": 6,
    "start_time": "2024-05-12T14:06:12.599Z"
   },
   {
    "duration": 535,
    "start_time": "2024-05-12T14:50:20.517Z"
   },
   {
    "duration": 20,
    "start_time": "2024-05-12T14:50:21.053Z"
   },
   {
    "duration": 34,
    "start_time": "2024-05-12T14:50:21.074Z"
   },
   {
    "duration": 99,
    "start_time": "2024-05-12T14:50:21.109Z"
   },
   {
    "duration": 24,
    "start_time": "2024-05-12T14:50:21.209Z"
   },
   {
    "duration": 5,
    "start_time": "2024-05-12T14:50:21.234Z"
   },
   {
    "duration": 18,
    "start_time": "2024-05-12T14:50:21.241Z"
   },
   {
    "duration": 10,
    "start_time": "2024-05-12T14:50:21.260Z"
   },
   {
    "duration": 33,
    "start_time": "2024-05-12T14:50:21.271Z"
   },
   {
    "duration": 4,
    "start_time": "2024-05-12T14:50:21.306Z"
   },
   {
    "duration": 263,
    "start_time": "2024-05-12T14:50:21.311Z"
   },
   {
    "duration": 139,
    "start_time": "2024-05-12T14:50:21.575Z"
   },
   {
    "duration": 3,
    "start_time": "2024-05-12T14:50:21.715Z"
   },
   {
    "duration": 81,
    "start_time": "2024-05-12T14:50:21.720Z"
   },
   {
    "duration": 19,
    "start_time": "2024-05-12T14:50:21.803Z"
   },
   {
    "duration": 136,
    "start_time": "2024-05-12T14:50:21.823Z"
   },
   {
    "duration": 11,
    "start_time": "2024-05-12T14:50:21.961Z"
   },
   {
    "duration": 141,
    "start_time": "2024-05-12T14:50:21.973Z"
   },
   {
    "duration": 22,
    "start_time": "2024-05-12T14:50:22.116Z"
   },
   {
    "duration": 169,
    "start_time": "2024-05-12T14:50:22.139Z"
   },
   {
    "duration": 12,
    "start_time": "2024-05-12T14:50:22.310Z"
   },
   {
    "duration": 121,
    "start_time": "2024-05-12T14:50:22.323Z"
   },
   {
    "duration": 860,
    "start_time": "2024-05-12T14:50:22.446Z"
   },
   {
    "duration": 6,
    "start_time": "2024-05-12T14:50:23.307Z"
   },
   {
    "duration": 103,
    "start_time": "2024-05-12T14:50:55.366Z"
   },
   {
    "duration": 50,
    "start_time": "2024-05-14T15:45:31.180Z"
   },
   {
    "duration": 897,
    "start_time": "2024-05-14T15:45:36.559Z"
   },
   {
    "duration": 30,
    "start_time": "2024-05-14T15:45:37.459Z"
   },
   {
    "duration": 52,
    "start_time": "2024-05-14T15:45:37.491Z"
   },
   {
    "duration": 107,
    "start_time": "2024-05-14T15:45:37.544Z"
   },
   {
    "duration": 27,
    "start_time": "2024-05-14T15:45:37.653Z"
   },
   {
    "duration": 35,
    "start_time": "2024-05-14T15:45:37.681Z"
   },
   {
    "duration": 42,
    "start_time": "2024-05-14T15:45:37.718Z"
   },
   {
    "duration": 26,
    "start_time": "2024-05-14T15:45:37.762Z"
   },
   {
    "duration": 15,
    "start_time": "2024-05-14T15:45:37.790Z"
   },
   {
    "duration": 20,
    "start_time": "2024-05-14T15:45:37.806Z"
   },
   {
    "duration": 524,
    "start_time": "2024-05-14T15:45:37.828Z"
   },
   {
    "duration": 175,
    "start_time": "2024-05-14T15:45:38.354Z"
   },
   {
    "duration": 5,
    "start_time": "2024-05-14T15:45:38.531Z"
   },
   {
    "duration": 134,
    "start_time": "2024-05-14T15:45:38.539Z"
   },
   {
    "duration": 27,
    "start_time": "2024-05-14T15:45:38.675Z"
   },
   {
    "duration": 146,
    "start_time": "2024-05-14T15:45:38.703Z"
   },
   {
    "duration": 8,
    "start_time": "2024-05-14T15:45:38.851Z"
   },
   {
    "duration": 178,
    "start_time": "2024-05-14T15:45:38.860Z"
   },
   {
    "duration": 21,
    "start_time": "2024-05-14T15:45:39.041Z"
   },
   {
    "duration": 201,
    "start_time": "2024-05-14T15:45:39.063Z"
   },
   {
    "duration": 15,
    "start_time": "2024-05-14T15:45:39.266Z"
   },
   {
    "duration": 160,
    "start_time": "2024-05-14T15:45:39.282Z"
   },
   {
    "duration": 1078,
    "start_time": "2024-05-14T15:45:39.445Z"
   },
   {
    "duration": 7,
    "start_time": "2024-05-14T15:45:40.525Z"
   },
   {
    "duration": 134,
    "start_time": "2024-05-14T15:47:50.685Z"
   },
   {
    "duration": 129,
    "start_time": "2024-05-14T15:48:38.819Z"
   },
   {
    "duration": 618,
    "start_time": "2024-05-14T15:48:48.126Z"
   },
   {
    "duration": 29,
    "start_time": "2024-05-14T15:48:48.746Z"
   },
   {
    "duration": 45,
    "start_time": "2024-05-14T15:48:48.776Z"
   },
   {
    "duration": 124,
    "start_time": "2024-05-14T15:48:48.822Z"
   },
   {
    "duration": 28,
    "start_time": "2024-05-14T15:48:48.948Z"
   },
   {
    "duration": 6,
    "start_time": "2024-05-14T15:48:48.993Z"
   },
   {
    "duration": 30,
    "start_time": "2024-05-14T15:48:49.001Z"
   },
   {
    "duration": 39,
    "start_time": "2024-05-14T15:48:49.033Z"
   },
   {
    "duration": 33,
    "start_time": "2024-05-14T15:48:49.074Z"
   },
   {
    "duration": 43,
    "start_time": "2024-05-14T15:48:49.109Z"
   },
   {
    "duration": 322,
    "start_time": "2024-05-14T15:48:49.154Z"
   },
   {
    "duration": 192,
    "start_time": "2024-05-14T15:48:49.478Z"
   },
   {
    "duration": 5,
    "start_time": "2024-05-14T15:48:49.671Z"
   },
   {
    "duration": 179,
    "start_time": "2024-05-14T15:48:49.678Z"
   },
   {
    "duration": 22,
    "start_time": "2024-05-14T15:48:49.858Z"
   },
   {
    "duration": 171,
    "start_time": "2024-05-14T15:48:49.881Z"
   },
   {
    "duration": 8,
    "start_time": "2024-05-14T15:48:50.054Z"
   },
   {
    "duration": 207,
    "start_time": "2024-05-14T15:48:50.063Z"
   },
   {
    "duration": 23,
    "start_time": "2024-05-14T15:48:50.272Z"
   },
   {
    "duration": 193,
    "start_time": "2024-05-14T15:48:50.297Z"
   },
   {
    "duration": 15,
    "start_time": "2024-05-14T15:48:50.494Z"
   },
   {
    "duration": 141,
    "start_time": "2024-05-14T15:48:50.511Z"
   },
   {
    "duration": 1107,
    "start_time": "2024-05-14T15:48:50.653Z"
   },
   {
    "duration": 6,
    "start_time": "2024-05-14T15:48:51.762Z"
   },
   {
    "duration": 142,
    "start_time": "2024-05-14T15:48:58.089Z"
   },
   {
    "duration": 652,
    "start_time": "2024-05-14T15:49:04.963Z"
   },
   {
    "duration": 29,
    "start_time": "2024-05-14T15:49:05.617Z"
   },
   {
    "duration": 191,
    "start_time": "2024-05-14T15:49:05.647Z"
   },
   {
    "duration": 109,
    "start_time": "2024-05-14T15:49:05.840Z"
   },
   {
    "duration": 39,
    "start_time": "2024-05-14T15:49:05.951Z"
   },
   {
    "duration": 16,
    "start_time": "2024-05-14T15:49:05.992Z"
   },
   {
    "duration": 32,
    "start_time": "2024-05-14T15:49:06.009Z"
   },
   {
    "duration": 33,
    "start_time": "2024-05-14T15:49:06.043Z"
   },
   {
    "duration": 21,
    "start_time": "2024-05-14T15:49:06.078Z"
   },
   {
    "duration": 46,
    "start_time": "2024-05-14T15:49:06.100Z"
   },
   {
    "duration": 356,
    "start_time": "2024-05-14T15:49:06.147Z"
   },
   {
    "duration": 177,
    "start_time": "2024-05-14T15:49:06.505Z"
   },
   {
    "duration": 12,
    "start_time": "2024-05-14T15:49:06.684Z"
   },
   {
    "duration": 107,
    "start_time": "2024-05-14T15:49:06.699Z"
   },
   {
    "duration": 28,
    "start_time": "2024-05-14T15:49:06.807Z"
   },
   {
    "duration": 177,
    "start_time": "2024-05-14T15:49:06.838Z"
   },
   {
    "duration": 8,
    "start_time": "2024-05-14T15:49:07.017Z"
   },
   {
    "duration": 158,
    "start_time": "2024-05-14T15:49:07.027Z"
   },
   {
    "duration": 24,
    "start_time": "2024-05-14T15:49:07.186Z"
   },
   {
    "duration": 225,
    "start_time": "2024-05-14T15:49:07.211Z"
   },
   {
    "duration": 16,
    "start_time": "2024-05-14T15:49:07.438Z"
   },
   {
    "duration": 200,
    "start_time": "2024-05-14T15:49:07.455Z"
   },
   {
    "duration": 1091,
    "start_time": "2024-05-14T15:49:07.657Z"
   },
   {
    "duration": 7,
    "start_time": "2024-05-14T15:49:08.750Z"
   },
   {
    "duration": 652,
    "start_time": "2024-05-14T15:51:30.798Z"
   },
   {
    "duration": 32,
    "start_time": "2024-05-14T15:51:31.452Z"
   },
   {
    "duration": 57,
    "start_time": "2024-05-14T15:51:31.485Z"
   },
   {
    "duration": 112,
    "start_time": "2024-05-14T15:51:31.543Z"
   },
   {
    "duration": 42,
    "start_time": "2024-05-14T15:51:31.657Z"
   },
   {
    "duration": 6,
    "start_time": "2024-05-14T15:51:31.701Z"
   },
   {
    "duration": 50,
    "start_time": "2024-05-14T15:51:31.708Z"
   },
   {
    "duration": 26,
    "start_time": "2024-05-14T15:51:31.760Z"
   },
   {
    "duration": 34,
    "start_time": "2024-05-14T15:51:31.788Z"
   },
   {
    "duration": 41,
    "start_time": "2024-05-14T15:51:31.824Z"
   },
   {
    "duration": 354,
    "start_time": "2024-05-14T15:51:31.866Z"
   },
   {
    "duration": 176,
    "start_time": "2024-05-14T15:51:32.221Z"
   },
   {
    "duration": 5,
    "start_time": "2024-05-14T15:51:32.399Z"
   },
   {
    "duration": 114,
    "start_time": "2024-05-14T15:51:32.407Z"
   },
   {
    "duration": 26,
    "start_time": "2024-05-14T15:51:32.522Z"
   },
   {
    "duration": 163,
    "start_time": "2024-05-14T15:51:32.550Z"
   },
   {
    "duration": 9,
    "start_time": "2024-05-14T15:51:32.715Z"
   },
   {
    "duration": 184,
    "start_time": "2024-05-14T15:51:32.726Z"
   },
   {
    "duration": 20,
    "start_time": "2024-05-14T15:51:32.912Z"
   },
   {
    "duration": 256,
    "start_time": "2024-05-14T15:51:32.933Z"
   },
   {
    "duration": 18,
    "start_time": "2024-05-14T15:51:33.190Z"
   },
   {
    "duration": 151,
    "start_time": "2024-05-14T15:51:33.209Z"
   },
   {
    "duration": 1145,
    "start_time": "2024-05-14T15:51:33.362Z"
   },
   {
    "duration": 7,
    "start_time": "2024-05-14T15:51:34.508Z"
   },
   {
    "duration": 679,
    "start_time": "2024-05-15T15:13:55.985Z"
   },
   {
    "duration": 37,
    "start_time": "2024-05-15T15:13:56.665Z"
   },
   {
    "duration": 33,
    "start_time": "2024-05-15T15:13:56.704Z"
   },
   {
    "duration": 107,
    "start_time": "2024-05-15T15:13:56.738Z"
   },
   {
    "duration": 26,
    "start_time": "2024-05-15T15:13:56.847Z"
   },
   {
    "duration": 22,
    "start_time": "2024-05-15T15:13:56.874Z"
   },
   {
    "duration": 36,
    "start_time": "2024-05-15T15:13:56.898Z"
   },
   {
    "duration": 21,
    "start_time": "2024-05-15T15:13:56.935Z"
   },
   {
    "duration": 28,
    "start_time": "2024-05-15T15:13:56.958Z"
   },
   {
    "duration": 8,
    "start_time": "2024-05-15T15:13:56.988Z"
   },
   {
    "duration": 299,
    "start_time": "2024-05-15T15:13:56.997Z"
   },
   {
    "duration": 187,
    "start_time": "2024-05-15T15:13:57.297Z"
   },
   {
    "duration": 4,
    "start_time": "2024-05-15T15:13:57.485Z"
   },
   {
    "duration": 115,
    "start_time": "2024-05-15T15:13:57.495Z"
   },
   {
    "duration": 22,
    "start_time": "2024-05-15T15:13:57.611Z"
   },
   {
    "duration": 152,
    "start_time": "2024-05-15T15:13:57.635Z"
   },
   {
    "duration": 12,
    "start_time": "2024-05-15T15:13:57.794Z"
   },
   {
    "duration": 178,
    "start_time": "2024-05-15T15:13:57.808Z"
   },
   {
    "duration": 28,
    "start_time": "2024-05-15T15:13:57.988Z"
   },
   {
    "duration": 228,
    "start_time": "2024-05-15T15:13:58.018Z"
   },
   {
    "duration": 15,
    "start_time": "2024-05-15T15:13:58.248Z"
   },
   {
    "duration": 158,
    "start_time": "2024-05-15T15:13:58.264Z"
   },
   {
    "duration": 1210,
    "start_time": "2024-05-15T15:13:58.424Z"
   },
   {
    "duration": 13,
    "start_time": "2024-05-15T15:13:59.636Z"
   },
   {
    "duration": 9,
    "start_time": "2024-05-15T15:55:56.164Z"
   },
   {
    "duration": 149,
    "start_time": "2024-05-15T15:56:41.208Z"
   },
   {
    "duration": 157,
    "start_time": "2024-05-15T15:57:35.438Z"
   },
   {
    "duration": 6,
    "start_time": "2024-05-15T15:57:47.025Z"
   },
   {
    "duration": 147,
    "start_time": "2024-05-15T15:57:49.154Z"
   },
   {
    "duration": 234,
    "start_time": "2024-05-15T16:03:36.709Z"
   },
   {
    "duration": 159,
    "start_time": "2024-05-15T16:13:30.405Z"
   },
   {
    "duration": 134,
    "start_time": "2024-05-15T16:13:38.252Z"
   },
   {
    "duration": 141,
    "start_time": "2024-05-15T16:14:00.971Z"
   },
   {
    "duration": 176,
    "start_time": "2024-05-15T16:14:14.879Z"
   },
   {
    "duration": 153,
    "start_time": "2024-05-15T16:14:41.589Z"
   },
   {
    "duration": 177,
    "start_time": "2024-05-15T16:14:51.689Z"
   },
   {
    "duration": 135,
    "start_time": "2024-05-15T16:15:00.013Z"
   },
   {
    "duration": 218,
    "start_time": "2024-05-15T16:19:33.376Z"
   },
   {
    "duration": 611,
    "start_time": "2024-05-15T16:19:36.719Z"
   },
   {
    "duration": 31,
    "start_time": "2024-05-15T16:19:37.332Z"
   },
   {
    "duration": 49,
    "start_time": "2024-05-15T16:19:37.364Z"
   },
   {
    "duration": 123,
    "start_time": "2024-05-15T16:19:37.415Z"
   },
   {
    "duration": 30,
    "start_time": "2024-05-15T16:19:37.541Z"
   },
   {
    "duration": 39,
    "start_time": "2024-05-15T16:19:37.573Z"
   },
   {
    "duration": 20,
    "start_time": "2024-05-15T16:19:37.613Z"
   },
   {
    "duration": 28,
    "start_time": "2024-05-15T16:19:37.635Z"
   },
   {
    "duration": 77,
    "start_time": "2024-05-15T16:19:37.665Z"
   },
   {
    "duration": 33,
    "start_time": "2024-05-15T16:19:37.744Z"
   },
   {
    "duration": 327,
    "start_time": "2024-05-15T16:19:37.778Z"
   },
   {
    "duration": 188,
    "start_time": "2024-05-15T16:19:38.107Z"
   },
   {
    "duration": 4,
    "start_time": "2024-05-15T16:19:38.297Z"
   },
   {
    "duration": 112,
    "start_time": "2024-05-15T16:19:38.304Z"
   },
   {
    "duration": 24,
    "start_time": "2024-05-15T16:19:38.418Z"
   },
   {
    "duration": 151,
    "start_time": "2024-05-15T16:19:38.443Z"
   },
   {
    "duration": 8,
    "start_time": "2024-05-15T16:19:38.595Z"
   },
   {
    "duration": 157,
    "start_time": "2024-05-15T16:19:38.605Z"
   },
   {
    "duration": 31,
    "start_time": "2024-05-15T16:19:38.764Z"
   },
   {
    "duration": 236,
    "start_time": "2024-05-15T16:19:38.796Z"
   },
   {
    "duration": 18,
    "start_time": "2024-05-15T16:19:39.034Z"
   },
   {
    "duration": 216,
    "start_time": "2024-05-15T16:19:39.053Z"
   },
   {
    "duration": 0,
    "start_time": "2024-05-15T16:19:39.271Z"
   },
   {
    "duration": 0,
    "start_time": "2024-05-15T16:19:39.272Z"
   },
   {
    "duration": 0,
    "start_time": "2024-05-15T16:19:39.273Z"
   },
   {
    "duration": 159,
    "start_time": "2024-05-15T16:20:17.637Z"
   },
   {
    "duration": 674,
    "start_time": "2024-05-15T16:20:26.267Z"
   },
   {
    "duration": 27,
    "start_time": "2024-05-15T16:20:26.943Z"
   },
   {
    "duration": 53,
    "start_time": "2024-05-15T16:20:26.972Z"
   },
   {
    "duration": 112,
    "start_time": "2024-05-15T16:20:27.027Z"
   },
   {
    "duration": 28,
    "start_time": "2024-05-15T16:20:27.141Z"
   },
   {
    "duration": 24,
    "start_time": "2024-05-15T16:20:27.170Z"
   },
   {
    "duration": 18,
    "start_time": "2024-05-15T16:20:27.196Z"
   },
   {
    "duration": 39,
    "start_time": "2024-05-15T16:20:27.216Z"
   },
   {
    "duration": 32,
    "start_time": "2024-05-15T16:20:27.256Z"
   },
   {
    "duration": 22,
    "start_time": "2024-05-15T16:20:27.289Z"
   },
   {
    "duration": 325,
    "start_time": "2024-05-15T16:20:27.313Z"
   },
   {
    "duration": 187,
    "start_time": "2024-05-15T16:20:27.639Z"
   },
   {
    "duration": 5,
    "start_time": "2024-05-15T16:20:27.827Z"
   },
   {
    "duration": 107,
    "start_time": "2024-05-15T16:20:27.835Z"
   },
   {
    "duration": 24,
    "start_time": "2024-05-15T16:20:27.944Z"
   },
   {
    "duration": 161,
    "start_time": "2024-05-15T16:20:27.969Z"
   },
   {
    "duration": 9,
    "start_time": "2024-05-15T16:20:28.131Z"
   },
   {
    "duration": 171,
    "start_time": "2024-05-15T16:20:28.142Z"
   },
   {
    "duration": 18,
    "start_time": "2024-05-15T16:20:28.315Z"
   },
   {
    "duration": 208,
    "start_time": "2024-05-15T16:20:28.335Z"
   },
   {
    "duration": 18,
    "start_time": "2024-05-15T16:20:28.545Z"
   },
   {
    "duration": 172,
    "start_time": "2024-05-15T16:20:28.564Z"
   },
   {
    "duration": 6,
    "start_time": "2024-05-15T16:20:28.737Z"
   },
   {
    "duration": 155,
    "start_time": "2024-05-15T16:20:28.745Z"
   },
   {
    "duration": 205,
    "start_time": "2024-05-15T16:20:28.902Z"
   },
   {
    "duration": 127,
    "start_time": "2024-05-15T16:20:51.186Z"
   },
   {
    "duration": 648,
    "start_time": "2024-05-15T16:21:04.883Z"
   },
   {
    "duration": 29,
    "start_time": "2024-05-15T16:21:05.533Z"
   },
   {
    "duration": 45,
    "start_time": "2024-05-15T16:21:05.563Z"
   },
   {
    "duration": 118,
    "start_time": "2024-05-15T16:21:05.609Z"
   },
   {
    "duration": 26,
    "start_time": "2024-05-15T16:21:05.729Z"
   },
   {
    "duration": 5,
    "start_time": "2024-05-15T16:21:05.757Z"
   },
   {
    "duration": 59,
    "start_time": "2024-05-15T16:21:05.763Z"
   },
   {
    "duration": 50,
    "start_time": "2024-05-15T16:21:05.824Z"
   },
   {
    "duration": 80,
    "start_time": "2024-05-15T16:21:05.876Z"
   },
   {
    "duration": 78,
    "start_time": "2024-05-15T16:21:05.958Z"
   },
   {
    "duration": 345,
    "start_time": "2024-05-15T16:21:06.037Z"
   },
   {
    "duration": 189,
    "start_time": "2024-05-15T16:21:06.383Z"
   },
   {
    "duration": 4,
    "start_time": "2024-05-15T16:21:06.574Z"
   },
   {
    "duration": 117,
    "start_time": "2024-05-15T16:21:06.594Z"
   },
   {
    "duration": 80,
    "start_time": "2024-05-15T16:21:06.713Z"
   },
   {
    "duration": 226,
    "start_time": "2024-05-15T16:21:06.794Z"
   },
   {
    "duration": 8,
    "start_time": "2024-05-15T16:21:07.022Z"
   },
   {
    "duration": 157,
    "start_time": "2024-05-15T16:21:07.032Z"
   },
   {
    "duration": 20,
    "start_time": "2024-05-15T16:21:07.190Z"
   },
   {
    "duration": 268,
    "start_time": "2024-05-15T16:21:07.211Z"
   },
   {
    "duration": 30,
    "start_time": "2024-05-15T16:21:07.481Z"
   },
   {
    "duration": 171,
    "start_time": "2024-05-15T16:21:07.513Z"
   },
   {
    "duration": 9,
    "start_time": "2024-05-15T16:21:07.686Z"
   },
   {
    "duration": 156,
    "start_time": "2024-05-15T16:21:07.696Z"
   },
   {
    "duration": 196,
    "start_time": "2024-05-15T16:21:07.854Z"
   },
   {
    "duration": 20,
    "start_time": "2024-05-15T16:22:30.453Z"
   },
   {
    "duration": 135,
    "start_time": "2024-05-15T16:22:40.867Z"
   },
   {
    "duration": 700,
    "start_time": "2024-05-15T16:22:45.462Z"
   },
   {
    "duration": 28,
    "start_time": "2024-05-15T16:22:46.164Z"
   },
   {
    "duration": 37,
    "start_time": "2024-05-15T16:22:46.194Z"
   },
   {
    "duration": 119,
    "start_time": "2024-05-15T16:22:46.233Z"
   },
   {
    "duration": 41,
    "start_time": "2024-05-15T16:22:46.354Z"
   },
   {
    "duration": 8,
    "start_time": "2024-05-15T16:22:46.396Z"
   },
   {
    "duration": 41,
    "start_time": "2024-05-15T16:22:46.406Z"
   },
   {
    "duration": 12,
    "start_time": "2024-05-15T16:22:46.449Z"
   },
   {
    "duration": 17,
    "start_time": "2024-05-15T16:22:46.463Z"
   },
   {
    "duration": 12,
    "start_time": "2024-05-15T16:22:46.482Z"
   },
   {
    "duration": 348,
    "start_time": "2024-05-15T16:22:46.496Z"
   },
   {
    "duration": 195,
    "start_time": "2024-05-15T16:22:46.845Z"
   },
   {
    "duration": 4,
    "start_time": "2024-05-15T16:22:47.042Z"
   },
   {
    "duration": 106,
    "start_time": "2024-05-15T16:22:47.049Z"
   },
   {
    "duration": 24,
    "start_time": "2024-05-15T16:22:47.157Z"
   },
   {
    "duration": 146,
    "start_time": "2024-05-15T16:22:47.195Z"
   },
   {
    "duration": 12,
    "start_time": "2024-05-15T16:22:47.343Z"
   },
   {
    "duration": 162,
    "start_time": "2024-05-15T16:22:47.357Z"
   },
   {
    "duration": 22,
    "start_time": "2024-05-15T16:22:47.521Z"
   },
   {
    "duration": 234,
    "start_time": "2024-05-15T16:22:47.545Z"
   },
   {
    "duration": 31,
    "start_time": "2024-05-15T16:22:47.781Z"
   },
   {
    "duration": 205,
    "start_time": "2024-05-15T16:22:47.814Z"
   },
   {
    "duration": 82,
    "start_time": "2024-05-15T16:22:48.021Z"
   },
   {
    "duration": 0,
    "start_time": "2024-05-15T16:22:48.105Z"
   },
   {
    "duration": 0,
    "start_time": "2024-05-15T16:22:48.107Z"
   },
   {
    "duration": 23,
    "start_time": "2024-05-15T16:24:02.037Z"
   },
   {
    "duration": 622,
    "start_time": "2024-05-15T16:24:20.454Z"
   },
   {
    "duration": 31,
    "start_time": "2024-05-15T16:24:21.078Z"
   },
   {
    "duration": 40,
    "start_time": "2024-05-15T16:24:21.111Z"
   },
   {
    "duration": 110,
    "start_time": "2024-05-15T16:24:21.153Z"
   },
   {
    "duration": 43,
    "start_time": "2024-05-15T16:24:21.265Z"
   },
   {
    "duration": 6,
    "start_time": "2024-05-15T16:24:21.309Z"
   },
   {
    "duration": 79,
    "start_time": "2024-05-15T16:24:21.316Z"
   },
   {
    "duration": 55,
    "start_time": "2024-05-15T16:24:21.396Z"
   },
   {
    "duration": 51,
    "start_time": "2024-05-15T16:24:21.453Z"
   },
   {
    "duration": 14,
    "start_time": "2024-05-15T16:24:21.505Z"
   },
   {
    "duration": 380,
    "start_time": "2024-05-15T16:24:21.521Z"
   },
   {
    "duration": 173,
    "start_time": "2024-05-15T16:24:21.902Z"
   },
   {
    "duration": 4,
    "start_time": "2024-05-15T16:24:22.077Z"
   },
   {
    "duration": 83,
    "start_time": "2024-05-15T16:24:22.095Z"
   },
   {
    "duration": 31,
    "start_time": "2024-05-15T16:24:22.179Z"
   },
   {
    "duration": 167,
    "start_time": "2024-05-15T16:24:22.212Z"
   },
   {
    "duration": 19,
    "start_time": "2024-05-15T16:24:22.381Z"
   },
   {
    "duration": 171,
    "start_time": "2024-05-15T16:24:22.401Z"
   },
   {
    "duration": 24,
    "start_time": "2024-05-15T16:24:22.574Z"
   },
   {
    "duration": 202,
    "start_time": "2024-05-15T16:24:22.599Z"
   },
   {
    "duration": 17,
    "start_time": "2024-05-15T16:24:22.803Z"
   },
   {
    "duration": 150,
    "start_time": "2024-05-15T16:24:22.822Z"
   },
   {
    "duration": 6,
    "start_time": "2024-05-15T16:24:22.974Z"
   },
   {
    "duration": 160,
    "start_time": "2024-05-15T16:24:22.993Z"
   },
   {
    "duration": 204,
    "start_time": "2024-05-15T16:24:23.155Z"
   },
   {
    "duration": 30,
    "start_time": "2024-05-15T16:26:20.218Z"
   },
   {
    "duration": 83,
    "start_time": "2024-05-15T16:26:27.579Z"
   },
   {
    "duration": 34,
    "start_time": "2024-05-15T16:26:33.817Z"
   },
   {
    "duration": 9,
    "start_time": "2024-05-15T16:26:55.919Z"
   },
   {
    "duration": 10,
    "start_time": "2024-05-15T16:27:30.252Z"
   },
   {
    "duration": 21,
    "start_time": "2024-05-15T16:28:00.310Z"
   },
   {
    "duration": 19,
    "start_time": "2024-05-15T16:28:06.559Z"
   },
   {
    "duration": 37,
    "start_time": "2024-05-15T16:28:38.364Z"
   },
   {
    "duration": 16,
    "start_time": "2024-05-15T16:28:55.673Z"
   },
   {
    "duration": 22,
    "start_time": "2024-05-15T16:29:04.450Z"
   },
   {
    "duration": 30,
    "start_time": "2024-05-15T16:29:10.652Z"
   },
   {
    "duration": 16,
    "start_time": "2024-05-15T16:29:22.852Z"
   },
   {
    "duration": 16,
    "start_time": "2024-05-15T16:29:30.873Z"
   },
   {
    "duration": 28,
    "start_time": "2024-05-15T16:29:34.384Z"
   },
   {
    "duration": 16,
    "start_time": "2024-05-15T16:29:44.162Z"
   },
   {
    "duration": 27,
    "start_time": "2024-05-15T16:29:50.512Z"
   },
   {
    "duration": 19,
    "start_time": "2024-05-15T16:30:26.540Z"
   },
   {
    "duration": 17,
    "start_time": "2024-05-15T16:30:38.004Z"
   },
   {
    "duration": 26,
    "start_time": "2024-05-15T16:30:42.347Z"
   },
   {
    "duration": 69,
    "start_time": "2024-05-15T16:31:20.070Z"
   },
   {
    "duration": 74,
    "start_time": "2024-05-15T16:31:30.626Z"
   },
   {
    "duration": 15,
    "start_time": "2024-05-15T16:32:23.928Z"
   },
   {
    "duration": 24,
    "start_time": "2024-05-15T16:32:28.793Z"
   },
   {
    "duration": 22,
    "start_time": "2024-05-15T16:32:36.791Z"
   },
   {
    "duration": 25,
    "start_time": "2024-05-15T16:32:42.860Z"
   },
   {
    "duration": 13,
    "start_time": "2024-05-15T16:34:55.580Z"
   },
   {
    "duration": 14,
    "start_time": "2024-05-15T16:35:15.642Z"
   },
   {
    "duration": 13,
    "start_time": "2024-05-15T16:35:46.963Z"
   },
   {
    "duration": 12,
    "start_time": "2024-05-15T16:35:59.724Z"
   },
   {
    "duration": 8,
    "start_time": "2024-05-15T16:39:07.129Z"
   },
   {
    "duration": 1321,
    "start_time": "2024-05-15T16:39:28.759Z"
   },
   {
    "duration": 28,
    "start_time": "2024-05-15T16:39:30.082Z"
   },
   {
    "duration": 296,
    "start_time": "2024-05-15T16:39:30.111Z"
   },
   {
    "duration": 155,
    "start_time": "2024-05-15T16:39:30.408Z"
   },
   {
    "duration": 342,
    "start_time": "2024-05-15T16:39:30.566Z"
   },
   {
    "duration": 224,
    "start_time": "2024-05-15T16:39:30.910Z"
   },
   {
    "duration": 200,
    "start_time": "2024-05-15T16:39:31.136Z"
   },
   {
    "duration": 88,
    "start_time": "2024-05-15T16:39:31.337Z"
   },
   {
    "duration": 80,
    "start_time": "2024-05-15T16:39:31.427Z"
   },
   {
    "duration": 18,
    "start_time": "2024-05-15T16:39:31.508Z"
   },
   {
    "duration": 188,
    "start_time": "2024-05-15T16:39:31.528Z"
   },
   {
    "duration": 166,
    "start_time": "2024-05-15T16:39:31.718Z"
   },
   {
    "duration": 4,
    "start_time": "2024-05-15T16:39:31.893Z"
   },
   {
    "duration": 75,
    "start_time": "2024-05-15T16:39:31.899Z"
   },
   {
    "duration": 131,
    "start_time": "2024-05-15T16:39:31.975Z"
   },
   {
    "duration": 173,
    "start_time": "2024-05-15T16:39:32.108Z"
   },
   {
    "duration": 14,
    "start_time": "2024-05-15T16:39:32.283Z"
   },
   {
    "duration": 199,
    "start_time": "2024-05-15T16:39:32.299Z"
   },
   {
    "duration": 20,
    "start_time": "2024-05-15T16:39:32.500Z"
   },
   {
    "duration": 198,
    "start_time": "2024-05-15T16:39:32.521Z"
   },
   {
    "duration": 19,
    "start_time": "2024-05-15T16:39:32.721Z"
   },
   {
    "duration": 142,
    "start_time": "2024-05-15T16:39:32.741Z"
   },
   {
    "duration": 5,
    "start_time": "2024-05-15T16:39:32.894Z"
   },
   {
    "duration": 168,
    "start_time": "2024-05-15T16:39:32.901Z"
   },
   {
    "duration": 230,
    "start_time": "2024-05-15T16:39:33.071Z"
   },
   {
    "duration": 12,
    "start_time": "2024-05-15T16:39:33.303Z"
   },
   {
    "duration": 255,
    "start_time": "2024-05-15T16:39:33.317Z"
   },
   {
    "duration": 635,
    "start_time": "2024-05-15T16:39:41.977Z"
   },
   {
    "duration": 15,
    "start_time": "2024-05-15T16:40:41.692Z"
   },
   {
    "duration": 593,
    "start_time": "2024-05-15T16:40:54.034Z"
   },
   {
    "duration": 29,
    "start_time": "2024-05-15T16:40:54.629Z"
   },
   {
    "duration": 52,
    "start_time": "2024-05-15T16:40:54.659Z"
   },
   {
    "duration": 132,
    "start_time": "2024-05-15T16:40:54.713Z"
   },
   {
    "duration": 29,
    "start_time": "2024-05-15T16:40:54.848Z"
   },
   {
    "duration": 6,
    "start_time": "2024-05-15T16:40:54.894Z"
   },
   {
    "duration": 60,
    "start_time": "2024-05-15T16:40:54.902Z"
   },
   {
    "duration": 13,
    "start_time": "2024-05-15T16:40:54.963Z"
   },
   {
    "duration": 24,
    "start_time": "2024-05-15T16:40:54.978Z"
   },
   {
    "duration": 15,
    "start_time": "2024-05-15T16:40:55.004Z"
   },
   {
    "duration": 362,
    "start_time": "2024-05-15T16:40:55.021Z"
   },
   {
    "duration": 208,
    "start_time": "2024-05-15T16:40:55.384Z"
   },
   {
    "duration": 3,
    "start_time": "2024-05-15T16:40:55.594Z"
   },
   {
    "duration": 104,
    "start_time": "2024-05-15T16:40:55.600Z"
   },
   {
    "duration": 21,
    "start_time": "2024-05-15T16:40:55.706Z"
   },
   {
    "duration": 140,
    "start_time": "2024-05-15T16:40:55.729Z"
   },
   {
    "duration": 23,
    "start_time": "2024-05-15T16:40:55.871Z"
   },
   {
    "duration": 141,
    "start_time": "2024-05-15T16:40:55.895Z"
   },
   {
    "duration": 19,
    "start_time": "2024-05-15T16:40:56.038Z"
   },
   {
    "duration": 206,
    "start_time": "2024-05-15T16:40:56.059Z"
   },
   {
    "duration": 15,
    "start_time": "2024-05-15T16:40:56.267Z"
   },
   {
    "duration": 169,
    "start_time": "2024-05-15T16:40:56.294Z"
   },
   {
    "duration": 6,
    "start_time": "2024-05-15T16:40:56.464Z"
   },
   {
    "duration": 158,
    "start_time": "2024-05-15T16:40:56.471Z"
   },
   {
    "duration": 198,
    "start_time": "2024-05-15T16:40:56.631Z"
   },
   {
    "duration": 12,
    "start_time": "2024-05-15T16:40:56.830Z"
   },
   {
    "duration": 137,
    "start_time": "2024-05-15T16:41:19.826Z"
   },
   {
    "duration": 136,
    "start_time": "2024-05-15T16:41:28.003Z"
   },
   {
    "duration": 180,
    "start_time": "2024-05-15T16:42:42.858Z"
   },
   {
    "duration": 653,
    "start_time": "2024-05-15T16:43:35.500Z"
   },
   {
    "duration": 27,
    "start_time": "2024-05-15T16:43:36.155Z"
   },
   {
    "duration": 71,
    "start_time": "2024-05-15T16:43:36.186Z"
   },
   {
    "duration": 85,
    "start_time": "2024-05-15T16:43:36.258Z"
   },
   {
    "duration": 28,
    "start_time": "2024-05-15T16:43:36.345Z"
   },
   {
    "duration": 20,
    "start_time": "2024-05-15T16:43:36.375Z"
   },
   {
    "duration": 38,
    "start_time": "2024-05-15T16:43:36.397Z"
   },
   {
    "duration": 17,
    "start_time": "2024-05-15T16:43:36.436Z"
   },
   {
    "duration": 10,
    "start_time": "2024-05-15T16:43:36.456Z"
   },
   {
    "duration": 6,
    "start_time": "2024-05-15T16:43:36.468Z"
   },
   {
    "duration": 323,
    "start_time": "2024-05-15T16:43:36.476Z"
   },
   {
    "duration": 191,
    "start_time": "2024-05-15T16:43:36.802Z"
   },
   {
    "duration": 4,
    "start_time": "2024-05-15T16:43:36.995Z"
   },
   {
    "duration": 118,
    "start_time": "2024-05-15T16:43:37.001Z"
   },
   {
    "duration": 24,
    "start_time": "2024-05-15T16:43:37.121Z"
   },
   {
    "duration": 181,
    "start_time": "2024-05-15T16:43:37.148Z"
   },
   {
    "duration": 9,
    "start_time": "2024-05-15T16:43:37.331Z"
   },
   {
    "duration": 200,
    "start_time": "2024-05-15T16:43:37.341Z"
   },
   {
    "duration": 20,
    "start_time": "2024-05-15T16:43:37.543Z"
   },
   {
    "duration": 204,
    "start_time": "2024-05-15T16:43:37.564Z"
   },
   {
    "duration": 26,
    "start_time": "2024-05-15T16:43:37.769Z"
   },
   {
    "duration": 148,
    "start_time": "2024-05-15T16:43:37.797Z"
   },
   {
    "duration": 5,
    "start_time": "2024-05-15T16:43:37.947Z"
   },
   {
    "duration": 145,
    "start_time": "2024-05-15T16:43:37.954Z"
   },
   {
    "duration": 189,
    "start_time": "2024-05-15T16:43:38.100Z"
   },
   {
    "duration": 18,
    "start_time": "2024-05-15T16:43:38.291Z"
   },
   {
    "duration": 203,
    "start_time": "2024-05-15T16:43:38.313Z"
   },
   {
    "duration": 43,
    "start_time": "2024-05-15T17:58:52.512Z"
   },
   {
    "duration": 43,
    "start_time": "2024-05-15T17:59:02.199Z"
   },
   {
    "duration": 38,
    "start_time": "2024-05-15T17:59:39.540Z"
   },
   {
    "duration": 6,
    "start_time": "2024-05-15T19:45:08.834Z"
   },
   {
    "duration": 623,
    "start_time": "2024-05-15T19:45:13.629Z"
   },
   {
    "duration": 32,
    "start_time": "2024-05-15T19:45:14.254Z"
   },
   {
    "duration": 53,
    "start_time": "2024-05-15T19:45:14.302Z"
   },
   {
    "duration": 121,
    "start_time": "2024-05-15T19:45:14.358Z"
   },
   {
    "duration": 30,
    "start_time": "2024-05-15T19:45:14.481Z"
   },
   {
    "duration": 6,
    "start_time": "2024-05-15T19:45:14.512Z"
   },
   {
    "duration": 42,
    "start_time": "2024-05-15T19:45:14.519Z"
   },
   {
    "duration": 32,
    "start_time": "2024-05-15T19:45:14.563Z"
   },
   {
    "duration": 49,
    "start_time": "2024-05-15T19:45:14.596Z"
   },
   {
    "duration": 32,
    "start_time": "2024-05-15T19:45:14.647Z"
   },
   {
    "duration": 316,
    "start_time": "2024-05-15T19:45:14.680Z"
   },
   {
    "duration": 181,
    "start_time": "2024-05-15T19:45:14.998Z"
   },
   {
    "duration": 4,
    "start_time": "2024-05-15T19:45:15.180Z"
   },
   {
    "duration": 124,
    "start_time": "2024-05-15T19:45:15.193Z"
   },
   {
    "duration": 23,
    "start_time": "2024-05-15T19:45:15.319Z"
   },
   {
    "duration": 256,
    "start_time": "2024-05-15T19:45:15.344Z"
   },
   {
    "duration": 11,
    "start_time": "2024-05-15T19:45:15.602Z"
   },
   {
    "duration": 173,
    "start_time": "2024-05-15T19:45:15.614Z"
   },
   {
    "duration": 20,
    "start_time": "2024-05-15T19:45:15.789Z"
   },
   {
    "duration": 198,
    "start_time": "2024-05-15T19:45:15.811Z"
   },
   {
    "duration": 16,
    "start_time": "2024-05-15T19:45:16.011Z"
   },
   {
    "duration": 144,
    "start_time": "2024-05-15T19:45:16.029Z"
   },
   {
    "duration": 6,
    "start_time": "2024-05-15T19:45:16.174Z"
   },
   {
    "duration": 144,
    "start_time": "2024-05-15T19:45:16.181Z"
   },
   {
    "duration": 181,
    "start_time": "2024-05-15T19:45:16.326Z"
   },
   {
    "duration": 11,
    "start_time": "2024-05-15T19:45:16.509Z"
   },
   {
    "duration": 174,
    "start_time": "2024-05-15T19:45:16.521Z"
   },
   {
    "duration": 617,
    "start_time": "2024-05-15T19:45:36.012Z"
   },
   {
    "duration": 29,
    "start_time": "2024-05-15T19:45:36.631Z"
   },
   {
    "duration": 52,
    "start_time": "2024-05-15T19:45:36.661Z"
   },
   {
    "duration": 133,
    "start_time": "2024-05-15T19:45:36.714Z"
   },
   {
    "duration": 45,
    "start_time": "2024-05-15T19:45:36.849Z"
   },
   {
    "duration": 6,
    "start_time": "2024-05-15T19:45:36.896Z"
   },
   {
    "duration": 46,
    "start_time": "2024-05-15T19:45:36.904Z"
   },
   {
    "duration": 13,
    "start_time": "2024-05-15T19:45:36.952Z"
   },
   {
    "duration": 30,
    "start_time": "2024-05-15T19:45:36.967Z"
   },
   {
    "duration": 7,
    "start_time": "2024-05-15T19:45:36.999Z"
   },
   {
    "duration": 352,
    "start_time": "2024-05-15T19:45:37.008Z"
   },
   {
    "duration": 176,
    "start_time": "2024-05-15T19:45:37.362Z"
   },
   {
    "duration": 4,
    "start_time": "2024-05-15T19:45:37.540Z"
   },
   {
    "duration": 97,
    "start_time": "2024-05-15T19:45:37.546Z"
   },
   {
    "duration": 22,
    "start_time": "2024-05-15T19:45:37.645Z"
   },
   {
    "duration": 162,
    "start_time": "2024-05-15T19:45:37.668Z"
   },
   {
    "duration": 9,
    "start_time": "2024-05-15T19:45:37.831Z"
   },
   {
    "duration": 168,
    "start_time": "2024-05-15T19:45:37.842Z"
   },
   {
    "duration": 20,
    "start_time": "2024-05-15T19:45:38.011Z"
   },
   {
    "duration": 269,
    "start_time": "2024-05-15T19:45:38.033Z"
   },
   {
    "duration": 17,
    "start_time": "2024-05-15T19:45:38.303Z"
   },
   {
    "duration": 143,
    "start_time": "2024-05-15T19:45:38.321Z"
   },
   {
    "duration": 6,
    "start_time": "2024-05-15T19:45:38.466Z"
   },
   {
    "duration": 177,
    "start_time": "2024-05-15T19:45:38.474Z"
   },
   {
    "duration": 186,
    "start_time": "2024-05-15T19:45:38.653Z"
   },
   {
    "duration": 14,
    "start_time": "2024-05-15T19:45:38.841Z"
   },
   {
    "duration": 205,
    "start_time": "2024-05-15T19:45:38.857Z"
   },
   {
    "duration": 583,
    "start_time": "2024-05-15T19:57:22.931Z"
   },
   {
    "duration": 28,
    "start_time": "2024-05-15T19:57:23.516Z"
   },
   {
    "duration": 91,
    "start_time": "2024-05-15T19:57:23.548Z"
   },
   {
    "duration": 74,
    "start_time": "2024-05-15T19:57:23.641Z"
   },
   {
    "duration": 26,
    "start_time": "2024-05-15T19:57:23.716Z"
   },
   {
    "duration": 13,
    "start_time": "2024-05-15T19:57:23.743Z"
   },
   {
    "duration": 26,
    "start_time": "2024-05-15T19:57:23.757Z"
   },
   {
    "duration": 17,
    "start_time": "2024-05-15T19:57:23.785Z"
   },
   {
    "duration": 22,
    "start_time": "2024-05-15T19:57:23.804Z"
   },
   {
    "duration": 21,
    "start_time": "2024-05-15T19:57:23.827Z"
   },
   {
    "duration": 321,
    "start_time": "2024-05-15T19:57:23.850Z"
   },
   {
    "duration": 179,
    "start_time": "2024-05-15T19:57:24.173Z"
   },
   {
    "duration": 4,
    "start_time": "2024-05-15T19:57:24.355Z"
   },
   {
    "duration": 111,
    "start_time": "2024-05-15T19:57:24.361Z"
   },
   {
    "duration": 26,
    "start_time": "2024-05-15T19:57:24.474Z"
   },
   {
    "duration": 137,
    "start_time": "2024-05-15T19:57:24.502Z"
   },
   {
    "duration": 11,
    "start_time": "2024-05-15T19:57:24.641Z"
   },
   {
    "duration": 183,
    "start_time": "2024-05-15T19:57:24.654Z"
   },
   {
    "duration": 18,
    "start_time": "2024-05-15T19:57:24.839Z"
   },
   {
    "duration": 211,
    "start_time": "2024-05-15T19:57:24.858Z"
   },
   {
    "duration": 25,
    "start_time": "2024-05-15T19:57:25.070Z"
   },
   {
    "duration": 132,
    "start_time": "2024-05-15T19:57:25.097Z"
   },
   {
    "duration": 5,
    "start_time": "2024-05-15T19:57:25.230Z"
   },
   {
    "duration": 182,
    "start_time": "2024-05-15T19:57:25.236Z"
   },
   {
    "duration": 189,
    "start_time": "2024-05-15T19:57:25.419Z"
   },
   {
    "duration": 11,
    "start_time": "2024-05-15T19:57:25.610Z"
   },
   {
    "duration": 191,
    "start_time": "2024-05-15T19:57:25.623Z"
   },
   {
    "duration": 642,
    "start_time": "2024-05-15T20:10:02.571Z"
   },
   {
    "duration": 33,
    "start_time": "2024-05-15T20:10:03.214Z"
   },
   {
    "duration": 49,
    "start_time": "2024-05-15T20:10:03.249Z"
   },
   {
    "duration": 123,
    "start_time": "2024-05-15T20:10:03.300Z"
   },
   {
    "duration": 41,
    "start_time": "2024-05-15T20:10:03.425Z"
   },
   {
    "duration": 5,
    "start_time": "2024-05-15T20:10:03.468Z"
   },
   {
    "duration": 34,
    "start_time": "2024-05-15T20:10:03.495Z"
   },
   {
    "duration": 69,
    "start_time": "2024-05-15T20:10:03.531Z"
   },
   {
    "duration": 42,
    "start_time": "2024-05-15T20:10:03.602Z"
   },
   {
    "duration": 29,
    "start_time": "2024-05-15T20:10:03.648Z"
   },
   {
    "duration": 385,
    "start_time": "2024-05-15T20:10:03.680Z"
   },
   {
    "duration": 177,
    "start_time": "2024-05-15T20:10:04.066Z"
   },
   {
    "duration": 4,
    "start_time": "2024-05-15T20:10:04.245Z"
   },
   {
    "duration": 141,
    "start_time": "2024-05-15T20:10:04.250Z"
   },
   {
    "duration": 23,
    "start_time": "2024-05-15T20:10:04.392Z"
   },
   {
    "duration": 147,
    "start_time": "2024-05-15T20:10:04.417Z"
   },
   {
    "duration": 9,
    "start_time": "2024-05-15T20:10:04.565Z"
   },
   {
    "duration": 77,
    "start_time": "2024-05-15T20:10:04.576Z"
   },
   {
    "duration": 0,
    "start_time": "2024-05-15T20:10:04.654Z"
   },
   {
    "duration": 0,
    "start_time": "2024-05-15T20:10:04.656Z"
   },
   {
    "duration": 0,
    "start_time": "2024-05-15T20:10:04.657Z"
   },
   {
    "duration": 0,
    "start_time": "2024-05-15T20:10:04.658Z"
   },
   {
    "duration": 0,
    "start_time": "2024-05-15T20:10:04.659Z"
   },
   {
    "duration": 0,
    "start_time": "2024-05-15T20:10:04.660Z"
   },
   {
    "duration": 0,
    "start_time": "2024-05-15T20:10:04.660Z"
   },
   {
    "duration": 0,
    "start_time": "2024-05-15T20:10:04.661Z"
   },
   {
    "duration": 0,
    "start_time": "2024-05-15T20:10:04.662Z"
   },
   {
    "duration": 0,
    "start_time": "2024-05-15T20:10:04.663Z"
   },
   {
    "duration": 600,
    "start_time": "2024-05-15T20:10:18.517Z"
   },
   {
    "duration": 28,
    "start_time": "2024-05-15T20:10:19.118Z"
   },
   {
    "duration": 50,
    "start_time": "2024-05-15T20:10:19.147Z"
   },
   {
    "duration": 111,
    "start_time": "2024-05-15T20:10:19.199Z"
   },
   {
    "duration": 36,
    "start_time": "2024-05-15T20:10:19.312Z"
   },
   {
    "duration": 25,
    "start_time": "2024-05-15T20:10:19.349Z"
   },
   {
    "duration": 50,
    "start_time": "2024-05-15T20:10:19.375Z"
   },
   {
    "duration": 63,
    "start_time": "2024-05-15T20:10:19.427Z"
   },
   {
    "duration": 51,
    "start_time": "2024-05-15T20:10:19.491Z"
   },
   {
    "duration": 14,
    "start_time": "2024-05-15T20:10:19.546Z"
   },
   {
    "duration": 349,
    "start_time": "2024-05-15T20:10:19.562Z"
   },
   {
    "duration": 175,
    "start_time": "2024-05-15T20:10:19.912Z"
   },
   {
    "duration": 4,
    "start_time": "2024-05-15T20:10:20.093Z"
   },
   {
    "duration": 122,
    "start_time": "2024-05-15T20:10:20.098Z"
   },
   {
    "duration": 20,
    "start_time": "2024-05-15T20:10:20.222Z"
   },
   {
    "duration": 141,
    "start_time": "2024-05-15T20:10:20.243Z"
   },
   {
    "duration": 14,
    "start_time": "2024-05-15T20:10:20.385Z"
   },
   {
    "duration": 158,
    "start_time": "2024-05-15T20:10:20.400Z"
   },
   {
    "duration": 18,
    "start_time": "2024-05-15T20:10:20.559Z"
   },
   {
    "duration": 189,
    "start_time": "2024-05-15T20:10:20.578Z"
   },
   {
    "duration": 27,
    "start_time": "2024-05-15T20:10:20.768Z"
   },
   {
    "duration": 143,
    "start_time": "2024-05-15T20:10:20.797Z"
   },
   {
    "duration": 7,
    "start_time": "2024-05-15T20:10:20.942Z"
   },
   {
    "duration": 165,
    "start_time": "2024-05-15T20:10:20.950Z"
   },
   {
    "duration": 177,
    "start_time": "2024-05-15T20:10:21.117Z"
   },
   {
    "duration": 11,
    "start_time": "2024-05-15T20:10:21.295Z"
   },
   {
    "duration": 207,
    "start_time": "2024-05-15T20:10:21.308Z"
   },
   {
    "duration": 163,
    "start_time": "2024-05-15T20:27:48.490Z"
   },
   {
    "duration": 171,
    "start_time": "2024-05-15T20:27:53.320Z"
   },
   {
    "duration": 678,
    "start_time": "2024-05-15T20:28:00.565Z"
   },
   {
    "duration": 29,
    "start_time": "2024-05-15T20:28:01.244Z"
   },
   {
    "duration": 105,
    "start_time": "2024-05-15T20:28:01.274Z"
   },
   {
    "duration": 148,
    "start_time": "2024-05-15T20:28:01.381Z"
   },
   {
    "duration": 45,
    "start_time": "2024-05-15T20:28:01.532Z"
   },
   {
    "duration": 35,
    "start_time": "2024-05-15T20:28:01.579Z"
   },
   {
    "duration": 91,
    "start_time": "2024-05-15T20:28:01.616Z"
   },
   {
    "duration": 36,
    "start_time": "2024-05-15T20:28:01.708Z"
   },
   {
    "duration": 18,
    "start_time": "2024-05-15T20:28:01.745Z"
   },
   {
    "duration": 9,
    "start_time": "2024-05-15T20:28:01.765Z"
   },
   {
    "duration": 314,
    "start_time": "2024-05-15T20:28:01.775Z"
   },
   {
    "duration": 176,
    "start_time": "2024-05-15T20:28:02.094Z"
   },
   {
    "duration": 4,
    "start_time": "2024-05-15T20:28:02.272Z"
   },
   {
    "duration": 131,
    "start_time": "2024-05-15T20:28:02.278Z"
   },
   {
    "duration": 52,
    "start_time": "2024-05-15T20:28:02.411Z"
   },
   {
    "duration": 186,
    "start_time": "2024-05-15T20:28:02.465Z"
   },
   {
    "duration": 8,
    "start_time": "2024-05-15T20:28:02.653Z"
   },
   {
    "duration": 175,
    "start_time": "2024-05-15T20:28:02.663Z"
   },
   {
    "duration": 18,
    "start_time": "2024-05-15T20:28:02.839Z"
   },
   {
    "duration": 217,
    "start_time": "2024-05-15T20:28:02.859Z"
   },
   {
    "duration": 24,
    "start_time": "2024-05-15T20:28:03.077Z"
   },
   {
    "duration": 152,
    "start_time": "2024-05-15T20:28:03.103Z"
   },
   {
    "duration": 6,
    "start_time": "2024-05-15T20:28:03.256Z"
   },
   {
    "duration": 162,
    "start_time": "2024-05-15T20:28:03.263Z"
   },
   {
    "duration": 177,
    "start_time": "2024-05-15T20:28:03.426Z"
   },
   {
    "duration": 11,
    "start_time": "2024-05-15T20:28:03.605Z"
   },
   {
    "duration": 227,
    "start_time": "2024-05-15T20:28:03.618Z"
   },
   {
    "duration": 177,
    "start_time": "2024-05-15T20:52:33.429Z"
   },
   {
    "duration": 649,
    "start_time": "2024-05-15T21:08:13.861Z"
   },
   {
    "duration": 28,
    "start_time": "2024-05-15T21:08:14.512Z"
   },
   {
    "duration": 55,
    "start_time": "2024-05-15T21:08:14.542Z"
   },
   {
    "duration": 111,
    "start_time": "2024-05-15T21:08:14.599Z"
   },
   {
    "duration": 29,
    "start_time": "2024-05-15T21:08:14.713Z"
   },
   {
    "duration": 5,
    "start_time": "2024-05-15T21:08:14.744Z"
   },
   {
    "duration": 48,
    "start_time": "2024-05-15T21:08:14.751Z"
   },
   {
    "duration": 30,
    "start_time": "2024-05-15T21:08:14.800Z"
   },
   {
    "duration": 20,
    "start_time": "2024-05-15T21:08:14.832Z"
   },
   {
    "duration": 18,
    "start_time": "2024-05-15T21:08:14.853Z"
   },
   {
    "duration": 343,
    "start_time": "2024-05-15T21:08:14.872Z"
   },
   {
    "duration": 205,
    "start_time": "2024-05-15T21:08:15.217Z"
   },
   {
    "duration": 5,
    "start_time": "2024-05-15T21:08:15.424Z"
   },
   {
    "duration": 98,
    "start_time": "2024-05-15T21:08:15.433Z"
   },
   {
    "duration": 22,
    "start_time": "2024-05-15T21:08:15.533Z"
   },
   {
    "duration": 163,
    "start_time": "2024-05-15T21:08:15.557Z"
   },
   {
    "duration": 11,
    "start_time": "2024-05-15T21:08:15.722Z"
   },
   {
    "duration": 161,
    "start_time": "2024-05-15T21:08:15.735Z"
   },
   {
    "duration": 19,
    "start_time": "2024-05-15T21:08:15.898Z"
   },
   {
    "duration": 200,
    "start_time": "2024-05-15T21:08:15.918Z"
   },
   {
    "duration": 15,
    "start_time": "2024-05-15T21:08:16.120Z"
   },
   {
    "duration": 144,
    "start_time": "2024-05-15T21:08:16.137Z"
   },
   {
    "duration": 12,
    "start_time": "2024-05-15T21:08:16.282Z"
   },
   {
    "duration": 137,
    "start_time": "2024-05-15T21:08:16.296Z"
   },
   {
    "duration": 172,
    "start_time": "2024-05-15T21:08:16.434Z"
   },
   {
    "duration": 12,
    "start_time": "2024-05-15T21:08:16.607Z"
   },
   {
    "duration": 176,
    "start_time": "2024-05-15T21:08:16.620Z"
   },
   {
    "duration": 896,
    "start_time": "2024-05-16T10:05:41.507Z"
   },
   {
    "duration": 30,
    "start_time": "2024-05-16T10:05:42.405Z"
   },
   {
    "duration": 53,
    "start_time": "2024-05-16T10:05:42.436Z"
   },
   {
    "duration": 122,
    "start_time": "2024-05-16T10:05:42.491Z"
   },
   {
    "duration": 30,
    "start_time": "2024-05-16T10:05:42.615Z"
   },
   {
    "duration": 24,
    "start_time": "2024-05-16T10:05:42.646Z"
   },
   {
    "duration": 20,
    "start_time": "2024-05-16T10:05:42.671Z"
   },
   {
    "duration": 23,
    "start_time": "2024-05-16T10:05:42.693Z"
   },
   {
    "duration": 33,
    "start_time": "2024-05-16T10:05:42.718Z"
   },
   {
    "duration": 7,
    "start_time": "2024-05-16T10:05:42.754Z"
   },
   {
    "duration": 513,
    "start_time": "2024-05-16T10:05:42.763Z"
   },
   {
    "duration": 184,
    "start_time": "2024-05-16T10:05:43.278Z"
   },
   {
    "duration": 4,
    "start_time": "2024-05-16T10:05:43.469Z"
   },
   {
    "duration": 110,
    "start_time": "2024-05-16T10:05:43.475Z"
   },
   {
    "duration": 33,
    "start_time": "2024-05-16T10:05:43.587Z"
   },
   {
    "duration": 164,
    "start_time": "2024-05-16T10:05:43.622Z"
   },
   {
    "duration": 9,
    "start_time": "2024-05-16T10:05:43.788Z"
   },
   {
    "duration": 171,
    "start_time": "2024-05-16T10:05:43.799Z"
   },
   {
    "duration": 21,
    "start_time": "2024-05-16T10:05:43.971Z"
   },
   {
    "duration": 229,
    "start_time": "2024-05-16T10:05:43.993Z"
   },
   {
    "duration": 19,
    "start_time": "2024-05-16T10:05:44.224Z"
   },
   {
    "duration": 148,
    "start_time": "2024-05-16T10:05:44.245Z"
   },
   {
    "duration": 6,
    "start_time": "2024-05-16T10:05:44.395Z"
   },
   {
    "duration": 157,
    "start_time": "2024-05-16T10:05:44.402Z"
   },
   {
    "duration": 197,
    "start_time": "2024-05-16T10:05:44.560Z"
   },
   {
    "duration": 18,
    "start_time": "2024-05-16T10:05:44.758Z"
   },
   {
    "duration": 224,
    "start_time": "2024-05-16T10:05:44.778Z"
   },
   {
    "duration": 565,
    "start_time": "2024-05-16T10:09:25.613Z"
   },
   {
    "duration": 86,
    "start_time": "2024-05-16T10:13:24.476Z"
   },
   {
    "duration": 128,
    "start_time": "2024-05-16T10:13:32.225Z"
   },
   {
    "duration": 700,
    "start_time": "2024-05-16T10:17:01.454Z"
   },
   {
    "duration": 39,
    "start_time": "2024-05-16T10:17:02.157Z"
   },
   {
    "duration": 136,
    "start_time": "2024-05-16T10:17:02.198Z"
   },
   {
    "duration": 120,
    "start_time": "2024-05-16T10:17:02.336Z"
   },
   {
    "duration": 63,
    "start_time": "2024-05-16T10:17:02.457Z"
   },
   {
    "duration": 34,
    "start_time": "2024-05-16T10:17:02.521Z"
   },
   {
    "duration": 70,
    "start_time": "2024-05-16T10:17:02.557Z"
   },
   {
    "duration": 54,
    "start_time": "2024-05-16T10:17:02.629Z"
   },
   {
    "duration": 21,
    "start_time": "2024-05-16T10:17:02.684Z"
   },
   {
    "duration": 30,
    "start_time": "2024-05-16T10:17:02.709Z"
   },
   {
    "duration": 25,
    "start_time": "2024-05-16T10:17:02.741Z"
   },
   {
    "duration": 27,
    "start_time": "2024-05-16T10:17:02.768Z"
   },
   {
    "duration": 379,
    "start_time": "2024-05-16T10:17:02.797Z"
   },
   {
    "duration": 186,
    "start_time": "2024-05-16T10:17:03.178Z"
   },
   {
    "duration": 4,
    "start_time": "2024-05-16T10:17:03.370Z"
   },
   {
    "duration": 100,
    "start_time": "2024-05-16T10:17:03.376Z"
   },
   {
    "duration": 23,
    "start_time": "2024-05-16T10:17:03.478Z"
   },
   {
    "duration": 162,
    "start_time": "2024-05-16T10:17:03.503Z"
   },
   {
    "duration": 10,
    "start_time": "2024-05-16T10:17:03.669Z"
   },
   {
    "duration": 169,
    "start_time": "2024-05-16T10:17:03.681Z"
   },
   {
    "duration": 25,
    "start_time": "2024-05-16T10:17:03.852Z"
   },
   {
    "duration": 219,
    "start_time": "2024-05-16T10:17:03.879Z"
   },
   {
    "duration": 20,
    "start_time": "2024-05-16T10:17:04.099Z"
   },
   {
    "duration": 180,
    "start_time": "2024-05-16T10:17:04.121Z"
   },
   {
    "duration": 6,
    "start_time": "2024-05-16T10:17:04.302Z"
   },
   {
    "duration": 159,
    "start_time": "2024-05-16T10:17:04.310Z"
   },
   {
    "duration": 203,
    "start_time": "2024-05-16T10:17:04.471Z"
   },
   {
    "duration": 12,
    "start_time": "2024-05-16T10:17:04.677Z"
   },
   {
    "duration": 188,
    "start_time": "2024-05-16T10:17:04.690Z"
   },
   {
    "duration": 47,
    "start_time": "2024-05-16T10:18:44.107Z"
   },
   {
    "duration": 668,
    "start_time": "2024-05-16T10:24:44.129Z"
   },
   {
    "duration": 39,
    "start_time": "2024-05-16T10:24:44.799Z"
   },
   {
    "duration": 56,
    "start_time": "2024-05-16T10:24:44.840Z"
   },
   {
    "duration": 131,
    "start_time": "2024-05-16T10:24:44.898Z"
   },
   {
    "duration": 52,
    "start_time": "2024-05-16T10:24:45.030Z"
   },
   {
    "duration": 10,
    "start_time": "2024-05-16T10:24:45.084Z"
   },
   {
    "duration": 58,
    "start_time": "2024-05-16T10:24:45.096Z"
   },
   {
    "duration": 41,
    "start_time": "2024-05-16T10:24:45.156Z"
   },
   {
    "duration": 45,
    "start_time": "2024-05-16T10:24:45.200Z"
   },
   {
    "duration": 40,
    "start_time": "2024-05-16T10:24:45.248Z"
   },
   {
    "duration": 362,
    "start_time": "2024-05-16T10:24:45.290Z"
   },
   {
    "duration": 184,
    "start_time": "2024-05-16T10:24:45.654Z"
   },
   {
    "duration": 4,
    "start_time": "2024-05-16T10:24:45.840Z"
   },
   {
    "duration": 95,
    "start_time": "2024-05-16T10:24:45.846Z"
   },
   {
    "duration": 34,
    "start_time": "2024-05-16T10:24:45.943Z"
   },
   {
    "duration": 459,
    "start_time": "2024-05-16T10:24:45.979Z"
   },
   {
    "duration": 171,
    "start_time": "2024-05-16T10:24:46.440Z"
   },
   {
    "duration": 10,
    "start_time": "2024-05-16T10:24:46.612Z"
   },
   {
    "duration": 169,
    "start_time": "2024-05-16T10:24:46.623Z"
   },
   {
    "duration": 21,
    "start_time": "2024-05-16T10:24:46.793Z"
   },
   {
    "duration": 215,
    "start_time": "2024-05-16T10:24:46.816Z"
   },
   {
    "duration": 17,
    "start_time": "2024-05-16T10:24:47.033Z"
   },
   {
    "duration": 154,
    "start_time": "2024-05-16T10:24:47.052Z"
   },
   {
    "duration": 5,
    "start_time": "2024-05-16T10:24:47.208Z"
   },
   {
    "duration": 156,
    "start_time": "2024-05-16T10:24:47.215Z"
   },
   {
    "duration": 213,
    "start_time": "2024-05-16T10:24:47.373Z"
   },
   {
    "duration": 13,
    "start_time": "2024-05-16T10:24:47.588Z"
   },
   {
    "duration": 259,
    "start_time": "2024-05-16T10:24:47.604Z"
   },
   {
    "duration": 650,
    "start_time": "2024-05-16T10:30:56.495Z"
   },
   {
    "duration": 29,
    "start_time": "2024-05-16T10:30:57.147Z"
   },
   {
    "duration": 35,
    "start_time": "2024-05-16T10:30:57.178Z"
   },
   {
    "duration": 119,
    "start_time": "2024-05-16T10:30:57.215Z"
   },
   {
    "duration": 48,
    "start_time": "2024-05-16T10:30:57.337Z"
   },
   {
    "duration": 5,
    "start_time": "2024-05-16T10:30:57.387Z"
   },
   {
    "duration": 50,
    "start_time": "2024-05-16T10:30:57.394Z"
   },
   {
    "duration": 39,
    "start_time": "2024-05-16T10:30:57.446Z"
   },
   {
    "duration": 22,
    "start_time": "2024-05-16T10:30:57.487Z"
   },
   {
    "duration": 6,
    "start_time": "2024-05-16T10:30:57.511Z"
   },
   {
    "duration": 363,
    "start_time": "2024-05-16T10:30:57.519Z"
   },
   {
    "duration": 191,
    "start_time": "2024-05-16T10:30:57.884Z"
   },
   {
    "duration": 4,
    "start_time": "2024-05-16T10:30:58.077Z"
   },
   {
    "duration": 107,
    "start_time": "2024-05-16T10:30:58.084Z"
   },
   {
    "duration": 27,
    "start_time": "2024-05-16T10:30:58.194Z"
   },
   {
    "duration": 178,
    "start_time": "2024-05-16T10:30:58.223Z"
   },
   {
    "duration": 9,
    "start_time": "2024-05-16T10:30:58.403Z"
   },
   {
    "duration": 173,
    "start_time": "2024-05-16T10:30:58.413Z"
   },
   {
    "duration": 22,
    "start_time": "2024-05-16T10:30:58.587Z"
   },
   {
    "duration": 3,
    "start_time": "2024-05-16T10:30:58.611Z"
   },
   {
    "duration": 227,
    "start_time": "2024-05-16T10:30:58.616Z"
   },
   {
    "duration": 4,
    "start_time": "2024-05-16T10:30:58.844Z"
   },
   {
    "duration": 50,
    "start_time": "2024-05-16T10:30:58.850Z"
   },
   {
    "duration": 144,
    "start_time": "2024-05-16T10:30:58.902Z"
   },
   {
    "duration": 5,
    "start_time": "2024-05-16T10:30:59.048Z"
   },
   {
    "duration": 155,
    "start_time": "2024-05-16T10:30:59.055Z"
   },
   {
    "duration": 203,
    "start_time": "2024-05-16T10:30:59.212Z"
   },
   {
    "duration": 12,
    "start_time": "2024-05-16T10:30:59.417Z"
   },
   {
    "duration": 191,
    "start_time": "2024-05-16T10:30:59.431Z"
   },
   {
    "duration": 4,
    "start_time": "2024-05-16T10:31:12.702Z"
   },
   {
    "duration": 177,
    "start_time": "2024-05-16T10:32:13.092Z"
   },
   {
    "duration": 208,
    "start_time": "2024-05-16T10:33:13.768Z"
   },
   {
    "duration": 203,
    "start_time": "2024-05-16T10:34:05.069Z"
   },
   {
    "duration": 699,
    "start_time": "2024-05-16T10:48:31.801Z"
   },
   {
    "duration": 28,
    "start_time": "2024-05-16T10:48:32.502Z"
   },
   {
    "duration": 44,
    "start_time": "2024-05-16T10:48:32.531Z"
   },
   {
    "duration": 108,
    "start_time": "2024-05-16T10:48:32.577Z"
   },
   {
    "duration": 28,
    "start_time": "2024-05-16T10:48:32.686Z"
   },
   {
    "duration": 6,
    "start_time": "2024-05-16T10:48:32.715Z"
   },
   {
    "duration": 44,
    "start_time": "2024-05-16T10:48:32.722Z"
   },
   {
    "duration": 12,
    "start_time": "2024-05-16T10:48:32.767Z"
   },
   {
    "duration": 33,
    "start_time": "2024-05-16T10:48:32.781Z"
   },
   {
    "duration": 13,
    "start_time": "2024-05-16T10:48:32.817Z"
   },
   {
    "duration": 492,
    "start_time": "2024-05-16T10:48:32.832Z"
   },
   {
    "duration": 179,
    "start_time": "2024-05-16T10:48:33.325Z"
   },
   {
    "duration": 4,
    "start_time": "2024-05-16T10:48:33.506Z"
   },
   {
    "duration": 102,
    "start_time": "2024-05-16T10:48:33.511Z"
   },
   {
    "duration": 24,
    "start_time": "2024-05-16T10:48:33.614Z"
   },
   {
    "duration": 159,
    "start_time": "2024-05-16T10:48:33.639Z"
   },
   {
    "duration": 10,
    "start_time": "2024-05-16T10:48:33.800Z"
   },
   {
    "duration": 164,
    "start_time": "2024-05-16T10:48:33.812Z"
   },
   {
    "duration": 20,
    "start_time": "2024-05-16T10:48:33.979Z"
   },
   {
    "duration": 196,
    "start_time": "2024-05-16T10:48:34.001Z"
   },
   {
    "duration": 15,
    "start_time": "2024-05-16T10:48:34.198Z"
   },
   {
    "duration": 146,
    "start_time": "2024-05-16T10:48:34.214Z"
   },
   {
    "duration": 6,
    "start_time": "2024-05-16T10:48:34.362Z"
   },
   {
    "duration": 139,
    "start_time": "2024-05-16T10:48:34.370Z"
   },
   {
    "duration": 179,
    "start_time": "2024-05-16T10:48:34.511Z"
   },
   {
    "duration": 12,
    "start_time": "2024-05-16T10:48:34.691Z"
   },
   {
    "duration": 176,
    "start_time": "2024-05-16T10:48:34.705Z"
   },
   {
    "duration": 125,
    "start_time": "2024-05-16T10:48:46.773Z"
   },
   {
    "duration": 170,
    "start_time": "2024-05-16T10:52:08.131Z"
   },
   {
    "duration": 229,
    "start_time": "2024-05-16T10:52:13.314Z"
   },
   {
    "duration": 157,
    "start_time": "2024-05-16T10:52:16.939Z"
   },
   {
    "duration": 53,
    "start_time": "2024-05-16T10:52:22.138Z"
   },
   {
    "duration": 47,
    "start_time": "2024-05-16T10:52:29.332Z"
   },
   {
    "duration": 157,
    "start_time": "2024-05-16T10:52:35.875Z"
   },
   {
    "duration": 175,
    "start_time": "2024-05-16T10:53:41.763Z"
   },
   {
    "duration": 883,
    "start_time": "2024-05-16T16:20:55.500Z"
   },
   {
    "duration": 29,
    "start_time": "2024-05-16T16:20:56.385Z"
   },
   {
    "duration": 115,
    "start_time": "2024-05-16T16:20:56.415Z"
   },
   {
    "duration": 83,
    "start_time": "2024-05-16T16:20:56.532Z"
   },
   {
    "duration": 42,
    "start_time": "2024-05-16T16:20:56.616Z"
   },
   {
    "duration": 6,
    "start_time": "2024-05-16T16:20:56.660Z"
   },
   {
    "duration": 22,
    "start_time": "2024-05-16T16:20:56.667Z"
   },
   {
    "duration": 15,
    "start_time": "2024-05-16T16:20:56.690Z"
   },
   {
    "duration": 30,
    "start_time": "2024-05-16T16:20:56.707Z"
   },
   {
    "duration": 11,
    "start_time": "2024-05-16T16:20:56.740Z"
   },
   {
    "duration": 524,
    "start_time": "2024-05-16T16:20:56.752Z"
   },
   {
    "duration": 192,
    "start_time": "2024-05-16T16:20:57.278Z"
   },
   {
    "duration": 5,
    "start_time": "2024-05-16T16:20:57.472Z"
   },
   {
    "duration": 116,
    "start_time": "2024-05-16T16:20:57.480Z"
   },
   {
    "duration": 79,
    "start_time": "2024-05-16T16:20:57.598Z"
   },
   {
    "duration": 305,
    "start_time": "2024-05-16T16:20:57.679Z"
   },
   {
    "duration": 10,
    "start_time": "2024-05-16T16:20:57.985Z"
   },
   {
    "duration": 311,
    "start_time": "2024-05-16T16:20:57.996Z"
   },
   {
    "duration": 21,
    "start_time": "2024-05-16T16:20:58.360Z"
   },
   {
    "duration": 423,
    "start_time": "2024-05-16T16:20:58.383Z"
   },
   {
    "duration": 19,
    "start_time": "2024-05-16T16:20:58.859Z"
   },
   {
    "duration": 269,
    "start_time": "2024-05-16T16:20:58.879Z"
   },
   {
    "duration": 13,
    "start_time": "2024-05-16T16:20:59.150Z"
   },
   {
    "duration": 151,
    "start_time": "2024-05-16T16:20:59.165Z"
   },
   {
    "duration": 196,
    "start_time": "2024-05-16T16:20:59.317Z"
   },
   {
    "duration": 13,
    "start_time": "2024-05-16T16:20:59.515Z"
   },
   {
    "duration": 195,
    "start_time": "2024-05-16T16:20:59.529Z"
   },
   {
    "duration": 190,
    "start_time": "2024-05-16T16:30:14.343Z"
   },
   {
    "duration": 86,
    "start_time": "2024-05-16T16:30:25.071Z"
   },
   {
    "duration": 178,
    "start_time": "2024-05-16T16:30:31.889Z"
   },
   {
    "duration": 675,
    "start_time": "2024-05-16T16:30:47.944Z"
   },
   {
    "duration": 28,
    "start_time": "2024-05-16T16:30:48.621Z"
   },
   {
    "duration": 81,
    "start_time": "2024-05-16T16:30:48.653Z"
   },
   {
    "duration": 85,
    "start_time": "2024-05-16T16:30:48.736Z"
   },
   {
    "duration": 40,
    "start_time": "2024-05-16T16:30:48.822Z"
   },
   {
    "duration": 6,
    "start_time": "2024-05-16T16:30:48.864Z"
   },
   {
    "duration": 21,
    "start_time": "2024-05-16T16:30:48.871Z"
   },
   {
    "duration": 13,
    "start_time": "2024-05-16T16:30:48.894Z"
   },
   {
    "duration": 51,
    "start_time": "2024-05-16T16:30:48.910Z"
   },
   {
    "duration": 42,
    "start_time": "2024-05-16T16:30:48.963Z"
   },
   {
    "duration": 351,
    "start_time": "2024-05-16T16:30:49.007Z"
   },
   {
    "duration": 218,
    "start_time": "2024-05-16T16:30:49.360Z"
   },
   {
    "duration": 4,
    "start_time": "2024-05-16T16:30:49.580Z"
   },
   {
    "duration": 104,
    "start_time": "2024-05-16T16:30:49.586Z"
   },
   {
    "duration": 23,
    "start_time": "2024-05-16T16:30:49.692Z"
   },
   {
    "duration": 170,
    "start_time": "2024-05-16T16:30:49.716Z"
   },
   {
    "duration": 9,
    "start_time": "2024-05-16T16:30:49.888Z"
   },
   {
    "duration": 180,
    "start_time": "2024-05-16T16:30:49.899Z"
   },
   {
    "duration": 20,
    "start_time": "2024-05-16T16:30:50.081Z"
   },
   {
    "duration": 226,
    "start_time": "2024-05-16T16:30:50.102Z"
   },
   {
    "duration": 17,
    "start_time": "2024-05-16T16:30:50.330Z"
   },
   {
    "duration": 157,
    "start_time": "2024-05-16T16:30:50.348Z"
   },
   {
    "duration": 6,
    "start_time": "2024-05-16T16:30:50.507Z"
   },
   {
    "duration": 154,
    "start_time": "2024-05-16T16:30:50.515Z"
   },
   {
    "duration": 213,
    "start_time": "2024-05-16T16:30:50.671Z"
   },
   {
    "duration": 12,
    "start_time": "2024-05-16T16:30:50.886Z"
   },
   {
    "duration": 196,
    "start_time": "2024-05-16T16:30:50.902Z"
   },
   {
    "duration": 73,
    "start_time": "2024-05-16T16:37:27.583Z"
   },
   {
    "duration": 274,
    "start_time": "2024-05-16T16:37:40.544Z"
   },
   {
    "duration": 189,
    "start_time": "2024-05-16T16:37:50.156Z"
   },
   {
    "duration": 72,
    "start_time": "2024-05-16T16:38:47.257Z"
   },
   {
    "duration": 67,
    "start_time": "2024-05-16T16:38:49.703Z"
   },
   {
    "duration": 74,
    "start_time": "2024-05-16T16:38:54.692Z"
   },
   {
    "duration": 67,
    "start_time": "2024-05-16T16:38:58.452Z"
   },
   {
    "duration": 253,
    "start_time": "2024-05-16T16:39:07.091Z"
   },
   {
    "duration": 184,
    "start_time": "2024-05-16T16:39:23.580Z"
   },
   {
    "duration": 195,
    "start_time": "2024-05-16T16:39:40.076Z"
   },
   {
    "duration": 70,
    "start_time": "2024-05-16T16:40:07.014Z"
   },
   {
    "duration": 99,
    "start_time": "2024-05-16T16:40:12.330Z"
   },
   {
    "duration": 208,
    "start_time": "2024-05-16T16:40:15.437Z"
   },
   {
    "duration": 191,
    "start_time": "2024-05-16T16:40:22.547Z"
   },
   {
    "duration": 64,
    "start_time": "2024-05-16T16:40:45.281Z"
   },
   {
    "duration": 195,
    "start_time": "2024-05-16T16:40:51.621Z"
   },
   {
    "duration": 193,
    "start_time": "2024-05-16T16:42:39.023Z"
   },
   {
    "duration": 68,
    "start_time": "2024-05-16T16:43:28.762Z"
   },
   {
    "duration": 196,
    "start_time": "2024-05-16T16:43:31.598Z"
   },
   {
    "duration": 187,
    "start_time": "2024-05-16T16:44:19.018Z"
   },
   {
    "duration": 187,
    "start_time": "2024-05-16T16:44:46.847Z"
   },
   {
    "duration": 190,
    "start_time": "2024-05-16T16:45:04.154Z"
   },
   {
    "duration": 274,
    "start_time": "2024-05-16T16:45:14.714Z"
   },
   {
    "duration": 183,
    "start_time": "2024-05-16T16:45:18.156Z"
   },
   {
    "duration": 183,
    "start_time": "2024-05-16T16:45:19.994Z"
   },
   {
    "duration": 81,
    "start_time": "2024-05-16T16:47:18.374Z"
   },
   {
    "duration": 69,
    "start_time": "2024-05-16T16:47:25.476Z"
   },
   {
    "duration": 22,
    "start_time": "2024-05-16T16:47:29.507Z"
   },
   {
    "duration": 191,
    "start_time": "2024-05-16T16:47:37.223Z"
   },
   {
    "duration": 211,
    "start_time": "2024-05-16T16:47:53.295Z"
   },
   {
    "duration": 79,
    "start_time": "2024-05-16T16:49:01.067Z"
   },
   {
    "duration": 62,
    "start_time": "2024-05-16T16:49:12.339Z"
   },
   {
    "duration": 643,
    "start_time": "2024-05-16T16:49:36.683Z"
   },
   {
    "duration": 29,
    "start_time": "2024-05-16T16:49:37.328Z"
   },
   {
    "duration": 78,
    "start_time": "2024-05-16T16:49:37.359Z"
   },
   {
    "duration": 98,
    "start_time": "2024-05-16T16:49:37.440Z"
   },
   {
    "duration": 41,
    "start_time": "2024-05-16T16:49:37.540Z"
   },
   {
    "duration": 7,
    "start_time": "2024-05-16T16:49:37.583Z"
   },
   {
    "duration": 41,
    "start_time": "2024-05-16T16:49:37.592Z"
   },
   {
    "duration": 16,
    "start_time": "2024-05-16T16:49:37.635Z"
   },
   {
    "duration": 25,
    "start_time": "2024-05-16T16:49:37.653Z"
   },
   {
    "duration": 6,
    "start_time": "2024-05-16T16:49:37.681Z"
   },
   {
    "duration": 347,
    "start_time": "2024-05-16T16:49:37.688Z"
   },
   {
    "duration": 186,
    "start_time": "2024-05-16T16:49:38.036Z"
   },
   {
    "duration": 4,
    "start_time": "2024-05-16T16:49:38.224Z"
   },
   {
    "duration": 102,
    "start_time": "2024-05-16T16:49:38.230Z"
   },
   {
    "duration": 27,
    "start_time": "2024-05-16T16:49:38.333Z"
   },
   {
    "duration": 171,
    "start_time": "2024-05-16T16:49:38.361Z"
   },
   {
    "duration": 10,
    "start_time": "2024-05-16T16:49:38.535Z"
   },
   {
    "duration": 233,
    "start_time": "2024-05-16T16:49:38.547Z"
   },
   {
    "duration": 20,
    "start_time": "2024-05-16T16:49:38.782Z"
   },
   {
    "duration": 71,
    "start_time": "2024-05-16T16:49:38.804Z"
   },
   {
    "duration": 0,
    "start_time": "2024-05-16T16:49:38.877Z"
   },
   {
    "duration": 0,
    "start_time": "2024-05-16T16:49:38.879Z"
   },
   {
    "duration": 0,
    "start_time": "2024-05-16T16:49:38.881Z"
   },
   {
    "duration": 0,
    "start_time": "2024-05-16T16:49:38.882Z"
   },
   {
    "duration": 0,
    "start_time": "2024-05-16T16:49:38.883Z"
   },
   {
    "duration": 0,
    "start_time": "2024-05-16T16:49:38.884Z"
   },
   {
    "duration": 0,
    "start_time": "2024-05-16T16:49:38.886Z"
   },
   {
    "duration": 72,
    "start_time": "2024-05-16T16:49:47.660Z"
   },
   {
    "duration": 76,
    "start_time": "2024-05-16T16:49:57.713Z"
   },
   {
    "duration": 72,
    "start_time": "2024-05-16T16:50:11.208Z"
   },
   {
    "duration": 76,
    "start_time": "2024-05-16T16:50:31.012Z"
   },
   {
    "duration": 207,
    "start_time": "2024-05-16T16:50:45.923Z"
   },
   {
    "duration": 69,
    "start_time": "2024-05-16T16:50:53.234Z"
   },
   {
    "duration": 274,
    "start_time": "2024-05-16T16:51:36.880Z"
   },
   {
    "duration": 145,
    "start_time": "2024-05-16T16:52:29.332Z"
   },
   {
    "duration": 140,
    "start_time": "2024-05-16T16:52:45.700Z"
   },
   {
    "duration": 218,
    "start_time": "2024-05-16T16:52:53.882Z"
   },
   {
    "duration": 203,
    "start_time": "2024-05-16T16:54:24.020Z"
   },
   {
    "duration": 72,
    "start_time": "2024-05-16T16:54:40.384Z"
   },
   {
    "duration": 79,
    "start_time": "2024-05-16T16:54:51.805Z"
   },
   {
    "duration": 68,
    "start_time": "2024-05-16T16:54:59.157Z"
   },
   {
    "duration": 69,
    "start_time": "2024-05-16T16:55:10.216Z"
   },
   {
    "duration": 85,
    "start_time": "2024-05-16T18:29:59.349Z"
   },
   {
    "duration": 70,
    "start_time": "2024-05-16T18:30:32.691Z"
   },
   {
    "duration": 74,
    "start_time": "2024-05-16T18:31:11.363Z"
   },
   {
    "duration": 214,
    "start_time": "2024-05-16T18:41:58.319Z"
   },
   {
    "duration": 298,
    "start_time": "2024-05-16T18:42:10.951Z"
   },
   {
    "duration": 206,
    "start_time": "2024-05-16T18:42:16.416Z"
   },
   {
    "duration": 66,
    "start_time": "2024-05-16T18:42:28.415Z"
   },
   {
    "duration": 179,
    "start_time": "2024-05-16T18:42:31.746Z"
   },
   {
    "duration": 100,
    "start_time": "2024-05-16T18:42:37.608Z"
   },
   {
    "duration": 217,
    "start_time": "2024-05-16T18:42:45.353Z"
   },
   {
    "duration": 833,
    "start_time": "2024-05-16T18:43:39.812Z"
   },
   {
    "duration": 31,
    "start_time": "2024-05-16T18:43:40.647Z"
   },
   {
    "duration": 45,
    "start_time": "2024-05-16T18:43:40.679Z"
   },
   {
    "duration": 91,
    "start_time": "2024-05-16T18:43:40.726Z"
   },
   {
    "duration": 29,
    "start_time": "2024-05-16T18:43:40.818Z"
   },
   {
    "duration": 14,
    "start_time": "2024-05-16T18:43:40.859Z"
   },
   {
    "duration": 44,
    "start_time": "2024-05-16T18:43:40.874Z"
   },
   {
    "duration": 29,
    "start_time": "2024-05-16T18:43:40.920Z"
   },
   {
    "duration": 25,
    "start_time": "2024-05-16T18:43:40.950Z"
   },
   {
    "duration": 17,
    "start_time": "2024-05-16T18:43:40.979Z"
   },
   {
    "duration": 232,
    "start_time": "2024-05-16T18:43:40.998Z"
   },
   {
    "duration": 190,
    "start_time": "2024-05-16T18:43:41.232Z"
   },
   {
    "duration": 4,
    "start_time": "2024-05-16T18:43:41.423Z"
   },
   {
    "duration": 130,
    "start_time": "2024-05-16T18:43:41.428Z"
   },
   {
    "duration": 22,
    "start_time": "2024-05-16T18:43:41.560Z"
   },
   {
    "duration": 176,
    "start_time": "2024-05-16T18:43:41.583Z"
   },
   {
    "duration": 9,
    "start_time": "2024-05-16T18:43:41.760Z"
   },
   {
    "duration": 175,
    "start_time": "2024-05-16T18:43:41.771Z"
   },
   {
    "duration": 26,
    "start_time": "2024-05-16T18:43:41.947Z"
   },
   {
    "duration": 250,
    "start_time": "2024-05-16T18:43:41.974Z"
   },
   {
    "duration": 17,
    "start_time": "2024-05-16T18:43:42.226Z"
   },
   {
    "duration": 161,
    "start_time": "2024-05-16T18:43:42.245Z"
   },
   {
    "duration": 7,
    "start_time": "2024-05-16T18:43:42.408Z"
   },
   {
    "duration": 156,
    "start_time": "2024-05-16T18:43:42.417Z"
   },
   {
    "duration": 205,
    "start_time": "2024-05-16T18:43:42.575Z"
   },
   {
    "duration": 13,
    "start_time": "2024-05-16T18:43:42.782Z"
   },
   {
    "duration": 202,
    "start_time": "2024-05-16T18:43:42.796Z"
   },
   {
    "duration": 234,
    "start_time": "2024-05-16T18:44:03.331Z"
   },
   {
    "duration": 100,
    "start_time": "2024-05-16T18:45:19.873Z"
   },
   {
    "duration": 234,
    "start_time": "2024-05-16T18:45:28.331Z"
   },
   {
    "duration": 291,
    "start_time": "2024-05-16T18:45:33.050Z"
   },
   {
    "duration": 212,
    "start_time": "2024-05-16T18:45:38.972Z"
   },
   {
    "duration": 227,
    "start_time": "2024-05-16T18:45:46.769Z"
   },
   {
    "duration": 231,
    "start_time": "2024-05-16T18:46:02.020Z"
   },
   {
    "duration": 220,
    "start_time": "2024-05-16T18:56:19.490Z"
   },
   {
    "duration": 238,
    "start_time": "2024-05-16T18:56:45.738Z"
   },
   {
    "duration": 189,
    "start_time": "2024-05-16T18:59:18.614Z"
   },
   {
    "duration": 157,
    "start_time": "2024-05-16T18:59:42.531Z"
   },
   {
    "duration": 152,
    "start_time": "2024-05-16T19:03:01.681Z"
   },
   {
    "duration": 159,
    "start_time": "2024-05-16T19:03:42.933Z"
   },
   {
    "duration": 166,
    "start_time": "2024-05-16T19:03:58.993Z"
   },
   {
    "duration": 243,
    "start_time": "2024-05-16T19:04:02.276Z"
   },
   {
    "duration": 154,
    "start_time": "2024-05-16T19:07:22.699Z"
   },
   {
    "duration": 166,
    "start_time": "2024-05-16T19:14:02.114Z"
   },
   {
    "duration": 8,
    "start_time": "2024-05-16T19:15:06.562Z"
   },
   {
    "duration": 882,
    "start_time": "2024-05-16T19:15:10.348Z"
   },
   {
    "duration": 56,
    "start_time": "2024-05-16T19:15:11.232Z"
   },
   {
    "duration": 49,
    "start_time": "2024-05-16T19:15:11.291Z"
   },
   {
    "duration": 102,
    "start_time": "2024-05-16T19:15:11.342Z"
   },
   {
    "duration": 44,
    "start_time": "2024-05-16T19:15:11.446Z"
   },
   {
    "duration": 7,
    "start_time": "2024-05-16T19:15:11.492Z"
   },
   {
    "duration": 23,
    "start_time": "2024-05-16T19:15:11.500Z"
   },
   {
    "duration": 45,
    "start_time": "2024-05-16T19:15:11.525Z"
   },
   {
    "duration": 10,
    "start_time": "2024-05-16T19:15:11.572Z"
   },
   {
    "duration": 6,
    "start_time": "2024-05-16T19:15:11.585Z"
   },
   {
    "duration": 221,
    "start_time": "2024-05-16T19:15:11.593Z"
   },
   {
    "duration": 198,
    "start_time": "2024-05-16T19:15:11.816Z"
   },
   {
    "duration": 5,
    "start_time": "2024-05-16T19:15:12.016Z"
   },
   {
    "duration": 116,
    "start_time": "2024-05-16T19:15:12.023Z"
   },
   {
    "duration": 32,
    "start_time": "2024-05-16T19:15:12.140Z"
   },
   {
    "duration": 174,
    "start_time": "2024-05-16T19:15:12.174Z"
   },
   {
    "duration": 24,
    "start_time": "2024-05-16T19:15:12.350Z"
   },
   {
    "duration": 174,
    "start_time": "2024-05-16T19:15:12.375Z"
   },
   {
    "duration": 28,
    "start_time": "2024-05-16T19:15:12.551Z"
   },
   {
    "duration": 261,
    "start_time": "2024-05-16T19:15:12.581Z"
   },
   {
    "duration": 31,
    "start_time": "2024-05-16T19:15:12.843Z"
   },
   {
    "duration": 169,
    "start_time": "2024-05-16T19:15:12.876Z"
   },
   {
    "duration": 20,
    "start_time": "2024-05-16T19:15:13.046Z"
   },
   {
    "duration": 157,
    "start_time": "2024-05-16T19:15:13.071Z"
   },
   {
    "duration": 209,
    "start_time": "2024-05-16T19:15:13.230Z"
   },
   {
    "duration": 32,
    "start_time": "2024-05-16T19:15:13.440Z"
   },
   {
    "duration": 197,
    "start_time": "2024-05-16T19:15:13.474Z"
   },
   {
    "duration": 24,
    "start_time": "2024-05-16T19:16:06.304Z"
   },
   {
    "duration": 945,
    "start_time": "2024-05-16T19:16:24.983Z"
   },
   {
    "duration": 31,
    "start_time": "2024-05-16T19:16:25.930Z"
   },
   {
    "duration": 88,
    "start_time": "2024-05-16T19:16:25.963Z"
   },
   {
    "duration": 94,
    "start_time": "2024-05-16T19:16:26.054Z"
   },
   {
    "duration": 40,
    "start_time": "2024-05-16T19:16:26.150Z"
   },
   {
    "duration": 9,
    "start_time": "2024-05-16T19:16:26.204Z"
   },
   {
    "duration": 39,
    "start_time": "2024-05-16T19:16:26.215Z"
   },
   {
    "duration": 30,
    "start_time": "2024-05-16T19:16:26.256Z"
   },
   {
    "duration": 16,
    "start_time": "2024-05-16T19:16:26.288Z"
   },
   {
    "duration": 33,
    "start_time": "2024-05-16T19:16:26.308Z"
   },
   {
    "duration": 262,
    "start_time": "2024-05-16T19:16:26.343Z"
   },
   {
    "duration": 211,
    "start_time": "2024-05-16T19:16:26.606Z"
   },
   {
    "duration": 17,
    "start_time": "2024-05-16T19:16:26.819Z"
   },
   {
    "duration": 117,
    "start_time": "2024-05-16T19:16:26.838Z"
   },
   {
    "duration": 32,
    "start_time": "2024-05-16T19:16:26.960Z"
   },
   {
    "duration": 205,
    "start_time": "2024-05-16T19:16:26.994Z"
   },
   {
    "duration": 10,
    "start_time": "2024-05-16T19:16:27.201Z"
   },
   {
    "duration": 200,
    "start_time": "2024-05-16T19:16:27.213Z"
   },
   {
    "duration": 24,
    "start_time": "2024-05-16T19:16:27.415Z"
   },
   {
    "duration": 295,
    "start_time": "2024-05-16T19:16:27.441Z"
   },
   {
    "duration": 37,
    "start_time": "2024-05-16T19:16:27.738Z"
   },
   {
    "duration": 160,
    "start_time": "2024-05-16T19:16:27.777Z"
   },
   {
    "duration": 6,
    "start_time": "2024-05-16T19:16:27.939Z"
   },
   {
    "duration": 160,
    "start_time": "2024-05-16T19:16:27.959Z"
   },
   {
    "duration": 213,
    "start_time": "2024-05-16T19:16:28.121Z"
   },
   {
    "duration": 24,
    "start_time": "2024-05-16T19:16:28.336Z"
   },
   {
    "duration": 196,
    "start_time": "2024-05-16T19:16:28.362Z"
   },
   {
    "duration": 159,
    "start_time": "2024-05-16T19:18:09.883Z"
   },
   {
    "duration": 166,
    "start_time": "2024-05-16T19:18:13.642Z"
   },
   {
    "duration": 246,
    "start_time": "2024-05-16T19:18:17.098Z"
   },
   {
    "duration": 149,
    "start_time": "2024-05-16T19:18:20.898Z"
   },
   {
    "duration": 147,
    "start_time": "2024-05-16T19:18:26.304Z"
   },
   {
    "duration": 155,
    "start_time": "2024-05-16T19:18:33.827Z"
   },
   {
    "duration": 153,
    "start_time": "2024-05-16T19:18:38.186Z"
   },
   {
    "duration": 857,
    "start_time": "2024-05-16T19:18:53.118Z"
   },
   {
    "duration": 30,
    "start_time": "2024-05-16T19:18:53.976Z"
   },
   {
    "duration": 37,
    "start_time": "2024-05-16T19:18:54.007Z"
   },
   {
    "duration": 73,
    "start_time": "2024-05-16T19:18:54.070Z"
   },
   {
    "duration": 32,
    "start_time": "2024-05-16T19:18:54.145Z"
   },
   {
    "duration": 7,
    "start_time": "2024-05-16T19:18:54.179Z"
   },
   {
    "duration": 55,
    "start_time": "2024-05-16T19:18:54.188Z"
   },
   {
    "duration": 69,
    "start_time": "2024-05-16T19:18:54.245Z"
   },
   {
    "duration": 25,
    "start_time": "2024-05-16T19:18:54.316Z"
   },
   {
    "duration": 6,
    "start_time": "2024-05-16T19:18:54.345Z"
   },
   {
    "duration": 195,
    "start_time": "2024-05-16T19:18:54.353Z"
   },
   {
    "duration": 199,
    "start_time": "2024-05-16T19:18:54.550Z"
   },
   {
    "duration": 21,
    "start_time": "2024-05-16T19:18:54.750Z"
   },
   {
    "duration": 102,
    "start_time": "2024-05-16T19:18:54.773Z"
   },
   {
    "duration": 23,
    "start_time": "2024-05-16T19:18:54.876Z"
   },
   {
    "duration": 178,
    "start_time": "2024-05-16T19:18:54.901Z"
   },
   {
    "duration": 10,
    "start_time": "2024-05-16T19:18:55.081Z"
   },
   {
    "duration": 215,
    "start_time": "2024-05-16T19:18:55.093Z"
   },
   {
    "duration": 22,
    "start_time": "2024-05-16T19:18:55.310Z"
   },
   {
    "duration": 268,
    "start_time": "2024-05-16T19:18:55.334Z"
   },
   {
    "duration": 17,
    "start_time": "2024-05-16T19:18:55.603Z"
   },
   {
    "duration": 167,
    "start_time": "2024-05-16T19:18:55.622Z"
   },
   {
    "duration": 6,
    "start_time": "2024-05-16T19:18:55.791Z"
   },
   {
    "duration": 223,
    "start_time": "2024-05-16T19:18:55.798Z"
   },
   {
    "duration": 202,
    "start_time": "2024-05-16T19:18:56.023Z"
   },
   {
    "duration": 11,
    "start_time": "2024-05-16T19:18:56.227Z"
   },
   {
    "duration": 234,
    "start_time": "2024-05-16T19:18:56.240Z"
   },
   {
    "duration": 161,
    "start_time": "2024-05-16T19:21:20.012Z"
   },
   {
    "duration": 186,
    "start_time": "2024-05-16T19:21:25.144Z"
   },
   {
    "duration": 320,
    "start_time": "2024-05-16T19:21:35.895Z"
   },
   {
    "duration": 174,
    "start_time": "2024-05-16T19:23:12.756Z"
   },
   {
    "duration": 168,
    "start_time": "2024-05-16T19:23:24.062Z"
   },
   {
    "duration": 15,
    "start_time": "2024-05-16T19:23:36.471Z"
   },
   {
    "duration": 926,
    "start_time": "2024-05-16T19:24:52.797Z"
   },
   {
    "duration": 27,
    "start_time": "2024-05-16T19:24:53.725Z"
   },
   {
    "duration": 44,
    "start_time": "2024-05-16T19:24:53.754Z"
   },
   {
    "duration": 91,
    "start_time": "2024-05-16T19:24:53.799Z"
   },
   {
    "duration": 46,
    "start_time": "2024-05-16T19:24:53.892Z"
   },
   {
    "duration": 6,
    "start_time": "2024-05-16T19:24:53.940Z"
   },
   {
    "duration": 38,
    "start_time": "2024-05-16T19:24:53.947Z"
   },
   {
    "duration": 35,
    "start_time": "2024-05-16T19:24:53.987Z"
   },
   {
    "duration": 24,
    "start_time": "2024-05-16T19:24:54.023Z"
   },
   {
    "duration": 33,
    "start_time": "2024-05-16T19:24:54.050Z"
   },
   {
    "duration": 228,
    "start_time": "2024-05-16T19:24:54.085Z"
   },
   {
    "duration": 195,
    "start_time": "2024-05-16T19:24:54.315Z"
   },
   {
    "duration": 4,
    "start_time": "2024-05-16T19:24:54.512Z"
   },
   {
    "duration": 109,
    "start_time": "2024-05-16T19:24:54.518Z"
   },
   {
    "duration": 32,
    "start_time": "2024-05-16T19:24:54.629Z"
   },
   {
    "duration": 179,
    "start_time": "2024-05-16T19:24:54.664Z"
   },
   {
    "duration": 25,
    "start_time": "2024-05-16T19:24:54.845Z"
   },
   {
    "duration": 189,
    "start_time": "2024-05-16T19:24:54.873Z"
   },
   {
    "duration": 31,
    "start_time": "2024-05-16T19:24:55.065Z"
   },
   {
    "duration": 290,
    "start_time": "2024-05-16T19:24:55.098Z"
   },
   {
    "duration": 18,
    "start_time": "2024-05-16T19:24:55.390Z"
   },
   {
    "duration": 184,
    "start_time": "2024-05-16T19:24:55.410Z"
   },
   {
    "duration": 7,
    "start_time": "2024-05-16T19:24:55.595Z"
   },
   {
    "duration": 137,
    "start_time": "2024-05-16T19:24:55.604Z"
   },
   {
    "duration": 0,
    "start_time": "2024-05-16T19:24:55.743Z"
   },
   {
    "duration": 0,
    "start_time": "2024-05-16T19:24:55.744Z"
   },
   {
    "duration": 0,
    "start_time": "2024-05-16T19:24:55.745Z"
   },
   {
    "duration": 11,
    "start_time": "2024-05-16T19:28:42.059Z"
   },
   {
    "duration": 16,
    "start_time": "2024-05-16T19:29:45.947Z"
   },
   {
    "duration": 149,
    "start_time": "2024-05-16T19:29:57.870Z"
   },
   {
    "duration": 170,
    "start_time": "2024-05-16T19:30:46.183Z"
   },
   {
    "duration": 215,
    "start_time": "2024-05-16T19:32:25.727Z"
   },
   {
    "duration": 859,
    "start_time": "2024-05-16T19:32:33.366Z"
   },
   {
    "duration": 37,
    "start_time": "2024-05-16T19:32:34.227Z"
   },
   {
    "duration": 48,
    "start_time": "2024-05-16T19:32:34.266Z"
   },
   {
    "duration": 88,
    "start_time": "2024-05-16T19:32:34.317Z"
   },
   {
    "duration": 27,
    "start_time": "2024-05-16T19:32:34.407Z"
   },
   {
    "duration": 24,
    "start_time": "2024-05-16T19:32:34.436Z"
   },
   {
    "duration": 22,
    "start_time": "2024-05-16T19:32:34.462Z"
   },
   {
    "duration": 14,
    "start_time": "2024-05-16T19:32:34.486Z"
   },
   {
    "duration": 12,
    "start_time": "2024-05-16T19:32:34.502Z"
   },
   {
    "duration": 6,
    "start_time": "2024-05-16T19:32:34.517Z"
   },
   {
    "duration": 228,
    "start_time": "2024-05-16T19:32:34.525Z"
   },
   {
    "duration": 189,
    "start_time": "2024-05-16T19:32:34.759Z"
   },
   {
    "duration": 9,
    "start_time": "2024-05-16T19:32:34.950Z"
   },
   {
    "duration": 106,
    "start_time": "2024-05-16T19:32:34.961Z"
   },
   {
    "duration": 76,
    "start_time": "2024-05-16T19:32:35.068Z"
   },
   {
    "duration": 197,
    "start_time": "2024-05-16T19:32:35.146Z"
   },
   {
    "duration": 14,
    "start_time": "2024-05-16T19:32:35.345Z"
   },
   {
    "duration": 240,
    "start_time": "2024-05-16T19:32:35.361Z"
   },
   {
    "duration": 22,
    "start_time": "2024-05-16T19:32:35.602Z"
   },
   {
    "duration": 268,
    "start_time": "2024-05-16T19:32:35.626Z"
   },
   {
    "duration": 17,
    "start_time": "2024-05-16T19:32:35.896Z"
   },
   {
    "duration": 172,
    "start_time": "2024-05-16T19:32:35.915Z"
   },
   {
    "duration": 15,
    "start_time": "2024-05-16T19:32:36.089Z"
   },
   {
    "duration": 210,
    "start_time": "2024-05-16T19:32:36.106Z"
   },
   {
    "duration": 204,
    "start_time": "2024-05-16T19:32:36.318Z"
   },
   {
    "duration": 12,
    "start_time": "2024-05-16T19:32:36.524Z"
   },
   {
    "duration": 202,
    "start_time": "2024-05-16T19:32:36.537Z"
   },
   {
    "duration": 185,
    "start_time": "2024-05-16T19:33:24.648Z"
   },
   {
    "duration": 178,
    "start_time": "2024-05-16T19:33:31.504Z"
   },
   {
    "duration": 256,
    "start_time": "2024-05-16T19:34:42.620Z"
   },
   {
    "duration": 215,
    "start_time": "2024-05-16T19:35:12.880Z"
   },
   {
    "duration": 147,
    "start_time": "2024-05-16T19:37:46.473Z"
   },
   {
    "duration": 186,
    "start_time": "2024-05-16T19:38:05.998Z"
   },
   {
    "duration": 191,
    "start_time": "2024-05-16T19:38:15.650Z"
   },
   {
    "duration": 77,
    "start_time": "2024-05-16T19:38:22.690Z"
   },
   {
    "duration": 71,
    "start_time": "2024-05-16T19:38:32.428Z"
   },
   {
    "duration": 73,
    "start_time": "2024-05-16T19:38:56.351Z"
   },
   {
    "duration": 188,
    "start_time": "2024-05-16T19:39:03.641Z"
   },
   {
    "duration": 186,
    "start_time": "2024-05-16T19:39:10.753Z"
   },
   {
    "duration": 74,
    "start_time": "2024-05-16T19:39:20.165Z"
   },
   {
    "duration": 67,
    "start_time": "2024-05-16T19:39:26.696Z"
   },
   {
    "duration": 177,
    "start_time": "2024-05-16T19:39:33.091Z"
   },
   {
    "duration": 148,
    "start_time": "2024-05-16T19:40:04.301Z"
   },
   {
    "duration": 175,
    "start_time": "2024-05-16T19:40:11.939Z"
   },
   {
    "duration": 95,
    "start_time": "2024-05-16T19:40:43.894Z"
   },
   {
    "duration": 177,
    "start_time": "2024-05-16T19:40:55.657Z"
   },
   {
    "duration": 296,
    "start_time": "2024-05-16T19:41:02.578Z"
   },
   {
    "duration": 189,
    "start_time": "2024-05-16T19:41:08.694Z"
   },
   {
    "duration": 156,
    "start_time": "2024-05-16T19:42:34.011Z"
   },
   {
    "duration": 189,
    "start_time": "2024-05-16T19:42:51.104Z"
   },
   {
    "duration": 164,
    "start_time": "2024-05-16T19:46:39.694Z"
   },
   {
    "duration": 178,
    "start_time": "2024-05-16T19:47:22.363Z"
   },
   {
    "duration": 177,
    "start_time": "2024-05-16T19:47:49.847Z"
   },
   {
    "duration": 166,
    "start_time": "2024-05-16T19:48:36.442Z"
   },
   {
    "duration": 202,
    "start_time": "2024-05-16T19:53:41.861Z"
   },
   {
    "duration": 171,
    "start_time": "2024-05-16T19:53:45.090Z"
   },
   {
    "duration": 188,
    "start_time": "2024-05-16T19:54:36.102Z"
   },
   {
    "duration": 4,
    "start_time": "2024-05-16T19:54:58.834Z"
   },
   {
    "duration": 253,
    "start_time": "2024-05-16T19:55:01.699Z"
   },
   {
    "duration": 879,
    "start_time": "2024-05-16T19:55:08.545Z"
   },
   {
    "duration": 29,
    "start_time": "2024-05-16T19:55:09.427Z"
   },
   {
    "duration": 81,
    "start_time": "2024-05-16T19:55:09.457Z"
   },
   {
    "duration": 96,
    "start_time": "2024-05-16T19:55:09.540Z"
   },
   {
    "duration": 38,
    "start_time": "2024-05-16T19:55:09.638Z"
   },
   {
    "duration": 6,
    "start_time": "2024-05-16T19:55:09.678Z"
   },
   {
    "duration": 36,
    "start_time": "2024-05-16T19:55:09.685Z"
   },
   {
    "duration": 30,
    "start_time": "2024-05-16T19:55:09.722Z"
   },
   {
    "duration": 66,
    "start_time": "2024-05-16T19:55:09.754Z"
   },
   {
    "duration": 14,
    "start_time": "2024-05-16T19:55:09.823Z"
   },
   {
    "duration": 197,
    "start_time": "2024-05-16T19:55:09.838Z"
   },
   {
    "duration": 191,
    "start_time": "2024-05-16T19:55:10.037Z"
   },
   {
    "duration": 5,
    "start_time": "2024-05-16T19:55:10.229Z"
   },
   {
    "duration": 108,
    "start_time": "2024-05-16T19:55:10.235Z"
   },
   {
    "duration": 36,
    "start_time": "2024-05-16T19:55:10.344Z"
   },
   {
    "duration": 177,
    "start_time": "2024-05-16T19:55:10.382Z"
   },
   {
    "duration": 10,
    "start_time": "2024-05-16T19:55:10.560Z"
   },
   {
    "duration": 173,
    "start_time": "2024-05-16T19:55:10.572Z"
   },
   {
    "duration": 27,
    "start_time": "2024-05-16T19:55:10.747Z"
   },
   {
    "duration": 243,
    "start_time": "2024-05-16T19:55:10.775Z"
   },
   {
    "duration": 21,
    "start_time": "2024-05-16T19:55:11.021Z"
   },
   {
    "duration": 184,
    "start_time": "2024-05-16T19:55:11.044Z"
   },
   {
    "duration": 17,
    "start_time": "2024-05-16T19:55:11.229Z"
   },
   {
    "duration": 165,
    "start_time": "2024-05-16T19:55:11.259Z"
   },
   {
    "duration": 191,
    "start_time": "2024-05-16T19:55:11.426Z"
   },
   {
    "duration": 11,
    "start_time": "2024-05-16T19:55:11.619Z"
   },
   {
    "duration": 174,
    "start_time": "2024-05-16T19:55:11.631Z"
   },
   {
    "duration": 6,
    "start_time": "2024-05-16T20:00:27.503Z"
   },
   {
    "duration": 8,
    "start_time": "2024-05-16T20:00:39.657Z"
   },
   {
    "duration": 853,
    "start_time": "2024-05-16T20:01:23.265Z"
   },
   {
    "duration": 27,
    "start_time": "2024-05-16T20:01:24.120Z"
   },
   {
    "duration": 36,
    "start_time": "2024-05-16T20:01:24.148Z"
   },
   {
    "duration": 87,
    "start_time": "2024-05-16T20:01:24.186Z"
   },
   {
    "duration": 29,
    "start_time": "2024-05-16T20:01:24.275Z"
   },
   {
    "duration": 6,
    "start_time": "2024-05-16T20:01:24.306Z"
   },
   {
    "duration": 20,
    "start_time": "2024-05-16T20:01:24.313Z"
   },
   {
    "duration": 31,
    "start_time": "2024-05-16T20:01:24.335Z"
   },
   {
    "duration": 38,
    "start_time": "2024-05-16T20:01:24.367Z"
   },
   {
    "duration": 12,
    "start_time": "2024-05-16T20:01:24.408Z"
   },
   {
    "duration": 193,
    "start_time": "2024-05-16T20:01:24.422Z"
   },
   {
    "duration": 181,
    "start_time": "2024-05-16T20:01:24.617Z"
   },
   {
    "duration": 5,
    "start_time": "2024-05-16T20:01:24.800Z"
   },
   {
    "duration": 107,
    "start_time": "2024-05-16T20:01:24.806Z"
   },
   {
    "duration": 22,
    "start_time": "2024-05-16T20:01:24.915Z"
   },
   {
    "duration": 168,
    "start_time": "2024-05-16T20:01:24.939Z"
   },
   {
    "duration": 10,
    "start_time": "2024-05-16T20:01:25.109Z"
   },
   {
    "duration": 207,
    "start_time": "2024-05-16T20:01:25.121Z"
   },
   {
    "duration": 31,
    "start_time": "2024-05-16T20:01:25.330Z"
   },
   {
    "duration": 97,
    "start_time": "2024-05-16T20:01:25.363Z"
   },
   {
    "duration": 0,
    "start_time": "2024-05-16T20:01:25.463Z"
   },
   {
    "duration": 0,
    "start_time": "2024-05-16T20:01:25.464Z"
   },
   {
    "duration": 0,
    "start_time": "2024-05-16T20:01:25.465Z"
   },
   {
    "duration": 0,
    "start_time": "2024-05-16T20:01:25.467Z"
   },
   {
    "duration": 0,
    "start_time": "2024-05-16T20:01:25.468Z"
   },
   {
    "duration": 0,
    "start_time": "2024-05-16T20:01:25.469Z"
   },
   {
    "duration": 0,
    "start_time": "2024-05-16T20:01:25.470Z"
   },
   {
    "duration": 0,
    "start_time": "2024-05-16T20:01:25.471Z"
   },
   {
    "duration": 10,
    "start_time": "2024-05-16T20:01:55.099Z"
   },
   {
    "duration": 822,
    "start_time": "2024-05-16T20:02:00.695Z"
   },
   {
    "duration": 29,
    "start_time": "2024-05-16T20:02:01.519Z"
   },
   {
    "duration": 95,
    "start_time": "2024-05-16T20:02:01.550Z"
   },
   {
    "duration": 77,
    "start_time": "2024-05-16T20:02:01.647Z"
   },
   {
    "duration": 35,
    "start_time": "2024-05-16T20:02:01.725Z"
   },
   {
    "duration": 7,
    "start_time": "2024-05-16T20:02:01.761Z"
   },
   {
    "duration": 65,
    "start_time": "2024-05-16T20:02:01.769Z"
   },
   {
    "duration": 49,
    "start_time": "2024-05-16T20:02:01.836Z"
   },
   {
    "duration": 123,
    "start_time": "2024-05-16T20:02:01.887Z"
   },
   {
    "duration": 98,
    "start_time": "2024-05-16T20:02:02.014Z"
   },
   {
    "duration": 324,
    "start_time": "2024-05-16T20:02:02.114Z"
   },
   {
    "duration": 192,
    "start_time": "2024-05-16T20:02:02.440Z"
   },
   {
    "duration": 4,
    "start_time": "2024-05-16T20:02:02.634Z"
   },
   {
    "duration": 155,
    "start_time": "2024-05-16T20:02:02.640Z"
   },
   {
    "duration": 103,
    "start_time": "2024-05-16T20:02:02.796Z"
   },
   {
    "duration": 173,
    "start_time": "2024-05-16T20:02:02.901Z"
   },
   {
    "duration": 9,
    "start_time": "2024-05-16T20:02:03.076Z"
   },
   {
    "duration": 167,
    "start_time": "2024-05-16T20:02:03.086Z"
   },
   {
    "duration": 21,
    "start_time": "2024-05-16T20:02:03.254Z"
   },
   {
    "duration": 252,
    "start_time": "2024-05-16T20:02:03.277Z"
   },
   {
    "duration": 121,
    "start_time": "2024-05-16T20:02:03.531Z"
   },
   {
    "duration": 0,
    "start_time": "2024-05-16T20:02:03.654Z"
   },
   {
    "duration": 0,
    "start_time": "2024-05-16T20:02:03.658Z"
   },
   {
    "duration": 0,
    "start_time": "2024-05-16T20:02:03.660Z"
   },
   {
    "duration": 1,
    "start_time": "2024-05-16T20:02:03.660Z"
   },
   {
    "duration": 0,
    "start_time": "2024-05-16T20:02:03.662Z"
   },
   {
    "duration": 0,
    "start_time": "2024-05-16T20:02:03.663Z"
   },
   {
    "duration": 0,
    "start_time": "2024-05-16T20:02:03.665Z"
   },
   {
    "duration": 895,
    "start_time": "2024-05-16T20:02:41.348Z"
   },
   {
    "duration": 39,
    "start_time": "2024-05-16T20:02:42.246Z"
   },
   {
    "duration": 37,
    "start_time": "2024-05-16T20:02:42.287Z"
   },
   {
    "duration": 105,
    "start_time": "2024-05-16T20:02:42.327Z"
   },
   {
    "duration": 43,
    "start_time": "2024-05-16T20:02:42.434Z"
   },
   {
    "duration": 6,
    "start_time": "2024-05-16T20:02:42.479Z"
   },
   {
    "duration": 21,
    "start_time": "2024-05-16T20:02:42.487Z"
   },
   {
    "duration": 57,
    "start_time": "2024-05-16T20:02:42.510Z"
   },
   {
    "duration": 16,
    "start_time": "2024-05-16T20:02:42.569Z"
   },
   {
    "duration": 5,
    "start_time": "2024-05-16T20:02:42.588Z"
   },
   {
    "duration": 225,
    "start_time": "2024-05-16T20:02:42.595Z"
   },
   {
    "duration": 188,
    "start_time": "2024-05-16T20:02:42.821Z"
   },
   {
    "duration": 5,
    "start_time": "2024-05-16T20:02:43.011Z"
   },
   {
    "duration": 118,
    "start_time": "2024-05-16T20:02:43.018Z"
   },
   {
    "duration": 24,
    "start_time": "2024-05-16T20:02:43.138Z"
   },
   {
    "duration": 194,
    "start_time": "2024-05-16T20:02:43.164Z"
   },
   {
    "duration": 11,
    "start_time": "2024-05-16T20:02:43.360Z"
   },
   {
    "duration": 199,
    "start_time": "2024-05-16T20:02:43.372Z"
   },
   {
    "duration": 26,
    "start_time": "2024-05-16T20:02:43.573Z"
   },
   {
    "duration": 248,
    "start_time": "2024-05-16T20:02:43.601Z"
   },
   {
    "duration": 21,
    "start_time": "2024-05-16T20:02:43.851Z"
   },
   {
    "duration": 9,
    "start_time": "2024-05-16T20:02:43.874Z"
   },
   {
    "duration": 176,
    "start_time": "2024-05-16T20:02:43.885Z"
   },
   {
    "duration": 18,
    "start_time": "2024-05-16T20:02:44.062Z"
   },
   {
    "duration": 180,
    "start_time": "2024-05-16T20:02:44.082Z"
   },
   {
    "duration": 165,
    "start_time": "2024-05-16T20:02:44.264Z"
   },
   {
    "duration": 12,
    "start_time": "2024-05-16T20:02:44.431Z"
   },
   {
    "duration": 180,
    "start_time": "2024-05-16T20:02:44.459Z"
   },
   {
    "duration": 823,
    "start_time": "2024-05-16T20:05:41.402Z"
   },
   {
    "duration": 26,
    "start_time": "2024-05-16T20:05:42.227Z"
   },
   {
    "duration": 49,
    "start_time": "2024-05-16T20:05:42.255Z"
   },
   {
    "duration": 73,
    "start_time": "2024-05-16T20:05:42.306Z"
   },
   {
    "duration": 28,
    "start_time": "2024-05-16T20:05:42.380Z"
   },
   {
    "duration": 6,
    "start_time": "2024-05-16T20:05:42.409Z"
   },
   {
    "duration": 24,
    "start_time": "2024-05-16T20:05:42.417Z"
   },
   {
    "duration": 24,
    "start_time": "2024-05-16T20:05:42.443Z"
   },
   {
    "duration": 14,
    "start_time": "2024-05-16T20:05:42.468Z"
   },
   {
    "duration": 21,
    "start_time": "2024-05-16T20:05:42.484Z"
   },
   {
    "duration": 202,
    "start_time": "2024-05-16T20:05:42.506Z"
   },
   {
    "duration": 188,
    "start_time": "2024-05-16T20:05:42.710Z"
   },
   {
    "duration": 4,
    "start_time": "2024-05-16T20:05:42.900Z"
   },
   {
    "duration": 109,
    "start_time": "2024-05-16T20:05:42.906Z"
   },
   {
    "duration": 25,
    "start_time": "2024-05-16T20:05:43.016Z"
   },
   {
    "duration": 175,
    "start_time": "2024-05-16T20:05:43.043Z"
   },
   {
    "duration": 12,
    "start_time": "2024-05-16T20:05:43.220Z"
   },
   {
    "duration": 208,
    "start_time": "2024-05-16T20:05:43.234Z"
   },
   {
    "duration": 30,
    "start_time": "2024-05-16T20:05:43.443Z"
   },
   {
    "duration": 275,
    "start_time": "2024-05-16T20:05:43.475Z"
   },
   {
    "duration": 21,
    "start_time": "2024-05-16T20:05:43.752Z"
   },
   {
    "duration": 159,
    "start_time": "2024-05-16T20:05:43.775Z"
   },
   {
    "duration": 14,
    "start_time": "2024-05-16T20:05:43.935Z"
   },
   {
    "duration": 177,
    "start_time": "2024-05-16T20:05:43.958Z"
   },
   {
    "duration": 186,
    "start_time": "2024-05-16T20:05:44.136Z"
   },
   {
    "duration": 12,
    "start_time": "2024-05-16T20:05:44.324Z"
   },
   {
    "duration": 180,
    "start_time": "2024-05-16T20:05:44.338Z"
   },
   {
    "duration": 861,
    "start_time": "2024-05-16T20:08:59.599Z"
   },
   {
    "duration": 31,
    "start_time": "2024-05-16T20:09:00.462Z"
   },
   {
    "duration": 191,
    "start_time": "2024-05-16T20:09:00.495Z"
   },
   {
    "duration": 135,
    "start_time": "2024-05-16T20:09:00.688Z"
   },
   {
    "duration": 79,
    "start_time": "2024-05-16T20:09:00.825Z"
   },
   {
    "duration": 177,
    "start_time": "2024-05-16T20:09:00.906Z"
   },
   {
    "duration": 215,
    "start_time": "2024-05-16T20:09:01.084Z"
   },
   {
    "duration": 321,
    "start_time": "2024-05-16T20:09:01.300Z"
   },
   {
    "duration": 96,
    "start_time": "2024-05-16T20:09:01.623Z"
   },
   {
    "duration": 41,
    "start_time": "2024-05-16T20:09:01.722Z"
   },
   {
    "duration": 232,
    "start_time": "2024-05-16T20:09:01.764Z"
   },
   {
    "duration": 202,
    "start_time": "2024-05-16T20:09:01.998Z"
   },
   {
    "duration": 29,
    "start_time": "2024-05-16T20:09:02.201Z"
   },
   {
    "duration": 155,
    "start_time": "2024-05-16T20:09:02.231Z"
   },
   {
    "duration": 32,
    "start_time": "2024-05-16T20:09:02.388Z"
   },
   {
    "duration": 169,
    "start_time": "2024-05-16T20:09:02.422Z"
   },
   {
    "duration": 10,
    "start_time": "2024-05-16T20:09:02.592Z"
   },
   {
    "duration": 198,
    "start_time": "2024-05-16T20:09:02.604Z"
   },
   {
    "duration": 19,
    "start_time": "2024-05-16T20:09:02.804Z"
   },
   {
    "duration": 243,
    "start_time": "2024-05-16T20:09:02.825Z"
   },
   {
    "duration": 18,
    "start_time": "2024-05-16T20:09:03.070Z"
   },
   {
    "duration": 194,
    "start_time": "2024-05-16T20:09:03.089Z"
   },
   {
    "duration": 14,
    "start_time": "2024-05-16T20:09:03.284Z"
   },
   {
    "duration": 229,
    "start_time": "2024-05-16T20:09:03.299Z"
   },
   {
    "duration": 192,
    "start_time": "2024-05-16T20:09:03.530Z"
   },
   {
    "duration": 12,
    "start_time": "2024-05-16T20:09:03.724Z"
   },
   {
    "duration": 182,
    "start_time": "2024-05-16T20:09:03.738Z"
   },
   {
    "duration": 1347,
    "start_time": "2024-05-17T14:25:14.951Z"
   },
   {
    "duration": 32,
    "start_time": "2024-05-17T14:25:16.301Z"
   },
   {
    "duration": 85,
    "start_time": "2024-05-17T14:25:16.335Z"
   },
   {
    "duration": 88,
    "start_time": "2024-05-17T14:25:16.422Z"
   },
   {
    "duration": 27,
    "start_time": "2024-05-17T14:25:16.511Z"
   },
   {
    "duration": 6,
    "start_time": "2024-05-17T14:25:16.539Z"
   },
   {
    "duration": 82,
    "start_time": "2024-05-17T14:25:16.547Z"
   },
   {
    "duration": 40,
    "start_time": "2024-05-17T14:25:16.631Z"
   },
   {
    "duration": 42,
    "start_time": "2024-05-17T14:25:16.673Z"
   },
   {
    "duration": 12,
    "start_time": "2024-05-17T14:25:16.718Z"
   },
   {
    "duration": 306,
    "start_time": "2024-05-17T14:25:16.731Z"
   },
   {
    "duration": 207,
    "start_time": "2024-05-17T14:25:17.039Z"
   },
   {
    "duration": 5,
    "start_time": "2024-05-17T14:25:17.248Z"
   },
   {
    "duration": 280,
    "start_time": "2024-05-17T14:25:17.254Z"
   },
   {
    "duration": 21,
    "start_time": "2024-05-17T14:25:17.536Z"
   },
   {
    "duration": 161,
    "start_time": "2024-05-17T14:25:17.559Z"
   },
   {
    "duration": 9,
    "start_time": "2024-05-17T14:25:17.722Z"
   },
   {
    "duration": 220,
    "start_time": "2024-05-17T14:25:17.732Z"
   },
   {
    "duration": 19,
    "start_time": "2024-05-17T14:25:17.954Z"
   },
   {
    "duration": 241,
    "start_time": "2024-05-17T14:25:17.975Z"
   },
   {
    "duration": 17,
    "start_time": "2024-05-17T14:25:18.218Z"
   },
   {
    "duration": 178,
    "start_time": "2024-05-17T14:25:18.237Z"
   },
   {
    "duration": 15,
    "start_time": "2024-05-17T14:25:18.416Z"
   },
   {
    "duration": 204,
    "start_time": "2024-05-17T14:25:18.433Z"
   },
   {
    "duration": 187,
    "start_time": "2024-05-17T14:25:18.639Z"
   },
   {
    "duration": 11,
    "start_time": "2024-05-17T14:25:18.828Z"
   },
   {
    "duration": 181,
    "start_time": "2024-05-17T14:25:18.841Z"
   },
   {
    "duration": 4,
    "start_time": "2024-05-17T14:32:38.471Z"
   },
   {
    "duration": 4,
    "start_time": "2024-05-17T14:32:50.126Z"
   },
   {
    "duration": 4,
    "start_time": "2024-05-17T14:33:03.220Z"
   },
   {
    "duration": 1261,
    "start_time": "2024-06-05T17:27:23.929Z"
   },
   {
    "duration": 141,
    "start_time": "2024-06-05T17:27:29.786Z"
   },
   {
    "duration": 2673,
    "start_time": "2025-04-15T21:45:15.529Z"
   },
   {
    "duration": 11703,
    "start_time": "2025-04-15T21:45:18.205Z"
   },
   {
    "duration": 913,
    "start_time": "2025-04-15T21:46:01.900Z"
   },
   {
    "duration": 3,
    "start_time": "2025-04-15T21:46:19.130Z"
   },
   {
    "duration": 6843,
    "start_time": "2025-04-15T21:47:45.985Z"
   },
   {
    "duration": 3,
    "start_time": "2025-04-15T21:47:52.831Z"
   },
   {
    "duration": 6585,
    "start_time": "2025-04-15T21:48:11.992Z"
   }
  ],
  "colab": {
   "name": "DA+. Сборный проект 1. Шаблон (1).ipynb",
   "provenance": []
  },
  "kernelspec": {
   "display_name": "Python 3 (ipykernel)",
   "language": "python",
   "name": "python3"
  },
  "language_info": {
   "codemirror_mode": {
    "name": "ipython",
    "version": 3
   },
   "file_extension": ".py",
   "mimetype": "text/x-python",
   "name": "python",
   "nbconvert_exporter": "python",
   "pygments_lexer": "ipython3",
   "version": "3.9.5"
  },
  "toc": {
   "base_numbering": 1,
   "nav_menu": {},
   "number_sections": true,
   "sideBar": true,
   "skip_h1_title": true,
   "title_cell": "Table of Contents",
   "title_sidebar": "Contents",
   "toc_cell": false,
   "toc_position": {
    "height": "calc(100% - 180px)",
    "left": "10px",
    "top": "150px",
    "width": "375.391px"
   },
   "toc_section_display": true,
   "toc_window_display": true
  }
 },
 "nbformat": 4,
 "nbformat_minor": 1
}
