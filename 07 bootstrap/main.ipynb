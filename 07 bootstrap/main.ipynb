{
 "cells": [
  {
   "cell_type": "code",
   "execution_count": 2,
   "metadata": {},
   "outputs": [],
   "source": [
    "import numpy as np\n",
    "import warnings\n",
    "\n",
    "import pandas as pd\n",
    "from sklearn.model_selection import train_test_split\n",
    "from sklearn.linear_model import LinearRegression \n",
    "from sklearn.preprocessing import StandardScaler\n",
    "from sklearn.metrics import mean_squared_error\n",
    "from numpy.random import RandomState"
   ]
  },
  {
   "cell_type": "code",
   "execution_count": 3,
   "metadata": {},
   "outputs": [],
   "source": [
    "warnings.filterwarnings('ignore')"
   ]
  },
  {
   "cell_type": "markdown",
   "metadata": {},
   "source": [
    "# Выбор локации для скважины"
   ]
  },
  {
   "cell_type": "markdown",
   "metadata": {},
   "source": [
    "Допустим, вы работаете в добывающей компании «ГлавРосГосНефть». Нужно решить, где бурить новую скважину.\n",
    "\n",
    "Вам предоставлены пробы нефти в трёх регионах: в каждом 10 000 месторождений, где измерили качество нефти и объём её запасов. Постройте модель машинного обучения, которая поможет определить регион, где добыча принесёт наибольшую прибыль. Проанализируйте возможную прибыль и риски техникой *Bootstrap.*\n",
    "\n",
    "Шаги для выбора локации:\n",
    "\n",
    "- В избранном регионе ищут месторождения, для каждого определяют значения признаков;\n",
    "- Строят модель и оценивают объём запасов;\n",
    "- Выбирают месторождения с самым высокими оценками значений. Количество месторождений зависит от бюджета компании и стоимости разработки одной скважины;\n",
    "- Прибыль равна суммарной прибыли отобранных месторождений."
   ]
  },
  {
   "cell_type": "markdown",
   "metadata": {},
   "source": [
    "## Загрузка и подготовка данных"
   ]
  },
  {
   "cell_type": "code",
   "execution_count": null,
   "metadata": {},
   "outputs": [],
   "source": [
    "def read_file(try_file, except_file, sep):\n",
    "    try:\n",
    "        try:\n",
    "            data_file = pd.read_csv(try_file, sep=sep)\n",
    "        except:\n",
    "            data_file = pd.read_csv(try_file)\n",
    "    except:\n",
    "        try:\n",
    "            data_file = pd.read_csv(except_file, sep=sep)\n",
    "        except:\n",
    "            data_file = pd.read_csv(except_file)\n",
    "    return data_file\n",
    "\n",
    "geo_data_0 = read_file('YOUR_DATA', 'YOUR_DATA', '')\n",
    "geo_data_1 = read_file('YOUR_DATA', 'YOUR_DATA', '')\n",
    "geo_data_2 = read_file('YOUR_DATA', 'YOUR_DATA', '')"
   ]
  },
  {
   "cell_type": "code",
   "execution_count": 5,
   "metadata": {},
   "outputs": [],
   "source": [
    "TEST_SIZE = 0.25\n",
    "RANDOM_STATE = 42"
   ]
  },
  {
   "cell_type": "code",
   "execution_count": 6,
   "metadata": {},
   "outputs": [
    {
     "data": {
      "text/html": [
       "<div>\n",
       "<style scoped>\n",
       "    .dataframe tbody tr th:only-of-type {\n",
       "        vertical-align: middle;\n",
       "    }\n",
       "\n",
       "    .dataframe tbody tr th {\n",
       "        vertical-align: top;\n",
       "    }\n",
       "\n",
       "    .dataframe thead th {\n",
       "        text-align: right;\n",
       "    }\n",
       "</style>\n",
       "<table border=\"1\" class=\"dataframe\">\n",
       "  <thead>\n",
       "    <tr style=\"text-align: right;\">\n",
       "      <th></th>\n",
       "      <th>id</th>\n",
       "      <th>f0</th>\n",
       "      <th>f1</th>\n",
       "      <th>f2</th>\n",
       "      <th>product</th>\n",
       "    </tr>\n",
       "  </thead>\n",
       "  <tbody>\n",
       "    <tr>\n",
       "      <th>0</th>\n",
       "      <td>txEyH</td>\n",
       "      <td>0.705745</td>\n",
       "      <td>-0.497823</td>\n",
       "      <td>1.221170</td>\n",
       "      <td>105.280062</td>\n",
       "    </tr>\n",
       "    <tr>\n",
       "      <th>1</th>\n",
       "      <td>2acmU</td>\n",
       "      <td>1.334711</td>\n",
       "      <td>-0.340164</td>\n",
       "      <td>4.365080</td>\n",
       "      <td>73.037750</td>\n",
       "    </tr>\n",
       "    <tr>\n",
       "      <th>2</th>\n",
       "      <td>409Wp</td>\n",
       "      <td>1.022732</td>\n",
       "      <td>0.151990</td>\n",
       "      <td>1.419926</td>\n",
       "      <td>85.265647</td>\n",
       "    </tr>\n",
       "    <tr>\n",
       "      <th>3</th>\n",
       "      <td>iJLyR</td>\n",
       "      <td>-0.032172</td>\n",
       "      <td>0.139033</td>\n",
       "      <td>2.978566</td>\n",
       "      <td>168.620776</td>\n",
       "    </tr>\n",
       "    <tr>\n",
       "      <th>4</th>\n",
       "      <td>Xdl7t</td>\n",
       "      <td>1.988431</td>\n",
       "      <td>0.155413</td>\n",
       "      <td>4.751769</td>\n",
       "      <td>154.036647</td>\n",
       "    </tr>\n",
       "    <tr>\n",
       "      <th>...</th>\n",
       "      <td>...</td>\n",
       "      <td>...</td>\n",
       "      <td>...</td>\n",
       "      <td>...</td>\n",
       "      <td>...</td>\n",
       "    </tr>\n",
       "    <tr>\n",
       "      <th>99995</th>\n",
       "      <td>DLsed</td>\n",
       "      <td>0.971957</td>\n",
       "      <td>0.370953</td>\n",
       "      <td>6.075346</td>\n",
       "      <td>110.744026</td>\n",
       "    </tr>\n",
       "    <tr>\n",
       "      <th>99996</th>\n",
       "      <td>QKivN</td>\n",
       "      <td>1.392429</td>\n",
       "      <td>-0.382606</td>\n",
       "      <td>1.273912</td>\n",
       "      <td>122.346843</td>\n",
       "    </tr>\n",
       "    <tr>\n",
       "      <th>99997</th>\n",
       "      <td>3rnvd</td>\n",
       "      <td>1.029585</td>\n",
       "      <td>0.018787</td>\n",
       "      <td>-1.348308</td>\n",
       "      <td>64.375443</td>\n",
       "    </tr>\n",
       "    <tr>\n",
       "      <th>99998</th>\n",
       "      <td>7kl59</td>\n",
       "      <td>0.998163</td>\n",
       "      <td>-0.528582</td>\n",
       "      <td>1.583869</td>\n",
       "      <td>74.040764</td>\n",
       "    </tr>\n",
       "    <tr>\n",
       "      <th>99999</th>\n",
       "      <td>1CWhH</td>\n",
       "      <td>1.764754</td>\n",
       "      <td>-0.266417</td>\n",
       "      <td>5.722849</td>\n",
       "      <td>149.633246</td>\n",
       "    </tr>\n",
       "  </tbody>\n",
       "</table>\n",
       "<p>100000 rows × 5 columns</p>\n",
       "</div>"
      ],
      "text/plain": [
       "          id        f0        f1        f2     product\n",
       "0      txEyH  0.705745 -0.497823  1.221170  105.280062\n",
       "1      2acmU  1.334711 -0.340164  4.365080   73.037750\n",
       "2      409Wp  1.022732  0.151990  1.419926   85.265647\n",
       "3      iJLyR -0.032172  0.139033  2.978566  168.620776\n",
       "4      Xdl7t  1.988431  0.155413  4.751769  154.036647\n",
       "...      ...       ...       ...       ...         ...\n",
       "99995  DLsed  0.971957  0.370953  6.075346  110.744026\n",
       "99996  QKivN  1.392429 -0.382606  1.273912  122.346843\n",
       "99997  3rnvd  1.029585  0.018787 -1.348308   64.375443\n",
       "99998  7kl59  0.998163 -0.528582  1.583869   74.040764\n",
       "99999  1CWhH  1.764754 -0.266417  5.722849  149.633246\n",
       "\n",
       "[100000 rows x 5 columns]"
      ]
     },
     "metadata": {},
     "output_type": "display_data"
    }
   ],
   "source": [
    "display(geo_data_0)"
   ]
  },
  {
   "cell_type": "code",
   "execution_count": 7,
   "metadata": {},
   "outputs": [
    {
     "data": {
      "text/html": [
       "<div>\n",
       "<style scoped>\n",
       "    .dataframe tbody tr th:only-of-type {\n",
       "        vertical-align: middle;\n",
       "    }\n",
       "\n",
       "    .dataframe tbody tr th {\n",
       "        vertical-align: top;\n",
       "    }\n",
       "\n",
       "    .dataframe thead th {\n",
       "        text-align: right;\n",
       "    }\n",
       "</style>\n",
       "<table border=\"1\" class=\"dataframe\">\n",
       "  <thead>\n",
       "    <tr style=\"text-align: right;\">\n",
       "      <th></th>\n",
       "      <th>id</th>\n",
       "      <th>f0</th>\n",
       "      <th>f1</th>\n",
       "      <th>f2</th>\n",
       "      <th>product</th>\n",
       "    </tr>\n",
       "  </thead>\n",
       "  <tbody>\n",
       "    <tr>\n",
       "      <th>0</th>\n",
       "      <td>kBEdx</td>\n",
       "      <td>-15.001348</td>\n",
       "      <td>-8.276000</td>\n",
       "      <td>-0.005876</td>\n",
       "      <td>3.179103</td>\n",
       "    </tr>\n",
       "    <tr>\n",
       "      <th>1</th>\n",
       "      <td>62mP7</td>\n",
       "      <td>14.272088</td>\n",
       "      <td>-3.475083</td>\n",
       "      <td>0.999183</td>\n",
       "      <td>26.953261</td>\n",
       "    </tr>\n",
       "    <tr>\n",
       "      <th>2</th>\n",
       "      <td>vyE1P</td>\n",
       "      <td>6.263187</td>\n",
       "      <td>-5.948386</td>\n",
       "      <td>5.001160</td>\n",
       "      <td>134.766305</td>\n",
       "    </tr>\n",
       "    <tr>\n",
       "      <th>3</th>\n",
       "      <td>KcrkZ</td>\n",
       "      <td>-13.081196</td>\n",
       "      <td>-11.506057</td>\n",
       "      <td>4.999415</td>\n",
       "      <td>137.945408</td>\n",
       "    </tr>\n",
       "    <tr>\n",
       "      <th>4</th>\n",
       "      <td>AHL4O</td>\n",
       "      <td>12.702195</td>\n",
       "      <td>-8.147433</td>\n",
       "      <td>5.004363</td>\n",
       "      <td>134.766305</td>\n",
       "    </tr>\n",
       "    <tr>\n",
       "      <th>...</th>\n",
       "      <td>...</td>\n",
       "      <td>...</td>\n",
       "      <td>...</td>\n",
       "      <td>...</td>\n",
       "      <td>...</td>\n",
       "    </tr>\n",
       "    <tr>\n",
       "      <th>99995</th>\n",
       "      <td>QywKC</td>\n",
       "      <td>9.535637</td>\n",
       "      <td>-6.878139</td>\n",
       "      <td>1.998296</td>\n",
       "      <td>53.906522</td>\n",
       "    </tr>\n",
       "    <tr>\n",
       "      <th>99996</th>\n",
       "      <td>ptvty</td>\n",
       "      <td>-10.160631</td>\n",
       "      <td>-12.558096</td>\n",
       "      <td>5.005581</td>\n",
       "      <td>137.945408</td>\n",
       "    </tr>\n",
       "    <tr>\n",
       "      <th>99997</th>\n",
       "      <td>09gWa</td>\n",
       "      <td>-7.378891</td>\n",
       "      <td>-3.084104</td>\n",
       "      <td>4.998651</td>\n",
       "      <td>137.945408</td>\n",
       "    </tr>\n",
       "    <tr>\n",
       "      <th>99998</th>\n",
       "      <td>rqwUm</td>\n",
       "      <td>0.665714</td>\n",
       "      <td>-6.152593</td>\n",
       "      <td>1.000146</td>\n",
       "      <td>30.132364</td>\n",
       "    </tr>\n",
       "    <tr>\n",
       "      <th>99999</th>\n",
       "      <td>relB0</td>\n",
       "      <td>-3.426139</td>\n",
       "      <td>-7.794274</td>\n",
       "      <td>-0.003299</td>\n",
       "      <td>3.179103</td>\n",
       "    </tr>\n",
       "  </tbody>\n",
       "</table>\n",
       "<p>100000 rows × 5 columns</p>\n",
       "</div>"
      ],
      "text/plain": [
       "          id         f0         f1        f2     product\n",
       "0      kBEdx -15.001348  -8.276000 -0.005876    3.179103\n",
       "1      62mP7  14.272088  -3.475083  0.999183   26.953261\n",
       "2      vyE1P   6.263187  -5.948386  5.001160  134.766305\n",
       "3      KcrkZ -13.081196 -11.506057  4.999415  137.945408\n",
       "4      AHL4O  12.702195  -8.147433  5.004363  134.766305\n",
       "...      ...        ...        ...       ...         ...\n",
       "99995  QywKC   9.535637  -6.878139  1.998296   53.906522\n",
       "99996  ptvty -10.160631 -12.558096  5.005581  137.945408\n",
       "99997  09gWa  -7.378891  -3.084104  4.998651  137.945408\n",
       "99998  rqwUm   0.665714  -6.152593  1.000146   30.132364\n",
       "99999  relB0  -3.426139  -7.794274 -0.003299    3.179103\n",
       "\n",
       "[100000 rows x 5 columns]"
      ]
     },
     "metadata": {},
     "output_type": "display_data"
    }
   ],
   "source": [
    "display(geo_data_1)"
   ]
  },
  {
   "cell_type": "code",
   "execution_count": 8,
   "metadata": {},
   "outputs": [
    {
     "data": {
      "text/html": [
       "<div>\n",
       "<style scoped>\n",
       "    .dataframe tbody tr th:only-of-type {\n",
       "        vertical-align: middle;\n",
       "    }\n",
       "\n",
       "    .dataframe tbody tr th {\n",
       "        vertical-align: top;\n",
       "    }\n",
       "\n",
       "    .dataframe thead th {\n",
       "        text-align: right;\n",
       "    }\n",
       "</style>\n",
       "<table border=\"1\" class=\"dataframe\">\n",
       "  <thead>\n",
       "    <tr style=\"text-align: right;\">\n",
       "      <th></th>\n",
       "      <th>id</th>\n",
       "      <th>f0</th>\n",
       "      <th>f1</th>\n",
       "      <th>f2</th>\n",
       "      <th>product</th>\n",
       "    </tr>\n",
       "  </thead>\n",
       "  <tbody>\n",
       "    <tr>\n",
       "      <th>0</th>\n",
       "      <td>fwXo0</td>\n",
       "      <td>-1.146987</td>\n",
       "      <td>0.963328</td>\n",
       "      <td>-0.828965</td>\n",
       "      <td>27.758673</td>\n",
       "    </tr>\n",
       "    <tr>\n",
       "      <th>1</th>\n",
       "      <td>WJtFt</td>\n",
       "      <td>0.262778</td>\n",
       "      <td>0.269839</td>\n",
       "      <td>-2.530187</td>\n",
       "      <td>56.069697</td>\n",
       "    </tr>\n",
       "    <tr>\n",
       "      <th>2</th>\n",
       "      <td>ovLUW</td>\n",
       "      <td>0.194587</td>\n",
       "      <td>0.289035</td>\n",
       "      <td>-5.586433</td>\n",
       "      <td>62.871910</td>\n",
       "    </tr>\n",
       "    <tr>\n",
       "      <th>3</th>\n",
       "      <td>q6cA6</td>\n",
       "      <td>2.236060</td>\n",
       "      <td>-0.553760</td>\n",
       "      <td>0.930038</td>\n",
       "      <td>114.572842</td>\n",
       "    </tr>\n",
       "    <tr>\n",
       "      <th>4</th>\n",
       "      <td>WPMUX</td>\n",
       "      <td>-0.515993</td>\n",
       "      <td>1.716266</td>\n",
       "      <td>5.899011</td>\n",
       "      <td>149.600746</td>\n",
       "    </tr>\n",
       "    <tr>\n",
       "      <th>...</th>\n",
       "      <td>...</td>\n",
       "      <td>...</td>\n",
       "      <td>...</td>\n",
       "      <td>...</td>\n",
       "      <td>...</td>\n",
       "    </tr>\n",
       "    <tr>\n",
       "      <th>99995</th>\n",
       "      <td>4GxBu</td>\n",
       "      <td>-1.777037</td>\n",
       "      <td>1.125220</td>\n",
       "      <td>6.263374</td>\n",
       "      <td>172.327046</td>\n",
       "    </tr>\n",
       "    <tr>\n",
       "      <th>99996</th>\n",
       "      <td>YKFjq</td>\n",
       "      <td>-1.261523</td>\n",
       "      <td>-0.894828</td>\n",
       "      <td>2.524545</td>\n",
       "      <td>138.748846</td>\n",
       "    </tr>\n",
       "    <tr>\n",
       "      <th>99997</th>\n",
       "      <td>tKPY3</td>\n",
       "      <td>-1.199934</td>\n",
       "      <td>-2.957637</td>\n",
       "      <td>5.219411</td>\n",
       "      <td>157.080080</td>\n",
       "    </tr>\n",
       "    <tr>\n",
       "      <th>99998</th>\n",
       "      <td>nmxp2</td>\n",
       "      <td>-2.419896</td>\n",
       "      <td>2.417221</td>\n",
       "      <td>-5.548444</td>\n",
       "      <td>51.795253</td>\n",
       "    </tr>\n",
       "    <tr>\n",
       "      <th>99999</th>\n",
       "      <td>V9kWn</td>\n",
       "      <td>-2.551421</td>\n",
       "      <td>-2.025625</td>\n",
       "      <td>6.090891</td>\n",
       "      <td>102.775767</td>\n",
       "    </tr>\n",
       "  </tbody>\n",
       "</table>\n",
       "<p>100000 rows × 5 columns</p>\n",
       "</div>"
      ],
      "text/plain": [
       "          id        f0        f1        f2     product\n",
       "0      fwXo0 -1.146987  0.963328 -0.828965   27.758673\n",
       "1      WJtFt  0.262778  0.269839 -2.530187   56.069697\n",
       "2      ovLUW  0.194587  0.289035 -5.586433   62.871910\n",
       "3      q6cA6  2.236060 -0.553760  0.930038  114.572842\n",
       "4      WPMUX -0.515993  1.716266  5.899011  149.600746\n",
       "...      ...       ...       ...       ...         ...\n",
       "99995  4GxBu -1.777037  1.125220  6.263374  172.327046\n",
       "99996  YKFjq -1.261523 -0.894828  2.524545  138.748846\n",
       "99997  tKPY3 -1.199934 -2.957637  5.219411  157.080080\n",
       "99998  nmxp2 -2.419896  2.417221 -5.548444   51.795253\n",
       "99999  V9kWn -2.551421 -2.025625  6.090891  102.775767\n",
       "\n",
       "[100000 rows x 5 columns]"
      ]
     },
     "metadata": {},
     "output_type": "display_data"
    }
   ],
   "source": [
    "display(geo_data_2)"
   ]
  },
  {
   "cell_type": "code",
   "execution_count": 9,
   "metadata": {},
   "outputs": [
    {
     "name": "stdout",
     "output_type": "stream",
     "text": [
      "<class 'pandas.core.frame.DataFrame'>\n",
      "RangeIndex: 100000 entries, 0 to 99999\n",
      "Data columns (total 5 columns):\n",
      " #   Column   Non-Null Count   Dtype  \n",
      "---  ------   --------------   -----  \n",
      " 0   id       100000 non-null  object \n",
      " 1   f0       100000 non-null  float64\n",
      " 2   f1       100000 non-null  float64\n",
      " 3   f2       100000 non-null  float64\n",
      " 4   product  100000 non-null  float64\n",
      "dtypes: float64(4), object(1)\n",
      "memory usage: 3.8+ MB\n",
      "\n",
      "<class 'pandas.core.frame.DataFrame'>\n",
      "RangeIndex: 100000 entries, 0 to 99999\n",
      "Data columns (total 5 columns):\n",
      " #   Column   Non-Null Count   Dtype  \n",
      "---  ------   --------------   -----  \n",
      " 0   id       100000 non-null  object \n",
      " 1   f0       100000 non-null  float64\n",
      " 2   f1       100000 non-null  float64\n",
      " 3   f2       100000 non-null  float64\n",
      " 4   product  100000 non-null  float64\n",
      "dtypes: float64(4), object(1)\n",
      "memory usage: 3.8+ MB\n",
      "\n",
      "<class 'pandas.core.frame.DataFrame'>\n",
      "RangeIndex: 100000 entries, 0 to 99999\n",
      "Data columns (total 5 columns):\n",
      " #   Column   Non-Null Count   Dtype  \n",
      "---  ------   --------------   -----  \n",
      " 0   id       100000 non-null  object \n",
      " 1   f0       100000 non-null  float64\n",
      " 2   f1       100000 non-null  float64\n",
      " 3   f2       100000 non-null  float64\n",
      " 4   product  100000 non-null  float64\n",
      "dtypes: float64(4), object(1)\n",
      "memory usage: 3.8+ MB\n",
      "\n"
     ]
    }
   ],
   "source": [
    "def df_info(df) -> pd.DataFrame:\n",
    "    information = df.info()\n",
    "    print()\n",
    "    return information\n",
    "\n",
    "df_info(geo_data_0)\n",
    "df_info(geo_data_1)\n",
    "df_info(geo_data_2)"
   ]
  },
  {
   "cell_type": "code",
   "execution_count": 10,
   "metadata": {},
   "outputs": [
    {
     "data": {
      "text/html": [
       "<div>\n",
       "<style scoped>\n",
       "    .dataframe tbody tr th:only-of-type {\n",
       "        vertical-align: middle;\n",
       "    }\n",
       "\n",
       "    .dataframe tbody tr th {\n",
       "        vertical-align: top;\n",
       "    }\n",
       "\n",
       "    .dataframe thead th {\n",
       "        text-align: right;\n",
       "    }\n",
       "</style>\n",
       "<table border=\"1\" class=\"dataframe\">\n",
       "  <thead>\n",
       "    <tr style=\"text-align: right;\">\n",
       "      <th></th>\n",
       "      <th>f0</th>\n",
       "      <th>f1</th>\n",
       "      <th>f2</th>\n",
       "      <th>product</th>\n",
       "    </tr>\n",
       "  </thead>\n",
       "  <tbody>\n",
       "    <tr>\n",
       "      <th>count</th>\n",
       "      <td>100000.000000</td>\n",
       "      <td>100000.000000</td>\n",
       "      <td>100000.000000</td>\n",
       "      <td>100000.000000</td>\n",
       "    </tr>\n",
       "    <tr>\n",
       "      <th>mean</th>\n",
       "      <td>0.500419</td>\n",
       "      <td>0.250143</td>\n",
       "      <td>2.502647</td>\n",
       "      <td>92.500000</td>\n",
       "    </tr>\n",
       "    <tr>\n",
       "      <th>std</th>\n",
       "      <td>0.871832</td>\n",
       "      <td>0.504433</td>\n",
       "      <td>3.248248</td>\n",
       "      <td>44.288691</td>\n",
       "    </tr>\n",
       "    <tr>\n",
       "      <th>min</th>\n",
       "      <td>-1.408605</td>\n",
       "      <td>-0.848218</td>\n",
       "      <td>-12.088328</td>\n",
       "      <td>0.000000</td>\n",
       "    </tr>\n",
       "    <tr>\n",
       "      <th>25%</th>\n",
       "      <td>-0.072580</td>\n",
       "      <td>-0.200881</td>\n",
       "      <td>0.287748</td>\n",
       "      <td>56.497507</td>\n",
       "    </tr>\n",
       "    <tr>\n",
       "      <th>50%</th>\n",
       "      <td>0.502360</td>\n",
       "      <td>0.250252</td>\n",
       "      <td>2.515969</td>\n",
       "      <td>91.849972</td>\n",
       "    </tr>\n",
       "    <tr>\n",
       "      <th>75%</th>\n",
       "      <td>1.073581</td>\n",
       "      <td>0.700646</td>\n",
       "      <td>4.715088</td>\n",
       "      <td>128.564089</td>\n",
       "    </tr>\n",
       "    <tr>\n",
       "      <th>max</th>\n",
       "      <td>2.362331</td>\n",
       "      <td>1.343769</td>\n",
       "      <td>16.003790</td>\n",
       "      <td>185.364347</td>\n",
       "    </tr>\n",
       "  </tbody>\n",
       "</table>\n",
       "</div>"
      ],
      "text/plain": [
       "                  f0             f1             f2        product\n",
       "count  100000.000000  100000.000000  100000.000000  100000.000000\n",
       "mean        0.500419       0.250143       2.502647      92.500000\n",
       "std         0.871832       0.504433       3.248248      44.288691\n",
       "min        -1.408605      -0.848218     -12.088328       0.000000\n",
       "25%        -0.072580      -0.200881       0.287748      56.497507\n",
       "50%         0.502360       0.250252       2.515969      91.849972\n",
       "75%         1.073581       0.700646       4.715088     128.564089\n",
       "max         2.362331       1.343769      16.003790     185.364347"
      ]
     },
     "metadata": {},
     "output_type": "display_data"
    },
    {
     "data": {
      "text/html": [
       "<div>\n",
       "<style scoped>\n",
       "    .dataframe tbody tr th:only-of-type {\n",
       "        vertical-align: middle;\n",
       "    }\n",
       "\n",
       "    .dataframe tbody tr th {\n",
       "        vertical-align: top;\n",
       "    }\n",
       "\n",
       "    .dataframe thead th {\n",
       "        text-align: right;\n",
       "    }\n",
       "</style>\n",
       "<table border=\"1\" class=\"dataframe\">\n",
       "  <thead>\n",
       "    <tr style=\"text-align: right;\">\n",
       "      <th></th>\n",
       "      <th>f0</th>\n",
       "      <th>f1</th>\n",
       "      <th>f2</th>\n",
       "      <th>product</th>\n",
       "    </tr>\n",
       "  </thead>\n",
       "  <tbody>\n",
       "    <tr>\n",
       "      <th>count</th>\n",
       "      <td>100000.000000</td>\n",
       "      <td>100000.000000</td>\n",
       "      <td>100000.000000</td>\n",
       "      <td>100000.000000</td>\n",
       "    </tr>\n",
       "    <tr>\n",
       "      <th>mean</th>\n",
       "      <td>1.141296</td>\n",
       "      <td>-4.796579</td>\n",
       "      <td>2.494541</td>\n",
       "      <td>68.825000</td>\n",
       "    </tr>\n",
       "    <tr>\n",
       "      <th>std</th>\n",
       "      <td>8.965932</td>\n",
       "      <td>5.119872</td>\n",
       "      <td>1.703572</td>\n",
       "      <td>45.944423</td>\n",
       "    </tr>\n",
       "    <tr>\n",
       "      <th>min</th>\n",
       "      <td>-31.609576</td>\n",
       "      <td>-26.358598</td>\n",
       "      <td>-0.018144</td>\n",
       "      <td>0.000000</td>\n",
       "    </tr>\n",
       "    <tr>\n",
       "      <th>25%</th>\n",
       "      <td>-6.298551</td>\n",
       "      <td>-8.267985</td>\n",
       "      <td>1.000021</td>\n",
       "      <td>26.953261</td>\n",
       "    </tr>\n",
       "    <tr>\n",
       "      <th>50%</th>\n",
       "      <td>1.153055</td>\n",
       "      <td>-4.813172</td>\n",
       "      <td>2.011479</td>\n",
       "      <td>57.085625</td>\n",
       "    </tr>\n",
       "    <tr>\n",
       "      <th>75%</th>\n",
       "      <td>8.621015</td>\n",
       "      <td>-1.332816</td>\n",
       "      <td>3.999904</td>\n",
       "      <td>107.813044</td>\n",
       "    </tr>\n",
       "    <tr>\n",
       "      <th>max</th>\n",
       "      <td>29.421755</td>\n",
       "      <td>18.734063</td>\n",
       "      <td>5.019721</td>\n",
       "      <td>137.945408</td>\n",
       "    </tr>\n",
       "  </tbody>\n",
       "</table>\n",
       "</div>"
      ],
      "text/plain": [
       "                  f0             f1             f2        product\n",
       "count  100000.000000  100000.000000  100000.000000  100000.000000\n",
       "mean        1.141296      -4.796579       2.494541      68.825000\n",
       "std         8.965932       5.119872       1.703572      45.944423\n",
       "min       -31.609576     -26.358598      -0.018144       0.000000\n",
       "25%        -6.298551      -8.267985       1.000021      26.953261\n",
       "50%         1.153055      -4.813172       2.011479      57.085625\n",
       "75%         8.621015      -1.332816       3.999904     107.813044\n",
       "max        29.421755      18.734063       5.019721     137.945408"
      ]
     },
     "metadata": {},
     "output_type": "display_data"
    },
    {
     "data": {
      "text/html": [
       "<div>\n",
       "<style scoped>\n",
       "    .dataframe tbody tr th:only-of-type {\n",
       "        vertical-align: middle;\n",
       "    }\n",
       "\n",
       "    .dataframe tbody tr th {\n",
       "        vertical-align: top;\n",
       "    }\n",
       "\n",
       "    .dataframe thead th {\n",
       "        text-align: right;\n",
       "    }\n",
       "</style>\n",
       "<table border=\"1\" class=\"dataframe\">\n",
       "  <thead>\n",
       "    <tr style=\"text-align: right;\">\n",
       "      <th></th>\n",
       "      <th>f0</th>\n",
       "      <th>f1</th>\n",
       "      <th>f2</th>\n",
       "      <th>product</th>\n",
       "    </tr>\n",
       "  </thead>\n",
       "  <tbody>\n",
       "    <tr>\n",
       "      <th>count</th>\n",
       "      <td>100000.000000</td>\n",
       "      <td>100000.000000</td>\n",
       "      <td>100000.000000</td>\n",
       "      <td>100000.000000</td>\n",
       "    </tr>\n",
       "    <tr>\n",
       "      <th>mean</th>\n",
       "      <td>0.002023</td>\n",
       "      <td>-0.002081</td>\n",
       "      <td>2.495128</td>\n",
       "      <td>95.000000</td>\n",
       "    </tr>\n",
       "    <tr>\n",
       "      <th>std</th>\n",
       "      <td>1.732045</td>\n",
       "      <td>1.730417</td>\n",
       "      <td>3.473445</td>\n",
       "      <td>44.749921</td>\n",
       "    </tr>\n",
       "    <tr>\n",
       "      <th>min</th>\n",
       "      <td>-8.760004</td>\n",
       "      <td>-7.084020</td>\n",
       "      <td>-11.970335</td>\n",
       "      <td>0.000000</td>\n",
       "    </tr>\n",
       "    <tr>\n",
       "      <th>25%</th>\n",
       "      <td>-1.162288</td>\n",
       "      <td>-1.174820</td>\n",
       "      <td>0.130359</td>\n",
       "      <td>59.450441</td>\n",
       "    </tr>\n",
       "    <tr>\n",
       "      <th>50%</th>\n",
       "      <td>0.009424</td>\n",
       "      <td>-0.009482</td>\n",
       "      <td>2.484236</td>\n",
       "      <td>94.925613</td>\n",
       "    </tr>\n",
       "    <tr>\n",
       "      <th>75%</th>\n",
       "      <td>1.158535</td>\n",
       "      <td>1.163678</td>\n",
       "      <td>4.858794</td>\n",
       "      <td>130.595027</td>\n",
       "    </tr>\n",
       "    <tr>\n",
       "      <th>max</th>\n",
       "      <td>7.238262</td>\n",
       "      <td>7.844801</td>\n",
       "      <td>16.739402</td>\n",
       "      <td>190.029838</td>\n",
       "    </tr>\n",
       "  </tbody>\n",
       "</table>\n",
       "</div>"
      ],
      "text/plain": [
       "                  f0             f1             f2        product\n",
       "count  100000.000000  100000.000000  100000.000000  100000.000000\n",
       "mean        0.002023      -0.002081       2.495128      95.000000\n",
       "std         1.732045       1.730417       3.473445      44.749921\n",
       "min        -8.760004      -7.084020     -11.970335       0.000000\n",
       "25%        -1.162288      -1.174820       0.130359      59.450441\n",
       "50%         0.009424      -0.009482       2.484236      94.925613\n",
       "75%         1.158535       1.163678       4.858794     130.595027\n",
       "max         7.238262       7.844801      16.739402     190.029838"
      ]
     },
     "metadata": {},
     "output_type": "display_data"
    }
   ],
   "source": [
    "def df_describe(df) -> pd.DataFrame:\n",
    "    disp = display(df.describe())\n",
    "    return disp\n",
    "\n",
    "df_describe(geo_data_0)\n",
    "df_describe(geo_data_1)\n",
    "df_describe(geo_data_2)"
   ]
  },
  {
   "cell_type": "code",
   "execution_count": 11,
   "metadata": {},
   "outputs": [
    {
     "data": {
      "text/plain": [
       "id         0\n",
       "f0         0\n",
       "f1         0\n",
       "f2         0\n",
       "product    0\n",
       "dtype: int64"
      ]
     },
     "metadata": {},
     "output_type": "display_data"
    },
    {
     "data": {
      "text/plain": [
       "id         0\n",
       "f0         0\n",
       "f1         0\n",
       "f2         0\n",
       "product    0\n",
       "dtype: int64"
      ]
     },
     "metadata": {},
     "output_type": "display_data"
    },
    {
     "data": {
      "text/plain": [
       "id         0\n",
       "f0         0\n",
       "f1         0\n",
       "f2         0\n",
       "product    0\n",
       "dtype: int64"
      ]
     },
     "metadata": {},
     "output_type": "display_data"
    }
   ],
   "source": [
    "def df_nan(df) -> int:\n",
    "    nans = display(df.isna().sum())\n",
    "    return nans\n",
    "\n",
    "df_nan(geo_data_0)\n",
    "df_nan(geo_data_1)\n",
    "df_nan(geo_data_2)"
   ]
  },
  {
   "cell_type": "code",
   "execution_count": 12,
   "metadata": {},
   "outputs": [
    {
     "name": "stdout",
     "output_type": "stream",
     "text": [
      "0\n",
      "0\n",
      "0\n"
     ]
    }
   ],
   "source": [
    "def df_duplicated(df) -> int:\n",
    "    duplicates = print(df.duplicated().sum())\n",
    "    return duplicates\n",
    "\n",
    "df_duplicated(geo_data_0)\n",
    "df_duplicated(geo_data_1)\n",
    "df_duplicated(geo_data_2)"
   ]
  },
  {
   "cell_type": "markdown",
   "metadata": {},
   "source": [
    "Данные геологоразведки трёх регионов находятся в датасетах:\n",
    "\n",
    "    -geo_data_0\n",
    "    -geo_data_1\n",
    "    -geo_data_2\n",
    "    \n",
    "id — уникальный идентификатор скважины;\n",
    "\n",
    "f0, f1, f2 — три признака точек (неважно, что они означают, но сами признаки значимы);\n",
    "\n",
    "product — объём запасов в скважине (тыс. баррелей)."
   ]
  },
  {
   "cell_type": "markdown",
   "metadata": {},
   "source": [
    "## Обучение и проверка модели"
   ]
  },
  {
   "cell_type": "code",
   "execution_count": 13,
   "metadata": {},
   "outputs": [],
   "source": [
    "geo_data_0 = geo_data_0.drop('id', axis=1)\n",
    "geo_data_1 = geo_data_1.drop('id', axis=1)\n",
    "geo_data_2 = geo_data_2.drop('id', axis=1)"
   ]
  },
  {
   "cell_type": "code",
   "execution_count": 14,
   "metadata": {},
   "outputs": [],
   "source": [
    "def train_test(df, target):\n",
    "    X = df.drop(target, axis=1)\n",
    "    y = df[target]\n",
    "    X_train, X_test, y_train, y_test = train_test_split(X, \n",
    "                                                        y, \n",
    "                                                        test_size=TEST_SIZE, \n",
    "                                                        random_state=RANDOM_STATE)\n",
    "    return X_train, X_test, y_train, y_test"
   ]
  },
  {
   "cell_type": "markdown",
   "metadata": {},
   "source": [
    "Написал функцию train_test чтобы разбить данные на выборки"
   ]
  },
  {
   "cell_type": "code",
   "execution_count": 15,
   "metadata": {},
   "outputs": [],
   "source": [
    "X_train_0, X_test_0, y_train_0, y_test_0 = train_test(geo_data_0, 'product')\n",
    "X_train_1, X_test_1, y_train_1, y_test_1 = train_test(geo_data_1, 'product')\n",
    "X_train_2, X_test_2, y_train_2, y_test_2 = train_test(geo_data_2, 'product')"
   ]
  },
  {
   "cell_type": "code",
   "execution_count": 16,
   "metadata": {},
   "outputs": [],
   "source": [
    "def model_fit(df, X_train, y_train, X_test, y_test):\n",
    "    model = LinearRegression()\n",
    "    model.fit(X_train, y_train)\n",
    "    predictions = model.predict(X_test)  \n",
    "    return predictions"
   ]
  },
  {
   "cell_type": "markdown",
   "metadata": {},
   "source": [
    "функция model_fit обучает модель линейной регрессии"
   ]
  },
  {
   "cell_type": "code",
   "execution_count": 17,
   "metadata": {},
   "outputs": [],
   "source": [
    "def print_metrics(df, y_test, predict):\n",
    "    mse = mean_squared_error(y_test, predict)\n",
    "    rmse = np.sqrt(mse)\n",
    "    predicted_product_mean = np.mean(predict)\n",
    "    print(f'Средний запас предсказанного сырья: {predicted_product_mean:.3f}')\n",
    "    print(f'Средний запас сырья: {df[\"product\"].mean():.3f}')\n",
    "    print(f'RMSE = {rmse:.3f}')"
   ]
  },
  {
   "cell_type": "markdown",
   "metadata": {},
   "source": [
    "функция print_metrics выводит предсказание модели, фактический запас сырья и метрику rmse"
   ]
  },
  {
   "cell_type": "code",
   "execution_count": 18,
   "metadata": {},
   "outputs": [
    {
     "name": "stdout",
     "output_type": "stream",
     "text": [
      "Средний запас предсказанного сырья: 92.399\n",
      "Средний запас сырья: 92.500\n",
      "RMSE = 37.757\n"
     ]
    }
   ],
   "source": [
    "model_fit(geo_data_0, X_train_0, y_train_0, X_test_0, y_test_0)\n",
    "print_metrics(geo_data_0, y_test_0, model_fit(geo_data_0, X_train_0, y_train_0, X_test_0, y_test_0))"
   ]
  },
  {
   "cell_type": "code",
   "execution_count": 19,
   "metadata": {},
   "outputs": [
    {
     "name": "stdout",
     "output_type": "stream",
     "text": [
      "Средний запас предсказанного сырья: 68.713\n",
      "Средний запас сырья: 68.825\n",
      "RMSE = 0.890\n"
     ]
    }
   ],
   "source": [
    "model_fit(geo_data_1, X_train_1, y_train_1, X_test_1, y_test_1)\n",
    "print_metrics(geo_data_1, y_test_1, model_fit(geo_data_1, X_train_1, y_train_1, X_test_1, y_test_1))"
   ]
  },
  {
   "cell_type": "code",
   "execution_count": 20,
   "metadata": {},
   "outputs": [
    {
     "name": "stdout",
     "output_type": "stream",
     "text": [
      "Средний запас предсказанного сырья: 94.771\n",
      "Средний запас сырья: 95.000\n",
      "RMSE = 40.146\n"
     ]
    }
   ],
   "source": [
    "model_fit(geo_data_2, X_train_2, y_train_2, X_test_2, y_test_2)\n",
    "print_metrics(geo_data_2, y_test_2, model_fit(geo_data_2, X_train_2, y_train_2, X_test_2, y_test_2))"
   ]
  },
  {
   "cell_type": "markdown",
   "metadata": {},
   "source": [
    "Лучше всего модель справилась со вторым регионом rmse равен 0.89"
   ]
  },
  {
   "cell_type": "markdown",
   "metadata": {},
   "source": [
    "## Подготовка к расчёту прибыли"
   ]
  },
  {
   "cell_type": "code",
   "execution_count": 21,
   "metadata": {},
   "outputs": [],
   "source": [
    "TOTAL_POINTS = 500 \n",
    "BEST_POINT_FOR_SELECT = 200\n",
    "BUDGET = 10_000_000_000\n",
    "PRICE_FOR_BARREL = 450\n",
    "INCOME_PER_PRODUCT = 450_000"
   ]
  },
  {
   "cell_type": "markdown",
   "metadata": {},
   "source": [
    "обозначены константы для расчетов"
   ]
  },
  {
   "cell_type": "code",
   "execution_count": 22,
   "metadata": {},
   "outputs": [
    {
     "name": "stdout",
     "output_type": "stream",
     "text": [
      "Объём сырья для безубыточной разработки новой скважины: 111.111\n"
     ]
    }
   ],
   "source": [
    "break_even_well_volume = BUDGET / (BEST_POINT_FOR_SELECT * INCOME_PER_PRODUCT)\n",
    "print(f'Объём сырья для безубыточной разработки новой скважины: {break_even_well_volume:.3f}')"
   ]
  },
  {
   "cell_type": "markdown",
   "metadata": {},
   "source": [
    "расчитан объем сырья для безубыточной разработки скважины он равен 111 тыс. баррелей"
   ]
  },
  {
   "cell_type": "code",
   "execution_count": 23,
   "metadata": {},
   "outputs": [],
   "source": [
    "def comparison(df, column, num_reg):\n",
    "    diff = df[column].mean() - 111.111\n",
    "    print(f'Средний запас в регионе {num_reg}: {df[column].mean():.3f}')\n",
    "    print(f'Разница среднего запаса в {num_reg} регионе с безубыточной разработкой скважины равна {diff:.3f}')"
   ]
  },
  {
   "cell_type": "code",
   "execution_count": 24,
   "metadata": {},
   "outputs": [
    {
     "name": "stdout",
     "output_type": "stream",
     "text": [
      "Средний запас в регионе 1: 92.500\n",
      "Разница среднего запаса в 1 регионе с безубыточной разработкой скважины равна -18.611\n"
     ]
    }
   ],
   "source": [
    "comparison(geo_data_0, 'product', 1)"
   ]
  },
  {
   "cell_type": "code",
   "execution_count": 25,
   "metadata": {},
   "outputs": [
    {
     "name": "stdout",
     "output_type": "stream",
     "text": [
      "Средний запас в регионе 2: 68.825\n",
      "Разница среднего запаса в 2 регионе с безубыточной разработкой скважины равна -42.286\n"
     ]
    }
   ],
   "source": [
    "comparison(geo_data_1, 'product', 2)"
   ]
  },
  {
   "cell_type": "code",
   "execution_count": 26,
   "metadata": {},
   "outputs": [
    {
     "name": "stdout",
     "output_type": "stream",
     "text": [
      "Средний запас в регионе 3: 95.000\n",
      "Разница среднего запаса в 3 регионе с безубыточной разработкой скважины равна -16.111\n"
     ]
    }
   ],
   "source": [
    "comparison(geo_data_2, 'product', 3)"
   ]
  },
  {
   "cell_type": "markdown",
   "metadata": {},
   "source": [
    "Выведен средние запасы в регионах и сравнение с безубыточной разработкой скважины, больше всего запасов в третьем регионе"
   ]
  },
  {
   "cell_type": "markdown",
   "metadata": {},
   "source": [
    "## Расчёт прибыли и рисков "
   ]
  },
  {
   "cell_type": "code",
   "execution_count": 27,
   "metadata": {},
   "outputs": [],
   "source": [
    "predictions_0 = model_fit(geo_data_0, X_train_0, y_train_0, X_test_0, y_test_0)\n",
    "predictions_1 = model_fit(geo_data_1, X_train_1, y_train_1, X_test_1, y_test_1)\n",
    "predictions_2 = model_fit(geo_data_2, X_train_2, y_train_2, X_test_2, y_test_2)"
   ]
  },
  {
   "cell_type": "code",
   "execution_count": 28,
   "metadata": {},
   "outputs": [],
   "source": [
    "def calculate_income(target, predict, income_per_product, budget):\n",
    "    target = pd.Series(target).reset_index(drop=True)\n",
    "    predict = pd.Series(predict).reset_index(drop=True)\n",
    "    sort_pred = predict.sort_values(ascending=False)\n",
    "    best_wells = target[sort_pred.index][:200]\n",
    "    total_income = income_per_product * best_wells.sum() - budget\n",
    "    return total_income.round(3)"
   ]
  },
  {
   "cell_type": "markdown",
   "metadata": {},
   "source": [
    "функция calculate_income расчитывает прибыль 200 лучишх скважин"
   ]
  },
  {
   "cell_type": "code",
   "execution_count": 29,
   "metadata": {},
   "outputs": [],
   "source": [
    "def print_income(income, num_reg):\n",
    "    print(f'Прибыль от 200 скважин {num_reg} региона с максимальным значением предсказания: {income} рублей')"
   ]
  },
  {
   "cell_type": "code",
   "execution_count": 30,
   "metadata": {},
   "outputs": [
    {
     "name": "stdout",
     "output_type": "stream",
     "text": [
      "Прибыль от 200 скважин первого региона с максимальным значением предсказания: 3359141114.462 рублей\n"
     ]
    }
   ],
   "source": [
    "print_income(calculate_income(y_test_0, predictions_0, INCOME_PER_PRODUCT, BUDGET), 'первого')"
   ]
  },
  {
   "cell_type": "code",
   "execution_count": 31,
   "metadata": {},
   "outputs": [
    {
     "name": "stdout",
     "output_type": "stream",
     "text": [
      "Прибыль от 200 скважин второго региона с максимальным значением предсказания: 2415086696.682 рублей\n"
     ]
    }
   ],
   "source": [
    "print_income(calculate_income(y_test_1, predictions_1, INCOME_PER_PRODUCT, BUDGET), 'второго')"
   ]
  },
  {
   "cell_type": "code",
   "execution_count": 32,
   "metadata": {},
   "outputs": [
    {
     "name": "stdout",
     "output_type": "stream",
     "text": [
      "Прибыль от 200 скважин третьего региона с максимальным значением предсказания: 2598571759.374 рублей\n"
     ]
    }
   ],
   "source": [
    "print_income(calculate_income(y_test_2, predictions_2, INCOME_PER_PRODUCT, BUDGET), 'третьего')"
   ]
  },
  {
   "cell_type": "markdown",
   "metadata": {},
   "source": [
    "прибыль от 200 лучших скважин в регионах:\n",
    "\n",
    "    Первый регион - 3.335 млрд. рублей\n",
    "    Второй регион - 2.415 млрд. рублей\n",
    "    Третий регион - 2.598 млрд. рублей"
   ]
  },
  {
   "cell_type": "code",
   "execution_count": 33,
   "metadata": {},
   "outputs": [],
   "source": [
    "def bootstrap(target, predict, best_point_for_select, income_per_product, budget):\n",
    "    state = RandomState(12345)\n",
    "    values = []\n",
    "    for i in range(1000):\n",
    "        target_subsample = target.reset_index(drop=True).sample(n=500,\n",
    "                                         replace=True,\n",
    "                                         random_state=state)\n",
    "        prob_subsample = predict[target_subsample.index]\n",
    "        values.append(calculate_income(target_subsample, \n",
    "                                       prob_subsample, \n",
    "                                       income_per_product,\n",
    "                                       budget))\n",
    "        \n",
    "    values = pd.Series(values)\n",
    "    lower = values.quantile(0.025)\n",
    "    upper = values.quantile(0.975)\n",
    "    mean = values.mean()\n",
    "    loss_risk = (len(values[values < 0])/len(values))*100\n",
    "    return lower, upper, mean, loss_risk"
   ]
  },
  {
   "cell_type": "markdown",
   "metadata": {},
   "source": [
    "функция применяет технику bootstrap с 1000 выборок и находит распределение прибыли"
   ]
  },
  {
   "cell_type": "code",
   "execution_count": 34,
   "metadata": {},
   "outputs": [],
   "source": [
    "lower_0, upper_0, mean_0, loss_risk_0 = bootstrap(y_test_0, \n",
    "                                                  predictions_0,\n",
    "                                                  BEST_POINT_FOR_SELECT,\n",
    "                                                  INCOME_PER_PRODUCT,\n",
    "                                                  BUDGET)\n",
    "lower_1, upper_1, mean_1, loss_risk_1 = bootstrap(y_test_1, \n",
    "                                                  predictions_1,\n",
    "                                                  BEST_POINT_FOR_SELECT,\n",
    "                                                  INCOME_PER_PRODUCT,\n",
    "                                                  BUDGET)\n",
    "lower_2, upper_2, mean_2, loss_risk_2 = bootstrap(y_test_2, \n",
    "                                                  predictions_2,\n",
    "                                                  BEST_POINT_FOR_SELECT,\n",
    "                                                  INCOME_PER_PRODUCT,\n",
    "                                                  BUDGET)"
   ]
  },
  {
   "cell_type": "code",
   "execution_count": 35,
   "metadata": {},
   "outputs": [
    {
     "name": "stdout",
     "output_type": "stream",
     "text": [
      "Средняя прибыль первого региона составляет 406278783.42441505 рублей\n",
      "Средняя прибыль второго региона составляет 432624131.81312895 рублей\n",
      "Средняя прибыль третьего региона составляет 377362192.42291796 рублей\n"
     ]
    }
   ],
   "source": [
    "print(f'Средняя прибыль первого региона составляет {mean_0} рублей')\n",
    "print(f'Средняя прибыль второго региона составляет {mean_1} рублей')\n",
    "print(f'Средняя прибыль третьего региона составляет {mean_2} рублей')"
   ]
  },
  {
   "cell_type": "code",
   "execution_count": 36,
   "metadata": {},
   "outputs": [
    {
     "name": "stdout",
     "output_type": "stream",
     "text": [
      "95% доверительный интервал средней прибыли первого региона: -117742136.495 911737050.752\n",
      "95% доверительный интервал средней прибыли второго региона: 16846174.932 815972526.285\n",
      "95% доверительный интервал средней прибыли третьего региона: -170780417.705 901772131.386\n"
     ]
    }
   ],
   "source": [
    "print(f'95% доверительный интервал средней прибыли первого региона: {round(lower_0, 3)} {round(upper_0, 3)}')\n",
    "print(f'95% доверительный интервал средней прибыли второго региона: {round(lower_1, 3)} {round(upper_1, 3)}')\n",
    "print(f'95% доверительный интервал средней прибыли третьего региона: {round(lower_2, 3)} {round(upper_2, 3)}')"
   ]
  },
  {
   "cell_type": "code",
   "execution_count": 37,
   "metadata": {},
   "outputs": [
    {
     "name": "stdout",
     "output_type": "stream",
     "text": [
      "Риск убытков для первого региона равен 6.7 %\n",
      "Риск убытков для второго региона равен 1.9 %\n",
      "Риск убытков для третьего региона равен 7.3999999999999995 %\n"
     ]
    }
   ],
   "source": [
    "print(f'Риск убытков для первого региона равен {loss_risk_0} %')\n",
    "print(f'Риск убытков для второго региона равен {loss_risk_1} %')\n",
    "print(f'Риск убытков для третьего региона равен {loss_risk_2} %')"
   ]
  },
  {
   "cell_type": "markdown",
   "metadata": {},
   "source": [
    "## Вывод"
   ]
  },
  {
   "cell_type": "markdown",
   "metadata": {},
   "source": [
    "    Во время проекта 'Выбор локации для скважины', данные были обработаны: пропуски не \n",
    "    найдены, дубликаты не обнаружены, типы данных соответствуют самим данным. \n",
    "\n",
    "    По итогам можно сделать следующие выводы:\n",
    "\n",
    "    -Данные были разделены на выборки, предсказания модели были сохранены\n",
    "    rmse трех регионов:\n",
    "        Первого - 37.357\n",
    "        Второго - 0.890\n",
    "        Третьего - 40.146\n",
    "        \n",
    "    -Значения для расчетов были сохранены в переменных константах и расчитан \n",
    "    объем для безубыточной разработки новой скважины - 111 тыс. баррелей\n",
    "    \n",
    "    -Написана функция для расчета прибыли по 200 лучшим скважинам и была \n",
    "    расчитана предсказана прибыль:\n",
    "        Первый регион - 3.335 млрд. рублей\n",
    "        Второй регион - 2.415 млрд. рублей\n",
    "        Третий регион - 2.598 млрд. рублей\n",
    "        \n",
    "    -Посчитаны риск убытков, средняя прибыль и доверительный интервал \n",
    "    для всех регионов:\n",
    "        Средняя прибыль:\n",
    "            Первого региона - 406 млн. рублей\n",
    "            Второго региона - 432 млн. рублей\n",
    "            Третьего региона - 377 млн. рублей\n",
    "        \n",
    "        Доверительный интервал:\n",
    "            Первого региона: -117742136.495 911737050.752\n",
    "            Второго региона: 16846174.932 815972526.285\n",
    "            Третьего региона: -170780417.705 901772131.386\n",
    "            \n",
    "        Риск убытков:\n",
    "            Первого региона - 6.7%\n",
    "            Второго региона - 1.9%\n",
    "            Третьего региона - 7.39%\n",
    "    \n",
    "    По этим данным, можно сделать вывод, что для разработки скважин больше всего подходит второй регион"
   ]
  }
 ],
 "metadata": {
  "ExecuteTimeLog": [
   {
    "duration": 276,
    "start_time": "2024-09-02T16:53:02.861Z"
   },
   {
    "duration": 11943,
    "start_time": "2024-09-02T16:53:15.674Z"
   },
   {
    "duration": 1483,
    "start_time": "2024-09-02T16:53:27.619Z"
   },
   {
    "duration": 92,
    "start_time": "2024-09-02T17:03:38.257Z"
   },
   {
    "duration": 851,
    "start_time": "2024-09-02T17:03:39.582Z"
   },
   {
    "duration": 14,
    "start_time": "2024-09-02T17:03:40.435Z"
   },
   {
    "duration": 11,
    "start_time": "2024-09-02T17:04:23.575Z"
   },
   {
    "duration": 10,
    "start_time": "2024-09-02T17:04:28.636Z"
   },
   {
    "duration": 30,
    "start_time": "2024-09-02T17:07:45.357Z"
   },
   {
    "duration": 30,
    "start_time": "2024-09-02T17:07:54.564Z"
   },
   {
    "duration": 29,
    "start_time": "2024-09-02T17:09:17.883Z"
   },
   {
    "duration": 29,
    "start_time": "2024-09-02T17:09:35.388Z"
   },
   {
    "duration": 87,
    "start_time": "2024-09-02T17:10:01.509Z"
   },
   {
    "duration": 22,
    "start_time": "2024-09-02T17:10:30.132Z"
   },
   {
    "duration": 114,
    "start_time": "2024-09-02T17:10:53.868Z"
   },
   {
    "duration": 158,
    "start_time": "2024-09-03T14:32:52.533Z"
   },
   {
    "duration": 8052,
    "start_time": "2024-09-03T14:35:03.018Z"
   },
   {
    "duration": 1557,
    "start_time": "2024-09-03T14:35:11.072Z"
   },
   {
    "duration": 368,
    "start_time": "2024-09-03T14:35:12.632Z"
   },
   {
    "duration": 16,
    "start_time": "2024-09-03T14:35:13.002Z"
   },
   {
    "duration": 16,
    "start_time": "2024-09-03T14:35:13.020Z"
   },
   {
    "duration": 15,
    "start_time": "2024-09-03T14:35:13.038Z"
   },
   {
    "duration": 52,
    "start_time": "2024-09-03T14:35:13.055Z"
   },
   {
    "duration": 107,
    "start_time": "2024-09-03T14:35:13.109Z"
   },
   {
    "duration": 24,
    "start_time": "2024-09-03T14:35:13.217Z"
   },
   {
    "duration": 231,
    "start_time": "2024-09-03T14:35:13.242Z"
   },
   {
    "duration": 14,
    "start_time": "2024-09-03T17:48:53.616Z"
   },
   {
    "duration": 7343,
    "start_time": "2024-09-03T17:50:18.515Z"
   },
   {
    "duration": 1381,
    "start_time": "2024-09-03T17:50:25.860Z"
   },
   {
    "duration": 331,
    "start_time": "2024-09-03T17:50:27.243Z"
   },
   {
    "duration": 14,
    "start_time": "2024-09-03T17:50:27.575Z"
   },
   {
    "duration": 21,
    "start_time": "2024-09-03T17:50:27.591Z"
   },
   {
    "duration": 11,
    "start_time": "2024-09-03T17:50:27.613Z"
   },
   {
    "duration": 29,
    "start_time": "2024-09-03T17:50:27.625Z"
   },
   {
    "duration": 101,
    "start_time": "2024-09-03T17:50:27.655Z"
   },
   {
    "duration": 18,
    "start_time": "2024-09-03T17:50:27.758Z"
   },
   {
    "duration": 113,
    "start_time": "2024-09-03T17:50:27.777Z"
   },
   {
    "duration": 23,
    "start_time": "2024-09-03T17:50:27.891Z"
   },
   {
    "duration": 43,
    "start_time": "2024-09-03T17:50:27.915Z"
   },
   {
    "duration": 125,
    "start_time": "2024-09-03T17:50:27.959Z"
   },
   {
    "duration": 0,
    "start_time": "2024-09-03T17:50:28.086Z"
   },
   {
    "duration": 0,
    "start_time": "2024-09-03T17:50:28.087Z"
   },
   {
    "duration": 0,
    "start_time": "2024-09-03T17:50:28.088Z"
   },
   {
    "duration": 0,
    "start_time": "2024-09-03T17:50:28.089Z"
   },
   {
    "duration": 0,
    "start_time": "2024-09-03T17:50:28.090Z"
   },
   {
    "duration": 0,
    "start_time": "2024-09-03T17:50:28.091Z"
   },
   {
    "duration": 0,
    "start_time": "2024-09-03T17:50:28.092Z"
   },
   {
    "duration": 0,
    "start_time": "2024-09-03T17:50:28.093Z"
   },
   {
    "duration": 0,
    "start_time": "2024-09-03T17:50:28.093Z"
   },
   {
    "duration": 0,
    "start_time": "2024-09-03T17:50:28.106Z"
   },
   {
    "duration": 7338,
    "start_time": "2024-09-03T17:50:44.658Z"
   },
   {
    "duration": 1456,
    "start_time": "2024-09-03T17:50:51.998Z"
   },
   {
    "duration": 342,
    "start_time": "2024-09-03T17:50:53.455Z"
   },
   {
    "duration": 13,
    "start_time": "2024-09-03T17:50:53.799Z"
   },
   {
    "duration": 187,
    "start_time": "2024-09-03T17:50:53.815Z"
   },
   {
    "duration": 102,
    "start_time": "2024-09-03T17:50:54.003Z"
   },
   {
    "duration": 36,
    "start_time": "2024-09-03T17:50:54.106Z"
   },
   {
    "duration": 86,
    "start_time": "2024-09-03T17:50:54.143Z"
   },
   {
    "duration": 18,
    "start_time": "2024-09-03T17:50:54.230Z"
   },
   {
    "duration": 117,
    "start_time": "2024-09-03T17:50:54.250Z"
   },
   {
    "duration": 13,
    "start_time": "2024-09-03T17:50:54.368Z"
   },
   {
    "duration": 13,
    "start_time": "2024-09-03T17:50:54.382Z"
   },
   {
    "duration": 125,
    "start_time": "2024-09-03T17:50:54.396Z"
   },
   {
    "duration": 0,
    "start_time": "2024-09-03T17:50:54.523Z"
   },
   {
    "duration": 0,
    "start_time": "2024-09-03T17:50:54.524Z"
   },
   {
    "duration": 0,
    "start_time": "2024-09-03T17:50:54.524Z"
   },
   {
    "duration": 0,
    "start_time": "2024-09-03T17:50:54.525Z"
   },
   {
    "duration": 0,
    "start_time": "2024-09-03T17:50:54.526Z"
   },
   {
    "duration": 0,
    "start_time": "2024-09-03T17:50:54.527Z"
   },
   {
    "duration": 0,
    "start_time": "2024-09-03T17:50:54.527Z"
   },
   {
    "duration": 0,
    "start_time": "2024-09-03T17:50:54.528Z"
   },
   {
    "duration": 0,
    "start_time": "2024-09-03T17:50:54.529Z"
   },
   {
    "duration": 0,
    "start_time": "2024-09-03T17:50:54.530Z"
   },
   {
    "duration": 2,
    "start_time": "2024-09-03T17:51:33.330Z"
   },
   {
    "duration": 3,
    "start_time": "2024-09-03T17:51:37.576Z"
   },
   {
    "duration": 29,
    "start_time": "2024-09-03T17:51:37.810Z"
   },
   {
    "duration": 96,
    "start_time": "2024-09-03T17:51:38.055Z"
   },
   {
    "duration": 8,
    "start_time": "2024-09-03T17:51:38.256Z"
   },
   {
    "duration": 8,
    "start_time": "2024-09-03T17:51:38.458Z"
   },
   {
    "duration": 8,
    "start_time": "2024-09-03T17:51:38.668Z"
   },
   {
    "duration": 2,
    "start_time": "2024-09-03T17:51:39.074Z"
   },
   {
    "duration": 4,
    "start_time": "2024-09-03T17:51:39.281Z"
   },
   {
    "duration": 3,
    "start_time": "2024-09-03T17:52:08.624Z"
   },
   {
    "duration": 22,
    "start_time": "2024-09-03T17:52:10.076Z"
   },
   {
    "duration": 19,
    "start_time": "2024-09-03T17:52:10.917Z"
   },
   {
    "duration": 22,
    "start_time": "2024-09-03T17:52:11.108Z"
   },
   {
    "duration": 2,
    "start_time": "2024-09-03T17:52:11.434Z"
   },
   {
    "duration": 3,
    "start_time": "2024-09-03T17:52:11.850Z"
   },
   {
    "duration": 2,
    "start_time": "2024-09-03T17:52:12.045Z"
   },
   {
    "duration": 4,
    "start_time": "2024-09-03T17:52:12.227Z"
   },
   {
    "duration": 4,
    "start_time": "2024-09-03T17:52:12.418Z"
   },
   {
    "duration": 4,
    "start_time": "2024-09-03T17:52:12.602Z"
   },
   {
    "duration": 281,
    "start_time": "2024-09-03T18:06:12.339Z"
   },
   {
    "duration": 7387,
    "start_time": "2024-09-03T18:07:21.591Z"
   },
   {
    "duration": 1476,
    "start_time": "2024-09-03T18:07:28.980Z"
   },
   {
    "duration": 366,
    "start_time": "2024-09-03T18:07:30.457Z"
   },
   {
    "duration": 3,
    "start_time": "2024-09-03T18:07:30.824Z"
   },
   {
    "duration": 37,
    "start_time": "2024-09-03T18:07:30.829Z"
   },
   {
    "duration": 39,
    "start_time": "2024-09-03T18:07:30.868Z"
   },
   {
    "duration": 15,
    "start_time": "2024-09-03T18:07:30.908Z"
   },
   {
    "duration": 33,
    "start_time": "2024-09-03T18:07:30.925Z"
   },
   {
    "duration": 90,
    "start_time": "2024-09-03T18:07:30.959Z"
   },
   {
    "duration": 18,
    "start_time": "2024-09-03T18:07:31.051Z"
   },
   {
    "duration": 122,
    "start_time": "2024-09-03T18:07:31.070Z"
   },
   {
    "duration": 19,
    "start_time": "2024-09-03T18:07:31.194Z"
   },
   {
    "duration": 7,
    "start_time": "2024-09-03T18:07:31.214Z"
   },
   {
    "duration": 32,
    "start_time": "2024-09-03T18:07:31.223Z"
   },
   {
    "duration": 4,
    "start_time": "2024-09-03T18:07:31.256Z"
   },
   {
    "duration": 49,
    "start_time": "2024-09-03T18:07:31.261Z"
   },
   {
    "duration": 103,
    "start_time": "2024-09-03T18:07:31.311Z"
   },
   {
    "duration": 197,
    "start_time": "2024-09-03T18:07:31.416Z"
   },
   {
    "duration": 90,
    "start_time": "2024-09-03T18:07:31.617Z"
   },
   {
    "duration": 103,
    "start_time": "2024-09-03T18:07:31.712Z"
   },
   {
    "duration": 8,
    "start_time": "2024-09-03T18:07:31.817Z"
   },
   {
    "duration": 133,
    "start_time": "2024-09-03T18:07:31.826Z"
   },
   {
    "duration": 41,
    "start_time": "2024-09-03T18:07:31.961Z"
   },
   {
    "duration": 12,
    "start_time": "2024-09-03T18:07:32.003Z"
   },
   {
    "duration": 399,
    "start_time": "2024-09-03T18:07:32.017Z"
   },
   {
    "duration": 147,
    "start_time": "2024-09-05T07:07:59.507Z"
   },
   {
    "duration": 7841,
    "start_time": "2024-09-05T07:08:09.220Z"
   },
   {
    "duration": 1506,
    "start_time": "2024-09-05T07:08:17.063Z"
   },
   {
    "duration": 340,
    "start_time": "2024-09-05T07:08:18.570Z"
   },
   {
    "duration": 2,
    "start_time": "2024-09-05T07:08:18.912Z"
   },
   {
    "duration": 51,
    "start_time": "2024-09-05T07:08:18.916Z"
   },
   {
    "duration": 41,
    "start_time": "2024-09-05T07:08:18.968Z"
   },
   {
    "duration": 23,
    "start_time": "2024-09-05T07:08:19.010Z"
   },
   {
    "duration": 49,
    "start_time": "2024-09-05T07:08:19.035Z"
   },
   {
    "duration": 88,
    "start_time": "2024-09-05T07:08:19.085Z"
   },
   {
    "duration": 34,
    "start_time": "2024-09-05T07:08:19.175Z"
   },
   {
    "duration": 176,
    "start_time": "2024-09-05T07:08:19.210Z"
   },
   {
    "duration": 20,
    "start_time": "2024-09-05T07:08:19.388Z"
   },
   {
    "duration": 16,
    "start_time": "2024-09-05T07:08:19.409Z"
   },
   {
    "duration": 40,
    "start_time": "2024-09-05T07:08:19.426Z"
   },
   {
    "duration": 3,
    "start_time": "2024-09-05T07:08:19.468Z"
   },
   {
    "duration": 59,
    "start_time": "2024-09-05T07:08:19.472Z"
   },
   {
    "duration": 177,
    "start_time": "2024-09-05T07:08:19.533Z"
   },
   {
    "duration": 196,
    "start_time": "2024-09-05T07:08:19.712Z"
   },
   {
    "duration": 3,
    "start_time": "2024-09-05T07:08:19.909Z"
   },
   {
    "duration": 95,
    "start_time": "2024-09-05T07:08:19.914Z"
   },
   {
    "duration": 13,
    "start_time": "2024-09-05T07:08:20.010Z"
   },
   {
    "duration": 38,
    "start_time": "2024-09-05T07:08:20.024Z"
   },
   {
    "duration": 31,
    "start_time": "2024-09-05T07:08:20.064Z"
   },
   {
    "duration": 6,
    "start_time": "2024-09-05T07:08:20.097Z"
   },
   {
    "duration": 313,
    "start_time": "2024-09-05T07:08:20.105Z"
   },
   {
    "duration": 302,
    "start_time": "2024-09-05T07:08:20.420Z"
   },
   {
    "duration": 4,
    "start_time": "2024-09-05T07:10:25.210Z"
   },
   {
    "duration": 7987,
    "start_time": "2024-09-05T07:10:48.127Z"
   },
   {
    "duration": 1559,
    "start_time": "2024-09-05T07:10:56.116Z"
   },
   {
    "duration": 359,
    "start_time": "2024-09-05T07:10:57.676Z"
   },
   {
    "duration": 3,
    "start_time": "2024-09-05T07:10:58.037Z"
   },
   {
    "duration": 46,
    "start_time": "2024-09-05T07:10:58.041Z"
   },
   {
    "duration": 21,
    "start_time": "2024-09-05T07:10:58.089Z"
   },
   {
    "duration": 72,
    "start_time": "2024-09-05T07:10:58.112Z"
   },
   {
    "duration": 36,
    "start_time": "2024-09-05T07:10:58.186Z"
   },
   {
    "duration": 120,
    "start_time": "2024-09-05T07:10:58.224Z"
   },
   {
    "duration": 26,
    "start_time": "2024-09-05T07:10:58.348Z"
   },
   {
    "duration": 146,
    "start_time": "2024-09-05T07:10:58.375Z"
   },
   {
    "duration": 14,
    "start_time": "2024-09-05T07:10:58.523Z"
   },
   {
    "duration": 13,
    "start_time": "2024-09-05T07:10:58.539Z"
   },
   {
    "duration": 40,
    "start_time": "2024-09-05T07:10:58.553Z"
   },
   {
    "duration": 3,
    "start_time": "2024-09-05T07:10:58.594Z"
   },
   {
    "duration": 32,
    "start_time": "2024-09-05T07:10:58.599Z"
   },
   {
    "duration": 111,
    "start_time": "2024-09-05T07:10:58.707Z"
   },
   {
    "duration": 191,
    "start_time": "2024-09-05T07:10:58.820Z"
   },
   {
    "duration": 3,
    "start_time": "2024-09-05T07:10:59.013Z"
   },
   {
    "duration": 9,
    "start_time": "2024-09-05T07:10:59.108Z"
   },
   {
    "duration": 88,
    "start_time": "2024-09-05T07:10:59.119Z"
   },
   {
    "duration": 4,
    "start_time": "2024-09-05T07:10:59.208Z"
   },
   {
    "duration": 118,
    "start_time": "2024-09-05T07:10:59.213Z"
   },
   {
    "duration": 129,
    "start_time": "2024-09-05T07:10:59.333Z"
   },
   {
    "duration": 354,
    "start_time": "2024-09-05T07:10:59.464Z"
   },
   {
    "duration": 320,
    "start_time": "2024-09-05T07:10:59.820Z"
   },
   {
    "duration": 10,
    "start_time": "2024-09-05T07:11:11.649Z"
   },
   {
    "duration": 13,
    "start_time": "2024-09-05T07:11:44.109Z"
   },
   {
    "duration": 10,
    "start_time": "2024-09-05T07:11:49.554Z"
   },
   {
    "duration": 28,
    "start_time": "2024-09-05T07:12:23.228Z"
   },
   {
    "duration": 3,
    "start_time": "2024-09-05T07:20:50.571Z"
   },
   {
    "duration": 3,
    "start_time": "2024-09-05T07:23:32.560Z"
   },
   {
    "duration": 23,
    "start_time": "2024-09-05T07:23:46.631Z"
   },
   {
    "duration": 8120,
    "start_time": "2024-09-05T07:23:55.071Z"
   },
   {
    "duration": 1574,
    "start_time": "2024-09-05T07:24:03.193Z"
   },
   {
    "duration": 354,
    "start_time": "2024-09-05T07:24:04.768Z"
   },
   {
    "duration": 2,
    "start_time": "2024-09-05T07:24:05.124Z"
   },
   {
    "duration": 19,
    "start_time": "2024-09-05T07:24:05.127Z"
   },
   {
    "duration": 12,
    "start_time": "2024-09-05T07:24:05.147Z"
   },
   {
    "duration": 37,
    "start_time": "2024-09-05T07:24:05.160Z"
   },
   {
    "duration": 48,
    "start_time": "2024-09-05T07:24:05.198Z"
   },
   {
    "duration": 102,
    "start_time": "2024-09-05T07:24:05.247Z"
   },
   {
    "duration": 20,
    "start_time": "2024-09-05T07:24:05.352Z"
   },
   {
    "duration": 141,
    "start_time": "2024-09-05T07:24:05.373Z"
   },
   {
    "duration": 15,
    "start_time": "2024-09-05T07:24:05.515Z"
   },
   {
    "duration": 20,
    "start_time": "2024-09-05T07:24:05.531Z"
   },
   {
    "duration": 68,
    "start_time": "2024-09-05T07:24:05.553Z"
   },
   {
    "duration": 37,
    "start_time": "2024-09-05T07:24:05.622Z"
   },
   {
    "duration": 30,
    "start_time": "2024-09-05T07:24:05.661Z"
   },
   {
    "duration": 50,
    "start_time": "2024-09-05T07:24:05.693Z"
   },
   {
    "duration": 82,
    "start_time": "2024-09-05T07:24:05.745Z"
   },
   {
    "duration": 186,
    "start_time": "2024-09-05T07:24:05.829Z"
   },
   {
    "duration": 201,
    "start_time": "2024-09-05T07:24:06.017Z"
   },
   {
    "duration": 92,
    "start_time": "2024-09-05T07:24:06.224Z"
   },
   {
    "duration": 3,
    "start_time": "2024-09-05T07:24:06.408Z"
   },
   {
    "duration": 20,
    "start_time": "2024-09-05T07:24:06.412Z"
   },
   {
    "duration": 6,
    "start_time": "2024-09-05T07:24:06.434Z"
   },
   {
    "duration": 3,
    "start_time": "2024-09-05T07:24:06.441Z"
   },
   {
    "duration": 4,
    "start_time": "2024-09-05T07:24:06.445Z"
   },
   {
    "duration": 268,
    "start_time": "2024-09-05T07:24:06.450Z"
   },
   {
    "duration": 113,
    "start_time": "2024-09-05T07:24:06.809Z"
   },
   {
    "duration": 69,
    "start_time": "2024-09-05T07:27:45.311Z"
   },
   {
    "duration": 461,
    "start_time": "2024-09-05T07:27:52.163Z"
   },
   {
    "duration": 7925,
    "start_time": "2024-09-05T07:28:13.071Z"
   },
   {
    "duration": 1571,
    "start_time": "2024-09-05T07:28:20.998Z"
   },
   {
    "duration": 367,
    "start_time": "2024-09-05T07:28:22.571Z"
   },
   {
    "duration": 2,
    "start_time": "2024-09-05T07:28:22.940Z"
   },
   {
    "duration": 60,
    "start_time": "2024-09-05T07:28:22.944Z"
   },
   {
    "duration": 10,
    "start_time": "2024-09-05T07:28:23.006Z"
   },
   {
    "duration": 18,
    "start_time": "2024-09-05T07:28:23.018Z"
   },
   {
    "duration": 31,
    "start_time": "2024-09-05T07:28:23.037Z"
   },
   {
    "duration": 113,
    "start_time": "2024-09-05T07:28:23.070Z"
   },
   {
    "duration": 32,
    "start_time": "2024-09-05T07:28:23.186Z"
   },
   {
    "duration": 134,
    "start_time": "2024-09-05T07:28:23.219Z"
   },
   {
    "duration": 14,
    "start_time": "2024-09-05T07:28:23.355Z"
   },
   {
    "duration": 23,
    "start_time": "2024-09-05T07:28:23.371Z"
   },
   {
    "duration": 40,
    "start_time": "2024-09-05T07:28:23.395Z"
   },
   {
    "duration": 3,
    "start_time": "2024-09-05T07:28:23.437Z"
   },
   {
    "duration": 6,
    "start_time": "2024-09-05T07:28:23.441Z"
   },
   {
    "duration": 29,
    "start_time": "2024-09-05T07:28:23.448Z"
   },
   {
    "duration": 134,
    "start_time": "2024-09-05T07:28:23.479Z"
   },
   {
    "duration": 196,
    "start_time": "2024-09-05T07:28:23.614Z"
   },
   {
    "duration": 200,
    "start_time": "2024-09-05T07:28:23.813Z"
   },
   {
    "duration": 91,
    "start_time": "2024-09-05T07:28:24.017Z"
   },
   {
    "duration": 104,
    "start_time": "2024-09-05T07:28:24.110Z"
   },
   {
    "duration": 8,
    "start_time": "2024-09-05T07:28:24.215Z"
   },
   {
    "duration": 7,
    "start_time": "2024-09-05T07:28:24.224Z"
   },
   {
    "duration": 3,
    "start_time": "2024-09-05T07:28:24.233Z"
   },
   {
    "duration": 41,
    "start_time": "2024-09-05T07:28:24.238Z"
   },
   {
    "duration": 232,
    "start_time": "2024-09-05T07:28:24.281Z"
   },
   {
    "duration": 199,
    "start_time": "2024-09-05T07:28:24.517Z"
   },
   {
    "duration": 47,
    "start_time": "2024-09-05T07:32:18.270Z"
   },
   {
    "duration": 84,
    "start_time": "2024-09-05T07:32:18.632Z"
   },
   {
    "duration": 7893,
    "start_time": "2024-09-05T07:32:51.033Z"
   },
   {
    "duration": 1595,
    "start_time": "2024-09-05T07:32:58.928Z"
   },
   {
    "duration": 356,
    "start_time": "2024-09-05T07:33:00.525Z"
   },
   {
    "duration": 2,
    "start_time": "2024-09-05T07:33:00.882Z"
   },
   {
    "duration": 100,
    "start_time": "2024-09-05T07:33:00.886Z"
   },
   {
    "duration": 14,
    "start_time": "2024-09-05T07:33:00.987Z"
   },
   {
    "duration": 14,
    "start_time": "2024-09-05T07:33:01.002Z"
   },
   {
    "duration": 40,
    "start_time": "2024-09-05T07:33:01.017Z"
   },
   {
    "duration": 112,
    "start_time": "2024-09-05T07:33:01.058Z"
   },
   {
    "duration": 44,
    "start_time": "2024-09-05T07:33:01.172Z"
   },
   {
    "duration": 139,
    "start_time": "2024-09-05T07:33:01.218Z"
   },
   {
    "duration": 16,
    "start_time": "2024-09-05T07:33:01.359Z"
   },
   {
    "duration": 43,
    "start_time": "2024-09-05T07:33:01.376Z"
   },
   {
    "duration": 45,
    "start_time": "2024-09-05T07:33:01.422Z"
   },
   {
    "duration": 2,
    "start_time": "2024-09-05T07:33:01.469Z"
   },
   {
    "duration": 19,
    "start_time": "2024-09-05T07:33:01.473Z"
   },
   {
    "duration": 216,
    "start_time": "2024-09-05T07:33:01.493Z"
   },
   {
    "duration": 298,
    "start_time": "2024-09-05T07:33:01.712Z"
   },
   {
    "duration": 298,
    "start_time": "2024-09-05T07:33:02.012Z"
   },
   {
    "duration": 3,
    "start_time": "2024-09-05T07:33:02.312Z"
   },
   {
    "duration": 202,
    "start_time": "2024-09-05T07:33:02.317Z"
   },
   {
    "duration": 15,
    "start_time": "2024-09-05T07:33:02.520Z"
   },
   {
    "duration": 10,
    "start_time": "2024-09-05T07:33:02.537Z"
   },
   {
    "duration": 40,
    "start_time": "2024-09-05T07:33:02.549Z"
   },
   {
    "duration": 48,
    "start_time": "2024-09-05T07:33:02.591Z"
   },
   {
    "duration": 366,
    "start_time": "2024-09-05T07:33:02.641Z"
   },
   {
    "duration": 2,
    "start_time": "2024-09-05T07:38:21.805Z"
   },
   {
    "duration": 3,
    "start_time": "2024-09-05T07:38:21.962Z"
   },
   {
    "duration": 3,
    "start_time": "2024-09-05T07:38:22.093Z"
   },
   {
    "duration": 4,
    "start_time": "2024-09-05T07:38:22.252Z"
   },
   {
    "duration": 3,
    "start_time": "2024-09-05T07:38:22.392Z"
   },
   {
    "duration": 5,
    "start_time": "2024-09-05T07:38:22.573Z"
   },
   {
    "duration": 304,
    "start_time": "2024-09-05T07:38:22.713Z"
   },
   {
    "duration": 274,
    "start_time": "2024-09-05T07:38:58.432Z"
   },
   {
    "duration": 3,
    "start_time": "2024-09-05T07:41:53.015Z"
   },
   {
    "duration": 2,
    "start_time": "2024-09-05T07:41:53.633Z"
   },
   {
    "duration": 3,
    "start_time": "2024-09-05T07:41:53.820Z"
   },
   {
    "duration": 3,
    "start_time": "2024-09-05T07:41:54.012Z"
   },
   {
    "duration": 3,
    "start_time": "2024-09-05T07:41:54.313Z"
   },
   {
    "duration": 257,
    "start_time": "2024-09-05T07:41:54.961Z"
   },
   {
    "duration": 98,
    "start_time": "2024-09-05T07:41:55.310Z"
   },
   {
    "duration": 71,
    "start_time": "2024-09-05T07:42:05.481Z"
   },
   {
    "duration": 3,
    "start_time": "2024-09-05T07:42:10.473Z"
   },
   {
    "duration": 2644,
    "start_time": "2024-09-05T08:32:25.113Z"
   },
   {
    "duration": 831,
    "start_time": "2024-09-05T08:32:27.759Z"
   },
   {
    "duration": 362,
    "start_time": "2024-09-05T08:32:28.592Z"
   },
   {
    "duration": 3,
    "start_time": "2024-09-05T08:32:28.956Z"
   },
   {
    "duration": 212,
    "start_time": "2024-09-05T08:32:28.960Z"
   },
   {
    "duration": 11,
    "start_time": "2024-09-05T08:32:29.173Z"
   },
   {
    "duration": 12,
    "start_time": "2024-09-05T08:32:29.186Z"
   },
   {
    "duration": 35,
    "start_time": "2024-09-05T08:32:29.200Z"
   },
   {
    "duration": 108,
    "start_time": "2024-09-05T08:32:29.236Z"
   },
   {
    "duration": 22,
    "start_time": "2024-09-05T08:32:29.346Z"
   },
   {
    "duration": 166,
    "start_time": "2024-09-05T08:32:29.370Z"
   },
   {
    "duration": 17,
    "start_time": "2024-09-05T08:32:29.538Z"
   },
   {
    "duration": 14,
    "start_time": "2024-09-05T08:32:29.557Z"
   },
   {
    "duration": 46,
    "start_time": "2024-09-05T08:32:29.573Z"
   },
   {
    "duration": 4,
    "start_time": "2024-09-05T08:32:29.620Z"
   },
   {
    "duration": 63,
    "start_time": "2024-09-05T08:32:29.626Z"
   },
   {
    "duration": 224,
    "start_time": "2024-09-05T08:32:29.690Z"
   },
   {
    "duration": 298,
    "start_time": "2024-09-05T08:32:29.916Z"
   },
   {
    "duration": 295,
    "start_time": "2024-09-05T08:32:30.215Z"
   },
   {
    "duration": 98,
    "start_time": "2024-09-05T08:32:30.511Z"
   },
   {
    "duration": 97,
    "start_time": "2024-09-05T08:32:30.611Z"
   },
   {
    "duration": 8,
    "start_time": "2024-09-05T08:32:30.710Z"
   },
   {
    "duration": 12,
    "start_time": "2024-09-05T08:32:30.719Z"
   },
   {
    "duration": 9,
    "start_time": "2024-09-05T08:32:30.733Z"
   },
   {
    "duration": 3,
    "start_time": "2024-09-05T08:32:30.744Z"
   },
   {
    "duration": 358,
    "start_time": "2024-09-05T08:32:30.748Z"
   },
   {
    "duration": 131,
    "start_time": "2024-09-05T08:32:31.108Z"
   },
   {
    "duration": 107,
    "start_time": "2024-09-05T08:37:32.580Z"
   },
   {
    "duration": 4,
    "start_time": "2024-09-05T08:37:39.366Z"
   },
   {
    "duration": 3,
    "start_time": "2024-09-05T08:40:01.018Z"
   },
   {
    "duration": 10,
    "start_time": "2024-09-05T08:40:27.677Z"
   },
   {
    "duration": 2,
    "start_time": "2024-09-05T08:50:00.004Z"
   },
   {
    "duration": 4,
    "start_time": "2024-09-05T08:50:00.364Z"
   },
   {
    "duration": 2,
    "start_time": "2024-09-05T08:50:16.164Z"
   },
   {
    "duration": 3,
    "start_time": "2024-09-05T08:50:16.371Z"
   },
   {
    "duration": 2,
    "start_time": "2024-09-05T08:51:58.364Z"
   },
   {
    "duration": 3,
    "start_time": "2024-09-05T08:51:58.600Z"
   },
   {
    "duration": 2,
    "start_time": "2024-09-05T08:52:17.594Z"
   },
   {
    "duration": 3,
    "start_time": "2024-09-05T08:52:17.803Z"
   },
   {
    "duration": 2,
    "start_time": "2024-09-05T08:52:30.409Z"
   },
   {
    "duration": 10,
    "start_time": "2024-09-05T08:52:30.696Z"
   },
   {
    "duration": 3,
    "start_time": "2024-09-05T08:52:39.950Z"
   },
   {
    "duration": 9,
    "start_time": "2024-09-05T08:52:40.971Z"
   },
   {
    "duration": 2,
    "start_time": "2024-09-05T08:52:45.096Z"
   },
   {
    "duration": 10,
    "start_time": "2024-09-05T08:52:45.365Z"
   },
   {
    "duration": 4,
    "start_time": "2024-09-05T08:53:48.330Z"
   },
   {
    "duration": 23,
    "start_time": "2024-09-05T08:53:48.582Z"
   },
   {
    "duration": 69,
    "start_time": "2024-09-05T08:55:25.779Z"
   },
   {
    "duration": 15,
    "start_time": "2024-09-05T08:55:26.123Z"
   },
   {
    "duration": 2614,
    "start_time": "2024-09-05T08:58:34.887Z"
   },
   {
    "duration": 881,
    "start_time": "2024-09-05T08:58:37.503Z"
   },
   {
    "duration": 3,
    "start_time": "2024-09-05T08:58:38.385Z"
   },
   {
    "duration": 372,
    "start_time": "2024-09-05T08:58:38.390Z"
   },
   {
    "duration": 3,
    "start_time": "2024-09-05T08:58:38.763Z"
   },
   {
    "duration": 44,
    "start_time": "2024-09-05T08:58:38.767Z"
   },
   {
    "duration": 31,
    "start_time": "2024-09-05T08:58:38.812Z"
   },
   {
    "duration": 23,
    "start_time": "2024-09-05T08:58:38.844Z"
   },
   {
    "duration": 44,
    "start_time": "2024-09-05T08:58:38.868Z"
   },
   {
    "duration": 97,
    "start_time": "2024-09-05T08:58:38.914Z"
   },
   {
    "duration": 21,
    "start_time": "2024-09-05T08:58:39.012Z"
   },
   {
    "duration": 136,
    "start_time": "2024-09-05T08:58:39.034Z"
   },
   {
    "duration": 16,
    "start_time": "2024-09-05T08:58:39.171Z"
   },
   {
    "duration": 101,
    "start_time": "2024-09-05T08:58:39.189Z"
   },
   {
    "duration": 35,
    "start_time": "2024-09-05T08:58:39.291Z"
   },
   {
    "duration": 3,
    "start_time": "2024-09-05T08:58:39.328Z"
   },
   {
    "duration": 6,
    "start_time": "2024-09-05T08:58:39.332Z"
   },
   {
    "duration": 171,
    "start_time": "2024-09-05T08:58:39.339Z"
   },
   {
    "duration": 396,
    "start_time": "2024-09-05T08:58:39.511Z"
   },
   {
    "duration": 107,
    "start_time": "2024-09-05T08:58:39.908Z"
   },
   {
    "duration": 3,
    "start_time": "2024-09-05T08:58:40.017Z"
   },
   {
    "duration": 92,
    "start_time": "2024-09-05T08:58:40.115Z"
   },
   {
    "duration": 21,
    "start_time": "2024-09-05T08:58:40.209Z"
   },
   {
    "duration": 8,
    "start_time": "2024-09-05T08:58:40.231Z"
   },
   {
    "duration": 6,
    "start_time": "2024-09-05T08:58:40.240Z"
   },
   {
    "duration": 4,
    "start_time": "2024-09-05T08:58:40.248Z"
   },
   {
    "duration": 260,
    "start_time": "2024-09-05T08:58:40.253Z"
   },
   {
    "duration": 97,
    "start_time": "2024-09-05T08:58:40.516Z"
   },
   {
    "duration": 95,
    "start_time": "2024-09-05T08:58:40.617Z"
   },
   {
    "duration": 0,
    "start_time": "2024-09-05T08:58:40.713Z"
   },
   {
    "duration": 2,
    "start_time": "2024-09-05T08:59:18.581Z"
   },
   {
    "duration": 22,
    "start_time": "2024-09-05T08:59:18.605Z"
   },
   {
    "duration": 74,
    "start_time": "2024-09-05T08:59:39.955Z"
   },
   {
    "duration": 2,
    "start_time": "2024-09-05T09:00:05.385Z"
   },
   {
    "duration": 22,
    "start_time": "2024-09-05T09:00:07.370Z"
   },
   {
    "duration": 3,
    "start_time": "2024-09-05T09:00:47.845Z"
   },
   {
    "duration": 22,
    "start_time": "2024-09-05T09:00:48.146Z"
   },
   {
    "duration": 90,
    "start_time": "2024-09-05T09:03:00.452Z"
   },
   {
    "duration": 70,
    "start_time": "2024-09-05T09:03:14.050Z"
   },
   {
    "duration": 26,
    "start_time": "2024-09-05T09:03:18.193Z"
   },
   {
    "duration": 4,
    "start_time": "2024-09-05T09:23:46.346Z"
   },
   {
    "duration": 29,
    "start_time": "2024-09-05T09:24:32.075Z"
   },
   {
    "duration": 3,
    "start_time": "2024-09-05T09:24:52.425Z"
   },
   {
    "duration": 12,
    "start_time": "2024-09-05T09:24:55.084Z"
   },
   {
    "duration": 4,
    "start_time": "2024-09-05T09:25:41.386Z"
   },
   {
    "duration": 16,
    "start_time": "2024-09-05T09:25:41.945Z"
   },
   {
    "duration": 3,
    "start_time": "2024-09-05T09:26:55.533Z"
   },
   {
    "duration": 11,
    "start_time": "2024-09-05T09:26:55.775Z"
   },
   {
    "duration": 3,
    "start_time": "2024-09-05T09:27:34.326Z"
   },
   {
    "duration": 4,
    "start_time": "2024-09-05T09:27:34.994Z"
   },
   {
    "duration": 3,
    "start_time": "2024-09-05T09:27:48.646Z"
   },
   {
    "duration": 5,
    "start_time": "2024-09-05T09:27:49.065Z"
   },
   {
    "duration": 3,
    "start_time": "2024-09-05T09:29:33.717Z"
   },
   {
    "duration": 15,
    "start_time": "2024-09-05T09:29:33.994Z"
   },
   {
    "duration": 65,
    "start_time": "2024-09-05T09:29:41.273Z"
   },
   {
    "duration": 3,
    "start_time": "2024-09-05T09:29:44.786Z"
   },
   {
    "duration": 5,
    "start_time": "2024-09-05T09:29:45.305Z"
   },
   {
    "duration": 3,
    "start_time": "2024-09-05T09:30:01.261Z"
   },
   {
    "duration": 5,
    "start_time": "2024-09-05T09:30:01.445Z"
   },
   {
    "duration": 5,
    "start_time": "2024-09-05T09:35:15.489Z"
   },
   {
    "duration": 3,
    "start_time": "2024-09-05T09:40:51.540Z"
   },
   {
    "duration": 5,
    "start_time": "2024-09-05T09:40:51.817Z"
   },
   {
    "duration": 5,
    "start_time": "2024-09-05T09:40:52.238Z"
   },
   {
    "duration": 6,
    "start_time": "2024-09-05T09:42:50.037Z"
   },
   {
    "duration": 5,
    "start_time": "2024-09-05T09:43:04.296Z"
   },
   {
    "duration": 4,
    "start_time": "2024-09-05T09:43:15.379Z"
   },
   {
    "duration": 4,
    "start_time": "2024-09-05T09:43:47.897Z"
   },
   {
    "duration": 5,
    "start_time": "2024-09-05T09:43:48.296Z"
   },
   {
    "duration": 4,
    "start_time": "2024-09-05T09:43:56.617Z"
   },
   {
    "duration": 6,
    "start_time": "2024-09-05T09:43:56.817Z"
   },
   {
    "duration": 3,
    "start_time": "2024-09-05T09:44:00.456Z"
   },
   {
    "duration": 4,
    "start_time": "2024-09-05T09:44:00.656Z"
   },
   {
    "duration": 3,
    "start_time": "2024-09-05T09:44:03.338Z"
   },
   {
    "duration": 5,
    "start_time": "2024-09-05T09:44:03.605Z"
   },
   {
    "duration": 5,
    "start_time": "2024-09-05T09:44:26.898Z"
   },
   {
    "duration": 5,
    "start_time": "2024-09-05T09:44:53.091Z"
   },
   {
    "duration": 4,
    "start_time": "2024-09-05T09:46:02.434Z"
   },
   {
    "duration": 3,
    "start_time": "2024-09-05T09:51:25.503Z"
   },
   {
    "duration": 6,
    "start_time": "2024-09-05T09:51:59.648Z"
   },
   {
    "duration": 4,
    "start_time": "2024-09-05T09:52:42.048Z"
   },
   {
    "duration": 6,
    "start_time": "2024-09-05T09:52:44.328Z"
   },
   {
    "duration": 2651,
    "start_time": "2024-09-05T09:52:56.245Z"
   },
   {
    "duration": 909,
    "start_time": "2024-09-05T09:52:58.898Z"
   },
   {
    "duration": 3,
    "start_time": "2024-09-05T09:52:59.808Z"
   },
   {
    "duration": 409,
    "start_time": "2024-09-05T09:52:59.812Z"
   },
   {
    "duration": 2,
    "start_time": "2024-09-05T09:53:00.222Z"
   },
   {
    "duration": 29,
    "start_time": "2024-09-05T09:53:00.226Z"
   },
   {
    "duration": 37,
    "start_time": "2024-09-05T09:53:00.257Z"
   },
   {
    "duration": 81,
    "start_time": "2024-09-05T09:53:00.295Z"
   },
   {
    "duration": 69,
    "start_time": "2024-09-05T09:53:00.378Z"
   },
   {
    "duration": 104,
    "start_time": "2024-09-05T09:53:00.449Z"
   },
   {
    "duration": 21,
    "start_time": "2024-09-05T09:53:00.554Z"
   },
   {
    "duration": 138,
    "start_time": "2024-09-05T09:53:00.577Z"
   },
   {
    "duration": 16,
    "start_time": "2024-09-05T09:53:00.716Z"
   },
   {
    "duration": 17,
    "start_time": "2024-09-05T09:53:00.733Z"
   },
   {
    "duration": 33,
    "start_time": "2024-09-05T09:53:00.751Z"
   },
   {
    "duration": 2,
    "start_time": "2024-09-05T09:53:00.786Z"
   },
   {
    "duration": 18,
    "start_time": "2024-09-05T09:53:00.790Z"
   },
   {
    "duration": 300,
    "start_time": "2024-09-05T09:53:00.810Z"
   },
   {
    "duration": 296,
    "start_time": "2024-09-05T09:53:01.112Z"
   },
   {
    "duration": 306,
    "start_time": "2024-09-05T09:53:01.410Z"
   },
   {
    "duration": 2,
    "start_time": "2024-09-05T09:53:01.718Z"
   },
   {
    "duration": 186,
    "start_time": "2024-09-05T09:53:01.722Z"
   },
   {
    "duration": 25,
    "start_time": "2024-09-05T09:53:01.910Z"
   },
   {
    "duration": 6,
    "start_time": "2024-09-05T09:53:01.937Z"
   },
   {
    "duration": 10,
    "start_time": "2024-09-05T09:53:01.945Z"
   },
   {
    "duration": 29,
    "start_time": "2024-09-05T09:53:01.956Z"
   },
   {
    "duration": 321,
    "start_time": "2024-09-05T09:53:01.987Z"
   },
   {
    "duration": 4,
    "start_time": "2024-09-05T09:53:02.311Z"
   },
   {
    "duration": 105,
    "start_time": "2024-09-05T09:53:02.316Z"
   },
   {
    "duration": 86,
    "start_time": "2024-09-05T09:53:02.423Z"
   },
   {
    "duration": 15,
    "start_time": "2024-09-05T09:53:02.511Z"
   },
   {
    "duration": 57,
    "start_time": "2024-09-05T09:53:02.529Z"
   },
   {
    "duration": 19,
    "start_time": "2024-09-05T09:53:02.588Z"
   },
   {
    "duration": 2680,
    "start_time": "2024-09-05T10:00:11.367Z"
   },
   {
    "duration": 855,
    "start_time": "2024-09-05T10:00:14.049Z"
   },
   {
    "duration": 3,
    "start_time": "2024-09-05T10:00:14.905Z"
   },
   {
    "duration": 369,
    "start_time": "2024-09-05T10:00:14.910Z"
   },
   {
    "duration": 2,
    "start_time": "2024-09-05T10:00:15.281Z"
   },
   {
    "duration": 53,
    "start_time": "2024-09-05T10:00:15.285Z"
   },
   {
    "duration": 56,
    "start_time": "2024-09-05T10:00:15.340Z"
   },
   {
    "duration": 152,
    "start_time": "2024-09-05T10:00:15.398Z"
   },
   {
    "duration": 45,
    "start_time": "2024-09-05T10:00:15.551Z"
   },
   {
    "duration": 98,
    "start_time": "2024-09-05T10:00:15.599Z"
   },
   {
    "duration": 23,
    "start_time": "2024-09-05T10:00:15.707Z"
   },
   {
    "duration": 146,
    "start_time": "2024-09-05T10:00:15.731Z"
   },
   {
    "duration": 16,
    "start_time": "2024-09-05T10:00:15.879Z"
   },
   {
    "duration": 7,
    "start_time": "2024-09-05T10:00:15.907Z"
   },
   {
    "duration": 49,
    "start_time": "2024-09-05T10:00:15.916Z"
   },
   {
    "duration": 9,
    "start_time": "2024-09-05T10:00:15.966Z"
   },
   {
    "duration": 44,
    "start_time": "2024-09-05T10:00:15.976Z"
   },
   {
    "duration": 190,
    "start_time": "2024-09-05T10:00:16.022Z"
   },
   {
    "duration": 302,
    "start_time": "2024-09-05T10:00:16.213Z"
   },
   {
    "duration": 208,
    "start_time": "2024-09-05T10:00:16.607Z"
   },
   {
    "duration": 91,
    "start_time": "2024-09-05T10:00:16.816Z"
   },
   {
    "duration": 104,
    "start_time": "2024-09-05T10:00:16.909Z"
   },
   {
    "duration": 25,
    "start_time": "2024-09-05T10:00:17.014Z"
   },
   {
    "duration": 22,
    "start_time": "2024-09-05T10:00:17.041Z"
   },
   {
    "duration": 35,
    "start_time": "2024-09-05T10:00:17.065Z"
   },
   {
    "duration": 15,
    "start_time": "2024-09-05T10:00:17.101Z"
   },
   {
    "duration": 391,
    "start_time": "2024-09-05T10:00:17.118Z"
   },
   {
    "duration": 93,
    "start_time": "2024-09-05T10:00:17.513Z"
   },
   {
    "duration": 117,
    "start_time": "2024-09-05T10:00:17.608Z"
   },
   {
    "duration": 7,
    "start_time": "2024-09-05T10:00:17.727Z"
   },
   {
    "duration": 13,
    "start_time": "2024-09-05T10:00:17.736Z"
   },
   {
    "duration": 7,
    "start_time": "2024-09-05T10:00:17.751Z"
   },
   {
    "duration": 15,
    "start_time": "2024-09-05T10:00:17.759Z"
   },
   {
    "duration": 3,
    "start_time": "2024-09-05T10:00:17.776Z"
   },
   {
    "duration": 4,
    "start_time": "2024-09-05T10:16:14.419Z"
   },
   {
    "duration": 2,
    "start_time": "2024-09-05T10:16:14.635Z"
   },
   {
    "duration": 5,
    "start_time": "2024-09-05T10:16:14.883Z"
   },
   {
    "duration": 3,
    "start_time": "2024-09-05T10:16:40.229Z"
   },
   {
    "duration": 3,
    "start_time": "2024-09-05T10:16:40.433Z"
   },
   {
    "duration": 4,
    "start_time": "2024-09-05T10:16:40.754Z"
   },
   {
    "duration": 2,
    "start_time": "2024-09-05T10:16:46.547Z"
   },
   {
    "duration": 3,
    "start_time": "2024-09-05T10:16:46.750Z"
   },
   {
    "duration": 5,
    "start_time": "2024-09-05T10:16:46.978Z"
   },
   {
    "duration": 2,
    "start_time": "2024-09-05T10:16:56.581Z"
   },
   {
    "duration": 6,
    "start_time": "2024-09-05T10:16:56.755Z"
   },
   {
    "duration": 5,
    "start_time": "2024-09-05T10:16:56.939Z"
   },
   {
    "duration": 4,
    "start_time": "2024-09-05T10:16:57.114Z"
   },
   {
    "duration": 2642,
    "start_time": "2024-09-05T10:17:16.921Z"
   },
   {
    "duration": 823,
    "start_time": "2024-09-05T10:17:19.565Z"
   },
   {
    "duration": 3,
    "start_time": "2024-09-05T10:17:20.389Z"
   },
   {
    "duration": 378,
    "start_time": "2024-09-05T10:17:20.394Z"
   },
   {
    "duration": 2,
    "start_time": "2024-09-05T10:17:20.774Z"
   },
   {
    "duration": 41,
    "start_time": "2024-09-05T10:17:20.777Z"
   },
   {
    "duration": 40,
    "start_time": "2024-09-05T10:17:20.819Z"
   },
   {
    "duration": 27,
    "start_time": "2024-09-05T10:17:20.860Z"
   },
   {
    "duration": 54,
    "start_time": "2024-09-05T10:17:20.888Z"
   },
   {
    "duration": 106,
    "start_time": "2024-09-05T10:17:20.945Z"
   },
   {
    "duration": 20,
    "start_time": "2024-09-05T10:17:21.053Z"
   },
   {
    "duration": 155,
    "start_time": "2024-09-05T10:17:21.074Z"
   },
   {
    "duration": 17,
    "start_time": "2024-09-05T10:17:21.230Z"
   },
   {
    "duration": 86,
    "start_time": "2024-09-05T10:17:21.249Z"
   },
   {
    "duration": 62,
    "start_time": "2024-09-05T10:17:21.337Z"
   },
   {
    "duration": 125,
    "start_time": "2024-09-05T10:17:21.400Z"
   },
   {
    "duration": 49,
    "start_time": "2024-09-05T10:17:21.527Z"
   },
   {
    "duration": 135,
    "start_time": "2024-09-05T10:17:21.578Z"
   },
   {
    "duration": 304,
    "start_time": "2024-09-05T10:17:21.714Z"
   },
   {
    "duration": 387,
    "start_time": "2024-09-05T10:17:22.020Z"
   },
   {
    "duration": 7,
    "start_time": "2024-09-05T10:17:22.409Z"
   },
   {
    "duration": 106,
    "start_time": "2024-09-05T10:17:22.417Z"
   },
   {
    "duration": 85,
    "start_time": "2024-09-05T10:17:22.525Z"
   },
   {
    "duration": 9,
    "start_time": "2024-09-05T10:17:22.612Z"
   },
   {
    "duration": 6,
    "start_time": "2024-09-05T10:17:22.623Z"
   },
   {
    "duration": 9,
    "start_time": "2024-09-05T10:17:22.630Z"
   },
   {
    "duration": 267,
    "start_time": "2024-09-05T10:17:22.641Z"
   },
   {
    "duration": 4,
    "start_time": "2024-09-05T10:17:22.912Z"
   },
   {
    "duration": 106,
    "start_time": "2024-09-05T10:17:23.009Z"
   },
   {
    "duration": 7,
    "start_time": "2024-09-05T10:17:23.117Z"
   },
   {
    "duration": 21,
    "start_time": "2024-09-05T10:17:23.125Z"
   },
   {
    "duration": 12,
    "start_time": "2024-09-05T10:17:23.147Z"
   },
   {
    "duration": 19,
    "start_time": "2024-09-05T10:17:23.161Z"
   },
   {
    "duration": 66,
    "start_time": "2024-09-05T10:17:23.181Z"
   },
   {
    "duration": 6488,
    "start_time": "2024-09-05T10:38:55.520Z"
   },
   {
    "duration": 2639,
    "start_time": "2024-09-05T11:36:18.958Z"
   },
   {
    "duration": 889,
    "start_time": "2024-09-05T11:36:21.599Z"
   },
   {
    "duration": 2,
    "start_time": "2024-09-05T11:36:22.490Z"
   },
   {
    "duration": 375,
    "start_time": "2024-09-05T11:36:22.494Z"
   },
   {
    "duration": 2,
    "start_time": "2024-09-05T11:36:22.871Z"
   },
   {
    "duration": 29,
    "start_time": "2024-09-05T11:36:22.874Z"
   },
   {
    "duration": 10,
    "start_time": "2024-09-05T11:36:22.904Z"
   },
   {
    "duration": 23,
    "start_time": "2024-09-05T11:36:22.916Z"
   },
   {
    "duration": 38,
    "start_time": "2024-09-05T11:36:22.940Z"
   },
   {
    "duration": 98,
    "start_time": "2024-09-05T11:36:22.981Z"
   },
   {
    "duration": 35,
    "start_time": "2024-09-05T11:36:23.081Z"
   },
   {
    "duration": 151,
    "start_time": "2024-09-05T11:36:23.118Z"
   },
   {
    "duration": 15,
    "start_time": "2024-09-05T11:36:23.271Z"
   },
   {
    "duration": 12,
    "start_time": "2024-09-05T11:36:23.287Z"
   },
   {
    "duration": 32,
    "start_time": "2024-09-05T11:36:23.307Z"
   },
   {
    "duration": 3,
    "start_time": "2024-09-05T11:36:23.341Z"
   },
   {
    "duration": 6,
    "start_time": "2024-09-05T11:36:23.345Z"
   },
   {
    "duration": 157,
    "start_time": "2024-09-05T11:36:23.352Z"
   },
   {
    "duration": 300,
    "start_time": "2024-09-05T11:36:23.511Z"
   },
   {
    "duration": 200,
    "start_time": "2024-09-05T11:36:23.813Z"
   },
   {
    "duration": 93,
    "start_time": "2024-09-05T11:36:24.015Z"
   },
   {
    "duration": 96,
    "start_time": "2024-09-05T11:36:24.110Z"
   },
   {
    "duration": 15,
    "start_time": "2024-09-05T11:36:24.208Z"
   },
   {
    "duration": 19,
    "start_time": "2024-09-05T11:36:24.224Z"
   },
   {
    "duration": 4,
    "start_time": "2024-09-05T11:36:24.244Z"
   },
   {
    "duration": 7,
    "start_time": "2024-09-05T11:36:24.249Z"
   },
   {
    "duration": 259,
    "start_time": "2024-09-05T11:36:24.257Z"
   },
   {
    "duration": 98,
    "start_time": "2024-09-05T11:36:24.609Z"
   },
   {
    "duration": 4,
    "start_time": "2024-09-05T11:36:24.709Z"
   },
   {
    "duration": 9,
    "start_time": "2024-09-05T11:36:24.714Z"
   },
   {
    "duration": 10,
    "start_time": "2024-09-05T11:36:24.724Z"
   },
   {
    "duration": 6,
    "start_time": "2024-09-05T11:36:24.735Z"
   },
   {
    "duration": 15,
    "start_time": "2024-09-05T11:36:24.742Z"
   },
   {
    "duration": 82,
    "start_time": "2024-09-05T11:36:24.758Z"
   },
   {
    "duration": 3,
    "start_time": "2024-09-05T11:37:14.942Z"
   },
   {
    "duration": 4,
    "start_time": "2024-09-05T11:58:41.828Z"
   },
   {
    "duration": 4,
    "start_time": "2024-09-05T11:59:32.976Z"
   },
   {
    "duration": 97,
    "start_time": "2024-09-05T12:24:57.558Z"
   },
   {
    "duration": 4,
    "start_time": "2024-09-05T12:31:02.134Z"
   },
   {
    "duration": 2584,
    "start_time": "2024-09-05T12:31:09.890Z"
   },
   {
    "duration": 895,
    "start_time": "2024-09-05T12:31:12.477Z"
   },
   {
    "duration": 2,
    "start_time": "2024-09-05T12:31:13.374Z"
   },
   {
    "duration": 372,
    "start_time": "2024-09-05T12:31:13.378Z"
   },
   {
    "duration": 2,
    "start_time": "2024-09-05T12:31:13.751Z"
   },
   {
    "duration": 51,
    "start_time": "2024-09-05T12:31:13.754Z"
   },
   {
    "duration": 9,
    "start_time": "2024-09-05T12:31:13.806Z"
   },
   {
    "duration": 22,
    "start_time": "2024-09-05T12:31:13.817Z"
   },
   {
    "duration": 139,
    "start_time": "2024-09-05T12:31:13.841Z"
   },
   {
    "duration": 91,
    "start_time": "2024-09-05T12:31:13.982Z"
   },
   {
    "duration": 35,
    "start_time": "2024-09-05T12:31:14.074Z"
   },
   {
    "duration": 171,
    "start_time": "2024-09-05T12:31:14.111Z"
   },
   {
    "duration": 15,
    "start_time": "2024-09-05T12:31:14.283Z"
   },
   {
    "duration": 16,
    "start_time": "2024-09-05T12:31:14.307Z"
   },
   {
    "duration": 39,
    "start_time": "2024-09-05T12:31:14.325Z"
   },
   {
    "duration": 4,
    "start_time": "2024-09-05T12:31:14.365Z"
   },
   {
    "duration": 29,
    "start_time": "2024-09-05T12:31:14.370Z"
   },
   {
    "duration": 116,
    "start_time": "2024-09-05T12:31:14.400Z"
   },
   {
    "duration": 295,
    "start_time": "2024-09-05T12:31:14.517Z"
   },
   {
    "duration": 304,
    "start_time": "2024-09-05T12:31:14.814Z"
   },
   {
    "duration": 3,
    "start_time": "2024-09-05T12:31:15.208Z"
   },
   {
    "duration": 148,
    "start_time": "2024-09-05T12:31:15.213Z"
   },
   {
    "duration": 56,
    "start_time": "2024-09-05T12:31:15.362Z"
   },
   {
    "duration": 35,
    "start_time": "2024-09-05T12:31:15.420Z"
   },
   {
    "duration": 40,
    "start_time": "2024-09-05T12:31:15.456Z"
   },
   {
    "duration": 13,
    "start_time": "2024-09-05T12:31:15.498Z"
   },
   {
    "duration": 395,
    "start_time": "2024-09-05T12:31:15.512Z"
   },
   {
    "duration": 4,
    "start_time": "2024-09-05T12:31:15.911Z"
   },
   {
    "duration": 31,
    "start_time": "2024-09-05T12:31:16.007Z"
   },
   {
    "duration": 10,
    "start_time": "2024-09-05T12:31:16.040Z"
   },
   {
    "duration": 6,
    "start_time": "2024-09-05T12:31:16.052Z"
   },
   {
    "duration": 120,
    "start_time": "2024-09-05T12:31:16.059Z"
   },
   {
    "duration": 22,
    "start_time": "2024-09-05T12:31:16.181Z"
   },
   {
    "duration": 108,
    "start_time": "2024-09-05T12:31:16.204Z"
   },
   {
    "duration": 4,
    "start_time": "2024-09-05T12:32:41.535Z"
   },
   {
    "duration": 11,
    "start_time": "2024-09-05T12:32:41.970Z"
   },
   {
    "duration": 4,
    "start_time": "2024-09-05T12:34:07.380Z"
   },
   {
    "duration": 6544,
    "start_time": "2024-09-05T12:34:07.693Z"
   },
   {
    "duration": 2674,
    "start_time": "2024-09-05T12:34:22.380Z"
   },
   {
    "duration": 835,
    "start_time": "2024-09-05T12:34:25.056Z"
   },
   {
    "duration": 3,
    "start_time": "2024-09-05T12:34:25.892Z"
   },
   {
    "duration": 418,
    "start_time": "2024-09-05T12:34:25.906Z"
   },
   {
    "duration": 3,
    "start_time": "2024-09-05T12:34:26.326Z"
   },
   {
    "duration": 20,
    "start_time": "2024-09-05T12:34:26.330Z"
   },
   {
    "duration": 10,
    "start_time": "2024-09-05T12:34:26.351Z"
   },
   {
    "duration": 13,
    "start_time": "2024-09-05T12:34:26.363Z"
   },
   {
    "duration": 61,
    "start_time": "2024-09-05T12:34:26.377Z"
   },
   {
    "duration": 120,
    "start_time": "2024-09-05T12:34:26.442Z"
   },
   {
    "duration": 44,
    "start_time": "2024-09-05T12:34:26.564Z"
   },
   {
    "duration": 126,
    "start_time": "2024-09-05T12:34:26.609Z"
   },
   {
    "duration": 16,
    "start_time": "2024-09-05T12:34:26.736Z"
   },
   {
    "duration": 15,
    "start_time": "2024-09-05T12:34:26.754Z"
   },
   {
    "duration": 46,
    "start_time": "2024-09-05T12:34:26.770Z"
   },
   {
    "duration": 2,
    "start_time": "2024-09-05T12:34:26.818Z"
   },
   {
    "duration": 6,
    "start_time": "2024-09-05T12:34:26.822Z"
   },
   {
    "duration": 191,
    "start_time": "2024-09-05T12:34:26.829Z"
   },
   {
    "duration": 293,
    "start_time": "2024-09-05T12:34:27.023Z"
   },
   {
    "duration": 292,
    "start_time": "2024-09-05T12:34:27.318Z"
   },
   {
    "duration": 2,
    "start_time": "2024-09-05T12:34:27.612Z"
   },
   {
    "duration": 99,
    "start_time": "2024-09-05T12:34:27.616Z"
   },
   {
    "duration": 239,
    "start_time": "2024-09-05T12:34:27.717Z"
   },
   {
    "duration": 21,
    "start_time": "2024-09-05T12:34:27.957Z"
   },
   {
    "duration": 6,
    "start_time": "2024-09-05T12:34:27.980Z"
   },
   {
    "duration": 15,
    "start_time": "2024-09-05T12:34:27.988Z"
   },
   {
    "duration": 312,
    "start_time": "2024-09-05T12:34:28.004Z"
   },
   {
    "duration": 88,
    "start_time": "2024-09-05T12:34:28.319Z"
   },
   {
    "duration": 5,
    "start_time": "2024-09-05T12:34:28.409Z"
   },
   {
    "duration": 98,
    "start_time": "2024-09-05T12:34:28.416Z"
   },
   {
    "duration": 6,
    "start_time": "2024-09-05T12:34:28.516Z"
   },
   {
    "duration": 13,
    "start_time": "2024-09-05T12:34:28.523Z"
   },
   {
    "duration": 17,
    "start_time": "2024-09-05T12:34:28.538Z"
   },
   {
    "duration": 6626,
    "start_time": "2024-09-05T12:34:28.556Z"
   },
   {
    "duration": 3,
    "start_time": "2024-09-05T12:38:32.403Z"
   },
   {
    "duration": 3,
    "start_time": "2024-09-05T12:41:42.284Z"
   },
   {
    "duration": 2754,
    "start_time": "2024-09-05T12:42:13.518Z"
   },
   {
    "duration": 923,
    "start_time": "2024-09-05T12:42:16.274Z"
   },
   {
    "duration": 8,
    "start_time": "2024-09-05T12:42:17.199Z"
   },
   {
    "duration": 370,
    "start_time": "2024-09-05T12:42:17.210Z"
   },
   {
    "duration": 2,
    "start_time": "2024-09-05T12:42:17.582Z"
   },
   {
    "duration": 36,
    "start_time": "2024-09-05T12:42:17.585Z"
   },
   {
    "duration": 10,
    "start_time": "2024-09-05T12:42:17.622Z"
   },
   {
    "duration": 20,
    "start_time": "2024-09-05T12:42:17.633Z"
   },
   {
    "duration": 41,
    "start_time": "2024-09-05T12:42:17.655Z"
   },
   {
    "duration": 110,
    "start_time": "2024-09-05T12:42:17.698Z"
   },
   {
    "duration": 21,
    "start_time": "2024-09-05T12:42:17.810Z"
   },
   {
    "duration": 139,
    "start_time": "2024-09-05T12:42:17.833Z"
   },
   {
    "duration": 16,
    "start_time": "2024-09-05T12:42:17.974Z"
   },
   {
    "duration": 17,
    "start_time": "2024-09-05T12:42:17.991Z"
   },
   {
    "duration": 54,
    "start_time": "2024-09-05T12:42:18.010Z"
   },
   {
    "duration": 2,
    "start_time": "2024-09-05T12:42:18.066Z"
   },
   {
    "duration": 12,
    "start_time": "2024-09-05T12:42:18.070Z"
   },
   {
    "duration": 225,
    "start_time": "2024-09-05T12:42:18.083Z"
   },
   {
    "duration": 204,
    "start_time": "2024-09-05T12:42:18.309Z"
   },
   {
    "duration": 299,
    "start_time": "2024-09-05T12:42:18.515Z"
   },
   {
    "duration": 3,
    "start_time": "2024-09-05T12:42:18.815Z"
   },
   {
    "duration": 98,
    "start_time": "2024-09-05T12:42:18.908Z"
   },
   {
    "duration": 2,
    "start_time": "2024-09-05T12:42:19.008Z"
   },
   {
    "duration": 88,
    "start_time": "2024-09-05T12:42:19.012Z"
   },
   {
    "duration": 36,
    "start_time": "2024-09-05T12:42:19.101Z"
   },
   {
    "duration": 7,
    "start_time": "2024-09-05T12:42:19.139Z"
   },
   {
    "duration": 263,
    "start_time": "2024-09-05T12:42:19.148Z"
   },
   {
    "duration": 4,
    "start_time": "2024-09-05T12:42:19.415Z"
   },
   {
    "duration": 91,
    "start_time": "2024-09-05T12:42:19.420Z"
   },
   {
    "duration": 5,
    "start_time": "2024-09-05T12:42:19.606Z"
   },
   {
    "duration": 7,
    "start_time": "2024-09-05T12:42:19.613Z"
   },
   {
    "duration": 25,
    "start_time": "2024-09-05T12:42:19.621Z"
   },
   {
    "duration": 9,
    "start_time": "2024-09-05T12:42:19.648Z"
   },
   {
    "duration": 6685,
    "start_time": "2024-09-05T12:42:19.658Z"
   },
   {
    "duration": 2,
    "start_time": "2024-09-05T12:42:26.345Z"
   },
   {
    "duration": 2613,
    "start_time": "2024-09-05T13:12:44.370Z"
   },
   {
    "duration": 902,
    "start_time": "2024-09-05T13:12:46.985Z"
   },
   {
    "duration": 3,
    "start_time": "2024-09-05T13:12:47.888Z"
   },
   {
    "duration": 374,
    "start_time": "2024-09-05T13:12:47.892Z"
   },
   {
    "duration": 2,
    "start_time": "2024-09-05T13:12:48.268Z"
   },
   {
    "duration": 101,
    "start_time": "2024-09-05T13:12:48.271Z"
   },
   {
    "duration": 25,
    "start_time": "2024-09-05T13:12:48.373Z"
   },
   {
    "duration": 41,
    "start_time": "2024-09-05T13:12:48.400Z"
   },
   {
    "duration": 53,
    "start_time": "2024-09-05T13:12:48.442Z"
   },
   {
    "duration": 94,
    "start_time": "2024-09-05T13:12:48.498Z"
   },
   {
    "duration": 32,
    "start_time": "2024-09-05T13:12:48.593Z"
   },
   {
    "duration": 138,
    "start_time": "2024-09-05T13:12:48.626Z"
   },
   {
    "duration": 17,
    "start_time": "2024-09-05T13:12:48.765Z"
   },
   {
    "duration": 12,
    "start_time": "2024-09-05T13:12:48.783Z"
   },
   {
    "duration": 67,
    "start_time": "2024-09-05T13:12:48.796Z"
   },
   {
    "duration": 3,
    "start_time": "2024-09-05T13:12:48.864Z"
   },
   {
    "duration": 23,
    "start_time": "2024-09-05T13:12:48.868Z"
   },
   {
    "duration": 216,
    "start_time": "2024-09-05T13:12:48.892Z"
   },
   {
    "duration": 203,
    "start_time": "2024-09-05T13:12:49.109Z"
   },
   {
    "duration": 302,
    "start_time": "2024-09-05T13:12:49.314Z"
   },
   {
    "duration": 3,
    "start_time": "2024-09-05T13:12:49.708Z"
   },
   {
    "duration": 104,
    "start_time": "2024-09-05T13:12:49.712Z"
   },
   {
    "duration": 12,
    "start_time": "2024-09-05T13:12:49.817Z"
   },
   {
    "duration": 14,
    "start_time": "2024-09-05T13:12:49.830Z"
   },
   {
    "duration": 17,
    "start_time": "2024-09-05T13:12:49.845Z"
   },
   {
    "duration": 6,
    "start_time": "2024-09-05T13:12:49.863Z"
   },
   {
    "duration": 337,
    "start_time": "2024-09-05T13:12:49.870Z"
   },
   {
    "duration": 4,
    "start_time": "2024-09-05T13:12:50.211Z"
   },
   {
    "duration": 145,
    "start_time": "2024-09-05T13:12:50.217Z"
   },
   {
    "duration": 14,
    "start_time": "2024-09-05T13:12:50.363Z"
   },
   {
    "duration": 30,
    "start_time": "2024-09-05T13:12:50.378Z"
   },
   {
    "duration": 9,
    "start_time": "2024-09-05T13:12:50.409Z"
   },
   {
    "duration": 8,
    "start_time": "2024-09-05T13:12:50.420Z"
   },
   {
    "duration": 6601,
    "start_time": "2024-09-05T13:12:50.430Z"
   },
   {
    "duration": 3,
    "start_time": "2024-09-05T13:12:57.032Z"
   },
   {
    "duration": 3,
    "start_time": "2024-09-05T13:15:44.148Z"
   },
   {
    "duration": 2,
    "start_time": "2024-09-05T13:15:44.336Z"
   },
   {
    "duration": 5,
    "start_time": "2024-09-05T13:15:44.506Z"
   },
   {
    "duration": 4,
    "start_time": "2024-09-05T13:15:44.666Z"
   },
   {
    "duration": 5,
    "start_time": "2024-09-05T13:15:44.910Z"
   },
   {
    "duration": 4,
    "start_time": "2024-09-05T13:15:45.032Z"
   },
   {
    "duration": 6637,
    "start_time": "2024-09-05T13:15:46.858Z"
   },
   {
    "duration": 3,
    "start_time": "2024-09-05T13:15:53.496Z"
   },
   {
    "duration": 2,
    "start_time": "2024-09-05T13:18:30.069Z"
   },
   {
    "duration": 5,
    "start_time": "2024-09-05T13:18:30.188Z"
   },
   {
    "duration": 5,
    "start_time": "2024-09-05T13:18:30.348Z"
   },
   {
    "duration": 5,
    "start_time": "2024-09-05T13:18:30.494Z"
   },
   {
    "duration": 5,
    "start_time": "2024-09-05T13:18:30.670Z"
   },
   {
    "duration": 4,
    "start_time": "2024-09-05T13:19:10.748Z"
   },
   {
    "duration": 6640,
    "start_time": "2024-09-05T13:19:10.905Z"
   },
   {
    "duration": 3,
    "start_time": "2024-09-05T13:19:17.546Z"
   },
   {
    "duration": 2654,
    "start_time": "2024-09-05T13:22:53.948Z"
   },
   {
    "duration": 892,
    "start_time": "2024-09-05T13:22:56.604Z"
   },
   {
    "duration": 2,
    "start_time": "2024-09-05T13:22:57.498Z"
   },
   {
    "duration": 364,
    "start_time": "2024-09-05T13:22:57.507Z"
   },
   {
    "duration": 2,
    "start_time": "2024-09-05T13:22:57.872Z"
   },
   {
    "duration": 22,
    "start_time": "2024-09-05T13:22:57.876Z"
   },
   {
    "duration": 28,
    "start_time": "2024-09-05T13:22:57.899Z"
   },
   {
    "duration": 25,
    "start_time": "2024-09-05T13:22:57.928Z"
   },
   {
    "duration": 43,
    "start_time": "2024-09-05T13:22:57.954Z"
   },
   {
    "duration": 92,
    "start_time": "2024-09-05T13:22:57.999Z"
   },
   {
    "duration": 45,
    "start_time": "2024-09-05T13:22:58.093Z"
   },
   {
    "duration": 119,
    "start_time": "2024-09-05T13:22:58.140Z"
   },
   {
    "duration": 16,
    "start_time": "2024-09-05T13:22:58.260Z"
   },
   {
    "duration": 42,
    "start_time": "2024-09-05T13:22:58.278Z"
   },
   {
    "duration": 103,
    "start_time": "2024-09-05T13:22:58.321Z"
   },
   {
    "duration": 3,
    "start_time": "2024-09-05T13:22:58.425Z"
   },
   {
    "duration": 28,
    "start_time": "2024-09-05T13:22:58.429Z"
   },
   {
    "duration": 151,
    "start_time": "2024-09-05T13:22:58.458Z"
   },
   {
    "duration": 398,
    "start_time": "2024-09-05T13:22:58.611Z"
   },
   {
    "duration": 297,
    "start_time": "2024-09-05T13:22:59.011Z"
   },
   {
    "duration": 3,
    "start_time": "2024-09-05T13:22:59.309Z"
   },
   {
    "duration": 99,
    "start_time": "2024-09-05T13:22:59.313Z"
   },
   {
    "duration": 3,
    "start_time": "2024-09-05T13:22:59.413Z"
   },
   {
    "duration": 21,
    "start_time": "2024-09-05T13:22:59.418Z"
   },
   {
    "duration": 5,
    "start_time": "2024-09-05T13:22:59.440Z"
   },
   {
    "duration": 5,
    "start_time": "2024-09-05T13:22:59.447Z"
   },
   {
    "duration": 354,
    "start_time": "2024-09-05T13:22:59.453Z"
   },
   {
    "duration": 4,
    "start_time": "2024-09-05T13:22:59.811Z"
   },
   {
    "duration": 91,
    "start_time": "2024-09-05T13:22:59.817Z"
   },
   {
    "duration": 11,
    "start_time": "2024-09-05T13:22:59.909Z"
   },
   {
    "duration": 9,
    "start_time": "2024-09-05T13:22:59.921Z"
   },
   {
    "duration": 5,
    "start_time": "2024-09-05T13:22:59.931Z"
   },
   {
    "duration": 17,
    "start_time": "2024-09-05T13:22:59.937Z"
   },
   {
    "duration": 2409,
    "start_time": "2024-09-05T13:22:59.956Z"
   },
   {
    "duration": 0,
    "start_time": "2024-09-05T13:23:02.367Z"
   },
   {
    "duration": 2172,
    "start_time": "2024-09-05T13:24:26.862Z"
   },
   {
    "duration": 9,
    "start_time": "2024-09-05T13:24:39.240Z"
   },
   {
    "duration": 2238,
    "start_time": "2024-09-05T13:24:44.141Z"
   },
   {
    "duration": 0,
    "start_time": "2024-09-05T13:24:46.381Z"
   },
   {
    "duration": 4,
    "start_time": "2024-09-05T13:24:58.935Z"
   },
   {
    "duration": 6493,
    "start_time": "2024-09-05T13:24:59.154Z"
   },
   {
    "duration": 3,
    "start_time": "2024-09-05T13:25:05.649Z"
   },
   {
    "duration": 2654,
    "start_time": "2024-09-05T13:32:46.854Z"
   },
   {
    "duration": 880,
    "start_time": "2024-09-05T13:32:49.510Z"
   },
   {
    "duration": 3,
    "start_time": "2024-09-05T13:32:50.391Z"
   },
   {
    "duration": 428,
    "start_time": "2024-09-05T13:32:50.396Z"
   },
   {
    "duration": 2,
    "start_time": "2024-09-05T13:32:50.825Z"
   },
   {
    "duration": 24,
    "start_time": "2024-09-05T13:32:50.829Z"
   },
   {
    "duration": 10,
    "start_time": "2024-09-05T13:32:50.854Z"
   },
   {
    "duration": 17,
    "start_time": "2024-09-05T13:32:50.865Z"
   },
   {
    "duration": 43,
    "start_time": "2024-09-05T13:32:50.883Z"
   },
   {
    "duration": 108,
    "start_time": "2024-09-05T13:32:50.929Z"
   },
   {
    "duration": 21,
    "start_time": "2024-09-05T13:32:51.039Z"
   },
   {
    "duration": 143,
    "start_time": "2024-09-05T13:32:51.061Z"
   },
   {
    "duration": 19,
    "start_time": "2024-09-05T13:32:51.209Z"
   },
   {
    "duration": 19,
    "start_time": "2024-09-05T13:32:51.230Z"
   },
   {
    "duration": 39,
    "start_time": "2024-09-05T13:32:51.250Z"
   },
   {
    "duration": 3,
    "start_time": "2024-09-05T13:32:51.290Z"
   },
   {
    "duration": 112,
    "start_time": "2024-09-05T13:32:51.294Z"
   },
   {
    "duration": 110,
    "start_time": "2024-09-05T13:32:51.408Z"
   },
   {
    "duration": 303,
    "start_time": "2024-09-05T13:32:51.608Z"
   },
   {
    "duration": 296,
    "start_time": "2024-09-05T13:32:51.913Z"
   },
   {
    "duration": 6,
    "start_time": "2024-09-05T13:32:52.211Z"
   },
   {
    "duration": 104,
    "start_time": "2024-09-05T13:32:52.218Z"
   },
   {
    "duration": 95,
    "start_time": "2024-09-05T13:32:52.323Z"
   },
   {
    "duration": 10,
    "start_time": "2024-09-05T13:32:52.420Z"
   },
   {
    "duration": 13,
    "start_time": "2024-09-05T13:32:52.432Z"
   },
   {
    "duration": 23,
    "start_time": "2024-09-05T13:32:52.446Z"
   },
   {
    "duration": 337,
    "start_time": "2024-09-05T13:32:52.471Z"
   },
   {
    "duration": 5,
    "start_time": "2024-09-05T13:32:52.811Z"
   },
   {
    "duration": 93,
    "start_time": "2024-09-05T13:32:52.817Z"
   },
   {
    "duration": 177,
    "start_time": "2024-09-05T13:32:52.914Z"
   },
   {
    "duration": 0,
    "start_time": "2024-09-05T13:32:53.093Z"
   },
   {
    "duration": 0,
    "start_time": "2024-09-05T13:32:53.107Z"
   },
   {
    "duration": 0,
    "start_time": "2024-09-05T13:32:53.108Z"
   },
   {
    "duration": 0,
    "start_time": "2024-09-05T13:32:53.109Z"
   },
   {
    "duration": 0,
    "start_time": "2024-09-05T13:32:53.110Z"
   },
   {
    "duration": 14,
    "start_time": "2024-09-05T13:33:31.020Z"
   },
   {
    "duration": 3,
    "start_time": "2024-09-05T13:34:06.547Z"
   },
   {
    "duration": 2,
    "start_time": "2024-09-05T13:34:06.709Z"
   },
   {
    "duration": 14,
    "start_time": "2024-09-05T13:34:06.901Z"
   },
   {
    "duration": 3,
    "start_time": "2024-09-05T13:34:21.635Z"
   },
   {
    "duration": 3,
    "start_time": "2024-09-05T13:34:21.813Z"
   },
   {
    "duration": 9,
    "start_time": "2024-09-05T13:34:21.985Z"
   },
   {
    "duration": 8,
    "start_time": "2024-09-05T13:34:40.557Z"
   },
   {
    "duration": 9,
    "start_time": "2024-09-05T13:34:42.986Z"
   },
   {
    "duration": 9,
    "start_time": "2024-09-05T13:34:43.912Z"
   },
   {
    "duration": 4,
    "start_time": "2024-09-05T13:34:44.114Z"
   },
   {
    "duration": 12,
    "start_time": "2024-09-05T13:34:44.295Z"
   },
   {
    "duration": 7,
    "start_time": "2024-09-05T13:34:44.494Z"
   },
   {
    "duration": 6,
    "start_time": "2024-09-05T13:35:01.663Z"
   },
   {
    "duration": 11660,
    "start_time": "2024-09-05T13:35:01.856Z"
   },
   {
    "duration": 3,
    "start_time": "2024-09-05T13:35:13.518Z"
   },
   {
    "duration": 2602,
    "start_time": "2024-09-05T13:35:55.259Z"
   },
   {
    "duration": 845,
    "start_time": "2024-09-05T13:35:57.863Z"
   },
   {
    "duration": 3,
    "start_time": "2024-09-05T13:35:58.710Z"
   },
   {
    "duration": 370,
    "start_time": "2024-09-05T13:35:58.714Z"
   },
   {
    "duration": 2,
    "start_time": "2024-09-05T13:35:59.085Z"
   },
   {
    "duration": 55,
    "start_time": "2024-09-05T13:35:59.088Z"
   },
   {
    "duration": 20,
    "start_time": "2024-09-05T13:35:59.144Z"
   },
   {
    "duration": 30,
    "start_time": "2024-09-05T13:35:59.165Z"
   },
   {
    "duration": 50,
    "start_time": "2024-09-05T13:35:59.197Z"
   },
   {
    "duration": 100,
    "start_time": "2024-09-05T13:35:59.250Z"
   },
   {
    "duration": 77,
    "start_time": "2024-09-05T13:35:59.351Z"
   },
   {
    "duration": 188,
    "start_time": "2024-09-05T13:35:59.430Z"
   },
   {
    "duration": 16,
    "start_time": "2024-09-05T13:35:59.619Z"
   },
   {
    "duration": 5,
    "start_time": "2024-09-05T13:35:59.637Z"
   },
   {
    "duration": 34,
    "start_time": "2024-09-05T13:35:59.644Z"
   },
   {
    "duration": 3,
    "start_time": "2024-09-05T13:35:59.680Z"
   },
   {
    "duration": 23,
    "start_time": "2024-09-05T13:35:59.685Z"
   },
   {
    "duration": 202,
    "start_time": "2024-09-05T13:35:59.710Z"
   },
   {
    "duration": 401,
    "start_time": "2024-09-05T13:35:59.913Z"
   },
   {
    "duration": 200,
    "start_time": "2024-09-05T13:36:00.407Z"
   },
   {
    "duration": 111,
    "start_time": "2024-09-05T13:36:00.609Z"
   },
   {
    "duration": 52,
    "start_time": "2024-09-05T13:36:00.721Z"
   },
   {
    "duration": 135,
    "start_time": "2024-09-05T13:36:00.774Z"
   },
   {
    "duration": 135,
    "start_time": "2024-09-05T13:36:00.911Z"
   },
   {
    "duration": 71,
    "start_time": "2024-09-05T13:36:01.048Z"
   },
   {
    "duration": 53,
    "start_time": "2024-09-05T13:36:01.121Z"
   },
   {
    "duration": 337,
    "start_time": "2024-09-05T13:36:01.175Z"
   },
   {
    "duration": 193,
    "start_time": "2024-09-05T13:36:01.516Z"
   },
   {
    "duration": 0,
    "start_time": "2024-09-05T13:36:01.710Z"
   },
   {
    "duration": 0,
    "start_time": "2024-09-05T13:36:01.711Z"
   },
   {
    "duration": 0,
    "start_time": "2024-09-05T13:36:01.712Z"
   },
   {
    "duration": 0,
    "start_time": "2024-09-05T13:36:01.714Z"
   },
   {
    "duration": 0,
    "start_time": "2024-09-05T13:36:01.715Z"
   },
   {
    "duration": 0,
    "start_time": "2024-09-05T13:36:01.716Z"
   },
   {
    "duration": 0,
    "start_time": "2024-09-05T13:36:01.717Z"
   },
   {
    "duration": 3,
    "start_time": "2024-09-05T13:36:04.206Z"
   },
   {
    "duration": 2,
    "start_time": "2024-09-05T13:36:04.354Z"
   },
   {
    "duration": 5,
    "start_time": "2024-09-05T13:36:04.507Z"
   },
   {
    "duration": 5,
    "start_time": "2024-09-05T13:36:04.640Z"
   },
   {
    "duration": 4,
    "start_time": "2024-09-05T13:36:04.790Z"
   },
   {
    "duration": 5,
    "start_time": "2024-09-05T13:36:04.931Z"
   },
   {
    "duration": 6561,
    "start_time": "2024-09-05T13:36:05.090Z"
   },
   {
    "duration": 3,
    "start_time": "2024-09-05T13:36:11.653Z"
   },
   {
    "duration": 2387,
    "start_time": "2024-09-06T05:25:55.513Z"
   },
   {
    "duration": 849,
    "start_time": "2024-09-06T05:25:57.902Z"
   },
   {
    "duration": 2,
    "start_time": "2024-09-06T05:25:58.753Z"
   },
   {
    "duration": 329,
    "start_time": "2024-09-06T05:25:58.756Z"
   },
   {
    "duration": 2,
    "start_time": "2024-09-06T05:25:59.087Z"
   },
   {
    "duration": 20,
    "start_time": "2024-09-06T05:25:59.090Z"
   },
   {
    "duration": 10,
    "start_time": "2024-09-06T05:25:59.111Z"
   },
   {
    "duration": 10,
    "start_time": "2024-09-06T05:25:59.122Z"
   },
   {
    "duration": 31,
    "start_time": "2024-09-06T05:25:59.133Z"
   },
   {
    "duration": 112,
    "start_time": "2024-09-06T05:25:59.167Z"
   },
   {
    "duration": 37,
    "start_time": "2024-09-06T05:25:59.280Z"
   },
   {
    "duration": 195,
    "start_time": "2024-09-06T05:25:59.319Z"
   },
   {
    "duration": 14,
    "start_time": "2024-09-06T05:25:59.515Z"
   },
   {
    "duration": 21,
    "start_time": "2024-09-06T05:25:59.530Z"
   },
   {
    "duration": 28,
    "start_time": "2024-09-06T05:25:59.552Z"
   },
   {
    "duration": 2,
    "start_time": "2024-09-06T05:25:59.582Z"
   },
   {
    "duration": 5,
    "start_time": "2024-09-06T05:25:59.585Z"
   },
   {
    "duration": 118,
    "start_time": "2024-09-06T05:25:59.591Z"
   },
   {
    "duration": 306,
    "start_time": "2024-09-06T05:25:59.711Z"
   },
   {
    "duration": 292,
    "start_time": "2024-09-06T05:26:00.019Z"
   },
   {
    "duration": 196,
    "start_time": "2024-09-06T05:26:00.312Z"
   },
   {
    "duration": 36,
    "start_time": "2024-09-06T05:26:00.509Z"
   },
   {
    "duration": 22,
    "start_time": "2024-09-06T05:26:00.546Z"
   },
   {
    "duration": 26,
    "start_time": "2024-09-06T05:26:00.569Z"
   },
   {
    "duration": 17,
    "start_time": "2024-09-06T05:26:00.596Z"
   },
   {
    "duration": 70,
    "start_time": "2024-09-06T05:26:00.615Z"
   },
   {
    "duration": 423,
    "start_time": "2024-09-06T05:26:00.686Z"
   },
   {
    "duration": 4,
    "start_time": "2024-09-06T05:26:01.112Z"
   },
   {
    "duration": 194,
    "start_time": "2024-09-06T05:26:01.117Z"
   },
   {
    "duration": 34,
    "start_time": "2024-09-06T05:26:01.313Z"
   },
   {
    "duration": 5,
    "start_time": "2024-09-06T05:26:01.348Z"
   },
   {
    "duration": 4,
    "start_time": "2024-09-06T05:26:01.355Z"
   },
   {
    "duration": 5,
    "start_time": "2024-09-06T05:26:01.360Z"
   },
   {
    "duration": 5800,
    "start_time": "2024-09-06T05:26:01.366Z"
   },
   {
    "duration": 3,
    "start_time": "2024-09-06T05:26:07.168Z"
   },
   {
    "duration": 2366,
    "start_time": "2024-09-06T05:30:46.753Z"
   },
   {
    "duration": 812,
    "start_time": "2024-09-06T05:30:49.121Z"
   },
   {
    "duration": 3,
    "start_time": "2024-09-06T05:30:49.934Z"
   },
   {
    "duration": 318,
    "start_time": "2024-09-06T05:30:49.938Z"
   },
   {
    "duration": 2,
    "start_time": "2024-09-06T05:30:50.257Z"
   },
   {
    "duration": 44,
    "start_time": "2024-09-06T05:30:50.261Z"
   },
   {
    "duration": 13,
    "start_time": "2024-09-06T05:30:50.307Z"
   },
   {
    "duration": 16,
    "start_time": "2024-09-06T05:30:50.321Z"
   },
   {
    "duration": 55,
    "start_time": "2024-09-06T05:30:50.338Z"
   },
   {
    "duration": 81,
    "start_time": "2024-09-06T05:30:50.395Z"
   },
   {
    "duration": 32,
    "start_time": "2024-09-06T05:30:50.477Z"
   },
   {
    "duration": 123,
    "start_time": "2024-09-06T05:30:50.511Z"
   },
   {
    "duration": 13,
    "start_time": "2024-09-06T05:30:50.636Z"
   },
   {
    "duration": 7,
    "start_time": "2024-09-06T05:30:50.651Z"
   },
   {
    "duration": 30,
    "start_time": "2024-09-06T05:30:50.659Z"
   },
   {
    "duration": 3,
    "start_time": "2024-09-06T05:30:50.690Z"
   },
   {
    "duration": 51,
    "start_time": "2024-09-06T05:30:50.694Z"
   },
   {
    "duration": 67,
    "start_time": "2024-09-06T05:30:50.747Z"
   },
   {
    "duration": 298,
    "start_time": "2024-09-06T05:30:50.816Z"
   },
   {
    "duration": 301,
    "start_time": "2024-09-06T05:30:51.115Z"
   },
   {
    "duration": 94,
    "start_time": "2024-09-06T05:30:51.513Z"
   },
   {
    "duration": 3,
    "start_time": "2024-09-06T05:30:51.609Z"
   },
   {
    "duration": 12,
    "start_time": "2024-09-06T05:30:51.613Z"
   },
   {
    "duration": 18,
    "start_time": "2024-09-06T05:30:51.627Z"
   },
   {
    "duration": 9,
    "start_time": "2024-09-06T05:30:51.647Z"
   },
   {
    "duration": 13,
    "start_time": "2024-09-06T05:30:51.657Z"
   },
   {
    "duration": 240,
    "start_time": "2024-09-06T05:30:51.672Z"
   },
   {
    "duration": 93,
    "start_time": "2024-09-06T05:30:51.915Z"
   },
   {
    "duration": 4,
    "start_time": "2024-09-06T05:30:52.010Z"
   },
   {
    "duration": 110,
    "start_time": "2024-09-06T05:30:52.015Z"
   },
   {
    "duration": 34,
    "start_time": "2024-09-06T05:30:52.127Z"
   },
   {
    "duration": 29,
    "start_time": "2024-09-06T05:30:52.162Z"
   },
   {
    "duration": 54,
    "start_time": "2024-09-06T05:30:52.192Z"
   },
   {
    "duration": 5841,
    "start_time": "2024-09-06T05:30:52.247Z"
   },
   {
    "duration": 3,
    "start_time": "2024-09-06T05:30:58.089Z"
   },
   {
    "duration": 2427,
    "start_time": "2024-09-06T05:52:19.976Z"
   },
   {
    "duration": 840,
    "start_time": "2024-09-06T05:52:22.405Z"
   },
   {
    "duration": 2,
    "start_time": "2024-09-06T05:52:23.246Z"
   },
   {
    "duration": 326,
    "start_time": "2024-09-06T05:52:23.250Z"
   },
   {
    "duration": 2,
    "start_time": "2024-09-06T05:52:23.578Z"
   },
   {
    "duration": 21,
    "start_time": "2024-09-06T05:52:23.581Z"
   },
   {
    "duration": 17,
    "start_time": "2024-09-06T05:52:23.604Z"
   },
   {
    "duration": 29,
    "start_time": "2024-09-06T05:52:23.622Z"
   },
   {
    "duration": 39,
    "start_time": "2024-09-06T05:52:23.653Z"
   },
   {
    "duration": 93,
    "start_time": "2024-09-06T05:52:23.695Z"
   },
   {
    "duration": 29,
    "start_time": "2024-09-06T05:52:23.789Z"
   },
   {
    "duration": 129,
    "start_time": "2024-09-06T05:52:23.819Z"
   },
   {
    "duration": 14,
    "start_time": "2024-09-06T05:52:23.949Z"
   },
   {
    "duration": 11,
    "start_time": "2024-09-06T05:52:23.964Z"
   },
   {
    "duration": 42,
    "start_time": "2024-09-06T05:52:23.976Z"
   },
   {
    "duration": 5,
    "start_time": "2024-09-06T05:52:24.020Z"
   },
   {
    "duration": 12,
    "start_time": "2024-09-06T05:52:24.026Z"
   },
   {
    "duration": 72,
    "start_time": "2024-09-06T05:52:24.040Z"
   },
   {
    "duration": 301,
    "start_time": "2024-09-06T05:52:24.113Z"
   },
   {
    "duration": 298,
    "start_time": "2024-09-06T05:52:24.416Z"
   },
   {
    "duration": 3,
    "start_time": "2024-09-06T05:52:24.716Z"
   },
   {
    "duration": 201,
    "start_time": "2024-09-06T05:52:24.720Z"
   },
   {
    "duration": 22,
    "start_time": "2024-09-06T05:52:24.922Z"
   },
   {
    "duration": 60,
    "start_time": "2024-09-06T05:52:24.946Z"
   },
   {
    "duration": 12,
    "start_time": "2024-09-06T05:52:25.007Z"
   },
   {
    "duration": 33,
    "start_time": "2024-09-06T05:52:25.020Z"
   },
   {
    "duration": 258,
    "start_time": "2024-09-06T05:52:25.055Z"
   },
   {
    "duration": 4,
    "start_time": "2024-09-06T05:52:25.316Z"
   },
   {
    "duration": 189,
    "start_time": "2024-09-06T05:52:25.321Z"
   },
   {
    "duration": 4,
    "start_time": "2024-09-06T05:52:25.512Z"
   },
   {
    "duration": 99,
    "start_time": "2024-09-06T05:52:25.518Z"
   },
   {
    "duration": 0,
    "start_time": "2024-09-06T05:52:25.619Z"
   },
   {
    "duration": 0,
    "start_time": "2024-09-06T05:52:25.620Z"
   },
   {
    "duration": 0,
    "start_time": "2024-09-06T05:52:25.621Z"
   },
   {
    "duration": 0,
    "start_time": "2024-09-06T05:52:25.622Z"
   },
   {
    "duration": 0,
    "start_time": "2024-09-06T05:52:25.622Z"
   },
   {
    "duration": 4,
    "start_time": "2024-09-06T05:52:45.198Z"
   },
   {
    "duration": 2,
    "start_time": "2024-09-06T05:52:45.436Z"
   },
   {
    "duration": 9,
    "start_time": "2024-09-06T05:52:45.837Z"
   },
   {
    "duration": 9,
    "start_time": "2024-09-06T05:52:46.015Z"
   },
   {
    "duration": 9,
    "start_time": "2024-09-06T05:52:46.145Z"
   },
   {
    "duration": 4,
    "start_time": "2024-09-06T05:52:56.153Z"
   },
   {
    "duration": 2,
    "start_time": "2024-09-06T05:52:56.615Z"
   },
   {
    "duration": 4,
    "start_time": "2024-09-06T05:52:56.776Z"
   },
   {
    "duration": 4,
    "start_time": "2024-09-06T05:52:56.936Z"
   },
   {
    "duration": 5,
    "start_time": "2024-09-06T05:52:57.275Z"
   },
   {
    "duration": 2412,
    "start_time": "2024-09-06T05:53:15.873Z"
   },
   {
    "duration": 799,
    "start_time": "2024-09-06T05:53:18.287Z"
   },
   {
    "duration": 2,
    "start_time": "2024-09-06T05:53:19.088Z"
   },
   {
    "duration": 335,
    "start_time": "2024-09-06T05:53:19.092Z"
   },
   {
    "duration": 2,
    "start_time": "2024-09-06T05:53:19.428Z"
   },
   {
    "duration": 49,
    "start_time": "2024-09-06T05:53:19.432Z"
   },
   {
    "duration": 22,
    "start_time": "2024-09-06T05:53:19.482Z"
   },
   {
    "duration": 12,
    "start_time": "2024-09-06T05:53:19.505Z"
   },
   {
    "duration": 41,
    "start_time": "2024-09-06T05:53:19.518Z"
   },
   {
    "duration": 85,
    "start_time": "2024-09-06T05:53:19.561Z"
   },
   {
    "duration": 18,
    "start_time": "2024-09-06T05:53:19.647Z"
   },
   {
    "duration": 118,
    "start_time": "2024-09-06T05:53:19.666Z"
   },
   {
    "duration": 22,
    "start_time": "2024-09-06T05:53:19.785Z"
   },
   {
    "duration": 3,
    "start_time": "2024-09-06T05:53:19.808Z"
   },
   {
    "duration": 51,
    "start_time": "2024-09-06T05:53:19.812Z"
   },
   {
    "duration": 2,
    "start_time": "2024-09-06T05:53:19.864Z"
   },
   {
    "duration": 11,
    "start_time": "2024-09-06T05:53:19.868Z"
   },
   {
    "duration": 130,
    "start_time": "2024-09-06T05:53:19.880Z"
   },
   {
    "duration": 297,
    "start_time": "2024-09-06T05:53:20.012Z"
   },
   {
    "duration": 202,
    "start_time": "2024-09-06T05:53:20.310Z"
   },
   {
    "duration": 3,
    "start_time": "2024-09-06T05:53:20.513Z"
   },
   {
    "duration": 93,
    "start_time": "2024-09-06T05:53:20.518Z"
   },
   {
    "duration": 96,
    "start_time": "2024-09-06T05:53:20.612Z"
   },
   {
    "duration": 9,
    "start_time": "2024-09-06T05:53:20.709Z"
   },
   {
    "duration": 11,
    "start_time": "2024-09-06T05:53:20.719Z"
   },
   {
    "duration": 16,
    "start_time": "2024-09-06T05:53:20.731Z"
   },
   {
    "duration": 270,
    "start_time": "2024-09-06T05:53:20.748Z"
   },
   {
    "duration": 3,
    "start_time": "2024-09-06T05:53:21.109Z"
   },
   {
    "duration": 95,
    "start_time": "2024-09-06T05:53:21.113Z"
   },
   {
    "duration": 12,
    "start_time": "2024-09-06T05:53:21.209Z"
   },
   {
    "duration": 6,
    "start_time": "2024-09-06T05:53:21.222Z"
   },
   {
    "duration": 7,
    "start_time": "2024-09-06T05:53:21.229Z"
   },
   {
    "duration": 21,
    "start_time": "2024-09-06T05:53:21.237Z"
   },
   {
    "duration": 19,
    "start_time": "2024-09-06T05:53:21.259Z"
   },
   {
    "duration": 2477,
    "start_time": "2024-09-06T05:53:21.279Z"
   },
   {
    "duration": 2,
    "start_time": "2024-09-06T05:53:23.758Z"
   },
   {
    "duration": 4,
    "start_time": "2024-09-06T05:53:39.035Z"
   },
   {
    "duration": 7,
    "start_time": "2024-09-06T05:55:17.801Z"
   },
   {
    "duration": 2404,
    "start_time": "2024-09-06T05:55:29.202Z"
   },
   {
    "duration": 836,
    "start_time": "2024-09-06T05:55:31.607Z"
   },
   {
    "duration": 2,
    "start_time": "2024-09-06T05:55:32.444Z"
   },
   {
    "duration": 343,
    "start_time": "2024-09-06T05:55:32.448Z"
   },
   {
    "duration": 2,
    "start_time": "2024-09-06T05:55:32.793Z"
   },
   {
    "duration": 23,
    "start_time": "2024-09-06T05:55:32.797Z"
   },
   {
    "duration": 10,
    "start_time": "2024-09-06T05:55:32.821Z"
   },
   {
    "duration": 18,
    "start_time": "2024-09-06T05:55:32.832Z"
   },
   {
    "duration": 59,
    "start_time": "2024-09-06T05:55:32.852Z"
   },
   {
    "duration": 108,
    "start_time": "2024-09-06T05:55:32.912Z"
   },
   {
    "duration": 18,
    "start_time": "2024-09-06T05:55:33.021Z"
   },
   {
    "duration": 115,
    "start_time": "2024-09-06T05:55:33.043Z"
   },
   {
    "duration": 14,
    "start_time": "2024-09-06T05:55:33.159Z"
   },
   {
    "duration": 7,
    "start_time": "2024-09-06T05:55:33.175Z"
   },
   {
    "duration": 43,
    "start_time": "2024-09-06T05:55:33.183Z"
   },
   {
    "duration": 2,
    "start_time": "2024-09-06T05:55:33.227Z"
   },
   {
    "duration": 12,
    "start_time": "2024-09-06T05:55:33.230Z"
   },
   {
    "duration": 166,
    "start_time": "2024-09-06T05:55:33.243Z"
   },
   {
    "duration": 298,
    "start_time": "2024-09-06T05:55:33.411Z"
   },
   {
    "duration": 298,
    "start_time": "2024-09-06T05:55:33.711Z"
   },
   {
    "duration": 2,
    "start_time": "2024-09-06T05:55:34.011Z"
   },
   {
    "duration": 97,
    "start_time": "2024-09-06T05:55:34.014Z"
   },
   {
    "duration": 7,
    "start_time": "2024-09-06T05:55:34.113Z"
   },
   {
    "duration": 104,
    "start_time": "2024-09-06T05:55:34.121Z"
   },
   {
    "duration": 12,
    "start_time": "2024-09-06T05:55:34.226Z"
   },
   {
    "duration": 5,
    "start_time": "2024-09-06T05:55:34.239Z"
   },
   {
    "duration": 272,
    "start_time": "2024-09-06T05:55:34.245Z"
   },
   {
    "duration": 3,
    "start_time": "2024-09-06T05:55:34.606Z"
   },
   {
    "duration": 96,
    "start_time": "2024-09-06T05:55:34.611Z"
   },
   {
    "duration": 13,
    "start_time": "2024-09-06T05:55:34.708Z"
   },
   {
    "duration": 28,
    "start_time": "2024-09-06T05:55:34.722Z"
   },
   {
    "duration": 7,
    "start_time": "2024-09-06T05:55:34.751Z"
   },
   {
    "duration": 22,
    "start_time": "2024-09-06T05:55:34.759Z"
   },
   {
    "duration": 16,
    "start_time": "2024-09-06T05:55:34.783Z"
   },
   {
    "duration": 2440,
    "start_time": "2024-09-06T05:55:34.800Z"
   },
   {
    "duration": 2,
    "start_time": "2024-09-06T05:55:37.242Z"
   },
   {
    "duration": 4,
    "start_time": "2024-09-06T05:56:23.203Z"
   },
   {
    "duration": 10572,
    "start_time": "2024-09-06T05:56:23.344Z"
   },
   {
    "duration": 3,
    "start_time": "2024-09-06T05:56:33.917Z"
   },
   {
    "duration": 2463,
    "start_time": "2024-09-06T06:00:01.588Z"
   },
   {
    "duration": 789,
    "start_time": "2024-09-06T06:00:04.053Z"
   },
   {
    "duration": 2,
    "start_time": "2024-09-06T06:00:04.843Z"
   },
   {
    "duration": 363,
    "start_time": "2024-09-06T06:00:04.847Z"
   },
   {
    "duration": 2,
    "start_time": "2024-09-06T06:00:05.211Z"
   },
   {
    "duration": 23,
    "start_time": "2024-09-06T06:00:05.214Z"
   },
   {
    "duration": 16,
    "start_time": "2024-09-06T06:00:05.238Z"
   },
   {
    "duration": 11,
    "start_time": "2024-09-06T06:00:05.256Z"
   },
   {
    "duration": 54,
    "start_time": "2024-09-06T06:00:05.269Z"
   },
   {
    "duration": 99,
    "start_time": "2024-09-06T06:00:05.325Z"
   },
   {
    "duration": 21,
    "start_time": "2024-09-06T06:00:05.425Z"
   },
   {
    "duration": 184,
    "start_time": "2024-09-06T06:00:05.448Z"
   },
   {
    "duration": 15,
    "start_time": "2024-09-06T06:00:05.634Z"
   },
   {
    "duration": 6,
    "start_time": "2024-09-06T06:00:05.650Z"
   },
   {
    "duration": 82,
    "start_time": "2024-09-06T06:00:05.657Z"
   },
   {
    "duration": 3,
    "start_time": "2024-09-06T06:00:05.740Z"
   },
   {
    "duration": 46,
    "start_time": "2024-09-06T06:00:05.744Z"
   },
   {
    "duration": 120,
    "start_time": "2024-09-06T06:00:05.792Z"
   },
   {
    "duration": 495,
    "start_time": "2024-09-06T06:00:05.913Z"
   },
   {
    "duration": 302,
    "start_time": "2024-09-06T06:00:06.409Z"
   },
   {
    "duration": 2,
    "start_time": "2024-09-06T06:00:06.713Z"
   },
   {
    "duration": 109,
    "start_time": "2024-09-06T06:00:06.716Z"
   },
   {
    "duration": 19,
    "start_time": "2024-09-06T06:00:06.826Z"
   },
   {
    "duration": 16,
    "start_time": "2024-09-06T06:00:06.846Z"
   },
   {
    "duration": 19,
    "start_time": "2024-09-06T06:00:06.863Z"
   },
   {
    "duration": 6,
    "start_time": "2024-09-06T06:00:06.883Z"
   },
   {
    "duration": 220,
    "start_time": "2024-09-06T06:00:06.891Z"
   },
   {
    "duration": 92,
    "start_time": "2024-09-06T06:00:07.115Z"
   },
   {
    "duration": 104,
    "start_time": "2024-09-06T06:00:07.209Z"
   },
   {
    "duration": 15,
    "start_time": "2024-09-06T06:00:07.314Z"
   },
   {
    "duration": 12,
    "start_time": "2024-09-06T06:00:07.330Z"
   },
   {
    "duration": 6,
    "start_time": "2024-09-06T06:00:07.343Z"
   },
   {
    "duration": 7,
    "start_time": "2024-09-06T06:00:07.350Z"
   },
   {
    "duration": 188,
    "start_time": "2024-09-06T06:00:07.358Z"
   },
   {
    "duration": 10669,
    "start_time": "2024-09-06T06:00:07.547Z"
   },
   {
    "duration": 3,
    "start_time": "2024-09-06T06:00:18.218Z"
   },
   {
    "duration": 2426,
    "start_time": "2024-09-06T06:00:52.177Z"
   },
   {
    "duration": 827,
    "start_time": "2024-09-06T06:00:54.604Z"
   },
   {
    "duration": 2,
    "start_time": "2024-09-06T06:00:55.432Z"
   },
   {
    "duration": 383,
    "start_time": "2024-09-06T06:00:55.435Z"
   },
   {
    "duration": 2,
    "start_time": "2024-09-06T06:00:55.819Z"
   },
   {
    "duration": 45,
    "start_time": "2024-09-06T06:00:55.822Z"
   },
   {
    "duration": 12,
    "start_time": "2024-09-06T06:00:55.868Z"
   },
   {
    "duration": 12,
    "start_time": "2024-09-06T06:00:55.881Z"
   },
   {
    "duration": 29,
    "start_time": "2024-09-06T06:00:55.894Z"
   },
   {
    "duration": 91,
    "start_time": "2024-09-06T06:00:55.925Z"
   },
   {
    "duration": 18,
    "start_time": "2024-09-06T06:00:56.017Z"
   },
   {
    "duration": 121,
    "start_time": "2024-09-06T06:00:56.036Z"
   },
   {
    "duration": 14,
    "start_time": "2024-09-06T06:00:56.158Z"
   },
   {
    "duration": 71,
    "start_time": "2024-09-06T06:00:56.173Z"
   },
   {
    "duration": 32,
    "start_time": "2024-09-06T06:00:56.245Z"
   },
   {
    "duration": 3,
    "start_time": "2024-09-06T06:00:56.278Z"
   },
   {
    "duration": 8,
    "start_time": "2024-09-06T06:00:56.283Z"
   },
   {
    "duration": 124,
    "start_time": "2024-09-06T06:00:56.292Z"
   },
   {
    "duration": 293,
    "start_time": "2024-09-06T06:00:56.416Z"
   },
   {
    "duration": 306,
    "start_time": "2024-09-06T06:00:56.711Z"
   },
   {
    "duration": 87,
    "start_time": "2024-09-06T06:00:57.019Z"
   },
   {
    "duration": 4,
    "start_time": "2024-09-06T06:00:57.107Z"
   },
   {
    "duration": 122,
    "start_time": "2024-09-06T06:00:57.112Z"
   },
   {
    "duration": 87,
    "start_time": "2024-09-06T06:00:57.235Z"
   },
   {
    "duration": 21,
    "start_time": "2024-09-06T06:00:57.324Z"
   },
   {
    "duration": 13,
    "start_time": "2024-09-06T06:00:57.347Z"
   },
   {
    "duration": 346,
    "start_time": "2024-09-06T06:00:57.362Z"
   },
   {
    "duration": 2,
    "start_time": "2024-09-06T06:00:57.714Z"
   },
   {
    "duration": 3,
    "start_time": "2024-09-06T06:00:57.807Z"
   },
   {
    "duration": 4,
    "start_time": "2024-09-06T06:00:57.812Z"
   },
   {
    "duration": 9,
    "start_time": "2024-09-06T06:00:57.817Z"
   },
   {
    "duration": 7,
    "start_time": "2024-09-06T06:00:57.906Z"
   },
   {
    "duration": 6,
    "start_time": "2024-09-06T06:00:57.915Z"
   },
   {
    "duration": 4,
    "start_time": "2024-09-06T06:00:57.922Z"
   },
   {
    "duration": 10565,
    "start_time": "2024-09-06T06:00:57.927Z"
   },
   {
    "duration": 4,
    "start_time": "2024-09-06T06:01:08.493Z"
   },
   {
    "duration": 2403,
    "start_time": "2024-09-06T06:01:56.273Z"
   },
   {
    "duration": 820,
    "start_time": "2024-09-06T06:01:58.678Z"
   },
   {
    "duration": 8,
    "start_time": "2024-09-06T06:01:59.499Z"
   },
   {
    "duration": 345,
    "start_time": "2024-09-06T06:01:59.509Z"
   },
   {
    "duration": 2,
    "start_time": "2024-09-06T06:01:59.855Z"
   },
   {
    "duration": 34,
    "start_time": "2024-09-06T06:01:59.858Z"
   },
   {
    "duration": 20,
    "start_time": "2024-09-06T06:01:59.894Z"
   },
   {
    "duration": 21,
    "start_time": "2024-09-06T06:01:59.915Z"
   },
   {
    "duration": 46,
    "start_time": "2024-09-06T06:01:59.937Z"
   },
   {
    "duration": 91,
    "start_time": "2024-09-06T06:01:59.985Z"
   },
   {
    "duration": 30,
    "start_time": "2024-09-06T06:02:00.077Z"
   },
   {
    "duration": 135,
    "start_time": "2024-09-06T06:02:00.109Z"
   },
   {
    "duration": 15,
    "start_time": "2024-09-06T06:02:00.246Z"
   },
   {
    "duration": 45,
    "start_time": "2024-09-06T06:02:00.262Z"
   },
   {
    "duration": 170,
    "start_time": "2024-09-06T06:02:00.308Z"
   },
   {
    "duration": 23,
    "start_time": "2024-09-06T06:02:00.479Z"
   },
   {
    "duration": 13,
    "start_time": "2024-09-06T06:02:00.504Z"
   },
   {
    "duration": 188,
    "start_time": "2024-09-06T06:02:00.518Z"
   },
   {
    "duration": 300,
    "start_time": "2024-09-06T06:02:00.708Z"
   },
   {
    "duration": 200,
    "start_time": "2024-09-06T06:02:01.013Z"
   },
   {
    "duration": 91,
    "start_time": "2024-09-06T06:02:01.217Z"
   },
   {
    "duration": 98,
    "start_time": "2024-09-06T06:02:01.309Z"
   },
   {
    "duration": 2,
    "start_time": "2024-09-06T06:02:01.409Z"
   },
   {
    "duration": 211,
    "start_time": "2024-09-06T06:02:01.412Z"
   },
   {
    "duration": 42,
    "start_time": "2024-09-06T06:02:01.624Z"
   },
   {
    "duration": 70,
    "start_time": "2024-09-06T06:02:01.667Z"
   },
   {
    "duration": 275,
    "start_time": "2024-09-06T06:02:01.739Z"
   },
   {
    "duration": 90,
    "start_time": "2024-09-06T06:02:02.018Z"
   },
   {
    "duration": 177,
    "start_time": "2024-09-06T06:02:02.110Z"
   },
   {
    "duration": 20,
    "start_time": "2024-09-06T06:02:02.289Z"
   },
   {
    "duration": 96,
    "start_time": "2024-09-06T06:02:02.310Z"
   },
   {
    "duration": 34,
    "start_time": "2024-09-06T06:02:02.407Z"
   },
   {
    "duration": 49,
    "start_time": "2024-09-06T06:02:02.442Z"
   },
   {
    "duration": 13,
    "start_time": "2024-09-06T06:02:02.492Z"
   },
   {
    "duration": 10641,
    "start_time": "2024-09-06T06:02:02.506Z"
   },
   {
    "duration": 4,
    "start_time": "2024-09-06T06:02:13.148Z"
   },
   {
    "duration": 3,
    "start_time": "2024-09-06T06:04:22.554Z"
   },
   {
    "duration": 2,
    "start_time": "2024-09-06T06:04:23.351Z"
   },
   {
    "duration": 86,
    "start_time": "2024-09-06T06:04:23.552Z"
   },
   {
    "duration": 3,
    "start_time": "2024-09-06T06:04:44.500Z"
   },
   {
    "duration": 2,
    "start_time": "2024-09-06T06:04:44.697Z"
   },
   {
    "duration": 7,
    "start_time": "2024-09-06T06:04:44.873Z"
   },
   {
    "duration": 3,
    "start_time": "2024-09-06T06:04:56.200Z"
   },
   {
    "duration": 2,
    "start_time": "2024-09-06T06:04:56.355Z"
   },
   {
    "duration": 7,
    "start_time": "2024-09-06T06:04:56.496Z"
   },
   {
    "duration": 7,
    "start_time": "2024-09-06T06:04:56.711Z"
   },
   {
    "duration": 7,
    "start_time": "2024-09-06T06:04:56.879Z"
   },
   {
    "duration": 4,
    "start_time": "2024-09-06T06:04:57.020Z"
   },
   {
    "duration": 10534,
    "start_time": "2024-09-06T06:04:57.232Z"
   },
   {
    "duration": 3,
    "start_time": "2024-09-06T06:05:07.768Z"
   },
   {
    "duration": 2404,
    "start_time": "2024-09-06T06:07:33.177Z"
   },
   {
    "duration": 830,
    "start_time": "2024-09-06T06:07:35.583Z"
   },
   {
    "duration": 3,
    "start_time": "2024-09-06T06:07:36.414Z"
   },
   {
    "duration": 332,
    "start_time": "2024-09-06T06:07:36.419Z"
   },
   {
    "duration": 2,
    "start_time": "2024-09-06T06:07:36.752Z"
   },
   {
    "duration": 32,
    "start_time": "2024-09-06T06:07:36.755Z"
   },
   {
    "duration": 12,
    "start_time": "2024-09-06T06:07:36.789Z"
   },
   {
    "duration": 18,
    "start_time": "2024-09-06T06:07:36.803Z"
   },
   {
    "duration": 37,
    "start_time": "2024-09-06T06:07:36.823Z"
   },
   {
    "duration": 84,
    "start_time": "2024-09-06T06:07:36.862Z"
   },
   {
    "duration": 27,
    "start_time": "2024-09-06T06:07:36.947Z"
   },
   {
    "duration": 124,
    "start_time": "2024-09-06T06:07:36.975Z"
   },
   {
    "duration": 14,
    "start_time": "2024-09-06T06:07:37.107Z"
   },
   {
    "duration": 23,
    "start_time": "2024-09-06T06:07:37.122Z"
   },
   {
    "duration": 41,
    "start_time": "2024-09-06T06:07:37.147Z"
   },
   {
    "duration": 3,
    "start_time": "2024-09-06T06:07:37.189Z"
   },
   {
    "duration": 17,
    "start_time": "2024-09-06T06:07:37.193Z"
   },
   {
    "duration": 99,
    "start_time": "2024-09-06T06:07:37.211Z"
   },
   {
    "duration": 303,
    "start_time": "2024-09-06T06:07:37.311Z"
   },
   {
    "duration": 295,
    "start_time": "2024-09-06T06:07:37.616Z"
   },
   {
    "duration": 3,
    "start_time": "2024-09-06T06:07:37.912Z"
   },
   {
    "duration": 93,
    "start_time": "2024-09-06T06:07:37.916Z"
   },
   {
    "duration": 98,
    "start_time": "2024-09-06T06:07:38.010Z"
   },
   {
    "duration": 14,
    "start_time": "2024-09-06T06:07:38.109Z"
   },
   {
    "duration": 15,
    "start_time": "2024-09-06T06:07:38.124Z"
   },
   {
    "duration": 15,
    "start_time": "2024-09-06T06:07:38.141Z"
   },
   {
    "duration": 160,
    "start_time": "2024-09-06T06:07:38.158Z"
   },
   {
    "duration": 3,
    "start_time": "2024-09-06T06:07:38.410Z"
   },
   {
    "duration": 96,
    "start_time": "2024-09-06T06:07:38.417Z"
   },
   {
    "duration": 19,
    "start_time": "2024-09-06T06:07:38.515Z"
   },
   {
    "duration": 16,
    "start_time": "2024-09-06T06:07:38.536Z"
   },
   {
    "duration": 25,
    "start_time": "2024-09-06T06:07:38.554Z"
   },
   {
    "duration": 10,
    "start_time": "2024-09-06T06:07:38.581Z"
   },
   {
    "duration": 5,
    "start_time": "2024-09-06T06:07:38.592Z"
   },
   {
    "duration": 29,
    "start_time": "2024-09-06T06:07:38.598Z"
   },
   {
    "duration": 20,
    "start_time": "2024-09-06T06:07:38.628Z"
   },
   {
    "duration": 115,
    "start_time": "2024-09-06T06:07:38.650Z"
   },
   {
    "duration": 0,
    "start_time": "2024-09-06T06:07:38.766Z"
   },
   {
    "duration": 4,
    "start_time": "2024-09-06T06:08:12.919Z"
   },
   {
    "duration": 2,
    "start_time": "2024-09-06T06:08:13.521Z"
   },
   {
    "duration": 10,
    "start_time": "2024-09-06T06:08:14.017Z"
   },
   {
    "duration": 4,
    "start_time": "2024-09-06T06:08:49.919Z"
   },
   {
    "duration": 2,
    "start_time": "2024-09-06T06:08:50.178Z"
   },
   {
    "duration": 10,
    "start_time": "2024-09-06T06:08:50.395Z"
   },
   {
    "duration": 4,
    "start_time": "2024-09-06T06:09:09.474Z"
   },
   {
    "duration": 2,
    "start_time": "2024-09-06T06:09:09.663Z"
   },
   {
    "duration": 10,
    "start_time": "2024-09-06T06:09:09.795Z"
   },
   {
    "duration": 3,
    "start_time": "2024-09-06T06:09:49.447Z"
   },
   {
    "duration": 2,
    "start_time": "2024-09-06T06:09:49.569Z"
   },
   {
    "duration": 812,
    "start_time": "2024-09-06T06:09:49.695Z"
   },
   {
    "duration": 7,
    "start_time": "2024-09-06T06:09:51.053Z"
   },
   {
    "duration": 2449,
    "start_time": "2024-09-06T06:11:54.817Z"
   },
   {
    "duration": 785,
    "start_time": "2024-09-06T06:11:57.268Z"
   },
   {
    "duration": 2,
    "start_time": "2024-09-06T06:11:58.056Z"
   },
   {
    "duration": 326,
    "start_time": "2024-09-06T06:11:58.059Z"
   },
   {
    "duration": 2,
    "start_time": "2024-09-06T06:11:58.386Z"
   },
   {
    "duration": 72,
    "start_time": "2024-09-06T06:11:58.389Z"
   },
   {
    "duration": 9,
    "start_time": "2024-09-06T06:11:58.462Z"
   },
   {
    "duration": 28,
    "start_time": "2024-09-06T06:11:58.473Z"
   },
   {
    "duration": 28,
    "start_time": "2024-09-06T06:11:58.503Z"
   },
   {
    "duration": 99,
    "start_time": "2024-09-06T06:11:58.533Z"
   },
   {
    "duration": 19,
    "start_time": "2024-09-06T06:11:58.633Z"
   },
   {
    "duration": 122,
    "start_time": "2024-09-06T06:11:58.653Z"
   },
   {
    "duration": 14,
    "start_time": "2024-09-06T06:11:58.777Z"
   },
   {
    "duration": 15,
    "start_time": "2024-09-06T06:11:58.792Z"
   },
   {
    "duration": 37,
    "start_time": "2024-09-06T06:11:58.808Z"
   },
   {
    "duration": 3,
    "start_time": "2024-09-06T06:11:58.847Z"
   },
   {
    "duration": 6,
    "start_time": "2024-09-06T06:11:58.851Z"
   },
   {
    "duration": 151,
    "start_time": "2024-09-06T06:11:58.859Z"
   },
   {
    "duration": 299,
    "start_time": "2024-09-06T06:11:59.012Z"
   },
   {
    "duration": 208,
    "start_time": "2024-09-06T06:11:59.312Z"
   },
   {
    "duration": 88,
    "start_time": "2024-09-06T06:11:59.521Z"
   },
   {
    "duration": 10,
    "start_time": "2024-09-06T06:11:59.611Z"
   },
   {
    "duration": 3,
    "start_time": "2024-09-06T06:11:59.707Z"
   },
   {
    "duration": 14,
    "start_time": "2024-09-06T06:11:59.711Z"
   },
   {
    "duration": 8,
    "start_time": "2024-09-06T06:11:59.726Z"
   },
   {
    "duration": 3,
    "start_time": "2024-09-06T06:11:59.735Z"
   },
   {
    "duration": 275,
    "start_time": "2024-09-06T06:11:59.740Z"
   },
   {
    "duration": 90,
    "start_time": "2024-09-06T06:12:00.018Z"
   },
   {
    "duration": 323,
    "start_time": "2024-09-06T06:12:00.110Z"
   },
   {
    "duration": 98,
    "start_time": "2024-09-06T06:12:00.434Z"
   },
   {
    "duration": 48,
    "start_time": "2024-09-06T06:12:00.534Z"
   },
   {
    "duration": 15,
    "start_time": "2024-09-06T06:12:00.584Z"
   },
   {
    "duration": 17,
    "start_time": "2024-09-06T06:12:00.601Z"
   },
   {
    "duration": 29,
    "start_time": "2024-09-06T06:12:00.620Z"
   },
   {
    "duration": 20,
    "start_time": "2024-09-06T06:12:00.651Z"
   },
   {
    "duration": 164,
    "start_time": "2024-09-06T06:12:00.673Z"
   },
   {
    "duration": 0,
    "start_time": "2024-09-06T06:12:00.838Z"
   },
   {
    "duration": 0,
    "start_time": "2024-09-06T06:12:00.839Z"
   },
   {
    "duration": 3,
    "start_time": "2024-09-06T06:12:23.872Z"
   },
   {
    "duration": 2,
    "start_time": "2024-09-06T06:12:24.026Z"
   },
   {
    "duration": 2377,
    "start_time": "2024-09-06T06:12:24.152Z"
   },
   {
    "duration": 2,
    "start_time": "2024-09-06T06:12:26.530Z"
   },
   {
    "duration": 5,
    "start_time": "2024-09-06T06:12:26.534Z"
   },
   {
    "duration": 2436,
    "start_time": "2024-09-06T06:13:20.507Z"
   },
   {
    "duration": 792,
    "start_time": "2024-09-06T06:13:22.946Z"
   },
   {
    "duration": 2,
    "start_time": "2024-09-06T06:13:23.739Z"
   },
   {
    "duration": 341,
    "start_time": "2024-09-06T06:13:23.743Z"
   },
   {
    "duration": 3,
    "start_time": "2024-09-06T06:13:24.085Z"
   },
   {
    "duration": 49,
    "start_time": "2024-09-06T06:13:24.089Z"
   },
   {
    "duration": 23,
    "start_time": "2024-09-06T06:13:24.140Z"
   },
   {
    "duration": 21,
    "start_time": "2024-09-06T06:13:24.165Z"
   },
   {
    "duration": 47,
    "start_time": "2024-09-06T06:13:24.187Z"
   },
   {
    "duration": 159,
    "start_time": "2024-09-06T06:13:24.237Z"
   },
   {
    "duration": 21,
    "start_time": "2024-09-06T06:13:24.406Z"
   },
   {
    "duration": 119,
    "start_time": "2024-09-06T06:13:24.428Z"
   },
   {
    "duration": 16,
    "start_time": "2024-09-06T06:13:24.549Z"
   },
   {
    "duration": 10,
    "start_time": "2024-09-06T06:13:24.566Z"
   },
   {
    "duration": 46,
    "start_time": "2024-09-06T06:13:24.577Z"
   },
   {
    "duration": 3,
    "start_time": "2024-09-06T06:13:24.624Z"
   },
   {
    "duration": 6,
    "start_time": "2024-09-06T06:13:24.629Z"
   },
   {
    "duration": 173,
    "start_time": "2024-09-06T06:13:24.636Z"
   },
   {
    "duration": 298,
    "start_time": "2024-09-06T06:13:24.811Z"
   },
   {
    "duration": 202,
    "start_time": "2024-09-06T06:13:25.111Z"
   },
   {
    "duration": 95,
    "start_time": "2024-09-06T06:13:25.315Z"
   },
   {
    "duration": 135,
    "start_time": "2024-09-06T06:13:25.412Z"
   },
   {
    "duration": 5,
    "start_time": "2024-09-06T06:13:25.548Z"
   },
   {
    "duration": 4,
    "start_time": "2024-09-06T06:13:25.554Z"
   },
   {
    "duration": 9,
    "start_time": "2024-09-06T06:13:25.560Z"
   },
   {
    "duration": 3,
    "start_time": "2024-09-06T06:13:25.570Z"
   },
   {
    "duration": 334,
    "start_time": "2024-09-06T06:13:25.575Z"
   },
   {
    "duration": 3,
    "start_time": "2024-09-06T06:13:25.912Z"
   },
   {
    "duration": 95,
    "start_time": "2024-09-06T06:13:25.916Z"
   },
   {
    "duration": 95,
    "start_time": "2024-09-06T06:13:26.013Z"
   },
   {
    "duration": 94,
    "start_time": "2024-09-06T06:13:26.109Z"
   },
   {
    "duration": 0,
    "start_time": "2024-09-06T06:13:26.205Z"
   },
   {
    "duration": 0,
    "start_time": "2024-09-06T06:13:26.205Z"
   },
   {
    "duration": 0,
    "start_time": "2024-09-06T06:13:26.207Z"
   },
   {
    "duration": 0,
    "start_time": "2024-09-06T06:13:26.207Z"
   },
   {
    "duration": 0,
    "start_time": "2024-09-06T06:13:26.208Z"
   },
   {
    "duration": 0,
    "start_time": "2024-09-06T06:13:26.209Z"
   },
   {
    "duration": 2429,
    "start_time": "2024-09-06T06:14:18.046Z"
   },
   {
    "duration": 796,
    "start_time": "2024-09-06T06:14:20.477Z"
   },
   {
    "duration": 3,
    "start_time": "2024-09-06T06:14:21.274Z"
   },
   {
    "duration": 347,
    "start_time": "2024-09-06T06:14:21.279Z"
   },
   {
    "duration": 2,
    "start_time": "2024-09-06T06:14:21.628Z"
   },
   {
    "duration": 26,
    "start_time": "2024-09-06T06:14:21.631Z"
   },
   {
    "duration": 17,
    "start_time": "2024-09-06T06:14:21.658Z"
   },
   {
    "duration": 15,
    "start_time": "2024-09-06T06:14:21.676Z"
   },
   {
    "duration": 32,
    "start_time": "2024-09-06T06:14:21.692Z"
   },
   {
    "duration": 96,
    "start_time": "2024-09-06T06:14:21.726Z"
   },
   {
    "duration": 18,
    "start_time": "2024-09-06T06:14:21.823Z"
   },
   {
    "duration": 114,
    "start_time": "2024-09-06T06:14:21.843Z"
   },
   {
    "duration": 14,
    "start_time": "2024-09-06T06:14:21.958Z"
   },
   {
    "duration": 23,
    "start_time": "2024-09-06T06:14:21.973Z"
   },
   {
    "duration": 31,
    "start_time": "2024-09-06T06:14:21.998Z"
   },
   {
    "duration": 3,
    "start_time": "2024-09-06T06:14:22.030Z"
   },
   {
    "duration": 20,
    "start_time": "2024-09-06T06:14:22.034Z"
   },
   {
    "duration": 153,
    "start_time": "2024-09-06T06:14:22.055Z"
   },
   {
    "duration": 202,
    "start_time": "2024-09-06T06:14:22.209Z"
   },
   {
    "duration": 306,
    "start_time": "2024-09-06T06:14:22.412Z"
   },
   {
    "duration": 3,
    "start_time": "2024-09-06T06:14:22.720Z"
   },
   {
    "duration": 8,
    "start_time": "2024-09-06T06:14:22.808Z"
   },
   {
    "duration": 14,
    "start_time": "2024-09-06T06:14:22.908Z"
   },
   {
    "duration": 27,
    "start_time": "2024-09-06T06:14:22.924Z"
   },
   {
    "duration": 11,
    "start_time": "2024-09-06T06:14:22.953Z"
   },
   {
    "duration": 20,
    "start_time": "2024-09-06T06:14:22.966Z"
   },
   {
    "duration": 320,
    "start_time": "2024-09-06T06:14:22.987Z"
   },
   {
    "duration": 4,
    "start_time": "2024-09-06T06:14:23.311Z"
   },
   {
    "duration": 89,
    "start_time": "2024-09-06T06:14:23.318Z"
   },
   {
    "duration": 147,
    "start_time": "2024-09-06T06:14:23.409Z"
   },
   {
    "duration": 79,
    "start_time": "2024-09-06T06:14:23.557Z"
   },
   {
    "duration": 58,
    "start_time": "2024-09-06T06:14:23.637Z"
   },
   {
    "duration": 89,
    "start_time": "2024-09-06T06:14:23.696Z"
   },
   {
    "duration": 9,
    "start_time": "2024-09-06T06:14:23.787Z"
   },
   {
    "duration": 96,
    "start_time": "2024-09-06T06:14:23.797Z"
   },
   {
    "duration": 0,
    "start_time": "2024-09-06T06:14:23.894Z"
   },
   {
    "duration": 0,
    "start_time": "2024-09-06T06:14:23.895Z"
   },
   {
    "duration": 4,
    "start_time": "2024-09-06T06:15:01.409Z"
   },
   {
    "duration": 722,
    "start_time": "2024-09-06T06:15:01.692Z"
   },
   {
    "duration": 2,
    "start_time": "2024-09-06T06:15:02.416Z"
   },
   {
    "duration": 56,
    "start_time": "2024-09-06T06:15:02.419Z"
   },
   {
    "duration": 3,
    "start_time": "2024-09-06T06:15:31.727Z"
   },
   {
    "duration": 716,
    "start_time": "2024-09-06T06:15:32.016Z"
   },
   {
    "duration": 2,
    "start_time": "2024-09-06T06:15:32.733Z"
   },
   {
    "duration": 28,
    "start_time": "2024-09-06T06:15:32.737Z"
   },
   {
    "duration": 2403,
    "start_time": "2024-09-06T06:17:42.040Z"
   },
   {
    "duration": 808,
    "start_time": "2024-09-06T06:17:44.444Z"
   },
   {
    "duration": 2,
    "start_time": "2024-09-06T06:17:45.254Z"
   },
   {
    "duration": 376,
    "start_time": "2024-09-06T06:17:45.258Z"
   },
   {
    "duration": 3,
    "start_time": "2024-09-06T06:17:45.635Z"
   },
   {
    "duration": 20,
    "start_time": "2024-09-06T06:17:45.639Z"
   },
   {
    "duration": 30,
    "start_time": "2024-09-06T06:17:45.661Z"
   },
   {
    "duration": 17,
    "start_time": "2024-09-06T06:17:45.693Z"
   },
   {
    "duration": 43,
    "start_time": "2024-09-06T06:17:45.711Z"
   },
   {
    "duration": 81,
    "start_time": "2024-09-06T06:17:45.756Z"
   },
   {
    "duration": 17,
    "start_time": "2024-09-06T06:17:45.839Z"
   },
   {
    "duration": 117,
    "start_time": "2024-09-06T06:17:45.858Z"
   },
   {
    "duration": 13,
    "start_time": "2024-09-06T06:17:45.977Z"
   },
   {
    "duration": 16,
    "start_time": "2024-09-06T06:17:45.991Z"
   },
   {
    "duration": 56,
    "start_time": "2024-09-06T06:17:46.009Z"
   },
   {
    "duration": 2,
    "start_time": "2024-09-06T06:17:46.066Z"
   },
   {
    "duration": 10,
    "start_time": "2024-09-06T06:17:46.069Z"
   },
   {
    "duration": 130,
    "start_time": "2024-09-06T06:17:46.081Z"
   },
   {
    "duration": 395,
    "start_time": "2024-09-06T06:17:46.213Z"
   },
   {
    "duration": 200,
    "start_time": "2024-09-06T06:17:46.610Z"
   },
   {
    "duration": 3,
    "start_time": "2024-09-06T06:17:46.811Z"
   },
   {
    "duration": 93,
    "start_time": "2024-09-06T06:17:46.815Z"
   },
   {
    "duration": 6,
    "start_time": "2024-09-06T06:17:46.909Z"
   },
   {
    "duration": 4,
    "start_time": "2024-09-06T06:17:46.917Z"
   },
   {
    "duration": 8,
    "start_time": "2024-09-06T06:17:47.007Z"
   },
   {
    "duration": 21,
    "start_time": "2024-09-06T06:17:47.016Z"
   },
   {
    "duration": 173,
    "start_time": "2024-09-06T06:17:47.038Z"
   },
   {
    "duration": 94,
    "start_time": "2024-09-06T06:17:47.214Z"
   },
   {
    "duration": 104,
    "start_time": "2024-09-06T06:17:47.310Z"
   },
   {
    "duration": 179,
    "start_time": "2024-09-06T06:17:47.416Z"
   },
   {
    "duration": 18,
    "start_time": "2024-09-06T06:17:47.597Z"
   },
   {
    "duration": 12,
    "start_time": "2024-09-06T06:17:47.616Z"
   },
   {
    "duration": 7,
    "start_time": "2024-09-06T06:17:47.629Z"
   },
   {
    "duration": 711,
    "start_time": "2024-09-06T06:17:47.637Z"
   },
   {
    "duration": 3,
    "start_time": "2024-09-06T06:17:48.349Z"
   },
   {
    "duration": 2486,
    "start_time": "2024-09-06T09:23:27.707Z"
   },
   {
    "duration": 878,
    "start_time": "2024-09-06T09:23:30.195Z"
   },
   {
    "duration": 3,
    "start_time": "2024-09-06T09:23:31.076Z"
   },
   {
    "duration": 367,
    "start_time": "2024-09-06T09:23:31.080Z"
   },
   {
    "duration": 2,
    "start_time": "2024-09-06T09:23:31.449Z"
   },
   {
    "duration": 69,
    "start_time": "2024-09-06T09:23:31.453Z"
   },
   {
    "duration": 23,
    "start_time": "2024-09-06T09:23:31.524Z"
   },
   {
    "duration": 50,
    "start_time": "2024-09-06T09:23:31.548Z"
   },
   {
    "duration": 46,
    "start_time": "2024-09-06T09:23:31.599Z"
   },
   {
    "duration": 92,
    "start_time": "2024-09-06T09:23:31.646Z"
   },
   {
    "duration": 25,
    "start_time": "2024-09-06T09:23:31.740Z"
   },
   {
    "duration": 120,
    "start_time": "2024-09-06T09:23:31.766Z"
   },
   {
    "duration": 29,
    "start_time": "2024-09-06T09:23:31.888Z"
   },
   {
    "duration": 14,
    "start_time": "2024-09-06T09:23:31.921Z"
   },
   {
    "duration": 39,
    "start_time": "2024-09-06T09:23:31.936Z"
   },
   {
    "duration": 2,
    "start_time": "2024-09-06T09:23:31.976Z"
   },
   {
    "duration": 6,
    "start_time": "2024-09-06T09:23:31.980Z"
   },
   {
    "duration": 130,
    "start_time": "2024-09-06T09:23:31.987Z"
   },
   {
    "duration": 206,
    "start_time": "2024-09-06T09:23:32.208Z"
   },
   {
    "duration": 293,
    "start_time": "2024-09-06T09:23:32.416Z"
   },
   {
    "duration": 5,
    "start_time": "2024-09-06T09:23:32.713Z"
   },
   {
    "duration": 93,
    "start_time": "2024-09-06T09:23:32.719Z"
   },
   {
    "duration": 100,
    "start_time": "2024-09-06T09:23:32.815Z"
   },
   {
    "duration": 26,
    "start_time": "2024-09-06T09:23:32.917Z"
   },
   {
    "duration": 9,
    "start_time": "2024-09-06T09:23:32.945Z"
   },
   {
    "duration": 15,
    "start_time": "2024-09-06T09:23:32.956Z"
   },
   {
    "duration": 335,
    "start_time": "2024-09-06T09:23:32.972Z"
   },
   {
    "duration": 4,
    "start_time": "2024-09-06T09:23:33.309Z"
   },
   {
    "duration": 96,
    "start_time": "2024-09-06T09:23:33.316Z"
   },
   {
    "duration": 11,
    "start_time": "2024-09-06T09:23:33.413Z"
   },
   {
    "duration": 82,
    "start_time": "2024-09-06T09:23:33.425Z"
   },
   {
    "duration": 4,
    "start_time": "2024-09-06T09:23:33.509Z"
   },
   {
    "duration": 8,
    "start_time": "2024-09-06T09:23:33.514Z"
   },
   {
    "duration": 740,
    "start_time": "2024-09-06T09:23:33.523Z"
   },
   {
    "duration": 3,
    "start_time": "2024-09-06T09:23:34.264Z"
   },
   {
    "duration": 2590,
    "start_time": "2024-09-06T09:52:12.721Z"
   },
   {
    "duration": 856,
    "start_time": "2024-09-06T09:52:15.313Z"
   },
   {
    "duration": 3,
    "start_time": "2024-09-06T09:52:16.170Z"
   },
   {
    "duration": 456,
    "start_time": "2024-09-06T09:52:16.175Z"
   },
   {
    "duration": 2,
    "start_time": "2024-09-06T09:52:16.633Z"
   },
   {
    "duration": 30,
    "start_time": "2024-09-06T09:52:16.636Z"
   },
   {
    "duration": 27,
    "start_time": "2024-09-06T09:52:16.667Z"
   },
   {
    "duration": 33,
    "start_time": "2024-09-06T09:52:16.695Z"
   },
   {
    "duration": 39,
    "start_time": "2024-09-06T09:52:16.730Z"
   },
   {
    "duration": 87,
    "start_time": "2024-09-06T09:52:16.771Z"
   },
   {
    "duration": 20,
    "start_time": "2024-09-06T09:52:16.860Z"
   },
   {
    "duration": 134,
    "start_time": "2024-09-06T09:52:16.881Z"
   },
   {
    "duration": 14,
    "start_time": "2024-09-06T09:52:17.017Z"
   },
   {
    "duration": 27,
    "start_time": "2024-09-06T09:52:17.033Z"
   },
   {
    "duration": 41,
    "start_time": "2024-09-06T09:52:17.061Z"
   },
   {
    "duration": 3,
    "start_time": "2024-09-06T09:52:17.103Z"
   },
   {
    "duration": 31,
    "start_time": "2024-09-06T09:52:17.107Z"
   },
   {
    "duration": 168,
    "start_time": "2024-09-06T09:52:17.140Z"
   },
   {
    "duration": 204,
    "start_time": "2024-09-06T09:52:17.309Z"
   },
   {
    "duration": 301,
    "start_time": "2024-09-06T09:52:17.515Z"
   },
   {
    "duration": 3,
    "start_time": "2024-09-06T09:52:17.908Z"
   },
   {
    "duration": 96,
    "start_time": "2024-09-06T09:52:17.912Z"
   },
   {
    "duration": 16,
    "start_time": "2024-09-06T09:52:18.010Z"
   },
   {
    "duration": 6,
    "start_time": "2024-09-06T09:52:18.027Z"
   },
   {
    "duration": 5,
    "start_time": "2024-09-06T09:52:18.034Z"
   },
   {
    "duration": 7,
    "start_time": "2024-09-06T09:52:18.040Z"
   },
   {
    "duration": 268,
    "start_time": "2024-09-06T09:52:18.048Z"
   },
   {
    "duration": 87,
    "start_time": "2024-09-06T09:52:18.320Z"
   },
   {
    "duration": 99,
    "start_time": "2024-09-06T09:52:18.409Z"
   },
   {
    "duration": 24,
    "start_time": "2024-09-06T09:52:18.509Z"
   },
   {
    "duration": 17,
    "start_time": "2024-09-06T09:52:18.534Z"
   },
   {
    "duration": 24,
    "start_time": "2024-09-06T09:52:18.552Z"
   },
   {
    "duration": 13,
    "start_time": "2024-09-06T09:52:18.577Z"
   },
   {
    "duration": 787,
    "start_time": "2024-09-06T09:52:18.592Z"
   },
   {
    "duration": 3,
    "start_time": "2024-09-06T09:52:19.380Z"
   },
   {
    "duration": 3,
    "start_time": "2024-09-06T10:06:19.767Z"
   },
   {
    "duration": 3,
    "start_time": "2024-09-06T10:06:46.568Z"
   },
   {
    "duration": 3,
    "start_time": "2024-09-06T10:06:53.639Z"
   },
   {
    "duration": 4,
    "start_time": "2024-09-06T10:07:09.108Z"
   },
   {
    "duration": 3,
    "start_time": "2024-09-06T10:07:14.522Z"
   },
   {
    "duration": 2,
    "start_time": "2024-09-06T10:07:22.208Z"
   },
   {
    "duration": 4,
    "start_time": "2024-09-06T10:08:00.888Z"
   },
   {
    "duration": 3,
    "start_time": "2024-09-06T10:09:08.173Z"
   },
   {
    "duration": 3,
    "start_time": "2024-09-06T10:09:22.359Z"
   },
   {
    "duration": 3,
    "start_time": "2024-09-06T10:09:25.801Z"
   },
   {
    "duration": 4,
    "start_time": "2024-09-06T10:10:30.532Z"
   },
   {
    "duration": 773,
    "start_time": "2024-09-06T10:10:30.828Z"
   },
   {
    "duration": 3,
    "start_time": "2024-09-06T10:10:31.607Z"
   },
   {
    "duration": 20,
    "start_time": "2024-09-06T10:10:31.611Z"
   },
   {
    "duration": 4,
    "start_time": "2024-09-06T10:10:31.633Z"
   },
   {
    "duration": 2481,
    "start_time": "2024-09-06T10:10:39.115Z"
   },
   {
    "duration": 854,
    "start_time": "2024-09-06T10:10:41.598Z"
   },
   {
    "duration": 3,
    "start_time": "2024-09-06T10:10:42.453Z"
   },
   {
    "duration": 365,
    "start_time": "2024-09-06T10:10:42.457Z"
   },
   {
    "duration": 3,
    "start_time": "2024-09-06T10:10:42.823Z"
   },
   {
    "duration": 24,
    "start_time": "2024-09-06T10:10:42.827Z"
   },
   {
    "duration": 20,
    "start_time": "2024-09-06T10:10:42.852Z"
   },
   {
    "duration": 21,
    "start_time": "2024-09-06T10:10:42.874Z"
   },
   {
    "duration": 30,
    "start_time": "2024-09-06T10:10:42.897Z"
   },
   {
    "duration": 92,
    "start_time": "2024-09-06T10:10:42.929Z"
   },
   {
    "duration": 19,
    "start_time": "2024-09-06T10:10:43.023Z"
   },
   {
    "duration": 142,
    "start_time": "2024-09-06T10:10:43.043Z"
   },
   {
    "duration": 20,
    "start_time": "2024-09-06T10:10:43.187Z"
   },
   {
    "duration": 30,
    "start_time": "2024-09-06T10:10:43.209Z"
   },
   {
    "duration": 32,
    "start_time": "2024-09-06T10:10:43.241Z"
   },
   {
    "duration": 4,
    "start_time": "2024-09-06T10:10:43.274Z"
   },
   {
    "duration": 27,
    "start_time": "2024-09-06T10:10:43.279Z"
   },
   {
    "duration": 203,
    "start_time": "2024-09-06T10:10:43.307Z"
   },
   {
    "duration": 298,
    "start_time": "2024-09-06T10:10:43.512Z"
   },
   {
    "duration": 201,
    "start_time": "2024-09-06T10:10:43.811Z"
   },
   {
    "duration": 95,
    "start_time": "2024-09-06T10:10:44.013Z"
   },
   {
    "duration": 154,
    "start_time": "2024-09-06T10:10:44.113Z"
   },
   {
    "duration": 156,
    "start_time": "2024-09-06T10:10:44.268Z"
   },
   {
    "duration": 18,
    "start_time": "2024-09-06T10:10:44.426Z"
   },
   {
    "duration": 10,
    "start_time": "2024-09-06T10:10:44.445Z"
   },
   {
    "duration": 14,
    "start_time": "2024-09-06T10:10:44.456Z"
   },
   {
    "duration": 239,
    "start_time": "2024-09-06T10:10:44.471Z"
   },
   {
    "duration": 4,
    "start_time": "2024-09-06T10:10:44.713Z"
   },
   {
    "duration": 8,
    "start_time": "2024-09-06T10:10:44.807Z"
   },
   {
    "duration": 95,
    "start_time": "2024-09-06T10:10:44.817Z"
   },
   {
    "duration": 6,
    "start_time": "2024-09-06T10:10:44.914Z"
   },
   {
    "duration": 15,
    "start_time": "2024-09-06T10:10:44.921Z"
   },
   {
    "duration": 3,
    "start_time": "2024-09-06T10:10:44.938Z"
   },
   {
    "duration": 767,
    "start_time": "2024-09-06T10:10:44.942Z"
   },
   {
    "duration": 3,
    "start_time": "2024-09-06T10:10:45.711Z"
   },
   {
    "duration": 12,
    "start_time": "2024-09-06T10:10:45.715Z"
   },
   {
    "duration": 21,
    "start_time": "2024-09-06T10:10:45.728Z"
   },
   {
    "duration": 2578,
    "start_time": "2024-09-06T10:11:03.455Z"
   },
   {
    "duration": 851,
    "start_time": "2024-09-06T10:11:06.035Z"
   },
   {
    "duration": 3,
    "start_time": "2024-09-06T10:11:06.887Z"
   },
   {
    "duration": 380,
    "start_time": "2024-09-06T10:11:06.891Z"
   },
   {
    "duration": 3,
    "start_time": "2024-09-06T10:11:07.272Z"
   },
   {
    "duration": 24,
    "start_time": "2024-09-06T10:11:07.276Z"
   },
   {
    "duration": 10,
    "start_time": "2024-09-06T10:11:07.301Z"
   },
   {
    "duration": 103,
    "start_time": "2024-09-06T10:11:07.312Z"
   },
   {
    "duration": 70,
    "start_time": "2024-09-06T10:11:07.416Z"
   },
   {
    "duration": 84,
    "start_time": "2024-09-06T10:11:07.489Z"
   },
   {
    "duration": 18,
    "start_time": "2024-09-06T10:11:07.574Z"
   },
   {
    "duration": 125,
    "start_time": "2024-09-06T10:11:07.593Z"
   },
   {
    "duration": 14,
    "start_time": "2024-09-06T10:11:07.719Z"
   },
   {
    "duration": 14,
    "start_time": "2024-09-06T10:11:07.735Z"
   },
   {
    "duration": 60,
    "start_time": "2024-09-06T10:11:07.750Z"
   },
   {
    "duration": 59,
    "start_time": "2024-09-06T10:11:07.812Z"
   },
   {
    "duration": 10,
    "start_time": "2024-09-06T10:11:07.872Z"
   },
   {
    "duration": 133,
    "start_time": "2024-09-06T10:11:07.884Z"
   },
   {
    "duration": 300,
    "start_time": "2024-09-06T10:11:08.018Z"
   },
   {
    "duration": 292,
    "start_time": "2024-09-06T10:11:08.319Z"
   },
   {
    "duration": 2,
    "start_time": "2024-09-06T10:11:08.613Z"
   },
   {
    "duration": 191,
    "start_time": "2024-09-06T10:11:08.616Z"
   },
   {
    "duration": 5,
    "start_time": "2024-09-06T10:11:08.808Z"
   },
   {
    "duration": 13,
    "start_time": "2024-09-06T10:11:08.815Z"
   },
   {
    "duration": 12,
    "start_time": "2024-09-06T10:11:08.829Z"
   },
   {
    "duration": 7,
    "start_time": "2024-09-06T10:11:08.842Z"
   },
   {
    "duration": 260,
    "start_time": "2024-09-06T10:11:08.850Z"
   },
   {
    "duration": 93,
    "start_time": "2024-09-06T10:11:09.113Z"
   },
   {
    "duration": 100,
    "start_time": "2024-09-06T10:11:09.208Z"
   },
   {
    "duration": 26,
    "start_time": "2024-09-06T10:11:09.309Z"
   },
   {
    "duration": 142,
    "start_time": "2024-09-06T10:11:09.336Z"
   },
   {
    "duration": 36,
    "start_time": "2024-09-06T10:11:09.480Z"
   },
   {
    "duration": 61,
    "start_time": "2024-09-06T10:11:09.518Z"
   },
   {
    "duration": 815,
    "start_time": "2024-09-06T10:11:09.580Z"
   },
   {
    "duration": 3,
    "start_time": "2024-09-06T10:11:10.397Z"
   },
   {
    "duration": 16,
    "start_time": "2024-09-06T10:11:10.407Z"
   },
   {
    "duration": 21,
    "start_time": "2024-09-06T10:11:10.424Z"
   },
   {
    "duration": 2503,
    "start_time": "2024-09-06T10:12:02.353Z"
   },
   {
    "duration": 803,
    "start_time": "2024-09-06T10:12:04.858Z"
   },
   {
    "duration": 2,
    "start_time": "2024-09-06T10:12:05.662Z"
   },
   {
    "duration": 381,
    "start_time": "2024-09-06T10:12:05.665Z"
   },
   {
    "duration": 2,
    "start_time": "2024-09-06T10:12:06.048Z"
   },
   {
    "duration": 60,
    "start_time": "2024-09-06T10:12:06.052Z"
   },
   {
    "duration": 23,
    "start_time": "2024-09-06T10:12:06.113Z"
   },
   {
    "duration": 23,
    "start_time": "2024-09-06T10:12:06.137Z"
   },
   {
    "duration": 56,
    "start_time": "2024-09-06T10:12:06.161Z"
   },
   {
    "duration": 99,
    "start_time": "2024-09-06T10:12:06.218Z"
   },
   {
    "duration": 38,
    "start_time": "2024-09-06T10:12:06.319Z"
   },
   {
    "duration": 119,
    "start_time": "2024-09-06T10:12:06.358Z"
   },
   {
    "duration": 16,
    "start_time": "2024-09-06T10:12:06.478Z"
   },
   {
    "duration": 75,
    "start_time": "2024-09-06T10:12:06.497Z"
   },
   {
    "duration": 104,
    "start_time": "2024-09-06T10:12:06.574Z"
   },
   {
    "duration": 38,
    "start_time": "2024-09-06T10:12:06.679Z"
   },
   {
    "duration": 13,
    "start_time": "2024-09-06T10:12:06.719Z"
   },
   {
    "duration": 81,
    "start_time": "2024-09-06T10:12:06.733Z"
   },
   {
    "duration": 296,
    "start_time": "2024-09-06T10:12:06.815Z"
   },
   {
    "duration": 304,
    "start_time": "2024-09-06T10:12:07.112Z"
   },
   {
    "duration": 3,
    "start_time": "2024-09-06T10:12:07.508Z"
   },
   {
    "duration": 96,
    "start_time": "2024-09-06T10:12:07.512Z"
   },
   {
    "duration": 23,
    "start_time": "2024-09-06T10:12:07.610Z"
   },
   {
    "duration": 16,
    "start_time": "2024-09-06T10:12:07.634Z"
   },
   {
    "duration": 11,
    "start_time": "2024-09-06T10:12:07.651Z"
   },
   {
    "duration": 17,
    "start_time": "2024-09-06T10:12:07.663Z"
   },
   {
    "duration": 333,
    "start_time": "2024-09-06T10:12:07.681Z"
   },
   {
    "duration": 4,
    "start_time": "2024-09-06T10:12:08.016Z"
   },
   {
    "duration": 95,
    "start_time": "2024-09-06T10:12:08.022Z"
   },
   {
    "duration": 121,
    "start_time": "2024-09-06T10:12:08.118Z"
   },
   {
    "duration": 5,
    "start_time": "2024-09-06T10:12:08.241Z"
   },
   {
    "duration": 17,
    "start_time": "2024-09-06T10:12:08.247Z"
   },
   {
    "duration": 16,
    "start_time": "2024-09-06T10:12:08.265Z"
   },
   {
    "duration": 745,
    "start_time": "2024-09-06T10:12:08.283Z"
   },
   {
    "duration": 4,
    "start_time": "2024-09-06T10:12:09.029Z"
   },
   {
    "duration": 10,
    "start_time": "2024-09-06T10:12:09.035Z"
   },
   {
    "duration": 6,
    "start_time": "2024-09-06T10:12:09.046Z"
   },
   {
    "duration": 2478,
    "start_time": "2024-09-06T10:12:41.329Z"
   },
   {
    "duration": 837,
    "start_time": "2024-09-06T10:12:43.809Z"
   },
   {
    "duration": 2,
    "start_time": "2024-09-06T10:12:44.647Z"
   },
   {
    "duration": 333,
    "start_time": "2024-09-06T10:12:44.651Z"
   },
   {
    "duration": 2,
    "start_time": "2024-09-06T10:12:44.985Z"
   },
   {
    "duration": 29,
    "start_time": "2024-09-06T10:12:44.989Z"
   },
   {
    "duration": 24,
    "start_time": "2024-09-06T10:12:45.019Z"
   },
   {
    "duration": 14,
    "start_time": "2024-09-06T10:12:45.044Z"
   },
   {
    "duration": 55,
    "start_time": "2024-09-06T10:12:45.059Z"
   },
   {
    "duration": 96,
    "start_time": "2024-09-06T10:12:45.116Z"
   },
   {
    "duration": 23,
    "start_time": "2024-09-06T10:12:45.214Z"
   },
   {
    "duration": 136,
    "start_time": "2024-09-06T10:12:45.239Z"
   },
   {
    "duration": 14,
    "start_time": "2024-09-06T10:12:45.377Z"
   },
   {
    "duration": 72,
    "start_time": "2024-09-06T10:12:45.392Z"
   },
   {
    "duration": 47,
    "start_time": "2024-09-06T10:12:45.465Z"
   },
   {
    "duration": 2,
    "start_time": "2024-09-06T10:12:45.514Z"
   },
   {
    "duration": 15,
    "start_time": "2024-09-06T10:12:45.518Z"
   },
   {
    "duration": 78,
    "start_time": "2024-09-06T10:12:45.534Z"
   },
   {
    "duration": 299,
    "start_time": "2024-09-06T10:12:45.613Z"
   },
   {
    "duration": 300,
    "start_time": "2024-09-06T10:12:45.915Z"
   },
   {
    "duration": 91,
    "start_time": "2024-09-06T10:12:46.217Z"
   },
   {
    "duration": 106,
    "start_time": "2024-09-06T10:12:46.310Z"
   },
   {
    "duration": 4,
    "start_time": "2024-09-06T10:12:46.417Z"
   },
   {
    "duration": 22,
    "start_time": "2024-09-06T10:12:46.422Z"
   },
   {
    "duration": 12,
    "start_time": "2024-09-06T10:12:46.446Z"
   },
   {
    "duration": 15,
    "start_time": "2024-09-06T10:12:46.459Z"
   },
   {
    "duration": 240,
    "start_time": "2024-09-06T10:12:46.475Z"
   },
   {
    "duration": 90,
    "start_time": "2024-09-06T10:12:46.718Z"
   },
   {
    "duration": 98,
    "start_time": "2024-09-06T10:12:46.810Z"
   },
   {
    "duration": 31,
    "start_time": "2024-09-06T10:12:46.909Z"
   },
   {
    "duration": 10,
    "start_time": "2024-09-06T10:12:46.942Z"
   },
   {
    "duration": 8,
    "start_time": "2024-09-06T10:12:46.954Z"
   },
   {
    "duration": 31,
    "start_time": "2024-09-06T10:12:46.963Z"
   },
   {
    "duration": 773,
    "start_time": "2024-09-06T10:12:46.996Z"
   },
   {
    "duration": 4,
    "start_time": "2024-09-06T10:12:47.770Z"
   },
   {
    "duration": 17,
    "start_time": "2024-09-06T10:12:47.775Z"
   },
   {
    "duration": 71,
    "start_time": "2024-09-06T10:12:47.794Z"
   },
   {
    "duration": 3,
    "start_time": "2024-09-06T10:13:09.930Z"
   },
   {
    "duration": 4,
    "start_time": "2024-09-06T10:13:16.046Z"
   },
   {
    "duration": 3,
    "start_time": "2024-09-06T10:49:53.123Z"
   },
   {
    "duration": 2675,
    "start_time": "2024-09-06T12:41:46.760Z"
   },
   {
    "duration": 826,
    "start_time": "2024-09-06T12:41:49.437Z"
   },
   {
    "duration": 2,
    "start_time": "2024-09-06T12:41:50.264Z"
   },
   {
    "duration": 401,
    "start_time": "2024-09-06T12:41:50.268Z"
   },
   {
    "duration": 3,
    "start_time": "2024-09-06T12:41:50.671Z"
   },
   {
    "duration": 252,
    "start_time": "2024-09-06T12:41:50.675Z"
   },
   {
    "duration": 16,
    "start_time": "2024-09-06T12:41:50.928Z"
   },
   {
    "duration": 34,
    "start_time": "2024-09-06T12:41:50.945Z"
   },
   {
    "duration": 60,
    "start_time": "2024-09-06T12:41:50.980Z"
   },
   {
    "duration": 106,
    "start_time": "2024-09-06T12:41:51.043Z"
   },
   {
    "duration": 22,
    "start_time": "2024-09-06T12:41:51.150Z"
   },
   {
    "duration": 149,
    "start_time": "2024-09-06T12:41:51.174Z"
   },
   {
    "duration": 18,
    "start_time": "2024-09-06T12:41:51.325Z"
   },
   {
    "duration": 6,
    "start_time": "2024-09-06T12:41:51.345Z"
   },
   {
    "duration": 36,
    "start_time": "2024-09-06T12:41:51.353Z"
   },
   {
    "duration": 32,
    "start_time": "2024-09-06T12:41:51.391Z"
   },
   {
    "duration": 40,
    "start_time": "2024-09-06T12:41:51.425Z"
   },
   {
    "duration": 64,
    "start_time": "2024-09-06T12:41:51.467Z"
   },
   {
    "duration": 204,
    "start_time": "2024-09-06T12:41:51.532Z"
   },
   {
    "duration": 290,
    "start_time": "2024-09-06T12:41:51.738Z"
   },
   {
    "duration": 2,
    "start_time": "2024-09-06T12:41:52.030Z"
   },
   {
    "duration": 106,
    "start_time": "2024-09-06T12:41:52.113Z"
   },
   {
    "duration": 28,
    "start_time": "2024-09-06T12:41:52.220Z"
   },
   {
    "duration": 18,
    "start_time": "2024-09-06T12:41:52.250Z"
   },
   {
    "duration": 89,
    "start_time": "2024-09-06T12:41:52.270Z"
   },
   {
    "duration": 40,
    "start_time": "2024-09-06T12:41:52.360Z"
   },
   {
    "duration": 227,
    "start_time": "2024-09-06T12:41:52.401Z"
   },
   {
    "duration": 9,
    "start_time": "2024-09-06T12:41:52.720Z"
   },
   {
    "duration": 159,
    "start_time": "2024-09-06T12:41:52.732Z"
   },
   {
    "duration": 10,
    "start_time": "2024-09-06T12:41:52.892Z"
   },
   {
    "duration": 39,
    "start_time": "2024-09-06T12:41:52.903Z"
   },
   {
    "duration": 22,
    "start_time": "2024-09-06T12:41:52.944Z"
   },
   {
    "duration": 6,
    "start_time": "2024-09-06T12:41:52.968Z"
   },
   {
    "duration": 882,
    "start_time": "2024-09-06T12:41:52.975Z"
   },
   {
    "duration": 4,
    "start_time": "2024-09-06T12:41:53.858Z"
   },
   {
    "duration": 7,
    "start_time": "2024-09-06T12:41:53.863Z"
   },
   {
    "duration": 21,
    "start_time": "2024-09-06T12:41:53.871Z"
   },
   {
    "duration": 3,
    "start_time": "2024-09-06T13:09:08.966Z"
   },
   {
    "duration": 2695,
    "start_time": "2024-09-06T13:09:23.203Z"
   },
   {
    "duration": 869,
    "start_time": "2024-09-06T13:09:25.900Z"
   },
   {
    "duration": 2,
    "start_time": "2024-09-06T13:09:26.771Z"
   },
   {
    "duration": 397,
    "start_time": "2024-09-06T13:09:26.774Z"
   },
   {
    "duration": 8,
    "start_time": "2024-09-06T13:09:27.173Z"
   },
   {
    "duration": 43,
    "start_time": "2024-09-06T13:09:27.183Z"
   },
   {
    "duration": 13,
    "start_time": "2024-09-06T13:09:27.228Z"
   },
   {
    "duration": 10,
    "start_time": "2024-09-06T13:09:27.242Z"
   },
   {
    "duration": 58,
    "start_time": "2024-09-06T13:09:27.254Z"
   },
   {
    "duration": 105,
    "start_time": "2024-09-06T13:09:27.317Z"
   },
   {
    "duration": 19,
    "start_time": "2024-09-06T13:09:27.423Z"
   },
   {
    "duration": 122,
    "start_time": "2024-09-06T13:09:27.443Z"
   },
   {
    "duration": 14,
    "start_time": "2024-09-06T13:09:27.566Z"
   },
   {
    "duration": 3,
    "start_time": "2024-09-06T13:09:27.583Z"
   },
   {
    "duration": 45,
    "start_time": "2024-09-06T13:09:27.588Z"
   },
   {
    "duration": 3,
    "start_time": "2024-09-06T13:09:27.634Z"
   },
   {
    "duration": 15,
    "start_time": "2024-09-06T13:09:27.638Z"
   },
   {
    "duration": 162,
    "start_time": "2024-09-06T13:09:27.655Z"
   },
   {
    "duration": 189,
    "start_time": "2024-09-06T13:09:27.818Z"
   },
   {
    "duration": 202,
    "start_time": "2024-09-06T13:09:28.012Z"
   },
   {
    "duration": 6,
    "start_time": "2024-09-06T13:09:28.220Z"
   },
   {
    "duration": 100,
    "start_time": "2024-09-06T13:09:28.320Z"
   },
   {
    "duration": 95,
    "start_time": "2024-09-06T13:09:28.422Z"
   },
   {
    "duration": 9,
    "start_time": "2024-09-06T13:09:28.519Z"
   },
   {
    "duration": 9,
    "start_time": "2024-09-06T13:09:28.530Z"
   },
   {
    "duration": 9,
    "start_time": "2024-09-06T13:09:28.541Z"
   },
   {
    "duration": 261,
    "start_time": "2024-09-06T13:09:28.552Z"
   },
   {
    "duration": 10,
    "start_time": "2024-09-06T13:09:28.815Z"
   },
   {
    "duration": 109,
    "start_time": "2024-09-06T13:09:28.826Z"
   },
   {
    "duration": 30,
    "start_time": "2024-09-06T13:09:28.937Z"
   },
   {
    "duration": 23,
    "start_time": "2024-09-06T13:09:28.968Z"
   },
   {
    "duration": 13,
    "start_time": "2024-09-06T13:09:29.007Z"
   },
   {
    "duration": 6,
    "start_time": "2024-09-06T13:09:29.021Z"
   },
   {
    "duration": 993,
    "start_time": "2024-09-06T13:09:29.029Z"
   },
   {
    "duration": 4,
    "start_time": "2024-09-06T13:09:30.023Z"
   },
   {
    "duration": 34,
    "start_time": "2024-09-06T13:09:30.028Z"
   },
   {
    "duration": 116,
    "start_time": "2024-09-06T13:09:30.063Z"
   },
   {
    "duration": 4,
    "start_time": "2024-09-06T13:10:04.822Z"
   },
   {
    "duration": 3,
    "start_time": "2024-09-06T13:10:05.823Z"
   },
   {
    "duration": 907,
    "start_time": "2024-09-06T13:10:06.352Z"
   },
   {
    "duration": 0,
    "start_time": "2024-09-06T13:10:07.261Z"
   },
   {
    "duration": 1051,
    "start_time": "2024-09-06T13:10:07.361Z"
   },
   {
    "duration": 7,
    "start_time": "2024-09-06T13:10:28.954Z"
   },
   {
    "duration": 5,
    "start_time": "2024-09-06T13:10:32.940Z"
   },
   {
    "duration": 3,
    "start_time": "2024-09-06T13:11:33.470Z"
   },
   {
    "duration": 3,
    "start_time": "2024-09-06T13:12:24.466Z"
   },
   {
    "duration": 3,
    "start_time": "2024-09-06T13:12:25.062Z"
   },
   {
    "duration": 7,
    "start_time": "2024-09-06T13:12:25.271Z"
   },
   {
    "duration": 6,
    "start_time": "2024-09-06T13:12:25.468Z"
   },
   {
    "duration": 4,
    "start_time": "2024-09-06T13:12:50.002Z"
   },
   {
    "duration": 3,
    "start_time": "2024-09-06T13:12:50.595Z"
   },
   {
    "duration": 6,
    "start_time": "2024-09-06T13:12:50.922Z"
   },
   {
    "duration": 6,
    "start_time": "2024-09-06T13:12:51.461Z"
   },
   {
    "duration": 6,
    "start_time": "2024-09-06T13:12:51.739Z"
   },
   {
    "duration": 10,
    "start_time": "2024-09-06T13:13:19.606Z"
   },
   {
    "duration": 3,
    "start_time": "2024-09-06T13:13:20.191Z"
   },
   {
    "duration": 18,
    "start_time": "2024-09-06T13:13:20.401Z"
   },
   {
    "duration": 77,
    "start_time": "2024-09-06T13:13:37.443Z"
   },
   {
    "duration": 3,
    "start_time": "2024-09-06T13:13:37.873Z"
   },
   {
    "duration": 16,
    "start_time": "2024-09-06T13:13:38.081Z"
   },
   {
    "duration": 12,
    "start_time": "2024-09-06T13:13:38.390Z"
   },
   {
    "duration": 4,
    "start_time": "2024-09-06T13:13:49.324Z"
   },
   {
    "duration": 3,
    "start_time": "2024-09-06T13:13:49.843Z"
   },
   {
    "duration": 21,
    "start_time": "2024-09-06T13:13:49.989Z"
   },
   {
    "duration": 19,
    "start_time": "2024-09-06T13:13:50.380Z"
   },
   {
    "duration": 4,
    "start_time": "2024-09-06T13:15:19.029Z"
   },
   {
    "duration": 3,
    "start_time": "2024-09-06T13:15:19.489Z"
   },
   {
    "duration": 7,
    "start_time": "2024-09-06T13:15:19.629Z"
   },
   {
    "duration": 6,
    "start_time": "2024-09-06T13:15:19.768Z"
   },
   {
    "duration": 2624,
    "start_time": "2024-09-06T13:15:26.718Z"
   },
   {
    "duration": 938,
    "start_time": "2024-09-06T13:15:29.345Z"
   },
   {
    "duration": 3,
    "start_time": "2024-09-06T13:15:30.285Z"
   },
   {
    "duration": 584,
    "start_time": "2024-09-06T13:15:30.289Z"
   },
   {
    "duration": 2,
    "start_time": "2024-09-06T13:15:30.875Z"
   },
   {
    "duration": 112,
    "start_time": "2024-09-06T13:15:30.878Z"
   },
   {
    "duration": 27,
    "start_time": "2024-09-06T13:15:30.992Z"
   },
   {
    "duration": 18,
    "start_time": "2024-09-06T13:15:31.024Z"
   },
   {
    "duration": 55,
    "start_time": "2024-09-06T13:15:31.044Z"
   },
   {
    "duration": 122,
    "start_time": "2024-09-06T13:15:31.100Z"
   },
   {
    "duration": 31,
    "start_time": "2024-09-06T13:15:31.225Z"
   },
   {
    "duration": 130,
    "start_time": "2024-09-06T13:15:31.258Z"
   },
   {
    "duration": 35,
    "start_time": "2024-09-06T13:15:31.389Z"
   },
   {
    "duration": 4,
    "start_time": "2024-09-06T13:15:31.427Z"
   },
   {
    "duration": 53,
    "start_time": "2024-09-06T13:15:31.432Z"
   },
   {
    "duration": 4,
    "start_time": "2024-09-06T13:15:31.486Z"
   },
   {
    "duration": 6,
    "start_time": "2024-09-06T13:15:31.491Z"
   },
   {
    "duration": 133,
    "start_time": "2024-09-06T13:15:31.499Z"
   },
   {
    "duration": 202,
    "start_time": "2024-09-06T13:15:31.634Z"
   },
   {
    "duration": 291,
    "start_time": "2024-09-06T13:15:31.837Z"
   },
   {
    "duration": 78,
    "start_time": "2024-09-06T13:15:32.134Z"
   },
   {
    "duration": 105,
    "start_time": "2024-09-06T13:15:32.218Z"
   },
   {
    "duration": 164,
    "start_time": "2024-09-06T13:15:32.324Z"
   },
   {
    "duration": 30,
    "start_time": "2024-09-06T13:15:32.489Z"
   },
   {
    "duration": 16,
    "start_time": "2024-09-06T13:15:32.521Z"
   },
   {
    "duration": 21,
    "start_time": "2024-09-06T13:15:32.538Z"
   },
   {
    "duration": 270,
    "start_time": "2024-09-06T13:15:32.560Z"
   },
   {
    "duration": 84,
    "start_time": "2024-09-06T13:15:32.832Z"
   },
   {
    "duration": 122,
    "start_time": "2024-09-06T13:15:32.917Z"
   },
   {
    "duration": 9,
    "start_time": "2024-09-06T13:15:33.041Z"
   },
   {
    "duration": 24,
    "start_time": "2024-09-06T13:15:33.052Z"
   },
   {
    "duration": 16,
    "start_time": "2024-09-06T13:15:33.077Z"
   },
   {
    "duration": 9,
    "start_time": "2024-09-06T13:15:33.094Z"
   },
   {
    "duration": 18,
    "start_time": "2024-09-06T13:15:33.104Z"
   },
   {
    "duration": 911,
    "start_time": "2024-09-06T13:15:33.124Z"
   },
   {
    "duration": 3,
    "start_time": "2024-09-06T13:15:34.036Z"
   },
   {
    "duration": 37,
    "start_time": "2024-09-06T13:15:34.040Z"
   },
   {
    "duration": 9,
    "start_time": "2024-09-06T13:15:34.078Z"
   },
   {
    "duration": 5,
    "start_time": "2024-09-06T13:17:55.026Z"
   },
   {
    "duration": 3,
    "start_time": "2024-09-06T13:17:55.758Z"
   },
   {
    "duration": 7,
    "start_time": "2024-09-06T13:17:56.122Z"
   },
   {
    "duration": 5,
    "start_time": "2024-09-06T13:17:56.494Z"
   },
   {
    "duration": 6,
    "start_time": "2024-09-06T13:17:56.986Z"
   },
   {
    "duration": 2660,
    "start_time": "2024-09-06T13:18:31.866Z"
   },
   {
    "duration": 896,
    "start_time": "2024-09-06T13:18:34.528Z"
   },
   {
    "duration": 3,
    "start_time": "2024-09-06T13:18:35.426Z"
   },
   {
    "duration": 386,
    "start_time": "2024-09-06T13:18:35.430Z"
   },
   {
    "duration": 3,
    "start_time": "2024-09-06T13:18:35.821Z"
   },
   {
    "duration": 47,
    "start_time": "2024-09-06T13:18:35.825Z"
   },
   {
    "duration": 47,
    "start_time": "2024-09-06T13:18:35.873Z"
   },
   {
    "duration": 14,
    "start_time": "2024-09-06T13:18:35.921Z"
   },
   {
    "duration": 33,
    "start_time": "2024-09-06T13:18:35.937Z"
   },
   {
    "duration": 107,
    "start_time": "2024-09-06T13:18:35.972Z"
   },
   {
    "duration": 42,
    "start_time": "2024-09-06T13:18:36.080Z"
   },
   {
    "duration": 116,
    "start_time": "2024-09-06T13:18:36.123Z"
   },
   {
    "duration": 14,
    "start_time": "2024-09-06T13:18:36.240Z"
   },
   {
    "duration": 8,
    "start_time": "2024-09-06T13:18:36.257Z"
   },
   {
    "duration": 63,
    "start_time": "2024-09-06T13:18:36.266Z"
   },
   {
    "duration": 3,
    "start_time": "2024-09-06T13:18:36.330Z"
   },
   {
    "duration": 109,
    "start_time": "2024-09-06T13:18:36.335Z"
   },
   {
    "duration": 262,
    "start_time": "2024-09-06T13:18:36.446Z"
   },
   {
    "duration": 210,
    "start_time": "2024-09-06T13:18:36.713Z"
   },
   {
    "duration": 307,
    "start_time": "2024-09-06T13:18:36.925Z"
   },
   {
    "duration": 8,
    "start_time": "2024-09-06T13:18:37.307Z"
   },
   {
    "duration": 6,
    "start_time": "2024-09-06T13:18:37.316Z"
   },
   {
    "duration": 97,
    "start_time": "2024-09-06T13:18:37.324Z"
   },
   {
    "duration": 7,
    "start_time": "2024-09-06T13:18:37.422Z"
   },
   {
    "duration": 4,
    "start_time": "2024-09-06T13:18:37.430Z"
   },
   {
    "duration": 8,
    "start_time": "2024-09-06T13:18:37.435Z"
   },
   {
    "duration": 186,
    "start_time": "2024-09-06T13:18:37.444Z"
   },
   {
    "duration": 83,
    "start_time": "2024-09-06T13:18:37.631Z"
   },
   {
    "duration": 4,
    "start_time": "2024-09-06T13:18:37.716Z"
   },
   {
    "duration": 10,
    "start_time": "2024-09-06T13:18:37.722Z"
   },
   {
    "duration": 96,
    "start_time": "2024-09-06T13:18:37.733Z"
   },
   {
    "duration": 13,
    "start_time": "2024-09-06T13:18:37.830Z"
   },
   {
    "duration": 7,
    "start_time": "2024-09-06T13:18:37.844Z"
   },
   {
    "duration": 10,
    "start_time": "2024-09-06T13:18:37.852Z"
   },
   {
    "duration": 916,
    "start_time": "2024-09-06T13:18:37.863Z"
   },
   {
    "duration": 3,
    "start_time": "2024-09-06T13:18:38.780Z"
   },
   {
    "duration": 101,
    "start_time": "2024-09-06T13:18:38.785Z"
   },
   {
    "duration": 114,
    "start_time": "2024-09-06T13:18:38.888Z"
   },
   {
    "duration": 3,
    "start_time": "2024-09-06T13:20:11.500Z"
   },
   {
    "duration": 1767,
    "start_time": "2024-09-06T13:20:25.484Z"
   },
   {
    "duration": 2,
    "start_time": "2024-09-06T13:20:29.559Z"
   },
   {
    "duration": 2684,
    "start_time": "2024-09-06T13:25:51.975Z"
   },
   {
    "duration": 825,
    "start_time": "2024-09-06T13:25:54.661Z"
   },
   {
    "duration": 3,
    "start_time": "2024-09-06T13:25:55.488Z"
   },
   {
    "duration": 393,
    "start_time": "2024-09-06T13:25:55.492Z"
   },
   {
    "duration": 3,
    "start_time": "2024-09-06T13:25:55.889Z"
   },
   {
    "duration": 29,
    "start_time": "2024-09-06T13:25:55.896Z"
   },
   {
    "duration": 18,
    "start_time": "2024-09-06T13:25:55.927Z"
   },
   {
    "duration": 23,
    "start_time": "2024-09-06T13:25:55.947Z"
   },
   {
    "duration": 53,
    "start_time": "2024-09-06T13:25:55.972Z"
   },
   {
    "duration": 106,
    "start_time": "2024-09-06T13:25:56.027Z"
   },
   {
    "duration": 21,
    "start_time": "2024-09-06T13:25:56.135Z"
   },
   {
    "duration": 132,
    "start_time": "2024-09-06T13:25:56.157Z"
   },
   {
    "duration": 24,
    "start_time": "2024-09-06T13:25:56.292Z"
   },
   {
    "duration": 3,
    "start_time": "2024-09-06T13:25:56.325Z"
   },
   {
    "duration": 61,
    "start_time": "2024-09-06T13:25:56.329Z"
   },
   {
    "duration": 3,
    "start_time": "2024-09-06T13:25:56.391Z"
   },
   {
    "duration": 157,
    "start_time": "2024-09-06T13:25:56.396Z"
   },
   {
    "duration": 87,
    "start_time": "2024-09-06T13:25:56.554Z"
   },
   {
    "duration": 284,
    "start_time": "2024-09-06T13:25:56.732Z"
   },
   {
    "duration": 291,
    "start_time": "2024-09-06T13:25:57.025Z"
   },
   {
    "duration": 10,
    "start_time": "2024-09-06T13:25:57.318Z"
   },
   {
    "duration": 92,
    "start_time": "2024-09-06T13:25:57.330Z"
   },
   {
    "duration": 95,
    "start_time": "2024-09-06T13:25:57.424Z"
   },
   {
    "duration": 4,
    "start_time": "2024-09-06T13:25:57.521Z"
   },
   {
    "duration": 7,
    "start_time": "2024-09-06T13:25:57.527Z"
   },
   {
    "duration": 4,
    "start_time": "2024-09-06T13:25:57.536Z"
   },
   {
    "duration": 287,
    "start_time": "2024-09-06T13:25:57.541Z"
   },
   {
    "duration": 77,
    "start_time": "2024-09-06T13:25:57.832Z"
   },
   {
    "duration": 5,
    "start_time": "2024-09-06T13:25:57.914Z"
   },
   {
    "duration": 85,
    "start_time": "2024-09-06T13:25:57.923Z"
   },
   {
    "duration": 3,
    "start_time": "2024-09-06T13:25:58.010Z"
   },
   {
    "duration": 119,
    "start_time": "2024-09-06T13:25:58.014Z"
   },
   {
    "duration": 0,
    "start_time": "2024-09-06T13:25:58.134Z"
   },
   {
    "duration": 0,
    "start_time": "2024-09-06T13:25:58.135Z"
   },
   {
    "duration": 0,
    "start_time": "2024-09-06T13:25:58.136Z"
   },
   {
    "duration": 0,
    "start_time": "2024-09-06T13:25:58.137Z"
   },
   {
    "duration": 0,
    "start_time": "2024-09-06T13:25:58.138Z"
   },
   {
    "duration": 0,
    "start_time": "2024-09-06T13:25:58.139Z"
   },
   {
    "duration": 0,
    "start_time": "2024-09-06T13:25:58.139Z"
   },
   {
    "duration": 7,
    "start_time": "2024-09-06T13:26:18.705Z"
   },
   {
    "duration": 2,
    "start_time": "2024-09-06T13:26:19.285Z"
   },
   {
    "duration": 4,
    "start_time": "2024-09-06T13:26:19.484Z"
   },
   {
    "duration": 5,
    "start_time": "2024-09-06T13:26:19.718Z"
   },
   {
    "duration": 5,
    "start_time": "2024-09-06T13:26:20.186Z"
   },
   {
    "duration": 2668,
    "start_time": "2024-09-06T13:26:31.294Z"
   },
   {
    "duration": 777,
    "start_time": "2024-09-06T13:26:33.965Z"
   },
   {
    "duration": 2,
    "start_time": "2024-09-06T13:26:34.743Z"
   },
   {
    "duration": 408,
    "start_time": "2024-09-06T13:26:34.747Z"
   },
   {
    "duration": 3,
    "start_time": "2024-09-06T13:26:35.156Z"
   },
   {
    "duration": 75,
    "start_time": "2024-09-06T13:26:35.161Z"
   },
   {
    "duration": 11,
    "start_time": "2024-09-06T13:26:35.237Z"
   },
   {
    "duration": 24,
    "start_time": "2024-09-06T13:26:35.250Z"
   },
   {
    "duration": 59,
    "start_time": "2024-09-06T13:26:35.276Z"
   },
   {
    "duration": 109,
    "start_time": "2024-09-06T13:26:35.338Z"
   },
   {
    "duration": 20,
    "start_time": "2024-09-06T13:26:35.448Z"
   },
   {
    "duration": 124,
    "start_time": "2024-09-06T13:26:35.470Z"
   },
   {
    "duration": 26,
    "start_time": "2024-09-06T13:26:35.595Z"
   },
   {
    "duration": 4,
    "start_time": "2024-09-06T13:26:35.622Z"
   },
   {
    "duration": 44,
    "start_time": "2024-09-06T13:26:35.627Z"
   },
   {
    "duration": 3,
    "start_time": "2024-09-06T13:26:35.672Z"
   },
   {
    "duration": 43,
    "start_time": "2024-09-06T13:26:35.676Z"
   },
   {
    "duration": 111,
    "start_time": "2024-09-06T13:26:35.721Z"
   },
   {
    "duration": 217,
    "start_time": "2024-09-06T13:26:35.913Z"
   },
   {
    "duration": 384,
    "start_time": "2024-09-06T13:26:36.132Z"
   },
   {
    "duration": 84,
    "start_time": "2024-09-06T13:26:36.522Z"
   },
   {
    "duration": 11,
    "start_time": "2024-09-06T13:26:36.624Z"
   },
   {
    "duration": 42,
    "start_time": "2024-09-06T13:26:36.637Z"
   },
   {
    "duration": 14,
    "start_time": "2024-09-06T13:26:36.681Z"
   },
   {
    "duration": 43,
    "start_time": "2024-09-06T13:26:36.697Z"
   },
   {
    "duration": 8,
    "start_time": "2024-09-06T13:26:36.742Z"
   },
   {
    "duration": 360,
    "start_time": "2024-09-06T13:26:36.752Z"
   },
   {
    "duration": 13,
    "start_time": "2024-09-06T13:26:37.115Z"
   },
   {
    "duration": 2,
    "start_time": "2024-09-06T13:26:37.129Z"
   },
   {
    "duration": 8,
    "start_time": "2024-09-06T13:26:37.207Z"
   },
   {
    "duration": 7,
    "start_time": "2024-09-06T13:26:37.219Z"
   },
   {
    "duration": 12,
    "start_time": "2024-09-06T13:26:37.228Z"
   },
   {
    "duration": 7,
    "start_time": "2024-09-06T13:26:37.242Z"
   },
   {
    "duration": 30,
    "start_time": "2024-09-06T13:26:37.250Z"
   },
   {
    "duration": 11,
    "start_time": "2024-09-06T13:26:37.282Z"
   },
   {
    "duration": 2698,
    "start_time": "2024-09-06T13:26:37.294Z"
   },
   {
    "duration": 4,
    "start_time": "2024-09-06T13:26:39.993Z"
   },
   {
    "duration": 29,
    "start_time": "2024-09-06T13:26:39.998Z"
   },
   {
    "duration": 10,
    "start_time": "2024-09-06T13:26:40.028Z"
   },
   {
    "duration": 3,
    "start_time": "2024-09-06T13:28:58.425Z"
   },
   {
    "duration": 3,
    "start_time": "2024-09-06T13:28:58.995Z"
   },
   {
    "duration": 124,
    "start_time": "2024-09-06T13:28:59.028Z"
   },
   {
    "duration": 19,
    "start_time": "2024-09-06T13:28:59.555Z"
   },
   {
    "duration": 3,
    "start_time": "2024-09-06T13:29:32.852Z"
   },
   {
    "duration": 2,
    "start_time": "2024-09-06T13:29:33.267Z"
   },
   {
    "duration": 8,
    "start_time": "2024-09-06T13:29:33.426Z"
   },
   {
    "duration": 9,
    "start_time": "2024-09-06T13:29:36.147Z"
   },
   {
    "duration": 8,
    "start_time": "2024-09-06T13:29:36.293Z"
   },
   {
    "duration": 2614,
    "start_time": "2024-09-06T13:29:42.773Z"
   },
   {
    "duration": 911,
    "start_time": "2024-09-06T13:29:45.390Z"
   },
   {
    "duration": 19,
    "start_time": "2024-09-06T13:29:46.302Z"
   },
   {
    "duration": 376,
    "start_time": "2024-09-06T13:29:46.324Z"
   },
   {
    "duration": 2,
    "start_time": "2024-09-06T13:29:46.702Z"
   },
   {
    "duration": 35,
    "start_time": "2024-09-06T13:29:46.712Z"
   },
   {
    "duration": 10,
    "start_time": "2024-09-06T13:29:46.749Z"
   },
   {
    "duration": 26,
    "start_time": "2024-09-06T13:29:46.760Z"
   },
   {
    "duration": 41,
    "start_time": "2024-09-06T13:29:46.787Z"
   },
   {
    "duration": 114,
    "start_time": "2024-09-06T13:29:46.830Z"
   },
   {
    "duration": 18,
    "start_time": "2024-09-06T13:29:46.946Z"
   },
   {
    "duration": 180,
    "start_time": "2024-09-06T13:29:46.966Z"
   },
   {
    "duration": 15,
    "start_time": "2024-09-06T13:29:47.147Z"
   },
   {
    "duration": 17,
    "start_time": "2024-09-06T13:29:47.164Z"
   },
   {
    "duration": 62,
    "start_time": "2024-09-06T13:29:47.182Z"
   },
   {
    "duration": 4,
    "start_time": "2024-09-06T13:29:47.246Z"
   },
   {
    "duration": 5,
    "start_time": "2024-09-06T13:29:47.251Z"
   },
   {
    "duration": 272,
    "start_time": "2024-09-06T13:29:47.257Z"
   },
   {
    "duration": 392,
    "start_time": "2024-09-06T13:29:47.531Z"
   },
   {
    "duration": 303,
    "start_time": "2024-09-06T13:29:47.925Z"
   },
   {
    "duration": 87,
    "start_time": "2024-09-06T13:29:48.230Z"
   },
   {
    "duration": 12,
    "start_time": "2024-09-06T13:29:48.318Z"
   },
   {
    "duration": 84,
    "start_time": "2024-09-06T13:29:48.332Z"
   },
   {
    "duration": 98,
    "start_time": "2024-09-06T13:29:48.422Z"
   },
   {
    "duration": 36,
    "start_time": "2024-09-06T13:29:48.522Z"
   },
   {
    "duration": 6,
    "start_time": "2024-09-06T13:29:48.559Z"
   },
   {
    "duration": 165,
    "start_time": "2024-09-06T13:29:48.566Z"
   },
   {
    "duration": 89,
    "start_time": "2024-09-06T13:29:48.735Z"
   },
   {
    "duration": 3,
    "start_time": "2024-09-06T13:29:48.825Z"
   },
   {
    "duration": 90,
    "start_time": "2024-09-06T13:29:48.830Z"
   },
   {
    "duration": 99,
    "start_time": "2024-09-06T13:29:48.921Z"
   },
   {
    "duration": 8,
    "start_time": "2024-09-06T13:29:49.022Z"
   },
   {
    "duration": 8,
    "start_time": "2024-09-06T13:29:49.031Z"
   },
   {
    "duration": 8,
    "start_time": "2024-09-06T13:29:49.041Z"
   },
   {
    "duration": 4,
    "start_time": "2024-09-06T13:29:49.050Z"
   },
   {
    "duration": 2623,
    "start_time": "2024-09-06T13:29:49.055Z"
   },
   {
    "duration": 4,
    "start_time": "2024-09-06T13:29:51.679Z"
   },
   {
    "duration": 48,
    "start_time": "2024-09-06T13:29:51.684Z"
   },
   {
    "duration": 16,
    "start_time": "2024-09-06T13:29:51.733Z"
   },
   {
    "duration": 3,
    "start_time": "2024-09-06T13:34:06.705Z"
   },
   {
    "duration": 2,
    "start_time": "2024-09-06T13:34:07.317Z"
   },
   {
    "duration": 8,
    "start_time": "2024-09-06T13:34:07.554Z"
   },
   {
    "duration": 8,
    "start_time": "2024-09-06T13:34:08.074Z"
   },
   {
    "duration": 7,
    "start_time": "2024-09-06T13:34:08.260Z"
   },
   {
    "duration": 4,
    "start_time": "2024-09-06T13:34:09.839Z"
   },
   {
    "duration": 2601,
    "start_time": "2024-09-06T13:34:11.355Z"
   },
   {
    "duration": 3,
    "start_time": "2024-09-06T13:34:13.957Z"
   },
   {
    "duration": 36,
    "start_time": "2024-09-06T13:34:13.962Z"
   },
   {
    "duration": 21,
    "start_time": "2024-09-06T13:34:14.000Z"
   },
   {
    "duration": 3,
    "start_time": "2024-09-06T13:35:37.700Z"
   },
   {
    "duration": 5,
    "start_time": "2024-09-06T13:35:38.917Z"
   },
   {
    "duration": 3,
    "start_time": "2024-09-06T13:35:39.629Z"
   },
   {
    "duration": 4,
    "start_time": "2024-09-06T13:35:39.869Z"
   },
   {
    "duration": 3,
    "start_time": "2024-09-06T13:36:57.764Z"
   },
   {
    "duration": 4,
    "start_time": "2024-09-06T13:36:58.154Z"
   },
   {
    "duration": 4,
    "start_time": "2024-09-06T13:37:04.944Z"
   },
   {
    "duration": 4,
    "start_time": "2024-09-06T13:37:05.194Z"
   },
   {
    "duration": 2669,
    "start_time": "2024-09-06T13:41:03.550Z"
   },
   {
    "duration": 852,
    "start_time": "2024-09-06T13:41:06.221Z"
   },
   {
    "duration": 2,
    "start_time": "2024-09-06T13:41:07.075Z"
   },
   {
    "duration": 408,
    "start_time": "2024-09-06T13:41:07.080Z"
   },
   {
    "duration": 2,
    "start_time": "2024-09-06T13:41:07.490Z"
   },
   {
    "duration": 42,
    "start_time": "2024-09-06T13:41:07.493Z"
   },
   {
    "duration": 14,
    "start_time": "2024-09-06T13:41:07.536Z"
   },
   {
    "duration": 27,
    "start_time": "2024-09-06T13:41:07.551Z"
   },
   {
    "duration": 52,
    "start_time": "2024-09-06T13:41:07.580Z"
   },
   {
    "duration": 2676,
    "start_time": "2024-09-06T13:41:28.594Z"
   },
   {
    "duration": 794,
    "start_time": "2024-09-06T13:41:31.274Z"
   },
   {
    "duration": 3,
    "start_time": "2024-09-06T13:41:32.069Z"
   },
   {
    "duration": 401,
    "start_time": "2024-09-06T13:41:32.074Z"
   },
   {
    "duration": 3,
    "start_time": "2024-09-06T13:41:32.478Z"
   },
   {
    "duration": 121,
    "start_time": "2024-09-06T13:41:32.482Z"
   },
   {
    "duration": 18,
    "start_time": "2024-09-06T13:41:32.604Z"
   },
   {
    "duration": 16,
    "start_time": "2024-09-06T13:41:32.624Z"
   },
   {
    "duration": 35,
    "start_time": "2024-09-06T13:41:32.641Z"
   },
   {
    "duration": 110,
    "start_time": "2024-09-06T13:41:32.678Z"
   },
   {
    "duration": 42,
    "start_time": "2024-09-06T13:41:32.790Z"
   },
   {
    "duration": 123,
    "start_time": "2024-09-06T13:41:32.833Z"
   },
   {
    "duration": 14,
    "start_time": "2024-09-06T13:41:32.958Z"
   },
   {
    "duration": 148,
    "start_time": "2024-09-06T13:41:32.974Z"
   },
   {
    "duration": 54,
    "start_time": "2024-09-06T13:41:33.124Z"
   },
   {
    "duration": 3,
    "start_time": "2024-09-06T13:41:33.179Z"
   },
   {
    "duration": 12,
    "start_time": "2024-09-06T13:41:33.183Z"
   },
   {
    "duration": 136,
    "start_time": "2024-09-06T13:41:33.197Z"
   },
   {
    "duration": 212,
    "start_time": "2024-09-06T13:41:33.408Z"
   },
   {
    "duration": 300,
    "start_time": "2024-09-06T13:41:33.621Z"
   },
   {
    "duration": 5,
    "start_time": "2024-09-06T13:41:33.931Z"
   },
   {
    "duration": 14,
    "start_time": "2024-09-06T13:41:34.033Z"
   },
   {
    "duration": 13,
    "start_time": "2024-09-06T13:41:34.054Z"
   },
   {
    "duration": 57,
    "start_time": "2024-09-06T13:41:34.068Z"
   },
   {
    "duration": 17,
    "start_time": "2024-09-06T13:41:34.126Z"
   },
   {
    "duration": 45,
    "start_time": "2024-09-06T13:41:34.145Z"
   },
   {
    "duration": 235,
    "start_time": "2024-09-06T13:41:34.191Z"
   },
   {
    "duration": 89,
    "start_time": "2024-09-06T13:41:34.428Z"
   },
   {
    "duration": 98,
    "start_time": "2024-09-06T13:41:34.519Z"
   },
   {
    "duration": 10,
    "start_time": "2024-09-06T13:41:34.619Z"
   },
   {
    "duration": 30,
    "start_time": "2024-09-06T13:41:34.630Z"
   },
   {
    "duration": 55,
    "start_time": "2024-09-06T13:41:34.662Z"
   },
   {
    "duration": 8,
    "start_time": "2024-09-06T13:41:34.718Z"
   },
   {
    "duration": 2649,
    "start_time": "2024-09-06T13:41:34.728Z"
   },
   {
    "duration": 4,
    "start_time": "2024-09-06T13:41:37.379Z"
   },
   {
    "duration": 16,
    "start_time": "2024-09-06T13:41:37.384Z"
   },
   {
    "duration": 24,
    "start_time": "2024-09-06T13:41:37.401Z"
   }
  ],
  "kernelspec": {
   "display_name": "Python 3 (ipykernel)",
   "language": "python",
   "name": "python3"
  },
  "language_info": {
   "codemirror_mode": {
    "name": "ipython",
    "version": 3
   },
   "file_extension": ".py",
   "mimetype": "text/x-python",
   "name": "python",
   "nbconvert_exporter": "python",
   "pygments_lexer": "ipython3",
   "version": "3.9.5"
  },
  "toc": {
   "base_numbering": "",
   "nav_menu": {},
   "number_sections": false,
   "sideBar": true,
   "skip_h1_title": true,
   "title_cell": "Table of Contents",
   "title_sidebar": "Contents",
   "toc_cell": false,
   "toc_position": {
    "height": "calc(100% - 180px)",
    "left": "10px",
    "top": "150px",
    "width": "236px"
   },
   "toc_section_display": true,
   "toc_window_display": true
  }
 },
 "nbformat": 4,
 "nbformat_minor": 2
}
