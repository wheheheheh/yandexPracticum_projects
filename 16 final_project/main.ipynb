{
 "cells": [
  {
   "cell_type": "markdown",
   "id": "99283f2c",
   "metadata": {},
   "source": [
    "## Описание проекта: Прогнозирование оттока клиентов для оператора \"ТелеДом\""
   ]
  },
  {
   "cell_type": "markdown",
   "id": "90677d41",
   "metadata": {},
   "source": [
    "### Цель проекта\n",
    "Оператор связи «ТелеДом» стремится снизить отток клиентов. Для этого необходимо:\n",
    "- Выявлять абонентов, планирующих отказаться от услуг\n",
    "- Предлагать им персональные промокоды и специальные условия\n",
    "- Создать модель прогнозирования оттока клиентов\n",
    "\n",
    "### Постановка задачи\n",
    "Необходимо разработать модель машинного обучения, которая на основе исторических данных будет предсказывать вероятность расторжения договора клиентом.\n",
    "\n",
    "### Данные\n",
    "Для обучения модели доступны:\n",
    "1. Персональные данные клиентов (анонимизированные)\n",
    "2. Информация о подключенных тарифах\n",
    "3. Данные об используемых услугах\n",
    "4. Исторические данные о расторжении договоров"
   ]
  },
  {
   "cell_type": "code",
   "execution_count": null,
   "id": "b13ee927",
   "metadata": {},
   "outputs": [],
   "source": [
    "!pip install -qq sweetviz\n",
    "!pip install -qq optuna\n",
    "!pip install -qq phik\n",
    "!pip install -qq optuna-integration[sklearn]\n",
    "!pip install -qq scikit-learn"
   ]
  },
  {
   "cell_type": "code",
   "execution_count": null,
   "id": "c85f6ff2",
   "metadata": {},
   "outputs": [],
   "source": [
    "import pandas as pd\n",
    "import sweetviz as sv\n",
    "import matplotlib.pyplot as plt\n",
    "import seaborn as sns\n",
    "import warnings\n",
    "import optuna\n",
    "import numpy as np\n",
    "import torch\n",
    "import torch.nn as nn\n",
    "import torch.optim as optim\n",
    "\n",
    "from lightgbm import LGBMClassifier, plot_importance\n",
    "from phik import phik_matrix\n",
    "from sqlalchemy import create_engine\n",
    "from sklearn.ensemble import RandomForestClassifier\n",
    "from sklearn.preprocessing import OneHotEncoder, PowerTransformer, RobustScaler\n",
    "from sklearn.compose import ColumnTransformer\n",
    "from sklearn.pipeline import Pipeline\n",
    "from sklearn.model_selection import train_test_split, StratifiedKFold, KFold\n",
    "from sklearn.metrics import roc_auc_score, accuracy_score, confusion_matrix, classification_report, precision_recall_curve, average_precision_score\n",
    "from optuna.integration import OptunaSearchCV\n",
    "from optuna.samplers import TPESampler\n",
    "from optuna.distributions import IntDistribution, FloatDistribution, CategoricalDistribution\n",
    "from torch.utils.data import DataLoader, TensorDataset"
   ]
  },
  {
   "cell_type": "code",
   "execution_count": null,
   "id": "e9516cd9",
   "metadata": {},
   "outputs": [],
   "source": [
    "warnings.filterwarnings('ignore')"
   ]
  },
  {
   "cell_type": "code",
   "execution_count": null,
   "id": "17dd2265",
   "metadata": {},
   "outputs": [],
   "source": [
    "RANDOM_STATE = 300625\n",
    "TEST_SIZE = 0.25\n",
    "PATH_TO_DB = \"db/ds-plus-final.db\"\n",
    "torch.manual_seed(RANDOM_STATE)\n",
    "device = torch.device('cuda' if torch.cuda.is_available() else 'cpu')\n",
    "print(device)"
   ]
  },
  {
   "cell_type": "markdown",
   "id": "b3857aa1",
   "metadata": {},
   "source": [
    "Импорт библиотек и настройка окружения"
   ]
  },
  {
   "cell_type": "markdown",
   "id": "8f2d4f01",
   "metadata": {},
   "source": [
    "P.S. Путь к файлу базы данных находится в константе PATH_TO_DB"
   ]
  },
  {
   "cell_type": "markdown",
   "id": "77609e3a",
   "metadata": {},
   "source": [
    "## Загрузка данных"
   ]
  },
  {
   "cell_type": "code",
   "execution_count": null,
   "id": "cd8f533e",
   "metadata": {},
   "outputs": [],
   "source": [
    "ENGINE = create_engine(f\"sqlite:///{PATH_TO_DB}\", echo=False)"
   ]
  },
  {
   "cell_type": "code",
   "execution_count": null,
   "id": "cd328a8c",
   "metadata": {},
   "outputs": [],
   "source": [
    "sql_query = '''\n",
    "    SELECT \n",
    "        name \n",
    "    FROM \n",
    "        sqlite_master\n",
    "    WHERE \n",
    "        type='table';\n",
    "'''\n",
    "tables_name = pd.read_sql_query(sql_query, con=ENGINE)\n",
    "tables_name"
   ]
  },
  {
   "cell_type": "markdown",
   "id": "b49707f6",
   "metadata": {},
   "source": [
    "Проверка на существование таблиц в схеме, помимо нужных нам четырех таблиц есть другие, использовать их не будем"
   ]
  },
  {
   "cell_type": "code",
   "execution_count": null,
   "id": "dc8601e6",
   "metadata": {},
   "outputs": [],
   "source": [
    "def get_data(query):\n",
    "    try:\n",
    "        return pd.read_sql_query(query, con=ENGINE)\n",
    "    except Exception as e:\n",
    "        print(f'Error: {e}')\n",
    "        return None"
   ]
  },
  {
   "cell_type": "code",
   "execution_count": null,
   "id": "bbf41fa6",
   "metadata": {},
   "outputs": [],
   "source": [
    "contract_query = \"\"\"\n",
    "    SELECT \n",
    "        c.*\n",
    "    FROM \n",
    "        contract c;\n",
    "\"\"\"\n",
    "contract = get_data(contract_query)"
   ]
  },
  {
   "cell_type": "code",
   "execution_count": null,
   "id": "524883b4",
   "metadata": {},
   "outputs": [],
   "source": [
    "personal_query = \"\"\"\n",
    "    SELECT \n",
    "        p.*\n",
    "    FROM \n",
    "        personal p;\n",
    "\"\"\"\n",
    "personal = get_data(personal_query)"
   ]
  },
  {
   "cell_type": "code",
   "execution_count": null,
   "id": "496d5f02",
   "metadata": {},
   "outputs": [],
   "source": [
    "internet_query = \"\"\"\n",
    "    SELECT \n",
    "        i.*\n",
    "    FROM \n",
    "        internet i;\n",
    "\"\"\"\n",
    "internet = get_data(internet_query)"
   ]
  },
  {
   "cell_type": "code",
   "execution_count": null,
   "id": "a81cbf65",
   "metadata": {},
   "outputs": [],
   "source": [
    "phone_query = \"\"\"\n",
    "    SELECT \n",
    "        p.*\n",
    "    FROM \n",
    "        phone p;\n",
    "\"\"\"\n",
    "phone = get_data(phone_query)"
   ]
  },
  {
   "cell_type": "markdown",
   "id": "16f9d4fa",
   "metadata": {},
   "source": [
    "## Исследовательский анализ и предобработка данных"
   ]
  },
  {
   "cell_type": "code",
   "execution_count": null,
   "id": "999c33df",
   "metadata": {},
   "outputs": [],
   "source": [
    "df_dict = {\n",
    "    \"contract\": contract,\n",
    "    \"personal\": personal,\n",
    "    \"internet\": internet,\n",
    "    \"phone\": phone\n",
    "}\n",
    "\n",
    "for name, df in df_dict.items():\n",
    "    print(f\"\\n=== Анализ таблицы {name} ===\\n\")\n",
    "    \n",
    "    print(\"Первые 5 строк:\")\n",
    "    display(df.head())\n",
    "    print(\"\\nИнформация о структуре:\")\n",
    "    print(df.info())\n",
    "    \n",
    "    print(\"\\nПропущенные значения:\")\n",
    "    print(df.isna().sum())"
   ]
  },
  {
   "cell_type": "markdown",
   "id": "2dd228d5",
   "metadata": {},
   "source": [
    "### Промежуточные выводы:\n",
    "\n",
    "**Качество данных**:\n",
    "- Во всех таблицах нет пропусков\n",
    "- Все данные в таблицах имеют тип данных object, в будущем нужно преобразовать в нужный для нас\n",
    "\n",
    "**Охват услуг**:\n",
    "- Всего клиентов: 7,043\n",
    "- Интернет: 5,517 (78%)\n",
    "- Телефония: 6,361 (90%) "
   ]
  },
  {
   "cell_type": "markdown",
   "id": "0c7b00a4",
   "metadata": {},
   "source": [
    "### Предобарботка"
   ]
  },
  {
   "cell_type": "code",
   "execution_count": null,
   "id": "0abbe6c5",
   "metadata": {},
   "outputs": [],
   "source": [
    "contract['target'] = 1\n",
    "contract.loc[contract['EndDate'] == 'No', 'target'] = 0"
   ]
  },
  {
   "cell_type": "code",
   "execution_count": null,
   "id": "6a816cb1",
   "metadata": {},
   "outputs": [],
   "source": [
    "contract['TotalCharges'] = contract['TotalCharges'].replace(' ', '0')"
   ]
  },
  {
   "cell_type": "code",
   "execution_count": null,
   "id": "95c32584",
   "metadata": {},
   "outputs": [],
   "source": [
    "contract.BeginDate = pd.to_datetime(contract.BeginDate)\n",
    "contract[\"EndDate\"] = contract['EndDate'].replace('No', \"2020-02-01\")\n",
    "contract[\"EndDate\"] = pd.to_datetime(contract[\"EndDate\"])\n",
    "days_diff = contract[\"EndDate\"] - contract[\"BeginDate\"]\n",
    "contract[\"duration_contract\"] = days_diff.dt.components.days"
   ]
  },
  {
   "cell_type": "code",
   "execution_count": null,
   "id": "e7e6d773",
   "metadata": {},
   "outputs": [],
   "source": [
    "contract.MonthlyCharges = contract.MonthlyCharges.astype(\"float\")\n",
    "contract.TotalCharges = contract.TotalCharges.astype(\"float\")\n",
    "phone = phone.rename(columns={\"CustomerId\":\"customerID\"})"
   ]
  },
  {
   "cell_type": "markdown",
   "id": "3da599a7",
   "metadata": {},
   "source": [
    "Создана **Целевая переменная (target)**:\n",
    "- `target = 1` если клиент ушел (есть EndDate)\n",
    "- `target = 0` если активный клиент (EndDate = 'No')\n",
    "\n",
    "**Работа с датами**:\n",
    "- Преобразованы в datetime: `BeginDate` и `EndDate`\n",
    "- Добавлен новый признак `duration_contract` (длительность договора в днях)\n",
    "\n",
    "**Числовые поля**:\n",
    "- `MonthlyCharges` и `TotalCharges` преобразованы в float\n",
    "- Удалены строки с пустыми значениями в `TotalCharges` (пробелы)\n",
    "\n",
    "**Остальное**:\n",
    "- В таблице `personal` преобразован `SeniorCitizen` в int\n",
    "- В таблице `phone` переименован столбец `CustomerId` → `customerID` для будущего объединения по столбцу"
   ]
  },
  {
   "cell_type": "markdown",
   "id": "04ed3136",
   "metadata": {},
   "source": [
    "### Исследовательский анализ"
   ]
  },
  {
   "cell_type": "code",
   "execution_count": null,
   "id": "e8536ce9",
   "metadata": {},
   "outputs": [],
   "source": [
    "report_contract = sv.analyze(contract)\n",
    "report_contract.show_notebook()"
   ]
  },
  {
   "cell_type": "markdown",
   "id": "bb689632",
   "metadata": {},
   "source": [
    "#### Вывод по анализу таблицы contract\n",
    "\n",
    "##### Общая информация\n",
    "- **Записей**: 7,032 (без дубликатов)\n",
    "- **Признаки**: 10 (6 категориальных, 3 числовых, 1 текстовый)\n",
    "\n",
    "##### Распределение тарифов\n",
    "- **Month-to-month**: 55% \n",
    "- **Двухлетние**: 24%  \n",
    "- **Годовые**: 21%\n",
    "\n",
    "##### Целевая переменная (target)\n",
    "- **Активные клиенты (0)**: 84% (5,931)\n",
    "- **Ушедшие (1)**: 16% (1,101)\n",
    "\n",
    "Из числовых признаков нормальное распределение имеет только столбец **MonthlyCharges** с ежемесячными тратами, также у него есть выбросы, все это учтем на стадии преобразования данных"
   ]
  },
  {
   "cell_type": "code",
   "execution_count": null,
   "id": "5387c7af",
   "metadata": {},
   "outputs": [],
   "source": [
    "report_personal = sv.analyze(personal)\n",
    "report_personal.show_notebook()"
   ]
  },
  {
   "cell_type": "markdown",
   "id": "15a952be",
   "metadata": {},
   "source": [
    "#### Вывод по анализу таблицы personal\n",
    "\n",
    "##### Общая информация\n",
    "- **Записей**: 7,043 (уникальные customerID)\n",
    "- **Признаки**: 5 демографических характеристик\n",
    "\n",
    "##### Гендерный состав\n",
    "- **Мужчины**: 50% (3,555)\n",
    "- **Женщины**: 50% (3,488)\n",
    "\n",
    "##### Возрастные группы\n",
    "- **Пенсионеры**: 16% (1,142)\n",
    "- **Не пенсионеры**: 84% \n",
    "\n",
    "##### Семейное положение\n",
    "- **С партнером**: 48% (3,402)\n",
    "- **Без партнера**: 52%\n",
    "\n",
    "##### Наличие иждивенцев\n",
    "- **С иждивенцами**: 30% (2,110)\n",
    "- **Без иждивенцев**: 70%\n"
   ]
  },
  {
   "cell_type": "code",
   "execution_count": null,
   "id": "a048c28d",
   "metadata": {},
   "outputs": [],
   "source": [
    "report_internet = sv.analyze(internet)\n",
    "report_internet.show_notebook()"
   ]
  },
  {
   "cell_type": "markdown",
   "id": "8cc5a802",
   "metadata": {},
   "source": [
    "#### Вывод по анализу таблицы internet\n",
    "\n",
    "##### Общая информация\n",
    "- **Записей**: 5,517 (78% от общего числа клиентов)\n",
    "- **Признаки**: 7 категориальных (услуги интернета)\n",
    "\n",
    "##### Типы подключения\n",
    "- **Fiber optic**: 56% (3,096)\n",
    "- **DSL**: 44% (2,421)\n",
    "\n",
    "##### Дополнительные услуги\n",
    "| Услуга               | Доля \"No\" | Доля \"Yes\" |\n",
    "|----------------------|----------|----------|\n",
    "| OnlineSecurity       | 63%      | 37%      |\n",
    "| TechSupport          | 63%      | 37%      |\n",
    "| OnlineBackup         | 56%      | 44%      |\n",
    "| DeviceProtection     | 56%      | 44%      |\n",
    "| StreamingTV         | 51%      | 49%      |\n",
    "| StreamingMovies     | 50%      | 50%      |"
   ]
  },
  {
   "cell_type": "code",
   "execution_count": null,
   "id": "f3aff324",
   "metadata": {},
   "outputs": [],
   "source": [
    "report_phone = sv.analyze(phone)\n",
    "report_phone.show_notebook()"
   ]
  },
  {
   "cell_type": "markdown",
   "id": "2542ab55",
   "metadata": {},
   "source": [
    "#### Вывод по анализу таблицы phone\n",
    "\n",
    "##### Общая информация\n",
    "- **Записей**: 6,361 (90% от общего числа клиентов)  \n",
    "- **Признаки**: 1 категориальный \n",
    "\n",
    "##### Распределение услуги MultipleLines(подключение телефона к нескольким линиям одновременно)\n",
    "- **No**: 53% (3,390 клиентов)  \n",
    "- **Yes**: 47% (2,971 клиент)  \n"
   ]
  },
  {
   "cell_type": "markdown",
   "id": "fb4fb128",
   "metadata": {},
   "source": [
    "### Объединение таблиц по ID клиента"
   ]
  },
  {
   "cell_type": "code",
   "execution_count": null,
   "id": "45778940",
   "metadata": {},
   "outputs": [],
   "source": [
    "data = contract.merge(personal, on='customerID', how='left')\n",
    "data = data.merge(internet, on='customerID', how='left')\n",
    "data = data.merge(phone, on='customerID', how='left')\n",
    "service_columns = [\n",
    "    'InternetService',\n",
    "    'OnlineSecurity',\n",
    "    'OnlineBackup',\n",
    "    'DeviceProtection',\n",
    "    'TechSupport',\n",
    "    'StreamingTV',\n",
    "    'StreamingMovies',\n",
    "    'MultipleLines'\n",
    "]\n",
    "\n",
    "for col in service_columns:\n",
    "    data[col] = data[col].fillna('No service')"
   ]
  },
  {
   "cell_type": "code",
   "execution_count": null,
   "id": "f00ec1ad",
   "metadata": {},
   "outputs": [],
   "source": [
    "data[\"year\"] = data.BeginDate.dt.year\n",
    "data[\"month\"] = data.BeginDate.dt.month\n",
    "data[\"day\"] = data.BeginDate.dt.day\n",
    "service_cols = ['OnlineSecurity', 'OnlineBackup', 'DeviceProtection', \n",
    "               'TechSupport', 'StreamingTV', 'StreamingMovies']\n",
    "\n",
    "data['additional_services'] = data[service_cols].apply(\n",
    "    lambda row: 'Yes' if row.isin(['Yes']).any() else 'No', axis=1)\n",
    "current_date = pd.to_datetime('2020-02-01')"
   ]
  },
  {
   "cell_type": "code",
   "execution_count": null,
   "id": "62407cf8",
   "metadata": {},
   "outputs": [],
   "source": [
    "object_cols = ['Type', 'PaperlessBilling', 'PaymentMethod', 'gender',\n",
    "               'Partner', 'Dependents', 'InternetService', 'OnlineSecurity',\n",
    "               'OnlineBackup', 'DeviceProtection', 'TechSupport', 'StreamingTV',\n",
    "               'StreamingMovies', 'MultipleLines', 'additional_services', 'SeniorCitizen']\n",
    "\n",
    "for col in object_cols:\n",
    "    if col in data.columns:\n",
    "        data[col] = data[col].astype('category')"
   ]
  },
  {
   "cell_type": "code",
   "execution_count": null,
   "id": "851f8fbd",
   "metadata": {},
   "outputs": [],
   "source": [
    "data.head()"
   ]
  },
  {
   "cell_type": "markdown",
   "id": "15fcf584",
   "metadata": {},
   "source": [
    "Таблицы объединены в одну - data, данные приведены к нужным типам и созданые новые признаки"
   ]
  },
  {
   "cell_type": "code",
   "execution_count": null,
   "id": "c2238587",
   "metadata": {},
   "outputs": [],
   "source": [
    "plt.figure(figsize=(15, 13))\n",
    "sns.heatmap(phik_matrix(data[[\n",
    "    'target',\n",
    "    'TotalCharges',\n",
    "    'SeniorCitizen',\n",
    "    'Type',\n",
    "    'PaperlessBilling',\n",
    "    'PaymentMethod',\n",
    "    'Partner',\n",
    "    'Dependents',\n",
    "    'MultipleLines',\n",
    "    'duration_contract',\n",
    "    'MonthlyCharges',\n",
    "]], interval_cols=['MonthlyCharges', 'duration_contract', 'TotalCharges']), annot=True, cmap='coolwarm')\n",
    "plt.title('Матрица корреляции признаков')\n",
    "plt.show()"
   ]
  },
  {
   "cell_type": "markdown",
   "id": "a8e52fb1",
   "metadata": {},
   "source": [
    "Для обучения будут использовать следующие признаки:\n",
    "- 'MonthlyCharges',\n",
    "- 'duration_contract',\n",
    "- 'TotalCharges'\n",
    "- 'Type',    \n",
    "- 'SeniorCitizen',\n",
    "- 'PaperlessBilling', \n",
    "- 'PaymentMethod',\n",
    "- 'Partner',    \n",
    "- 'Dependents',\n",
    "- 'MultipleLines',\n",
    "- 'InternetService'\n",
    "\n",
    "Между собой эти признаки не имеют мультиколлинеарности и по разному влияют на решение модели"
   ]
  },
  {
   "cell_type": "code",
   "execution_count": null,
   "id": "caef2c30",
   "metadata": {},
   "outputs": [],
   "source": [
    "num_cols = [\n",
    "    'MonthlyCharges',\n",
    "    'duration_contract',\n",
    "    'TotalCharges'             \n",
    "]\n",
    "\n",
    "cat_cols = [\n",
    "    'Type',    \n",
    "    'SeniorCitizen',\n",
    "    'PaperlessBilling', \n",
    "    'PaymentMethod',\n",
    "    'Partner',    \n",
    "    'Dependents',\n",
    "    'MultipleLines',\n",
    "    'InternetService',\n",
    "]\n",
    "\n",
    "all_cols = num_cols + cat_cols"
   ]
  },
  {
   "cell_type": "code",
   "execution_count": null,
   "id": "1f77a13c",
   "metadata": {},
   "outputs": [],
   "source": [
    "print(data[num_cols].describe())\n",
    "data[num_cols].hist(bins=30, figsize=(15, 5))\n",
    "plt.show()"
   ]
  },
  {
   "cell_type": "markdown",
   "id": "4d683f2e",
   "metadata": {},
   "source": [
    "###  Основные выводы EDA\n",
    "\n",
    "####  Числовые признаки\n",
    "\n",
    "| Признак             | Описание                                                                 |\n",
    "|---------------------|--------------------------------------------------------------------------|\n",
    "| `MonthlyCharges`    | Диапазон: \\$18.25–\\$118.75<br>Среднее: \\$65 (медиана \\$70.35)           |\n",
    "| `duration_contract` | Среднее: 900 дней (2.5 года)<br>Минимум: 28 дней                         |\n",
    "| `TotalCharges`      | Макс: \\$9221                    |"
   ]
  },
  {
   "cell_type": "code",
   "execution_count": null,
   "id": "6f29e1e5",
   "metadata": {},
   "outputs": [],
   "source": [
    "for col in cat_cols:\n",
    "    print(f\"\\n--- {col} ---\")\n",
    "    print(data[col].value_counts(normalize=True))\n",
    "    sns.countplot(x=col, hue='target', data=data)\n",
    "    plt.xticks(rotation=45)\n",
    "    plt.show()"
   ]
  },
  {
   "cell_type": "markdown",
   "id": "91ead8c2",
   "metadata": {},
   "source": [
    "\n",
    "### Категориальные признаки\n",
    "\n",
    "1. 55% клиентов на помесячной оплате (`Month-to-month`)\n",
    "2. 44% используют оптоволокно (`Fiber optic`)\n",
    "3. 34% платят электронными чеками "
   ]
  },
  {
   "cell_type": "markdown",
   "id": "d9b03ddc",
   "metadata": {},
   "source": [
    "### Подготовка данных для обучения"
   ]
  },
  {
   "cell_type": "code",
   "execution_count": null,
   "id": "13c0cd3b",
   "metadata": {},
   "outputs": [],
   "source": [
    "data.info()"
   ]
  },
  {
   "cell_type": "code",
   "execution_count": null,
   "id": "5dc19de6",
   "metadata": {},
   "outputs": [],
   "source": [
    "X = data[all_cols]\n",
    "y = data.target\n",
    "\n",
    "X_train, X_test, y_train, y_test = train_test_split(\n",
    "    X,\n",
    "    y,\n",
    "    test_size=TEST_SIZE,\n",
    "    random_state=RANDOM_STATE,\n",
    "    shuffle=True,\n",
    "    stratify=y)"
   ]
  },
  {
   "cell_type": "code",
   "execution_count": null,
   "id": "a17be018",
   "metadata": {},
   "outputs": [],
   "source": [
    "y_train.value_counts()"
   ]
  },
  {
   "cell_type": "code",
   "execution_count": null,
   "id": "651e309a",
   "metadata": {},
   "outputs": [],
   "source": [
    "y_test.value_counts()"
   ]
  },
  {
   "cell_type": "code",
   "execution_count": null,
   "id": "c10c3e8a",
   "metadata": {},
   "outputs": [],
   "source": [
    "def data_preparation_ohe(\n",
    "    numeric_cols=num_cols,\n",
    "    category_cols=cat_cols,\n",
    "    X_train=X_train,\n",
    "    X_test=X_test,\n",
    "    power_transform_method='yeo-johnson'):\n",
    "    \n",
    "    preprocessor = ColumnTransformer(\n",
    "        transformers=[\n",
    "            ('num', Pipeline([\n",
    "                ('scaler', RobustScaler()), \n",
    "                ('power', PowerTransformer(method=power_transform_method))\n",
    "        ]), numeric_cols),\n",
    "            ('cat', OneHotEncoder(\n",
    "                handle_unknown='ignore', \n",
    "                sparse_output=False,\n",
    "                drop='first'\n",
    "            ), category_cols)\n",
    "        ], remainder='passthrough')\n",
    "\n",
    "    X_train_processed = preprocessor.fit_transform(X_train)\n",
    "    X_test_processed = preprocessor.transform(X_test)\n",
    "\n",
    "    feature_names = preprocessor.get_feature_names_out()\n",
    "    X_train_df = pd.DataFrame(X_train_processed, columns=feature_names)\n",
    "    X_test_df = pd.DataFrame(X_test_processed, columns=feature_names)\n",
    "    \n",
    "    return X_train_df, X_test_df\n",
    "\n",
    "X_train_ohe, X_test_ohe = data_preparation_ohe()"
   ]
  },
  {
   "cell_type": "code",
   "execution_count": null,
   "id": "6758ceb5",
   "metadata": {},
   "outputs": [],
   "source": [
    "X_train_ohe.shape, X_test_ohe.shape"
   ]
  },
  {
   "cell_type": "markdown",
   "id": "052851bb",
   "metadata": {},
   "source": [
    "Данные подготовлены для обучения моделей, разделены на выборки, в каждой в каждой выборке есть метки каждого класса"
   ]
  },
  {
   "cell_type": "markdown",
   "id": "b04dee1e",
   "metadata": {},
   "source": [
    "## Обучение моделей"
   ]
  },
  {
   "cell_type": "markdown",
   "id": "f6c11c98",
   "metadata": {},
   "source": [
    "Рассмотрим следующие классы моделей:\n",
    "- **случайный лес**\n",
    "- **бустинг(LightGBM)**\n",
    "- **нейронную сеть** на pytorch"
   ]
  },
  {
   "cell_type": "markdown",
   "id": "7712e35c",
   "metadata": {},
   "source": [
    "### Обучение модели **LightGBM**"
   ]
  },
  {
   "cell_type": "code",
   "execution_count": null,
   "id": "890d1d6a",
   "metadata": {},
   "outputs": [],
   "source": [
    "params = {\n",
    "    'learning_rate': FloatDistribution(0.0001, 0.2, log=True),\n",
    "    'num_leaves': IntDistribution(100, 400),\n",
    "    'max_depth': IntDistribution(3, 15),\n",
    "    'min_child_samples': IntDistribution(10, 200),\n",
    "    'subsample': FloatDistribution(0.5, 1.0),\n",
    "    'colsample_bytree': FloatDistribution(0.5, 1.0),\n",
    "    'reg_alpha': FloatDistribution(1e-5, 10.0, log=True),\n",
    "    'reg_lambda': FloatDistribution(1e-5, 10.0, log=True)\n",
    "}\n",
    "\n",
    "model_lgb = LGBMClassifier(objective='binary', \n",
    "                           random_state=RANDOM_STATE,\n",
    "                           n_estimators=2000,\n",
    "                           verbose=100,\n",
    "                           verbosity=-1)"
   ]
  },
  {
   "cell_type": "code",
   "execution_count": null,
   "id": "8e3845ab",
   "metadata": {
    "scrolled": true
   },
   "outputs": [],
   "source": [
    "optuna_search_lgb = OptunaSearchCV(\n",
    "    model_lgb,\n",
    "    params,\n",
    "    cv=StratifiedKFold(n_splits=5, shuffle=True, random_state=RANDOM_STATE),\n",
    "    scoring='roc_auc',\n",
    "    n_trials=500,\n",
    "    n_jobs=-1,\n",
    "    verbose=1,\n",
    "    random_state=RANDOM_STATE\n",
    ")\n",
    "\n",
    "optuna_search_lgb.fit(X_train, y_train)\n",
    "\n",
    "print(\"Best params:\", optuna_search_lgb.best_params_)\n",
    "print(\"Best AUC:\", optuna_search_lgb.best_score_)"
   ]
  },
  {
   "cell_type": "markdown",
   "id": "1e3368a7",
   "metadata": {},
   "source": [
    "### Вывод по обучению LightGBM\n",
    "\n",
    "#### Результаты оптимизации:\n",
    "- **Метрика AUC-ROC**: 0.910 \n",
    "- **Время оптимизации**: ~8 минут (500 trials)"
   ]
  },
  {
   "cell_type": "markdown",
   "id": "fbaaf98a",
   "metadata": {},
   "source": [
    "### Обучение модели **RandomForest**"
   ]
  },
  {
   "cell_type": "code",
   "execution_count": null,
   "id": "e741796d",
   "metadata": {
    "scrolled": true
   },
   "outputs": [],
   "source": [
    "params_rf = {\n",
    "    'n_estimators': IntDistribution(100, 1000),\n",
    "    'max_depth': IntDistribution(3, 20),\n",
    "    'min_samples_split': IntDistribution(2, 20),\n",
    "    'min_samples_leaf': IntDistribution(1, 20),\n",
    "    'max_features': CategoricalDistribution(['sqrt', 'log2', None]),\n",
    "    'bootstrap': CategoricalDistribution([True, False]),\n",
    "    'class_weight': CategoricalDistribution(['balanced', 'balanced_subsample', None]),\n",
    "    'ccp_alpha': FloatDistribution(0.0, 0.1),\n",
    "}\n",
    "\n",
    "model_rf = RandomForestClassifier(random_state=RANDOM_STATE)\n",
    "optuna_search_rf = OptunaSearchCV(\n",
    "    model_rf,\n",
    "    params_rf,\n",
    "    cv=StratifiedKFold(n_splits=5, shuffle=True, random_state=RANDOM_STATE),\n",
    "    scoring='roc_auc',\n",
    "    n_trials=30,\n",
    "    n_jobs=-1,\n",
    "    verbose=1,\n",
    "    random_state=RANDOM_STATE\n",
    ")\n",
    "\n",
    "optuna_search_rf.fit(X_train_ohe, y_train)\n",
    "\n",
    "print(\"\\nBest params:\", optuna_search_rf.best_params_)\n",
    "print(\"Best AUC (CV):\", optuna_search_rf.best_score_)"
   ]
  },
  {
   "cell_type": "markdown",
   "id": "ede1d074",
   "metadata": {},
   "source": [
    "### Вывод по обучению RandomForest\n",
    "\n",
    "#### Результаты оптимизации:\n",
    "- **Метрика AUC-ROC**: 0.820\n",
    "- **Время оптимизации**: ~2 минута (30 trials)"
   ]
  },
  {
   "cell_type": "markdown",
   "id": "787fc128",
   "metadata": {},
   "source": [
    "### Обучение нейронной сети"
   ]
  },
  {
   "cell_type": "code",
   "execution_count": null,
   "id": "5c52c6bc",
   "metadata": {},
   "outputs": [],
   "source": [
    "class TelecomNeuralNet(nn.Module):\n",
    "    def __init__(self, input_size, hidden_size=4096, dropout_rate=0.2):\n",
    "        super().__init__()\n",
    "        self.layers = nn.Sequential(\n",
    "            nn.Linear(input_size, hidden_size),\n",
    "            nn.BatchNorm1d(hidden_size),\n",
    "            nn.LeakyReLU(),\n",
    "            nn.Dropout(dropout_rate),\n",
    "            \n",
    "            nn.Linear(hidden_size, hidden_size//2),\n",
    "            nn.BatchNorm1d(hidden_size//2),\n",
    "            nn.LeakyReLU(),\n",
    "            nn.Dropout(dropout_rate),\n",
    "            \n",
    "            nn.Linear(hidden_size//2, hidden_size//4),\n",
    "            nn.BatchNorm1d(hidden_size//4),\n",
    "            nn.LeakyReLU(),\n",
    "            nn.Dropout(dropout_rate),\n",
    "\n",
    "            nn.Linear(hidden_size//4, hidden_size//8),\n",
    "            nn.BatchNorm1d(hidden_size//8),\n",
    "            nn.LeakyReLU(),\n",
    "            nn.Dropout(dropout_rate),\n",
    "            nn.Linear(hidden_size//8, 1),\n",
    "        )\n",
    "    \n",
    "    def forward(self, x):\n",
    "        return self.layers(x)\n",
    "\n",
    "def train_telecom_model(X_train, y_train, X_val=None, y_val=None, \n",
    "                       params=None, device='cpu', n_epochs=150, \n",
    "                       patience=15, batch_size=1024):\n",
    "    \n",
    "    # Convert data to tensors\n",
    "    X_train_tensor = torch.FloatTensor(X_train.values).to(device)\n",
    "    y_train_tensor = torch.FloatTensor(y_train.values).to(device)\n",
    "    \n",
    "    train_dataset = TensorDataset(X_train_tensor, y_train_tensor)\n",
    "    train_loader = DataLoader(train_dataset, batch_size=batch_size, shuffle=True)\n",
    "    \n",
    "    X_val_tensor = torch.FloatTensor(X_val.values).to(device)\n",
    "    \n",
    "    model = TelecomNeuralNet(X_train.shape[1], \n",
    "                           hidden_size=params['hidden_size'],\n",
    "                           dropout_rate=params['dropout_rate']).to(device)\n",
    "    \n",
    "    optimizer = optim.AdamW(model.parameters(), lr=params['lr'], weight_decay=1e-5)\n",
    "    criterion = nn.BCEWithLogitsLoss()\n",
    "    \n",
    "    best_auc = 0\n",
    "    best_weights = None\n",
    "    no_improve = 0\n",
    "    \n",
    "    for epoch in range(n_epochs):\n",
    "        model.train()\n",
    "        epoch_loss = 0\n",
    "        \n",
    "        for inputs, labels in train_loader:\n",
    "            optimizer.zero_grad()\n",
    "            outputs = model(inputs)\n",
    "            loss = criterion(outputs, labels.unsqueeze(1))\n",
    "            loss.backward()\n",
    "            optimizer.step()\n",
    "            epoch_loss += loss.item()\n",
    "        \n",
    "        model.eval()\n",
    "        with torch.no_grad():\n",
    "            val_outputs = model(X_val_tensor)\n",
    "            val_probs = torch.sigmoid(val_outputs).cpu().numpy()\n",
    "            val_auc = roc_auc_score(y_val, val_probs)\n",
    "            \n",
    "            if val_auc > best_auc:\n",
    "                best_auc = val_auc\n",
    "                best_weights = model.state_dict()\n",
    "                no_improve = 0\n",
    "            else:\n",
    "                no_improve += 1\n",
    "                \n",
    "            if no_improve >= patience:\n",
    "                print(f\"Early stopping at epoch {epoch}\")\n",
    "                model.load_state_dict(best_weights)\n",
    "                break\n",
    "            \n",
    "        print(f\"Epoch {epoch:3d} | Loss: {epoch_loss/len(train_loader):.4f} | \"\n",
    "                f\"Val AUC: {val_auc:.4f}\")\n",
    "    \n",
    "    return model"
   ]
  },
  {
   "cell_type": "code",
   "execution_count": null,
   "id": "a197bb66",
   "metadata": {},
   "outputs": [],
   "source": [
    "def objective(trial, X_train, y_train, device, n_splits=3):\n",
    "    params = {\n",
    "        'hidden_size': trial.suggest_categorical('hidden_size', [256, 512, 1024, 2048]),\n",
    "        'dropout_rate': trial.suggest_float('dropout_rate', 0.1, 0.5),\n",
    "        'lr': trial.suggest_float('lr', 1e-4, 1e-2, log=True),\n",
    "        'batch_size': trial.suggest_categorical('batch_size', [128, 256, 512, 1024])\n",
    "    }\n",
    "    \n",
    "    kf = KFold(n_splits=n_splits, shuffle=True, random_state=RANDOM_STATE)\n",
    "    cv_auc_scores = []\n",
    "    \n",
    "    for fold, (train_idx, val_idx) in enumerate(kf.split(X_train)):\n",
    "        X_train_fold, X_val_fold = X_train.iloc[train_idx], X_train.iloc[val_idx]\n",
    "        y_train_fold, y_val_fold = y_train.iloc[train_idx], y_train.iloc[val_idx]\n",
    "        \n",
    "        model = train_telecom_model(\n",
    "            X_train_fold, y_train_fold, X_val_fold, y_val_fold,\n",
    "            params=params, device=device, n_epochs=2000, patience=500,\n",
    "            batch_size=params['batch_size']\n",
    "        )\n",
    "        \n",
    "        model.eval()\n",
    "        with torch.no_grad():\n",
    "            X_val_tensor = torch.FloatTensor(X_val_fold.values).to(device)\n",
    "            val_outputs = model(X_val_tensor)\n",
    "            val_probs = torch.sigmoid(val_outputs).cpu().numpy()\n",
    "            val_auc = roc_auc_score(y_val_fold, val_probs)\n",
    "            cv_auc_scores.append(val_auc)\n",
    "        \n",
    "        print(f\"Fold {fold+1} AUC: {val_auc:.4f}\")\n",
    "    \n",
    "    mean_auc = np.mean(cv_auc_scores)\n",
    "    trial.set_user_attr(\"cv_auc_scores\", cv_auc_scores)\n",
    "    \n",
    "    return mean_auc"
   ]
  },
  {
   "cell_type": "code",
   "execution_count": null,
   "id": "480c7cf3",
   "metadata": {
    "scrolled": true
   },
   "outputs": [],
   "source": [
    "study = optuna.create_study(direction='maximize', sampler=TPESampler(seed=RANDOM_STATE))\n",
    "study.optimize(lambda trial: objective(trial, X_train_ohe, y_train, device), \n",
    "              n_trials=1, n_jobs=-1)\n",
    "\n",
    "best_params = study.best_params\n",
    "print(\"Best params:\", best_params)\n",
    "print(\"Best AUC:\", study.best_value)"
   ]
  },
  {
   "cell_type": "markdown",
   "id": "e1243219",
   "metadata": {},
   "source": [
    "### Вывод по обучению нейронной сети\n",
    "\n",
    "#### Результаты оптимизации:\n",
    "- **Метрика AUC-ROC**: 0.718\n",
    "- **Время оптимизации**: ~2 минуты (1 trial)"
   ]
  },
  {
   "cell_type": "markdown",
   "id": "38a84832",
   "metadata": {},
   "source": [
    "Лучшей моделью оказалась **LightGBM** с итоговой метрикой ROC-AUC на кросс-валидации - 0.851"
   ]
  },
  {
   "cell_type": "markdown",
   "id": "8aa77b8a",
   "metadata": {},
   "source": [
    "## Тестирование лучшей модели"
   ]
  },
  {
   "cell_type": "code",
   "execution_count": null,
   "id": "be63cab4",
   "metadata": {},
   "outputs": [],
   "source": [
    "test_preds_proba_lgb = optuna_search_lgb.predict_proba(X_test)[:, 1]\n",
    "test_preds_class_lgb = optuna_search_lgb.predict(X_test)  \n",
    "\n",
    "test_auc = roc_auc_score(y_test, test_preds_proba_lgb)\n",
    "test_accuracy = accuracy_score(y_test, test_preds_class_lgb)\n",
    "print(f\"Test AUC: {test_auc:.4f}\")\n",
    "print(f\"Accuracy: {test_accuracy:.4f}\")"
   ]
  },
  {
   "cell_type": "markdown",
   "id": "e9373c12",
   "metadata": {},
   "source": [
    "На тестовых данных метрика ROC-AUC составляет **0.9297**, что удовлетворяет условиям задачи, точность модели составляет **0.9319**, что является хорошим результатом"
   ]
  },
  {
   "cell_type": "markdown",
   "id": "295dc2c2",
   "metadata": {},
   "source": [
    "### Интерпретация результатов\n",
    "\n",
    "#### ROC-AUC = 0.9297\n",
    " **Отличное качество разделения классов**   \n",
    " Вероятность корректного ранжирования: **92.97%**  \n",
    " Существенно превышает минимальное требование (0.85)\n",
    "\n",
    "#### Accuracy = 0.9319\n",
    " **Общая точность предсказаний**: 93.19% значит, что модель предсказывает правильно с вероятность чуть выше 93%\n"
   ]
  },
  {
   "cell_type": "code",
   "execution_count": null,
   "id": "6e755668",
   "metadata": {},
   "outputs": [],
   "source": [
    "best_model = optuna_search_lgb.best_estimator_  \n",
    "\n",
    "plt.figure(figsize=(10, 8))\n",
    "plot_importance(best_model, max_num_features=20, importance_type='gain')\n",
    "plt.title('Важность признаков модели LightGBM')\n",
    "plt.show()"
   ]
  },
  {
   "cell_type": "markdown",
   "id": "92d7a43f",
   "metadata": {},
   "source": [
    "Самым важным признаком для модели является длительность контракта с клиентом"
   ]
  },
  {
   "cell_type": "code",
   "execution_count": null,
   "id": "b268834a",
   "metadata": {},
   "outputs": [],
   "source": [
    "data['duration_bins'] = pd.cut(data['duration_contract'],\n",
    "                              bins=[0, 30, 90, 180, 365, 730, 1095, 1460, 1825],\n",
    "                              labels=['<1 мес', '1-3 мес', '3-6 мес', '6-12 мес',\n",
    "                                     '1-2 года', '2-3 года', '3-4 года', '>4 лет'])\n",
    "\n",
    "plt.figure(figsize=(12, 6))\n",
    "sns.barplot(x='duration_bins', y='target', data=data,\n",
    "           palette='viridis', estimator=np.mean)\n",
    "plt.title('Средний процент оттока по длительности контракта')\n",
    "plt.xlabel('Длительность контракта')\n",
    "plt.ylabel('Доля ушедших клиентов')\n",
    "plt.xticks(rotation=45)\n",
    "plt.grid(axis='y')\n",
    "plt.show()"
   ]
  },
  {
   "cell_type": "markdown",
   "id": "02e141ee",
   "metadata": {},
   "source": [
    "Из графика видно, что больше всего людей уходят в первый месяц после заключения договора об оказании услуги, стоит обратить на это большое внимание и придумать способы удержания клиента хотя бы на 3 месяца"
   ]
  },
  {
   "cell_type": "code",
   "execution_count": null,
   "id": "623c259e",
   "metadata": {},
   "outputs": [],
   "source": [
    "cm = confusion_matrix(y_test, test_preds_class_lgb)\n",
    "sns.heatmap(cm, annot=True, fmt='d', cmap='Blues')\n",
    "plt.xlabel('Предсказание')\n",
    "plt.ylabel('Факт')\n",
    "plt.title('Матрица ошибок')\n",
    "plt.show()\n",
    "\n",
    "print(classification_report(y_test, test_preds_class_lgb))"
   ]
  },
  {
   "cell_type": "markdown",
   "id": "f769a0c6",
   "metadata": {},
   "source": [
    "####  Бизнес-интерпретация\n",
    "\n",
    "##### True Negative (1471):\n",
    " **Лояльные клиенты правильно идентифицированы**  \n",
    " *Бизнес-эффект*:  \n",
    "- Экономия бюджета на промо-акциях для 1464 клиентов  \n",
    "- Не создаем лишний контакт с довольными клиентами\n",
    "\n",
    "##### False Positive (15):\n",
    " **Лояльные клиенты ошибочно помечены как уходящие**  \n",
    " *Бизнес-риск*:  \n",
    "- 19 клиентов получат ненужные промо-предложения  \n",
    "\n",
    "##### False Negative (105):\n",
    " **Уходящие клиенты не обнаружены**  \n",
    " *Бизнес-потери*:  \n",
    "- Потенциальная потеря 109 клиентов \n",
    "\n",
    "##### True Positive (170):\n",
    " **Уходящие клиенты правильно выявлены**  \n",
    " *Бизнес-возможность*:  \n",
    "- 166 клиентов могут быть удержаны специальными предложениями"
   ]
  },
  {
   "cell_type": "code",
   "execution_count": null,
   "id": "66373916",
   "metadata": {},
   "outputs": [],
   "source": [
    "y_scores = best_model.predict_proba(X_test)[:, 1]\n",
    "\n",
    "precision, recall, _ = precision_recall_curve(y_test, y_scores)\n",
    "ap_score = average_precision_score(y_test, y_scores)\n",
    "\n",
    "plt.figure()\n",
    "plt.plot(recall, precision, label=f'AP = {ap_score:.2f}')\n",
    "plt.xlabel('Recall')\n",
    "plt.ylabel('Precision')\n",
    "plt.title('Кривая Precision-Recall')\n",
    "plt.legend()\n",
    "plt.show()"
   ]
  },
  {
   "cell_type": "markdown",
   "id": "f338d36a",
   "metadata": {},
   "source": [
    "В ходе выполнения проекта - Прогнозирование оттока клиентов для оператора \"ТелеДом\" были выполнены следующие шаги :\n",
    "\n",
    "- Выгрузка и анализ таблиц;\n",
    "- Предобработка данных;\n",
    "- Объединение в один датасет для дальнейшего обучения моделей;\n",
    "- Выбор и анализ признаков для обучения;\n",
    "- Подготовка данных к обучению - кодировка и разделение на выборки;\n",
    "\n",
    "Всего обучили три модели: RandomForestClassifier, LightGBM, NeuralNetwork. \n",
    "По итогу обучения выбрали модель градиентного бустинга LightGBM, она легкая не требует больших вычислительных ресурсов, имеет быстрое время обучения и предсказания, также имеет высокую метрику на тестовых данных ROC-AUC - 0.9186\n",
    "\n",
    "После обучения модели на стадии определения важных признаков при обучении было выяснено, что модель очень большое внимание уделяет длительности договора с клиентом и оказалось, что огромное количество людей отказываются от услуг в первый же месяц после заключения договора, рекомендуется ввести различные акции для новых клиентов, которые длятся, хотя бы 3 месяца, акции и услуги должны быть максимально привлекательными и выгодными для клиента."
   ]
  }
 ],
 "metadata": {
  "ExecuteTimeLog": [
   {
    "duration": 441,
    "start_time": "2025-07-06T12:06:29.818Z"
   },
   {
    "duration": 0,
    "start_time": "2025-07-06T12:06:30.262Z"
   },
   {
    "duration": 1,
    "start_time": "2025-07-06T12:06:30.263Z"
   },
   {
    "duration": 0,
    "start_time": "2025-07-06T12:06:30.271Z"
   },
   {
    "duration": 0,
    "start_time": "2025-07-06T12:06:30.272Z"
   },
   {
    "duration": 0,
    "start_time": "2025-07-06T12:06:30.273Z"
   },
   {
    "duration": 0,
    "start_time": "2025-07-06T12:06:30.274Z"
   },
   {
    "duration": 0,
    "start_time": "2025-07-06T12:06:30.276Z"
   },
   {
    "duration": 0,
    "start_time": "2025-07-06T12:06:30.277Z"
   },
   {
    "duration": 0,
    "start_time": "2025-07-06T12:06:30.278Z"
   },
   {
    "duration": 0,
    "start_time": "2025-07-06T12:06:30.279Z"
   },
   {
    "duration": 0,
    "start_time": "2025-07-06T12:06:30.280Z"
   },
   {
    "duration": 10881,
    "start_time": "2025-07-08T10:29:52.140Z"
   },
   {
    "duration": 2353,
    "start_time": "2025-07-08T10:30:03.023Z"
   },
   {
    "duration": 1543,
    "start_time": "2025-07-08T10:30:05.381Z"
   },
   {
    "duration": 4,
    "start_time": "2025-07-08T10:30:20.820Z"
   },
   {
    "duration": 5,
    "start_time": "2025-07-08T10:30:21.549Z"
   },
   {
    "duration": 11,
    "start_time": "2025-07-08T10:30:22.103Z"
   },
   {
    "duration": 314,
    "start_time": "2025-07-08T10:30:22.144Z"
   },
   {
    "duration": 6,
    "start_time": "2025-07-08T10:30:22.460Z"
   },
   {
    "duration": 289,
    "start_time": "2025-07-08T10:30:22.467Z"
   },
   {
    "duration": 287,
    "start_time": "2025-07-08T10:30:22.758Z"
   },
   {
    "duration": 384,
    "start_time": "2025-07-08T10:30:23.046Z"
   },
   {
    "duration": 239,
    "start_time": "2025-07-08T10:30:23.432Z"
   },
   {
    "duration": 111,
    "start_time": "2025-07-08T10:30:23.672Z"
   },
   {
    "duration": 6,
    "start_time": "2025-07-08T10:30:23.785Z"
   },
   {
    "duration": 9,
    "start_time": "2025-07-08T10:30:23.793Z"
   },
   {
    "duration": 5,
    "start_time": "2025-07-08T10:30:23.804Z"
   },
   {
    "duration": 93,
    "start_time": "2025-07-08T10:30:23.811Z"
   },
   {
    "duration": 11,
    "start_time": "2025-07-08T10:30:23.906Z"
   },
   {
    "duration": 66,
    "start_time": "2025-07-08T10:30:32.862Z"
   },
   {
    "duration": 1000,
    "start_time": "2025-07-08T10:30:33.567Z"
   },
   {
    "duration": 37,
    "start_time": "2025-07-08T10:30:34.569Z"
   },
   {
    "duration": 34,
    "start_time": "2025-07-08T10:30:34.770Z"
   },
   {
    "duration": 2066,
    "start_time": "2025-07-08T10:30:35.865Z"
   },
   {
    "duration": 48,
    "start_time": "2025-07-08T10:30:37.934Z"
   },
   {
    "duration": 34,
    "start_time": "2025-07-08T10:30:37.985Z"
   },
   {
    "duration": 48,
    "start_time": "2025-07-08T10:30:38.021Z"
   },
   {
    "duration": 9,
    "start_time": "2025-07-08T10:30:51.674Z"
   },
   {
    "duration": 13,
    "start_time": "2025-07-08T10:31:14.168Z"
   },
   {
    "duration": 11801,
    "start_time": "2025-07-08T10:32:49.590Z"
   },
   {
    "duration": 2780,
    "start_time": "2025-07-08T10:33:01.393Z"
   },
   {
    "duration": 1504,
    "start_time": "2025-07-08T10:33:04.182Z"
   },
   {
    "duration": 4,
    "start_time": "2025-07-08T10:33:05.688Z"
   },
   {
    "duration": 21,
    "start_time": "2025-07-08T10:33:05.694Z"
   },
   {
    "duration": 13,
    "start_time": "2025-07-08T10:33:05.716Z"
   },
   {
    "duration": 262,
    "start_time": "2025-07-08T10:33:05.730Z"
   },
   {
    "duration": 4,
    "start_time": "2025-07-08T10:33:05.993Z"
   },
   {
    "duration": 456,
    "start_time": "2025-07-08T10:33:05.998Z"
   },
   {
    "duration": 377,
    "start_time": "2025-07-08T10:33:06.456Z"
   },
   {
    "duration": 388,
    "start_time": "2025-07-08T10:33:06.834Z"
   },
   {
    "duration": 275,
    "start_time": "2025-07-08T10:33:07.224Z"
   },
   {
    "duration": 89,
    "start_time": "2025-07-08T10:33:07.500Z"
   },
   {
    "duration": 6,
    "start_time": "2025-07-08T10:33:07.593Z"
   },
   {
    "duration": 21,
    "start_time": "2025-07-08T10:33:07.600Z"
   },
   {
    "duration": 9,
    "start_time": "2025-07-08T10:33:07.622Z"
   },
   {
    "duration": 82,
    "start_time": "2025-07-08T10:33:07.633Z"
   },
   {
    "duration": 10,
    "start_time": "2025-07-08T10:33:07.717Z"
   },
   {
    "duration": 6363,
    "start_time": "2025-07-08T10:33:07.728Z"
   },
   {
    "duration": 2509,
    "start_time": "2025-07-08T10:33:14.093Z"
   },
   {
    "duration": 3944,
    "start_time": "2025-07-08T10:33:16.603Z"
   },
   {
    "duration": 1272,
    "start_time": "2025-07-08T10:33:20.548Z"
   },
   {
    "duration": 76,
    "start_time": "2025-07-08T10:33:21.821Z"
   },
   {
    "duration": 1054,
    "start_time": "2025-07-08T10:33:21.898Z"
   },
   {
    "duration": 51,
    "start_time": "2025-07-08T10:33:22.953Z"
   },
   {
    "duration": 23,
    "start_time": "2025-07-08T10:33:23.005Z"
   },
   {
    "duration": 1945,
    "start_time": "2025-07-08T10:33:23.030Z"
   },
   {
    "duration": 36,
    "start_time": "2025-07-08T10:33:24.978Z"
   },
   {
    "duration": 35,
    "start_time": "2025-07-08T10:33:25.016Z"
   },
   {
    "duration": 25,
    "start_time": "2025-07-08T10:33:25.053Z"
   },
   {
    "duration": 8,
    "start_time": "2025-07-08T10:33:25.082Z"
   },
   {
    "duration": 13,
    "start_time": "2025-07-08T10:33:25.093Z"
   },
   {
    "duration": 7,
    "start_time": "2025-07-08T10:33:25.108Z"
   },
   {
    "duration": 628477,
    "start_time": "2025-07-08T10:33:25.117Z"
   },
   {
    "duration": 91,
    "start_time": "2025-07-08T10:44:18.280Z"
   },
   {
    "duration": 258,
    "start_time": "2025-07-08T10:44:33.026Z"
   },
   {
    "duration": 346,
    "start_time": "2025-07-08T10:44:46.491Z"
   },
   {
    "duration": 283,
    "start_time": "2025-07-08T10:44:50.835Z"
   },
   {
    "duration": 155,
    "start_time": "2025-07-08T10:45:11.465Z"
   },
   {
    "duration": 13526,
    "start_time": "2025-07-08T10:46:11.999Z"
   },
   {
    "duration": 7,
    "start_time": "2025-07-08T10:46:27.716Z"
   },
   {
    "duration": 21,
    "start_time": "2025-07-08T10:46:35.393Z"
   },
   {
    "duration": 12,
    "start_time": "2025-07-08T11:02:11.936Z"
   },
   {
    "duration": 4,
    "start_time": "2025-07-08T11:04:29.078Z"
   },
   {
    "duration": 15,
    "start_time": "2025-07-08T11:06:01.508Z"
   },
   {
    "duration": 12,
    "start_time": "2025-07-08T11:07:57.817Z"
   },
   {
    "duration": 13,
    "start_time": "2025-07-08T11:08:39.631Z"
   },
   {
    "duration": 12,
    "start_time": "2025-07-08T11:10:44.383Z"
   },
   {
    "duration": 16,
    "start_time": "2025-07-08T11:10:47.901Z"
   },
   {
    "duration": 4,
    "start_time": "2025-07-08T11:14:35.616Z"
   },
   {
    "duration": 12,
    "start_time": "2025-07-08T11:14:55.988Z"
   },
   {
    "duration": 2320,
    "start_time": "2025-07-08T11:15:28.373Z"
   },
   {
    "duration": 4,
    "start_time": "2025-07-08T11:15:56.565Z"
   },
   {
    "duration": 1523678,
    "start_time": "2025-07-08T11:15:57.621Z"
   },
   {
    "duration": 1189,
    "start_time": "2025-07-08T11:42:11.504Z"
   },
   {
    "duration": 254,
    "start_time": "2025-07-08T11:42:26.671Z"
   },
   {
    "duration": 297,
    "start_time": "2025-07-08T11:42:34.391Z"
   },
   {
    "duration": 11,
    "start_time": "2025-07-08T11:42:44.545Z"
   },
   {
    "duration": 12,
    "start_time": "2025-07-08T12:08:32.121Z"
   },
   {
    "duration": 733,
    "start_time": "2025-07-08T12:09:01.086Z"
   },
   {
    "duration": 5,
    "start_time": "2025-07-08T15:03:43.629Z"
   }
  ],
  "kernelspec": {
   "display_name": "Python 3 (ipykernel)",
   "language": "python",
   "name": "python3"
  },
  "language_info": {
   "codemirror_mode": {
    "name": "ipython",
    "version": 3
   },
   "file_extension": ".py",
   "mimetype": "text/x-python",
   "name": "python",
   "nbconvert_exporter": "python",
   "pygments_lexer": "ipython3",
   "version": "3.9.5"
  },
  "toc": {
   "base_numbering": 1,
   "nav_menu": {},
   "number_sections": true,
   "sideBar": true,
   "skip_h1_title": true,
   "title_cell": "Table of Contents",
   "title_sidebar": "Contents",
   "toc_cell": false,
   "toc_position": {},
   "toc_section_display": true,
   "toc_window_display": true
  }
 },
 "nbformat": 4,
 "nbformat_minor": 5
}
