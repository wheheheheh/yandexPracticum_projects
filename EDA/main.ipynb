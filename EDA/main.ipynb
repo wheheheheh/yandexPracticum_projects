{
 "cells": [
  {
   "cell_type": "markdown",
   "metadata": {
    "id": "-VFbjcb3Awb7"
   },
   "source": [
    "# Исследование объявлений о продаже квартир\n",
    "\n",
    "В вашем распоряжении данные сервиса Яндекс Недвижимость — архив объявлений о продаже квартир в Санкт-Петербурге и соседних населённых пунктах за несколько лет. Вам нужно научиться определять рыночную стоимость объектов недвижимости. Для этого проведите исследовательский анализ данных и установите параметры, влияющие на цену объектов. Это позволит построить автоматизированную систему: она отследит аномалии и мошенническую деятельность.\n",
    "\n",
    "По каждой квартире на продажу доступны два вида данных. Первые вписаны пользователем, вторые — получены автоматически на основе картографических данных. Например, расстояние до центра, аэропорта и других объектов — эти данные автоматически получены из геосервисов. Количество парков и водоёмов также заполняется без участия пользователя."
   ]
  },
  {
   "cell_type": "markdown",
   "metadata": {
    "id": "aeFLH07FAwb9"
   },
   "source": [
    "### Откройте файл с данными и изучите общую информацию"
   ]
  },
  {
   "cell_type": "code",
   "execution_count": null,
   "metadata": {
    "id": "7MZxY65pAwb9",
    "scrolled": false
   },
   "outputs": [
    {
     "data": {
      "text/html": [
       "<div>\n",
       "<style scoped>\n",
       "    .dataframe tbody tr th:only-of-type {\n",
       "        vertical-align: middle;\n",
       "    }\n",
       "\n",
       "    .dataframe tbody tr th {\n",
       "        vertical-align: top;\n",
       "    }\n",
       "\n",
       "    .dataframe thead th {\n",
       "        text-align: right;\n",
       "    }\n",
       "</style>\n",
       "<table border=\"1\" class=\"dataframe\">\n",
       "  <thead>\n",
       "    <tr style=\"text-align: right;\">\n",
       "      <th></th>\n",
       "      <th>total_images</th>\n",
       "      <th>last_price</th>\n",
       "      <th>total_area</th>\n",
       "      <th>first_day_exposition</th>\n",
       "      <th>rooms</th>\n",
       "      <th>ceiling_height</th>\n",
       "      <th>floors_total</th>\n",
       "      <th>living_area</th>\n",
       "      <th>floor</th>\n",
       "      <th>is_apartment</th>\n",
       "      <th>...</th>\n",
       "      <th>kitchen_area</th>\n",
       "      <th>balcony</th>\n",
       "      <th>locality_name</th>\n",
       "      <th>airports_nearest</th>\n",
       "      <th>cityCenters_nearest</th>\n",
       "      <th>parks_around3000</th>\n",
       "      <th>parks_nearest</th>\n",
       "      <th>ponds_around3000</th>\n",
       "      <th>ponds_nearest</th>\n",
       "      <th>days_exposition</th>\n",
       "    </tr>\n",
       "  </thead>\n",
       "  <tbody>\n",
       "    <tr>\n",
       "      <th>0</th>\n",
       "      <td>20</td>\n",
       "      <td>13000000.0</td>\n",
       "      <td>108.00</td>\n",
       "      <td>2019-03-07T00:00:00</td>\n",
       "      <td>3</td>\n",
       "      <td>2.70</td>\n",
       "      <td>16.0</td>\n",
       "      <td>51.00</td>\n",
       "      <td>8</td>\n",
       "      <td>NaN</td>\n",
       "      <td>...</td>\n",
       "      <td>25.00</td>\n",
       "      <td>NaN</td>\n",
       "      <td>Санкт-Петербург</td>\n",
       "      <td>18863.0</td>\n",
       "      <td>16028.0</td>\n",
       "      <td>1.0</td>\n",
       "      <td>482.0</td>\n",
       "      <td>2.0</td>\n",
       "      <td>755.0</td>\n",
       "      <td>NaN</td>\n",
       "    </tr>\n",
       "    <tr>\n",
       "      <th>1</th>\n",
       "      <td>7</td>\n",
       "      <td>3350000.0</td>\n",
       "      <td>40.40</td>\n",
       "      <td>2018-12-04T00:00:00</td>\n",
       "      <td>1</td>\n",
       "      <td>NaN</td>\n",
       "      <td>11.0</td>\n",
       "      <td>18.60</td>\n",
       "      <td>1</td>\n",
       "      <td>NaN</td>\n",
       "      <td>...</td>\n",
       "      <td>11.00</td>\n",
       "      <td>2.0</td>\n",
       "      <td>посёлок Шушары</td>\n",
       "      <td>12817.0</td>\n",
       "      <td>18603.0</td>\n",
       "      <td>0.0</td>\n",
       "      <td>NaN</td>\n",
       "      <td>0.0</td>\n",
       "      <td>NaN</td>\n",
       "      <td>81.0</td>\n",
       "    </tr>\n",
       "    <tr>\n",
       "      <th>2</th>\n",
       "      <td>10</td>\n",
       "      <td>5196000.0</td>\n",
       "      <td>56.00</td>\n",
       "      <td>2015-08-20T00:00:00</td>\n",
       "      <td>2</td>\n",
       "      <td>NaN</td>\n",
       "      <td>5.0</td>\n",
       "      <td>34.30</td>\n",
       "      <td>4</td>\n",
       "      <td>NaN</td>\n",
       "      <td>...</td>\n",
       "      <td>8.30</td>\n",
       "      <td>0.0</td>\n",
       "      <td>Санкт-Петербург</td>\n",
       "      <td>21741.0</td>\n",
       "      <td>13933.0</td>\n",
       "      <td>1.0</td>\n",
       "      <td>90.0</td>\n",
       "      <td>2.0</td>\n",
       "      <td>574.0</td>\n",
       "      <td>558.0</td>\n",
       "    </tr>\n",
       "    <tr>\n",
       "      <th>3</th>\n",
       "      <td>0</td>\n",
       "      <td>64900000.0</td>\n",
       "      <td>159.00</td>\n",
       "      <td>2015-07-24T00:00:00</td>\n",
       "      <td>3</td>\n",
       "      <td>NaN</td>\n",
       "      <td>14.0</td>\n",
       "      <td>NaN</td>\n",
       "      <td>9</td>\n",
       "      <td>NaN</td>\n",
       "      <td>...</td>\n",
       "      <td>NaN</td>\n",
       "      <td>0.0</td>\n",
       "      <td>Санкт-Петербург</td>\n",
       "      <td>28098.0</td>\n",
       "      <td>6800.0</td>\n",
       "      <td>2.0</td>\n",
       "      <td>84.0</td>\n",
       "      <td>3.0</td>\n",
       "      <td>234.0</td>\n",
       "      <td>424.0</td>\n",
       "    </tr>\n",
       "    <tr>\n",
       "      <th>4</th>\n",
       "      <td>2</td>\n",
       "      <td>10000000.0</td>\n",
       "      <td>100.00</td>\n",
       "      <td>2018-06-19T00:00:00</td>\n",
       "      <td>2</td>\n",
       "      <td>3.03</td>\n",
       "      <td>14.0</td>\n",
       "      <td>32.00</td>\n",
       "      <td>13</td>\n",
       "      <td>NaN</td>\n",
       "      <td>...</td>\n",
       "      <td>41.00</td>\n",
       "      <td>NaN</td>\n",
       "      <td>Санкт-Петербург</td>\n",
       "      <td>31856.0</td>\n",
       "      <td>8098.0</td>\n",
       "      <td>2.0</td>\n",
       "      <td>112.0</td>\n",
       "      <td>1.0</td>\n",
       "      <td>48.0</td>\n",
       "      <td>121.0</td>\n",
       "    </tr>\n",
       "    <tr>\n",
       "      <th>5</th>\n",
       "      <td>10</td>\n",
       "      <td>2890000.0</td>\n",
       "      <td>30.40</td>\n",
       "      <td>2018-09-10T00:00:00</td>\n",
       "      <td>1</td>\n",
       "      <td>NaN</td>\n",
       "      <td>12.0</td>\n",
       "      <td>14.40</td>\n",
       "      <td>5</td>\n",
       "      <td>NaN</td>\n",
       "      <td>...</td>\n",
       "      <td>9.10</td>\n",
       "      <td>NaN</td>\n",
       "      <td>городской посёлок Янино-1</td>\n",
       "      <td>NaN</td>\n",
       "      <td>NaN</td>\n",
       "      <td>NaN</td>\n",
       "      <td>NaN</td>\n",
       "      <td>NaN</td>\n",
       "      <td>NaN</td>\n",
       "      <td>55.0</td>\n",
       "    </tr>\n",
       "    <tr>\n",
       "      <th>6</th>\n",
       "      <td>6</td>\n",
       "      <td>3700000.0</td>\n",
       "      <td>37.30</td>\n",
       "      <td>2017-11-02T00:00:00</td>\n",
       "      <td>1</td>\n",
       "      <td>NaN</td>\n",
       "      <td>26.0</td>\n",
       "      <td>10.60</td>\n",
       "      <td>6</td>\n",
       "      <td>NaN</td>\n",
       "      <td>...</td>\n",
       "      <td>14.40</td>\n",
       "      <td>1.0</td>\n",
       "      <td>посёлок Парголово</td>\n",
       "      <td>52996.0</td>\n",
       "      <td>19143.0</td>\n",
       "      <td>0.0</td>\n",
       "      <td>NaN</td>\n",
       "      <td>0.0</td>\n",
       "      <td>NaN</td>\n",
       "      <td>155.0</td>\n",
       "    </tr>\n",
       "    <tr>\n",
       "      <th>7</th>\n",
       "      <td>5</td>\n",
       "      <td>7915000.0</td>\n",
       "      <td>71.60</td>\n",
       "      <td>2019-04-18T00:00:00</td>\n",
       "      <td>2</td>\n",
       "      <td>NaN</td>\n",
       "      <td>24.0</td>\n",
       "      <td>NaN</td>\n",
       "      <td>22</td>\n",
       "      <td>NaN</td>\n",
       "      <td>...</td>\n",
       "      <td>18.90</td>\n",
       "      <td>2.0</td>\n",
       "      <td>Санкт-Петербург</td>\n",
       "      <td>23982.0</td>\n",
       "      <td>11634.0</td>\n",
       "      <td>0.0</td>\n",
       "      <td>NaN</td>\n",
       "      <td>0.0</td>\n",
       "      <td>NaN</td>\n",
       "      <td>NaN</td>\n",
       "    </tr>\n",
       "    <tr>\n",
       "      <th>8</th>\n",
       "      <td>20</td>\n",
       "      <td>2900000.0</td>\n",
       "      <td>33.16</td>\n",
       "      <td>2018-05-23T00:00:00</td>\n",
       "      <td>1</td>\n",
       "      <td>NaN</td>\n",
       "      <td>27.0</td>\n",
       "      <td>15.43</td>\n",
       "      <td>26</td>\n",
       "      <td>NaN</td>\n",
       "      <td>...</td>\n",
       "      <td>8.81</td>\n",
       "      <td>NaN</td>\n",
       "      <td>посёлок Мурино</td>\n",
       "      <td>NaN</td>\n",
       "      <td>NaN</td>\n",
       "      <td>NaN</td>\n",
       "      <td>NaN</td>\n",
       "      <td>NaN</td>\n",
       "      <td>NaN</td>\n",
       "      <td>189.0</td>\n",
       "    </tr>\n",
       "    <tr>\n",
       "      <th>9</th>\n",
       "      <td>18</td>\n",
       "      <td>5400000.0</td>\n",
       "      <td>61.00</td>\n",
       "      <td>2017-02-26T00:00:00</td>\n",
       "      <td>3</td>\n",
       "      <td>2.50</td>\n",
       "      <td>9.0</td>\n",
       "      <td>43.60</td>\n",
       "      <td>7</td>\n",
       "      <td>NaN</td>\n",
       "      <td>...</td>\n",
       "      <td>6.50</td>\n",
       "      <td>2.0</td>\n",
       "      <td>Санкт-Петербург</td>\n",
       "      <td>50898.0</td>\n",
       "      <td>15008.0</td>\n",
       "      <td>0.0</td>\n",
       "      <td>NaN</td>\n",
       "      <td>0.0</td>\n",
       "      <td>NaN</td>\n",
       "      <td>289.0</td>\n",
       "    </tr>\n",
       "  </tbody>\n",
       "</table>\n",
       "<p>10 rows × 22 columns</p>\n",
       "</div>"
      ],
      "text/plain": [
       "   total_images  last_price  total_area first_day_exposition  rooms  \\\n",
       "0            20  13000000.0      108.00  2019-03-07T00:00:00      3   \n",
       "1             7   3350000.0       40.40  2018-12-04T00:00:00      1   \n",
       "2            10   5196000.0       56.00  2015-08-20T00:00:00      2   \n",
       "3             0  64900000.0      159.00  2015-07-24T00:00:00      3   \n",
       "4             2  10000000.0      100.00  2018-06-19T00:00:00      2   \n",
       "5            10   2890000.0       30.40  2018-09-10T00:00:00      1   \n",
       "6             6   3700000.0       37.30  2017-11-02T00:00:00      1   \n",
       "7             5   7915000.0       71.60  2019-04-18T00:00:00      2   \n",
       "8            20   2900000.0       33.16  2018-05-23T00:00:00      1   \n",
       "9            18   5400000.0       61.00  2017-02-26T00:00:00      3   \n",
       "\n",
       "   ceiling_height  floors_total  living_area  floor is_apartment  ...  \\\n",
       "0            2.70          16.0        51.00      8          NaN  ...   \n",
       "1             NaN          11.0        18.60      1          NaN  ...   \n",
       "2             NaN           5.0        34.30      4          NaN  ...   \n",
       "3             NaN          14.0          NaN      9          NaN  ...   \n",
       "4            3.03          14.0        32.00     13          NaN  ...   \n",
       "5             NaN          12.0        14.40      5          NaN  ...   \n",
       "6             NaN          26.0        10.60      6          NaN  ...   \n",
       "7             NaN          24.0          NaN     22          NaN  ...   \n",
       "8             NaN          27.0        15.43     26          NaN  ...   \n",
       "9            2.50           9.0        43.60      7          NaN  ...   \n",
       "\n",
       "   kitchen_area  balcony              locality_name  airports_nearest  \\\n",
       "0         25.00      NaN            Санкт-Петербург           18863.0   \n",
       "1         11.00      2.0             посёлок Шушары           12817.0   \n",
       "2          8.30      0.0            Санкт-Петербург           21741.0   \n",
       "3           NaN      0.0            Санкт-Петербург           28098.0   \n",
       "4         41.00      NaN            Санкт-Петербург           31856.0   \n",
       "5          9.10      NaN  городской посёлок Янино-1               NaN   \n",
       "6         14.40      1.0          посёлок Парголово           52996.0   \n",
       "7         18.90      2.0            Санкт-Петербург           23982.0   \n",
       "8          8.81      NaN             посёлок Мурино               NaN   \n",
       "9          6.50      2.0            Санкт-Петербург           50898.0   \n",
       "\n",
       "  cityCenters_nearest  parks_around3000  parks_nearest  ponds_around3000  \\\n",
       "0             16028.0               1.0          482.0               2.0   \n",
       "1             18603.0               0.0            NaN               0.0   \n",
       "2             13933.0               1.0           90.0               2.0   \n",
       "3              6800.0               2.0           84.0               3.0   \n",
       "4              8098.0               2.0          112.0               1.0   \n",
       "5                 NaN               NaN            NaN               NaN   \n",
       "6             19143.0               0.0            NaN               0.0   \n",
       "7             11634.0               0.0            NaN               0.0   \n",
       "8                 NaN               NaN            NaN               NaN   \n",
       "9             15008.0               0.0            NaN               0.0   \n",
       "\n",
       "   ponds_nearest  days_exposition  \n",
       "0          755.0              NaN  \n",
       "1            NaN             81.0  \n",
       "2          574.0            558.0  \n",
       "3          234.0            424.0  \n",
       "4           48.0            121.0  \n",
       "5            NaN             55.0  \n",
       "6            NaN            155.0  \n",
       "7            NaN              NaN  \n",
       "8            NaN            189.0  \n",
       "9            NaN            289.0  \n",
       "\n",
       "[10 rows x 22 columns]"
      ]
     },
     "metadata": {},
     "output_type": "display_data"
    },
    {
     "name": "stdout",
     "output_type": "stream",
     "text": [
      "<class 'pandas.core.frame.DataFrame'>\n",
      "RangeIndex: 23699 entries, 0 to 23698\n",
      "Data columns (total 22 columns):\n",
      " #   Column                Non-Null Count  Dtype  \n",
      "---  ------                --------------  -----  \n",
      " 0   total_images          23699 non-null  int64  \n",
      " 1   last_price            23699 non-null  float64\n",
      " 2   total_area            23699 non-null  float64\n",
      " 3   first_day_exposition  23699 non-null  object \n",
      " 4   rooms                 23699 non-null  int64  \n",
      " 5   ceiling_height        14504 non-null  float64\n",
      " 6   floors_total          23613 non-null  float64\n",
      " 7   living_area           21796 non-null  float64\n",
      " 8   floor                 23699 non-null  int64  \n",
      " 9   is_apartment          2775 non-null   object \n",
      " 10  studio                23699 non-null  bool   \n",
      " 11  open_plan             23699 non-null  bool   \n",
      " 12  kitchen_area          21421 non-null  float64\n",
      " 13  balcony               12180 non-null  float64\n",
      " 14  locality_name         23650 non-null  object \n",
      " 15  airports_nearest      18157 non-null  float64\n",
      " 16  cityCenters_nearest   18180 non-null  float64\n",
      " 17  parks_around3000      18181 non-null  float64\n",
      " 18  parks_nearest         8079 non-null   float64\n",
      " 19  ponds_around3000      18181 non-null  float64\n",
      " 20  ponds_nearest         9110 non-null   float64\n",
      " 21  days_exposition       20518 non-null  float64\n",
      "dtypes: bool(2), float64(14), int64(3), object(3)\n",
      "memory usage: 3.7+ MB\n"
     ]
    }
   ],
   "source": [
    "import pandas as pd\n",
    "import matplotlib.pyplot as plt\n",
    "\n",
    "try:\n",
    "    data = pd.read_csv('YOUR_DATA')\n",
    "except:\n",
    "    data = pd.read_csv('YOUR_DATA')\n",
    "\n",
    "display(data.head(10))\n",
    "data.info()"
   ]
  },
  {
   "cell_type": "code",
   "execution_count": 2,
   "metadata": {},
   "outputs": [
    {
     "name": "stdout",
     "output_type": "stream",
     "text": [
      "       total_images    last_price    total_area         rooms  ceiling_height  \\\n",
      "count  23699.000000  2.369900e+04  23699.000000  23699.000000    14504.000000   \n",
      "mean       9.858475  6.541549e+06     60.348651      2.070636        2.771499   \n",
      "std        5.682529  1.088701e+07     35.654083      1.078405        1.261056   \n",
      "min        0.000000  1.219000e+04     12.000000      0.000000        1.000000   \n",
      "25%        6.000000  3.400000e+06     40.000000      1.000000        2.520000   \n",
      "50%        9.000000  4.650000e+06     52.000000      2.000000        2.650000   \n",
      "75%       14.000000  6.800000e+06     69.900000      3.000000        2.800000   \n",
      "max       50.000000  7.630000e+08    900.000000     19.000000      100.000000   \n",
      "\n",
      "       floors_total   living_area         floor  kitchen_area       balcony  \\\n",
      "count  23613.000000  21796.000000  23699.000000  21421.000000  12180.000000   \n",
      "mean      10.673824     34.457852      5.892358     10.569807      1.150082   \n",
      "std        6.597173     22.030445      4.885249      5.905438      1.071300   \n",
      "min        1.000000      2.000000      1.000000      1.300000      0.000000   \n",
      "25%        5.000000     18.600000      2.000000      7.000000      0.000000   \n",
      "50%        9.000000     30.000000      4.000000      9.100000      1.000000   \n",
      "75%       16.000000     42.300000      8.000000     12.000000      2.000000   \n",
      "max       60.000000    409.700000     33.000000    112.000000      5.000000   \n",
      "\n",
      "       airports_nearest  cityCenters_nearest  parks_around3000  parks_nearest  \\\n",
      "count      18157.000000         18180.000000      18181.000000    8079.000000   \n",
      "mean       28793.672193         14191.277833          0.611408     490.804555   \n",
      "std        12630.880622          8608.386210          0.802074     342.317995   \n",
      "min            0.000000           181.000000          0.000000       1.000000   \n",
      "25%        18585.000000          9238.000000          0.000000     288.000000   \n",
      "50%        26726.000000         13098.500000          0.000000     455.000000   \n",
      "75%        37273.000000         16293.000000          1.000000     612.000000   \n",
      "max        84869.000000         65968.000000          3.000000    3190.000000   \n",
      "\n",
      "       ponds_around3000  ponds_nearest  days_exposition  \n",
      "count      18181.000000    9110.000000     20518.000000  \n",
      "mean           0.770255     517.980900       180.888634  \n",
      "std            0.938346     277.720643       219.727988  \n",
      "min            0.000000      13.000000         1.000000  \n",
      "25%            0.000000     294.000000        45.000000  \n",
      "50%            1.000000     502.000000        95.000000  \n",
      "75%            1.000000     729.000000       232.000000  \n",
      "max            3.000000    1344.000000      1580.000000  \n"
     ]
    }
   ],
   "source": [
    "print(data.describe())"
   ]
  },
  {
   "cell_type": "code",
   "execution_count": 3,
   "metadata": {
    "scrolled": true
   },
   "outputs": [
    {
     "data": {
      "image/png": "[encoded data removed]",
      "text/plain": [
       "<Figure size 1440x1440 with 20 Axes>"
      ]
     },
     "metadata": {
      "needs_background": "light"
     },
     "output_type": "display_data"
    }
   ],
   "source": [
    "data.hist(figsize=(20, 20))\n",
    "plt.show()"
   ]
  },
  {
   "cell_type": "markdown",
   "metadata": {},
   "source": [
    "-Вывод на основе полученных данных:\n",
    "\n",
    "    last_price: минимальная цена квартиры 12190 руб., для Санкт-Петербурга очень дешево, \n",
    "    да и не только для СПб. Максимальная цена 763 000 000 руб. очень высокая, \n",
    "    но для для каких-нибудь объектов возможна. \n",
    "\n",
    "    rooms: минимальное число комнат 0 это ошибка или студии, возможно по ошибке есть другие объекты.\n",
    "\n",
    "    ceiling_height: минимальная высота потолков 1 метр, максимальная - 100 метров это ошибка, слишком высокие.\n",
    "\n",
    "    floors_total: максимальное количество этажей 60 это ошибка, слишком высокое.\n",
    "\n",
    "    living_area: минимальная жилая площадь 2 м² слишком маленькая это ошибка.\n",
    "\n",
    "    kitchen_area: минимальная площадь кухни 1,3 м² слишком маленькая это ошибка.\n",
    "\n",
    "    airports_nearest: минимальное расстояние до аэропорта 0 м это ошибка.\n",
    "\n",
    "    days_exposition: минимальное количество дней размещения объявления - 1. \n",
    "    Продажа недвижимости за 1 день или снятие объявления по другой причине - допустимый вариант, \n",
    "    но, если таких объявлений много, то такие данные могут негативно влиять на среднее. \n",
    "    Максимальное значение - 1580 дней (больше 4-х лет) также может негативно влиять на среднее время."
   ]
  },
  {
   "cell_type": "markdown",
   "metadata": {
    "id": "-O5NtivEAwb9"
   },
   "source": [
    "### Выполните предобработку данных"
   ]
  },
  {
   "cell_type": "code",
   "execution_count": 4,
   "metadata": {
    "id": "7v3vAeTuAwb-"
   },
   "outputs": [
    {
     "name": "stderr",
     "output_type": "stream",
     "text": [
      "/opt/conda/lib/python3.9/site-packages/numpy/lib/nanfunctions.py:1117: RuntimeWarning: Mean of empty slice\n",
      "  return np.nanmean(a, axis, out=out, keepdims=keepdims)\n",
      "/opt/conda/lib/python3.9/site-packages/numpy/lib/nanfunctions.py:1117: RuntimeWarning: Mean of empty slice\n",
      "  return np.nanmean(a, axis, out=out, keepdims=keepdims)\n",
      "/opt/conda/lib/python3.9/site-packages/numpy/lib/nanfunctions.py:1117: RuntimeWarning: Mean of empty slice\n",
      "  return np.nanmean(a, axis, out=out, keepdims=keepdims)\n",
      "/opt/conda/lib/python3.9/site-packages/numpy/lib/nanfunctions.py:1117: RuntimeWarning: Mean of empty slice\n",
      "  return np.nanmean(a, axis, out=out, keepdims=keepdims)\n",
      "/opt/conda/lib/python3.9/site-packages/numpy/lib/nanfunctions.py:1117: RuntimeWarning: Mean of empty slice\n",
      "  return np.nanmean(a, axis, out=out, keepdims=keepdims)\n",
      "/opt/conda/lib/python3.9/site-packages/numpy/lib/nanfunctions.py:1117: RuntimeWarning: Mean of empty slice\n",
      "  return np.nanmean(a, axis, out=out, keepdims=keepdims)\n",
      "/opt/conda/lib/python3.9/site-packages/numpy/lib/nanfunctions.py:1117: RuntimeWarning: Mean of empty slice\n",
      "  return np.nanmean(a, axis, out=out, keepdims=keepdims)\n",
      "/opt/conda/lib/python3.9/site-packages/numpy/lib/nanfunctions.py:1117: RuntimeWarning: Mean of empty slice\n",
      "  return np.nanmean(a, axis, out=out, keepdims=keepdims)\n",
      "/opt/conda/lib/python3.9/site-packages/numpy/lib/nanfunctions.py:1117: RuntimeWarning: Mean of empty slice\n",
      "  return np.nanmean(a, axis, out=out, keepdims=keepdims)\n",
      "/opt/conda/lib/python3.9/site-packages/numpy/lib/nanfunctions.py:1117: RuntimeWarning: Mean of empty slice\n",
      "  return np.nanmean(a, axis, out=out, keepdims=keepdims)\n",
      "/opt/conda/lib/python3.9/site-packages/numpy/lib/nanfunctions.py:1117: RuntimeWarning: Mean of empty slice\n",
      "  return np.nanmean(a, axis, out=out, keepdims=keepdims)\n",
      "/opt/conda/lib/python3.9/site-packages/numpy/lib/nanfunctions.py:1117: RuntimeWarning: Mean of empty slice\n",
      "  return np.nanmean(a, axis, out=out, keepdims=keepdims)\n",
      "/opt/conda/lib/python3.9/site-packages/numpy/lib/nanfunctions.py:1117: RuntimeWarning: Mean of empty slice\n",
      "  return np.nanmean(a, axis, out=out, keepdims=keepdims)\n",
      "/opt/conda/lib/python3.9/site-packages/numpy/lib/nanfunctions.py:1117: RuntimeWarning: Mean of empty slice\n",
      "  return np.nanmean(a, axis, out=out, keepdims=keepdims)\n",
      "/opt/conda/lib/python3.9/site-packages/numpy/lib/nanfunctions.py:1117: RuntimeWarning: Mean of empty slice\n",
      "  return np.nanmean(a, axis, out=out, keepdims=keepdims)\n",
      "/opt/conda/lib/python3.9/site-packages/numpy/lib/nanfunctions.py:1117: RuntimeWarning: Mean of empty slice\n",
      "  return np.nanmean(a, axis, out=out, keepdims=keepdims)\n",
      "/opt/conda/lib/python3.9/site-packages/numpy/lib/nanfunctions.py:1117: RuntimeWarning: Mean of empty slice\n",
      "  return np.nanmean(a, axis, out=out, keepdims=keepdims)\n",
      "/opt/conda/lib/python3.9/site-packages/numpy/lib/nanfunctions.py:1117: RuntimeWarning: Mean of empty slice\n",
      "  return np.nanmean(a, axis, out=out, keepdims=keepdims)\n",
      "/opt/conda/lib/python3.9/site-packages/numpy/lib/nanfunctions.py:1117: RuntimeWarning: Mean of empty slice\n",
      "  return np.nanmean(a, axis, out=out, keepdims=keepdims)\n",
      "/opt/conda/lib/python3.9/site-packages/numpy/lib/nanfunctions.py:1117: RuntimeWarning: Mean of empty slice\n",
      "  return np.nanmean(a, axis, out=out, keepdims=keepdims)\n",
      "/opt/conda/lib/python3.9/site-packages/numpy/lib/nanfunctions.py:1117: RuntimeWarning: Mean of empty slice\n",
      "  return np.nanmean(a, axis, out=out, keepdims=keepdims)\n",
      "/opt/conda/lib/python3.9/site-packages/numpy/lib/nanfunctions.py:1117: RuntimeWarning: Mean of empty slice\n",
      "  return np.nanmean(a, axis, out=out, keepdims=keepdims)\n",
      "/opt/conda/lib/python3.9/site-packages/numpy/lib/nanfunctions.py:1117: RuntimeWarning: Mean of empty slice\n",
      "  return np.nanmean(a, axis, out=out, keepdims=keepdims)\n",
      "/opt/conda/lib/python3.9/site-packages/numpy/lib/nanfunctions.py:1117: RuntimeWarning: Mean of empty slice\n",
      "  return np.nanmean(a, axis, out=out, keepdims=keepdims)\n",
      "/opt/conda/lib/python3.9/site-packages/numpy/lib/nanfunctions.py:1117: RuntimeWarning: Mean of empty slice\n",
      "  return np.nanmean(a, axis, out=out, keepdims=keepdims)\n",
      "/opt/conda/lib/python3.9/site-packages/numpy/lib/nanfunctions.py:1117: RuntimeWarning: Mean of empty slice\n",
      "  return np.nanmean(a, axis, out=out, keepdims=keepdims)\n",
      "/opt/conda/lib/python3.9/site-packages/numpy/lib/nanfunctions.py:1117: RuntimeWarning: Mean of empty slice\n",
      "  return np.nanmean(a, axis, out=out, keepdims=keepdims)\n",
      "/opt/conda/lib/python3.9/site-packages/numpy/lib/nanfunctions.py:1117: RuntimeWarning: Mean of empty slice\n",
      "  return np.nanmean(a, axis, out=out, keepdims=keepdims)\n",
      "/opt/conda/lib/python3.9/site-packages/numpy/lib/nanfunctions.py:1117: RuntimeWarning: Mean of empty slice\n",
      "  return np.nanmean(a, axis, out=out, keepdims=keepdims)\n",
      "/opt/conda/lib/python3.9/site-packages/numpy/lib/nanfunctions.py:1117: RuntimeWarning: Mean of empty slice\n",
      "  return np.nanmean(a, axis, out=out, keepdims=keepdims)\n",
      "/opt/conda/lib/python3.9/site-packages/numpy/lib/nanfunctions.py:1117: RuntimeWarning: Mean of empty slice\n",
      "  return np.nanmean(a, axis, out=out, keepdims=keepdims)\n",
      "/opt/conda/lib/python3.9/site-packages/numpy/lib/nanfunctions.py:1117: RuntimeWarning: Mean of empty slice\n",
      "  return np.nanmean(a, axis, out=out, keepdims=keepdims)\n",
      "/opt/conda/lib/python3.9/site-packages/numpy/lib/nanfunctions.py:1117: RuntimeWarning: Mean of empty slice\n",
      "  return np.nanmean(a, axis, out=out, keepdims=keepdims)\n",
      "/opt/conda/lib/python3.9/site-packages/numpy/lib/nanfunctions.py:1117: RuntimeWarning: Mean of empty slice\n",
      "  return np.nanmean(a, axis, out=out, keepdims=keepdims)\n"
     ]
    },
    {
     "name": "stdout",
     "output_type": "stream",
     "text": [
      "total_images                0\n",
      "last_price                  0\n",
      "total_area                  0\n",
      "first_day_exposition        0\n",
      "rooms                       0\n",
      "ceiling_height              0\n",
      "floors_total                0\n",
      "living_area                22\n",
      "floor                       0\n",
      "is_apartment                0\n",
      "studio                      0\n",
      "open_plan                   0\n",
      "kitchen_area               28\n",
      "balcony                     0\n",
      "locality_name               0\n",
      "airports_nearest         5532\n",
      "city_centers_nearest     5509\n",
      "parks_around3000            0\n",
      "parks_nearest           15564\n",
      "ponds_around3000         5508\n",
      "ponds_nearest               0\n",
      "days_exposition          3166\n",
      "dtype: int64\n"
     ]
    }
   ],
   "source": [
    "data = data.rename(columns={'cityCenters_nearest': 'city_centers_nearest'})\n",
    "data['first_day_exposition'] = pd.to_datetime(data['first_day_exposition'])\n",
    "\n",
    "data['ceiling_height'] = data['ceiling_height'].fillna(data['ceiling_height'].median())\n",
    "data.loc[data['ceiling_height'] >= 20.0, 'ceiling_height'] = data['ceiling_height'] / 10\n",
    "\n",
    "data = data.dropna(subset=['floors_total'])\n",
    "\n",
    "for t in data['locality_name'].unique():\n",
    "    data.loc[(data['locality_name'] == t) & (data['living_area'].isna()), 'living_area'] = \\\n",
    "    data.loc[(data['locality_name'] == t), 'living_area'].median()\n",
    "data[data['living_area'] >= 9.0]\n",
    "data = data[data['living_area'] != 0]\n",
    "\n",
    "for k in data['locality_name'].unique():\n",
    "    data.loc[(data['locality_name'] == k) & (data['kitchen_area'].isna()), 'kitchen_area'] = \\\n",
    "    data.loc[(data['locality_name'] == k), 'kitchen_area'].median()\n",
    "data = data[data['kitchen_area'] != 0]\n",
    "\n",
    "data['is_apartment'] = data['is_apartment'].fillna(False).astype('boolean')\n",
    "\n",
    "data['balcony'] = data['balcony'].fillna(0).astype('int')\n",
    "\n",
    "data['locality_name'] = (\n",
    "    data['locality_name']\n",
    "    .str.lower()\n",
    "    .str.replace('ё','е')\n",
    "    .replace(['поселок ', 'коттеджный ', 'имени ', 'платформа ', 'пансионат ', 'садовое товарищество ', 'станции ', \n",
    "              'село ', 'садоводческое некоммерческое товарищество ', 'городского типа ', 'деревня ', \n",
    "              'городской поселок ','при железнодорожной станции ', 'городской '], '', regex=True)\n",
    ")\n",
    "data['locality_name'] = data['locality_name'].fillna('unknown')\n",
    "\n",
    "data['parks_around3000'] = data['parks_around3000'].fillna(0).astype('int')\n",
    "data['ponds_nearest'] = data['ponds_nearest'].fillna(0).astype('int')\n",
    "data = data[data['rooms'] <= 8]\n",
    "print(data.isna().sum())"
   ]
  },
  {
   "cell_type": "code",
   "execution_count": 5,
   "metadata": {},
   "outputs": [
    {
     "data": {
      "text/plain": [
       "array(['санкт-петербург', 'шушары', 'янино-1', 'парголово', 'мурино',\n",
       "       'ломоносов', 'сертолово', 'петергоф', 'пушкин', 'кудрово',\n",
       "       'коммунар', 'колпино', 'красный бор', 'гатчина', 'федоровское',\n",
       "       'выборг', 'кронштадт', 'кировск', 'новое девяткино',\n",
       "       'металлострой', 'лебяжье', 'сиверский', 'молодцово',\n",
       "       'кузьмоловский', 'новая ропша', 'павловск', 'пикколово',\n",
       "       'всеволожск', 'волхов', 'кингисепп', 'приозерск', 'сестрорецк',\n",
       "       'куттузи', 'аннино', 'ефимовский', 'плодовое', 'заклинье',\n",
       "       'торковичи', 'первомайское', 'красное село', 'понтонный',\n",
       "       'сясьстрой', 'старая', 'лесколово', 'новый свет', 'сланцы',\n",
       "       'путилово', 'ивангород', 'шлиссельбург', 'никольское',\n",
       "       'зеленогорск', 'сосновый бор', 'оржицы', 'кальтино', 'романовка',\n",
       "       'бугры', 'рощино', 'кириши', 'луга', 'волосово', 'отрадное',\n",
       "       'павлово', 'оредеж', 'копорье', 'молодежное', 'тихвин', 'победа',\n",
       "       'нурма', 'синявино', 'тосно', 'стрельна', 'бокситогорск',\n",
       "       'александровская', 'лопухинка', 'пикалево', 'терволово',\n",
       "       'советский', 'подпорожье', 'петровское', 'токсово', 'сельцо',\n",
       "       'вырица', 'кипень', 'келози', 'вартемяги', 'тельмана',\n",
       "       'севастьяново', 'большая ижора', 'unknown', 'агалатово',\n",
       "       'новогорелово', 'лесогорский', 'лаголово', 'цвелодубово', 'рахья',\n",
       "       'белогорка', 'заводской', 'новоселье', 'большие колпаны',\n",
       "       'горбунки', 'батово', 'заневка', 'иссад', 'приморск', 'мистолово',\n",
       "       'новая ладога', 'зимитицы', 'барышево', 'разметелево', 'свердлова',\n",
       "       'пеники', 'рябово', 'пудомяги', 'корнево', 'низино', 'бегуницы',\n",
       "       'поляны', 'мга', 'елизаветино', 'кузнечное', 'колтуши',\n",
       "       'запорожское', 'гостилицы', 'малое карлино', 'мичуринское',\n",
       "       'морозова', 'песочный', 'сосново', 'аро', 'ильичево', 'тайцы',\n",
       "       'малое верево', 'извара', 'вещево', 'паша', 'калитино',\n",
       "       'ульяновка', 'чудской бор', 'дубровка', 'мины', 'войсковицы',\n",
       "       'коркино', 'ропша', 'приладожский', 'щеглово', 'гаврилово',\n",
       "       'лодейное поле', 'рабитицы', 'никольский', 'кузьмолово',\n",
       "       'малые колпаны', 'петро-славянка', 'назия', 'репино', 'углово',\n",
       "       'старая малукса', 'меньково', 'старые бегуницы', 'саперный',\n",
       "       'семрино', 'глажево', 'кобринское', 'гарболово', 'юкки',\n",
       "       'приветнинское', 'мануйлово', 'пчева', 'цвылево', 'мельниково',\n",
       "       'пудость', 'усть-луга', 'светогорск', 'любань', 'селезнево',\n",
       "       'каменногорск', 'кривко', 'глебычево', 'парицы', 'жилпоселок',\n",
       "       'войскорово', 'стеклянный', 'важины', 'мыза-ивановка',\n",
       "       'русско-высоцкое', 'форносово', 'старая ладога', 'житково',\n",
       "       'виллози', 'лампово', 'шпаньково', 'лаврики', 'сумино',\n",
       "       'возрождение', 'старосиверская', 'кикерино', 'старое хинколово',\n",
       "       'пригородный', 'торфяное', 'будогощь', 'суходолье',\n",
       "       'красная долина', 'хапо-ое', 'дружная горка', 'лисий нос',\n",
       "       'яльгелево', 'рождествено', 'старополье', 'левашово', 'сяськелево',\n",
       "       'камышовка', 'лесная поляна', 'хязельки', 'жилгородок', 'ялгино',\n",
       "       'новый учхоз', 'гончарово', 'почап', 'саперное', '69-й километр',\n",
       "       'каложицы', 'фалилеево', 'пельгора', 'торошковичи', 'белоостров',\n",
       "       'алексеевка', 'серебрянский', 'лукаши', 'тарасово',\n",
       "       'кингисеппский', 'при железнодорожной вещево', 'ушаки', 'котлы',\n",
       "       'сижно', 'торосово', 'форт красная горка', 'новолисино', 'громово',\n",
       "       'глинка', 'старая пустошь', 'коммунары', 'починок', 'вознесенье',\n",
       "       'разбегаево', 'гладкое', 'при железнодорожной приветнинское',\n",
       "       'тесово-4', 'бор', 'коробицыно', 'большая вруда', 'курковицы',\n",
       "       'кобралово', 'суоранда', 'кондратьево', 'счастье', 'реброво',\n",
       "       'тойворово', 'семиозерье', 'лесное', 'совхозный', 'ленинское',\n",
       "       'суйда', 'нижние осельки', 'свирь', 'перово', 'высоцк', 'шум',\n",
       "       'котельский', 'лужайка', 'большая пустомержа', 'красносельское',\n",
       "       'вахнова кара', 'пижма', 'кивеннапа север', 'ромашки', 'каськово',\n",
       "       'куровицы', 'плоское', 'кирпичное', 'ям-тесово', 'раздолье',\n",
       "       'терпилицы', 'шугозеро', 'ваганово', 'пушное', 'садко',\n",
       "       'усть-ижора', 'выскатка', 'свирьстрой', 'кисельня',\n",
       "       'трубников бор', 'высокоключевой', 'зеленый бор', 'ненимяки',\n",
       "       'снегиревка', 'рапполово', 'пустынка', 'большой сабск', 'русско',\n",
       "       'лупполово', 'большое рейзино', 'малая романовка', 'дружноселье',\n",
       "       'пчевжа', 'володарское', 'нижняя', 'тихковицы', 'борисова грива',\n",
       "       'дзержинского'], dtype=object)"
      ]
     },
     "execution_count": 5,
     "metadata": {},
     "output_type": "execute_result"
    }
   ],
   "source": [
    "data['locality_name'].unique()"
   ]
  },
  {
   "cell_type": "markdown",
   "metadata": {},
   "source": [
    "-Вывод по выполненной работе:\n",
    "\n",
    "    1. Преобразованны типы данных:\n",
    "\n",
    "        floors_total приведен к типу int\n",
    "        is_apartment приведен к типу boolean\n",
    "        balcony приведен к типу int\n",
    "        parks_around3000 приведен к типу int\n",
    "        ponds_nearest приведен к типу int\n",
    "        days_exposition приведен к типу int\n",
    "\n",
    "    2. Очищены данные:\n",
    "\n",
    "        Столбец locality_name приведен к нижнему регистру, очищен от лишних слов,\n",
    "        и пропуски удалены"
   ]
  },
  {
   "cell_type": "markdown",
   "metadata": {
    "id": "QCcvyY6YAwb-"
   },
   "source": [
    "### Добавьте в таблицу новые столбцы"
   ]
  },
  {
   "cell_type": "code",
   "execution_count": 6,
   "metadata": {
    "id": "Z8eJek3IAwb-",
    "scrolled": false
   },
   "outputs": [
    {
     "name": "stdout",
     "output_type": "stream",
     "text": [
      "0        16.0\n",
      "1        19.0\n",
      "2        14.0\n",
      "3         7.0\n",
      "4         8.0\n",
      "         ... \n",
      "23694     4.0\n",
      "23695     NaN\n",
      "23696     NaN\n",
      "23697    10.0\n",
      "23698     NaN\n",
      "Name: distance_to_center, Length: 23594, dtype: float64\n"
     ]
    },
    {
     "data": {
      "text/html": [
       "<div>\n",
       "<style scoped>\n",
       "    .dataframe tbody tr th:only-of-type {\n",
       "        vertical-align: middle;\n",
       "    }\n",
       "\n",
       "    .dataframe tbody tr th {\n",
       "        vertical-align: top;\n",
       "    }\n",
       "\n",
       "    .dataframe thead th {\n",
       "        text-align: right;\n",
       "    }\n",
       "</style>\n",
       "<table border=\"1\" class=\"dataframe\">\n",
       "  <thead>\n",
       "    <tr style=\"text-align: right;\">\n",
       "      <th></th>\n",
       "      <th>total_images</th>\n",
       "      <th>last_price</th>\n",
       "      <th>total_area</th>\n",
       "      <th>first_day_exposition</th>\n",
       "      <th>rooms</th>\n",
       "      <th>ceiling_height</th>\n",
       "      <th>floors_total</th>\n",
       "      <th>living_area</th>\n",
       "      <th>floor</th>\n",
       "      <th>is_apartment</th>\n",
       "      <th>...</th>\n",
       "      <th>parks_nearest</th>\n",
       "      <th>ponds_around3000</th>\n",
       "      <th>ponds_nearest</th>\n",
       "      <th>days_exposition</th>\n",
       "      <th>price_sqrm</th>\n",
       "      <th>publication_day</th>\n",
       "      <th>publication_month</th>\n",
       "      <th>publication_year</th>\n",
       "      <th>floor_type</th>\n",
       "      <th>distance_to_center</th>\n",
       "    </tr>\n",
       "  </thead>\n",
       "  <tbody>\n",
       "    <tr>\n",
       "      <th>0</th>\n",
       "      <td>20</td>\n",
       "      <td>13000000.0</td>\n",
       "      <td>108.00</td>\n",
       "      <td>2019-03-07</td>\n",
       "      <td>3</td>\n",
       "      <td>2.70</td>\n",
       "      <td>16.0</td>\n",
       "      <td>51.00</td>\n",
       "      <td>8</td>\n",
       "      <td>False</td>\n",
       "      <td>...</td>\n",
       "      <td>482.0</td>\n",
       "      <td>2.0</td>\n",
       "      <td>755</td>\n",
       "      <td>NaN</td>\n",
       "      <td>120370.37</td>\n",
       "      <td>3</td>\n",
       "      <td>3</td>\n",
       "      <td>2019</td>\n",
       "      <td>другой</td>\n",
       "      <td>16.0</td>\n",
       "    </tr>\n",
       "    <tr>\n",
       "      <th>1</th>\n",
       "      <td>7</td>\n",
       "      <td>3350000.0</td>\n",
       "      <td>40.40</td>\n",
       "      <td>2018-12-04</td>\n",
       "      <td>1</td>\n",
       "      <td>2.65</td>\n",
       "      <td>11.0</td>\n",
       "      <td>18.60</td>\n",
       "      <td>1</td>\n",
       "      <td>False</td>\n",
       "      <td>...</td>\n",
       "      <td>NaN</td>\n",
       "      <td>0.0</td>\n",
       "      <td>0</td>\n",
       "      <td>81.0</td>\n",
       "      <td>82920.79</td>\n",
       "      <td>1</td>\n",
       "      <td>12</td>\n",
       "      <td>2018</td>\n",
       "      <td>первый</td>\n",
       "      <td>19.0</td>\n",
       "    </tr>\n",
       "    <tr>\n",
       "      <th>2</th>\n",
       "      <td>10</td>\n",
       "      <td>5196000.0</td>\n",
       "      <td>56.00</td>\n",
       "      <td>2015-08-20</td>\n",
       "      <td>2</td>\n",
       "      <td>2.65</td>\n",
       "      <td>5.0</td>\n",
       "      <td>34.30</td>\n",
       "      <td>4</td>\n",
       "      <td>False</td>\n",
       "      <td>...</td>\n",
       "      <td>90.0</td>\n",
       "      <td>2.0</td>\n",
       "      <td>574</td>\n",
       "      <td>558.0</td>\n",
       "      <td>92785.71</td>\n",
       "      <td>3</td>\n",
       "      <td>8</td>\n",
       "      <td>2015</td>\n",
       "      <td>другой</td>\n",
       "      <td>14.0</td>\n",
       "    </tr>\n",
       "    <tr>\n",
       "      <th>3</th>\n",
       "      <td>0</td>\n",
       "      <td>64900000.0</td>\n",
       "      <td>159.00</td>\n",
       "      <td>2015-07-24</td>\n",
       "      <td>3</td>\n",
       "      <td>2.65</td>\n",
       "      <td>14.0</td>\n",
       "      <td>31.30</td>\n",
       "      <td>9</td>\n",
       "      <td>False</td>\n",
       "      <td>...</td>\n",
       "      <td>84.0</td>\n",
       "      <td>3.0</td>\n",
       "      <td>234</td>\n",
       "      <td>424.0</td>\n",
       "      <td>408176.10</td>\n",
       "      <td>4</td>\n",
       "      <td>7</td>\n",
       "      <td>2015</td>\n",
       "      <td>другой</td>\n",
       "      <td>7.0</td>\n",
       "    </tr>\n",
       "    <tr>\n",
       "      <th>4</th>\n",
       "      <td>2</td>\n",
       "      <td>10000000.0</td>\n",
       "      <td>100.00</td>\n",
       "      <td>2018-06-19</td>\n",
       "      <td>2</td>\n",
       "      <td>3.03</td>\n",
       "      <td>14.0</td>\n",
       "      <td>32.00</td>\n",
       "      <td>13</td>\n",
       "      <td>False</td>\n",
       "      <td>...</td>\n",
       "      <td>112.0</td>\n",
       "      <td>1.0</td>\n",
       "      <td>48</td>\n",
       "      <td>121.0</td>\n",
       "      <td>100000.00</td>\n",
       "      <td>1</td>\n",
       "      <td>6</td>\n",
       "      <td>2018</td>\n",
       "      <td>другой</td>\n",
       "      <td>8.0</td>\n",
       "    </tr>\n",
       "    <tr>\n",
       "      <th>5</th>\n",
       "      <td>10</td>\n",
       "      <td>2890000.0</td>\n",
       "      <td>30.40</td>\n",
       "      <td>2018-09-10</td>\n",
       "      <td>1</td>\n",
       "      <td>2.65</td>\n",
       "      <td>12.0</td>\n",
       "      <td>14.40</td>\n",
       "      <td>5</td>\n",
       "      <td>False</td>\n",
       "      <td>...</td>\n",
       "      <td>NaN</td>\n",
       "      <td>NaN</td>\n",
       "      <td>0</td>\n",
       "      <td>55.0</td>\n",
       "      <td>95065.79</td>\n",
       "      <td>0</td>\n",
       "      <td>9</td>\n",
       "      <td>2018</td>\n",
       "      <td>другой</td>\n",
       "      <td>NaN</td>\n",
       "    </tr>\n",
       "    <tr>\n",
       "      <th>6</th>\n",
       "      <td>6</td>\n",
       "      <td>3700000.0</td>\n",
       "      <td>37.30</td>\n",
       "      <td>2017-11-02</td>\n",
       "      <td>1</td>\n",
       "      <td>2.65</td>\n",
       "      <td>26.0</td>\n",
       "      <td>10.60</td>\n",
       "      <td>6</td>\n",
       "      <td>False</td>\n",
       "      <td>...</td>\n",
       "      <td>NaN</td>\n",
       "      <td>0.0</td>\n",
       "      <td>0</td>\n",
       "      <td>155.0</td>\n",
       "      <td>99195.71</td>\n",
       "      <td>3</td>\n",
       "      <td>11</td>\n",
       "      <td>2017</td>\n",
       "      <td>другой</td>\n",
       "      <td>19.0</td>\n",
       "    </tr>\n",
       "    <tr>\n",
       "      <th>7</th>\n",
       "      <td>5</td>\n",
       "      <td>7915000.0</td>\n",
       "      <td>71.60</td>\n",
       "      <td>2019-04-18</td>\n",
       "      <td>2</td>\n",
       "      <td>2.65</td>\n",
       "      <td>24.0</td>\n",
       "      <td>31.30</td>\n",
       "      <td>22</td>\n",
       "      <td>False</td>\n",
       "      <td>...</td>\n",
       "      <td>NaN</td>\n",
       "      <td>0.0</td>\n",
       "      <td>0</td>\n",
       "      <td>NaN</td>\n",
       "      <td>110544.69</td>\n",
       "      <td>3</td>\n",
       "      <td>4</td>\n",
       "      <td>2019</td>\n",
       "      <td>другой</td>\n",
       "      <td>12.0</td>\n",
       "    </tr>\n",
       "    <tr>\n",
       "      <th>8</th>\n",
       "      <td>20</td>\n",
       "      <td>2900000.0</td>\n",
       "      <td>33.16</td>\n",
       "      <td>2018-05-23</td>\n",
       "      <td>1</td>\n",
       "      <td>2.65</td>\n",
       "      <td>27.0</td>\n",
       "      <td>15.43</td>\n",
       "      <td>26</td>\n",
       "      <td>False</td>\n",
       "      <td>...</td>\n",
       "      <td>NaN</td>\n",
       "      <td>NaN</td>\n",
       "      <td>0</td>\n",
       "      <td>189.0</td>\n",
       "      <td>87454.76</td>\n",
       "      <td>2</td>\n",
       "      <td>5</td>\n",
       "      <td>2018</td>\n",
       "      <td>другой</td>\n",
       "      <td>NaN</td>\n",
       "    </tr>\n",
       "    <tr>\n",
       "      <th>9</th>\n",
       "      <td>18</td>\n",
       "      <td>5400000.0</td>\n",
       "      <td>61.00</td>\n",
       "      <td>2017-02-26</td>\n",
       "      <td>3</td>\n",
       "      <td>2.50</td>\n",
       "      <td>9.0</td>\n",
       "      <td>43.60</td>\n",
       "      <td>7</td>\n",
       "      <td>False</td>\n",
       "      <td>...</td>\n",
       "      <td>NaN</td>\n",
       "      <td>0.0</td>\n",
       "      <td>0</td>\n",
       "      <td>289.0</td>\n",
       "      <td>88524.59</td>\n",
       "      <td>6</td>\n",
       "      <td>2</td>\n",
       "      <td>2017</td>\n",
       "      <td>другой</td>\n",
       "      <td>15.0</td>\n",
       "    </tr>\n",
       "  </tbody>\n",
       "</table>\n",
       "<p>10 rows × 28 columns</p>\n",
       "</div>"
      ],
      "text/plain": [
       "   total_images  last_price  total_area first_day_exposition  rooms  \\\n",
       "0            20  13000000.0      108.00           2019-03-07      3   \n",
       "1             7   3350000.0       40.40           2018-12-04      1   \n",
       "2            10   5196000.0       56.00           2015-08-20      2   \n",
       "3             0  64900000.0      159.00           2015-07-24      3   \n",
       "4             2  10000000.0      100.00           2018-06-19      2   \n",
       "5            10   2890000.0       30.40           2018-09-10      1   \n",
       "6             6   3700000.0       37.30           2017-11-02      1   \n",
       "7             5   7915000.0       71.60           2019-04-18      2   \n",
       "8            20   2900000.0       33.16           2018-05-23      1   \n",
       "9            18   5400000.0       61.00           2017-02-26      3   \n",
       "\n",
       "   ceiling_height  floors_total  living_area  floor  is_apartment  ...  \\\n",
       "0            2.70          16.0        51.00      8         False  ...   \n",
       "1            2.65          11.0        18.60      1         False  ...   \n",
       "2            2.65           5.0        34.30      4         False  ...   \n",
       "3            2.65          14.0        31.30      9         False  ...   \n",
       "4            3.03          14.0        32.00     13         False  ...   \n",
       "5            2.65          12.0        14.40      5         False  ...   \n",
       "6            2.65          26.0        10.60      6         False  ...   \n",
       "7            2.65          24.0        31.30     22         False  ...   \n",
       "8            2.65          27.0        15.43     26         False  ...   \n",
       "9            2.50           9.0        43.60      7         False  ...   \n",
       "\n",
       "   parks_nearest  ponds_around3000  ponds_nearest  days_exposition price_sqrm  \\\n",
       "0          482.0               2.0            755              NaN  120370.37   \n",
       "1            NaN               0.0              0             81.0   82920.79   \n",
       "2           90.0               2.0            574            558.0   92785.71   \n",
       "3           84.0               3.0            234            424.0  408176.10   \n",
       "4          112.0               1.0             48            121.0  100000.00   \n",
       "5            NaN               NaN              0             55.0   95065.79   \n",
       "6            NaN               0.0              0            155.0   99195.71   \n",
       "7            NaN               0.0              0              NaN  110544.69   \n",
       "8            NaN               NaN              0            189.0   87454.76   \n",
       "9            NaN               0.0              0            289.0   88524.59   \n",
       "\n",
       "   publication_day  publication_month  publication_year  floor_type  \\\n",
       "0                3                  3              2019      другой   \n",
       "1                1                 12              2018      первый   \n",
       "2                3                  8              2015      другой   \n",
       "3                4                  7              2015      другой   \n",
       "4                1                  6              2018      другой   \n",
       "5                0                  9              2018      другой   \n",
       "6                3                 11              2017      другой   \n",
       "7                3                  4              2019      другой   \n",
       "8                2                  5              2018      другой   \n",
       "9                6                  2              2017      другой   \n",
       "\n",
       "   distance_to_center  \n",
       "0                16.0  \n",
       "1                19.0  \n",
       "2                14.0  \n",
       "3                 7.0  \n",
       "4                 8.0  \n",
       "5                 NaN  \n",
       "6                19.0  \n",
       "7                12.0  \n",
       "8                 NaN  \n",
       "9                15.0  \n",
       "\n",
       "[10 rows x 28 columns]"
      ]
     },
     "metadata": {},
     "output_type": "display_data"
    },
    {
     "name": "stdout",
     "output_type": "stream",
     "text": [
      "<class 'pandas.core.frame.DataFrame'>\n",
      "Int64Index: 23594 entries, 0 to 23698\n",
      "Data columns (total 28 columns):\n",
      " #   Column                Non-Null Count  Dtype         \n",
      "---  ------                --------------  -----         \n",
      " 0   total_images          23594 non-null  int64         \n",
      " 1   last_price            23594 non-null  float64       \n",
      " 2   total_area            23594 non-null  float64       \n",
      " 3   first_day_exposition  23594 non-null  datetime64[ns]\n",
      " 4   rooms                 23594 non-null  int64         \n",
      " 5   ceiling_height        23594 non-null  float64       \n",
      " 6   floors_total          23594 non-null  float64       \n",
      " 7   living_area           23572 non-null  float64       \n",
      " 8   floor                 23594 non-null  int64         \n",
      " 9   is_apartment          23594 non-null  boolean       \n",
      " 10  studio                23594 non-null  bool          \n",
      " 11  open_plan             23594 non-null  bool          \n",
      " 12  kitchen_area          23566 non-null  float64       \n",
      " 13  balcony               23594 non-null  int64         \n",
      " 14  locality_name         23594 non-null  object        \n",
      " 15  airports_nearest      18062 non-null  float64       \n",
      " 16  city_centers_nearest  18085 non-null  float64       \n",
      " 17  parks_around3000      23594 non-null  int64         \n",
      " 18  parks_nearest         8030 non-null   float64       \n",
      " 19  ponds_around3000      18086 non-null  float64       \n",
      " 20  ponds_nearest         23594 non-null  int64         \n",
      " 21  days_exposition       20428 non-null  float64       \n",
      " 22  price_sqrm            23594 non-null  float64       \n",
      " 23  publication_day       23594 non-null  int64         \n",
      " 24  publication_month     23594 non-null  int64         \n",
      " 25  publication_year      23594 non-null  int64         \n",
      " 26  floor_type            23594 non-null  object        \n",
      " 27  distance_to_center    18085 non-null  float64       \n",
      "dtypes: bool(2), boolean(1), datetime64[ns](1), float64(13), int64(9), object(2)\n",
      "memory usage: 4.8+ MB\n",
      "       total_images    last_price    total_area         rooms  ceiling_height  \\\n",
      "count  23594.000000  2.359400e+04  23594.000000  23594.000000    23594.000000   \n",
      "mean       9.875604  6.503370e+06     60.120248      2.063745        2.698544   \n",
      "std        5.681765  1.053284e+07     34.502295      1.043579        0.253373   \n",
      "min        0.000000  1.219000e+04     12.000000      0.000000        1.000000   \n",
      "25%        6.000000  3.400000e+06     40.000000      1.000000        2.600000   \n",
      "50%        9.000000  4.640000e+06     52.000000      2.000000        2.650000   \n",
      "75%       14.000000  6.768348e+06     69.700000      3.000000        2.700000   \n",
      "max       50.000000  7.630000e+08    631.200000      8.000000       14.000000   \n",
      "\n",
      "       floors_total   living_area         floor  kitchen_area       balcony  \\\n",
      "count  23594.000000  23572.000000  23594.000000  23566.000000  23594.000000   \n",
      "mean      10.677545     33.948159      5.878189     10.449040      0.593371   \n",
      "std        6.597205     20.584045      4.873267      5.559155      0.960563   \n",
      "min        1.000000      2.000000      1.000000      1.300000      0.000000   \n",
      "25%        5.000000     19.000000      2.000000      7.200000      0.000000   \n",
      "50%        9.000000     30.400000      4.000000      9.600000      0.000000   \n",
      "75%       16.000000     41.100000      8.000000     11.410000      1.000000   \n",
      "max       60.000000    347.500000     33.000000    107.000000      5.000000   \n",
      "\n",
      "       ...  parks_around3000  parks_nearest  ponds_around3000  ponds_nearest  \\\n",
      "count  ...      23594.000000    8030.000000      18086.000000   23594.000000   \n",
      "mean   ...          0.468085     490.726027          0.770098     198.874078   \n",
      "std    ...          0.747833     341.558147          0.939122     305.243379   \n",
      "min    ...          0.000000       1.000000          0.000000       0.000000   \n",
      "25%    ...          0.000000     288.000000          0.000000       0.000000   \n",
      "50%    ...          0.000000     455.000000          1.000000       0.000000   \n",
      "75%    ...          1.000000     612.000000          1.000000     389.000000   \n",
      "max    ...          3.000000    3190.000000          3.000000    1344.000000   \n",
      "\n",
      "       days_exposition    price_sqrm  publication_day  publication_month  \\\n",
      "count     20428.000000  2.359400e+04     23594.000000       23594.000000   \n",
      "mean        180.761700  9.937777e+04         2.568195           6.401373   \n",
      "std         219.473125  5.031012e+04         1.788560           3.493071   \n",
      "min           1.000000  1.118300e+02         0.000000           1.000000   \n",
      "25%          45.000000  7.656341e+04         1.000000           3.000000   \n",
      "50%          95.000000  9.500000e+04         3.000000           6.000000   \n",
      "75%         232.000000  1.141989e+05         4.000000          10.000000   \n",
      "max        1580.000000  1.907500e+06         6.000000          12.000000   \n",
      "\n",
      "       publication_year  distance_to_center  \n",
      "count      23594.000000        18085.000000  \n",
      "mean        2017.368144           14.186619  \n",
      "std            1.039268            8.622054  \n",
      "min         2014.000000            0.000000  \n",
      "25%         2017.000000            9.000000  \n",
      "50%         2017.000000           13.000000  \n",
      "75%         2018.000000           16.000000  \n",
      "max         2019.000000           66.000000  \n",
      "\n",
      "[8 rows x 22 columns]\n"
     ]
    },
    {
     "data": {
      "image/png": "[encoded data removed]",
      "text/plain": [
       "<Figure size 1440x1440 with 25 Axes>"
      ]
     },
     "metadata": {
      "needs_background": "light"
     },
     "output_type": "display_data"
    }
   ],
   "source": [
    "data['price_sqrm'] = (data['last_price'] / data['total_area']).round(2)\n",
    "data['publication_day'] = data['first_day_exposition'].dt.weekday\n",
    "data['publication_month'] = data['first_day_exposition'].dt.month\n",
    "data['publication_year'] = data['first_day_exposition'].dt.year\n",
    "def get_floor_type(data_row):\n",
    "    floor_number = data_row['floor']\n",
    "    if floor_number == 1:\n",
    "        return 'первый'\n",
    "    elif floor_number == data_row['floors_total']:\n",
    "        return 'последний'\n",
    "    else:\n",
    "        return 'другой'\n",
    "data['floor_type'] = data.apply(get_floor_type, axis=1)\n",
    "data['distance_to_center'] = (data['city_centers_nearest'] / 1000).round()\n",
    "print(data['distance_to_center'])\n",
    "display(data.head(10))\n",
    "data.info()\n",
    "print(data.describe())\n",
    "data.hist(figsize=(20, 20))\n",
    "plt.show()"
   ]
  },
  {
   "cell_type": "markdown",
   "metadata": {},
   "source": [
    "-Добавлены новые столбцы:\n",
    "\n",
    "    publication_day - день публикации объекта\n",
    "    publication_month - месяц публикации объекта\n",
    "    publication_year - год публикации объекта\n",
    "    floor_type - тип этажа объекта, всего их три(первый, последний, другой)\n",
    "    distance_to_center - расстояние до центра в километрах\n",
    "   "
   ]
  },
  {
   "cell_type": "markdown",
   "metadata": {
    "id": "pPyxrKWTAwb-"
   },
   "source": [
    "### Проведите исследовательский анализ данных"
   ]
  },
  {
   "cell_type": "code",
   "execution_count": null,
   "metadata": {
    "id": "V2f0D3kLAwb-",
    "scrolled": false
   },
   "outputs": [
    {
     "name": "stdout",
     "output_type": "stream",
     "text": [
      "count    23594.000000\n",
      "mean        60.120248\n",
      "std         34.502295\n",
      "min         12.000000\n",
      "25%         40.000000\n",
      "50%         52.000000\n",
      "75%         69.700000\n",
      "max        631.200000\n",
      "Name: total_area, dtype: float64\n"
     ]
    },
    {
     "data": {
      "image/png": "[encoded data removed]",
      "text/plain": [
       "<Figure size 432x288 with 1 Axes>"
      ]
     },
     "metadata": {
      "needs_background": "light"
     },
     "output_type": "display_data"
    }
   ],
   "source": [
    "data['total_area'].hist(range=(14, 150), bins=200)\n",
    "print(data['total_area'].describe())"
   ]
  },
  {
   "cell_type": "markdown",
   "metadata": {},
   "source": [
    "Из графика видно, что больше всего квартир с площадью 35-60 квадратных метров, пик предложения находится примерно на 42 квадратных метров"
   ]
  },
  {
   "cell_type": "code",
   "execution_count": 8,
   "metadata": {},
   "outputs": [
    {
     "name": "stdout",
     "output_type": "stream",
     "text": [
      "count    23572.000000\n",
      "mean        33.948159\n",
      "std         20.584045\n",
      "min          2.000000\n",
      "25%         19.000000\n",
      "50%         30.400000\n",
      "75%         41.100000\n",
      "max        347.500000\n",
      "Name: living_area, dtype: float64\n"
     ]
    },
    {
     "data": {
      "image/png": "[encoded data removed]",
      "text/plain": [
       "<Figure size 432x288 with 1 Axes>"
      ]
     },
     "metadata": {
      "needs_background": "light"
     },
     "output_type": "display_data"
    }
   ],
   "source": [
    "data['living_area'].hist(range=(10, 60), bins=200)\n",
    "print(data['living_area'].describe())"
   ]
  },
  {
   "cell_type": "markdown",
   "metadata": {},
   "source": [
    "Из графика видно, что больше всего квартир с площадью 14-20, 27-32 квадратных метров, пик предложения находится примерно на 18 квадратных метров"
   ]
  },
  {
   "cell_type": "code",
   "execution_count": 9,
   "metadata": {},
   "outputs": [
    {
     "name": "stdout",
     "output_type": "stream",
     "text": [
      "count    23566.000000\n",
      "mean        10.449040\n",
      "std          5.559155\n",
      "min          1.300000\n",
      "25%          7.200000\n",
      "50%          9.600000\n",
      "75%         11.410000\n",
      "max        107.000000\n",
      "Name: kitchen_area, dtype: float64\n"
     ]
    },
    {
     "data": {
      "image/png": "[encoded data removed]",
      "text/plain": [
       "<Figure size 432x288 with 1 Axes>"
      ]
     },
     "metadata": {
      "needs_background": "light"
     },
     "output_type": "display_data"
    }
   ],
   "source": [
    "data['kitchen_area'].hist(range=(5, 20), bins=200)\n",
    "print(data['kitchen_area'].describe())"
   ]
  },
  {
   "cell_type": "markdown",
   "metadata": {},
   "source": [
    "Из графика видно, что больше всего квартир с площадью 6-10 квадратных метров, пик предложения находится примерно на 6 и 10 квадратных метров"
   ]
  },
  {
   "cell_type": "code",
   "execution_count": 10,
   "metadata": {},
   "outputs": [
    {
     "name": "stdout",
     "output_type": "stream",
     "text": [
      "count    2.359400e+04\n",
      "mean     6.503370e+06\n",
      "std      1.053284e+07\n",
      "min      1.219000e+04\n",
      "25%      3.400000e+06\n",
      "50%      4.640000e+06\n",
      "75%      6.768348e+06\n",
      "max      7.630000e+08\n",
      "Name: last_price, dtype: float64\n"
     ]
    },
    {
     "data": {
      "image/png": "[encoded data removed]",
      "text/plain": [
       "<Figure size 432x288 with 1 Axes>"
      ]
     },
     "metadata": {
      "needs_background": "light"
     },
     "output_type": "display_data"
    }
   ],
   "source": [
    "data['last_price'].hist(range=(600000, 15000000), bins=100)\n",
    "print(data['last_price'].describe())"
   ]
  },
  {
   "cell_type": "markdown",
   "metadata": {},
   "source": [
    "Из графика видно, что больше всего квартир с ценой 3-5.7 миллионов рублей, пик предложения находится примерно на 3.8 миллиона рублей"
   ]
  },
  {
   "cell_type": "code",
   "execution_count": 11,
   "metadata": {},
   "outputs": [
    {
     "name": "stdout",
     "output_type": "stream",
     "text": [
      "count    23594.000000\n",
      "mean         2.063745\n",
      "std          1.043579\n",
      "min          0.000000\n",
      "25%          1.000000\n",
      "50%          2.000000\n",
      "75%          3.000000\n",
      "max          8.000000\n",
      "Name: rooms, dtype: float64\n"
     ]
    },
    {
     "data": {
      "image/png": "[encoded data removed]",
      "text/plain": [
       "<Figure size 432x288 with 1 Axes>"
      ]
     },
     "metadata": {
      "needs_background": "light"
     },
     "output_type": "display_data"
    },
    {
     "data": {
      "image/png": "[encoded data removed]",
      "text/plain": [
       "<Figure size 360x360 with 1 Axes>"
      ]
     },
     "metadata": {},
     "output_type": "display_data"
    }
   ],
   "source": [
    "data['rooms'].hist(range=(1, 6), bins=6)\n",
    "data.groupby(['rooms']).sum().head(6).plot(y='last_price', kind='pie', figsize=(5, 5))\n",
    "print(data['rooms'].describe())"
   ]
  },
  {
   "cell_type": "markdown",
   "metadata": {},
   "source": [
    "Из графика и диаграммы видно, что больше всего квартир с одной или двумя комнатами"
   ]
  },
  {
   "cell_type": "code",
   "execution_count": 12,
   "metadata": {},
   "outputs": [
    {
     "name": "stdout",
     "output_type": "stream",
     "text": [
      "count    23594.000000\n",
      "mean         2.698544\n",
      "std          0.253373\n",
      "min          1.000000\n",
      "25%          2.600000\n",
      "50%          2.650000\n",
      "75%          2.700000\n",
      "max         14.000000\n",
      "Name: ceiling_height, dtype: float64\n"
     ]
    },
    {
     "data": {
      "image/png": "[encoded data removed]",
      "text/plain": [
       "<Figure size 432x288 with 1 Axes>"
      ]
     },
     "metadata": {
      "needs_background": "light"
     },
     "output_type": "display_data"
    }
   ],
   "source": [
    "data['ceiling_height'].hist(range=(1, 5), bins=50)\n",
    "print(data['ceiling_height'].describe())"
   ]
  },
  {
   "cell_type": "markdown",
   "metadata": {},
   "source": [
    " Из графика видно, что больше всего квартир с высотой потолков равные 2.5 - 3 метра, пик предложения 2.7 метра"
   ]
  },
  {
   "cell_type": "code",
   "execution_count": 13,
   "metadata": {},
   "outputs": [
    {
     "name": "stdout",
     "output_type": "stream",
     "text": [
      "count      23594\n",
      "unique         3\n",
      "top       другой\n",
      "freq       17353\n",
      "Name: floor_type, dtype: object\n"
     ]
    },
    {
     "data": {
      "image/png": "[encoded data removed]",
      "text/plain": [
       "<Figure size 432x288 with 1 Axes>"
      ]
     },
     "metadata": {
      "needs_background": "light"
     },
     "output_type": "display_data"
    },
    {
     "data": {
      "image/png": "[encoded data removed]",
      "text/plain": [
       "<Figure size 360x360 with 1 Axes>"
      ]
     },
     "metadata": {},
     "output_type": "display_data"
    }
   ],
   "source": [
    "data['floor_type'].hist(range=(0, 3), bins=3)\n",
    "data.groupby(['floor_type']).sum().plot(y='last_price', kind='pie', figsize=(5, 5))\n",
    "print(data['floor_type'].describe())"
   ]
  },
  {
   "cell_type": "markdown",
   "metadata": {},
   "source": [
    "Из графика и диаграммы видно, что больше всего квартир продается с типом этажа 'другой'(ну логично)"
   ]
  },
  {
   "cell_type": "code",
   "execution_count": 14,
   "metadata": {},
   "outputs": [
    {
     "data": {
      "image/png": "[encoded data removed]",
      "text/plain": [
       "<Figure size 432x288 with 1 Axes>"
      ]
     },
     "metadata": {
      "needs_background": "light"
     },
     "output_type": "display_data"
    },
    {
     "data": {
      "image/png": "[encoded data removed]",
      "text/plain": [
       "<Figure size 432x288 with 1 Axes>"
      ]
     },
     "metadata": {
      "needs_background": "light"
     },
     "output_type": "display_data"
    },
    {
     "name": "stdout",
     "output_type": "stream",
     "text": [
      "count    23594.000000\n",
      "mean        10.677545\n",
      "std          6.597205\n",
      "min          1.000000\n",
      "25%          5.000000\n",
      "50%          9.000000\n",
      "75%         16.000000\n",
      "max         60.000000\n",
      "Name: floors_total, dtype: float64\n"
     ]
    }
   ],
   "source": [
    "data['floors_total'].hist(range=(1, 40), bins=10)\n",
    "plt.show()\n",
    "data['floors_total'].hist(range=(25, 60), bins=10)\n",
    "plt.show()\n",
    "print(data['floors_total'].describe())"
   ]
  },
  {
   "cell_type": "markdown",
   "metadata": {},
   "source": [
    "На графике видно, что больше квартир продается в пятиэтажных домах"
   ]
  },
  {
   "cell_type": "code",
   "execution_count": 15,
   "metadata": {},
   "outputs": [
    {
     "name": "stdout",
     "output_type": "stream",
     "text": [
      "count    18085.000000\n",
      "mean     14193.009179\n",
      "std       8614.247420\n",
      "min        181.000000\n",
      "25%       9238.000000\n",
      "50%      13098.000000\n",
      "75%      16293.000000\n",
      "max      65968.000000\n",
      "Name: city_centers_nearest, dtype: float64\n"
     ]
    },
    {
     "data": {
      "image/png": "[encoded data removed]",
      "text/plain": [
       "<Figure size 432x288 with 1 Axes>"
      ]
     },
     "metadata": {
      "needs_background": "light"
     },
     "output_type": "display_data"
    }
   ],
   "source": [
    "data['city_centers_nearest'].hist(range=(200, 35000), bins=2000)\n",
    "print(data['city_centers_nearest'].describe())"
   ]
  },
  {
   "cell_type": "markdown",
   "metadata": {},
   "source": [
    "На графике видно, что больше квартир продается с удаленностью от центра 11000-16000 метров"
   ]
  },
  {
   "cell_type": "code",
   "execution_count": 16,
   "metadata": {},
   "outputs": [
    {
     "name": "stdout",
     "output_type": "stream",
     "text": [
      "count    8030.000000\n",
      "mean      490.726027\n",
      "std       341.558147\n",
      "min         1.000000\n",
      "25%       288.000000\n",
      "50%       455.000000\n",
      "75%       612.000000\n",
      "max      3190.000000\n",
      "Name: parks_nearest, dtype: float64\n"
     ]
    },
    {
     "data": {
      "image/png": "[encoded data removed]",
      "text/plain": [
       "<Figure size 432x288 with 1 Axes>"
      ]
     },
     "metadata": {
      "needs_background": "light"
     },
     "output_type": "display_data"
    }
   ],
   "source": [
    "data['parks_nearest'].hist(range=(0, 2000), bins=100)\n",
    "print(data['parks_nearest'].describe())"
   ]
  },
  {
   "cell_type": "markdown",
   "metadata": {},
   "source": [
    "На графике видно, что больше квартир продается с удаленностью от парка 180-740 метров"
   ]
  },
  {
   "cell_type": "code",
   "execution_count": 17,
   "metadata": {},
   "outputs": [
    {
     "name": "stdout",
     "output_type": "stream",
     "text": [
      "count    20428.000000\n",
      "mean       180.761700\n",
      "std        219.473125\n",
      "min          1.000000\n",
      "25%         45.000000\n",
      "50%         95.000000\n",
      "75%        232.000000\n",
      "max       1580.000000\n",
      "Name: days_exposition, dtype: float64\n",
      "Медиана равна 95\n",
      "Средняя равна 180\n"
     ]
    },
    {
     "data": {
      "image/png": "[encoded data removed]",
      "text/plain": [
       "<Figure size 432x288 with 1 Axes>"
      ]
     },
     "metadata": {
      "needs_background": "light"
     },
     "output_type": "display_data"
    },
    {
     "data": {
      "image/png": "[encoded data removed]",
      "text/plain": [
       "<Figure size 432x288 with 1 Axes>"
      ]
     },
     "metadata": {
      "needs_background": "light"
     },
     "output_type": "display_data"
    },
    {
     "data": {
      "image/png": "[encoded data removed]",
      "text/plain": [
       "<Figure size 432x288 with 1 Axes>"
      ]
     },
     "metadata": {
      "needs_background": "light"
     },
     "output_type": "display_data"
    }
   ],
   "source": [
    "#4.2\n",
    "print(data['days_exposition'].describe())\n",
    "print(f\"Медиана равна {data['days_exposition'].median().astype('int')}\")\n",
    "print(f\"Средняя равна {data['days_exposition'].mean().astype('int')}\")\n",
    "data['days_exposition'].hist(range=(0, 1000), bins=1000)\n",
    "plt.show()\n",
    "data['days_exposition'].hist(range=(0, 400), bins=200)\n",
    "plt.show()\n",
    "data['days_exposition'].hist(range=(0, 100), bins=20)\n",
    "plt.show()"
   ]
  },
  {
   "cell_type": "markdown",
   "metadata": {},
   "source": [
    "    В среднем продажа квартир занимает пол года, это, конечно, много, но данных много, поэтому так получается, по медиане продажа квартир занимает 102 дня, это уже похоже на правду и основная масса продаж из этих 102 дней приходится примерно на 60-65 дней. Быстрой можно считать такую продажу, которая произошла до 90-100 дней, долгую, которая произошла через год и более, после года продаж намного меньше, основная масса продаж находится до года."
   ]
  },
  {
   "cell_type": "code",
   "execution_count": null,
   "metadata": {},
   "outputs": [
    {
     "name": "stdout",
     "output_type": "stream",
     "text": [
      "Коэффициент корреляции равен 0.64\n"
     ]
    },
    {
     "data": {
      "text/plain": [
       "<AxesSubplot:xlabel='total_area', ylabel='last_price'>"
      ]
     },
     "execution_count": 18,
     "metadata": {},
     "output_type": "execute_result"
    },
    {
     "data": {
      "image/png": "[encoded data removed]",
      "text/plain": [
       "<Figure size 432x288 with 1 Axes>"
      ]
     },
     "metadata": {
      "needs_background": "light"
     },
     "output_type": "display_data"
    }
   ],
   "source": [
    "print(f'Коэффициент корреляции равен', data['total_area'].corr(data['last_price']).round(2))\n",
    "data.plot(x='total_area', y='last_price', kind='scatter')"
   ]
  },
  {
   "cell_type": "markdown",
   "metadata": {},
   "source": [
    "Исходя из коэффициента корреляции можно сказать, что площадь умеренно влияет на цену объекта, \n",
    "видна зависимость цены от площади объекта"
   ]
  },
  {
   "cell_type": "code",
   "execution_count": 19,
   "metadata": {},
   "outputs": [
    {
     "name": "stdout",
     "output_type": "stream",
     "text": [
      "Коэффициент корреляции равен 0.53\n"
     ]
    },
    {
     "data": {
      "text/plain": [
       "<AxesSubplot:xlabel='living_area', ylabel='last_price'>"
      ]
     },
     "execution_count": 19,
     "metadata": {},
     "output_type": "execute_result"
    },
    {
     "data": {
      "image/png": "[encoded data removed]",
      "text/plain": [
       "<Figure size 432x288 with 1 Axes>"
      ]
     },
     "metadata": {
      "needs_background": "light"
     },
     "output_type": "display_data"
    }
   ],
   "source": [
    "print(f'Коэффициент корреляции равен', data['living_area'].corr(data['last_price']).round(2))\n",
    "data.plot(x='living_area', y='last_price', kind='scatter')"
   ]
  },
  {
   "cell_type": "markdown",
   "metadata": {},
   "source": [
    "Жилая площадь также имеет умеренное влияние на цену объекта"
   ]
  },
  {
   "cell_type": "code",
   "execution_count": 20,
   "metadata": {},
   "outputs": [
    {
     "name": "stdout",
     "output_type": "stream",
     "text": [
      "Коэффициент корреляции равен 0.43\n"
     ]
    },
    {
     "data": {
      "text/plain": [
       "<AxesSubplot:xlabel='kitchen_area', ylabel='last_price'>"
      ]
     },
     "execution_count": 20,
     "metadata": {},
     "output_type": "execute_result"
    },
    {
     "data": {
      "image/png": "[encoded data removed]",
      "text/plain": [
       "<Figure size 432x288 with 1 Axes>"
      ]
     },
     "metadata": {
      "needs_background": "light"
     },
     "output_type": "display_data"
    }
   ],
   "source": [
    "print(f'Коэффициент корреляции равен', data['kitchen_area'].corr(data['last_price']).round(2))\n",
    "data.plot(x='kitchen_area', y='last_price', kind='scatter')"
   ]
  },
  {
   "cell_type": "markdown",
   "metadata": {},
   "source": [
    "Площадь кухни тоже имеет влияние на цену, в целом, вся площадь имеет влияние на цену"
   ]
  },
  {
   "cell_type": "code",
   "execution_count": 21,
   "metadata": {},
   "outputs": [
    {
     "name": "stdout",
     "output_type": "stream",
     "text": [
      "Коэффициент корреляции равен 0.36\n"
     ]
    },
    {
     "data": {
      "text/plain": [
       "<AxesSubplot:xlabel='rooms'>"
      ]
     },
     "execution_count": 21,
     "metadata": {},
     "output_type": "execute_result"
    },
    {
     "data": {
      "image/png": "[encoded data removed]",
      "text/plain": [
       "<Figure size 432x288 with 1 Axes>"
      ]
     },
     "metadata": {
      "needs_background": "light"
     },
     "output_type": "display_data"
    },
    {
     "data": {
      "image/png": "[encoded data removed]",
      "text/plain": [
       "<Figure size 432x288 with 1 Axes>"
      ]
     },
     "metadata": {
      "needs_background": "light"
     },
     "output_type": "display_data"
    }
   ],
   "source": [
    "print(f'Коэффициент корреляции равен', data['rooms'].corr(data['last_price']).round(2))\n",
    "data.plot(x='rooms', y='last_price', kind='scatter')\n",
    "data.pivot_table(index='rooms', values='last_price').plot(grid=True, style='o-')"
   ]
  },
  {
   "cell_type": "markdown",
   "metadata": {},
   "source": [
    "На графике видна зависимость цены объекта от количества комнат, можно сказать, что влияние есть, хоть и не такое большое"
   ]
  },
  {
   "cell_type": "code",
   "execution_count": 22,
   "metadata": {},
   "outputs": [
    {
     "data": {
      "text/plain": [
       "<AxesSubplot:xlabel='floor_type'>"
      ]
     },
     "execution_count": 22,
     "metadata": {},
     "output_type": "execute_result"
    },
    {
     "data": {
      "image/png": "[encoded data removed]",
      "text/plain": [
       "<Figure size 432x288 with 1 Axes>"
      ]
     },
     "metadata": {
      "needs_background": "light"
     },
     "output_type": "display_data"
    }
   ],
   "source": [
    "data.pivot_table(index='floor_type', values='last_price').plot(grid=True, style='o-')"
   ]
  },
  {
   "cell_type": "markdown",
   "metadata": {},
   "source": [
    "Исходя из графика, можно сказать что на первом этаже самые дешевые квартиры относительно других"
   ]
  },
  {
   "cell_type": "code",
   "execution_count": 23,
   "metadata": {},
   "outputs": [
    {
     "name": "stdout",
     "output_type": "stream",
     "text": [
      "Коэффициент корреляции равен 0.0\n"
     ]
    },
    {
     "data": {
      "text/plain": [
       "<AxesSubplot:xlabel='publication_day'>"
      ]
     },
     "execution_count": 23,
     "metadata": {},
     "output_type": "execute_result"
    },
    {
     "data": {
      "image/png": "[encoded data removed]",
      "text/plain": [
       "<Figure size 432x288 with 1 Axes>"
      ]
     },
     "metadata": {
      "needs_background": "light"
     },
     "output_type": "display_data"
    }
   ],
   "source": [
    "#publication_day    publication_month     publication_year\n",
    "print(f'Коэффициент корреляции равен', data['publication_day'].corr(data['last_price']).round(2))\n",
    "data.pivot_table(index='publication_day', values='last_price').plot(grid=True, style='o-')"
   ]
  },
  {
   "cell_type": "markdown",
   "metadata": {},
   "source": [
    "Из этого графика ничего нельзя сказать, взаимосвязи никакой нет"
   ]
  },
  {
   "cell_type": "code",
   "execution_count": 24,
   "metadata": {},
   "outputs": [
    {
     "name": "stdout",
     "output_type": "stream",
     "text": [
      "Коэффициент корреляции равен 0.0\n"
     ]
    },
    {
     "data": {
      "text/plain": [
       "<AxesSubplot:xlabel='publication_month'>"
      ]
     },
     "execution_count": 24,
     "metadata": {},
     "output_type": "execute_result"
    },
    {
     "data": {
      "image/png": "[encoded data removed]",
      "text/plain": [
       "<Figure size 432x288 with 1 Axes>"
      ]
     },
     "metadata": {
      "needs_background": "light"
     },
     "output_type": "display_data"
    }
   ],
   "source": [
    "print(f'Коэффициент корреляции равен', data['publication_month'].corr(data['last_price']).round(2))\n",
    "data.pivot_table(index='publication_month', values='last_price').plot(grid=True, style='o-')"
   ]
  },
  {
   "cell_type": "markdown",
   "metadata": {},
   "source": [
    "Взаимосвзяи также никакой нет, но квартиры в декабре действительно всегда поднимаются в цене"
   ]
  },
  {
   "cell_type": "code",
   "execution_count": 25,
   "metadata": {},
   "outputs": [
    {
     "name": "stdout",
     "output_type": "stream",
     "text": [
      "Коэффициент корреляции равен -0.04\n"
     ]
    },
    {
     "data": {
      "text/plain": [
       "<AxesSubplot:xlabel='publication_year'>"
      ]
     },
     "execution_count": 25,
     "metadata": {},
     "output_type": "execute_result"
    },
    {
     "data": {
      "image/png": "[encoded data removed]",
      "text/plain": [
       "<Figure size 432x288 with 1 Axes>"
      ]
     },
     "metadata": {
      "needs_background": "light"
     },
     "output_type": "display_data"
    }
   ],
   "source": [
    "print(f'Коэффициент корреляции равен', data['publication_year'].corr(data['last_price']).round(2))\n",
    "data.pivot_table(index='publication_year', values='last_price').plot(grid=True, style='o-')"
   ]
  },
  {
   "cell_type": "markdown",
   "metadata": {},
   "source": [
    "Коэффициент корреляции говорит о том, что зависимости нет, но по графику видна тенденция уменьшения цены на объект недвижимости"
   ]
  },
  {
   "cell_type": "markdown",
   "metadata": {},
   "source": [
    "***Общий вывод по 4.3 заданию***\n",
    "\n",
    "    -Факторы влияющие на цену:\n",
    "        Площадь объекта имеет самое большое влияние\n",
    "        Количество комнат\n",
    "        Тип этажа тоже имеет влияние - первый будет точно дешевле\n",
    "        \n",
    "    -Факторы не влияющие на цену:\n",
    "        День, месяц, год, в который было выложено объявление, разве что год имеет\n",
    "        нисходящую тенденцию, но для будущего это мало что значит"
   ]
  },
  {
   "cell_type": "code",
   "execution_count": null,
   "metadata": {},
   "outputs": [
    {
     "data": {
      "text/html": [
       "<div>\n",
       "<style scoped>\n",
       "    .dataframe tbody tr th:only-of-type {\n",
       "        vertical-align: middle;\n",
       "    }\n",
       "\n",
       "    .dataframe tbody tr th {\n",
       "        vertical-align: top;\n",
       "    }\n",
       "\n",
       "    .dataframe thead tr th {\n",
       "        text-align: left;\n",
       "    }\n",
       "\n",
       "    .dataframe thead tr:last-of-type th {\n",
       "        text-align: right;\n",
       "    }\n",
       "</style>\n",
       "<table border=\"1\" class=\"dataframe\">\n",
       "  <thead>\n",
       "    <tr>\n",
       "      <th></th>\n",
       "      <th>count</th>\n",
       "      <th>median</th>\n",
       "    </tr>\n",
       "    <tr>\n",
       "      <th></th>\n",
       "      <th>price_sqrm</th>\n",
       "      <th>price_sqrm</th>\n",
       "    </tr>\n",
       "    <tr>\n",
       "      <th>locality_name</th>\n",
       "      <th></th>\n",
       "      <th></th>\n",
       "    </tr>\n",
       "  </thead>\n",
       "  <tbody>\n",
       "    <tr>\n",
       "      <th>санкт-петербург</th>\n",
       "      <td>15632</td>\n",
       "      <td>104794.200</td>\n",
       "    </tr>\n",
       "    <tr>\n",
       "      <th>мурино</th>\n",
       "      <td>586</td>\n",
       "      <td>86250.375</td>\n",
       "    </tr>\n",
       "    <tr>\n",
       "      <th>кудрово</th>\n",
       "      <td>470</td>\n",
       "      <td>95555.315</td>\n",
       "    </tr>\n",
       "    <tr>\n",
       "      <th>шушары</th>\n",
       "      <td>439</td>\n",
       "      <td>76829.270</td>\n",
       "    </tr>\n",
       "    <tr>\n",
       "      <th>всеволожск</th>\n",
       "      <td>398</td>\n",
       "      <td>65789.470</td>\n",
       "    </tr>\n",
       "    <tr>\n",
       "      <th>пушкин</th>\n",
       "      <td>369</td>\n",
       "      <td>100000.000</td>\n",
       "    </tr>\n",
       "    <tr>\n",
       "      <th>колпино</th>\n",
       "      <td>338</td>\n",
       "      <td>74723.745</td>\n",
       "    </tr>\n",
       "    <tr>\n",
       "      <th>парголово</th>\n",
       "      <td>327</td>\n",
       "      <td>91642.860</td>\n",
       "    </tr>\n",
       "    <tr>\n",
       "      <th>гатчина</th>\n",
       "      <td>307</td>\n",
       "      <td>67796.610</td>\n",
       "    </tr>\n",
       "    <tr>\n",
       "      <th>выборг</th>\n",
       "      <td>237</td>\n",
       "      <td>58158.320</td>\n",
       "    </tr>\n",
       "  </tbody>\n",
       "</table>\n",
       "</div>"
      ],
      "text/plain": [
       "                     count      median\n",
       "                price_sqrm  price_sqrm\n",
       "locality_name                         \n",
       "санкт-петербург      15632  104794.200\n",
       "мурино                 586   86250.375\n",
       "кудрово                470   95555.315\n",
       "шушары                 439   76829.270\n",
       "всеволожск             398   65789.470\n",
       "пушкин                 369  100000.000\n",
       "колпино                338   74723.745\n",
       "парголово              327   91642.860\n",
       "гатчина                307   67796.610\n",
       "выборг                 237   58158.320"
      ]
     },
     "metadata": {},
     "output_type": "display_data"
    }
   ],
   "source": [
    "median_price = (\n",
    "    data.pivot_table(index='locality_name', values='price_sqrm', aggfunc=['count', 'median'])\n",
    "    .sort_values(by=('count', 'price_sqrm'), ascending=False).head(10)\n",
    ")\n",
    "\n",
    "display(median_price)"
   ]
  },
  {
   "cell_type": "markdown",
   "metadata": {},
   "source": [
    "    Стоимость квадратного метра выше всего в Санкт-Петербурге и его ближайших пригородах,\n",
    "    низкие цены на недвижимость наблюдаются в более удаленных от города локациях, развитая инфраструктура \n",
    "    и зеленые зоны могут влиять на рост цен на жилье, численность населения также может играть роль в \n",
    "    формировании стоимости одного квадратного метра\n"
   ]
  },
  {
   "cell_type": "code",
   "execution_count": null,
   "metadata": {},
   "outputs": [
    {
     "data": {
      "text/plain": [
       "<AxesSubplot:xlabel='distance_to_center'>"
      ]
     },
     "execution_count": 27,
     "metadata": {},
     "output_type": "execute_result"
    },
    {
     "data": {
      "image/png": "[encoded data removed]",
      "text/plain": [
       "<Figure size 432x288 with 1 Axes>"
      ]
     },
     "metadata": {
      "needs_background": "light"
     },
     "output_type": "display_data"
    }
   ],
   "source": [
    "(\n",
    "data[data['locality_name'] == 'санкт-петербург']\n",
    "    .pivot_table(index='distance_to_center', values=['last_price'], aggfunc=['mean'])\n",
    "    .plot(grid=True, style='o-')\n",
    ")"
   ]
  },
  {
   "cell_type": "markdown",
   "metadata": {},
   "source": [
    "На графике видна явная зависимость цены от расстояния до центра, самые дорогие объекты находятся в центре и близь него, чем дальше от центра тем дешевле жилье"
   ]
  },
  {
   "cell_type": "markdown",
   "metadata": {
    "id": "h7VpzkIDAwb-"
   },
   "source": [
    "### Напишите общий вывод"
   ]
  },
  {
   "cell_type": "markdown",
   "metadata": {
    "id": "3H4lnp_KAwb-"
   },
   "source": [
    "#### **Во время исследования объявлений о продаже квартир, данные были обработаны: заполнены пропуски и удалены дубликаты, были добавлены новые столбцы. По итогам можно сделать следующие выводы:**\n",
    "\n",
    "*-Параметры ликвидной квартиры:*\n",
    "\n",
    "    Общая площадь - 35-60 квадратных метров\n",
    "    Цена объекта - 3-5.7 миллионов рублей\n",
    "    Количество комнат - одна или две комнаты\n",
    "    Высота потолков - 2.5 - 3 метра\n",
    "    Тип этажа квартиры должен быть любой, кроме первого и последнего\n",
    "    Общее количество этажей в доме - больше всего предложения в пятиэтажных домах\n",
    "    Расстояние до центра города  - больше всего предложения с расстоянием 11-16 километров\n",
    "    Расстояние до ближайшего парка - до одного километра\n",
    "    \n",
    "*-Факторы, которые больше всего влияют на общую (полную) стоимость объекта:*\n",
    "\n",
    "    Самое большое влияение на стоимость объекта влияет его площадь, что, в целом, очень логично, \n",
    "    также влияет количество комнат.\n",
    "    Из исследования видно, что неважно в какой день выставлен объект на продажу, \n",
    "    месяц также не имеет значение, а года имеют нисходящую тенденцию, но информация с годами, мне кажется,\n",
    "    нужна не обычным покупателям, а агенствам и инвесторам\n",
    "    \n",
    "*-Средняя цена одного квадратного метра:*\n",
    "\n",
    "    Максимальная цена, конечно, у объектов находящихся в Санкт-Петербурге, она составляет ~102605 рублей,\n",
    "    самая низкая цена у объектов в городе Всеволожск, там средняя цена квадратного метра составляет ~65789 рублей\n",
    "    \n",
    "*-Средняя цена квартир от расстояния до центра в Санкт-Петербурге:*\n",
    "\n",
    "    Самые дорогие квартиры находятся в центре города и близь него, после 10 километров от центра цена,\n",
    "    в целом, не имеет сильных колебаний"
   ]
  }
 ],
 "metadata": {
  "ExecuteTimeLog": [
   {
    "duration": 1214,
    "start_time": "2024-03-10T08:24:46.685Z"
   },
   {
    "duration": 201,
    "start_time": "2024-03-10T08:30:31.732Z"
   },
   {
    "duration": 1110,
    "start_time": "2024-03-11T17:26:54.310Z"
   },
   {
    "duration": 3083,
    "start_time": "2024-03-11T17:27:43.033Z"
   },
   {
    "duration": 32,
    "start_time": "2024-03-11T18:14:18.690Z"
   },
   {
    "duration": 3589,
    "start_time": "2024-03-12T16:30:34.968Z"
   },
   {
    "duration": 58,
    "start_time": "2024-03-12T16:30:38.560Z"
   },
   {
    "duration": 1709,
    "start_time": "2024-03-12T16:43:49.235Z"
   },
   {
    "duration": 105,
    "start_time": "2024-03-12T16:44:08.180Z"
   },
   {
    "duration": 37,
    "start_time": "2024-03-12T16:44:16.948Z"
   },
   {
    "duration": 1352,
    "start_time": "2024-03-12T16:44:37.116Z"
   },
   {
    "duration": 1394,
    "start_time": "2024-03-12T16:46:54.763Z"
   },
   {
    "duration": 78,
    "start_time": "2024-03-12T16:50:21.307Z"
   },
   {
    "duration": 68,
    "start_time": "2024-03-12T16:50:24.767Z"
   },
   {
    "duration": 1432,
    "start_time": "2024-03-12T16:50:28.340Z"
   },
   {
    "duration": 32,
    "start_time": "2024-03-12T16:50:39.481Z"
   },
   {
    "duration": 1375,
    "start_time": "2024-03-12T16:51:07.894Z"
   },
   {
    "duration": 33,
    "start_time": "2024-03-12T16:51:13.570Z"
   },
   {
    "duration": 3089,
    "start_time": "2024-03-12T16:54:26.244Z"
   },
   {
    "duration": 120,
    "start_time": "2024-03-12T16:54:29.335Z"
   },
   {
    "duration": 1638,
    "start_time": "2024-03-12T16:54:40.059Z"
   },
   {
    "duration": 1362,
    "start_time": "2024-03-12T16:55:29.213Z"
   },
   {
    "duration": 1455,
    "start_time": "2024-03-12T17:00:08.255Z"
   },
   {
    "duration": 29,
    "start_time": "2024-03-12T17:00:23.786Z"
   },
   {
    "duration": 3055,
    "start_time": "2024-03-12T17:00:28.594Z"
   },
   {
    "duration": 42,
    "start_time": "2024-03-12T17:00:31.651Z"
   },
   {
    "duration": 1541,
    "start_time": "2024-03-12T17:00:38.669Z"
   },
   {
    "duration": 1495,
    "start_time": "2024-03-12T17:01:44.028Z"
   },
   {
    "duration": 3073,
    "start_time": "2024-03-12T17:01:54.492Z"
   },
   {
    "duration": 1633,
    "start_time": "2024-03-12T17:01:57.567Z"
   },
   {
    "duration": 1387,
    "start_time": "2024-03-12T17:03:19.182Z"
   },
   {
    "duration": 1524,
    "start_time": "2024-03-12T17:07:27.695Z"
   },
   {
    "duration": 1482,
    "start_time": "2024-03-12T17:07:33.460Z"
   },
   {
    "duration": 31,
    "start_time": "2024-03-12T17:11:45.201Z"
   },
   {
    "duration": 3138,
    "start_time": "2024-03-12T17:11:49.439Z"
   },
   {
    "duration": 39,
    "start_time": "2024-03-12T17:11:52.579Z"
   },
   {
    "duration": 104,
    "start_time": "2024-03-12T17:12:35.574Z"
   },
   {
    "duration": 41,
    "start_time": "2024-03-12T17:12:42.393Z"
   },
   {
    "duration": 42,
    "start_time": "2024-03-12T17:12:48.656Z"
   },
   {
    "duration": 42,
    "start_time": "2024-03-12T17:12:56.049Z"
   },
   {
    "duration": 39,
    "start_time": "2024-03-12T17:13:04.165Z"
   },
   {
    "duration": 38,
    "start_time": "2024-03-12T17:13:42.493Z"
   },
   {
    "duration": 35,
    "start_time": "2024-03-12T17:13:49.778Z"
   },
   {
    "duration": 44,
    "start_time": "2024-03-12T17:13:55.617Z"
   },
   {
    "duration": 48,
    "start_time": "2024-03-12T17:14:07.383Z"
   },
   {
    "duration": 127,
    "start_time": "2024-03-12T17:14:36.186Z"
   },
   {
    "duration": 47,
    "start_time": "2024-03-12T17:15:01.219Z"
   },
   {
    "duration": 45,
    "start_time": "2024-03-12T17:15:11.476Z"
   },
   {
    "duration": 58,
    "start_time": "2024-03-12T17:15:28.904Z"
   },
   {
    "duration": 48,
    "start_time": "2024-03-12T17:15:38.031Z"
   },
   {
    "duration": 45,
    "start_time": "2024-03-12T17:15:57.653Z"
   },
   {
    "duration": 46,
    "start_time": "2024-03-12T17:17:12.273Z"
   },
   {
    "duration": 63,
    "start_time": "2024-03-12T17:17:24.333Z"
   },
   {
    "duration": 44,
    "start_time": "2024-03-12T17:17:38.738Z"
   },
   {
    "duration": 68,
    "start_time": "2024-03-12T17:17:46.054Z"
   },
   {
    "duration": 81,
    "start_time": "2024-03-12T17:17:57.393Z"
   },
   {
    "duration": 92,
    "start_time": "2024-03-12T17:18:01.107Z"
   },
   {
    "duration": 72,
    "start_time": "2024-03-12T17:18:04.814Z"
   },
   {
    "duration": 44,
    "start_time": "2024-03-12T17:18:08.874Z"
   },
   {
    "duration": 45,
    "start_time": "2024-03-12T17:20:47.944Z"
   },
   {
    "duration": 3110,
    "start_time": "2024-03-12T17:21:02.555Z"
   },
   {
    "duration": 46,
    "start_time": "2024-03-12T17:21:05.666Z"
   },
   {
    "duration": 48,
    "start_time": "2024-03-12T17:21:25.777Z"
   },
   {
    "duration": 3047,
    "start_time": "2024-03-12T17:21:33.526Z"
   },
   {
    "duration": 46,
    "start_time": "2024-03-12T17:21:36.575Z"
   },
   {
    "duration": 112,
    "start_time": "2024-03-12T17:28:08.032Z"
   },
   {
    "duration": 43,
    "start_time": "2024-03-12T17:28:13.398Z"
   },
   {
    "duration": 3226,
    "start_time": "2024-03-12T17:30:31.647Z"
   },
   {
    "duration": 139,
    "start_time": "2024-03-12T17:30:34.875Z"
   },
   {
    "duration": 82,
    "start_time": "2024-03-12T17:30:47.785Z"
   },
   {
    "duration": 68,
    "start_time": "2024-03-12T17:33:39.737Z"
   },
   {
    "duration": 60,
    "start_time": "2024-03-12T17:33:49.445Z"
   },
   {
    "duration": 88,
    "start_time": "2024-03-12T17:34:37.625Z"
   },
   {
    "duration": 167,
    "start_time": "2024-03-12T17:35:04.503Z"
   },
   {
    "duration": 3219,
    "start_time": "2024-03-12T17:43:00.943Z"
   },
   {
    "duration": 366,
    "start_time": "2024-03-12T17:43:04.164Z"
   },
   {
    "duration": 106,
    "start_time": "2024-03-12T17:43:38.150Z"
   },
   {
    "duration": 110,
    "start_time": "2024-03-12T17:44:00.027Z"
   },
   {
    "duration": 105,
    "start_time": "2024-03-12T17:44:18.796Z"
   },
   {
    "duration": 109,
    "start_time": "2024-03-12T17:44:37.069Z"
   },
   {
    "duration": 223,
    "start_time": "2024-03-12T17:44:40.047Z"
   },
   {
    "duration": 114,
    "start_time": "2024-03-12T18:15:31.446Z"
   },
   {
    "duration": 175,
    "start_time": "2024-03-12T18:16:19.895Z"
   },
   {
    "duration": 127,
    "start_time": "2024-03-12T18:16:30.781Z"
   },
   {
    "duration": 110,
    "start_time": "2024-03-12T18:18:22.695Z"
   },
   {
    "duration": 113,
    "start_time": "2024-03-12T18:18:34.566Z"
   },
   {
    "duration": 3180,
    "start_time": "2024-03-13T17:18:00.491Z"
   },
   {
    "duration": 121,
    "start_time": "2024-03-13T17:18:03.672Z"
   },
   {
    "duration": 141,
    "start_time": "2024-03-13T17:20:11.588Z"
   },
   {
    "duration": 312,
    "start_time": "2024-03-13T17:20:24.362Z"
   },
   {
    "duration": 319,
    "start_time": "2024-03-13T17:20:31.536Z"
   },
   {
    "duration": 8,
    "start_time": "2024-03-13T17:31:03.171Z"
   },
   {
    "duration": 9,
    "start_time": "2024-03-13T17:31:06.396Z"
   },
   {
    "duration": 396,
    "start_time": "2024-03-13T17:31:10.008Z"
   },
   {
    "duration": 13,
    "start_time": "2024-03-13T17:36:23.541Z"
   },
   {
    "duration": 241,
    "start_time": "2024-03-13T17:36:32.724Z"
   },
   {
    "duration": 453,
    "start_time": "2024-03-13T17:58:21.818Z"
   },
   {
    "duration": 557,
    "start_time": "2024-03-13T18:02:21.206Z"
   },
   {
    "duration": 471,
    "start_time": "2024-03-13T18:02:29.149Z"
   },
   {
    "duration": 490,
    "start_time": "2024-03-13T18:03:05.320Z"
   },
   {
    "duration": 760,
    "start_time": "2024-03-13T18:03:11.501Z"
   },
   {
    "duration": 1021,
    "start_time": "2024-03-13T18:03:58.417Z"
   },
   {
    "duration": 1072,
    "start_time": "2024-03-13T18:04:43.693Z"
   },
   {
    "duration": 1386,
    "start_time": "2024-03-13T18:04:58.082Z"
   },
   {
    "duration": 1632,
    "start_time": "2024-03-13T18:07:06.053Z"
   },
   {
    "duration": 1979,
    "start_time": "2024-03-13T18:12:01.162Z"
   },
   {
    "duration": 2607,
    "start_time": "2024-03-13T18:50:53.995Z"
   },
   {
    "duration": 2698,
    "start_time": "2024-03-13T19:18:07.377Z"
   },
   {
    "duration": 3061,
    "start_time": "2024-03-16T07:51:41.700Z"
   },
   {
    "duration": 266,
    "start_time": "2024-03-16T07:51:44.764Z"
   },
   {
    "duration": 362,
    "start_time": "2024-03-16T07:51:45.031Z"
   },
   {
    "duration": 2652,
    "start_time": "2024-03-16T07:51:45.395Z"
   },
   {
    "duration": 270,
    "start_time": "2024-03-16T07:58:57.712Z"
   },
   {
    "duration": 2765,
    "start_time": "2024-03-16T07:59:43.167Z"
   },
   {
    "duration": 263,
    "start_time": "2024-03-16T07:59:45.934Z"
   },
   {
    "duration": 349,
    "start_time": "2024-03-16T07:59:46.198Z"
   },
   {
    "duration": 4078,
    "start_time": "2024-03-16T07:59:46.549Z"
   },
   {
    "duration": 81,
    "start_time": "2024-03-16T08:00:28.197Z"
   },
   {
    "duration": 2126,
    "start_time": "2024-03-16T08:00:57.775Z"
   },
   {
    "duration": 264,
    "start_time": "2024-03-16T08:01:03.002Z"
   },
   {
    "duration": 260,
    "start_time": "2024-03-16T08:02:41.586Z"
   },
   {
    "duration": 239,
    "start_time": "2024-03-16T08:30:12.782Z"
   },
   {
    "duration": 312,
    "start_time": "2024-03-16T08:45:33.697Z"
   },
   {
    "duration": 419,
    "start_time": "2024-03-16T08:45:38.301Z"
   },
   {
    "duration": 331,
    "start_time": "2024-03-16T09:18:59.974Z"
   },
   {
    "duration": 379,
    "start_time": "2024-03-16T09:19:28.947Z"
   },
   {
    "duration": 344,
    "start_time": "2024-03-16T09:20:22.408Z"
   },
   {
    "duration": 3871,
    "start_time": "2024-03-16T11:53:26.012Z"
   },
   {
    "duration": 4000,
    "start_time": "2024-03-16T11:53:55.876Z"
   },
   {
    "duration": 2646,
    "start_time": "2024-03-16T11:54:12.218Z"
   },
   {
    "duration": 261,
    "start_time": "2024-03-16T11:54:14.866Z"
   },
   {
    "duration": 342,
    "start_time": "2024-03-16T11:54:15.129Z"
   },
   {
    "duration": 4082,
    "start_time": "2024-03-16T11:54:15.473Z"
   },
   {
    "duration": 2824,
    "start_time": "2024-03-16T12:20:45.320Z"
   },
   {
    "duration": 259,
    "start_time": "2024-03-16T12:20:48.146Z"
   },
   {
    "duration": 342,
    "start_time": "2024-03-16T12:20:48.407Z"
   },
   {
    "duration": 4115,
    "start_time": "2024-03-16T12:20:48.751Z"
   },
   {
    "duration": 337,
    "start_time": "2024-03-16T12:21:59.069Z"
   },
   {
    "duration": 4165,
    "start_time": "2024-03-16T12:22:08.223Z"
   },
   {
    "duration": 3371,
    "start_time": "2024-03-16T14:48:05.097Z"
   },
   {
    "duration": 307,
    "start_time": "2024-03-16T14:48:08.470Z"
   },
   {
    "duration": 404,
    "start_time": "2024-03-16T14:48:08.779Z"
   },
   {
    "duration": 4838,
    "start_time": "2024-03-16T14:48:09.186Z"
   },
   {
    "duration": 3232,
    "start_time": "2024-03-16T15:16:13.902Z"
   },
   {
    "duration": 326,
    "start_time": "2024-03-16T15:16:17.136Z"
   },
   {
    "duration": 410,
    "start_time": "2024-03-16T15:16:17.464Z"
   },
   {
    "duration": 4897,
    "start_time": "2024-03-16T15:16:17.876Z"
   },
   {
    "duration": 3215,
    "start_time": "2024-03-16T16:03:13.213Z"
   },
   {
    "duration": 312,
    "start_time": "2024-03-16T16:03:16.430Z"
   },
   {
    "duration": 388,
    "start_time": "2024-03-16T16:03:16.744Z"
   },
   {
    "duration": 4809,
    "start_time": "2024-03-16T16:03:17.135Z"
   },
   {
    "duration": 3283,
    "start_time": "2024-03-16T17:10:58.577Z"
   },
   {
    "duration": 2789,
    "start_time": "2024-03-16T17:28:00.003Z"
   },
   {
    "duration": 15,
    "start_time": "2024-03-16T18:40:40.741Z"
   },
   {
    "duration": 27,
    "start_time": "2024-03-16T18:41:44.654Z"
   },
   {
    "duration": 24,
    "start_time": "2024-03-16T18:41:56.576Z"
   },
   {
    "duration": 15,
    "start_time": "2024-03-16T18:57:32.337Z"
   },
   {
    "duration": 49,
    "start_time": "2024-03-21T17:49:36.055Z"
   },
   {
    "duration": 3110,
    "start_time": "2024-03-21T17:49:42.132Z"
   },
   {
    "duration": 6,
    "start_time": "2024-03-21T17:49:45.244Z"
   },
   {
    "duration": 11,
    "start_time": "2024-03-21T17:51:40.798Z"
   },
   {
    "duration": 14,
    "start_time": "2024-03-21T17:58:49.710Z"
   },
   {
    "duration": 12,
    "start_time": "2024-03-21T17:58:58.350Z"
   },
   {
    "duration": 48,
    "start_time": "2024-04-11T16:00:17.201Z"
   },
   {
    "duration": 3237,
    "start_time": "2024-04-11T16:00:22.022Z"
   },
   {
    "duration": 846,
    "start_time": "2024-04-11T16:00:25.261Z"
   },
   {
    "duration": 745,
    "start_time": "2024-04-11T16:00:40.063Z"
   },
   {
    "duration": 17,
    "start_time": "2024-04-11T16:01:18.281Z"
   },
   {
    "duration": 21,
    "start_time": "2024-04-11T16:01:32.251Z"
   },
   {
    "duration": 18,
    "start_time": "2024-04-11T16:01:40.097Z"
   },
   {
    "duration": 25,
    "start_time": "2024-04-11T16:01:50.789Z"
   },
   {
    "duration": 18,
    "start_time": "2024-04-11T16:01:58.859Z"
   },
   {
    "duration": 17,
    "start_time": "2024-04-11T16:02:06.490Z"
   },
   {
    "duration": 13,
    "start_time": "2024-04-11T16:02:23.425Z"
   },
   {
    "duration": 14,
    "start_time": "2024-04-11T16:05:04.019Z"
   },
   {
    "duration": 14,
    "start_time": "2024-04-11T16:05:12.130Z"
   },
   {
    "duration": 17,
    "start_time": "2024-04-11T16:21:11.255Z"
   },
   {
    "duration": 1349,
    "start_time": "2024-04-11T16:21:15.173Z"
   },
   {
    "duration": 1361,
    "start_time": "2024-04-11T16:21:50.451Z"
   },
   {
    "duration": 1414,
    "start_time": "2024-04-11T16:31:03.285Z"
   },
   {
    "duration": 1355,
    "start_time": "2024-04-11T16:39:25.670Z"
   },
   {
    "duration": 15,
    "start_time": "2024-04-11T16:41:26.572Z"
   },
   {
    "duration": 15,
    "start_time": "2024-04-11T16:41:28.720Z"
   },
   {
    "duration": 2939,
    "start_time": "2024-04-11T16:41:32.860Z"
   },
   {
    "duration": 21,
    "start_time": "2024-04-11T16:41:35.801Z"
   },
   {
    "duration": 14,
    "start_time": "2024-04-11T16:41:41.588Z"
   },
   {
    "duration": 2931,
    "start_time": "2024-04-11T16:41:45.488Z"
   },
   {
    "duration": 21,
    "start_time": "2024-04-11T16:41:48.421Z"
   },
   {
    "duration": 1334,
    "start_time": "2024-04-11T16:43:51.625Z"
   },
   {
    "duration": 1370,
    "start_time": "2024-04-11T16:53:24.256Z"
   },
   {
    "duration": 15,
    "start_time": "2024-04-11T16:54:48.604Z"
   },
   {
    "duration": 2799,
    "start_time": "2024-04-11T16:54:55.252Z"
   },
   {
    "duration": 20,
    "start_time": "2024-04-11T16:54:58.053Z"
   },
   {
    "duration": 537,
    "start_time": "2024-04-11T16:56:00.453Z"
   },
   {
    "duration": 480,
    "start_time": "2024-04-11T16:56:16.489Z"
   },
   {
    "duration": 1342,
    "start_time": "2024-04-11T16:58:33.483Z"
   },
   {
    "duration": 2879,
    "start_time": "2024-04-11T16:58:39.792Z"
   },
   {
    "duration": 1336,
    "start_time": "2024-04-11T16:58:42.673Z"
   },
   {
    "duration": 1332,
    "start_time": "2024-04-11T16:58:51.803Z"
   },
   {
    "duration": 2853,
    "start_time": "2024-04-11T16:58:57.226Z"
   },
   {
    "duration": 1442,
    "start_time": "2024-04-11T16:59:00.081Z"
   },
   {
    "duration": 2832,
    "start_time": "2024-04-11T16:59:13.063Z"
   },
   {
    "duration": 1350,
    "start_time": "2024-04-11T16:59:15.897Z"
   },
   {
    "duration": 1381,
    "start_time": "2024-04-11T16:59:44.770Z"
   },
   {
    "duration": 2844,
    "start_time": "2024-04-11T16:59:50.855Z"
   },
   {
    "duration": 1345,
    "start_time": "2024-04-11T16:59:53.702Z"
   },
   {
    "duration": 1339,
    "start_time": "2024-04-11T17:01:49.151Z"
   },
   {
    "duration": 1393,
    "start_time": "2024-04-11T17:02:13.117Z"
   },
   {
    "duration": 1314,
    "start_time": "2024-04-11T17:02:21.379Z"
   },
   {
    "duration": 1333,
    "start_time": "2024-04-11T17:02:37.288Z"
   },
   {
    "duration": 1690,
    "start_time": "2024-04-11T17:02:41.099Z"
   },
   {
    "duration": 1468,
    "start_time": "2024-04-11T17:02:43.784Z"
   },
   {
    "duration": 1311,
    "start_time": "2024-04-11T17:03:57.408Z"
   },
   {
    "duration": 1260,
    "start_time": "2024-04-11T17:04:06.705Z"
   },
   {
    "duration": 2641,
    "start_time": "2024-04-11T17:25:38.666Z"
   },
   {
    "duration": 2782,
    "start_time": "2024-04-11T17:25:44.521Z"
   },
   {
    "duration": 1258,
    "start_time": "2024-04-11T17:26:04.651Z"
   },
   {
    "duration": 2595,
    "start_time": "2024-04-11T17:29:27.384Z"
   },
   {
    "duration": 2532,
    "start_time": "2024-04-11T17:29:52.457Z"
   },
   {
    "duration": 2549,
    "start_time": "2024-04-11T17:30:08.359Z"
   },
   {
    "duration": 29,
    "start_time": "2024-04-11T18:58:59.404Z"
   },
   {
    "duration": 2511,
    "start_time": "2024-04-11T18:59:57.909Z"
   },
   {
    "duration": 2568,
    "start_time": "2024-04-11T19:00:21.977Z"
   },
   {
    "duration": 2556,
    "start_time": "2024-04-11T19:00:33.940Z"
   },
   {
    "duration": 2521,
    "start_time": "2024-04-11T19:07:11.175Z"
   },
   {
    "duration": 2508,
    "start_time": "2024-04-11T19:09:44.056Z"
   },
   {
    "duration": 2486,
    "start_time": "2024-04-11T19:19:02.847Z"
   },
   {
    "duration": 2675,
    "start_time": "2024-04-11T19:24:05.408Z"
   },
   {
    "duration": 2809,
    "start_time": "2024-04-11T19:24:14.290Z"
   },
   {
    "duration": 2626,
    "start_time": "2024-04-11T19:24:17.101Z"
   },
   {
    "duration": 2326,
    "start_time": "2024-04-11T19:26:10.037Z"
   },
   {
    "duration": 2813,
    "start_time": "2024-04-11T19:27:07.654Z"
   },
   {
    "duration": 2714,
    "start_time": "2024-04-11T19:27:10.469Z"
   },
   {
    "duration": 92,
    "start_time": "2024-04-11T19:29:34.273Z"
   },
   {
    "duration": 2241,
    "start_time": "2024-04-11T19:29:43.498Z"
   },
   {
    "duration": 2251,
    "start_time": "2024-04-11T19:30:01.661Z"
   },
   {
    "duration": 96,
    "start_time": "2024-04-11T19:34:55.060Z"
   },
   {
    "duration": 2788,
    "start_time": "2024-04-11T19:35:17.580Z"
   },
   {
    "duration": 101,
    "start_time": "2024-04-11T19:35:20.370Z"
   },
   {
    "duration": 97,
    "start_time": "2024-04-11T19:35:26.528Z"
   },
   {
    "duration": 93,
    "start_time": "2024-04-11T19:35:41.209Z"
   },
   {
    "duration": 100,
    "start_time": "2024-04-11T19:35:51.391Z"
   },
   {
    "duration": 152,
    "start_time": "2024-04-11T19:36:06.036Z"
   },
   {
    "duration": 97,
    "start_time": "2024-04-11T19:36:20.879Z"
   },
   {
    "duration": 95,
    "start_time": "2024-04-11T19:36:32.488Z"
   },
   {
    "duration": 2731,
    "start_time": "2024-04-11T19:40:34.091Z"
   },
   {
    "duration": 2391,
    "start_time": "2024-04-11T19:40:59.678Z"
   },
   {
    "duration": 2901,
    "start_time": "2024-04-11T19:41:17.346Z"
   },
   {
    "duration": 2582,
    "start_time": "2024-04-11T19:41:20.249Z"
   },
   {
    "duration": 2380,
    "start_time": "2024-04-11T19:42:25.480Z"
   },
   {
    "duration": 2192,
    "start_time": "2024-04-11T19:42:57.795Z"
   },
   {
    "duration": 2868,
    "start_time": "2024-04-11T19:43:08.527Z"
   },
   {
    "duration": 2675,
    "start_time": "2024-04-11T19:43:11.397Z"
   },
   {
    "duration": 2180,
    "start_time": "2024-04-11T19:43:28.255Z"
   },
   {
    "duration": 2845,
    "start_time": "2024-04-11T19:43:38.146Z"
   },
   {
    "duration": 2720,
    "start_time": "2024-04-11T19:43:40.993Z"
   },
   {
    "duration": 2267,
    "start_time": "2024-04-11T19:44:56.271Z"
   },
   {
    "duration": 2244,
    "start_time": "2024-04-11T19:45:35.991Z"
   },
   {
    "duration": 2224,
    "start_time": "2024-04-11T19:46:48.629Z"
   },
   {
    "duration": 2136,
    "start_time": "2024-04-11T19:47:22.478Z"
   },
   {
    "duration": 2783,
    "start_time": "2024-04-11T19:47:46.060Z"
   },
   {
    "duration": 2741,
    "start_time": "2024-04-11T19:47:48.845Z"
   },
   {
    "duration": 2158,
    "start_time": "2024-04-11T19:48:28.240Z"
   },
   {
    "duration": 2165,
    "start_time": "2024-04-11T19:53:19.022Z"
   },
   {
    "duration": 2207,
    "start_time": "2024-04-11T19:54:05.531Z"
   },
   {
    "duration": 2013,
    "start_time": "2024-04-13T05:51:01.371Z"
   },
   {
    "duration": 2184,
    "start_time": "2024-04-13T05:51:17.335Z"
   },
   {
    "duration": 1995,
    "start_time": "2024-04-13T05:51:38.971Z"
   },
   {
    "duration": 2018,
    "start_time": "2024-04-13T09:30:10.797Z"
   },
   {
    "duration": 2791,
    "start_time": "2024-04-13T09:30:40.880Z"
   },
   {
    "duration": 2575,
    "start_time": "2024-04-13T09:30:43.673Z"
   },
   {
    "duration": 2147,
    "start_time": "2024-04-13T09:45:35.990Z"
   },
   {
    "duration": 2213,
    "start_time": "2024-04-13T09:45:49.058Z"
   },
   {
    "duration": 2199,
    "start_time": "2024-04-13T09:46:20.022Z"
   },
   {
    "duration": 2121,
    "start_time": "2024-04-13T09:46:31.969Z"
   },
   {
    "duration": 2471,
    "start_time": "2024-04-13T09:46:43.175Z"
   },
   {
    "duration": 2240,
    "start_time": "2024-04-13T09:46:59.769Z"
   },
   {
    "duration": 2164,
    "start_time": "2024-04-13T09:47:22.084Z"
   },
   {
    "duration": 2235,
    "start_time": "2024-04-13T09:47:50.630Z"
   },
   {
    "duration": 2551,
    "start_time": "2024-04-13T09:48:01.309Z"
   },
   {
    "duration": 2541,
    "start_time": "2024-04-13T09:48:14.393Z"
   },
   {
    "duration": 2789,
    "start_time": "2024-04-13T09:48:23.130Z"
   },
   {
    "duration": 2635,
    "start_time": "2024-04-13T09:48:25.921Z"
   },
   {
    "duration": 2220,
    "start_time": "2024-04-13T09:48:59.252Z"
   },
   {
    "duration": 2731,
    "start_time": "2024-04-13T09:50:32.788Z"
   },
   {
    "duration": 2562,
    "start_time": "2024-04-13T09:50:35.521Z"
   },
   {
    "duration": 2171,
    "start_time": "2024-04-13T09:51:00.425Z"
   },
   {
    "duration": 2222,
    "start_time": "2024-04-13T09:51:08.302Z"
   },
   {
    "duration": 2796,
    "start_time": "2024-04-13T09:57:40.799Z"
   },
   {
    "duration": 2555,
    "start_time": "2024-04-13T09:57:43.597Z"
   },
   {
    "duration": 2558,
    "start_time": "2024-04-13T09:58:45.015Z"
   },
   {
    "duration": 2765,
    "start_time": "2024-04-13T09:59:08.394Z"
   },
   {
    "duration": 2494,
    "start_time": "2024-04-13T09:59:11.161Z"
   },
   {
    "duration": 2582,
    "start_time": "2024-04-13T10:15:23.443Z"
   },
   {
    "duration": 2755,
    "start_time": "2024-04-13T10:15:36.760Z"
   },
   {
    "duration": 2607,
    "start_time": "2024-04-13T10:15:39.517Z"
   },
   {
    "duration": 2870,
    "start_time": "2024-04-13T10:18:45.994Z"
   },
   {
    "duration": 2754,
    "start_time": "2024-04-13T10:19:05.866Z"
   },
   {
    "duration": 3061,
    "start_time": "2024-04-13T10:19:16.514Z"
   },
   {
    "duration": 2809,
    "start_time": "2024-04-13T10:19:19.578Z"
   },
   {
    "duration": 2774,
    "start_time": "2024-04-13T10:28:31.917Z"
   },
   {
    "duration": 2569,
    "start_time": "2024-04-13T10:28:34.693Z"
   },
   {
    "duration": 2584,
    "start_time": "2024-04-13T10:32:08.459Z"
   },
   {
    "duration": 2755,
    "start_time": "2024-04-13T10:32:16.348Z"
   },
   {
    "duration": 2608,
    "start_time": "2024-04-13T10:32:19.105Z"
   },
   {
    "duration": 2508,
    "start_time": "2024-04-13T10:32:36.318Z"
   },
   {
    "duration": 2733,
    "start_time": "2024-04-13T10:32:47.282Z"
   },
   {
    "duration": 2574,
    "start_time": "2024-04-13T10:32:50.017Z"
   },
   {
    "duration": 2589,
    "start_time": "2024-04-13T10:33:22.093Z"
   },
   {
    "duration": 2855,
    "start_time": "2024-04-13T10:33:41.336Z"
   },
   {
    "duration": 2629,
    "start_time": "2024-04-13T10:33:44.193Z"
   },
   {
    "duration": 2690,
    "start_time": "2024-04-13T10:43:57.017Z"
   },
   {
    "duration": 2636,
    "start_time": "2024-04-13T10:43:59.709Z"
   },
   {
    "duration": 5,
    "start_time": "2024-04-13T11:35:06.281Z"
   },
   {
    "duration": 6,
    "start_time": "2024-04-13T11:35:14.833Z"
   },
   {
    "duration": 78,
    "start_time": "2024-04-13T13:10:49.780Z"
   },
   {
    "duration": 14,
    "start_time": "2024-04-13T13:11:02.023Z"
   },
   {
    "duration": 10,
    "start_time": "2024-04-13T13:11:07.567Z"
   },
   {
    "duration": 13,
    "start_time": "2024-04-13T13:11:19.142Z"
   },
   {
    "duration": 2754,
    "start_time": "2024-04-13T13:13:13.401Z"
   },
   {
    "duration": 80,
    "start_time": "2024-04-13T13:13:16.157Z"
   },
   {
    "duration": 0,
    "start_time": "2024-04-13T13:13:16.239Z"
   },
   {
    "duration": 2823,
    "start_time": "2024-04-13T13:14:20.691Z"
   },
   {
    "duration": 2807,
    "start_time": "2024-04-13T13:14:41.724Z"
   },
   {
    "duration": 2886,
    "start_time": "2024-04-13T13:14:44.533Z"
   },
   {
    "duration": 8,
    "start_time": "2024-04-13T13:14:47.421Z"
   },
   {
    "duration": 13,
    "start_time": "2024-04-13T13:19:47.396Z"
   },
   {
    "duration": 15,
    "start_time": "2024-04-13T13:19:58.233Z"
   },
   {
    "duration": 17,
    "start_time": "2024-04-13T13:24:55.648Z"
   },
   {
    "duration": 38,
    "start_time": "2024-04-13T13:25:05.940Z"
   },
   {
    "duration": 18,
    "start_time": "2024-04-13T13:40:06.474Z"
   },
   {
    "duration": 93,
    "start_time": "2024-04-13T13:44:41.069Z"
   },
   {
    "duration": 22,
    "start_time": "2024-04-13T13:44:51.707Z"
   },
   {
    "duration": 252,
    "start_time": "2024-04-13T13:45:15.199Z"
   },
   {
    "duration": 174,
    "start_time": "2024-04-13T13:50:31.488Z"
   },
   {
    "duration": 245,
    "start_time": "2024-04-13T13:50:58.989Z"
   },
   {
    "duration": 2758,
    "start_time": "2024-04-13T13:51:39.597Z"
   },
   {
    "duration": 2824,
    "start_time": "2024-04-13T13:51:42.357Z"
   },
   {
    "duration": 245,
    "start_time": "2024-04-13T13:51:45.183Z"
   },
   {
    "duration": 378,
    "start_time": "2024-04-13T14:10:02.963Z"
   },
   {
    "duration": 2926,
    "start_time": "2024-04-13T14:10:23.953Z"
   },
   {
    "duration": 3060,
    "start_time": "2024-04-13T14:10:26.881Z"
   },
   {
    "duration": 364,
    "start_time": "2024-04-13T14:10:29.943Z"
   },
   {
    "duration": 2798,
    "start_time": "2024-04-13T14:12:08.869Z"
   },
   {
    "duration": 2739,
    "start_time": "2024-04-13T14:12:11.669Z"
   },
   {
    "duration": 252,
    "start_time": "2024-04-13T14:12:14.410Z"
   },
   {
    "duration": 2585,
    "start_time": "2024-04-13T14:12:42.474Z"
   },
   {
    "duration": 2909,
    "start_time": "2024-04-13T14:14:30.170Z"
   },
   {
    "duration": 2844,
    "start_time": "2024-04-13T14:14:33.081Z"
   },
   {
    "duration": 0,
    "start_time": "2024-04-13T14:14:35.926Z"
   },
   {
    "duration": 2823,
    "start_time": "2024-04-13T14:18:00.404Z"
   },
   {
    "duration": 2775,
    "start_time": "2024-04-13T14:18:03.229Z"
   },
   {
    "duration": 265,
    "start_time": "2024-04-13T14:18:06.006Z"
   },
   {
    "duration": 2650,
    "start_time": "2024-04-13T14:18:23.400Z"
   },
   {
    "duration": 2671,
    "start_time": "2024-04-13T14:19:14.209Z"
   },
   {
    "duration": 2598,
    "start_time": "2024-04-13T14:19:40.150Z"
   },
   {
    "duration": 2358,
    "start_time": "2024-04-13T14:21:06.262Z"
   },
   {
    "duration": 2258,
    "start_time": "2024-04-13T14:21:53.182Z"
   },
   {
    "duration": 2277,
    "start_time": "2024-04-13T14:22:53.368Z"
   },
   {
    "duration": 2209,
    "start_time": "2024-04-13T14:23:02.169Z"
   },
   {
    "duration": 2311,
    "start_time": "2024-04-13T14:24:03.912Z"
   },
   {
    "duration": 2236,
    "start_time": "2024-04-13T14:29:15.903Z"
   },
   {
    "duration": 2243,
    "start_time": "2024-04-13T14:29:27.737Z"
   },
   {
    "duration": 2354,
    "start_time": "2024-04-13T14:29:42.074Z"
   },
   {
    "duration": 2284,
    "start_time": "2024-04-13T14:31:03.240Z"
   },
   {
    "duration": 2275,
    "start_time": "2024-04-13T14:31:22.182Z"
   },
   {
    "duration": 2275,
    "start_time": "2024-04-14T08:00:35.138Z"
   },
   {
    "duration": 2302,
    "start_time": "2024-04-14T08:02:00.494Z"
   },
   {
    "duration": 2226,
    "start_time": "2024-04-14T08:04:03.240Z"
   },
   {
    "duration": 17456,
    "start_time": "2024-04-14T08:04:08.949Z"
   },
   {
    "duration": 0,
    "start_time": "2024-04-14T08:04:26.408Z"
   },
   {
    "duration": 0,
    "start_time": "2024-04-14T08:04:26.411Z"
   },
   {
    "duration": 105,
    "start_time": "2024-04-14T08:05:43.141Z"
   },
   {
    "duration": 0,
    "start_time": "2024-04-14T08:05:43.248Z"
   },
   {
    "duration": 0,
    "start_time": "2024-04-14T08:05:43.249Z"
   },
   {
    "duration": 19692,
    "start_time": "2024-04-14T08:05:51.613Z"
   },
   {
    "duration": 0,
    "start_time": "2024-04-14T08:06:11.307Z"
   },
   {
    "duration": 0,
    "start_time": "2024-04-14T08:06:11.308Z"
   },
   {
    "duration": 2181,
    "start_time": "2024-04-14T08:06:47.493Z"
   },
   {
    "duration": 0,
    "start_time": "2024-04-14T08:06:49.676Z"
   },
   {
    "duration": 0,
    "start_time": "2024-04-14T08:06:49.677Z"
   },
   {
    "duration": 2224,
    "start_time": "2024-04-14T08:06:58.227Z"
   },
   {
    "duration": 0,
    "start_time": "2024-04-14T08:07:00.453Z"
   },
   {
    "duration": 0,
    "start_time": "2024-04-14T08:07:00.458Z"
   },
   {
    "duration": 2294,
    "start_time": "2024-04-14T08:07:59.426Z"
   },
   {
    "duration": 0,
    "start_time": "2024-04-14T08:08:01.722Z"
   },
   {
    "duration": 0,
    "start_time": "2024-04-14T08:08:01.723Z"
   },
   {
    "duration": 181,
    "start_time": "2024-04-14T08:08:12.841Z"
   },
   {
    "duration": 889,
    "start_time": "2024-04-14T08:08:19.094Z"
   },
   {
    "duration": 2989,
    "start_time": "2024-04-14T08:08:19.985Z"
   },
   {
    "duration": 0,
    "start_time": "2024-04-14T08:08:22.975Z"
   },
   {
    "duration": 1417,
    "start_time": "2024-04-14T08:10:36.613Z"
   },
   {
    "duration": 8718,
    "start_time": "2024-04-14T08:26:13.117Z"
   },
   {
    "duration": 2762,
    "start_time": "2024-04-14T08:26:30.145Z"
   },
   {
    "duration": 2937,
    "start_time": "2024-04-14T08:26:32.909Z"
   },
   {
    "duration": 0,
    "start_time": "2024-04-14T08:26:35.848Z"
   },
   {
    "duration": 92,
    "start_time": "2024-04-14T08:37:52.814Z"
   },
   {
    "duration": 2296,
    "start_time": "2024-04-14T08:37:57.026Z"
   },
   {
    "duration": 2332,
    "start_time": "2024-04-14T08:38:41.117Z"
   },
   {
    "duration": 2332,
    "start_time": "2024-04-14T08:38:48.925Z"
   },
   {
    "duration": 2430,
    "start_time": "2024-04-14T08:40:34.783Z"
   },
   {
    "duration": 2339,
    "start_time": "2024-04-14T08:40:43.974Z"
   },
   {
    "duration": 2380,
    "start_time": "2024-04-14T08:40:59.366Z"
   },
   {
    "duration": 2360,
    "start_time": "2024-04-14T08:41:08.484Z"
   },
   {
    "duration": 2396,
    "start_time": "2024-04-14T08:41:23.191Z"
   },
   {
    "duration": 2344,
    "start_time": "2024-04-14T08:44:33.552Z"
   },
   {
    "duration": 2697,
    "start_time": "2024-04-14T08:45:18.406Z"
   },
   {
    "duration": 2951,
    "start_time": "2024-04-14T08:45:21.105Z"
   },
   {
    "duration": 260,
    "start_time": "2024-04-14T08:45:24.058Z"
   },
   {
    "duration": 2385,
    "start_time": "2024-04-14T08:48:10.073Z"
   },
   {
    "duration": 2403,
    "start_time": "2024-04-14T08:48:55.584Z"
   },
   {
    "duration": 2745,
    "start_time": "2024-04-14T08:49:22.146Z"
   },
   {
    "duration": 2937,
    "start_time": "2024-04-14T08:49:24.893Z"
   },
   {
    "duration": 256,
    "start_time": "2024-04-14T08:49:27.832Z"
   },
   {
    "duration": 313,
    "start_time": "2024-04-14T08:51:33.721Z"
   },
   {
    "duration": 232,
    "start_time": "2024-04-14T08:51:36.498Z"
   },
   {
    "duration": 2659,
    "start_time": "2024-04-14T08:51:47.968Z"
   },
   {
    "duration": 2860,
    "start_time": "2024-04-14T08:51:50.630Z"
   },
   {
    "duration": 247,
    "start_time": "2024-04-14T08:51:53.491Z"
   },
   {
    "duration": 2641,
    "start_time": "2024-04-14T08:52:15.710Z"
   },
   {
    "duration": 2928,
    "start_time": "2024-04-14T08:52:18.354Z"
   },
   {
    "duration": 271,
    "start_time": "2024-04-14T08:52:21.283Z"
   },
   {
    "duration": 2652,
    "start_time": "2024-04-14T08:56:43.023Z"
   },
   {
    "duration": 2862,
    "start_time": "2024-04-14T08:56:45.677Z"
   },
   {
    "duration": 266,
    "start_time": "2024-04-14T08:56:48.540Z"
   },
   {
    "duration": 336,
    "start_time": "2024-04-14T08:59:14.297Z"
   },
   {
    "duration": 328,
    "start_time": "2024-04-14T08:59:31.057Z"
   },
   {
    "duration": 2343,
    "start_time": "2024-04-14T09:03:09.175Z"
   },
   {
    "duration": 2643,
    "start_time": "2024-04-14T09:03:13.772Z"
   },
   {
    "duration": 2889,
    "start_time": "2024-04-14T09:03:16.418Z"
   },
   {
    "duration": 356,
    "start_time": "2024-04-14T09:03:19.309Z"
   },
   {
    "duration": 2723,
    "start_time": "2024-04-14T09:05:11.772Z"
   },
   {
    "duration": 2870,
    "start_time": "2024-04-14T09:05:14.497Z"
   },
   {
    "duration": 349,
    "start_time": "2024-04-14T09:05:17.369Z"
   },
   {
    "duration": 2641,
    "start_time": "2024-04-14T09:07:02.490Z"
   },
   {
    "duration": 2989,
    "start_time": "2024-04-14T09:07:05.133Z"
   },
   {
    "duration": 394,
    "start_time": "2024-04-14T09:07:08.123Z"
   },
   {
    "duration": 2610,
    "start_time": "2024-04-14T09:09:57.373Z"
   },
   {
    "duration": 3033,
    "start_time": "2024-04-14T09:09:59.985Z"
   },
   {
    "duration": 396,
    "start_time": "2024-04-14T09:10:03.019Z"
   },
   {
    "duration": 2669,
    "start_time": "2024-04-14T09:10:50.642Z"
   },
   {
    "duration": 2816,
    "start_time": "2024-04-14T09:10:53.313Z"
   },
   {
    "duration": 333,
    "start_time": "2024-04-14T09:10:56.130Z"
   },
   {
    "duration": 2612,
    "start_time": "2024-04-14T09:12:51.603Z"
   },
   {
    "duration": 83,
    "start_time": "2024-04-14T09:12:54.217Z"
   },
   {
    "duration": 0,
    "start_time": "2024-04-14T09:12:54.302Z"
   },
   {
    "duration": 2669,
    "start_time": "2024-04-14T09:13:21.034Z"
   },
   {
    "duration": 3060,
    "start_time": "2024-04-14T09:13:23.705Z"
   },
   {
    "duration": 384,
    "start_time": "2024-04-14T09:13:26.766Z"
   },
   {
    "duration": 311,
    "start_time": "2024-04-14T09:14:06.163Z"
   },
   {
    "duration": 2766,
    "start_time": "2024-04-14T09:15:01.945Z"
   },
   {
    "duration": 2975,
    "start_time": "2024-04-14T09:15:04.713Z"
   },
   {
    "duration": 416,
    "start_time": "2024-04-14T09:15:07.689Z"
   },
   {
    "duration": 2677,
    "start_time": "2024-04-14T09:15:25.922Z"
   },
   {
    "duration": 2936,
    "start_time": "2024-04-14T09:15:28.602Z"
   },
   {
    "duration": 359,
    "start_time": "2024-04-14T09:15:31.539Z"
   },
   {
    "duration": 2703,
    "start_time": "2024-04-14T09:16:11.252Z"
   },
   {
    "duration": 2989,
    "start_time": "2024-04-14T09:16:13.957Z"
   },
   {
    "duration": 414,
    "start_time": "2024-04-14T09:16:16.948Z"
   },
   {
    "duration": 2594,
    "start_time": "2024-04-14T09:16:37.713Z"
   },
   {
    "duration": 2911,
    "start_time": "2024-04-14T09:16:40.310Z"
   },
   {
    "duration": 348,
    "start_time": "2024-04-14T09:16:43.223Z"
   },
   {
    "duration": 2725,
    "start_time": "2024-04-14T09:17:23.202Z"
   },
   {
    "duration": 2840,
    "start_time": "2024-04-14T09:17:25.929Z"
   },
   {
    "duration": 343,
    "start_time": "2024-04-14T09:17:28.770Z"
   },
   {
    "duration": 2765,
    "start_time": "2024-04-14T09:17:59.678Z"
   },
   {
    "duration": 2862,
    "start_time": "2024-04-14T09:18:02.446Z"
   },
   {
    "duration": 355,
    "start_time": "2024-04-14T09:18:05.309Z"
   },
   {
    "duration": 2767,
    "start_time": "2024-04-14T10:39:58.520Z"
   },
   {
    "duration": 2961,
    "start_time": "2024-04-14T10:40:01.289Z"
   },
   {
    "duration": 344,
    "start_time": "2024-04-14T10:40:04.252Z"
   },
   {
    "duration": 2933,
    "start_time": "2024-04-14T10:41:29.534Z"
   },
   {
    "duration": 2766,
    "start_time": "2024-04-14T10:52:09.937Z"
   },
   {
    "duration": 2934,
    "start_time": "2024-04-14T10:52:12.705Z"
   },
   {
    "duration": 2813,
    "start_time": "2024-04-14T10:52:15.640Z"
   },
   {
    "duration": 9,
    "start_time": "2024-04-14T10:54:01.405Z"
   },
   {
    "duration": 2784,
    "start_time": "2024-04-14T10:58:38.435Z"
   },
   {
    "duration": 9,
    "start_time": "2024-04-14T10:58:41.222Z"
   },
   {
    "duration": 0,
    "start_time": "2024-04-14T10:58:41.233Z"
   },
   {
    "duration": 2705,
    "start_time": "2024-04-14T10:59:56.466Z"
   },
   {
    "duration": 3115,
    "start_time": "2024-04-14T10:59:59.173Z"
   },
   {
    "duration": 3014,
    "start_time": "2024-04-14T11:00:02.289Z"
   },
   {
    "duration": 2786,
    "start_time": "2024-04-14T11:00:24.665Z"
   },
   {
    "duration": 3047,
    "start_time": "2024-04-14T11:00:27.453Z"
   },
   {
    "duration": 2997,
    "start_time": "2024-04-14T11:00:30.502Z"
   },
   {
    "duration": 2732,
    "start_time": "2024-04-14T11:07:13.471Z"
   },
   {
    "duration": 2905,
    "start_time": "2024-04-14T11:07:16.205Z"
   },
   {
    "duration": 2886,
    "start_time": "2024-04-14T11:07:19.112Z"
   },
   {
    "duration": 3046,
    "start_time": "2024-04-14T11:08:25.041Z"
   },
   {
    "duration": 3337,
    "start_time": "2024-04-14T11:08:28.089Z"
   },
   {
    "duration": 2969,
    "start_time": "2024-04-14T11:08:31.427Z"
   },
   {
    "duration": 2990,
    "start_time": "2024-04-14T11:09:18.101Z"
   },
   {
    "duration": 3358,
    "start_time": "2024-04-14T11:09:21.094Z"
   },
   {
    "duration": 3319,
    "start_time": "2024-04-14T11:09:24.454Z"
   },
   {
    "duration": 2934,
    "start_time": "2024-04-14T11:09:53.078Z"
   },
   {
    "duration": 3194,
    "start_time": "2024-04-14T11:09:56.015Z"
   },
   {
    "duration": 3306,
    "start_time": "2024-04-14T11:09:59.211Z"
   },
   {
    "duration": 3061,
    "start_time": "2024-04-14T11:10:41.937Z"
   },
   {
    "duration": 3148,
    "start_time": "2024-04-14T11:10:45.000Z"
   },
   {
    "duration": 3075,
    "start_time": "2024-04-14T11:10:48.149Z"
   },
   {
    "duration": 2916,
    "start_time": "2024-04-14T11:11:00.703Z"
   },
   {
    "duration": 3255,
    "start_time": "2024-04-14T11:11:03.622Z"
   },
   {
    "duration": 3066,
    "start_time": "2024-04-14T11:11:06.879Z"
   },
   {
    "duration": 155,
    "start_time": "2024-04-14T11:16:08.502Z"
   },
   {
    "duration": 326,
    "start_time": "2024-04-14T11:16:14.780Z"
   },
   {
    "duration": 245,
    "start_time": "2024-04-14T11:17:20.957Z"
   },
   {
    "duration": 244,
    "start_time": "2024-04-14T11:17:31.997Z"
   },
   {
    "duration": 255,
    "start_time": "2024-04-14T11:18:30.055Z"
   },
   {
    "duration": 177,
    "start_time": "2024-04-14T11:18:38.629Z"
   },
   {
    "duration": 233,
    "start_time": "2024-04-14T11:18:44.812Z"
   },
   {
    "duration": 440,
    "start_time": "2024-04-14T11:21:05.092Z"
   },
   {
    "duration": 306,
    "start_time": "2024-04-14T11:22:57.224Z"
   },
   {
    "duration": 311,
    "start_time": "2024-04-14T11:23:08.042Z"
   },
   {
    "duration": 226,
    "start_time": "2024-04-14T11:23:11.187Z"
   },
   {
    "duration": 321,
    "start_time": "2024-04-14T11:23:22.508Z"
   },
   {
    "duration": 291,
    "start_time": "2024-04-14T11:23:27.508Z"
   },
   {
    "duration": 246,
    "start_time": "2024-04-14T11:23:33.649Z"
   },
   {
    "duration": 227,
    "start_time": "2024-04-14T11:23:39.628Z"
   },
   {
    "duration": 303,
    "start_time": "2024-04-14T11:23:44.471Z"
   },
   {
    "duration": 383,
    "start_time": "2024-04-14T11:24:22.163Z"
   },
   {
    "duration": 316,
    "start_time": "2024-04-14T11:26:04.827Z"
   },
   {
    "duration": 310,
    "start_time": "2024-04-14T11:26:14.502Z"
   },
   {
    "duration": 240,
    "start_time": "2024-04-14T11:26:18.215Z"
   },
   {
    "duration": 480,
    "start_time": "2024-04-14T11:26:31.440Z"
   },
   {
    "duration": 312,
    "start_time": "2024-04-14T11:27:42.663Z"
   },
   {
    "duration": 320,
    "start_time": "2024-04-14T11:28:05.944Z"
   },
   {
    "duration": 235,
    "start_time": "2024-04-14T11:28:11.903Z"
   },
   {
    "duration": 308,
    "start_time": "2024-04-14T11:28:16.965Z"
   },
   {
    "duration": 127,
    "start_time": "2024-04-14T11:28:19.324Z"
   },
   {
    "duration": 136,
    "start_time": "2024-04-14T11:28:31.589Z"
   },
   {
    "duration": 134,
    "start_time": "2024-04-14T11:28:37.642Z"
   },
   {
    "duration": 142,
    "start_time": "2024-04-14T11:29:18.803Z"
   },
   {
    "duration": 116,
    "start_time": "2024-04-14T11:29:22.415Z"
   },
   {
    "duration": 118,
    "start_time": "2024-04-14T11:29:43.020Z"
   },
   {
    "duration": 162,
    "start_time": "2024-04-14T11:29:47.644Z"
   },
   {
    "duration": 105,
    "start_time": "2024-04-14T11:29:58.797Z"
   },
   {
    "duration": 220,
    "start_time": "2024-04-14T11:30:12.176Z"
   },
   {
    "duration": 294,
    "start_time": "2024-04-14T11:30:22.749Z"
   },
   {
    "duration": 221,
    "start_time": "2024-04-14T11:30:33.059Z"
   },
   {
    "duration": 231,
    "start_time": "2024-04-14T11:30:55.085Z"
   },
   {
    "duration": 272,
    "start_time": "2024-04-14T11:31:02.240Z"
   },
   {
    "duration": 226,
    "start_time": "2024-04-14T11:33:42.049Z"
   },
   {
    "duration": 317,
    "start_time": "2024-04-14T11:33:52.422Z"
   },
   {
    "duration": 248,
    "start_time": "2024-04-14T11:34:03.229Z"
   },
   {
    "duration": 225,
    "start_time": "2024-04-14T11:34:06.570Z"
   },
   {
    "duration": 362,
    "start_time": "2024-04-14T11:34:58.326Z"
   },
   {
    "duration": 245,
    "start_time": "2024-04-14T11:35:04.088Z"
   },
   {
    "duration": 324,
    "start_time": "2024-04-14T11:35:13.352Z"
   },
   {
    "duration": 227,
    "start_time": "2024-04-14T11:35:21.572Z"
   },
   {
    "duration": 351,
    "start_time": "2024-04-14T11:35:26.347Z"
   },
   {
    "duration": 354,
    "start_time": "2024-04-14T11:35:29.760Z"
   },
   {
    "duration": 173,
    "start_time": "2024-04-14T11:35:37.972Z"
   },
   {
    "duration": 138,
    "start_time": "2024-04-14T11:35:44.499Z"
   },
   {
    "duration": 211,
    "start_time": "2024-04-14T11:35:52.535Z"
   },
   {
    "duration": 129,
    "start_time": "2024-04-14T11:35:57.555Z"
   },
   {
    "duration": 136,
    "start_time": "2024-04-14T11:36:07.307Z"
   },
   {
    "duration": 134,
    "start_time": "2024-04-14T11:36:29.609Z"
   },
   {
    "duration": 133,
    "start_time": "2024-04-14T11:36:33.365Z"
   },
   {
    "duration": 117,
    "start_time": "2024-04-14T11:36:38.620Z"
   },
   {
    "duration": 147,
    "start_time": "2024-04-14T11:38:15.048Z"
   },
   {
    "duration": 232,
    "start_time": "2024-04-14T11:38:24.511Z"
   },
   {
    "duration": 135,
    "start_time": "2024-04-14T11:38:28.792Z"
   },
   {
    "duration": 137,
    "start_time": "2024-04-14T11:38:33.785Z"
   },
   {
    "duration": 230,
    "start_time": "2024-04-14T11:38:37.854Z"
   },
   {
    "duration": 150,
    "start_time": "2024-04-14T11:38:45.264Z"
   },
   {
    "duration": 141,
    "start_time": "2024-04-14T11:38:50.095Z"
   },
   {
    "duration": 144,
    "start_time": "2024-04-14T11:39:50.076Z"
   },
   {
    "duration": 270,
    "start_time": "2024-04-14T11:40:22.663Z"
   },
   {
    "duration": 215,
    "start_time": "2024-04-14T11:41:06.483Z"
   },
   {
    "duration": 246,
    "start_time": "2024-04-14T11:41:10.829Z"
   },
   {
    "duration": 343,
    "start_time": "2024-04-14T11:41:14.759Z"
   },
   {
    "duration": 241,
    "start_time": "2024-04-14T11:41:21.257Z"
   },
   {
    "duration": 195,
    "start_time": "2024-04-14T11:47:03.804Z"
   },
   {
    "duration": 196,
    "start_time": "2024-04-14T11:47:08.828Z"
   },
   {
    "duration": 221,
    "start_time": "2024-04-14T11:47:33.508Z"
   },
   {
    "duration": 190,
    "start_time": "2024-04-14T11:47:39.311Z"
   },
   {
    "duration": 216,
    "start_time": "2024-04-14T11:47:42.355Z"
   },
   {
    "duration": 2979,
    "start_time": "2024-04-14T11:51:31.888Z"
   },
   {
    "duration": 3130,
    "start_time": "2024-04-14T11:51:34.869Z"
   },
   {
    "duration": 2946,
    "start_time": "2024-04-14T11:51:38.001Z"
   },
   {
    "duration": 450,
    "start_time": "2024-04-14T11:51:40.949Z"
   },
   {
    "duration": 332,
    "start_time": "2024-04-14T11:51:41.401Z"
   },
   {
    "duration": 370,
    "start_time": "2024-04-14T11:51:41.734Z"
   },
   {
    "duration": 247,
    "start_time": "2024-04-14T11:51:42.107Z"
   },
   {
    "duration": 123,
    "start_time": "2024-04-14T11:51:42.358Z"
   },
   {
    "duration": 328,
    "start_time": "2024-04-14T11:51:42.483Z"
   },
   {
    "duration": 104,
    "start_time": "2024-04-14T11:51:42.813Z"
   },
   {
    "duration": 136,
    "start_time": "2024-04-14T11:54:11.948Z"
   },
   {
    "duration": 180,
    "start_time": "2024-04-14T11:55:51.471Z"
   },
   {
    "duration": 492,
    "start_time": "2024-04-14T11:56:09.602Z"
   },
   {
    "duration": 448,
    "start_time": "2024-04-14T11:56:46.725Z"
   },
   {
    "duration": 125,
    "start_time": "2024-04-14T12:56:40.160Z"
   },
   {
    "duration": 2782,
    "start_time": "2024-04-15T14:28:21.017Z"
   },
   {
    "duration": 2944,
    "start_time": "2024-04-15T14:28:23.802Z"
   },
   {
    "duration": 2929,
    "start_time": "2024-04-15T14:28:26.748Z"
   },
   {
    "duration": 404,
    "start_time": "2024-04-15T14:28:29.679Z"
   },
   {
    "duration": 348,
    "start_time": "2024-04-15T14:28:30.084Z"
   },
   {
    "duration": 335,
    "start_time": "2024-04-15T14:28:30.434Z"
   },
   {
    "duration": 242,
    "start_time": "2024-04-15T14:28:30.770Z"
   },
   {
    "duration": 155,
    "start_time": "2024-04-15T14:28:31.014Z"
   },
   {
    "duration": 467,
    "start_time": "2024-04-15T14:28:31.171Z"
   },
   {
    "duration": 134,
    "start_time": "2024-04-15T14:28:31.640Z"
   },
   {
    "duration": 123,
    "start_time": "2024-04-15T14:30:00.397Z"
   },
   {
    "duration": 214,
    "start_time": "2024-04-15T14:30:06.152Z"
   },
   {
    "duration": 125,
    "start_time": "2024-04-15T14:30:11.484Z"
   },
   {
    "duration": 122,
    "start_time": "2024-04-15T14:30:17.527Z"
   },
   {
    "duration": 122,
    "start_time": "2024-04-15T14:30:20.559Z"
   },
   {
    "duration": 112,
    "start_time": "2024-04-15T14:30:24.519Z"
   },
   {
    "duration": 213,
    "start_time": "2024-04-15T16:53:37.377Z"
   },
   {
    "duration": 536,
    "start_time": "2024-04-15T16:54:31.351Z"
   },
   {
    "duration": 399,
    "start_time": "2024-04-15T16:54:57.664Z"
   },
   {
    "duration": 395,
    "start_time": "2024-04-15T16:55:13.032Z"
   },
   {
    "duration": 117,
    "start_time": "2024-04-15T16:55:25.941Z"
   },
   {
    "duration": 111,
    "start_time": "2024-04-15T16:55:40.623Z"
   },
   {
    "duration": 458,
    "start_time": "2024-04-15T16:57:05.206Z"
   },
   {
    "duration": 463,
    "start_time": "2024-04-15T16:59:17.222Z"
   },
   {
    "duration": 1398,
    "start_time": "2024-04-15T16:59:22.996Z"
   },
   {
    "duration": 1380,
    "start_time": "2024-04-15T16:59:34.777Z"
   },
   {
    "duration": 1360,
    "start_time": "2024-04-15T17:00:48.141Z"
   },
   {
    "duration": 109,
    "start_time": "2024-04-15T17:01:00.022Z"
   },
   {
    "duration": 97,
    "start_time": "2024-04-15T17:01:14.106Z"
   },
   {
    "duration": 296,
    "start_time": "2024-04-15T17:01:27.697Z"
   },
   {
    "duration": 543,
    "start_time": "2024-04-15T17:02:02.966Z"
   },
   {
    "duration": 459,
    "start_time": "2024-04-15T17:02:13.060Z"
   },
   {
    "duration": 440,
    "start_time": "2024-04-15T17:02:18.974Z"
   },
   {
    "duration": 262,
    "start_time": "2024-04-15T17:02:28.020Z"
   },
   {
    "duration": 1427,
    "start_time": "2024-04-15T17:02:42.200Z"
   },
   {
    "duration": 1406,
    "start_time": "2024-04-15T17:02:52.373Z"
   },
   {
    "duration": 1455,
    "start_time": "2024-04-15T17:03:13.855Z"
   },
   {
    "duration": 292,
    "start_time": "2024-04-15T17:03:26.735Z"
   },
   {
    "duration": 323,
    "start_time": "2024-04-15T17:05:06.467Z"
   },
   {
    "duration": 464,
    "start_time": "2024-04-15T17:05:13.916Z"
   },
   {
    "duration": 420,
    "start_time": "2024-04-15T17:06:24.418Z"
   },
   {
    "duration": 138,
    "start_time": "2024-04-15T17:06:31.088Z"
   },
   {
    "duration": 313,
    "start_time": "2024-04-15T17:06:41.482Z"
   },
   {
    "duration": 2839,
    "start_time": "2024-04-15T17:09:14.540Z"
   },
   {
    "duration": 2936,
    "start_time": "2024-04-15T17:09:17.382Z"
   },
   {
    "duration": 2847,
    "start_time": "2024-04-15T17:09:20.319Z"
   },
   {
    "duration": 470,
    "start_time": "2024-04-15T17:09:23.168Z"
   },
   {
    "duration": 325,
    "start_time": "2024-04-15T17:09:23.640Z"
   },
   {
    "duration": 329,
    "start_time": "2024-04-15T17:09:23.966Z"
   },
   {
    "duration": 237,
    "start_time": "2024-04-15T17:09:24.296Z"
   },
   {
    "duration": 320,
    "start_time": "2024-04-15T17:09:24.535Z"
   },
   {
    "duration": 320,
    "start_time": "2024-04-15T17:09:24.857Z"
   },
   {
    "duration": 277,
    "start_time": "2024-04-15T17:09:25.178Z"
   },
   {
    "duration": 140,
    "start_time": "2024-04-15T17:12:31.236Z"
   },
   {
    "duration": 147,
    "start_time": "2024-04-15T17:12:35.111Z"
   },
   {
    "duration": 165,
    "start_time": "2024-04-15T17:12:40.385Z"
   },
   {
    "duration": 230,
    "start_time": "2024-04-15T17:12:50.828Z"
   },
   {
    "duration": 2,
    "start_time": "2024-04-15T17:14:17.680Z"
   },
   {
    "duration": 8,
    "start_time": "2024-04-15T17:15:50.503Z"
   },
   {
    "duration": 114,
    "start_time": "2024-04-15T17:16:39.687Z"
   },
   {
    "duration": 219,
    "start_time": "2024-04-15T17:16:52.660Z"
   },
   {
    "duration": 209,
    "start_time": "2024-04-15T17:17:02.626Z"
   },
   {
    "duration": 129,
    "start_time": "2024-04-15T17:17:08.951Z"
   },
   {
    "duration": 217,
    "start_time": "2024-04-15T17:17:11.831Z"
   },
   {
    "duration": 2897,
    "start_time": "2024-04-15T17:17:43.534Z"
   },
   {
    "duration": 3072,
    "start_time": "2024-04-15T17:17:46.433Z"
   },
   {
    "duration": 2928,
    "start_time": "2024-04-15T17:17:49.506Z"
   },
   {
    "duration": 429,
    "start_time": "2024-04-15T17:17:52.436Z"
   },
   {
    "duration": 335,
    "start_time": "2024-04-15T17:17:52.867Z"
   },
   {
    "duration": 329,
    "start_time": "2024-04-15T17:17:53.204Z"
   },
   {
    "duration": 253,
    "start_time": "2024-04-15T17:17:53.534Z"
   },
   {
    "duration": 310,
    "start_time": "2024-04-15T17:17:53.789Z"
   },
   {
    "duration": 369,
    "start_time": "2024-04-15T17:17:54.100Z"
   },
   {
    "duration": 286,
    "start_time": "2024-04-15T17:17:54.472Z"
   },
   {
    "duration": 220,
    "start_time": "2024-04-15T17:17:54.760Z"
   },
   {
    "duration": 225,
    "start_time": "2024-04-15T17:18:21.502Z"
   },
   {
    "duration": 225,
    "start_time": "2024-04-15T17:18:27.262Z"
   },
   {
    "duration": 224,
    "start_time": "2024-04-15T17:18:30.314Z"
   },
   {
    "duration": 177,
    "start_time": "2024-04-15T17:19:11.266Z"
   },
   {
    "duration": 122,
    "start_time": "2024-04-15T17:19:18.769Z"
   },
   {
    "duration": 130,
    "start_time": "2024-04-15T17:19:29.331Z"
   },
   {
    "duration": 2742,
    "start_time": "2024-04-15T17:19:53.305Z"
   },
   {
    "duration": 2941,
    "start_time": "2024-04-15T17:19:56.049Z"
   },
   {
    "duration": 2978,
    "start_time": "2024-04-15T17:19:58.991Z"
   },
   {
    "duration": 435,
    "start_time": "2024-04-15T17:20:01.971Z"
   },
   {
    "duration": 348,
    "start_time": "2024-04-15T17:20:02.407Z"
   },
   {
    "duration": 325,
    "start_time": "2024-04-15T17:20:02.759Z"
   },
   {
    "duration": 236,
    "start_time": "2024-04-15T17:20:03.085Z"
   },
   {
    "duration": 313,
    "start_time": "2024-04-15T17:20:03.322Z"
   },
   {
    "duration": 344,
    "start_time": "2024-04-15T17:20:03.637Z"
   },
   {
    "duration": 278,
    "start_time": "2024-04-15T17:20:03.983Z"
   },
   {
    "duration": 127,
    "start_time": "2024-04-15T17:20:04.262Z"
   },
   {
    "duration": 203,
    "start_time": "2024-04-15T17:20:14.135Z"
   },
   {
    "duration": 2714,
    "start_time": "2024-04-15T17:20:41.197Z"
   },
   {
    "duration": 2936,
    "start_time": "2024-04-15T17:20:43.913Z"
   },
   {
    "duration": 2811,
    "start_time": "2024-04-15T17:20:46.858Z"
   },
   {
    "duration": 417,
    "start_time": "2024-04-15T17:20:49.671Z"
   },
   {
    "duration": 311,
    "start_time": "2024-04-15T17:20:50.089Z"
   },
   {
    "duration": 336,
    "start_time": "2024-04-15T17:20:50.402Z"
   },
   {
    "duration": 248,
    "start_time": "2024-04-15T17:20:50.740Z"
   },
   {
    "duration": 302,
    "start_time": "2024-04-15T17:20:50.990Z"
   },
   {
    "duration": 336,
    "start_time": "2024-04-15T17:20:51.294Z"
   },
   {
    "duration": 271,
    "start_time": "2024-04-15T17:20:51.632Z"
   },
   {
    "duration": 239,
    "start_time": "2024-04-15T17:20:51.905Z"
   },
   {
    "duration": 230,
    "start_time": "2024-04-15T17:21:27.047Z"
   },
   {
    "duration": 1280,
    "start_time": "2024-04-15T17:21:30.551Z"
   },
   {
    "duration": 733,
    "start_time": "2024-04-15T17:22:08.548Z"
   },
   {
    "duration": 678,
    "start_time": "2024-04-15T17:22:15.785Z"
   },
   {
    "duration": 216,
    "start_time": "2024-04-15T17:22:49.826Z"
   },
   {
    "duration": 312,
    "start_time": "2024-04-15T17:23:27.971Z"
   },
   {
    "duration": 106,
    "start_time": "2024-04-15T17:28:41.207Z"
   },
   {
    "duration": 318,
    "start_time": "2024-04-15T17:28:53.209Z"
   },
   {
    "duration": 91,
    "start_time": "2024-04-15T17:32:20.041Z"
   },
   {
    "duration": 212,
    "start_time": "2024-04-15T17:32:39.278Z"
   },
   {
    "duration": 218,
    "start_time": "2024-04-15T17:32:47.660Z"
   },
   {
    "duration": 226,
    "start_time": "2024-04-15T17:32:59.830Z"
   },
   {
    "duration": 232,
    "start_time": "2024-04-15T17:33:13.390Z"
   },
   {
    "duration": 225,
    "start_time": "2024-04-15T17:33:20.412Z"
   },
   {
    "duration": 386,
    "start_time": "2024-04-15T17:33:31.933Z"
   },
   {
    "duration": 363,
    "start_time": "2024-04-15T17:33:38.108Z"
   },
   {
    "duration": 358,
    "start_time": "2024-04-15T17:34:01.565Z"
   },
   {
    "duration": 216,
    "start_time": "2024-04-15T17:34:11.734Z"
   },
   {
    "duration": 233,
    "start_time": "2024-04-15T17:34:15.470Z"
   },
   {
    "duration": 331,
    "start_time": "2024-04-15T17:34:19.304Z"
   },
   {
    "duration": 589,
    "start_time": "2024-04-15T17:38:26.698Z"
   },
   {
    "duration": 454,
    "start_time": "2024-04-15T17:48:42.447Z"
   },
   {
    "duration": 452,
    "start_time": "2024-04-17T16:32:14.959Z"
   },
   {
    "duration": 1612,
    "start_time": "2024-04-17T16:32:26.175Z"
   },
   {
    "duration": 692,
    "start_time": "2024-04-17T16:32:38.676Z"
   },
   {
    "duration": 515,
    "start_time": "2024-04-17T16:32:42.965Z"
   },
   {
    "duration": 874,
    "start_time": "2024-04-17T16:36:59.373Z"
   },
   {
    "duration": 1100,
    "start_time": "2024-04-17T16:39:58.570Z"
   },
   {
    "duration": 848,
    "start_time": "2024-04-17T16:40:08.433Z"
   },
   {
    "duration": 2740,
    "start_time": "2024-04-17T16:42:19.691Z"
   },
   {
    "duration": 2901,
    "start_time": "2024-04-17T16:42:22.434Z"
   },
   {
    "duration": 2778,
    "start_time": "2024-04-17T16:42:25.338Z"
   },
   {
    "duration": 386,
    "start_time": "2024-04-17T16:42:28.118Z"
   },
   {
    "duration": 300,
    "start_time": "2024-04-17T16:42:28.505Z"
   },
   {
    "duration": 296,
    "start_time": "2024-04-17T16:42:28.807Z"
   },
   {
    "duration": 219,
    "start_time": "2024-04-17T16:42:29.105Z"
   },
   {
    "duration": 286,
    "start_time": "2024-04-17T16:42:29.326Z"
   },
   {
    "duration": 346,
    "start_time": "2024-04-17T16:42:29.614Z"
   },
   {
    "duration": 273,
    "start_time": "2024-04-17T16:42:29.962Z"
   },
   {
    "duration": 803,
    "start_time": "2024-04-17T16:42:30.237Z"
   },
   {
    "duration": 2,
    "start_time": "2024-04-17T16:42:31.042Z"
   },
   {
    "duration": 313,
    "start_time": "2024-04-17T16:55:53.333Z"
   },
   {
    "duration": 210,
    "start_time": "2024-04-17T16:56:02.491Z"
   },
   {
    "duration": 214,
    "start_time": "2024-04-17T16:56:11.733Z"
   },
   {
    "duration": 199,
    "start_time": "2024-04-17T16:56:18.976Z"
   },
   {
    "duration": 194,
    "start_time": "2024-04-17T16:56:23.109Z"
   },
   {
    "duration": 155,
    "start_time": "2024-04-17T16:56:45.400Z"
   },
   {
    "duration": 272,
    "start_time": "2024-04-17T16:56:50.244Z"
   },
   {
    "duration": 94,
    "start_time": "2024-04-17T16:56:52.199Z"
   },
   {
    "duration": 113,
    "start_time": "2024-04-17T16:56:54.697Z"
   },
   {
    "duration": 233,
    "start_time": "2024-04-17T16:57:03.663Z"
   },
   {
    "duration": 126,
    "start_time": "2024-04-17T16:57:07.058Z"
   },
   {
    "duration": 114,
    "start_time": "2024-04-17T17:03:37.046Z"
   },
   {
    "duration": 118,
    "start_time": "2024-04-17T17:03:51.807Z"
   },
   {
    "duration": 215,
    "start_time": "2024-04-17T17:03:55.228Z"
   },
   {
    "duration": 1209,
    "start_time": "2024-04-17T17:03:58.495Z"
   },
   {
    "duration": 1335,
    "start_time": "2024-04-17T17:04:17.057Z"
   },
   {
    "duration": 220,
    "start_time": "2024-04-17T17:04:55.807Z"
   },
   {
    "duration": 11667,
    "start_time": "2024-04-17T17:05:03.268Z"
   },
   {
    "duration": 3143,
    "start_time": "2024-04-17T17:05:15.327Z"
   },
   {
    "duration": 2416,
    "start_time": "2024-04-17T17:07:02.749Z"
   },
   {
    "duration": 421,
    "start_time": "2024-04-17T17:07:23.524Z"
   },
   {
    "duration": 1186,
    "start_time": "2024-04-17T17:07:28.601Z"
   },
   {
    "duration": 119,
    "start_time": "2024-04-17T17:07:34.674Z"
   },
   {
    "duration": 209,
    "start_time": "2024-04-17T17:08:39.638Z"
   },
   {
    "duration": 134,
    "start_time": "2024-04-17T17:08:45.510Z"
   },
   {
    "duration": 2785,
    "start_time": "2024-04-17T17:09:08.834Z"
   },
   {
    "duration": 2970,
    "start_time": "2024-04-17T17:09:11.621Z"
   },
   {
    "duration": 2835,
    "start_time": "2024-04-17T17:09:14.592Z"
   },
   {
    "duration": 427,
    "start_time": "2024-04-17T17:09:17.429Z"
   },
   {
    "duration": 300,
    "start_time": "2024-04-17T17:09:17.858Z"
   },
   {
    "duration": 326,
    "start_time": "2024-04-17T17:09:18.160Z"
   },
   {
    "duration": 250,
    "start_time": "2024-04-17T17:09:18.488Z"
   },
   {
    "duration": 284,
    "start_time": "2024-04-17T17:09:18.740Z"
   },
   {
    "duration": 324,
    "start_time": "2024-04-17T17:09:19.026Z"
   },
   {
    "duration": 291,
    "start_time": "2024-04-17T17:09:19.352Z"
   },
   {
    "duration": 152,
    "start_time": "2024-04-17T17:09:19.645Z"
   },
   {
    "duration": 2351,
    "start_time": "2024-04-17T17:09:19.798Z"
   },
   {
    "duration": 131,
    "start_time": "2024-04-17T17:09:22.150Z"
   },
   {
    "duration": 1017,
    "start_time": "2024-04-17T17:09:22.283Z"
   },
   {
    "duration": 2,
    "start_time": "2024-04-17T17:09:23.302Z"
   },
   {
    "duration": 2709,
    "start_time": "2024-04-17T17:09:57.770Z"
   },
   {
    "duration": 3027,
    "start_time": "2024-04-17T17:10:00.482Z"
   },
   {
    "duration": 2886,
    "start_time": "2024-04-17T17:10:03.514Z"
   },
   {
    "duration": 402,
    "start_time": "2024-04-17T17:10:06.401Z"
   },
   {
    "duration": 307,
    "start_time": "2024-04-17T17:10:06.804Z"
   },
   {
    "duration": 332,
    "start_time": "2024-04-17T17:10:07.113Z"
   },
   {
    "duration": 244,
    "start_time": "2024-04-17T17:10:07.446Z"
   },
   {
    "duration": 290,
    "start_time": "2024-04-17T17:10:07.692Z"
   },
   {
    "duration": 329,
    "start_time": "2024-04-17T17:10:07.984Z"
   },
   {
    "duration": 268,
    "start_time": "2024-04-17T17:10:08.315Z"
   },
   {
    "duration": 131,
    "start_time": "2024-04-17T17:10:08.585Z"
   },
   {
    "duration": 2286,
    "start_time": "2024-04-17T17:10:08.717Z"
   },
   {
    "duration": 133,
    "start_time": "2024-04-17T17:10:11.004Z"
   },
   {
    "duration": 1088,
    "start_time": "2024-04-17T17:10:11.139Z"
   },
   {
    "duration": 3,
    "start_time": "2024-04-17T17:10:12.228Z"
   },
   {
    "duration": 2686,
    "start_time": "2024-04-17T17:10:52.597Z"
   },
   {
    "duration": 2947,
    "start_time": "2024-04-17T17:10:55.285Z"
   },
   {
    "duration": 3086,
    "start_time": "2024-04-17T17:10:58.233Z"
   },
   {
    "duration": 431,
    "start_time": "2024-04-17T17:11:01.320Z"
   },
   {
    "duration": 327,
    "start_time": "2024-04-17T17:11:01.758Z"
   },
   {
    "duration": 319,
    "start_time": "2024-04-17T17:11:02.086Z"
   },
   {
    "duration": 238,
    "start_time": "2024-04-17T17:11:02.407Z"
   },
   {
    "duration": 321,
    "start_time": "2024-04-17T17:11:02.647Z"
   },
   {
    "duration": 390,
    "start_time": "2024-04-17T17:11:02.970Z"
   },
   {
    "duration": 293,
    "start_time": "2024-04-17T17:11:03.362Z"
   },
   {
    "duration": 128,
    "start_time": "2024-04-17T17:11:03.659Z"
   },
   {
    "duration": 2520,
    "start_time": "2024-04-17T17:11:03.789Z"
   },
   {
    "duration": 141,
    "start_time": "2024-04-17T17:11:06.310Z"
   },
   {
    "duration": 1099,
    "start_time": "2024-04-17T17:11:06.459Z"
   },
   {
    "duration": 2,
    "start_time": "2024-04-17T17:11:07.560Z"
   },
   {
    "duration": 135,
    "start_time": "2024-04-17T17:16:13.529Z"
   },
   {
    "duration": 155,
    "start_time": "2024-04-17T17:16:18.036Z"
   },
   {
    "duration": 213,
    "start_time": "2024-04-17T17:16:39.650Z"
   },
   {
    "duration": 224,
    "start_time": "2024-04-17T17:17:49.740Z"
   },
   {
    "duration": 214,
    "start_time": "2024-04-17T17:17:52.358Z"
   },
   {
    "duration": 290,
    "start_time": "2024-04-17T17:18:06.812Z"
   },
   {
    "duration": 51,
    "start_time": "2024-04-20T08:14:47.138Z"
   },
   {
    "duration": 3203,
    "start_time": "2024-04-20T08:14:55.328Z"
   },
   {
    "duration": 2858,
    "start_time": "2024-04-20T08:14:58.534Z"
   },
   {
    "duration": 3113,
    "start_time": "2024-04-20T08:15:01.394Z"
   },
   {
    "duration": 469,
    "start_time": "2024-04-20T08:15:04.508Z"
   },
   {
    "duration": 348,
    "start_time": "2024-04-20T08:15:04.979Z"
   },
   {
    "duration": 362,
    "start_time": "2024-04-20T08:15:05.329Z"
   },
   {
    "duration": 268,
    "start_time": "2024-04-20T08:15:05.692Z"
   },
   {
    "duration": 325,
    "start_time": "2024-04-20T08:15:05.962Z"
   },
   {
    "duration": 299,
    "start_time": "2024-04-20T08:15:06.289Z"
   },
   {
    "duration": 286,
    "start_time": "2024-04-20T08:15:06.590Z"
   },
   {
    "duration": 148,
    "start_time": "2024-04-20T08:15:06.878Z"
   },
   {
    "duration": 2725,
    "start_time": "2024-04-20T08:15:07.028Z"
   },
   {
    "duration": 277,
    "start_time": "2024-04-20T08:15:09.754Z"
   },
   {
    "duration": 1217,
    "start_time": "2024-04-20T08:15:10.033Z"
   },
   {
    "duration": 165,
    "start_time": "2024-04-20T08:15:11.252Z"
   },
   {
    "duration": 157,
    "start_time": "2024-04-20T08:15:47.659Z"
   },
   {
    "duration": 157,
    "start_time": "2024-04-20T08:16:06.073Z"
   },
   {
    "duration": 143,
    "start_time": "2024-04-20T08:17:01.008Z"
   },
   {
    "duration": 252,
    "start_time": "2024-04-20T08:18:31.395Z"
   },
   {
    "duration": 190,
    "start_time": "2024-04-20T08:18:54.237Z"
   },
   {
    "duration": 157,
    "start_time": "2024-04-20T08:19:07.816Z"
   },
   {
    "duration": 67,
    "start_time": "2024-04-20T08:20:43.406Z"
   },
   {
    "duration": 151,
    "start_time": "2024-04-20T08:21:12.611Z"
   },
   {
    "duration": 215,
    "start_time": "2024-04-20T08:21:23.884Z"
   },
   {
    "duration": 173,
    "start_time": "2024-04-20T08:25:48.077Z"
   },
   {
    "duration": 148,
    "start_time": "2024-04-20T08:26:56.621Z"
   },
   {
    "duration": 147,
    "start_time": "2024-04-20T08:31:34.909Z"
   },
   {
    "duration": 171,
    "start_time": "2024-04-20T08:33:07.336Z"
   },
   {
    "duration": 185,
    "start_time": "2024-04-20T08:33:13.739Z"
   },
   {
    "duration": 147,
    "start_time": "2024-04-20T08:33:19.488Z"
   },
   {
    "duration": 155,
    "start_time": "2024-04-20T08:33:26.302Z"
   },
   {
    "duration": 170,
    "start_time": "2024-04-20T08:34:18.937Z"
   },
   {
    "duration": 146,
    "start_time": "2024-04-20T08:34:33.167Z"
   },
   {
    "duration": 160,
    "start_time": "2024-04-20T08:34:36.457Z"
   },
   {
    "duration": 156,
    "start_time": "2024-04-20T08:34:39.724Z"
   },
   {
    "duration": 158,
    "start_time": "2024-04-20T08:34:50.997Z"
   },
   {
    "duration": 287,
    "start_time": "2024-04-20T08:38:02.733Z"
   },
   {
    "duration": 72,
    "start_time": "2024-04-20T08:38:10.542Z"
   },
   {
    "duration": 154,
    "start_time": "2024-04-20T08:38:26.836Z"
   },
   {
    "duration": 994,
    "start_time": "2024-04-20T08:39:35.529Z"
   },
   {
    "duration": 102,
    "start_time": "2024-04-20T08:39:47.642Z"
   },
   {
    "duration": 316,
    "start_time": "2024-04-20T08:40:05.505Z"
   },
   {
    "duration": 322,
    "start_time": "2024-04-20T08:40:25.940Z"
   },
   {
    "duration": 243,
    "start_time": "2024-04-20T08:40:31.373Z"
   },
   {
    "duration": 280,
    "start_time": "2024-04-20T08:40:36.513Z"
   },
   {
    "duration": 178,
    "start_time": "2024-04-20T08:41:46.861Z"
   },
   {
    "duration": 306,
    "start_time": "2024-04-20T08:42:00.382Z"
   },
   {
    "duration": 309,
    "start_time": "2024-04-20T08:42:05.998Z"
   },
   {
    "duration": 2892,
    "start_time": "2024-04-20T08:45:50.598Z"
   },
   {
    "duration": 2902,
    "start_time": "2024-04-20T08:45:53.492Z"
   },
   {
    "duration": 2972,
    "start_time": "2024-04-20T08:45:56.396Z"
   },
   {
    "duration": 437,
    "start_time": "2024-04-20T08:45:59.370Z"
   },
   {
    "duration": 354,
    "start_time": "2024-04-20T08:45:59.809Z"
   },
   {
    "duration": 404,
    "start_time": "2024-04-20T08:46:00.165Z"
   },
   {
    "duration": 275,
    "start_time": "2024-04-20T08:46:00.570Z"
   },
   {
    "duration": 288,
    "start_time": "2024-04-20T08:46:00.847Z"
   },
   {
    "duration": 274,
    "start_time": "2024-04-20T08:46:01.136Z"
   },
   {
    "duration": 276,
    "start_time": "2024-04-20T08:46:01.412Z"
   },
   {
    "duration": 143,
    "start_time": "2024-04-20T08:46:01.690Z"
   },
   {
    "duration": 2776,
    "start_time": "2024-04-20T08:46:01.835Z"
   },
   {
    "duration": 260,
    "start_time": "2024-04-20T08:46:04.613Z"
   },
   {
    "duration": 1215,
    "start_time": "2024-04-20T08:46:04.876Z"
   },
   {
    "duration": 188,
    "start_time": "2024-04-20T08:46:06.093Z"
   },
   {
    "duration": 187,
    "start_time": "2024-04-20T08:46:06.282Z"
   },
   {
    "duration": 179,
    "start_time": "2024-04-20T08:46:06.470Z"
   },
   {
    "duration": 346,
    "start_time": "2024-04-20T08:46:06.650Z"
   },
   {
    "duration": 2885,
    "start_time": "2024-04-20T08:46:47.249Z"
   },
   {
    "duration": 2781,
    "start_time": "2024-04-20T08:46:50.137Z"
   },
   {
    "duration": 2972,
    "start_time": "2024-04-20T08:46:52.919Z"
   },
   {
    "duration": 496,
    "start_time": "2024-04-20T08:46:55.893Z"
   },
   {
    "duration": 329,
    "start_time": "2024-04-20T08:46:56.391Z"
   },
   {
    "duration": 367,
    "start_time": "2024-04-20T08:46:56.721Z"
   },
   {
    "duration": 255,
    "start_time": "2024-04-20T08:46:57.090Z"
   },
   {
    "duration": 315,
    "start_time": "2024-04-20T08:46:57.346Z"
   },
   {
    "duration": 314,
    "start_time": "2024-04-20T08:46:57.662Z"
   },
   {
    "duration": 286,
    "start_time": "2024-04-20T08:46:57.977Z"
   },
   {
    "duration": 133,
    "start_time": "2024-04-20T08:46:58.264Z"
   },
   {
    "duration": 2684,
    "start_time": "2024-04-20T08:46:58.398Z"
   },
   {
    "duration": 251,
    "start_time": "2024-04-20T08:47:01.083Z"
   },
   {
    "duration": 1182,
    "start_time": "2024-04-20T08:47:01.337Z"
   },
   {
    "duration": 200,
    "start_time": "2024-04-20T08:47:02.521Z"
   },
   {
    "duration": 193,
    "start_time": "2024-04-20T08:47:02.723Z"
   },
   {
    "duration": 186,
    "start_time": "2024-04-20T08:47:02.918Z"
   },
   {
    "duration": 337,
    "start_time": "2024-04-20T08:47:03.106Z"
   },
   {
    "duration": 2837,
    "start_time": "2024-04-20T08:47:23.900Z"
   },
   {
    "duration": 2867,
    "start_time": "2024-04-20T08:47:26.740Z"
   },
   {
    "duration": 3094,
    "start_time": "2024-04-20T08:47:29.609Z"
   },
   {
    "duration": 470,
    "start_time": "2024-04-20T08:47:32.705Z"
   },
   {
    "duration": 356,
    "start_time": "2024-04-20T08:47:33.177Z"
   },
   {
    "duration": 366,
    "start_time": "2024-04-20T08:47:33.535Z"
   },
   {
    "duration": 237,
    "start_time": "2024-04-20T08:47:33.902Z"
   },
   {
    "duration": 287,
    "start_time": "2024-04-20T08:47:34.141Z"
   },
   {
    "duration": 277,
    "start_time": "2024-04-20T08:47:34.430Z"
   },
   {
    "duration": 283,
    "start_time": "2024-04-20T08:47:34.710Z"
   },
   {
    "duration": 142,
    "start_time": "2024-04-20T08:47:34.994Z"
   },
   {
    "duration": 2610,
    "start_time": "2024-04-20T08:47:35.137Z"
   },
   {
    "duration": 241,
    "start_time": "2024-04-20T08:47:37.748Z"
   },
   {
    "duration": 1176,
    "start_time": "2024-04-20T08:47:37.991Z"
   },
   {
    "duration": 196,
    "start_time": "2024-04-20T08:47:39.168Z"
   },
   {
    "duration": 214,
    "start_time": "2024-04-20T08:47:39.366Z"
   },
   {
    "duration": 2887,
    "start_time": "2024-04-20T08:47:41.175Z"
   },
   {
    "duration": 2914,
    "start_time": "2024-04-20T08:47:44.064Z"
   },
   {
    "duration": 3089,
    "start_time": "2024-04-20T08:47:46.980Z"
   },
   {
    "duration": 434,
    "start_time": "2024-04-20T08:47:50.070Z"
   },
   {
    "duration": 356,
    "start_time": "2024-04-20T08:47:50.507Z"
   },
   {
    "duration": 342,
    "start_time": "2024-04-20T08:47:50.865Z"
   },
   {
    "duration": 241,
    "start_time": "2024-04-20T08:47:51.209Z"
   },
   {
    "duration": 300,
    "start_time": "2024-04-20T08:47:51.452Z"
   },
   {
    "duration": 320,
    "start_time": "2024-04-20T08:47:51.761Z"
   },
   {
    "duration": 320,
    "start_time": "2024-04-20T08:47:52.082Z"
   },
   {
    "duration": 131,
    "start_time": "2024-04-20T08:47:52.404Z"
   },
   {
    "duration": 2549,
    "start_time": "2024-04-20T08:47:52.536Z"
   },
   {
    "duration": 247,
    "start_time": "2024-04-20T08:47:55.087Z"
   },
   {
    "duration": 1156,
    "start_time": "2024-04-20T08:47:55.337Z"
   },
   {
    "duration": 180,
    "start_time": "2024-04-20T08:47:56.494Z"
   },
   {
    "duration": 208,
    "start_time": "2024-04-20T08:47:56.675Z"
   },
   {
    "duration": 196,
    "start_time": "2024-04-20T08:47:56.885Z"
   },
   {
    "duration": 338,
    "start_time": "2024-04-20T08:47:57.083Z"
   },
   {
    "duration": 382,
    "start_time": "2024-04-20T08:50:38.731Z"
   },
   {
    "duration": 720,
    "start_time": "2024-04-20T08:50:57.436Z"
   },
   {
    "duration": 81,
    "start_time": "2024-04-20T08:51:09.347Z"
   },
   {
    "duration": 147,
    "start_time": "2024-04-20T08:53:07.605Z"
   },
   {
    "duration": 141,
    "start_time": "2024-04-20T08:53:14.701Z"
   },
   {
    "duration": 157,
    "start_time": "2024-04-20T08:53:18.664Z"
   },
   {
    "duration": 2814,
    "start_time": "2024-04-20T08:56:11.080Z"
   },
   {
    "duration": 2828,
    "start_time": "2024-04-20T08:56:13.897Z"
   },
   {
    "duration": 3055,
    "start_time": "2024-04-20T08:56:16.727Z"
   },
   {
    "duration": 443,
    "start_time": "2024-04-20T08:56:19.784Z"
   },
   {
    "duration": 335,
    "start_time": "2024-04-20T08:56:20.229Z"
   },
   {
    "duration": 375,
    "start_time": "2024-04-20T08:56:20.566Z"
   },
   {
    "duration": 254,
    "start_time": "2024-04-20T08:56:20.943Z"
   },
   {
    "duration": 304,
    "start_time": "2024-04-20T08:56:21.198Z"
   },
   {
    "duration": 260,
    "start_time": "2024-04-20T08:56:21.503Z"
   },
   {
    "duration": 295,
    "start_time": "2024-04-20T08:56:21.765Z"
   },
   {
    "duration": 130,
    "start_time": "2024-04-20T08:56:22.062Z"
   },
   {
    "duration": 2551,
    "start_time": "2024-04-20T08:56:22.194Z"
   },
   {
    "duration": 238,
    "start_time": "2024-04-20T08:56:24.747Z"
   },
   {
    "duration": 1157,
    "start_time": "2024-04-20T08:56:24.987Z"
   },
   {
    "duration": 188,
    "start_time": "2024-04-20T08:56:26.146Z"
   },
   {
    "duration": 181,
    "start_time": "2024-04-20T08:56:26.336Z"
   },
   {
    "duration": 176,
    "start_time": "2024-04-20T08:56:26.519Z"
   },
   {
    "duration": 361,
    "start_time": "2024-04-20T08:56:26.697Z"
   },
   {
    "duration": 186,
    "start_time": "2024-04-20T08:56:27.061Z"
   },
   {
    "duration": 2965,
    "start_time": "2024-04-20T08:57:00.657Z"
   },
   {
    "duration": 2936,
    "start_time": "2024-04-20T08:57:03.624Z"
   },
   {
    "duration": 3113,
    "start_time": "2024-04-20T08:57:06.562Z"
   },
   {
    "duration": 447,
    "start_time": "2024-04-20T08:57:09.677Z"
   },
   {
    "duration": 358,
    "start_time": "2024-04-20T08:57:10.127Z"
   },
   {
    "duration": 365,
    "start_time": "2024-04-20T08:57:10.486Z"
   },
   {
    "duration": 254,
    "start_time": "2024-04-20T08:57:10.853Z"
   },
   {
    "duration": 291,
    "start_time": "2024-04-20T08:57:11.108Z"
   },
   {
    "duration": 271,
    "start_time": "2024-04-20T08:57:11.401Z"
   },
   {
    "duration": 299,
    "start_time": "2024-04-20T08:57:11.673Z"
   },
   {
    "duration": 143,
    "start_time": "2024-04-20T08:57:11.974Z"
   },
   {
    "duration": 2583,
    "start_time": "2024-04-20T08:57:12.119Z"
   },
   {
    "duration": 260,
    "start_time": "2024-04-20T08:57:14.703Z"
   },
   {
    "duration": 1205,
    "start_time": "2024-04-20T08:57:14.965Z"
   },
   {
    "duration": 192,
    "start_time": "2024-04-20T08:57:16.171Z"
   },
   {
    "duration": 192,
    "start_time": "2024-04-20T08:57:16.364Z"
   },
   {
    "duration": 192,
    "start_time": "2024-04-20T08:57:16.561Z"
   },
   {
    "duration": 327,
    "start_time": "2024-04-20T08:57:16.755Z"
   },
   {
    "duration": 2887,
    "start_time": "2024-04-20T08:58:17.635Z"
   },
   {
    "duration": 3019,
    "start_time": "2024-04-20T08:58:20.525Z"
   },
   {
    "duration": 3088,
    "start_time": "2024-04-20T08:58:23.546Z"
   },
   {
    "duration": 499,
    "start_time": "2024-04-20T08:58:26.635Z"
   },
   {
    "duration": 338,
    "start_time": "2024-04-20T08:58:27.136Z"
   },
   {
    "duration": 339,
    "start_time": "2024-04-20T08:58:27.476Z"
   },
   {
    "duration": 259,
    "start_time": "2024-04-20T08:58:27.817Z"
   },
   {
    "duration": 334,
    "start_time": "2024-04-20T08:58:28.078Z"
   },
   {
    "duration": 295,
    "start_time": "2024-04-20T08:58:28.414Z"
   },
   {
    "duration": 273,
    "start_time": "2024-04-20T08:58:28.711Z"
   },
   {
    "duration": 124,
    "start_time": "2024-04-20T08:58:28.986Z"
   },
   {
    "duration": 2658,
    "start_time": "2024-04-20T08:58:29.111Z"
   },
   {
    "duration": 257,
    "start_time": "2024-04-20T08:58:31.771Z"
   },
   {
    "duration": 1148,
    "start_time": "2024-04-20T08:58:32.031Z"
   },
   {
    "duration": 186,
    "start_time": "2024-04-20T08:58:33.181Z"
   },
   {
    "duration": 181,
    "start_time": "2024-04-20T08:58:33.369Z"
   },
   {
    "duration": 181,
    "start_time": "2024-04-20T08:58:33.551Z"
   },
   {
    "duration": 326,
    "start_time": "2024-04-20T08:58:33.734Z"
   },
   {
    "duration": 154,
    "start_time": "2024-04-20T08:58:34.061Z"
   },
   {
    "duration": 76,
    "start_time": "2024-04-20T09:01:37.359Z"
   },
   {
    "duration": 17,
    "start_time": "2024-04-20T09:01:44.151Z"
   },
   {
    "duration": 468,
    "start_time": "2024-04-20T09:01:49.434Z"
   },
   {
    "duration": 25299,
    "start_time": "2024-04-20T09:02:09.702Z"
   },
   {
    "duration": 2832,
    "start_time": "2024-04-20T09:04:52.582Z"
   },
   {
    "duration": 2907,
    "start_time": "2024-04-20T09:04:55.416Z"
   },
   {
    "duration": 2993,
    "start_time": "2024-04-20T09:04:58.325Z"
   },
   {
    "duration": 444,
    "start_time": "2024-04-20T09:05:01.320Z"
   },
   {
    "duration": 361,
    "start_time": "2024-04-20T09:05:01.766Z"
   },
   {
    "duration": 370,
    "start_time": "2024-04-20T09:05:02.129Z"
   },
   {
    "duration": 254,
    "start_time": "2024-04-20T09:05:02.500Z"
   },
   {
    "duration": 303,
    "start_time": "2024-04-20T09:05:02.761Z"
   },
   {
    "duration": 271,
    "start_time": "2024-04-20T09:05:03.066Z"
   },
   {
    "duration": 289,
    "start_time": "2024-04-20T09:05:03.338Z"
   },
   {
    "duration": 139,
    "start_time": "2024-04-20T09:05:03.628Z"
   },
   {
    "duration": 2632,
    "start_time": "2024-04-20T09:05:03.768Z"
   },
   {
    "duration": 242,
    "start_time": "2024-04-20T09:05:06.401Z"
   },
   {
    "duration": 1189,
    "start_time": "2024-04-20T09:05:06.645Z"
   },
   {
    "duration": 181,
    "start_time": "2024-04-20T09:05:07.836Z"
   },
   {
    "duration": 176,
    "start_time": "2024-04-20T09:05:08.019Z"
   },
   {
    "duration": 178,
    "start_time": "2024-04-20T09:05:08.197Z"
   },
   {
    "duration": 335,
    "start_time": "2024-04-20T09:05:08.377Z"
   },
   {
    "duration": 159,
    "start_time": "2024-04-20T09:05:08.713Z"
   },
   {
    "duration": 577,
    "start_time": "2024-04-20T09:05:08.873Z"
   },
   {
    "duration": 549,
    "start_time": "2024-04-20T09:05:39.988Z"
   },
   {
    "duration": 599,
    "start_time": "2024-04-20T09:06:10.730Z"
   },
   {
    "duration": 2894,
    "start_time": "2024-04-20T09:07:40.804Z"
   },
   {
    "duration": 2916,
    "start_time": "2024-04-20T09:07:43.700Z"
   },
   {
    "duration": 3132,
    "start_time": "2024-04-20T09:07:46.618Z"
   },
   {
    "duration": 450,
    "start_time": "2024-04-20T09:07:49.753Z"
   },
   {
    "duration": 359,
    "start_time": "2024-04-20T09:07:50.204Z"
   },
   {
    "duration": 355,
    "start_time": "2024-04-20T09:07:50.565Z"
   },
   {
    "duration": 248,
    "start_time": "2024-04-20T09:07:50.922Z"
   },
   {
    "duration": 304,
    "start_time": "2024-04-20T09:07:51.172Z"
   },
   {
    "duration": 292,
    "start_time": "2024-04-20T09:07:51.478Z"
   },
   {
    "duration": 305,
    "start_time": "2024-04-20T09:07:51.774Z"
   },
   {
    "duration": 136,
    "start_time": "2024-04-20T09:07:52.081Z"
   },
   {
    "duration": 2562,
    "start_time": "2024-04-20T09:07:52.219Z"
   },
   {
    "duration": 260,
    "start_time": "2024-04-20T09:07:54.783Z"
   },
   {
    "duration": 1159,
    "start_time": "2024-04-20T09:07:55.046Z"
   },
   {
    "duration": 190,
    "start_time": "2024-04-20T09:07:56.207Z"
   },
   {
    "duration": 189,
    "start_time": "2024-04-20T09:07:56.399Z"
   },
   {
    "duration": 186,
    "start_time": "2024-04-20T09:07:56.590Z"
   },
   {
    "duration": 328,
    "start_time": "2024-04-20T09:07:56.777Z"
   },
   {
    "duration": 159,
    "start_time": "2024-04-20T09:07:57.107Z"
   },
   {
    "duration": 301,
    "start_time": "2024-04-20T09:07:57.268Z"
   },
   {
    "duration": 263,
    "start_time": "2024-04-20T09:09:38.135Z"
   },
   {
    "duration": 339,
    "start_time": "2024-04-20T09:09:47.121Z"
   },
   {
    "duration": 146,
    "start_time": "2024-04-20T09:10:29.856Z"
   },
   {
    "duration": 273,
    "start_time": "2024-04-20T10:34:19.739Z"
   },
   {
    "duration": 201,
    "start_time": "2024-04-20T10:34:52.136Z"
   },
   {
    "duration": 135,
    "start_time": "2024-04-20T10:37:13.540Z"
   },
   {
    "duration": 2,
    "start_time": "2024-04-20T10:37:51.810Z"
   },
   {
    "duration": 328,
    "start_time": "2024-04-20T10:37:55.089Z"
   },
   {
    "duration": 136,
    "start_time": "2024-04-20T10:38:05.733Z"
   },
   {
    "duration": 148,
    "start_time": "2024-04-20T10:38:16.158Z"
   },
   {
    "duration": 186,
    "start_time": "2024-04-20T10:42:16.372Z"
   },
   {
    "duration": 2768,
    "start_time": "2024-04-20T10:43:18.506Z"
   },
   {
    "duration": 2856,
    "start_time": "2024-04-20T10:43:21.277Z"
   },
   {
    "duration": 3166,
    "start_time": "2024-04-20T10:43:24.135Z"
   },
   {
    "duration": 472,
    "start_time": "2024-04-20T10:43:27.304Z"
   },
   {
    "duration": 348,
    "start_time": "2024-04-20T10:43:27.778Z"
   },
   {
    "duration": 348,
    "start_time": "2024-04-20T10:43:28.128Z"
   },
   {
    "duration": 265,
    "start_time": "2024-04-20T10:43:28.477Z"
   },
   {
    "duration": 333,
    "start_time": "2024-04-20T10:43:28.743Z"
   },
   {
    "duration": 269,
    "start_time": "2024-04-20T10:43:29.078Z"
   },
   {
    "duration": 267,
    "start_time": "2024-04-20T10:43:29.349Z"
   },
   {
    "duration": 130,
    "start_time": "2024-04-20T10:43:29.617Z"
   },
   {
    "duration": 2606,
    "start_time": "2024-04-20T10:43:29.748Z"
   },
   {
    "duration": 238,
    "start_time": "2024-04-20T10:43:32.360Z"
   },
   {
    "duration": 1147,
    "start_time": "2024-04-20T10:43:32.600Z"
   },
   {
    "duration": 213,
    "start_time": "2024-04-20T10:43:33.749Z"
   },
   {
    "duration": 183,
    "start_time": "2024-04-20T10:43:33.964Z"
   },
   {
    "duration": 173,
    "start_time": "2024-04-20T10:43:34.149Z"
   },
   {
    "duration": 311,
    "start_time": "2024-04-20T10:43:34.324Z"
   },
   {
    "duration": 155,
    "start_time": "2024-04-20T10:43:34.637Z"
   },
   {
    "duration": 158,
    "start_time": "2024-04-20T10:43:34.794Z"
   },
   {
    "duration": 138,
    "start_time": "2024-04-20T10:43:34.961Z"
   },
   {
    "duration": 160,
    "start_time": "2024-04-20T10:46:13.724Z"
   },
   {
    "duration": 224,
    "start_time": "2024-04-20T10:46:15.864Z"
   },
   {
    "duration": 56,
    "start_time": "2024-04-21T09:35:04.859Z"
   },
   {
    "duration": 3543,
    "start_time": "2024-04-21T09:35:10.423Z"
   },
   {
    "duration": 3163,
    "start_time": "2024-04-21T09:35:13.968Z"
   },
   {
    "duration": 3461,
    "start_time": "2024-04-21T09:35:17.133Z"
   },
   {
    "duration": 518,
    "start_time": "2024-04-21T09:35:20.596Z"
   },
   {
    "duration": 379,
    "start_time": "2024-04-21T09:35:21.116Z"
   },
   {
    "duration": 406,
    "start_time": "2024-04-21T09:35:21.497Z"
   },
   {
    "duration": 307,
    "start_time": "2024-04-21T09:35:21.905Z"
   },
   {
    "duration": 366,
    "start_time": "2024-04-21T09:35:22.214Z"
   },
   {
    "duration": 298,
    "start_time": "2024-04-21T09:35:22.582Z"
   },
   {
    "duration": 303,
    "start_time": "2024-04-21T09:35:22.882Z"
   },
   {
    "duration": 142,
    "start_time": "2024-04-21T09:35:23.186Z"
   },
   {
    "duration": 2877,
    "start_time": "2024-04-21T09:35:23.330Z"
   },
   {
    "duration": 260,
    "start_time": "2024-04-21T09:35:26.208Z"
   },
   {
    "duration": 1312,
    "start_time": "2024-04-21T09:35:26.471Z"
   },
   {
    "duration": 201,
    "start_time": "2024-04-21T09:35:27.785Z"
   },
   {
    "duration": 191,
    "start_time": "2024-04-21T09:35:27.989Z"
   },
   {
    "duration": 191,
    "start_time": "2024-04-21T09:35:28.181Z"
   },
   {
    "duration": 374,
    "start_time": "2024-04-21T09:35:28.374Z"
   },
   {
    "duration": 188,
    "start_time": "2024-04-21T09:35:28.750Z"
   },
   {
    "duration": 150,
    "start_time": "2024-04-21T09:35:28.939Z"
   },
   {
    "duration": 150,
    "start_time": "2024-04-21T09:35:29.091Z"
   },
   {
    "duration": 153,
    "start_time": "2024-04-21T09:35:29.242Z"
   },
   {
    "duration": 12,
    "start_time": "2024-04-21T09:35:29.397Z"
   },
   {
    "duration": 12,
    "start_time": "2024-04-21T09:35:47.404Z"
   },
   {
    "duration": 23,
    "start_time": "2024-04-21T09:36:02.271Z"
   },
   {
    "duration": 85,
    "start_time": "2024-04-21T09:36:16.826Z"
   },
   {
    "duration": 23,
    "start_time": "2024-04-21T09:36:22.182Z"
   },
   {
    "duration": 24,
    "start_time": "2024-04-21T09:37:24.509Z"
   },
   {
    "duration": 18,
    "start_time": "2024-04-21T09:37:34.147Z"
   },
   {
    "duration": 108,
    "start_time": "2024-04-21T09:38:08.134Z"
   },
   {
    "duration": 113,
    "start_time": "2024-04-21T09:38:14.679Z"
   },
   {
    "duration": 25,
    "start_time": "2024-04-21T09:38:17.573Z"
   },
   {
    "duration": 18,
    "start_time": "2024-04-21T09:38:24.783Z"
   },
   {
    "duration": 22,
    "start_time": "2024-04-21T09:39:09.349Z"
   },
   {
    "duration": 25,
    "start_time": "2024-04-21T09:39:30.027Z"
   },
   {
    "duration": 95,
    "start_time": "2024-04-21T09:39:37.342Z"
   },
   {
    "duration": 18,
    "start_time": "2024-04-21T09:40:02.463Z"
   },
   {
    "duration": 20,
    "start_time": "2024-04-21T09:42:06.436Z"
   },
   {
    "duration": 26,
    "start_time": "2024-04-21T09:45:46.276Z"
   },
   {
    "duration": 25,
    "start_time": "2024-04-21T09:46:27.653Z"
   },
   {
    "duration": 26,
    "start_time": "2024-04-21T09:46:53.530Z"
   },
   {
    "duration": 19,
    "start_time": "2024-04-21T09:48:46.554Z"
   },
   {
    "duration": 3031,
    "start_time": "2024-04-21T09:48:58.291Z"
   },
   {
    "duration": 3190,
    "start_time": "2024-04-21T09:49:01.324Z"
   },
   {
    "duration": 3464,
    "start_time": "2024-04-21T09:49:04.516Z"
   },
   {
    "duration": 498,
    "start_time": "2024-04-21T09:49:07.982Z"
   },
   {
    "duration": 370,
    "start_time": "2024-04-21T09:49:08.482Z"
   },
   {
    "duration": 370,
    "start_time": "2024-04-21T09:49:08.854Z"
   },
   {
    "duration": 274,
    "start_time": "2024-04-21T09:49:09.225Z"
   },
   {
    "duration": 344,
    "start_time": "2024-04-21T09:49:09.500Z"
   },
   {
    "duration": 283,
    "start_time": "2024-04-21T09:49:09.845Z"
   },
   {
    "duration": 303,
    "start_time": "2024-04-21T09:49:10.130Z"
   },
   {
    "duration": 162,
    "start_time": "2024-04-21T09:49:10.435Z"
   },
   {
    "duration": 2984,
    "start_time": "2024-04-21T09:49:10.598Z"
   },
   {
    "duration": 266,
    "start_time": "2024-04-21T09:49:13.584Z"
   },
   {
    "duration": 1263,
    "start_time": "2024-04-21T09:49:13.851Z"
   },
   {
    "duration": 198,
    "start_time": "2024-04-21T09:49:15.116Z"
   },
   {
    "duration": 191,
    "start_time": "2024-04-21T09:49:15.316Z"
   },
   {
    "duration": 193,
    "start_time": "2024-04-21T09:49:15.509Z"
   },
   {
    "duration": 357,
    "start_time": "2024-04-21T09:49:15.705Z"
   },
   {
    "duration": 171,
    "start_time": "2024-04-21T09:49:16.064Z"
   },
   {
    "duration": 184,
    "start_time": "2024-04-21T09:49:16.237Z"
   },
   {
    "duration": 161,
    "start_time": "2024-04-21T09:49:16.422Z"
   },
   {
    "duration": 172,
    "start_time": "2024-04-21T09:49:16.585Z"
   },
   {
    "duration": 96,
    "start_time": "2024-04-21T09:49:16.759Z"
   },
   {
    "duration": 17,
    "start_time": "2024-04-21T09:51:45.895Z"
   },
   {
    "duration": 37,
    "start_time": "2024-04-21T09:52:51.680Z"
   },
   {
    "duration": 31,
    "start_time": "2024-04-21T09:53:16.697Z"
   },
   {
    "duration": 166,
    "start_time": "2024-04-21T09:55:08.367Z"
   },
   {
    "duration": 28,
    "start_time": "2024-04-21T09:55:21.441Z"
   },
   {
    "duration": 104,
    "start_time": "2024-04-21T09:56:17.095Z"
   },
   {
    "duration": 42,
    "start_time": "2024-04-21T09:56:49.957Z"
   },
   {
    "duration": 40,
    "start_time": "2024-04-21T09:57:04.027Z"
   },
   {
    "duration": 31,
    "start_time": "2024-04-21T09:57:53.934Z"
   },
   {
    "duration": 26,
    "start_time": "2024-04-21T10:00:12.556Z"
   },
   {
    "duration": 18,
    "start_time": "2024-04-21T10:01:56.114Z"
   },
   {
    "duration": 21,
    "start_time": "2024-04-21T10:02:11.846Z"
   },
   {
    "duration": 82,
    "start_time": "2024-04-21T10:04:37.197Z"
   },
   {
    "duration": 83,
    "start_time": "2024-04-21T10:04:47.573Z"
   },
   {
    "duration": 86,
    "start_time": "2024-04-21T10:04:57.827Z"
   },
   {
    "duration": 89,
    "start_time": "2024-04-21T10:05:06.854Z"
   },
   {
    "duration": 83,
    "start_time": "2024-04-21T10:05:13.370Z"
   },
   {
    "duration": 87,
    "start_time": "2024-04-21T10:05:25.830Z"
   },
   {
    "duration": 96,
    "start_time": "2024-04-21T10:05:41.104Z"
   },
   {
    "duration": 90,
    "start_time": "2024-04-21T10:05:59.181Z"
   },
   {
    "duration": 89,
    "start_time": "2024-04-21T10:06:12.850Z"
   },
   {
    "duration": 91,
    "start_time": "2024-04-21T10:06:15.441Z"
   },
   {
    "duration": 90,
    "start_time": "2024-04-21T10:06:57.684Z"
   },
   {
    "duration": 12,
    "start_time": "2024-04-21T10:07:10.658Z"
   },
   {
    "duration": 28,
    "start_time": "2024-04-21T10:07:29.513Z"
   },
   {
    "duration": 105,
    "start_time": "2024-04-21T10:09:03.985Z"
   },
   {
    "duration": 34,
    "start_time": "2024-04-21T10:09:12.124Z"
   },
   {
    "duration": 30,
    "start_time": "2024-04-21T10:09:23.549Z"
   },
   {
    "duration": 100,
    "start_time": "2024-04-21T10:11:48.798Z"
   },
   {
    "duration": 34,
    "start_time": "2024-04-21T10:12:15.978Z"
   },
   {
    "duration": 114,
    "start_time": "2024-04-21T10:12:48.461Z"
   },
   {
    "duration": 1094,
    "start_time": "2024-04-21T10:13:01.717Z"
   },
   {
    "duration": 35,
    "start_time": "2024-04-21T10:13:12.372Z"
   },
   {
    "duration": 83,
    "start_time": "2024-04-21T10:13:54.381Z"
   },
   {
    "duration": 98,
    "start_time": "2024-04-21T10:14:01.097Z"
   },
   {
    "duration": 35,
    "start_time": "2024-04-21T10:14:13.163Z"
   },
   {
    "duration": 39,
    "start_time": "2024-04-21T10:15:05.998Z"
   },
   {
    "duration": 35,
    "start_time": "2024-04-21T10:16:28.424Z"
   },
   {
    "duration": 41,
    "start_time": "2024-04-21T10:16:39.182Z"
   },
   {
    "duration": 92,
    "start_time": "2024-04-21T10:17:20.920Z"
   },
   {
    "duration": 46,
    "start_time": "2024-04-21T10:17:53.008Z"
   },
   {
    "duration": 36,
    "start_time": "2024-04-21T10:22:03.230Z"
   },
   {
    "duration": 82,
    "start_time": "2024-04-21T10:23:48.862Z"
   },
   {
    "duration": 113,
    "start_time": "2024-04-21T10:24:08.530Z"
   },
   {
    "duration": 33,
    "start_time": "2024-04-21T10:24:15.649Z"
   },
   {
    "duration": 37,
    "start_time": "2024-04-21T10:24:23.354Z"
   },
   {
    "duration": 40,
    "start_time": "2024-04-21T10:24:30.742Z"
   },
   {
    "duration": 37,
    "start_time": "2024-04-21T10:24:37.474Z"
   },
   {
    "duration": 37,
    "start_time": "2024-04-21T10:25:25.909Z"
   },
   {
    "duration": 40,
    "start_time": "2024-04-21T12:19:56.432Z"
   },
   {
    "duration": 29,
    "start_time": "2024-04-21T12:20:47.361Z"
   },
   {
    "duration": 24,
    "start_time": "2024-04-21T12:20:57.782Z"
   },
   {
    "duration": 35,
    "start_time": "2024-04-21T12:21:25.763Z"
   },
   {
    "duration": 35,
    "start_time": "2024-04-21T12:22:50.422Z"
   },
   {
    "duration": 35,
    "start_time": "2024-04-21T12:23:44.143Z"
   },
   {
    "duration": 39,
    "start_time": "2024-04-21T12:23:52.129Z"
   },
   {
    "duration": 34,
    "start_time": "2024-04-21T12:23:58.256Z"
   },
   {
    "duration": 24,
    "start_time": "2024-04-21T12:24:07.707Z"
   },
   {
    "duration": 3,
    "start_time": "2024-04-21T13:17:20.765Z"
   },
   {
    "duration": 6,
    "start_time": "2024-04-21T13:17:40.341Z"
   },
   {
    "duration": 34,
    "start_time": "2024-04-21T13:21:01.061Z"
   },
   {
    "duration": 21,
    "start_time": "2024-04-21T13:21:18.088Z"
   },
   {
    "duration": 26,
    "start_time": "2024-04-21T13:21:22.870Z"
   },
   {
    "duration": 93,
    "start_time": "2024-04-21T13:21:35.936Z"
   },
   {
    "duration": 21,
    "start_time": "2024-04-21T13:22:01.337Z"
   },
   {
    "duration": 18,
    "start_time": "2024-04-21T13:22:18.037Z"
   },
   {
    "duration": 28,
    "start_time": "2024-04-21T13:22:47.170Z"
   },
   {
    "duration": 178,
    "start_time": "2024-04-21T13:23:21.251Z"
   },
   {
    "duration": 24,
    "start_time": "2024-04-21T13:24:01.761Z"
   },
   {
    "duration": 21,
    "start_time": "2024-04-21T13:24:22.640Z"
   },
   {
    "duration": 157,
    "start_time": "2024-04-21T13:24:37.063Z"
   },
   {
    "duration": 176,
    "start_time": "2024-04-21T13:24:44.093Z"
   },
   {
    "duration": 161,
    "start_time": "2024-04-21T13:25:06.622Z"
   },
   {
    "duration": 158,
    "start_time": "2024-04-21T13:25:09.832Z"
   },
   {
    "duration": 169,
    "start_time": "2024-04-21T13:27:21.137Z"
   },
   {
    "duration": 78,
    "start_time": "2024-04-21T13:27:52.675Z"
   },
   {
    "duration": 89,
    "start_time": "2024-04-21T13:27:57.426Z"
   },
   {
    "duration": 166,
    "start_time": "2024-04-21T13:28:02.256Z"
   },
   {
    "duration": 159,
    "start_time": "2024-04-21T13:28:26.394Z"
   },
   {
    "duration": 3200,
    "start_time": "2024-04-21T14:45:04.538Z"
   },
   {
    "duration": 3236,
    "start_time": "2024-04-21T14:45:07.740Z"
   },
   {
    "duration": 3544,
    "start_time": "2024-04-21T14:45:10.980Z"
   },
   {
    "duration": 539,
    "start_time": "2024-04-21T14:45:14.526Z"
   },
   {
    "duration": 394,
    "start_time": "2024-04-21T14:45:15.067Z"
   },
   {
    "duration": 407,
    "start_time": "2024-04-21T14:45:15.462Z"
   },
   {
    "duration": 280,
    "start_time": "2024-04-21T14:45:15.870Z"
   },
   {
    "duration": 356,
    "start_time": "2024-04-21T14:45:16.152Z"
   },
   {
    "duration": 340,
    "start_time": "2024-04-21T14:45:16.511Z"
   },
   {
    "duration": 311,
    "start_time": "2024-04-21T14:45:16.853Z"
   },
   {
    "duration": 163,
    "start_time": "2024-04-21T14:45:17.165Z"
   },
   {
    "duration": 2972,
    "start_time": "2024-04-21T14:45:17.330Z"
   },
   {
    "duration": 291,
    "start_time": "2024-04-21T14:45:20.304Z"
   },
   {
    "duration": 1336,
    "start_time": "2024-04-21T14:45:20.598Z"
   },
   {
    "duration": 225,
    "start_time": "2024-04-21T14:45:21.936Z"
   },
   {
    "duration": 204,
    "start_time": "2024-04-21T14:45:22.162Z"
   },
   {
    "duration": 202,
    "start_time": "2024-04-21T14:45:22.367Z"
   },
   {
    "duration": 364,
    "start_time": "2024-04-21T14:45:22.571Z"
   },
   {
    "duration": 178,
    "start_time": "2024-04-21T14:45:22.937Z"
   },
   {
    "duration": 176,
    "start_time": "2024-04-21T14:45:23.116Z"
   },
   {
    "duration": 168,
    "start_time": "2024-04-21T14:45:23.295Z"
   },
   {
    "duration": 175,
    "start_time": "2024-04-21T14:45:23.465Z"
   },
   {
    "duration": 39,
    "start_time": "2024-04-21T14:45:23.642Z"
   },
   {
    "duration": 248,
    "start_time": "2024-04-21T14:45:23.683Z"
   },
   {
    "duration": 3163,
    "start_time": "2024-04-21T21:52:43.311Z"
   },
   {
    "duration": 3151,
    "start_time": "2024-04-21T21:52:46.482Z"
   },
   {
    "duration": 3501,
    "start_time": "2024-04-21T21:52:49.635Z"
   },
   {
    "duration": 493,
    "start_time": "2024-04-21T21:52:53.137Z"
   },
   {
    "duration": 385,
    "start_time": "2024-04-21T21:52:53.634Z"
   },
   {
    "duration": 397,
    "start_time": "2024-04-21T21:52:54.020Z"
   },
   {
    "duration": 273,
    "start_time": "2024-04-21T21:52:54.418Z"
   },
   {
    "duration": 346,
    "start_time": "2024-04-21T21:52:54.692Z"
   },
   {
    "duration": 291,
    "start_time": "2024-04-21T21:52:55.041Z"
   },
   {
    "duration": 324,
    "start_time": "2024-04-21T21:52:55.333Z"
   },
   {
    "duration": 145,
    "start_time": "2024-04-21T21:52:55.660Z"
   },
   {
    "duration": 2870,
    "start_time": "2024-04-21T21:52:55.807Z"
   },
   {
    "duration": 270,
    "start_time": "2024-04-21T21:52:58.681Z"
   },
   {
    "duration": 1232,
    "start_time": "2024-04-21T21:52:58.954Z"
   },
   {
    "duration": 211,
    "start_time": "2024-04-21T21:53:00.187Z"
   },
   {
    "duration": 203,
    "start_time": "2024-04-21T21:53:00.400Z"
   },
   {
    "duration": 204,
    "start_time": "2024-04-21T21:53:00.605Z"
   },
   {
    "duration": 348,
    "start_time": "2024-04-21T21:53:00.811Z"
   },
   {
    "duration": 174,
    "start_time": "2024-04-21T21:53:01.161Z"
   },
   {
    "duration": 186,
    "start_time": "2024-04-21T21:53:01.337Z"
   },
   {
    "duration": 167,
    "start_time": "2024-04-21T21:53:01.525Z"
   },
   {
    "duration": 178,
    "start_time": "2024-04-21T21:53:01.694Z"
   },
   {
    "duration": 27,
    "start_time": "2024-04-21T21:53:01.874Z"
   },
   {
    "duration": 353,
    "start_time": "2024-04-21T21:53:01.903Z"
   },
   {
    "duration": 2073,
    "start_time": "2024-04-21T22:52:54.814Z"
   },
   {
    "duration": 3071,
    "start_time": "2024-04-21T22:53:03.271Z"
   },
   {
    "duration": 3170,
    "start_time": "2024-04-21T22:53:06.345Z"
   },
   {
    "duration": 3370,
    "start_time": "2024-04-21T22:53:09.517Z"
   },
   {
    "duration": 496,
    "start_time": "2024-04-21T22:53:12.889Z"
   },
   {
    "duration": 369,
    "start_time": "2024-04-21T22:53:13.389Z"
   },
   {
    "duration": 411,
    "start_time": "2024-04-21T22:53:13.760Z"
   },
   {
    "duration": 276,
    "start_time": "2024-04-21T22:53:14.173Z"
   },
   {
    "duration": 388,
    "start_time": "2024-04-21T22:53:14.451Z"
   },
   {
    "duration": 312,
    "start_time": "2024-04-21T22:53:14.841Z"
   },
   {
    "duration": 299,
    "start_time": "2024-04-21T22:53:15.154Z"
   },
   {
    "duration": 144,
    "start_time": "2024-04-21T22:53:15.454Z"
   },
   {
    "duration": 2836,
    "start_time": "2024-04-21T22:53:15.600Z"
   },
   {
    "duration": 249,
    "start_time": "2024-04-21T22:53:18.437Z"
   },
   {
    "duration": 1256,
    "start_time": "2024-04-21T22:53:18.690Z"
   },
   {
    "duration": 190,
    "start_time": "2024-04-21T22:53:19.948Z"
   },
   {
    "duration": 204,
    "start_time": "2024-04-21T22:53:20.140Z"
   },
   {
    "duration": 221,
    "start_time": "2024-04-21T22:53:20.346Z"
   },
   {
    "duration": 350,
    "start_time": "2024-04-21T22:53:20.568Z"
   },
   {
    "duration": 166,
    "start_time": "2024-04-21T22:53:20.920Z"
   },
   {
    "duration": 145,
    "start_time": "2024-04-21T22:53:21.088Z"
   },
   {
    "duration": 150,
    "start_time": "2024-04-21T22:53:21.234Z"
   },
   {
    "duration": 163,
    "start_time": "2024-04-21T22:53:21.385Z"
   },
   {
    "duration": 36,
    "start_time": "2024-04-21T22:53:21.550Z"
   },
   {
    "duration": 231,
    "start_time": "2024-04-21T22:53:21.588Z"
   },
   {
    "duration": 2928,
    "start_time": "2024-04-21T22:53:58.435Z"
   },
   {
    "duration": 3174,
    "start_time": "2024-04-21T22:54:01.366Z"
   },
   {
    "duration": 13,
    "start_time": "2024-04-21T22:54:04.541Z"
   },
   {
    "duration": 3203,
    "start_time": "2024-04-21T22:54:04.555Z"
   },
   {
    "duration": 481,
    "start_time": "2024-04-21T22:54:07.760Z"
   },
   {
    "duration": 350,
    "start_time": "2024-04-21T22:54:08.243Z"
   },
   {
    "duration": 352,
    "start_time": "2024-04-21T22:54:08.595Z"
   },
   {
    "duration": 261,
    "start_time": "2024-04-21T22:54:08.949Z"
   },
   {
    "duration": 343,
    "start_time": "2024-04-21T22:54:09.212Z"
   },
   {
    "duration": 282,
    "start_time": "2024-04-21T22:54:09.558Z"
   },
   {
    "duration": 305,
    "start_time": "2024-04-21T22:54:09.841Z"
   },
   {
    "duration": 144,
    "start_time": "2024-04-21T22:54:10.147Z"
   },
   {
    "duration": 2755,
    "start_time": "2024-04-21T22:54:10.293Z"
   },
   {
    "duration": 263,
    "start_time": "2024-04-21T22:54:13.050Z"
   },
   {
    "duration": 1204,
    "start_time": "2024-04-21T22:54:13.314Z"
   },
   {
    "duration": 190,
    "start_time": "2024-04-21T22:54:14.520Z"
   },
   {
    "duration": 188,
    "start_time": "2024-04-21T22:54:14.712Z"
   },
   {
    "duration": 185,
    "start_time": "2024-04-21T22:54:14.902Z"
   },
   {
    "duration": 334,
    "start_time": "2024-04-21T22:54:15.089Z"
   },
   {
    "duration": 169,
    "start_time": "2024-04-21T22:54:15.425Z"
   },
   {
    "duration": 162,
    "start_time": "2024-04-21T22:54:15.600Z"
   },
   {
    "duration": 174,
    "start_time": "2024-04-21T22:54:15.764Z"
   },
   {
    "duration": 155,
    "start_time": "2024-04-21T22:54:15.940Z"
   },
   {
    "duration": 24,
    "start_time": "2024-04-21T22:54:16.097Z"
   },
   {
    "duration": 234,
    "start_time": "2024-04-21T22:54:16.123Z"
   },
   {
    "duration": 2952,
    "start_time": "2024-04-21T22:54:26.484Z"
   },
   {
    "duration": 3157,
    "start_time": "2024-04-21T22:54:29.438Z"
   },
   {
    "duration": 12,
    "start_time": "2024-04-21T22:54:32.597Z"
   },
   {
    "duration": 3305,
    "start_time": "2024-04-21T22:54:32.612Z"
   },
   {
    "duration": 456,
    "start_time": "2024-04-21T22:54:35.919Z"
   },
   {
    "duration": 356,
    "start_time": "2024-04-21T22:54:36.382Z"
   },
   {
    "duration": 396,
    "start_time": "2024-04-21T22:54:36.739Z"
   },
   {
    "duration": 257,
    "start_time": "2024-04-21T22:54:37.137Z"
   },
   {
    "duration": 300,
    "start_time": "2024-04-21T22:54:37.395Z"
   },
   {
    "duration": 306,
    "start_time": "2024-04-21T22:54:37.698Z"
   },
   {
    "duration": 318,
    "start_time": "2024-04-21T22:54:38.006Z"
   },
   {
    "duration": 142,
    "start_time": "2024-04-21T22:54:38.326Z"
   },
   {
    "duration": 2744,
    "start_time": "2024-04-21T22:54:38.470Z"
   },
   {
    "duration": 256,
    "start_time": "2024-04-21T22:54:41.217Z"
   },
   {
    "duration": 1194,
    "start_time": "2024-04-21T22:54:41.474Z"
   },
   {
    "duration": 196,
    "start_time": "2024-04-21T22:54:42.670Z"
   },
   {
    "duration": 190,
    "start_time": "2024-04-21T22:54:42.881Z"
   },
   {
    "duration": 219,
    "start_time": "2024-04-21T22:54:43.072Z"
   },
   {
    "duration": 324,
    "start_time": "2024-04-21T22:54:43.293Z"
   },
   {
    "duration": 165,
    "start_time": "2024-04-21T22:54:43.619Z"
   },
   {
    "duration": 189,
    "start_time": "2024-04-21T22:54:43.785Z"
   },
   {
    "duration": 162,
    "start_time": "2024-04-21T22:54:43.976Z"
   },
   {
    "duration": 155,
    "start_time": "2024-04-21T22:54:44.140Z"
   },
   {
    "duration": 26,
    "start_time": "2024-04-21T22:54:44.297Z"
   },
   {
    "duration": 258,
    "start_time": "2024-04-21T22:54:44.324Z"
   },
   {
    "duration": 3054,
    "start_time": "2024-04-21T23:02:52.587Z"
   },
   {
    "duration": 3117,
    "start_time": "2024-04-21T23:02:55.643Z"
   },
   {
    "duration": 3306,
    "start_time": "2024-04-21T23:02:58.761Z"
   },
   {
    "duration": 566,
    "start_time": "2024-04-21T23:03:02.069Z"
   },
   {
    "duration": 376,
    "start_time": "2024-04-21T23:03:02.636Z"
   },
   {
    "duration": 386,
    "start_time": "2024-04-21T23:03:03.013Z"
   },
   {
    "duration": 253,
    "start_time": "2024-04-21T23:03:03.401Z"
   },
   {
    "duration": 320,
    "start_time": "2024-04-21T23:03:03.656Z"
   },
   {
    "duration": 325,
    "start_time": "2024-04-21T23:03:03.984Z"
   },
   {
    "duration": 340,
    "start_time": "2024-04-21T23:03:04.313Z"
   },
   {
    "duration": 144,
    "start_time": "2024-04-21T23:03:04.655Z"
   },
   {
    "duration": 2800,
    "start_time": "2024-04-21T23:03:04.801Z"
   },
   {
    "duration": 259,
    "start_time": "2024-04-21T23:03:07.603Z"
   },
   {
    "duration": 1230,
    "start_time": "2024-04-21T23:03:07.863Z"
   },
   {
    "duration": 201,
    "start_time": "2024-04-21T23:03:09.096Z"
   },
   {
    "duration": 203,
    "start_time": "2024-04-21T23:03:09.299Z"
   },
   {
    "duration": 178,
    "start_time": "2024-04-21T23:03:09.504Z"
   },
   {
    "duration": 334,
    "start_time": "2024-04-21T23:03:09.684Z"
   },
   {
    "duration": 169,
    "start_time": "2024-04-21T23:03:10.020Z"
   },
   {
    "duration": 170,
    "start_time": "2024-04-21T23:03:10.191Z"
   },
   {
    "duration": 170,
    "start_time": "2024-04-21T23:03:10.362Z"
   },
   {
    "duration": 155,
    "start_time": "2024-04-21T23:03:10.533Z"
   },
   {
    "duration": 24,
    "start_time": "2024-04-21T23:03:10.690Z"
   },
   {
    "duration": 236,
    "start_time": "2024-04-21T23:03:10.716Z"
   },
   {
    "duration": 6,
    "start_time": "2024-04-21T23:03:15.664Z"
   },
   {
    "duration": 2936,
    "start_time": "2024-04-21T23:15:31.071Z"
   },
   {
    "duration": 2941,
    "start_time": "2024-04-21T23:15:34.010Z"
   },
   {
    "duration": 8,
    "start_time": "2024-04-21T23:15:36.953Z"
   },
   {
    "duration": 3150,
    "start_time": "2024-04-21T23:15:36.963Z"
   },
   {
    "duration": 459,
    "start_time": "2024-04-21T23:15:40.115Z"
   },
   {
    "duration": 342,
    "start_time": "2024-04-21T23:15:40.582Z"
   },
   {
    "duration": 361,
    "start_time": "2024-04-21T23:15:40.925Z"
   },
   {
    "duration": 295,
    "start_time": "2024-04-21T23:15:41.288Z"
   },
   {
    "duration": 308,
    "start_time": "2024-04-21T23:15:41.585Z"
   },
   {
    "duration": 265,
    "start_time": "2024-04-21T23:15:41.895Z"
   },
   {
    "duration": 276,
    "start_time": "2024-04-21T23:15:42.161Z"
   },
   {
    "duration": 169,
    "start_time": "2024-04-21T23:15:42.438Z"
   },
   {
    "duration": 2723,
    "start_time": "2024-04-21T23:15:42.609Z"
   },
   {
    "duration": 256,
    "start_time": "2024-04-21T23:15:45.334Z"
   },
   {
    "duration": 1222,
    "start_time": "2024-04-21T23:15:45.591Z"
   },
   {
    "duration": 187,
    "start_time": "2024-04-21T23:15:46.814Z"
   },
   {
    "duration": 195,
    "start_time": "2024-04-21T23:15:47.003Z"
   },
   {
    "duration": 187,
    "start_time": "2024-04-21T23:15:47.200Z"
   },
   {
    "duration": 355,
    "start_time": "2024-04-21T23:15:47.388Z"
   },
   {
    "duration": 163,
    "start_time": "2024-04-21T23:15:47.744Z"
   },
   {
    "duration": 156,
    "start_time": "2024-04-21T23:15:47.909Z"
   },
   {
    "duration": 152,
    "start_time": "2024-04-21T23:15:48.066Z"
   },
   {
    "duration": 158,
    "start_time": "2024-04-21T23:15:48.219Z"
   },
   {
    "duration": 24,
    "start_time": "2024-04-21T23:15:48.381Z"
   },
   {
    "duration": 231,
    "start_time": "2024-04-21T23:15:48.407Z"
   },
   {
    "duration": 40,
    "start_time": "2024-04-22T08:09:28.068Z"
   },
   {
    "duration": 2617,
    "start_time": "2024-04-22T08:09:36.290Z"
   },
   {
    "duration": 56,
    "start_time": "2024-04-22T08:09:41.779Z"
   },
   {
    "duration": 1648,
    "start_time": "2024-04-22T08:09:56.031Z"
   },
   {
    "duration": 102,
    "start_time": "2024-04-22T08:10:06.420Z"
   },
   {
    "duration": 55,
    "start_time": "2024-04-22T08:10:17.113Z"
   },
   {
    "duration": 2160,
    "start_time": "2024-04-22T08:12:24.265Z"
   },
   {
    "duration": 1532,
    "start_time": "2024-04-22T08:13:48.984Z"
   },
   {
    "duration": 1499,
    "start_time": "2024-04-22T08:14:40.775Z"
   },
   {
    "duration": 112,
    "start_time": "2024-04-22T08:21:04.628Z"
   },
   {
    "duration": 217,
    "start_time": "2024-04-22T08:22:11.470Z"
   },
   {
    "duration": 295,
    "start_time": "2024-04-22T08:22:22.723Z"
   },
   {
    "duration": 316,
    "start_time": "2024-04-22T08:22:29.091Z"
   },
   {
    "duration": 211,
    "start_time": "2024-04-22T08:22:33.132Z"
   },
   {
    "duration": 223,
    "start_time": "2024-04-22T08:23:01.307Z"
   },
   {
    "duration": 777,
    "start_time": "2024-04-22T08:28:39.576Z"
   },
   {
    "duration": 674,
    "start_time": "2024-04-22T08:29:02.825Z"
   },
   {
    "duration": 1479,
    "start_time": "2024-04-22T08:30:52.789Z"
   },
   {
    "duration": 80,
    "start_time": "2024-04-22T08:45:03.441Z"
   },
   {
    "duration": 1745,
    "start_time": "2024-04-22T08:46:21.006Z"
   },
   {
    "duration": 54,
    "start_time": "2024-04-22T15:24:21.884Z"
   },
   {
    "duration": 1121,
    "start_time": "2024-04-22T15:24:29.217Z"
   },
   {
    "duration": 3084,
    "start_time": "2024-04-22T15:24:33.043Z"
   },
   {
    "duration": 2267,
    "start_time": "2024-04-22T15:25:34.712Z"
   },
   {
    "duration": 724,
    "start_time": "2024-04-22T15:26:02.018Z"
   },
   {
    "duration": 62,
    "start_time": "2024-04-22T15:26:02.744Z"
   },
   {
    "duration": 2004,
    "start_time": "2024-04-22T15:26:02.807Z"
   },
   {
    "duration": 3439,
    "start_time": "2024-04-22T15:26:04.813Z"
   },
   {
    "duration": 8,
    "start_time": "2024-04-22T15:26:08.253Z"
   },
   {
    "duration": 2993,
    "start_time": "2024-04-22T15:26:08.263Z"
   },
   {
    "duration": 444,
    "start_time": "2024-04-22T15:26:11.258Z"
   },
   {
    "duration": 346,
    "start_time": "2024-04-22T15:26:11.704Z"
   },
   {
    "duration": 333,
    "start_time": "2024-04-22T15:26:12.051Z"
   },
   {
    "duration": 234,
    "start_time": "2024-04-22T15:26:12.386Z"
   },
   {
    "duration": 307,
    "start_time": "2024-04-22T15:26:12.622Z"
   },
   {
    "duration": 270,
    "start_time": "2024-04-22T15:26:12.931Z"
   },
   {
    "duration": 275,
    "start_time": "2024-04-22T15:26:13.202Z"
   },
   {
    "duration": 253,
    "start_time": "2024-04-22T15:26:13.479Z"
   },
   {
    "duration": 2488,
    "start_time": "2024-04-22T15:26:13.733Z"
   },
   {
    "duration": 236,
    "start_time": "2024-04-22T15:26:16.222Z"
   },
   {
    "duration": 2151,
    "start_time": "2024-04-22T15:26:16.460Z"
   },
   {
    "duration": 182,
    "start_time": "2024-04-22T15:26:18.612Z"
   },
   {
    "duration": 183,
    "start_time": "2024-04-22T15:26:18.795Z"
   },
   {
    "duration": 173,
    "start_time": "2024-04-22T15:26:18.979Z"
   },
   {
    "duration": 315,
    "start_time": "2024-04-22T15:26:19.154Z"
   },
   {
    "duration": 143,
    "start_time": "2024-04-22T15:26:19.474Z"
   },
   {
    "duration": 144,
    "start_time": "2024-04-22T15:26:19.619Z"
   },
   {
    "duration": 138,
    "start_time": "2024-04-22T15:26:19.765Z"
   },
   {
    "duration": 229,
    "start_time": "2024-04-22T15:26:19.904Z"
   },
   {
    "duration": 23,
    "start_time": "2024-04-22T15:26:20.135Z"
   },
   {
    "duration": 158,
    "start_time": "2024-04-22T15:26:20.159Z"
   },
   {
    "duration": 2257,
    "start_time": "2024-04-22T15:26:48.120Z"
   },
   {
    "duration": 2288,
    "start_time": "2024-04-22T15:27:10.843Z"
   },
   {
    "duration": 341,
    "start_time": "2024-04-22T15:28:04.479Z"
   },
   {
    "duration": 2112,
    "start_time": "2024-04-22T15:28:55.833Z"
   },
   {
    "duration": 762,
    "start_time": "2024-04-22T15:29:10.841Z"
   },
   {
    "duration": 70,
    "start_time": "2024-04-22T15:29:11.605Z"
   },
   {
    "duration": 1946,
    "start_time": "2024-04-22T15:29:11.680Z"
   },
   {
    "duration": 3484,
    "start_time": "2024-04-22T15:29:13.629Z"
   },
   {
    "duration": 7,
    "start_time": "2024-04-22T15:29:17.114Z"
   },
   {
    "duration": 3018,
    "start_time": "2024-04-22T15:29:17.122Z"
   },
   {
    "duration": 427,
    "start_time": "2024-04-22T15:29:20.142Z"
   },
   {
    "duration": 334,
    "start_time": "2024-04-22T15:29:20.571Z"
   },
   {
    "duration": 371,
    "start_time": "2024-04-22T15:29:20.906Z"
   },
   {
    "duration": 241,
    "start_time": "2024-04-22T15:29:21.278Z"
   },
   {
    "duration": 306,
    "start_time": "2024-04-22T15:29:21.521Z"
   },
   {
    "duration": 283,
    "start_time": "2024-04-22T15:29:21.828Z"
   },
   {
    "duration": 275,
    "start_time": "2024-04-22T15:29:22.113Z"
   },
   {
    "duration": 269,
    "start_time": "2024-04-22T15:29:22.390Z"
   },
   {
    "duration": 2529,
    "start_time": "2024-04-22T15:29:22.661Z"
   },
   {
    "duration": 235,
    "start_time": "2024-04-22T15:29:25.192Z"
   },
   {
    "duration": 2144,
    "start_time": "2024-04-22T15:29:25.429Z"
   },
   {
    "duration": 178,
    "start_time": "2024-04-22T15:29:27.575Z"
   },
   {
    "duration": 178,
    "start_time": "2024-04-22T15:29:27.754Z"
   },
   {
    "duration": 170,
    "start_time": "2024-04-22T15:29:27.933Z"
   },
   {
    "duration": 334,
    "start_time": "2024-04-22T15:29:28.104Z"
   },
   {
    "duration": 137,
    "start_time": "2024-04-22T15:29:28.439Z"
   },
   {
    "duration": 141,
    "start_time": "2024-04-22T15:29:28.577Z"
   },
   {
    "duration": 140,
    "start_time": "2024-04-22T15:29:28.719Z"
   },
   {
    "duration": 210,
    "start_time": "2024-04-22T15:29:28.861Z"
   },
   {
    "duration": 23,
    "start_time": "2024-04-22T15:29:29.074Z"
   },
   {
    "duration": 161,
    "start_time": "2024-04-22T15:29:29.098Z"
   },
   {
    "duration": 1259,
    "start_time": "2024-04-22T15:30:37.787Z"
   },
   {
    "duration": 2352,
    "start_time": "2024-04-22T15:30:46.575Z"
   },
   {
    "duration": 2309,
    "start_time": "2024-04-22T15:31:53.315Z"
   },
   {
    "duration": 2321,
    "start_time": "2024-04-22T15:32:41.582Z"
   },
   {
    "duration": 736,
    "start_time": "2024-04-22T15:33:08.699Z"
   },
   {
    "duration": 60,
    "start_time": "2024-04-22T15:33:09.436Z"
   },
   {
    "duration": 2636,
    "start_time": "2024-04-22T15:33:09.498Z"
   },
   {
    "duration": 2810,
    "start_time": "2024-04-22T15:33:12.136Z"
   },
   {
    "duration": 7,
    "start_time": "2024-04-22T15:33:14.948Z"
   },
   {
    "duration": 2995,
    "start_time": "2024-04-22T15:33:14.956Z"
   },
   {
    "duration": 441,
    "start_time": "2024-04-22T15:33:17.952Z"
   },
   {
    "duration": 337,
    "start_time": "2024-04-22T15:33:18.395Z"
   },
   {
    "duration": 334,
    "start_time": "2024-04-22T15:33:18.734Z"
   },
   {
    "duration": 255,
    "start_time": "2024-04-22T15:33:19.074Z"
   },
   {
    "duration": 295,
    "start_time": "2024-04-22T15:33:19.330Z"
   },
   {
    "duration": 266,
    "start_time": "2024-04-22T15:33:19.626Z"
   },
   {
    "duration": 284,
    "start_time": "2024-04-22T15:33:19.894Z"
   },
   {
    "duration": 253,
    "start_time": "2024-04-22T15:33:20.180Z"
   },
   {
    "duration": 2516,
    "start_time": "2024-04-22T15:33:20.434Z"
   },
   {
    "duration": 232,
    "start_time": "2024-04-22T15:33:22.951Z"
   },
   {
    "duration": 2210,
    "start_time": "2024-04-22T15:33:23.185Z"
   },
   {
    "duration": 185,
    "start_time": "2024-04-22T15:33:25.396Z"
   },
   {
    "duration": 185,
    "start_time": "2024-04-22T15:33:25.582Z"
   },
   {
    "duration": 177,
    "start_time": "2024-04-22T15:33:25.769Z"
   },
   {
    "duration": 317,
    "start_time": "2024-04-22T15:33:25.947Z"
   },
   {
    "duration": 144,
    "start_time": "2024-04-22T15:33:26.266Z"
   },
   {
    "duration": 144,
    "start_time": "2024-04-22T15:33:26.412Z"
   },
   {
    "duration": 142,
    "start_time": "2024-04-22T15:33:26.558Z"
   },
   {
    "duration": 214,
    "start_time": "2024-04-22T15:33:26.701Z"
   },
   {
    "duration": 23,
    "start_time": "2024-04-22T15:33:26.916Z"
   },
   {
    "duration": 160,
    "start_time": "2024-04-22T15:33:26.940Z"
   },
   {
    "duration": 2334,
    "start_time": "2024-04-22T15:33:59.742Z"
   },
   {
    "duration": 1323,
    "start_time": "2024-04-22T15:34:14.230Z"
   },
   {
    "duration": 811,
    "start_time": "2024-04-22T15:34:23.155Z"
   },
   {
    "duration": 67,
    "start_time": "2024-04-22T15:34:23.969Z"
   },
   {
    "duration": 2638,
    "start_time": "2024-04-22T15:34:24.037Z"
   },
   {
    "duration": 1471,
    "start_time": "2024-04-22T15:34:26.676Z"
   },
   {
    "duration": 10,
    "start_time": "2024-04-22T15:34:28.160Z"
   },
   {
    "duration": 2994,
    "start_time": "2024-04-22T15:34:28.172Z"
   },
   {
    "duration": 438,
    "start_time": "2024-04-22T15:34:31.168Z"
   },
   {
    "duration": 321,
    "start_time": "2024-04-22T15:34:31.607Z"
   },
   {
    "duration": 354,
    "start_time": "2024-04-22T15:34:31.930Z"
   },
   {
    "duration": 242,
    "start_time": "2024-04-22T15:34:32.285Z"
   },
   {
    "duration": 291,
    "start_time": "2024-04-22T15:34:32.528Z"
   },
   {
    "duration": 263,
    "start_time": "2024-04-22T15:34:32.821Z"
   },
   {
    "duration": 284,
    "start_time": "2024-04-22T15:34:33.086Z"
   },
   {
    "duration": 261,
    "start_time": "2024-04-22T15:34:33.373Z"
   },
   {
    "duration": 2535,
    "start_time": "2024-04-22T15:34:33.635Z"
   },
   {
    "duration": 236,
    "start_time": "2024-04-22T15:34:36.172Z"
   },
   {
    "duration": 2238,
    "start_time": "2024-04-22T15:34:36.410Z"
   },
   {
    "duration": 178,
    "start_time": "2024-04-22T15:34:38.649Z"
   },
   {
    "duration": 187,
    "start_time": "2024-04-22T15:34:38.829Z"
   },
   {
    "duration": 174,
    "start_time": "2024-04-22T15:34:39.017Z"
   },
   {
    "duration": 318,
    "start_time": "2024-04-22T15:34:39.192Z"
   },
   {
    "duration": 136,
    "start_time": "2024-04-22T15:34:39.512Z"
   },
   {
    "duration": 143,
    "start_time": "2024-04-22T15:34:39.650Z"
   },
   {
    "duration": 149,
    "start_time": "2024-04-22T15:34:39.795Z"
   },
   {
    "duration": 217,
    "start_time": "2024-04-22T15:34:39.946Z"
   },
   {
    "duration": 29,
    "start_time": "2024-04-22T15:34:40.165Z"
   },
   {
    "duration": 155,
    "start_time": "2024-04-22T15:34:40.196Z"
   },
   {
    "duration": 789,
    "start_time": "2024-04-22T15:35:48.208Z"
   },
   {
    "duration": 62,
    "start_time": "2024-04-22T15:35:48.998Z"
   },
   {
    "duration": 2653,
    "start_time": "2024-04-22T15:35:49.062Z"
   },
   {
    "duration": 2826,
    "start_time": "2024-04-22T15:35:51.716Z"
   },
   {
    "duration": 7,
    "start_time": "2024-04-22T15:35:54.544Z"
   },
   {
    "duration": 2976,
    "start_time": "2024-04-22T15:35:54.552Z"
   },
   {
    "duration": 436,
    "start_time": "2024-04-22T15:35:57.529Z"
   },
   {
    "duration": 343,
    "start_time": "2024-04-22T15:35:57.966Z"
   },
   {
    "duration": 335,
    "start_time": "2024-04-22T15:35:58.310Z"
   },
   {
    "duration": 274,
    "start_time": "2024-04-22T15:35:58.646Z"
   },
   {
    "duration": 306,
    "start_time": "2024-04-22T15:35:58.922Z"
   },
   {
    "duration": 282,
    "start_time": "2024-04-22T15:35:59.230Z"
   },
   {
    "duration": 272,
    "start_time": "2024-04-22T15:35:59.513Z"
   },
   {
    "duration": 264,
    "start_time": "2024-04-22T15:35:59.788Z"
   },
   {
    "duration": 2533,
    "start_time": "2024-04-22T15:36:00.054Z"
   },
   {
    "duration": 227,
    "start_time": "2024-04-22T15:36:02.588Z"
   },
   {
    "duration": 2221,
    "start_time": "2024-04-22T15:36:02.816Z"
   },
   {
    "duration": 182,
    "start_time": "2024-04-22T15:36:05.039Z"
   },
   {
    "duration": 185,
    "start_time": "2024-04-22T15:36:05.222Z"
   },
   {
    "duration": 188,
    "start_time": "2024-04-22T15:36:05.409Z"
   },
   {
    "duration": 320,
    "start_time": "2024-04-22T15:36:05.599Z"
   },
   {
    "duration": 142,
    "start_time": "2024-04-22T15:36:05.921Z"
   },
   {
    "duration": 146,
    "start_time": "2024-04-22T15:36:06.065Z"
   },
   {
    "duration": 141,
    "start_time": "2024-04-22T15:36:06.213Z"
   },
   {
    "duration": 209,
    "start_time": "2024-04-22T15:36:06.356Z"
   },
   {
    "duration": 29,
    "start_time": "2024-04-22T15:36:06.566Z"
   },
   {
    "duration": 166,
    "start_time": "2024-04-22T15:36:06.597Z"
   },
   {
    "duration": 2191,
    "start_time": "2024-04-22T15:38:13.148Z"
   },
   {
    "duration": 795,
    "start_time": "2024-04-22T15:38:28.948Z"
   },
   {
    "duration": 63,
    "start_time": "2024-04-22T15:38:29.745Z"
   },
   {
    "duration": 2670,
    "start_time": "2024-04-22T15:38:29.809Z"
   },
   {
    "duration": 3054,
    "start_time": "2024-04-22T15:38:32.480Z"
   },
   {
    "duration": 7,
    "start_time": "2024-04-22T15:38:35.536Z"
   },
   {
    "duration": 3116,
    "start_time": "2024-04-22T15:38:35.544Z"
   },
   {
    "duration": 446,
    "start_time": "2024-04-22T15:38:38.661Z"
   },
   {
    "duration": 326,
    "start_time": "2024-04-22T15:38:39.108Z"
   },
   {
    "duration": 351,
    "start_time": "2024-04-22T15:38:39.435Z"
   },
   {
    "duration": 248,
    "start_time": "2024-04-22T15:38:39.788Z"
   },
   {
    "duration": 300,
    "start_time": "2024-04-22T15:38:40.037Z"
   },
   {
    "duration": 265,
    "start_time": "2024-04-22T15:38:40.338Z"
   },
   {
    "duration": 276,
    "start_time": "2024-04-22T15:38:40.605Z"
   },
   {
    "duration": 296,
    "start_time": "2024-04-22T15:38:40.885Z"
   },
   {
    "duration": 2520,
    "start_time": "2024-04-22T15:38:41.183Z"
   },
   {
    "duration": 250,
    "start_time": "2024-04-22T15:38:43.704Z"
   },
   {
    "duration": 2191,
    "start_time": "2024-04-22T15:38:43.955Z"
   },
   {
    "duration": 180,
    "start_time": "2024-04-22T15:38:46.147Z"
   },
   {
    "duration": 189,
    "start_time": "2024-04-22T15:38:46.328Z"
   },
   {
    "duration": 179,
    "start_time": "2024-04-22T15:38:46.518Z"
   },
   {
    "duration": 328,
    "start_time": "2024-04-22T15:38:46.699Z"
   },
   {
    "duration": 137,
    "start_time": "2024-04-22T15:38:47.028Z"
   },
   {
    "duration": 150,
    "start_time": "2024-04-22T15:38:47.167Z"
   },
   {
    "duration": 139,
    "start_time": "2024-04-22T15:38:47.319Z"
   },
   {
    "duration": 223,
    "start_time": "2024-04-22T15:38:47.459Z"
   },
   {
    "duration": 25,
    "start_time": "2024-04-22T15:38:47.684Z"
   },
   {
    "duration": 164,
    "start_time": "2024-04-22T15:38:47.711Z"
   },
   {
    "duration": 1088,
    "start_time": "2024-04-23T08:07:21.667Z"
   },
   {
    "duration": 65,
    "start_time": "2024-04-23T08:07:22.757Z"
   },
   {
    "duration": 2135,
    "start_time": "2024-04-23T08:07:22.823Z"
   },
   {
    "duration": 3322,
    "start_time": "2024-04-23T08:07:24.961Z"
   },
   {
    "duration": 13,
    "start_time": "2024-04-23T08:07:28.285Z"
   },
   {
    "duration": 3404,
    "start_time": "2024-04-23T08:07:28.299Z"
   },
   {
    "duration": 521,
    "start_time": "2024-04-23T08:07:31.705Z"
   },
   {
    "duration": 363,
    "start_time": "2024-04-23T08:07:32.227Z"
   },
   {
    "duration": 388,
    "start_time": "2024-04-23T08:07:32.592Z"
   },
   {
    "duration": 299,
    "start_time": "2024-04-23T08:07:32.983Z"
   },
   {
    "duration": 327,
    "start_time": "2024-04-23T08:07:33.284Z"
   },
   {
    "duration": 290,
    "start_time": "2024-04-23T08:07:33.612Z"
   },
   {
    "duration": 292,
    "start_time": "2024-04-23T08:07:33.903Z"
   },
   {
    "duration": 299,
    "start_time": "2024-04-23T08:07:34.196Z"
   },
   {
    "duration": 2831,
    "start_time": "2024-04-23T08:07:34.496Z"
   },
   {
    "duration": 262,
    "start_time": "2024-04-23T08:07:37.329Z"
   },
   {
    "duration": 2500,
    "start_time": "2024-04-23T08:07:37.592Z"
   },
   {
    "duration": 213,
    "start_time": "2024-04-23T08:07:40.094Z"
   },
   {
    "duration": 230,
    "start_time": "2024-04-23T08:07:40.309Z"
   },
   {
    "duration": 221,
    "start_time": "2024-04-23T08:07:40.541Z"
   },
   {
    "duration": 398,
    "start_time": "2024-04-23T08:07:40.763Z"
   },
   {
    "duration": 167,
    "start_time": "2024-04-23T08:07:41.162Z"
   },
   {
    "duration": 193,
    "start_time": "2024-04-23T08:07:41.331Z"
   },
   {
    "duration": 170,
    "start_time": "2024-04-23T08:07:41.526Z"
   },
   {
    "duration": 234,
    "start_time": "2024-04-23T08:07:41.698Z"
   },
   {
    "duration": 30,
    "start_time": "2024-04-23T08:07:41.933Z"
   },
   {
    "duration": 226,
    "start_time": "2024-04-23T08:07:41.965Z"
   },
   {
    "duration": 838,
    "start_time": "2024-04-23T09:14:35.547Z"
   },
   {
    "duration": 64,
    "start_time": "2024-04-23T09:14:36.387Z"
   },
   {
    "duration": 2196,
    "start_time": "2024-04-23T09:14:36.453Z"
   },
   {
    "duration": 3195,
    "start_time": "2024-04-23T09:14:38.652Z"
   },
   {
    "duration": 7,
    "start_time": "2024-04-23T09:14:41.850Z"
   },
   {
    "duration": 62,
    "start_time": "2024-04-23T09:14:41.859Z"
   },
   {
    "duration": 3269,
    "start_time": "2024-04-23T09:14:41.922Z"
   },
   {
    "duration": 476,
    "start_time": "2024-04-23T09:14:45.193Z"
   },
   {
    "duration": 379,
    "start_time": "2024-04-23T09:14:45.670Z"
   },
   {
    "duration": 397,
    "start_time": "2024-04-23T09:14:46.050Z"
   },
   {
    "duration": 250,
    "start_time": "2024-04-23T09:14:46.448Z"
   },
   {
    "duration": 313,
    "start_time": "2024-04-23T09:14:46.699Z"
   },
   {
    "duration": 282,
    "start_time": "2024-04-23T09:14:47.014Z"
   },
   {
    "duration": 282,
    "start_time": "2024-04-23T09:14:47.298Z"
   },
   {
    "duration": 282,
    "start_time": "2024-04-23T09:14:47.581Z"
   },
   {
    "duration": 2724,
    "start_time": "2024-04-23T09:14:47.864Z"
   },
   {
    "duration": 254,
    "start_time": "2024-04-23T09:14:50.590Z"
   },
   {
    "duration": 2528,
    "start_time": "2024-04-23T09:14:50.846Z"
   },
   {
    "duration": 197,
    "start_time": "2024-04-23T09:14:53.376Z"
   },
   {
    "duration": 198,
    "start_time": "2024-04-23T09:14:53.575Z"
   },
   {
    "duration": 196,
    "start_time": "2024-04-23T09:14:53.780Z"
   },
   {
    "duration": 353,
    "start_time": "2024-04-23T09:14:53.980Z"
   },
   {
    "duration": 172,
    "start_time": "2024-04-23T09:14:54.334Z"
   },
   {
    "duration": 175,
    "start_time": "2024-04-23T09:14:54.507Z"
   },
   {
    "duration": 156,
    "start_time": "2024-04-23T09:14:54.684Z"
   },
   {
    "duration": 229,
    "start_time": "2024-04-23T09:14:54.842Z"
   },
   {
    "duration": 29,
    "start_time": "2024-04-23T09:14:55.073Z"
   },
   {
    "duration": 183,
    "start_time": "2024-04-23T09:14:55.104Z"
   },
   {
    "duration": 808,
    "start_time": "2024-04-23T09:21:58.431Z"
   },
   {
    "duration": 76,
    "start_time": "2024-04-23T09:21:59.241Z"
   },
   {
    "duration": 2086,
    "start_time": "2024-04-23T09:21:59.318Z"
   },
   {
    "duration": 3610,
    "start_time": "2024-04-23T09:22:01.406Z"
   },
   {
    "duration": 13,
    "start_time": "2024-04-23T09:22:05.019Z"
   },
   {
    "duration": 3446,
    "start_time": "2024-04-23T09:22:05.034Z"
   },
   {
    "duration": 504,
    "start_time": "2024-04-23T09:22:08.482Z"
   },
   {
    "duration": 362,
    "start_time": "2024-04-23T09:22:08.988Z"
   },
   {
    "duration": 400,
    "start_time": "2024-04-23T09:22:09.352Z"
   },
   {
    "duration": 292,
    "start_time": "2024-04-23T09:22:09.753Z"
   },
   {
    "duration": 348,
    "start_time": "2024-04-23T09:22:10.046Z"
   },
   {
    "duration": 298,
    "start_time": "2024-04-23T09:22:10.395Z"
   },
   {
    "duration": 335,
    "start_time": "2024-04-23T09:22:10.695Z"
   },
   {
    "duration": 284,
    "start_time": "2024-04-23T09:22:11.033Z"
   },
   {
    "duration": 2764,
    "start_time": "2024-04-23T09:22:11.319Z"
   },
   {
    "duration": 276,
    "start_time": "2024-04-23T09:22:14.085Z"
   },
   {
    "duration": 2420,
    "start_time": "2024-04-23T09:22:14.363Z"
   },
   {
    "duration": 205,
    "start_time": "2024-04-23T09:22:16.785Z"
   },
   {
    "duration": 203,
    "start_time": "2024-04-23T09:22:16.992Z"
   },
   {
    "duration": 197,
    "start_time": "2024-04-23T09:22:17.196Z"
   },
   {
    "duration": 377,
    "start_time": "2024-04-23T09:22:17.395Z"
   },
   {
    "duration": 159,
    "start_time": "2024-04-23T09:22:17.774Z"
   },
   {
    "duration": 161,
    "start_time": "2024-04-23T09:22:17.935Z"
   },
   {
    "duration": 155,
    "start_time": "2024-04-23T09:22:18.097Z"
   },
   {
    "duration": 238,
    "start_time": "2024-04-23T09:22:18.253Z"
   },
   {
    "duration": 27,
    "start_time": "2024-04-23T09:22:18.493Z"
   },
   {
    "duration": 190,
    "start_time": "2024-04-23T09:22:18.522Z"
   },
   {
    "duration": 1264,
    "start_time": "2024-04-23T09:41:24.468Z"
   },
   {
    "duration": 70,
    "start_time": "2024-04-23T09:41:25.734Z"
   },
   {
    "duration": 2238,
    "start_time": "2024-04-23T09:41:25.805Z"
   },
   {
    "duration": 3383,
    "start_time": "2024-04-23T09:41:28.045Z"
   },
   {
    "duration": 12,
    "start_time": "2024-04-23T09:41:31.430Z"
   },
   {
    "duration": 3482,
    "start_time": "2024-04-23T09:41:31.444Z"
   },
   {
    "duration": 461,
    "start_time": "2024-04-23T09:41:34.928Z"
   },
   {
    "duration": 416,
    "start_time": "2024-04-23T09:41:35.391Z"
   },
   {
    "duration": 392,
    "start_time": "2024-04-23T09:41:35.809Z"
   },
   {
    "duration": 256,
    "start_time": "2024-04-23T09:41:36.203Z"
   },
   {
    "duration": 429,
    "start_time": "2024-04-23T09:41:36.461Z"
   },
   {
    "duration": 211,
    "start_time": "2024-04-23T09:41:36.892Z"
   },
   {
    "duration": 319,
    "start_time": "2024-04-23T09:41:37.106Z"
   },
   {
    "duration": 302,
    "start_time": "2024-04-23T09:41:37.427Z"
   },
   {
    "duration": 3597,
    "start_time": "2024-04-23T09:41:37.731Z"
   },
   {
    "duration": 292,
    "start_time": "2024-04-23T09:41:41.330Z"
   },
   {
    "duration": 2471,
    "start_time": "2024-04-23T09:41:41.624Z"
   },
   {
    "duration": 210,
    "start_time": "2024-04-23T09:41:44.096Z"
   },
   {
    "duration": 210,
    "start_time": "2024-04-23T09:41:44.307Z"
   },
   {
    "duration": 196,
    "start_time": "2024-04-23T09:41:44.519Z"
   },
   {
    "duration": 359,
    "start_time": "2024-04-23T09:41:44.717Z"
   },
   {
    "duration": 157,
    "start_time": "2024-04-23T09:41:45.078Z"
   },
   {
    "duration": 194,
    "start_time": "2024-04-23T09:41:45.237Z"
   },
   {
    "duration": 243,
    "start_time": "2024-04-23T09:41:45.433Z"
   },
   {
    "duration": 175,
    "start_time": "2024-04-23T09:41:45.678Z"
   },
   {
    "duration": 29,
    "start_time": "2024-04-23T09:41:45.859Z"
   },
   {
    "duration": 181,
    "start_time": "2024-04-23T09:41:45.890Z"
   },
   {
    "duration": 1960,
    "start_time": "2024-04-23T09:42:46.589Z"
   },
   {
    "duration": 964,
    "start_time": "2024-04-23T09:44:04.339Z"
   },
   {
    "duration": 72,
    "start_time": "2024-04-23T09:44:05.305Z"
   },
   {
    "duration": 2225,
    "start_time": "2024-04-23T09:44:05.378Z"
   },
   {
    "duration": 3305,
    "start_time": "2024-04-23T09:44:07.605Z"
   },
   {
    "duration": 8,
    "start_time": "2024-04-23T09:44:10.911Z"
   },
   {
    "duration": 4115,
    "start_time": "2024-04-23T09:44:10.921Z"
   },
   {
    "duration": 533,
    "start_time": "2024-04-23T09:44:15.037Z"
   },
   {
    "duration": 360,
    "start_time": "2024-04-23T09:44:15.572Z"
   },
   {
    "duration": 376,
    "start_time": "2024-04-23T09:44:15.933Z"
   },
   {
    "duration": 273,
    "start_time": "2024-04-23T09:44:16.312Z"
   },
   {
    "duration": 399,
    "start_time": "2024-04-23T09:44:16.586Z"
   },
   {
    "duration": 335,
    "start_time": "2024-04-23T09:44:16.986Z"
   },
   {
    "duration": 309,
    "start_time": "2024-04-23T09:44:17.323Z"
   },
   {
    "duration": 308,
    "start_time": "2024-04-23T09:44:17.634Z"
   },
   {
    "duration": 2805,
    "start_time": "2024-04-23T09:44:17.943Z"
   },
   {
    "duration": 266,
    "start_time": "2024-04-23T09:44:20.750Z"
   },
   {
    "duration": 2310,
    "start_time": "2024-04-23T09:44:21.018Z"
   },
   {
    "duration": 208,
    "start_time": "2024-04-23T09:44:23.330Z"
   },
   {
    "duration": 201,
    "start_time": "2024-04-23T09:44:23.539Z"
   },
   {
    "duration": 199,
    "start_time": "2024-04-23T09:44:23.742Z"
   },
   {
    "duration": 360,
    "start_time": "2024-04-23T09:44:23.943Z"
   },
   {
    "duration": 144,
    "start_time": "2024-04-23T09:44:24.305Z"
   },
   {
    "duration": 182,
    "start_time": "2024-04-23T09:44:24.450Z"
   },
   {
    "duration": 161,
    "start_time": "2024-04-23T09:44:24.634Z"
   },
   {
    "duration": 163,
    "start_time": "2024-04-23T09:44:24.796Z"
   },
   {
    "duration": 25,
    "start_time": "2024-04-23T09:44:24.960Z"
   },
   {
    "duration": 179,
    "start_time": "2024-04-23T09:44:24.986Z"
   },
   {
    "duration": 964,
    "start_time": "2024-04-23T09:46:59.837Z"
   },
   {
    "duration": 87,
    "start_time": "2024-04-23T09:47:00.803Z"
   },
   {
    "duration": 2300,
    "start_time": "2024-04-23T09:47:00.892Z"
   },
   {
    "duration": 3436,
    "start_time": "2024-04-23T09:47:03.194Z"
   },
   {
    "duration": 9,
    "start_time": "2024-04-23T09:47:06.632Z"
   },
   {
    "duration": 3426,
    "start_time": "2024-04-23T09:47:06.643Z"
   },
   {
    "duration": 510,
    "start_time": "2024-04-23T09:47:10.071Z"
   },
   {
    "duration": 390,
    "start_time": "2024-04-23T09:47:10.583Z"
   },
   {
    "duration": 441,
    "start_time": "2024-04-23T09:47:10.975Z"
   },
   {
    "duration": 272,
    "start_time": "2024-04-23T09:47:11.420Z"
   },
   {
    "duration": 453,
    "start_time": "2024-04-23T09:47:11.694Z"
   },
   {
    "duration": 211,
    "start_time": "2024-04-23T09:47:12.149Z"
   },
   {
    "duration": 311,
    "start_time": "2024-04-23T09:47:12.362Z"
   },
   {
    "duration": 309,
    "start_time": "2024-04-23T09:47:12.675Z"
   },
   {
    "duration": 2916,
    "start_time": "2024-04-23T09:47:12.986Z"
   },
   {
    "duration": 304,
    "start_time": "2024-04-23T09:47:15.904Z"
   },
   {
    "duration": 2198,
    "start_time": "2024-04-23T09:47:16.210Z"
   },
   {
    "duration": 210,
    "start_time": "2024-04-23T09:47:18.410Z"
   },
   {
    "duration": 215,
    "start_time": "2024-04-23T09:47:18.621Z"
   },
   {
    "duration": 223,
    "start_time": "2024-04-23T09:47:18.838Z"
   },
   {
    "duration": 370,
    "start_time": "2024-04-23T09:47:19.063Z"
   },
   {
    "duration": 180,
    "start_time": "2024-04-23T09:47:19.435Z"
   },
   {
    "duration": 183,
    "start_time": "2024-04-23T09:47:19.616Z"
   },
   {
    "duration": 168,
    "start_time": "2024-04-23T09:47:19.800Z"
   },
   {
    "duration": 180,
    "start_time": "2024-04-23T09:47:19.970Z"
   },
   {
    "duration": 33,
    "start_time": "2024-04-23T09:47:20.152Z"
   },
   {
    "duration": 301,
    "start_time": "2024-04-23T09:47:20.187Z"
   },
   {
    "duration": 903,
    "start_time": "2024-04-23T09:49:00.169Z"
   },
   {
    "duration": 88,
    "start_time": "2024-04-23T09:49:01.074Z"
   },
   {
    "duration": 2331,
    "start_time": "2024-04-23T09:49:01.164Z"
   },
   {
    "duration": 4294,
    "start_time": "2024-04-23T09:49:03.498Z"
   },
   {
    "duration": 8,
    "start_time": "2024-04-23T09:49:07.794Z"
   },
   {
    "duration": 3509,
    "start_time": "2024-04-23T09:49:07.804Z"
   },
   {
    "duration": 496,
    "start_time": "2024-04-23T09:49:11.315Z"
   },
   {
    "duration": 429,
    "start_time": "2024-04-23T09:49:11.812Z"
   },
   {
    "duration": 405,
    "start_time": "2024-04-23T09:49:12.243Z"
   },
   {
    "duration": 246,
    "start_time": "2024-04-23T09:49:12.651Z"
   },
   {
    "duration": 433,
    "start_time": "2024-04-23T09:49:12.899Z"
   },
   {
    "duration": 213,
    "start_time": "2024-04-23T09:49:13.333Z"
   },
   {
    "duration": 347,
    "start_time": "2024-04-23T09:49:13.548Z"
   },
   {
    "duration": 324,
    "start_time": "2024-04-23T09:49:13.897Z"
   },
   {
    "duration": 2810,
    "start_time": "2024-04-23T09:49:14.223Z"
   },
   {
    "duration": 278,
    "start_time": "2024-04-23T09:49:17.035Z"
   },
   {
    "duration": 2365,
    "start_time": "2024-04-23T09:49:17.315Z"
   },
   {
    "duration": 214,
    "start_time": "2024-04-23T09:49:19.682Z"
   },
   {
    "duration": 213,
    "start_time": "2024-04-23T09:49:19.898Z"
   },
   {
    "duration": 214,
    "start_time": "2024-04-23T09:49:20.113Z"
   },
   {
    "duration": 379,
    "start_time": "2024-04-23T09:49:20.329Z"
   },
   {
    "duration": 171,
    "start_time": "2024-04-23T09:49:20.710Z"
   },
   {
    "duration": 217,
    "start_time": "2024-04-23T09:49:20.882Z"
   },
   {
    "duration": 206,
    "start_time": "2024-04-23T09:49:21.101Z"
   },
   {
    "duration": 218,
    "start_time": "2024-04-23T09:49:21.309Z"
   },
   {
    "duration": 37,
    "start_time": "2024-04-23T09:49:21.529Z"
   },
   {
    "duration": 181,
    "start_time": "2024-04-23T09:49:21.568Z"
   },
   {
    "duration": 3159,
    "start_time": "2024-04-23T09:50:07.419Z"
   },
   {
    "duration": 1374,
    "start_time": "2024-04-23T09:50:27.535Z"
   },
   {
    "duration": 87,
    "start_time": "2024-04-23T09:50:28.911Z"
   },
   {
    "duration": 2320,
    "start_time": "2024-04-23T09:50:28.999Z"
   },
   {
    "duration": 4260,
    "start_time": "2024-04-23T09:50:31.322Z"
   },
   {
    "duration": 9,
    "start_time": "2024-04-23T09:50:35.583Z"
   },
   {
    "duration": 3525,
    "start_time": "2024-04-23T09:50:35.594Z"
   },
   {
    "duration": 514,
    "start_time": "2024-04-23T09:50:39.120Z"
   },
   {
    "duration": 401,
    "start_time": "2024-04-23T09:50:39.636Z"
   },
   {
    "duration": 428,
    "start_time": "2024-04-23T09:50:40.039Z"
   },
   {
    "duration": 258,
    "start_time": "2024-04-23T09:50:40.470Z"
   },
   {
    "duration": 434,
    "start_time": "2024-04-23T09:50:40.730Z"
   },
   {
    "duration": 221,
    "start_time": "2024-04-23T09:50:41.166Z"
   },
   {
    "duration": 316,
    "start_time": "2024-04-23T09:50:41.389Z"
   },
   {
    "duration": 314,
    "start_time": "2024-04-23T09:50:41.707Z"
   },
   {
    "duration": 2851,
    "start_time": "2024-04-23T09:50:42.023Z"
   },
   {
    "duration": 274,
    "start_time": "2024-04-23T09:50:44.875Z"
   },
   {
    "duration": 2293,
    "start_time": "2024-04-23T09:50:45.150Z"
   },
   {
    "duration": 221,
    "start_time": "2024-04-23T09:50:47.445Z"
   },
   {
    "duration": 212,
    "start_time": "2024-04-23T09:50:47.667Z"
   },
   {
    "duration": 201,
    "start_time": "2024-04-23T09:50:47.880Z"
   },
   {
    "duration": 368,
    "start_time": "2024-04-23T09:50:48.083Z"
   },
   {
    "duration": 159,
    "start_time": "2024-04-23T09:50:48.458Z"
   },
   {
    "duration": 186,
    "start_time": "2024-04-23T09:50:48.620Z"
   },
   {
    "duration": 166,
    "start_time": "2024-04-23T09:50:48.808Z"
   },
   {
    "duration": 167,
    "start_time": "2024-04-23T09:50:48.975Z"
   },
   {
    "duration": 30,
    "start_time": "2024-04-23T09:50:49.144Z"
   },
   {
    "duration": 249,
    "start_time": "2024-04-23T09:50:49.175Z"
   },
   {
    "duration": 867,
    "start_time": "2024-04-23T09:53:14.171Z"
   },
   {
    "duration": 74,
    "start_time": "2024-04-23T09:53:15.040Z"
   },
   {
    "duration": 2219,
    "start_time": "2024-04-23T09:53:15.116Z"
   },
   {
    "duration": 3438,
    "start_time": "2024-04-23T09:53:17.338Z"
   },
   {
    "duration": 9,
    "start_time": "2024-04-23T09:53:20.777Z"
   },
   {
    "duration": 3684,
    "start_time": "2024-04-23T09:53:20.788Z"
   },
   {
    "duration": 484,
    "start_time": "2024-04-23T09:53:24.474Z"
   },
   {
    "duration": 362,
    "start_time": "2024-04-23T09:53:24.960Z"
   },
   {
    "duration": 415,
    "start_time": "2024-04-23T09:53:25.324Z"
   },
   {
    "duration": 281,
    "start_time": "2024-04-23T09:53:25.743Z"
   },
   {
    "duration": 439,
    "start_time": "2024-04-23T09:53:26.026Z"
   },
   {
    "duration": 213,
    "start_time": "2024-04-23T09:53:26.467Z"
   },
   {
    "duration": 308,
    "start_time": "2024-04-23T09:53:26.681Z"
   },
   {
    "duration": 350,
    "start_time": "2024-04-23T09:53:26.990Z"
   },
   {
    "duration": 3004,
    "start_time": "2024-04-23T09:53:27.342Z"
   },
   {
    "duration": 298,
    "start_time": "2024-04-23T09:53:30.348Z"
   },
   {
    "duration": 3402,
    "start_time": "2024-04-23T09:53:30.647Z"
   },
   {
    "duration": 258,
    "start_time": "2024-04-23T09:53:34.051Z"
   },
   {
    "duration": 244,
    "start_time": "2024-04-23T09:53:34.311Z"
   },
   {
    "duration": 213,
    "start_time": "2024-04-23T09:53:34.559Z"
   },
   {
    "duration": 381,
    "start_time": "2024-04-23T09:53:34.774Z"
   },
   {
    "duration": 160,
    "start_time": "2024-04-23T09:53:35.157Z"
   },
   {
    "duration": 199,
    "start_time": "2024-04-23T09:53:35.319Z"
   },
   {
    "duration": 163,
    "start_time": "2024-04-23T09:53:35.520Z"
   },
   {
    "duration": 176,
    "start_time": "2024-04-23T09:53:35.685Z"
   },
   {
    "duration": 29,
    "start_time": "2024-04-23T09:53:35.863Z"
   },
   {
    "duration": 190,
    "start_time": "2024-04-23T09:53:35.893Z"
   },
   {
    "duration": 958,
    "start_time": "2024-04-24T03:47:01.609Z"
   },
   {
    "duration": 52,
    "start_time": "2024-04-24T03:47:02.569Z"
   },
   {
    "duration": 1638,
    "start_time": "2024-04-24T03:47:02.622Z"
   },
   {
    "duration": 2274,
    "start_time": "2024-04-24T03:47:04.262Z"
   },
   {
    "duration": 7,
    "start_time": "2024-04-24T03:47:06.537Z"
   },
   {
    "duration": 2497,
    "start_time": "2024-04-24T03:47:06.545Z"
   },
   {
    "duration": 340,
    "start_time": "2024-04-24T03:47:09.044Z"
   },
   {
    "duration": 268,
    "start_time": "2024-04-24T03:47:09.385Z"
   },
   {
    "duration": 273,
    "start_time": "2024-04-24T03:47:09.655Z"
   },
   {
    "duration": 187,
    "start_time": "2024-04-24T03:47:09.930Z"
   },
   {
    "duration": 328,
    "start_time": "2024-04-24T03:47:10.118Z"
   },
   {
    "duration": 146,
    "start_time": "2024-04-24T03:47:10.447Z"
   },
   {
    "duration": 232,
    "start_time": "2024-04-24T03:47:10.594Z"
   },
   {
    "duration": 227,
    "start_time": "2024-04-24T03:47:10.827Z"
   },
   {
    "duration": 1964,
    "start_time": "2024-04-24T03:47:11.055Z"
   },
   {
    "duration": 202,
    "start_time": "2024-04-24T03:47:13.020Z"
   },
   {
    "duration": 1531,
    "start_time": "2024-04-24T03:47:13.224Z"
   },
   {
    "duration": 167,
    "start_time": "2024-04-24T03:47:14.756Z"
   },
   {
    "duration": 176,
    "start_time": "2024-04-24T03:47:14.924Z"
   },
   {
    "duration": 152,
    "start_time": "2024-04-24T03:47:15.101Z"
   },
   {
    "duration": 278,
    "start_time": "2024-04-24T03:47:15.255Z"
   },
   {
    "duration": 113,
    "start_time": "2024-04-24T03:47:15.534Z"
   },
   {
    "duration": 130,
    "start_time": "2024-04-24T03:47:15.648Z"
   },
   {
    "duration": 126,
    "start_time": "2024-04-24T03:47:15.779Z"
   },
   {
    "duration": 124,
    "start_time": "2024-04-24T03:47:15.907Z"
   },
   {
    "duration": 21,
    "start_time": "2024-04-24T03:47:16.033Z"
   },
   {
    "duration": 131,
    "start_time": "2024-04-24T03:47:16.056Z"
   },
   {
    "duration": 32,
    "start_time": "2024-04-24T03:49:29.326Z"
   },
   {
    "duration": 716,
    "start_time": "2024-04-24T03:54:50.810Z"
   },
   {
    "duration": 51,
    "start_time": "2024-04-24T03:54:51.528Z"
   },
   {
    "duration": 1636,
    "start_time": "2024-04-24T03:54:51.580Z"
   },
   {
    "duration": 2320,
    "start_time": "2024-04-24T03:54:53.218Z"
   },
   {
    "duration": 8,
    "start_time": "2024-04-24T03:54:55.539Z"
   },
   {
    "duration": 2513,
    "start_time": "2024-04-24T03:54:55.548Z"
   },
   {
    "duration": 333,
    "start_time": "2024-04-24T03:54:58.062Z"
   },
   {
    "duration": 264,
    "start_time": "2024-04-24T03:54:58.396Z"
   },
   {
    "duration": 271,
    "start_time": "2024-04-24T03:54:58.661Z"
   },
   {
    "duration": 188,
    "start_time": "2024-04-24T03:54:58.934Z"
   },
   {
    "duration": 324,
    "start_time": "2024-04-24T03:54:59.123Z"
   },
   {
    "duration": 145,
    "start_time": "2024-04-24T03:54:59.448Z"
   },
   {
    "duration": 227,
    "start_time": "2024-04-24T03:54:59.594Z"
   },
   {
    "duration": 221,
    "start_time": "2024-04-24T03:54:59.822Z"
   },
   {
    "duration": 1959,
    "start_time": "2024-04-24T03:55:00.044Z"
   },
   {
    "duration": 201,
    "start_time": "2024-04-24T03:55:02.004Z"
   },
   {
    "duration": 1568,
    "start_time": "2024-04-24T03:55:02.206Z"
   },
   {
    "duration": 164,
    "start_time": "2024-04-24T03:55:03.775Z"
   },
   {
    "duration": 174,
    "start_time": "2024-04-24T03:55:03.941Z"
   },
   {
    "duration": 164,
    "start_time": "2024-04-24T03:55:04.116Z"
   },
   {
    "duration": 282,
    "start_time": "2024-04-24T03:55:04.281Z"
   },
   {
    "duration": 129,
    "start_time": "2024-04-24T03:55:04.565Z"
   },
   {
    "duration": 135,
    "start_time": "2024-04-24T03:55:04.702Z"
   },
   {
    "duration": 126,
    "start_time": "2024-04-24T03:55:04.838Z"
   },
   {
    "duration": 129,
    "start_time": "2024-04-24T03:55:04.965Z"
   },
   {
    "duration": 21,
    "start_time": "2024-04-24T03:55:05.101Z"
   },
   {
    "duration": 144,
    "start_time": "2024-04-24T03:55:05.123Z"
   }
  ],
  "colab": {
   "provenance": []
  },
  "kernelspec": {
   "display_name": "Python 3 (ipykernel)",
   "language": "python",
   "name": "python3"
  },
  "language_info": {
   "codemirror_mode": {
    "name": "ipython",
    "version": 3
   },
   "file_extension": ".py",
   "mimetype": "text/x-python",
   "name": "python",
   "nbconvert_exporter": "python",
   "pygments_lexer": "ipython3",
   "version": "3.9.5"
  },
  "toc": {
   "base_numbering": 1,
   "nav_menu": {
    "height": "386px",
    "width": "688px"
   },
   "number_sections": true,
   "sideBar": true,
   "skip_h1_title": true,
   "title_cell": "Table of Contents",
   "title_sidebar": "Contents",
   "toc_cell": false,
   "toc_position": {
    "height": "calc(100% - 180px)",
    "left": "10px",
    "top": "150px",
    "width": "374.375px"
   },
   "toc_section_display": true,
   "toc_window_display": true
  }
 },
 "nbformat": 4,
 "nbformat_minor": 1
}
