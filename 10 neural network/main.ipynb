{
 "cells": [
  {
   "cell_type": "markdown",
   "id": "c437f12c",
   "metadata": {},
   "source": [
    "## Описание проекта"
   ]
  },
  {
   "cell_type": "markdown",
   "id": "45ea4f1c",
   "metadata": {},
   "source": [
    "**Прогнозирование температуры звезды**\n",
    "\n",
    "Вам пришла задача от обсерватории «Небо на ладони»: придумать, как с помощью нейросети определять температуру на поверхности обнаруженных звёзд. Обычно для расчёта температуры учёные пользуются следующими методами:\n",
    "\n",
    "    -Закон смещения Вина.\n",
    "    -Закон Стефана-Больцмана.\n",
    "    -Спектральный анализ.\n",
    "Каждый из них имеет плюсы и минусы. Обсерватория хочет внедрить технологии машинного обучения для предсказания температуры звёзд, надеясь, что этот метод будет наиболее точным и удобным.\n",
    "В базе обсерватории есть характеристики уже изученных 240 звёзд.\n",
    "В этом самостоятельном проекте вам необходимо разработать нейронную сеть, которая поможет предсказывать абсолютную температуру на поверхности звезды."
   ]
  },
  {
   "cell_type": "code",
   "execution_count": 2,
   "id": "spectacular-folder",
   "metadata": {},
   "outputs": [],
   "source": [
    "import warnings\n",
    "import pandas as pd\n",
    "import matplotlib.pyplot as plt\n",
    "import seaborn as sns\n",
    "import torch\n",
    "import torch.nn as nn\n",
    "import numpy as np\n",
    "import optuna\n",
    "\n",
    "from torch.utils.data import DataLoader, TensorDataset\n",
    "from phik import phik_matrix\n",
    "from sklearn.model_selection import train_test_split\n",
    "from sklearn.preprocessing import StandardScaler, OneHotEncoder"
   ]
  },
  {
   "cell_type": "code",
   "execution_count": 3,
   "id": "ddcdd143",
   "metadata": {},
   "outputs": [],
   "source": [
    "warnings.filterwarnings('ignore')"
   ]
  },
  {
   "cell_type": "code",
   "execution_count": 4,
   "id": "6f166edc",
   "metadata": {},
   "outputs": [],
   "source": [
    "RANDOM_STATE = 0\n",
    "TEST_SIZE = 0.1\n",
    "torch.manual_seed(RANDOM_STATE)\n",
    "torch.use_deterministic_algorithms(True)"
   ]
  },
  {
   "cell_type": "markdown",
   "id": "57018ebd",
   "metadata": {},
   "source": [
    "Импорт необходимых библиотек + константы"
   ]
  },
  {
   "cell_type": "markdown",
   "id": "corresponding-armstrong",
   "metadata": {
    "ExecuteTime": {
     "end_time": "2022-05-05T04:58:05.692448Z",
     "start_time": "2022-05-05T04:58:05.688565Z"
    }
   },
   "source": [
    "## Загрузка данных"
   ]
  },
  {
   "cell_type": "code",
   "execution_count": null,
   "id": "e98b2b92",
   "metadata": {},
   "outputs": [],
   "source": [
    "data = pd.read_csv('YOUR_DATA')"
   ]
  },
  {
   "cell_type": "code",
   "execution_count": 6,
   "id": "12e7bf02",
   "metadata": {
    "scrolled": true
   },
   "outputs": [
    {
     "name": "stdout",
     "output_type": "stream",
     "text": [
      "<class 'pandas.core.frame.DataFrame'>\n",
      "RangeIndex: 240 entries, 0 to 239\n",
      "Data columns (total 7 columns):\n",
      " #   Column                  Non-Null Count  Dtype  \n",
      "---  ------                  --------------  -----  \n",
      " 0   Unnamed: 0              240 non-null    int64  \n",
      " 1   Temperature (K)         240 non-null    int64  \n",
      " 2   Luminosity(L/Lo)        240 non-null    float64\n",
      " 3   Radius(R/Ro)            240 non-null    float64\n",
      " 4   Absolute magnitude(Mv)  240 non-null    float64\n",
      " 5   Star type               240 non-null    int64  \n",
      " 6   Star color              240 non-null    object \n",
      "dtypes: float64(3), int64(3), object(1)\n",
      "memory usage: 13.2+ KB\n"
     ]
    }
   ],
   "source": [
    "data.info()"
   ]
  },
  {
   "cell_type": "markdown",
   "id": "2a41ed4c",
   "metadata": {},
   "source": [
    "**Характеристики**\n",
    "\n",
    "    -Относительная светимость L/Lo — светимость звезды относительно Солнца.\n",
    "    -Относительный радиус R/Ro — радиус звезды относительно радиуса Солнца.\n",
    "    -Абсолютная звёздная величина Mv — физическая величина, характеризующая блеск звезды.\n",
    "    -Звёздный цвет — цвет звезды, который определяют на основе спектрального анализа.\n",
    "    -Тип звезды.\n",
    "    -Абсолютная температура T(K) — температура на поверхности звезды в Кельвинах.(Целевой признак)"
   ]
  },
  {
   "cell_type": "markdown",
   "id": "simple-subdivision",
   "metadata": {},
   "source": [
    "## Предобработка и анализ данных"
   ]
  },
  {
   "cell_type": "markdown",
   "id": "e02aac99",
   "metadata": {},
   "source": [
    "### Предобработка"
   ]
  },
  {
   "cell_type": "code",
   "execution_count": 7,
   "id": "90a5f478",
   "metadata": {},
   "outputs": [],
   "source": [
    "data = data.rename(columns={\n",
    "    'Unnamed: 0': 'star_num',\n",
    "    'Temperature (K)': 'temp_k',\n",
    "    'Luminosity(L/Lo)': 'luminosity_l/lo',\n",
    "    'Radius(R/Ro)': 'radius_r/ro',\n",
    "    'Absolute magnitude(Mv)': 'am_mv',\n",
    "    'Star type': 'star_type',\n",
    "    'Star color': 'star_color'\n",
    "})"
   ]
  },
  {
   "cell_type": "code",
   "execution_count": 8,
   "id": "8ed238ed",
   "metadata": {},
   "outputs": [],
   "source": [
    "data.star_color = data.star_color.str.lower()\n",
    "data.star_color = data.star_color.replace({\n",
    "    'blue white': 'blue',\n",
    "    'blue ': 'blue',\n",
    "    'white-yellow': 'yellow',\n",
    "    'yellow-white': 'yellow',\n",
    "    'orange-red': 'red',\n",
    "    'blue-white': 'blue',\n",
    "    'blue white ': 'blue',\n",
    "    'pale yellow orange': 'orange',\n",
    "    'whitish': 'white',\n",
    "    'yellowish white': 'yellow',\n",
    "    'yellowish-white': 'yellow',\n",
    "    'yellowish': 'yellow'\n",
    "})"
   ]
  },
  {
   "cell_type": "code",
   "execution_count": 9,
   "id": "9a4c63b1",
   "metadata": {},
   "outputs": [],
   "source": [
    "data.star_type = data.star_type.astype('category')\n",
    "data.star_color = data.star_color.astype('category')\n",
    "#data = data[data['radius_r/ro'] < 250]"
   ]
  },
  {
   "cell_type": "markdown",
   "id": "9441d820",
   "metadata": {},
   "source": [
    "Во время предобработки столбцы в датасете были переименованы, в соответствии с правилами. Исправлены неявные дубликаты в столбце с цветами звезд(star_color), также удалены выбросы в столбце с относительным радиусом(radius_r/ro) и изменен тип данных у столбцов star_type и star_color на категорию."
   ]
  },
  {
   "cell_type": "markdown",
   "id": "7083c1d4",
   "metadata": {},
   "source": [
    "### EDA"
   ]
  },
  {
   "cell_type": "code",
   "execution_count": 10,
   "id": "flush-dream",
   "metadata": {},
   "outputs": [],
   "source": [
    "def pie_chart(data, column, **kwargs):\n",
    "    data[column].value_counts().plot(\n",
    "        kind='pie',\n",
    "        figsize=(10,10),\n",
    "        autopct='%1.1f%%',\n",
    "        wedgeprops={'width':0.5},\n",
    "        ylabel='',\n",
    "        **kwargs\n",
    "    )\n",
    "    plt.tight_layout()\n",
    "    plt.legend(bbox_to_anchor=(1.3, 1), loc='upper right', fontsize=11)\n",
    "    plt.show()"
   ]
  },
  {
   "cell_type": "code",
   "execution_count": 47,
   "id": "e8b48885",
   "metadata": {},
   "outputs": [],
   "source": [
    "def hist_chart(data, column, **kwargs):\n",
    "    data[column].plot(\n",
    "        kind='hist',\n",
    "        figsize=(20,7),\n",
    "        color='#BA55D3',\n",
    "        **kwargs\n",
    "    )\n",
    "    plt.axvline(x=data[column].mean(), color='red', linestyle='--', label='Mean value')\n",
    "    plt.axvline(x=data[column].median(), color='green', linestyle='--', label='Median value')\n",
    "    plt.legend()\n",
    "    plt.show()"
   ]
  },
  {
   "cell_type": "code",
   "execution_count": 48,
   "id": "c77742ac",
   "metadata": {},
   "outputs": [],
   "source": [
    "def boxplot_chart(data, column, title, xlabel, ylabel):\n",
    "    fig, ax = plt.subplots(figsize=(20,7))\n",
    "    sns.boxplot(\n",
    "        x=column,\n",
    "        data=data,\n",
    "        ax=ax,\n",
    "        palette=['#BA55D3'],\n",
    "        flierprops={\n",
    "            'marker': 'o',\n",
    "            'markersize': 10,\n",
    "            'markerfacecolor': 'blue',\n",
    "            'markeredgecolor': 'black'\n",
    "        }\n",
    "    )\n",
    "    plt.title(title)\n",
    "    plt.xlabel(xlabel)\n",
    "    plt.ylabel(ylabel)\n",
    "    plt.tight_layout()\n",
    "    plt.show()"
   ]
  },
  {
   "cell_type": "markdown",
   "id": "e5641af4",
   "metadata": {},
   "source": [
    "Введены функции для отрисовки нужных графиков"
   ]
  },
  {
   "cell_type": "code",
   "execution_count": 13,
   "id": "42535bbf",
   "metadata": {},
   "outputs": [
    {
     "name": "stdout",
     "output_type": "stream",
     "text": [
      "star_num           1.0\n",
      "temp_k             1.0\n",
      "luminosity_l/lo    1.0\n",
      "radius_r/ro        1.0\n",
      "am_mv              1.0\n",
      "star_type          1.0\n",
      "star_color         1.0\n",
      "dtype: float64\n"
     ]
    }
   ],
   "source": [
    "print(data.count()/len(data))"
   ]
  },
  {
   "cell_type": "code",
   "execution_count": 14,
   "id": "de46e4be",
   "metadata": {},
   "outputs": [
    {
     "name": "stdout",
     "output_type": "stream",
     "text": [
      "0\n"
     ]
    }
   ],
   "source": [
    "print(data.duplicated().sum())"
   ]
  },
  {
   "cell_type": "markdown",
   "id": "b0af5fcc",
   "metadata": {},
   "source": [
    "Явных дубликатов и пропусков в данных нет"
   ]
  },
  {
   "cell_type": "markdown",
   "id": "56c1a827",
   "metadata": {},
   "source": [
    "#### Категориальные признаки"
   ]
  },
  {
   "cell_type": "code",
   "execution_count": 15,
   "id": "0fa2cc5e",
   "metadata": {},
   "outputs": [
    {
     "data": {
      "image/png": "[encoded data removed]",
      "text/plain": [
       "<Figure size 720x720 with 1 Axes>"
      ]
     },
     "metadata": {},
     "output_type": "display_data"
    }
   ],
   "source": [
    "pie_chart(data, 'star_color')"
   ]
  },
  {
   "cell_type": "markdown",
   "id": "81f0fd3f",
   "metadata": {},
   "source": [
    "Чаще всего встречаются звезды красного(45%) и голубого(42%) цветов"
   ]
  },
  {
   "cell_type": "code",
   "execution_count": 16,
   "id": "58be365e",
   "metadata": {
    "scrolled": false
   },
   "outputs": [
    {
     "data": {
      "image/png": "[encoded data removed]",
      "text/plain": [
       "<Figure size 720x720 with 1 Axes>"
      ]
     },
     "metadata": {},
     "output_type": "display_data"
    }
   ],
   "source": [
    "pie_chart(data, 'star_type')"
   ]
  },
  {
   "cell_type": "markdown",
   "id": "a27dd56e",
   "metadata": {},
   "source": [
    "Все пять типов звезд распределены равномерно по 20% каждый"
   ]
  },
  {
   "cell_type": "markdown",
   "id": "b779fce2",
   "metadata": {},
   "source": [
    "#### Числовые признаки"
   ]
  },
  {
   "cell_type": "code",
   "execution_count": 49,
   "id": "b042faa5",
   "metadata": {},
   "outputs": [
    {
     "data": {
      "image/png": "[encoded data removed]",
      "text/plain": [
       "<Figure size 1440x504 with 1 Axes>"
      ]
     },
     "metadata": {
      "needs_background": "light"
     },
     "output_type": "display_data"
    },
    {
     "data": {
      "image/png": "[encoded data removed]",
      "text/plain": [
       "<Figure size 1440x504 with 1 Axes>"
      ]
     },
     "metadata": {
      "needs_background": "light"
     },
     "output_type": "display_data"
    }
   ],
   "source": [
    "hist_chart(data, 'temp_k')\n",
    "boxplot_chart(data, 'temp_k', 'Ящик с усами для температуры', 'Температура', 'Значение')"
   ]
  },
  {
   "cell_type": "markdown",
   "id": "735847fc",
   "metadata": {},
   "source": [
    "Средняя температура звезд ~10000 К., больше всего звезд находится в пределе 5000 Кельвинов, также есть выбросы при значении более 30000 Кельвинов, удалять их не буду, так как это целевой признак. Распределение ассиметричное вправо"
   ]
  },
  {
   "cell_type": "code",
   "execution_count": 50,
   "id": "13039f0d",
   "metadata": {},
   "outputs": [
    {
     "data": {
      "image/png": "[encoded data removed]",
      "text/plain": [
       "<Figure size 1440x504 with 1 Axes>"
      ]
     },
     "metadata": {
      "needs_background": "light"
     },
     "output_type": "display_data"
    },
    {
     "data": {
      "image/png": "[encoded data removed]",
      "text/plain": [
       "<Figure size 1440x504 with 1 Axes>"
      ]
     },
     "metadata": {
      "needs_background": "light"
     },
     "output_type": "display_data"
    }
   ],
   "source": [
    "hist_chart(data, 'luminosity_l/lo')\n",
    "boxplot_chart(data, 'luminosity_l/lo', 'Ящик с усами для относительной светимости', 'Относительная светимость', 'Значение')"
   ]
  },
  {
   "cell_type": "markdown",
   "id": "8152d025",
   "metadata": {},
   "source": [
    "Средняя относительная светимость звезд относительно Солнца ~80000 L/Lo, большинство звезд находится со значениями до 100000 L/Lo. От значения 100000 и выше можно увидеть много выбросов, удалять их не буду, данных и так немного, удаление повлияет на качество модели. Распределение ассиметричное вправо"
   ]
  },
  {
   "cell_type": "code",
   "execution_count": 19,
   "id": "2301b3b5",
   "metadata": {},
   "outputs": [
    {
     "data": {
      "image/png": "[encoded data removed]",
      "text/plain": [
       "<Figure size 720x720 with 1 Axes>"
      ]
     },
     "metadata": {
      "needs_background": "light"
     },
     "output_type": "display_data"
    },
    {
     "data": {
      "image/png": "[encoded data removed]",
      "text/plain": [
       "<Figure size 720x720 with 1 Axes>"
      ]
     },
     "metadata": {
      "needs_background": "light"
     },
     "output_type": "display_data"
    }
   ],
   "source": [
    "hist_chart(data, 'radius_r/ro')\n",
    "boxplot_chart(data, 'radius_r/ro', 'Ящик с усами для относительного радиуса', 'Радиус', 'Значение')"
   ]
  },
  {
   "cell_type": "markdown",
   "id": "8d63542e",
   "metadata": {},
   "source": [
    "Средний относительный радиус звезд ~13-14 R/Ro, большинство звезд имеют радиус до 10 R/Ro. Данные уже очищены от выбросов. Распределение ассиметричное вправо"
   ]
  },
  {
   "cell_type": "code",
   "execution_count": 20,
   "id": "5b45a2f5",
   "metadata": {},
   "outputs": [
    {
     "data": {
      "image/png": "[encoded data removed]",
      "text/plain": [
       "<Figure size 720x720 with 1 Axes>"
      ]
     },
     "metadata": {
      "needs_background": "light"
     },
     "output_type": "display_data"
    },
    {
     "data": {
      "image/png": "[encoded data removed]",
      "text/plain": [
       "<Figure size 720x720 with 1 Axes>"
      ]
     },
     "metadata": {
      "needs_background": "light"
     },
     "output_type": "display_data"
    }
   ],
   "source": [
    "hist_chart(data, 'am_mv')\n",
    "boxplot_chart(data, 'am_mv', 'Ящик с усами для абсолютная звёздной величины', 'Абсолютная звёздная величина', 'Значение')"
   ]
  },
  {
   "cell_type": "markdown",
   "id": "74e69059",
   "metadata": {},
   "source": [
    "Средний относительный радиус звезд ~ 7 Mv, большинство звезд имеют радиус от -7до -6 Mv и 13 Mv. Данные не содержат выбросов. Распределение двумодальное"
   ]
  },
  {
   "cell_type": "markdown",
   "id": "998a02f1",
   "metadata": {},
   "source": [
    "#### Корреляции"
   ]
  },
  {
   "cell_type": "code",
   "execution_count": 21,
   "id": "96448e37",
   "metadata": {},
   "outputs": [
    {
     "data": {
      "image/png": "[encoded data removed]",
      "text/plain": [
       "<Figure size 720x576 with 2 Axes>"
      ]
     },
     "metadata": {
      "needs_background": "light"
     },
     "output_type": "display_data"
    }
   ],
   "source": [
    "plt.figure(figsize=(10, 8))\n",
    "sns.heatmap(phik_matrix(data[[\n",
    "    'star_num',\n",
    "    'temp_k',\n",
    "    'luminosity_l/lo',\n",
    "    'radius_r/ro',\n",
    "    'star_type',\n",
    "    'star_color'\n",
    "]], interval_cols=['star_num', 'temp_k', 'luminosity_l/lo', 'radius_r/ro']), annot=True, cmap='coolwarm')\n",
    "plt.show()"
   ]
  },
  {
   "cell_type": "markdown",
   "id": "e9af2492",
   "metadata": {},
   "source": [
    "Выведена матрица корреляций, в ней те признаки, которые будут использоваться для обучения моделей, мультиколлинеарности не наблюдается"
   ]
  },
  {
   "cell_type": "markdown",
   "id": "funded-electric",
   "metadata": {},
   "source": [
    "## Построение нейронных сетей"
   ]
  },
  {
   "cell_type": "markdown",
   "id": "59d74a46",
   "metadata": {},
   "source": [
    "### Подготовка данных"
   ]
  },
  {
   "cell_type": "code",
   "execution_count": 22,
   "id": "b20ec32c",
   "metadata": {},
   "outputs": [],
   "source": [
    "X = data.drop('temp_k', axis=1)\n",
    "y = data.temp_k"
   ]
  },
  {
   "cell_type": "code",
   "execution_count": 23,
   "id": "564396db",
   "metadata": {},
   "outputs": [],
   "source": [
    "num_cols = [\n",
    "    'star_num',\n",
    "    'luminosity_l/lo',\n",
    "    'radius_r/ro']\n",
    "\n",
    "cat_cols = [\n",
    "    'star_type',\n",
    "    'star_color'\n",
    "]"
   ]
  },
  {
   "cell_type": "code",
   "execution_count": 24,
   "id": "eb2ebbbb",
   "metadata": {},
   "outputs": [],
   "source": [
    "X_train, X_test, y_train, y_test = train_test_split(\n",
    "    X,\n",
    "    y, \n",
    "    test_size=TEST_SIZE,\n",
    "    random_state=RANDOM_STATE,\n",
    "    shuffle=True\n",
    ")"
   ]
  },
  {
   "cell_type": "code",
   "execution_count": 25,
   "id": "forced-concentrate",
   "metadata": {},
   "outputs": [],
   "source": [
    "scaler = StandardScaler()\n",
    "X_train_scaled = scaler.fit_transform(X_train[num_cols])\n",
    "X_test_scaled = scaler.transform(X_test[num_cols])\n",
    "\n",
    "encoder = OneHotEncoder(drop='first', sparse=False)\n",
    "X_train_ohe = encoder.fit_transform(X_train[cat_cols])\n",
    "X_test_ohe = encoder.transform(X_test[cat_cols])\n",
    "\n",
    "X_train_scaled = pd.DataFrame(X_train_scaled, columns=num_cols)\n",
    "X_test_scaled = pd.DataFrame(X_test_scaled, columns=num_cols)\n",
    "\n",
    "encoder_col_names = encoder.get_feature_names()\n",
    "X_train_ohe = pd.DataFrame(X_train_ohe, columns=encoder_col_names)\n",
    "X_test_ohe = pd.DataFrame(X_test_ohe, columns=encoder_col_names)\n",
    "\n",
    "X_train = pd.concat([X_train_ohe, X_train_scaled], axis=1)\n",
    "X_test = pd.concat([X_test_ohe, X_test_scaled], axis=1)"
   ]
  },
  {
   "cell_type": "code",
   "execution_count": 26,
   "id": "73485901",
   "metadata": {},
   "outputs": [],
   "source": [
    "X_train = torch.FloatTensor(X_train.values)\n",
    "X_test = torch.FloatTensor(X_test.values)\n",
    "y_train = torch.FloatTensor(y_train.values)\n",
    "y_test = torch.FloatTensor(y_test.values)\n",
    "\n",
    "train_dataset = TensorDataset(X_train, y_train)\n",
    "test_dataset = TensorDataset(X_test, y_test)"
   ]
  },
  {
   "cell_type": "markdown",
   "id": "5e0323fc",
   "metadata": {},
   "source": [
    "Данные для обучения нейронных сетей готовы: разбиты на выборки, применено масштабирование и приведены к нужному типу данных"
   ]
  },
  {
   "cell_type": "markdown",
   "id": "1a2a44f6",
   "metadata": {},
   "source": [
    "### Простая нейронная сеть"
   ]
  },
  {
   "cell_type": "code",
   "execution_count": 27,
   "id": "f35078ce",
   "metadata": {},
   "outputs": [],
   "source": [
    "def vizual(y, preds):\n",
    "    preds = preds.reshape([-1]).detach().numpy()\n",
    "    x = np.arange(len(y))\n",
    "    \n",
    "    fig, ax = plt.subplots(figsize=(17, 5)) \n",
    "\n",
    "    ax.bar(x, y, label='Факт', color='skyblue', edgecolor='black', alpha=0.7)\n",
    "    ax.bar(x, preds, width=0.4, label='Прогноз', color='lightgreen', edgecolor='black')\n",
    "    \n",
    "    ax.set_title('Факт-Прогноз', fontsize=16)\n",
    "    ax.set_xlabel('Номер звезды', fontsize=14)\n",
    "    ax.set_ylabel('Температура звезды (K)', fontsize=14)\n",
    "    ax.set_xticks(x)\n",
    "    ax.legend(fontsize=15)\n",
    "    \n",
    "    plt.tight_layout()\n",
    "    plt.show()"
   ]
  },
  {
   "cell_type": "code",
   "execution_count": 28,
   "id": "70ba025b",
   "metadata": {},
   "outputs": [],
   "source": [
    "def learning_fn_baseline(net):\n",
    "    optimizer = torch.optim.Adam(net.parameters(), lr=1e-3, weight_decay=1e-4)\n",
    "    loss_fn = nn.MSELoss()\n",
    "    num_epochs = 13000\n",
    "    best_rmse = float('inf')\n",
    "    for epoch in range(num_epochs):\n",
    "        net.train()\n",
    "        optimizer.zero_grad()\n",
    "        train_preds = net(X_train).flatten()\n",
    "        train_loss = loss_fn(train_preds, y_train)\n",
    "        train_loss.backward()\n",
    "        optimizer.step()\n",
    "    \n",
    "        if epoch % 50 == 0 or epoch == num_epochs - 1:\n",
    "            net.eval()\n",
    "            with torch.no_grad():\n",
    "                test_preds = net(X_test).flatten()\n",
    "                test_rmse = torch.sqrt(loss_fn(test_preds, y_test))\n",
    "                print(f'Epoch {epoch:4d} | Train Loss: {train_loss.item():.4f} | Test RMSE: {test_rmse.item():.4f}')\n",
    "\n",
    "                if test_rmse < best_rmse:\n",
    "                    best_rmse = test_rmse\n",
    "\n",
    "    print(f'Best Test RMSE: {best_rmse.item():.4f}')\n",
    "    print(f'{\"=\"*40}')\n",
    "    vizual(y_test, test_preds)"
   ]
  },
  {
   "cell_type": "code",
   "execution_count": 29,
   "id": "d1301406",
   "metadata": {},
   "outputs": [],
   "source": [
    "def learning_fn_improvement(net):\n",
    "    optimizer = torch.optim.Adam(net.parameters(), lr=1e-2, weight_decay=1e-4)\n",
    "    loss_fn = nn.MSELoss()\n",
    "    num_epochs = 10000\n",
    "    train_loader = DataLoader(train_dataset, batch_size=103, shuffle=True) \n",
    "    best_rmse = float('inf')\n",
    "    for epoch in range(num_epochs):\n",
    "        net.train()\n",
    "        for X_batch, y_batch in train_loader:\n",
    "            optimizer.zero_grad()\n",
    "            train_preds = net(X_train).flatten()\n",
    "            train_loss = loss_fn(train_preds, y_train)\n",
    "            train_loss.backward()\n",
    "            optimizer.step()\n",
    "    \n",
    "        if epoch % 50 == 0 or epoch == num_epochs - 1:\n",
    "            net.eval()\n",
    "            with torch.no_grad():\n",
    "                test_preds = net(X_test).flatten()\n",
    "                test_rmse = torch.sqrt(loss_fn(test_preds, y_test))\n",
    "                print(f'Epoch {epoch:4d} | Train Loss: {train_loss.item():.4f} | Test RMSE: {test_rmse.item():.4f}')\n",
    "        \n",
    "                if test_rmse < best_rmse:\n",
    "                    best_rmse = test_rmse\n",
    "\n",
    "    print(f'Best Test RMSE: {best_rmse.item():.4f}')\n",
    "    print(f'{\"=\"*40}')\n",
    "    vizual(y_test, test_preds)"
   ]
  },
  {
   "cell_type": "code",
   "execution_count": 30,
   "id": "156d9081",
   "metadata": {},
   "outputs": [],
   "source": [
    "class Net(nn.Module):\n",
    "    def __init__(self, n_in_neurons, n_hidden_neurons_1, n_hidden_neurons_2, n_hidden_neurons_3, n_out_neurons):\n",
    "        super(Net, self).__init__()\n",
    "        self.fc1 = nn.Linear(n_in_neurons, n_hidden_neurons_1)\n",
    "        self.act1 = nn.LeakyReLU(negative_slope=0.01)\n",
    "        self.fc2 = nn.Linear(n_hidden_neurons_1, n_hidden_neurons_2)\n",
    "        self.act2 = nn.GELU()\n",
    "        self.fc3 = nn.Linear(n_hidden_neurons_2, n_hidden_neurons_3)\n",
    "        self.act3 = nn.ELU(alpha=1.0)\n",
    "        self.fc4 = nn.Linear(n_hidden_neurons_3, n_out_neurons)\n",
    "\n",
    "        nn.init.kaiming_normal_(self.fc1.weight, mode='fan_in', nonlinearity='leaky_relu')\n",
    "        nn.init.kaiming_normal_(self.fc2.weight, mode='fan_in', nonlinearity='linear')\n",
    "        nn.init.kaiming_normal_(self.fc3.weight, mode='fan_in', nonlinearity='relu')\n",
    "        nn.init.xavier_normal_(self.fc4.weight)\n",
    "        \n",
    "        \n",
    "    def forward(self, x):\n",
    "        x = self.fc1(x)\n",
    "        x = self.act1(x)\n",
    "        x = self.fc2(x)\n",
    "        x = self.act2(x)\n",
    "        x = self.fc3(x)\n",
    "        x = self.act3(x)\n",
    "        x = self.fc4(x)\n",
    "        return x"
   ]
  },
  {
   "cell_type": "code",
   "execution_count": 31,
   "id": "780f8fb8",
   "metadata": {},
   "outputs": [],
   "source": [
    "n_in_neurons = X_train.shape[1]\n",
    "n_hidden_neurons_1 = 256\n",
    "n_hidden_neurons_2 = 128\n",
    "n_hidden_neurons_3 = 64\n",
    "n_out_neurons = 1\n",
    "\n",
    "net = Net(\n",
    "    n_in_neurons,\n",
    "    n_hidden_neurons_1,\n",
    "    n_hidden_neurons_2,\n",
    "    n_hidden_neurons_3,\n",
    "    n_out_neurons\n",
    ")"
   ]
  },
  {
   "cell_type": "code",
   "execution_count": 32,
   "id": "e349e223",
   "metadata": {
    "scrolled": false
   },
   "outputs": [
    {
     "name": "stdout",
     "output_type": "stream",
     "text": [
      "Epoch    0 | Train Loss: 188347792.0000 | Test RMSE: 17764.8398\n",
      "Epoch   50 | Train Loss: 185392784.0000 | Test RMSE: 17629.9473\n",
      "Epoch  100 | Train Loss: 157662784.0000 | Test RMSE: 16315.7197\n",
      "Epoch  150 | Train Loss: 87384520.0000 | Test RMSE: 11946.8643\n",
      "Epoch  200 | Train Loss: 55200480.0000 | Test RMSE: 9288.3535\n",
      "Epoch  250 | Train Loss: 44125980.0000 | Test RMSE: 8570.3125\n",
      "Epoch  300 | Train Loss: 37102936.0000 | Test RMSE: 8056.5073\n",
      "Epoch  350 | Train Loss: 31162294.0000 | Test RMSE: 7567.5181\n",
      "Epoch  400 | Train Loss: 25959690.0000 | Test RMSE: 7060.3130\n",
      "Epoch  450 | Train Loss: 21558504.0000 | Test RMSE: 6609.0278\n",
      "Epoch  500 | Train Loss: 17879624.0000 | Test RMSE: 6252.1831\n",
      "Epoch  550 | Train Loss: 15017900.0000 | Test RMSE: 5989.0127\n",
      "Epoch  600 | Train Loss: 13047100.0000 | Test RMSE: 5832.8315\n",
      "Epoch  650 | Train Loss: 11832530.0000 | Test RMSE: 5739.2212\n",
      "Epoch  700 | Train Loss: 11093192.0000 | Test RMSE: 5681.5488\n",
      "Epoch  750 | Train Loss: 10599403.0000 | Test RMSE: 5680.1860\n",
      "Epoch  800 | Train Loss: 10223768.0000 | Test RMSE: 5680.4019\n",
      "Epoch  850 | Train Loss: 9908985.0000 | Test RMSE: 5677.9849\n",
      "Epoch  900 | Train Loss: 9647620.0000 | Test RMSE: 5685.5225\n",
      "Epoch  950 | Train Loss: 9442417.0000 | Test RMSE: 5696.1201\n",
      "Epoch 1000 | Train Loss: 9267627.0000 | Test RMSE: 5683.4604\n",
      "Epoch 1050 | Train Loss: 9107997.0000 | Test RMSE: 5677.7915\n",
      "Epoch 1100 | Train Loss: 8954770.0000 | Test RMSE: 5668.1465\n",
      "Epoch 1150 | Train Loss: 8811644.0000 | Test RMSE: 5662.1436\n",
      "Epoch 1200 | Train Loss: 8679766.0000 | Test RMSE: 5659.3643\n",
      "Epoch 1250 | Train Loss: 8555355.0000 | Test RMSE: 5663.2510\n",
      "Epoch 1300 | Train Loss: 8437130.0000 | Test RMSE: 5666.1011\n",
      "Epoch 1350 | Train Loss: 8322978.5000 | Test RMSE: 5671.8984\n",
      "Epoch 1400 | Train Loss: 8212659.0000 | Test RMSE: 5681.2017\n",
      "Epoch 1450 | Train Loss: 8106026.0000 | Test RMSE: 5689.0195\n",
      "Epoch 1500 | Train Loss: 7998911.5000 | Test RMSE: 5701.9360\n",
      "Epoch 1550 | Train Loss: 7895577.5000 | Test RMSE: 5697.5483\n",
      "Epoch 1600 | Train Loss: 7785955.5000 | Test RMSE: 5691.7080\n",
      "Epoch 1650 | Train Loss: 7679529.0000 | Test RMSE: 5689.8735\n",
      "Epoch 1700 | Train Loss: 7571796.0000 | Test RMSE: 5686.0322\n",
      "Epoch 1750 | Train Loss: 7465266.0000 | Test RMSE: 5677.9077\n",
      "Epoch 1800 | Train Loss: 7359804.5000 | Test RMSE: 5664.8481\n",
      "Epoch 1850 | Train Loss: 7254029.5000 | Test RMSE: 5644.5781\n",
      "Epoch 1900 | Train Loss: 7150780.5000 | Test RMSE: 5631.3862\n",
      "Epoch 1950 | Train Loss: 7042631.0000 | Test RMSE: 5614.4673\n",
      "Epoch 2000 | Train Loss: 6933794.0000 | Test RMSE: 5599.3091\n",
      "Epoch 2050 | Train Loss: 6823919.5000 | Test RMSE: 5583.9990\n",
      "Epoch 2100 | Train Loss: 6709704.5000 | Test RMSE: 5564.8335\n",
      "Epoch 2150 | Train Loss: 6588555.5000 | Test RMSE: 5538.4111\n",
      "Epoch 2200 | Train Loss: 6463481.0000 | Test RMSE: 5503.7539\n",
      "Epoch 2250 | Train Loss: 6334672.0000 | Test RMSE: 5468.9839\n",
      "Epoch 2300 | Train Loss: 6196174.0000 | Test RMSE: 5436.7681\n",
      "Epoch 2350 | Train Loss: 6048419.0000 | Test RMSE: 5395.8555\n",
      "Epoch 2400 | Train Loss: 5903912.5000 | Test RMSE: 5341.3525\n",
      "Epoch 2450 | Train Loss: 5758538.0000 | Test RMSE: 5312.1333\n",
      "Epoch 2500 | Train Loss: 5616934.0000 | Test RMSE: 5276.4839\n",
      "Epoch 2550 | Train Loss: 5475995.5000 | Test RMSE: 5242.4985\n",
      "Epoch 2600 | Train Loss: 5338227.0000 | Test RMSE: 5200.2075\n",
      "Epoch 2650 | Train Loss: 5202927.5000 | Test RMSE: 5161.1299\n",
      "Epoch 2700 | Train Loss: 5067239.5000 | Test RMSE: 5139.4146\n",
      "Epoch 2750 | Train Loss: 4932850.5000 | Test RMSE: 5112.7412\n",
      "Epoch 2800 | Train Loss: 4785085.5000 | Test RMSE: 5085.1201\n",
      "Epoch 2850 | Train Loss: 4655733.5000 | Test RMSE: 5074.8237\n",
      "Epoch 2900 | Train Loss: 4525568.5000 | Test RMSE: 5072.4380\n",
      "Epoch 2950 | Train Loss: 4413305.5000 | Test RMSE: 5094.1055\n",
      "Epoch 3000 | Train Loss: 4290406.0000 | Test RMSE: 5064.6279\n",
      "Epoch 3050 | Train Loss: 4196197.0000 | Test RMSE: 5082.1543\n",
      "Epoch 3100 | Train Loss: 4078249.7500 | Test RMSE: 5062.3647\n",
      "Epoch 3150 | Train Loss: 3980313.2500 | Test RMSE: 5047.5547\n",
      "Epoch 3200 | Train Loss: 3882699.7500 | Test RMSE: 5064.8936\n",
      "Epoch 3250 | Train Loss: 3794896.5000 | Test RMSE: 5089.8140\n",
      "Epoch 3300 | Train Loss: 3710090.7500 | Test RMSE: 5113.2817\n",
      "Epoch 3350 | Train Loss: 3629460.2500 | Test RMSE: 5117.6821\n",
      "Epoch 3400 | Train Loss: 3557026.7500 | Test RMSE: 5145.6450\n",
      "Epoch 3450 | Train Loss: 3488059.7500 | Test RMSE: 5167.0186\n",
      "Epoch 3500 | Train Loss: 3418975.5000 | Test RMSE: 5189.3848\n",
      "Epoch 3550 | Train Loss: 3356529.7500 | Test RMSE: 5210.1694\n",
      "Epoch 3600 | Train Loss: 3301872.2500 | Test RMSE: 5253.4639\n",
      "Epoch 3650 | Train Loss: 3221975.7500 | Test RMSE: 5259.4551\n",
      "Epoch 3700 | Train Loss: 3161995.5000 | Test RMSE: 5265.3228\n",
      "Epoch 3750 | Train Loss: 3101289.5000 | Test RMSE: 5295.9692\n",
      "Epoch 3800 | Train Loss: 3045400.0000 | Test RMSE: 5335.6846\n",
      "Epoch 3850 | Train Loss: 2980098.2500 | Test RMSE: 5347.3979\n",
      "Epoch 3900 | Train Loss: 2922813.7500 | Test RMSE: 5381.1313\n",
      "Epoch 3950 | Train Loss: 2860175.5000 | Test RMSE: 5396.8101\n",
      "Epoch 4000 | Train Loss: 2800605.0000 | Test RMSE: 5449.7158\n",
      "Epoch 4050 | Train Loss: 2741527.5000 | Test RMSE: 5456.1914\n",
      "Epoch 4100 | Train Loss: 2713804.5000 | Test RMSE: 5526.2251\n",
      "Epoch 4150 | Train Loss: 2629510.0000 | Test RMSE: 5500.3638\n",
      "Epoch 4200 | Train Loss: 2581065.0000 | Test RMSE: 5512.7539\n",
      "Epoch 4250 | Train Loss: 2551648.2500 | Test RMSE: 5565.1724\n",
      "Epoch 4300 | Train Loss: 2487926.2500 | Test RMSE: 5555.6753\n",
      "Epoch 4350 | Train Loss: 2447687.0000 | Test RMSE: 5572.3296\n",
      "Epoch 4400 | Train Loss: 2403443.2500 | Test RMSE: 5622.9180\n",
      "Epoch 4450 | Train Loss: 2362957.5000 | Test RMSE: 5651.5811\n",
      "Epoch 4500 | Train Loss: 2326410.7500 | Test RMSE: 5675.1162\n",
      "Epoch 4550 | Train Loss: 2298965.5000 | Test RMSE: 5695.1499\n",
      "Epoch 4600 | Train Loss: 2248354.0000 | Test RMSE: 5752.6997\n",
      "Epoch 4650 | Train Loss: 2221468.5000 | Test RMSE: 5771.7578\n",
      "Epoch 4700 | Train Loss: 2207661.7500 | Test RMSE: 5779.5703\n",
      "Epoch 4750 | Train Loss: 2152644.7500 | Test RMSE: 5838.6479\n",
      "Epoch 4800 | Train Loss: 2123382.2500 | Test RMSE: 5877.9634\n",
      "Epoch 4850 | Train Loss: 2098733.7500 | Test RMSE: 5944.3999\n",
      "Epoch 4900 | Train Loss: 2066165.8750 | Test RMSE: 5988.9009\n",
      "Epoch 4950 | Train Loss: 2025803.2500 | Test RMSE: 6008.2935\n",
      "Epoch 5000 | Train Loss: 1999960.2500 | Test RMSE: 6060.4829\n",
      "Epoch 5050 | Train Loss: 1971486.8750 | Test RMSE: 6100.8711\n",
      "Epoch 5100 | Train Loss: 1947741.3750 | Test RMSE: 6135.1045\n",
      "Epoch 5150 | Train Loss: 1923397.6250 | Test RMSE: 6197.1748\n",
      "Epoch 5200 | Train Loss: 1895444.6250 | Test RMSE: 6213.3999\n",
      "Epoch 5250 | Train Loss: 1870767.3750 | Test RMSE: 6290.8633\n",
      "Epoch 5300 | Train Loss: 1848866.3750 | Test RMSE: 6309.4185\n",
      "Epoch 5350 | Train Loss: 1831774.5000 | Test RMSE: 6392.7153\n",
      "Epoch 5400 | Train Loss: 1818640.7500 | Test RMSE: 6391.8247\n",
      "Epoch 5450 | Train Loss: 1793744.2500 | Test RMSE: 6493.0962\n",
      "Epoch 5500 | Train Loss: 1769850.3750 | Test RMSE: 6528.8960\n",
      "Epoch 5550 | Train Loss: 1756106.5000 | Test RMSE: 6558.5908\n",
      "Epoch 5600 | Train Loss: 1736832.6250 | Test RMSE: 6617.6221\n",
      "Epoch 5650 | Train Loss: 1721550.3750 | Test RMSE: 6647.6030\n",
      "Epoch 5700 | Train Loss: 1721253.7500 | Test RMSE: 6660.6382\n",
      "Epoch 5750 | Train Loss: 1689527.1250 | Test RMSE: 6721.8486\n",
      "Epoch 5800 | Train Loss: 1673085.0000 | Test RMSE: 6762.8799\n",
      "Epoch 5850 | Train Loss: 1660701.7500 | Test RMSE: 6797.3735\n",
      "Epoch 5900 | Train Loss: 1647470.3750 | Test RMSE: 6820.5088\n",
      "Epoch 5950 | Train Loss: 1630554.1250 | Test RMSE: 6840.2632\n",
      "Epoch 6000 | Train Loss: 1616695.3750 | Test RMSE: 6857.6987\n",
      "Epoch 6050 | Train Loss: 1601653.6250 | Test RMSE: 6897.0332\n",
      "Epoch 6100 | Train Loss: 1588831.2500 | Test RMSE: 6919.4414\n",
      "Epoch 6150 | Train Loss: 1575505.3750 | Test RMSE: 6955.7168\n",
      "Epoch 6200 | Train Loss: 1566735.5000 | Test RMSE: 6993.8936\n",
      "Epoch 6250 | Train Loss: 1550510.1250 | Test RMSE: 7001.6968\n",
      "Epoch 6300 | Train Loss: 1541456.2500 | Test RMSE: 7012.5874\n",
      "Epoch 6350 | Train Loss: 1534625.7500 | Test RMSE: 7041.5439\n",
      "Epoch 6400 | Train Loss: 1513808.6250 | Test RMSE: 7084.5884\n",
      "Epoch 6450 | Train Loss: 1502496.0000 | Test RMSE: 7095.8286\n",
      "Epoch 6500 | Train Loss: 1495325.8750 | Test RMSE: 7140.2729\n",
      "Epoch 6550 | Train Loss: 1479721.3750 | Test RMSE: 7168.5771\n",
      "Epoch 6600 | Train Loss: 1468992.5000 | Test RMSE: 7184.2686\n",
      "Epoch 6650 | Train Loss: 1462384.7500 | Test RMSE: 7219.3965\n",
      "Epoch 6700 | Train Loss: 1448487.0000 | Test RMSE: 7301.5898\n",
      "Epoch 6750 | Train Loss: 1436239.7500 | Test RMSE: 7309.2515\n",
      "Epoch 6800 | Train Loss: 1425211.0000 | Test RMSE: 7358.2583\n",
      "Epoch 6850 | Train Loss: 1415563.5000 | Test RMSE: 7381.7100\n",
      "Epoch 6900 | Train Loss: 1410300.0000 | Test RMSE: 7405.8022\n",
      "Epoch 6950 | Train Loss: 1394186.6250 | Test RMSE: 7410.5190\n",
      "Epoch 7000 | Train Loss: 1429580.1250 | Test RMSE: 7500.0718\n",
      "Epoch 7050 | Train Loss: 1373204.7500 | Test RMSE: 7457.6172\n",
      "Epoch 7100 | Train Loss: 1367081.0000 | Test RMSE: 7493.7744\n",
      "Epoch 7150 | Train Loss: 1357502.1250 | Test RMSE: 7513.3037\n",
      "Epoch 7200 | Train Loss: 1340534.2500 | Test RMSE: 7534.6450\n",
      "Epoch 7250 | Train Loss: 1329746.5000 | Test RMSE: 7562.7222\n",
      "Epoch 7300 | Train Loss: 1321234.6250 | Test RMSE: 7580.1753\n",
      "Epoch 7350 | Train Loss: 1315107.1250 | Test RMSE: 7624.1978\n",
      "Epoch 7400 | Train Loss: 1306231.1250 | Test RMSE: 7680.5884\n",
      "Epoch 7450 | Train Loss: 1286655.0000 | Test RMSE: 7649.5488\n",
      "Epoch 7500 | Train Loss: 1285522.8750 | Test RMSE: 7662.8755\n",
      "Epoch 7550 | Train Loss: 1277848.2500 | Test RMSE: 7695.2793\n",
      "Epoch 7600 | Train Loss: 1267801.7500 | Test RMSE: 7753.8638\n",
      "Epoch 7650 | Train Loss: 1251784.1250 | Test RMSE: 7756.6045\n",
      "Epoch 7700 | Train Loss: 1246549.8750 | Test RMSE: 7792.4399\n",
      "Epoch 7750 | Train Loss: 1247869.6250 | Test RMSE: 7834.4756\n",
      "Epoch 7800 | Train Loss: 1231605.6250 | Test RMSE: 7822.4023\n",
      "Epoch 7850 | Train Loss: 1227692.6250 | Test RMSE: 7884.3726\n",
      "Epoch 7900 | Train Loss: 1222008.6250 | Test RMSE: 7912.6221\n",
      "Epoch 7950 | Train Loss: 1210217.3750 | Test RMSE: 7919.5645\n",
      "Epoch 8000 | Train Loss: 1205311.8750 | Test RMSE: 7953.6729\n",
      "Epoch 8050 | Train Loss: 1205417.8750 | Test RMSE: 7954.4185\n",
      "Epoch 8100 | Train Loss: 1192339.8750 | Test RMSE: 8011.6943\n",
      "Epoch 8150 | Train Loss: 1179289.3750 | Test RMSE: 8044.8525\n",
      "Epoch 8200 | Train Loss: 1170458.2500 | Test RMSE: 8056.3740\n",
      "Epoch 8250 | Train Loss: 1166106.1250 | Test RMSE: 8076.3970\n",
      "Epoch 8300 | Train Loss: 1169273.1250 | Test RMSE: 8079.2646\n",
      "Epoch 8350 | Train Loss: 1154819.5000 | Test RMSE: 8141.2642\n",
      "Epoch 8400 | Train Loss: 1169206.0000 | Test RMSE: 8114.3950\n",
      "Epoch 8450 | Train Loss: 1136971.6250 | Test RMSE: 8185.7905\n",
      "Epoch 8500 | Train Loss: 1130260.3750 | Test RMSE: 8211.0752\n",
      "Epoch 8550 | Train Loss: 1123210.5000 | Test RMSE: 8229.8457\n",
      "Epoch 8600 | Train Loss: 1119645.0000 | Test RMSE: 8251.5908\n",
      "Epoch 8650 | Train Loss: 1129907.6250 | Test RMSE: 8286.7139\n",
      "Epoch 8700 | Train Loss: 1121417.5000 | Test RMSE: 8303.1953\n",
      "Epoch 8750 | Train Loss: 1103303.6250 | Test RMSE: 8284.3076\n",
      "Epoch 8800 | Train Loss: 1101790.5000 | Test RMSE: 8322.3906\n",
      "Epoch 8850 | Train Loss: 1095880.1250 | Test RMSE: 8335.5215\n",
      "Epoch 8900 | Train Loss: 1092762.5000 | Test RMSE: 8352.8721\n",
      "Epoch 8950 | Train Loss: 1091266.5000 | Test RMSE: 8331.7197\n",
      "Epoch 9000 | Train Loss: 1086669.0000 | Test RMSE: 8366.6270\n",
      "Epoch 9050 | Train Loss: 1091693.5000 | Test RMSE: 8410.4453\n",
      "Epoch 9100 | Train Loss: 1073324.6250 | Test RMSE: 8383.7227\n",
      "Epoch 9150 | Train Loss: 1068763.1250 | Test RMSE: 8401.9502\n",
      "Epoch 9200 | Train Loss: 1136727.0000 | Test RMSE: 8350.4990\n",
      "Epoch 9250 | Train Loss: 1061153.2500 | Test RMSE: 8431.9863\n",
      "Epoch 9300 | Train Loss: 1060416.2500 | Test RMSE: 8421.0215\n",
      "Epoch 9350 | Train Loss: 1054533.0000 | Test RMSE: 8451.8076\n",
      "Epoch 9400 | Train Loss: 1081530.8750 | Test RMSE: 8479.5859\n",
      "Epoch 9450 | Train Loss: 1047121.6250 | Test RMSE: 8484.3096\n",
      "Epoch 9500 | Train Loss: 1060122.6250 | Test RMSE: 8534.8389\n",
      "Epoch 9550 | Train Loss: 1040727.0625 | Test RMSE: 8511.1641\n",
      "Epoch 9600 | Train Loss: 1118703.3750 | Test RMSE: 8457.3506\n",
      "Epoch 9650 | Train Loss: 1033880.1250 | Test RMSE: 8536.4570\n",
      "Epoch 9700 | Train Loss: 1095535.7500 | Test RMSE: 8487.8594\n",
      "Epoch 9750 | Train Loss: 1026912.5625 | Test RMSE: 8554.9160\n",
      "Epoch 9800 | Train Loss: 1028912.6875 | Test RMSE: 8564.8223\n",
      "Epoch 9850 | Train Loss: 1020216.7500 | Test RMSE: 8565.2637\n",
      "Epoch 9900 | Train Loss: 1025975.4375 | Test RMSE: 8561.6816\n",
      "Epoch 9950 | Train Loss: 1013544.7500 | Test RMSE: 8581.2734\n",
      "Epoch 10000 | Train Loss: 1010459.6875 | Test RMSE: 8601.5000\n",
      "Epoch 10050 | Train Loss: 1015315.7500 | Test RMSE: 8612.2129\n",
      "Epoch 10100 | Train Loss: 1004189.2500 | Test RMSE: 8609.0127\n",
      "Epoch 10150 | Train Loss: 1006424.9375 | Test RMSE: 8621.2314\n",
      "Epoch 10200 | Train Loss: 999510.5000 | Test RMSE: 8606.2754\n",
      "Epoch 10250 | Train Loss: 995441.6250 | Test RMSE: 8617.6523\n",
      "Epoch 10300 | Train Loss: 994819.3125 | Test RMSE: 8646.1221\n",
      "Epoch 10350 | Train Loss: 992009.6875 | Test RMSE: 8626.0508\n",
      "Epoch 10400 | Train Loss: 987442.2500 | Test RMSE: 8646.2500\n",
      "Epoch 10450 | Train Loss: 988958.8125 | Test RMSE: 8641.4336\n",
      "Epoch 10500 | Train Loss: 994582.0625 | Test RMSE: 8635.8945\n",
      "Epoch 10550 | Train Loss: 980009.3125 | Test RMSE: 8660.5771\n",
      "Epoch 10600 | Train Loss: 976137.1875 | Test RMSE: 8681.2656\n",
      "Epoch 10650 | Train Loss: 989968.0625 | Test RMSE: 8661.3271\n",
      "Epoch 10700 | Train Loss: 971050.4375 | Test RMSE: 8696.3750\n",
      "Epoch 10750 | Train Loss: 971712.3125 | Test RMSE: 8715.9365\n",
      "Epoch 10800 | Train Loss: 965937.3125 | Test RMSE: 8716.8438\n",
      "Epoch 10850 | Train Loss: 971571.1250 | Test RMSE: 8726.4189\n",
      "Epoch 10900 | Train Loss: 961260.4375 | Test RMSE: 8733.8848\n",
      "Epoch 10950 | Train Loss: 972109.8750 | Test RMSE: 8703.7490\n",
      "Epoch 11000 | Train Loss: 956509.0625 | Test RMSE: 8753.4492\n",
      "Epoch 11050 | Train Loss: 959285.5625 | Test RMSE: 8752.9072\n",
      "Epoch 11100 | Train Loss: 965346.3125 | Test RMSE: 8748.3369\n",
      "Epoch 11150 | Train Loss: 950431.5625 | Test RMSE: 8790.8838\n",
      "Epoch 11200 | Train Loss: 949022.7500 | Test RMSE: 8788.0166\n",
      "Epoch 11250 | Train Loss: 944955.5625 | Test RMSE: 8807.2979\n",
      "Epoch 11300 | Train Loss: 944857.6875 | Test RMSE: 8817.3457\n",
      "Epoch 11350 | Train Loss: 941098.0625 | Test RMSE: 8823.1816\n",
      "Epoch 11400 | Train Loss: 939037.5625 | Test RMSE: 8838.2803\n",
      "Epoch 11450 | Train Loss: 938966.0000 | Test RMSE: 8822.7275\n",
      "Epoch 11500 | Train Loss: 934991.2500 | Test RMSE: 8848.5400\n",
      "Epoch 11550 | Train Loss: 975315.5625 | Test RMSE: 8919.2842\n",
      "Epoch 11600 | Train Loss: 931913.0625 | Test RMSE: 8857.8828\n",
      "Epoch 11650 | Train Loss: 931133.5000 | Test RMSE: 8891.4824\n",
      "Epoch 11700 | Train Loss: 930665.9375 | Test RMSE: 8879.8486\n",
      "Epoch 11750 | Train Loss: 925701.7500 | Test RMSE: 8894.8115\n",
      "Epoch 11800 | Train Loss: 928755.0625 | Test RMSE: 8890.5811\n",
      "Epoch 11850 | Train Loss: 922270.8125 | Test RMSE: 8909.3418\n",
      "Epoch 11900 | Train Loss: 1046244.1250 | Test RMSE: 9029.2832\n",
      "Epoch 11950 | Train Loss: 919434.3750 | Test RMSE: 8920.3164\n",
      "Epoch 12000 | Train Loss: 916962.6875 | Test RMSE: 8940.3271\n",
      "Epoch 12050 | Train Loss: 921968.6875 | Test RMSE: 8934.3330\n",
      "Epoch 12100 | Train Loss: 913743.1250 | Test RMSE: 8951.2461\n",
      "Epoch 12150 | Train Loss: 915830.0625 | Test RMSE: 8956.9287\n",
      "Epoch 12200 | Train Loss: 910016.3125 | Test RMSE: 8968.1943\n",
      "Epoch 12250 | Train Loss: 1007464.0000 | Test RMSE: 9066.5752\n",
      "Epoch 12300 | Train Loss: 907830.3750 | Test RMSE: 8995.3008\n",
      "Epoch 12350 | Train Loss: 905222.2500 | Test RMSE: 8995.8018\n",
      "Epoch 12400 | Train Loss: 907410.3750 | Test RMSE: 9023.8438\n",
      "Epoch 12450 | Train Loss: 902015.9375 | Test RMSE: 9017.4248\n",
      "Epoch 12500 | Train Loss: 1087162.8750 | Test RMSE: 9137.3896\n",
      "Epoch 12550 | Train Loss: 899465.3125 | Test RMSE: 9031.0557\n",
      "Epoch 12600 | Train Loss: 897688.6875 | Test RMSE: 9039.6963\n",
      "Epoch 12650 | Train Loss: 951359.4375 | Test RMSE: 8995.3037\n",
      "Epoch 12700 | Train Loss: 895535.5625 | Test RMSE: 9053.8311\n",
      "Epoch 12750 | Train Loss: 906347.2500 | Test RMSE: 9080.4805\n",
      "Epoch 12800 | Train Loss: 891830.2500 | Test RMSE: 9081.9346\n",
      "Epoch 12850 | Train Loss: 890668.5000 | Test RMSE: 9077.1611\n",
      "Epoch 12900 | Train Loss: 893442.5000 | Test RMSE: 9080.3574\n",
      "Epoch 12950 | Train Loss: 887222.2500 | Test RMSE: 9115.3281\n",
      "Epoch 12999 | Train Loss: 911013.5000 | Test RMSE: 9134.1230\n",
      "Best Test RMSE: 5047.5547\n",
      "========================================\n"
     ]
    },
    {
     "data": {
      "image/png": "[encoded data removed]",
      "text/plain": [
       "<Figure size 1224x360 with 1 Axes>"
      ]
     },
     "metadata": {
      "needs_background": "light"
     },
     "output_type": "display_data"
    }
   ],
   "source": [
    "learning_fn_baseline(net)"
   ]
  },
  {
   "cell_type": "markdown",
   "id": "46429e2a",
   "metadata": {},
   "source": [
    "Выводы по простой нейронной сети:\n",
    "\n",
    "    Во входном слое 12 нейронов\n",
    "    В двух скрытых слоях по 256, 128 и 64 соответственно\n",
    "    В выходном 1 нейрон\n",
    "    После слоев были выбраны функции активации: LeakyReLU, GELU, ELU соответственно\n",
    "    Оптимизатор - Adam\n",
    "    \n",
    "\n",
    "Лучшая метрика RMSE на тестовой выборке во время обучения - **5047.5547**.\n",
    "Простая нейронная сеть не справилась с заданием, метрика выглядит в целом нормальной с учетом аномальных значений в радиусах звезд, но для выполнения задания не подходит, на графике видна разница между тестовой выборкой и предсказанием, исправим это с помощью улучшения модели\n"
   ]
  },
  {
   "cell_type": "markdown",
   "id": "6275fdfe",
   "metadata": {},
   "source": [
    "## Улучшение нейронной сети"
   ]
  },
  {
   "cell_type": "markdown",
   "id": "75f841d5",
   "metadata": {},
   "source": [
    "### Нейронная сеть с BatchNorm"
   ]
  },
  {
   "cell_type": "code",
   "execution_count": 34,
   "id": "039bf9ff",
   "metadata": {},
   "outputs": [],
   "source": [
    "class NetWithBatch(nn.Module):\n",
    "    def __init__(self, n_in_neurons, n_hidden_neurons_1, n_hidden_neurons_2, n_hidden_neurons_3, n_out_neurons):\n",
    "        super(NetWithBatch, self).__init__()\n",
    "        self.fc1 = nn.Linear(n_in_neurons, n_hidden_neurons_1)\n",
    "        self.bn1 = nn.BatchNorm1d(n_hidden_neurons_1)\n",
    "        self.act1 = nn.LeakyReLU(negative_slope=0.01)\n",
    "        self.fc2 = nn.Linear(n_hidden_neurons_1, n_hidden_neurons_2)\n",
    "        self.bn2 = nn.BatchNorm1d(n_hidden_neurons_2)\n",
    "        self.act2 = nn.GELU()\n",
    "        self.fc3 = nn.Linear(n_hidden_neurons_2, n_hidden_neurons_3)\n",
    "        self.bn3 = nn.BatchNorm1d(n_hidden_neurons_3)\n",
    "        self.act3 = nn.ELU(alpha=1.0)\n",
    "        self.fc4 = nn.Linear(n_hidden_neurons_3, n_out_neurons)\n",
    "\n",
    "        nn.init.kaiming_normal_(self.fc1.weight, mode='fan_in', nonlinearity='leaky_relu')\n",
    "        nn.init.kaiming_normal_(self.fc2.weight, mode='fan_in', nonlinearity='linear')\n",
    "        nn.init.kaiming_normal_(self.fc3.weight, mode='fan_in', nonlinearity='relu')\n",
    "        nn.init.xavier_normal_(self.fc4.weight)\n",
    "        \n",
    "        \n",
    "    def forward(self, x):\n",
    "        x = self.fc1(x)\n",
    "        x = self.bn1(x)\n",
    "        x = self.act1(x)\n",
    "        x = self.fc2(x)\n",
    "        x = self.bn2(x)\n",
    "        x = self.act2(x)\n",
    "        x = self.fc3(x)\n",
    "        x = self.bn3(x)\n",
    "        x = self.act3(x)\n",
    "        x = self.fc4(x)\n",
    "        return x"
   ]
  },
  {
   "cell_type": "code",
   "execution_count": 35,
   "id": "a71fcddc",
   "metadata": {},
   "outputs": [],
   "source": [
    "n_in_neurons = X_train.shape[1]\n",
    "n_hidden_neurons_1 = 256\n",
    "n_hidden_neurons_2 = 128\n",
    "n_hidden_neurons_3 = 64\n",
    "n_out_neurons = 1\n",
    "\n",
    "net = NetWithBatch(\n",
    "    n_in_neurons,\n",
    "    n_hidden_neurons_1,\n",
    "    n_hidden_neurons_2,\n",
    "    n_hidden_neurons_3,\n",
    "    n_out_neurons\n",
    ")"
   ]
  },
  {
   "cell_type": "code",
   "execution_count": 36,
   "id": "67eb7855",
   "metadata": {
    "scrolled": true
   },
   "outputs": [
    {
     "name": "stdout",
     "output_type": "stream",
     "text": [
      "Epoch    0 | Train Loss: 188246624.0000 | Test RMSE: 17758.2988\n",
      "Epoch   50 | Train Loss: 179516192.0000 | Test RMSE: 17416.8730\n",
      "Epoch  100 | Train Loss: 155352720.0000 | Test RMSE: 16307.4619\n",
      "Epoch  150 | Train Loss: 121090904.0000 | Test RMSE: 13994.4502\n",
      "Epoch  200 | Train Loss: 83429840.0000 | Test RMSE: 12508.5752\n",
      "Epoch  250 | Train Loss: 50447460.0000 | Test RMSE: 10541.1338\n",
      "Epoch  300 | Train Loss: 26410240.0000 | Test RMSE: 7485.3472\n",
      "Epoch  350 | Train Loss: 11879957.0000 | Test RMSE: 6214.5234\n",
      "Epoch  400 | Train Loss: 4891586.0000 | Test RMSE: 5723.4634\n",
      "Epoch  450 | Train Loss: 2254339.7500 | Test RMSE: 5515.7036\n",
      "Epoch  500 | Train Loss: 1261576.8750 | Test RMSE: 5309.8003\n",
      "Epoch  550 | Train Loss: 969085.7500 | Test RMSE: 5239.0981\n",
      "Epoch  600 | Train Loss: 965530.8125 | Test RMSE: 5535.0635\n",
      "Epoch  650 | Train Loss: 1016962.4375 | Test RMSE: 5544.2510\n",
      "Epoch  700 | Train Loss: 803668.4375 | Test RMSE: 5316.5503\n",
      "Epoch  750 | Train Loss: 938491.6875 | Test RMSE: 5219.3315\n",
      "Epoch  800 | Train Loss: 740847.6250 | Test RMSE: 5803.2588\n",
      "Epoch  850 | Train Loss: 1276976.5000 | Test RMSE: 5676.3281\n",
      "Epoch  900 | Train Loss: 764916.5000 | Test RMSE: 6292.6870\n",
      "Epoch  950 | Train Loss: 642459.6875 | Test RMSE: 5897.7495\n",
      "Epoch 1000 | Train Loss: 757558.3750 | Test RMSE: 6597.3032\n",
      "Epoch 1050 | Train Loss: 879133.1250 | Test RMSE: 6564.4058\n",
      "Epoch 1100 | Train Loss: 636443.1250 | Test RMSE: 6854.9355\n",
      "Epoch 1150 | Train Loss: 727624.5625 | Test RMSE: 6260.3730\n",
      "Epoch 1200 | Train Loss: 679341.4375 | Test RMSE: 6758.1348\n",
      "Epoch 1250 | Train Loss: 564960.7500 | Test RMSE: 6676.9683\n",
      "Epoch 1300 | Train Loss: 725417.5625 | Test RMSE: 6941.4595\n",
      "Epoch 1350 | Train Loss: 581495.9375 | Test RMSE: 7406.2969\n",
      "Epoch 1400 | Train Loss: 534516.4375 | Test RMSE: 7135.9038\n",
      "Epoch 1450 | Train Loss: 566353.0625 | Test RMSE: 7491.6851\n",
      "Epoch 1500 | Train Loss: 524341.4375 | Test RMSE: 7474.5410\n",
      "Epoch 1550 | Train Loss: 581428.9375 | Test RMSE: 7507.4531\n",
      "Epoch 1600 | Train Loss: 610113.0625 | Test RMSE: 7382.2344\n",
      "Epoch 1650 | Train Loss: 587343.3125 | Test RMSE: 7555.2974\n",
      "Epoch 1700 | Train Loss: 3436989.2500 | Test RMSE: 9585.3066\n",
      "Epoch 1750 | Train Loss: 955710.6875 | Test RMSE: 5339.8257\n",
      "Epoch 1800 | Train Loss: 760547.6875 | Test RMSE: 5665.2026\n",
      "Epoch 1850 | Train Loss: 994658.4375 | Test RMSE: 5207.2363\n",
      "Epoch 1900 | Train Loss: 1360838.2500 | Test RMSE: 5716.6572\n",
      "Epoch 1950 | Train Loss: 734896.1250 | Test RMSE: 5562.9014\n",
      "Epoch 2000 | Train Loss: 645987.8750 | Test RMSE: 5679.8257\n",
      "Epoch 2050 | Train Loss: 627728.8750 | Test RMSE: 6132.8789\n",
      "Epoch 2100 | Train Loss: 595720.6875 | Test RMSE: 5336.6284\n",
      "Epoch 2150 | Train Loss: 635741.6875 | Test RMSE: 5782.9658\n",
      "Epoch 2200 | Train Loss: 553717.4375 | Test RMSE: 5987.1758\n",
      "Epoch 2250 | Train Loss: 552543.4375 | Test RMSE: 6120.3799\n",
      "Epoch 2300 | Train Loss: 845087.0625 | Test RMSE: 6885.2119\n",
      "Epoch 2350 | Train Loss: 574214.7500 | Test RMSE: 6582.3184\n",
      "Epoch 2400 | Train Loss: 521066.8750 | Test RMSE: 6544.7446\n",
      "Epoch 2450 | Train Loss: 493989.0312 | Test RMSE: 5712.7119\n",
      "Epoch 2500 | Train Loss: 478161.0000 | Test RMSE: 5703.0845\n",
      "Epoch 2550 | Train Loss: 454970.2188 | Test RMSE: 5448.5850\n",
      "Epoch 2600 | Train Loss: 525499.5625 | Test RMSE: 5423.5762\n",
      "Epoch 2650 | Train Loss: 522338.7812 | Test RMSE: 5561.9990\n",
      "Epoch 2700 | Train Loss: 351129.8438 | Test RMSE: 5596.2627\n",
      "Epoch 2750 | Train Loss: 345055.8750 | Test RMSE: 5571.1582\n",
      "Epoch 2800 | Train Loss: 349994.1562 | Test RMSE: 5614.7910\n",
      "Epoch 2850 | Train Loss: 300151.0938 | Test RMSE: 5596.5410\n",
      "Epoch 2900 | Train Loss: 209598.1406 | Test RMSE: 5671.5459\n",
      "Epoch 2950 | Train Loss: 280056.4062 | Test RMSE: 5645.4326\n",
      "Epoch 3000 | Train Loss: 297537.1250 | Test RMSE: 6377.0713\n",
      "Epoch 3050 | Train Loss: 258259.5938 | Test RMSE: 6549.1938\n",
      "Epoch 3100 | Train Loss: 244299.2812 | Test RMSE: 6178.9839\n",
      "Epoch 3150 | Train Loss: 229153.0312 | Test RMSE: 6557.1084\n",
      "Epoch 3200 | Train Loss: 310158.1250 | Test RMSE: 6676.7993\n",
      "Epoch 3250 | Train Loss: 718481.6250 | Test RMSE: 7358.7695\n",
      "Epoch 3300 | Train Loss: 343122.0312 | Test RMSE: 6291.8340\n",
      "Epoch 3350 | Train Loss: 174733.5312 | Test RMSE: 6643.1260\n",
      "Epoch 3400 | Train Loss: 176473.5938 | Test RMSE: 9597.2646\n",
      "Epoch 3450 | Train Loss: 380728.1250 | Test RMSE: 5411.7271\n",
      "Epoch 3500 | Train Loss: 213451.6250 | Test RMSE: 7034.4136\n",
      "Epoch 3550 | Train Loss: 217853.8750 | Test RMSE: 11980.2236\n",
      "Epoch 3600 | Train Loss: 245685.4219 | Test RMSE: 10781.8174\n",
      "Epoch 3650 | Train Loss: 304233.5625 | Test RMSE: 6073.2856\n",
      "Epoch 3700 | Train Loss: 250606.2656 | Test RMSE: 13227.0020\n",
      "Epoch 3750 | Train Loss: 199411.1875 | Test RMSE: 8498.5576\n",
      "Epoch 3800 | Train Loss: 188584.5625 | Test RMSE: 11595.6484\n",
      "Epoch 3850 | Train Loss: 153277.2031 | Test RMSE: 10681.5000\n",
      "Epoch 3900 | Train Loss: 179588.0000 | Test RMSE: 11482.7012\n",
      "Epoch 3950 | Train Loss: 142392.5312 | Test RMSE: 12722.3379\n",
      "Epoch 4000 | Train Loss: 277587.4375 | Test RMSE: 7425.7002\n",
      "Epoch 4050 | Train Loss: 233191.5000 | Test RMSE: 11116.9570\n",
      "Epoch 4100 | Train Loss: 217042.3750 | Test RMSE: 7479.0825\n",
      "Epoch 4150 | Train Loss: 403877.3438 | Test RMSE: 7376.6748\n",
      "Epoch 4200 | Train Loss: 506477.2500 | Test RMSE: 6476.6025\n",
      "Epoch 4250 | Train Loss: 793646.8125 | Test RMSE: 5745.9487\n",
      "Epoch 4300 | Train Loss: 140548.9688 | Test RMSE: 6144.1499\n",
      "Epoch 4350 | Train Loss: 176516.7969 | Test RMSE: 6090.7485\n",
      "Epoch 4400 | Train Loss: 161811.4688 | Test RMSE: 6009.4648\n",
      "Epoch 4450 | Train Loss: 140756.7812 | Test RMSE: 9381.3477\n",
      "Epoch 4500 | Train Loss: 255094.1406 | Test RMSE: 8786.4814\n",
      "Epoch 4550 | Train Loss: 406780.1875 | Test RMSE: 7962.8354\n",
      "Epoch 4600 | Train Loss: 137247.7812 | Test RMSE: 8710.0752\n",
      "Epoch 4650 | Train Loss: 198367.3125 | Test RMSE: 7203.3848\n",
      "Epoch 4700 | Train Loss: 161801.0312 | Test RMSE: 10522.7207\n",
      "Epoch 4750 | Train Loss: 238547.2188 | Test RMSE: 9032.0967\n",
      "Epoch 4800 | Train Loss: 143689.6250 | Test RMSE: 9731.1221\n",
      "Epoch 4850 | Train Loss: 156759.9219 | Test RMSE: 11838.7441\n",
      "Epoch 4900 | Train Loss: 234721.4844 | Test RMSE: 7039.7173\n",
      "Epoch 4950 | Train Loss: 133699.3594 | Test RMSE: 10939.1816\n",
      "Epoch 5000 | Train Loss: 575093.6250 | Test RMSE: 5849.3301\n",
      "Epoch 5050 | Train Loss: 214550.5781 | Test RMSE: 8188.6392\n",
      "Epoch 5100 | Train Loss: 136008.3906 | Test RMSE: 7887.2744\n",
      "Epoch 5150 | Train Loss: 164743.2656 | Test RMSE: 9474.9404\n",
      "Epoch 5200 | Train Loss: 123086.3125 | Test RMSE: 10250.9023\n",
      "Epoch 5250 | Train Loss: 121751.4297 | Test RMSE: 9940.0625\n",
      "Epoch 5300 | Train Loss: 234846.8906 | Test RMSE: 7281.9575\n",
      "Epoch 5350 | Train Loss: 154108.7812 | Test RMSE: 10459.2549\n",
      "Epoch 5400 | Train Loss: 148217.8750 | Test RMSE: 9415.2666\n",
      "Epoch 5450 | Train Loss: 208487.9062 | Test RMSE: 9259.6055\n",
      "Epoch 5500 | Train Loss: 184111.6250 | Test RMSE: 9818.2080\n",
      "Epoch 5550 | Train Loss: 259006.7344 | Test RMSE: 8063.3779\n",
      "Epoch 5600 | Train Loss: 146545.4688 | Test RMSE: 5824.8740\n",
      "Epoch 5650 | Train Loss: 152010.5625 | Test RMSE: 7754.7715\n",
      "Epoch 5700 | Train Loss: 187065.8125 | Test RMSE: 6710.3242\n",
      "Epoch 5750 | Train Loss: 336126.6562 | Test RMSE: 5511.5771\n",
      "Epoch 5800 | Train Loss: 156214.7344 | Test RMSE: 6014.2520\n",
      "Epoch 5850 | Train Loss: 128402.5391 | Test RMSE: 7212.7822\n",
      "Epoch 5900 | Train Loss: 143259.8750 | Test RMSE: 5611.1831\n",
      "Epoch 5950 | Train Loss: 108950.2109 | Test RMSE: 5732.0063\n",
      "Epoch 6000 | Train Loss: 110362.0703 | Test RMSE: 7045.8628\n",
      "Epoch 6050 | Train Loss: 376029.9375 | Test RMSE: 7335.5562\n",
      "Epoch 6100 | Train Loss: 185626.2969 | Test RMSE: 5883.3472\n",
      "Epoch 6150 | Train Loss: 115981.0703 | Test RMSE: 8143.3916\n",
      "Epoch 6200 | Train Loss: 133067.8906 | Test RMSE: 8288.5234\n",
      "Epoch 6250 | Train Loss: 303319.0625 | Test RMSE: 5241.2280\n",
      "Epoch 6300 | Train Loss: 149578.3125 | Test RMSE: 5824.0283\n",
      "Epoch 6350 | Train Loss: 116788.7812 | Test RMSE: 6020.1792\n",
      "Epoch 6400 | Train Loss: 115192.1875 | Test RMSE: 5445.5977\n",
      "Epoch 6450 | Train Loss: 126065.3984 | Test RMSE: 5377.3359\n",
      "Epoch 6500 | Train Loss: 116878.4531 | Test RMSE: 5317.4443\n",
      "Epoch 6550 | Train Loss: 127629.9609 | Test RMSE: 5425.5278\n",
      "Epoch 6600 | Train Loss: 118585.3125 | Test RMSE: 5340.2949\n",
      "Epoch 6650 | Train Loss: 110997.7500 | Test RMSE: 5462.8516\n",
      "Epoch 6700 | Train Loss: 291674.5938 | Test RMSE: 6749.1772\n",
      "Epoch 6750 | Train Loss: 559452.6875 | Test RMSE: 5255.9072\n",
      "Epoch 6800 | Train Loss: 85068.8203 | Test RMSE: 8258.5576\n",
      "Epoch 6850 | Train Loss: 122488.8828 | Test RMSE: 6601.8213\n",
      "Epoch 6900 | Train Loss: 115275.4453 | Test RMSE: 6219.7139\n",
      "Epoch 6950 | Train Loss: 112372.4531 | Test RMSE: 7079.6123\n",
      "Epoch 7000 | Train Loss: 200414.1250 | Test RMSE: 6414.8726\n",
      "Epoch 7050 | Train Loss: 153593.9219 | Test RMSE: 6203.1572\n",
      "Epoch 7100 | Train Loss: 123980.5000 | Test RMSE: 6982.6011\n",
      "Epoch 7150 | Train Loss: 115941.9141 | Test RMSE: 6833.2339\n",
      "Epoch 7200 | Train Loss: 590397.0625 | Test RMSE: 5912.7656\n",
      "Epoch 7250 | Train Loss: 250107.1406 | Test RMSE: 5372.3496\n",
      "Epoch 7300 | Train Loss: 115050.6641 | Test RMSE: 5525.3994\n",
      "Epoch 7350 | Train Loss: 107706.1016 | Test RMSE: 5514.8760\n",
      "Epoch 7400 | Train Loss: 157965.0156 | Test RMSE: 5417.9185\n",
      "Epoch 7450 | Train Loss: 99616.3594 | Test RMSE: 5734.5283\n",
      "Epoch 7500 | Train Loss: 186168.5938 | Test RMSE: 5517.0337\n",
      "Epoch 7550 | Train Loss: 346803.1250 | Test RMSE: 5451.8701\n",
      "Epoch 7600 | Train Loss: 199384.5938 | Test RMSE: 5738.2441\n",
      "Epoch 7650 | Train Loss: 190836.9219 | Test RMSE: 5084.4482\n",
      "Epoch 7700 | Train Loss: 282730.5000 | Test RMSE: 5467.5215\n",
      "Epoch 7750 | Train Loss: 140697.3281 | Test RMSE: 5362.8496\n",
      "Epoch 7800 | Train Loss: 104936.6875 | Test RMSE: 6976.2305\n",
      "Epoch 7850 | Train Loss: 430433.4688 | Test RMSE: 5483.6172\n",
      "Epoch 7900 | Train Loss: 504755.6250 | Test RMSE: 5980.2075\n",
      "Epoch 7950 | Train Loss: 259391.0312 | Test RMSE: 5813.0732\n",
      "Epoch 8000 | Train Loss: 201218.7344 | Test RMSE: 5315.1074\n",
      "Epoch 8050 | Train Loss: 908931.9375 | Test RMSE: 5625.4619\n",
      "Epoch 8100 | Train Loss: 141729.2188 | Test RMSE: 5482.8555\n",
      "Epoch 8150 | Train Loss: 162426.8750 | Test RMSE: 5273.4258\n",
      "Epoch 8200 | Train Loss: 236515.6719 | Test RMSE: 5226.9844\n",
      "Epoch 8250 | Train Loss: 239224.9688 | Test RMSE: 5217.1387\n",
      "Epoch 8300 | Train Loss: 93245.1797 | Test RMSE: 5021.2793\n",
      "Epoch 8350 | Train Loss: 150622.6875 | Test RMSE: 5075.0234\n",
      "Epoch 8400 | Train Loss: 381088.8125 | Test RMSE: 5299.4331\n",
      "Epoch 8450 | Train Loss: 83054.7969 | Test RMSE: 5020.0430\n",
      "Epoch 8500 | Train Loss: 87824.1641 | Test RMSE: 4848.0850\n",
      "Epoch 8550 | Train Loss: 89688.8359 | Test RMSE: 5111.3481\n",
      "Epoch 8600 | Train Loss: 118190.4844 | Test RMSE: 5005.6206\n",
      "Epoch 8650 | Train Loss: 137672.7812 | Test RMSE: 5364.4214\n",
      "Epoch 8700 | Train Loss: 82637.2578 | Test RMSE: 5324.0645\n",
      "Epoch 8750 | Train Loss: 85379.3906 | Test RMSE: 5082.4214\n",
      "Epoch 8800 | Train Loss: 85570.7969 | Test RMSE: 5311.8423\n",
      "Epoch 8850 | Train Loss: 94330.3438 | Test RMSE: 5215.5347\n",
      "Epoch 8900 | Train Loss: 77399.0859 | Test RMSE: 5284.0386\n",
      "Epoch 8950 | Train Loss: 123176.9922 | Test RMSE: 5019.3721\n",
      "Epoch 9000 | Train Loss: 105335.0000 | Test RMSE: 5366.8540\n",
      "Epoch 9050 | Train Loss: 82427.6406 | Test RMSE: 5295.7651\n",
      "Epoch 9100 | Train Loss: 167171.8906 | Test RMSE: 5248.0967\n",
      "Epoch 9150 | Train Loss: 86174.4297 | Test RMSE: 5082.0996\n",
      "Epoch 9200 | Train Loss: 75214.4062 | Test RMSE: 5117.9458\n",
      "Epoch 9250 | Train Loss: 60087.7344 | Test RMSE: 5165.2700\n",
      "Epoch 9300 | Train Loss: 66001.2812 | Test RMSE: 5224.8604\n",
      "Epoch 9350 | Train Loss: 80651.0625 | Test RMSE: 5072.1772\n",
      "Epoch 9400 | Train Loss: 70324.4688 | Test RMSE: 5202.0059\n",
      "Epoch 9450 | Train Loss: 45565.7305 | Test RMSE: 5229.4692\n",
      "Epoch 9500 | Train Loss: 52648.1836 | Test RMSE: 4939.8682\n",
      "Epoch 9550 | Train Loss: 41533.7656 | Test RMSE: 5099.6826\n",
      "Epoch 9600 | Train Loss: 50181.0273 | Test RMSE: 5158.6348\n",
      "Epoch 9650 | Train Loss: 48457.3242 | Test RMSE: 5160.9790\n",
      "Epoch 9700 | Train Loss: 44925.0586 | Test RMSE: 5073.9282\n",
      "Epoch 9750 | Train Loss: 64853.6328 | Test RMSE: 5144.6240\n",
      "Epoch 9800 | Train Loss: 53035.8320 | Test RMSE: 5147.1318\n",
      "Epoch 9850 | Train Loss: 35936.7305 | Test RMSE: 5267.1777\n",
      "Epoch 9900 | Train Loss: 72448.4453 | Test RMSE: 5327.4468\n",
      "Epoch 9950 | Train Loss: 38290.4414 | Test RMSE: 5358.1284\n",
      "Epoch 9999 | Train Loss: 37857.5430 | Test RMSE: 5443.8003\n",
      "Best Test RMSE: 4848.0850\n",
      "========================================\n"
     ]
    },
    {
     "data": {
      "image/png": "[encoded data removed]",
      "text/plain": [
       "<Figure size 1224x360 with 1 Axes>"
      ]
     },
     "metadata": {
      "needs_background": "light"
     },
     "output_type": "display_data"
    }
   ],
   "source": [
    "learning_fn_improvement(net)"
   ]
  },
  {
   "cell_type": "markdown",
   "id": "d7281fe5",
   "metadata": {},
   "source": [
    "С применением BatchNorm метрика RMSE осталась примерно на том же уровне **4887.5205**, также заметно что предсказания модели стали ближе к фактическим значениям и лишь у трех звезд достаточно большая ошибка, одна звезда совсем неверно предсказана"
   ]
  },
  {
   "cell_type": "markdown",
   "id": "growing-supply",
   "metadata": {},
   "source": [
    "### Нейронная сеть с Dropout"
   ]
  },
  {
   "cell_type": "code",
   "execution_count": 37,
   "id": "acceptable-forwarding",
   "metadata": {},
   "outputs": [],
   "source": [
    "class NetWithDrop(nn.Module):\n",
    "    def __init__(self, n_in_neurons, \n",
    "                 n_hidden_neurons_1, \n",
    "                 n_hidden_neurons_2, \n",
    "                 n_hidden_neurons_3, \n",
    "                 n_out_neurons,\n",
    "                 dropout_p1,  \n",
    "                 dropout_p2,  \n",
    "                 dropout_p3): \n",
    "        super(NetWithDrop, self).__init__()\n",
    "        self.fc1 = nn.Linear(n_in_neurons, n_hidden_neurons_1)\n",
    "        self.act1 = nn.LeakyReLU(negative_slope=0.01)\n",
    "        self.dp1 = nn.Dropout(dropout_p1)  \n",
    "        \n",
    "        self.fc2 = nn.Linear(n_hidden_neurons_1, n_hidden_neurons_2)  \n",
    "        self.act2 = nn.GELU()\n",
    "        self.dp2 = nn.Dropout(dropout_p2)\n",
    "        \n",
    "        self.fc3 = nn.Linear(n_hidden_neurons_2, n_hidden_neurons_3)\n",
    "        self.act3 = nn.ELU(alpha=1.0)\n",
    "        self.dp3 = nn.Dropout(dropout_p3) \n",
    "        \n",
    "        self.fc4 = nn.Linear(n_hidden_neurons_3, n_out_neurons)\n",
    "\n",
    "        nn.init.kaiming_normal_(self.fc1.weight, mode='fan_in', nonlinearity='leaky_relu')\n",
    "        nn.init.kaiming_normal_(self.fc2.weight, mode='fan_in', nonlinearity='linear')\n",
    "        nn.init.kaiming_normal_(self.fc3.weight, mode='fan_in', nonlinearity='relu')\n",
    "        nn.init.xavier_normal_(self.fc4.weight)\n",
    "\n",
    "    def forward(self, x):\n",
    "        x = self.fc1(x)\n",
    "        x = self.act1(x)\n",
    "        x = self.dp1(x)\n",
    "        x = self.fc2(x)\n",
    "        x = self.act2(x)\n",
    "        x = self.dp2(x)\n",
    "        x = self.fc3(x)\n",
    "        x = self.act3(x)\n",
    "        x = self.dp3(x)\n",
    "        x = self.fc4(x)\n",
    "        return x"
   ]
  },
  {
   "cell_type": "code",
   "execution_count": null,
   "id": "8d404246",
   "metadata": {},
   "outputs": [],
   "source": [
    "def objective(trial):\n",
    "    p1 = trial.suggest_float('dropout_p1', 0.1, 0.5, step=0.05)\n",
    "    p2 = trial.suggest_float('dropout_p2', 0.1, 0.5, step=0.05)\n",
    "    p3 = trial.suggest_float('dropout_p3', 0.1, 0.5, step=0.05)\n",
    "\n",
    "    net = NetWithDrop(\n",
    "        n_in_neurons = X_train.shape[1],\n",
    "        n_hidden_neurons_1 = 256,\n",
    "        n_hidden_neurons_2 = 128,\n",
    "        n_hidden_neurons_3 = 64,\n",
    "        n_out_neurons = 1,\n",
    "        dropout_p1 = p1,\n",
    "        dropout_p2 = p2,\n",
    "        dropout_p3 = p3\n",
    "    )\n",
    "\n",
    "    optimizer = torch.optim.AdamW(net.parameters(), lr=1e-3, weight_decay=1e-4)\n",
    "    loss_fn = nn.MSELoss()\n",
    "    \n",
    "    train_loader = DataLoader(TensorDataset(X_train, y_train))\n",
    "\n",
    "    best_rmse = float('inf')\n",
    "    patience = 25\n",
    "    no_improve = 0\n",
    "\n",
    "    for epoch in range(8000):\n",
    "        net.train()\n",
    "        epoch_loss = 0\n",
    "\n",
    "        optimizer.zero_grad()\n",
    "        preds = net(X_train).flatten()\n",
    "        loss = loss_fn(preds, y_train)\n",
    "        loss.backward()\n",
    "        optimizer.step()\n",
    "\n",
    "        if epoch % 50 == 0:\n",
    "            net.eval()\n",
    "            with torch.no_grad():\n",
    "                test_preds1 = net(X_test).flatten()\n",
    "                current_rmse = torch.sqrt(loss_fn(test_preds1, y_test)).item()\n",
    "                \n",
    "                if current_rmse < best_rmse:\n",
    "                    best_rmse = current_rmse\n",
    "                    no_improve = 0\n",
    "                else:\n",
    "                    no_improve += 1\n",
    "\n",
    "                if no_improve >= patience:\n",
    "                    break  \n",
    "\n",
    "    return best_rmse\n",
    "\n",
    "study = optuna.create_study(direction='minimize')\n",
    "study.optimize(objective, n_trials=50)\n",
    "\n",
    "print(\"\\nBest trial:\")\n",
    "trial = study.best_trial\n",
    "print(f\"Test RMSE: {trial.value:.4f}\")\n",
    "print(\"Dropout probabilities:\")\n",
    "print(f\"  Layer 1: {trial.params['dropout_p1']:.2f}\")\n",
    "print(f\"  Layer 2: {trial.params['dropout_p2']:.2f}\")\n",
    "print(f\"  Layer 3: {trial.params['dropout_p3']:.2f}\")"
   ]
  },
  {
   "cell_type": "code",
   "execution_count": 39,
   "id": "da95580a",
   "metadata": {},
   "outputs": [],
   "source": [
    "n_in_neurons = X_train.shape[1]\n",
    "n_hidden_neurons_1 = 256\n",
    "n_hidden_neurons_2 = 128\n",
    "n_hidden_neurons_3 = 64\n",
    "n_out_neurons = 1\n",
    "dropout_p1 = 0.45\n",
    "dropout_p2 = 0.20\n",
    "dropout_p3 = 0.15\n",
    "\n",
    "\n",
    "net = NetWithDrop(\n",
    "    n_in_neurons,\n",
    "    n_hidden_neurons_1,\n",
    "    n_hidden_neurons_2,\n",
    "    n_hidden_neurons_3,\n",
    "    n_out_neurons,\n",
    "    dropout_p1,\n",
    "    dropout_p2,\n",
    "    dropout_p3\n",
    ")"
   ]
  },
  {
   "cell_type": "code",
   "execution_count": 40,
   "id": "a7f0a432",
   "metadata": {
    "scrolled": true
   },
   "outputs": [
    {
     "name": "stdout",
     "output_type": "stream",
     "text": [
      "Epoch    0 | Train Loss: 188345952.0000 | Test RMSE: 17764.5078\n",
      "Epoch   50 | Train Loss: 184417056.0000 | Test RMSE: 17580.6797\n",
      "Epoch  100 | Train Loss: 147869824.0000 | Test RMSE: 15761.6309\n",
      "Epoch  150 | Train Loss: 77645424.0000 | Test RMSE: 10828.5410\n",
      "Epoch  200 | Train Loss: 55123632.0000 | Test RMSE: 9172.8828\n",
      "Epoch  250 | Train Loss: 46073052.0000 | Test RMSE: 8580.8613\n",
      "Epoch  300 | Train Loss: 41698620.0000 | Test RMSE: 8164.2837\n",
      "Epoch  350 | Train Loss: 38595304.0000 | Test RMSE: 7777.8350\n",
      "Epoch  400 | Train Loss: 33974300.0000 | Test RMSE: 7457.5527\n",
      "Epoch  450 | Train Loss: 30744312.0000 | Test RMSE: 7147.5566\n",
      "Epoch  500 | Train Loss: 31897690.0000 | Test RMSE: 6897.2539\n",
      "Epoch  550 | Train Loss: 29187134.0000 | Test RMSE: 6662.3179\n",
      "Epoch  600 | Train Loss: 24417636.0000 | Test RMSE: 6360.7251\n",
      "Epoch  650 | Train Loss: 23341770.0000 | Test RMSE: 6226.6191\n",
      "Epoch  700 | Train Loss: 26560534.0000 | Test RMSE: 6030.3979\n",
      "Epoch  750 | Train Loss: 25908078.0000 | Test RMSE: 5859.9478\n",
      "Epoch  800 | Train Loss: 20360228.0000 | Test RMSE: 5693.5381\n",
      "Epoch  850 | Train Loss: 20411170.0000 | Test RMSE: 5607.7754\n",
      "Epoch  900 | Train Loss: 17244552.0000 | Test RMSE: 5618.2061\n",
      "Epoch  950 | Train Loss: 18695156.0000 | Test RMSE: 5595.8267\n",
      "Epoch 1000 | Train Loss: 17780808.0000 | Test RMSE: 5487.2988\n",
      "Epoch 1050 | Train Loss: 21052144.0000 | Test RMSE: 5509.2368\n",
      "Epoch 1100 | Train Loss: 15890197.0000 | Test RMSE: 5409.5596\n",
      "Epoch 1150 | Train Loss: 16079911.0000 | Test RMSE: 5412.0347\n",
      "Epoch 1200 | Train Loss: 17017202.0000 | Test RMSE: 5437.9937\n",
      "Epoch 1250 | Train Loss: 19918340.0000 | Test RMSE: 5461.9922\n",
      "Epoch 1300 | Train Loss: 15452729.0000 | Test RMSE: 5410.8545\n",
      "Epoch 1350 | Train Loss: 15023927.0000 | Test RMSE: 5400.2544\n",
      "Epoch 1400 | Train Loss: 16335215.0000 | Test RMSE: 5426.4209\n",
      "Epoch 1450 | Train Loss: 15288487.0000 | Test RMSE: 5381.2891\n",
      "Epoch 1500 | Train Loss: 14537325.0000 | Test RMSE: 5300.6279\n",
      "Epoch 1550 | Train Loss: 15325650.0000 | Test RMSE: 5194.1313\n",
      "Epoch 1600 | Train Loss: 16658277.0000 | Test RMSE: 5296.7134\n",
      "Epoch 1650 | Train Loss: 14737588.0000 | Test RMSE: 5297.1938\n",
      "Epoch 1700 | Train Loss: 13004826.0000 | Test RMSE: 5258.2598\n",
      "Epoch 1750 | Train Loss: 14341653.0000 | Test RMSE: 5219.5610\n",
      "Epoch 1800 | Train Loss: 17040324.0000 | Test RMSE: 5149.1221\n",
      "Epoch 1850 | Train Loss: 15029746.0000 | Test RMSE: 5177.4512\n",
      "Epoch 1900 | Train Loss: 13845225.0000 | Test RMSE: 5222.0161\n",
      "Epoch 1950 | Train Loss: 17612042.0000 | Test RMSE: 5163.7319\n",
      "Epoch 2000 | Train Loss: 14362113.0000 | Test RMSE: 5184.4868\n",
      "Epoch 2050 | Train Loss: 11641152.0000 | Test RMSE: 5154.0225\n",
      "Epoch 2100 | Train Loss: 14224941.0000 | Test RMSE: 5167.8525\n",
      "Epoch 2150 | Train Loss: 13986437.0000 | Test RMSE: 5208.7461\n",
      "Epoch 2200 | Train Loss: 14738674.0000 | Test RMSE: 5151.6025\n",
      "Epoch 2250 | Train Loss: 16488414.0000 | Test RMSE: 5122.5864\n",
      "Epoch 2300 | Train Loss: 14906738.0000 | Test RMSE: 5150.5684\n",
      "Epoch 2350 | Train Loss: 12966219.0000 | Test RMSE: 5152.4209\n",
      "Epoch 2400 | Train Loss: 13096951.0000 | Test RMSE: 5229.4653\n",
      "Epoch 2450 | Train Loss: 15369018.0000 | Test RMSE: 5110.6147\n",
      "Epoch 2500 | Train Loss: 12078460.0000 | Test RMSE: 5110.5273\n",
      "Epoch 2550 | Train Loss: 11732898.0000 | Test RMSE: 5058.3169\n",
      "Epoch 2600 | Train Loss: 13024811.0000 | Test RMSE: 5031.6240\n",
      "Epoch 2650 | Train Loss: 10152171.0000 | Test RMSE: 4999.1904\n",
      "Epoch 2700 | Train Loss: 14093829.0000 | Test RMSE: 4980.8843\n",
      "Epoch 2750 | Train Loss: 13779131.0000 | Test RMSE: 4961.4531\n",
      "Epoch 2800 | Train Loss: 12168872.0000 | Test RMSE: 5029.4619\n",
      "Epoch 2850 | Train Loss: 16061896.0000 | Test RMSE: 4961.6938\n",
      "Epoch 2900 | Train Loss: 11039399.0000 | Test RMSE: 5009.7729\n",
      "Epoch 2950 | Train Loss: 11547423.0000 | Test RMSE: 5021.9312\n",
      "Epoch 3000 | Train Loss: 11844359.0000 | Test RMSE: 5038.7861\n",
      "Epoch 3050 | Train Loss: 12874360.0000 | Test RMSE: 5051.8892\n",
      "Epoch 3100 | Train Loss: 15295947.0000 | Test RMSE: 5038.2217\n",
      "Epoch 3150 | Train Loss: 13403268.0000 | Test RMSE: 5012.9751\n",
      "Epoch 3200 | Train Loss: 11156909.0000 | Test RMSE: 4947.4253\n",
      "Epoch 3250 | Train Loss: 12848743.0000 | Test RMSE: 4972.4443\n",
      "Epoch 3300 | Train Loss: 13689214.0000 | Test RMSE: 4941.9375\n",
      "Epoch 3350 | Train Loss: 15338482.0000 | Test RMSE: 4995.8940\n",
      "Epoch 3400 | Train Loss: 13185125.0000 | Test RMSE: 4900.0864\n",
      "Epoch 3450 | Train Loss: 13136863.0000 | Test RMSE: 4941.0693\n",
      "Epoch 3500 | Train Loss: 10528113.0000 | Test RMSE: 4879.1069\n",
      "Epoch 3550 | Train Loss: 14731488.0000 | Test RMSE: 4836.2769\n",
      "Epoch 3600 | Train Loss: 11571443.0000 | Test RMSE: 4911.4180\n",
      "Epoch 3650 | Train Loss: 12035205.0000 | Test RMSE: 5004.9634\n",
      "Epoch 3700 | Train Loss: 12617522.0000 | Test RMSE: 4908.4951\n",
      "Epoch 3750 | Train Loss: 11971247.0000 | Test RMSE: 4876.6738\n",
      "Epoch 3800 | Train Loss: 10951348.0000 | Test RMSE: 4861.1665\n",
      "Epoch 3850 | Train Loss: 13597063.0000 | Test RMSE: 4808.1665\n",
      "Epoch 3900 | Train Loss: 10588101.0000 | Test RMSE: 4843.8169\n",
      "Epoch 3950 | Train Loss: 13412717.0000 | Test RMSE: 4861.5791\n",
      "Epoch 4000 | Train Loss: 10723685.0000 | Test RMSE: 4766.7524\n",
      "Epoch 4050 | Train Loss: 10475575.0000 | Test RMSE: 4874.7544\n",
      "Epoch 4100 | Train Loss: 11277016.0000 | Test RMSE: 4804.8506\n",
      "Epoch 4150 | Train Loss: 10868343.0000 | Test RMSE: 4938.6426\n",
      "Epoch 4200 | Train Loss: 13234472.0000 | Test RMSE: 4916.8247\n",
      "Epoch 4250 | Train Loss: 12344744.0000 | Test RMSE: 4798.6973\n",
      "Epoch 4300 | Train Loss: 14799558.0000 | Test RMSE: 4823.1230\n",
      "Epoch 4350 | Train Loss: 12169012.0000 | Test RMSE: 4860.3311\n",
      "Epoch 4400 | Train Loss: 10132164.0000 | Test RMSE: 4755.4561\n",
      "Epoch 4450 | Train Loss: 10304948.0000 | Test RMSE: 4826.9561\n",
      "Epoch 4500 | Train Loss: 11950350.0000 | Test RMSE: 4780.0645\n",
      "Epoch 4550 | Train Loss: 12398516.0000 | Test RMSE: 4743.7544\n",
      "Epoch 4600 | Train Loss: 11050803.0000 | Test RMSE: 4818.5649\n",
      "Epoch 4650 | Train Loss: 11942195.0000 | Test RMSE: 4762.0376\n",
      "Epoch 4700 | Train Loss: 11022807.0000 | Test RMSE: 4831.7231\n",
      "Epoch 4750 | Train Loss: 11932288.0000 | Test RMSE: 4858.5972\n",
      "Epoch 4800 | Train Loss: 10431593.0000 | Test RMSE: 4729.5835\n",
      "Epoch 4850 | Train Loss: 9872994.0000 | Test RMSE: 4752.5767\n",
      "Epoch 4900 | Train Loss: 12600855.0000 | Test RMSE: 4722.6914\n",
      "Epoch 4950 | Train Loss: 8938617.0000 | Test RMSE: 4680.0742\n",
      "Epoch 5000 | Train Loss: 14011323.0000 | Test RMSE: 4736.3081\n",
      "Epoch 5050 | Train Loss: 12051851.0000 | Test RMSE: 4741.8306\n",
      "Epoch 5100 | Train Loss: 8853950.0000 | Test RMSE: 4816.1948\n",
      "Epoch 5150 | Train Loss: 11091976.0000 | Test RMSE: 4728.4976\n",
      "Epoch 5200 | Train Loss: 11597133.0000 | Test RMSE: 4687.4966\n",
      "Epoch 5250 | Train Loss: 12342024.0000 | Test RMSE: 4722.2642\n",
      "Epoch 5300 | Train Loss: 9101799.0000 | Test RMSE: 4629.2397\n",
      "Epoch 5350 | Train Loss: 10325210.0000 | Test RMSE: 4702.8184\n",
      "Epoch 5400 | Train Loss: 10277735.0000 | Test RMSE: 4659.0273\n",
      "Epoch 5450 | Train Loss: 10714417.0000 | Test RMSE: 4707.6787\n",
      "Epoch 5500 | Train Loss: 11309855.0000 | Test RMSE: 4726.9946\n",
      "Epoch 5550 | Train Loss: 11621695.0000 | Test RMSE: 4769.6392\n",
      "Epoch 5600 | Train Loss: 11621179.0000 | Test RMSE: 4597.2666\n",
      "Epoch 5650 | Train Loss: 9622693.0000 | Test RMSE: 4646.4282\n",
      "Epoch 5700 | Train Loss: 12889707.0000 | Test RMSE: 4678.4277\n",
      "Epoch 5750 | Train Loss: 10634651.0000 | Test RMSE: 4693.8521\n",
      "Epoch 5800 | Train Loss: 9693616.0000 | Test RMSE: 4689.4277\n",
      "Epoch 5850 | Train Loss: 10972545.0000 | Test RMSE: 4695.5586\n",
      "Epoch 5900 | Train Loss: 10309837.0000 | Test RMSE: 4667.6147\n",
      "Epoch 5950 | Train Loss: 9033899.0000 | Test RMSE: 4645.6694\n",
      "Epoch 6000 | Train Loss: 11264841.0000 | Test RMSE: 4672.4219\n",
      "Epoch 6050 | Train Loss: 9900481.0000 | Test RMSE: 4652.0215\n",
      "Epoch 6100 | Train Loss: 9165084.0000 | Test RMSE: 4542.1025\n",
      "Epoch 6150 | Train Loss: 10260236.0000 | Test RMSE: 4503.3281\n",
      "Epoch 6200 | Train Loss: 9279995.0000 | Test RMSE: 4605.7588\n",
      "Epoch 6250 | Train Loss: 9831691.0000 | Test RMSE: 4510.0562\n",
      "Epoch 6300 | Train Loss: 10455150.0000 | Test RMSE: 4585.3179\n",
      "Epoch 6350 | Train Loss: 10436955.0000 | Test RMSE: 4595.3008\n",
      "Epoch 6400 | Train Loss: 9639625.0000 | Test RMSE: 4622.2759\n",
      "Epoch 6450 | Train Loss: 10585662.0000 | Test RMSE: 4599.5513\n",
      "Epoch 6500 | Train Loss: 10384314.0000 | Test RMSE: 4545.2300\n",
      "Epoch 6550 | Train Loss: 7631741.0000 | Test RMSE: 4545.9385\n",
      "Epoch 6600 | Train Loss: 9399366.0000 | Test RMSE: 4504.4150\n",
      "Epoch 6650 | Train Loss: 10222338.0000 | Test RMSE: 4558.9155\n",
      "Epoch 6700 | Train Loss: 12250456.0000 | Test RMSE: 4475.7144\n",
      "Epoch 6750 | Train Loss: 11685668.0000 | Test RMSE: 4501.5737\n",
      "Epoch 6800 | Train Loss: 9732011.0000 | Test RMSE: 4477.8872\n",
      "Epoch 6850 | Train Loss: 8294968.5000 | Test RMSE: 4487.2002\n",
      "Epoch 6900 | Train Loss: 9415388.0000 | Test RMSE: 4488.5845\n",
      "Epoch 6950 | Train Loss: 10721023.0000 | Test RMSE: 4417.0791\n",
      "Epoch 7000 | Train Loss: 9125761.0000 | Test RMSE: 4559.7998\n",
      "Epoch 7050 | Train Loss: 10991915.0000 | Test RMSE: 4459.3647\n",
      "Epoch 7100 | Train Loss: 8170006.5000 | Test RMSE: 4549.2539\n",
      "Epoch 7150 | Train Loss: 11067191.0000 | Test RMSE: 4438.5122\n",
      "Epoch 7200 | Train Loss: 9277508.0000 | Test RMSE: 4489.9482\n",
      "Epoch 7250 | Train Loss: 8433654.0000 | Test RMSE: 4423.7910\n",
      "Epoch 7300 | Train Loss: 7966205.5000 | Test RMSE: 4541.3789\n",
      "Epoch 7350 | Train Loss: 11073515.0000 | Test RMSE: 4434.5078\n",
      "Epoch 7400 | Train Loss: 8255731.5000 | Test RMSE: 4400.3320\n",
      "Epoch 7450 | Train Loss: 9050079.0000 | Test RMSE: 4316.5288\n",
      "Epoch 7500 | Train Loss: 8198471.0000 | Test RMSE: 4478.5469\n",
      "Epoch 7550 | Train Loss: 9156108.0000 | Test RMSE: 4378.3511\n",
      "Epoch 7600 | Train Loss: 10045743.0000 | Test RMSE: 4343.2954\n",
      "Epoch 7650 | Train Loss: 8019274.5000 | Test RMSE: 4410.8081\n",
      "Epoch 7700 | Train Loss: 9609097.0000 | Test RMSE: 4507.6245\n",
      "Epoch 7750 | Train Loss: 8984792.0000 | Test RMSE: 4339.9385\n",
      "Epoch 7800 | Train Loss: 9157730.0000 | Test RMSE: 4454.4595\n",
      "Epoch 7850 | Train Loss: 10527605.0000 | Test RMSE: 4436.2856\n",
      "Epoch 7900 | Train Loss: 10635429.0000 | Test RMSE: 4479.6084\n",
      "Epoch 7950 | Train Loss: 8973369.0000 | Test RMSE: 4419.1777\n",
      "Epoch 8000 | Train Loss: 7787574.5000 | Test RMSE: 4362.5366\n",
      "Epoch 8050 | Train Loss: 7528166.0000 | Test RMSE: 4311.3613\n",
      "Epoch 8100 | Train Loss: 7897129.5000 | Test RMSE: 4379.2764\n",
      "Epoch 8150 | Train Loss: 10281886.0000 | Test RMSE: 4416.4556\n",
      "Epoch 8200 | Train Loss: 8106285.0000 | Test RMSE: 4348.2021\n",
      "Epoch 8250 | Train Loss: 10134199.0000 | Test RMSE: 4348.3228\n",
      "Epoch 8300 | Train Loss: 9558734.0000 | Test RMSE: 4336.3237\n",
      "Epoch 8350 | Train Loss: 8993742.0000 | Test RMSE: 4461.7925\n",
      "Epoch 8400 | Train Loss: 8395311.0000 | Test RMSE: 4392.4404\n",
      "Epoch 8450 | Train Loss: 8358071.0000 | Test RMSE: 4401.2764\n",
      "Epoch 8500 | Train Loss: 7568843.5000 | Test RMSE: 4405.1157\n",
      "Epoch 8550 | Train Loss: 9986773.0000 | Test RMSE: 4539.5537\n",
      "Epoch 8600 | Train Loss: 8914738.0000 | Test RMSE: 4449.6333\n",
      "Epoch 8650 | Train Loss: 11026852.0000 | Test RMSE: 4608.7671\n",
      "Epoch 8700 | Train Loss: 9948830.0000 | Test RMSE: 4560.9878\n",
      "Epoch 8750 | Train Loss: 10205959.0000 | Test RMSE: 4585.8345\n",
      "Epoch 8800 | Train Loss: 8791859.0000 | Test RMSE: 4469.3501\n",
      "Epoch 8850 | Train Loss: 10470863.0000 | Test RMSE: 4549.1611\n",
      "Epoch 8900 | Train Loss: 9905428.0000 | Test RMSE: 4550.9111\n",
      "Epoch 8950 | Train Loss: 8423508.0000 | Test RMSE: 4480.9526\n",
      "Epoch 9000 | Train Loss: 8172372.0000 | Test RMSE: 4636.5527\n",
      "Epoch 9050 | Train Loss: 10028351.0000 | Test RMSE: 4501.2993\n",
      "Epoch 9100 | Train Loss: 7764122.0000 | Test RMSE: 4526.1333\n",
      "Epoch 9150 | Train Loss: 8905540.0000 | Test RMSE: 4509.0024\n",
      "Epoch 9200 | Train Loss: 7854139.5000 | Test RMSE: 4528.8921\n",
      "Epoch 9250 | Train Loss: 9056324.0000 | Test RMSE: 4795.0674\n",
      "Epoch 9300 | Train Loss: 8572004.0000 | Test RMSE: 4695.3022\n",
      "Epoch 9350 | Train Loss: 9051004.0000 | Test RMSE: 4556.3843\n",
      "Epoch 9400 | Train Loss: 8221210.0000 | Test RMSE: 4633.2378\n",
      "Epoch 9450 | Train Loss: 8614377.0000 | Test RMSE: 4522.3574\n",
      "Epoch 9500 | Train Loss: 8601695.0000 | Test RMSE: 4588.9097\n",
      "Epoch 9550 | Train Loss: 9090184.0000 | Test RMSE: 4622.6528\n",
      "Epoch 9600 | Train Loss: 11983441.0000 | Test RMSE: 4668.9829\n",
      "Epoch 9650 | Train Loss: 9135249.0000 | Test RMSE: 4550.9380\n",
      "Epoch 9700 | Train Loss: 6934106.0000 | Test RMSE: 4759.9741\n",
      "Epoch 9750 | Train Loss: 8434927.0000 | Test RMSE: 4529.6816\n",
      "Epoch 9800 | Train Loss: 8343684.0000 | Test RMSE: 4548.8853\n",
      "Epoch 9850 | Train Loss: 7524315.5000 | Test RMSE: 4600.7734\n",
      "Epoch 9900 | Train Loss: 8359675.5000 | Test RMSE: 4568.5591\n",
      "Epoch 9950 | Train Loss: 8343584.0000 | Test RMSE: 4551.1343\n",
      "Epoch 10000 | Train Loss: 9397752.0000 | Test RMSE: 4749.2505\n",
      "Epoch 10050 | Train Loss: 10295452.0000 | Test RMSE: 4749.6230\n",
      "Epoch 10100 | Train Loss: 9059489.0000 | Test RMSE: 4600.9229\n",
      "Epoch 10150 | Train Loss: 9371108.0000 | Test RMSE: 4722.6133\n",
      "Epoch 10200 | Train Loss: 8349075.0000 | Test RMSE: 4727.5659\n",
      "Epoch 10250 | Train Loss: 9606383.0000 | Test RMSE: 4679.8184\n",
      "Epoch 10300 | Train Loss: 7439648.5000 | Test RMSE: 4766.6553\n",
      "Epoch 10350 | Train Loss: 8316874.0000 | Test RMSE: 4721.2729\n",
      "Epoch 10400 | Train Loss: 7334256.5000 | Test RMSE: 4776.5771\n",
      "Epoch 10450 | Train Loss: 9228910.0000 | Test RMSE: 4896.7593\n",
      "Epoch 10500 | Train Loss: 7576264.5000 | Test RMSE: 4642.8501\n",
      "Epoch 10550 | Train Loss: 8520072.0000 | Test RMSE: 4775.9785\n",
      "Epoch 10600 | Train Loss: 7435834.5000 | Test RMSE: 4645.7026\n",
      "Epoch 10650 | Train Loss: 7138233.5000 | Test RMSE: 4737.6929\n",
      "Epoch 10700 | Train Loss: 7104817.0000 | Test RMSE: 4589.5850\n",
      "Epoch 10750 | Train Loss: 10706030.0000 | Test RMSE: 4659.3960\n",
      "Epoch 10800 | Train Loss: 7440083.0000 | Test RMSE: 4731.8320\n",
      "Epoch 10850 | Train Loss: 10222354.0000 | Test RMSE: 4574.9424\n",
      "Epoch 10900 | Train Loss: 6723504.5000 | Test RMSE: 4707.4658\n",
      "Epoch 10950 | Train Loss: 8704065.0000 | Test RMSE: 4686.2476\n",
      "Epoch 11000 | Train Loss: 7326902.5000 | Test RMSE: 4691.2266\n",
      "Epoch 11050 | Train Loss: 7542529.0000 | Test RMSE: 4608.3340\n",
      "Epoch 11100 | Train Loss: 8942491.0000 | Test RMSE: 4794.0933\n",
      "Epoch 11150 | Train Loss: 8305787.5000 | Test RMSE: 4580.4058\n",
      "Epoch 11200 | Train Loss: 7942848.0000 | Test RMSE: 4675.9424\n",
      "Epoch 11250 | Train Loss: 8337843.0000 | Test RMSE: 4927.3730\n",
      "Epoch 11300 | Train Loss: 10193505.0000 | Test RMSE: 4678.6431\n",
      "Epoch 11350 | Train Loss: 8279268.5000 | Test RMSE: 4574.4399\n",
      "Epoch 11400 | Train Loss: 7845754.0000 | Test RMSE: 4728.1416\n",
      "Epoch 11450 | Train Loss: 9327160.0000 | Test RMSE: 4567.8574\n",
      "Epoch 11500 | Train Loss: 7155516.5000 | Test RMSE: 4592.3359\n",
      "Epoch 11550 | Train Loss: 8075692.0000 | Test RMSE: 4512.6343\n",
      "Epoch 11600 | Train Loss: 8360066.0000 | Test RMSE: 4715.0762\n",
      "Epoch 11650 | Train Loss: 9248763.0000 | Test RMSE: 4661.7622\n",
      "Epoch 11700 | Train Loss: 7866106.0000 | Test RMSE: 4497.0098\n",
      "Epoch 11750 | Train Loss: 7245817.0000 | Test RMSE: 4644.5615\n",
      "Epoch 11800 | Train Loss: 8732729.0000 | Test RMSE: 4644.7373\n",
      "Epoch 11850 | Train Loss: 7242153.0000 | Test RMSE: 4640.7114\n",
      "Epoch 11900 | Train Loss: 9416036.0000 | Test RMSE: 4585.3301\n",
      "Epoch 11950 | Train Loss: 7634378.5000 | Test RMSE: 4555.5190\n",
      "Epoch 12000 | Train Loss: 8322246.5000 | Test RMSE: 4670.1904\n",
      "Epoch 12050 | Train Loss: 9341371.0000 | Test RMSE: 4569.8145\n",
      "Epoch 12100 | Train Loss: 8574871.0000 | Test RMSE: 4566.2603\n",
      "Epoch 12150 | Train Loss: 6902150.0000 | Test RMSE: 4601.8647\n",
      "Epoch 12200 | Train Loss: 8124196.0000 | Test RMSE: 4587.9561\n",
      "Epoch 12250 | Train Loss: 9884032.0000 | Test RMSE: 4608.9106\n",
      "Epoch 12300 | Train Loss: 6727057.0000 | Test RMSE: 4609.4956\n",
      "Epoch 12350 | Train Loss: 5742301.0000 | Test RMSE: 4472.7651\n",
      "Epoch 12400 | Train Loss: 9148906.0000 | Test RMSE: 4650.7974\n",
      "Epoch 12450 | Train Loss: 8461454.0000 | Test RMSE: 4520.1680\n",
      "Epoch 12500 | Train Loss: 7064410.5000 | Test RMSE: 4405.6406\n",
      "Epoch 12550 | Train Loss: 6860299.5000 | Test RMSE: 4762.4624\n",
      "Epoch 12600 | Train Loss: 6795037.5000 | Test RMSE: 4482.8096\n",
      "Epoch 12650 | Train Loss: 6092662.0000 | Test RMSE: 4507.0820\n",
      "Epoch 12700 | Train Loss: 8050780.5000 | Test RMSE: 4641.6704\n",
      "Epoch 12750 | Train Loss: 7543530.5000 | Test RMSE: 4496.2065\n",
      "Epoch 12800 | Train Loss: 8383994.0000 | Test RMSE: 4516.7173\n",
      "Epoch 12850 | Train Loss: 6993019.5000 | Test RMSE: 4559.6577\n",
      "Epoch 12900 | Train Loss: 6489362.0000 | Test RMSE: 4485.2119\n",
      "Epoch 12950 | Train Loss: 7119662.0000 | Test RMSE: 4520.2285\n",
      "Epoch 12999 | Train Loss: 8797147.0000 | Test RMSE: 4502.8130\n",
      "Best Test RMSE: 4311.3613\n",
      "========================================\n"
     ]
    },
    {
     "data": {
      "image/png": "[encoded data removed]",
      "text/plain": [
       "<Figure size 1224x360 with 1 Axes>"
      ]
     },
     "metadata": {
      "needs_background": "light"
     },
     "output_type": "display_data"
    }
   ],
   "source": [
    "learning_fn_baseline(net)"
   ]
  },
  {
   "cell_type": "markdown",
   "id": "2b29c59d",
   "metadata": {},
   "source": [
    "С применением Dropout метрика составляет **4311.3613**, также видно, что модель предсказывает точнее всего и хорошо справляется с аномальными значениями"
   ]
  },
  {
   "cell_type": "markdown",
   "id": "accurate-infrastructure",
   "metadata": {},
   "source": [
    "## Выводы"
   ]
  },
  {
   "cell_type": "markdown",
   "id": "79fbcad2",
   "metadata": {},
   "source": [
    "Итоги обучения:\n",
    "\n",
    "Общие параметры для всех трех нейронных сетей:\n",
    "\n",
    "    Во входном слое 12 нейронов\n",
    "    В двух скрытых слоях по 256, 128 и 64 соответственно\n",
    "    В выходном 1 нейрон\n",
    "    После слоев были выбраны функции активации: LeakyReLU, GELU, ELU соответственно\n",
    "    Оптимизатор - Adam\n",
    "\n",
    "Результаты обучения простой нейронной сети:\n",
    "\n",
    "    Метрика RMSE - 5047, модель не справилась с заданием и есть сильные расхождения на графике факт-прогноза\n",
    "\n",
    "Результаты обучения нейронной сети с применением BatchNorm:\n",
    "\n",
    "    Метрика RMSE - 4848, модель не справилась с заданием, но расхождения на графике уже меньше и я считаю, что \n",
    "    ее можно использовать в предсказаниях температуры\n",
    "\n",
    "Результаты обучения нейронной сети с применением Dropout:\n",
    "\n",
    "    Метрика RMSE - 4311, модель удовлетворяет условия задачи, по сравнению с другими нейронными сетями, лучше всего\n",
    "    справляется с предсказаниями и неплохо с предсказаниями температуры у звезд с аномальными радиусами\n",
    "\n",
    "В общем, только одна нейронная сеть подходит для определения температуры на поверхности звезд, это нейронная сеть с применением DropOut, у нее относительно самые низкие расхождения на графике, она лучше всех подстраивается под данные, также можно использовать модель вторую модель, хоть она не удовлетворяет условия задачи."
   ]
  }
 ],
 "metadata": {
  "ExecuteTimeLog": [
   {
    "duration": 1334,
    "start_time": "2025-01-23T01:03:54.821Z"
   },
   {
    "duration": 101,
    "start_time": "2025-01-23T01:04:49.229Z"
   },
   {
    "duration": 3,
    "start_time": "2025-01-23T01:04:51.249Z"
   },
   {
    "duration": 2,
    "start_time": "2025-01-23T01:04:51.750Z"
   },
   {
    "duration": 77,
    "start_time": "2025-01-23T01:06:17.183Z"
   },
   {
    "duration": 10,
    "start_time": "2025-01-23T01:06:23.660Z"
   },
   {
    "duration": 13,
    "start_time": "2025-01-23T01:06:42.971Z"
   },
   {
    "duration": 5,
    "start_time": "2025-01-23T01:14:36.822Z"
   },
   {
    "duration": 3,
    "start_time": "2025-01-23T01:16:53.112Z"
   },
   {
    "duration": 4,
    "start_time": "2025-01-23T01:17:05.822Z"
   },
   {
    "duration": 9,
    "start_time": "2025-01-23T01:17:27.231Z"
   },
   {
    "duration": 726,
    "start_time": "2025-01-23T01:18:23.312Z"
   },
   {
    "duration": 14,
    "start_time": "2025-01-23T01:19:22.112Z"
   },
   {
    "duration": 1270,
    "start_time": "2025-01-23T01:19:40.451Z"
   },
   {
    "duration": 635,
    "start_time": "2025-01-23T01:20:09.202Z"
   },
   {
    "duration": 17,
    "start_time": "2025-01-23T01:21:00.052Z"
   },
   {
    "duration": 4,
    "start_time": "2025-01-23T01:21:14.883Z"
   },
   {
    "duration": 158,
    "start_time": "2025-01-23T01:21:18.267Z"
   },
   {
    "duration": 3,
    "start_time": "2025-01-23T01:21:45.933Z"
   },
   {
    "duration": 642,
    "start_time": "2025-01-23T01:21:51.912Z"
   },
   {
    "duration": 3,
    "start_time": "2025-01-23T01:29:37.852Z"
   },
   {
    "duration": 3,
    "start_time": "2025-01-23T01:34:38.072Z"
   },
   {
    "duration": 1073,
    "start_time": "2025-01-23T01:34:48.266Z"
   },
   {
    "duration": 6,
    "start_time": "2025-01-23T01:34:49.341Z"
   },
   {
    "duration": 29,
    "start_time": "2025-01-23T01:34:49.348Z"
   },
   {
    "duration": 10,
    "start_time": "2025-01-23T01:34:49.379Z"
   },
   {
    "duration": 12,
    "start_time": "2025-01-23T01:34:49.391Z"
   },
   {
    "duration": 3,
    "start_time": "2025-01-23T01:34:49.404Z"
   },
   {
    "duration": 68,
    "start_time": "2025-01-23T01:34:49.408Z"
   },
   {
    "duration": 0,
    "start_time": "2025-01-23T01:34:49.477Z"
   },
   {
    "duration": 0,
    "start_time": "2025-01-23T01:34:49.478Z"
   },
   {
    "duration": 0,
    "start_time": "2025-01-23T01:34:49.479Z"
   },
   {
    "duration": 0,
    "start_time": "2025-01-23T01:34:49.480Z"
   },
   {
    "duration": 0,
    "start_time": "2025-01-23T01:34:49.481Z"
   },
   {
    "duration": 98,
    "start_time": "2025-01-23T01:35:00.938Z"
   },
   {
    "duration": 4,
    "start_time": "2025-01-23T01:35:05.746Z"
   },
   {
    "duration": 4,
    "start_time": "2025-01-23T01:35:06.207Z"
   },
   {
    "duration": 4,
    "start_time": "2025-01-23T01:35:06.444Z"
   },
   {
    "duration": 9,
    "start_time": "2025-01-23T01:35:06.556Z"
   },
   {
    "duration": 700,
    "start_time": "2025-01-23T01:35:07.846Z"
   },
   {
    "duration": 15,
    "start_time": "2025-01-23T01:35:25.227Z"
   },
   {
    "duration": 4,
    "start_time": "2025-01-23T01:36:12.776Z"
   },
   {
    "duration": 964,
    "start_time": "2025-01-23T01:36:16.047Z"
   },
   {
    "duration": 638,
    "start_time": "2025-01-23T01:36:26.108Z"
   },
   {
    "duration": 9,
    "start_time": "2025-01-23T01:38:14.685Z"
   },
   {
    "duration": 3,
    "start_time": "2025-01-23T01:39:30.876Z"
   },
   {
    "duration": 3,
    "start_time": "2025-01-23T01:40:17.956Z"
   },
   {
    "duration": 4,
    "start_time": "2025-01-23T01:40:20.966Z"
   },
   {
    "duration": 11,
    "start_time": "2025-01-23T01:40:26.017Z"
   },
   {
    "duration": 4,
    "start_time": "2025-01-23T01:40:29.446Z"
   },
   {
    "duration": 1135,
    "start_time": "2025-01-23T01:43:15.306Z"
   },
   {
    "duration": 3,
    "start_time": "2025-01-23T01:43:16.443Z"
   },
   {
    "duration": 28,
    "start_time": "2025-01-23T01:43:16.447Z"
   },
   {
    "duration": 11,
    "start_time": "2025-01-23T01:43:16.476Z"
   },
   {
    "duration": 13,
    "start_time": "2025-01-23T01:43:16.490Z"
   },
   {
    "duration": 3,
    "start_time": "2025-01-23T01:43:16.504Z"
   },
   {
    "duration": 5,
    "start_time": "2025-01-23T01:43:16.509Z"
   },
   {
    "duration": 3,
    "start_time": "2025-01-23T01:43:16.515Z"
   },
   {
    "duration": 4,
    "start_time": "2025-01-23T01:43:16.520Z"
   },
   {
    "duration": 21,
    "start_time": "2025-01-23T01:43:16.525Z"
   },
   {
    "duration": 4,
    "start_time": "2025-01-23T01:43:16.547Z"
   },
   {
    "duration": 22,
    "start_time": "2025-01-23T01:43:16.552Z"
   },
   {
    "duration": 513,
    "start_time": "2025-01-23T01:43:16.576Z"
   },
   {
    "duration": 4,
    "start_time": "2025-01-23T01:43:33.733Z"
   },
   {
    "duration": 5,
    "start_time": "2025-01-23T01:44:10.603Z"
   },
   {
    "duration": 4,
    "start_time": "2025-01-23T01:44:12.694Z"
   },
   {
    "duration": 486,
    "start_time": "2025-01-23T01:44:34.885Z"
   },
   {
    "duration": 1109,
    "start_time": "2025-01-23T01:44:43.324Z"
   },
   {
    "duration": 2,
    "start_time": "2025-01-23T01:44:44.436Z"
   },
   {
    "duration": 29,
    "start_time": "2025-01-23T01:44:44.439Z"
   },
   {
    "duration": 11,
    "start_time": "2025-01-23T01:44:44.469Z"
   },
   {
    "duration": 19,
    "start_time": "2025-01-23T01:44:44.482Z"
   },
   {
    "duration": 36,
    "start_time": "2025-01-23T01:44:44.502Z"
   },
   {
    "duration": 5,
    "start_time": "2025-01-23T01:44:44.540Z"
   },
   {
    "duration": 8,
    "start_time": "2025-01-23T01:44:44.547Z"
   },
   {
    "duration": 3,
    "start_time": "2025-01-23T01:44:44.556Z"
   },
   {
    "duration": 3,
    "start_time": "2025-01-23T01:44:44.561Z"
   },
   {
    "duration": 3,
    "start_time": "2025-01-23T01:44:44.566Z"
   },
   {
    "duration": 9,
    "start_time": "2025-01-23T01:44:44.570Z"
   },
   {
    "duration": 500,
    "start_time": "2025-01-23T01:44:44.581Z"
   },
   {
    "duration": 3,
    "start_time": "2025-01-23T01:46:13.465Z"
   },
   {
    "duration": 5,
    "start_time": "2025-01-23T01:46:42.342Z"
   },
   {
    "duration": 4,
    "start_time": "2025-01-23T01:46:44.264Z"
   },
   {
    "duration": 433,
    "start_time": "2025-01-23T01:46:49.924Z"
   },
   {
    "duration": 4,
    "start_time": "2025-01-23T01:47:42.276Z"
   },
   {
    "duration": 4,
    "start_time": "2025-01-23T01:47:43.784Z"
   },
   {
    "duration": 425,
    "start_time": "2025-01-23T01:47:50.824Z"
   },
   {
    "duration": 5,
    "start_time": "2025-01-23T01:48:22.225Z"
   },
   {
    "duration": 3,
    "start_time": "2025-01-23T01:48:23.870Z"
   },
   {
    "duration": 392,
    "start_time": "2025-01-23T01:48:26.454Z"
   },
   {
    "duration": 6,
    "start_time": "2025-01-23T01:48:51.854Z"
   },
   {
    "duration": 4,
    "start_time": "2025-01-23T01:48:53.483Z"
   },
   {
    "duration": 401,
    "start_time": "2025-01-23T01:48:58.476Z"
   },
   {
    "duration": 4,
    "start_time": "2025-01-23T01:49:22.328Z"
   },
   {
    "duration": 379,
    "start_time": "2025-01-23T01:49:25.524Z"
   },
   {
    "duration": 4,
    "start_time": "2025-01-23T01:49:36.653Z"
   },
   {
    "duration": 377,
    "start_time": "2025-01-23T01:49:39.555Z"
   },
   {
    "duration": 5,
    "start_time": "2025-01-23T01:50:12.702Z"
   },
   {
    "duration": 376,
    "start_time": "2025-01-23T01:50:15.535Z"
   },
   {
    "duration": 445,
    "start_time": "2025-01-23T01:51:30.763Z"
   },
   {
    "duration": 5,
    "start_time": "2025-01-23T01:51:41.005Z"
   },
   {
    "duration": 386,
    "start_time": "2025-01-23T01:51:43.503Z"
   },
   {
    "duration": 5,
    "start_time": "2025-01-23T01:52:21.812Z"
   },
   {
    "duration": 346,
    "start_time": "2025-01-23T01:52:25.136Z"
   },
   {
    "duration": 5,
    "start_time": "2025-01-23T01:53:36.911Z"
   },
   {
    "duration": 309,
    "start_time": "2025-01-23T01:53:40.664Z"
   },
   {
    "duration": 5,
    "start_time": "2025-01-23T01:54:14.592Z"
   },
   {
    "duration": 351,
    "start_time": "2025-01-23T01:54:17.916Z"
   },
   {
    "duration": 104,
    "start_time": "2025-01-23T01:54:45.044Z"
   },
   {
    "duration": 268,
    "start_time": "2025-01-23T01:55:04.583Z"
   },
   {
    "duration": 534,
    "start_time": "2025-01-23T01:56:06.233Z"
   },
   {
    "duration": 8,
    "start_time": "2025-01-23T01:58:43.045Z"
   },
   {
    "duration": 496,
    "start_time": "2025-01-23T01:58:50.477Z"
   },
   {
    "duration": 601,
    "start_time": "2025-01-23T01:59:00.754Z"
   },
   {
    "duration": 509,
    "start_time": "2025-01-23T01:59:54.353Z"
   },
   {
    "duration": 498,
    "start_time": "2025-01-23T02:00:47.475Z"
   },
   {
    "duration": 553,
    "start_time": "2025-01-23T02:00:56.608Z"
   },
   {
    "duration": 539,
    "start_time": "2025-01-23T02:01:09.034Z"
   },
   {
    "duration": 511,
    "start_time": "2025-01-23T02:01:49.757Z"
   },
   {
    "duration": 564,
    "start_time": "2025-01-23T02:03:03.705Z"
   },
   {
    "duration": 9,
    "start_time": "2025-01-23T02:03:43.594Z"
   },
   {
    "duration": 8,
    "start_time": "2025-01-23T02:03:50.735Z"
   },
   {
    "duration": 9,
    "start_time": "2025-01-23T02:03:55.704Z"
   },
   {
    "duration": 86,
    "start_time": "2025-01-23T02:05:58.032Z"
   },
   {
    "duration": 4,
    "start_time": "2025-01-23T02:06:10.996Z"
   },
   {
    "duration": 480,
    "start_time": "2025-01-23T02:06:16.994Z"
   },
   {
    "duration": 5,
    "start_time": "2025-01-23T02:06:29.804Z"
   },
   {
    "duration": 521,
    "start_time": "2025-01-23T02:06:35.052Z"
   },
   {
    "duration": 6,
    "start_time": "2025-01-23T02:07:12.843Z"
   },
   {
    "duration": 529,
    "start_time": "2025-01-23T02:07:16.426Z"
   },
   {
    "duration": 1107,
    "start_time": "2025-01-23T02:07:27.915Z"
   },
   {
    "duration": 3,
    "start_time": "2025-01-23T02:07:29.024Z"
   },
   {
    "duration": 55,
    "start_time": "2025-01-23T02:07:29.028Z"
   },
   {
    "duration": 10,
    "start_time": "2025-01-23T02:07:29.084Z"
   },
   {
    "duration": 12,
    "start_time": "2025-01-23T02:07:29.097Z"
   },
   {
    "duration": 3,
    "start_time": "2025-01-23T02:07:29.111Z"
   },
   {
    "duration": 6,
    "start_time": "2025-01-23T02:07:29.116Z"
   },
   {
    "duration": 4,
    "start_time": "2025-01-23T02:07:29.123Z"
   },
   {
    "duration": 35,
    "start_time": "2025-01-23T02:07:29.128Z"
   },
   {
    "duration": 43,
    "start_time": "2025-01-23T02:07:29.164Z"
   },
   {
    "duration": 3,
    "start_time": "2025-01-23T02:07:29.209Z"
   },
   {
    "duration": 10,
    "start_time": "2025-01-23T02:07:29.213Z"
   },
   {
    "duration": 368,
    "start_time": "2025-01-23T02:07:29.224Z"
   },
   {
    "duration": 500,
    "start_time": "2025-01-23T02:07:29.594Z"
   },
   {
    "duration": 484,
    "start_time": "2025-01-23T02:07:30.095Z"
   },
   {
    "duration": 3,
    "start_time": "2025-01-23T02:08:13.677Z"
   },
   {
    "duration": 503,
    "start_time": "2025-01-23T02:08:18.658Z"
   },
   {
    "duration": 3,
    "start_time": "2025-01-23T02:08:33.671Z"
   },
   {
    "duration": 562,
    "start_time": "2025-01-23T02:08:38.108Z"
   },
   {
    "duration": 1214,
    "start_time": "2025-01-23T02:08:56.216Z"
   },
   {
    "duration": 3,
    "start_time": "2025-01-23T02:08:57.432Z"
   },
   {
    "duration": 35,
    "start_time": "2025-01-23T02:08:57.436Z"
   },
   {
    "duration": 11,
    "start_time": "2025-01-23T02:08:57.472Z"
   },
   {
    "duration": 11,
    "start_time": "2025-01-23T02:08:57.485Z"
   },
   {
    "duration": 3,
    "start_time": "2025-01-23T02:08:57.498Z"
   },
   {
    "duration": 10,
    "start_time": "2025-01-23T02:08:57.502Z"
   },
   {
    "duration": 6,
    "start_time": "2025-01-23T02:08:57.513Z"
   },
   {
    "duration": 30,
    "start_time": "2025-01-23T02:08:57.520Z"
   },
   {
    "duration": 5,
    "start_time": "2025-01-23T02:08:57.551Z"
   },
   {
    "duration": 3,
    "start_time": "2025-01-23T02:08:57.558Z"
   },
   {
    "duration": 12,
    "start_time": "2025-01-23T02:08:57.563Z"
   },
   {
    "duration": 416,
    "start_time": "2025-01-23T02:08:57.576Z"
   },
   {
    "duration": 487,
    "start_time": "2025-01-23T02:08:57.994Z"
   },
   {
    "duration": 502,
    "start_time": "2025-01-23T02:08:58.482Z"
   },
   {
    "duration": 6,
    "start_time": "2025-01-23T02:09:42.607Z"
   },
   {
    "duration": 1107,
    "start_time": "2025-01-23T02:10:19.527Z"
   },
   {
    "duration": 2,
    "start_time": "2025-01-23T02:10:20.636Z"
   },
   {
    "duration": 31,
    "start_time": "2025-01-23T02:10:20.640Z"
   },
   {
    "duration": 11,
    "start_time": "2025-01-23T02:10:20.673Z"
   },
   {
    "duration": 18,
    "start_time": "2025-01-23T02:10:20.686Z"
   },
   {
    "duration": 3,
    "start_time": "2025-01-23T02:10:20.706Z"
   },
   {
    "duration": 22,
    "start_time": "2025-01-23T02:10:20.710Z"
   },
   {
    "duration": 16,
    "start_time": "2025-01-23T02:10:20.733Z"
   },
   {
    "duration": 17,
    "start_time": "2025-01-23T02:10:20.750Z"
   },
   {
    "duration": 16,
    "start_time": "2025-01-23T02:10:20.769Z"
   },
   {
    "duration": 33,
    "start_time": "2025-01-23T02:10:20.786Z"
   },
   {
    "duration": 45,
    "start_time": "2025-01-23T02:10:20.821Z"
   },
   {
    "duration": 405,
    "start_time": "2025-01-23T02:10:20.867Z"
   },
   {
    "duration": 500,
    "start_time": "2025-01-23T02:10:21.274Z"
   },
   {
    "duration": 494,
    "start_time": "2025-01-23T02:10:21.775Z"
   },
   {
    "duration": 494,
    "start_time": "2025-01-23T02:10:59.988Z"
   },
   {
    "duration": 1101,
    "start_time": "2025-01-23T02:11:33.968Z"
   },
   {
    "duration": 516,
    "start_time": "2025-01-23T02:11:49.566Z"
   },
   {
    "duration": 320,
    "start_time": "2025-01-23T02:12:19.636Z"
   },
   {
    "duration": 1095,
    "start_time": "2025-01-23T02:12:39.239Z"
   },
   {
    "duration": 2,
    "start_time": "2025-01-23T02:12:40.336Z"
   },
   {
    "duration": 27,
    "start_time": "2025-01-23T02:12:40.340Z"
   },
   {
    "duration": 12,
    "start_time": "2025-01-23T02:12:40.369Z"
   },
   {
    "duration": 12,
    "start_time": "2025-01-23T02:12:40.382Z"
   },
   {
    "duration": 3,
    "start_time": "2025-01-23T02:12:40.395Z"
   },
   {
    "duration": 6,
    "start_time": "2025-01-23T02:12:40.400Z"
   },
   {
    "duration": 4,
    "start_time": "2025-01-23T02:12:40.408Z"
   },
   {
    "duration": 3,
    "start_time": "2025-01-23T02:12:40.413Z"
   },
   {
    "duration": 3,
    "start_time": "2025-01-23T02:12:40.418Z"
   },
   {
    "duration": 3,
    "start_time": "2025-01-23T02:12:40.423Z"
   },
   {
    "duration": 9,
    "start_time": "2025-01-23T02:12:40.446Z"
   },
   {
    "duration": 373,
    "start_time": "2025-01-23T02:12:40.456Z"
   },
   {
    "duration": 323,
    "start_time": "2025-01-23T02:12:40.830Z"
   },
   {
    "duration": 513,
    "start_time": "2025-01-23T02:12:41.155Z"
   },
   {
    "duration": 500,
    "start_time": "2025-01-23T02:12:41.670Z"
   },
   {
    "duration": 507,
    "start_time": "2025-01-23T02:12:42.172Z"
   },
   {
    "duration": 579,
    "start_time": "2025-01-23T02:12:42.682Z"
   },
   {
    "duration": 1195,
    "start_time": "2025-01-23T02:13:08.034Z"
   },
   {
    "duration": 2,
    "start_time": "2025-01-23T02:13:09.231Z"
   },
   {
    "duration": 27,
    "start_time": "2025-01-23T02:13:09.234Z"
   },
   {
    "duration": 11,
    "start_time": "2025-01-23T02:13:09.263Z"
   },
   {
    "duration": 12,
    "start_time": "2025-01-23T02:13:09.277Z"
   },
   {
    "duration": 4,
    "start_time": "2025-01-23T02:13:09.291Z"
   },
   {
    "duration": 13,
    "start_time": "2025-01-23T02:13:09.297Z"
   },
   {
    "duration": 6,
    "start_time": "2025-01-23T02:13:09.312Z"
   },
   {
    "duration": 8,
    "start_time": "2025-01-23T02:13:09.320Z"
   },
   {
    "duration": 25,
    "start_time": "2025-01-23T02:13:09.329Z"
   },
   {
    "duration": 35,
    "start_time": "2025-01-23T02:13:09.355Z"
   },
   {
    "duration": 17,
    "start_time": "2025-01-23T02:13:09.392Z"
   },
   {
    "duration": 384,
    "start_time": "2025-01-23T02:13:09.411Z"
   },
   {
    "duration": 352,
    "start_time": "2025-01-23T02:13:09.798Z"
   },
   {
    "duration": 519,
    "start_time": "2025-01-23T02:13:10.152Z"
   },
   {
    "duration": 494,
    "start_time": "2025-01-23T02:13:10.673Z"
   },
   {
    "duration": 507,
    "start_time": "2025-01-23T02:13:11.169Z"
   },
   {
    "duration": 582,
    "start_time": "2025-01-23T02:13:11.677Z"
   },
   {
    "duration": 100,
    "start_time": "2025-01-23T02:13:57.518Z"
   },
   {
    "duration": 6,
    "start_time": "2025-01-23T02:14:01.039Z"
   },
   {
    "duration": 6,
    "start_time": "2025-01-23T02:14:17.160Z"
   },
   {
    "duration": 6,
    "start_time": "2025-01-23T02:14:34.568Z"
   },
   {
    "duration": 4,
    "start_time": "2025-01-23T02:15:38.320Z"
   },
   {
    "duration": 4,
    "start_time": "2025-01-23T02:41:36.008Z"
   },
   {
    "duration": 1049,
    "start_time": "2025-01-23T02:41:49.584Z"
   },
   {
    "duration": 4,
    "start_time": "2025-01-23T02:41:50.635Z"
   },
   {
    "duration": 31,
    "start_time": "2025-01-23T02:41:50.640Z"
   },
   {
    "duration": 10,
    "start_time": "2025-01-23T02:41:50.673Z"
   },
   {
    "duration": 12,
    "start_time": "2025-01-23T02:41:50.685Z"
   },
   {
    "duration": 3,
    "start_time": "2025-01-23T02:41:50.699Z"
   },
   {
    "duration": 47,
    "start_time": "2025-01-23T02:41:50.704Z"
   },
   {
    "duration": 14,
    "start_time": "2025-01-23T02:41:50.753Z"
   },
   {
    "duration": 3,
    "start_time": "2025-01-23T02:41:50.769Z"
   },
   {
    "duration": 10,
    "start_time": "2025-01-23T02:41:50.773Z"
   },
   {
    "duration": 5,
    "start_time": "2025-01-23T02:41:50.784Z"
   },
   {
    "duration": 7,
    "start_time": "2025-01-23T02:41:50.791Z"
   },
   {
    "duration": 13,
    "start_time": "2025-01-23T02:41:50.799Z"
   },
   {
    "duration": 6,
    "start_time": "2025-01-23T02:41:50.816Z"
   },
   {
    "duration": 5,
    "start_time": "2025-01-23T02:41:50.823Z"
   },
   {
    "duration": 372,
    "start_time": "2025-01-23T02:41:50.829Z"
   },
   {
    "duration": 345,
    "start_time": "2025-01-23T02:41:51.203Z"
   },
   {
    "duration": 520,
    "start_time": "2025-01-23T02:41:51.549Z"
   },
   {
    "duration": 500,
    "start_time": "2025-01-23T02:41:52.070Z"
   },
   {
    "duration": 509,
    "start_time": "2025-01-23T02:41:52.571Z"
   },
   {
    "duration": 583,
    "start_time": "2025-01-23T02:41:53.081Z"
   },
   {
    "duration": 11,
    "start_time": "2025-01-23T02:42:10.545Z"
   },
   {
    "duration": 3329,
    "start_time": "2025-01-23T02:42:48.545Z"
   },
   {
    "duration": 58,
    "start_time": "2025-01-23T02:43:15.125Z"
   },
   {
    "duration": 14,
    "start_time": "2025-01-23T02:43:51.107Z"
   },
   {
    "duration": 710,
    "start_time": "2025-01-23T02:44:40.983Z"
   },
   {
    "duration": 646,
    "start_time": "2025-01-23T02:48:00.206Z"
   },
   {
    "duration": 134,
    "start_time": "2025-01-23T02:48:20.427Z"
   },
   {
    "duration": 3,
    "start_time": "2025-01-23T02:48:58.339Z"
   },
   {
    "duration": 4,
    "start_time": "2025-01-23T02:54:06.375Z"
   },
   {
    "duration": 3,
    "start_time": "2025-01-23T02:54:17.789Z"
   },
   {
    "duration": 2,
    "start_time": "2025-01-23T02:55:01.407Z"
   },
   {
    "duration": 5,
    "start_time": "2025-01-23T02:55:37.929Z"
   },
   {
    "duration": 2,
    "start_time": "2025-01-23T02:58:06.371Z"
   },
   {
    "duration": 15,
    "start_time": "2025-01-23T02:58:51.569Z"
   },
   {
    "duration": 3,
    "start_time": "2025-01-23T02:59:07.187Z"
   },
   {
    "duration": 21,
    "start_time": "2025-01-23T02:59:08.706Z"
   },
   {
    "duration": 4,
    "start_time": "2025-01-23T02:59:39.898Z"
   },
   {
    "duration": 1731,
    "start_time": "2025-01-23T02:59:39.903Z"
   },
   {
    "duration": 3,
    "start_time": "2025-01-23T02:59:41.636Z"
   },
   {
    "duration": 3,
    "start_time": "2025-01-23T02:59:41.640Z"
   },
   {
    "duration": 27,
    "start_time": "2025-01-23T02:59:41.646Z"
   },
   {
    "duration": 11,
    "start_time": "2025-01-23T02:59:41.674Z"
   },
   {
    "duration": 22,
    "start_time": "2025-01-23T02:59:41.686Z"
   },
   {
    "duration": 4,
    "start_time": "2025-01-23T02:59:41.710Z"
   },
   {
    "duration": 5,
    "start_time": "2025-01-23T02:59:41.715Z"
   },
   {
    "duration": 4,
    "start_time": "2025-01-23T02:59:41.722Z"
   },
   {
    "duration": 3,
    "start_time": "2025-01-23T02:59:41.728Z"
   },
   {
    "duration": 4,
    "start_time": "2025-01-23T02:59:41.732Z"
   },
   {
    "duration": 9,
    "start_time": "2025-01-23T02:59:41.738Z"
   },
   {
    "duration": 4,
    "start_time": "2025-01-23T02:59:41.749Z"
   },
   {
    "duration": 10,
    "start_time": "2025-01-23T02:59:41.754Z"
   },
   {
    "duration": 6,
    "start_time": "2025-01-23T02:59:41.766Z"
   },
   {
    "duration": 6,
    "start_time": "2025-01-23T02:59:41.773Z"
   },
   {
    "duration": 418,
    "start_time": "2025-01-23T02:59:41.780Z"
   },
   {
    "duration": 347,
    "start_time": "2025-01-23T02:59:42.199Z"
   },
   {
    "duration": 531,
    "start_time": "2025-01-23T02:59:42.548Z"
   },
   {
    "duration": 488,
    "start_time": "2025-01-23T02:59:43.081Z"
   },
   {
    "duration": 509,
    "start_time": "2025-01-23T02:59:43.571Z"
   },
   {
    "duration": 485,
    "start_time": "2025-01-23T02:59:44.082Z"
   },
   {
    "duration": 11,
    "start_time": "2025-01-23T02:59:44.568Z"
   },
   {
    "duration": 767,
    "start_time": "2025-01-23T02:59:44.581Z"
   },
   {
    "duration": 4,
    "start_time": "2025-01-23T02:59:45.349Z"
   },
   {
    "duration": 24,
    "start_time": "2025-01-23T02:59:45.354Z"
   },
   {
    "duration": 5,
    "start_time": "2025-01-23T02:59:45.379Z"
   },
   {
    "duration": 147,
    "start_time": "2025-01-23T02:59:45.386Z"
   },
   {
    "duration": 9,
    "start_time": "2025-01-23T03:04:44.832Z"
   },
   {
    "duration": 14,
    "start_time": "2025-01-23T03:05:15.818Z"
   },
   {
    "duration": 10,
    "start_time": "2025-01-23T03:05:36.270Z"
   },
   {
    "duration": 9,
    "start_time": "2025-01-23T03:07:55.522Z"
   },
   {
    "duration": 5,
    "start_time": "2025-01-23T03:07:57.692Z"
   },
   {
    "duration": 5,
    "start_time": "2025-01-23T03:08:15.019Z"
   },
   {
    "duration": 3,
    "start_time": "2025-01-23T03:08:26.808Z"
   },
   {
    "duration": 1743,
    "start_time": "2025-01-23T03:08:26.813Z"
   },
   {
    "duration": 3,
    "start_time": "2025-01-23T03:08:28.557Z"
   },
   {
    "duration": 4,
    "start_time": "2025-01-23T03:08:28.561Z"
   },
   {
    "duration": 25,
    "start_time": "2025-01-23T03:08:28.568Z"
   },
   {
    "duration": 10,
    "start_time": "2025-01-23T03:08:28.595Z"
   },
   {
    "duration": 12,
    "start_time": "2025-01-23T03:08:28.606Z"
   },
   {
    "duration": 8,
    "start_time": "2025-01-23T03:08:28.619Z"
   },
   {
    "duration": 7,
    "start_time": "2025-01-23T03:08:28.628Z"
   },
   {
    "duration": 6,
    "start_time": "2025-01-23T03:08:28.636Z"
   },
   {
    "duration": 3,
    "start_time": "2025-01-23T03:08:28.643Z"
   },
   {
    "duration": 4,
    "start_time": "2025-01-23T03:08:28.647Z"
   },
   {
    "duration": 3,
    "start_time": "2025-01-23T03:08:28.652Z"
   },
   {
    "duration": 3,
    "start_time": "2025-01-23T03:08:28.658Z"
   },
   {
    "duration": 11,
    "start_time": "2025-01-23T03:08:28.662Z"
   },
   {
    "duration": 6,
    "start_time": "2025-01-23T03:08:28.675Z"
   },
   {
    "duration": 5,
    "start_time": "2025-01-23T03:08:28.682Z"
   },
   {
    "duration": 398,
    "start_time": "2025-01-23T03:08:28.688Z"
   },
   {
    "duration": 331,
    "start_time": "2025-01-23T03:08:29.087Z"
   },
   {
    "duration": 551,
    "start_time": "2025-01-23T03:08:29.419Z"
   },
   {
    "duration": 495,
    "start_time": "2025-01-23T03:08:29.971Z"
   },
   {
    "duration": 512,
    "start_time": "2025-01-23T03:08:30.467Z"
   },
   {
    "duration": 491,
    "start_time": "2025-01-23T03:08:30.980Z"
   },
   {
    "duration": 12,
    "start_time": "2025-01-23T03:08:31.473Z"
   },
   {
    "duration": 763,
    "start_time": "2025-01-23T03:08:31.486Z"
   },
   {
    "duration": 3,
    "start_time": "2025-01-23T03:08:32.251Z"
   },
   {
    "duration": 4,
    "start_time": "2025-01-23T03:08:32.255Z"
   },
   {
    "duration": 8,
    "start_time": "2025-01-23T03:08:32.260Z"
   },
   {
    "duration": 151,
    "start_time": "2025-01-23T03:08:32.269Z"
   },
   {
    "duration": 4,
    "start_time": "2025-01-23T03:09:26.984Z"
   },
   {
    "duration": 1685,
    "start_time": "2025-01-23T03:09:26.990Z"
   },
   {
    "duration": 3,
    "start_time": "2025-01-23T03:09:28.677Z"
   },
   {
    "duration": 6,
    "start_time": "2025-01-23T03:09:28.682Z"
   },
   {
    "duration": 44,
    "start_time": "2025-01-23T03:09:28.691Z"
   },
   {
    "duration": 11,
    "start_time": "2025-01-23T03:09:28.737Z"
   },
   {
    "duration": 12,
    "start_time": "2025-01-23T03:09:28.750Z"
   },
   {
    "duration": 4,
    "start_time": "2025-01-23T03:09:28.764Z"
   },
   {
    "duration": 8,
    "start_time": "2025-01-23T03:09:28.769Z"
   },
   {
    "duration": 4,
    "start_time": "2025-01-23T03:09:28.779Z"
   },
   {
    "duration": 2,
    "start_time": "2025-01-23T03:09:28.786Z"
   },
   {
    "duration": 6,
    "start_time": "2025-01-23T03:09:28.790Z"
   },
   {
    "duration": 5,
    "start_time": "2025-01-23T03:09:28.797Z"
   },
   {
    "duration": 4,
    "start_time": "2025-01-23T03:09:28.803Z"
   },
   {
    "duration": 44,
    "start_time": "2025-01-23T03:09:28.808Z"
   },
   {
    "duration": 14,
    "start_time": "2025-01-23T03:09:28.853Z"
   },
   {
    "duration": 5,
    "start_time": "2025-01-23T03:09:28.869Z"
   },
   {
    "duration": 414,
    "start_time": "2025-01-23T03:09:28.875Z"
   },
   {
    "duration": 335,
    "start_time": "2025-01-23T03:09:29.290Z"
   },
   {
    "duration": 541,
    "start_time": "2025-01-23T03:09:29.626Z"
   },
   {
    "duration": 504,
    "start_time": "2025-01-23T03:09:30.169Z"
   },
   {
    "duration": 525,
    "start_time": "2025-01-23T03:09:30.674Z"
   },
   {
    "duration": 490,
    "start_time": "2025-01-23T03:09:31.200Z"
   },
   {
    "duration": 57,
    "start_time": "2025-01-23T03:09:31.691Z"
   },
   {
    "duration": 798,
    "start_time": "2025-01-23T03:09:31.749Z"
   },
   {
    "duration": 3,
    "start_time": "2025-01-23T03:09:32.549Z"
   },
   {
    "duration": 5,
    "start_time": "2025-01-23T03:09:32.554Z"
   },
   {
    "duration": 5,
    "start_time": "2025-01-23T03:09:32.560Z"
   },
   {
    "duration": 162,
    "start_time": "2025-01-23T03:09:32.568Z"
   },
   {
    "duration": 5,
    "start_time": "2025-01-23T03:09:57.786Z"
   },
   {
    "duration": 20,
    "start_time": "2025-01-23T03:10:00.147Z"
   },
   {
    "duration": 6,
    "start_time": "2025-01-23T03:11:00.057Z"
   },
   {
    "duration": 9,
    "start_time": "2025-01-23T03:11:00.478Z"
   },
   {
    "duration": 3,
    "start_time": "2025-01-23T03:11:37.787Z"
   },
   {
    "duration": 9,
    "start_time": "2025-01-23T03:13:38.110Z"
   },
   {
    "duration": 12,
    "start_time": "2025-01-23T03:14:35.769Z"
   },
   {
    "duration": 22,
    "start_time": "2025-01-23T03:15:04.676Z"
   },
   {
    "duration": 23,
    "start_time": "2025-01-23T03:15:18.886Z"
   },
   {
    "duration": 22,
    "start_time": "2025-01-23T03:15:43.866Z"
   },
   {
    "duration": 29,
    "start_time": "2025-01-23T03:16:01.866Z"
   },
   {
    "duration": 3,
    "start_time": "2025-01-23T03:16:13.441Z"
   },
   {
    "duration": 1726,
    "start_time": "2025-01-23T03:16:13.465Z"
   },
   {
    "duration": 3,
    "start_time": "2025-01-23T03:16:15.193Z"
   },
   {
    "duration": 15,
    "start_time": "2025-01-23T03:16:15.197Z"
   },
   {
    "duration": 40,
    "start_time": "2025-01-23T03:16:15.214Z"
   },
   {
    "duration": 10,
    "start_time": "2025-01-23T03:16:15.256Z"
   },
   {
    "duration": 13,
    "start_time": "2025-01-23T03:16:15.268Z"
   },
   {
    "duration": 3,
    "start_time": "2025-01-23T03:16:15.282Z"
   },
   {
    "duration": 6,
    "start_time": "2025-01-23T03:16:15.286Z"
   },
   {
    "duration": 11,
    "start_time": "2025-01-23T03:16:15.293Z"
   },
   {
    "duration": 20,
    "start_time": "2025-01-23T03:16:15.305Z"
   },
   {
    "duration": 38,
    "start_time": "2025-01-23T03:16:15.326Z"
   },
   {
    "duration": 65,
    "start_time": "2025-01-23T03:16:15.365Z"
   },
   {
    "duration": 3,
    "start_time": "2025-01-23T03:16:15.432Z"
   },
   {
    "duration": 10,
    "start_time": "2025-01-23T03:16:15.438Z"
   },
   {
    "duration": 13,
    "start_time": "2025-01-23T03:16:15.449Z"
   },
   {
    "duration": 26,
    "start_time": "2025-01-23T03:16:15.463Z"
   },
   {
    "duration": 409,
    "start_time": "2025-01-23T03:16:15.490Z"
   },
   {
    "duration": 374,
    "start_time": "2025-01-23T03:16:15.900Z"
   },
   {
    "duration": 508,
    "start_time": "2025-01-23T03:16:16.275Z"
   },
   {
    "duration": 491,
    "start_time": "2025-01-23T03:16:16.785Z"
   },
   {
    "duration": 502,
    "start_time": "2025-01-23T03:16:17.278Z"
   },
   {
    "duration": 493,
    "start_time": "2025-01-23T03:16:17.782Z"
   },
   {
    "duration": 12,
    "start_time": "2025-01-23T03:16:18.277Z"
   },
   {
    "duration": 763,
    "start_time": "2025-01-23T03:16:18.290Z"
   },
   {
    "duration": 3,
    "start_time": "2025-01-23T03:16:19.055Z"
   },
   {
    "duration": 3,
    "start_time": "2025-01-23T03:16:19.060Z"
   },
   {
    "duration": 7,
    "start_time": "2025-01-23T03:16:19.064Z"
   },
   {
    "duration": 168,
    "start_time": "2025-01-23T03:16:19.072Z"
   },
   {
    "duration": 33,
    "start_time": "2025-01-23T03:16:54.759Z"
   },
   {
    "duration": 3,
    "start_time": "2025-01-23T03:17:01.638Z"
   },
   {
    "duration": 1797,
    "start_time": "2025-01-23T03:17:01.642Z"
   },
   {
    "duration": 2,
    "start_time": "2025-01-23T03:17:03.441Z"
   },
   {
    "duration": 11,
    "start_time": "2025-01-23T03:17:03.445Z"
   },
   {
    "duration": 27,
    "start_time": "2025-01-23T03:17:03.458Z"
   },
   {
    "duration": 11,
    "start_time": "2025-01-23T03:17:03.486Z"
   },
   {
    "duration": 15,
    "start_time": "2025-01-23T03:17:03.498Z"
   },
   {
    "duration": 3,
    "start_time": "2025-01-23T03:17:03.514Z"
   },
   {
    "duration": 68,
    "start_time": "2025-01-23T03:17:03.520Z"
   },
   {
    "duration": 15,
    "start_time": "2025-01-23T03:17:03.589Z"
   },
   {
    "duration": 67,
    "start_time": "2025-01-23T03:17:03.606Z"
   },
   {
    "duration": 38,
    "start_time": "2025-01-23T03:17:03.675Z"
   },
   {
    "duration": 22,
    "start_time": "2025-01-23T03:17:03.715Z"
   },
   {
    "duration": 72,
    "start_time": "2025-01-23T03:17:03.738Z"
   },
   {
    "duration": 11,
    "start_time": "2025-01-23T03:17:03.811Z"
   },
   {
    "duration": 31,
    "start_time": "2025-01-23T03:17:03.823Z"
   },
   {
    "duration": 7,
    "start_time": "2025-01-23T03:17:03.856Z"
   },
   {
    "duration": 395,
    "start_time": "2025-01-23T03:17:03.865Z"
   },
   {
    "duration": 305,
    "start_time": "2025-01-23T03:17:04.261Z"
   },
   {
    "duration": 508,
    "start_time": "2025-01-23T03:17:04.568Z"
   },
   {
    "duration": 496,
    "start_time": "2025-01-23T03:17:05.078Z"
   },
   {
    "duration": 509,
    "start_time": "2025-01-23T03:17:05.575Z"
   },
   {
    "duration": 501,
    "start_time": "2025-01-23T03:17:06.085Z"
   },
   {
    "duration": 11,
    "start_time": "2025-01-23T03:17:06.588Z"
   },
   {
    "duration": 754,
    "start_time": "2025-01-23T03:17:06.600Z"
   },
   {
    "duration": 4,
    "start_time": "2025-01-23T03:17:07.355Z"
   },
   {
    "duration": 65,
    "start_time": "2025-01-23T03:17:07.360Z"
   },
   {
    "duration": 19,
    "start_time": "2025-01-23T03:17:07.427Z"
   },
   {
    "duration": 155,
    "start_time": "2025-01-23T03:17:07.447Z"
   },
   {
    "duration": 26,
    "start_time": "2025-01-23T03:17:29.486Z"
   },
   {
    "duration": 16,
    "start_time": "2025-01-23T03:22:26.829Z"
   },
   {
    "duration": 3,
    "start_time": "2025-01-23T03:24:29.435Z"
   },
   {
    "duration": 2,
    "start_time": "2025-01-23T03:25:36.015Z"
   },
   {
    "duration": 23,
    "start_time": "2025-01-23T03:46:59.345Z"
   },
   {
    "duration": 4,
    "start_time": "2025-01-23T03:55:46.896Z"
   },
   {
    "duration": 4,
    "start_time": "2025-01-23T03:59:13.008Z"
   },
   {
    "duration": 2,
    "start_time": "2025-01-23T03:59:48.238Z"
   },
   {
    "duration": 4,
    "start_time": "2025-01-23T04:02:21.124Z"
   },
   {
    "duration": 1765,
    "start_time": "2025-01-23T04:02:21.129Z"
   },
   {
    "duration": 3,
    "start_time": "2025-01-23T04:02:22.896Z"
   },
   {
    "duration": 8,
    "start_time": "2025-01-23T04:02:22.901Z"
   },
   {
    "duration": 32,
    "start_time": "2025-01-23T04:02:22.910Z"
   },
   {
    "duration": 11,
    "start_time": "2025-01-23T04:02:22.944Z"
   },
   {
    "duration": 23,
    "start_time": "2025-01-23T04:02:22.957Z"
   },
   {
    "duration": 8,
    "start_time": "2025-01-23T04:02:22.982Z"
   },
   {
    "duration": 34,
    "start_time": "2025-01-23T04:02:22.992Z"
   },
   {
    "duration": 33,
    "start_time": "2025-01-23T04:02:23.027Z"
   },
   {
    "duration": 14,
    "start_time": "2025-01-23T04:02:23.062Z"
   },
   {
    "duration": 25,
    "start_time": "2025-01-23T04:02:23.077Z"
   },
   {
    "duration": 11,
    "start_time": "2025-01-23T04:02:23.104Z"
   },
   {
    "duration": 69,
    "start_time": "2025-01-23T04:02:23.116Z"
   },
   {
    "duration": 29,
    "start_time": "2025-01-23T04:02:23.187Z"
   },
   {
    "duration": 13,
    "start_time": "2025-01-23T04:02:23.217Z"
   },
   {
    "duration": 8,
    "start_time": "2025-01-23T04:02:23.231Z"
   },
   {
    "duration": 365,
    "start_time": "2025-01-23T04:02:23.240Z"
   },
   {
    "duration": 349,
    "start_time": "2025-01-23T04:02:23.606Z"
   },
   {
    "duration": 523,
    "start_time": "2025-01-23T04:02:23.957Z"
   },
   {
    "duration": 493,
    "start_time": "2025-01-23T04:02:24.481Z"
   },
   {
    "duration": 507,
    "start_time": "2025-01-23T04:02:24.976Z"
   },
   {
    "duration": 495,
    "start_time": "2025-01-23T04:02:25.485Z"
   },
   {
    "duration": 10,
    "start_time": "2025-01-23T04:02:25.982Z"
   },
   {
    "duration": 773,
    "start_time": "2025-01-23T04:02:25.993Z"
   },
   {
    "duration": 4,
    "start_time": "2025-01-23T04:02:26.767Z"
   },
   {
    "duration": 8,
    "start_time": "2025-01-23T04:02:26.772Z"
   },
   {
    "duration": 14,
    "start_time": "2025-01-23T04:02:26.782Z"
   },
   {
    "duration": 16,
    "start_time": "2025-01-23T04:02:26.797Z"
   },
   {
    "duration": 7,
    "start_time": "2025-01-23T04:02:26.815Z"
   },
   {
    "duration": 5,
    "start_time": "2025-01-23T04:02:26.823Z"
   },
   {
    "duration": 146,
    "start_time": "2025-01-23T04:02:26.829Z"
   },
   {
    "duration": 0,
    "start_time": "2025-01-23T04:02:26.976Z"
   },
   {
    "duration": 3,
    "start_time": "2025-01-23T04:02:38.204Z"
   },
   {
    "duration": 27,
    "start_time": "2025-01-23T04:02:38.964Z"
   },
   {
    "duration": 3,
    "start_time": "2025-01-23T04:03:51.774Z"
   },
   {
    "duration": 185,
    "start_time": "2025-01-23T04:03:52.572Z"
   },
   {
    "duration": 2173,
    "start_time": "2025-01-23T04:04:02.285Z"
   },
   {
    "duration": 2844,
    "start_time": "2025-01-23T04:04:49.815Z"
   },
   {
    "duration": 14,
    "start_time": "2025-01-23T04:07:22.075Z"
   },
   {
    "duration": 2460,
    "start_time": "2025-01-23T04:08:17.494Z"
   },
   {
    "duration": 3,
    "start_time": "2025-01-23T04:08:55.257Z"
   },
   {
    "duration": 2315,
    "start_time": "2025-01-23T04:08:55.549Z"
   },
   {
    "duration": 3,
    "start_time": "2025-01-23T04:09:07.928Z"
   },
   {
    "duration": 2502,
    "start_time": "2025-01-23T04:09:08.453Z"
   },
   {
    "duration": 4,
    "start_time": "2025-01-23T04:09:23.805Z"
   },
   {
    "duration": 2583,
    "start_time": "2025-01-23T04:09:24.974Z"
   },
   {
    "duration": 4,
    "start_time": "2025-01-23T04:13:26.628Z"
   },
   {
    "duration": 13,
    "start_time": "2025-01-23T04:13:26.968Z"
   },
   {
    "duration": 9,
    "start_time": "2025-01-23T04:13:42.918Z"
   },
   {
    "duration": 4,
    "start_time": "2025-01-23T04:14:06.253Z"
   },
   {
    "duration": 14,
    "start_time": "2025-01-23T04:14:06.507Z"
   },
   {
    "duration": 2513,
    "start_time": "2025-01-23T04:14:06.946Z"
   },
   {
    "duration": 4,
    "start_time": "2025-01-23T04:14:23.555Z"
   },
   {
    "duration": 1761,
    "start_time": "2025-01-23T04:14:23.560Z"
   },
   {
    "duration": 2,
    "start_time": "2025-01-23T04:14:25.323Z"
   },
   {
    "duration": 5,
    "start_time": "2025-01-23T04:14:25.326Z"
   },
   {
    "duration": 29,
    "start_time": "2025-01-23T04:14:25.334Z"
   },
   {
    "duration": 11,
    "start_time": "2025-01-23T04:14:25.364Z"
   },
   {
    "duration": 12,
    "start_time": "2025-01-23T04:14:25.377Z"
   },
   {
    "duration": 5,
    "start_time": "2025-01-23T04:14:25.391Z"
   },
   {
    "duration": 12,
    "start_time": "2025-01-23T04:14:25.397Z"
   },
   {
    "duration": 4,
    "start_time": "2025-01-23T04:14:25.410Z"
   },
   {
    "duration": 3,
    "start_time": "2025-01-23T04:14:25.416Z"
   },
   {
    "duration": 3,
    "start_time": "2025-01-23T04:14:25.420Z"
   },
   {
    "duration": 3,
    "start_time": "2025-01-23T04:14:25.425Z"
   },
   {
    "duration": 7,
    "start_time": "2025-01-23T04:14:25.429Z"
   },
   {
    "duration": 12,
    "start_time": "2025-01-23T04:14:25.446Z"
   },
   {
    "duration": 14,
    "start_time": "2025-01-23T04:14:25.459Z"
   },
   {
    "duration": 4,
    "start_time": "2025-01-23T04:14:25.475Z"
   },
   {
    "duration": 415,
    "start_time": "2025-01-23T04:14:25.481Z"
   },
   {
    "duration": 372,
    "start_time": "2025-01-23T04:14:25.897Z"
   },
   {
    "duration": 507,
    "start_time": "2025-01-23T04:14:26.270Z"
   },
   {
    "duration": 492,
    "start_time": "2025-01-23T04:14:26.779Z"
   },
   {
    "duration": 513,
    "start_time": "2025-01-23T04:14:27.272Z"
   },
   {
    "duration": 490,
    "start_time": "2025-01-23T04:14:27.787Z"
   },
   {
    "duration": 11,
    "start_time": "2025-01-23T04:14:28.278Z"
   },
   {
    "duration": 773,
    "start_time": "2025-01-23T04:14:28.290Z"
   },
   {
    "duration": 4,
    "start_time": "2025-01-23T04:14:29.064Z"
   },
   {
    "duration": 24,
    "start_time": "2025-01-23T04:14:29.069Z"
   },
   {
    "duration": 22,
    "start_time": "2025-01-23T04:14:29.095Z"
   },
   {
    "duration": 18,
    "start_time": "2025-01-23T04:14:29.120Z"
   },
   {
    "duration": 5,
    "start_time": "2025-01-23T04:14:29.140Z"
   },
   {
    "duration": 5,
    "start_time": "2025-01-23T04:14:29.146Z"
   },
   {
    "duration": 7,
    "start_time": "2025-01-23T04:14:29.153Z"
   },
   {
    "duration": 3096,
    "start_time": "2025-01-23T04:14:29.161Z"
   },
   {
    "duration": 4,
    "start_time": "2025-01-23T04:14:43.276Z"
   },
   {
    "duration": 3228,
    "start_time": "2025-01-23T04:14:43.634Z"
   },
   {
    "duration": 4,
    "start_time": "2025-01-23T04:14:54.796Z"
   },
   {
    "duration": 3902,
    "start_time": "2025-01-23T04:14:55.047Z"
   },
   {
    "duration": 4,
    "start_time": "2025-01-23T04:15:13.237Z"
   },
   {
    "duration": 3158,
    "start_time": "2025-01-23T04:15:13.505Z"
   },
   {
    "duration": 4,
    "start_time": "2025-01-23T04:15:23.425Z"
   },
   {
    "duration": 3747,
    "start_time": "2025-01-23T04:15:23.816Z"
   },
   {
    "duration": 3,
    "start_time": "2025-01-23T04:15:33.468Z"
   },
   {
    "duration": 3413,
    "start_time": "2025-01-23T04:15:33.849Z"
   },
   {
    "duration": 3,
    "start_time": "2025-01-23T04:15:43.817Z"
   },
   {
    "duration": 3353,
    "start_time": "2025-01-23T04:15:44.098Z"
   },
   {
    "duration": 3,
    "start_time": "2025-01-23T04:15:57.777Z"
   },
   {
    "duration": 3211,
    "start_time": "2025-01-23T04:15:58.045Z"
   },
   {
    "duration": 3,
    "start_time": "2025-01-23T04:16:12.949Z"
   },
   {
    "duration": 1692,
    "start_time": "2025-01-23T04:16:12.978Z"
   },
   {
    "duration": 2,
    "start_time": "2025-01-23T04:16:14.672Z"
   },
   {
    "duration": 3,
    "start_time": "2025-01-23T04:16:14.675Z"
   },
   {
    "duration": 27,
    "start_time": "2025-01-23T04:16:14.680Z"
   },
   {
    "duration": 10,
    "start_time": "2025-01-23T04:16:14.709Z"
   },
   {
    "duration": 14,
    "start_time": "2025-01-23T04:16:14.721Z"
   },
   {
    "duration": 31,
    "start_time": "2025-01-23T04:16:14.737Z"
   },
   {
    "duration": 12,
    "start_time": "2025-01-23T04:16:14.769Z"
   },
   {
    "duration": 4,
    "start_time": "2025-01-23T04:16:14.783Z"
   },
   {
    "duration": 2,
    "start_time": "2025-01-23T04:16:14.788Z"
   },
   {
    "duration": 3,
    "start_time": "2025-01-23T04:16:14.792Z"
   },
   {
    "duration": 24,
    "start_time": "2025-01-23T04:16:14.796Z"
   },
   {
    "duration": 45,
    "start_time": "2025-01-23T04:16:14.822Z"
   },
   {
    "duration": 11,
    "start_time": "2025-01-23T04:16:14.869Z"
   },
   {
    "duration": 6,
    "start_time": "2025-01-23T04:16:14.881Z"
   },
   {
    "duration": 4,
    "start_time": "2025-01-23T04:16:14.889Z"
   },
   {
    "duration": 387,
    "start_time": "2025-01-23T04:16:14.895Z"
   },
   {
    "duration": 322,
    "start_time": "2025-01-23T04:16:15.283Z"
   },
   {
    "duration": 557,
    "start_time": "2025-01-23T04:16:15.607Z"
   },
   {
    "duration": 503,
    "start_time": "2025-01-23T04:16:16.166Z"
   },
   {
    "duration": 506,
    "start_time": "2025-01-23T04:16:16.671Z"
   },
   {
    "duration": 495,
    "start_time": "2025-01-23T04:16:17.178Z"
   },
   {
    "duration": 11,
    "start_time": "2025-01-23T04:16:17.675Z"
   },
   {
    "duration": 761,
    "start_time": "2025-01-23T04:16:17.688Z"
   },
   {
    "duration": 3,
    "start_time": "2025-01-23T04:16:18.451Z"
   },
   {
    "duration": 75,
    "start_time": "2025-01-23T04:16:18.456Z"
   },
   {
    "duration": 7,
    "start_time": "2025-01-23T04:16:18.532Z"
   },
   {
    "duration": 14,
    "start_time": "2025-01-23T04:16:18.541Z"
   },
   {
    "duration": 24,
    "start_time": "2025-01-23T04:16:18.557Z"
   },
   {
    "duration": 20,
    "start_time": "2025-01-23T04:16:18.582Z"
   },
   {
    "duration": 3,
    "start_time": "2025-01-23T04:16:18.604Z"
   },
   {
    "duration": 3457,
    "start_time": "2025-01-23T04:16:18.609Z"
   },
   {
    "duration": 34685,
    "start_time": "2025-01-23T04:16:37.766Z"
   },
   {
    "duration": 6793,
    "start_time": "2025-01-23T04:17:17.567Z"
   },
   {
    "duration": 3,
    "start_time": "2025-01-23T04:17:29.946Z"
   },
   {
    "duration": 1717,
    "start_time": "2025-01-23T04:17:29.951Z"
   },
   {
    "duration": 3,
    "start_time": "2025-01-23T04:17:31.669Z"
   },
   {
    "duration": 22,
    "start_time": "2025-01-23T04:17:31.673Z"
   },
   {
    "duration": 33,
    "start_time": "2025-01-23T04:17:31.698Z"
   },
   {
    "duration": 10,
    "start_time": "2025-01-23T04:17:31.733Z"
   },
   {
    "duration": 27,
    "start_time": "2025-01-23T04:17:31.745Z"
   },
   {
    "duration": 4,
    "start_time": "2025-01-23T04:17:31.774Z"
   },
   {
    "duration": 15,
    "start_time": "2025-01-23T04:17:31.780Z"
   },
   {
    "duration": 10,
    "start_time": "2025-01-23T04:17:31.796Z"
   },
   {
    "duration": 2,
    "start_time": "2025-01-23T04:17:31.808Z"
   },
   {
    "duration": 4,
    "start_time": "2025-01-23T04:17:31.811Z"
   },
   {
    "duration": 12,
    "start_time": "2025-01-23T04:17:31.816Z"
   },
   {
    "duration": 12,
    "start_time": "2025-01-23T04:17:31.831Z"
   },
   {
    "duration": 24,
    "start_time": "2025-01-23T04:17:31.845Z"
   },
   {
    "duration": 8,
    "start_time": "2025-01-23T04:17:31.871Z"
   },
   {
    "duration": 19,
    "start_time": "2025-01-23T04:17:31.881Z"
   },
   {
    "duration": 389,
    "start_time": "2025-01-23T04:17:31.902Z"
   },
   {
    "duration": 344,
    "start_time": "2025-01-23T04:17:32.292Z"
   },
   {
    "duration": 538,
    "start_time": "2025-01-23T04:17:32.638Z"
   },
   {
    "duration": 495,
    "start_time": "2025-01-23T04:17:33.178Z"
   },
   {
    "duration": 508,
    "start_time": "2025-01-23T04:17:33.675Z"
   },
   {
    "duration": 488,
    "start_time": "2025-01-23T04:17:34.184Z"
   },
   {
    "duration": 13,
    "start_time": "2025-01-23T04:17:34.673Z"
   },
   {
    "duration": 767,
    "start_time": "2025-01-23T04:17:34.687Z"
   },
   {
    "duration": 3,
    "start_time": "2025-01-23T04:17:35.455Z"
   },
   {
    "duration": 15,
    "start_time": "2025-01-23T04:17:35.460Z"
   },
   {
    "duration": 10,
    "start_time": "2025-01-23T04:17:35.477Z"
   },
   {
    "duration": 15,
    "start_time": "2025-01-23T04:17:35.488Z"
   },
   {
    "duration": 15,
    "start_time": "2025-01-23T04:17:35.504Z"
   },
   {
    "duration": 16,
    "start_time": "2025-01-23T04:17:35.520Z"
   },
   {
    "duration": 57,
    "start_time": "2025-01-23T04:17:35.537Z"
   },
   {
    "duration": 6954,
    "start_time": "2025-01-23T04:17:35.595Z"
   },
   {
    "duration": 4,
    "start_time": "2025-01-23T04:17:51.956Z"
   },
   {
    "duration": 3,
    "start_time": "2025-01-23T04:17:52.296Z"
   },
   {
    "duration": 3260,
    "start_time": "2025-01-23T04:17:52.693Z"
   },
   {
    "duration": 4,
    "start_time": "2025-01-23T04:18:30.404Z"
   },
   {
    "duration": 3,
    "start_time": "2025-01-23T04:18:30.728Z"
   },
   {
    "duration": 3538,
    "start_time": "2025-01-23T04:18:31.111Z"
   },
   {
    "duration": 4,
    "start_time": "2025-01-23T04:19:13.997Z"
   },
   {
    "duration": 4,
    "start_time": "2025-01-23T04:19:14.395Z"
   },
   {
    "duration": 3482,
    "start_time": "2025-01-23T04:19:14.664Z"
   },
   {
    "duration": 5,
    "start_time": "2025-01-23T04:19:33.696Z"
   },
   {
    "duration": 3,
    "start_time": "2025-01-23T04:19:34.726Z"
   },
   {
    "duration": 3435,
    "start_time": "2025-01-23T04:19:34.921Z"
   },
   {
    "duration": 5,
    "start_time": "2025-01-23T04:19:49.123Z"
   },
   {
    "duration": 3,
    "start_time": "2025-01-23T04:19:49.474Z"
   },
   {
    "duration": 3259,
    "start_time": "2025-01-23T04:19:49.906Z"
   },
   {
    "duration": 4,
    "start_time": "2025-01-23T04:20:03.098Z"
   },
   {
    "duration": 4,
    "start_time": "2025-01-23T04:20:03.346Z"
   },
   {
    "duration": 6659,
    "start_time": "2025-01-23T04:20:03.603Z"
   },
   {
    "duration": 4,
    "start_time": "2025-01-23T04:20:26.292Z"
   },
   {
    "duration": 3,
    "start_time": "2025-01-23T04:20:26.714Z"
   },
   {
    "duration": 5216,
    "start_time": "2025-01-23T04:20:27.046Z"
   },
   {
    "duration": 4,
    "start_time": "2025-01-23T04:20:46.816Z"
   },
   {
    "duration": 3,
    "start_time": "2025-01-23T04:20:47.574Z"
   },
   {
    "duration": 5093,
    "start_time": "2025-01-23T04:20:47.856Z"
   },
   {
    "duration": 4,
    "start_time": "2025-01-23T04:21:00.884Z"
   },
   {
    "duration": 4,
    "start_time": "2025-01-23T04:21:01.160Z"
   },
   {
    "duration": 5479,
    "start_time": "2025-01-23T04:21:01.384Z"
   },
   {
    "duration": 139,
    "start_time": "2025-01-23T04:22:33.725Z"
   },
   {
    "duration": 140,
    "start_time": "2025-01-23T04:23:35.216Z"
   },
   {
    "duration": 4,
    "start_time": "2025-01-23T06:05:16.501Z"
   },
   {
    "duration": 2071,
    "start_time": "2025-01-23T06:05:16.507Z"
   },
   {
    "duration": 0,
    "start_time": "2025-01-23T06:05:18.580Z"
   },
   {
    "duration": 0,
    "start_time": "2025-01-23T06:05:18.581Z"
   },
   {
    "duration": 0,
    "start_time": "2025-01-23T06:05:18.582Z"
   },
   {
    "duration": 0,
    "start_time": "2025-01-23T06:05:18.583Z"
   },
   {
    "duration": 0,
    "start_time": "2025-01-23T06:05:18.584Z"
   },
   {
    "duration": 0,
    "start_time": "2025-01-23T06:05:18.585Z"
   },
   {
    "duration": 0,
    "start_time": "2025-01-23T06:05:18.586Z"
   },
   {
    "duration": 0,
    "start_time": "2025-01-23T06:05:18.587Z"
   },
   {
    "duration": 0,
    "start_time": "2025-01-23T06:05:18.588Z"
   },
   {
    "duration": 0,
    "start_time": "2025-01-23T06:05:18.589Z"
   },
   {
    "duration": 0,
    "start_time": "2025-01-23T06:05:18.590Z"
   },
   {
    "duration": 0,
    "start_time": "2025-01-23T06:05:18.590Z"
   },
   {
    "duration": 0,
    "start_time": "2025-01-23T06:05:18.592Z"
   },
   {
    "duration": 0,
    "start_time": "2025-01-23T06:05:18.593Z"
   },
   {
    "duration": 0,
    "start_time": "2025-01-23T06:05:18.594Z"
   },
   {
    "duration": 0,
    "start_time": "2025-01-23T06:05:18.595Z"
   },
   {
    "duration": 0,
    "start_time": "2025-01-23T06:05:18.595Z"
   },
   {
    "duration": 0,
    "start_time": "2025-01-23T06:05:18.622Z"
   },
   {
    "duration": 0,
    "start_time": "2025-01-23T06:05:18.623Z"
   },
   {
    "duration": 0,
    "start_time": "2025-01-23T06:05:18.624Z"
   },
   {
    "duration": 0,
    "start_time": "2025-01-23T06:05:18.625Z"
   },
   {
    "duration": 0,
    "start_time": "2025-01-23T06:05:18.626Z"
   },
   {
    "duration": 0,
    "start_time": "2025-01-23T06:05:18.627Z"
   },
   {
    "duration": 0,
    "start_time": "2025-01-23T06:05:18.628Z"
   },
   {
    "duration": 0,
    "start_time": "2025-01-23T06:05:18.629Z"
   },
   {
    "duration": 0,
    "start_time": "2025-01-23T06:05:18.630Z"
   },
   {
    "duration": 0,
    "start_time": "2025-01-23T06:05:18.631Z"
   },
   {
    "duration": 0,
    "start_time": "2025-01-23T06:05:18.632Z"
   },
   {
    "duration": 0,
    "start_time": "2025-01-23T06:05:18.633Z"
   },
   {
    "duration": 0,
    "start_time": "2025-01-23T06:05:18.634Z"
   },
   {
    "duration": 0,
    "start_time": "2025-01-23T06:05:18.635Z"
   },
   {
    "duration": 1,
    "start_time": "2025-01-23T06:05:18.635Z"
   },
   {
    "duration": 3324,
    "start_time": "2025-01-23T06:05:32.930Z"
   },
   {
    "duration": 1807,
    "start_time": "2025-01-23T06:05:36.257Z"
   },
   {
    "duration": 4,
    "start_time": "2025-01-23T06:05:38.066Z"
   },
   {
    "duration": 6,
    "start_time": "2025-01-23T06:05:38.071Z"
   },
   {
    "duration": 88,
    "start_time": "2025-01-23T06:05:38.079Z"
   },
   {
    "duration": 11,
    "start_time": "2025-01-23T06:05:38.168Z"
   },
   {
    "duration": 17,
    "start_time": "2025-01-23T06:05:38.181Z"
   },
   {
    "duration": 4,
    "start_time": "2025-01-23T06:05:38.201Z"
   },
   {
    "duration": 9,
    "start_time": "2025-01-23T06:05:38.206Z"
   },
   {
    "duration": 14,
    "start_time": "2025-01-23T06:05:38.217Z"
   },
   {
    "duration": 13,
    "start_time": "2025-01-23T06:05:38.233Z"
   },
   {
    "duration": 7,
    "start_time": "2025-01-23T06:05:38.248Z"
   },
   {
    "duration": 5,
    "start_time": "2025-01-23T06:05:38.256Z"
   },
   {
    "duration": 5,
    "start_time": "2025-01-23T06:05:38.265Z"
   },
   {
    "duration": 17,
    "start_time": "2025-01-23T06:05:38.271Z"
   },
   {
    "duration": 13,
    "start_time": "2025-01-23T06:05:38.290Z"
   },
   {
    "duration": 18,
    "start_time": "2025-01-23T06:05:38.305Z"
   },
   {
    "duration": 399,
    "start_time": "2025-01-23T06:05:38.325Z"
   },
   {
    "duration": 324,
    "start_time": "2025-01-23T06:05:38.726Z"
   },
   {
    "duration": 509,
    "start_time": "2025-01-23T06:05:39.051Z"
   },
   {
    "duration": 489,
    "start_time": "2025-01-23T06:05:39.561Z"
   },
   {
    "duration": 525,
    "start_time": "2025-01-23T06:05:40.052Z"
   },
   {
    "duration": 568,
    "start_time": "2025-01-23T06:05:40.578Z"
   },
   {
    "duration": 12,
    "start_time": "2025-01-23T06:05:41.148Z"
   },
   {
    "duration": 839,
    "start_time": "2025-01-23T06:05:41.162Z"
   },
   {
    "duration": 4,
    "start_time": "2025-01-23T06:05:42.003Z"
   },
   {
    "duration": 12,
    "start_time": "2025-01-23T06:05:42.009Z"
   },
   {
    "duration": 5,
    "start_time": "2025-01-23T06:05:42.023Z"
   },
   {
    "duration": 16,
    "start_time": "2025-01-23T06:05:42.030Z"
   },
   {
    "duration": 4,
    "start_time": "2025-01-23T06:05:42.048Z"
   },
   {
    "duration": 14,
    "start_time": "2025-01-23T06:05:42.053Z"
   },
   {
    "duration": 5,
    "start_time": "2025-01-23T06:05:42.069Z"
   },
   {
    "duration": 7247,
    "start_time": "2025-01-23T06:05:42.075Z"
   },
   {
    "duration": 313,
    "start_time": "2025-01-23T06:05:49.324Z"
   },
   {
    "duration": 1908,
    "start_time": "2025-01-24T10:29:20.601Z"
   },
   {
    "duration": 0,
    "start_time": "2025-01-24T10:29:22.512Z"
   },
   {
    "duration": 0,
    "start_time": "2025-01-24T10:29:22.513Z"
   },
   {
    "duration": 0,
    "start_time": "2025-01-24T10:29:22.514Z"
   },
   {
    "duration": 0,
    "start_time": "2025-01-24T10:29:22.515Z"
   },
   {
    "duration": 0,
    "start_time": "2025-01-24T10:29:22.516Z"
   },
   {
    "duration": 0,
    "start_time": "2025-01-24T10:29:22.517Z"
   },
   {
    "duration": 0,
    "start_time": "2025-01-24T10:29:22.518Z"
   },
   {
    "duration": 0,
    "start_time": "2025-01-24T10:29:22.519Z"
   },
   {
    "duration": 0,
    "start_time": "2025-01-24T10:29:22.520Z"
   },
   {
    "duration": 0,
    "start_time": "2025-01-24T10:29:22.521Z"
   },
   {
    "duration": 0,
    "start_time": "2025-01-24T10:29:22.522Z"
   },
   {
    "duration": 0,
    "start_time": "2025-01-24T10:29:22.523Z"
   },
   {
    "duration": 0,
    "start_time": "2025-01-24T10:29:22.524Z"
   },
   {
    "duration": 0,
    "start_time": "2025-01-24T10:29:22.525Z"
   },
   {
    "duration": 0,
    "start_time": "2025-01-24T10:29:22.526Z"
   },
   {
    "duration": 0,
    "start_time": "2025-01-24T10:29:22.554Z"
   },
   {
    "duration": 0,
    "start_time": "2025-01-24T10:29:22.555Z"
   },
   {
    "duration": 0,
    "start_time": "2025-01-24T10:29:22.556Z"
   },
   {
    "duration": 0,
    "start_time": "2025-01-24T10:29:22.557Z"
   },
   {
    "duration": 0,
    "start_time": "2025-01-24T10:29:22.558Z"
   },
   {
    "duration": 0,
    "start_time": "2025-01-24T10:29:22.559Z"
   },
   {
    "duration": 0,
    "start_time": "2025-01-24T10:29:22.560Z"
   },
   {
    "duration": 0,
    "start_time": "2025-01-24T10:29:22.561Z"
   },
   {
    "duration": 0,
    "start_time": "2025-01-24T10:29:22.563Z"
   },
   {
    "duration": 0,
    "start_time": "2025-01-24T10:29:22.565Z"
   },
   {
    "duration": 0,
    "start_time": "2025-01-24T10:29:22.566Z"
   },
   {
    "duration": 0,
    "start_time": "2025-01-24T10:29:22.567Z"
   },
   {
    "duration": 0,
    "start_time": "2025-01-24T10:29:22.568Z"
   },
   {
    "duration": 0,
    "start_time": "2025-01-24T10:29:22.569Z"
   },
   {
    "duration": 0,
    "start_time": "2025-01-24T10:29:22.570Z"
   },
   {
    "duration": 0,
    "start_time": "2025-01-24T10:29:22.571Z"
   },
   {
    "duration": 0,
    "start_time": "2025-01-24T10:29:22.572Z"
   },
   {
    "duration": 0,
    "start_time": "2025-01-24T10:29:22.573Z"
   },
   {
    "duration": 0,
    "start_time": "2025-01-24T10:29:22.574Z"
   },
   {
    "duration": 0,
    "start_time": "2025-01-24T10:29:22.574Z"
   },
   {
    "duration": 0,
    "start_time": "2025-01-24T10:29:22.575Z"
   },
   {
    "duration": 0,
    "start_time": "2025-01-24T10:29:22.576Z"
   },
   {
    "duration": 0,
    "start_time": "2025-01-24T10:29:22.577Z"
   },
   {
    "duration": 0,
    "start_time": "2025-01-24T10:29:22.578Z"
   },
   {
    "duration": 0,
    "start_time": "2025-01-24T10:29:22.579Z"
   },
   {
    "duration": 0,
    "start_time": "2025-01-24T10:29:22.579Z"
   },
   {
    "duration": 12,
    "start_time": "2025-01-24T10:29:32.406Z"
   },
   {
    "duration": 3321,
    "start_time": "2025-01-24T10:29:53.117Z"
   },
   {
    "duration": 145,
    "start_time": "2025-01-24T10:29:58.820Z"
   },
   {
    "duration": 2,
    "start_time": "2025-01-24T10:29:59.952Z"
   },
   {
    "duration": 2,
    "start_time": "2025-01-24T10:30:00.548Z"
   },
   {
    "duration": 2,
    "start_time": "2025-01-24T10:30:00.976Z"
   },
   {
    "duration": 75,
    "start_time": "2025-01-24T10:30:04.288Z"
   },
   {
    "duration": 2248,
    "start_time": "2025-01-24T10:30:09.086Z"
   },
   {
    "duration": 1786,
    "start_time": "2025-01-24T10:30:11.336Z"
   },
   {
    "duration": 3,
    "start_time": "2025-01-24T10:30:13.123Z"
   },
   {
    "duration": 25,
    "start_time": "2025-01-24T10:30:13.129Z"
   },
   {
    "duration": 7,
    "start_time": "2025-01-24T10:30:13.155Z"
   },
   {
    "duration": 61,
    "start_time": "2025-01-24T10:30:13.163Z"
   },
   {
    "duration": 11,
    "start_time": "2025-01-24T10:30:13.225Z"
   },
   {
    "duration": 13,
    "start_time": "2025-01-24T10:30:13.238Z"
   },
   {
    "duration": 4,
    "start_time": "2025-01-24T10:30:13.252Z"
   },
   {
    "duration": 6,
    "start_time": "2025-01-24T10:30:13.259Z"
   },
   {
    "duration": 13,
    "start_time": "2025-01-24T10:30:13.267Z"
   },
   {
    "duration": 4,
    "start_time": "2025-01-24T10:30:13.282Z"
   },
   {
    "duration": 6,
    "start_time": "2025-01-24T10:30:13.287Z"
   },
   {
    "duration": 4,
    "start_time": "2025-01-24T10:30:13.294Z"
   },
   {
    "duration": 16,
    "start_time": "2025-01-24T10:30:13.300Z"
   },
   {
    "duration": 6,
    "start_time": "2025-01-24T10:30:13.317Z"
   },
   {
    "duration": 30,
    "start_time": "2025-01-24T10:30:13.324Z"
   },
   {
    "duration": 316,
    "start_time": "2025-01-24T10:30:13.355Z"
   },
   {
    "duration": 285,
    "start_time": "2025-01-24T10:30:13.672Z"
   },
   {
    "duration": 521,
    "start_time": "2025-01-24T10:30:13.959Z"
   },
   {
    "duration": 507,
    "start_time": "2025-01-24T10:30:14.481Z"
   },
   {
    "duration": 485,
    "start_time": "2025-01-24T10:30:14.989Z"
   },
   {
    "duration": 497,
    "start_time": "2025-01-24T10:30:15.475Z"
   },
   {
    "duration": 13,
    "start_time": "2025-01-24T10:30:15.974Z"
   },
   {
    "duration": 805,
    "start_time": "2025-01-24T10:30:15.988Z"
   },
   {
    "duration": 3,
    "start_time": "2025-01-24T10:30:16.795Z"
   },
   {
    "duration": 8,
    "start_time": "2025-01-24T10:30:16.800Z"
   },
   {
    "duration": 4,
    "start_time": "2025-01-24T10:30:16.811Z"
   },
   {
    "duration": 172,
    "start_time": "2025-01-24T10:30:16.817Z"
   },
   {
    "duration": 0,
    "start_time": "2025-01-24T10:30:16.990Z"
   },
   {
    "duration": 0,
    "start_time": "2025-01-24T10:30:16.992Z"
   },
   {
    "duration": 1,
    "start_time": "2025-01-24T10:30:16.992Z"
   },
   {
    "duration": 0,
    "start_time": "2025-01-24T10:30:16.993Z"
   },
   {
    "duration": 1,
    "start_time": "2025-01-24T10:30:16.994Z"
   },
   {
    "duration": 0,
    "start_time": "2025-01-24T10:30:16.995Z"
   },
   {
    "duration": 0,
    "start_time": "2025-01-24T10:30:16.996Z"
   },
   {
    "duration": 0,
    "start_time": "2025-01-24T10:30:16.997Z"
   },
   {
    "duration": 0,
    "start_time": "2025-01-24T10:30:16.998Z"
   },
   {
    "duration": 0,
    "start_time": "2025-01-24T10:30:16.999Z"
   },
   {
    "duration": 0,
    "start_time": "2025-01-24T10:30:17.000Z"
   },
   {
    "duration": 0,
    "start_time": "2025-01-24T10:30:17.001Z"
   },
   {
    "duration": 0,
    "start_time": "2025-01-24T10:30:17.002Z"
   },
   {
    "duration": 0,
    "start_time": "2025-01-24T10:30:17.003Z"
   },
   {
    "duration": 2256,
    "start_time": "2025-01-24T10:30:36.160Z"
   },
   {
    "duration": 1831,
    "start_time": "2025-01-24T10:30:38.419Z"
   },
   {
    "duration": 3,
    "start_time": "2025-01-24T10:30:40.252Z"
   },
   {
    "duration": 15,
    "start_time": "2025-01-24T10:30:40.256Z"
   },
   {
    "duration": 3,
    "start_time": "2025-01-24T10:30:40.273Z"
   },
   {
    "duration": 41,
    "start_time": "2025-01-24T10:30:40.278Z"
   },
   {
    "duration": 11,
    "start_time": "2025-01-24T10:30:40.320Z"
   },
   {
    "duration": 13,
    "start_time": "2025-01-24T10:30:40.332Z"
   },
   {
    "duration": 3,
    "start_time": "2025-01-24T10:30:40.346Z"
   },
   {
    "duration": 5,
    "start_time": "2025-01-24T10:30:40.351Z"
   },
   {
    "duration": 7,
    "start_time": "2025-01-24T10:30:40.358Z"
   },
   {
    "duration": 7,
    "start_time": "2025-01-24T10:30:40.367Z"
   },
   {
    "duration": 13,
    "start_time": "2025-01-24T10:30:40.375Z"
   },
   {
    "duration": 4,
    "start_time": "2025-01-24T10:30:40.391Z"
   },
   {
    "duration": 17,
    "start_time": "2025-01-24T10:30:40.396Z"
   },
   {
    "duration": 7,
    "start_time": "2025-01-24T10:30:40.414Z"
   },
   {
    "duration": 10,
    "start_time": "2025-01-24T10:30:40.423Z"
   },
   {
    "duration": 361,
    "start_time": "2025-01-24T10:30:40.434Z"
   },
   {
    "duration": 337,
    "start_time": "2025-01-24T10:30:40.796Z"
   },
   {
    "duration": 556,
    "start_time": "2025-01-24T10:30:41.134Z"
   },
   {
    "duration": 518,
    "start_time": "2025-01-24T10:30:41.691Z"
   },
   {
    "duration": 584,
    "start_time": "2025-01-24T10:30:42.211Z"
   },
   {
    "duration": 484,
    "start_time": "2025-01-24T10:30:42.797Z"
   },
   {
    "duration": 12,
    "start_time": "2025-01-24T10:30:43.282Z"
   },
   {
    "duration": 821,
    "start_time": "2025-01-24T10:30:43.295Z"
   },
   {
    "duration": 3,
    "start_time": "2025-01-24T10:30:44.118Z"
   },
   {
    "duration": 5,
    "start_time": "2025-01-24T10:30:44.122Z"
   },
   {
    "duration": 5,
    "start_time": "2025-01-24T10:30:44.128Z"
   },
   {
    "duration": 31,
    "start_time": "2025-01-24T10:30:44.135Z"
   },
   {
    "duration": 4,
    "start_time": "2025-01-24T10:30:44.168Z"
   },
   {
    "duration": 6,
    "start_time": "2025-01-24T10:30:44.174Z"
   },
   {
    "duration": 6,
    "start_time": "2025-01-24T10:30:44.181Z"
   },
   {
    "duration": 56493,
    "start_time": "2025-01-24T10:30:44.188Z"
   },
   {
    "duration": 5,
    "start_time": "2025-01-24T10:31:40.755Z"
   },
   {
    "duration": 444,
    "start_time": "2025-01-24T10:31:40.762Z"
   },
   {
    "duration": 6,
    "start_time": "2025-01-24T10:31:41.207Z"
   },
   {
    "duration": 6,
    "start_time": "2025-01-24T10:31:41.214Z"
   },
   {
    "duration": 72152,
    "start_time": "2025-01-24T10:31:41.221Z"
   },
   {
    "duration": 535,
    "start_time": "2025-01-24T10:32:53.375Z"
   },
   {
    "duration": 6,
    "start_time": "2025-01-24T10:32:53.912Z"
   },
   {
    "duration": 6,
    "start_time": "2025-01-24T10:32:53.921Z"
   },
   {
    "duration": 57240,
    "start_time": "2025-01-24T10:32:53.928Z"
   },
   {
    "duration": 428,
    "start_time": "2025-01-24T10:33:51.170Z"
   },
   {
    "duration": 6,
    "start_time": "2025-01-24T10:36:11.099Z"
   },
   {
    "duration": 4,
    "start_time": "2025-01-24T10:36:11.272Z"
   },
   {
    "duration": 56617,
    "start_time": "2025-01-24T10:36:11.439Z"
   },
   {
    "duration": 467,
    "start_time": "2025-01-24T10:37:08.058Z"
   },
   {
    "duration": 562,
    "start_time": "2025-01-24T14:17:18.248Z"
   },
   {
    "duration": 4,
    "start_time": "2025-01-24T14:49:36.716Z"
   },
   {
    "duration": 2073,
    "start_time": "2025-01-24T14:49:36.723Z"
   },
   {
    "duration": 3,
    "start_time": "2025-01-24T14:49:38.798Z"
   },
   {
    "duration": 5,
    "start_time": "2025-01-24T14:49:38.855Z"
   },
   {
    "duration": 3,
    "start_time": "2025-01-24T14:49:38.862Z"
   },
   {
    "duration": 103,
    "start_time": "2025-01-24T14:49:38.867Z"
   },
   {
    "duration": 13,
    "start_time": "2025-01-24T14:49:38.972Z"
   },
   {
    "duration": 21,
    "start_time": "2025-01-24T14:49:38.987Z"
   },
   {
    "duration": 62,
    "start_time": "2025-01-24T14:49:39.010Z"
   },
   {
    "duration": 9,
    "start_time": "2025-01-24T14:49:39.074Z"
   },
   {
    "duration": 4,
    "start_time": "2025-01-24T14:49:39.085Z"
   },
   {
    "duration": 4,
    "start_time": "2025-01-24T14:49:39.090Z"
   },
   {
    "duration": 4,
    "start_time": "2025-01-24T14:49:39.096Z"
   },
   {
    "duration": 56,
    "start_time": "2025-01-24T14:49:39.102Z"
   },
   {
    "duration": 27,
    "start_time": "2025-01-24T14:49:39.159Z"
   },
   {
    "duration": 688,
    "start_time": "2025-01-24T14:49:39.188Z"
   },
   {
    "duration": 529,
    "start_time": "2025-01-24T14:49:39.878Z"
   },
   {
    "duration": 586,
    "start_time": "2025-01-24T14:49:40.409Z"
   },
   {
    "duration": 599,
    "start_time": "2025-01-24T14:49:40.997Z"
   },
   {
    "duration": 500,
    "start_time": "2025-01-24T14:49:41.598Z"
   },
   {
    "duration": 494,
    "start_time": "2025-01-24T14:49:42.100Z"
   },
   {
    "duration": 694,
    "start_time": "2025-01-24T14:49:42.596Z"
   },
   {
    "duration": 4,
    "start_time": "2025-01-24T14:49:43.291Z"
   },
   {
    "duration": 16,
    "start_time": "2025-01-24T14:49:43.296Z"
   },
   {
    "duration": 15,
    "start_time": "2025-01-24T14:49:43.314Z"
   },
   {
    "duration": 17,
    "start_time": "2025-01-24T14:49:43.331Z"
   },
   {
    "duration": 4,
    "start_time": "2025-01-24T14:49:43.350Z"
   },
   {
    "duration": 15,
    "start_time": "2025-01-24T14:49:43.355Z"
   },
   {
    "duration": 54,
    "start_time": "2025-01-24T14:49:43.371Z"
   },
   {
    "duration": 150,
    "start_time": "2025-01-24T14:49:43.427Z"
   },
   {
    "duration": 0,
    "start_time": "2025-01-24T14:49:43.579Z"
   },
   {
    "duration": 0,
    "start_time": "2025-01-24T14:49:43.581Z"
   },
   {
    "duration": 0,
    "start_time": "2025-01-24T14:49:43.582Z"
   },
   {
    "duration": 0,
    "start_time": "2025-01-24T14:49:43.583Z"
   },
   {
    "duration": 0,
    "start_time": "2025-01-24T14:49:43.584Z"
   },
   {
    "duration": 0,
    "start_time": "2025-01-24T14:49:43.585Z"
   },
   {
    "duration": 0,
    "start_time": "2025-01-24T14:49:43.586Z"
   },
   {
    "duration": 0,
    "start_time": "2025-01-24T14:49:43.587Z"
   },
   {
    "duration": 0,
    "start_time": "2025-01-24T14:49:43.588Z"
   },
   {
    "duration": 0,
    "start_time": "2025-01-24T14:49:43.589Z"
   },
   {
    "duration": 31455,
    "start_time": "2025-01-24T14:50:05.316Z"
   },
   {
    "duration": 0,
    "start_time": "2025-01-24T14:50:36.772Z"
   },
   {
    "duration": 0,
    "start_time": "2025-01-24T14:50:36.774Z"
   },
   {
    "duration": 0,
    "start_time": "2025-01-24T14:50:36.776Z"
   },
   {
    "duration": 4,
    "start_time": "2025-01-24T14:50:39.964Z"
   },
   {
    "duration": 1898,
    "start_time": "2025-01-24T14:50:39.971Z"
   },
   {
    "duration": 3,
    "start_time": "2025-01-24T14:50:41.871Z"
   },
   {
    "duration": 38,
    "start_time": "2025-01-24T14:50:41.875Z"
   },
   {
    "duration": 15,
    "start_time": "2025-01-24T14:50:41.915Z"
   },
   {
    "duration": 49,
    "start_time": "2025-01-24T14:50:41.932Z"
   },
   {
    "duration": 13,
    "start_time": "2025-01-24T14:50:41.983Z"
   },
   {
    "duration": 20,
    "start_time": "2025-01-24T14:50:41.997Z"
   },
   {
    "duration": 59,
    "start_time": "2025-01-24T14:50:42.018Z"
   },
   {
    "duration": 35,
    "start_time": "2025-01-24T14:50:42.079Z"
   },
   {
    "duration": 4,
    "start_time": "2025-01-24T14:50:42.115Z"
   },
   {
    "duration": 11,
    "start_time": "2025-01-24T14:50:42.121Z"
   },
   {
    "duration": 5,
    "start_time": "2025-01-24T14:50:42.133Z"
   },
   {
    "duration": 6,
    "start_time": "2025-01-24T14:50:42.141Z"
   },
   {
    "duration": 5,
    "start_time": "2025-01-24T14:50:42.149Z"
   },
   {
    "duration": 338,
    "start_time": "2025-01-24T14:50:42.155Z"
   },
   {
    "duration": 325,
    "start_time": "2025-01-24T14:50:42.494Z"
   },
   {
    "duration": 575,
    "start_time": "2025-01-24T14:50:42.821Z"
   },
   {
    "duration": 572,
    "start_time": "2025-01-24T14:50:43.398Z"
   },
   {
    "duration": 586,
    "start_time": "2025-01-24T14:50:43.972Z"
   },
   {
    "duration": 530,
    "start_time": "2025-01-24T14:50:44.561Z"
   },
   {
    "duration": 727,
    "start_time": "2025-01-24T14:50:45.092Z"
   },
   {
    "duration": 4,
    "start_time": "2025-01-24T14:50:45.821Z"
   },
   {
    "duration": 7,
    "start_time": "2025-01-24T14:50:45.827Z"
   },
   {
    "duration": 18,
    "start_time": "2025-01-24T14:50:45.836Z"
   },
   {
    "duration": 23,
    "start_time": "2025-01-24T14:50:45.856Z"
   },
   {
    "duration": 9,
    "start_time": "2025-01-24T14:50:45.881Z"
   },
   {
    "duration": 5,
    "start_time": "2025-01-24T14:50:45.892Z"
   },
   {
    "duration": 14,
    "start_time": "2025-01-24T14:50:45.898Z"
   },
   {
    "duration": 56868,
    "start_time": "2025-01-24T14:50:45.913Z"
   },
   {
    "duration": 74,
    "start_time": "2025-01-24T14:51:42.782Z"
   },
   {
    "duration": 455,
    "start_time": "2025-01-24T14:51:42.858Z"
   },
   {
    "duration": 6,
    "start_time": "2025-01-24T14:51:43.314Z"
   },
   {
    "duration": 23,
    "start_time": "2025-01-24T14:51:43.322Z"
   },
   {
    "duration": 74733,
    "start_time": "2025-01-24T14:51:43.347Z"
   },
   {
    "duration": 468,
    "start_time": "2025-01-24T14:52:58.082Z"
   },
   {
    "duration": 9,
    "start_time": "2025-01-24T14:52:58.554Z"
   },
   {
    "duration": 11,
    "start_time": "2025-01-24T14:52:58.564Z"
   },
   {
    "duration": 61380,
    "start_time": "2025-01-24T14:52:58.577Z"
   },
   {
    "duration": 458,
    "start_time": "2025-01-24T14:53:59.959Z"
   },
   {
    "duration": 4,
    "start_time": "2025-01-24T15:02:31.718Z"
   },
   {
    "duration": 1862,
    "start_time": "2025-01-24T15:02:31.724Z"
   },
   {
    "duration": 2,
    "start_time": "2025-01-24T15:02:33.588Z"
   },
   {
    "duration": 14,
    "start_time": "2025-01-24T15:02:33.592Z"
   },
   {
    "duration": 8,
    "start_time": "2025-01-24T15:02:33.607Z"
   },
   {
    "duration": 88,
    "start_time": "2025-01-24T15:02:33.617Z"
   },
   {
    "duration": 12,
    "start_time": "2025-01-24T15:02:33.707Z"
   },
   {
    "duration": 32,
    "start_time": "2025-01-24T15:02:33.720Z"
   },
   {
    "duration": 18,
    "start_time": "2025-01-24T15:02:33.754Z"
   },
   {
    "duration": 16,
    "start_time": "2025-01-24T15:02:33.774Z"
   },
   {
    "duration": 8,
    "start_time": "2025-01-24T15:02:33.792Z"
   },
   {
    "duration": 13,
    "start_time": "2025-01-24T15:02:33.801Z"
   },
   {
    "duration": 4,
    "start_time": "2025-01-24T15:02:33.815Z"
   },
   {
    "duration": 13,
    "start_time": "2025-01-24T15:02:33.820Z"
   },
   {
    "duration": 16,
    "start_time": "2025-01-24T15:02:33.835Z"
   },
   {
    "duration": 326,
    "start_time": "2025-01-24T15:02:33.852Z"
   },
   {
    "duration": 330,
    "start_time": "2025-01-24T15:02:34.179Z"
   },
   {
    "duration": 563,
    "start_time": "2025-01-24T15:02:34.510Z"
   },
   {
    "duration": 531,
    "start_time": "2025-01-24T15:02:35.075Z"
   },
   {
    "duration": 599,
    "start_time": "2025-01-24T15:02:35.608Z"
   },
   {
    "duration": 447,
    "start_time": "2025-01-24T15:02:36.208Z"
   },
   {
    "duration": 0,
    "start_time": "2025-01-24T15:02:36.657Z"
   },
   {
    "duration": 0,
    "start_time": "2025-01-24T15:02:36.658Z"
   },
   {
    "duration": 0,
    "start_time": "2025-01-24T15:02:36.659Z"
   },
   {
    "duration": 0,
    "start_time": "2025-01-24T15:02:36.660Z"
   },
   {
    "duration": 0,
    "start_time": "2025-01-24T15:02:36.661Z"
   },
   {
    "duration": 0,
    "start_time": "2025-01-24T15:02:36.662Z"
   },
   {
    "duration": 0,
    "start_time": "2025-01-24T15:02:36.663Z"
   },
   {
    "duration": 0,
    "start_time": "2025-01-24T15:02:36.664Z"
   },
   {
    "duration": 0,
    "start_time": "2025-01-24T15:02:36.665Z"
   },
   {
    "duration": 0,
    "start_time": "2025-01-24T15:02:36.666Z"
   },
   {
    "duration": 0,
    "start_time": "2025-01-24T15:02:36.667Z"
   },
   {
    "duration": 0,
    "start_time": "2025-01-24T15:02:36.668Z"
   },
   {
    "duration": 0,
    "start_time": "2025-01-24T15:02:36.669Z"
   },
   {
    "duration": 0,
    "start_time": "2025-01-24T15:02:36.670Z"
   },
   {
    "duration": 0,
    "start_time": "2025-01-24T15:02:36.671Z"
   },
   {
    "duration": 0,
    "start_time": "2025-01-24T15:02:36.672Z"
   },
   {
    "duration": 0,
    "start_time": "2025-01-24T15:02:36.673Z"
   },
   {
    "duration": 0,
    "start_time": "2025-01-24T15:02:36.674Z"
   },
   {
    "duration": 0,
    "start_time": "2025-01-24T15:02:36.675Z"
   },
   {
    "duration": 3,
    "start_time": "2025-01-24T15:17:24.536Z"
   },
   {
    "duration": 1939,
    "start_time": "2025-01-24T15:17:24.541Z"
   },
   {
    "duration": 3,
    "start_time": "2025-01-24T15:17:26.483Z"
   },
   {
    "duration": 16,
    "start_time": "2025-01-24T15:17:26.487Z"
   },
   {
    "duration": 6,
    "start_time": "2025-01-24T15:17:26.504Z"
   },
   {
    "duration": 77,
    "start_time": "2025-01-24T15:17:26.511Z"
   },
   {
    "duration": 10,
    "start_time": "2025-01-24T15:17:26.590Z"
   },
   {
    "duration": 14,
    "start_time": "2025-01-24T15:17:26.602Z"
   },
   {
    "duration": 10,
    "start_time": "2025-01-24T15:17:26.617Z"
   },
   {
    "duration": 7,
    "start_time": "2025-01-24T15:17:26.630Z"
   },
   {
    "duration": 7,
    "start_time": "2025-01-24T15:17:26.638Z"
   },
   {
    "duration": 5,
    "start_time": "2025-01-24T15:17:26.646Z"
   },
   {
    "duration": 7,
    "start_time": "2025-01-24T15:17:26.652Z"
   },
   {
    "duration": 11,
    "start_time": "2025-01-24T15:17:26.660Z"
   },
   {
    "duration": 8,
    "start_time": "2025-01-24T15:17:26.672Z"
   },
   {
    "duration": 375,
    "start_time": "2025-01-24T15:17:26.681Z"
   },
   {
    "duration": 328,
    "start_time": "2025-01-24T15:17:27.058Z"
   },
   {
    "duration": 518,
    "start_time": "2025-01-24T15:17:27.388Z"
   },
   {
    "duration": 588,
    "start_time": "2025-01-24T15:17:27.908Z"
   },
   {
    "duration": 512,
    "start_time": "2025-01-24T15:17:28.498Z"
   },
   {
    "duration": 586,
    "start_time": "2025-01-24T15:17:29.011Z"
   },
   {
    "duration": 744,
    "start_time": "2025-01-24T15:17:29.599Z"
   },
   {
    "duration": 10,
    "start_time": "2025-01-24T15:17:30.344Z"
   },
   {
    "duration": 77,
    "start_time": "2025-01-24T15:17:30.356Z"
   },
   {
    "duration": 37,
    "start_time": "2025-01-24T15:17:30.436Z"
   },
   {
    "duration": 19,
    "start_time": "2025-01-24T15:17:30.475Z"
   },
   {
    "duration": 30,
    "start_time": "2025-01-24T15:17:30.496Z"
   },
   {
    "duration": 23,
    "start_time": "2025-01-24T15:17:30.530Z"
   },
   {
    "duration": 12,
    "start_time": "2025-01-24T15:17:30.555Z"
   },
   {
    "duration": 174,
    "start_time": "2025-01-24T15:17:30.569Z"
   },
   {
    "duration": 0,
    "start_time": "2025-01-24T15:17:30.745Z"
   },
   {
    "duration": 0,
    "start_time": "2025-01-24T15:17:30.746Z"
   },
   {
    "duration": 0,
    "start_time": "2025-01-24T15:17:30.747Z"
   },
   {
    "duration": 0,
    "start_time": "2025-01-24T15:17:30.748Z"
   },
   {
    "duration": 0,
    "start_time": "2025-01-24T15:17:30.754Z"
   },
   {
    "duration": 0,
    "start_time": "2025-01-24T15:17:30.754Z"
   },
   {
    "duration": 0,
    "start_time": "2025-01-24T15:17:30.755Z"
   },
   {
    "duration": 0,
    "start_time": "2025-01-24T15:17:30.756Z"
   },
   {
    "duration": 0,
    "start_time": "2025-01-24T15:17:30.757Z"
   },
   {
    "duration": 0,
    "start_time": "2025-01-24T15:17:30.763Z"
   },
   {
    "duration": 4,
    "start_time": "2025-01-24T15:18:11.404Z"
   },
   {
    "duration": 1868,
    "start_time": "2025-01-24T15:18:11.410Z"
   },
   {
    "duration": 4,
    "start_time": "2025-01-24T15:18:13.280Z"
   },
   {
    "duration": 7,
    "start_time": "2025-01-24T15:18:13.285Z"
   },
   {
    "duration": 8,
    "start_time": "2025-01-24T15:18:13.293Z"
   },
   {
    "duration": 46,
    "start_time": "2025-01-24T15:18:13.302Z"
   },
   {
    "duration": 15,
    "start_time": "2025-01-24T15:18:13.350Z"
   },
   {
    "duration": 14,
    "start_time": "2025-01-24T15:18:13.367Z"
   },
   {
    "duration": 26,
    "start_time": "2025-01-24T15:18:13.382Z"
   },
   {
    "duration": 13,
    "start_time": "2025-01-24T15:18:13.412Z"
   },
   {
    "duration": 6,
    "start_time": "2025-01-24T15:18:13.427Z"
   },
   {
    "duration": 9,
    "start_time": "2025-01-24T15:18:13.435Z"
   },
   {
    "duration": 10,
    "start_time": "2025-01-24T15:18:13.445Z"
   },
   {
    "duration": 49,
    "start_time": "2025-01-24T15:18:13.457Z"
   },
   {
    "duration": 10,
    "start_time": "2025-01-24T15:18:13.507Z"
   },
   {
    "duration": 364,
    "start_time": "2025-01-24T15:18:13.518Z"
   },
   {
    "duration": 329,
    "start_time": "2025-01-24T15:18:13.884Z"
   },
   {
    "duration": 580,
    "start_time": "2025-01-24T15:18:14.215Z"
   },
   {
    "duration": 614,
    "start_time": "2025-01-24T15:18:14.796Z"
   },
   {
    "duration": 611,
    "start_time": "2025-01-24T15:18:15.411Z"
   },
   {
    "duration": 574,
    "start_time": "2025-01-24T15:18:16.023Z"
   },
   {
    "duration": 732,
    "start_time": "2025-01-24T15:18:16.599Z"
   },
   {
    "duration": 3,
    "start_time": "2025-01-24T15:18:17.333Z"
   },
   {
    "duration": 4,
    "start_time": "2025-01-24T15:18:17.338Z"
   },
   {
    "duration": 5,
    "start_time": "2025-01-24T15:18:17.354Z"
   },
   {
    "duration": 25,
    "start_time": "2025-01-24T15:18:17.361Z"
   },
   {
    "duration": 4,
    "start_time": "2025-01-24T15:18:17.388Z"
   },
   {
    "duration": 22,
    "start_time": "2025-01-24T15:18:17.395Z"
   },
   {
    "duration": 7,
    "start_time": "2025-01-24T15:18:17.418Z"
   },
   {
    "duration": 62645,
    "start_time": "2025-01-24T15:18:17.426Z"
   },
   {
    "duration": 7,
    "start_time": "2025-01-24T15:19:20.073Z"
   },
   {
    "duration": 201,
    "start_time": "2025-01-24T15:19:20.082Z"
   },
   {
    "duration": 0,
    "start_time": "2025-01-24T15:19:20.287Z"
   },
   {
    "duration": 0,
    "start_time": "2025-01-24T15:19:20.288Z"
   },
   {
    "duration": 0,
    "start_time": "2025-01-24T15:19:20.289Z"
   },
   {
    "duration": 0,
    "start_time": "2025-01-24T15:19:20.290Z"
   },
   {
    "duration": 0,
    "start_time": "2025-01-24T15:19:20.291Z"
   },
   {
    "duration": 0,
    "start_time": "2025-01-24T15:19:20.292Z"
   },
   {
    "duration": 0,
    "start_time": "2025-01-24T15:19:20.293Z"
   },
   {
    "duration": 0,
    "start_time": "2025-01-24T15:19:20.294Z"
   },
   {
    "duration": 437,
    "start_time": "2025-01-24T15:20:19.629Z"
   },
   {
    "duration": 10,
    "start_time": "2025-01-24T15:20:22.754Z"
   },
   {
    "duration": 7,
    "start_time": "2025-01-24T15:20:23.066Z"
   },
   {
    "duration": 77321,
    "start_time": "2025-01-24T15:20:23.350Z"
   },
   {
    "duration": 11,
    "start_time": "2025-01-24T15:21:40.674Z"
   },
   {
    "duration": 0,
    "start_time": "2025-01-24T15:21:40.687Z"
   },
   {
    "duration": 0,
    "start_time": "2025-01-24T15:21:40.688Z"
   },
   {
    "duration": 0,
    "start_time": "2025-01-24T15:21:40.754Z"
   },
   {
    "duration": 0,
    "start_time": "2025-01-24T15:21:40.755Z"
   },
   {
    "duration": 4,
    "start_time": "2025-01-24T15:29:42.819Z"
   },
   {
    "duration": 1863,
    "start_time": "2025-01-24T15:29:42.824Z"
   },
   {
    "duration": 3,
    "start_time": "2025-01-24T15:29:44.688Z"
   },
   {
    "duration": 6,
    "start_time": "2025-01-24T15:29:44.692Z"
   },
   {
    "duration": 5,
    "start_time": "2025-01-24T15:29:44.700Z"
   },
   {
    "duration": 130,
    "start_time": "2025-01-24T15:29:44.706Z"
   },
   {
    "duration": 11,
    "start_time": "2025-01-24T15:29:44.837Z"
   },
   {
    "duration": 4,
    "start_time": "2025-01-24T15:29:44.849Z"
   },
   {
    "duration": 6,
    "start_time": "2025-01-24T15:29:44.855Z"
   },
   {
    "duration": 7,
    "start_time": "2025-01-24T15:29:44.862Z"
   },
   {
    "duration": 4,
    "start_time": "2025-01-24T15:29:44.870Z"
   },
   {
    "duration": 9,
    "start_time": "2025-01-24T15:29:44.875Z"
   },
   {
    "duration": 9,
    "start_time": "2025-01-24T15:29:44.885Z"
   },
   {
    "duration": 6,
    "start_time": "2025-01-24T15:29:44.896Z"
   },
   {
    "duration": 12,
    "start_time": "2025-01-24T15:29:44.903Z"
   },
   {
    "duration": 345,
    "start_time": "2025-01-24T15:29:44.916Z"
   },
   {
    "duration": 313,
    "start_time": "2025-01-24T15:29:45.263Z"
   },
   {
    "duration": 510,
    "start_time": "2025-01-24T15:29:45.578Z"
   },
   {
    "duration": 505,
    "start_time": "2025-01-24T15:29:46.089Z"
   },
   {
    "duration": 517,
    "start_time": "2025-01-24T15:29:46.595Z"
   },
   {
    "duration": 571,
    "start_time": "2025-01-24T15:29:47.114Z"
   },
   {
    "duration": 700,
    "start_time": "2025-01-24T15:29:47.687Z"
   },
   {
    "duration": 3,
    "start_time": "2025-01-24T15:29:48.389Z"
   },
   {
    "duration": 51,
    "start_time": "2025-01-24T15:29:48.393Z"
   },
   {
    "duration": 7,
    "start_time": "2025-01-24T15:29:48.445Z"
   },
   {
    "duration": 16,
    "start_time": "2025-01-24T15:29:48.453Z"
   },
   {
    "duration": 4,
    "start_time": "2025-01-24T15:29:48.470Z"
   },
   {
    "duration": 5,
    "start_time": "2025-01-24T15:29:48.475Z"
   },
   {
    "duration": 7,
    "start_time": "2025-01-24T15:29:48.481Z"
   },
   {
    "duration": 47573,
    "start_time": "2025-01-24T15:29:48.490Z"
   },
   {
    "duration": 5,
    "start_time": "2025-01-24T15:30:36.065Z"
   },
   {
    "duration": 423,
    "start_time": "2025-01-24T15:30:36.072Z"
   },
   {
    "duration": 6,
    "start_time": "2025-01-24T15:30:36.497Z"
   },
   {
    "duration": 50,
    "start_time": "2025-01-24T15:30:36.504Z"
   },
   {
    "duration": 63802,
    "start_time": "2025-01-24T15:30:36.555Z"
   },
   {
    "duration": 443,
    "start_time": "2025-01-24T15:31:40.359Z"
   },
   {
    "duration": 6,
    "start_time": "2025-01-24T15:31:40.804Z"
   },
   {
    "duration": 5,
    "start_time": "2025-01-24T15:31:40.811Z"
   },
   {
    "duration": 28069,
    "start_time": "2025-01-24T15:31:40.817Z"
   },
   {
    "duration": 0,
    "start_time": "2025-01-24T15:32:08.888Z"
   },
   {
    "duration": 2310,
    "start_time": "2025-01-24T15:32:14.547Z"
   },
   {
    "duration": 1819,
    "start_time": "2025-01-24T15:32:16.861Z"
   },
   {
    "duration": 3,
    "start_time": "2025-01-24T15:32:18.681Z"
   },
   {
    "duration": 3,
    "start_time": "2025-01-24T15:32:18.686Z"
   },
   {
    "duration": 11,
    "start_time": "2025-01-24T15:32:18.691Z"
   },
   {
    "duration": 45,
    "start_time": "2025-01-24T15:32:18.703Z"
   },
   {
    "duration": 11,
    "start_time": "2025-01-24T15:32:18.750Z"
   },
   {
    "duration": 4,
    "start_time": "2025-01-24T15:32:18.762Z"
   },
   {
    "duration": 6,
    "start_time": "2025-01-24T15:32:18.767Z"
   },
   {
    "duration": 14,
    "start_time": "2025-01-24T15:32:18.774Z"
   },
   {
    "duration": 4,
    "start_time": "2025-01-24T15:32:18.789Z"
   },
   {
    "duration": 14,
    "start_time": "2025-01-24T15:32:18.794Z"
   },
   {
    "duration": 4,
    "start_time": "2025-01-24T15:32:18.810Z"
   },
   {
    "duration": 6,
    "start_time": "2025-01-24T15:32:18.817Z"
   },
   {
    "duration": 5,
    "start_time": "2025-01-24T15:32:18.824Z"
   },
   {
    "duration": 344,
    "start_time": "2025-01-24T15:32:18.831Z"
   },
   {
    "duration": 295,
    "start_time": "2025-01-24T15:32:19.177Z"
   },
   {
    "duration": 506,
    "start_time": "2025-01-24T15:32:19.473Z"
   },
   {
    "duration": 514,
    "start_time": "2025-01-24T15:32:19.981Z"
   },
   {
    "duration": 485,
    "start_time": "2025-01-24T15:32:20.496Z"
   },
   {
    "duration": 484,
    "start_time": "2025-01-24T15:32:20.983Z"
   },
   {
    "duration": 692,
    "start_time": "2025-01-24T15:32:21.468Z"
   },
   {
    "duration": 4,
    "start_time": "2025-01-24T15:32:22.161Z"
   },
   {
    "duration": 10,
    "start_time": "2025-01-24T15:32:22.166Z"
   },
   {
    "duration": 26,
    "start_time": "2025-01-24T15:32:22.178Z"
   },
   {
    "duration": 38,
    "start_time": "2025-01-24T15:32:22.205Z"
   },
   {
    "duration": 62,
    "start_time": "2025-01-24T15:32:22.245Z"
   },
   {
    "duration": 15,
    "start_time": "2025-01-24T15:32:22.309Z"
   },
   {
    "duration": 32,
    "start_time": "2025-01-24T15:32:22.325Z"
   },
   {
    "duration": 52510,
    "start_time": "2025-01-24T15:32:22.359Z"
   },
   {
    "duration": 4,
    "start_time": "2025-01-24T15:33:14.871Z"
   },
   {
    "duration": 510,
    "start_time": "2025-01-24T15:33:14.877Z"
   },
   {
    "duration": 7,
    "start_time": "2025-01-24T15:33:15.388Z"
   },
   {
    "duration": 7,
    "start_time": "2025-01-24T15:33:15.396Z"
   },
   {
    "duration": 65263,
    "start_time": "2025-01-24T15:33:15.404Z"
   },
   {
    "duration": 497,
    "start_time": "2025-01-24T15:34:20.669Z"
   },
   {
    "duration": 5,
    "start_time": "2025-01-24T15:34:21.168Z"
   },
   {
    "duration": 11,
    "start_time": "2025-01-24T15:34:21.174Z"
   },
   {
    "duration": 50579,
    "start_time": "2025-01-24T15:34:21.186Z"
   },
   {
    "duration": 431,
    "start_time": "2025-01-24T15:35:11.767Z"
   },
   {
    "duration": 2338,
    "start_time": "2025-01-24T15:42:56.736Z"
   },
   {
    "duration": 1815,
    "start_time": "2025-01-24T15:42:59.076Z"
   },
   {
    "duration": 3,
    "start_time": "2025-01-24T15:43:00.892Z"
   },
   {
    "duration": 15,
    "start_time": "2025-01-24T15:43:00.896Z"
   },
   {
    "duration": 13,
    "start_time": "2025-01-24T15:43:00.913Z"
   },
   {
    "duration": 92,
    "start_time": "2025-01-24T15:43:00.927Z"
   },
   {
    "duration": 12,
    "start_time": "2025-01-24T15:43:01.021Z"
   },
   {
    "duration": 43,
    "start_time": "2025-01-24T15:43:01.034Z"
   },
   {
    "duration": 13,
    "start_time": "2025-01-24T15:43:01.078Z"
   },
   {
    "duration": 7,
    "start_time": "2025-01-24T15:43:01.094Z"
   },
   {
    "duration": 11,
    "start_time": "2025-01-24T15:43:01.102Z"
   },
   {
    "duration": 22,
    "start_time": "2025-01-24T15:43:01.115Z"
   },
   {
    "duration": 24,
    "start_time": "2025-01-24T15:43:01.138Z"
   },
   {
    "duration": 24,
    "start_time": "2025-01-24T15:43:01.163Z"
   },
   {
    "duration": 23,
    "start_time": "2025-01-24T15:43:01.188Z"
   },
   {
    "duration": 391,
    "start_time": "2025-01-24T15:43:01.213Z"
   },
   {
    "duration": 355,
    "start_time": "2025-01-24T15:43:01.606Z"
   },
   {
    "duration": 519,
    "start_time": "2025-01-24T15:43:01.963Z"
   },
   {
    "duration": 508,
    "start_time": "2025-01-24T15:43:02.484Z"
   },
   {
    "duration": 487,
    "start_time": "2025-01-24T15:43:02.995Z"
   },
   {
    "duration": 500,
    "start_time": "2025-01-24T15:43:03.484Z"
   },
   {
    "duration": 751,
    "start_time": "2025-01-24T15:43:03.986Z"
   },
   {
    "duration": 3,
    "start_time": "2025-01-24T15:43:04.739Z"
   },
   {
    "duration": 17,
    "start_time": "2025-01-24T15:43:04.744Z"
   },
   {
    "duration": 9,
    "start_time": "2025-01-24T15:43:04.763Z"
   },
   {
    "duration": 17,
    "start_time": "2025-01-24T15:43:04.774Z"
   },
   {
    "duration": 4,
    "start_time": "2025-01-24T15:43:04.792Z"
   },
   {
    "duration": 23,
    "start_time": "2025-01-24T15:43:04.799Z"
   },
   {
    "duration": 19,
    "start_time": "2025-01-24T15:43:04.824Z"
   },
   {
    "duration": 44913,
    "start_time": "2025-01-24T15:43:04.845Z"
   },
   {
    "duration": 4,
    "start_time": "2025-01-24T15:43:49.760Z"
   },
   {
    "duration": 427,
    "start_time": "2025-01-24T15:43:49.766Z"
   },
   {
    "duration": 6,
    "start_time": "2025-01-24T15:43:50.194Z"
   },
   {
    "duration": 25,
    "start_time": "2025-01-24T15:43:50.201Z"
   },
   {
    "duration": 44545,
    "start_time": "2025-01-24T15:43:50.228Z"
   },
   {
    "duration": 434,
    "start_time": "2025-01-24T15:44:34.775Z"
   },
   {
    "duration": 5,
    "start_time": "2025-01-24T15:44:35.211Z"
   },
   {
    "duration": 15,
    "start_time": "2025-01-24T15:44:35.217Z"
   },
   {
    "duration": 47338,
    "start_time": "2025-01-24T15:44:35.233Z"
   },
   {
    "duration": 447,
    "start_time": "2025-01-24T15:45:22.573Z"
   },
   {
    "duration": 3705,
    "start_time": "2025-01-25T09:49:00.267Z"
   },
   {
    "duration": 3450,
    "start_time": "2025-02-06T04:28:30.823Z"
   },
   {
    "duration": 2105,
    "start_time": "2025-02-06T04:28:34.275Z"
   },
   {
    "duration": 2,
    "start_time": "2025-02-06T04:28:36.382Z"
   },
   {
    "duration": 31,
    "start_time": "2025-02-06T04:28:36.386Z"
   },
   {
    "duration": 12,
    "start_time": "2025-02-06T04:28:36.419Z"
   },
   {
    "duration": 272,
    "start_time": "2025-02-06T04:28:36.433Z"
   },
   {
    "duration": 12,
    "start_time": "2025-02-06T04:28:36.707Z"
   },
   {
    "duration": 7,
    "start_time": "2025-02-06T04:28:36.720Z"
   },
   {
    "duration": 7,
    "start_time": "2025-02-06T04:28:36.728Z"
   },
   {
    "duration": 4,
    "start_time": "2025-02-06T04:28:36.738Z"
   },
   {
    "duration": 4,
    "start_time": "2025-02-06T04:28:36.744Z"
   },
   {
    "duration": 6,
    "start_time": "2025-02-06T04:28:36.750Z"
   },
   {
    "duration": 5,
    "start_time": "2025-02-06T04:28:36.757Z"
   },
   {
    "duration": 9,
    "start_time": "2025-02-06T04:28:36.763Z"
   },
   {
    "duration": 38,
    "start_time": "2025-02-06T04:28:36.774Z"
   },
   {
    "duration": 368,
    "start_time": "2025-02-06T04:28:36.814Z"
   },
   {
    "duration": 347,
    "start_time": "2025-02-06T04:28:37.184Z"
   },
   {
    "duration": 518,
    "start_time": "2025-02-06T04:28:37.532Z"
   },
   {
    "duration": 493,
    "start_time": "2025-02-06T04:28:38.052Z"
   },
   {
    "duration": 591,
    "start_time": "2025-02-06T04:28:38.547Z"
   },
   {
    "duration": 605,
    "start_time": "2025-02-06T04:28:39.139Z"
   },
   {
    "duration": 651,
    "start_time": "2025-02-06T04:28:39.745Z"
   },
   {
    "duration": 12,
    "start_time": "2025-02-06T04:28:40.397Z"
   },
   {
    "duration": 3,
    "start_time": "2025-02-06T04:28:40.411Z"
   },
   {
    "duration": 5,
    "start_time": "2025-02-06T04:28:40.415Z"
   },
   {
    "duration": 16,
    "start_time": "2025-02-06T04:28:40.422Z"
   },
   {
    "duration": 9,
    "start_time": "2025-02-06T04:28:40.440Z"
   },
   {
    "duration": 6,
    "start_time": "2025-02-06T04:28:40.453Z"
   },
   {
    "duration": 5,
    "start_time": "2025-02-06T04:28:40.460Z"
   },
   {
    "duration": 180,
    "start_time": "2025-02-06T04:28:40.467Z"
   },
   {
    "duration": 0,
    "start_time": "2025-02-06T04:28:40.649Z"
   },
   {
    "duration": 0,
    "start_time": "2025-02-06T04:28:40.650Z"
   },
   {
    "duration": 0,
    "start_time": "2025-02-06T04:28:40.652Z"
   },
   {
    "duration": 0,
    "start_time": "2025-02-06T04:28:40.653Z"
   },
   {
    "duration": 0,
    "start_time": "2025-02-06T04:28:40.654Z"
   },
   {
    "duration": 0,
    "start_time": "2025-02-06T04:28:40.655Z"
   },
   {
    "duration": 0,
    "start_time": "2025-02-06T04:28:40.656Z"
   },
   {
    "duration": 0,
    "start_time": "2025-02-06T04:28:40.657Z"
   },
   {
    "duration": 0,
    "start_time": "2025-02-06T04:28:40.657Z"
   },
   {
    "duration": 0,
    "start_time": "2025-02-06T04:28:40.659Z"
   },
   {
    "duration": 2380,
    "start_time": "2025-02-06T04:29:49.191Z"
   },
   {
    "duration": 1868,
    "start_time": "2025-02-06T04:29:51.574Z"
   },
   {
    "duration": 3,
    "start_time": "2025-02-06T04:29:53.443Z"
   },
   {
    "duration": 12,
    "start_time": "2025-02-06T04:29:53.448Z"
   },
   {
    "duration": 4,
    "start_time": "2025-02-06T04:29:53.461Z"
   },
   {
    "duration": 85,
    "start_time": "2025-02-06T04:29:53.466Z"
   },
   {
    "duration": 12,
    "start_time": "2025-02-06T04:29:53.553Z"
   },
   {
    "duration": 5,
    "start_time": "2025-02-06T04:29:53.566Z"
   },
   {
    "duration": 6,
    "start_time": "2025-02-06T04:29:53.573Z"
   },
   {
    "duration": 4,
    "start_time": "2025-02-06T04:29:53.582Z"
   },
   {
    "duration": 4,
    "start_time": "2025-02-06T04:29:53.587Z"
   },
   {
    "duration": 6,
    "start_time": "2025-02-06T04:29:53.592Z"
   },
   {
    "duration": 5,
    "start_time": "2025-02-06T04:29:53.599Z"
   },
   {
    "duration": 38,
    "start_time": "2025-02-06T04:29:53.606Z"
   },
   {
    "duration": 6,
    "start_time": "2025-02-06T04:29:53.646Z"
   },
   {
    "duration": 381,
    "start_time": "2025-02-06T04:29:53.654Z"
   },
   {
    "duration": 320,
    "start_time": "2025-02-06T04:29:54.036Z"
   },
   {
    "duration": 514,
    "start_time": "2025-02-06T04:29:54.357Z"
   },
   {
    "duration": 564,
    "start_time": "2025-02-06T04:29:54.872Z"
   },
   {
    "duration": 519,
    "start_time": "2025-02-06T04:29:55.438Z"
   },
   {
    "duration": 577,
    "start_time": "2025-02-06T04:29:55.959Z"
   },
   {
    "duration": 738,
    "start_time": "2025-02-06T04:29:56.537Z"
   },
   {
    "duration": 4,
    "start_time": "2025-02-06T04:29:57.276Z"
   },
   {
    "duration": 3,
    "start_time": "2025-02-06T04:29:57.281Z"
   },
   {
    "duration": 7,
    "start_time": "2025-02-06T04:29:57.285Z"
   },
   {
    "duration": 29,
    "start_time": "2025-02-06T04:29:57.293Z"
   },
   {
    "duration": 11,
    "start_time": "2025-02-06T04:29:57.324Z"
   },
   {
    "duration": 5,
    "start_time": "2025-02-06T04:29:57.339Z"
   },
   {
    "duration": 24,
    "start_time": "2025-02-06T04:29:57.345Z"
   },
   {
    "duration": 37654,
    "start_time": "2025-02-06T04:29:57.371Z"
   },
   {
    "duration": 4,
    "start_time": "2025-02-06T04:30:35.027Z"
   },
   {
    "duration": 557,
    "start_time": "2025-02-06T04:30:35.033Z"
   },
   {
    "duration": 7,
    "start_time": "2025-02-06T04:30:35.591Z"
   },
   {
    "duration": 36,
    "start_time": "2025-02-06T04:30:35.599Z"
   },
   {
    "duration": 56088,
    "start_time": "2025-02-06T04:30:35.637Z"
   },
   {
    "duration": 543,
    "start_time": "2025-02-06T04:31:31.726Z"
   },
   {
    "duration": 6,
    "start_time": "2025-02-06T04:31:32.270Z"
   },
   {
    "duration": 8,
    "start_time": "2025-02-06T04:31:32.278Z"
   },
   {
    "duration": 38529,
    "start_time": "2025-02-06T04:31:32.288Z"
   },
   {
    "duration": 472,
    "start_time": "2025-02-06T04:32:10.819Z"
   },
   {
    "duration": 16428,
    "start_time": "2025-02-06T05:14:43.292Z"
   },
   {
    "duration": 432,
    "start_time": "2025-02-06T05:15:15.672Z"
   },
   {
    "duration": 19909,
    "start_time": "2025-02-06T05:15:40.101Z"
   },
   {
    "duration": 565,
    "start_time": "2025-02-06T05:16:00.013Z"
   },
   {
    "duration": 51091,
    "start_time": "2025-02-06T05:16:11.519Z"
   },
   {
    "duration": 484,
    "start_time": "2025-02-06T05:17:02.612Z"
   },
   {
    "duration": 8038,
    "start_time": "2025-02-06T05:17:06.441Z"
   },
   {
    "duration": 0,
    "start_time": "2025-02-06T05:17:14.480Z"
   },
   {
    "duration": 2378,
    "start_time": "2025-02-06T05:17:30.592Z"
   },
   {
    "duration": 1840,
    "start_time": "2025-02-06T05:17:32.972Z"
   },
   {
    "duration": 3,
    "start_time": "2025-02-06T05:17:34.814Z"
   },
   {
    "duration": 15,
    "start_time": "2025-02-06T05:17:34.819Z"
   },
   {
    "duration": 8,
    "start_time": "2025-02-06T05:17:34.835Z"
   },
   {
    "duration": 60,
    "start_time": "2025-02-06T05:17:34.845Z"
   },
   {
    "duration": 12,
    "start_time": "2025-02-06T05:17:34.907Z"
   },
   {
    "duration": 9,
    "start_time": "2025-02-06T05:17:34.920Z"
   },
   {
    "duration": 7,
    "start_time": "2025-02-06T05:17:34.930Z"
   },
   {
    "duration": 8,
    "start_time": "2025-02-06T05:17:34.939Z"
   },
   {
    "duration": 10,
    "start_time": "2025-02-06T05:17:34.948Z"
   },
   {
    "duration": 9,
    "start_time": "2025-02-06T05:17:34.959Z"
   },
   {
    "duration": 4,
    "start_time": "2025-02-06T05:17:34.969Z"
   },
   {
    "duration": 15,
    "start_time": "2025-02-06T05:17:34.974Z"
   },
   {
    "duration": 5,
    "start_time": "2025-02-06T05:17:34.990Z"
   },
   {
    "duration": 341,
    "start_time": "2025-02-06T05:17:35.009Z"
   },
   {
    "duration": 361,
    "start_time": "2025-02-06T05:17:35.352Z"
   },
   {
    "duration": 532,
    "start_time": "2025-02-06T05:17:35.715Z"
   },
   {
    "duration": 498,
    "start_time": "2025-02-06T05:17:36.249Z"
   },
   {
    "duration": 517,
    "start_time": "2025-02-06T05:17:36.749Z"
   },
   {
    "duration": 575,
    "start_time": "2025-02-06T05:17:37.268Z"
   },
   {
    "duration": 734,
    "start_time": "2025-02-06T05:17:37.845Z"
   },
   {
    "duration": 4,
    "start_time": "2025-02-06T05:17:38.581Z"
   },
   {
    "duration": 4,
    "start_time": "2025-02-06T05:17:38.586Z"
   },
   {
    "duration": 20,
    "start_time": "2025-02-06T05:17:38.592Z"
   },
   {
    "duration": 16,
    "start_time": "2025-02-06T05:17:38.614Z"
   },
   {
    "duration": 4,
    "start_time": "2025-02-06T05:17:38.632Z"
   },
   {
    "duration": 5,
    "start_time": "2025-02-06T05:17:38.640Z"
   },
   {
    "duration": 8,
    "start_time": "2025-02-06T05:17:38.647Z"
   },
   {
    "duration": 38957,
    "start_time": "2025-02-06T05:17:38.656Z"
   },
   {
    "duration": 5,
    "start_time": "2025-02-06T05:18:17.614Z"
   },
   {
    "duration": 462,
    "start_time": "2025-02-06T05:18:17.621Z"
   },
   {
    "duration": 6,
    "start_time": "2025-02-06T05:18:18.084Z"
   },
   {
    "duration": 67,
    "start_time": "2025-02-06T05:18:18.092Z"
   },
   {
    "duration": 50065,
    "start_time": "2025-02-06T05:18:18.161Z"
   },
   {
    "duration": 515,
    "start_time": "2025-02-06T05:19:08.227Z"
   },
   {
    "duration": 6,
    "start_time": "2025-02-06T05:19:08.744Z"
   },
   {
    "duration": 13,
    "start_time": "2025-02-06T05:19:08.751Z"
   },
   {
    "duration": 38954,
    "start_time": "2025-02-06T05:19:08.765Z"
   },
   {
    "duration": 476,
    "start_time": "2025-02-06T05:19:47.720Z"
   },
   {
    "duration": 4940,
    "start_time": "2025-02-09T11:26:57.083Z"
   },
   {
    "duration": 2170,
    "start_time": "2025-02-09T11:27:02.025Z"
   },
   {
    "duration": 0,
    "start_time": "2025-02-09T11:27:04.198Z"
   },
   {
    "duration": 0,
    "start_time": "2025-02-09T11:27:04.199Z"
   },
   {
    "duration": 0,
    "start_time": "2025-02-09T11:27:04.200Z"
   },
   {
    "duration": 0,
    "start_time": "2025-02-09T11:27:04.201Z"
   },
   {
    "duration": 0,
    "start_time": "2025-02-09T11:27:04.203Z"
   },
   {
    "duration": 0,
    "start_time": "2025-02-09T11:27:04.204Z"
   },
   {
    "duration": 0,
    "start_time": "2025-02-09T11:27:04.205Z"
   },
   {
    "duration": 0,
    "start_time": "2025-02-09T11:27:04.206Z"
   },
   {
    "duration": 0,
    "start_time": "2025-02-09T11:27:04.207Z"
   },
   {
    "duration": 0,
    "start_time": "2025-02-09T11:27:04.208Z"
   },
   {
    "duration": 0,
    "start_time": "2025-02-09T11:27:04.210Z"
   },
   {
    "duration": 0,
    "start_time": "2025-02-09T11:27:04.211Z"
   },
   {
    "duration": 0,
    "start_time": "2025-02-09T11:27:04.213Z"
   },
   {
    "duration": 0,
    "start_time": "2025-02-09T11:27:04.214Z"
   },
   {
    "duration": 0,
    "start_time": "2025-02-09T11:27:04.215Z"
   },
   {
    "duration": 0,
    "start_time": "2025-02-09T11:27:04.216Z"
   },
   {
    "duration": 0,
    "start_time": "2025-02-09T11:27:04.217Z"
   },
   {
    "duration": 0,
    "start_time": "2025-02-09T11:27:04.258Z"
   },
   {
    "duration": 0,
    "start_time": "2025-02-09T11:27:04.259Z"
   },
   {
    "duration": 0,
    "start_time": "2025-02-09T11:27:04.260Z"
   },
   {
    "duration": 1,
    "start_time": "2025-02-09T11:27:04.261Z"
   },
   {
    "duration": 0,
    "start_time": "2025-02-09T11:27:04.263Z"
   },
   {
    "duration": 0,
    "start_time": "2025-02-09T11:27:04.264Z"
   },
   {
    "duration": 0,
    "start_time": "2025-02-09T11:27:04.265Z"
   },
   {
    "duration": 0,
    "start_time": "2025-02-09T11:27:04.266Z"
   },
   {
    "duration": 0,
    "start_time": "2025-02-09T11:27:04.267Z"
   },
   {
    "duration": 0,
    "start_time": "2025-02-09T11:27:04.268Z"
   },
   {
    "duration": 0,
    "start_time": "2025-02-09T11:27:04.269Z"
   },
   {
    "duration": 0,
    "start_time": "2025-02-09T11:27:04.270Z"
   },
   {
    "duration": 0,
    "start_time": "2025-02-09T11:27:04.271Z"
   },
   {
    "duration": 0,
    "start_time": "2025-02-09T11:27:04.273Z"
   },
   {
    "duration": 0,
    "start_time": "2025-02-09T11:27:04.274Z"
   },
   {
    "duration": 0,
    "start_time": "2025-02-09T11:27:04.275Z"
   },
   {
    "duration": 0,
    "start_time": "2025-02-09T11:27:04.276Z"
   },
   {
    "duration": 0,
    "start_time": "2025-02-09T11:27:04.277Z"
   },
   {
    "duration": 0,
    "start_time": "2025-02-09T11:27:04.278Z"
   },
   {
    "duration": 0,
    "start_time": "2025-02-09T11:27:04.280Z"
   },
   {
    "duration": 5813,
    "start_time": "2025-02-09T11:27:24.904Z"
   },
   {
    "duration": 4821,
    "start_time": "2025-02-09T11:27:45.291Z"
   },
   {
    "duration": 1960,
    "start_time": "2025-02-09T11:27:50.115Z"
   },
   {
    "duration": 3,
    "start_time": "2025-02-09T11:27:52.079Z"
   },
   {
    "duration": 9,
    "start_time": "2025-02-09T11:27:52.085Z"
   },
   {
    "duration": 51,
    "start_time": "2025-02-09T11:27:52.095Z"
   },
   {
    "duration": 11,
    "start_time": "2025-02-09T11:27:52.148Z"
   },
   {
    "duration": 3,
    "start_time": "2025-02-09T11:27:52.161Z"
   },
   {
    "duration": 6,
    "start_time": "2025-02-09T11:27:52.166Z"
   },
   {
    "duration": 14,
    "start_time": "2025-02-09T11:27:52.174Z"
   },
   {
    "duration": 4,
    "start_time": "2025-02-09T11:27:52.189Z"
   },
   {
    "duration": 4,
    "start_time": "2025-02-09T11:27:52.194Z"
   },
   {
    "duration": 4,
    "start_time": "2025-02-09T11:27:52.199Z"
   },
   {
    "duration": 6,
    "start_time": "2025-02-09T11:27:52.206Z"
   },
   {
    "duration": 5,
    "start_time": "2025-02-09T11:27:52.214Z"
   },
   {
    "duration": 372,
    "start_time": "2025-02-09T11:27:52.220Z"
   },
   {
    "duration": 328,
    "start_time": "2025-02-09T11:27:52.593Z"
   },
   {
    "duration": 571,
    "start_time": "2025-02-09T11:27:52.922Z"
   },
   {
    "duration": 519,
    "start_time": "2025-02-09T11:27:53.494Z"
   },
   {
    "duration": 570,
    "start_time": "2025-02-09T11:27:54.014Z"
   },
   {
    "duration": 614,
    "start_time": "2025-02-09T11:27:54.585Z"
   },
   {
    "duration": 619,
    "start_time": "2025-02-09T11:27:55.201Z"
   },
   {
    "duration": 4,
    "start_time": "2025-02-09T11:27:55.822Z"
   },
   {
    "duration": 3,
    "start_time": "2025-02-09T11:27:55.828Z"
   },
   {
    "duration": 7,
    "start_time": "2025-02-09T11:27:55.832Z"
   },
   {
    "duration": 33,
    "start_time": "2025-02-09T11:27:55.840Z"
   },
   {
    "duration": 5,
    "start_time": "2025-02-09T11:27:55.874Z"
   },
   {
    "duration": 5,
    "start_time": "2025-02-09T11:27:55.880Z"
   },
   {
    "duration": 6,
    "start_time": "2025-02-09T11:27:55.887Z"
   },
   {
    "duration": 8,
    "start_time": "2025-02-09T11:27:55.894Z"
   },
   {
    "duration": 6,
    "start_time": "2025-02-09T11:27:55.903Z"
   },
   {
    "duration": 28204,
    "start_time": "2025-02-09T11:27:55.910Z"
   },
   {
    "duration": 0,
    "start_time": "2025-02-09T11:28:24.116Z"
   },
   {
    "duration": 0,
    "start_time": "2025-02-09T11:28:24.118Z"
   },
   {
    "duration": 0,
    "start_time": "2025-02-09T11:28:24.120Z"
   },
   {
    "duration": 0,
    "start_time": "2025-02-09T11:28:24.121Z"
   },
   {
    "duration": 0,
    "start_time": "2025-02-09T11:28:24.123Z"
   },
   {
    "duration": 0,
    "start_time": "2025-02-09T11:28:24.124Z"
   },
   {
    "duration": 0,
    "start_time": "2025-02-09T11:28:24.125Z"
   },
   {
    "duration": 0,
    "start_time": "2025-02-09T11:28:24.127Z"
   },
   {
    "duration": 4869,
    "start_time": "2025-02-09T11:28:34.811Z"
   },
   {
    "duration": 1851,
    "start_time": "2025-02-09T11:28:39.682Z"
   },
   {
    "duration": 3,
    "start_time": "2025-02-09T11:28:41.534Z"
   },
   {
    "duration": 5,
    "start_time": "2025-02-09T11:28:41.539Z"
   },
   {
    "duration": 48,
    "start_time": "2025-02-09T11:28:41.546Z"
   },
   {
    "duration": 11,
    "start_time": "2025-02-09T11:28:41.596Z"
   },
   {
    "duration": 6,
    "start_time": "2025-02-09T11:28:41.609Z"
   },
   {
    "duration": 9,
    "start_time": "2025-02-09T11:28:41.617Z"
   },
   {
    "duration": 8,
    "start_time": "2025-02-09T11:28:41.627Z"
   },
   {
    "duration": 4,
    "start_time": "2025-02-09T11:28:41.638Z"
   },
   {
    "duration": 4,
    "start_time": "2025-02-09T11:28:41.643Z"
   },
   {
    "duration": 11,
    "start_time": "2025-02-09T11:28:41.648Z"
   },
   {
    "duration": 9,
    "start_time": "2025-02-09T11:28:41.660Z"
   },
   {
    "duration": 5,
    "start_time": "2025-02-09T11:28:41.671Z"
   },
   {
    "duration": 341,
    "start_time": "2025-02-09T11:28:41.677Z"
   },
   {
    "duration": 356,
    "start_time": "2025-02-09T11:28:42.020Z"
   },
   {
    "duration": 522,
    "start_time": "2025-02-09T11:28:42.378Z"
   },
   {
    "duration": 500,
    "start_time": "2025-02-09T11:28:42.902Z"
   },
   {
    "duration": 597,
    "start_time": "2025-02-09T11:28:43.404Z"
   },
   {
    "duration": 595,
    "start_time": "2025-02-09T11:28:44.003Z"
   },
   {
    "duration": 677,
    "start_time": "2025-02-09T11:28:44.599Z"
   },
   {
    "duration": 4,
    "start_time": "2025-02-09T11:28:45.277Z"
   },
   {
    "duration": 26,
    "start_time": "2025-02-09T11:28:45.282Z"
   },
   {
    "duration": 9,
    "start_time": "2025-02-09T11:28:45.310Z"
   },
   {
    "duration": 16,
    "start_time": "2025-02-09T11:28:45.320Z"
   },
   {
    "duration": 5,
    "start_time": "2025-02-09T11:28:45.337Z"
   },
   {
    "duration": 6,
    "start_time": "2025-02-09T11:28:45.343Z"
   },
   {
    "duration": 13,
    "start_time": "2025-02-09T11:28:45.351Z"
   },
   {
    "duration": 6,
    "start_time": "2025-02-09T11:28:45.365Z"
   },
   {
    "duration": 15,
    "start_time": "2025-02-09T11:28:45.373Z"
   },
   {
    "duration": 77051,
    "start_time": "2025-02-09T11:28:45.390Z"
   },
   {
    "duration": 3,
    "start_time": "2025-02-09T11:30:02.443Z"
   },
   {
    "duration": 30,
    "start_time": "2025-02-09T11:30:02.447Z"
   },
   {
    "duration": 36,
    "start_time": "2025-02-09T11:30:02.479Z"
   },
   {
    "duration": 101165,
    "start_time": "2025-02-09T11:30:02.517Z"
   },
   {
    "duration": 8,
    "start_time": "2025-02-09T11:31:43.684Z"
   },
   {
    "duration": 5,
    "start_time": "2025-02-09T11:31:43.694Z"
   },
   {
    "duration": 8,
    "start_time": "2025-02-09T11:31:43.701Z"
   },
   {
    "duration": 88293,
    "start_time": "2025-02-09T11:31:43.711Z"
   },
   {
    "duration": 6,
    "start_time": "2025-02-09T11:33:40.703Z"
   },
   {
    "duration": 7,
    "start_time": "2025-02-09T11:34:51.708Z"
   },
   {
    "duration": 5,
    "start_time": "2025-02-09T11:34:52.175Z"
   },
   {
    "duration": 146,
    "start_time": "2025-02-09T11:34:52.610Z"
   },
   {
    "duration": 12,
    "start_time": "2025-02-09T11:35:29.802Z"
   },
   {
    "duration": 4873,
    "start_time": "2025-02-09T11:35:37.278Z"
   },
   {
    "duration": 1891,
    "start_time": "2025-02-09T11:35:42.154Z"
   },
   {
    "duration": 3,
    "start_time": "2025-02-09T11:35:44.047Z"
   },
   {
    "duration": 3,
    "start_time": "2025-02-09T11:35:44.052Z"
   },
   {
    "duration": 46,
    "start_time": "2025-02-09T11:35:44.057Z"
   },
   {
    "duration": 12,
    "start_time": "2025-02-09T11:35:44.104Z"
   },
   {
    "duration": 3,
    "start_time": "2025-02-09T11:35:44.118Z"
   },
   {
    "duration": 6,
    "start_time": "2025-02-09T11:35:44.122Z"
   },
   {
    "duration": 5,
    "start_time": "2025-02-09T11:35:44.129Z"
   },
   {
    "duration": 3,
    "start_time": "2025-02-09T11:35:44.137Z"
   },
   {
    "duration": 4,
    "start_time": "2025-02-09T11:35:44.142Z"
   },
   {
    "duration": 12,
    "start_time": "2025-02-09T11:35:44.148Z"
   },
   {
    "duration": 15,
    "start_time": "2025-02-09T11:35:44.162Z"
   },
   {
    "duration": 7,
    "start_time": "2025-02-09T11:35:44.179Z"
   },
   {
    "duration": 350,
    "start_time": "2025-02-09T11:35:44.188Z"
   },
   {
    "duration": 339,
    "start_time": "2025-02-09T11:35:44.540Z"
   },
   {
    "duration": 546,
    "start_time": "2025-02-09T11:35:44.881Z"
   },
   {
    "duration": 563,
    "start_time": "2025-02-09T11:35:45.428Z"
   },
   {
    "duration": 512,
    "start_time": "2025-02-09T11:35:45.993Z"
   },
   {
    "duration": 674,
    "start_time": "2025-02-09T11:35:46.506Z"
   },
   {
    "duration": 636,
    "start_time": "2025-02-09T11:35:47.182Z"
   },
   {
    "duration": 4,
    "start_time": "2025-02-09T11:35:47.819Z"
   },
   {
    "duration": 4,
    "start_time": "2025-02-09T11:35:47.824Z"
   },
   {
    "duration": 5,
    "start_time": "2025-02-09T11:35:47.829Z"
   },
   {
    "duration": 34,
    "start_time": "2025-02-09T11:35:47.836Z"
   },
   {
    "duration": 7,
    "start_time": "2025-02-09T11:35:47.871Z"
   },
   {
    "duration": 5,
    "start_time": "2025-02-09T11:35:47.879Z"
   },
   {
    "duration": 5,
    "start_time": "2025-02-09T11:35:47.887Z"
   },
   {
    "duration": 5,
    "start_time": "2025-02-09T11:35:47.894Z"
   },
   {
    "duration": 6,
    "start_time": "2025-02-09T11:35:47.900Z"
   },
   {
    "duration": 6,
    "start_time": "2025-02-09T11:35:47.908Z"
   },
   {
    "duration": 163,
    "start_time": "2025-02-09T11:35:47.915Z"
   },
   {
    "duration": 0,
    "start_time": "2025-02-09T11:35:48.080Z"
   },
   {
    "duration": 0,
    "start_time": "2025-02-09T11:35:48.081Z"
   },
   {
    "duration": 0,
    "start_time": "2025-02-09T11:35:48.082Z"
   },
   {
    "duration": 0,
    "start_time": "2025-02-09T11:35:48.083Z"
   },
   {
    "duration": 0,
    "start_time": "2025-02-09T11:35:48.085Z"
   },
   {
    "duration": 0,
    "start_time": "2025-02-09T11:35:48.086Z"
   },
   {
    "duration": 0,
    "start_time": "2025-02-09T11:35:48.087Z"
   },
   {
    "duration": 0,
    "start_time": "2025-02-09T11:35:48.088Z"
   },
   {
    "duration": 4912,
    "start_time": "2025-02-09T11:36:11.681Z"
   },
   {
    "duration": 1854,
    "start_time": "2025-02-09T11:36:16.596Z"
   },
   {
    "duration": 3,
    "start_time": "2025-02-09T11:36:18.452Z"
   },
   {
    "duration": 3,
    "start_time": "2025-02-09T11:36:18.457Z"
   },
   {
    "duration": 44,
    "start_time": "2025-02-09T11:36:18.462Z"
   },
   {
    "duration": 12,
    "start_time": "2025-02-09T11:36:18.507Z"
   },
   {
    "duration": 4,
    "start_time": "2025-02-09T11:36:18.520Z"
   },
   {
    "duration": 6,
    "start_time": "2025-02-09T11:36:18.525Z"
   },
   {
    "duration": 4,
    "start_time": "2025-02-09T11:36:18.532Z"
   },
   {
    "duration": 3,
    "start_time": "2025-02-09T11:36:18.540Z"
   },
   {
    "duration": 14,
    "start_time": "2025-02-09T11:36:18.544Z"
   },
   {
    "duration": 4,
    "start_time": "2025-02-09T11:36:18.559Z"
   },
   {
    "duration": 13,
    "start_time": "2025-02-09T11:36:18.564Z"
   },
   {
    "duration": 6,
    "start_time": "2025-02-09T11:36:18.578Z"
   },
   {
    "duration": 385,
    "start_time": "2025-02-09T11:36:18.585Z"
   },
   {
    "duration": 326,
    "start_time": "2025-02-09T11:36:18.972Z"
   },
   {
    "duration": 501,
    "start_time": "2025-02-09T11:36:19.299Z"
   },
   {
    "duration": 498,
    "start_time": "2025-02-09T11:36:19.802Z"
   },
   {
    "duration": 505,
    "start_time": "2025-02-09T11:36:20.302Z"
   },
   {
    "duration": 673,
    "start_time": "2025-02-09T11:36:20.808Z"
   },
   {
    "duration": 651,
    "start_time": "2025-02-09T11:36:21.483Z"
   },
   {
    "duration": 4,
    "start_time": "2025-02-09T11:36:22.136Z"
   },
   {
    "duration": 3,
    "start_time": "2025-02-09T11:36:22.141Z"
   },
   {
    "duration": 5,
    "start_time": "2025-02-09T11:36:22.158Z"
   },
   {
    "duration": 16,
    "start_time": "2025-02-09T11:36:22.165Z"
   },
   {
    "duration": 5,
    "start_time": "2025-02-09T11:36:22.183Z"
   },
   {
    "duration": 5,
    "start_time": "2025-02-09T11:36:22.189Z"
   },
   {
    "duration": 6,
    "start_time": "2025-02-09T11:36:22.197Z"
   },
   {
    "duration": 6,
    "start_time": "2025-02-09T11:36:22.204Z"
   },
   {
    "duration": 6,
    "start_time": "2025-02-09T11:36:22.212Z"
   },
   {
    "duration": 39,
    "start_time": "2025-02-09T11:36:22.219Z"
   },
   {
    "duration": 147,
    "start_time": "2025-02-09T11:36:22.260Z"
   },
   {
    "duration": 0,
    "start_time": "2025-02-09T11:36:22.408Z"
   },
   {
    "duration": 0,
    "start_time": "2025-02-09T11:36:22.409Z"
   },
   {
    "duration": 0,
    "start_time": "2025-02-09T11:36:22.410Z"
   },
   {
    "duration": 0,
    "start_time": "2025-02-09T11:36:22.411Z"
   },
   {
    "duration": 0,
    "start_time": "2025-02-09T11:36:22.413Z"
   },
   {
    "duration": 0,
    "start_time": "2025-02-09T11:36:22.414Z"
   },
   {
    "duration": 0,
    "start_time": "2025-02-09T11:36:22.415Z"
   },
   {
    "duration": 0,
    "start_time": "2025-02-09T11:36:22.416Z"
   },
   {
    "duration": 4855,
    "start_time": "2025-02-09T11:36:41.163Z"
   },
   {
    "duration": 1906,
    "start_time": "2025-02-09T11:36:46.021Z"
   },
   {
    "duration": 3,
    "start_time": "2025-02-09T11:36:47.929Z"
   },
   {
    "duration": 4,
    "start_time": "2025-02-09T11:36:47.934Z"
   },
   {
    "duration": 44,
    "start_time": "2025-02-09T11:36:47.940Z"
   },
   {
    "duration": 11,
    "start_time": "2025-02-09T11:36:47.986Z"
   },
   {
    "duration": 4,
    "start_time": "2025-02-09T11:36:47.999Z"
   },
   {
    "duration": 6,
    "start_time": "2025-02-09T11:36:48.005Z"
   },
   {
    "duration": 4,
    "start_time": "2025-02-09T11:36:48.013Z"
   },
   {
    "duration": 3,
    "start_time": "2025-02-09T11:36:48.021Z"
   },
   {
    "duration": 3,
    "start_time": "2025-02-09T11:36:48.026Z"
   },
   {
    "duration": 4,
    "start_time": "2025-02-09T11:36:48.031Z"
   },
   {
    "duration": 8,
    "start_time": "2025-02-09T11:36:48.036Z"
   },
   {
    "duration": 5,
    "start_time": "2025-02-09T11:36:48.057Z"
   },
   {
    "duration": 330,
    "start_time": "2025-02-09T11:36:48.064Z"
   },
   {
    "duration": 341,
    "start_time": "2025-02-09T11:36:48.395Z"
   },
   {
    "duration": 554,
    "start_time": "2025-02-09T11:36:48.737Z"
   },
   {
    "duration": 490,
    "start_time": "2025-02-09T11:36:49.292Z"
   },
   {
    "duration": 516,
    "start_time": "2025-02-09T11:36:49.783Z"
   },
   {
    "duration": 673,
    "start_time": "2025-02-09T11:36:50.302Z"
   },
   {
    "duration": 670,
    "start_time": "2025-02-09T11:36:50.977Z"
   },
   {
    "duration": 8,
    "start_time": "2025-02-09T11:36:51.649Z"
   },
   {
    "duration": 4,
    "start_time": "2025-02-09T11:36:51.659Z"
   },
   {
    "duration": 6,
    "start_time": "2025-02-09T11:36:51.665Z"
   },
   {
    "duration": 17,
    "start_time": "2025-02-09T11:36:51.672Z"
   },
   {
    "duration": 4,
    "start_time": "2025-02-09T11:36:51.691Z"
   },
   {
    "duration": 4,
    "start_time": "2025-02-09T11:36:51.697Z"
   },
   {
    "duration": 5,
    "start_time": "2025-02-09T11:36:51.705Z"
   },
   {
    "duration": 6,
    "start_time": "2025-02-09T11:36:51.711Z"
   },
   {
    "duration": 42,
    "start_time": "2025-02-09T11:36:51.718Z"
   },
   {
    "duration": 6,
    "start_time": "2025-02-09T11:36:51.762Z"
   },
   {
    "duration": 77361,
    "start_time": "2025-02-09T11:36:51.770Z"
   },
   {
    "duration": 4,
    "start_time": "2025-02-09T11:38:09.132Z"
   },
   {
    "duration": 6,
    "start_time": "2025-02-09T11:38:09.138Z"
   },
   {
    "duration": 15,
    "start_time": "2025-02-09T11:38:09.146Z"
   },
   {
    "duration": 218,
    "start_time": "2025-02-09T11:38:09.162Z"
   },
   {
    "duration": 0,
    "start_time": "2025-02-09T11:38:09.382Z"
   },
   {
    "duration": 0,
    "start_time": "2025-02-09T11:38:09.383Z"
   },
   {
    "duration": 0,
    "start_time": "2025-02-09T11:38:09.384Z"
   },
   {
    "duration": 0,
    "start_time": "2025-02-09T11:38:09.385Z"
   },
   {
    "duration": 6,
    "start_time": "2025-02-09T11:39:38.392Z"
   },
   {
    "duration": 469662,
    "start_time": "2025-02-09T11:39:41.856Z"
   },
   {
    "duration": 8,
    "start_time": "2025-02-09T11:47:52.943Z"
   },
   {
    "duration": 3,
    "start_time": "2025-02-09T11:47:53.183Z"
   },
   {
    "duration": 6,
    "start_time": "2025-02-09T11:47:53.422Z"
   },
   {
    "duration": 10,
    "start_time": "2025-02-09T11:47:53.661Z"
   },
   {
    "duration": 395742,
    "start_time": "2025-02-09T11:48:10.601Z"
   },
   {
    "duration": 8,
    "start_time": "2025-02-09T11:55:50.751Z"
   },
   {
    "duration": 3,
    "start_time": "2025-02-09T11:55:51.128Z"
   },
   {
    "duration": 4,
    "start_time": "2025-02-09T11:55:51.406Z"
   },
   {
    "duration": 88495,
    "start_time": "2025-02-09T11:55:51.833Z"
   },
   {
    "duration": 125,
    "start_time": "2025-02-09T12:00:56.352Z"
   },
   {
    "duration": 3,
    "start_time": "2025-02-09T12:00:56.811Z"
   },
   {
    "duration": 6,
    "start_time": "2025-02-09T12:00:57.277Z"
   },
   {
    "duration": 17550,
    "start_time": "2025-02-09T12:00:57.826Z"
   },
   {
    "duration": 8,
    "start_time": "2025-02-09T12:01:33.410Z"
   },
   {
    "duration": 4,
    "start_time": "2025-02-09T12:01:33.741Z"
   },
   {
    "duration": 6,
    "start_time": "2025-02-09T12:01:34.062Z"
   },
   {
    "duration": 7894,
    "start_time": "2025-02-09T12:01:34.379Z"
   },
   {
    "duration": 4899,
    "start_time": "2025-02-09T12:01:45.409Z"
   },
   {
    "duration": 1887,
    "start_time": "2025-02-09T12:01:50.311Z"
   },
   {
    "duration": 3,
    "start_time": "2025-02-09T12:01:52.200Z"
   },
   {
    "duration": 10,
    "start_time": "2025-02-09T12:01:52.205Z"
   },
   {
    "duration": 47,
    "start_time": "2025-02-09T12:01:52.216Z"
   },
   {
    "duration": 13,
    "start_time": "2025-02-09T12:01:52.265Z"
   },
   {
    "duration": 7,
    "start_time": "2025-02-09T12:01:52.280Z"
   },
   {
    "duration": 7,
    "start_time": "2025-02-09T12:01:52.289Z"
   },
   {
    "duration": 6,
    "start_time": "2025-02-09T12:01:52.297Z"
   },
   {
    "duration": 3,
    "start_time": "2025-02-09T12:01:52.307Z"
   },
   {
    "duration": 5,
    "start_time": "2025-02-09T12:01:52.312Z"
   },
   {
    "duration": 7,
    "start_time": "2025-02-09T12:01:52.318Z"
   },
   {
    "duration": 9,
    "start_time": "2025-02-09T12:01:52.358Z"
   },
   {
    "duration": 8,
    "start_time": "2025-02-09T12:01:52.368Z"
   },
   {
    "duration": 388,
    "start_time": "2025-02-09T12:01:52.378Z"
   },
   {
    "duration": 335,
    "start_time": "2025-02-09T12:01:52.767Z"
   },
   {
    "duration": 578,
    "start_time": "2025-02-09T12:01:53.104Z"
   },
   {
    "duration": 504,
    "start_time": "2025-02-09T12:01:53.684Z"
   },
   {
    "duration": 518,
    "start_time": "2025-02-09T12:01:54.190Z"
   },
   {
    "duration": 691,
    "start_time": "2025-02-09T12:01:54.710Z"
   },
   {
    "duration": 647,
    "start_time": "2025-02-09T12:01:55.403Z"
   },
   {
    "duration": 6,
    "start_time": "2025-02-09T12:01:56.052Z"
   },
   {
    "duration": 10,
    "start_time": "2025-02-09T12:01:56.059Z"
   },
   {
    "duration": 6,
    "start_time": "2025-02-09T12:01:56.070Z"
   },
   {
    "duration": 16,
    "start_time": "2025-02-09T12:01:56.078Z"
   },
   {
    "duration": 4,
    "start_time": "2025-02-09T12:01:56.095Z"
   },
   {
    "duration": 4,
    "start_time": "2025-02-09T12:01:56.101Z"
   },
   {
    "duration": 5,
    "start_time": "2025-02-09T12:01:56.109Z"
   },
   {
    "duration": 5,
    "start_time": "2025-02-09T12:01:56.116Z"
   },
   {
    "duration": 40,
    "start_time": "2025-02-09T12:01:56.123Z"
   },
   {
    "duration": 10,
    "start_time": "2025-02-09T12:01:56.164Z"
   },
   {
    "duration": 99263,
    "start_time": "2025-02-09T12:01:56.177Z"
   },
   {
    "duration": 3,
    "start_time": "2025-02-09T12:03:35.442Z"
   },
   {
    "duration": 21,
    "start_time": "2025-02-09T12:03:35.447Z"
   },
   {
    "duration": 28,
    "start_time": "2025-02-09T12:03:35.470Z"
   },
   {
    "duration": 210826,
    "start_time": "2025-02-09T12:03:35.500Z"
   },
   {
    "duration": 0,
    "start_time": "2025-02-09T12:07:06.328Z"
   },
   {
    "duration": 0,
    "start_time": "2025-02-09T12:07:06.330Z"
   },
   {
    "duration": 0,
    "start_time": "2025-02-09T12:07:06.331Z"
   },
   {
    "duration": 0,
    "start_time": "2025-02-09T12:07:06.332Z"
   },
   {
    "duration": 4960,
    "start_time": "2025-02-09T12:07:09.087Z"
   },
   {
    "duration": 1923,
    "start_time": "2025-02-09T12:07:14.049Z"
   },
   {
    "duration": 3,
    "start_time": "2025-02-09T12:07:15.973Z"
   },
   {
    "duration": 6,
    "start_time": "2025-02-09T12:07:15.978Z"
   },
   {
    "duration": 47,
    "start_time": "2025-02-09T12:07:15.986Z"
   },
   {
    "duration": 12,
    "start_time": "2025-02-09T12:07:16.034Z"
   },
   {
    "duration": 4,
    "start_time": "2025-02-09T12:07:16.048Z"
   },
   {
    "duration": 6,
    "start_time": "2025-02-09T12:07:16.053Z"
   },
   {
    "duration": 6,
    "start_time": "2025-02-09T12:07:16.061Z"
   },
   {
    "duration": 6,
    "start_time": "2025-02-09T12:07:16.068Z"
   },
   {
    "duration": 4,
    "start_time": "2025-02-09T12:07:16.075Z"
   },
   {
    "duration": 6,
    "start_time": "2025-02-09T12:07:16.080Z"
   },
   {
    "duration": 8,
    "start_time": "2025-02-09T12:07:16.087Z"
   },
   {
    "duration": 5,
    "start_time": "2025-02-09T12:07:16.098Z"
   },
   {
    "duration": 416,
    "start_time": "2025-02-09T12:07:16.105Z"
   },
   {
    "duration": 445,
    "start_time": "2025-02-09T12:07:16.522Z"
   },
   {
    "duration": 535,
    "start_time": "2025-02-09T12:07:16.969Z"
   },
   {
    "duration": 582,
    "start_time": "2025-02-09T12:07:17.506Z"
   },
   {
    "duration": 518,
    "start_time": "2025-02-09T12:07:18.090Z"
   },
   {
    "duration": 674,
    "start_time": "2025-02-09T12:07:18.610Z"
   },
   {
    "duration": 643,
    "start_time": "2025-02-09T12:07:19.285Z"
   },
   {
    "duration": 4,
    "start_time": "2025-02-09T12:07:19.929Z"
   },
   {
    "duration": 4,
    "start_time": "2025-02-09T12:07:19.934Z"
   },
   {
    "duration": 19,
    "start_time": "2025-02-09T12:07:19.939Z"
   },
   {
    "duration": 16,
    "start_time": "2025-02-09T12:07:19.959Z"
   },
   {
    "duration": 4,
    "start_time": "2025-02-09T12:07:19.976Z"
   },
   {
    "duration": 4,
    "start_time": "2025-02-09T12:07:19.982Z"
   },
   {
    "duration": 6,
    "start_time": "2025-02-09T12:07:19.987Z"
   },
   {
    "duration": 11,
    "start_time": "2025-02-09T12:07:19.994Z"
   },
   {
    "duration": 6,
    "start_time": "2025-02-09T12:07:20.007Z"
   },
   {
    "duration": 10,
    "start_time": "2025-02-09T12:07:20.014Z"
   },
   {
    "duration": 78133,
    "start_time": "2025-02-09T12:07:20.025Z"
   },
   {
    "duration": 3,
    "start_time": "2025-02-09T12:08:38.160Z"
   },
   {
    "duration": 6,
    "start_time": "2025-02-09T12:08:38.164Z"
   },
   {
    "duration": 13,
    "start_time": "2025-02-09T12:08:38.172Z"
   },
   {
    "duration": 361568,
    "start_time": "2025-02-09T12:08:38.187Z"
   },
   {
    "duration": 8,
    "start_time": "2025-02-09T12:14:39.756Z"
   },
   {
    "duration": 6,
    "start_time": "2025-02-09T12:14:39.765Z"
   },
   {
    "duration": 6,
    "start_time": "2025-02-09T12:14:39.773Z"
   },
   {
    "duration": 88347,
    "start_time": "2025-02-09T12:14:39.780Z"
   },
   {
    "duration": 4951,
    "start_time": "2025-02-09T12:17:02.055Z"
   },
   {
    "duration": 2009,
    "start_time": "2025-02-09T12:17:07.008Z"
   },
   {
    "duration": 3,
    "start_time": "2025-02-09T12:17:09.018Z"
   },
   {
    "duration": 4,
    "start_time": "2025-02-09T12:17:09.023Z"
   },
   {
    "duration": 77,
    "start_time": "2025-02-09T12:17:09.029Z"
   },
   {
    "duration": 11,
    "start_time": "2025-02-09T12:17:09.108Z"
   },
   {
    "duration": 4,
    "start_time": "2025-02-09T12:17:09.121Z"
   },
   {
    "duration": 9,
    "start_time": "2025-02-09T12:17:09.126Z"
   },
   {
    "duration": 5,
    "start_time": "2025-02-09T12:17:09.136Z"
   },
   {
    "duration": 3,
    "start_time": "2025-02-09T12:17:09.145Z"
   },
   {
    "duration": 4,
    "start_time": "2025-02-09T12:17:09.150Z"
   },
   {
    "duration": 3,
    "start_time": "2025-02-09T12:17:09.156Z"
   },
   {
    "duration": 9,
    "start_time": "2025-02-09T12:17:09.161Z"
   },
   {
    "duration": 6,
    "start_time": "2025-02-09T12:17:09.171Z"
   },
   {
    "duration": 404,
    "start_time": "2025-02-09T12:17:09.179Z"
   },
   {
    "duration": 380,
    "start_time": "2025-02-09T12:17:09.585Z"
   },
   {
    "duration": 536,
    "start_time": "2025-02-09T12:17:09.967Z"
   },
   {
    "duration": 589,
    "start_time": "2025-02-09T12:17:10.504Z"
   },
   {
    "duration": 582,
    "start_time": "2025-02-09T12:17:11.095Z"
   },
   {
    "duration": 611,
    "start_time": "2025-02-09T12:17:11.679Z"
   },
   {
    "duration": 643,
    "start_time": "2025-02-09T12:17:12.291Z"
   },
   {
    "duration": 4,
    "start_time": "2025-02-09T12:17:12.936Z"
   },
   {
    "duration": 17,
    "start_time": "2025-02-09T12:17:12.941Z"
   },
   {
    "duration": 6,
    "start_time": "2025-02-09T12:17:12.960Z"
   },
   {
    "duration": 17,
    "start_time": "2025-02-09T12:17:12.968Z"
   },
   {
    "duration": 4,
    "start_time": "2025-02-09T12:17:12.987Z"
   },
   {
    "duration": 6,
    "start_time": "2025-02-09T12:17:12.992Z"
   },
   {
    "duration": 6,
    "start_time": "2025-02-09T12:17:13.001Z"
   },
   {
    "duration": 9,
    "start_time": "2025-02-09T12:17:13.008Z"
   },
   {
    "duration": 6,
    "start_time": "2025-02-09T12:17:13.019Z"
   },
   {
    "duration": 5,
    "start_time": "2025-02-09T12:17:13.058Z"
   },
   {
    "duration": 79339,
    "start_time": "2025-02-09T12:17:13.065Z"
   },
   {
    "duration": 4,
    "start_time": "2025-02-09T12:18:32.406Z"
   },
   {
    "duration": 9,
    "start_time": "2025-02-09T12:18:32.411Z"
   },
   {
    "duration": 6,
    "start_time": "2025-02-09T12:18:32.421Z"
   },
   {
    "duration": 456404,
    "start_time": "2025-02-09T12:18:32.429Z"
   },
   {
    "duration": 7,
    "start_time": "2025-02-09T12:26:08.835Z"
   },
   {
    "duration": 17,
    "start_time": "2025-02-09T12:26:08.843Z"
   },
   {
    "duration": 8,
    "start_time": "2025-02-09T12:26:08.862Z"
   },
   {
    "duration": 88945,
    "start_time": "2025-02-09T12:26:08.871Z"
   },
   {
    "duration": 97,
    "start_time": "2025-02-09T12:27:37.818Z"
   },
   {
    "duration": 4993,
    "start_time": "2025-02-09T13:09:20.154Z"
   },
   {
    "duration": 72,
    "start_time": "2025-02-09T13:09:25.150Z"
   },
   {
    "duration": 0,
    "start_time": "2025-02-09T13:09:25.224Z"
   },
   {
    "duration": 0,
    "start_time": "2025-02-09T13:09:25.225Z"
   },
   {
    "duration": 0,
    "start_time": "2025-02-09T13:09:25.227Z"
   },
   {
    "duration": 0,
    "start_time": "2025-02-09T13:09:25.228Z"
   },
   {
    "duration": 0,
    "start_time": "2025-02-09T13:09:25.229Z"
   },
   {
    "duration": 0,
    "start_time": "2025-02-09T13:09:25.230Z"
   },
   {
    "duration": 0,
    "start_time": "2025-02-09T13:09:25.232Z"
   },
   {
    "duration": 0,
    "start_time": "2025-02-09T13:09:25.233Z"
   },
   {
    "duration": 0,
    "start_time": "2025-02-09T13:09:25.234Z"
   },
   {
    "duration": 0,
    "start_time": "2025-02-09T13:09:25.235Z"
   },
   {
    "duration": 0,
    "start_time": "2025-02-09T13:09:25.237Z"
   },
   {
    "duration": 0,
    "start_time": "2025-02-09T13:09:25.238Z"
   },
   {
    "duration": 0,
    "start_time": "2025-02-09T13:09:25.239Z"
   },
   {
    "duration": 0,
    "start_time": "2025-02-09T13:09:25.240Z"
   },
   {
    "duration": 0,
    "start_time": "2025-02-09T13:09:25.241Z"
   },
   {
    "duration": 0,
    "start_time": "2025-02-09T13:09:25.242Z"
   },
   {
    "duration": 0,
    "start_time": "2025-02-09T13:09:25.243Z"
   },
   {
    "duration": 0,
    "start_time": "2025-02-09T13:09:25.244Z"
   },
   {
    "duration": 0,
    "start_time": "2025-02-09T13:09:25.245Z"
   },
   {
    "duration": 0,
    "start_time": "2025-02-09T13:09:25.246Z"
   },
   {
    "duration": 0,
    "start_time": "2025-02-09T13:09:25.247Z"
   },
   {
    "duration": 0,
    "start_time": "2025-02-09T13:09:25.248Z"
   },
   {
    "duration": 0,
    "start_time": "2025-02-09T13:09:25.250Z"
   },
   {
    "duration": 0,
    "start_time": "2025-02-09T13:09:25.251Z"
   },
   {
    "duration": 0,
    "start_time": "2025-02-09T13:09:25.252Z"
   },
   {
    "duration": 0,
    "start_time": "2025-02-09T13:09:25.253Z"
   },
   {
    "duration": 0,
    "start_time": "2025-02-09T13:09:25.254Z"
   },
   {
    "duration": 0,
    "start_time": "2025-02-09T13:09:25.255Z"
   },
   {
    "duration": 0,
    "start_time": "2025-02-09T13:09:25.257Z"
   },
   {
    "duration": 0,
    "start_time": "2025-02-09T13:09:25.258Z"
   },
   {
    "duration": 0,
    "start_time": "2025-02-09T13:09:25.259Z"
   },
   {
    "duration": 0,
    "start_time": "2025-02-09T13:09:25.260Z"
   },
   {
    "duration": 0,
    "start_time": "2025-02-09T13:09:25.261Z"
   },
   {
    "duration": 0,
    "start_time": "2025-02-09T13:09:25.262Z"
   },
   {
    "duration": 0,
    "start_time": "2025-02-09T13:09:25.263Z"
   },
   {
    "duration": 0,
    "start_time": "2025-02-09T13:09:25.264Z"
   },
   {
    "duration": 0,
    "start_time": "2025-02-09T13:09:25.266Z"
   },
   {
    "duration": 0,
    "start_time": "2025-02-09T13:09:25.267Z"
   },
   {
    "duration": 0,
    "start_time": "2025-02-09T13:09:25.268Z"
   },
   {
    "duration": 84,
    "start_time": "2025-02-09T13:11:25.694Z"
   },
   {
    "duration": 65,
    "start_time": "2025-02-09T13:11:32.119Z"
   },
   {
    "duration": 4843,
    "start_time": "2025-02-09T13:27:37.591Z"
   },
   {
    "duration": 1896,
    "start_time": "2025-02-09T13:27:42.437Z"
   },
   {
    "duration": 3,
    "start_time": "2025-02-09T13:27:44.334Z"
   },
   {
    "duration": 4,
    "start_time": "2025-02-09T13:27:44.339Z"
   },
   {
    "duration": 92,
    "start_time": "2025-02-09T13:27:44.344Z"
   },
   {
    "duration": 11,
    "start_time": "2025-02-09T13:27:44.438Z"
   },
   {
    "duration": 8,
    "start_time": "2025-02-09T13:27:44.450Z"
   },
   {
    "duration": 8,
    "start_time": "2025-02-09T13:27:44.459Z"
   },
   {
    "duration": 5,
    "start_time": "2025-02-09T13:27:44.468Z"
   },
   {
    "duration": 5,
    "start_time": "2025-02-09T13:27:44.476Z"
   },
   {
    "duration": 6,
    "start_time": "2025-02-09T13:27:44.482Z"
   },
   {
    "duration": 4,
    "start_time": "2025-02-09T13:27:44.490Z"
   },
   {
    "duration": 9,
    "start_time": "2025-02-09T13:27:44.496Z"
   },
   {
    "duration": 6,
    "start_time": "2025-02-09T13:27:44.506Z"
   },
   {
    "duration": 365,
    "start_time": "2025-02-09T13:27:44.513Z"
   },
   {
    "duration": 344,
    "start_time": "2025-02-09T13:27:44.879Z"
   },
   {
    "duration": 565,
    "start_time": "2025-02-09T13:27:45.226Z"
   },
   {
    "duration": 499,
    "start_time": "2025-02-09T13:27:45.792Z"
   },
   {
    "duration": 510,
    "start_time": "2025-02-09T13:27:46.293Z"
   },
   {
    "duration": 594,
    "start_time": "2025-02-09T13:27:46.805Z"
   },
   {
    "duration": 629,
    "start_time": "2025-02-09T13:27:47.400Z"
   },
   {
    "duration": 3,
    "start_time": "2025-02-09T13:27:48.031Z"
   },
   {
    "duration": 3,
    "start_time": "2025-02-09T13:27:48.035Z"
   },
   {
    "duration": 18,
    "start_time": "2025-02-09T13:27:48.040Z"
   },
   {
    "duration": 16,
    "start_time": "2025-02-09T13:27:48.059Z"
   },
   {
    "duration": 4,
    "start_time": "2025-02-09T13:27:48.076Z"
   },
   {
    "duration": 5,
    "start_time": "2025-02-09T13:27:48.081Z"
   },
   {
    "duration": 10,
    "start_time": "2025-02-09T13:27:48.089Z"
   },
   {
    "duration": 9,
    "start_time": "2025-02-09T13:27:48.100Z"
   },
   {
    "duration": 6,
    "start_time": "2025-02-09T13:27:48.110Z"
   },
   {
    "duration": 6,
    "start_time": "2025-02-09T13:27:48.118Z"
   },
   {
    "duration": 92518,
    "start_time": "2025-02-09T13:27:48.125Z"
   },
   {
    "duration": 4,
    "start_time": "2025-02-09T13:29:20.645Z"
   },
   {
    "duration": 13,
    "start_time": "2025-02-09T13:29:20.658Z"
   },
   {
    "duration": 13,
    "start_time": "2025-02-09T13:29:20.673Z"
   },
   {
    "duration": 493732,
    "start_time": "2025-02-09T13:29:20.687Z"
   },
   {
    "duration": 7,
    "start_time": "2025-02-09T13:37:34.420Z"
   },
   {
    "duration": 11,
    "start_time": "2025-02-09T13:37:34.429Z"
   },
   {
    "duration": 21,
    "start_time": "2025-02-09T13:37:34.442Z"
   },
   {
    "duration": 89683,
    "start_time": "2025-02-09T13:37:34.465Z"
   },
   {
    "duration": 581,
    "start_time": "2025-02-09T14:48:00.612Z"
   },
   {
    "duration": 534,
    "start_time": "2025-02-09T14:53:41.398Z"
   },
   {
    "duration": 637,
    "start_time": "2025-02-09T14:54:13.530Z"
   },
   {
    "duration": 5019,
    "start_time": "2025-02-09T15:07:07.114Z"
   },
   {
    "duration": 2120,
    "start_time": "2025-02-09T15:07:12.136Z"
   },
   {
    "duration": 3,
    "start_time": "2025-02-09T15:07:14.258Z"
   },
   {
    "duration": 4,
    "start_time": "2025-02-09T15:07:14.263Z"
   },
   {
    "duration": 93,
    "start_time": "2025-02-09T15:07:14.268Z"
   },
   {
    "duration": 12,
    "start_time": "2025-02-09T15:07:14.363Z"
   },
   {
    "duration": 7,
    "start_time": "2025-02-09T15:07:14.377Z"
   },
   {
    "duration": 8,
    "start_time": "2025-02-09T15:07:14.385Z"
   },
   {
    "duration": 7,
    "start_time": "2025-02-09T15:07:14.395Z"
   },
   {
    "duration": 5,
    "start_time": "2025-02-09T15:07:14.406Z"
   },
   {
    "duration": 5,
    "start_time": "2025-02-09T15:07:14.412Z"
   },
   {
    "duration": 5,
    "start_time": "2025-02-09T15:07:14.418Z"
   },
   {
    "duration": 39,
    "start_time": "2025-02-09T15:07:14.425Z"
   },
   {
    "duration": 8,
    "start_time": "2025-02-09T15:07:14.466Z"
   },
   {
    "duration": 344,
    "start_time": "2025-02-09T15:07:14.476Z"
   },
   {
    "duration": 375,
    "start_time": "2025-02-09T15:07:14.822Z"
   },
   {
    "duration": 605,
    "start_time": "2025-02-09T15:07:15.199Z"
   },
   {
    "duration": 619,
    "start_time": "2025-02-09T15:07:15.806Z"
   },
   {
    "duration": 668,
    "start_time": "2025-02-09T15:07:16.428Z"
   },
   {
    "duration": 694,
    "start_time": "2025-02-09T15:07:17.098Z"
   },
   {
    "duration": 648,
    "start_time": "2025-02-09T15:07:17.794Z"
   },
   {
    "duration": 3,
    "start_time": "2025-02-09T15:07:18.444Z"
   },
   {
    "duration": 9,
    "start_time": "2025-02-09T15:07:18.449Z"
   },
   {
    "duration": 12,
    "start_time": "2025-02-09T15:07:18.460Z"
   },
   {
    "duration": 18,
    "start_time": "2025-02-09T15:07:18.473Z"
   },
   {
    "duration": 9,
    "start_time": "2025-02-09T15:07:18.493Z"
   },
   {
    "duration": 24,
    "start_time": "2025-02-09T15:07:18.503Z"
   },
   {
    "duration": 6,
    "start_time": "2025-02-09T15:07:18.531Z"
   },
   {
    "duration": 15,
    "start_time": "2025-02-09T15:07:18.539Z"
   },
   {
    "duration": 15,
    "start_time": "2025-02-09T15:07:18.556Z"
   },
   {
    "duration": 11,
    "start_time": "2025-02-09T15:07:18.573Z"
   },
   {
    "duration": 122244,
    "start_time": "2025-02-09T15:07:18.586Z"
   },
   {
    "duration": 3,
    "start_time": "2025-02-09T15:09:20.831Z"
   },
   {
    "duration": 7,
    "start_time": "2025-02-09T15:09:20.836Z"
   },
   {
    "duration": 15,
    "start_time": "2025-02-09T15:09:20.845Z"
   },
   {
    "duration": 471782,
    "start_time": "2025-02-09T15:09:20.861Z"
   },
   {
    "duration": 7,
    "start_time": "2025-02-09T15:17:12.645Z"
   },
   {
    "duration": 4,
    "start_time": "2025-02-09T15:17:12.658Z"
   },
   {
    "duration": 7,
    "start_time": "2025-02-09T15:17:12.663Z"
   },
   {
    "duration": 154383,
    "start_time": "2025-02-09T15:17:12.672Z"
   },
   {
    "duration": 4,
    "start_time": "2025-02-09T15:29:17.768Z"
   },
   {
    "duration": 5,
    "start_time": "2025-02-09T15:29:18.003Z"
   },
   {
    "duration": 615,
    "start_time": "2025-02-09T15:29:20.719Z"
   },
   {
    "duration": 4,
    "start_time": "2025-02-09T15:29:33.354Z"
   },
   {
    "duration": 4,
    "start_time": "2025-02-09T15:29:33.537Z"
   },
   {
    "duration": 726,
    "start_time": "2025-02-09T15:29:36.291Z"
   },
   {
    "duration": 5,
    "start_time": "2025-02-09T15:29:54.693Z"
   },
   {
    "duration": 6,
    "start_time": "2025-02-09T15:29:54.874Z"
   },
   {
    "duration": 699,
    "start_time": "2025-02-09T15:29:57.022Z"
   },
   {
    "duration": 572,
    "start_time": "2025-02-09T15:30:09.911Z"
   }
  ],
  "kernelspec": {
   "display_name": "Python 3 (ipykernel)",
   "language": "python",
   "name": "python3"
  },
  "language_info": {
   "codemirror_mode": {
    "name": "ipython",
    "version": 3
   },
   "file_extension": ".py",
   "mimetype": "text/x-python",
   "name": "python",
   "nbconvert_exporter": "python",
   "pygments_lexer": "ipython3",
   "version": "3.9.5"
  },
  "toc": {
   "base_numbering": 1,
   "nav_menu": {},
   "number_sections": false,
   "sideBar": true,
   "skip_h1_title": false,
   "title_cell": "Table of Contents",
   "title_sidebar": "Contents",
   "toc_cell": false,
   "toc_position": {
    "height": "calc(100% - 180px)",
    "left": "10px",
    "top": "150px",
    "width": "371.188px"
   },
   "toc_section_display": true,
   "toc_window_display": true
  },
  "varInspector": {
   "cols": {
    "lenName": 16,
    "lenType": 16,
    "lenVar": 40
   },
   "kernels_config": {
    "python": {
     "delete_cmd_postfix": "",
     "delete_cmd_prefix": "del ",
     "library": "var_list.py",
     "varRefreshCmd": "print(var_dic_list())"
    },
    "r": {
     "delete_cmd_postfix": ") ",
     "delete_cmd_prefix": "rm(",
     "library": "var_list.r",
     "varRefreshCmd": "cat(var_dic_list()) "
    }
   },
   "types_to_exclude": [
    "module",
    "function",
    "builtin_function_or_method",
    "instance",
    "_Feature"
   ],
   "window_display": false
  }
 },
 "nbformat": 4,
 "nbformat_minor": 5
}
