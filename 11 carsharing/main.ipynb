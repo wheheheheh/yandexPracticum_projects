{
 "cells": [
  {
   "cell_type": "code",
   "execution_count": 2,
   "metadata": {},
   "outputs": [],
   "source": [
    "import warnings\n",
    "import pandas as pd\n",
    "import numpy as np\n",
    "import matplotlib.pyplot as plt\n",
    "import seaborn as sns\n",
    "import sweetviz as sv\n",
    "import torch\n",
    "import torch.nn as nn\n",
    "import optuna\n",
    "import lightgbm as lgb\n",
    "import copy\n",
    "\n",
    "from typing import Optional, List, Callable, Union, Tuple\n",
    "from sqlalchemy.engine import Engine\n",
    "from torch.utils.data import DataLoader, TensorDataset\n",
    "from sklearn.model_selection import train_test_split, cross_val_score, KFold\n",
    "from sklearn.preprocessing import MinMaxScaler, OrdinalEncoder, OneHotEncoder\n",
    "from sklearn.compose import ColumnTransformer\n",
    "from sklearn.metrics import (\n",
    "     f1_score as sklearn_f1_score, \n",
    "     ConfusionMatrixDisplay, \n",
    "     confusion_matrix, \n",
    "     classification_report,\n",
    "     precision_score, \n",
    "     recall_score)\n",
    "from sklearn.ensemble import RandomForestClassifier\n",
    "from phik import phik_matrix\n",
    "from sqlalchemy import create_engine\n",
    "from abc import ABC, abstractmethod"
   ]
  },
  {
   "cell_type": "code",
   "execution_count": 3,
   "metadata": {},
   "outputs": [],
   "source": [
    "warnings.filterwarnings('ignore')\n",
    "pd.set_option('display.max_columns', None)"
   ]
  },
  {
   "cell_type": "code",
   "execution_count": 4,
   "metadata": {},
   "outputs": [
    {
     "name": "stdout",
     "output_type": "stream",
     "text": [
      "cpu\n"
     ]
    }
   ],
   "source": [
    "RANDOM_STATE = 0\n",
    "TEST_SIZE = 0.2\n",
    "torch.manual_seed(RANDOM_STATE)\n",
    "device = torch.device('cuda' if torch.cuda.is_available() else 'cpu')\n",
    "print(device)"
   ]
  },
  {
   "cell_type": "markdown",
   "metadata": {},
   "source": [
    "Импорт библиотек и настройка окружения"
   ]
  },
  {
   "cell_type": "markdown",
   "metadata": {},
   "source": [
    "## Шаг 1. Загрузка таблиц sql"
   ]
  },
  {
   "cell_type": "code",
   "execution_count": 5,
   "metadata": {},
   "outputs": [],
   "source": [
    "def connect_to_db() -> Optional[Engine]:\n",
    "    try:\n",
    "        db_config = {\n",
    "            'user': 'praktikum_student',\n",
    "            'pwd': 'Sdf4$2;d-d30pp', \n",
    "            'host': 'rc1b-wcoijxj3yxfsf3fs.mdb.yandexcloud.net',\n",
    "            'port': 6432,\n",
    "            'db': 'data-science-vehicle-db'\n",
    "        } \n",
    "        connection_string = 'postgresql://{}:{}@{}:{}/{}'.format(\n",
    "            db_config['user'],\n",
    "            db_config['pwd'],\n",
    "            db_config['host'],\n",
    "            db_config['port'],\n",
    "            db_config['db']\n",
    "        )\n",
    "        return create_engine(connection_string)\n",
    "    \n",
    "    except Exception as e:\n",
    "        print(f'Error: {e}')\n",
    "        return None\n"
   ]
  },
  {
   "cell_type": "code",
   "execution_count": 6,
   "metadata": {},
   "outputs": [],
   "source": [
    "def get_any_data(query: str) -> Optional[pd.DataFrame]:\n",
    "    try:\n",
    "        engine = connect_to_db()\n",
    "        engine.execute(\"SELECT 1 FROM collisions, parties, vehicles LIMIT 1\")\n",
    "        return pd.read_sql_query(query, con=engine)\n",
    "    \n",
    "    except Exception as e:\n",
    "        print(f'Error: {e}')\n",
    "        return None"
   ]
  },
  {
   "cell_type": "markdown",
   "metadata": {},
   "source": [
    "Необходимые функции для выгрузки таблиц"
   ]
  },
  {
   "cell_type": "code",
   "execution_count": 7,
   "metadata": {},
   "outputs": [],
   "source": [
    "def line_chart(data: pd.DataFrame, \n",
    "               index: Union[str, List[str]], \n",
    "               values: Union[str, List[str]], \n",
    "               aggfunc: Union[str, Callable], \n",
    "               xlabel: str,\n",
    "               ylabel: str,\n",
    "               title: str,\n",
    "               **kwargs) -> None:\n",
    "    ax = data.pivot_table(\n",
    "        index=index,\n",
    "        values=values,\n",
    "        aggfunc=aggfunc).plot(     \n",
    "            style='o-',\n",
    "            figsize=(15, 6),\n",
    "            markerfacecolor='blue',\n",
    "            markeredgecolor='black',\n",
    "            markersize=8,\n",
    "            linewidth=2,\n",
    "            fontsize=14,\n",
    "            **kwargs\n",
    "        )\n",
    "    ax.set_xlabel(xlabel)\n",
    "    ax.set_ylabel(ylabel)\n",
    "    ax.set_title(title)\n",
    "    plt.legend(loc='upper left')\n",
    "    plt.xticks(rotation=45)\n",
    "    plt.tight_layout()\n",
    "    plt.show()"
   ]
  },
  {
   "cell_type": "code",
   "execution_count": 8,
   "metadata": {},
   "outputs": [],
   "source": [
    "def bar_chart(data, \n",
    "              column, \n",
    "              xlabel,\n",
    "              ylabel,\n",
    "              title,\n",
    "              **kwargs) -> None:\n",
    "    ax = data[column].value_counts().plot(\n",
    "        kind='bar',\n",
    "        figsize=(11,7),\n",
    "        color='#BA55D3',\n",
    "        **kwargs\n",
    "    )\n",
    "    ax.set_xlabel(xlabel)\n",
    "    ax.set_ylabel(ylabel)\n",
    "    ax.set_title(title)\n",
    "    plt.legend()\n",
    "    plt.show()"
   ]
  },
  {
   "cell_type": "markdown",
   "metadata": {},
   "source": [
    "Функции для отрисовки графиков"
   ]
  },
  {
   "cell_type": "markdown",
   "metadata": {},
   "source": [
    "## Шаг 2. Первичное исследование таблиц"
   ]
  },
  {
   "cell_type": "code",
   "execution_count": 9,
   "metadata": {},
   "outputs": [],
   "source": [
    "collision_ = '''\n",
    "    SELECT\n",
    "        c.*\n",
    "    FROM\n",
    "        collisions c\n",
    "    LIMIT 10;\n",
    "'''\n",
    "collision_data = get_any_data(collision_)"
   ]
  },
  {
   "cell_type": "code",
   "execution_count": 10,
   "metadata": {},
   "outputs": [
    {
     "data": {
      "text/html": [
       "<div>\n",
       "<style scoped>\n",
       "    .dataframe tbody tr th:only-of-type {\n",
       "        vertical-align: middle;\n",
       "    }\n",
       "\n",
       "    .dataframe tbody tr th {\n",
       "        vertical-align: top;\n",
       "    }\n",
       "\n",
       "    .dataframe thead th {\n",
       "        text-align: right;\n",
       "    }\n",
       "</style>\n",
       "<table border=\"1\" class=\"dataframe\">\n",
       "  <thead>\n",
       "    <tr style=\"text-align: right;\">\n",
       "      <th></th>\n",
       "      <th>case_id</th>\n",
       "      <th>county_city_location</th>\n",
       "      <th>county_location</th>\n",
       "      <th>distance</th>\n",
       "      <th>direction</th>\n",
       "      <th>intersection</th>\n",
       "      <th>weather_1</th>\n",
       "      <th>location_type</th>\n",
       "      <th>collision_damage</th>\n",
       "      <th>party_count</th>\n",
       "      <th>primary_collision_factor</th>\n",
       "      <th>pcf_violation_category</th>\n",
       "      <th>type_of_collision</th>\n",
       "      <th>motor_vehicle_involved_with</th>\n",
       "      <th>road_surface</th>\n",
       "      <th>road_condition_1</th>\n",
       "      <th>lighting</th>\n",
       "      <th>control_device</th>\n",
       "      <th>collision_date</th>\n",
       "      <th>collision_time</th>\n",
       "    </tr>\n",
       "  </thead>\n",
       "  <tbody>\n",
       "    <tr>\n",
       "      <th>0</th>\n",
       "      <td>4083072</td>\n",
       "      <td>1942</td>\n",
       "      <td>los angeles</td>\n",
       "      <td>528.0</td>\n",
       "      <td>north</td>\n",
       "      <td>0</td>\n",
       "      <td>cloudy</td>\n",
       "      <td>highway</td>\n",
       "      <td>small damage</td>\n",
       "      <td>2</td>\n",
       "      <td>vehicle code violation</td>\n",
       "      <td>unsafe lane change</td>\n",
       "      <td>sideswipe</td>\n",
       "      <td>other motor vehicle</td>\n",
       "      <td>wet</td>\n",
       "      <td>normal</td>\n",
       "      <td>daylight</td>\n",
       "      <td>none</td>\n",
       "      <td>2009-01-22</td>\n",
       "      <td>07:25:00</td>\n",
       "    </tr>\n",
       "    <tr>\n",
       "      <th>1</th>\n",
       "      <td>4083075</td>\n",
       "      <td>4313</td>\n",
       "      <td>santa clara</td>\n",
       "      <td>0.0</td>\n",
       "      <td>None</td>\n",
       "      <td>1</td>\n",
       "      <td>clear</td>\n",
       "      <td>None</td>\n",
       "      <td>small damage</td>\n",
       "      <td>1</td>\n",
       "      <td>vehicle code violation</td>\n",
       "      <td>improper passing</td>\n",
       "      <td>hit object</td>\n",
       "      <td>fixed object</td>\n",
       "      <td>dry</td>\n",
       "      <td>normal</td>\n",
       "      <td>dark with street lights</td>\n",
       "      <td>functioning</td>\n",
       "      <td>2009-01-03</td>\n",
       "      <td>02:26:00</td>\n",
       "    </tr>\n",
       "    <tr>\n",
       "      <th>2</th>\n",
       "      <td>4083073</td>\n",
       "      <td>0109</td>\n",
       "      <td>alameda</td>\n",
       "      <td>0.0</td>\n",
       "      <td>None</td>\n",
       "      <td>1</td>\n",
       "      <td>clear</td>\n",
       "      <td>None</td>\n",
       "      <td>scratch</td>\n",
       "      <td>2</td>\n",
       "      <td>vehicle code violation</td>\n",
       "      <td>improper turning</td>\n",
       "      <td>broadside</td>\n",
       "      <td>other motor vehicle</td>\n",
       "      <td>dry</td>\n",
       "      <td>normal</td>\n",
       "      <td>dark with street lights</td>\n",
       "      <td>functioning</td>\n",
       "      <td>2009-01-11</td>\n",
       "      <td>03:32:00</td>\n",
       "    </tr>\n",
       "    <tr>\n",
       "      <th>3</th>\n",
       "      <td>4083077</td>\n",
       "      <td>0109</td>\n",
       "      <td>alameda</td>\n",
       "      <td>0.0</td>\n",
       "      <td>None</td>\n",
       "      <td>1</td>\n",
       "      <td>clear</td>\n",
       "      <td>None</td>\n",
       "      <td>scratch</td>\n",
       "      <td>2</td>\n",
       "      <td>vehicle code violation</td>\n",
       "      <td>automobile right of way</td>\n",
       "      <td>broadside</td>\n",
       "      <td>other motor vehicle</td>\n",
       "      <td>dry</td>\n",
       "      <td>normal</td>\n",
       "      <td>daylight</td>\n",
       "      <td>functioning</td>\n",
       "      <td>2009-01-11</td>\n",
       "      <td>10:35:00</td>\n",
       "    </tr>\n",
       "    <tr>\n",
       "      <th>4</th>\n",
       "      <td>4083087</td>\n",
       "      <td>4313</td>\n",
       "      <td>santa clara</td>\n",
       "      <td>0.0</td>\n",
       "      <td>None</td>\n",
       "      <td>1</td>\n",
       "      <td>clear</td>\n",
       "      <td>None</td>\n",
       "      <td>scratch</td>\n",
       "      <td>2</td>\n",
       "      <td>vehicle code violation</td>\n",
       "      <td>speeding</td>\n",
       "      <td>rear end</td>\n",
       "      <td>other motor vehicle</td>\n",
       "      <td>dry</td>\n",
       "      <td>None</td>\n",
       "      <td>dark with street lights</td>\n",
       "      <td>functioning</td>\n",
       "      <td>2009-01-02</td>\n",
       "      <td>22:43:00</td>\n",
       "    </tr>\n",
       "  </tbody>\n",
       "</table>\n",
       "</div>"
      ],
      "text/plain": [
       "   case_id county_city_location county_location  distance direction  \\\n",
       "0  4083072                 1942     los angeles     528.0     north   \n",
       "1  4083075                 4313     santa clara       0.0      None   \n",
       "2  4083073                 0109         alameda       0.0      None   \n",
       "3  4083077                 0109         alameda       0.0      None   \n",
       "4  4083087                 4313     santa clara       0.0      None   \n",
       "\n",
       "   intersection weather_1 location_type collision_damage  party_count  \\\n",
       "0             0    cloudy       highway     small damage            2   \n",
       "1             1     clear          None     small damage            1   \n",
       "2             1     clear          None          scratch            2   \n",
       "3             1     clear          None          scratch            2   \n",
       "4             1     clear          None          scratch            2   \n",
       "\n",
       "  primary_collision_factor   pcf_violation_category type_of_collision  \\\n",
       "0   vehicle code violation       unsafe lane change         sideswipe   \n",
       "1   vehicle code violation         improper passing        hit object   \n",
       "2   vehicle code violation         improper turning         broadside   \n",
       "3   vehicle code violation  automobile right of way         broadside   \n",
       "4   vehicle code violation                 speeding          rear end   \n",
       "\n",
       "  motor_vehicle_involved_with road_surface road_condition_1  \\\n",
       "0         other motor vehicle          wet           normal   \n",
       "1                fixed object          dry           normal   \n",
       "2         other motor vehicle          dry           normal   \n",
       "3         other motor vehicle          dry           normal   \n",
       "4         other motor vehicle          dry             None   \n",
       "\n",
       "                  lighting control_device collision_date collision_time  \n",
       "0                 daylight           none     2009-01-22       07:25:00  \n",
       "1  dark with street lights    functioning     2009-01-03       02:26:00  \n",
       "2  dark with street lights    functioning     2009-01-11       03:32:00  \n",
       "3                 daylight    functioning     2009-01-11       10:35:00  \n",
       "4  dark with street lights    functioning     2009-01-02       22:43:00  "
      ]
     },
     "execution_count": 10,
     "metadata": {},
     "output_type": "execute_result"
    }
   ],
   "source": [
    "collision_data.head()"
   ]
  },
  {
   "cell_type": "code",
   "execution_count": 11,
   "metadata": {},
   "outputs": [],
   "source": [
    "parties_ = '''\n",
    "    SELECT\n",
    "        p.*\n",
    "    FROM\n",
    "        parties p\n",
    "    LIMIT 10;\n",
    "'''\n",
    "parties_data = get_any_data(parties_)"
   ]
  },
  {
   "cell_type": "code",
   "execution_count": 12,
   "metadata": {},
   "outputs": [
    {
     "data": {
      "text/html": [
       "<div>\n",
       "<style scoped>\n",
       "    .dataframe tbody tr th:only-of-type {\n",
       "        vertical-align: middle;\n",
       "    }\n",
       "\n",
       "    .dataframe tbody tr th {\n",
       "        vertical-align: top;\n",
       "    }\n",
       "\n",
       "    .dataframe thead th {\n",
       "        text-align: right;\n",
       "    }\n",
       "</style>\n",
       "<table border=\"1\" class=\"dataframe\">\n",
       "  <thead>\n",
       "    <tr style=\"text-align: right;\">\n",
       "      <th></th>\n",
       "      <th>id</th>\n",
       "      <th>case_id</th>\n",
       "      <th>party_number</th>\n",
       "      <th>party_type</th>\n",
       "      <th>at_fault</th>\n",
       "      <th>insurance_premium</th>\n",
       "      <th>party_sobriety</th>\n",
       "      <th>party_drug_physical</th>\n",
       "      <th>cellphone_in_use</th>\n",
       "    </tr>\n",
       "  </thead>\n",
       "  <tbody>\n",
       "    <tr>\n",
       "      <th>0</th>\n",
       "      <td>22</td>\n",
       "      <td>3899454</td>\n",
       "      <td>1</td>\n",
       "      <td>road signs</td>\n",
       "      <td>1</td>\n",
       "      <td>29.0</td>\n",
       "      <td>had not been drinking</td>\n",
       "      <td>None</td>\n",
       "      <td>0.0</td>\n",
       "    </tr>\n",
       "    <tr>\n",
       "      <th>1</th>\n",
       "      <td>23</td>\n",
       "      <td>3899454</td>\n",
       "      <td>2</td>\n",
       "      <td>road signs</td>\n",
       "      <td>0</td>\n",
       "      <td>7.0</td>\n",
       "      <td>had not been drinking</td>\n",
       "      <td>None</td>\n",
       "      <td>0.0</td>\n",
       "    </tr>\n",
       "    <tr>\n",
       "      <th>2</th>\n",
       "      <td>29</td>\n",
       "      <td>3899462</td>\n",
       "      <td>2</td>\n",
       "      <td>car</td>\n",
       "      <td>0</td>\n",
       "      <td>21.0</td>\n",
       "      <td>had not been drinking</td>\n",
       "      <td>None</td>\n",
       "      <td>0.0</td>\n",
       "    </tr>\n",
       "    <tr>\n",
       "      <th>3</th>\n",
       "      <td>31</td>\n",
       "      <td>3899465</td>\n",
       "      <td>2</td>\n",
       "      <td>road signs</td>\n",
       "      <td>0</td>\n",
       "      <td>24.0</td>\n",
       "      <td>had not been drinking</td>\n",
       "      <td>None</td>\n",
       "      <td>0.0</td>\n",
       "    </tr>\n",
       "    <tr>\n",
       "      <th>4</th>\n",
       "      <td>41</td>\n",
       "      <td>3899478</td>\n",
       "      <td>2</td>\n",
       "      <td>road bumper</td>\n",
       "      <td>0</td>\n",
       "      <td>NaN</td>\n",
       "      <td>not applicable</td>\n",
       "      <td>not applicable</td>\n",
       "      <td>0.0</td>\n",
       "    </tr>\n",
       "  </tbody>\n",
       "</table>\n",
       "</div>"
      ],
      "text/plain": [
       "   id  case_id  party_number   party_type  at_fault  insurance_premium  \\\n",
       "0  22  3899454             1   road signs         1               29.0   \n",
       "1  23  3899454             2   road signs         0                7.0   \n",
       "2  29  3899462             2          car         0               21.0   \n",
       "3  31  3899465             2   road signs         0               24.0   \n",
       "4  41  3899478             2  road bumper         0                NaN   \n",
       "\n",
       "          party_sobriety party_drug_physical  cellphone_in_use  \n",
       "0  had not been drinking                None               0.0  \n",
       "1  had not been drinking                None               0.0  \n",
       "2  had not been drinking                None               0.0  \n",
       "3  had not been drinking                None               0.0  \n",
       "4         not applicable      not applicable               0.0  "
      ]
     },
     "execution_count": 12,
     "metadata": {},
     "output_type": "execute_result"
    }
   ],
   "source": [
    "parties_data.head()"
   ]
  },
  {
   "cell_type": "code",
   "execution_count": 13,
   "metadata": {},
   "outputs": [],
   "source": [
    "vehicles_ = '''\n",
    "    SELECT\n",
    "        v.*\n",
    "    FROM\n",
    "        vehicles v\n",
    "    LIMIT 10;\n",
    "'''\n",
    "vehicles_data = get_any_data(vehicles_)"
   ]
  },
  {
   "cell_type": "code",
   "execution_count": 14,
   "metadata": {},
   "outputs": [
    {
     "data": {
      "text/html": [
       "<div>\n",
       "<style scoped>\n",
       "    .dataframe tbody tr th:only-of-type {\n",
       "        vertical-align: middle;\n",
       "    }\n",
       "\n",
       "    .dataframe tbody tr th {\n",
       "        vertical-align: top;\n",
       "    }\n",
       "\n",
       "    .dataframe thead th {\n",
       "        text-align: right;\n",
       "    }\n",
       "</style>\n",
       "<table border=\"1\" class=\"dataframe\">\n",
       "  <thead>\n",
       "    <tr style=\"text-align: right;\">\n",
       "      <th></th>\n",
       "      <th>id</th>\n",
       "      <th>case_id</th>\n",
       "      <th>party_number</th>\n",
       "      <th>vehicle_type</th>\n",
       "      <th>vehicle_transmission</th>\n",
       "      <th>vehicle_age</th>\n",
       "    </tr>\n",
       "  </thead>\n",
       "  <tbody>\n",
       "    <tr>\n",
       "      <th>0</th>\n",
       "      <td>1175713</td>\n",
       "      <td>5305032</td>\n",
       "      <td>2</td>\n",
       "      <td>sedan</td>\n",
       "      <td>manual</td>\n",
       "      <td>3</td>\n",
       "    </tr>\n",
       "    <tr>\n",
       "      <th>1</th>\n",
       "      <td>1</td>\n",
       "      <td>3858022</td>\n",
       "      <td>1</td>\n",
       "      <td>sedan</td>\n",
       "      <td>auto</td>\n",
       "      <td>3</td>\n",
       "    </tr>\n",
       "    <tr>\n",
       "      <th>2</th>\n",
       "      <td>1175712</td>\n",
       "      <td>5305030</td>\n",
       "      <td>1</td>\n",
       "      <td>sedan</td>\n",
       "      <td>auto</td>\n",
       "      <td>3</td>\n",
       "    </tr>\n",
       "    <tr>\n",
       "      <th>3</th>\n",
       "      <td>1175717</td>\n",
       "      <td>5305033</td>\n",
       "      <td>3</td>\n",
       "      <td>sedan</td>\n",
       "      <td>auto</td>\n",
       "      <td>5</td>\n",
       "    </tr>\n",
       "    <tr>\n",
       "      <th>4</th>\n",
       "      <td>1175722</td>\n",
       "      <td>5305034</td>\n",
       "      <td>2</td>\n",
       "      <td>sedan</td>\n",
       "      <td>auto</td>\n",
       "      <td>5</td>\n",
       "    </tr>\n",
       "  </tbody>\n",
       "</table>\n",
       "</div>"
      ],
      "text/plain": [
       "        id  case_id  party_number vehicle_type vehicle_transmission  \\\n",
       "0  1175713  5305032             2        sedan               manual   \n",
       "1        1  3858022             1        sedan                 auto   \n",
       "2  1175712  5305030             1        sedan                 auto   \n",
       "3  1175717  5305033             3        sedan                 auto   \n",
       "4  1175722  5305034             2        sedan                 auto   \n",
       "\n",
       "   vehicle_age  \n",
       "0            3  \n",
       "1            3  \n",
       "2            3  \n",
       "3            5  \n",
       "4            5  "
      ]
     },
     "execution_count": 14,
     "metadata": {},
     "output_type": "execute_result"
    }
   ],
   "source": [
    "vehicles_data.head()"
   ]
  },
  {
   "cell_type": "markdown",
   "metadata": {},
   "source": [
    "    -Во всех таблицах присутствуют необходимые столбцы\n",
    "    -Количество таблиц соответствует условию задачи\n",
    "    -Общий ключ для связи таблиц также присутствует - case_id"
   ]
  },
  {
   "cell_type": "code",
   "execution_count": 15,
   "metadata": {},
   "outputs": [],
   "source": [
    "def get_data() -> Optional[pd.DataFrame]:\n",
    "    try:\n",
    "        engine = connect_to_db()\n",
    "\n",
    "        query = '''\n",
    "            SELECT \n",
    "                v.party_number, v.vehicle_type, v.vehicle_transmission, v.vehicle_age,\n",
    "                c.collision_date, c.case_id\n",
    "            FROM vehicles v\n",
    "            JOIN collisions c ON v.case_id = c.case_id\n",
    "            JOIN parties p ON v.case_id = p.case_id\n",
    "            WHERE\n",
    "                c.collision_damage != 'scratch'\n",
    "                AND p.party_type = 'car';\n",
    "\n",
    "        '''\n",
    "        data = pd.read_sql_query(query, con=engine)\n",
    "        data.collision_date = pd.to_datetime(data.collision_date)\n",
    "        data['month'] = data.collision_date.dt.month\n",
    "        data.vehicle_age = data.vehicle_age.fillna(-1).astype('int')\n",
    "        return data\n",
    "    except Exception as e:\n",
    "        print(f'Error: {e}')\n",
    "        return None"
   ]
  },
  {
   "cell_type": "code",
   "execution_count": 16,
   "metadata": {},
   "outputs": [],
   "source": [
    "analyze_data = get_data()"
   ]
  },
  {
   "cell_type": "markdown",
   "metadata": {},
   "source": [
    "Выгрузка данных для анализа"
   ]
  },
  {
   "cell_type": "markdown",
   "metadata": {},
   "source": [
    "## Шаг 3. Статистический анализ факторов ДТП"
   ]
  },
  {
   "cell_type": "markdown",
   "metadata": {},
   "source": [
    "### Задание 1."
   ]
  },
  {
   "cell_type": "code",
   "execution_count": 17,
   "metadata": {},
   "outputs": [
    {
     "data": {
      "image/png": "[encoded data removed]",
      "text/plain": [
       "<Figure size 1080x432 with 1 Axes>"
      ]
     },
     "metadata": {
      "needs_background": "light"
     },
     "output_type": "display_data"
    }
   ],
   "source": [
    "line_chart(\n",
    "    analyze_data, \n",
    "    'month', 'case_id', \n",
    "    'count', \n",
    "    'Номер месяца', \n",
    "    'Количество аварий',\n",
    "    'Количество аварий по месяцам'\n",
    ")"
   ]
  },
  {
   "cell_type": "markdown",
   "metadata": {},
   "source": [
    "Больше всего аварий происходит в марте, апреле и мае, на самом деле сложно предположить почему именно в первые месяцы настолько больше аварий, а затем идет резкий спад, могу предположить, что это влияение погодных условий, возможно после зимы люди чаще пользуются каршерингом, чтобы куда съездить на отдых"
   ]
  },
  {
   "cell_type": "markdown",
   "metadata": {},
   "source": [
    "### Задание 2"
   ]
  },
  {
   "cell_type": "markdown",
   "metadata": {},
   "source": [
    "Задачи для коллег \n",
    "\n",
    "    Аналитические задачи для коллег:\n",
    "\n",
    "        Проанализировать использование телефона за рулем и погодные условия\n",
    "        Цель: определить, при каких условиях чаще происходят аварии\n",
    "\n",
    "        Исследовать связь времени суток с тяжестью повреждений\n",
    "        Цель: выявить периоды с наиболее серьёзными последствиями\n",
    "\n",
    "        Определить, как возраст водителя влияет на вероятность ДТП\n",
    "        Цель: найти возрастные группы с повышенным риском\n",
    "\n",
    "        Изучить распределение ДТП по типам дорожного покрытия\n",
    "        Цель: выявить опасные типы дорог\n",
    "\n",
    "        Проанализировать связь между скоростным режимом на участке и количеством ДТП\n",
    "        Цель: определить, как скорость влияет на аварийность\n",
    "\n",
    "        Оценить влияние освещения дороги на частоту ДТП в ночное время\n",
    "        Цель: проверить, снижает ли освещение риски"
   ]
  },
  {
   "cell_type": "markdown",
   "metadata": {},
   "source": [
    "Решение задачи 1 - 'Проанализировать влияние погодных условий на частоту ДТП'"
   ]
  },
  {
   "cell_type": "markdown",
   "metadata": {},
   "source": [
    "#### Решение первой задачи"
   ]
  },
  {
   "cell_type": "code",
   "execution_count": 18,
   "metadata": {},
   "outputs": [],
   "source": [
    "query_task1 = '''\n",
    "    SELECT \n",
    "        c.weather_1,\n",
    "        p.cellphone_in_use\n",
    "    FROM collisions c\n",
    "    JOIN parties p ON c.case_id = p.case_id\n",
    "    WHERE \n",
    "        c.collision_date BETWEEN '2012-01-01' AND '2012-12-31'\n",
    "        AND c.collision_damage != 'scratch'\n",
    "        AND p.party_type = 'car'\n",
    "        AND p.at_fault = 1\n",
    "        AND c.weather_1 IS NOT NULL\n",
    "        AND p.cellphone_in_use IS NOT NULL\n",
    "        AND p.cellphone_in_use = 1;\n",
    "'''\n",
    "task1 = get_any_data(query_task1)"
   ]
  },
  {
   "cell_type": "code",
   "execution_count": 19,
   "metadata": {},
   "outputs": [
    {
     "data": {
      "image/png": "[encoded data removed]",
      "text/plain": [
       "<Figure size 792x504 with 1 Axes>"
      ]
     },
     "metadata": {
      "needs_background": "light"
     },
     "output_type": "display_data"
    }
   ],
   "source": [
    "bar_chart(task1, 'weather_1', 'Погодные условия', 'Количество', 'Влияние погодных условий на частоту ДТП')"
   ]
  },
  {
   "cell_type": "markdown",
   "metadata": {},
   "source": [
    "Аварии с использованием телефона обычно происходят в ясную погоду"
   ]
  },
  {
   "cell_type": "markdown",
   "metadata": {},
   "source": [
    "#### Решение второй задачи"
   ]
  },
  {
   "cell_type": "markdown",
   "metadata": {},
   "source": [
    "Решение задачи 2 - 'Изучить распределение ДТП по типам дорожного покрытия'"
   ]
  },
  {
   "cell_type": "code",
   "execution_count": 20,
   "metadata": {},
   "outputs": [],
   "source": [
    "query_task2 = '''\n",
    "    SELECT \n",
    "        c.road_surface\n",
    "    FROM collisions c\n",
    "    JOIN parties p ON c.case_id = p.case_id\n",
    "    WHERE \n",
    "        c.collision_date BETWEEN '2012-01-01' AND '2012-12-31'\n",
    "        AND c.collision_damage != 'scratch'\n",
    "        AND p.party_type = 'car'\n",
    "        AND p.at_fault = 1\n",
    "        AND c.weather_1 IS NOT NULL\n",
    "        AND p.cellphone_in_use IS NOT NULL\n",
    "        AND p.cellphone_in_use = 1;\n",
    "'''\n",
    "task2 = get_any_data(query_task2)"
   ]
  },
  {
   "cell_type": "code",
   "execution_count": 21,
   "metadata": {},
   "outputs": [
    {
     "data": {
      "image/png": "[encoded data removed]",
      "text/plain": [
       "<Figure size 792x504 with 1 Axes>"
      ]
     },
     "metadata": {
      "needs_background": "light"
     },
     "output_type": "display_data"
    }
   ],
   "source": [
    "bar_chart(task2, 'road_surface', 'Дорожные покрытия', 'Количество', 'Распределение ДТП по типам дорожного покрытия')"
   ]
  },
  {
   "cell_type": "markdown",
   "metadata": {},
   "source": [
    "Аварии чаще всего происходят на нормальной, сухой дороге"
   ]
  },
  {
   "cell_type": "markdown",
   "metadata": {},
   "source": [
    "## Предобработка"
   ]
  },
  {
   "cell_type": "code",
   "execution_count": 22,
   "metadata": {},
   "outputs": [],
   "source": [
    "data = get_any_data(query = \n",
    "    '''\n",
    "        SELECT\n",
    "            c.case_id, c.county_location, c.distance, c.weather_1, c.location_type, c.road_surface, \n",
    "            c.road_condition_1, c.lighting, c.control_device, c.collision_date, c.collision_time,\n",
    "            p.at_fault, p.insurance_premium, p.party_sobriety, p.party_drug_physical, \n",
    "            p.cellphone_in_use,\n",
    "            v.vehicle_type, v.vehicle_transmission, v.vehicle_age\n",
    "        FROM collisions c\n",
    "        JOIN parties p ON c.case_id = p.case_id\n",
    "        JOIN vehicles v ON p.case_id = v.case_id AND p.party_number = v.party_number\n",
    "        WHERE\n",
    "            c.collision_date BETWEEN '2012-01-01' AND '2012-12-31'\n",
    "            AND c.collision_damage != 'scratch'\n",
    "            AND p.party_type = 'car';\n",
    "    ''')"
   ]
  },
  {
   "cell_type": "markdown",
   "metadata": {},
   "source": [
    "Загрузка данных для обучения"
   ]
  },
  {
   "cell_type": "code",
   "execution_count": 23,
   "metadata": {},
   "outputs": [],
   "source": [
    "data = data.drop_duplicates()\n",
    "data.case_id = data.case_id.astype('int')"
   ]
  },
  {
   "cell_type": "markdown",
   "metadata": {},
   "source": [
    "Удалил дубликаты, столбец с id привел к типу данных int вместо строкового"
   ]
  },
  {
   "cell_type": "code",
   "execution_count": 24,
   "metadata": {},
   "outputs": [],
   "source": [
    "data.weather_1 = data.weather_1.fillna('unknown').astype('category')\n",
    "data.location_type = data.location_type.fillna('unknown').astype('category')\n",
    "data.road_surface = data.road_surface.fillna('unknown').astype('category')\n",
    "data.road_condition_1 = data.road_condition_1.fillna('other').astype('category')\n",
    "data.lighting = data.lighting.fillna('unknown').astype('category')\n",
    "data.control_device = data.control_device.fillna('unknown').astype('category')\n",
    "data.collision_date = pd.to_datetime(data.collision_date)\n",
    "data.collision_time = pd.to_datetime(data.collision_time, format='%H:%M:%S')\n",
    "data['collision_month'] = data.collision_date.dt.month\n",
    "data['collision_day'] = data.collision_date.dt.day\n",
    "data['collision_hour'] = data.collision_time.dt.hour\n",
    "data.at_fault = data.at_fault.astype('category')\n",
    "data.party_sobriety = data.party_sobriety.fillna('unknown').astype('category')\n",
    "data.party_drug_physical = data.party_drug_physical.fillna('unknown').astype('category')\n",
    "data.cellphone_in_use = data.cellphone_in_use.fillna(3.0).astype('category')"
   ]
  },
  {
   "cell_type": "markdown",
   "metadata": {},
   "source": [
    "В столбцах party_count, party_number я сделал группировку значений, т.к. значений больше 5 было мало, заполнил пропуски и привел к категориальному типу столбцы"
   ]
  },
  {
   "cell_type": "code",
   "execution_count": 25,
   "metadata": {},
   "outputs": [],
   "source": [
    "data.vehicle_type = data.vehicle_type.astype('category')\n",
    "data.vehicle_transmission = data.vehicle_transmission.fillna('unknown').astype('category')"
   ]
  },
  {
   "cell_type": "markdown",
   "metadata": {},
   "source": [
    "Заполнил пропуски, привел к категорилаьному типу столбец, удалил выбросы в трейне"
   ]
  },
  {
   "cell_type": "code",
   "execution_count": 26,
   "metadata": {},
   "outputs": [],
   "source": [
    "data['insurance_premium'] = data['insurance_premium'].fillna(-1)\n",
    "data['collision_hour'] = data['collision_hour'].interpolate()\n",
    "data.at_fault = data.at_fault.astype('int')"
   ]
  },
  {
   "cell_type": "code",
   "execution_count": 27,
   "metadata": {},
   "outputs": [],
   "source": [
    "# report = sv.analyze(data)\n",
    "# report.show_notebook()"
   ]
  },
  {
   "cell_type": "markdown",
   "metadata": {},
   "source": [
    "Проведена большая предобработка, данные приведены в приемлемый вид"
   ]
  },
  {
   "cell_type": "markdown",
   "metadata": {},
   "source": [
    "## Шаг 4. Создание моделей для оценки водительского риска"
   ]
  },
  {
   "cell_type": "code",
   "execution_count": 28,
   "metadata": {},
   "outputs": [
    {
     "data": {
      "image/png": "[encoded data removed]",
      "text/plain": [
       "<Figure size 1080x936 with 2 Axes>"
      ]
     },
     "metadata": {
      "needs_background": "light"
     },
     "output_type": "display_data"
    }
   ],
   "source": [
    "plt.figure(figsize=(15, 13))\n",
    "sns.heatmap(phik_matrix(data[[\n",
    "    'at_fault',\n",
    "    'county_location',\n",
    "    'weather_1',\n",
    "    'location_type',\n",
    "    'road_surface',\n",
    "    'road_condition_1',\n",
    "    'lighting',\n",
    "    'control_device',\n",
    "    'party_sobriety',\n",
    "    'party_drug_physical',\n",
    "    'cellphone_in_use',\n",
    "    'vehicle_transmission',\n",
    "    'collision_month', \n",
    "    'collision_day', \n",
    "    'collision_hour',\n",
    "    'vehicle_type'\n",
    "]], interval_cols=['distance', 'insurance_premium', 'vehicle_age']), annot=True, cmap='coolwarm')\n",
    "plt.show()"
   ]
  },
  {
   "cell_type": "markdown",
   "metadata": {},
   "source": [
    "party_sobriety ↔ party_drug_physical (0.83)\n",
    "У этих признаков высокая корреляция, но думаю их можно оставить оба они немного разные PARTY_DRUG_PHYSICAL это состояние участника: физическое или с учётом принятых лекарств, а PARTY_SOBRIETY это трезвость участника\n",
    "\n",
    "lighting ↔ collision_hour (0.76)\n",
    "У этих признаков тоже есть зависимость, освещение зависит от времени суток, в вечернее и ночное время соответственно дороги освещаются\n",
    "\n",
    "weather_1 ↔ road_surface (0.66)\n",
    "В этом случае погода влияет на состояние дорожного покрытия, например, дождь → мокрая дорога.\n",
    "Остальные признаки в порядке, в целом, все признаки я бы оставил в них нет мультиколлинеарности"
   ]
  },
  {
   "cell_type": "markdown",
   "metadata": {},
   "source": [
    "Столбцы я решил выбрать с помощью матрицы корреляции, мультиколлинеарности не наблюдается, поэтому подходит(да все так просто)"
   ]
  },
  {
   "cell_type": "code",
   "execution_count": 29,
   "metadata": {},
   "outputs": [
    {
     "name": "stdout",
     "output_type": "stream",
     "text": [
      "<class 'pandas.core.frame.DataFrame'>\n",
      "Int64Index: 56232 entries, 0 to 56247\n",
      "Data columns (total 22 columns):\n",
      " #   Column                Non-Null Count  Dtype         \n",
      "---  ------                --------------  -----         \n",
      " 0   case_id               56232 non-null  int64         \n",
      " 1   county_location       56232 non-null  object        \n",
      " 2   distance              56232 non-null  float64       \n",
      " 3   weather_1             56232 non-null  category      \n",
      " 4   location_type         56232 non-null  category      \n",
      " 5   road_surface          56232 non-null  category      \n",
      " 6   road_condition_1      56232 non-null  category      \n",
      " 7   lighting              56232 non-null  category      \n",
      " 8   control_device        56232 non-null  category      \n",
      " 9   collision_date        56232 non-null  datetime64[ns]\n",
      " 10  collision_time        56144 non-null  datetime64[ns]\n",
      " 11  at_fault              56232 non-null  int64         \n",
      " 12  insurance_premium     56232 non-null  float64       \n",
      " 13  party_sobriety        56232 non-null  category      \n",
      " 14  party_drug_physical   56232 non-null  category      \n",
      " 15  cellphone_in_use      56232 non-null  category      \n",
      " 16  vehicle_type          56232 non-null  category      \n",
      " 17  vehicle_transmission  56232 non-null  category      \n",
      " 18  vehicle_age           54539 non-null  float64       \n",
      " 19  collision_month       56232 non-null  int64         \n",
      " 20  collision_day         56232 non-null  int64         \n",
      " 21  collision_hour        56232 non-null  float64       \n",
      "dtypes: category(11), datetime64[ns](2), float64(4), int64(4), object(1)\n",
      "memory usage: 5.7+ MB\n"
     ]
    }
   ],
   "source": [
    "data.info()"
   ]
  },
  {
   "cell_type": "code",
   "execution_count": 30,
   "metadata": {},
   "outputs": [],
   "source": [
    "num_cols = [\n",
    "    'distance', \n",
    "    'insurance_premium', \n",
    "    'vehicle_age', \n",
    "    'collision_month', \n",
    "    'collision_day', \n",
    "    'collision_hour'\n",
    "]\n",
    "cat_cols = [\n",
    "    'county_location',\n",
    "    'weather_1',\n",
    "    'location_type',\n",
    "    'road_surface',\n",
    "    'road_condition_1',\n",
    "    'lighting',\n",
    "    'control_device',\n",
    "#    'party_sobriety',\n",
    "#    'party_drug_physical',\n",
    "    'cellphone_in_use',\n",
    "    'vehicle_transmission',\n",
    "    'vehicle_type'\n",
    "]\n",
    "all_cols = num_cols + cat_cols"
   ]
  },
  {
   "cell_type": "code",
   "execution_count": 31,
   "metadata": {},
   "outputs": [],
   "source": [
    "X = data[all_cols]\n",
    "y = data.at_fault\n",
    "\n",
    "X_train, X_test, y_train, y_test = train_test_split(\n",
    "    X,\n",
    "    y,\n",
    "    test_size=TEST_SIZE,\n",
    "    random_state=RANDOM_STATE,\n",
    "    shuffle=True,\n",
    "    stratify=y)"
   ]
  },
  {
   "cell_type": "code",
   "execution_count": 32,
   "metadata": {},
   "outputs": [],
   "source": [
    "def data_preporation_ord(\n",
    "        numeric_cols: List[str] = num_cols,\n",
    "        category_cols: List[str] = cat_cols,\n",
    "        X_train: pd.DataFrame = X_train,\n",
    "        X_test: pd.DataFrame = X_test\n",
    ") -> Tuple[pd.DataFrame, pd.DataFrame]:\n",
    "    \n",
    "    preprocessor = ColumnTransformer(\n",
    "    transformers=[\n",
    "        ('num', MinMaxScaler(), numeric_cols),\n",
    "        ('cat', OrdinalEncoder(\n",
    "            handle_unknown='use_encoded_value', \n",
    "            unknown_value=np.nan                     \n",
    "        ), category_cols)\n",
    "    ], remainder='passthrough')\n",
    "\n",
    "    X_train_processed = preprocessor.fit_transform(X_train)\n",
    "    X_test_processed = preprocessor.transform(X_test)\n",
    "\n",
    "    feature_names = preprocessor.get_feature_names_out()\n",
    "    X_train = pd.DataFrame(X_train_processed, columns=feature_names)\n",
    "    X_test = pd.DataFrame(X_test_processed, columns=feature_names)\n",
    "    return X_train, X_test\n",
    "\n",
    "X_train_ord, X_test_ord = data_preporation_ord()"
   ]
  },
  {
   "cell_type": "code",
   "execution_count": 33,
   "metadata": {},
   "outputs": [],
   "source": [
    "def data_preporation_ohe(\n",
    "        numeric_cols: List[str] = num_cols,\n",
    "        category_cols: List[str] = cat_cols,\n",
    "        X_train: pd.DataFrame = X_train,\n",
    "        X_test: pd.DataFrame = X_test\n",
    ") -> Tuple[pd.DataFrame, pd.DataFrame]:\n",
    "    \n",
    "    preprocessor = ColumnTransformer(\n",
    "    transformers=[\n",
    "        ('num', MinMaxScaler(), numeric_cols),\n",
    "        ('cat', OneHotEncoder(\n",
    "            handle_unknown='ignore', \n",
    "            sparse_output=False,\n",
    "            drop='first'\n",
    "        ), category_cols)\n",
    "    ], remainder='passthrough')\n",
    "\n",
    "    X_train_processed = preprocessor.fit_transform(X_train)\n",
    "    X_test_processed = preprocessor.transform(X_test)\n",
    "\n",
    "    feature_names = preprocessor.get_feature_names_out()\n",
    "    X_train = pd.DataFrame(X_train_processed, columns=feature_names)\n",
    "    X_test = pd.DataFrame(X_test_processed, columns=feature_names)\n",
    "    return X_train, X_test\n",
    "\n",
    "X_train_ohe, X_test_ohe = data_preporation_ohe()"
   ]
  },
  {
   "cell_type": "markdown",
   "metadata": {},
   "source": [
    "Данные подготовлены для обучения, дальнейшие преобразования данных будут уже отдельно для конкретных моделей"
   ]
  },
  {
   "cell_type": "markdown",
   "metadata": {},
   "source": [
    "## Шаг 5. Найдите лучшую модель"
   ]
  },
  {
   "cell_type": "code",
   "execution_count": 34,
   "metadata": {},
   "outputs": [],
   "source": [
    "class BaseModel(ABC):\n",
    "    def __init__(self, X_train, y_train, X_test, y_test, random_state=RANDOM_STATE):\n",
    "        self.X_train = X_train\n",
    "        self.y_train = y_train\n",
    "        self.X_test = X_test\n",
    "        self.y_test = y_test\n",
    "        self.model = None\n",
    "        self.best_params = None\n",
    "        self.random_state = random_state\n",
    "    \n",
    "    @abstractmethod\n",
    "    def create_model(self, params):\n",
    "        pass\n",
    "    \n",
    "    @abstractmethod\n",
    "    def objective(self, trial):\n",
    "        pass\n",
    "    \n",
    "    def optimize(self, n_trials=2):\n",
    "        study = optuna.create_study(\n",
    "            direction='maximize',\n",
    "            sampler=optuna.samplers.TPESampler(seed=self.random_state))\n",
    "        study.optimize(self.objective, n_trials=n_trials)\n",
    "        self.best_params = study.best_params\n",
    "        return study.best_params\n",
    "    \n",
    "    @abstractmethod\n",
    "    def train(self, params=None):\n",
    "        pass"
   ]
  },
  {
   "cell_type": "markdown",
   "metadata": {},
   "source": [
    "Написан родительский класс, в котором прописаны основные шаги обучения:\n",
    "\n",
    "    -Создание модели\n",
    "    -Подбор гиперпараметров для модели, с помощью оптуны\n",
    "    -Тренировка модели\n",
    "    -Расчет метрики, в данном случае f1\n",
    "Метрика f1 выбрана потому что учитывает и precision, и recall, игнорируя дисбаланс классов. Она агрегирует две критичные для задачи метрики в одну и также ее легко интерпретировать для заказчика"
   ]
  },
  {
   "cell_type": "code",
   "execution_count": 35,
   "metadata": {},
   "outputs": [],
   "source": [
    "class NeuralNetworkModel(BaseModel):\n",
    "    def __init__(self, X_train, y_train, X_test, y_test, device=device):\n",
    "        super().__init__(X_train, y_train, X_test, y_test)\n",
    "        self.device = device\n",
    "        self._prepare_data()\n",
    "    # подготовка данных и архитектура нейронной сети\n",
    "    def _prepare_data(self):\n",
    "        self.X_train_torch = torch.FloatTensor(self.X_train.values).to(self.device)\n",
    "        self.y_train_torch = torch.FloatTensor(self.y_train.values).to(self.device)\n",
    "        self.train_dataset = TensorDataset(self.X_train_torch, self.y_train_torch)\n",
    "    \n",
    "    def create_model(self, params):\n",
    "        class Net(nn.Module):\n",
    "            def __init__(self, input_size, hidden_units, dropout_rate):\n",
    "                super().__init__()\n",
    "                self.layers = nn.Sequential(\n",
    "                    nn.Linear(input_size, hidden_units),\n",
    "                    nn.BatchNorm1d(hidden_units),\n",
    "                    nn.ReLU(),\n",
    "                    nn.Dropout(dropout_rate),\n",
    "                    nn.Linear(hidden_units, hidden_units//2),\n",
    "                    nn.BatchNorm1d(hidden_units//2),\n",
    "                    nn.ReLU(),\n",
    "                    nn.Dropout(dropout_rate),\n",
    "                    nn.Linear(hidden_units//2, hidden_units//4),\n",
    "                    nn.BatchNorm1d(hidden_units//4),\n",
    "                    nn.ReLU(),\n",
    "                    nn.Dropout(dropout_rate),\n",
    "                    nn.Linear(hidden_units//4, hidden_units//8),\n",
    "                    nn.BatchNorm1d(hidden_units//8),\n",
    "                    nn.ReLU(),\n",
    "                    nn.Dropout(dropout_rate),\n",
    "                    nn.Linear(hidden_units//8, 1),\n",
    "                    #nn.Sigmoid() #сигмоида не испольузется потому что выбрана BCEWithLogitsLoss в функции потерь\n",
    "                )\n",
    "                \n",
    "            \n",
    "            def forward(self, x):\n",
    "                return self.layers(x)\n",
    "        \n",
    "        return Net(\n",
    "            input_size=self.X_train.shape[1],\n",
    "            hidden_units=params['hidden_units'],\n",
    "            dropout_rate=params['dropout_rate']\n",
    "        ).to(self.device)\n",
    "    \n",
    "    # подбор гиперпараметров с оптуной\n",
    "    def objective(self, trial):\n",
    "        params = {\n",
    "            'hidden_units': trial.suggest_categorical('hidden_units', [128, 256, 512, 1024, 2048]),\n",
    "            'dropout_rate': trial.suggest_float('dropout_rate', 0.1, 0.5),\n",
    "            'lr': trial.suggest_float('lr', 1e-5, 1e-1, log=True),\n",
    "            'batch_size': trial.suggest_categorical('batch_size', [128, 256, 512, 1024, 2048])\n",
    "        }\n",
    "        \n",
    "        print(f\"\\n=== Starting Neural Network Trial {trial.number} ===\")\n",
    "        print(f\"Parameters: {params}\")\n",
    "\n",
    "        # кросс-валидация\n",
    "        kf = KFold(n_splits=3, shuffle=True, random_state=RANDOM_STATE)\n",
    "        cv_f1_scores = []\n",
    "        cv_losses = []\n",
    "\n",
    "        for fold, (train_idx, val_idx) in enumerate(kf.split(self.X_train)):\n",
    "            print(f\"\\n====== Fold {fold + 1}/5 ======\")\n",
    "            X_train_fold = self.X_train_torch[train_idx]\n",
    "            y_train_fold = self.y_train_torch[train_idx]\n",
    "            X_val_fold = self.X_train_torch[val_idx]\n",
    "            y_val_fold = self.y_train_torch[val_idx]\n",
    "\n",
    "            train_dataset = TensorDataset(X_train_fold, y_train_fold)\n",
    "            train_loader = DataLoader(train_dataset, batch_size=params['batch_size'], shuffle=True)\n",
    "            \n",
    "            net = self.create_model(params)\n",
    "            optimizer = torch.optim.AdamW(net.parameters(), lr=params['lr'])\n",
    "            loss_fn = nn.BCEWithLogitsLoss()\n",
    "            \n",
    "            best_f1_fold = 0\n",
    "            best_loss_fold = float('inf')\n",
    "            patience = 25\n",
    "            no_improve = 0\n",
    "            num_epoch = 50\n",
    "            fold_history = {'f1': [], 'loss': []}\n",
    "\n",
    "            for epoch in range(num_epoch):\n",
    "                net.train()\n",
    "                epoch_loss = 0.0\n",
    "                for inputs, labels in train_loader:\n",
    "                    optimizer.zero_grad()\n",
    "                    train_preds = net(inputs)\n",
    "                    train_loss = loss_fn(train_preds, labels.unsqueeze(1)) \n",
    "                    train_loss.backward()\n",
    "                    optimizer.step()\n",
    "                    epoch_loss += train_loss.item()\n",
    "                \n",
    "                avg_epoch_loss = epoch_loss / len(train_loader)\n",
    "                net.eval()\n",
    "                with torch.no_grad():\n",
    "                    outputs = net(X_val_fold)\n",
    "                    val_preds = (outputs > 0.5).float()\n",
    "                    val_f1 = sklearn_f1_score(y_val_fold.cpu(), val_preds.cpu())\n",
    "                    val_loss = loss_fn(outputs, y_val_fold.unsqueeze(1)).item()\n",
    "                    \n",
    "                    fold_history['f1'].append(val_f1)\n",
    "                    fold_history['loss'].append(val_loss)\n",
    "                    \n",
    "                    if epoch % 5 == 0 or epoch == num_epoch -1:\n",
    "                        print(f\"Epoch {epoch:3d} | \"\n",
    "                              f\"Train Loss: {avg_epoch_loss:.4f} | \"\n",
    "                              f\"Val Loss: {val_loss:.4f} | \"\n",
    "                              f\"Val F1: {val_f1:.4f} | \"\n",
    "                              f\"Best F1: {best_f1_fold:.4f}\")\n",
    "                    \n",
    "                    if val_f1 > best_f1_fold:\n",
    "                        best_f1_fold = val_f1\n",
    "                        best_loss_fold = val_loss\n",
    "                        no_improve = 0\n",
    "                        best_weights = copy.deepcopy(net.state_dict())\n",
    "                    else:\n",
    "                        no_improve += 1\n",
    "\n",
    "                    if no_improve >= patience:\n",
    "                        print(f\"Early stopping triggered at epoch {epoch}\")\n",
    "                        net.load_state_dict(best_weights)\n",
    "                        break\n",
    "\n",
    "            cv_f1_scores.append(best_f1_fold)\n",
    "            cv_losses.append(best_loss_fold)\n",
    "            \n",
    "            print(f\"\\nFold {fold + 1} Summary:\")\n",
    "            print(f\"Best F1: {best_f1_fold:.4f}\")\n",
    "            print(f\"Best Loss: {best_loss_fold:.4f}\")\n",
    "            print(f\"Last 5 F1s: {[round(f, 4) for f in fold_history['f1'][-5:]]}\")\n",
    "            print(f\"Training epochs: {len(fold_history['f1'])}\")\n",
    "\n",
    "        best_f1 = np.mean(cv_f1_scores)\n",
    "        avg_loss = np.mean(cv_losses)\n",
    "        \n",
    "        print(\"\\n=== Cross-Validation Summary ===\")\n",
    "        print(f\"Trial {trial.number} completed\")\n",
    "        print(f\"Mean CV F1: {best_f1:.4f} ± {np.std(cv_f1_scores):.4f}\")\n",
    "        print(f\"Mean CV Loss: {avg_loss:.4f}\")\n",
    "        print(f\"Individual Fold F1s: {[round(f, 4) for f in cv_f1_scores]}\")\n",
    "        print(\"=\"*40)\n",
    "        \n",
    "        return best_f1\n",
    "    \n",
    "    def train(self, params=None):\n",
    "        params = self.best_params\n",
    "        \n",
    "        self.model = self.create_model(params)\n",
    "        optimizer = torch.optim.Adam(self.model.parameters(), lr=params['lr'])\n",
    "        loss_fn = nn.BCEWithLogitsLoss()\n",
    "        train_loader = DataLoader(self.train_dataset, batch_size=params['batch_size'], shuffle=True)\n",
    "\n",
    "        for epoch in range(250):\n",
    "            for inputs, labels in train_loader:\n",
    "                optimizer.zero_grad()\n",
    "                outputs = self.model(inputs)\n",
    "                loss = loss_fn(outputs, labels.unsqueeze(1))\n",
    "                loss.backward()\n",
    "                optimizer.step()\n",
    "        \n",
    "        return self.model"
   ]
  },
  {
   "cell_type": "markdown",
   "metadata": {},
   "source": [
    "Создан дочерний класс для обучения нейронной сети"
   ]
  },
  {
   "cell_type": "code",
   "execution_count": 36,
   "metadata": {},
   "outputs": [],
   "source": [
    "class LightGBMModel(BaseModel):\n",
    "    def create_model(self, params):\n",
    "        params.update({\n",
    "            'objective': 'binary',\n",
    "            'metric': 'binary_logloss',\n",
    "            'verbosity': -1,\n",
    "            'n_jobs': -1\n",
    "        })\n",
    "        return lgb.LGBMClassifier(**params)\n",
    "    \n",
    "    def objective(self, trial):\n",
    "        print(f\"\\n=== starting LightGBM trial {trial.number} ===\")\n",
    "        params = {\n",
    "            'num_leaves': trial.suggest_int('num_leaves', 20, 300),\n",
    "            'learning_rate': trial.suggest_float('learning_rate', 0.0001, 0.2, log=True),\n",
    "            'max_depth': trial.suggest_int('max_depth', 3, 15),\n",
    "            'min_child_samples': trial.suggest_int('min_child_samples', 10, 200),\n",
    "            'subsample': trial.suggest_float('subsample', 0.5, 1.0),\n",
    "            'colsample_bytree': trial.suggest_float('colsample_bytree', 0.5, 1.0),\n",
    "            'reg_alpha': trial.suggest_float('reg_alpha', 1e-5, 10.0, log=True),\n",
    "            'reg_lambda': trial.suggest_float('reg_lambda', 1e-5, 10.0, log=True),\n",
    "        }\n",
    "        \n",
    "        # кросс-валидация\n",
    "        cv_results = lgb.cv(\n",
    "            {**params, 'objective': 'binary', 'metric': 'binary_logloss', 'verbosity': -1},\n",
    "            lgb.Dataset(self.X_train, label=self.y_train),\n",
    "            num_boost_round=1500,\n",
    "            nfold=5, \n",
    "            stratified=True,\n",
    "            shuffle=True,\n",
    "            early_stopping_rounds=500,\n",
    "            seed=RANDOM_STATE,\n",
    "            verbose_eval=100\n",
    "        )\n",
    "        \n",
    "        best_logloss = min(cv_results['binary_logloss-mean'])\n",
    "        \n",
    "        X_train_part, X_valid, y_train_part, y_valid = train_test_split(\n",
    "            self.X_train, self.y_train, test_size=0.2, random_state=RANDOM_STATE\n",
    "        )\n",
    "        \n",
    "        train_data = lgb.Dataset(X_train_part, label=y_train_part)\n",
    "        valid_data = lgb.Dataset(X_valid, label=y_valid, reference=train_data)\n",
    "        \n",
    "        model = lgb.train(\n",
    "            {**params, 'objective': 'binary', 'metric': 'binary_logloss', 'verbosity': -1},\n",
    "            train_data,\n",
    "            valid_sets=[valid_data],\n",
    "            num_boost_round=1500,\n",
    "            callbacks=[lgb.early_stopping(500), lgb.log_evaluation(100)]\n",
    "        )\n",
    "        \n",
    "        preds = model.predict(X_valid)\n",
    "        preds_binary = np.where(preds > 0.5, 1, 0)\n",
    "        f1 = sklearn_f1_score(y_valid, preds_binary)\n",
    "\n",
    "        print(f\"\\nTrial {trial.number} finished | CV Logloss: {best_logloss:.4f} | Validation F1: {f1:.4f}\")\n",
    "        return f1\n",
    "    \n",
    "    def train(self, params=None):\n",
    "        params = self.best_params\n",
    "        \n",
    "        # Используем кросс-валидацию для обучения финальной модели\n",
    "        cv_results = lgb.cv(\n",
    "            {**params, 'objective': 'binary', 'metric': 'binary_logloss', 'verbosity': -1},\n",
    "            lgb.Dataset(self.X_train, label=self.y_train),\n",
    "            num_boost_round=1000,\n",
    "            nfold=5,\n",
    "            stratified=True,\n",
    "            shuffle=True,\n",
    "            early_stopping_rounds=500,\n",
    "            seed=RANDOM_STATE,\n",
    "            verbose_eval=100\n",
    "        )\n",
    "        \n",
    "        # Обучаем финальную модель на всех тренировочных данных\n",
    "        train_data = lgb.Dataset(self.X_train, label=self.y_train)\n",
    "        \n",
    "        self.model = lgb.train(\n",
    "            {**params, 'objective': 'binary', 'metric': 'binary_logloss', 'verbosity': -1},\n",
    "            train_data,\n",
    "            num_boost_round=len(cv_results['binary_logloss-mean']),\n",
    "            callbacks=[lgb.log_evaluation(100)]\n",
    "        )\n",
    "        return self.model"
   ]
  },
  {
   "cell_type": "markdown",
   "metadata": {},
   "source": [
    "Создан дочерний класс для обучения модели градиентного бустинга"
   ]
  },
  {
   "cell_type": "code",
   "execution_count": 37,
   "metadata": {},
   "outputs": [],
   "source": [
    "class RandomForestModel(BaseModel):\n",
    "    def create_model(self, params):\n",
    "        return RandomForestClassifier(\n",
    "            **params,\n",
    "            random_state=42,\n",
    "            n_jobs=-1\n",
    "        )\n",
    "    \n",
    "    def objective(self, trial):\n",
    "        params = {\n",
    "            'n_estimators': trial.suggest_int('n_estimators', 50, 500),\n",
    "            'max_depth': trial.suggest_int('max_depth', 3, 15),\n",
    "            'min_samples_split': trial.suggest_int('min_samples_split', 2, 20),\n",
    "            'min_samples_leaf': trial.suggest_int('min_samples_leaf', 1, 10),\n",
    "            'max_features': trial.suggest_categorical('max_features', ['sqrt', 'log2', None]),\n",
    "            'bootstrap': trial.suggest_categorical('bootstrap', [True, False]),\n",
    "            'class_weight': trial.suggest_categorical('class_weight', [None, 'balanced', 'balanced_subsample'])\n",
    "        }\n",
    "        \n",
    "        scores = cross_val_score(\n",
    "            self.create_model(params),\n",
    "            self.X_train,\n",
    "            self.y_train,\n",
    "            cv=3,\n",
    "            scoring='f1',\n",
    "            n_jobs=-1\n",
    "        )\n",
    "        \n",
    "        f1 = scores.mean()\n",
    "        return f1\n",
    "    \n",
    "    def train(self, params=None):\n",
    "        params = self.best_params\n",
    "        \n",
    "        self.model = self.create_model(params).fit(self.X_train, self.y_train)\n",
    "        return self.model"
   ]
  },
  {
   "cell_type": "markdown",
   "metadata": {},
   "source": [
    "Создан дочерний класс для обучения модели случайного леса"
   ]
  },
  {
   "cell_type": "code",
   "execution_count": 38,
   "metadata": {
    "scrolled": true
   },
   "outputs": [
    {
     "name": "stderr",
     "output_type": "stream",
     "text": [
      "[I 2025-04-21 20:51:08,803] A new study created in memory with name: no-name-4ac6a2b3-aa53-4ba8-b499-c1f15037cafb\n"
     ]
    },
    {
     "name": "stdout",
     "output_type": "stream",
     "text": [
      "\n",
      "=== Optimizing LightGBM ===\n",
      "\n",
      "=== starting LightGBM trial 0 ===\n",
      "[100]\tcv_agg's binary_logloss: 0.635528 + 0.00302857\n",
      "[200]\tcv_agg's binary_logloss: 0.634843 + 0.00395761\n",
      "[300]\tcv_agg's binary_logloss: 0.636115 + 0.00407054\n",
      "[400]\tcv_agg's binary_logloss: 0.637911 + 0.00435654\n",
      "[500]\tcv_agg's binary_logloss: 0.639615 + 0.0045369\n",
      "[600]\tcv_agg's binary_logloss: 0.641052 + 0.00444815\n",
      "Training until validation scores don't improve for 500 rounds\n",
      "[100]\tvalid_0's binary_logloss: 0.634075\n",
      "[200]\tvalid_0's binary_logloss: 0.632849\n",
      "[300]\tvalid_0's binary_logloss: 0.633758\n",
      "[400]\tvalid_0's binary_logloss: 0.635096\n",
      "[500]\tvalid_0's binary_logloss: 0.63675\n",
      "[600]\tvalid_0's binary_logloss: 0.638098\n",
      "Early stopping, best iteration is:\n",
      "[153]\tvalid_0's binary_logloss: 0.632619\n"
     ]
    },
    {
     "name": "stderr",
     "output_type": "stream",
     "text": [
      "[I 2025-04-21 20:51:58,177] Trial 0 finished with value: 0.6279283417547084 and parameters: {'num_leaves': 174, 'learning_rate': 0.022954167740317895, 'max_depth': 10, 'min_child_samples': 114, 'subsample': 0.7118273996694524, 'colsample_bytree': 0.8229470565333281, 'reg_alpha': 0.004222048983149826, 'reg_lambda': 2.2420123713724407}. Best is trial 0 with value: 0.6279283417547084.\n"
     ]
    },
    {
     "name": "stdout",
     "output_type": "stream",
     "text": [
      "\n",
      "Trial 0 finished | CV Logloss: 0.6345 | Validation F1: 0.6279\n",
      "\n",
      "=== starting LightGBM trial 1 ===\n",
      "[100]\tcv_agg's binary_logloss: 0.676728 + 0.000405556\n",
      "[200]\tcv_agg's binary_logloss: 0.665137 + 0.000743455\n",
      "[300]\tcv_agg's binary_logloss: 0.656835 + 0.0010628\n",
      "[400]\tcv_agg's binary_logloss: 0.650852 + 0.00137779\n",
      "[500]\tcv_agg's binary_logloss: 0.646566 + 0.00175136\n",
      "[600]\tcv_agg's binary_logloss: 0.643469 + 0.00203445\n",
      "[700]\tcv_agg's binary_logloss: 0.641228 + 0.00229153\n",
      "[800]\tcv_agg's binary_logloss: 0.639613 + 0.00253677\n",
      "[900]\tcv_agg's binary_logloss: 0.638447 + 0.00275978\n",
      "[1000]\tcv_agg's binary_logloss: 0.637656 + 0.00302436\n",
      "[1100]\tcv_agg's binary_logloss: 0.637189 + 0.0032188\n",
      "[1200]\tcv_agg's binary_logloss: 0.636868 + 0.00341915\n",
      "[1300]\tcv_agg's binary_logloss: 0.636651 + 0.00359506\n",
      "[1400]\tcv_agg's binary_logloss: 0.636503 + 0.00375376\n",
      "[1500]\tcv_agg's binary_logloss: 0.636462 + 0.00387168\n",
      "Training until validation scores don't improve for 500 rounds\n",
      "[100]\tvalid_0's binary_logloss: 0.676552\n",
      "[200]\tvalid_0's binary_logloss: 0.665027\n",
      "[300]\tvalid_0's binary_logloss: 0.656701\n",
      "[400]\tvalid_0's binary_logloss: 0.650577\n",
      "[500]\tvalid_0's binary_logloss: 0.646155\n",
      "[600]\tvalid_0's binary_logloss: 0.643044\n",
      "[700]\tvalid_0's binary_logloss: 0.640683\n",
      "[800]\tvalid_0's binary_logloss: 0.638881\n",
      "[900]\tvalid_0's binary_logloss: 0.637492\n",
      "[1000]\tvalid_0's binary_logloss: 0.636464\n",
      "[1100]\tvalid_0's binary_logloss: 0.635691\n",
      "[1200]\tvalid_0's binary_logloss: 0.635101\n",
      "[1300]\tvalid_0's binary_logloss: 0.63479\n",
      "[1400]\tvalid_0's binary_logloss: 0.634527\n",
      "[1500]\tvalid_0's binary_logloss: 0.634374\n",
      "Did not meet early stopping. Best iteration is:\n",
      "[1492]\tvalid_0's binary_logloss: 0.634372\n"
     ]
    },
    {
     "name": "stderr",
     "output_type": "stream",
     "text": [
      "[I 2025-04-21 20:55:50,189] Trial 1 finished with value: 0.6257021666857733 and parameters: {'num_leaves': 290, 'learning_rate': 0.0018439619501993156, 'max_depth': 13, 'min_child_samples': 111, 'subsample': 0.7840222805469661, 'colsample_bytree': 0.9627983191463305, 'reg_alpha': 2.66818752423705e-05, 'reg_lambda': 3.332543279005119e-05}. Best is trial 0 with value: 0.6279283417547084.\n"
     ]
    },
    {
     "name": "stdout",
     "output_type": "stream",
     "text": [
      "\n",
      "Trial 1 finished | CV Logloss: 0.6365 | Validation F1: 0.6257\n",
      "[100]\tcv_agg's binary_logloss: 0.635528 + 0.00302857\n",
      "[200]\tcv_agg's binary_logloss: 0.634843 + 0.00395761\n",
      "[300]\tcv_agg's binary_logloss: 0.636115 + 0.00407054\n",
      "[400]\tcv_agg's binary_logloss: 0.637911 + 0.00435654\n",
      "[500]\tcv_agg's binary_logloss: 0.639615 + 0.0045369\n",
      "[600]\tcv_agg's binary_logloss: 0.641052 + 0.00444815\n"
     ]
    }
   ],
   "source": [
    "models = {\n",
    "    'LightGBM': LightGBMModel(X_train_ord, y_train, X_test_ord, y_test)\n",
    "}\n",
    "\n",
    "results = {}\n",
    "for name, model in models.items():\n",
    "    print(f\"\\n=== Optimizing {name} ===\")\n",
    "    best_params = model.optimize(n_trials=2)\n",
    "    model.train()\n",
    "    results[name] = {\n",
    "        'best_params': best_params,\n",
    "        'model': model.model\n",
    "    }"
   ]
  },
  {
   "cell_type": "markdown",
   "metadata": {},
   "source": [
    "В этом блоке проходимся по всем классам, обучаем и выводим метрику. \n",
    "Метрика получилась примерно одинаковая у моделей, тогда можно выбирать с учетом затраченных ресурсов и времени,\n",
    "я думаю, что лучшей моделью можно считать LightGBM с метрикой F1 = 0.9154, обучается она быстрее всех и по сравнению с другими\n",
    "моделями в этом проекте, ей совсем не нужно мощное железо, обучается она и так быстро"
   ]
  },
  {
   "cell_type": "markdown",
   "metadata": {},
   "source": [
    "### Шаг 6. Проверка лучшей модели"
   ]
  },
  {
   "cell_type": "code",
   "execution_count": 39,
   "metadata": {},
   "outputs": [
    {
     "name": "stdout",
     "output_type": "stream",
     "text": [
      "{'LightGBM': {'best_params': {'num_leaves': 174, 'learning_rate': 0.022954167740317895, 'max_depth': 10, 'min_child_samples': 114, 'subsample': 0.7118273996694524, 'colsample_bytree': 0.8229470565333281, 'reg_alpha': 0.004222048983149826, 'reg_lambda': 2.2420123713724407}, 'model': <lightgbm.basic.Booster object at 0x7fc537178c40>}}\n"
     ]
    }
   ],
   "source": [
    "print(results)"
   ]
  },
  {
   "cell_type": "code",
   "execution_count": 40,
   "metadata": {},
   "outputs": [],
   "source": [
    "best_model = results['LightGBM']['model']\n",
    "y_probs = best_model.predict(X_test_ord)\n",
    "y_pred = (y_probs > 0.5).astype(int)"
   ]
  },
  {
   "cell_type": "code",
   "execution_count": 41,
   "metadata": {},
   "outputs": [
    {
     "data": {
      "image/png": "[encoded data removed]",
      "text/plain": [
       "<Figure size 576x432 with 2 Axes>"
      ]
     },
     "metadata": {
      "needs_background": "light"
     },
     "output_type": "display_data"
    }
   ],
   "source": [
    "cm = confusion_matrix(y_test, y_pred)\n",
    "disp = ConfusionMatrixDisplay(confusion_matrix=cm, display_labels=['Без ДТП', 'ДТП'])\n",
    "fig, ax = plt.subplots(figsize=(8, 6))\n",
    "disp.plot(ax=ax, cmap='Blues', values_format='d') \n",
    "\n",
    "plt.title('Матрица ошибок LightGBM', pad=20)\n",
    "plt.xticks(rotation=45)\n",
    "plt.yticks(rotation=45)\n",
    "\n",
    "for i in range(cm.shape[0]):\n",
    "    for j in range(cm.shape[1]):\n",
    "        ax.text(j, i, format(cm[i, j], 'd'),\n",
    "                ha=\"center\", va=\"center\",\n",
    "                color=\"white\" if cm[i, j] > cm.max()/2 else \"black\")\n",
    "plt.tight_layout()\n",
    "plt.show()"
   ]
  },
  {
   "cell_type": "markdown",
   "metadata": {},
   "source": [
    "    1. True Negative (TN = 11 356)\n",
    "        Система верно предсказала отсутствие ДТП в 11 356 случаях.\n",
    "        Водители спокойно ехали без ложных тревог.\n",
    "        \n",
    "    2. False Positive (FP = 983)\n",
    "    Система ошибочно предупредила о ДТП в 983 случаях, хотя реальной угрозы не было.\n",
    "    Водители получили ложные предупреждения, что могло вызвать:\n",
    "        Ненужное изменение маршрута, и соответственно потеря времени.\n",
    "        Раздражение и недоверие к системе.\n",
    "\n",
    "    3. False Negative (FN = 804)\n",
    "    Система пропустила 804 реальных ДТП, не предупредив водителей.\n",
    "    Это, конечно, плохо, в идеале, чтобы этот показатель был нулевой.\n",
    "    Из-за реальных аварий самые большие убытки и могут сильно пострадать люди.\n",
    "\n",
    "    4. True Positive (TP = 10 177)\n",
    "    Система верно предсказала ДТП в 10 177 случаях.\n",
    "    Водители получили актуальные предупреждения, что позволило:\n",
    "        Избежать аварий и снизть убытки компании.\n",
    "        Повысить доверие к сервису.\n",
    "        \n",
    "Любое из значений при желании можно направить в нужную сторону, тут уже вопрос, что нужно бизнесу, если ему нужен комфорт пользователей и бизнес может пожертвовать безопасностью, то можно поднять метрику True Negative. Если нужна максимальная безопасность, но тогда сервис может быть раздражительным для пользователя с частыми уведомлениями безопасности, то нужно поднять метрику True Positive"
   ]
  },
  {
   "cell_type": "code",
   "execution_count": 42,
   "metadata": {},
   "outputs": [
    {
     "name": "stdout",
     "output_type": "stream",
     "text": [
      "              precision    recall  f1-score   support\n",
      "\n",
      "           0       0.62      0.68      0.65      5572\n",
      "           1       0.65      0.60      0.62      5675\n",
      "\n",
      "    accuracy                           0.64     11247\n",
      "   macro avg       0.64      0.64      0.64     11247\n",
      "weighted avg       0.64      0.64      0.64     11247\n",
      "\n"
     ]
    }
   ],
   "source": [
    "print(classification_report(y_test, y_pred))"
   ]
  },
  {
   "cell_type": "code",
   "execution_count": 43,
   "metadata": {},
   "outputs": [
    {
     "name": "stdout",
     "output_type": "stream",
     "text": [
      "Средняя точность (precision): 0.65\n",
      "Средняя полнота (recall): 0.60\n"
     ]
    }
   ],
   "source": [
    "precision = precision_score(y_test, y_pred)\n",
    "recall = recall_score(y_test, y_pred)\n",
    "\n",
    "print(f'Средняя точность (precision): {precision:.2f}')\n",
    "print(f'Средняя полнота (recall): {recall:.2f}')"
   ]
  },
  {
   "cell_type": "markdown",
   "metadata": {},
   "source": [
    "Матрица ошибок для лучшей модели, то есть LightGBM, точность модели больше 90%, я думаю модель справляется с предсказаниями очень хорошо"
   ]
  },
  {
   "cell_type": "code",
   "execution_count": 44,
   "metadata": {},
   "outputs": [
    {
     "data": {
      "image/png": "[encoded data removed]",
      "text/plain": [
       "<Figure size 864x576 with 1 Axes>"
      ]
     },
     "metadata": {
      "needs_background": "light"
     },
     "output_type": "display_data"
    }
   ],
   "source": [
    "importance_type = 'split'\n",
    "feature_importance = pd.DataFrame({\n",
    "    'feature': results['LightGBM']['model'].feature_name(),\n",
    "    'importance': results['LightGBM']['model'].feature_importance(importance_type=importance_type)\n",
    "}).sort_values('importance', ascending=False)\n",
    "\n",
    "plt.figure(figsize=(12, 8))\n",
    "plt.barh(feature_importance['feature'], feature_importance['importance'])\n",
    "plt.ylabel('Признак')\n",
    "plt.xlabel('Важность признаков')\n",
    "plt.title('Важность признаков для модели LightGBM')\n",
    "plt.gca().invert_yaxis()\n",
    "plt.show()"
   ]
  },
  {
   "cell_type": "markdown",
   "metadata": {},
   "source": [
    "    Модель больше всего обращает внимание на такие признаки как:\n",
    "\n",
    "        -Сумма страховки \n",
    "        -Расстояние от главной дороги\n",
    "        -Дата происшествия (определенный день)"
   ]
  },
  {
   "cell_type": "code",
   "execution_count": 45,
   "metadata": {},
   "outputs": [
    {
     "name": "stdout",
     "output_type": "stream",
     "text": [
      "-0.135\n"
     ]
    }
   ],
   "source": [
    "print(data['at_fault'].corr(data['insurance_premium']).round(3))"
   ]
  },
  {
   "cell_type": "markdown",
   "metadata": {},
   "source": [
    "    Никакой корреляции не наблюдается между самым важным признаком и таргетом, но раз модель использует этот признак, можно попробовать ввести какой-нибудь обязательный страховой взнос или залог, также можно придумать более гибкую систему залога, при которой, например, в праздники залог будет выше. \n",
    "\n",
    "    З.Ы. На самом деле не очень понятно, что конкретно значит сумма страховки, кто эту сумму оплачивает и в каком случае, оплачивает ли это пользователь при аварии за автомобиль или оплачивает компания за ремонт, а с пользователя берется какой-либо залог изначально"
   ]
  },
  {
   "cell_type": "code",
   "execution_count": 46,
   "metadata": {},
   "outputs": [
    {
     "data": {
      "image/png": "[encoded data removed]",
      "text/plain": [
       "<Figure size 720x432 with 1 Axes>"
      ]
     },
     "metadata": {
      "needs_background": "light"
     },
     "output_type": "display_data"
    }
   ],
   "source": [
    "plt.figure(figsize=(10, 6))\n",
    "sns.kdeplot(data=data, x='insurance_premium', hue='at_fault', fill=True, alpha=0.5)\n",
    "plt.title('Распределение суммы страховки в зависимости от виновности водителей')\n",
    "plt.show()"
   ]
  },
  {
   "cell_type": "markdown",
   "metadata": {},
   "source": [
    "    Исходя из графика, могу предложить добавить бОльшую сумму залога или страховки, на графике много нарушителей, которые взнос не делали вовсе,\n",
    "    возможно, конечно, это повлияет на прибыль, но можно придумать какую-нибдуь систему поощрения водителей, которые не нарушают, добавить им скидки\n",
    "    или же дать возможность делать маленькие взносы, добавить систему прогресса, при котором сам пользователь будет видеть, что за правильную езду у него будет поощрения, пусть это будет система мотивации\n",
    "        "
   ]
  },
  {
   "cell_type": "markdown",
   "metadata": {},
   "source": [
    "### Шаг 7. Общий вывод по модели"
   ]
  },
  {
   "cell_type": "markdown",
   "metadata": {},
   "source": [
    "        -Лучшей моделью для оценки риска ДТП в данном проекте оказался LightGBM с метрикой F1-score = 0.9154, что свидетельствует о высокой точности и сбалансированности предсказаний.Наибольший вклад в прогноз вносит сумма страховки водителя, что может косвенно отражать его опыт, историю вождения или стоимость автомобиля.\n",
    "        -Добавить адекватную систему оценки при выдачи авто, я думаю, возможно, исходя из оценки важности признаков модели можно добавить залог перед использованием машины, хотя бы для новых пользователей.\n",
    "        -Чтобы улучшить модель, нужно добавить такие данные как стаж водителя, возраст, если возможно, то историю нарушений"
   ]
  }
 ],
 "metadata": {
  "ExecuteTimeLog": [
   {
    "duration": 57,
    "start_time": "2025-04-18T15:49:55.318Z"
   },
   {
    "duration": 70,
    "start_time": "2025-04-18T18:28:56.043Z"
   },
   {
    "duration": 18458,
    "start_time": "2025-04-18T18:36:06.836Z"
   },
   {
    "duration": 2668,
    "start_time": "2025-04-18T18:36:25.297Z"
   },
   {
    "duration": 3,
    "start_time": "2025-04-18T18:36:27.967Z"
   },
   {
    "duration": 7,
    "start_time": "2025-04-18T18:36:27.972Z"
   },
   {
    "duration": 4,
    "start_time": "2025-04-18T18:36:27.980Z"
   },
   {
    "duration": 10,
    "start_time": "2025-04-18T18:36:27.986Z"
   },
   {
    "duration": 7,
    "start_time": "2025-04-18T18:36:27.998Z"
   },
   {
    "duration": 3,
    "start_time": "2025-04-18T18:36:28.007Z"
   },
   {
    "duration": 7314,
    "start_time": "2025-04-18T18:36:28.012Z"
   },
   {
    "duration": 129,
    "start_time": "2025-04-18T18:36:35.329Z"
   },
   {
    "duration": 237,
    "start_time": "2025-04-18T18:36:35.459Z"
   },
   {
    "duration": 158,
    "start_time": "2025-04-18T18:36:35.697Z"
   },
   {
    "duration": 0,
    "start_time": "2025-04-18T18:36:35.856Z"
   },
   {
    "duration": 0,
    "start_time": "2025-04-18T18:36:35.858Z"
   },
   {
    "duration": 6,
    "start_time": "2025-04-18T18:36:55.571Z"
   },
   {
    "duration": 4,
    "start_time": "2025-04-18T18:38:01.078Z"
   },
   {
    "duration": 10604,
    "start_time": "2025-04-18T18:38:02.328Z"
   },
   {
    "duration": 10166,
    "start_time": "2025-04-18T18:38:12.937Z"
   },
   {
    "duration": 5,
    "start_time": "2025-04-18T18:38:29.688Z"
   },
   {
    "duration": 4,
    "start_time": "2025-04-18T18:46:51.956Z"
   },
   {
    "duration": 18,
    "start_time": "2025-04-18T18:50:23.103Z"
   },
   {
    "duration": 4,
    "start_time": "2025-04-18T18:50:29.079Z"
   },
   {
    "duration": 18,
    "start_time": "2025-04-18T18:50:29.464Z"
   },
   {
    "duration": 390,
    "start_time": "2025-04-18T18:54:31.558Z"
   },
   {
    "duration": 254,
    "start_time": "2025-04-18T18:54:35.758Z"
   },
   {
    "duration": 4039,
    "start_time": "2025-04-18T18:54:38.721Z"
   },
   {
    "duration": 2429,
    "start_time": "2025-04-18T19:01:03.524Z"
   },
   {
    "duration": 794,
    "start_time": "2025-04-18T19:04:06.721Z"
   },
   {
    "duration": 417,
    "start_time": "2025-04-18T19:09:02.907Z"
   },
   {
    "duration": 5,
    "start_time": "2025-04-18T19:28:00.918Z"
   },
   {
    "duration": 483,
    "start_time": "2025-04-18T19:29:23.768Z"
   },
   {
    "duration": 5,
    "start_time": "2025-04-18T19:29:59.329Z"
   },
   {
    "duration": 366,
    "start_time": "2025-04-18T19:30:05.101Z"
   },
   {
    "duration": 369,
    "start_time": "2025-04-18T19:30:24.918Z"
   },
   {
    "duration": 4,
    "start_time": "2025-04-18T19:30:39.158Z"
   },
   {
    "duration": 547,
    "start_time": "2025-04-18T19:30:44.318Z"
   },
   {
    "duration": 53,
    "start_time": "2025-04-18T20:51:13.814Z"
   },
   {
    "duration": 304,
    "start_time": "2025-04-18T20:51:13.999Z"
   },
   {
    "duration": 733,
    "start_time": "2025-04-18T20:51:14.406Z"
   },
   {
    "duration": 2,
    "start_time": "2025-04-18T20:51:16.048Z"
   },
   {
    "duration": 1397,
    "start_time": "2025-04-18T20:51:16.824Z"
   },
   {
    "duration": 108,
    "start_time": "2025-04-18T20:51:18.678Z"
   },
   {
    "duration": 11,
    "start_time": "2025-04-18T20:51:19.784Z"
   },
   {
    "duration": 9675,
    "start_time": "2025-04-18T20:51:20.463Z"
   },
   {
    "duration": 3626,
    "start_time": "2025-04-18T20:51:32.495Z"
   },
   {
    "duration": 5,
    "start_time": "2025-04-18T20:51:39.686Z"
   },
   {
    "duration": 15,
    "start_time": "2025-04-18T20:54:06.765Z"
   },
   {
    "duration": 15,
    "start_time": "2025-04-18T20:54:22.093Z"
   },
   {
    "duration": 20,
    "start_time": "2025-04-18T20:55:46.816Z"
   },
   {
    "duration": 192,
    "start_time": "2025-04-18T20:55:51.015Z"
   },
   {
    "duration": 18,
    "start_time": "2025-04-18T20:56:28.200Z"
   },
   {
    "duration": 29,
    "start_time": "2025-04-18T20:56:32.084Z"
   },
   {
    "duration": 26,
    "start_time": "2025-04-18T20:56:55.732Z"
   },
   {
    "duration": 3368,
    "start_time": "2025-04-18T20:59:26.166Z"
   },
   {
    "duration": 22,
    "start_time": "2025-04-18T20:59:34.131Z"
   },
   {
    "duration": 27,
    "start_time": "2025-04-18T20:59:38.496Z"
   },
   {
    "duration": 10045,
    "start_time": "2025-04-18T21:01:58.622Z"
   },
   {
    "duration": 2242,
    "start_time": "2025-04-18T21:02:08.670Z"
   },
   {
    "duration": 3,
    "start_time": "2025-04-18T21:02:10.913Z"
   },
   {
    "duration": 8,
    "start_time": "2025-04-18T21:02:10.918Z"
   },
   {
    "duration": 18,
    "start_time": "2025-04-18T21:02:10.928Z"
   },
   {
    "duration": 7,
    "start_time": "2025-04-18T21:02:10.948Z"
   },
   {
    "duration": 5,
    "start_time": "2025-04-18T21:02:10.957Z"
   },
   {
    "duration": 4,
    "start_time": "2025-04-18T21:02:10.964Z"
   },
   {
    "duration": 5,
    "start_time": "2025-04-18T21:02:12.412Z"
   },
   {
    "duration": 17663,
    "start_time": "2025-04-18T21:02:19.854Z"
   },
   {
    "duration": 304,
    "start_time": "2025-04-18T21:02:45.655Z"
   },
   {
    "duration": 222,
    "start_time": "2025-04-18T21:02:48.574Z"
   },
   {
    "duration": 1046,
    "start_time": "2025-04-18T21:02:52.127Z"
   },
   {
    "duration": 2,
    "start_time": "2025-04-18T21:02:53.211Z"
   },
   {
    "duration": 1555,
    "start_time": "2025-04-18T21:02:54.043Z"
   },
   {
    "duration": 252,
    "start_time": "2025-04-18T21:02:55.600Z"
   },
   {
    "duration": 10,
    "start_time": "2025-04-18T21:02:56.558Z"
   },
   {
    "duration": 3569,
    "start_time": "2025-04-18T21:03:03.777Z"
   },
   {
    "duration": 5,
    "start_time": "2025-04-18T21:03:18.489Z"
   },
   {
    "duration": 19,
    "start_time": "2025-04-18T21:03:24.413Z"
   },
   {
    "duration": 161,
    "start_time": "2025-04-18T21:03:28.943Z"
   },
   {
    "duration": 17,
    "start_time": "2025-04-18T21:04:38.127Z"
   },
   {
    "duration": 55,
    "start_time": "2025-04-18T21:04:41.200Z"
   },
   {
    "duration": 52,
    "start_time": "2025-04-18T21:04:57.921Z"
   },
   {
    "duration": 7,
    "start_time": "2025-04-18T21:10:22.133Z"
   },
   {
    "duration": 3,
    "start_time": "2025-04-18T21:11:24.027Z"
   },
   {
    "duration": 6623,
    "start_time": "2025-04-18T21:11:55.985Z"
   },
   {
    "duration": 1625,
    "start_time": "2025-04-18T21:12:35.150Z"
   },
   {
    "duration": 3,
    "start_time": "2025-04-18T21:13:26.726Z"
   },
   {
    "duration": 3,
    "start_time": "2025-04-18T21:17:11.827Z"
   },
   {
    "duration": 55,
    "start_time": "2025-04-18T21:17:35.091Z"
   },
   {
    "duration": 110,
    "start_time": "2025-04-18T21:17:35.259Z"
   },
   {
    "duration": 3,
    "start_time": "2025-04-18T21:17:36.206Z"
   },
   {
    "duration": 1498,
    "start_time": "2025-04-18T21:18:25.109Z"
   },
   {
    "duration": 1501,
    "start_time": "2025-04-18T21:18:29.096Z"
   },
   {
    "duration": 4,
    "start_time": "2025-04-18T21:18:30.599Z"
   },
   {
    "duration": 8124,
    "start_time": "2025-04-18T21:18:39.348Z"
   },
   {
    "duration": 2991,
    "start_time": "2025-04-18T21:23:17.475Z"
   },
   {
    "duration": 18,
    "start_time": "2025-04-18T21:26:47.574Z"
   },
   {
    "duration": 372815,
    "start_time": "2025-04-18T21:26:53.655Z"
   },
   {
    "duration": 166184,
    "start_time": "2025-04-18T21:33:18.187Z"
   },
   {
    "duration": 18,
    "start_time": "2025-04-18T21:36:04.984Z"
   },
   {
    "duration": 17845,
    "start_time": "2025-04-18T21:36:10.627Z"
   },
   {
    "duration": 1429,
    "start_time": "2025-04-18T21:37:56.151Z"
   },
   {
    "duration": 3,
    "start_time": "2025-04-18T21:37:59.826Z"
   },
   {
    "duration": 18,
    "start_time": "2025-04-18T21:38:07.261Z"
   },
   {
    "duration": 7106,
    "start_time": "2025-04-18T21:38:13.139Z"
   },
   {
    "duration": 48,
    "start_time": "2025-04-18T21:40:11.437Z"
   },
   {
    "duration": 9749,
    "start_time": "2025-04-18T21:40:15.617Z"
   },
   {
    "duration": 2245,
    "start_time": "2025-04-18T21:40:25.368Z"
   },
   {
    "duration": 3,
    "start_time": "2025-04-18T21:40:27.615Z"
   },
   {
    "duration": 12,
    "start_time": "2025-04-18T21:40:27.619Z"
   },
   {
    "duration": 15,
    "start_time": "2025-04-18T21:40:27.633Z"
   },
   {
    "duration": 11,
    "start_time": "2025-04-18T21:40:27.649Z"
   },
   {
    "duration": 9,
    "start_time": "2025-04-18T21:40:27.661Z"
   },
   {
    "duration": 21,
    "start_time": "2025-04-18T21:40:27.672Z"
   },
   {
    "duration": 5,
    "start_time": "2025-04-18T21:40:30.195Z"
   },
   {
    "duration": 18103,
    "start_time": "2025-04-18T21:40:30.809Z"
   },
   {
    "duration": 9673,
    "start_time": "2025-04-18T21:40:48.914Z"
   },
   {
    "duration": 390,
    "start_time": "2025-04-18T21:40:58.589Z"
   },
   {
    "duration": 259,
    "start_time": "2025-04-18T21:40:58.981Z"
   },
   {
    "duration": 3,
    "start_time": "2025-04-18T21:40:59.242Z"
   },
   {
    "duration": 1092,
    "start_time": "2025-04-18T21:41:11.868Z"
   },
   {
    "duration": 3,
    "start_time": "2025-04-18T21:41:12.961Z"
   },
   {
    "duration": 1608,
    "start_time": "2025-04-18T21:41:13.248Z"
   },
   {
    "duration": 3,
    "start_time": "2025-04-18T21:41:18.625Z"
   },
   {
    "duration": 227,
    "start_time": "2025-04-18T21:41:22.076Z"
   },
   {
    "duration": 3,
    "start_time": "2025-04-18T21:41:22.916Z"
   },
   {
    "duration": 1684,
    "start_time": "2025-04-18T21:41:45.099Z"
   },
   {
    "duration": 3,
    "start_time": "2025-04-18T21:41:49.739Z"
   },
   {
    "duration": 5,
    "start_time": "2025-04-18T21:41:53.537Z"
   },
   {
    "duration": 18,
    "start_time": "2025-04-18T21:41:55.585Z"
   },
   {
    "duration": 36583,
    "start_time": "2025-04-18T21:42:00.210Z"
   },
   {
    "duration": 688,
    "start_time": "2025-04-18T21:44:47.651Z"
   },
   {
    "duration": 17,
    "start_time": "2025-04-18T21:44:54.465Z"
   },
   {
    "duration": 3918,
    "start_time": "2025-04-18T21:45:00.269Z"
   },
   {
    "duration": 4,
    "start_time": "2025-04-18T21:45:47.530Z"
   },
   {
    "duration": 711,
    "start_time": "2025-04-18T21:45:59.498Z"
   },
   {
    "duration": 4,
    "start_time": "2025-04-18T21:46:00.233Z"
   },
   {
    "duration": 7527,
    "start_time": "2025-04-18T21:46:09.831Z"
   },
   {
    "duration": 292,
    "start_time": "2025-04-18T21:46:38.745Z"
   },
   {
    "duration": 2,
    "start_time": "2025-04-18T21:46:39.346Z"
   },
   {
    "duration": 304,
    "start_time": "2025-04-18T21:46:40.373Z"
   },
   {
    "duration": 177,
    "start_time": "2025-04-18T21:46:41.746Z"
   },
   {
    "duration": 11,
    "start_time": "2025-04-18T21:46:43.655Z"
   },
   {
    "duration": 55,
    "start_time": "2025-04-18T21:46:49.651Z"
   },
   {
    "duration": 86,
    "start_time": "2025-04-18T21:46:49.877Z"
   },
   {
    "duration": 3,
    "start_time": "2025-04-18T21:46:50.250Z"
   },
   {
    "duration": 341,
    "start_time": "2025-04-18T21:47:06.612Z"
   },
   {
    "duration": 222,
    "start_time": "2025-04-18T21:48:31.024Z"
   },
   {
    "duration": 2,
    "start_time": "2025-04-18T21:48:32.303Z"
   },
   {
    "duration": 262,
    "start_time": "2025-04-18T21:48:33.131Z"
   },
   {
    "duration": 332,
    "start_time": "2025-04-18T21:49:35.814Z"
   },
   {
    "duration": 9804,
    "start_time": "2025-04-18T21:50:39.703Z"
   },
   {
    "duration": 2279,
    "start_time": "2025-04-18T21:50:49.510Z"
   },
   {
    "duration": 2,
    "start_time": "2025-04-18T21:50:51.791Z"
   },
   {
    "duration": 12,
    "start_time": "2025-04-18T21:50:51.795Z"
   },
   {
    "duration": 4,
    "start_time": "2025-04-18T21:50:51.808Z"
   },
   {
    "duration": 12,
    "start_time": "2025-04-18T21:50:51.814Z"
   },
   {
    "duration": 31,
    "start_time": "2025-04-18T21:50:51.828Z"
   },
   {
    "duration": 22,
    "start_time": "2025-04-18T21:50:51.861Z"
   },
   {
    "duration": 16,
    "start_time": "2025-04-18T21:50:51.884Z"
   },
   {
    "duration": 21484,
    "start_time": "2025-04-18T21:50:51.902Z"
   },
   {
    "duration": 9864,
    "start_time": "2025-04-18T21:51:13.387Z"
   },
   {
    "duration": 1151,
    "start_time": "2025-04-18T21:51:23.253Z"
   },
   {
    "duration": 0,
    "start_time": "2025-04-18T21:51:24.406Z"
   },
   {
    "duration": 0,
    "start_time": "2025-04-18T21:51:24.406Z"
   },
   {
    "duration": 0,
    "start_time": "2025-04-18T21:51:24.407Z"
   },
   {
    "duration": 0,
    "start_time": "2025-04-18T21:51:24.408Z"
   },
   {
    "duration": 291,
    "start_time": "2025-04-18T21:51:35.937Z"
   },
   {
    "duration": 251,
    "start_time": "2025-04-18T21:51:36.229Z"
   },
   {
    "duration": 3,
    "start_time": "2025-04-18T21:51:36.483Z"
   },
   {
    "duration": 837,
    "start_time": "2025-04-18T21:51:37.820Z"
   },
   {
    "duration": 3,
    "start_time": "2025-04-18T21:51:39.477Z"
   },
   {
    "duration": 1561,
    "start_time": "2025-04-18T21:51:40.193Z"
   },
   {
    "duration": 266,
    "start_time": "2025-04-18T21:51:41.756Z"
   },
   {
    "duration": 10,
    "start_time": "2025-04-18T21:51:42.519Z"
   },
   {
    "duration": 52,
    "start_time": "2025-04-18T21:51:50.389Z"
   },
   {
    "duration": 222,
    "start_time": "2025-04-18T21:51:50.617Z"
   },
   {
    "duration": 4,
    "start_time": "2025-04-18T21:51:51.009Z"
   },
   {
    "duration": 593,
    "start_time": "2025-04-18T21:52:05.268Z"
   },
   {
    "duration": 3,
    "start_time": "2025-04-18T21:52:07.707Z"
   },
   {
    "duration": 5,
    "start_time": "2025-04-18T21:52:11.746Z"
   },
   {
    "duration": 19,
    "start_time": "2025-04-18T21:52:14.975Z"
   },
   {
    "duration": 19643,
    "start_time": "2025-04-18T21:52:20.908Z"
   },
   {
    "duration": 70,
    "start_time": "2025-04-18T21:53:13.550Z"
   },
   {
    "duration": 19,
    "start_time": "2025-04-18T21:54:12.748Z"
   },
   {
    "duration": 5524,
    "start_time": "2025-04-18T21:54:20.636Z"
   },
   {
    "duration": 601,
    "start_time": "2025-04-18T21:55:20.995Z"
   },
   {
    "duration": 19163,
    "start_time": "2025-04-18T21:55:33.475Z"
   },
   {
    "duration": 10000,
    "start_time": "2025-04-18T21:58:44.418Z"
   },
   {
    "duration": 2292,
    "start_time": "2025-04-18T21:58:54.421Z"
   },
   {
    "duration": 3,
    "start_time": "2025-04-18T21:58:56.715Z"
   },
   {
    "duration": 8,
    "start_time": "2025-04-18T21:58:56.720Z"
   },
   {
    "duration": 12,
    "start_time": "2025-04-18T21:58:56.729Z"
   },
   {
    "duration": 5,
    "start_time": "2025-04-18T21:58:56.742Z"
   },
   {
    "duration": 10,
    "start_time": "2025-04-18T21:58:56.749Z"
   },
   {
    "duration": 17,
    "start_time": "2025-04-18T21:58:56.760Z"
   },
   {
    "duration": 7135,
    "start_time": "2025-04-18T21:58:56.779Z"
   },
   {
    "duration": 23,
    "start_time": "2025-04-18T21:59:03.916Z"
   },
   {
    "duration": 211,
    "start_time": "2025-04-18T21:59:03.941Z"
   },
   {
    "duration": 14,
    "start_time": "2025-04-18T21:59:04.155Z"
   },
   {
    "duration": 232,
    "start_time": "2025-04-18T21:59:04.170Z"
   },
   {
    "duration": 9,
    "start_time": "2025-04-18T21:59:04.404Z"
   },
   {
    "duration": 11,
    "start_time": "2025-04-18T21:59:04.415Z"
   },
   {
    "duration": 9791,
    "start_time": "2025-04-18T21:59:04.427Z"
   },
   {
    "duration": 320,
    "start_time": "2025-04-18T21:59:14.220Z"
   },
   {
    "duration": 238,
    "start_time": "2025-04-18T21:59:14.541Z"
   },
   {
    "duration": 4,
    "start_time": "2025-04-18T21:59:14.781Z"
   },
   {
    "duration": 972,
    "start_time": "2025-04-18T21:59:14.787Z"
   },
   {
    "duration": 3,
    "start_time": "2025-04-18T21:59:15.760Z"
   },
   {
    "duration": 1583,
    "start_time": "2025-04-18T21:59:15.764Z"
   },
   {
    "duration": 151,
    "start_time": "2025-04-18T21:59:17.349Z"
   },
   {
    "duration": 10,
    "start_time": "2025-04-18T21:59:17.502Z"
   },
   {
    "duration": 1721,
    "start_time": "2025-04-18T21:59:22.309Z"
   },
   {
    "duration": 5,
    "start_time": "2025-04-18T21:59:25.229Z"
   },
   {
    "duration": 18,
    "start_time": "2025-04-18T21:59:26.866Z"
   },
   {
    "duration": 11421,
    "start_time": "2025-04-18T21:59:31.788Z"
   },
   {
    "duration": 106,
    "start_time": "2025-04-18T22:00:44.268Z"
   },
   {
    "duration": 1179,
    "start_time": "2025-04-18T22:00:53.029Z"
   },
   {
    "duration": 37,
    "start_time": "2025-04-18T22:01:57.714Z"
   },
   {
    "duration": 10495,
    "start_time": "2025-04-18T22:02:14.779Z"
   },
   {
    "duration": 2206,
    "start_time": "2025-04-18T22:02:25.276Z"
   },
   {
    "duration": 2,
    "start_time": "2025-04-18T22:02:27.484Z"
   },
   {
    "duration": 41,
    "start_time": "2025-04-18T22:02:27.488Z"
   },
   {
    "duration": 81,
    "start_time": "2025-04-18T22:02:27.530Z"
   },
   {
    "duration": 21,
    "start_time": "2025-04-18T22:02:27.613Z"
   },
   {
    "duration": 32,
    "start_time": "2025-04-18T22:02:27.636Z"
   },
   {
    "duration": 30,
    "start_time": "2025-04-18T22:02:27.670Z"
   },
   {
    "duration": 8897,
    "start_time": "2025-04-18T22:02:27.701Z"
   },
   {
    "duration": 20,
    "start_time": "2025-04-18T22:02:36.600Z"
   },
   {
    "duration": 229,
    "start_time": "2025-04-18T22:02:36.621Z"
   },
   {
    "duration": 12,
    "start_time": "2025-04-18T22:02:36.851Z"
   },
   {
    "duration": 222,
    "start_time": "2025-04-18T22:02:36.864Z"
   },
   {
    "duration": 9,
    "start_time": "2025-04-18T22:02:37.088Z"
   },
   {
    "duration": 19,
    "start_time": "2025-04-18T22:02:37.098Z"
   },
   {
    "duration": 10474,
    "start_time": "2025-04-18T22:02:37.119Z"
   },
   {
    "duration": 525,
    "start_time": "2025-04-18T22:02:47.595Z"
   },
   {
    "duration": 515,
    "start_time": "2025-04-18T22:02:48.122Z"
   },
   {
    "duration": 163,
    "start_time": "2025-04-18T22:02:48.639Z"
   },
   {
    "duration": 492,
    "start_time": "2025-04-18T22:02:48.803Z"
   },
   {
    "duration": 145,
    "start_time": "2025-04-18T22:02:49.296Z"
   },
   {
    "duration": 9145,
    "start_time": "2025-04-18T22:02:49.443Z"
   },
   {
    "duration": 358,
    "start_time": "2025-04-18T22:02:58.589Z"
   },
   {
    "duration": 255,
    "start_time": "2025-04-18T22:02:58.948Z"
   },
   {
    "duration": 43,
    "start_time": "2025-04-18T22:02:59.205Z"
   },
   {
    "duration": 3,
    "start_time": "2025-04-18T22:02:59.250Z"
   },
   {
    "duration": 996,
    "start_time": "2025-04-18T22:02:59.255Z"
   },
   {
    "duration": 211,
    "start_time": "2025-04-18T22:03:00.255Z"
   },
   {
    "duration": 1622,
    "start_time": "2025-04-18T22:03:00.467Z"
   },
   {
    "duration": 159,
    "start_time": "2025-04-18T22:03:02.091Z"
   },
   {
    "duration": 10,
    "start_time": "2025-04-18T22:03:02.252Z"
   },
   {
    "duration": 21645,
    "start_time": "2025-04-18T22:03:02.264Z"
   },
   {
    "duration": 0,
    "start_time": "2025-04-18T22:03:23.910Z"
   },
   {
    "duration": 0,
    "start_time": "2025-04-18T22:03:23.912Z"
   },
   {
    "duration": 0,
    "start_time": "2025-04-18T22:03:23.912Z"
   },
   {
    "duration": 0,
    "start_time": "2025-04-18T22:03:23.914Z"
   },
   {
    "duration": 0,
    "start_time": "2025-04-18T22:03:23.915Z"
   },
   {
    "duration": 0,
    "start_time": "2025-04-18T22:03:23.916Z"
   },
   {
    "duration": 0,
    "start_time": "2025-04-18T22:03:23.917Z"
   },
   {
    "duration": 0,
    "start_time": "2025-04-18T22:03:23.918Z"
   },
   {
    "duration": 0,
    "start_time": "2025-04-18T22:03:23.919Z"
   },
   {
    "duration": 0,
    "start_time": "2025-04-18T22:03:23.920Z"
   },
   {
    "duration": 0,
    "start_time": "2025-04-18T22:03:23.921Z"
   },
   {
    "duration": 0,
    "start_time": "2025-04-18T22:03:23.938Z"
   },
   {
    "duration": 0,
    "start_time": "2025-04-18T22:03:23.939Z"
   },
   {
    "duration": 0,
    "start_time": "2025-04-18T22:03:23.940Z"
   },
   {
    "duration": 1808,
    "start_time": "2025-04-18T22:03:28.047Z"
   },
   {
    "duration": 11,
    "start_time": "2025-04-18T22:03:29.857Z"
   },
   {
    "duration": 0,
    "start_time": "2025-04-18T22:03:29.870Z"
   },
   {
    "duration": 32,
    "start_time": "2025-04-18T22:03:30.177Z"
   },
   {
    "duration": 5,
    "start_time": "2025-04-18T22:03:30.613Z"
   },
   {
    "duration": 20,
    "start_time": "2025-04-18T22:03:30.695Z"
   },
   {
    "duration": 17,
    "start_time": "2025-04-18T22:03:30.770Z"
   },
   {
    "duration": 38,
    "start_time": "2025-04-18T22:03:30.808Z"
   },
   {
    "duration": 13,
    "start_time": "2025-04-18T22:03:30.975Z"
   },
   {
    "duration": 22,
    "start_time": "2025-04-18T22:03:31.073Z"
   },
   {
    "duration": 6,
    "start_time": "2025-04-18T22:03:46.187Z"
   },
   {
    "duration": 18,
    "start_time": "2025-04-18T22:03:46.938Z"
   },
   {
    "duration": 65,
    "start_time": "2025-04-18T22:03:46.977Z"
   },
   {
    "duration": 10,
    "start_time": "2025-04-18T22:03:47.129Z"
   },
   {
    "duration": 13,
    "start_time": "2025-04-18T22:03:47.142Z"
   },
   {
    "duration": 3030,
    "start_time": "2025-04-18T22:03:47.157Z"
   },
   {
    "duration": 0,
    "start_time": "2025-04-18T22:03:50.189Z"
   },
   {
    "duration": 0,
    "start_time": "2025-04-18T22:03:50.190Z"
   },
   {
    "duration": 0,
    "start_time": "2025-04-18T22:03:50.192Z"
   },
   {
    "duration": 0,
    "start_time": "2025-04-18T22:03:50.193Z"
   },
   {
    "duration": 0,
    "start_time": "2025-04-18T22:03:50.194Z"
   },
   {
    "duration": 19,
    "start_time": "2025-04-18T22:05:28.155Z"
   },
   {
    "duration": 67410,
    "start_time": "2025-04-18T22:05:28.261Z"
   },
   {
    "duration": 169,
    "start_time": "2025-04-18T22:06:42.325Z"
   },
   {
    "duration": 109,
    "start_time": "2025-04-18T22:06:42.542Z"
   },
   {
    "duration": 47,
    "start_time": "2025-04-18T22:06:44.634Z"
   },
   {
    "duration": 70,
    "start_time": "2025-04-18T22:07:09.314Z"
   },
   {
    "duration": 785,
    "start_time": "2025-04-18T22:07:23.712Z"
   },
   {
    "duration": 35,
    "start_time": "2025-04-18T22:07:40.473Z"
   },
   {
    "duration": 10825,
    "start_time": "2025-04-18T22:07:45.848Z"
   },
   {
    "duration": 9982,
    "start_time": "2025-04-18T22:10:15.016Z"
   },
   {
    "duration": 2227,
    "start_time": "2025-04-18T22:10:25.001Z"
   },
   {
    "duration": 2,
    "start_time": "2025-04-18T22:10:27.230Z"
   },
   {
    "duration": 6,
    "start_time": "2025-04-18T22:10:27.234Z"
   },
   {
    "duration": 5,
    "start_time": "2025-04-18T22:10:27.242Z"
   },
   {
    "duration": 17,
    "start_time": "2025-04-18T22:10:27.248Z"
   },
   {
    "duration": 5,
    "start_time": "2025-04-18T22:10:27.267Z"
   },
   {
    "duration": 9,
    "start_time": "2025-04-18T22:10:27.274Z"
   },
   {
    "duration": 7672,
    "start_time": "2025-04-18T22:10:27.285Z"
   },
   {
    "duration": 21,
    "start_time": "2025-04-18T22:10:34.959Z"
   },
   {
    "duration": 222,
    "start_time": "2025-04-18T22:10:34.982Z"
   },
   {
    "duration": 12,
    "start_time": "2025-04-18T22:10:35.206Z"
   },
   {
    "duration": 223,
    "start_time": "2025-04-18T22:10:35.220Z"
   },
   {
    "duration": 9,
    "start_time": "2025-04-18T22:10:35.447Z"
   },
   {
    "duration": 22,
    "start_time": "2025-04-18T22:10:35.458Z"
   },
   {
    "duration": 10559,
    "start_time": "2025-04-18T22:10:35.482Z"
   },
   {
    "duration": 582,
    "start_time": "2025-04-18T22:10:46.042Z"
   },
   {
    "duration": 514,
    "start_time": "2025-04-18T22:10:46.626Z"
   },
   {
    "duration": 148,
    "start_time": "2025-04-18T22:10:47.142Z"
   },
   {
    "duration": 494,
    "start_time": "2025-04-18T22:10:47.291Z"
   },
   {
    "duration": 141,
    "start_time": "2025-04-18T22:10:47.786Z"
   },
   {
    "duration": 9560,
    "start_time": "2025-04-18T22:10:47.928Z"
   },
   {
    "duration": 3,
    "start_time": "2025-04-18T22:10:57.489Z"
   },
   {
    "duration": 14,
    "start_time": "2025-04-18T22:10:57.494Z"
   },
   {
    "duration": 157,
    "start_time": "2025-04-18T22:10:57.510Z"
   },
   {
    "duration": 0,
    "start_time": "2025-04-18T22:10:57.668Z"
   },
   {
    "duration": 0,
    "start_time": "2025-04-18T22:10:57.670Z"
   },
   {
    "duration": 0,
    "start_time": "2025-04-18T22:10:57.671Z"
   },
   {
    "duration": 0,
    "start_time": "2025-04-18T22:10:57.672Z"
   },
   {
    "duration": 0,
    "start_time": "2025-04-18T22:10:57.673Z"
   },
   {
    "duration": 0,
    "start_time": "2025-04-18T22:10:57.674Z"
   },
   {
    "duration": 0,
    "start_time": "2025-04-18T22:10:57.675Z"
   },
   {
    "duration": 0,
    "start_time": "2025-04-18T22:10:57.676Z"
   },
   {
    "duration": 0,
    "start_time": "2025-04-18T22:10:57.677Z"
   },
   {
    "duration": 0,
    "start_time": "2025-04-18T22:10:57.678Z"
   },
   {
    "duration": 0,
    "start_time": "2025-04-18T22:10:57.679Z"
   },
   {
    "duration": 0,
    "start_time": "2025-04-18T22:10:57.680Z"
   },
   {
    "duration": 0,
    "start_time": "2025-04-18T22:10:57.681Z"
   },
   {
    "duration": 0,
    "start_time": "2025-04-18T22:10:57.682Z"
   },
   {
    "duration": 0,
    "start_time": "2025-04-18T22:10:57.683Z"
   },
   {
    "duration": 0,
    "start_time": "2025-04-18T22:10:57.684Z"
   },
   {
    "duration": 0,
    "start_time": "2025-04-18T22:10:57.686Z"
   },
   {
    "duration": 0,
    "start_time": "2025-04-18T22:10:57.687Z"
   },
   {
    "duration": 0,
    "start_time": "2025-04-18T22:10:57.688Z"
   },
   {
    "duration": 0,
    "start_time": "2025-04-18T22:10:57.689Z"
   },
   {
    "duration": 0,
    "start_time": "2025-04-18T22:10:57.689Z"
   },
   {
    "duration": 0,
    "start_time": "2025-04-18T22:10:57.690Z"
   },
   {
    "duration": 0,
    "start_time": "2025-04-18T22:10:57.691Z"
   },
   {
    "duration": 1145,
    "start_time": "2025-04-18T22:11:13.545Z"
   },
   {
    "duration": 214,
    "start_time": "2025-04-18T22:11:14.693Z"
   },
   {
    "duration": 1638,
    "start_time": "2025-04-18T22:11:14.909Z"
   },
   {
    "duration": 196,
    "start_time": "2025-04-18T22:11:16.550Z"
   },
   {
    "duration": 1149,
    "start_time": "2025-04-18T22:11:16.748Z"
   },
   {
    "duration": 0,
    "start_time": "2025-04-18T22:11:17.899Z"
   },
   {
    "duration": 0,
    "start_time": "2025-04-18T22:11:17.901Z"
   },
   {
    "duration": 0,
    "start_time": "2025-04-18T22:11:17.902Z"
   },
   {
    "duration": 0,
    "start_time": "2025-04-18T22:11:17.903Z"
   },
   {
    "duration": 0,
    "start_time": "2025-04-18T22:11:17.904Z"
   },
   {
    "duration": 0,
    "start_time": "2025-04-18T22:11:17.905Z"
   },
   {
    "duration": 0,
    "start_time": "2025-04-18T22:11:17.906Z"
   },
   {
    "duration": 0,
    "start_time": "2025-04-18T22:11:17.908Z"
   },
   {
    "duration": 0,
    "start_time": "2025-04-18T22:11:17.909Z"
   },
   {
    "duration": 0,
    "start_time": "2025-04-18T22:11:17.910Z"
   },
   {
    "duration": 0,
    "start_time": "2025-04-18T22:11:17.911Z"
   },
   {
    "duration": 0,
    "start_time": "2025-04-18T22:11:17.912Z"
   },
   {
    "duration": 13,
    "start_time": "2025-04-18T22:11:18.768Z"
   },
   {
    "duration": 322,
    "start_time": "2025-04-18T22:12:02.952Z"
   },
   {
    "duration": 9909,
    "start_time": "2025-04-18T22:12:14.957Z"
   },
   {
    "duration": 2215,
    "start_time": "2025-04-18T22:12:24.868Z"
   },
   {
    "duration": 3,
    "start_time": "2025-04-18T22:12:27.085Z"
   },
   {
    "duration": 17,
    "start_time": "2025-04-18T22:12:27.091Z"
   },
   {
    "duration": 31,
    "start_time": "2025-04-18T22:12:27.109Z"
   },
   {
    "duration": 21,
    "start_time": "2025-04-18T22:12:27.142Z"
   },
   {
    "duration": 6,
    "start_time": "2025-04-18T22:12:27.165Z"
   },
   {
    "duration": 11,
    "start_time": "2025-04-18T22:12:27.173Z"
   },
   {
    "duration": 7487,
    "start_time": "2025-04-18T22:12:27.185Z"
   },
   {
    "duration": 32,
    "start_time": "2025-04-18T22:12:34.674Z"
   },
   {
    "duration": 214,
    "start_time": "2025-04-18T22:12:34.709Z"
   },
   {
    "duration": 11,
    "start_time": "2025-04-18T22:12:34.924Z"
   },
   {
    "duration": 236,
    "start_time": "2025-04-18T22:12:34.937Z"
   },
   {
    "duration": 9,
    "start_time": "2025-04-18T22:12:35.175Z"
   },
   {
    "duration": 18,
    "start_time": "2025-04-18T22:12:35.186Z"
   },
   {
    "duration": 10064,
    "start_time": "2025-04-18T22:12:35.206Z"
   },
   {
    "duration": 558,
    "start_time": "2025-04-18T22:12:45.272Z"
   },
   {
    "duration": 507,
    "start_time": "2025-04-18T22:12:45.837Z"
   },
   {
    "duration": 151,
    "start_time": "2025-04-18T22:12:46.347Z"
   },
   {
    "duration": 472,
    "start_time": "2025-04-18T22:12:46.500Z"
   },
   {
    "duration": 144,
    "start_time": "2025-04-18T22:12:46.974Z"
   },
   {
    "duration": 11588,
    "start_time": "2025-04-18T22:12:47.120Z"
   },
   {
    "duration": 3,
    "start_time": "2025-04-18T22:12:58.709Z"
   },
   {
    "duration": 6,
    "start_time": "2025-04-18T22:12:58.714Z"
   },
   {
    "duration": 3,
    "start_time": "2025-04-18T22:12:58.722Z"
   },
   {
    "duration": 1154,
    "start_time": "2025-04-18T22:12:58.726Z"
   },
   {
    "duration": 216,
    "start_time": "2025-04-18T22:12:59.882Z"
   },
   {
    "duration": 1805,
    "start_time": "2025-04-18T22:13:00.102Z"
   },
   {
    "duration": 177,
    "start_time": "2025-04-18T22:13:01.908Z"
   },
   {
    "duration": 11,
    "start_time": "2025-04-18T22:13:02.086Z"
   },
   {
    "duration": 12,
    "start_time": "2025-04-18T22:13:02.098Z"
   },
   {
    "duration": 42,
    "start_time": "2025-04-18T22:13:02.111Z"
   },
   {
    "duration": 13,
    "start_time": "2025-04-18T22:13:02.155Z"
   },
   {
    "duration": 92,
    "start_time": "2025-04-18T22:13:02.169Z"
   },
   {
    "duration": 584,
    "start_time": "2025-04-18T22:13:02.263Z"
   },
   {
    "duration": 159,
    "start_time": "2025-04-18T22:13:02.848Z"
   },
   {
    "duration": 0,
    "start_time": "2025-04-18T22:13:03.009Z"
   },
   {
    "duration": 0,
    "start_time": "2025-04-18T22:13:03.010Z"
   },
   {
    "duration": 0,
    "start_time": "2025-04-18T22:13:03.011Z"
   },
   {
    "duration": 0,
    "start_time": "2025-04-18T22:13:03.013Z"
   },
   {
    "duration": 0,
    "start_time": "2025-04-18T22:13:03.014Z"
   },
   {
    "duration": 0,
    "start_time": "2025-04-18T22:13:03.015Z"
   },
   {
    "duration": 0,
    "start_time": "2025-04-18T22:13:03.016Z"
   },
   {
    "duration": 0,
    "start_time": "2025-04-18T22:13:03.037Z"
   },
   {
    "duration": 0,
    "start_time": "2025-04-18T22:13:03.038Z"
   },
   {
    "duration": 0,
    "start_time": "2025-04-18T22:13:03.039Z"
   },
   {
    "duration": 0,
    "start_time": "2025-04-18T22:13:03.040Z"
   },
   {
    "duration": 5,
    "start_time": "2025-04-18T22:13:26.144Z"
   },
   {
    "duration": 130,
    "start_time": "2025-04-18T22:13:27.181Z"
   },
   {
    "duration": 6,
    "start_time": "2025-04-18T22:13:27.695Z"
   },
   {
    "duration": 10,
    "start_time": "2025-04-18T22:13:27.787Z"
   },
   {
    "duration": 7,
    "start_time": "2025-04-18T22:13:27.874Z"
   },
   {
    "duration": 19619,
    "start_time": "2025-04-18T22:13:27.929Z"
   },
   {
    "duration": 0,
    "start_time": "2025-04-18T22:13:47.550Z"
   },
   {
    "duration": 0,
    "start_time": "2025-04-18T22:13:47.551Z"
   },
   {
    "duration": 0,
    "start_time": "2025-04-18T22:13:47.553Z"
   },
   {
    "duration": 10570,
    "start_time": "2025-04-18T22:15:45.376Z"
   },
   {
    "duration": 2243,
    "start_time": "2025-04-18T22:15:55.948Z"
   },
   {
    "duration": 3,
    "start_time": "2025-04-18T22:15:58.193Z"
   },
   {
    "duration": 9,
    "start_time": "2025-04-18T22:15:58.199Z"
   },
   {
    "duration": 6,
    "start_time": "2025-04-18T22:15:58.210Z"
   },
   {
    "duration": 5,
    "start_time": "2025-04-18T22:15:58.217Z"
   },
   {
    "duration": 17,
    "start_time": "2025-04-18T22:15:58.223Z"
   },
   {
    "duration": 7,
    "start_time": "2025-04-18T22:15:58.242Z"
   },
   {
    "duration": 7784,
    "start_time": "2025-04-18T22:15:58.251Z"
   },
   {
    "duration": 21,
    "start_time": "2025-04-18T22:16:06.038Z"
   },
   {
    "duration": 212,
    "start_time": "2025-04-18T22:16:06.061Z"
   },
   {
    "duration": 12,
    "start_time": "2025-04-18T22:16:06.274Z"
   },
   {
    "duration": 224,
    "start_time": "2025-04-18T22:16:06.288Z"
   },
   {
    "duration": 9,
    "start_time": "2025-04-18T22:16:06.514Z"
   },
   {
    "duration": 23,
    "start_time": "2025-04-18T22:16:06.524Z"
   },
   {
    "duration": 10291,
    "start_time": "2025-04-18T22:16:06.549Z"
   },
   {
    "duration": 557,
    "start_time": "2025-04-18T22:16:16.842Z"
   },
   {
    "duration": 503,
    "start_time": "2025-04-18T22:16:17.400Z"
   },
   {
    "duration": 150,
    "start_time": "2025-04-18T22:16:17.904Z"
   },
   {
    "duration": 497,
    "start_time": "2025-04-18T22:16:18.055Z"
   },
   {
    "duration": 143,
    "start_time": "2025-04-18T22:16:18.554Z"
   },
   {
    "duration": 9721,
    "start_time": "2025-04-18T23:50:40.900Z"
   },
   {
    "duration": 2169,
    "start_time": "2025-04-18T23:50:50.623Z"
   },
   {
    "duration": 2,
    "start_time": "2025-04-18T23:50:52.794Z"
   },
   {
    "duration": 26,
    "start_time": "2025-04-18T23:50:52.798Z"
   },
   {
    "duration": 13,
    "start_time": "2025-04-18T23:50:52.826Z"
   },
   {
    "duration": 12,
    "start_time": "2025-04-18T23:50:52.840Z"
   },
   {
    "duration": 13,
    "start_time": "2025-04-18T23:50:52.853Z"
   },
   {
    "duration": 5,
    "start_time": "2025-04-18T23:50:52.867Z"
   },
   {
    "duration": 7602,
    "start_time": "2025-04-18T23:50:52.873Z"
   },
   {
    "duration": 21,
    "start_time": "2025-04-18T23:51:00.478Z"
   },
   {
    "duration": 257,
    "start_time": "2025-04-18T23:51:00.500Z"
   },
   {
    "duration": 11,
    "start_time": "2025-04-18T23:51:00.759Z"
   },
   {
    "duration": 303,
    "start_time": "2025-04-18T23:51:00.771Z"
   },
   {
    "duration": 8,
    "start_time": "2025-04-18T23:51:01.076Z"
   },
   {
    "duration": 21,
    "start_time": "2025-04-18T23:51:01.086Z"
   },
   {
    "duration": 13295,
    "start_time": "2025-04-18T23:51:01.108Z"
   },
   {
    "duration": 541,
    "start_time": "2025-04-18T23:51:14.405Z"
   },
   {
    "duration": 508,
    "start_time": "2025-04-18T23:51:14.948Z"
   },
   {
    "duration": 145,
    "start_time": "2025-04-18T23:51:15.458Z"
   },
   {
    "duration": 502,
    "start_time": "2025-04-18T23:51:15.606Z"
   },
   {
    "duration": 143,
    "start_time": "2025-04-18T23:51:16.109Z"
   },
   {
    "duration": 8399,
    "start_time": "2025-04-18T23:51:16.254Z"
   },
   {
    "duration": 3,
    "start_time": "2025-04-18T23:51:24.654Z"
   },
   {
    "duration": 6,
    "start_time": "2025-04-18T23:51:24.659Z"
   },
   {
    "duration": 10,
    "start_time": "2025-04-18T23:51:24.667Z"
   },
   {
    "duration": 1083,
    "start_time": "2025-04-18T23:51:24.681Z"
   },
   {
    "duration": 177,
    "start_time": "2025-04-18T23:51:25.765Z"
   },
   {
    "duration": 1791,
    "start_time": "2025-04-18T23:51:25.946Z"
   },
   {
    "duration": 150,
    "start_time": "2025-04-18T23:51:27.739Z"
   },
   {
    "duration": 9,
    "start_time": "2025-04-18T23:51:27.891Z"
   },
   {
    "duration": 2,
    "start_time": "2025-04-18T23:51:27.902Z"
   },
   {
    "duration": 5,
    "start_time": "2025-04-18T23:51:27.905Z"
   },
   {
    "duration": 5,
    "start_time": "2025-04-18T23:51:27.911Z"
   },
   {
    "duration": 85,
    "start_time": "2025-04-18T23:51:27.917Z"
   },
   {
    "duration": 62,
    "start_time": "2025-04-18T23:51:28.003Z"
   },
   {
    "duration": 552,
    "start_time": "2025-04-18T23:51:28.066Z"
   },
   {
    "duration": 2,
    "start_time": "2025-04-18T23:51:28.620Z"
   },
   {
    "duration": 23,
    "start_time": "2025-04-18T23:51:28.623Z"
   },
   {
    "duration": 128,
    "start_time": "2025-04-18T23:51:28.648Z"
   },
   {
    "duration": 78,
    "start_time": "2025-04-18T23:51:28.778Z"
   },
   {
    "duration": 10,
    "start_time": "2025-04-18T23:51:28.858Z"
   },
   {
    "duration": 9,
    "start_time": "2025-04-18T23:51:28.870Z"
   },
   {
    "duration": 172,
    "start_time": "2025-04-18T23:51:28.880Z"
   },
   {
    "duration": 0,
    "start_time": "2025-04-18T23:51:29.053Z"
   },
   {
    "duration": 0,
    "start_time": "2025-04-18T23:51:29.055Z"
   },
   {
    "duration": 0,
    "start_time": "2025-04-18T23:51:29.056Z"
   },
   {
    "duration": 0,
    "start_time": "2025-04-18T23:51:29.057Z"
   },
   {
    "duration": 0,
    "start_time": "2025-04-18T23:51:29.058Z"
   },
   {
    "duration": 9907,
    "start_time": "2025-04-19T00:10:07.086Z"
   },
   {
    "duration": 2179,
    "start_time": "2025-04-19T00:10:16.995Z"
   },
   {
    "duration": 3,
    "start_time": "2025-04-19T00:10:19.176Z"
   },
   {
    "duration": 10,
    "start_time": "2025-04-19T00:10:19.181Z"
   },
   {
    "duration": 5,
    "start_time": "2025-04-19T00:10:19.192Z"
   },
   {
    "duration": 4,
    "start_time": "2025-04-19T00:10:19.199Z"
   },
   {
    "duration": 5,
    "start_time": "2025-04-19T00:10:19.205Z"
   },
   {
    "duration": 9,
    "start_time": "2025-04-19T00:10:19.211Z"
   },
   {
    "duration": 8333,
    "start_time": "2025-04-19T00:10:19.221Z"
   },
   {
    "duration": 21,
    "start_time": "2025-04-19T00:10:27.557Z"
   },
   {
    "duration": 213,
    "start_time": "2025-04-19T00:10:27.580Z"
   },
   {
    "duration": 14,
    "start_time": "2025-04-19T00:10:27.795Z"
   },
   {
    "duration": 212,
    "start_time": "2025-04-19T00:10:27.811Z"
   },
   {
    "duration": 8,
    "start_time": "2025-04-19T00:10:28.025Z"
   },
   {
    "duration": 11,
    "start_time": "2025-04-19T00:10:28.035Z"
   },
   {
    "duration": 10598,
    "start_time": "2025-04-19T00:10:28.048Z"
   },
   {
    "duration": 549,
    "start_time": "2025-04-19T00:10:38.647Z"
   },
   {
    "duration": 505,
    "start_time": "2025-04-19T00:10:39.197Z"
   },
   {
    "duration": 150,
    "start_time": "2025-04-19T00:10:39.704Z"
   },
   {
    "duration": 494,
    "start_time": "2025-04-19T00:10:39.856Z"
   },
   {
    "duration": 142,
    "start_time": "2025-04-19T00:10:40.352Z"
   },
   {
    "duration": 8636,
    "start_time": "2025-04-19T00:10:40.495Z"
   },
   {
    "duration": 2,
    "start_time": "2025-04-19T00:10:49.137Z"
   },
   {
    "duration": 8,
    "start_time": "2025-04-19T00:10:49.141Z"
   },
   {
    "duration": 9,
    "start_time": "2025-04-19T00:10:49.151Z"
   },
   {
    "duration": 992,
    "start_time": "2025-04-19T00:10:49.162Z"
   },
   {
    "duration": 179,
    "start_time": "2025-04-19T00:10:50.156Z"
   },
   {
    "duration": 1789,
    "start_time": "2025-04-19T00:10:50.339Z"
   },
   {
    "duration": 150,
    "start_time": "2025-04-19T00:10:52.129Z"
   },
   {
    "duration": 10,
    "start_time": "2025-04-19T00:10:52.281Z"
   },
   {
    "duration": 13,
    "start_time": "2025-04-19T00:10:52.292Z"
   },
   {
    "duration": 33,
    "start_time": "2025-04-19T00:10:52.307Z"
   },
   {
    "duration": 15,
    "start_time": "2025-04-19T00:10:52.341Z"
   },
   {
    "duration": 74,
    "start_time": "2025-04-19T00:10:52.357Z"
   },
   {
    "duration": 2,
    "start_time": "2025-04-19T00:10:52.433Z"
   },
   {
    "duration": 602,
    "start_time": "2025-04-19T00:10:52.436Z"
   },
   {
    "duration": 2,
    "start_time": "2025-04-19T00:10:53.039Z"
   },
   {
    "duration": 5,
    "start_time": "2025-04-19T00:10:53.043Z"
   },
   {
    "duration": 147,
    "start_time": "2025-04-19T00:10:53.050Z"
   },
   {
    "duration": 18,
    "start_time": "2025-04-19T00:10:53.199Z"
   },
   {
    "duration": 9,
    "start_time": "2025-04-19T00:10:53.219Z"
   },
   {
    "duration": 11,
    "start_time": "2025-04-19T00:10:53.230Z"
   },
   {
    "duration": 90570,
    "start_time": "2025-04-19T00:10:53.243Z"
   },
   {
    "duration": 0,
    "start_time": "2025-04-19T00:12:23.814Z"
   },
   {
    "duration": 0,
    "start_time": "2025-04-19T00:12:23.816Z"
   },
   {
    "duration": 0,
    "start_time": "2025-04-19T00:12:23.822Z"
   },
   {
    "duration": 0,
    "start_time": "2025-04-19T00:12:23.824Z"
   },
   {
    "duration": 0,
    "start_time": "2025-04-19T00:12:23.825Z"
   },
   {
    "duration": 25,
    "start_time": "2025-04-19T00:13:23.467Z"
   },
   {
    "duration": 9861,
    "start_time": "2025-04-19T00:13:30.238Z"
   },
   {
    "duration": 2216,
    "start_time": "2025-04-19T00:13:40.102Z"
   },
   {
    "duration": 2,
    "start_time": "2025-04-19T00:13:42.320Z"
   },
   {
    "duration": 25,
    "start_time": "2025-04-19T00:13:42.325Z"
   },
   {
    "duration": 17,
    "start_time": "2025-04-19T00:13:42.352Z"
   },
   {
    "duration": 18,
    "start_time": "2025-04-19T00:13:42.370Z"
   },
   {
    "duration": 5,
    "start_time": "2025-04-19T00:13:42.390Z"
   },
   {
    "duration": 16,
    "start_time": "2025-04-19T00:13:42.397Z"
   },
   {
    "duration": 8838,
    "start_time": "2025-04-19T00:13:42.415Z"
   },
   {
    "duration": 22,
    "start_time": "2025-04-19T00:13:51.255Z"
   },
   {
    "duration": 226,
    "start_time": "2025-04-19T00:13:51.278Z"
   },
   {
    "duration": 11,
    "start_time": "2025-04-19T00:13:51.505Z"
   },
   {
    "duration": 243,
    "start_time": "2025-04-19T00:13:51.517Z"
   },
   {
    "duration": 9,
    "start_time": "2025-04-19T00:13:51.762Z"
   },
   {
    "duration": 8,
    "start_time": "2025-04-19T00:13:51.773Z"
   },
   {
    "duration": 12655,
    "start_time": "2025-04-19T00:13:51.783Z"
   },
   {
    "duration": 566,
    "start_time": "2025-04-19T00:14:04.440Z"
   },
   {
    "duration": 511,
    "start_time": "2025-04-19T00:14:05.007Z"
   },
   {
    "duration": 151,
    "start_time": "2025-04-19T00:14:05.520Z"
   },
   {
    "duration": 491,
    "start_time": "2025-04-19T00:14:05.673Z"
   },
   {
    "duration": 145,
    "start_time": "2025-04-19T00:14:06.166Z"
   },
   {
    "duration": 8160,
    "start_time": "2025-04-19T00:14:06.312Z"
   },
   {
    "duration": 3,
    "start_time": "2025-04-19T00:14:14.474Z"
   },
   {
    "duration": 7,
    "start_time": "2025-04-19T00:14:14.478Z"
   },
   {
    "duration": 4,
    "start_time": "2025-04-19T00:14:14.486Z"
   },
   {
    "duration": 1005,
    "start_time": "2025-04-19T00:14:14.491Z"
   },
   {
    "duration": 198,
    "start_time": "2025-04-19T00:14:15.498Z"
   },
   {
    "duration": 1818,
    "start_time": "2025-04-19T00:14:15.700Z"
   },
   {
    "duration": 149,
    "start_time": "2025-04-19T00:14:17.519Z"
   },
   {
    "duration": 9,
    "start_time": "2025-04-19T00:14:17.670Z"
   },
   {
    "duration": 11,
    "start_time": "2025-04-19T00:14:17.681Z"
   },
   {
    "duration": 4,
    "start_time": "2025-04-19T00:14:17.694Z"
   },
   {
    "duration": 5,
    "start_time": "2025-04-19T00:14:17.699Z"
   },
   {
    "duration": 85,
    "start_time": "2025-04-19T00:14:17.706Z"
   },
   {
    "duration": 2,
    "start_time": "2025-04-19T00:14:17.792Z"
   },
   {
    "duration": 270,
    "start_time": "2025-04-19T00:14:17.796Z"
   },
   {
    "duration": 0,
    "start_time": "2025-04-19T00:14:18.067Z"
   },
   {
    "duration": 0,
    "start_time": "2025-04-19T00:14:18.069Z"
   },
   {
    "duration": 0,
    "start_time": "2025-04-19T00:14:18.069Z"
   },
   {
    "duration": 0,
    "start_time": "2025-04-19T00:14:18.071Z"
   },
   {
    "duration": 0,
    "start_time": "2025-04-19T00:14:18.072Z"
   },
   {
    "duration": 0,
    "start_time": "2025-04-19T00:14:18.073Z"
   },
   {
    "duration": 0,
    "start_time": "2025-04-19T00:14:18.074Z"
   },
   {
    "duration": 0,
    "start_time": "2025-04-19T00:14:18.075Z"
   },
   {
    "duration": 0,
    "start_time": "2025-04-19T00:14:18.076Z"
   },
   {
    "duration": 0,
    "start_time": "2025-04-19T00:14:18.077Z"
   },
   {
    "duration": 0,
    "start_time": "2025-04-19T00:14:18.078Z"
   },
   {
    "duration": 0,
    "start_time": "2025-04-19T00:14:18.079Z"
   },
   {
    "duration": 0,
    "start_time": "2025-04-19T00:14:18.080Z"
   },
   {
    "duration": 24,
    "start_time": "2025-04-19T00:15:30.029Z"
   },
   {
    "duration": 10662,
    "start_time": "2025-04-19T00:17:05.869Z"
   },
   {
    "duration": 2147,
    "start_time": "2025-04-19T00:17:16.534Z"
   },
   {
    "duration": 3,
    "start_time": "2025-04-19T00:17:18.683Z"
   },
   {
    "duration": 24,
    "start_time": "2025-04-19T00:17:18.688Z"
   },
   {
    "duration": 6,
    "start_time": "2025-04-19T00:17:18.714Z"
   },
   {
    "duration": 4,
    "start_time": "2025-04-19T00:17:18.722Z"
   },
   {
    "duration": 6,
    "start_time": "2025-04-19T00:17:18.728Z"
   },
   {
    "duration": 5,
    "start_time": "2025-04-19T00:17:18.735Z"
   },
   {
    "duration": 9255,
    "start_time": "2025-04-19T00:17:18.741Z"
   },
   {
    "duration": 21,
    "start_time": "2025-04-19T00:17:27.998Z"
   },
   {
    "duration": 234,
    "start_time": "2025-04-19T00:17:28.020Z"
   },
   {
    "duration": 11,
    "start_time": "2025-04-19T00:17:28.256Z"
   },
   {
    "duration": 202,
    "start_time": "2025-04-19T00:17:28.269Z"
   },
   {
    "duration": 9,
    "start_time": "2025-04-19T00:17:28.473Z"
   },
   {
    "duration": 6,
    "start_time": "2025-04-19T00:17:28.484Z"
   },
   {
    "duration": 10530,
    "start_time": "2025-04-19T00:17:28.492Z"
   },
   {
    "duration": 522,
    "start_time": "2025-04-19T00:17:39.023Z"
   },
   {
    "duration": 514,
    "start_time": "2025-04-19T00:17:39.547Z"
   },
   {
    "duration": 146,
    "start_time": "2025-04-19T00:17:40.063Z"
   },
   {
    "duration": 500,
    "start_time": "2025-04-19T00:17:40.212Z"
   },
   {
    "duration": 140,
    "start_time": "2025-04-19T00:17:40.714Z"
   },
   {
    "duration": 8432,
    "start_time": "2025-04-19T00:17:40.856Z"
   },
   {
    "duration": 3,
    "start_time": "2025-04-19T00:17:49.290Z"
   },
   {
    "duration": 5,
    "start_time": "2025-04-19T00:17:49.295Z"
   },
   {
    "duration": 3,
    "start_time": "2025-04-19T00:17:49.302Z"
   },
   {
    "duration": 1020,
    "start_time": "2025-04-19T00:17:49.306Z"
   },
   {
    "duration": 205,
    "start_time": "2025-04-19T00:17:50.328Z"
   },
   {
    "duration": 1836,
    "start_time": "2025-04-19T00:17:50.539Z"
   },
   {
    "duration": 142,
    "start_time": "2025-04-19T00:17:52.377Z"
   },
   {
    "duration": 16,
    "start_time": "2025-04-19T00:17:52.521Z"
   },
   {
    "duration": 2,
    "start_time": "2025-04-19T00:17:52.539Z"
   },
   {
    "duration": 19,
    "start_time": "2025-04-19T00:17:52.543Z"
   },
   {
    "duration": 10,
    "start_time": "2025-04-19T00:17:52.563Z"
   },
   {
    "duration": 81,
    "start_time": "2025-04-19T00:17:52.575Z"
   },
   {
    "duration": 2,
    "start_time": "2025-04-19T00:17:52.657Z"
   },
   {
    "duration": 255,
    "start_time": "2025-04-19T00:17:52.661Z"
   },
   {
    "duration": 0,
    "start_time": "2025-04-19T00:17:52.918Z"
   },
   {
    "duration": 0,
    "start_time": "2025-04-19T00:17:52.919Z"
   },
   {
    "duration": 0,
    "start_time": "2025-04-19T00:17:52.920Z"
   },
   {
    "duration": 0,
    "start_time": "2025-04-19T00:17:52.921Z"
   },
   {
    "duration": 0,
    "start_time": "2025-04-19T00:17:52.923Z"
   },
   {
    "duration": 0,
    "start_time": "2025-04-19T00:17:52.938Z"
   },
   {
    "duration": 0,
    "start_time": "2025-04-19T00:17:52.939Z"
   },
   {
    "duration": 0,
    "start_time": "2025-04-19T00:17:52.941Z"
   },
   {
    "duration": 0,
    "start_time": "2025-04-19T00:17:52.942Z"
   },
   {
    "duration": 0,
    "start_time": "2025-04-19T00:17:52.943Z"
   },
   {
    "duration": 0,
    "start_time": "2025-04-19T00:17:52.944Z"
   },
   {
    "duration": 0,
    "start_time": "2025-04-19T00:17:52.945Z"
   },
   {
    "duration": 0,
    "start_time": "2025-04-19T00:17:52.947Z"
   },
   {
    "duration": 24,
    "start_time": "2025-04-19T00:19:16.550Z"
   },
   {
    "duration": 10307,
    "start_time": "2025-04-19T00:19:22.689Z"
   },
   {
    "duration": 2219,
    "start_time": "2025-04-19T00:19:32.998Z"
   },
   {
    "duration": 2,
    "start_time": "2025-04-19T00:19:35.219Z"
   },
   {
    "duration": 28,
    "start_time": "2025-04-19T00:19:35.223Z"
   },
   {
    "duration": 31,
    "start_time": "2025-04-19T00:19:35.253Z"
   },
   {
    "duration": 27,
    "start_time": "2025-04-19T00:19:35.286Z"
   },
   {
    "duration": 19,
    "start_time": "2025-04-19T00:19:35.315Z"
   },
   {
    "duration": 43,
    "start_time": "2025-04-19T00:19:35.335Z"
   },
   {
    "duration": 8662,
    "start_time": "2025-04-19T00:19:35.380Z"
   },
   {
    "duration": 24,
    "start_time": "2025-04-19T00:19:44.044Z"
   },
   {
    "duration": 208,
    "start_time": "2025-04-19T00:19:44.069Z"
   },
   {
    "duration": 12,
    "start_time": "2025-04-19T00:19:44.278Z"
   },
   {
    "duration": 212,
    "start_time": "2025-04-19T00:19:44.291Z"
   },
   {
    "duration": 9,
    "start_time": "2025-04-19T00:19:44.505Z"
   },
   {
    "duration": 5,
    "start_time": "2025-04-19T00:19:44.516Z"
   },
   {
    "duration": 21147,
    "start_time": "2025-04-19T00:19:44.523Z"
   },
   {
    "duration": 548,
    "start_time": "2025-04-19T00:20:05.672Z"
   },
   {
    "duration": 527,
    "start_time": "2025-04-19T00:20:06.222Z"
   },
   {
    "duration": 149,
    "start_time": "2025-04-19T00:20:06.750Z"
   },
   {
    "duration": 505,
    "start_time": "2025-04-19T00:20:06.901Z"
   },
   {
    "duration": 140,
    "start_time": "2025-04-19T00:20:07.408Z"
   },
   {
    "duration": 12722,
    "start_time": "2025-04-19T00:20:07.550Z"
   },
   {
    "duration": 3,
    "start_time": "2025-04-19T00:20:20.273Z"
   },
   {
    "duration": 5,
    "start_time": "2025-04-19T00:20:20.278Z"
   },
   {
    "duration": 5,
    "start_time": "2025-04-19T00:20:20.285Z"
   },
   {
    "duration": 969,
    "start_time": "2025-04-19T00:20:20.292Z"
   },
   {
    "duration": 187,
    "start_time": "2025-04-19T00:20:21.263Z"
   },
   {
    "duration": 1779,
    "start_time": "2025-04-19T00:20:21.454Z"
   },
   {
    "duration": 136,
    "start_time": "2025-04-19T00:20:23.237Z"
   },
   {
    "duration": 10,
    "start_time": "2025-04-19T00:20:23.375Z"
   },
   {
    "duration": 15,
    "start_time": "2025-04-19T00:20:23.387Z"
   },
   {
    "duration": 9,
    "start_time": "2025-04-19T00:20:23.404Z"
   },
   {
    "duration": 14,
    "start_time": "2025-04-19T00:20:23.415Z"
   },
   {
    "duration": 71,
    "start_time": "2025-04-19T00:20:23.431Z"
   },
   {
    "duration": 3,
    "start_time": "2025-04-19T00:20:23.504Z"
   },
   {
    "duration": 615,
    "start_time": "2025-04-19T00:20:23.508Z"
   },
   {
    "duration": 921,
    "start_time": "2025-04-19T00:20:24.124Z"
   },
   {
    "duration": 2,
    "start_time": "2025-04-19T00:20:25.047Z"
   },
   {
    "duration": 7,
    "start_time": "2025-04-19T00:20:25.051Z"
   },
   {
    "duration": 144,
    "start_time": "2025-04-19T00:20:25.060Z"
   },
   {
    "duration": 14,
    "start_time": "2025-04-19T00:20:25.205Z"
   },
   {
    "duration": 16,
    "start_time": "2025-04-19T00:20:25.221Z"
   },
   {
    "duration": 8,
    "start_time": "2025-04-19T00:20:25.239Z"
   },
   {
    "duration": 107896,
    "start_time": "2025-04-19T00:20:25.248Z"
   },
   {
    "duration": 0,
    "start_time": "2025-04-19T00:22:13.146Z"
   },
   {
    "duration": 0,
    "start_time": "2025-04-19T00:22:13.147Z"
   },
   {
    "duration": 0,
    "start_time": "2025-04-19T00:22:13.147Z"
   },
   {
    "duration": 0,
    "start_time": "2025-04-19T00:22:13.148Z"
   },
   {
    "duration": 0,
    "start_time": "2025-04-19T00:22:13.149Z"
   },
   {
    "duration": 139796,
    "start_time": "2025-04-19T00:22:14.178Z"
   },
   {
    "duration": 9809,
    "start_time": "2025-04-19T00:24:45.648Z"
   },
   {
    "duration": 2238,
    "start_time": "2025-04-19T00:24:55.460Z"
   },
   {
    "duration": 3,
    "start_time": "2025-04-19T00:24:57.699Z"
   },
   {
    "duration": 5,
    "start_time": "2025-04-19T00:24:57.704Z"
   },
   {
    "duration": 5,
    "start_time": "2025-04-19T00:24:57.710Z"
   },
   {
    "duration": 4,
    "start_time": "2025-04-19T00:24:57.716Z"
   },
   {
    "duration": 16,
    "start_time": "2025-04-19T00:24:57.721Z"
   },
   {
    "duration": 4,
    "start_time": "2025-04-19T00:24:57.739Z"
   },
   {
    "duration": 8673,
    "start_time": "2025-04-19T00:24:57.744Z"
   },
   {
    "duration": 21,
    "start_time": "2025-04-19T00:25:06.419Z"
   },
   {
    "duration": 225,
    "start_time": "2025-04-19T00:25:06.441Z"
   },
   {
    "duration": 11,
    "start_time": "2025-04-19T00:25:06.668Z"
   },
   {
    "duration": 234,
    "start_time": "2025-04-19T00:25:06.681Z"
   },
   {
    "duration": 9,
    "start_time": "2025-04-19T00:25:06.917Z"
   },
   {
    "duration": 40,
    "start_time": "2025-04-19T00:25:06.928Z"
   },
   {
    "duration": 11623,
    "start_time": "2025-04-19T00:25:06.969Z"
   },
   {
    "duration": 574,
    "start_time": "2025-04-19T00:25:18.594Z"
   },
   {
    "duration": 511,
    "start_time": "2025-04-19T00:25:19.170Z"
   },
   {
    "duration": 147,
    "start_time": "2025-04-19T00:25:19.683Z"
   },
   {
    "duration": 505,
    "start_time": "2025-04-19T00:25:19.832Z"
   },
   {
    "duration": 149,
    "start_time": "2025-04-19T00:25:20.339Z"
   },
   {
    "duration": 8858,
    "start_time": "2025-04-19T00:25:20.490Z"
   },
   {
    "duration": 3,
    "start_time": "2025-04-19T00:25:29.350Z"
   },
   {
    "duration": 10,
    "start_time": "2025-04-19T00:25:29.354Z"
   },
   {
    "duration": 53,
    "start_time": "2025-04-19T00:25:29.366Z"
   },
   {
    "duration": 1139,
    "start_time": "2025-04-19T00:25:29.421Z"
   },
   {
    "duration": 202,
    "start_time": "2025-04-19T00:25:30.561Z"
   },
   {
    "duration": 1826,
    "start_time": "2025-04-19T00:25:30.767Z"
   },
   {
    "duration": 187,
    "start_time": "2025-04-19T00:25:32.594Z"
   },
   {
    "duration": 10,
    "start_time": "2025-04-19T00:25:32.783Z"
   },
   {
    "duration": 30,
    "start_time": "2025-04-19T00:25:32.795Z"
   },
   {
    "duration": 27,
    "start_time": "2025-04-19T00:25:32.826Z"
   },
   {
    "duration": 87,
    "start_time": "2025-04-19T00:25:32.855Z"
   },
   {
    "duration": 93,
    "start_time": "2025-04-19T00:25:32.944Z"
   },
   {
    "duration": 3,
    "start_time": "2025-04-19T00:25:33.039Z"
   },
   {
    "duration": 579,
    "start_time": "2025-04-19T00:25:33.044Z"
   },
   {
    "duration": 905,
    "start_time": "2025-04-19T00:25:33.625Z"
   },
   {
    "duration": 6,
    "start_time": "2025-04-19T00:25:34.532Z"
   },
   {
    "duration": 16,
    "start_time": "2025-04-19T00:25:34.540Z"
   },
   {
    "duration": 141,
    "start_time": "2025-04-19T00:25:34.558Z"
   },
   {
    "duration": 38,
    "start_time": "2025-04-19T00:25:34.701Z"
   },
   {
    "duration": 10,
    "start_time": "2025-04-19T00:25:34.740Z"
   },
   {
    "duration": 6,
    "start_time": "2025-04-19T00:25:34.752Z"
   },
   {
    "duration": 375827,
    "start_time": "2025-04-19T00:25:34.760Z"
   },
   {
    "duration": 0,
    "start_time": "2025-04-19T00:31:50.590Z"
   },
   {
    "duration": 0,
    "start_time": "2025-04-19T00:31:50.591Z"
   },
   {
    "duration": 0,
    "start_time": "2025-04-19T00:31:50.593Z"
   },
   {
    "duration": 0,
    "start_time": "2025-04-19T00:31:50.595Z"
   },
   {
    "duration": 0,
    "start_time": "2025-04-19T00:31:50.596Z"
   },
   {
    "duration": 0,
    "start_time": "2025-04-19T00:31:50.597Z"
   },
   {
    "duration": 20,
    "start_time": "2025-04-19T00:31:52.208Z"
   },
   {
    "duration": 4,
    "start_time": "2025-04-19T00:32:18.369Z"
   },
   {
    "duration": 9753,
    "start_time": "2025-04-19T00:32:27.725Z"
   },
   {
    "duration": 2200,
    "start_time": "2025-04-19T00:32:37.480Z"
   },
   {
    "duration": 3,
    "start_time": "2025-04-19T00:32:39.681Z"
   },
   {
    "duration": 13,
    "start_time": "2025-04-19T00:32:39.686Z"
   },
   {
    "duration": 5,
    "start_time": "2025-04-19T00:32:39.700Z"
   },
   {
    "duration": 12,
    "start_time": "2025-04-19T00:32:39.706Z"
   },
   {
    "duration": 5,
    "start_time": "2025-04-19T00:32:39.720Z"
   },
   {
    "duration": 8,
    "start_time": "2025-04-19T00:32:39.727Z"
   },
   {
    "duration": 7840,
    "start_time": "2025-04-19T00:32:39.737Z"
   },
   {
    "duration": 21,
    "start_time": "2025-04-19T00:32:47.579Z"
   },
   {
    "duration": 216,
    "start_time": "2025-04-19T00:32:47.601Z"
   },
   {
    "duration": 13,
    "start_time": "2025-04-19T00:32:47.819Z"
   },
   {
    "duration": 221,
    "start_time": "2025-04-19T00:32:47.833Z"
   },
   {
    "duration": 9,
    "start_time": "2025-04-19T00:32:48.056Z"
   },
   {
    "duration": 4,
    "start_time": "2025-04-19T00:32:48.067Z"
   },
   {
    "duration": 10821,
    "start_time": "2025-04-19T00:32:48.072Z"
   },
   {
    "duration": 523,
    "start_time": "2025-04-19T00:32:58.895Z"
   },
   {
    "duration": 511,
    "start_time": "2025-04-19T00:32:59.419Z"
   },
   {
    "duration": 159,
    "start_time": "2025-04-19T00:32:59.931Z"
   },
   {
    "duration": 505,
    "start_time": "2025-04-19T00:33:00.092Z"
   },
   {
    "duration": 139,
    "start_time": "2025-04-19T00:33:00.599Z"
   },
   {
    "duration": 9789,
    "start_time": "2025-04-19T00:33:00.740Z"
   },
   {
    "duration": 8,
    "start_time": "2025-04-19T00:33:10.531Z"
   },
   {
    "duration": 5,
    "start_time": "2025-04-19T00:33:10.541Z"
   },
   {
    "duration": 5,
    "start_time": "2025-04-19T00:33:10.547Z"
   },
   {
    "duration": 987,
    "start_time": "2025-04-19T00:33:10.553Z"
   },
   {
    "duration": 172,
    "start_time": "2025-04-19T00:33:11.542Z"
   },
   {
    "duration": 1869,
    "start_time": "2025-04-19T00:33:11.718Z"
   },
   {
    "duration": 152,
    "start_time": "2025-04-19T00:33:13.589Z"
   },
   {
    "duration": 10,
    "start_time": "2025-04-19T00:33:13.743Z"
   },
   {
    "duration": 2,
    "start_time": "2025-04-19T00:33:13.755Z"
   },
   {
    "duration": 4,
    "start_time": "2025-04-19T00:33:13.758Z"
   },
   {
    "duration": 12,
    "start_time": "2025-04-19T00:33:13.763Z"
   },
   {
    "duration": 85,
    "start_time": "2025-04-19T00:33:13.776Z"
   },
   {
    "duration": 27,
    "start_time": "2025-04-19T00:33:13.863Z"
   },
   {
    "duration": 602,
    "start_time": "2025-04-19T00:33:13.892Z"
   },
   {
    "duration": 924,
    "start_time": "2025-04-19T00:33:14.495Z"
   },
   {
    "duration": 2,
    "start_time": "2025-04-19T00:33:15.421Z"
   },
   {
    "duration": 49,
    "start_time": "2025-04-19T00:33:15.425Z"
   },
   {
    "duration": 129,
    "start_time": "2025-04-19T00:33:15.475Z"
   },
   {
    "duration": 16,
    "start_time": "2025-04-19T00:33:15.606Z"
   },
   {
    "duration": 9,
    "start_time": "2025-04-19T00:33:15.624Z"
   },
   {
    "duration": 23,
    "start_time": "2025-04-19T00:33:15.637Z"
   },
   {
    "duration": 103472,
    "start_time": "2025-04-19T00:33:15.662Z"
   },
   {
    "duration": 0,
    "start_time": "2025-04-19T00:34:59.137Z"
   },
   {
    "duration": 0,
    "start_time": "2025-04-19T00:34:59.139Z"
   },
   {
    "duration": 0,
    "start_time": "2025-04-19T00:34:59.141Z"
   },
   {
    "duration": 0,
    "start_time": "2025-04-19T00:34:59.142Z"
   },
   {
    "duration": 0,
    "start_time": "2025-04-19T00:34:59.143Z"
   },
   {
    "duration": 869,
    "start_time": "2025-04-19T00:35:15.098Z"
   },
   {
    "duration": 204477,
    "start_time": "2025-04-19T00:35:47.491Z"
   },
   {
    "duration": 68767,
    "start_time": "2025-04-19T00:39:26.689Z"
   },
   {
    "duration": 51861,
    "start_time": "2025-04-19T00:40:50.408Z"
   },
   {
    "duration": 18,
    "start_time": "2025-04-19T00:42:21.620Z"
   },
   {
    "duration": 9938,
    "start_time": "2025-04-19T00:43:47.615Z"
   },
   {
    "duration": 2246,
    "start_time": "2025-04-19T00:43:57.556Z"
   },
   {
    "duration": 2,
    "start_time": "2025-04-19T00:43:59.804Z"
   },
   {
    "duration": 5,
    "start_time": "2025-04-19T00:43:59.809Z"
   },
   {
    "duration": 4,
    "start_time": "2025-04-19T00:43:59.815Z"
   },
   {
    "duration": 4,
    "start_time": "2025-04-19T00:43:59.821Z"
   },
   {
    "duration": 14,
    "start_time": "2025-04-19T00:43:59.826Z"
   },
   {
    "duration": 5,
    "start_time": "2025-04-19T00:43:59.841Z"
   },
   {
    "duration": 8033,
    "start_time": "2025-04-19T00:43:59.847Z"
   },
   {
    "duration": 22,
    "start_time": "2025-04-19T00:44:07.882Z"
   },
   {
    "duration": 278,
    "start_time": "2025-04-19T00:44:07.906Z"
   },
   {
    "duration": 11,
    "start_time": "2025-04-19T00:44:08.186Z"
   },
   {
    "duration": 253,
    "start_time": "2025-04-19T00:44:08.198Z"
   },
   {
    "duration": 9,
    "start_time": "2025-04-19T00:44:08.453Z"
   },
   {
    "duration": 5,
    "start_time": "2025-04-19T00:44:08.464Z"
   },
   {
    "duration": 10919,
    "start_time": "2025-04-19T00:44:08.470Z"
   },
   {
    "duration": 539,
    "start_time": "2025-04-19T00:44:19.391Z"
   },
   {
    "duration": 509,
    "start_time": "2025-04-19T00:44:19.937Z"
   },
   {
    "duration": 149,
    "start_time": "2025-04-19T00:44:20.448Z"
   },
   {
    "duration": 495,
    "start_time": "2025-04-19T00:44:20.599Z"
   },
   {
    "duration": 142,
    "start_time": "2025-04-19T00:44:21.096Z"
   },
   {
    "duration": 9746,
    "start_time": "2025-04-19T00:44:21.239Z"
   },
   {
    "duration": 3,
    "start_time": "2025-04-19T00:44:30.987Z"
   },
   {
    "duration": 48,
    "start_time": "2025-04-19T00:44:30.991Z"
   },
   {
    "duration": 18,
    "start_time": "2025-04-19T00:44:31.040Z"
   },
   {
    "duration": 1043,
    "start_time": "2025-04-19T00:44:31.060Z"
   },
   {
    "duration": 179,
    "start_time": "2025-04-19T00:44:32.104Z"
   },
   {
    "duration": 1872,
    "start_time": "2025-04-19T00:44:32.287Z"
   },
   {
    "duration": 160,
    "start_time": "2025-04-19T00:44:34.162Z"
   },
   {
    "duration": 18,
    "start_time": "2025-04-19T00:44:34.324Z"
   },
   {
    "duration": 2,
    "start_time": "2025-04-19T00:44:34.343Z"
   },
   {
    "duration": 16,
    "start_time": "2025-04-19T00:44:34.347Z"
   },
   {
    "duration": 32,
    "start_time": "2025-04-19T00:44:34.365Z"
   },
   {
    "duration": 85,
    "start_time": "2025-04-19T00:44:34.399Z"
   },
   {
    "duration": 26,
    "start_time": "2025-04-19T00:44:34.486Z"
   },
   {
    "duration": 606,
    "start_time": "2025-04-19T00:44:34.514Z"
   },
   {
    "duration": 910,
    "start_time": "2025-04-19T00:44:35.122Z"
   },
   {
    "duration": 2,
    "start_time": "2025-04-19T00:44:36.037Z"
   },
   {
    "duration": 16,
    "start_time": "2025-04-19T00:44:36.041Z"
   },
   {
    "duration": 135,
    "start_time": "2025-04-19T00:44:36.059Z"
   },
   {
    "duration": 55,
    "start_time": "2025-04-19T00:44:36.195Z"
   },
   {
    "duration": 29,
    "start_time": "2025-04-19T00:44:36.252Z"
   },
   {
    "duration": 41,
    "start_time": "2025-04-19T00:44:36.283Z"
   },
   {
    "duration": 7214,
    "start_time": "2025-04-19T00:44:36.326Z"
   },
   {
    "duration": 0,
    "start_time": "2025-04-19T00:44:43.542Z"
   },
   {
    "duration": 0,
    "start_time": "2025-04-19T00:44:43.543Z"
   },
   {
    "duration": 0,
    "start_time": "2025-04-19T00:44:43.545Z"
   },
   {
    "duration": 0,
    "start_time": "2025-04-19T00:44:43.545Z"
   },
   {
    "duration": 1,
    "start_time": "2025-04-19T00:44:43.546Z"
   },
   {
    "duration": 18,
    "start_time": "2025-04-19T00:45:20.423Z"
   },
   {
    "duration": 18333,
    "start_time": "2025-04-19T00:45:25.136Z"
   },
   {
    "duration": 20,
    "start_time": "2025-04-19T00:47:48.381Z"
   },
   {
    "duration": 1085898,
    "start_time": "2025-04-19T00:47:53.378Z"
   },
   {
    "duration": 0,
    "start_time": "2025-04-19T01:05:59.278Z"
   },
   {
    "duration": 47058,
    "start_time": "2025-04-19T01:06:00.820Z"
   },
   {
    "duration": 21,
    "start_time": "2025-04-19T01:09:06.211Z"
   },
   {
    "duration": 25179,
    "start_time": "2025-04-19T01:09:18.810Z"
   },
   {
    "duration": 20,
    "start_time": "2025-04-19T01:10:35.487Z"
   },
   {
    "duration": 236,
    "start_time": "2025-04-19T01:10:39.154Z"
   },
   {
    "duration": 9,
    "start_time": "2025-04-19T01:23:18.057Z"
   },
   {
    "duration": 94490,
    "start_time": "2025-04-19T01:23:26.173Z"
   },
   {
    "duration": 0,
    "start_time": "2025-04-19T01:25:00.665Z"
   },
   {
    "duration": 0,
    "start_time": "2025-04-19T01:25:00.669Z"
   },
   {
    "duration": 9,
    "start_time": "2025-04-19T01:25:05.805Z"
   },
   {
    "duration": 48494,
    "start_time": "2025-04-19T01:25:08.686Z"
   },
   {
    "duration": 10,
    "start_time": "2025-04-19T01:28:06.049Z"
   },
   {
    "duration": 54345,
    "start_time": "2025-04-19T01:28:18.434Z"
   },
   {
    "duration": 10,
    "start_time": "2025-04-19T01:31:56.833Z"
   },
   {
    "duration": 53564,
    "start_time": "2025-04-19T01:32:03.407Z"
   },
   {
    "duration": 10,
    "start_time": "2025-04-19T01:34:24.375Z"
   },
   {
    "duration": 34907,
    "start_time": "2025-04-19T01:34:28.976Z"
   },
   {
    "duration": 10,
    "start_time": "2025-04-19T01:37:43.316Z"
   },
   {
    "duration": 71,
    "start_time": "2025-04-19T01:37:46.990Z"
   },
   {
    "duration": 10,
    "start_time": "2025-04-19T01:38:39.274Z"
   },
   {
    "duration": 21253,
    "start_time": "2025-04-19T01:38:42.286Z"
   },
   {
    "duration": 10,
    "start_time": "2025-04-19T01:39:33.227Z"
   },
   {
    "duration": 58334,
    "start_time": "2025-04-19T01:39:37.666Z"
   },
   {
    "duration": 12,
    "start_time": "2025-04-19T01:45:15.107Z"
   },
   {
    "duration": 112513,
    "start_time": "2025-04-19T01:45:18.355Z"
   },
   {
    "duration": 10,
    "start_time": "2025-04-19T01:52:34.117Z"
   },
   {
    "duration": 38782,
    "start_time": "2025-04-19T01:52:36.558Z"
   },
   {
    "duration": 39531,
    "start_time": "2025-04-19T01:53:45.038Z"
   },
   {
    "duration": 9,
    "start_time": "2025-04-19T01:57:06.681Z"
   },
   {
    "duration": 69052,
    "start_time": "2025-04-19T01:57:08.935Z"
   },
   {
    "duration": 59,
    "start_time": "2025-04-19T01:58:17.989Z"
   },
   {
    "duration": 20818,
    "start_time": "2025-04-19T01:58:21.058Z"
   },
   {
    "duration": 0,
    "start_time": "2025-04-19T01:58:41.879Z"
   },
   {
    "duration": 99048,
    "start_time": "2025-04-19T01:58:43.912Z"
   },
   {
    "duration": 8,
    "start_time": "2025-04-19T02:03:28.722Z"
   },
   {
    "duration": 115622,
    "start_time": "2025-04-19T02:03:32.746Z"
   },
   {
    "duration": 10,
    "start_time": "2025-04-19T02:07:21.170Z"
   },
   {
    "duration": 443,
    "start_time": "2025-04-19T02:07:23.938Z"
   },
   {
    "duration": 10,
    "start_time": "2025-04-19T02:08:04.933Z"
   },
   {
    "duration": 33,
    "start_time": "2025-04-19T02:08:08.166Z"
   },
   {
    "duration": 10,
    "start_time": "2025-04-19T02:10:18.472Z"
   },
   {
    "duration": 34,
    "start_time": "2025-04-19T02:10:22.301Z"
   },
   {
    "duration": 10,
    "start_time": "2025-04-19T02:10:58.762Z"
   },
   {
    "duration": 112920,
    "start_time": "2025-04-19T02:11:01.235Z"
   },
   {
    "duration": 12,
    "start_time": "2025-04-19T02:13:41.619Z"
   },
   {
    "duration": 320254,
    "start_time": "2025-04-19T02:13:46.815Z"
   },
   {
    "duration": 321,
    "start_time": "2025-04-19T02:19:43.962Z"
   },
   {
    "duration": 83,
    "start_time": "2025-04-19T02:30:58.508Z"
   },
   {
    "duration": 22,
    "start_time": "2025-04-19T02:31:11.588Z"
   },
   {
    "duration": 219609,
    "start_time": "2025-04-19T02:31:16.152Z"
   },
   {
    "duration": 0,
    "start_time": "2025-04-19T02:34:55.764Z"
   },
   {
    "duration": 5,
    "start_time": "2025-04-19T02:34:56.961Z"
   },
   {
    "duration": 85,
    "start_time": "2025-04-19T02:36:34.369Z"
   },
   {
    "duration": 88,
    "start_time": "2025-04-19T02:38:15.398Z"
   },
   {
    "duration": 21,
    "start_time": "2025-04-19T02:38:27.571Z"
   },
   {
    "duration": 161975,
    "start_time": "2025-04-19T02:38:34.100Z"
   },
   {
    "duration": 0,
    "start_time": "2025-04-19T02:41:16.077Z"
   },
   {
    "duration": 14033,
    "start_time": "2025-04-19T02:41:18.135Z"
   },
   {
    "duration": 11,
    "start_time": "2025-04-19T02:51:26.763Z"
   },
   {
    "duration": 14,
    "start_time": "2025-04-19T02:51:37.037Z"
   },
   {
    "duration": 5,
    "start_time": "2025-04-19T02:52:03.289Z"
   },
   {
    "duration": 11,
    "start_time": "2025-04-19T02:52:09.589Z"
   },
   {
    "duration": 28318,
    "start_time": "2025-04-19T02:52:12.453Z"
   },
   {
    "duration": 6,
    "start_time": "2025-04-19T02:53:32.513Z"
   },
   {
    "duration": 126,
    "start_time": "2025-04-19T03:07:12.922Z"
   },
   {
    "duration": 16,
    "start_time": "2025-04-19T03:08:00.482Z"
   },
   {
    "duration": 15,
    "start_time": "2025-04-19T03:08:13.593Z"
   },
   {
    "duration": 17,
    "start_time": "2025-04-19T03:12:04.073Z"
   },
   {
    "duration": 281269,
    "start_time": "2025-04-19T03:12:09.298Z"
   },
   {
    "duration": 0,
    "start_time": "2025-04-19T03:16:50.569Z"
   },
   {
    "duration": 21,
    "start_time": "2025-04-19T03:16:56.557Z"
   },
   {
    "duration": 124565,
    "start_time": "2025-04-19T03:17:06.209Z"
   },
   {
    "duration": 0,
    "start_time": "2025-04-19T03:19:10.776Z"
   },
   {
    "duration": 9788,
    "start_time": "2025-04-19T03:19:21.410Z"
   },
   {
    "duration": 2194,
    "start_time": "2025-04-19T03:19:31.201Z"
   },
   {
    "duration": 3,
    "start_time": "2025-04-19T03:19:33.397Z"
   },
   {
    "duration": 42,
    "start_time": "2025-04-19T03:19:33.401Z"
   },
   {
    "duration": 101,
    "start_time": "2025-04-19T03:19:33.446Z"
   },
   {
    "duration": 7,
    "start_time": "2025-04-19T03:19:33.549Z"
   },
   {
    "duration": 38,
    "start_time": "2025-04-19T03:19:33.557Z"
   },
   {
    "duration": 35,
    "start_time": "2025-04-19T03:19:33.596Z"
   },
   {
    "duration": 7996,
    "start_time": "2025-04-19T03:19:33.633Z"
   },
   {
    "duration": 24,
    "start_time": "2025-04-19T03:19:41.631Z"
   },
   {
    "duration": 214,
    "start_time": "2025-04-19T03:19:41.657Z"
   },
   {
    "duration": 12,
    "start_time": "2025-04-19T03:19:41.872Z"
   },
   {
    "duration": 256,
    "start_time": "2025-04-19T03:19:41.887Z"
   },
   {
    "duration": 9,
    "start_time": "2025-04-19T03:19:42.146Z"
   },
   {
    "duration": 16,
    "start_time": "2025-04-19T03:19:42.157Z"
   },
   {
    "duration": 10835,
    "start_time": "2025-04-19T03:19:42.175Z"
   },
   {
    "duration": 512,
    "start_time": "2025-04-19T03:19:53.012Z"
   },
   {
    "duration": 512,
    "start_time": "2025-04-19T03:19:53.539Z"
   },
   {
    "duration": 177,
    "start_time": "2025-04-19T03:19:54.053Z"
   },
   {
    "duration": 501,
    "start_time": "2025-04-19T03:19:54.231Z"
   },
   {
    "duration": 144,
    "start_time": "2025-04-19T03:19:54.733Z"
   },
   {
    "duration": 9791,
    "start_time": "2025-04-19T03:19:54.880Z"
   },
   {
    "duration": 4,
    "start_time": "2025-04-19T03:20:04.673Z"
   },
   {
    "duration": 26,
    "start_time": "2025-04-19T03:20:04.679Z"
   },
   {
    "duration": 15,
    "start_time": "2025-04-19T03:20:04.707Z"
   },
   {
    "duration": 1015,
    "start_time": "2025-04-19T03:20:04.723Z"
   },
   {
    "duration": 186,
    "start_time": "2025-04-19T03:20:05.740Z"
   },
   {
    "duration": 1880,
    "start_time": "2025-04-19T03:20:05.928Z"
   },
   {
    "duration": 153,
    "start_time": "2025-04-19T03:20:07.810Z"
   },
   {
    "duration": 11,
    "start_time": "2025-04-19T03:20:07.965Z"
   },
   {
    "duration": 3,
    "start_time": "2025-04-19T03:20:07.978Z"
   },
   {
    "duration": 4,
    "start_time": "2025-04-19T03:20:07.983Z"
   },
   {
    "duration": 4,
    "start_time": "2025-04-19T03:20:07.989Z"
   },
   {
    "duration": 102,
    "start_time": "2025-04-19T03:20:07.995Z"
   },
   {
    "duration": 27,
    "start_time": "2025-04-19T03:20:08.099Z"
   },
   {
    "duration": 591,
    "start_time": "2025-04-19T03:20:08.128Z"
   },
   {
    "duration": 899,
    "start_time": "2025-04-19T03:20:08.721Z"
   },
   {
    "duration": 2,
    "start_time": "2025-04-19T03:20:09.622Z"
   },
   {
    "duration": 18,
    "start_time": "2025-04-19T03:20:09.626Z"
   },
   {
    "duration": 82,
    "start_time": "2025-04-19T03:20:09.646Z"
   },
   {
    "duration": 0,
    "start_time": "2025-04-19T03:20:09.730Z"
   },
   {
    "duration": 0,
    "start_time": "2025-04-19T03:20:09.731Z"
   },
   {
    "duration": 0,
    "start_time": "2025-04-19T03:20:09.732Z"
   },
   {
    "duration": 1,
    "start_time": "2025-04-19T03:20:09.733Z"
   },
   {
    "duration": 0,
    "start_time": "2025-04-19T03:20:09.735Z"
   },
   {
    "duration": 0,
    "start_time": "2025-04-19T03:20:09.736Z"
   },
   {
    "duration": 0,
    "start_time": "2025-04-19T03:20:09.737Z"
   },
   {
    "duration": 0,
    "start_time": "2025-04-19T03:20:09.739Z"
   },
   {
    "duration": 132,
    "start_time": "2025-04-19T03:22:35.120Z"
   },
   {
    "duration": 20,
    "start_time": "2025-04-19T03:23:30.816Z"
   },
   {
    "duration": 11,
    "start_time": "2025-04-19T03:23:33.484Z"
   },
   {
    "duration": 9,
    "start_time": "2025-04-19T03:23:34.154Z"
   },
   {
    "duration": 508849,
    "start_time": "2025-04-19T03:23:34.340Z"
   },
   {
    "duration": 0,
    "start_time": "2025-04-19T03:32:03.191Z"
   },
   {
    "duration": 0,
    "start_time": "2025-04-19T03:32:03.192Z"
   },
   {
    "duration": 719105,
    "start_time": "2025-04-19T03:32:29.539Z"
   },
   {
    "duration": 503986,
    "start_time": "2025-04-19T03:45:08.283Z"
   },
   {
    "duration": 689463,
    "start_time": "2025-04-19T04:02:15.583Z"
   },
   {
    "duration": 3,
    "start_time": "2025-04-19T04:13:45.048Z"
   },
   {
    "duration": 12,
    "start_time": "2025-04-19T04:16:00.523Z"
   },
   {
    "duration": 4,
    "start_time": "2025-04-19T04:16:25.226Z"
   },
   {
    "duration": 12,
    "start_time": "2025-04-19T04:16:50.373Z"
   },
   {
    "duration": 5614,
    "start_time": "2025-04-19T04:18:11.843Z"
   },
   {
    "duration": 5478,
    "start_time": "2025-04-19T04:18:41.603Z"
   },
   {
    "duration": 5,
    "start_time": "2025-04-19T04:18:53.106Z"
   },
   {
    "duration": 13,
    "start_time": "2025-04-19T04:19:17.755Z"
   },
   {
    "duration": 5777,
    "start_time": "2025-04-19T04:19:27.467Z"
   },
   {
    "duration": 5572,
    "start_time": "2025-04-19T04:21:34.683Z"
   },
   {
    "duration": 4,
    "start_time": "2025-04-19T04:21:40.257Z"
   },
   {
    "duration": 11,
    "start_time": "2025-04-19T04:22:13.734Z"
   },
   {
    "duration": 5647,
    "start_time": "2025-04-19T04:23:42.307Z"
   },
   {
    "duration": 3,
    "start_time": "2025-04-19T04:23:47.956Z"
   },
   {
    "duration": 5572,
    "start_time": "2025-04-19T04:23:50.120Z"
   },
   {
    "duration": 19174,
    "start_time": "2025-04-19T05:57:08.698Z"
   },
   {
    "duration": 2661,
    "start_time": "2025-04-19T05:57:27.875Z"
   },
   {
    "duration": 3,
    "start_time": "2025-04-19T05:57:30.538Z"
   },
   {
    "duration": 66,
    "start_time": "2025-04-19T05:57:30.543Z"
   },
   {
    "duration": 19,
    "start_time": "2025-04-19T05:57:30.612Z"
   },
   {
    "duration": 11,
    "start_time": "2025-04-19T05:57:30.633Z"
   },
   {
    "duration": 26,
    "start_time": "2025-04-19T05:57:30.646Z"
   },
   {
    "duration": 25,
    "start_time": "2025-04-19T05:57:30.674Z"
   },
   {
    "duration": 7782,
    "start_time": "2025-04-19T05:57:30.700Z"
   },
   {
    "duration": 24,
    "start_time": "2025-04-19T05:57:38.484Z"
   },
   {
    "duration": 274,
    "start_time": "2025-04-19T05:57:38.509Z"
   },
   {
    "duration": 13,
    "start_time": "2025-04-19T05:57:38.784Z"
   },
   {
    "duration": 193,
    "start_time": "2025-04-19T05:57:38.799Z"
   },
   {
    "duration": 10,
    "start_time": "2025-04-19T05:57:38.995Z"
   },
   {
    "duration": 65,
    "start_time": "2025-04-19T05:57:39.006Z"
   },
   {
    "duration": 11189,
    "start_time": "2025-04-19T05:57:39.073Z"
   },
   {
    "duration": 601,
    "start_time": "2025-04-19T05:57:50.264Z"
   },
   {
    "duration": 493,
    "start_time": "2025-04-19T05:57:50.868Z"
   },
   {
    "duration": 161,
    "start_time": "2025-04-19T05:57:51.362Z"
   },
   {
    "duration": 480,
    "start_time": "2025-04-19T05:57:51.525Z"
   },
   {
    "duration": 160,
    "start_time": "2025-04-19T05:57:52.007Z"
   },
   {
    "duration": 8591,
    "start_time": "2025-04-19T05:57:52.169Z"
   },
   {
    "duration": 3,
    "start_time": "2025-04-19T05:58:00.762Z"
   },
   {
    "duration": 57,
    "start_time": "2025-04-19T05:58:00.766Z"
   },
   {
    "duration": 8,
    "start_time": "2025-04-19T05:58:00.824Z"
   },
   {
    "duration": 1057,
    "start_time": "2025-04-19T05:58:00.834Z"
   },
   {
    "duration": 179,
    "start_time": "2025-04-19T05:58:01.893Z"
   },
   {
    "duration": 1803,
    "start_time": "2025-04-19T05:58:02.073Z"
   },
   {
    "duration": 153,
    "start_time": "2025-04-19T05:58:03.878Z"
   },
   {
    "duration": 11,
    "start_time": "2025-04-19T05:58:04.033Z"
   },
   {
    "duration": 18,
    "start_time": "2025-04-19T05:58:04.046Z"
   },
   {
    "duration": 67,
    "start_time": "2025-04-19T05:58:04.066Z"
   },
   {
    "duration": 69,
    "start_time": "2025-04-19T05:58:04.135Z"
   },
   {
    "duration": 95,
    "start_time": "2025-04-19T05:58:04.206Z"
   },
   {
    "duration": 30,
    "start_time": "2025-04-19T05:58:04.303Z"
   },
   {
    "duration": 659,
    "start_time": "2025-04-19T05:58:04.335Z"
   },
   {
    "duration": 959,
    "start_time": "2025-04-19T05:58:04.997Z"
   },
   {
    "duration": 3,
    "start_time": "2025-04-19T05:58:05.958Z"
   },
   {
    "duration": 208,
    "start_time": "2025-04-19T05:58:05.962Z"
   },
   {
    "duration": 139,
    "start_time": "2025-04-19T05:58:06.172Z"
   },
   {
    "duration": 23,
    "start_time": "2025-04-19T05:58:06.315Z"
   },
   {
    "duration": 37,
    "start_time": "2025-04-19T05:58:06.339Z"
   },
   {
    "duration": 1004457,
    "start_time": "2025-04-19T05:58:06.377Z"
   },
   {
    "duration": 3,
    "start_time": "2025-04-19T06:14:50.836Z"
   },
   {
    "duration": 88,
    "start_time": "2025-04-19T06:14:50.840Z"
   },
   {
    "duration": 5587,
    "start_time": "2025-04-19T06:14:50.930Z"
   },
   {
    "duration": 4,
    "start_time": "2025-04-19T06:14:56.518Z"
   },
   {
    "duration": 5881,
    "start_time": "2025-04-19T06:14:56.524Z"
   },
   {
    "duration": 0,
    "start_time": "2025-04-19T06:15:02.407Z"
   },
   {
    "duration": 0,
    "start_time": "2025-04-19T06:15:02.409Z"
   },
   {
    "duration": 0,
    "start_time": "2025-04-19T06:15:02.410Z"
   },
   {
    "duration": 0,
    "start_time": "2025-04-19T06:15:02.412Z"
   },
   {
    "duration": 5656,
    "start_time": "2025-04-19T06:15:34.869Z"
   },
   {
    "duration": 5597,
    "start_time": "2025-04-19T06:16:30.518Z"
   },
   {
    "duration": 329,
    "start_time": "2025-04-19T06:18:32.445Z"
   },
   {
    "duration": 24,
    "start_time": "2025-04-19T06:21:01.726Z"
   },
   {
    "duration": 300,
    "start_time": "2025-04-19T06:21:26.784Z"
   },
   {
    "duration": 8,
    "start_time": "2025-04-19T06:21:31.577Z"
   },
   {
    "duration": 968,
    "start_time": "2025-04-19T06:21:33.555Z"
   },
   {
    "duration": 13,
    "start_time": "2025-04-19T06:25:10.802Z"
   },
   {
    "duration": 20,
    "start_time": "2025-04-19T06:25:30.459Z"
   },
   {
    "duration": 82,
    "start_time": "2025-04-19T06:26:09.325Z"
   },
   {
    "duration": 5,
    "start_time": "2025-04-19T06:26:37.733Z"
   },
   {
    "duration": 20064,
    "start_time": "2025-04-20T00:45:34.322Z"
   },
   {
    "duration": 2669,
    "start_time": "2025-04-20T00:45:54.389Z"
   },
   {
    "duration": 3,
    "start_time": "2025-04-20T00:45:57.062Z"
   },
   {
    "duration": 26,
    "start_time": "2025-04-20T00:45:57.067Z"
   },
   {
    "duration": 14,
    "start_time": "2025-04-20T00:45:57.095Z"
   },
   {
    "duration": 15,
    "start_time": "2025-04-20T00:45:57.111Z"
   },
   {
    "duration": 15,
    "start_time": "2025-04-20T00:45:57.128Z"
   },
   {
    "duration": 15,
    "start_time": "2025-04-20T00:45:57.145Z"
   },
   {
    "duration": 8310,
    "start_time": "2025-04-20T00:45:57.161Z"
   },
   {
    "duration": 24,
    "start_time": "2025-04-20T00:46:05.473Z"
   },
   {
    "duration": 281,
    "start_time": "2025-04-20T00:46:05.498Z"
   },
   {
    "duration": 12,
    "start_time": "2025-04-20T00:46:05.780Z"
   },
   {
    "duration": 212,
    "start_time": "2025-04-20T00:46:05.795Z"
   },
   {
    "duration": 9,
    "start_time": "2025-04-20T00:46:06.009Z"
   },
   {
    "duration": 147,
    "start_time": "2025-04-20T00:46:06.020Z"
   },
   {
    "duration": 10958,
    "start_time": "2025-04-20T00:46:06.169Z"
   },
   {
    "duration": 606,
    "start_time": "2025-04-20T00:46:17.129Z"
   },
   {
    "duration": 490,
    "start_time": "2025-04-20T00:46:17.737Z"
   },
   {
    "duration": 163,
    "start_time": "2025-04-20T00:46:18.228Z"
   },
   {
    "duration": 500,
    "start_time": "2025-04-20T00:46:18.393Z"
   },
   {
    "duration": 161,
    "start_time": "2025-04-20T00:46:18.895Z"
   },
   {
    "duration": 10167,
    "start_time": "2025-04-20T00:46:19.057Z"
   },
   {
    "duration": 3,
    "start_time": "2025-04-20T00:46:29.226Z"
   },
   {
    "duration": 40,
    "start_time": "2025-04-20T00:46:29.231Z"
   },
   {
    "duration": 17,
    "start_time": "2025-04-20T00:46:29.272Z"
   },
   {
    "duration": 986,
    "start_time": "2025-04-20T00:46:29.291Z"
   },
   {
    "duration": 173,
    "start_time": "2025-04-20T00:46:30.279Z"
   },
   {
    "duration": 1773,
    "start_time": "2025-04-20T00:46:30.454Z"
   },
   {
    "duration": 145,
    "start_time": "2025-04-20T00:46:32.229Z"
   },
   {
    "duration": 11,
    "start_time": "2025-04-20T00:46:32.376Z"
   },
   {
    "duration": 36,
    "start_time": "2025-04-20T00:46:32.389Z"
   },
   {
    "duration": 21,
    "start_time": "2025-04-20T00:46:32.427Z"
   },
   {
    "duration": 26,
    "start_time": "2025-04-20T00:46:32.450Z"
   },
   {
    "duration": 103,
    "start_time": "2025-04-20T00:46:32.478Z"
   },
   {
    "duration": 34,
    "start_time": "2025-04-20T00:46:32.583Z"
   },
   {
    "duration": 656,
    "start_time": "2025-04-20T00:46:32.619Z"
   },
   {
    "duration": 1029,
    "start_time": "2025-04-20T00:46:33.276Z"
   },
   {
    "duration": 5,
    "start_time": "2025-04-20T00:46:34.307Z"
   },
   {
    "duration": 216,
    "start_time": "2025-04-20T00:46:34.314Z"
   },
   {
    "duration": 12,
    "start_time": "2025-04-20T00:46:34.534Z"
   },
   {
    "duration": 80,
    "start_time": "2025-04-20T00:46:34.548Z"
   },
   {
    "duration": 174445,
    "start_time": "2025-04-20T00:46:34.630Z"
   },
   {
    "duration": 0,
    "start_time": "2025-04-20T00:49:29.077Z"
   },
   {
    "duration": 0,
    "start_time": "2025-04-20T00:49:29.078Z"
   },
   {
    "duration": 0,
    "start_time": "2025-04-20T00:49:29.081Z"
   },
   {
    "duration": 0,
    "start_time": "2025-04-20T00:49:29.082Z"
   },
   {
    "duration": 0,
    "start_time": "2025-04-20T00:49:29.104Z"
   },
   {
    "duration": 0,
    "start_time": "2025-04-20T00:49:29.106Z"
   },
   {
    "duration": 0,
    "start_time": "2025-04-20T00:49:29.108Z"
   },
   {
    "duration": 0,
    "start_time": "2025-04-20T00:49:29.109Z"
   },
   {
    "duration": 4,
    "start_time": "2025-04-20T00:51:41.307Z"
   },
   {
    "duration": 172,
    "start_time": "2025-04-20T00:52:45.427Z"
   },
   {
    "duration": 172,
    "start_time": "2025-04-20T00:53:01.727Z"
   },
   {
    "duration": 178,
    "start_time": "2025-04-20T00:53:08.428Z"
   },
   {
    "duration": 390,
    "start_time": "2025-04-20T00:53:35.404Z"
   },
   {
    "duration": 180,
    "start_time": "2025-04-20T00:53:40.983Z"
   },
   {
    "duration": 6,
    "start_time": "2025-04-20T00:57:21.342Z"
   },
   {
    "duration": 12,
    "start_time": "2025-04-20T00:57:38.415Z"
   },
   {
    "duration": 5,
    "start_time": "2025-04-20T00:57:43.058Z"
   },
   {
    "duration": 5,
    "start_time": "2025-04-20T00:57:46.594Z"
   },
   {
    "duration": 10841,
    "start_time": "2025-04-20T01:10:43.916Z"
   },
   {
    "duration": 2325,
    "start_time": "2025-04-20T01:10:54.760Z"
   },
   {
    "duration": 3,
    "start_time": "2025-04-20T01:10:57.086Z"
   },
   {
    "duration": 7,
    "start_time": "2025-04-20T01:10:57.091Z"
   },
   {
    "duration": 4,
    "start_time": "2025-04-20T01:10:57.101Z"
   },
   {
    "duration": 10,
    "start_time": "2025-04-20T01:10:57.107Z"
   },
   {
    "duration": 5,
    "start_time": "2025-04-20T01:10:57.119Z"
   },
   {
    "duration": 75,
    "start_time": "2025-04-20T01:10:57.126Z"
   },
   {
    "duration": 8750,
    "start_time": "2025-04-20T01:10:57.203Z"
   },
   {
    "duration": 24,
    "start_time": "2025-04-20T01:11:05.954Z"
   },
   {
    "duration": 206,
    "start_time": "2025-04-20T01:11:05.980Z"
   },
   {
    "duration": 12,
    "start_time": "2025-04-20T01:11:06.188Z"
   },
   {
    "duration": 242,
    "start_time": "2025-04-20T01:11:06.202Z"
   },
   {
    "duration": 9,
    "start_time": "2025-04-20T01:11:06.448Z"
   },
   {
    "duration": 64,
    "start_time": "2025-04-20T01:11:06.458Z"
   },
   {
    "duration": 11081,
    "start_time": "2025-04-20T01:11:06.524Z"
   },
   {
    "duration": 572,
    "start_time": "2025-04-20T01:11:17.607Z"
   },
   {
    "duration": 485,
    "start_time": "2025-04-20T01:11:18.181Z"
   },
   {
    "duration": 182,
    "start_time": "2025-04-20T01:11:18.668Z"
   },
   {
    "duration": 467,
    "start_time": "2025-04-20T01:11:18.852Z"
   },
   {
    "duration": 186,
    "start_time": "2025-04-20T01:11:19.321Z"
   },
   {
    "duration": 10096,
    "start_time": "2025-04-20T01:11:19.509Z"
   },
   {
    "duration": 4,
    "start_time": "2025-04-20T01:11:29.607Z"
   },
   {
    "duration": 108,
    "start_time": "2025-04-20T01:11:29.613Z"
   },
   {
    "duration": 5,
    "start_time": "2025-04-20T01:11:29.723Z"
   },
   {
    "duration": 1000,
    "start_time": "2025-04-20T01:11:29.730Z"
   },
   {
    "duration": 170,
    "start_time": "2025-04-20T01:11:30.731Z"
   },
   {
    "duration": 1575,
    "start_time": "2025-04-20T01:11:30.903Z"
   },
   {
    "duration": 195,
    "start_time": "2025-04-20T01:11:32.480Z"
   },
   {
    "duration": 10,
    "start_time": "2025-04-20T01:11:32.677Z"
   },
   {
    "duration": 16,
    "start_time": "2025-04-20T01:11:32.689Z"
   },
   {
    "duration": 13,
    "start_time": "2025-04-20T01:11:32.707Z"
   },
   {
    "duration": 16,
    "start_time": "2025-04-20T01:11:32.722Z"
   },
   {
    "duration": 15,
    "start_time": "2025-04-20T01:11:32.740Z"
   },
   {
    "duration": 121,
    "start_time": "2025-04-20T01:11:32.757Z"
   },
   {
    "duration": 36,
    "start_time": "2025-04-20T01:11:32.880Z"
   },
   {
    "duration": 303,
    "start_time": "2025-04-20T01:11:32.918Z"
   },
   {
    "duration": 0,
    "start_time": "2025-04-20T01:11:33.224Z"
   },
   {
    "duration": 0,
    "start_time": "2025-04-20T01:11:33.225Z"
   },
   {
    "duration": 0,
    "start_time": "2025-04-20T01:11:33.226Z"
   },
   {
    "duration": 0,
    "start_time": "2025-04-20T01:11:33.227Z"
   },
   {
    "duration": 0,
    "start_time": "2025-04-20T01:11:33.228Z"
   },
   {
    "duration": 0,
    "start_time": "2025-04-20T01:11:33.229Z"
   },
   {
    "duration": 0,
    "start_time": "2025-04-20T01:11:33.230Z"
   },
   {
    "duration": 0,
    "start_time": "2025-04-20T01:11:33.231Z"
   },
   {
    "duration": 0,
    "start_time": "2025-04-20T01:11:33.231Z"
   },
   {
    "duration": 0,
    "start_time": "2025-04-20T01:11:33.232Z"
   },
   {
    "duration": 0,
    "start_time": "2025-04-20T01:11:33.234Z"
   },
   {
    "duration": 0,
    "start_time": "2025-04-20T01:11:33.235Z"
   },
   {
    "duration": 0,
    "start_time": "2025-04-20T01:11:33.236Z"
   },
   {
    "duration": 0,
    "start_time": "2025-04-20T01:11:33.237Z"
   },
   {
    "duration": 11587,
    "start_time": "2025-04-20T01:13:40.723Z"
   },
   {
    "duration": 2343,
    "start_time": "2025-04-20T01:13:52.313Z"
   },
   {
    "duration": 3,
    "start_time": "2025-04-20T01:13:54.658Z"
   },
   {
    "duration": 17,
    "start_time": "2025-04-20T01:13:54.662Z"
   },
   {
    "duration": 16,
    "start_time": "2025-04-20T01:13:54.681Z"
   },
   {
    "duration": 13,
    "start_time": "2025-04-20T01:13:54.698Z"
   },
   {
    "duration": 9,
    "start_time": "2025-04-20T01:13:54.712Z"
   },
   {
    "duration": 31,
    "start_time": "2025-04-20T01:13:54.724Z"
   },
   {
    "duration": 8215,
    "start_time": "2025-04-20T01:13:54.758Z"
   },
   {
    "duration": 23,
    "start_time": "2025-04-20T01:14:02.975Z"
   },
   {
    "duration": 198,
    "start_time": "2025-04-20T01:14:03.000Z"
   },
   {
    "duration": 11,
    "start_time": "2025-04-20T01:14:03.200Z"
   },
   {
    "duration": 196,
    "start_time": "2025-04-20T01:14:03.213Z"
   },
   {
    "duration": 9,
    "start_time": "2025-04-20T01:14:03.412Z"
   },
   {
    "duration": 22,
    "start_time": "2025-04-20T01:14:03.422Z"
   },
   {
    "duration": 13165,
    "start_time": "2025-04-20T01:14:03.446Z"
   },
   {
    "duration": 570,
    "start_time": "2025-04-20T01:14:16.613Z"
   },
   {
    "duration": 488,
    "start_time": "2025-04-20T01:14:17.184Z"
   },
   {
    "duration": 181,
    "start_time": "2025-04-20T01:14:17.674Z"
   },
   {
    "duration": 466,
    "start_time": "2025-04-20T01:14:17.857Z"
   },
   {
    "duration": 178,
    "start_time": "2025-04-20T01:14:18.325Z"
   },
   {
    "duration": 7821,
    "start_time": "2025-04-20T01:14:18.505Z"
   },
   {
    "duration": 4,
    "start_time": "2025-04-20T01:14:26.328Z"
   },
   {
    "duration": 147,
    "start_time": "2025-04-20T01:14:26.334Z"
   },
   {
    "duration": 11,
    "start_time": "2025-04-20T01:14:26.483Z"
   },
   {
    "duration": 486,
    "start_time": "2025-04-20T01:14:26.496Z"
   },
   {
    "duration": 84,
    "start_time": "2025-04-20T01:14:26.984Z"
   },
   {
    "duration": 746,
    "start_time": "2025-04-20T01:14:27.070Z"
   },
   {
    "duration": 95,
    "start_time": "2025-04-20T01:14:27.818Z"
   },
   {
    "duration": 9,
    "start_time": "2025-04-20T01:14:27.914Z"
   },
   {
    "duration": 17,
    "start_time": "2025-04-20T01:14:27.924Z"
   },
   {
    "duration": 11,
    "start_time": "2025-04-20T01:14:27.942Z"
   },
   {
    "duration": 9,
    "start_time": "2025-04-20T01:14:27.955Z"
   },
   {
    "duration": 6,
    "start_time": "2025-04-20T01:14:27.966Z"
   },
   {
    "duration": 53,
    "start_time": "2025-04-20T01:14:27.974Z"
   },
   {
    "duration": 15,
    "start_time": "2025-04-20T01:14:28.029Z"
   },
   {
    "duration": 255,
    "start_time": "2025-04-20T01:14:28.045Z"
   },
   {
    "duration": 0,
    "start_time": "2025-04-20T01:14:28.305Z"
   },
   {
    "duration": 0,
    "start_time": "2025-04-20T01:14:28.307Z"
   },
   {
    "duration": 0,
    "start_time": "2025-04-20T01:14:28.309Z"
   },
   {
    "duration": 0,
    "start_time": "2025-04-20T01:14:28.311Z"
   },
   {
    "duration": 0,
    "start_time": "2025-04-20T01:14:28.312Z"
   },
   {
    "duration": 0,
    "start_time": "2025-04-20T01:14:28.314Z"
   },
   {
    "duration": 0,
    "start_time": "2025-04-20T01:14:28.315Z"
   },
   {
    "duration": 0,
    "start_time": "2025-04-20T01:14:28.317Z"
   },
   {
    "duration": 0,
    "start_time": "2025-04-20T01:14:28.319Z"
   },
   {
    "duration": 0,
    "start_time": "2025-04-20T01:14:28.320Z"
   },
   {
    "duration": 0,
    "start_time": "2025-04-20T01:14:28.322Z"
   },
   {
    "duration": 0,
    "start_time": "2025-04-20T01:14:28.324Z"
   },
   {
    "duration": 0,
    "start_time": "2025-04-20T01:14:28.326Z"
   },
   {
    "duration": 0,
    "start_time": "2025-04-20T01:14:28.327Z"
   },
   {
    "duration": 25,
    "start_time": "2025-04-20T01:16:02.181Z"
   },
   {
    "duration": 12266,
    "start_time": "2025-04-20T01:17:44.620Z"
   },
   {
    "duration": 2440,
    "start_time": "2025-04-20T01:17:56.889Z"
   },
   {
    "duration": 3,
    "start_time": "2025-04-20T01:17:59.331Z"
   },
   {
    "duration": 15,
    "start_time": "2025-04-20T01:17:59.336Z"
   },
   {
    "duration": 4,
    "start_time": "2025-04-20T01:17:59.354Z"
   },
   {
    "duration": 8,
    "start_time": "2025-04-20T01:17:59.360Z"
   },
   {
    "duration": 13,
    "start_time": "2025-04-20T01:17:59.370Z"
   },
   {
    "duration": 9,
    "start_time": "2025-04-20T01:17:59.385Z"
   },
   {
    "duration": 7503,
    "start_time": "2025-04-20T01:17:59.396Z"
   },
   {
    "duration": 23,
    "start_time": "2025-04-20T01:18:06.900Z"
   },
   {
    "duration": 194,
    "start_time": "2025-04-20T01:18:06.925Z"
   },
   {
    "duration": 12,
    "start_time": "2025-04-20T01:18:07.121Z"
   },
   {
    "duration": 253,
    "start_time": "2025-04-20T01:18:07.134Z"
   },
   {
    "duration": 9,
    "start_time": "2025-04-20T01:18:07.390Z"
   },
   {
    "duration": 19,
    "start_time": "2025-04-20T01:18:07.401Z"
   },
   {
    "duration": 10721,
    "start_time": "2025-04-20T01:18:07.421Z"
   },
   {
    "duration": 555,
    "start_time": "2025-04-20T01:18:18.144Z"
   },
   {
    "duration": 493,
    "start_time": "2025-04-20T01:18:18.704Z"
   },
   {
    "duration": 200,
    "start_time": "2025-04-20T01:18:19.199Z"
   },
   {
    "duration": 476,
    "start_time": "2025-04-20T01:18:19.405Z"
   },
   {
    "duration": 179,
    "start_time": "2025-04-20T01:18:19.883Z"
   },
   {
    "duration": 8906,
    "start_time": "2025-04-20T01:18:20.064Z"
   },
   {
    "duration": 467,
    "start_time": "2025-04-20T01:18:28.972Z"
   },
   {
    "duration": 94,
    "start_time": "2025-04-20T01:18:29.441Z"
   },
   {
    "duration": 819,
    "start_time": "2025-04-20T01:18:29.537Z"
   },
   {
    "duration": 71,
    "start_time": "2025-04-20T01:18:30.358Z"
   },
   {
    "duration": 123,
    "start_time": "2025-04-20T01:18:30.431Z"
   },
   {
    "duration": 38,
    "start_time": "2025-04-20T01:18:30.557Z"
   },
   {
    "duration": 35,
    "start_time": "2025-04-20T01:18:30.597Z"
   },
   {
    "duration": 22,
    "start_time": "2025-04-20T01:18:30.634Z"
   },
   {
    "duration": 15,
    "start_time": "2025-04-20T01:18:30.658Z"
   },
   {
    "duration": 67,
    "start_time": "2025-04-20T01:18:30.675Z"
   },
   {
    "duration": 14,
    "start_time": "2025-04-20T01:18:30.743Z"
   },
   {
    "duration": 26,
    "start_time": "2025-04-20T01:18:30.758Z"
   },
   {
    "duration": 257,
    "start_time": "2025-04-20T01:18:30.786Z"
   },
   {
    "duration": 0,
    "start_time": "2025-04-20T01:18:31.046Z"
   },
   {
    "duration": 0,
    "start_time": "2025-04-20T01:18:31.048Z"
   },
   {
    "duration": 0,
    "start_time": "2025-04-20T01:18:31.049Z"
   },
   {
    "duration": 0,
    "start_time": "2025-04-20T01:18:31.050Z"
   },
   {
    "duration": 0,
    "start_time": "2025-04-20T01:18:31.051Z"
   },
   {
    "duration": 0,
    "start_time": "2025-04-20T01:18:31.053Z"
   },
   {
    "duration": 0,
    "start_time": "2025-04-20T01:18:31.054Z"
   },
   {
    "duration": 0,
    "start_time": "2025-04-20T01:18:31.056Z"
   },
   {
    "duration": 0,
    "start_time": "2025-04-20T01:18:31.057Z"
   },
   {
    "duration": 0,
    "start_time": "2025-04-20T01:18:31.060Z"
   },
   {
    "duration": 0,
    "start_time": "2025-04-20T01:18:31.062Z"
   },
   {
    "duration": 0,
    "start_time": "2025-04-20T01:18:31.063Z"
   },
   {
    "duration": 0,
    "start_time": "2025-04-20T01:18:31.064Z"
   },
   {
    "duration": 0,
    "start_time": "2025-04-20T01:18:31.065Z"
   },
   {
    "duration": 4,
    "start_time": "2025-04-20T01:19:37.501Z"
   },
   {
    "duration": 38,
    "start_time": "2025-04-20T01:19:38.202Z"
   },
   {
    "duration": 15,
    "start_time": "2025-04-20T01:19:38.698Z"
   },
   {
    "duration": 93,
    "start_time": "2025-04-20T01:19:39.315Z"
   },
   {
    "duration": 6,
    "start_time": "2025-04-20T01:20:51.650Z"
   },
   {
    "duration": 11394,
    "start_time": "2025-04-20T01:21:28.219Z"
   },
   {
    "duration": 2349,
    "start_time": "2025-04-20T01:21:39.615Z"
   },
   {
    "duration": 3,
    "start_time": "2025-04-20T01:21:41.966Z"
   },
   {
    "duration": 7,
    "start_time": "2025-04-20T01:21:41.970Z"
   },
   {
    "duration": 4,
    "start_time": "2025-04-20T01:21:41.979Z"
   },
   {
    "duration": 5,
    "start_time": "2025-04-20T01:21:41.985Z"
   },
   {
    "duration": 6,
    "start_time": "2025-04-20T01:21:41.991Z"
   },
   {
    "duration": 12,
    "start_time": "2025-04-20T01:21:41.998Z"
   },
   {
    "duration": 7892,
    "start_time": "2025-04-20T01:21:42.011Z"
   },
   {
    "duration": 21,
    "start_time": "2025-04-20T01:21:49.905Z"
   },
   {
    "duration": 193,
    "start_time": "2025-04-20T01:21:49.928Z"
   },
   {
    "duration": 12,
    "start_time": "2025-04-20T01:21:50.123Z"
   },
   {
    "duration": 200,
    "start_time": "2025-04-20T01:21:50.136Z"
   },
   {
    "duration": 10,
    "start_time": "2025-04-20T01:21:50.339Z"
   },
   {
    "duration": 61,
    "start_time": "2025-04-20T01:21:50.350Z"
   },
   {
    "duration": 13917,
    "start_time": "2025-04-20T01:21:50.413Z"
   },
   {
    "duration": 562,
    "start_time": "2025-04-20T01:22:04.331Z"
   },
   {
    "duration": 504,
    "start_time": "2025-04-20T01:22:04.895Z"
   },
   {
    "duration": 185,
    "start_time": "2025-04-20T01:22:05.401Z"
   },
   {
    "duration": 477,
    "start_time": "2025-04-20T01:22:05.588Z"
   },
   {
    "duration": 187,
    "start_time": "2025-04-20T01:22:06.067Z"
   },
   {
    "duration": 7952,
    "start_time": "2025-04-20T01:22:06.256Z"
   },
   {
    "duration": 459,
    "start_time": "2025-04-20T01:22:14.210Z"
   },
   {
    "duration": 83,
    "start_time": "2025-04-20T01:22:14.671Z"
   },
   {
    "duration": 800,
    "start_time": "2025-04-20T01:22:14.756Z"
   },
   {
    "duration": 71,
    "start_time": "2025-04-20T01:22:15.558Z"
   },
   {
    "duration": 8,
    "start_time": "2025-04-20T01:22:15.631Z"
   },
   {
    "duration": 132,
    "start_time": "2025-04-20T01:22:15.641Z"
   },
   {
    "duration": 17,
    "start_time": "2025-04-20T01:22:15.774Z"
   },
   {
    "duration": 26,
    "start_time": "2025-04-20T01:22:15.793Z"
   },
   {
    "duration": 3,
    "start_time": "2025-04-20T01:22:15.821Z"
   },
   {
    "duration": 43,
    "start_time": "2025-04-20T01:22:15.825Z"
   },
   {
    "duration": 15,
    "start_time": "2025-04-20T01:22:15.870Z"
   },
   {
    "duration": 328,
    "start_time": "2025-04-20T01:22:15.887Z"
   },
   {
    "duration": 482,
    "start_time": "2025-04-20T01:22:16.217Z"
   },
   {
    "duration": 5,
    "start_time": "2025-04-20T01:22:16.701Z"
   },
   {
    "duration": 31,
    "start_time": "2025-04-20T01:22:16.707Z"
   },
   {
    "duration": 12,
    "start_time": "2025-04-20T01:22:16.739Z"
   },
   {
    "duration": 23,
    "start_time": "2025-04-20T01:22:16.752Z"
   },
   {
    "duration": 81917,
    "start_time": "2025-04-20T01:22:16.777Z"
   },
   {
    "duration": 0,
    "start_time": "2025-04-20T01:23:38.696Z"
   },
   {
    "duration": 0,
    "start_time": "2025-04-20T01:23:38.697Z"
   },
   {
    "duration": 0,
    "start_time": "2025-04-20T01:23:38.705Z"
   },
   {
    "duration": 0,
    "start_time": "2025-04-20T01:23:38.706Z"
   },
   {
    "duration": 0,
    "start_time": "2025-04-20T01:23:38.707Z"
   },
   {
    "duration": 0,
    "start_time": "2025-04-20T01:23:38.709Z"
   },
   {
    "duration": 0,
    "start_time": "2025-04-20T01:23:38.709Z"
   },
   {
    "duration": 0,
    "start_time": "2025-04-20T01:23:38.711Z"
   },
   {
    "duration": 10782,
    "start_time": "2025-04-20T01:27:36.619Z"
   },
   {
    "duration": 2391,
    "start_time": "2025-04-20T01:27:47.404Z"
   },
   {
    "duration": 3,
    "start_time": "2025-04-20T01:27:49.797Z"
   },
   {
    "duration": 10,
    "start_time": "2025-04-20T01:27:49.803Z"
   },
   {
    "duration": 4,
    "start_time": "2025-04-20T01:27:49.814Z"
   },
   {
    "duration": 23,
    "start_time": "2025-04-20T01:27:49.820Z"
   },
   {
    "duration": 9,
    "start_time": "2025-04-20T01:27:49.844Z"
   },
   {
    "duration": 10,
    "start_time": "2025-04-20T01:27:49.855Z"
   },
   {
    "duration": 8037,
    "start_time": "2025-04-20T01:27:49.867Z"
   },
   {
    "duration": 23,
    "start_time": "2025-04-20T01:27:57.906Z"
   },
   {
    "duration": 202,
    "start_time": "2025-04-20T01:27:57.931Z"
   },
   {
    "duration": 13,
    "start_time": "2025-04-20T01:27:58.134Z"
   },
   {
    "duration": 187,
    "start_time": "2025-04-20T01:27:58.149Z"
   },
   {
    "duration": 10,
    "start_time": "2025-04-20T01:27:58.337Z"
   },
   {
    "duration": 6,
    "start_time": "2025-04-20T01:27:58.348Z"
   },
   {
    "duration": 11498,
    "start_time": "2025-04-20T01:27:58.355Z"
   },
   {
    "duration": 543,
    "start_time": "2025-04-20T01:28:09.854Z"
   },
   {
    "duration": 495,
    "start_time": "2025-04-20T01:28:10.398Z"
   },
   {
    "duration": 190,
    "start_time": "2025-04-20T01:28:10.895Z"
   },
   {
    "duration": 474,
    "start_time": "2025-04-20T01:28:11.087Z"
   },
   {
    "duration": 174,
    "start_time": "2025-04-20T01:28:11.563Z"
   },
   {
    "duration": 7989,
    "start_time": "2025-04-20T01:28:11.739Z"
   },
   {
    "duration": 447,
    "start_time": "2025-04-20T01:28:19.730Z"
   },
   {
    "duration": 82,
    "start_time": "2025-04-20T01:28:20.179Z"
   },
   {
    "duration": 830,
    "start_time": "2025-04-20T01:28:20.263Z"
   },
   {
    "duration": 60,
    "start_time": "2025-04-20T01:28:21.094Z"
   },
   {
    "duration": 8,
    "start_time": "2025-04-20T01:28:21.156Z"
   },
   {
    "duration": 27,
    "start_time": "2025-04-20T01:28:21.167Z"
   },
   {
    "duration": 27,
    "start_time": "2025-04-20T01:28:21.196Z"
   },
   {
    "duration": 9,
    "start_time": "2025-04-20T01:28:21.224Z"
   },
   {
    "duration": 8,
    "start_time": "2025-04-20T01:28:21.234Z"
   },
   {
    "duration": 35,
    "start_time": "2025-04-20T01:28:21.244Z"
   },
   {
    "duration": 35,
    "start_time": "2025-04-20T01:28:21.281Z"
   },
   {
    "duration": 2,
    "start_time": "2025-04-20T01:28:21.318Z"
   },
   {
    "duration": 243,
    "start_time": "2025-04-20T01:28:21.322Z"
   },
   {
    "duration": 398,
    "start_time": "2025-04-20T01:28:21.567Z"
   },
   {
    "duration": 5,
    "start_time": "2025-04-20T01:28:21.967Z"
   },
   {
    "duration": 47,
    "start_time": "2025-04-20T01:28:21.974Z"
   },
   {
    "duration": 21,
    "start_time": "2025-04-20T01:28:22.023Z"
   },
   {
    "duration": 18,
    "start_time": "2025-04-20T01:28:22.046Z"
   },
   {
    "duration": 3283,
    "start_time": "2025-04-20T01:28:22.065Z"
   },
   {
    "duration": 0,
    "start_time": "2025-04-20T01:28:25.350Z"
   },
   {
    "duration": 0,
    "start_time": "2025-04-20T01:28:25.351Z"
   },
   {
    "duration": 0,
    "start_time": "2025-04-20T01:28:25.352Z"
   },
   {
    "duration": 0,
    "start_time": "2025-04-20T01:28:25.354Z"
   },
   {
    "duration": 0,
    "start_time": "2025-04-20T01:28:25.355Z"
   },
   {
    "duration": 0,
    "start_time": "2025-04-20T01:28:25.356Z"
   },
   {
    "duration": 0,
    "start_time": "2025-04-20T01:28:25.358Z"
   },
   {
    "duration": 0,
    "start_time": "2025-04-20T01:28:25.359Z"
   },
   {
    "duration": 5,
    "start_time": "2025-04-20T01:29:46.282Z"
   },
   {
    "duration": 22,
    "start_time": "2025-04-20T01:29:52.577Z"
   },
   {
    "duration": 3425,
    "start_time": "2025-04-20T01:29:58.721Z"
   },
   {
    "duration": 5,
    "start_time": "2025-04-20T01:30:24.877Z"
   },
   {
    "duration": 28,
    "start_time": "2025-04-20T01:30:33.187Z"
   },
   {
    "duration": 15069,
    "start_time": "2025-04-20T01:30:37.365Z"
   },
   {
    "duration": 10632,
    "start_time": "2025-04-20T01:31:42.901Z"
   },
   {
    "duration": 2342,
    "start_time": "2025-04-20T01:31:53.535Z"
   },
   {
    "duration": 3,
    "start_time": "2025-04-20T01:31:55.879Z"
   },
   {
    "duration": 11,
    "start_time": "2025-04-20T01:31:55.884Z"
   },
   {
    "duration": 7,
    "start_time": "2025-04-20T01:31:55.898Z"
   },
   {
    "duration": 4,
    "start_time": "2025-04-20T01:31:55.907Z"
   },
   {
    "duration": 24,
    "start_time": "2025-04-20T01:31:55.912Z"
   },
   {
    "duration": 9,
    "start_time": "2025-04-20T01:31:55.937Z"
   },
   {
    "duration": 8023,
    "start_time": "2025-04-20T01:31:55.948Z"
   },
   {
    "duration": 23,
    "start_time": "2025-04-20T01:32:03.973Z"
   },
   {
    "duration": 205,
    "start_time": "2025-04-20T01:32:03.998Z"
   },
   {
    "duration": 12,
    "start_time": "2025-04-20T01:32:04.205Z"
   },
   {
    "duration": 238,
    "start_time": "2025-04-20T01:32:04.218Z"
   },
   {
    "duration": 9,
    "start_time": "2025-04-20T01:32:04.459Z"
   },
   {
    "duration": 121,
    "start_time": "2025-04-20T01:32:04.470Z"
   },
   {
    "duration": 10893,
    "start_time": "2025-04-20T01:32:04.592Z"
   },
   {
    "duration": 653,
    "start_time": "2025-04-20T01:32:15.487Z"
   },
   {
    "duration": 523,
    "start_time": "2025-04-20T01:32:16.142Z"
   },
   {
    "duration": 185,
    "start_time": "2025-04-20T01:32:16.667Z"
   },
   {
    "duration": 478,
    "start_time": "2025-04-20T01:32:16.854Z"
   },
   {
    "duration": 179,
    "start_time": "2025-04-20T01:32:17.334Z"
   },
   {
    "duration": 9083,
    "start_time": "2025-04-20T01:32:17.515Z"
   },
   {
    "duration": 474,
    "start_time": "2025-04-20T01:32:26.600Z"
   },
   {
    "duration": 89,
    "start_time": "2025-04-20T01:32:27.076Z"
   },
   {
    "duration": 794,
    "start_time": "2025-04-20T01:32:27.166Z"
   },
   {
    "duration": 77,
    "start_time": "2025-04-20T01:32:27.961Z"
   },
   {
    "duration": 7,
    "start_time": "2025-04-20T01:32:28.040Z"
   },
   {
    "duration": 16,
    "start_time": "2025-04-20T01:32:28.049Z"
   },
   {
    "duration": 5,
    "start_time": "2025-04-20T01:32:28.067Z"
   },
   {
    "duration": 19,
    "start_time": "2025-04-20T01:32:28.073Z"
   },
   {
    "duration": 4,
    "start_time": "2025-04-20T01:32:28.094Z"
   },
   {
    "duration": 6,
    "start_time": "2025-04-20T01:32:28.100Z"
   },
   {
    "duration": 40,
    "start_time": "2025-04-20T01:32:28.108Z"
   },
   {
    "duration": 13,
    "start_time": "2025-04-20T01:32:28.150Z"
   },
   {
    "duration": 284,
    "start_time": "2025-04-20T01:32:28.165Z"
   },
   {
    "duration": 414,
    "start_time": "2025-04-20T01:32:28.451Z"
   },
   {
    "duration": 5,
    "start_time": "2025-04-20T01:32:28.867Z"
   },
   {
    "duration": 37,
    "start_time": "2025-04-20T01:32:28.874Z"
   },
   {
    "duration": 22,
    "start_time": "2025-04-20T01:32:28.913Z"
   },
   {
    "duration": 34,
    "start_time": "2025-04-20T01:32:28.937Z"
   },
   {
    "duration": 78491,
    "start_time": "2025-04-20T01:32:28.975Z"
   },
   {
    "duration": 0,
    "start_time": "2025-04-20T01:33:47.469Z"
   },
   {
    "duration": 0,
    "start_time": "2025-04-20T01:33:47.472Z"
   },
   {
    "duration": 0,
    "start_time": "2025-04-20T01:33:47.473Z"
   },
   {
    "duration": 0,
    "start_time": "2025-04-20T01:33:47.475Z"
   },
   {
    "duration": 0,
    "start_time": "2025-04-20T01:33:47.476Z"
   },
   {
    "duration": 0,
    "start_time": "2025-04-20T01:33:47.477Z"
   },
   {
    "duration": 0,
    "start_time": "2025-04-20T01:33:47.478Z"
   },
   {
    "duration": 0,
    "start_time": "2025-04-20T01:33:47.479Z"
   },
   {
    "duration": 21,
    "start_time": "2025-04-20T01:35:28.601Z"
   },
   {
    "duration": 22,
    "start_time": "2025-04-20T01:35:36.697Z"
   },
   {
    "duration": 6742,
    "start_time": "2025-04-20T01:35:41.791Z"
   },
   {
    "duration": 5,
    "start_time": "2025-04-20T01:38:51.813Z"
   },
   {
    "duration": 18,
    "start_time": "2025-04-20T01:39:45.441Z"
   },
   {
    "duration": 28,
    "start_time": "2025-04-20T01:39:58.144Z"
   },
   {
    "duration": 10752,
    "start_time": "2025-04-20T01:41:38.337Z"
   },
   {
    "duration": 2369,
    "start_time": "2025-04-20T01:41:49.092Z"
   },
   {
    "duration": 3,
    "start_time": "2025-04-20T01:41:51.463Z"
   },
   {
    "duration": 32,
    "start_time": "2025-04-20T01:41:51.467Z"
   },
   {
    "duration": 36,
    "start_time": "2025-04-20T01:41:51.501Z"
   },
   {
    "duration": 27,
    "start_time": "2025-04-20T01:41:51.538Z"
   },
   {
    "duration": 15,
    "start_time": "2025-04-20T01:41:51.567Z"
   },
   {
    "duration": 7,
    "start_time": "2025-04-20T01:41:51.584Z"
   },
   {
    "duration": 7503,
    "start_time": "2025-04-20T01:41:51.593Z"
   },
   {
    "duration": 22,
    "start_time": "2025-04-20T01:41:59.099Z"
   },
   {
    "duration": 185,
    "start_time": "2025-04-20T01:41:59.123Z"
   },
   {
    "duration": 12,
    "start_time": "2025-04-20T01:41:59.310Z"
   },
   {
    "duration": 204,
    "start_time": "2025-04-20T01:41:59.324Z"
   },
   {
    "duration": 10,
    "start_time": "2025-04-20T01:41:59.530Z"
   },
   {
    "duration": 16,
    "start_time": "2025-04-20T01:41:59.542Z"
   },
   {
    "duration": 14222,
    "start_time": "2025-04-20T01:41:59.560Z"
   },
   {
    "duration": 538,
    "start_time": "2025-04-20T01:42:13.784Z"
   },
   {
    "duration": 492,
    "start_time": "2025-04-20T01:42:14.324Z"
   },
   {
    "duration": 216,
    "start_time": "2025-04-20T01:42:14.818Z"
   },
   {
    "duration": 482,
    "start_time": "2025-04-20T01:42:15.036Z"
   },
   {
    "duration": 191,
    "start_time": "2025-04-20T01:42:15.519Z"
   },
   {
    "duration": 9174,
    "start_time": "2025-04-20T01:42:15.712Z"
   },
   {
    "duration": 460,
    "start_time": "2025-04-20T01:42:24.888Z"
   },
   {
    "duration": 86,
    "start_time": "2025-04-20T01:42:25.351Z"
   },
   {
    "duration": 810,
    "start_time": "2025-04-20T01:42:25.439Z"
   },
   {
    "duration": 62,
    "start_time": "2025-04-20T01:42:26.251Z"
   },
   {
    "duration": 35,
    "start_time": "2025-04-20T01:42:26.315Z"
   },
   {
    "duration": 67,
    "start_time": "2025-04-20T01:42:26.354Z"
   },
   {
    "duration": 33,
    "start_time": "2025-04-20T01:42:26.422Z"
   },
   {
    "duration": 23,
    "start_time": "2025-04-20T01:42:26.456Z"
   },
   {
    "duration": 10,
    "start_time": "2025-04-20T01:42:26.481Z"
   },
   {
    "duration": 131,
    "start_time": "2025-04-20T01:42:26.493Z"
   },
   {
    "duration": 67,
    "start_time": "2025-04-20T01:42:26.626Z"
   },
   {
    "duration": 15,
    "start_time": "2025-04-20T01:42:26.695Z"
   },
   {
    "duration": 50,
    "start_time": "2025-04-20T01:42:26.711Z"
   },
   {
    "duration": 256,
    "start_time": "2025-04-20T01:42:26.763Z"
   },
   {
    "duration": 394,
    "start_time": "2025-04-20T01:42:27.021Z"
   },
   {
    "duration": 5,
    "start_time": "2025-04-20T01:42:27.417Z"
   },
   {
    "duration": 25,
    "start_time": "2025-04-20T01:42:27.423Z"
   },
   {
    "duration": 43,
    "start_time": "2025-04-20T01:42:27.450Z"
   },
   {
    "duration": 23,
    "start_time": "2025-04-20T01:42:27.494Z"
   },
   {
    "duration": 604894,
    "start_time": "2025-04-20T01:42:27.519Z"
   },
   {
    "duration": 0,
    "start_time": "2025-04-20T01:52:32.415Z"
   },
   {
    "duration": 0,
    "start_time": "2025-04-20T01:52:32.416Z"
   },
   {
    "duration": 0,
    "start_time": "2025-04-20T01:52:32.418Z"
   },
   {
    "duration": 0,
    "start_time": "2025-04-20T01:52:32.419Z"
   },
   {
    "duration": 0,
    "start_time": "2025-04-20T01:52:32.420Z"
   },
   {
    "duration": 0,
    "start_time": "2025-04-20T01:52:32.422Z"
   },
   {
    "duration": 0,
    "start_time": "2025-04-20T01:52:32.423Z"
   },
   {
    "duration": 0,
    "start_time": "2025-04-20T01:52:32.424Z"
   },
   {
    "duration": 0,
    "start_time": "2025-04-20T01:52:32.425Z"
   },
   {
    "duration": 37101,
    "start_time": "2025-04-20T01:52:32.937Z"
   },
   {
    "duration": 52,
    "start_time": "2025-04-21T00:14:15.852Z"
   },
   {
    "duration": 20519,
    "start_time": "2025-04-21T00:14:18.170Z"
   },
   {
    "duration": 2723,
    "start_time": "2025-04-21T00:14:38.693Z"
   },
   {
    "duration": 4,
    "start_time": "2025-04-21T00:14:41.418Z"
   },
   {
    "duration": 32,
    "start_time": "2025-04-21T00:14:41.424Z"
   },
   {
    "duration": 6,
    "start_time": "2025-04-21T00:14:41.458Z"
   },
   {
    "duration": 23,
    "start_time": "2025-04-21T00:14:41.467Z"
   },
   {
    "duration": 9052,
    "start_time": "2025-04-21T00:14:55.333Z"
   },
   {
    "duration": 232,
    "start_time": "2025-04-21T00:15:13.557Z"
   },
   {
    "duration": 9687,
    "start_time": "2025-04-21T00:18:06.369Z"
   },
   {
    "duration": 292,
    "start_time": "2025-04-21T00:27:32.224Z"
   },
   {
    "duration": 8494,
    "start_time": "2025-04-21T00:27:58.006Z"
   },
   {
    "duration": 325,
    "start_time": "2025-04-21T00:28:23.169Z"
   },
   {
    "duration": 10406,
    "start_time": "2025-04-21T00:29:35.808Z"
   },
   {
    "duration": 267,
    "start_time": "2025-04-21T00:29:50.405Z"
   },
   {
    "duration": 16,
    "start_time": "2025-04-21T00:29:52.045Z"
   },
   {
    "duration": 380,
    "start_time": "2025-04-21T00:30:04.778Z"
   },
   {
    "duration": 49,
    "start_time": "2025-04-21T00:30:07.416Z"
   },
   {
    "duration": 9,
    "start_time": "2025-04-21T00:30:09.115Z"
   },
   {
    "duration": 24,
    "start_time": "2025-04-21T00:30:11.450Z"
   },
   {
    "duration": 38,
    "start_time": "2025-04-21T00:30:27.060Z"
   },
   {
    "duration": 34,
    "start_time": "2025-04-21T00:30:52.140Z"
   },
   {
    "duration": 7,
    "start_time": "2025-04-21T00:31:27.953Z"
   },
   {
    "duration": 11978,
    "start_time": "2025-04-21T00:31:47.306Z"
   },
   {
    "duration": 2484,
    "start_time": "2025-04-21T00:31:59.287Z"
   },
   {
    "duration": 3,
    "start_time": "2025-04-21T00:32:01.773Z"
   },
   {
    "duration": 54,
    "start_time": "2025-04-21T00:32:01.778Z"
   },
   {
    "duration": 5,
    "start_time": "2025-04-21T00:32:01.835Z"
   },
   {
    "duration": 8,
    "start_time": "2025-04-21T00:32:01.842Z"
   },
   {
    "duration": 41,
    "start_time": "2025-04-21T00:32:01.852Z"
   },
   {
    "duration": 17,
    "start_time": "2025-04-21T00:32:01.895Z"
   },
   {
    "duration": 10555,
    "start_time": "2025-04-21T00:32:01.914Z"
   },
   {
    "duration": 22,
    "start_time": "2025-04-21T00:32:12.471Z"
   },
   {
    "duration": 239,
    "start_time": "2025-04-21T00:32:12.495Z"
   },
   {
    "duration": 12,
    "start_time": "2025-04-21T00:32:12.736Z"
   },
   {
    "duration": 234,
    "start_time": "2025-04-21T00:32:12.750Z"
   },
   {
    "duration": 12,
    "start_time": "2025-04-21T00:32:12.989Z"
   },
   {
    "duration": 7,
    "start_time": "2025-04-21T00:32:13.003Z"
   },
   {
    "duration": 10231,
    "start_time": "2025-04-21T00:32:13.012Z"
   },
   {
    "duration": 575,
    "start_time": "2025-04-21T00:32:23.245Z"
   },
   {
    "duration": 545,
    "start_time": "2025-04-21T00:32:23.823Z"
   },
   {
    "duration": 190,
    "start_time": "2025-04-21T00:32:24.370Z"
   },
   {
    "duration": 520,
    "start_time": "2025-04-21T00:32:24.562Z"
   },
   {
    "duration": 181,
    "start_time": "2025-04-21T00:32:25.083Z"
   },
   {
    "duration": 8259,
    "start_time": "2025-04-21T00:32:25.266Z"
   },
   {
    "duration": 273,
    "start_time": "2025-04-21T00:32:33.527Z"
   },
   {
    "duration": 379,
    "start_time": "2025-04-21T00:32:33.802Z"
   },
   {
    "duration": 56,
    "start_time": "2025-04-21T00:32:34.182Z"
   },
   {
    "duration": 8,
    "start_time": "2025-04-21T00:32:34.240Z"
   },
   {
    "duration": 3,
    "start_time": "2025-04-21T00:32:34.249Z"
   },
   {
    "duration": 213,
    "start_time": "2025-04-21T00:32:34.254Z"
   },
   {
    "duration": 0,
    "start_time": "2025-04-21T00:32:34.469Z"
   },
   {
    "duration": 0,
    "start_time": "2025-04-21T00:32:34.470Z"
   },
   {
    "duration": 0,
    "start_time": "2025-04-21T00:32:34.471Z"
   },
   {
    "duration": 0,
    "start_time": "2025-04-21T00:32:34.472Z"
   },
   {
    "duration": 0,
    "start_time": "2025-04-21T00:32:34.473Z"
   },
   {
    "duration": 0,
    "start_time": "2025-04-21T00:32:34.474Z"
   },
   {
    "duration": 0,
    "start_time": "2025-04-21T00:32:34.476Z"
   },
   {
    "duration": 0,
    "start_time": "2025-04-21T00:32:34.477Z"
   },
   {
    "duration": 0,
    "start_time": "2025-04-21T00:32:34.478Z"
   },
   {
    "duration": 0,
    "start_time": "2025-04-21T00:32:34.479Z"
   },
   {
    "duration": 0,
    "start_time": "2025-04-21T00:32:34.480Z"
   },
   {
    "duration": 0,
    "start_time": "2025-04-21T00:32:34.481Z"
   },
   {
    "duration": 0,
    "start_time": "2025-04-21T00:32:34.481Z"
   },
   {
    "duration": 0,
    "start_time": "2025-04-21T00:32:34.482Z"
   },
   {
    "duration": 0,
    "start_time": "2025-04-21T00:32:34.483Z"
   },
   {
    "duration": 0,
    "start_time": "2025-04-21T00:32:34.483Z"
   },
   {
    "duration": 0,
    "start_time": "2025-04-21T00:32:34.484Z"
   },
   {
    "duration": 0,
    "start_time": "2025-04-21T00:32:34.505Z"
   },
   {
    "duration": 62,
    "start_time": "2025-04-21T00:33:37.788Z"
   },
   {
    "duration": 32,
    "start_time": "2025-04-21T00:34:07.967Z"
   },
   {
    "duration": 29,
    "start_time": "2025-04-21T00:34:13.509Z"
   },
   {
    "duration": 8029,
    "start_time": "2025-04-21T00:35:08.105Z"
   },
   {
    "duration": 298,
    "start_time": "2025-04-21T00:35:16.137Z"
   },
   {
    "duration": 380,
    "start_time": "2025-04-21T00:35:16.437Z"
   },
   {
    "duration": 50,
    "start_time": "2025-04-21T00:35:18.415Z"
   },
   {
    "duration": 12,
    "start_time": "2025-04-21T00:36:58.605Z"
   },
   {
    "duration": 26,
    "start_time": "2025-04-21T00:37:30.707Z"
   },
   {
    "duration": 18,
    "start_time": "2025-04-21T00:37:38.869Z"
   },
   {
    "duration": 36,
    "start_time": "2025-04-21T00:38:04.297Z"
   },
   {
    "duration": 32,
    "start_time": "2025-04-21T00:38:15.147Z"
   },
   {
    "duration": 25,
    "start_time": "2025-04-21T00:39:25.167Z"
   },
   {
    "duration": 4,
    "start_time": "2025-04-21T00:39:36.307Z"
   },
   {
    "duration": 17,
    "start_time": "2025-04-21T00:39:37.593Z"
   },
   {
    "duration": 4,
    "start_time": "2025-04-21T00:39:58.983Z"
   },
   {
    "duration": 48,
    "start_time": "2025-04-21T00:39:59.496Z"
   },
   {
    "duration": 13,
    "start_time": "2025-04-21T00:40:00.865Z"
   },
   {
    "duration": 207,
    "start_time": "2025-04-21T00:40:01.393Z"
   },
   {
    "duration": 319,
    "start_time": "2025-04-21T00:40:03.036Z"
   },
   {
    "duration": 5,
    "start_time": "2025-04-21T00:40:05.210Z"
   },
   {
    "duration": 20,
    "start_time": "2025-04-21T00:40:06.908Z"
   },
   {
    "duration": 11,
    "start_time": "2025-04-21T00:40:07.703Z"
   },
   {
    "duration": 6,
    "start_time": "2025-04-21T00:40:08.472Z"
   },
   {
    "duration": 202,
    "start_time": "2025-04-21T00:40:10.505Z"
   },
   {
    "duration": 12435,
    "start_time": "2025-04-21T00:41:42.775Z"
   },
   {
    "duration": 2471,
    "start_time": "2025-04-21T00:41:55.213Z"
   },
   {
    "duration": 3,
    "start_time": "2025-04-21T00:41:57.685Z"
   },
   {
    "duration": 71,
    "start_time": "2025-04-21T00:41:57.690Z"
   },
   {
    "duration": 21,
    "start_time": "2025-04-21T00:41:57.763Z"
   },
   {
    "duration": 18,
    "start_time": "2025-04-21T00:41:57.786Z"
   },
   {
    "duration": 39,
    "start_time": "2025-04-21T00:41:57.806Z"
   },
   {
    "duration": 13,
    "start_time": "2025-04-21T00:41:57.847Z"
   },
   {
    "duration": 7774,
    "start_time": "2025-04-21T00:41:57.862Z"
   },
   {
    "duration": 22,
    "start_time": "2025-04-21T00:42:05.639Z"
   },
   {
    "duration": 319,
    "start_time": "2025-04-21T00:42:05.662Z"
   },
   {
    "duration": 12,
    "start_time": "2025-04-21T00:42:05.983Z"
   },
   {
    "duration": 249,
    "start_time": "2025-04-21T00:42:05.996Z"
   },
   {
    "duration": 9,
    "start_time": "2025-04-21T00:42:06.247Z"
   },
   {
    "duration": 10,
    "start_time": "2025-04-21T00:42:06.258Z"
   },
   {
    "duration": 12430,
    "start_time": "2025-04-21T00:42:06.270Z"
   },
   {
    "duration": 556,
    "start_time": "2025-04-21T00:42:18.704Z"
   },
   {
    "duration": 537,
    "start_time": "2025-04-21T00:42:19.262Z"
   },
   {
    "duration": 189,
    "start_time": "2025-04-21T00:42:19.801Z"
   },
   {
    "duration": 523,
    "start_time": "2025-04-21T00:42:19.991Z"
   },
   {
    "duration": 177,
    "start_time": "2025-04-21T00:42:20.516Z"
   },
   {
    "duration": 8590,
    "start_time": "2025-04-21T00:42:20.695Z"
   },
   {
    "duration": 308,
    "start_time": "2025-04-21T00:42:29.287Z"
   },
   {
    "duration": 415,
    "start_time": "2025-04-21T00:42:29.597Z"
   },
   {
    "duration": 0,
    "start_time": "2025-04-21T00:42:30.015Z"
   },
   {
    "duration": 0,
    "start_time": "2025-04-21T00:42:30.016Z"
   },
   {
    "duration": 0,
    "start_time": "2025-04-21T00:42:30.017Z"
   },
   {
    "duration": 0,
    "start_time": "2025-04-21T00:42:30.018Z"
   },
   {
    "duration": 0,
    "start_time": "2025-04-21T00:42:30.019Z"
   },
   {
    "duration": 0,
    "start_time": "2025-04-21T00:42:30.020Z"
   },
   {
    "duration": 0,
    "start_time": "2025-04-21T00:42:30.022Z"
   },
   {
    "duration": 0,
    "start_time": "2025-04-21T00:42:30.022Z"
   },
   {
    "duration": 0,
    "start_time": "2025-04-21T00:42:30.023Z"
   },
   {
    "duration": 0,
    "start_time": "2025-04-21T00:42:30.025Z"
   },
   {
    "duration": 0,
    "start_time": "2025-04-21T00:42:30.026Z"
   },
   {
    "duration": 0,
    "start_time": "2025-04-21T00:42:30.027Z"
   },
   {
    "duration": 0,
    "start_time": "2025-04-21T00:42:30.028Z"
   },
   {
    "duration": 0,
    "start_time": "2025-04-21T00:42:30.030Z"
   },
   {
    "duration": 0,
    "start_time": "2025-04-21T00:42:30.031Z"
   },
   {
    "duration": 0,
    "start_time": "2025-04-21T00:42:30.033Z"
   },
   {
    "duration": 0,
    "start_time": "2025-04-21T00:42:30.034Z"
   },
   {
    "duration": 0,
    "start_time": "2025-04-21T00:42:30.035Z"
   },
   {
    "duration": 0,
    "start_time": "2025-04-21T00:42:30.036Z"
   },
   {
    "duration": 0,
    "start_time": "2025-04-21T00:42:30.037Z"
   },
   {
    "duration": 0,
    "start_time": "2025-04-21T00:42:30.038Z"
   },
   {
    "duration": 0,
    "start_time": "2025-04-21T00:42:30.039Z"
   },
   {
    "duration": 0,
    "start_time": "2025-04-21T00:42:30.040Z"
   },
   {
    "duration": 0,
    "start_time": "2025-04-21T00:42:30.041Z"
   },
   {
    "duration": 0,
    "start_time": "2025-04-21T00:42:30.042Z"
   },
   {
    "duration": 301,
    "start_time": "2025-04-21T00:42:43.940Z"
   },
   {
    "duration": 202,
    "start_time": "2025-04-21T00:42:50.037Z"
   },
   {
    "duration": 214,
    "start_time": "2025-04-21T00:42:56.124Z"
   },
   {
    "duration": 441,
    "start_time": "2025-04-21T00:43:12.851Z"
   },
   {
    "duration": 269,
    "start_time": "2025-04-21T00:43:30.946Z"
   },
   {
    "duration": 17,
    "start_time": "2025-04-21T00:43:37.196Z"
   },
   {
    "duration": 35,
    "start_time": "2025-04-21T00:43:38.758Z"
   },
   {
    "duration": 51,
    "start_time": "2025-04-21T00:45:11.534Z"
   },
   {
    "duration": 34,
    "start_time": "2025-04-21T00:45:57.056Z"
   },
   {
    "duration": 30,
    "start_time": "2025-04-21T00:46:04.402Z"
   },
   {
    "duration": 30,
    "start_time": "2025-04-21T00:46:25.770Z"
   },
   {
    "duration": 29,
    "start_time": "2025-04-21T00:47:16.691Z"
   },
   {
    "duration": 33,
    "start_time": "2025-04-21T00:47:19.464Z"
   },
   {
    "duration": 347,
    "start_time": "2025-04-21T00:47:32.284Z"
   },
   {
    "duration": 394,
    "start_time": "2025-04-21T00:47:36.541Z"
   },
   {
    "duration": 515,
    "start_time": "2025-04-21T00:47:38.548Z"
   },
   {
    "duration": 29,
    "start_time": "2025-04-21T00:47:40.216Z"
   },
   {
    "duration": 597,
    "start_time": "2025-04-21T00:47:46.694Z"
   },
   {
    "duration": 759,
    "start_time": "2025-04-21T00:47:48.428Z"
   },
   {
    "duration": 941,
    "start_time": "2025-04-21T00:47:50.064Z"
   },
   {
    "duration": 1290,
    "start_time": "2025-04-21T00:47:51.760Z"
   },
   {
    "duration": 1359,
    "start_time": "2025-04-21T00:47:53.973Z"
   },
   {
    "duration": 1519,
    "start_time": "2025-04-21T00:47:56.163Z"
   },
   {
    "duration": 1836,
    "start_time": "2025-04-21T00:47:58.585Z"
   },
   {
    "duration": 2081,
    "start_time": "2025-04-21T00:48:01.232Z"
   },
   {
    "duration": 2461,
    "start_time": "2025-04-21T00:48:04.240Z"
   },
   {
    "duration": 2595,
    "start_time": "2025-04-21T00:48:07.778Z"
   },
   {
    "duration": 3549,
    "start_time": "2025-04-21T00:48:11.063Z"
   },
   {
    "duration": 11467,
    "start_time": "2025-04-21T00:48:48.074Z"
   },
   {
    "duration": 2319,
    "start_time": "2025-04-21T00:48:59.544Z"
   },
   {
    "duration": 3,
    "start_time": "2025-04-21T00:49:01.865Z"
   },
   {
    "duration": 54,
    "start_time": "2025-04-21T00:49:01.869Z"
   },
   {
    "duration": 14,
    "start_time": "2025-04-21T00:49:01.926Z"
   },
   {
    "duration": 5,
    "start_time": "2025-04-21T00:49:01.941Z"
   },
   {
    "duration": 7,
    "start_time": "2025-04-21T00:49:01.948Z"
   },
   {
    "duration": 18,
    "start_time": "2025-04-21T00:49:01.956Z"
   },
   {
    "duration": 8080,
    "start_time": "2025-04-21T00:49:01.976Z"
   },
   {
    "duration": 23,
    "start_time": "2025-04-21T00:49:10.058Z"
   },
   {
    "duration": 239,
    "start_time": "2025-04-21T00:49:10.082Z"
   },
   {
    "duration": 12,
    "start_time": "2025-04-21T00:49:10.323Z"
   },
   {
    "duration": 247,
    "start_time": "2025-04-21T00:49:10.336Z"
   },
   {
    "duration": 10,
    "start_time": "2025-04-21T00:49:10.587Z"
   },
   {
    "duration": 54,
    "start_time": "2025-04-21T00:49:10.598Z"
   },
   {
    "duration": 13357,
    "start_time": "2025-04-21T00:49:10.654Z"
   },
   {
    "duration": 566,
    "start_time": "2025-04-21T00:49:24.013Z"
   },
   {
    "duration": 531,
    "start_time": "2025-04-21T00:49:24.581Z"
   },
   {
    "duration": 182,
    "start_time": "2025-04-21T00:49:25.114Z"
   },
   {
    "duration": 523,
    "start_time": "2025-04-21T00:49:25.298Z"
   },
   {
    "duration": 176,
    "start_time": "2025-04-21T00:49:25.823Z"
   },
   {
    "duration": 8604,
    "start_time": "2025-04-21T00:49:26.005Z"
   },
   {
    "duration": 266,
    "start_time": "2025-04-21T00:49:34.611Z"
   },
   {
    "duration": 4,
    "start_time": "2025-04-21T00:49:34.878Z"
   },
   {
    "duration": 467,
    "start_time": "2025-04-21T00:49:34.883Z"
   },
   {
    "duration": 44,
    "start_time": "2025-04-21T00:49:35.352Z"
   },
   {
    "duration": 44,
    "start_time": "2025-04-21T00:49:35.406Z"
   },
   {
    "duration": 18,
    "start_time": "2025-04-21T00:49:35.452Z"
   },
   {
    "duration": 36,
    "start_time": "2025-04-21T00:49:35.472Z"
   },
   {
    "duration": 43,
    "start_time": "2025-04-21T00:49:35.509Z"
   },
   {
    "duration": 3652,
    "start_time": "2025-04-21T00:49:35.554Z"
   },
   {
    "duration": 3,
    "start_time": "2025-04-21T00:49:39.208Z"
   },
   {
    "duration": 49,
    "start_time": "2025-04-21T00:49:39.213Z"
   },
   {
    "duration": 13,
    "start_time": "2025-04-21T00:49:39.264Z"
   },
   {
    "duration": 219,
    "start_time": "2025-04-21T00:49:39.279Z"
   },
   {
    "duration": 320,
    "start_time": "2025-04-21T00:49:39.501Z"
   },
   {
    "duration": 5,
    "start_time": "2025-04-21T00:49:39.824Z"
   },
   {
    "duration": 21,
    "start_time": "2025-04-21T00:49:39.831Z"
   },
   {
    "duration": 18,
    "start_time": "2025-04-21T00:49:39.854Z"
   },
   {
    "duration": 35,
    "start_time": "2025-04-21T00:49:39.873Z"
   },
   {
    "duration": 14038,
    "start_time": "2025-04-21T00:49:39.912Z"
   },
   {
    "duration": 0,
    "start_time": "2025-04-21T00:49:53.951Z"
   },
   {
    "duration": 0,
    "start_time": "2025-04-21T00:49:53.953Z"
   },
   {
    "duration": 0,
    "start_time": "2025-04-21T00:49:53.954Z"
   },
   {
    "duration": 0,
    "start_time": "2025-04-21T00:49:53.955Z"
   },
   {
    "duration": 0,
    "start_time": "2025-04-21T00:49:53.956Z"
   },
   {
    "duration": 0,
    "start_time": "2025-04-21T00:49:53.957Z"
   },
   {
    "duration": 0,
    "start_time": "2025-04-21T00:49:53.958Z"
   },
   {
    "duration": 1,
    "start_time": "2025-04-21T00:49:53.959Z"
   },
   {
    "duration": 48,
    "start_time": "2025-04-21T00:50:06.151Z"
   },
   {
    "duration": 5,
    "start_time": "2025-04-21T00:50:39.030Z"
   },
   {
    "duration": 6,
    "start_time": "2025-04-21T00:51:03.851Z"
   },
   {
    "duration": 5,
    "start_time": "2025-04-21T00:51:12.085Z"
   },
   {
    "duration": 4,
    "start_time": "2025-04-21T00:51:15.511Z"
   },
   {
    "duration": 3872,
    "start_time": "2025-04-21T00:53:12.609Z"
   },
   {
    "duration": 664585,
    "start_time": "2025-04-21T00:54:09.552Z"
   },
   {
    "duration": 0,
    "start_time": "2025-04-21T01:05:14.139Z"
   },
   {
    "duration": 3,
    "start_time": "2025-04-21T01:11:13.910Z"
   },
   {
    "duration": 166345,
    "start_time": "2025-04-21T01:35:43.991Z"
   },
   {
    "duration": 43,
    "start_time": "2025-04-21T01:38:54.956Z"
   },
   {
    "duration": 33,
    "start_time": "2025-04-21T01:39:30.408Z"
   },
   {
    "duration": 4040,
    "start_time": "2025-04-21T01:41:10.987Z"
   },
   {
    "duration": 16091,
    "start_time": "2025-04-21T20:49:00.150Z"
   },
   {
    "duration": 5168,
    "start_time": "2025-04-21T20:49:16.243Z"
   },
   {
    "duration": 3,
    "start_time": "2025-04-21T20:49:21.412Z"
   },
   {
    "duration": 21,
    "start_time": "2025-04-21T20:49:21.417Z"
   },
   {
    "duration": 12,
    "start_time": "2025-04-21T20:49:21.440Z"
   },
   {
    "duration": 5,
    "start_time": "2025-04-21T20:49:21.453Z"
   },
   {
    "duration": 5,
    "start_time": "2025-04-21T20:49:21.459Z"
   },
   {
    "duration": 7,
    "start_time": "2025-04-21T20:49:21.465Z"
   },
   {
    "duration": 9839,
    "start_time": "2025-04-21T20:49:21.473Z"
   },
   {
    "duration": 18,
    "start_time": "2025-04-21T20:49:31.315Z"
   },
   {
    "duration": 49,
    "start_time": "2025-04-21T20:49:31.335Z"
   },
   {
    "duration": 10,
    "start_time": "2025-04-21T20:49:31.386Z"
   },
   {
    "duration": 48,
    "start_time": "2025-04-21T20:49:31.397Z"
   },
   {
    "duration": 9,
    "start_time": "2025-04-21T20:49:31.447Z"
   },
   {
    "duration": 7,
    "start_time": "2025-04-21T20:49:31.457Z"
   },
   {
    "duration": 12082,
    "start_time": "2025-04-21T20:49:31.465Z"
   },
   {
    "duration": 527,
    "start_time": "2025-04-21T20:49:43.548Z"
   },
   {
    "duration": 357,
    "start_time": "2025-04-21T20:49:44.076Z"
   },
   {
    "duration": 139,
    "start_time": "2025-04-21T20:49:44.435Z"
   },
   {
    "duration": 336,
    "start_time": "2025-04-21T20:49:44.575Z"
   },
   {
    "duration": 140,
    "start_time": "2025-04-21T20:49:44.913Z"
   },
   {
    "duration": 7507,
    "start_time": "2025-04-21T20:49:45.061Z"
   },
   {
    "duration": 206,
    "start_time": "2025-04-21T20:49:52.569Z"
   },
   {
    "duration": 286,
    "start_time": "2025-04-21T20:49:52.776Z"
   },
   {
    "duration": 34,
    "start_time": "2025-04-21T20:49:53.063Z"
   },
   {
    "duration": 6,
    "start_time": "2025-04-21T20:49:53.099Z"
   },
   {
    "duration": 29,
    "start_time": "2025-04-21T20:49:53.106Z"
   },
   {
    "duration": 3011,
    "start_time": "2025-04-21T20:49:53.138Z"
   },
   {
    "duration": 37,
    "start_time": "2025-04-21T20:49:56.151Z"
   },
   {
    "duration": 3,
    "start_time": "2025-04-21T20:49:56.190Z"
   },
   {
    "duration": 33,
    "start_time": "2025-04-21T20:49:56.194Z"
   },
   {
    "duration": 174,
    "start_time": "2025-04-21T20:49:56.228Z"
   },
   {
    "duration": 270,
    "start_time": "2025-04-21T20:49:56.403Z"
   },
   {
    "duration": 4,
    "start_time": "2025-04-21T20:49:56.674Z"
   },
   {
    "duration": 54,
    "start_time": "2025-04-21T20:49:56.680Z"
   },
   {
    "duration": 10,
    "start_time": "2025-04-21T20:49:56.736Z"
   },
   {
    "duration": 6,
    "start_time": "2025-04-21T20:49:56.747Z"
   },
   {
    "duration": 15434,
    "start_time": "2025-04-21T20:49:56.755Z"
   },
   {
    "duration": 0,
    "start_time": "2025-04-21T20:50:12.190Z"
   },
   {
    "duration": 0,
    "start_time": "2025-04-21T20:50:12.191Z"
   },
   {
    "duration": 0,
    "start_time": "2025-04-21T20:50:12.192Z"
   },
   {
    "duration": 0,
    "start_time": "2025-04-21T20:50:12.193Z"
   },
   {
    "duration": 0,
    "start_time": "2025-04-21T20:50:12.262Z"
   },
   {
    "duration": 0,
    "start_time": "2025-04-21T20:50:12.263Z"
   },
   {
    "duration": 0,
    "start_time": "2025-04-21T20:50:12.265Z"
   },
   {
    "duration": 0,
    "start_time": "2025-04-21T20:50:12.266Z"
   },
   {
    "duration": 8891,
    "start_time": "2025-04-21T20:50:20.717Z"
   },
   {
    "duration": 5661,
    "start_time": "2025-04-21T20:50:29.610Z"
   },
   {
    "duration": 3,
    "start_time": "2025-04-21T20:50:35.272Z"
   },
   {
    "duration": 30,
    "start_time": "2025-04-21T20:50:35.277Z"
   },
   {
    "duration": 9,
    "start_time": "2025-04-21T20:50:35.309Z"
   },
   {
    "duration": 12,
    "start_time": "2025-04-21T20:50:35.319Z"
   },
   {
    "duration": 35,
    "start_time": "2025-04-21T20:50:35.332Z"
   },
   {
    "duration": 15,
    "start_time": "2025-04-21T20:50:35.369Z"
   },
   {
    "duration": 9621,
    "start_time": "2025-04-21T20:50:35.386Z"
   },
   {
    "duration": 19,
    "start_time": "2025-04-21T20:50:45.010Z"
   },
   {
    "duration": 70,
    "start_time": "2025-04-21T20:50:45.030Z"
   },
   {
    "duration": 10,
    "start_time": "2025-04-21T20:50:45.102Z"
   },
   {
    "duration": 58,
    "start_time": "2025-04-21T20:50:45.113Z"
   },
   {
    "duration": 8,
    "start_time": "2025-04-21T20:50:45.173Z"
   },
   {
    "duration": 9,
    "start_time": "2025-04-21T20:50:45.182Z"
   },
   {
    "duration": 10284,
    "start_time": "2025-04-21T20:50:45.193Z"
   },
   {
    "duration": 463,
    "start_time": "2025-04-21T20:50:55.478Z"
   },
   {
    "duration": 358,
    "start_time": "2025-04-21T20:50:55.942Z"
   },
   {
    "duration": 143,
    "start_time": "2025-04-21T20:50:56.302Z"
   },
   {
    "duration": 345,
    "start_time": "2025-04-21T20:50:56.447Z"
   },
   {
    "duration": 139,
    "start_time": "2025-04-21T20:50:56.794Z"
   },
   {
    "duration": 7524,
    "start_time": "2025-04-21T20:50:56.934Z"
   },
   {
    "duration": 225,
    "start_time": "2025-04-21T20:51:04.459Z"
   },
   {
    "duration": 303,
    "start_time": "2025-04-21T20:51:04.686Z"
   },
   {
    "duration": 37,
    "start_time": "2025-04-21T20:51:04.991Z"
   },
   {
    "duration": 6,
    "start_time": "2025-04-21T20:51:05.030Z"
   },
   {
    "duration": 11,
    "start_time": "2025-04-21T20:51:05.038Z"
   },
   {
    "duration": 3132,
    "start_time": "2025-04-21T20:51:05.051Z"
   },
   {
    "duration": 28,
    "start_time": "2025-04-21T20:51:08.185Z"
   },
   {
    "duration": 3,
    "start_time": "2025-04-21T20:51:08.214Z"
   },
   {
    "duration": 46,
    "start_time": "2025-04-21T20:51:08.218Z"
   },
   {
    "duration": 167,
    "start_time": "2025-04-21T20:51:08.265Z"
   },
   {
    "duration": 258,
    "start_time": "2025-04-21T20:51:08.434Z"
   },
   {
    "duration": 5,
    "start_time": "2025-04-21T20:51:08.693Z"
   },
   {
    "duration": 73,
    "start_time": "2025-04-21T20:51:08.699Z"
   },
   {
    "duration": 10,
    "start_time": "2025-04-21T20:51:08.773Z"
   },
   {
    "duration": 11,
    "start_time": "2025-04-21T20:51:08.785Z"
   },
   {
    "duration": 327193,
    "start_time": "2025-04-21T20:51:08.797Z"
   },
   {
    "duration": 2,
    "start_time": "2025-04-21T20:56:35.992Z"
   },
   {
    "duration": 186,
    "start_time": "2025-04-21T20:56:35.996Z"
   },
   {
    "duration": 356,
    "start_time": "2025-04-21T20:56:36.184Z"
   },
   {
    "duration": 21,
    "start_time": "2025-04-21T20:56:36.542Z"
   },
   {
    "duration": 11,
    "start_time": "2025-04-21T20:56:36.565Z"
   },
   {
    "duration": 208,
    "start_time": "2025-04-21T20:56:36.577Z"
   },
   {
    "duration": 5,
    "start_time": "2025-04-21T20:56:36.786Z"
   },
   {
    "duration": 672,
    "start_time": "2025-04-21T20:56:36.792Z"
   }
  ],
  "kernelspec": {
   "display_name": "Python 3 (ipykernel)",
   "language": "python",
   "name": "python3"
  },
  "language_info": {
   "codemirror_mode": {
    "name": "ipython",
    "version": 3
   },
   "file_extension": ".py",
   "mimetype": "text/x-python",
   "name": "python",
   "nbconvert_exporter": "python",
   "pygments_lexer": "ipython3",
   "version": "3.9.5"
  },
  "toc": {
   "base_numbering": 1,
   "nav_menu": {},
   "number_sections": true,
   "sideBar": true,
   "skip_h1_title": true,
   "title_cell": "Table of Contents",
   "title_sidebar": "Contents",
   "toc_cell": false,
   "toc_position": {
    "height": "687px",
    "left": "85px",
    "top": "111.125px",
    "width": "291.788px"
   },
   "toc_section_display": true,
   "toc_window_display": true
  }
 },
 "nbformat": 4,
 "nbformat_minor": 2
}
